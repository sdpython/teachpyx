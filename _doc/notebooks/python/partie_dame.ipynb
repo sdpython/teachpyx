{
  "cells": [
    {
      "cell_type": "markdown",
      "metadata": {},
      "source": [
        "# Parties de dames\n",
        "\n",
        "Exercice de programmation sur les tableaux."
      ]
    },
    {
      "cell_type": "code",
      "execution_count": 1,
      "metadata": {},
      "outputs": [
        {
          "data": {
            "text/html": [
              "<div id=\"my_id_menu_nb\">run previous cell, wait for 2 seconds</div>\n",
              "<script>\n",
              "function repeat_indent_string(n){\n",
              "    var a = \"\" ;\n",
              "    for ( ; n > 0 ; --n)\n",
              "        a += \"    \";\n",
              "    return a;\n",
              "}\n",
              "// look up into all sections and builds an automated menu //\n",
              "var update_menu_string = function(begin, lfirst, llast, sformat, send, keep_item, begin_format, end_format) {\n",
              "    var anchors = document.getElementsByClassName(\"section\");\n",
              "    if (anchors.length == 0) {\n",
              "        anchors = document.getElementsByClassName(\"text_cell_render rendered_html\");\n",
              "    }\n",
              "    var i,t;\n",
              "    var text_menu = begin;\n",
              "    var text_memo = \"<pre>\\nlength:\" + anchors.length + \"\\n\";\n",
              "    var ind = \"\";\n",
              "    var memo_level = 1;\n",
              "    var href;\n",
              "    var tags = [];\n",
              "    var main_item = 0;\n",
              "    var format_open = 0;\n",
              "    for (i = 0; i <= llast; i++)\n",
              "        tags.push(\"h\" + i);\n",
              "\n",
              "    for (i = 0; i < anchors.length; i++) {\n",
              "        text_memo += \"**\" + anchors[i].id + \"--\\n\";\n",
              "\n",
              "        var child = null;\n",
              "        for(t = 0; t < tags.length; t++) {\n",
              "            var r = anchors[i].getElementsByTagName(tags[t]);\n",
              "            if (r.length > 0) {\n",
              "child = r[0];\n",
              "break;\n",
              "            }\n",
              "        }\n",
              "        if (child == null) {\n",
              "            text_memo += \"null\\n\";\n",
              "            continue;\n",
              "        }\n",
              "        if (anchors[i].hasAttribute(\"id\")) {\n",
              "            // when converted in RST\n",
              "            href = anchors[i].id;\n",
              "            text_memo += \"#1-\" + href;\n",
              "            // passer \u00e0 child suivant (le chercher)\n",
              "        }\n",
              "        else if (child.hasAttribute(\"id\")) {\n",
              "            // in a notebook\n",
              "            href = child.id;\n",
              "            text_memo += \"#2-\" + href;\n",
              "        }\n",
              "        else {\n",
              "            text_memo += \"#3-\" + \"*\" + \"\\n\";\n",
              "            continue;\n",
              "        }\n",
              "        var title = child.textContent;\n",
              "        var level = parseInt(child.tagName.substring(1,2));\n",
              "\n",
              "        text_memo += \"--\" + level + \"?\" + lfirst + \"--\" + title + \"\\n\";\n",
              "\n",
              "        if ((level < lfirst) || (level > llast)) {\n",
              "            continue ;\n",
              "        }\n",
              "        if (title.endsWith('\u00b6')) {\n",
              "            title = title.substring(0,title.length-1).replace(\"<\", \"&lt;\")\n",
              "         .replace(\">\", \"&gt;\").replace(\"&\", \"&amp;\");\n",
              "        }\n",
              "        if (title.length == 0) {\n",
              "            continue;\n",
              "        }\n",
              "\n",
              "        while (level < memo_level) {\n",
              "            text_menu += end_format + \"</ul>\\n\";\n",
              "            format_open -= 1;\n",
              "            memo_level -= 1;\n",
              "        }\n",
              "        if (level == lfirst) {\n",
              "            main_item += 1;\n",
              "        }\n",
              "        if (keep_item != -1 && main_item != keep_item + 1) {\n",
              "            // alert(main_item + \" - \" + level + \" - \" + keep_item);\n",
              "            continue;\n",
              "        }\n",
              "        while (level > memo_level) {\n",
              "            text_menu += \"<ul>\\n\";\n",
              "            memo_level += 1;\n",
              "        }\n",
              "        text_menu += repeat_indent_string(level-2);\n",
              "        text_menu += begin_format + sformat.replace(\"__HREF__\", href).replace(\"__TITLE__\", title);\n",
              "        format_open += 1;\n",
              "    }\n",
              "    while (1 < memo_level) {\n",
              "        text_menu += end_format + \"</ul>\\n\";\n",
              "        memo_level -= 1;\n",
              "        format_open -= 1;\n",
              "    }\n",
              "    text_menu += send;\n",
              "    //text_menu += \"\\n\" + text_memo;\n",
              "\n",
              "    while (format_open > 0) {\n",
              "        text_menu += end_format;\n",
              "        format_open -= 1;\n",
              "    }\n",
              "    return text_menu;\n",
              "};\n",
              "var update_menu = function() {\n",
              "    var sbegin = \"\";\n",
              "    var sformat = '<a href=\"#__HREF__\">__TITLE__</a>';\n",
              "    var send = \"\";\n",
              "    var begin_format = '<li>';\n",
              "    var end_format = '</li>';\n",
              "    var keep_item = -1;\n",
              "    var text_menu = update_menu_string(sbegin, 2, 4, sformat, send, keep_item,\n",
              "       begin_format, end_format);\n",
              "    var menu = document.getElementById(\"my_id_menu_nb\");\n",
              "    menu.innerHTML=text_menu;\n",
              "};\n",
              "window.setTimeout(update_menu,2000);\n",
              "            </script>"
            ],
            "text/plain": [
              "<IPython.core.display.HTML object>"
            ]
          },
          "execution_count": 2,
          "metadata": {},
          "output_type": "execute_result"
        }
      ],
      "source": [
        "from jyquickhelper import add_notebook_menu\n",
        "add_notebook_menu()"
      ]
    },
    {
      "cell_type": "markdown",
      "metadata": {},
      "source": [
        "## Q1 \n",
        "\n",
        "Une partie de dames met en jeu quarante pions, vingt noirs, vingt blancs, chacun sur des cases diff\u00e9rentes. L'objectif est de savoir si un pion est en mesure d'en prendre un autre. On ne traitera pas le cas des dames. Chaque pion est d\u00e9fini par :\n",
        "\n",
        "* deux coordonn\u00e9es enti\u00e8res, chacune comprise entre 1 et 10\n",
        "* une couleur, noir ou blanc\n",
        "\t\t\n",
        "On propose deux repr\u00e9sentations de l'ensemble de pions :\n",
        "\n",
        "* Un tableau de 40 pions indic\u00e9s de 0 \u00e0 39 inclus, chaque pion \u00e9tant d\u00e9fini par :\n",
        "    * deux coordonn\u00e9es comprises entre 1 et 10, ou (0,0) si le pion n'est plus sur le damier\n",
        "\t* un entier qui vaut 1 pour blanc, 2 pour noir\n",
        "* Un tableau d'entiers \u00e0 deux dimensions, chaque case contient :\n",
        "    * soit 0 s'il n'y a pas de pion\n",
        "\t* soit 1 si la case contient un pion blanc\n",
        "    * soit 2 si la case contient un pion noir\n",
        "\n",
        "Y a-t-il d'autres repr\u00e9sentations de ces informations~? Si on consid\u00e8re que l'efficacit\u00e9 d'une m\u00e9thode est reli\u00e9e \u00e0 sa vitesse - autrement dit aux co\u00fbts des algorithmes qu'elles utilisent -, parmi ces deux repr\u00e9sentations, quelle est celle qui semble la plus efficace pour savoir si un pion donn\u00e9 du damier est en mesure d'en prendre un autre ?"
      ]
    },
    {
      "cell_type": "markdown",
      "metadata": {},
      "source": [
        "**r\u00e9ponse**\n",
        "\n",
        "La seconde repr\u00e9sentation sous forme de tableau \u00e0 deux dimensions est plus pratique pour effectuer les tests de voisinages. Chaque case a quatre voisines aux quatre coins, il est ensuite facile de d\u00e9terminer si ces quatre voisines sont libres ou si elles contiennent un pion. On sait rapidement le contenu d'une case.\n",
        "\n",
        "Avec la premi\u00e8re repr\u00e9sentation - le tableau des pions - pour savoir s'il existe un pion dans une case voisine, il faut passer en revue tous les pions pour savoir si l'un d'eux occupe ou non cette case. Avec la seconde repr\u00e9sentation - le tableau \u00e0 deux dimensions - on acc\u00e8de directement \u00e0 cette information sans avoir \u00e0 la rechercher. On \u00e9vite une boucle sur les pions avec la seconde repr\u00e9sentation."
      ]
    },
    {
      "cell_type": "markdown",
      "metadata": {},
      "source": [
        "## Q2\n",
        "\n",
        "Comment repr\u00e9senter un tableau d'entiers \u00e0 deux dimensions en langage python \u00e0 l'aide des types standards qu'il propose, \u00e0 savoir t-uple, liste ou dictionnaire ?"
      ]
    },
    {
      "cell_type": "markdown",
      "metadata": {},
      "source": [
        "**r\u00e9ponse**\n",
        "\n",
        "Pour repr\u00e9senter le tableau en deux dimensions, il existe trois solutions :\n",
        "\n",
        "* Une liste de listes, chaque ligne est repr\u00e9sent\u00e9e par une liste. Toutes ces listes sont elles-m\u00eames assembl\u00e9es dans une liste globale.\n",
        "* Une seule liste, il suffit de num\u00e9roter les cases du damier de 0 \u00e0 99, en utilisant comme indice pour la case $(i,j)$ : $k = 10*i+j$. R\u00e9ciproquement, la case d'indice $k$ aura pour coordonn\u00e9es $(k / 10, \\, k \\% 10)$.\n",
        "* Un dictionnaire dont la cl\u00e9 est un couple d'entiers."
      ]
    },
    {
      "cell_type": "markdown",
      "metadata": {},
      "source": [
        "## Q3\n",
        "\n",
        "On cherche \u00e0 \u00e9crire l'algorithme qui permet de savoir si un pion donn\u00e9 est un mesure de prendre un pion. Quels sont les param\u00e8tres d'entr\u00e9es et les r\u00e9sultats de cet algorithme ? "
      ]
    },
    {
      "cell_type": "markdown",
      "metadata": {},
      "source": [
        "**r\u00e9ponse**\n",
        "\n",
        "On d\u00e9sire savoir si le pion de la case $(i,j)$ peut en prendre un autre. On suppose que le tableau \u00e0 deux dimensions est une liste de dix listes appel\u00e9e ``damier``. ``damier[i][j]`` est donc la couleur du pion de la case $(i,j)$, \u00e0 savoir 0 si la case est vide, 1 si le pion est blanc, 2 si le pion est noir. Pour ces deux derniers cas, la couleur des pions de l'adversaire sera donc ``3 - damier[i][j]``. Les entr\u00e9es de la fonctions sont donc les indices ``i``, ``j`` et le damier ``damier``. La sortie est une variable bool\u00e9enne qui indique la possibilit\u00e9 ou non de prendre. On ne souhaite pas d\u00e9placer les pions."
      ]
    },
    {
      "cell_type": "markdown",
      "metadata": {},
      "source": [
        "## Q4\n",
        "\n",
        "Il ne reste plus qu'\u00e0 \u00e9crire cet algorithme."
      ]
    },
    {
      "cell_type": "code",
      "execution_count": 2,
      "metadata": {},
      "outputs": [
        {
          "data": {
            "text/plain": [
              "True"
            ]
          },
          "execution_count": 3,
          "metadata": {},
          "output_type": "execute_result"
        }
      ],
      "source": [
        "def pion_prendre(i, j, damier):\n",
        "    c = damier[i][j]\n",
        "    if c == 0:\n",
        "        return False    # case vide, impossible de prendre\n",
        "    c = 3 - c           # couleur de l'adversaire\n",
        "\n",
        "    if damier[i-1][j-1] == c:       # s'il y a un pion adverse en haut \u00e0 gauche\n",
        "        if damier[i-2][j-2] == 0:   # si la case d'apr\u00e8s en diagonale est vide\n",
        "            return True             # on peut prendre\n",
        "\n",
        "    # on r\u00e9p\u00e8te ce test pour les trois autres cases\n",
        "    if damier[i-1][j+1] == c and damier[i-2][j+2] == 0:\n",
        "        return True\n",
        "    if damier[i+1][j-1] == c and damier[i+2][j-2] == 0:\n",
        "        return True\n",
        "    if damier[i+1][j+1] == c and damier[i+2][j+2] == 0:\n",
        "        return True\n",
        "        \n",
        "    # si tous les tests ont \u00e9chou\u00e9, on ne peut pas prendre\n",
        "    return False\n",
        "\n",
        "damier = [[0, 0, 1, 0, 0],\n",
        "          [0, 1, 0, 1, 0], \n",
        "          [0, 0, 2, 0, 2], \n",
        "          [0, 0, 0, 2, 0],\n",
        "          [0, 0, 0, 0, 0],\n",
        "         ]\n",
        "\n",
        "pion_prendre(2, 2, damier)"
      ]
    },
    {
      "cell_type": "markdown",
      "metadata": {},
      "source": [
        "Voici une fonction \u00e9quivalente lorsque le damier est un dictionnaire dont la cl\u00e9 est un couple d'entiers."
      ]
    },
    {
      "cell_type": "code",
      "execution_count": 3,
      "metadata": {},
      "outputs": [
        {
          "name": "stdout",
          "output_type": "stream",
          "text": [
            "{(0, 0): 0, (0, 1): 0, (0, 2): 1, (0, 3): 0, (1, 0): 0, (1, 1): 1, (1, 2): 0, (1, 3): 1, (2, 0): 0, (2, 1): 0, (2, 2): 2, (2, 3): 0, (3, 0): 0, (3, 1): 0, (3, 2): 0, (3, 3): 2}\n"
          ]
        },
        {
          "data": {
            "text/plain": [
              "True"
            ]
          },
          "execution_count": 4,
          "metadata": {},
          "output_type": "execute_result"
        }
      ],
      "source": [
        "def pion_prendre_dict(i, j, damier):\n",
        "    c = damier[(i,j)]        # ou encore damier [i,j]\n",
        "    if c == 0:\n",
        "        return False         # case vide, impossible de prendre\n",
        "    c = 3 - c                # couleur de l'adversaire\n",
        "\n",
        "    # test pour une prise du pion dans les quatre cases voisines\n",
        "    if damier[i-1,j-1] == c and damier[i-2,j-2] == 0: \n",
        "        return True\n",
        "    if damier[i-1,j+1] == c and damier[i-2,j+2] == 0: \n",
        "        return True\n",
        "    if damier[i+1,j-1] == c and damier[i+2,j-2] == 0: \n",
        "        return True\n",
        "    if damier[i+1,j+1] == c and damier[i+2,j+2] == 0: \n",
        "        return True\n",
        "        \n",
        "    # si tous les tests ont \u00e9chou\u00e9, on ne peut pas prendre\n",
        "    return False\n",
        "\n",
        "damier_dict = { (i,j): damier[i][j] for i in range(4) for j in range(4)}\n",
        "\n",
        "print(damier_dict)\n",
        "\n",
        "pion_prendre_dict(2, 2, damier_dict)"
      ]
    },
    {
      "cell_type": "code",
      "execution_count": 4,
      "metadata": {},
      "outputs": [
        {
          "name": "stdout",
          "output_type": "stream",
          "text": [
            "(0, 4)\n"
          ]
        }
      ],
      "source": [
        "try:\n",
        "    pion_prendre_dict(1, 3, damier_dict)\n",
        "except Exception as e:\n",
        "    print(e)"
      ]
    },
    {
      "cell_type": "markdown",
      "metadata": {},
      "source": [
        "Cela ne marche pas tr\u00e8s bien, cela laisse supposer que la fonction pr\u00e9c\u00e9dente n'est pas tr\u00e8s fonctionnelle non plus. Il manque le fait de v\u00e9rifier que les coordonn\u00e9es test\u00e9es restent dans l'\u00e9chiquier."
      ]
    },
    {
      "cell_type": "markdown",
      "metadata": {},
      "source": [
        "La m\u00eame fonction lorsque le damier est repr\u00e9sent\u00e9 par une seule liste."
      ]
    },
    {
      "cell_type": "code",
      "execution_count": 5,
      "metadata": {},
      "outputs": [
        {
          "name": "stdout",
          "output_type": "stream",
          "text": [
            "[0, 0, 1, 0, 0, 0, 1, 0, 1, 0, 0, 0, 2, 0, 2, 0, 0, 0, 2, 0, 0, 0, 0, 0, 0]\n"
          ]
        },
        {
          "data": {
            "text/plain": [
              "True"
            ]
          },
          "execution_count": 6,
          "metadata": {},
          "output_type": "execute_result"
        }
      ],
      "source": [
        "def pion_prendre_list(i,j,damier):\n",
        "    n = int(len(damier) ** 0.5)  # on suppose que le damier est carr\u00e9\n",
        "    c = damier[n*i+j]\n",
        "    if c == 0: \n",
        "        return False         # case vide, impossible de prendre\n",
        "    c = 3 - c                # couleur de l'adversaire\n",
        "\n",
        "    # test pour une prise du pion dans les quatre cases voisines\n",
        "    if damier[n*(i-1)+j-1] == c and damier[n*(i-2)+j-2] == 0: \n",
        "        return True\n",
        "    if damier[n*(i-1)+j+1] == c and damier[n*(i-2)+j+2] == 0:\n",
        "        return True\n",
        "    if damier[n*(i+1)+j-1] == c and damier[n*(i+2)+j-2] == 0: \n",
        "        return True\n",
        "    if damier[n*(i+1)+j+1] == c and damier[n*(i+2)+j+2] == 0: \n",
        "        return True\n",
        "        \n",
        "    return False\n",
        "\n",
        "damier_list = []\n",
        "for row in damier:\n",
        "    damier_list.extend(row)\n",
        "    \n",
        "print(damier_list)\n",
        "\n",
        "pion_prendre_list(2, 2, damier_list)"
      ]
    },
    {
      "cell_type": "markdown",
      "metadata": {},
      "source": [
        "Pour ces trois cas, aucun effet de bord n'a \u00e9t\u00e9 envisag\u00e9. Si la case est trop pr\u00e8s d'un des bords, un des indices $i,\\;j,\\;i-1,\\;j-1,\\;i+1,\\;j+1,\\;i-2,\\;j-2,\\;i+2,\\;j+2$ d\u00e9signera une case hors du damier. Le code de la fonction ``pion_prendre`` devra donc v\u00e9rifier que chaque case dont elle v\u00e9rifie le contenu appartient au damier."
      ]
    },
    {
      "cell_type": "code",
      "execution_count": 6,
      "metadata": {},
      "outputs": [
        {
          "data": {
            "text/plain": [
              "True"
            ]
          },
          "execution_count": 7,
          "metadata": {},
          "output_type": "execute_result"
        }
      ],
      "source": [
        "def pion_prendre_bord(i, j, damier):\n",
        "    c = damier[i][j]\n",
        "    if c == 0:\n",
        "        return False     # case vide, impossible de prendre\n",
        "    c = 3 - c            # couleur de l'adversaire\n",
        "\n",
        "    # on r\u00e9p\u00e8te ce test pour les trois autres cases\n",
        "    if i >= 2 and j >= 2 and \\\n",
        "        damier[i-1][j-1] == c and damier[i-2][j-2] == 0:\n",
        "        return True\n",
        "    if i >= 2 and j < len(damier)-2 and \\\n",
        "        damier[i-1][j+1] == c and damier[i-2][j+2] == 0:\n",
        "        return True\n",
        "      \n",
        "    if i < len(damier)-2 and j >= 2 and \\\n",
        "        damier[i+1][j-1] == c and damier[i+2][j-2] == 0: \n",
        "        return True\n",
        "    \n",
        "    if i < len(damier)-2 and j < len(damier)-2 and \\\n",
        "        damier [i+1][j+1] == c and damier [i+2][j+2] == 0: \n",
        "        return True\n",
        "        \n",
        "    return False\n",
        "\n",
        "pion_prendre_bord(2, 2, damier)"
      ]
    },
    {
      "cell_type": "code",
      "execution_count": 7,
      "metadata": {},
      "outputs": [
        {
          "data": {
            "text/plain": [
              "True"
            ]
          },
          "execution_count": 8,
          "metadata": {},
          "output_type": "execute_result"
        }
      ],
      "source": [
        "pion_prendre_bord(1, 3, damier)"
      ]
    },
    {
      "cell_type": "markdown",
      "metadata": {},
      "source": [
        "La fonction ``pion_prendre(1, 3, damier)`` fonctionne parce que le langage python accepte indices n\u00e9gatifs : ``damier[-1][-1]`` mais le r\u00e9sultat n'est pas n\u00e9cessairement celui souhait\u00e9."
      ]
    },
    {
      "cell_type": "code",
      "execution_count": 8,
      "metadata": {},
      "outputs": [],
      "source": []
    }
  ],
  "metadata": {
    "kernelspec": {
      "display_name": "Python 3",
      "language": "python",
      "name": "python3"
    },
    "language_info": {
      "codemirror_mode": {
        "name": "ipython",
        "version": 3
      },
      "file_extension": ".py",
      "mimetype": "text/x-python",
      "name": "python",
      "nbconvert_exporter": "python",
      "pygments_lexer": "ipython3",
      "version": "3.7.0"
    }
  },
  "nbformat": 4,
  "nbformat_minor": 2
}