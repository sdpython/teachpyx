{
  "cells": [
    {
      "cell_type": "markdown",
      "metadata": {},
      "source": [
        "# Hypercube et autres exercices\n",
        "\n",
        "Exercices autour de tableaux en plusieurs dimensions et autres exercices."
      ]
    },
    {
      "cell_type": "code",
      "execution_count": 1,
      "metadata": {},
      "outputs": [
        {
          "data": {
            "text/html": [
              "<div id=\"my_id_menu_nb\">run previous cell, wait for 2 seconds</div>\n",
              "<script>\n",
              "function repeat_indent_string(n){\n",
              "    var a = \"\" ;\n",
              "    for ( ; n > 0 ; --n)\n",
              "        a += \"    \";\n",
              "    return a;\n",
              "}\n",
              "// look up into all sections and builds an automated menu //\n",
              "var update_menu_string = function(begin, lfirst, llast, sformat, send, keep_item, begin_format, end_format) {\n",
              "    var anchors = document.getElementsByClassName(\"section\");\n",
              "    if (anchors.length == 0) {\n",
              "        anchors = document.getElementsByClassName(\"text_cell_render rendered_html\");\n",
              "    }\n",
              "    var i,t;\n",
              "    var text_menu = begin;\n",
              "    var text_memo = \"<pre>\\nlength:\" + anchors.length + \"\\n\";\n",
              "    var ind = \"\";\n",
              "    var memo_level = 1;\n",
              "    var href;\n",
              "    var tags = [];\n",
              "    var main_item = 0;\n",
              "    var format_open = 0;\n",
              "    for (i = 0; i <= llast; i++)\n",
              "        tags.push(\"h\" + i);\n",
              "\n",
              "    for (i = 0; i < anchors.length; i++) {\n",
              "        text_memo += \"**\" + anchors[i].id + \"--\\n\";\n",
              "\n",
              "        var child = null;\n",
              "        for(t = 0; t < tags.length; t++) {\n",
              "            var r = anchors[i].getElementsByTagName(tags[t]);\n",
              "            if (r.length > 0) {\n",
              "child = r[0];\n",
              "break;\n",
              "            }\n",
              "        }\n",
              "        if (child == null) {\n",
              "            text_memo += \"null\\n\";\n",
              "            continue;\n",
              "        }\n",
              "        if (anchors[i].hasAttribute(\"id\")) {\n",
              "            // when converted in RST\n",
              "            href = anchors[i].id;\n",
              "            text_memo += \"#1-\" + href;\n",
              "            // passer \u00e0 child suivant (le chercher)\n",
              "        }\n",
              "        else if (child.hasAttribute(\"id\")) {\n",
              "            // in a notebook\n",
              "            href = child.id;\n",
              "            text_memo += \"#2-\" + href;\n",
              "        }\n",
              "        else {\n",
              "            text_memo += \"#3-\" + \"*\" + \"\\n\";\n",
              "            continue;\n",
              "        }\n",
              "        var title = child.textContent;\n",
              "        var level = parseInt(child.tagName.substring(1,2));\n",
              "\n",
              "        text_memo += \"--\" + level + \"?\" + lfirst + \"--\" + title + \"\\n\";\n",
              "\n",
              "        if ((level < lfirst) || (level > llast)) {\n",
              "            continue ;\n",
              "        }\n",
              "        if (title.endsWith('\u00b6')) {\n",
              "            title = title.substring(0,title.length-1).replace(\"<\", \"&lt;\")\n",
              "         .replace(\">\", \"&gt;\").replace(\"&\", \"&amp;\");\n",
              "        }\n",
              "        if (title.length == 0) {\n",
              "            continue;\n",
              "        }\n",
              "\n",
              "        while (level < memo_level) {\n",
              "            text_menu += end_format + \"</ul>\\n\";\n",
              "            format_open -= 1;\n",
              "            memo_level -= 1;\n",
              "        }\n",
              "        if (level == lfirst) {\n",
              "            main_item += 1;\n",
              "        }\n",
              "        if (keep_item != -1 && main_item != keep_item + 1) {\n",
              "            // alert(main_item + \" - \" + level + \" - \" + keep_item);\n",
              "            continue;\n",
              "        }\n",
              "        while (level > memo_level) {\n",
              "            text_menu += \"<ul>\\n\";\n",
              "            memo_level += 1;\n",
              "        }\n",
              "        text_menu += repeat_indent_string(level-2);\n",
              "        text_menu += begin_format + sformat.replace(\"__HREF__\", href).replace(\"__TITLE__\", title);\n",
              "        format_open += 1;\n",
              "    }\n",
              "    while (1 < memo_level) {\n",
              "        text_menu += end_format + \"</ul>\\n\";\n",
              "        memo_level -= 1;\n",
              "        format_open -= 1;\n",
              "    }\n",
              "    text_menu += send;\n",
              "    //text_menu += \"\\n\" + text_memo;\n",
              "\n",
              "    while (format_open > 0) {\n",
              "        text_menu += end_format;\n",
              "        format_open -= 1;\n",
              "    }\n",
              "    return text_menu;\n",
              "};\n",
              "var update_menu = function() {\n",
              "    var sbegin = \"\";\n",
              "    var sformat = '<a href=\"#__HREF__\">__TITLE__</a>';\n",
              "    var send = \"\";\n",
              "    var begin_format = '<li>';\n",
              "    var end_format = '</li>';\n",
              "    var keep_item = -1;\n",
              "    var text_menu = update_menu_string(sbegin, 2, 4, sformat, send, keep_item,\n",
              "       begin_format, end_format);\n",
              "    var menu = document.getElementById(\"my_id_menu_nb\");\n",
              "    menu.innerHTML=text_menu;\n",
              "};\n",
              "window.setTimeout(update_menu,2000);\n",
              "            </script>"
            ],
            "text/plain": [
              "<IPython.core.display.HTML object>"
            ]
          },
          "execution_count": 2,
          "metadata": {},
          "output_type": "execute_result"
        }
      ],
      "source": [
        "from jyquickhelper import add_notebook_menu\n",
        "add_notebook_menu()"
      ]
    },
    {
      "cell_type": "markdown",
      "metadata": {},
      "source": [
        "## Q1 - triple r\u00e9cursivit\u00e9\n",
        "\n",
        "R\u00e9\u00e9crire la fonction ``u`` de fa\u00e7on \u00e0 ce qu'elle ne soit plus r\u00e9currente."
      ]
    },
    {
      "cell_type": "code",
      "execution_count": 2,
      "metadata": {},
      "outputs": [
        {
          "data": {
            "text/plain": [
              "9"
            ]
          },
          "execution_count": 3,
          "metadata": {},
          "output_type": "execute_result"
        }
      ],
      "source": [
        "def u(n):\n",
        "    if n <= 2:\n",
        "        return 1\n",
        "    else: \n",
        "        return u(n-1) + u(n-2) + u(n-3)\n",
        "\n",
        "u(5)"
      ]
    },
    {
      "cell_type": "markdown",
      "metadata": {},
      "source": [
        "Le probl\u00e8me de cette \u00e9criture est que la fonction est triplement r\u00e9cursive et que son co\u00fbt est aussi grand que la fonction elle-m\u00eame. V\u00e9rifions."
      ]
    },
    {
      "cell_type": "code",
      "execution_count": 3,
      "metadata": {},
      "outputs": [
        {
          "data": {
            "text/plain": [
              "(9, [5, 4, 3, 2, 1, 0, 2, 1, 3, 2, 1, 0, 2])"
            ]
          },
          "execution_count": 4,
          "metadata": {},
          "output_type": "execute_result"
        }
      ],
      "source": [
        "compteur = []\n",
        "\n",
        "def u_st(n):\n",
        "    global compteur\n",
        "    compteur.append(n)\n",
        "    if n <= 2:\n",
        "        return 1\n",
        "    else: \n",
        "        return u_st(n-1) + u_st(n-2) + u_st(n-3)\n",
        "\n",
        "u_st(5), compteur"
      ]
    },
    {
      "cell_type": "markdown",
      "metadata": {},
      "source": [
        "La seconde liste retourne tous les *n* pour lesquels la fonction ``u_st`` a \u00e9t\u00e9 appel\u00e9e."
      ]
    },
    {
      "cell_type": "code",
      "execution_count": 4,
      "metadata": {},
      "outputs": [
        {
          "data": {
            "text/plain": [
              "9"
            ]
          },
          "execution_count": 5,
          "metadata": {},
          "output_type": "execute_result"
        }
      ],
      "source": [
        "def u_non_recursif(n):\n",
        "    if n <= 2:\n",
        "        return 1\n",
        "    u0 = 1\n",
        "    u1 = 1\n",
        "    u2 = 1\n",
        "    i = 3\n",
        "    while i <= n:\n",
        "        u  = u0 + u1 + u2\n",
        "        u0 = u1\n",
        "        u1 = u2\n",
        "        u2 = u\n",
        "        i += 1\n",
        "    return u\n",
        "\n",
        "u_non_recursif(5)"
      ]
    },
    {
      "cell_type": "markdown",
      "metadata": {},
      "source": [
        "## Q2 - comparaison de listes\n",
        "\n",
        "On consid\u00e8re deux listes d'entiers. La premi\u00e8re est inf\u00e9rieure \u00e0 la seconde si l'une des deux conditions suivantes est v\u00e9rifi\u00e9e :\n",
        "\n",
        "* les $n$ premiers nombres sont \u00e9gaux mais la premi\u00e8re liste ne contient que $n$ \u00e9l\u00e9ments tandis que la seconde est plus longue, \n",
        "* les $n$ premiers nombres sont \u00e9gaux mais que le $n+1^{\\text{\u00e8me}}$ de la premi\u00e8re liste est inf\u00e9rieur au $n+1^{\\text{\u00e8me}}$ de la seconde liste\n",
        "\n",
        "Par cons\u00e9quent, si $l$ est la longueur de la liste la plus courte, comparer ces deux listes d'entiers revient \u00e0 parcourir tous les indices depuis 0 jusqu'\u00e0 $l$ exclu et \u00e0 s'arr\u00eater sur la premi\u00e8re diff\u00e9rence qui d\u00e9termine le r\u00e9sultat. S'il n'y pas de diff\u00e9rence, alors la liste la plus courte est la premi\u00e8re. Il faut \u00e9crire une fonction ``compare_liste(p,q)`` qui impl\u00e9mente cet algorithme."
      ]
    },
    {
      "cell_type": "code",
      "execution_count": 5,
      "metadata": {},
      "outputs": [
        {
          "data": {
            "text/plain": [
              "-1"
            ]
          },
          "execution_count": 6,
          "metadata": {},
          "output_type": "execute_result"
        }
      ],
      "source": [
        "def compare_liste(p, q):\n",
        "    i = 0\n",
        "    while i < len(p) and i < len(q):\n",
        "        if p [i] < q [i]: \n",
        "            return -1  # on peut d\u00e9cider\n",
        "        elif p [i] > q [i]: \n",
        "            return  1  # on peut d\u00e9cider\n",
        "        i += 1                          # on ne peut pas d\u00e9cider\n",
        "    # fin de la boucle, il faut d\u00e9cider \u00e0 partir des longueurs des listes\n",
        "    if len (p) < len (q): \n",
        "        return -1\n",
        "    elif len (p) > len (q): \n",
        "        return  1\n",
        "    else : \n",
        "        return 0\n",
        "    \n",
        "compare_liste([0, 1], [0, 1, 2])"
      ]
    },
    {
      "cell_type": "code",
      "execution_count": 6,
      "metadata": {},
      "outputs": [
        {
          "data": {
            "text/plain": [
              "1"
            ]
          },
          "execution_count": 7,
          "metadata": {},
          "output_type": "execute_result"
        }
      ],
      "source": [
        "compare_liste([0, 1, 3], [0, 1, 2])"
      ]
    },
    {
      "cell_type": "code",
      "execution_count": 7,
      "metadata": {},
      "outputs": [
        {
          "data": {
            "text/plain": [
              "0"
            ]
          },
          "execution_count": 8,
          "metadata": {},
          "output_type": "execute_result"
        }
      ],
      "source": [
        "compare_liste([0, 1, 2], [0, 1, 2])"
      ]
    },
    {
      "cell_type": "code",
      "execution_count": 8,
      "metadata": {},
      "outputs": [
        {
          "data": {
            "text/plain": [
              "1"
            ]
          },
          "execution_count": 9,
          "metadata": {},
          "output_type": "execute_result"
        }
      ],
      "source": [
        "compare_liste([0, 1, 2, 4], [0, 1, 2])"
      ]
    },
    {
      "cell_type": "markdown",
      "metadata": {},
      "source": [
        "## Q3 - pr\u00e9cision des calculs\n",
        "\n",
        "On cherche \u00e0 calculer la somme des termes d'une suite g\u00e9om\u00e9triques de raison~$\\frac{1}{2}$. On d\u00e9finit $r=\\frac{1}{2}$, on cherche donc \u00e0 calculer $\\sum_{i=0}^{\\infty} r^i$ qui une somme convergente mais infinie. Le programme suivant permet d'en calculer une valeur approch\u00e9e. Il retourne, outre le r\u00e9sultat, le nombre d'it\u00e9rations qui ont permis d'estimer le r\u00e9sultat."
      ]
    },
    {
      "cell_type": "code",
      "execution_count": 9,
      "metadata": {},
      "outputs": [
        {
          "name": "stdout",
          "output_type": "stream",
          "text": [
            "(2.0, 1075)\n"
          ]
        }
      ],
      "source": [
        "def suite_geometrique_1(r):\n",
        "    x = 1.0\n",
        "    y = 0.0\n",
        "    n = 0\n",
        "    while x > 0:\n",
        "        y += x\n",
        "        x *= r\n",
        "        n += 1\n",
        "    return y, n\n",
        "    \n",
        "print(suite_geometrique_1(0.5))"
      ]
    },
    {
      "cell_type": "markdown",
      "metadata": {},
      "source": [
        "Un informaticien plus exp\u00e9riment\u00e9 a \u00e9crit le programme suivant qui retourne le m\u00eame r\u00e9sultat mais avec un nombre d'it\u00e9rations beaucoup plus petit."
      ]
    },
    {
      "cell_type": "code",
      "execution_count": 10,
      "metadata": {},
      "outputs": [
        {
          "name": "stdout",
          "output_type": "stream",
          "text": [
            "(2.0, 55)\n"
          ]
        }
      ],
      "source": [
        "def suite_geometrique_2(r):\n",
        "    x = 1.0\n",
        "    y = 0.0\n",
        "    n = 0\n",
        "    yold = y + 1\n",
        "    while abs (yold - y) > 0:\n",
        "        yold = y\n",
        "        y += x\n",
        "        x *= r\n",
        "        n += 1\n",
        "    return y,n\n",
        "    \n",
        "print(suite_geometrique_2(0.5))"
      ]
    },
    {
      "cell_type": "markdown",
      "metadata": {},
      "source": [
        "Expliquez pourquoi le second programme est plus rapide tout en retournant le m\u00eame r\u00e9sultat. Rep\u00e8re num\u00e9rique : $2^{-55} \\sim 2,8.10^{-17}$."
      ]
    },
    {
      "cell_type": "markdown",
      "metadata": {},
      "source": [
        "Tout d'abord le second programme est plus rapide car il effectue moins d'it\u00e9rations, 55 au lieu de 1075. Maintenant, il s'agit de savoir pourquoi le second programme retourne le m\u00eame r\u00e9sultat que le premier mais plus rapidement. L'ordinateur ne peut pas calculer num\u00e9riquement une somme infinie, il s'agit toujours d'une valeur approch\u00e9e. L'approximation d\u00e9pend de la pr\u00e9cision des calculs, environ 14 chiffres pour *python*. Dans le premier programme, on s'arr\u00eate lorsque $r^n$ devient nul, autrement dit, on s'arr\u00eate lorsque $x$ est si petit que *python* ne peut plus le repr\u00e9senter autrement que par~0, c'est-\u00e0-dire qu'il n'est pas possible de repr\u00e9senter un nombre dans l'intervalle $[0,2^{-1055}]$.\n",
        "\n",
        "Toutefois, il n'est pas indispensable d'aller aussi loin car l'ordinateur n'est de toute fa\u00e7on pas capable d'ajouter un nombre aussi petit \u00e0 un nombre plus grand que~1. Par exemple, $1 + 10^{17} = 1,000\\, 000\\, 000\\, 000\\, 000\\, 01$. Comme la pr\u00e9cision des calculs n'est que de 15 chiffres, pour *python*, $1 + 10^{17} = 1$. Le second programme s'inspire de cette remarque : le calcul s'arr\u00eate lorsque le r\u00e9sultat de la somme n'\u00e9volue plus car il additionne des nombres trop petits \u00e0 un nombre trop grand. L'id\u00e9e est donc de comparer la somme d'une it\u00e9ration \u00e0 l'autre et de s'arr\u00eater lorsqu'elle n'\u00e9volue plus.\n",
        "\n",
        "Ce raisonnement n'est pas toujours applicable. Il est valide dans ce cas car la s\u00e9rie $s_n = \\sum_{i=0}^{n} r^i$ est croissante et positive. Il est valide pour une s\u00e9rie convergente de la forme $s_n = \\sum_{i=0}^{n} u_i$ et une suite $u_n$ de module d\u00e9croissant.\n"
      ]
    },
    {
      "cell_type": "markdown",
      "metadata": {},
      "source": [
        "## Q4 - hypercube\n",
        "\n",
        "Un chercheur cherche \u00e0 v\u00e9rifier qu'une suite de~0 et de~1 est al\u00e9atoire. Pour cela, il souhaite compter le nombre de s\u00e9quences de $n$ nombres successifs. Par exemple, pour la suite 01100111 et $n=3$, les triplets sont 011, 110, 100, 001, 011, 111. Le triplet 011 appara\u00eet deux fois, les autres une fois. Si la suite est al\u00e9atoire, les occurrences de chaque triplet sont en nombres \u00e9quivalents. "
      ]
    },
    {
      "cell_type": "code",
      "execution_count": 11,
      "metadata": {},
      "outputs": [
        {
          "data": {
            "text/plain": [
              "[[[0, 0], [0, 0]], [[0, 0], [0, 0]]]"
            ]
          },
          "execution_count": 12,
          "metadata": {},
          "output_type": "execute_result"
        }
      ],
      "source": [
        "def hyper_cube_liste(n, m=None):\n",
        "    if m is None:\n",
        "        m = [0, 0]\n",
        "    if n > 1 :\n",
        "        m[0] = [0,0]\n",
        "        m[1] = [0,0]\n",
        "        m[0] = hyper_cube_liste (n-1, m[0])\n",
        "        m[1] = hyper_cube_liste (n-1, m[1])\n",
        "    return m\n",
        "\n",
        "hyper_cube_liste(3)"
      ]
    },
    {
      "cell_type": "markdown",
      "metadata": {},
      "source": [
        "La seconde \u00e0 base de dictionnaire (plus facile \u00e0 manipuler) :"
      ]
    },
    {
      "cell_type": "code",
      "execution_count": 12,
      "metadata": {},
      "outputs": [
        {
          "data": {
            "text/plain": [
              "{(0, 0, 0): 0,\n",
              " (0, 0, 1): 0,\n",
              " (0, 1, 0): 0,\n",
              " (0, 1, 1): 0,\n",
              " (1, 0, 0): 0,\n",
              " (1, 0, 1): 0,\n",
              " (1, 1, 0): 0,\n",
              " (1, 1, 1): 0}"
            ]
          },
          "execution_count": 13,
          "metadata": {},
          "output_type": "execute_result"
        }
      ],
      "source": [
        "def hyper_cube_dico (n) :\n",
        "    r = { }\n",
        "    ind = [ 0 for i in range (0,n) ]\n",
        "    while ind [0] <= 1 :\n",
        "        cle = tuple(ind) # conversion d'une liste en tuple\n",
        "        r[cle] = 0\n",
        "        ind[-1] += 1\n",
        "        k = len(ind)-1\n",
        "        while ind[k] == 2 and k > 0:\n",
        "            ind[k] = 0\n",
        "            ind[k-1] += 1\n",
        "            k -= 1\n",
        "    return r\n",
        "\n",
        "hyper_cube_dico(3)"
      ]
    },
    {
      "cell_type": "markdown",
      "metadata": {},
      "source": [
        "Le chercheur a commenc\u00e9 \u00e0 \u00e9crire son programme :"
      ]
    },
    {
      "cell_type": "code",
      "execution_count": 13,
      "metadata": {},
      "outputs": [],
      "source": [
        "def occurrence(l,n) :\n",
        "    # d = ....... # choix d'un hyper_cube (n)\n",
        "    # .....\n",
        "    # return d\n",
        "    pass\n",
        "\n",
        "suite = [ 0, 1, 0, 1, 1, 0, 1, 0, 0, 0, 1, 1, 0, 1, 1, 1, 0, 0, 1, 1 ]\n",
        "h = occurrence(suite, 3)\n",
        "h"
      ]
    },
    {
      "cell_type": "markdown",
      "metadata": {},
      "source": [
        "Sur quelle structure se porte votre choix (a priori celle avec dictionnaire), compl\u00e9ter la fonction ``occurrence``. "
      ]
    },
    {
      "cell_type": "code",
      "execution_count": 14,
      "metadata": {},
      "outputs": [
        {
          "data": {
            "text/plain": [
              "{(0, 0, 0): 0,\n",
              " (0, 0, 1): 0,\n",
              " (0, 1, 0): 0,\n",
              " (0, 1, 1): 1,\n",
              " (1, 0, 0): 0,\n",
              " (1, 0, 1): 2,\n",
              " (1, 1, 0): 1,\n",
              " (1, 1, 1): 0}"
            ]
          },
          "execution_count": 15,
          "metadata": {},
          "output_type": "execute_result"
        }
      ],
      "source": [
        "def occurrence(tu, n):\n",
        "    d = hyper_cube_dico(n)\n",
        "    for i in range (0, len(tu)-n) :\n",
        "        cle = tu[i:i+n]\n",
        "        d[cle] += 1\n",
        "    return d\n",
        "\n",
        "occurrence((1, 0, 1, 1, 0, 1, 0), 3)"
      ]
    },
    {
      "cell_type": "markdown",
      "metadata": {},
      "source": [
        "Il est m\u00eame possible de se passer de la fonction ``hyper_cube_dico`` :"
      ]
    },
    {
      "cell_type": "code",
      "execution_count": 15,
      "metadata": {},
      "outputs": [
        {
          "data": {
            "text/plain": [
              "{(1, 0, 1): 2, (0, 1, 1): 1, (1, 1, 0): 1}"
            ]
          },
          "execution_count": 16,
          "metadata": {},
          "output_type": "execute_result"
        }
      ],
      "source": [
        "def occurrence2(tu, n):\n",
        "    d = { }\n",
        "    for i in range (0, len(tu)-n) :\n",
        "        cle = tu[i:i+n]\n",
        "        if cle not in d: \n",
        "            d[cle] = 0\n",
        "        d [cle] += 1\n",
        "    return d\n",
        "\n",
        "occurrence2((1, 0, 1, 1, 0, 1, 0), 3)"
      ]
    },
    {
      "cell_type": "markdown",
      "metadata": {},
      "source": [
        "La seule diff\u00e9rence appara\u00eet lorsqu'un n-uplet n'appara\u00eet pas dans la liste. Avec la fonction ``hyper_cube_dico``, ce n-uplet recevra la fr\u00e9quence 0, sans cette fonction, ce n-uplet ne sera pas pr\u00e9sent dans le dictionnaire ``d``. Le m\u00eame programme avec la structure matricielle est plus une curiosit\u00e9 qu'un cas utile.  "
      ]
    },
    {
      "cell_type": "code",
      "execution_count": 16,
      "metadata": {},
      "outputs": [
        {
          "data": {
            "text/plain": [
              "[[[0, 0], [0, 1]], [[0, 2], [1, 0]]]"
            ]
          },
          "execution_count": 17,
          "metadata": {},
          "output_type": "execute_result"
        }
      ],
      "source": [
        "def occurrence3(li, n):\n",
        "    d = hyper_cube_liste(n)\n",
        "    for i in range (0, len(li)-n) :\n",
        "        cle = li[i:i+n]\n",
        "        t   = d                       # \n",
        "        for k in range (0,n-1) :      # point cl\u00e9 de la fonction : \n",
        "            t = t[cle[k]]             #                acc\u00e8s \u00e0 un \u00e9l\u00e9ment\n",
        "        t [cle [ n-1] ] += 1\n",
        "    return d\n",
        "\n",
        "occurrence3((1, 0, 1, 1, 0, 1, 0), 3)"
      ]
    },
    {
      "cell_type": "markdown",
      "metadata": {},
      "source": [
        "Une autre \u00e9criture..."
      ]
    },
    {
      "cell_type": "code",
      "execution_count": 17,
      "metadata": {},
      "outputs": [
        {
          "data": {
            "text/plain": [
              "[[[0, 0], [0, 1]], [[0, 2], [1, 0]]]"
            ]
          },
          "execution_count": 18,
          "metadata": {},
          "output_type": "execute_result"
        }
      ],
      "source": [
        "def hyper_cube_liste2(n, m=[0, 0], m2=[0, 0]):\n",
        "    if n > 1 :\n",
        "        m[0] = list(m2)\n",
        "        m[1] = list(m2)\n",
        "        m[0] = hyper_cube_liste2(n-1, m[0])\n",
        "        m[1] = hyper_cube_liste2(n-1, m[1])\n",
        "    return m\n",
        "\n",
        "def occurrence4(li, n):\n",
        "    d = hyper_cube_liste2(n)         # * remarque voir plus bas\n",
        "    for i in range (0, len(li)-n) :\n",
        "        cle = li[i:i+n]\n",
        "        t   = d                       # \n",
        "        for k in range (0,n-1) :      # point cl\u00e9 de la fonction : \n",
        "            t = t[cle[k]]             #                acc\u00e8s \u00e0 un \u00e9l\u00e9ment\n",
        "        t [cle [ n-1] ] += 1\n",
        "    return d\n",
        "\n",
        "occurrence4((1, 0, 1, 1, 0, 1, 0), 3)"
      ]
    },
    {
      "cell_type": "markdown",
      "metadata": {},
      "source": [
        "Et si on remplace ``list(m2)`` par ``m2``."
      ]
    },
    {
      "cell_type": "code",
      "execution_count": 18,
      "metadata": {},
      "outputs": [
        {
          "name": "stdout",
          "output_type": "stream",
          "text": [
            "'int' object is not iterable\n"
          ]
        }
      ],
      "source": [
        "def hyper_cube_liste3(n, m=[0, 0], m2=[0, 0]):\n",
        "    if n > 1 :\n",
        "        m[0] = m2\n",
        "        m[1] = m2\n",
        "        m[0] = hyper_cube_liste3(n-1, m[0])\n",
        "        m[1] = hyper_cube_liste3(n-1, m[1])\n",
        "    return m\n",
        "\n",
        "def occurrence5(li, n):\n",
        "    d = hyper_cube_liste3(n)         # * remarque voir plus bas\n",
        "    for i in range (0, len(li)-n) :\n",
        "        cle = li[i:i+n]\n",
        "        t   = d                       # \n",
        "        for k in range (0,n-1) :      # point cl\u00e9 de la fonction : \n",
        "            t = t[cle[k]]             #                acc\u00e8s \u00e0 un \u00e9l\u00e9ment\n",
        "        t [cle [ n-1] ] += 1\n",
        "    return d\n",
        "\n",
        "try:\n",
        "    occurrence5((1, 0, 1, 1, 0, 1, 0), 3)\n",
        "except Exception as e:\n",
        "    print(e)"
      ]
    },
    {
      "cell_type": "markdown",
      "metadata": {},
      "source": [
        "Int\u00e9ressant..."
      ]
    },
    {
      "cell_type": "code",
      "execution_count": 19,
      "metadata": {},
      "outputs": [],
      "source": []
    }
  ],
  "metadata": {
    "kernelspec": {
      "display_name": "Python 3",
      "language": "python",
      "name": "python3"
    },
    "language_info": {
      "codemirror_mode": {
        "name": "ipython",
        "version": 3
      },
      "file_extension": ".py",
      "mimetype": "text/x-python",
      "name": "python",
      "nbconvert_exporter": "python",
      "pygments_lexer": "ipython3",
      "version": "3.7.0"
    }
  },
  "nbformat": 4,
  "nbformat_minor": 2
}