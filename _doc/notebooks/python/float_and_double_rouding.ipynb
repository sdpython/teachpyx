{
  "cells": [
    {
      "cell_type": "markdown",
      "metadata": {},
      "source": [
        "# Float conversion\n",
        "\n",
        "I came up with the following question $(float64)x < (float64)y \\Longrightarrow (float32) x < (float32)y$? What is the probability this holds?"
      ]
    },
    {
      "cell_type": "code",
      "execution_count": 1,
      "metadata": {},
      "outputs": [
        {
          "data": {
            "text/html": [
              "<div id=\"my_id_menu_nb\">run previous cell, wait for 2 seconds</div>\n",
              "<script>\n",
              "function repeat_indent_string(n){\n",
              "    var a = \"\" ;\n",
              "    for ( ; n > 0 ; --n)\n",
              "        a += \"    \";\n",
              "    return a;\n",
              "}\n",
              "var update_menu_string = function(begin, lfirst, llast, sformat, send, keep_item, begin_format, end_format) {\n",
              "    var anchors = document.getElementsByClassName(\"section\");\n",
              "    if (anchors.length == 0) {\n",
              "        anchors = document.getElementsByClassName(\"text_cell_render rendered_html\");\n",
              "    }\n",
              "    var i,t;\n",
              "    var text_menu = begin;\n",
              "    var text_memo = \"<pre>\\nlength:\" + anchors.length + \"\\n\";\n",
              "    var ind = \"\";\n",
              "    var memo_level = 1;\n",
              "    var href;\n",
              "    var tags = [];\n",
              "    var main_item = 0;\n",
              "    var format_open = 0;\n",
              "    for (i = 0; i <= llast; i++)\n",
              "        tags.push(\"h\" + i);\n",
              "\n",
              "    for (i = 0; i < anchors.length; i++) {\n",
              "        text_memo += \"**\" + anchors[i].id + \"--\\n\";\n",
              "\n",
              "        var child = null;\n",
              "        for(t = 0; t < tags.length; t++) {\n",
              "            var r = anchors[i].getElementsByTagName(tags[t]);\n",
              "            if (r.length > 0) {\n",
              "child = r[0];\n",
              "break;\n",
              "            }\n",
              "        }\n",
              "        if (child == null) {\n",
              "            text_memo += \"null\\n\";\n",
              "            continue;\n",
              "        }\n",
              "        if (anchors[i].hasAttribute(\"id\")) {\n",
              "            // when converted in RST\n",
              "            href = anchors[i].id;\n",
              "            text_memo += \"#1-\" + href;\n",
              "            // passer \u00e0 child suivant (le chercher)\n",
              "        }\n",
              "        else if (child.hasAttribute(\"id\")) {\n",
              "            // in a notebook\n",
              "            href = child.id;\n",
              "            text_memo += \"#2-\" + href;\n",
              "        }\n",
              "        else {\n",
              "            text_memo += \"#3-\" + \"*\" + \"\\n\";\n",
              "            continue;\n",
              "        }\n",
              "        var title = child.textContent;\n",
              "        var level = parseInt(child.tagName.substring(1,2));\n",
              "\n",
              "        text_memo += \"--\" + level + \"?\" + lfirst + \"--\" + title + \"\\n\";\n",
              "\n",
              "        if ((level < lfirst) || (level > llast)) {\n",
              "            continue ;\n",
              "        }\n",
              "        if (title.endsWith('\u00b6')) {\n",
              "            title = title.substring(0,title.length-1).replace(\"<\", \"&lt;\")\n",
              "         .replace(\">\", \"&gt;\").replace(\"&\", \"&amp;\");\n",
              "        }\n",
              "        if (title.length == 0) {\n",
              "            continue;\n",
              "        }\n",
              "\n",
              "        while (level < memo_level) {\n",
              "            text_menu += end_format + \"</ul>\\n\";\n",
              "            format_open -= 1;\n",
              "            memo_level -= 1;\n",
              "        }\n",
              "        if (level == lfirst) {\n",
              "            main_item += 1;\n",
              "        }\n",
              "        if (keep_item != -1 && main_item != keep_item + 1) {\n",
              "            // alert(main_item + \" - \" + level + \" - \" + keep_item);\n",
              "            continue;\n",
              "        }\n",
              "        while (level > memo_level) {\n",
              "            text_menu += \"<ul>\\n\";\n",
              "            memo_level += 1;\n",
              "        }\n",
              "        text_menu += repeat_indent_string(level-2);\n",
              "        text_menu += begin_format + sformat.replace(\"__HREF__\", href).replace(\"__TITLE__\", title);\n",
              "        format_open += 1;\n",
              "    }\n",
              "    while (1 < memo_level) {\n",
              "        text_menu += end_format + \"</ul>\\n\";\n",
              "        memo_level -= 1;\n",
              "        format_open -= 1;\n",
              "    }\n",
              "    text_menu += send;\n",
              "    //text_menu += \"\\n\" + text_memo;\n",
              "\n",
              "    while (format_open > 0) {\n",
              "        text_menu += end_format;\n",
              "        format_open -= 1;\n",
              "    }\n",
              "    return text_menu;\n",
              "};\n",
              "var update_menu = function() {\n",
              "    var sbegin = \"\";\n",
              "    var sformat = '<a href=\"#__HREF__\">__TITLE__</a>';\n",
              "    var send = \"\";\n",
              "    var begin_format = '<li>';\n",
              "    var end_format = '</li>';\n",
              "    var keep_item = -1;\n",
              "    var text_menu = update_menu_string(sbegin, 2, 4, sformat, send, keep_item,\n",
              "       begin_format, end_format);\n",
              "    var menu = document.getElementById(\"my_id_menu_nb\");\n",
              "    menu.innerHTML=text_menu;\n",
              "};\n",
              "window.setTimeout(update_menu,2000);\n",
              "            </script>"
            ],
            "text/plain": [
              "<IPython.core.display.HTML object>"
            ]
          },
          "execution_count": 2,
          "metadata": {},
          "output_type": "execute_result"
        }
      ],
      "source": [
        "from jyquickhelper import add_notebook_menu\n",
        "add_notebook_menu()"
      ]
    },
    {
      "cell_type": "code",
      "execution_count": 2,
      "metadata": {},
      "outputs": [],
      "source": [
        "%matplotlib inline"
      ]
    },
    {
      "cell_type": "markdown",
      "metadata": {},
      "source": [
        "## Probability (float64)x == (float32)x\n",
        "\n",
        "Let's evaluate how many time we draw a random double number equal to its float conversion."
      ]
    },
    {
      "cell_type": "code",
      "execution_count": 3,
      "metadata": {},
      "outputs": [
        {
          "data": {
            "text/plain": [
              "((100000000,), dtype('float64'))"
            ]
          },
          "execution_count": 4,
          "metadata": {},
          "output_type": "execute_result"
        }
      ],
      "source": [
        "import numpy\n",
        "rnd = numpy.random.random(100000000)\n",
        "rnd.shape, rnd.dtype"
      ]
    },
    {
      "cell_type": "code",
      "execution_count": 4,
      "metadata": {},
      "outputs": [
        {
          "data": {
            "text/plain": [
              "2"
            ]
          },
          "execution_count": 5,
          "metadata": {},
          "output_type": "execute_result"
        }
      ],
      "source": [
        "rnd32 = rnd.astype(numpy.float32).astype(numpy.float64)\n",
        "equal = (rnd == rnd32).sum()\n",
        "equal"
      ]
    },
    {
      "cell_type": "markdown",
      "metadata": {},
      "source": [
        "It is very low. Let's check the reverse is true."
      ]
    },
    {
      "cell_type": "code",
      "execution_count": 5,
      "metadata": {},
      "outputs": [
        {
          "data": {
            "text/plain": [
              "100000000"
            ]
          },
          "execution_count": 6,
          "metadata": {},
          "output_type": "execute_result"
        }
      ],
      "source": [
        "rnd32b = rnd32.astype(numpy.float64).astype(numpy.float32)\n",
        "equal = (rnd32b == rnd32).sum()\n",
        "equal"
      ]
    },
    {
      "cell_type": "markdown",
      "metadata": {},
      "source": [
        "Let's study the distribution of the difference."
      ]
    },
    {
      "cell_type": "code",
      "execution_count": 6,
      "metadata": {},
      "outputs": [
        {
          "data": {
            "text/plain": [
              "(-2.9802321610539195e-08, 2.9802320611338473e-08)"
            ]
          },
          "execution_count": 7,
          "metadata": {},
          "output_type": "execute_result"
        }
      ],
      "source": [
        "delta = rnd - rnd32\n",
        "numpy.min(delta), numpy.max(delta)"
      ]
    },
    {
      "cell_type": "code",
      "execution_count": 7,
      "metadata": {},
      "outputs": [
        {
          "data": {
            "text/plain": [
              "(5.400330183036317e-10, 0.9999999976946683)"
            ]
          },
          "execution_count": 8,
          "metadata": {},
          "output_type": "execute_result"
        }
      ],
      "source": [
        "numpy.min(rnd), numpy.max(rnd)"
      ]
    },
    {
      "cell_type": "code",
      "execution_count": 8,
      "metadata": {},
      "outputs": [
        {
          "data": {
            "image/png": "[encoded data removed]",
            "text/plain": [
              "<matplotlib.figure.Figure at 0x20e075d7048>"
            ]
          },
          "metadata": {},
          "output_type": "display_data"
        }
      ],
      "source": [
        "import matplotlib.pyplot as plt\n",
        "plt.hist(delta, bins=1000);"
      ]
    },
    {
      "cell_type": "markdown",
      "metadata": {},
      "source": [
        "We finally check that double operations between float numpers remain floats."
      ]
    },
    {
      "cell_type": "code",
      "execution_count": 9,
      "metadata": {},
      "outputs": [],
      "source": [
        "import random\n",
        "for i in range(0,100000):\n",
        "    i,j = random.randint(0, len(rnd32)-1), random.randint(0, len(rnd32)-1)\n",
        "    d32 = numpy.float64(rnd32[i] * rnd32[j])\n",
        "    d64 = numpy.float64(rnd32[i]) * numpy.float64(rnd32[j])\n",
        "    if d32 != d64:\n",
        "        raise Exception(\"Issue with somme={0} = {1} + {2}\".format(rnd32[i] + rnd32[j], rnd32[i], rnd32[j]))"
      ]
    },
    {
      "cell_type": "markdown",
      "metadata": {},
      "source": [
        "## Interval length distribution\n",
        "\n",
        "Let's imagine now we want to define an intervalle in which a double is converted to the same float. Let's find out about it length."
      ]
    },
    {
      "cell_type": "code",
      "execution_count": 10,
      "metadata": {},
      "outputs": [
        {
          "data": {
            "text/plain": [
              "(7.245554200022153e-12, 5.9604641222676946e-08)"
            ]
          },
          "execution_count": 11,
          "metadata": {},
          "output_type": "execute_result"
        }
      ],
      "source": [
        "def find_interval(x):\n",
        "    dx = numpy.abs(x - numpy.float32(x))  # usually not zero\n",
        "    dx /= 100\n",
        "    f = numpy.float32(x)\n",
        "    x1 = x\n",
        "    while numpy.float32(x1) == f:\n",
        "        x1 -= dx\n",
        "    x2 = x\n",
        "    while numpy.float32(x2) == f:\n",
        "        x2 += dx\n",
        "    return x1 + dx, x2 - dx\n",
        "\n",
        "length = numpy.zeros((2000,))\n",
        "for i in range(length.shape[0]):\n",
        "    x = rnd[i]\n",
        "    x1, x2 = find_interval(x)\n",
        "    length[i] = x2-x1   \n",
        "\n",
        "min(length), max(length)"
      ]
    },
    {
      "cell_type": "code",
      "execution_count": 11,
      "metadata": {},
      "outputs": [
        {
          "data": {
            "image/png": "[encoded data removed]",
            "text/plain": [
              "<matplotlib.figure.Figure at 0x20e372989e8>"
            ]
          },
          "metadata": {},
          "output_type": "display_data"
        }
      ],
      "source": [
        "plt.hist(length, bins=50);"
      ]
    },
    {
      "cell_type": "markdown",
      "metadata": {},
      "source": [
        "So we can approximate this interval by something like this:"
      ]
    },
    {
      "cell_type": "code",
      "execution_count": 12,
      "metadata": {},
      "outputs": [
        {
          "data": {
            "text/plain": [
              "5.953141313241872e-08"
            ]
          },
          "execution_count": 13,
          "metadata": {},
          "output_type": "execute_result"
        }
      ],
      "source": [
        "ql = numpy.sort(length)[int(length.shape[0] * 0.8)]\n",
        "ql"
      ]
    },
    {
      "cell_type": "markdown",
      "metadata": {},
      "source": [
        "## An answer to the initial question\n",
        "\n",
        "Let's estimate $\\mathbb{P}\\left(x_{64} < y_{64} \\Longrightarrow x_{32} < y_{32} \\; | \\; |x-y| \\leqslant d\\right)$ ?"
      ]
    },
    {
      "cell_type": "code",
      "execution_count": 13,
      "metadata": {
        "scrolled": false
      },
      "outputs": [
        {
          "name": "stdout",
          "output_type": "stream",
          "text": [
            "90 5.357827181917685e-08 : 638 991\n",
            "190 1.1310968495159557e-07 : 812 1018\n",
            "290 1.726410980840143e-07 : 889 1011\n",
            "390 2.32172511216433e-07 : 918 986\n",
            "490 2.9170392434885173e-07 : 901 981\n",
            "590 3.5123533748127045e-07 : 936 986\n",
            "690 4.1076675061368917e-07 : 964 1004\n",
            "790 4.702981637461079e-07 : 982 1021\n",
            "890 5.298295768785266e-07 : 964 998\n",
            "990 5.893609900109453e-07 : 946 975\n"
          ]
        },
        {
          "data": {
            "text/html": [
              "<div>\n",
              "<style scoped>\n",
              "    .dataframe tbody tr th:only-of-type {\n",
              "        vertical-align: middle;\n",
              "    }\n",
              "\n",
              "    .dataframe tbody tr th {\n",
              "        vertical-align: top;\n",
              "    }\n",
              "\n",
              "    .dataframe thead th {\n",
              "        text-align: right;\n",
              "    }\n",
              "</style>\n",
              "<table border=\"1\" class=\"dataframe\">\n",
              "  <thead>\n",
              "    <tr style=\"text-align: right;\">\n",
              "      <th></th>\n",
              "      <th>d</th>\n",
              "      <th>ratio</th>\n",
              "      <th>total</th>\n",
              "    </tr>\n",
              "  </thead>\n",
              "  <tbody>\n",
              "    <tr>\n",
              "      <th>0</th>\n",
              "      <td>5.953141e-10</td>\n",
              "      <td>0.019447</td>\n",
              "      <td>977</td>\n",
              "    </tr>\n",
              "    <tr>\n",
              "      <th>1</th>\n",
              "      <td>1.190628e-09</td>\n",
              "      <td>0.041879</td>\n",
              "      <td>979</td>\n",
              "    </tr>\n",
              "    <tr>\n",
              "      <th>2</th>\n",
              "      <td>1.785942e-09</td>\n",
              "      <td>0.065590</td>\n",
              "      <td>991</td>\n",
              "    </tr>\n",
              "    <tr>\n",
              "      <th>3</th>\n",
              "      <td>2.381257e-09</td>\n",
              "      <td>0.063000</td>\n",
              "      <td>1000</td>\n",
              "    </tr>\n",
              "    <tr>\n",
              "      <th>4</th>\n",
              "      <td>2.976571e-09</td>\n",
              "      <td>0.072217</td>\n",
              "      <td>997</td>\n",
              "    </tr>\n",
              "  </tbody>\n",
              "</table>\n",
              "</div>"
            ],
            "text/plain": [
              "              d     ratio  total\n",
              "0  5.953141e-10  0.019447    977\n",
              "1  1.190628e-09  0.041879    979\n",
              "2  1.785942e-09  0.065590    991\n",
              "3  2.381257e-09  0.063000   1000\n",
              "4  2.976571e-09  0.072217    997"
            ]
          },
          "execution_count": 14,
          "metadata": {},
          "output_type": "execute_result"
        }
      ],
      "source": [
        "import pandas\n",
        "\n",
        "def inf_strict(x, y):\n",
        "    f1 = x < y\n",
        "    f2 = numpy.float32(x) < numpy.float32(y)\n",
        "    return f1, f2\n",
        "\n",
        "def count_events(fct):\n",
        "    rows = []\n",
        "    for di in range(1, 1001):\n",
        "        d = di * ql / 100\n",
        "        total = 0\n",
        "        ok = 0\n",
        "        rnd = numpy.random.random((2000*3,))\n",
        "        for i in range(0, rnd.shape[0], 3):\n",
        "            s = -1 if rnd[i+2] < 0.5 else 1\n",
        "            x, y = rnd[i], rnd[i] + rnd[i+1]*d*s\n",
        "            f1, f2 = fct(x, y)\n",
        "            if f1: \n",
        "                total += 1\n",
        "                if f2:\n",
        "                    ok += 1\n",
        "        if (di+10) % 100 == 0:\n",
        "            print(di, d, \":\", ok, total)\n",
        "        rows.append(dict(d=d, ratio=ok*1./total, total=total))\n",
        "\n",
        "    return pandas.DataFrame(rows)\n",
        "\n",
        "df = count_events(inf_strict)\n",
        "df.head()"
      ]
    },
    {
      "cell_type": "code",
      "execution_count": 14,
      "metadata": {},
      "outputs": [
        {
          "data": {
            "text/plain": [
              "<matplotlib.axes._subplots.AxesSubplot at 0x20e376592e8>"
            ]
          },
          "execution_count": 15,
          "metadata": {},
          "output_type": "execute_result"
        },
        {
          "data": {
            "image/png": "[encoded data removed]",
            "text/plain": [
              "<matplotlib.figure.Figure at 0x20e3727b828>"
            ]
          },
          "metadata": {},
          "output_type": "display_data"
        }
      ],
      "source": [
        "df.plot(x=\"d\", y=\"ratio\")"
      ]
    },
    {
      "cell_type": "code",
      "execution_count": 15,
      "metadata": {},
      "outputs": [
        {
          "data": {
            "text/plain": [
              "<matplotlib.axes._subplots.AxesSubplot at 0x20e37aa48d0>"
            ]
          },
          "execution_count": 16,
          "metadata": {},
          "output_type": "execute_result"
        },
        {
          "data": {
            "image/png": "[encoded data removed]",
            "text/plain": [
              "<matplotlib.figure.Figure at 0x20e37aa6160>"
            ]
          },
          "metadata": {},
          "output_type": "display_data"
        }
      ],
      "source": [
        "df.plot(x=\"d\", y=\"ratio\", logx=True)"
      ]
    },
    {
      "cell_type": "markdown",
      "metadata": {},
      "source": [
        "## An answer to a similar question: what about not strict comparison?\n",
        "\n",
        "Let's estimate $\\mathbb{P}\\left(x_{64} \\leqslant y_{64} \\Longrightarrow x_{32} \\leqslant y_{32} \\; | \\; |x-y| \\leqslant d\\right)$ ?"
      ]
    },
    {
      "cell_type": "code",
      "execution_count": 16,
      "metadata": {},
      "outputs": [
        {
          "name": "stdout",
          "output_type": "stream",
          "text": [
            "90 5.357827181917685e-08 : 966 966\n",
            "190 1.1310968495159557e-07 : 1015 1015\n",
            "290 1.726410980840143e-07 : 1004 1004\n",
            "390 2.32172511216433e-07 : 991 991\n",
            "490 2.9170392434885173e-07 : 1015 1015\n",
            "590 3.5123533748127045e-07 : 975 975\n",
            "690 4.1076675061368917e-07 : 969 969\n",
            "790 4.702981637461079e-07 : 962 962\n",
            "890 5.298295768785266e-07 : 1032 1032\n",
            "990 5.893609900109453e-07 : 1000 1000\n"
          ]
        },
        {
          "data": {
            "text/html": [
              "<div>\n",
              "<style scoped>\n",
              "    .dataframe tbody tr th:only-of-type {\n",
              "        vertical-align: middle;\n",
              "    }\n",
              "\n",
              "    .dataframe tbody tr th {\n",
              "        vertical-align: top;\n",
              "    }\n",
              "\n",
              "    .dataframe thead th {\n",
              "        text-align: right;\n",
              "    }\n",
              "</style>\n",
              "<table border=\"1\" class=\"dataframe\">\n",
              "  <thead>\n",
              "    <tr style=\"text-align: right;\">\n",
              "      <th></th>\n",
              "      <th>d</th>\n",
              "      <th>ratio</th>\n",
              "      <th>total</th>\n",
              "    </tr>\n",
              "  </thead>\n",
              "  <tbody>\n",
              "    <tr>\n",
              "      <th>0</th>\n",
              "      <td>5.953141e-10</td>\n",
              "      <td>1.0</td>\n",
              "      <td>996</td>\n",
              "    </tr>\n",
              "    <tr>\n",
              "      <th>1</th>\n",
              "      <td>1.190628e-09</td>\n",
              "      <td>1.0</td>\n",
              "      <td>969</td>\n",
              "    </tr>\n",
              "    <tr>\n",
              "      <th>2</th>\n",
              "      <td>1.785942e-09</td>\n",
              "      <td>1.0</td>\n",
              "      <td>1004</td>\n",
              "    </tr>\n",
              "    <tr>\n",
              "      <th>3</th>\n",
              "      <td>2.381257e-09</td>\n",
              "      <td>1.0</td>\n",
              "      <td>979</td>\n",
              "    </tr>\n",
              "    <tr>\n",
              "      <th>4</th>\n",
              "      <td>2.976571e-09</td>\n",
              "      <td>1.0</td>\n",
              "      <td>1041</td>\n",
              "    </tr>\n",
              "  </tbody>\n",
              "</table>\n",
              "</div>"
            ],
            "text/plain": [
              "              d  ratio  total\n",
              "0  5.953141e-10    1.0    996\n",
              "1  1.190628e-09    1.0    969\n",
              "2  1.785942e-09    1.0   1004\n",
              "3  2.381257e-09    1.0    979\n",
              "4  2.976571e-09    1.0   1041"
            ]
          },
          "execution_count": 17,
          "metadata": {},
          "output_type": "execute_result"
        }
      ],
      "source": [
        "def inf_equal(x, y):\n",
        "    f1 = x <= y\n",
        "    f2 = numpy.float32(x) <= numpy.float32(y)\n",
        "    return f1, f2\n",
        "\n",
        "df2 = count_events(inf_equal)\n",
        "df2.head()"
      ]
    },
    {
      "cell_type": "code",
      "execution_count": 17,
      "metadata": {},
      "outputs": [
        {
          "data": {
            "text/plain": [
              "<matplotlib.axes._subplots.AxesSubplot at 0x20e37aec400>"
            ]
          },
          "execution_count": 18,
          "metadata": {},
          "output_type": "execute_result"
        },
        {
          "data": {
            "image/png": "[encoded data removed]",
            "text/plain": [
              "<matplotlib.figure.Figure at 0x20e37b8c550>"
            ]
          },
          "metadata": {},
          "output_type": "display_data"
        }
      ],
      "source": [
        "ax = df.plot(x=\"d\", y=\"ratio\", logx=True, label=\"<\")\n",
        "df2.plot(x=\"d\", y=\"ratio\", logx=True, label=\"<=\", ax=ax)"
      ]
    },
    {
      "cell_type": "code",
      "execution_count": 18,
      "metadata": {},
      "outputs": [
        {
          "name": "stdout",
          "output_type": "stream",
          "text": [
            "90 5.357827181917685e-08 : 652 1008\n",
            "190 1.1310968495159557e-07 : 799 964\n",
            "290 1.726410980840143e-07 : 871 994\n",
            "390 2.32172511216433e-07 : 881 969\n",
            "490 2.9170392434885173e-07 : 961 1014\n",
            "590 3.5123533748127045e-07 : 906 958\n",
            "690 4.1076675061368917e-07 : 930 973\n",
            "790 4.702981637461079e-07 : 1004 1036\n",
            "890 5.298295768785266e-07 : 962 1012\n",
            "990 5.893609900109453e-07 : 972 1016\n"
          ]
        },
        {
          "data": {
            "text/html": [
              "<div>\n",
              "<style scoped>\n",
              "    .dataframe tbody tr th:only-of-type {\n",
              "        vertical-align: middle;\n",
              "    }\n",
              "\n",
              "    .dataframe tbody tr th {\n",
              "        vertical-align: top;\n",
              "    }\n",
              "\n",
              "    .dataframe thead th {\n",
              "        text-align: right;\n",
              "    }\n",
              "</style>\n",
              "<table border=\"1\" class=\"dataframe\">\n",
              "  <thead>\n",
              "    <tr style=\"text-align: right;\">\n",
              "      <th></th>\n",
              "      <th>d</th>\n",
              "      <th>ratio</th>\n",
              "      <th>total</th>\n",
              "    </tr>\n",
              "  </thead>\n",
              "  <tbody>\n",
              "    <tr>\n",
              "      <th>0</th>\n",
              "      <td>5.953141e-10</td>\n",
              "      <td>0.024291</td>\n",
              "      <td>988</td>\n",
              "    </tr>\n",
              "    <tr>\n",
              "      <th>1</th>\n",
              "      <td>1.190628e-09</td>\n",
              "      <td>0.044838</td>\n",
              "      <td>959</td>\n",
              "    </tr>\n",
              "    <tr>\n",
              "      <th>2</th>\n",
              "      <td>1.785942e-09</td>\n",
              "      <td>0.057769</td>\n",
              "      <td>1004</td>\n",
              "    </tr>\n",
              "    <tr>\n",
              "      <th>3</th>\n",
              "      <td>2.381257e-09</td>\n",
              "      <td>0.087000</td>\n",
              "      <td>1000</td>\n",
              "    </tr>\n",
              "    <tr>\n",
              "      <th>4</th>\n",
              "      <td>2.976571e-09</td>\n",
              "      <td>0.091769</td>\n",
              "      <td>1057</td>\n",
              "    </tr>\n",
              "  </tbody>\n",
              "</table>\n",
              "</div>"
            ],
            "text/plain": [
              "              d     ratio  total\n",
              "0  5.953141e-10  0.024291    988\n",
              "1  1.190628e-09  0.044838    959\n",
              "2  1.785942e-09  0.057769   1004\n",
              "3  2.381257e-09  0.087000   1000\n",
              "4  2.976571e-09  0.091769   1057"
            ]
          },
          "execution_count": 19,
          "metadata": {},
          "output_type": "execute_result"
        }
      ],
      "source": [
        "def sup_strict(x, y):\n",
        "    f1 = x > y\n",
        "    f2 = numpy.float32(x) > numpy.float32(y)\n",
        "    return f1, f2\n",
        "\n",
        "df3 = count_events(sup_strict)\n",
        "df3.head()"
      ]
    },
    {
      "cell_type": "code",
      "execution_count": 19,
      "metadata": {},
      "outputs": [
        {
          "data": {
            "text/plain": [
              "<matplotlib.axes._subplots.AxesSubplot at 0x20e37b94da0>"
            ]
          },
          "execution_count": 20,
          "metadata": {},
          "output_type": "execute_result"
        },
        {
          "data": {
            "image/png": "[encoded data removed]",
            "text/plain": [
              "<matplotlib.figure.Figure at 0x20e37c97710>"
            ]
          },
          "metadata": {},
          "output_type": "display_data"
        }
      ],
      "source": [
        "ax = df.plot(x=\"d\", y=\"ratio\", logx=True, label=\"<\")\n",
        "df2.plot(x=\"d\", y=\"ratio\", logx=True, label=\"<=\", ax=ax)\n",
        "df3.plot(x=\"d\", y=\"ratio\", logx=True, label=\">\", ax=ax)"
      ]
    },
    {
      "cell_type": "code",
      "execution_count": 20,
      "metadata": {},
      "outputs": [
        {
          "name": "stdout",
          "output_type": "stream",
          "text": [
            "90 5.357827181917685e-08 : 964 964\n",
            "190 1.1310968495159557e-07 : 1010 1010\n",
            "290 1.726410980840143e-07 : 1009 1009\n",
            "390 2.32172511216433e-07 : 990 990\n",
            "490 2.9170392434885173e-07 : 967 967\n",
            "590 3.5123533748127045e-07 : 1019 1019\n",
            "690 4.1076675061368917e-07 : 1013 1013\n",
            "790 4.702981637461079e-07 : 1020 1020\n",
            "890 5.298295768785266e-07 : 996 996\n",
            "990 5.893609900109453e-07 : 964 964\n"
          ]
        },
        {
          "data": {
            "text/html": [
              "<div>\n",
              "<style scoped>\n",
              "    .dataframe tbody tr th:only-of-type {\n",
              "        vertical-align: middle;\n",
              "    }\n",
              "\n",
              "    .dataframe tbody tr th {\n",
              "        vertical-align: top;\n",
              "    }\n",
              "\n",
              "    .dataframe thead th {\n",
              "        text-align: right;\n",
              "    }\n",
              "</style>\n",
              "<table border=\"1\" class=\"dataframe\">\n",
              "  <thead>\n",
              "    <tr style=\"text-align: right;\">\n",
              "      <th></th>\n",
              "      <th>d</th>\n",
              "      <th>ratio</th>\n",
              "      <th>total</th>\n",
              "    </tr>\n",
              "  </thead>\n",
              "  <tbody>\n",
              "    <tr>\n",
              "      <th>0</th>\n",
              "      <td>5.953141e-10</td>\n",
              "      <td>1.0</td>\n",
              "      <td>1031</td>\n",
              "    </tr>\n",
              "    <tr>\n",
              "      <th>1</th>\n",
              "      <td>1.190628e-09</td>\n",
              "      <td>1.0</td>\n",
              "      <td>1013</td>\n",
              "    </tr>\n",
              "    <tr>\n",
              "      <th>2</th>\n",
              "      <td>1.785942e-09</td>\n",
              "      <td>1.0</td>\n",
              "      <td>975</td>\n",
              "    </tr>\n",
              "    <tr>\n",
              "      <th>3</th>\n",
              "      <td>2.381257e-09</td>\n",
              "      <td>1.0</td>\n",
              "      <td>998</td>\n",
              "    </tr>\n",
              "    <tr>\n",
              "      <th>4</th>\n",
              "      <td>2.976571e-09</td>\n",
              "      <td>1.0</td>\n",
              "      <td>1022</td>\n",
              "    </tr>\n",
              "  </tbody>\n",
              "</table>\n",
              "</div>"
            ],
            "text/plain": [
              "              d  ratio  total\n",
              "0  5.953141e-10    1.0   1031\n",
              "1  1.190628e-09    1.0   1013\n",
              "2  1.785942e-09    1.0    975\n",
              "3  2.381257e-09    1.0    998\n",
              "4  2.976571e-09    1.0   1022"
            ]
          },
          "execution_count": 21,
          "metadata": {},
          "output_type": "execute_result"
        }
      ],
      "source": [
        "def sup_equal(x, y):\n",
        "    f1 = x >= y\n",
        "    f2 = numpy.float32(x) >= numpy.float32(y)\n",
        "    return f1, f2\n",
        "\n",
        "df4 = count_events(sup_equal)\n",
        "df4.head()"
      ]
    },
    {
      "cell_type": "code",
      "execution_count": 21,
      "metadata": {},
      "outputs": [
        {
          "data": {
            "text/plain": [
              "<matplotlib.axes._subplots.AxesSubplot at 0x20e38d39e48>"
            ]
          },
          "execution_count": 22,
          "metadata": {},
          "output_type": "execute_result"
        },
        {
          "data": {
            "image/png": "[encoded data removed]",
            "text/plain": [
              "<matplotlib.figure.Figure at 0x20e37c750b8>"
            ]
          },
          "metadata": {},
          "output_type": "display_data"
        }
      ],
      "source": [
        "ax = df.plot(x=\"d\", y=\"ratio\", logx=True, label=\"<\")\n",
        "df2.plot(x=\"d\", y=\"ratio\", logx=True, label=\"<=\", ax=ax)\n",
        "df3.plot(x=\"d\", y=\"ratio\", logx=True, label=\">\", ax=ax)\n",
        "df4.plot(x=\"d\", y=\"ratio\", logx=True, label=\">=\", ax=ax)"
      ]
    },
    {
      "cell_type": "code",
      "execution_count": 22,
      "metadata": {},
      "outputs": [
        {
          "name": "stdout",
          "output_type": "stream",
          "text": [
            "90 5.357827181917685e-08 : 999 999\n",
            "190 1.1310968495159557e-07 : 1019 1019\n",
            "290 1.726410980840143e-07 : 1013 1013\n",
            "390 2.32172511216433e-07 : 994 994\n",
            "490 2.9170392434885173e-07 : 1012 1012\n",
            "590 3.5123533748127045e-07 : 984 984\n",
            "690 4.1076675061368917e-07 : 1024 1024\n",
            "790 4.702981637461079e-07 : 982 982\n",
            "890 5.298295768785266e-07 : 966 966\n",
            "990 5.893609900109453e-07 : 1001 1001\n"
          ]
        },
        {
          "data": {
            "text/html": [
              "<div>\n",
              "<style scoped>\n",
              "    .dataframe tbody tr th:only-of-type {\n",
              "        vertical-align: middle;\n",
              "    }\n",
              "\n",
              "    .dataframe tbody tr th {\n",
              "        vertical-align: top;\n",
              "    }\n",
              "\n",
              "    .dataframe thead th {\n",
              "        text-align: right;\n",
              "    }\n",
              "</style>\n",
              "<table border=\"1\" class=\"dataframe\">\n",
              "  <thead>\n",
              "    <tr style=\"text-align: right;\">\n",
              "      <th></th>\n",
              "      <th>d</th>\n",
              "      <th>ratio</th>\n",
              "      <th>total</th>\n",
              "    </tr>\n",
              "  </thead>\n",
              "  <tbody>\n",
              "    <tr>\n",
              "      <th>0</th>\n",
              "      <td>5.953141e-10</td>\n",
              "      <td>1.0</td>\n",
              "      <td>976</td>\n",
              "    </tr>\n",
              "    <tr>\n",
              "      <th>1</th>\n",
              "      <td>1.190628e-09</td>\n",
              "      <td>1.0</td>\n",
              "      <td>983</td>\n",
              "    </tr>\n",
              "    <tr>\n",
              "      <th>2</th>\n",
              "      <td>1.785942e-09</td>\n",
              "      <td>1.0</td>\n",
              "      <td>1024</td>\n",
              "    </tr>\n",
              "    <tr>\n",
              "      <th>3</th>\n",
              "      <td>2.381257e-09</td>\n",
              "      <td>1.0</td>\n",
              "      <td>966</td>\n",
              "    </tr>\n",
              "    <tr>\n",
              "      <th>4</th>\n",
              "      <td>2.976571e-09</td>\n",
              "      <td>1.0</td>\n",
              "      <td>1016</td>\n",
              "    </tr>\n",
              "  </tbody>\n",
              "</table>\n",
              "</div>"
            ],
            "text/plain": [
              "              d  ratio  total\n",
              "0  5.953141e-10    1.0    976\n",
              "1  1.190628e-09    1.0    983\n",
              "2  1.785942e-09    1.0   1024\n",
              "3  2.381257e-09    1.0    966\n",
              "4  2.976571e-09    1.0   1016"
            ]
          },
          "execution_count": 23,
          "metadata": {},
          "output_type": "execute_result"
        }
      ],
      "source": [
        "def inf_strict_neg(x, y):\n",
        "    f1 = (-x) >= (-y)\n",
        "    f2 = (-numpy.float32(x)) >= (-numpy.float32(y))\n",
        "    return f1, f2\n",
        "\n",
        "dfn = count_events(inf_strict_neg)\n",
        "dfn.head()"
      ]
    },
    {
      "cell_type": "code",
      "execution_count": 23,
      "metadata": {},
      "outputs": [
        {
          "data": {
            "text/plain": [
              "<matplotlib.axes._subplots.AxesSubplot at 0x20e391d8eb8>"
            ]
          },
          "execution_count": 24,
          "metadata": {},
          "output_type": "execute_result"
        },
        {
          "data": {
            "image/png": "[encoded data removed]",
            "text/plain": [
              "<matplotlib.figure.Figure at 0x20e3916c3c8>"
            ]
          },
          "metadata": {},
          "output_type": "display_data"
        }
      ],
      "source": [
        "ax = df.plot(x=\"d\", y=\"ratio\", logx=True, label=\"<\")\n",
        "dfn.plot(x=\"d\", y=\"ratio\", logx=True, label=\"-1 x >=\", ax=ax)"
      ]
    },
    {
      "cell_type": "markdown",
      "metadata": {},
      "source": [
        "## Conclusion\n",
        "\n",
        "The result is expected. As soon as two float are rounded to the same value, the strict inequality no longer holds. However, if you need to write a code which has to handle double and float (in a template for example), you should use not strict inequalities. It is easier to compare the results but you should read some article like [Is < faster than <=?](https://stackoverflow.com/questions/12135518/is-faster-than). According to [Processing costs of non-strict\n",
        "versus strict comparison](http://www.crcummins.com/CRCProcessing.pdf), ``<`` is 5-10% faster than ``<=``."
      ]
    },
    {
      "cell_type": "code",
      "execution_count": 24,
      "metadata": {},
      "outputs": [],
      "source": []
    }
  ],
  "metadata": {
    "kernelspec": {
      "display_name": "Python 3",
      "language": "python",
      "name": "python3"
    },
    "language_info": {
      "codemirror_mode": {
        "name": "ipython",
        "version": 3
      },
      "file_extension": ".py",
      "mimetype": "text/x-python",
      "name": "python",
      "nbconvert_exporter": "python",
      "pygments_lexer": "ipython3",
      "version": "3.6.4"
    }
  },
  "nbformat": 4,
  "nbformat_minor": 2
}