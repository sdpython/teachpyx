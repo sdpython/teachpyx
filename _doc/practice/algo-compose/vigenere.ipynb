{
 "cells": [
  {
   "cell_type": "markdown",
   "metadata": {},
   "source": [
    "# Casser le code de Vigenère\n",
    "\n",
    "La lettre la plus fréquente en français est la lettre E. Cette information permet de casser le code de César en calculant le décalage entre la lettre la plus fréquente du message codé et E. Mais cette même méthode ne marchera pas pour casser le [code de Vigenère](https://fr.wikipedia.org/wiki/Chiffre_de_Vigen%C3%A8re). Babbage a contourné cet obstacle en étudiant la fréquence des groupes de trois lettres."
   ]
  },
  {
   "cell_type": "markdown",
   "metadata": {},
   "source": [
    "[Charles Babbage](http://fr.wikipedia.org/wiki/Charles_Babbage) s'est dit qu'un groupe de trois lettres consécutives avaient toutes les chances, à chaque fois qu'il apparaissait dans le message chiffré, d'être la conséquence du chiffrement des mêmes lettres du message avec les mêmes lettres de la clé (voir [Cryptanalyse du chiffre de Vigenère](http://fr.wikipedia.org/wiki/Cryptanalyse_du_chiffre_de_Vigen%C3%A8re)). Pour un groupe de quatre lettres, c'est encore plus probable. Par conséquent, l'espacement entre deux mêmes groupes de lettres chiffrées est un multiple de la longueur de la clé. Par exemple, si la répétition d'un groupe est espacée de 30 lettres, puis celle d'un autre de 25, le plus grand diviseur commun de 25 et 30 est 5. La clé possède donc dans ce cas 5 lettres.\n",
    "\n",
    "La première fonction crypte et décrypte le code de Vigenère connaissant la clé."
   ]
  },
  {
   "cell_type": "code",
   "execution_count": 1,
   "metadata": {},
   "outputs": [],
   "source": [
    "def code_vigenere(message, cle, decode=False):\n",
    "    message_code = \"\"\n",
    "    for i, c in enumerate(message):\n",
    "        d = cle[i % len(cle)]\n",
    "        d = ord(d) - 65\n",
    "        if decode:\n",
    "            d = 26 - d\n",
    "        message_code += chr((ord(c) - 65 + d) % 26 + 65)\n",
    "    return message_code\n",
    "\n",
    "\n",
    "def DecodeVigenere(message, cle):\n",
    "    return code_vigenere(message, cle, True)\n",
    "\n",
    "\n",
    "def CodeVigenere(message, cle):\n",
    "    return code_vigenere(message, cle)"
   ]
  },
  {
   "cell_type": "markdown",
   "metadata": {},
   "source": [
    "Les deux fonctions suivantes estime la longueur de la clé."
   ]
  },
  {
   "cell_type": "code",
   "execution_count": 2,
   "metadata": {},
   "outputs": [],
   "source": [
    "def PGCD(m, n):\n",
    "    if m <= 0 or n <= 0:\n",
    "        raise Exception(\"impossible de calculer le PGCD\")\n",
    "    if m == 1 or n == 1:\n",
    "        return 1\n",
    "    if m == n:\n",
    "        return m\n",
    "    if m < n:\n",
    "        return PGCD(m, n - m)\n",
    "    return PGCD(n, m - n)\n",
    "\n",
    "\n",
    "def DecodeVigenereLongueurCle(message, mot=3):\n",
    "    \"\"\"\n",
    "    cette fonction determine la longueur de la clé, elle\n",
    "    repère les groupes de trois lettres qui se répète dans le message codé\n",
    "    et suppose qu'il y a une très forte probabilité qu'un même groupe de trois\n",
    "    lettres soit codé avec les mêmes trois lettres du message et les mêmes trois\n",
    "    lettres de la clé\n",
    "\n",
    "    message  : .....DES...........DES...........DES.........DES....DES\n",
    "    cle      : ABCDABCDABCDABCDABCDABCDABCDABCDABCDABCDABCDABCDABCDABCDABCD\n",
    "    code     : .....EGV.........................EGV.........EGV..........\n",
    "    distance :      <----------24--------------><----8----->\n",
    "\n",
    "    la longueur de la clé divise le PGCD de 24 et 8\n",
    "    \"\"\"\n",
    "    al = \"\".join([chr(97 + i) for i in range(0, 26)])  # l'alphabet\n",
    "    al = al.upper()\n",
    "\n",
    "    # parcours du message pour recenser toutes les positions\n",
    "    dico = {}\n",
    "    for i in range(0, len(message) - 2):\n",
    "        t = message[i : i + mot]\n",
    "        if t in dico:\n",
    "            dico[t].append(i)\n",
    "        else:\n",
    "            dico[t] = [i]\n",
    "\n",
    "    # on va garder toutes les distances entre\n",
    "    # entre deux occurrences du meme mot de n lettres\n",
    "    dis = []\n",
    "    for d in dico:\n",
    "        p = dico[d]\n",
    "        if len(p) > 1:\n",
    "            for i in range(0, len(p) - 1):\n",
    "                # print d, p [i+1] - p [i], \" --- \", float (p [i+1] - p [i]) / 8\n",
    "                dis.append(p[i + 1] - p[i])\n",
    "\n",
    "    # on extrait le PGCD\n",
    "    if len(dis) == 0:\n",
    "        raise Exception(\"impossible de determiner la clé\")\n",
    "\n",
    "    if len(dis) == 1:\n",
    "        return dis[0]\n",
    "\n",
    "    longueur = PGCD(dis[0], dis[1])\n",
    "    for d in dis:\n",
    "        longueur = PGCD(longueur, d)\n",
    "\n",
    "    if longueur > 5:\n",
    "        # si la longueur est suffisante, le resultat a des chances d'etre bon\n",
    "        return longueur\n",
    "    else:\n",
    "        # sinon, on relance l'algorithme avec des mots plus grand\n",
    "        return DecodeVigenereLongueurCle(message, mot + 1)"
   ]
  },
  {
   "cell_type": "markdown",
   "metadata": {},
   "source": [
    "La fonction suivante casse le code de Vigenère connaissance la longueur de la clé."
   ]
  },
  {
   "cell_type": "code",
   "execution_count": 3,
   "metadata": {},
   "outputs": [],
   "source": [
    "def DecodeVigenereCle(code, l):\n",
    "    \"\"\"\n",
    "    Détermine la cle du message code, connaissant sa longueur,\n",
    "    on suppose que la lettre E est la lettre la plus fréquente\n",
    "\n",
    "    @param      code        message codé\n",
    "    @param      l           longueur probable de la clé\n",
    "    @return                 message décodé\n",
    "    \"\"\"\n",
    "    al = \"\".join([chr(97 + i) for i in range(0, 26)])\n",
    "    al = al.upper()\n",
    "    cle = \"\"\n",
    "    for i in range(0, l):\n",
    "        nombre = [0 for a in al]\n",
    "        sous = code[i : len(code) : l]  # on extrait toutes les lettres\n",
    "        # i, i+l, i+2l; i+3l, ...\n",
    "\n",
    "        # on compte les lettres\n",
    "        for k in sous:\n",
    "            nombre[al.find(k)] += 1\n",
    "\n",
    "        # on cherche le maximum\n",
    "        p = 0\n",
    "        for k in range(0, len(nombre)):\n",
    "            if nombre[k] > nombre[p]:\n",
    "                p = k\n",
    "\n",
    "        # on suppose que al [p] est la lettre E code,\n",
    "        # il ne reste plus qu'a trouver la lettre de la cle\n",
    "        # qui a permis de coder E en al [p]\n",
    "        cle += al[(p + 26 - al.find(\"E\")) % 26]\n",
    "\n",
    "    return cle"
   ]
  },
  {
   "cell_type": "markdown",
   "metadata": {},
   "source": [
    "Enfin, la dernière fonction qui casse le code en appelant toutes les autres :"
   ]
  },
  {
   "cell_type": "code",
   "execution_count": 4,
   "metadata": {},
   "outputs": [],
   "source": [
    "def CasseVigenere(message):\n",
    "    \"\"\"\n",
    "    appelle les deux fonctions @see fn DecodeVigenereLongueurCle et\n",
    "    @see fn DecodeVigenereCle pour casser le code de Vigenère\n",
    "\n",
    "    @param      message     message codé\n",
    "    @return                 message décodé (sans la clé)\n",
    "    \"\"\"\n",
    "    l = DecodeVigenereLongueurCle(message)\n",
    "    cle = DecodeVigenereCle(message, l)\n",
    "    decode = DecodeVigenere(message, cle)\n",
    "    return decode"
   ]
  },
  {
   "cell_type": "markdown",
   "metadata": {},
   "source": [
    "Un petit example avec le [dernier jour d'un condamné](https://www.gutenberg.org/ebooks/6838) qu'on récupère depuis le site [Gutenberg](https://www.gutenberg.org/) :"
   ]
  },
  {
   "cell_type": "code",
   "execution_count": 9,
   "metadata": {},
   "outputs": [
    {
     "data": {
      "text/plain": [
       "218451"
      ]
     },
     "execution_count": 9,
     "metadata": {},
     "output_type": "execute_result"
    }
   ],
   "source": [
    "from urllib.request import urlopen\n",
    "\n",
    "url = (\n",
    "    \"https://github.com/sdpython/teachpyx/raw/main/_data/hugo_dernier_jour_condamne.txt\"\n",
    ")\n",
    "with urlopen(url) as u:\n",
    "    text = u.read().decode(\"utf-8\")\n",
    "len(text)"
   ]
  },
  {
   "cell_type": "markdown",
   "metadata": {},
   "source": [
    "On enlève les caractères indésirables :"
   ]
  },
  {
   "cell_type": "code",
   "execution_count": 10,
   "metadata": {},
   "outputs": [],
   "source": [
    "message = (\n",
    "    text.replace(\"\\n\", \"\")\n",
    "    .replace(\"\\r\", \"\")\n",
    "    .replace(\"\\t\", \"\")\n",
    "    .replace(\" \", \"\")\n",
    "    .replace(\",\", \"\")\n",
    ")\n",
    "message = (\n",
    "    message.replace(\";\", \"\")\n",
    "    .replace(\":\", \"\")\n",
    "    .replace(\".\", \"\")\n",
    "    .replace(\"'\", \"\")\n",
    "    .replace('\"', \"\")\n",
    ")\n",
    "message = (\n",
    "    message.replace(\"-\", \"\")\n",
    "    .replace(\"!\", \"\")\n",
    "    .replace(\"?\", \"\")\n",
    "    .replace(\"(\", \"\")\n",
    "    .replace(\")\", \"\")\n",
    ")\n",
    "message = message.upper()"
   ]
  },
  {
   "cell_type": "markdown",
   "metadata": {},
   "source": [
    "On le code une clé :"
   ]
  },
  {
   "cell_type": "code",
   "execution_count": 11,
   "metadata": {},
   "outputs": [],
   "source": [
    "message = message[5000:7000]  # on réduit la taille du message\n",
    "code = CodeVigenere(message, \"VIGENERES\")"
   ]
  },
  {
   "cell_type": "markdown",
   "metadata": {},
   "source": [
    "Puis on essaye de retrouver la clé :"
   ]
  },
  {
   "cell_type": "code",
   "execution_count": 12,
   "metadata": {},
   "outputs": [
    {
     "data": {
      "text/plain": [
       "'VIGENERES'"
      ]
     },
     "execution_count": 12,
     "metadata": {},
     "output_type": "execute_result"
    }
   ],
   "source": [
    "cle_code = DecodeVigenereCle(code, DecodeVigenereLongueurCle(code))\n",
    "cle_code"
   ]
  },
  {
   "cell_type": "code",
   "execution_count": null,
   "metadata": {},
   "outputs": [],
   "source": []
  }
 ],
 "metadata": {
  "kernelspec": {
   "display_name": "Python 3",
   "language": "python",
   "name": "python3"
  },
  "language_info": {
   "codemirror_mode": {
    "name": "ipython",
    "version": 3
   },
   "file_extension": ".py",
   "mimetype": "text/x-python",
   "name": "python",
   "nbconvert_exporter": "python",
   "pygments_lexer": "ipython3",
   "version": "3.10.6"
  }
 },
 "nbformat": 4,
 "nbformat_minor": 1
}
