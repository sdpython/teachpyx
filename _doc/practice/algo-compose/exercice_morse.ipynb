{
 "cells": [
  {
   "cell_type": "markdown",
   "metadata": {},
   "source": [
    "# Décoder du Morse sans espaces\n",
    "\n",
    "Le code [Morse](http://fr.wikipedia.org/wiki/Morse_(alphabet)) était utilisé au siècle dernier pour les transmissions. Chaque lettre est représentée par une séquence de points et tirets. Comment décoder ce code ? Notion abordée : graphe, programmation dynamique, trie."
   ]
  },
  {
   "cell_type": "code",
   "execution_count": 3,
   "metadata": {},
   "outputs": [
    {
     "data": {
      "image/png": "[encoded data removed]",
      "text/plain": [
       "<IPython.core.display.Image object>"
      ]
     },
     "execution_count": 3,
     "metadata": {},
     "output_type": "execute_result"
    }
   ],
   "source": [
    "from IPython.display import Image\n",
    "\n",
    "Image(\"330px-International_Morse_Code-fr.svg.png\")"
   ]
  },
  {
   "cell_type": "markdown",
   "metadata": {},
   "source": [
    "On se propose de répondre à deux questions :\n",
    "\n",
    "- Comment traduire un texte Morse lorsque celui-ci ne contient pas d'espace ?\n",
    "- En vous inspirant de ce graphe [Arbre mnémotechnique de décodage](http://fr.wikipedia.org/wiki/Morse_(alphabet)#Arbre_mn.C3.A9motechnique_de_d.C3.A9codage), construire un nouvel alphabet Morse qui réduise la transcription d'un texte en particulier. On appliquera l'algorithme à :\n",
    "    - [L'homme qui rit](https://www.gutenberg.org/files/5423/5423-0.txt)\n",
    "    - [The man who laughs](https://www.gutenberg.org/cache/epub/12587/pg12587.txt)"
   ]
  },
  {
   "cell_type": "markdown",
   "metadata": {},
   "source": [
    "## Enoncés"
   ]
  },
  {
   "cell_type": "markdown",
   "metadata": {},
   "source": [
    "### Exercice 1 : Traduire un texte Morse qui ne contient pas d'espace\n",
    "\n",
    "Ce sujet est un exercice classique de programmation. Il est déjà résolu et expliqué sur [Codingame](http://www.synbioz.com/blog/exercice_de_programmation_codingame). Mais on pourra par exemple commencer par utiliser une expression régulière. Une autre option consiste à utiliser un *trie*."
   ]
  },
  {
   "cell_type": "markdown",
   "metadata": {},
   "source": [
    "### Exercice 2 : calculer l'alphabet qui minimise une transcription\n",
    "\n",
    "Cette optimisation est possible puisque l'alphabet Morse transcrit les lettres avec des codes de longueurs différentes. Il faudra aussi vérifier qu'une fois l'alphabet choisi, il n'autorise qu'un seul décodage de la transcription. On suppose qu'on conserve les contraintes du Morse : chaque lettre de l'alphabet est constituée de traits courts et long et qu'il n'y a pas de séparation entre lettres. Vous pouvez vous inspirez de cet article sur la [Compression de données](http://fr.wikipedia.org/wiki/Compression_de_donn%C3%A9es) ou celui sur le [code de Huffman](http://fr.wikipedia.org/wiki/Codage_de_Huffman)."
   ]
  },
  {
   "cell_type": "markdown",
   "metadata": {},
   "source": [
    "## Solutions\n",
    "\n",
    "On remarque que tous les chiffres sont codés sur cinq caractères alors que les lettres non. Cela vient du fait que toutes les combinaisons de lettres ne sont pas possible. En alphabet morse ``H=EEE=ooo`` mais aucun mot ne contient de séquence ``EEE``. En pratique *26 + 10 + 1 = 37* et $2^5 < 37 < 2^6$. Cela explique le choix des 5 traits ou points pour les chiffres au maximum. Les tailles sont plus courtes pour les lettres car toutes les combinaisons ne sont pas possibles. On voit aussi que les lettres fréquentes sont des séquences courtes en morse. La séquence ``ooo-ooo`` peut dire ``EELE`` ou ``STS``."
   ]
  },
  {
   "cell_type": "markdown",
   "metadata": {},
   "source": [
    "### Solution au problème 1"
   ]
  },
  {
   "cell_type": "code",
   "execution_count": 4,
   "metadata": {},
   "outputs": [],
   "source": [
    "alphabet = dict(\n",
    "    A=\"o-\",\n",
    "    B=\"-ooo\",\n",
    "    C=\"-o-o\",\n",
    "    D=\"-oo\",\n",
    "    E=\"o\",\n",
    "    F=\"oo-o\",\n",
    "    G=\"--o\",\n",
    "    H=\"oooo\",\n",
    "    I=\"oo\",\n",
    "    J=\"o---\",\n",
    "    K=\"-o-\",\n",
    "    L=\"o-oo\",\n",
    "    M=\"--\",\n",
    "    N=\"-o\",\n",
    "    O=\"---\",\n",
    "    P=\"o--o\",\n",
    "    Q=\"--o-\",\n",
    "    R=\"o-o\",\n",
    "    S=\"ooo\",\n",
    "    T=\"-\",\n",
    "    U=\"oo-\",\n",
    "    V=\"ooo-\",\n",
    "    W=\"o--\",\n",
    "    X=\"-oo-\",\n",
    "    Y=\"-o--\",\n",
    "    Z=\"--oo\",\n",
    ")\n",
    "alphabet.update(\n",
    "    {\n",
    "        \"0\": \"-----\",\n",
    "        \"1\": \"o----\",\n",
    "        \"2\": \"oo---\",\n",
    "        \"3\": \"ooo--\",\n",
    "        \"4\": \"oooo-\",\n",
    "        \"5\": \"ooooo\",\n",
    "        \"6\": \"-oooo\",\n",
    "        \"7\": \"--ooo\",\n",
    "        \"8\": \"---oo\",\n",
    "        \"9\": \"----o\",\n",
    "    }\n",
    ")"
   ]
  },
  {
   "cell_type": "code",
   "execution_count": 5,
   "metadata": {},
   "outputs": [
    {
     "data": {
      "text/plain": [
       "'-oo-o-ooo-oooo-o'"
      ]
     },
     "execution_count": 5,
     "metadata": {},
     "output_type": "execute_result"
    }
   ],
   "source": [
    "def word2morse(word, alpha=None):\n",
    "    \"Code un mot en morse\"\n",
    "    if alpha is None:\n",
    "        alpha = alphabet\n",
    "    return \"\".join(alpha[c] for c in word)\n",
    "\n",
    "\n",
    "word2morse(\"XAVIER\")"
   ]
  },
  {
   "cell_type": "code",
   "execution_count": 6,
   "metadata": {},
   "outputs": [
    {
     "data": {
      "text/plain": [
       "'o-ooooooo----o'"
      ]
     },
     "execution_count": 6,
     "metadata": {},
     "output_type": "execute_result"
    }
   ],
   "source": [
    "word2morse(\"LISON\")"
   ]
  },
  {
   "cell_type": "code",
   "execution_count": 7,
   "metadata": {},
   "outputs": [
    {
     "data": {
      "text/plain": [
       "('ooo-ooo', 'ooo-ooo')"
      ]
     },
     "execution_count": 7,
     "metadata": {},
     "output_type": "execute_result"
    }
   ],
   "source": [
    "word2morse(\"EELE\"), word2morse(\"STS\")"
   ]
  },
  {
   "cell_type": "markdown",
   "metadata": {},
   "source": [
    "### Solution au problème 2 avec des expressions régulières\n",
    "\n",
    "On utilise une expression régulière pour découper en mot tout en sachant qu'on ne sait pas ce que les ambiguïtés pourraient devenir."
   ]
  },
  {
   "cell_type": "code",
   "execution_count": 8,
   "metadata": {},
   "outputs": [
    {
     "data": {
      "text/plain": [
       "'^((o-)|(-ooo)|(-o-o)|(-oo)|(o)|(oo-o)|(--o)|(oooo)|(oo)|(o---)|(-o-)|(o-oo)|(--)|(-o)|(---)|(o--o)|(--o-)|(o-o)|(ooo)|(-)|(oo-)|(ooo-)|(o--)|(-oo-)|(-o--)|(--oo)|(-----)|(o----)|(oo---)|(ooo--)|(oooo-)|(ooooo)|(-oooo)|(--ooo)|(---oo)|(----o))+$'"
      ]
     },
     "execution_count": 8,
     "metadata": {},
     "output_type": "execute_result"
    }
   ],
   "source": [
    "exp = \"^({})+$\".format(\"|\".join(\"({})\".format(v) for v in alphabet.values()))\n",
    "exp"
   ]
  },
  {
   "cell_type": "code",
   "execution_count": 9,
   "metadata": {},
   "outputs": [
    {
     "name": "stdout",
     "output_type": "stream",
     "text": [
      "-o -> N\n",
      "-o-o -> C\n",
      "-o -> N\n"
     ]
    }
   ],
   "source": [
    "import re\n",
    "\n",
    "rev_alpha = {v: k for k, v in alphabet.items()}\n",
    "reg_exp = re.compile(exp)\n",
    "for el in reg_exp.finditer(\"-o-o-o-o-o\"):\n",
    "    for gr in el.groups():\n",
    "        if gr is None:\n",
    "            continue\n",
    "        print(gr, \"->\", rev_alpha.get(gr, \"?\"))"
   ]
  },
  {
   "cell_type": "markdown",
   "metadata": {},
   "source": [
    "Ce n'est pas hyperprobant. Je me souviens d'avoir lu quelque chose qui parlait des problèmes de répétitions dans les expressions régulières sans pouvoir vraiment m'en souvenir. Alors pour faire simple et pas efficace, j'ai décidé de relancer une recherche après avoir ôté la première trouvée."
   ]
  },
  {
   "cell_type": "code",
   "execution_count": 10,
   "metadata": {},
   "outputs": [
    {
     "data": {
      "text/plain": [
       "['-o', '-o-o', '-o-o']"
      ]
     },
     "execution_count": 10,
     "metadata": {},
     "output_type": "execute_result"
    }
   ],
   "source": [
    "dec_exp = \"-o-o-o-o-o\"\n",
    "\n",
    "res = []\n",
    "while len(dec_exp) > 0:\n",
    "    for el in reg_exp.finditer(dec_exp):\n",
    "        for gr in el.groups():\n",
    "            if gr is None:\n",
    "                continue\n",
    "            res.append(gr)\n",
    "            dec_exp = dec_exp[len(gr) :]\n",
    "            break\n",
    "        break\n",
    "res"
   ]
  },
  {
   "cell_type": "code",
   "execution_count": 11,
   "metadata": {},
   "outputs": [
    {
     "data": {
      "text/plain": [
       "['N', 'C', 'C']"
      ]
     },
     "execution_count": 11,
     "metadata": {},
     "output_type": "execute_result"
    }
   ],
   "source": [
    "[rev_alpha[r] for r in res]"
   ]
  },
  {
   "cell_type": "markdown",
   "metadata": {},
   "source": [
    "La fonction de décodage pourrait se suffire des trois dernières lignes, on vérifie qu'elle décode bien les lettres."
   ]
  },
  {
   "cell_type": "code",
   "execution_count": 12,
   "metadata": {
    "scrolled": false
   },
   "outputs": [
    {
     "data": {
      "text/plain": [
       "('oooo', 'EEEE')"
      ]
     },
     "execution_count": 12,
     "metadata": {},
     "output_type": "execute_result"
    }
   ],
   "source": [
    "def decode_morse(word, reg=None, alpha=None):\n",
    "    if alpha is None:\n",
    "        alpha = alphabet\n",
    "    rev_alpha = {v: k for k, v in alpha.items()}\n",
    "    if reg is None:\n",
    "        exp = \"^({})+$\".format(\"|\".join(\"({})\".format(v) for v in rev_alpha.keys()))\n",
    "        reg = re.compile(exp)\n",
    "\n",
    "    res = []\n",
    "    while len(word) > 0:\n",
    "        for el in reg_exp.finditer(word):\n",
    "            for gr in el.groups():\n",
    "                if gr is None:\n",
    "                    continue\n",
    "                res.append(gr)\n",
    "                word = word[len(gr) :]\n",
    "                break\n",
    "            break\n",
    "    return \"\".join(rev_alpha.get(g, g) for g in res)\n",
    "\n",
    "\n",
    "word = \"EEEE\"\n",
    "word2morse(word), decode_morse(word2morse(word))"
   ]
  },
  {
   "cell_type": "markdown",
   "metadata": {},
   "source": [
    "La fonction gère mal les confusions comme le montre la table suivante."
   ]
  },
  {
   "cell_type": "code",
   "execution_count": 13,
   "metadata": {},
   "outputs": [
    {
     "data": {
      "text/plain": [
       "('oo-o', 'EEN')"
      ]
     },
     "execution_count": 13,
     "metadata": {},
     "output_type": "execute_result"
    }
   ],
   "source": [
    "word = \"F\"\n",
    "word2morse(word), decode_morse(word2morse(word))"
   ]
  },
  {
   "cell_type": "code",
   "execution_count": 14,
   "metadata": {},
   "outputs": [
    {
     "name": "stdout",
     "output_type": "stream",
     "text": [
      "5 ooooo  EEEEE\n",
      "6 -oooo  EEEEE\n",
      "7 --ooo  EB\n",
      "8 ---oo  DEE\n",
      "9 ----o  GN\n",
      "A o-     A\n",
      "B -ooo   B\n",
      "C -o-o   C\n",
      "D -oo    D\n",
      "E o      E\n",
      "F oo-o   EEN\n"
     ]
    }
   ],
   "source": [
    "for letter in sorted(alphabet)[5:16]:\n",
    "    m = word2morse(letter)\n",
    "    m += \" \" * (6 - len(m))\n",
    "    print(letter, m, decode_morse(word2morse(letter)))"
   ]
  },
  {
   "cell_type": "markdown",
   "metadata": {},
   "source": [
    "Pour améliorer le décodage, il faudrait améliorer l'expression régulière pour placer les lettres morses les plus longues."
   ]
  },
  {
   "cell_type": "code",
   "execution_count": 15,
   "metadata": {},
   "outputs": [
    {
     "data": {
      "text/plain": [
       "('ooooo', 'EEEEE')"
      ]
     },
     "execution_count": 15,
     "metadata": {},
     "output_type": "execute_result"
    }
   ],
   "source": [
    "def decode_morse_longer_first(word, reg=None, alpha=None):\n",
    "    if alpha is None:\n",
    "        alpha = alphabet\n",
    "    rev_alpha = {v: k for k, v in alpha.items()}\n",
    "    if reg is None:\n",
    "        keys = [\n",
    "            k[1] for k in sorted([(len(k), k) for k in rev_alpha.keys()], reverse=True)\n",
    "        ]\n",
    "        exp = \"^({})+$\".format(\"|\".join(\"({})\".format(v) for v in keys))\n",
    "        reg = re.compile(exp)\n",
    "\n",
    "    res = []\n",
    "    while len(word) > 0:\n",
    "        for el in reg_exp.finditer(word):\n",
    "            for gr in el.groups():\n",
    "                if gr is None:\n",
    "                    continue\n",
    "                res.append(gr)\n",
    "                word = word[len(gr) :]\n",
    "                break\n",
    "            break\n",
    "    return \"\".join(rev_alpha.get(g, g) for g in res)\n",
    "\n",
    "\n",
    "word = \"5\"\n",
    "word2morse(word), decode_morse_longer_first(word2morse(word))"
   ]
  },
  {
   "cell_type": "markdown",
   "metadata": {},
   "source": [
    "Ca ne marche pas mieux... J'ai la flemme de chercher pourquoi. La solution la plus simple me paraît de simplifier l'expression régulière pour éviter d'avoir des choses comme ``(aaaa|a)+`` mais pluôt ``a{1,4}``. Ca me paraît plus drôle d'écrire un algorithme qui compresse une liste de patrons en une expression régulière ou de faire mon propre algorithme et de sortir toutes les interprétations possibles."
   ]
  },
  {
   "cell_type": "markdown",
   "metadata": {},
   "source": [
    "### Solution au problème 2 : toutes les interprétations\n",
    "\n",
    "L'objectif est de sortir toutes les interprétations possibles. ``oo`` peut être ``I`` ou ``EE``. La version qui suit est loin d'être la plus efficace... La version actuelle n'est pas la plus efficace. On cherche simple à trouver tous les chemins possibles reliant deux noeuds d'un graphe. On peut aussi utiliser des [Graph Transformer Network](https://leon.bottou.org/publications/pdf/cvpr-1997.pdf). On peut également voir cela comme un système de [complétion](https://sdpython.github.io/doc/mlstatpy/dev/c_nlp/completion.html) (les listes déroulantes de préfix dans les barres de saisie sur Internet). Dans ce second cas, les suggestions serait les lettres morses."
   ]
  },
  {
   "cell_type": "code",
   "execution_count": 16,
   "metadata": {
    "scrolled": false
   },
   "outputs": [
    {
     "data": {
      "text/plain": [
       "['EE', 'I']"
      ]
     },
     "execution_count": 16,
     "metadata": {},
     "output_type": "execute_result"
    }
   ],
   "source": [
    "def decompose_morse(word, alpha=None):\n",
    "    if alpha is None:\n",
    "        alpha = alphabet\n",
    "    rev_alpha = {v: k for k, v in alpha.items()}\n",
    "    letters = list(sorted(alpha.values()))\n",
    "\n",
    "    options = [([], 0)]\n",
    "    addition = 1\n",
    "    while addition > 0:\n",
    "        addition = 0\n",
    "        new_options = []\n",
    "        for stack, pos in options:\n",
    "            if pos == len(word):\n",
    "                new_options.append((stack, pos))\n",
    "            else:\n",
    "                prefix = word[pos:]\n",
    "                for w in letters:\n",
    "                    if prefix.startswith(w):\n",
    "                        path = stack.copy()\n",
    "                        path.append(w)\n",
    "                        new_options.append((path, pos + len(w)))\n",
    "                        addition += 1\n",
    "        options = new_options\n",
    "\n",
    "    unique = set()\n",
    "    for stack, pos in options:\n",
    "        if pos != len(word):\n",
    "            continue\n",
    "        path = tuple(stack)\n",
    "        unique.add(\"\".join(rev_alpha.get(c, c) for c in path))\n",
    "\n",
    "    return list(sorted(unique))\n",
    "\n",
    "\n",
    "decompose_morse(\"oo\")"
   ]
  },
  {
   "cell_type": "markdown",
   "metadata": {},
   "source": [
    "Le code morse laisse plein d'ambiguïtés qu'il faut éliminer à l'aide d'un dictionnaire."
   ]
  },
  {
   "cell_type": "code",
   "execution_count": 17,
   "metadata": {},
   "outputs": [
    {
     "data": {
      "text/plain": [
       "['DK',\n",
       " 'DNT',\n",
       " 'DTA',\n",
       " 'DTET',\n",
       " 'NAA',\n",
       " 'NAET',\n",
       " 'NEK',\n",
       " 'NENT',\n",
       " 'NETA',\n",
       " 'NETET',\n",
       " 'NRT',\n",
       " 'TEAA',\n",
       " 'TEAET',\n",
       " 'TEEK',\n",
       " 'TEENT',\n",
       " 'TEETA',\n",
       " 'TEETET',\n",
       " 'TERT',\n",
       " 'TFT',\n",
       " 'TIK',\n",
       " 'TINT',\n",
       " 'TITA',\n",
       " 'TITET',\n",
       " 'TUA',\n",
       " 'TUET',\n",
       " 'XA',\n",
       " 'XET']"
      ]
     },
     "execution_count": 17,
     "metadata": {},
     "output_type": "execute_result"
    }
   ],
   "source": [
    "decompose_morse(word2morse(\"XA\"))"
   ]
  },
  {
   "cell_type": "markdown",
   "metadata": {},
   "source": [
    "Vu l'explosion des possibilités, j'en déduis que les télégraphes devaient marquer une sorte de pause entre les lettres."
   ]
  }
 ],
 "metadata": {
  "kernelspec": {
   "display_name": "Python 3 (ipykernel)",
   "language": "python",
   "name": "python3"
  },
  "language_info": {
   "codemirror_mode": {
    "name": "ipython",
    "version": 3
   },
   "file_extension": ".py",
   "mimetype": "text/x-python",
   "name": "python",
   "nbconvert_exporter": "python",
   "pygments_lexer": "ipython3",
   "version": "3.10.6"
  }
 },
 "nbformat": 4,
 "nbformat_minor": 1
}
