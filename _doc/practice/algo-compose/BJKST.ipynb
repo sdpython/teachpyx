{
 "cells": [
  {
   "cell_type": "markdown",
   "metadata": {},
   "source": [
    "# Algorithmes de streaming, BJKST\n",
    "\n",
    "Les streams (flux) de données sont aujourd'hui présents dans de nombreux domaines (réseaux sociaux, e-commerce, logs de connexion Internet, etc.). L'analyse rapide et pertinente de ces flux est motivée par l'immensité des données qui ne peuvent souvent pas être stockés (du moins facilement) et dont le traitement serait trop lourd (penser au calcul de l'âge moyen des 1,86 milliards utilisateurs de Facebook pour s'en convaincre). Ce notebook s'intéresse particulièrement à l'algorithme [BJKST](http://info.prelert.com/blog/hashing-and-approximate-distinct-value-counts)."
   ]
  },
  {
   "cell_type": "code",
   "execution_count": 63,
   "metadata": {
    "collapsed": true
   },
   "outputs": [],
   "source": [
    "%matplotlib inline"
   ]
  },
  {
   "cell_type": "markdown",
   "metadata": {},
   "source": [
    "## Introduction\n",
    "\n",
    "Plus formellement considérons un univers $U$ de taille $n$ (un nombre très grand) qui ne peut être stocké en mémoire et une séquence $S = (s_1, s_2, \\ldots, s_m, \\ldots)$ d'éléments de $U$. Un algorithme de streaming $\\mathcal{A}$ prend le stream $S$ en entrée et renvoie une fonction $f(S)$ (souvent à valeurs réelles).\n",
    "\n",
    "Notons que l'algorithme $\\mathcal{A}$ est souvent contraint d'accéder séquentiellement aux éléments de $S$ et / ou ne peut les parcourir qu'un nombre fini de fois.\n",
    "\n",
    "Un bon algorithme de streaming doit satisfaire plusieurs contraintes:\n",
    "\n",
    "- Il doit être un bon estimateur de la vraie valeur que prendrait $f^*(U)$ sur l'univers (plus de détails dans un instant)\n",
    "- Il doit pouvoir s'actualiser rapidement (en temps linéaire ou moins) à mesure que le flux $S$ évolue\n",
    "- Il doit être peu gourmand en mémoire\n",
    "\n",
    "Etant donné une précision $\\epsilon > 0$ et une tolérance $\\delta > 0$, l'algorithme $\\mathcal{A}$ doît satisfaire:\n",
    "\n",
    "$\\mathbb{P}(\\lvert \\frac{f^*(U) - f(S)}{f(S)} \\rvert \\leq \\epsilon) \\geq 1 - \\delta.$\n",
    "\n",
    "Quelques exemples fréquents d'algorithmes de streaming:\n",
    "\n",
    "- Estimation de la valeur moyenne, de la médiane\n",
    "- Estimation du nombre d'éléments distincts\n",
    "- Estimation de la fréquences des élements\n",
    "- Estimation de la densité de probabilité"
   ]
  },
  {
   "cell_type": "markdown",
   "metadata": {},
   "source": [
    "## Estimer le nombre d'éléments distincts: l'algorithme BJKST\n",
    "\n",
    "L'algorithme [BJKST](https://pdfs.semanticscholar.org/e349/7952347101a3535434bc35d378224cf87bcc.pdf) permet d'estimer le nombre d'éléments distincts d'un stream $S$. Son fonctionnement est assez simple et repose sur la notion d'universal hashing que nous présentons ci-bas."
   ]
  },
  {
   "cell_type": "markdown",
   "metadata": {},
   "source": [
    "### Universal hashing\n",
    "\n",
    "L'idée derrière les fonctions de hachage est de faire correspondre des élements d'un ensemble dont la taille est variable (ou bien n'est pas connue) vers un ensemble de taille fixe. Le principe de l'universal hashing est de sélectionner aléatoirement une fonction $h$ dans une famille de fonctions de hachage $\\mathcal{H}$ et de garantir un faible probabilité du nombre de collisions de hachage. \n",
    "\n",
    "Formellement si l'on note $[n]$ l'ensemble $\\{1, \\ldots, n\\}$, une famille de fonctions $\\mathcal{H}$ est dite <i>universelle</i> si toute fonction $h: U \\mapsto [n]$ choisie uniformément dans la famille $\\mathcal{H}$ vérifie $\\mathbb{P}(h(x) = h(y)) \\leq \\frac{1}{n}$ pour tout couple $x,y \\in U$ distincts.\n",
    "\n",
    "Nous considérons ici la famille $\\mathcal{H} = \\{h_{a,b}\\}$ où $h_{a,b}(x) = ((ax + b) \\space{} \\mathrm{mod} \\space{} p) \\space{} \\mathrm{mod} \\space{} n$, $x$ est un entier, $a \\in \\{1, \\ldots, p - 1\\}$, $b \\in \\{0, \\ldots, p - 1 \\}$ et $p$ un nombre premier $\\geq n$. On peut sans trop de difficulté se convaincre que $h_{a,b}(x)$ est uniformément distribué sur $[n]$ et que cette famille est universelle (voir [Universal hashing](https://en.wikipedia.org/wiki/Universal_hashing) pour plus de détails)."
   ]
  },
  {
   "cell_type": "markdown",
   "metadata": {},
   "source": [
    "### Collisions\n",
    "\n",
    "Vérifions numériquement le nombre de collisions. Considérons un univers $U$ large prenons par exemple $U = [n]$ avec $n$ grand."
   ]
  },
  {
   "cell_type": "code",
   "execution_count": 64,
   "metadata": {
    "collapsed": true
   },
   "outputs": [],
   "source": [
    "n = 10**4\n",
    "U = list(range(n))"
   ]
  },
  {
   "cell_type": "markdown",
   "metadata": {},
   "source": [
    "Choisissons $p$ un nombre premier arbitrairement grand et une petite valeur de hashage."
   ]
  },
  {
   "cell_type": "code",
   "execution_count": 65,
   "metadata": {
    "collapsed": true
   },
   "outputs": [],
   "source": [
    "p = 4294967291\n",
    "m = 10"
   ]
  },
  {
   "cell_type": "markdown",
   "metadata": {},
   "source": [
    "Choisissons une fonction $h$ uniformément dans la famille $\\mathcal{H}$"
   ]
  },
  {
   "cell_type": "code",
   "execution_count": 66,
   "metadata": {
    "collapsed": true
   },
   "outputs": [],
   "source": [
    "import random\n",
    "\n",
    "a = random.randint(1, p)\n",
    "b = random.randint(0, p)\n",
    "\n",
    "\n",
    "def h(x):\n",
    "    return ((a * x + b) % p) % m"
   ]
  },
  {
   "cell_type": "markdown",
   "metadata": {},
   "source": [
    "Tirons des couples $(x,y)$ distincts dans $U$"
   ]
  },
  {
   "cell_type": "code",
   "execution_count": 67,
   "metadata": {},
   "outputs": [
    {
     "name": "stdout",
     "output_type": "stream",
     "text": [
      "Nombre de couples distincts = 500\n"
     ]
    }
   ],
   "source": [
    "couples = set()\n",
    "for i in range(500):\n",
    "    x, y = random.sample(U, 2)\n",
    "    couples.add((x, y))\n",
    "print(\"Nombre de couples distincts = {}\".format(len(couples)))"
   ]
  },
  {
   "cell_type": "markdown",
   "metadata": {},
   "source": [
    "Pour chaque couple, calculons les valeurs de hashage et comptons le nombre de collisions."
   ]
  },
  {
   "cell_type": "code",
   "execution_count": 68,
   "metadata": {
    "collapsed": true
   },
   "outputs": [],
   "source": [
    "c = 0\n",
    "for (\n",
    "    x,\n",
    "    y,\n",
    ") in couples:\n",
    "    if h(x) == h(y):\n",
    "        c += 1"
   ]
  },
  {
   "cell_type": "markdown",
   "metadata": {},
   "source": [
    "Le nombre de collisions rapporté au nombre de couples $(x,y)$ distincts nous donne une estimation de la probabilité de collision."
   ]
  },
  {
   "cell_type": "code",
   "execution_count": 69,
   "metadata": {},
   "outputs": [
    {
     "name": "stdout",
     "output_type": "stream",
     "text": [
      "Probabilité de collision = 11.40%\n"
     ]
    }
   ],
   "source": [
    "p_collisions = c / len(couples)\n",
    "print(\"Probabilité de collision = {:.2f}%\".format(p_collisions * 100.0))"
   ]
  },
  {
   "cell_type": "markdown",
   "metadata": {},
   "source": [
    "Cette valeur est proche de la valeur théorique $\\frac{1}{m}$. Effectuons plusieurs tirages pour confirmer ce résultat."
   ]
  },
  {
   "cell_type": "code",
   "execution_count": 70,
   "metadata": {},
   "outputs": [
    {
     "name": "stdout",
     "output_type": "stream",
     "text": [
      "Probabilité de collision moyenne = 9.97%\n"
     ]
    }
   ],
   "source": [
    "import numpy\n",
    "\n",
    "collisions = []\n",
    "# on reitere 100 fois\n",
    "for _ in range(100):\n",
    "    a = random.randint(1, p)\n",
    "    b = random.randint(0, p)\n",
    "\n",
    "    def h(x):\n",
    "        return ((a * x + b) % p) % m\n",
    "\n",
    "    couples = set()\n",
    "    for i in range(500):\n",
    "        x, y = random.sample(U, 2)\n",
    "        couples.add((x, y))\n",
    "\n",
    "    c = 0\n",
    "    for (\n",
    "        x,\n",
    "        y,\n",
    "    ) in couples:\n",
    "        if h(x) == h(y):\n",
    "            c += 1\n",
    "    collisions.append(c / len(couples))\n",
    "p_collision = numpy.mean(collisions)\n",
    "print(\"Probabilité de collision moyenne = {:.2f}%\".format(p_collision * 100.0))"
   ]
  },
  {
   "cell_type": "markdown",
   "metadata": {},
   "source": [
    "Cette probabilité moyenne est proche de la valeur théorique. Réitérons pour d'autres valeurs $m$."
   ]
  },
  {
   "cell_type": "code",
   "execution_count": 71,
   "metadata": {
    "collapsed": true
   },
   "outputs": [],
   "source": [
    "sizes = [10, 25, 50, 100, 250, 500, 750, 1000]\n",
    "p_collision = []\n",
    "p = 4294967291\n",
    "\n",
    "for m in sizes:\n",
    "    collisions = []\n",
    "    # on reitere 100 fois\n",
    "    for _ in range(100):\n",
    "        a = random.randint(1, p)\n",
    "        b = random.randint(0, p)\n",
    "\n",
    "        def h(x):\n",
    "            return ((a * x + b) % p) % m\n",
    "\n",
    "        couples = set()\n",
    "        for i in range(500):\n",
    "            x, y = random.sample(U, 2)\n",
    "            couples.add((x, y))\n",
    "\n",
    "        c = 0\n",
    "        for (\n",
    "            x,\n",
    "            y,\n",
    "        ) in couples:\n",
    "            if h(x) == h(y):\n",
    "                c += 1\n",
    "        collisions.append(c / len(couples))\n",
    "    p_collision.append(numpy.mean(collisions))"
   ]
  },
  {
   "cell_type": "code",
   "execution_count": 72,
   "metadata": {},
   "outputs": [
    {
     "data": {
      "image/png": "[encoded data removed]",
      "text/plain": [
       "<Figure size 640x480 with 1 Axes>"
      ]
     },
     "metadata": {},
     "output_type": "display_data"
    }
   ],
   "source": [
    "import matplotlib.pyplot as plt\n",
    "\n",
    "fix, ax = plt.subplots()\n",
    "plt.plot(sizes, p_collision)\n",
    "plt.xlabel(r\"$m$\")\n",
    "ax.set_title(\"Ratio des collisions en fonction de la taille de hash\");"
   ]
  },
  {
   "cell_type": "markdown",
   "metadata": {},
   "source": [
    "La probabilité de collision estimée est bien inversement proportionnelle à la valeur de hashage $m$."
   ]
  },
  {
   "cell_type": "markdown",
   "metadata": {},
   "source": [
    "### Algorithme BJKST\n",
    "\n",
    "Nous considérons un univers $U$ de taille $N$ et comportant $n$ élements distincts. Pour un stream $S = (a_1, a_2, \\ldots)$ de taille  $s$ essayons d'estimer $n$ à l'aide de l'algorithme [BJKST](http://info.prelert.com/blog/hashing-and-approximate-distinct-value-counts)."
   ]
  },
  {
   "cell_type": "code",
   "execution_count": 73,
   "metadata": {
    "collapsed": true
   },
   "outputs": [],
   "source": [
    "n = 10**3\n",
    "N = 10**4\n",
    "# nous tirons N entiers de 64bits (type i8) dont n sont distincts\n",
    "universe = numpy.random.randint(0, n, N, dtype=\"i8\")\n",
    "s = 500\n",
    "stream = universe[-s:]"
   ]
  },
  {
   "cell_type": "markdown",
   "metadata": {},
   "source": [
    "L'idée derrière l'algorithme [BJKST](http://info.prelert.com/blog/hashing-and-approximate-distinct-value-counts) est de parcourir les élements du stream et de remplir un ensemble $B$ par échantillonage. La probabilité d'échantillonage initiale est $1$ et lorsque $B$ devient trop grand (au delà d'un certain seuil $B_{max}$) on enlève des élements et on diminue la probabilité d'échantillonage. A la fin le nombre d'éléments dans $B$ et la probabilité d'échantillonage finale permettent d'estimer le nombre d'éléments distincts dans $U$.\n",
    "\n",
    "Pour $\\epsilon >0$ nous prenons $B_{max} = 1/ \\epsilon^2$ :"
   ]
  },
  {
   "cell_type": "code",
   "execution_count": 74,
   "metadata": {
    "collapsed": true
   },
   "outputs": [],
   "source": [
    "# definissons un ensemble B\n",
    "B = set()\n",
    "epsilon = 0.1\n",
    "B_max = 1 / epsilon**2"
   ]
  },
  {
   "cell_type": "markdown",
   "metadata": {},
   "source": [
    "Choisissons $p$ un nombre premier arbitrairement grand:"
   ]
  },
  {
   "cell_type": "code",
   "execution_count": 75,
   "metadata": {
    "collapsed": true
   },
   "outputs": [],
   "source": [
    "p = 4294967291"
   ]
  },
  {
   "cell_type": "markdown",
   "metadata": {},
   "source": [
    "et tirons aléatoirement deux fonctions $h_{a_1, b_1}$ et $h_{a_2, b_2}$ distinctes:"
   ]
  },
  {
   "cell_type": "code",
   "execution_count": 76,
   "metadata": {
    "collapsed": true
   },
   "outputs": [],
   "source": [
    "import random\n",
    "\n",
    "# deux couples (a_1, b_1) (a_1, b_2) distincts\n",
    "a1, a2 = random.sample(range(1, p), 2)\n",
    "b1, b2 = random.sample(range(0, p), 2)\n",
    "\n",
    "\n",
    "def h1(x):\n",
    "    return ((a1 * x + b1) % p) % s\n",
    "\n",
    "\n",
    "def h2(x):\n",
    "    return ((a2 * x + b2) % p) % s"
   ]
  },
  {
   "cell_type": "markdown",
   "metadata": {
    "collapsed": true
   },
   "source": [
    "Initialisons un entier $c$ à zero. Pour chaque $x$ dans le stream nous calculons d'abord sa valeur de hachage $y = h_{a_1, b_1}(x)$ :"
   ]
  },
  {
   "cell_type": "code",
   "execution_count": 77,
   "metadata": {},
   "outputs": [
    {
     "name": "stdout",
     "output_type": "stream",
     "text": [
      "x = 464, y = 13\n"
     ]
    }
   ],
   "source": [
    "c = 0\n",
    "# Prenons le premier élément du stream (à titre d'exemple)\n",
    "x = stream[0]\n",
    "y = h1(x)\n",
    "print(\"x = {}, y = {}\".format(x, y))"
   ]
  },
  {
   "cell_type": "markdown",
   "metadata": {},
   "source": [
    "La probabilité d'échantillonage est basée sur le nombre de zéros à droite dans la décomposition binaire de $y$. Pour calculer ce nombre diverses méthodes existent (voir [Count the consecutive zero bits (trailing) on the right with modulus division and lookup ](http://graphics.stanford.edu/~seander/bithacks.html#ZerosOnRightModLookup) pour plus de détails). Pour $s= 2^1$ et $s = 2^{10}$ la décomposition binaire comporte $1$ et $10$ zéros à droite respectivement:"
   ]
  },
  {
   "cell_type": "code",
   "execution_count": 78,
   "metadata": {},
   "outputs": [
    {
     "name": "stdout",
     "output_type": "stream",
     "text": [
      "Decomposition binaire de 2**1 = 0b10, nombre de zeros a droite = 1\n",
      "Decomposition binaire de 2**10 = 0b10000000000, nombre de zeros a droite = 10\n"
     ]
    }
   ],
   "source": [
    "mod_37bit_position = (\n",
    "    32,\n",
    "    0,\n",
    "    1,\n",
    "    26,\n",
    "    2,\n",
    "    23,\n",
    "    27,\n",
    "    0,\n",
    "    3,\n",
    "    16,\n",
    "    24,\n",
    "    30,\n",
    "    28,\n",
    "    11,\n",
    "    0,\n",
    "    13,\n",
    "    4,\n",
    "    7,\n",
    "    17,\n",
    "    0,\n",
    "    25,\n",
    "    22,\n",
    "    31,\n",
    "    15,\n",
    "    29,\n",
    "    10,\n",
    "    12,\n",
    "    6,\n",
    "    0,\n",
    "    21,\n",
    "    14,\n",
    "    9,\n",
    "    5,\n",
    "    20,\n",
    "    8,\n",
    "    19,\n",
    "    18,\n",
    ")\n",
    "\n",
    "# Un seul zéro à droite\n",
    "s = 2**1\n",
    "zeros = mod_37bit_position[(-s & s) % 37]\n",
    "print(\n",
    "    \"Decomposition binaire de 2**1 = {}, nombre de zeros a droite = {}\".format(\n",
    "        bin(s), zeros\n",
    "    )\n",
    ")\n",
    "\n",
    "# Dix zéros à droite\n",
    "s = 2**10\n",
    "zeros = mod_37bit_position[(-s & s) % 37]\n",
    "print(\n",
    "    \"Decomposition binaire de 2**10 = {}, nombre de zeros a droite = {}\".format(\n",
    "        bin(s), zeros\n",
    "    )\n",
    ")"
   ]
  },
  {
   "cell_type": "markdown",
   "metadata": {},
   "source": [
    "Notons $k$ le nombre de zéros à droite dans la décomposition binaire de $y$."
   ]
  },
  {
   "cell_type": "code",
   "execution_count": 79,
   "metadata": {
    "scrolled": true
   },
   "outputs": [
    {
     "name": "stdout",
     "output_type": "stream",
     "text": [
      "Decomposition binaire de y = 0b1101, nombre de zeros a droite = 0\n"
     ]
    }
   ],
   "source": [
    "k = mod_37bit_position[(-y & y) % 37]\n",
    "print(\n",
    "    \"Decomposition binaire de y = {}, nombre de zeros a droite = {}\".format(bin(y), k)\n",
    ")"
   ]
  },
  {
   "cell_type": "markdown",
   "metadata": {},
   "source": [
    "Puis nous comparons $k \\geq c$. Si c'est le cas nous calculons une nouvelle valeur de hashage de $x$, $z = h_{a_2, b_2}(x)$ et rajoutons le couple $(z, k)$ à l'ensemble $B$."
   ]
  },
  {
   "cell_type": "code",
   "execution_count": 80,
   "metadata": {
    "collapsed": true
   },
   "outputs": [],
   "source": [
    "if k >= c:\n",
    "    z = h2(x)\n",
    "    B.add((z, k))"
   ]
  },
  {
   "cell_type": "markdown",
   "metadata": {},
   "source": [
    "A l'initialisation la condition $k \\geq c$ est toujours vérifiée (ce qui correspond à une probabilité d'échantillonage égale à $1$) :"
   ]
  },
  {
   "cell_type": "code",
   "execution_count": 81,
   "metadata": {},
   "outputs": [
    {
     "data": {
      "text/plain": [
       "{(539, 0)}"
      ]
     },
     "execution_count": 81,
     "metadata": {},
     "output_type": "execute_result"
    }
   ],
   "source": [
    "B"
   ]
  },
  {
   "cell_type": "markdown",
   "metadata": {},
   "source": [
    "L'ensemble $B$ se remplit jusqu'à atteindre la taille $B_{max}$. Lorsque cette taille est atteinte on incrémente $c$ et on enlève à $B$ tous les couples $(z, k)$ où $k < c$."
   ]
  },
  {
   "cell_type": "code",
   "execution_count": 82,
   "metadata": {
    "collapsed": true
   },
   "outputs": [],
   "source": [
    "while len(B) >= B_max:\n",
    "    c += 1\n",
    "    # on prend ici une copie de B\n",
    "    for z, k in B.copy():\n",
    "        if k < c:\n",
    "            B.remove((z, k))"
   ]
  },
  {
   "cell_type": "markdown",
   "metadata": {},
   "source": [
    "Parcourons le stream et regardons à quoi ressemble l'ensemble $B$:"
   ]
  },
  {
   "cell_type": "code",
   "execution_count": 83,
   "metadata": {
    "collapsed": true
   },
   "outputs": [],
   "source": [
    "for x in stream:\n",
    "    y = h1(x)\n",
    "    k = mod_37bit_position[(-y & y) % 37]\n",
    "    if k >= c:\n",
    "        z = h2(x)\n",
    "        B.add((z, k))\n",
    "        while len(B) >= B_max:\n",
    "            c += 1\n",
    "            for z, k in B.copy():\n",
    "                if k < c:\n",
    "                    B.remove((z, k))"
   ]
  },
  {
   "cell_type": "code",
   "execution_count": 84,
   "metadata": {},
   "outputs": [
    {
     "name": "stdout",
     "output_type": "stream",
     "text": [
      "Taille de B = 96, c = 2\n"
     ]
    }
   ],
   "source": [
    "print(\"Taille de B = {}, c = {}\".format(len(B), c))"
   ]
  },
  {
   "cell_type": "markdown",
   "metadata": {},
   "source": [
    "Une estimateur de la taille de l'univers est alors $2^c \\mathrm{card}(B)$ :"
   ]
  },
  {
   "cell_type": "code",
   "execution_count": 85,
   "metadata": {},
   "outputs": [
    {
     "name": "stdout",
     "output_type": "stream",
     "text": [
      "Estimation de la taille de U = 384\n"
     ]
    }
   ],
   "source": [
    "print(\"Estimation de la taille de U = {}\".format(2**c * len(B)))"
   ]
  },
  {
   "cell_type": "markdown",
   "metadata": {},
   "source": [
    "Pour s'en convaincre, remarquons qu'en moyenne le cardinal de $B$ est égal au nombre de $y_i$ pour lequel le nombre de zéros à droite dans la décomposition binaire est plus grand que $c$. Ceci correspond au nombre de $y_i$ qui sont divisibles par $2^c$ :\n",
    "\n",
    "$$\\mathbb{E}[\\mathrm{card}(B)] = \\mathbb{E}\\big[\\sum_{x_i} I(y_i = 0 \\space{} \\mathrm{mod} \\space{} 2^c)\\big] = \\sum_{x_i} \\mathbb{P}\\big( y_i = 0 \\space{} \\mathrm{mod} \\space{} 2^c\\big)$$\n",
    "\n",
    "C'est ici qu'intervient la notion de famille universelle car cette derniere égalité n'est valide que si le nombre de collision entre $y$ et $z$ est faible lors du hachage de $x$ par $h_{a_1, b_1}$ et $h_{a_2, b_2}$. En effet, si le nombre de collisions était trop grand la taille de $B$ sous-estimerait le nombre d'éléments distincts.\n",
    "\n",
    "La probabilité $\\mathbb{P}\\big( y_i = 0 \\space{} \\mathrm{mod} \\space{} 2^c\\big)$ étant égale à $1 / 2^c$ si $y_i$ est distribué uniformément (l'écrire pour s'en convaincre) nous obtenons :\n",
    "\n",
    "$$ \\mathbb{E}[\\mathrm{card}(B)] = \\frac{n}{2^c}.$$"
   ]
  },
  {
   "cell_type": "markdown",
   "metadata": {},
   "source": [
    "### Résultats numériques\n",
    "\n",
    "Regroupons le code dans une fonction"
   ]
  },
  {
   "cell_type": "code",
   "execution_count": 86,
   "metadata": {
    "collapsed": true
   },
   "outputs": [],
   "source": [
    "def BJKST(stream, epsilon):\n",
    "    s = len(stream)\n",
    "    a1, a2 = random.sample(range(1, p), 2)\n",
    "    b1, b2 = random.sample(range(0, p), 2)\n",
    "\n",
    "    def h1(x):\n",
    "        return ((a1 * x + b1) % p) % s\n",
    "\n",
    "    def h2(x):\n",
    "        return ((a2 * x + b2) % p) % s\n",
    "\n",
    "    c = 0\n",
    "    B = set()\n",
    "    B_max = 1.0 / epsilon**2\n",
    "    for x in stream:\n",
    "        y = h1(x)\n",
    "        k = mod_37bit_position[(-y & y) % 37]\n",
    "        if k >= c:\n",
    "            z = h2(x)\n",
    "            B.add((z, k))\n",
    "            while len(B) >= B_max:\n",
    "                c += 1\n",
    "                for z, k in B.copy():\n",
    "                    if k < c:\n",
    "                        B.remove((z, k))\n",
    "    return 2**c * len(B)"
   ]
  },
  {
   "cell_type": "markdown",
   "metadata": {},
   "source": [
    "En pratique une estimation fiable du nombre d'éléments distincts requiert de générer plusieurs calculs indépendants de l'algorithme et de prendre la médiane. Regardons comment la qualité de l'estimation évolue en fonction de la précision $\\epsilon$ exigée et de la taille $s$ du stream."
   ]
  },
  {
   "cell_type": "code",
   "execution_count": 87,
   "metadata": {},
   "outputs": [],
   "source": [
    "epsilons = [0.5, 0.2, 0.1]\n",
    "sizes = [100, 250, 500, 1000, 2500, 5000]\n",
    "estimates = {}\n",
    "for eps in epsilons:\n",
    "    values = []\n",
    "    for s in sizes:\n",
    "        stream = universe[-s:]\n",
    "        values.append(numpy.median([BJKST(stream, eps) for _ in range(100)]))\n",
    "    estimates[eps] = values"
   ]
  },
  {
   "cell_type": "code",
   "execution_count": 88,
   "metadata": {
    "collapsed": true
   },
   "outputs": [
    {
     "data": {
      "text/plain": [
       "<matplotlib.legend.Legend at 0x7f1d715b2860>"
      ]
     },
     "execution_count": 88,
     "metadata": {},
     "output_type": "execute_result"
    },
    {
     "data": {
      "image/png": "[encoded data removed]",
      "text/plain": [
       "<Figure size 640x480 with 1 Axes>"
      ]
     },
     "metadata": {},
     "output_type": "display_data"
    }
   ],
   "source": [
    "for eps in estimates:\n",
    "    plt.plot(sizes, estimates[eps], label=\"$\\epsilon$ = {:.1f}\".format(eps))\n",
    "plt.axhline(y=n, color=\"r\", linestyle=\"--\", label=\"Vraie valeur de $n$\")\n",
    "plt.title(\"Estimation de $n$\")\n",
    "plt.xlabel(\"Taille du stream\")\n",
    "plt.legend()"
   ]
  },
  {
   "cell_type": "code",
   "execution_count": 89,
   "metadata": {
    "collapsed": true
   },
   "outputs": [
    {
     "name": "stdout",
     "output_type": "stream",
     "text": [
      "Erreur relative = 91.80%, s = 100\n",
      "Erreur relative = 79.20%, s = 250\n",
      "Erreur relative = 61.20%, s = 500\n",
      "Erreur relative = 35.20%, s = 1000\n",
      "Erreur relative = 5.60%, s = 2500\n",
      "Erreur relative = 0.80%, s = 5000\n"
     ]
    }
   ],
   "source": [
    "epsilon = 0.1\n",
    "for i in range(len(sizes)):\n",
    "    print(\n",
    "        \"Erreur relative = {0:.2f}%, s = {1}\".format(\n",
    "            abs(estimates[epsilon][i] / n - 1.0) * 100.0, sizes[i]\n",
    "        )\n",
    "    )"
   ]
  },
  {
   "cell_type": "markdown",
   "metadata": {},
   "source": [
    "Nous observons que l'estimation converge vers la vraie valeur $n$ à mesure que la taille du stream augmente. Pour une précision $\\epsilon = 10\\%$ et une taille de stream égale à $5000$ l'erreur est de $0,8\\%$."
   ]
  },
  {
   "cell_type": "markdown",
   "metadata": {},
   "source": [
    "La fiabilité de l'estimation est décroissante avec le niveau de précision exigé, l'algorithme donne une bonne estimation de la vraie valeur (ligne horizontale rouge) pour $\\epsilon \\approx 0.3$."
   ]
  },
  {
   "cell_type": "markdown",
   "metadata": {},
   "source": [
    "### Temps de calcul en fonction de la taille du stream\n",
    "\n",
    "Regardons à présent comment le temps de calcul évolue en fonction de la taille du stream. Rappelons qu'un bon algorithme de streaming doit évoluer de manière au pire linéaire en fonction de la taille d'espace $s$."
   ]
  },
  {
   "cell_type": "code",
   "execution_count": 90,
   "metadata": {
    "collapsed": true
   },
   "outputs": [],
   "source": [
    "import time\n",
    "\n",
    "epsilon = 0.1\n",
    "size_bound = 15\n",
    "sizes = [100, 250, 500, 1000, 2500, 5000]\n",
    "m = 100\n",
    "times = []\n",
    "for s in sizes:\n",
    "    start = time.time()\n",
    "    stream = universe[-s:]\n",
    "    BJKST(stream, epsilon)\n",
    "    times.append(time.time() - start)\n",
    "times = numpy.array(times)"
   ]
  },
  {
   "cell_type": "code",
   "execution_count": 91,
   "metadata": {
    "collapsed": true
   },
   "outputs": [
    {
     "data": {
      "text/plain": [
       "Text(0.5, 0, 'Taille du stream')"
      ]
     },
     "execution_count": 91,
     "metadata": {},
     "output_type": "execute_result"
    },
    {
     "data": {
      "image/png": "[encoded data removed]",
      "text/plain": [
       "<Figure size 640x480 with 1 Axes>"
      ]
     },
     "metadata": {},
     "output_type": "display_data"
    }
   ],
   "source": [
    "fix, ax = plt.subplots()\n",
    "plt.plot(sizes, times * 1000)\n",
    "plt.title(\"Temps de calcul (en ms)\")\n",
    "plt.xlabel(\"Taille du stream\")"
   ]
  },
  {
   "cell_type": "markdown",
   "metadata": {},
   "source": [
    "La complexité semble être linéaire ce qui est satisfaisant. Notons qu'aucun effort d'optimisation de performance (à part l'usage d'un <b>set</b>) n'a été fait à ce stade."
   ]
  },
  {
   "cell_type": "markdown",
   "metadata": {},
   "source": [
    "## Un peu plus sur la précision de l'estimateur"
   ]
  },
  {
   "cell_type": "markdown",
   "metadata": {},
   "source": [
    "Lorsque la précision $\\epsilon$ est proche de $0$ l'estimation est moins bonne que pour une précision plus large. Pourquoi ?"
   ]
  },
  {
   "cell_type": "code",
   "execution_count": 92,
   "metadata": {
    "collapsed": true
   },
   "outputs": [],
   "source": [
    "import random\n",
    "import numpy\n",
    "import matplotlib.pyplot as plt\n",
    "\n",
    "%matplotlib inline\n",
    "\n",
    "n = 1000\n",
    "stream = numpy.arange(1000)\n",
    "p = 4294967291\n",
    "\n",
    "mod_37bit_position = (\n",
    "    32,\n",
    "    0,\n",
    "    1,\n",
    "    26,\n",
    "    2,\n",
    "    23,\n",
    "    27,\n",
    "    0,\n",
    "    3,\n",
    "    16,\n",
    "    24,\n",
    "    30,\n",
    "    28,\n",
    "    11,\n",
    "    0,\n",
    "    13,\n",
    "    4,\n",
    "    7,\n",
    "    17,\n",
    "    0,\n",
    "    25,\n",
    "    22,\n",
    "    31,\n",
    "    15,\n",
    "    29,\n",
    "    10,\n",
    "    12,\n",
    "    6,\n",
    "    0,\n",
    "    21,\n",
    "    14,\n",
    "    9,\n",
    "    5,\n",
    "    20,\n",
    "    8,\n",
    "    19,\n",
    "    18,\n",
    ")"
   ]
  },
  {
   "cell_type": "code",
   "execution_count": 93,
   "metadata": {
    "collapsed": true
   },
   "outputs": [],
   "source": [
    "def BJKST(stream, B_max, h1, h2):\n",
    "    c = 0\n",
    "    B = set()\n",
    "    R = []\n",
    "    removed = 0\n",
    "    for x in stream:\n",
    "        y = h1(x)\n",
    "        k = mod_37bit_position[(-y & y) % 37]\n",
    "        if k >= c:\n",
    "            z = h2(x)\n",
    "            B.add((z, k))\n",
    "            while len(B) >= B_max:\n",
    "                c += 1\n",
    "                for z, k in B.copy():\n",
    "                    if k < c:\n",
    "                        B.remove((z, k))\n",
    "                        removed += 1\n",
    "        R.append([removed, len(B), c])\n",
    "    return numpy.array(R)"
   ]
  },
  {
   "cell_type": "markdown",
   "metadata": {},
   "source": [
    "### $h_1$ et $h_2$ égales à l'identité\n",
    "\n",
    "Si nous prenons $h_1$ et $h_2$ égales à l'identité l'ensemble $B$ se remplit linéairement: pour $c=1$ on enlève tous les nombres avec $k = 0$ (tous les nombres impairs donc la moitié) puis pour $c=2$ on enlève tous les nombres où $k = 0, 1$ c'est à dire encore la moitié des nombres rajoutés et ainsi de suite.. \n",
    "\n",
    "A la fin l'estimation est parfaite (cf graphe en fonction de l'avancement dans le stream)"
   ]
  },
  {
   "cell_type": "code",
   "execution_count": 94,
   "metadata": {
    "collapsed": true
   },
   "outputs": [
    {
     "name": "stdout",
     "output_type": "stream",
     "text": [
      "Estimated = 1000, true = 1000, c= 3\n"
     ]
    },
    {
     "data": {
      "text/plain": [
       "Text(0, 0.5, 'size')"
      ]
     },
     "execution_count": 94,
     "metadata": {},
     "output_type": "execute_result"
    },
    {
     "data": {
      "image/png": "[encoded data removed]",
      "text/plain": [
       "<Figure size 640x480 with 1 Axes>"
      ]
     },
     "metadata": {},
     "output_type": "display_data"
    }
   ],
   "source": [
    "B_max = 200\n",
    "\n",
    "\n",
    "def h1(x):\n",
    "    return x\n",
    "\n",
    "\n",
    "def h2(x):\n",
    "    return x\n",
    "\n",
    "\n",
    "R = BJKST(stream, B_max, h1, h2)\n",
    "estimate = 2 ** R[-1, 2] * R[-1, 1]\n",
    "print(\"Estimated = {}, true = {}, c= {}\".format(estimate, n, R[-1, 2]))\n",
    "D = numpy.concatenate((numpy.array([1]), numpy.diff(R[:, 2])))\n",
    "changes = stream[numpy.nonzero(D)]\n",
    "\n",
    "fix, ax = plt.subplots()\n",
    "ax.plot(stream, R[:, 0], color=\"red\", label=\"total #removed\")\n",
    "ax.plot(stream, R[:, 1], color=\"blue\", label=\"len B\")\n",
    "for c in changes:\n",
    "    ax.annotate(\n",
    "        \"c = {}\".format(R[c, 2]),\n",
    "        xy=(c, R[c, 1]),\n",
    "        xytext=(c + 65, R[c, 1] - 30),\n",
    "        arrowprops=dict(arrowstyle=\"->\"),\n",
    "    )\n",
    "ax.legend(loc=(1.1, 0.9))\n",
    "plt.xlabel(\"$x$\")\n",
    "plt.ylabel(\"size\")"
   ]
  },
  {
   "cell_type": "markdown",
   "metadata": {},
   "source": [
    "### cas où la taille du hash est petite\n",
    "\n",
    "Si on prend un hash petit il faut regarder plus de nombres pour remplir et l'incrément de $c$ se fait \"plus tard\" dans le stream, d'où la mauvaise estimation."
   ]
  },
  {
   "cell_type": "code",
   "execution_count": 95,
   "metadata": {
    "collapsed": true
   },
   "outputs": [
    {
     "name": "stdout",
     "output_type": "stream",
     "text": [
      "Estimated = 616, true = 1000, c= 2\n"
     ]
    },
    {
     "data": {
      "image/png": "[encoded data removed]",
      "text/plain": [
       "<Figure size 640x480 with 1 Axes>"
      ]
     },
     "metadata": {},
     "output_type": "display_data"
    }
   ],
   "source": [
    "B_max = 200\n",
    "s = B_max // 4\n",
    "a1, a2 = random.sample(range(1, p), 2)\n",
    "b1, b2 = random.sample(range(0, p), 2)\n",
    "\n",
    "\n",
    "def h1(x):\n",
    "    return ((a1 * x + b1) % p) % n\n",
    "\n",
    "\n",
    "def h2(x):\n",
    "    return ((a2 * x + b2) % p) % s\n",
    "\n",
    "\n",
    "R = BJKST(stream, B_max, h1, h2)\n",
    "estimate = 2 ** R[-1, 2] * R[-1, 1]\n",
    "print(\"Estimated = {}, true = {}, c= {}\".format(estimate, n, R[-1, 2]))\n",
    "D = numpy.concatenate((numpy.array([1]), numpy.diff(R[:, 2])))\n",
    "changes = stream[numpy.nonzero(D)]\n",
    "fix, ax = plt.subplots()\n",
    "ax.plot(stream, R[:, 0], color=\"red\", label=\"total #removed\")\n",
    "ax.plot(stream, R[:, 1], color=\"blue\", label=\"len B\")\n",
    "for c in changes:\n",
    "    ax.annotate(\n",
    "        \"c = {}\".format(R[c, 2]),\n",
    "        xy=(c, R[c, 1]),\n",
    "        xytext=(c + 65, R[c, 1] - 30),\n",
    "        arrowprops=dict(arrowstyle=\"->\"),\n",
    "    )\n",
    "ax.legend(loc=(1.1, 0.9))\n",
    "plt.xlabel(\"$x$\")\n",
    "plt.ylabel(\"size\");"
   ]
  },
  {
   "cell_type": "markdown",
   "metadata": {},
   "source": [
    "### cas où la taille de hash est plus grande\n",
    "\n",
    "Si on prend un une valeur de hash plus grande on se rapproche du cas $h_1 = h_2 = id$ et l'estimation est meilleure :"
   ]
  },
  {
   "cell_type": "code",
   "execution_count": 96,
   "metadata": {
    "collapsed": true
   },
   "outputs": [
    {
     "name": "stdout",
     "output_type": "stream",
     "text": [
      "Estimated = 984, true = 1000, c= 3\n"
     ]
    },
    {
     "data": {
      "image/png": "[encoded data removed]",
      "text/plain": [
       "<Figure size 640x480 with 1 Axes>"
      ]
     },
     "metadata": {},
     "output_type": "display_data"
    }
   ],
   "source": [
    "B_max = 200\n",
    "s = B_max\n",
    "a1, a2 = random.sample(range(1, p), 2)\n",
    "b1, b2 = random.sample(range(0, p), 2)\n",
    "\n",
    "\n",
    "def h1(x):\n",
    "    return ((a1 * x + b1) % p) % n\n",
    "\n",
    "\n",
    "def h2(x):\n",
    "    return ((a2 * x + b2) % p) % s\n",
    "\n",
    "\n",
    "R = BJKST(stream, B_max, h1, h2)\n",
    "estimate = 2 ** R[-1, 2] * R[-1, 1]\n",
    "print(\"Estimated = {}, true = {}, c= {}\".format(estimate, n, R[-1, 2]))\n",
    "D = numpy.concatenate((numpy.array([1]), numpy.diff(R[:, 2])))\n",
    "changes = stream[numpy.nonzero(D)]\n",
    "fix, ax = plt.subplots()\n",
    "ax.plot(stream, R[:, 0], color=\"red\", label=\"total #removed\")\n",
    "ax.plot(stream, R[:, 1], color=\"blue\", label=\"len B\")\n",
    "for c in changes:\n",
    "    ax.annotate(\n",
    "        \"c = {}\".format(R[c, 2]),\n",
    "        xy=(c, R[c, 1]),\n",
    "        xytext=(c + 65, R[c, 1] - 30),\n",
    "        arrowprops=dict(arrowstyle=\"->\"),\n",
    "    )\n",
    "ax.legend(loc=(1.1, 0.9))\n",
    "plt.xlabel(\"$x$\")\n",
    "plt.ylabel(\"size\");"
   ]
  },
  {
   "cell_type": "markdown",
   "metadata": {},
   "source": [
    "### la taille de hash dépend de la précision $\\epsilon$\n",
    "\n",
    "A mon avis, il faut donc que la taille du hash pour $h_2$ dépende de la précision (dans [Data Stream Algorithms](http://www.cs.dartmouth.edu/~ac/Teach/CS85-Fall09/Notes/lecnotes.pdf) ils préconisent une taille en $\\mathrm{log}(n) / \\epsilon^2$).\n",
    "\n",
    "Si on prend cette taille pour $h_2$ on voit que l'estimation est meilleure pour une précision petite."
   ]
  },
  {
   "cell_type": "code",
   "execution_count": 97,
   "metadata": {
    "collapsed": true
   },
   "outputs": [],
   "source": [
    "def BJKST(stream, epsilon):\n",
    "    a1, a2 = random.sample(range(1, p), 2)\n",
    "    b1, b2 = random.sample(range(0, p), 2)\n",
    "    # taille de la valeur de hashage dépend de la precision\n",
    "    b = int(numpy.log(n) / epsilon**2)\n",
    "\n",
    "    def h1(x):\n",
    "        return ((a1 * x + b1) % p) % n\n",
    "\n",
    "    # on applique la taille b sur la seconde fonction de hash\n",
    "    def h2(x):\n",
    "        return ((a2 * x + b2) % p) % b\n",
    "\n",
    "    c = 0\n",
    "    B = set()\n",
    "    B_max = 1.0 / epsilon**2\n",
    "    for x in stream:\n",
    "        y = h1(x)\n",
    "        k = mod_37bit_position[(-y & y) % 37]\n",
    "        if k >= c:\n",
    "            z = h2(x)\n",
    "            B.add((z, k))\n",
    "            while len(B) >= B_max:\n",
    "                c += 1\n",
    "                for z, k in B.copy():\n",
    "                    if k < c:\n",
    "                        B.remove((z, k))\n",
    "    return 2**c * len(B)"
   ]
  },
  {
   "cell_type": "code",
   "execution_count": 98,
   "metadata": {
    "collapsed": true
   },
   "outputs": [],
   "source": [
    "m = 100\n",
    "epsilons = numpy.array([0.1, 0.09, 0.08, 0.07, 0.06, 0.05, 0.04, 0.03, 0.02, 0.01])\n",
    "medians = numpy.array(\n",
    "    [numpy.median([BJKST(stream, eps) for _ in range(m)]) for eps in epsilons]\n",
    ")"
   ]
  },
  {
   "cell_type": "code",
   "execution_count": 99,
   "metadata": {
    "collapsed": true
   },
   "outputs": [
    {
     "data": {
      "image/png": "[encoded data removed]",
      "text/plain": [
       "<Figure size 640x480 with 1 Axes>"
      ]
     },
     "metadata": {},
     "output_type": "display_data"
    }
   ],
   "source": [
    "import matplotlib.pyplot as plt\n",
    "\n",
    "%matplotlib inline\n",
    "\n",
    "# plt.plot(1.0 / epsilons, medians)\n",
    "plt.plot(epsilons, medians)\n",
    "plt.axhline(y=n, color=\"r\", linestyle=\"--\")\n",
    "plt.title(r\"Mediane en fonction de $1 / \\epsilon$,  m = {}\".format(m))\n",
    "plt.xlabel(r\"$\\epsilon$\")\n",
    "plt.ylabel(\"Mediane\");"
   ]
  },
  {
   "cell_type": "code",
   "execution_count": null,
   "metadata": {
    "collapsed": true
   },
   "outputs": [],
   "source": []
  }
 ],
 "metadata": {
  "kernelspec": {
   "display_name": "Python 3",
   "language": "python",
   "name": "python3"
  },
  "language_info": {
   "codemirror_mode": {
    "name": "ipython",
    "version": 3
   },
   "file_extension": ".py",
   "mimetype": "text/x-python",
   "name": "python",
   "nbconvert_exporter": "python",
   "pygments_lexer": "ipython3",
   "version": "3.10.6"
  }
 },
 "nbformat": 4,
 "nbformat_minor": 2
}
