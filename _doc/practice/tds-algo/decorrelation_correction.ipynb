{
 "cells": [
  {
   "cell_type": "markdown",
   "metadata": {},
   "source": [
    "# Décorrélation de variables aléatoires - correction\n",
    "\n",
    "On construit des variables corrélées gaussiennes et on cherche à construire des variables décorrélées en utilisant le calcul matriciel. (correction)"
   ]
  },
  {
   "cell_type": "markdown",
   "metadata": {},
   "source": [
    "## Création d'un jeu de données"
   ]
  },
  {
   "cell_type": "markdown",
   "metadata": {},
   "source": [
    "### Q1\n",
    "\n",
    "La première étape consiste à construire des variables aléatoires normales corrélées dans une matrice $N \\times 3$. On cherche à construire cette matrice au format [numpy](http://www.numpy.org/). Le programme suivant est un moyen de construire un tel ensemble à l'aide de combinaisons linéaires. Complétez les lignes contenant des ``....``."
   ]
  },
  {
   "cell_type": "code",
   "execution_count": 1,
   "metadata": {},
   "outputs": [
    {
     "data": {
      "text/plain": [
       "matrix([[ 0.17179957, -0.80900898, -1.53083278],\n",
       "        [-0.48698277, -0.95015277,  1.66842305],\n",
       "        [ 0.53400158,  0.42468545, -2.41318128],\n",
       "        [ 2.97269198,  9.62935172, -5.0672538 ],\n",
       "        [ 0.88952227,  2.09758362, -2.36428305]])"
      ]
     },
     "execution_count": 1,
     "metadata": {},
     "output_type": "execute_result"
    }
   ],
   "source": [
    "import random\n",
    "import numpy as np\n",
    "\n",
    "\n",
    "def combinaison():\n",
    "    x = random.gauss(0, 1)  # génère un nombre aléatoire\n",
    "    y = random.gauss(0, 1)  # selon une loi normale\n",
    "    z = random.gauss(0, 1)  # de moyenne null et de variance 1\n",
    "    x2 = x\n",
    "    y2 = 3 * x + y\n",
    "    z2 = -2 * x + y + 0.2 * z\n",
    "    return [x2, y2, z2]\n",
    "\n",
    "\n",
    "li = [combinaison() for i in range(0, 100)]\n",
    "mat = np.matrix(li)\n",
    "mat[:5]"
   ]
  },
  {
   "cell_type": "markdown",
   "metadata": {},
   "source": [
    "### Q2 "
   ]
  },
  {
   "cell_type": "code",
   "execution_count": 2,
   "metadata": {},
   "outputs": [
    {
     "data": {
      "text/plain": [
       "matrix([[ 1.00968737,  3.07225686, -2.0111879 ],\n",
       "        [ 3.07225686, 10.26264038, -5.16277675],\n",
       "        [-2.0111879 , -5.16277675,  5.05453658]])"
      ]
     },
     "execution_count": 2,
     "metadata": {},
     "output_type": "execute_result"
    }
   ],
   "source": [
    "npm = mat\n",
    "t = npm.transpose()\n",
    "a = t @ npm\n",
    "a /= npm.shape[0]\n",
    "a"
   ]
  },
  {
   "cell_type": "markdown",
   "metadata": {},
   "source": [
    "``a`` est la matrice de covariance."
   ]
  },
  {
   "cell_type": "markdown",
   "metadata": {},
   "source": [
    "### Corrélation de matrices"
   ]
  },
  {
   "cell_type": "markdown",
   "metadata": {},
   "source": [
    "### Q3"
   ]
  },
  {
   "cell_type": "code",
   "execution_count": 3,
   "metadata": {
    "collapsed": true
   },
   "outputs": [],
   "source": [
    "cov = a"
   ]
  },
  {
   "cell_type": "code",
   "execution_count": 4,
   "metadata": {},
   "outputs": [
    {
     "data": {
      "text/plain": [
       "array([[0.99040557, 0.31065402, 0.4426555 ],\n",
       "       [0.31065402, 0.09744081, 0.13884485],\n",
       "       [0.4426555 , 0.13884485, 0.19784207]])"
      ]
     },
     "execution_count": 4,
     "metadata": {},
     "output_type": "execute_result"
    }
   ],
   "source": [
    "var = np.array([cov[i, i] ** (-0.5) for i in range(cov.shape[0])])\n",
    "var.resize((3, 1))\n",
    "varvar = var @ var.transpose()\n",
    "varvar"
   ]
  },
  {
   "cell_type": "code",
   "execution_count": 5,
   "metadata": {},
   "outputs": [
    {
     "data": {
      "text/plain": [
       "matrix([[ 1.        ,  0.95440895, -0.89026339],\n",
       "        [ 0.95440895,  1.        , -0.71682496],\n",
       "        [-0.89026339, -0.71682496,  1.        ]])"
      ]
     },
     "execution_count": 5,
     "metadata": {},
     "output_type": "execute_result"
    }
   ],
   "source": [
    "cor = np.multiply(cov, varvar)\n",
    "cor"
   ]
  },
  {
   "cell_type": "markdown",
   "metadata": {},
   "source": [
    "### Q4 "
   ]
  },
  {
   "cell_type": "code",
   "execution_count": 6,
   "metadata": {},
   "outputs": [
    {
     "data": {
      "text/plain": [
       "matrix([[ 1.        ,  0.95440895, -0.89026339],\n",
       "        [ 0.95440895,  1.        , -0.71682496],\n",
       "        [-0.89026339, -0.71682496,  1.        ]])"
      ]
     },
     "execution_count": 6,
     "metadata": {},
     "output_type": "execute_result"
    }
   ],
   "source": [
    "def correlation(npm):\n",
    "    t = npm.transpose()\n",
    "    a = t @ npm\n",
    "    a /= npm.shape[0]\n",
    "    var = np.array([cov[i, i] ** (-0.5) for i in range(cov.shape[0])])\n",
    "    var.resize((3, 1))\n",
    "    varvar = var @ var.transpose()\n",
    "    return np.multiply(cov, varvar)\n",
    "\n",
    "\n",
    "correlation(npm)"
   ]
  },
  {
   "cell_type": "markdown",
   "metadata": {},
   "source": [
    "## Calcul de la racine carrée"
   ]
  },
  {
   "cell_type": "markdown",
   "metadata": {},
   "source": [
    "### Q6\n",
    "\n",
    "Le module [numpy](http://www.numpy.org/) propose une fonction qui retourne la matrice $P$ et le vecteur des valeurs propres $L$ :\n",
    "\n",
    "```\n",
    "L,P = np.linalg.eig(a)\n",
    "```\n",
    "\n",
    "Vérifier que $P'P=I$. Est-ce rigoureusement égal à la matrice identité ?"
   ]
  },
  {
   "cell_type": "code",
   "execution_count": 7,
   "metadata": {
    "collapsed": true
   },
   "outputs": [],
   "source": [
    "L, P = np.linalg.eig(a)"
   ]
  },
  {
   "cell_type": "code",
   "execution_count": 8,
   "metadata": {},
   "outputs": [
    {
     "data": {
      "text/plain": [
       "matrix([[ 1.00000000e+00,  2.91433544e-16, -5.55111512e-17],\n",
       "        [ 2.91433544e-16,  1.00000000e+00, -2.77555756e-17],\n",
       "        [-5.55111512e-17, -2.77555756e-17,  1.00000000e+00]])"
      ]
     },
     "execution_count": 8,
     "metadata": {},
     "output_type": "execute_result"
    }
   ],
   "source": [
    "P.transpose() @ P"
   ]
  },
  {
   "cell_type": "markdown",
   "metadata": {},
   "source": [
    "C'est presque l'identité aux erreurs de calcul près."
   ]
  },
  {
   "cell_type": "markdown",
   "metadata": {},
   "source": [
    "### Q7\n",
    "\n",
    "``np.diag(l)`` construit une matrice diagonale à partir d'un vecteur."
   ]
  },
  {
   "cell_type": "code",
   "execution_count": 9,
   "metadata": {},
   "outputs": [
    {
     "data": {
      "text/plain": [
       "array([[1.44438859e+01, 0.00000000e+00, 0.00000000e+00],\n",
       "       [0.00000000e+00, 1.60670907e-03, 0.00000000e+00],\n",
       "       [0.00000000e+00, 0.00000000e+00, 1.88137173e+00]])"
      ]
     },
     "execution_count": 9,
     "metadata": {},
     "output_type": "execute_result"
    }
   ],
   "source": [
    "np.diag(L)"
   ]
  },
  {
   "cell_type": "markdown",
   "metadata": {},
   "source": [
    "### Q8\n",
    "\n",
    "Ecrire une fonction qui calcule la racine carrée de la matrice $\\frac{1}{n}M'M$ (on rappelle que $M$ est la matrice ``npm``). Voir aussi [Racine carrée d'une matrice](https://fr.wikipedia.org/wiki/Racine_carr%C3%A9e_d%27une_matrice)."
   ]
  },
  {
   "cell_type": "code",
   "execution_count": 10,
   "metadata": {},
   "outputs": [
    {
     "data": {
      "text/plain": [
       "matrix([[ 0.30467222,  0.77731521, -0.55914512],\n",
       "        [ 0.77731521,  2.95469126, -0.96344225],\n",
       "        [-0.55914512, -0.96344225,  1.9528626 ]])"
      ]
     },
     "execution_count": 10,
     "metadata": {},
     "output_type": "execute_result"
    }
   ],
   "source": [
    "def square_root_matrix(M):\n",
    "    L, P = np.linalg.eig(M)\n",
    "    L = L**0.5\n",
    "    root = P @ np.diag(L) @ P.transpose()\n",
    "    return root\n",
    "\n",
    "\n",
    "root = square_root_matrix(cov)\n",
    "root"
   ]
  },
  {
   "cell_type": "markdown",
   "metadata": {},
   "source": [
    "On vérifie qu'on ne s'est pas trompé."
   ]
  },
  {
   "cell_type": "code",
   "execution_count": 11,
   "metadata": {},
   "outputs": [
    {
     "data": {
      "text/plain": [
       "matrix([[ 1.77635684e-15,  1.77635684e-15, -1.33226763e-15],\n",
       "        [ 1.33226763e-15, -1.06581410e-14,  4.44089210e-15],\n",
       "        [-1.33226763e-15,  4.44089210e-15, -8.88178420e-16]])"
      ]
     },
     "execution_count": 11,
     "metadata": {},
     "output_type": "execute_result"
    }
   ],
   "source": [
    "root @ root - cov"
   ]
  },
  {
   "cell_type": "markdown",
   "metadata": {},
   "source": [
    "## Décorrélation"
   ]
  },
  {
   "cell_type": "code",
   "execution_count": 12,
   "metadata": {},
   "outputs": [
    {
     "data": {
      "text/plain": [
       "matrix([[ 577.59780655, -117.8510365 ,  109.45002008],\n",
       "        [-117.8510365 ,   24.24634204,  -22.12707857],\n",
       "        [ 109.45002008,  -22.12707857,   21.14682284]])"
      ]
     },
     "execution_count": 12,
     "metadata": {},
     "output_type": "execute_result"
    }
   ],
   "source": [
    "np.linalg.inv(cov)"
   ]
  },
  {
   "cell_type": "markdown",
   "metadata": {},
   "source": [
    "### Q9 \n",
    "\n",
    "Chaque ligne de la matrice $M$ représente un vecteur de trois variables corrélées. La matrice de covariance est $V=\\frac{1}{n}M'M$. Calculer la matrice de covariance de la matrice $N=M V^{-\\frac{1}{2}}$ (mathématiquement).\n"
   ]
  },
  {
   "cell_type": "markdown",
   "metadata": {},
   "source": [
    "### Q10\n",
    "\n",
    "Vérifier numériquement."
   ]
  },
  {
   "cell_type": "markdown",
   "metadata": {},
   "source": [
    "## Simulation de variables corrélées"
   ]
  },
  {
   "cell_type": "markdown",
   "metadata": {},
   "source": [
    "### Q11\n",
    "\n",
    "A partir du résultat précédent, proposer une méthode pour simuler un vecteur de variables corrélées selon une matrice de covariance $V$ à partir d'un vecteur de lois normales indépendantes."
   ]
  },
  {
   "cell_type": "markdown",
   "metadata": {},
   "source": [
    "### Q12\n",
    "\n",
    "Proposer une fonction qui crée cet échantillon :"
   ]
  },
  {
   "cell_type": "code",
   "execution_count": 13,
   "metadata": {
    "collapsed": true
   },
   "outputs": [],
   "source": [
    "def simultation(N, cov):\n",
    "    # simule un échantillon de variables corrélées\n",
    "    # N : nombre de variables\n",
    "    # cov : matrice de covariance\n",
    "    # ...\n",
    "    return M"
   ]
  },
  {
   "cell_type": "markdown",
   "metadata": {},
   "source": [
    "### Q13\n",
    "\n",
    "Vérifier que votre échantillon a une matrice de corrélations proche de celle choisie pour simuler l'échantillon."
   ]
  }
 ],
 "metadata": {
  "kernelspec": {
   "display_name": "Python 3 (ipykernel)",
   "language": "python",
   "name": "python3"
  },
  "language_info": {
   "codemirror_mode": {
    "name": "ipython",
    "version": 3
   },
   "file_extension": ".py",
   "mimetype": "text/x-python",
   "name": "python",
   "nbconvert_exporter": "python",
   "pygments_lexer": "ipython3",
   "version": "3.10.12"
  }
 },
 "nbformat": 4,
 "nbformat_minor": 2
}
