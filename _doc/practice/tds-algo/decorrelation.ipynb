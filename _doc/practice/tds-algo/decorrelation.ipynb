{
 "cells": [
  {
   "cell_type": "markdown",
   "metadata": {},
   "source": [
    "# Décorrélation de variables aléatoires\n",
    "\n",
    "On construit des variables corrélées gaussiennes et on cherche à construire des variables décorrélées en utilisant le calcul matriciel."
   ]
  },
  {
   "cell_type": "markdown",
   "metadata": {},
   "source": [
    "Ce TD appliquera le calcul matriciel aux vecteurs de variables normales [corrélées](https://fr.wikipedia.org/wiki/Covariance) ou aussi [décomposition en valeurs singulières](https://fr.wikipedia.org/wiki/D%C3%A9composition_en_valeurs_singuli%C3%A8res)."
   ]
  },
  {
   "cell_type": "markdown",
   "metadata": {},
   "source": [
    "## Création d'un jeu de données"
   ]
  },
  {
   "cell_type": "markdown",
   "metadata": {},
   "source": [
    "### Q1\n",
    "\n",
    "La première étape consiste à construire des variables aléatoires normales corrélées dans une matrice $N \\times 3$. On cherche à construire cette matrice au format [numpy](https://numpy.org/). Le programme suivant est un moyen de construire un tel ensemble à l'aide de combinaisons linéaires. Complétez les lignes contenant des ``....``."
   ]
  },
  {
   "cell_type": "code",
   "execution_count": 1,
   "metadata": {
    "collapsed": true
   },
   "outputs": [],
   "source": [
    "import random\n",
    "import numpy as np\n",
    "\n",
    "\n",
    "def combinaison():\n",
    "    x = random.gauss(0, 1)  # génère un nombre aléatoire\n",
    "    y = random.gauss(0, 1)  # selon une loi normale\n",
    "    z = random.gauss(0, 1)  # de moyenne null et de variance 1\n",
    "    x2 = x\n",
    "    y2 = 3 * x + y\n",
    "    z2 = -2 * x + y + 0.2 * z\n",
    "    return [x2, y2, z2]\n",
    "\n",
    "\n",
    "# mat = [ ............. ]\n",
    "# npm = np.matrix ( mat )"
   ]
  },
  {
   "cell_type": "markdown",
   "metadata": {},
   "source": [
    "### Q2 \n",
    "\n",
    "A partir de la matrice ``npm``, on veut construire la matrice des corrélations."
   ]
  },
  {
   "cell_type": "raw",
   "metadata": {
    "collapsed": true
   },
   "source": [
    "npm = ...               # voir question précédente\n",
    "t   = npm.transpose ()\n",
    "a   = t * npm \n",
    "a  /= npm.shape[0]"
   ]
  },
  {
   "cell_type": "markdown",
   "metadata": {},
   "source": [
    "A quoi correspond la matrice ``a`` ? "
   ]
  },
  {
   "cell_type": "markdown",
   "metadata": {},
   "source": [
    "### Corrélation de matrices"
   ]
  },
  {
   "cell_type": "markdown",
   "metadata": {},
   "source": [
    "### Q3\n",
    "\n",
    "Construire la matrice des corrélations à partir de la matrice ``a``. L'exemple suivant vous évitera peut-être quelques erreurs."
   ]
  },
  {
   "cell_type": "code",
   "execution_count": 7,
   "metadata": {},
   "outputs": [
    {
     "name": "stdout",
     "output_type": "stream",
     "text": [
      "[[0 1]\n",
      " [2 3]]\n"
     ]
    }
   ],
   "source": [
    "a = np.array([[0, 1], [2, 3]])\n",
    "b = a.copy()  # remplacé b = a dans l'exemple qui suit.\n",
    "b[0, 0] = 44444444\n",
    "print(a)  # et comparer le résultat ici"
   ]
  },
  {
   "cell_type": "code",
   "execution_count": 6,
   "metadata": {},
   "outputs": [
    {
     "name": "stdout",
     "output_type": "stream",
     "text": [
      "[[44444444        1]\n",
      " [       2        3]]\n"
     ]
    }
   ],
   "source": [
    "a = np.array([[0, 1], [2, 3]])\n",
    "b = a\n",
    "b[0, 0] = 44444444\n",
    "print(a)  # et comparer le résultat ici"
   ]
  },
  {
   "cell_type": "markdown",
   "metadata": {},
   "source": [
    "### Q4 \n",
    "\n",
    "Construire une fonction qui prend comme argument la matrice ``npm`` et qui retourne la matrice de corrélation. Cette fonction servira plus pour vérifier que nous avons bien réussi à décorréler."
   ]
  },
  {
   "cell_type": "code",
   "execution_count": 5,
   "metadata": {
    "collapsed": true
   },
   "outputs": [],
   "source": [
    "def correlation(npm):\n",
    "    # ..........\n",
    "    return \".....\""
   ]
  },
  {
   "cell_type": "markdown",
   "metadata": {},
   "source": [
    "## Un peu de mathématiques\n",
    "\n",
    "Pour la suite, un peu de mathématique. On note $M$ la matrice ``npm``. $V=\\frac{1}{n}M'M$ correspond à la matrice des *covariances* et elle est nécessairement symétrique. C'est une matrice diagonale si et seulement si les variables normales sont indépendantes. Comme toute matrice symétrique, elle est diagonalisable. On peut écrire :\n",
    "\n",
    "$$\\frac{1}{n}M'M = P \\Lambda P'$$\n",
    "\n",
    "$P$ vérifie $P'P= PP' = I$. La matrice $\\Lambda$ est diagonale et on peut montrer que toutes les valeurs propres sont positives ($\\Lambda = \\frac{1}{n}P'M'MP = \\frac{1}{n}(MP)'(MP)$).\n",
    " \n",
    "On définit alors la racine carrée de la matrice $\\Lambda$ par : \n",
    "\n",
    "$$\\begin{array}{rcl} \\Lambda &=& diag(\\lambda_1,\\lambda_2,\\lambda_3) \\\\ \\Lambda^{\\frac{1}{2}} &=& diag\\left(\\sqrt{\\lambda_1},\\sqrt{\\lambda_2},\\sqrt{\\lambda_3}\\right)\\end{array}$$\n",
    "\n",
    "On définit ensuite la racine carrée de la matrice $V$ :\n",
    "\n",
    "$$V^{\\frac{1}{2}} = P \\Lambda^{\\frac{1}{2}} P'$$\n",
    "\n",
    "On vérifie que $\\left(V^{\\frac{1}{2}}\\right)^2 = P \\Lambda^{\\frac{1}{2}} P' P \\Lambda^{\\frac{1}{2}} P' = P \\Lambda^{\\frac{1}{2}}\\Lambda^{\\frac{1}{2}} P' = V = P \\Lambda P' = V$."
   ]
  },
  {
   "cell_type": "markdown",
   "metadata": {},
   "source": [
    "## Calcul de la racine carrée"
   ]
  },
  {
   "cell_type": "markdown",
   "metadata": {},
   "source": [
    "### Q6\n",
    "\n",
    "Le module [numpy](https://numpy.org/) propose une fonction qui retourne la matrice $P$ et le vecteur des valeurs propres $L$ :\n",
    "\n",
    "```\n",
    "L,P = np.linalg.eig(a)\n",
    "```\n",
    "\n",
    "Vérifier que $P'P=I$. Est-ce rigoureusement égal à la matrice identité ?"
   ]
  },
  {
   "cell_type": "markdown",
   "metadata": {},
   "source": [
    "### Q7\n",
    "\n",
    "Que fait l'instruction suivante : ``np.diag(L)`` ?"
   ]
  },
  {
   "cell_type": "markdown",
   "metadata": {},
   "source": [
    "### Q8\n",
    "\n",
    "Ecrire une fonction qui calcule la racine carrée de la matrice $\\frac{1}{n}M'M$ (on rappelle que $M$ est la matrice ``npm``). Voir aussi [Racine carrée d'une matrice](https://fr.wikipedia.org/wiki/Racine_carr%C3%A9e_d%27une_matrice)."
   ]
  },
  {
   "cell_type": "markdown",
   "metadata": {},
   "source": [
    "## Décorrélation\n",
    "\n",
    "``np.linalg.inv(a)`` permet d'obtenir l'inverse de la matrice ``a``."
   ]
  },
  {
   "cell_type": "markdown",
   "metadata": {},
   "source": [
    "### Q9 \n",
    "\n",
    "Chaque ligne de la matrice $M$ représente un vecteur de trois variables corrélées. La matrice de covariance est $V=\\frac{1}{n}M'M$. Calculer la matrice de covariance de la matrice $N=M V^{-\\frac{1}{2}}$ (mathématiquement).\n"
   ]
  },
  {
   "cell_type": "markdown",
   "metadata": {},
   "source": [
    "### Q10\n",
    "\n",
    "Vérifier numériquement."
   ]
  },
  {
   "cell_type": "markdown",
   "metadata": {},
   "source": [
    "## Simulation de variables corrélées"
   ]
  },
  {
   "cell_type": "markdown",
   "metadata": {},
   "source": [
    "### Q11\n",
    "\n",
    "A partir du résultat précédent, proposer une méthode pour simuler un vecteur de variables corrélées selon une matrice de covariance $V$ à partir d'un vecteur de lois normales indépendantes."
   ]
  },
  {
   "cell_type": "markdown",
   "metadata": {},
   "source": [
    "### Q12\n",
    "\n",
    "Proposer une fonction qui crée cet échantillon :"
   ]
  },
  {
   "cell_type": "code",
   "execution_count": 6,
   "metadata": {
    "collapsed": true
   },
   "outputs": [],
   "source": [
    "def simultation(N, cov):\n",
    "    # simule un échantillon de variables corrélées\n",
    "    # N : nombre de variables\n",
    "    # cov : matrice de covariance\n",
    "    # ...\n",
    "    return M"
   ]
  },
  {
   "cell_type": "markdown",
   "metadata": {},
   "source": [
    "### Q13\n",
    "\n",
    "Vérifier que votre échantillon a une matrice de corrélations proche de celle choisie pour simuler l'échantillon."
   ]
  }
 ],
 "metadata": {
  "kernelspec": {
   "display_name": "Python 3 (ipykernel)",
   "language": "python",
   "name": "python3"
  },
  "language_info": {
   "codemirror_mode": {
    "name": "ipython",
    "version": 3
   },
   "file_extension": ".py",
   "mimetype": "text/x-python",
   "name": "python",
   "nbconvert_exporter": "python",
   "pygments_lexer": "ipython3",
   "version": "3.10.12"
  }
 },
 "nbformat": 4,
 "nbformat_minor": 2
}
