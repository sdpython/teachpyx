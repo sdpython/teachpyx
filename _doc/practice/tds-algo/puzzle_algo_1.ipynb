{
 "cells": [
  {
   "cell_type": "markdown",
   "metadata": {},
   "source": [
    "# Puzzles algorithmiques (1)\n",
    "\n",
    "Puzzles algorithmiques tirés de [Google Code Jam](https://en.wikipedia.org/wiki/Google_Code_Jam) et autres sites équivalents, produits scalaires, problèmes de recouvrements, soudoyer les prisonniers, découpage stratifié. On trouve des solutions sur [github/tmoertel/practice](https://github.com/tmoertel/practice/tree/master/google-code-jam) ou encore sur [Programming Logic](https://www.programminglogic.com/category/google-code-jam/)."
   ]
  },
  {
   "cell_type": "markdown",
   "metadata": {},
   "source": [
    "## Produits scalaires\n",
    "\n",
    "Le problème est tiré de *Google Jam 2008, round 1A*.\n",
    "\n",
    "On considère deux tableaux $v=(v_1,..., v_n)$ et $w=(w_1,...,w_n)$. On souhaite le minimum : $$\\min_{\\sigma,\\sigma'} \\sum_{i=1}^{n} v_{\\sigma(i)} w_{\\sigma'(i)}$$ où $\\sigma,\\sigma'$ sont deux permutations de l'ensemble $[[1,...,n]]$."
   ]
  },
  {
   "cell_type": "markdown",
   "metadata": {},
   "source": [
    "### Solution naïve"
   ]
  },
  {
   "cell_type": "code",
   "execution_count": 2,
   "metadata": {
    "collapsed": true
   },
   "outputs": [],
   "source": []
  },
  {
   "cell_type": "markdown",
   "metadata": {},
   "source": [
    "### Solution moins naïve"
   ]
  },
  {
   "cell_type": "code",
   "execution_count": 3,
   "metadata": {
    "collapsed": true
   },
   "outputs": [],
   "source": []
  },
  {
   "cell_type": "markdown",
   "metadata": {},
   "source": [
    "## Problème de recouvrement\n",
    "\n",
    "*Google Jam 2008, round 1A*\n",
    "\n",
    "Couvrir le segment $[0, M]$ avec le nombre minimum d'intervalles de la forme $[a_i, b_i]$ ? Avec $M, a_i b_i \\in \\mathbb{N}$.\n",
    "\n",
    "Exemple, couvrir $[0, 1]$ avec les intervalles $[-1, 0]$, $[-5, -3]$, $[2, 5]$."
   ]
  },
  {
   "cell_type": "code",
   "execution_count": 4,
   "metadata": {
    "collapsed": true
   },
   "outputs": [],
   "source": []
  },
  {
   "cell_type": "markdown",
   "metadata": {},
   "source": [
    "## Soudoyer les prisonniers\n",
    "\n",
    "*Problem C. Bribe the Prisoners*\n",
    "\n",
    "Dans un royaume il y a des cellules de prison numérotées de 1 à $P$ construites de telle sorte à former un segment de ligne droite. Les cellules $i$ et $i + 1$ sont adjacentes et leur prisonniers sont appelés \"voisins\". Un mur muni d'une fenêtre les sépare et ils peuvent communiquer via cette fenêtre. Tous les prisonniers vivent en paix jusqu'a ce qu'un prisonnier soit relâché. Quand cela se produit, le prisonnier libéré fait part de la nouvelle à ses voisins, qui en parlent à leurs voisins, etc., jusqu'à atteindre la cellule 1 ou $P$ ou une cellule dont la cellule voisine est vide. Quand un prisonnier découvre qu'un autre prisonnier a été libéré, de colère, il casse tout dans sa cellule, sauf s'il a été préalablement soudoyé par une pièce\n",
    "d'or. Il faut donc veiller à soudoyer tous les prisonniers susceptibles de tout casser dans leur cellule avant de libérer un prisonnier. En supposant que toutes les cellules sont initialement occupées par un unique prisonnier et qu'un prisonnier par jour au plus puisse être relaché, et en connaissant la liste des $Q$ prisonniers à relâcher, il faut trouver l'ordre de libération des prisonniers de cette liste qui soit le moins coûteux en pièce d'or. Ordres de grandeur : $1 \\leqslant P \\leqslant 104$, $1 \\leqslant Q \\leqslant 102$. A noter que le soudoiement n'est actif qu'un seul jour.\n",
    "\n",
    "Exemple : 23 prisonniers, $P=20$, $Q=3$, les prisonniers à libérer sont les numéros $3, 6, 14$."
   ]
  },
  {
   "cell_type": "code",
   "execution_count": 5,
   "metadata": {
    "collapsed": true
   },
   "outputs": [],
   "source": []
  },
  {
   "cell_type": "markdown",
   "metadata": {},
   "source": [
    "## Découpage intelligent d'une base de données\n",
    "\n",
    "On dispose d'une base de données à $N$ observations et $K$ variables $(X^1,...,X^K)$. On calcule la moyenne de chaque variable $\\bar{X_k} =\\frac{1}{N}\\sum_{i=1}^N X^k_i$ sur l'ensemble de la base.\n",
    "\n",
    "On souhaite maintenant diviser la base en deux bases apprentissage de taille égale, test sous intersection. On mesure également la moyenne de chaque variable sur chacun des deux bases : $\\bar{X^k}_a$ et $\\bar{X^k}_t$. On souhaite effectuer un découpage de telle sorte que l'indicateur suivant soit minimum : \n",
    "\n",
    "$E = \\sum_{k=1}^K \\left( \\bar{X^k_a}  - \\bar{X^k_t} \\right)^2$\n",
    "\n",
    "Imaginer un algorithme qui effectue un tel découpage."
   ]
  },
  {
   "cell_type": "code",
   "execution_count": 6,
   "metadata": {
    "collapsed": true
   },
   "outputs": [],
   "source": []
  }
 ],
 "metadata": {
  "kernelspec": {
   "display_name": "Python 3 (ipykernel)",
   "language": "python",
   "name": "python3"
  },
  "language_info": {
   "codemirror_mode": {
    "name": "ipython",
    "version": 3
   },
   "file_extension": ".py",
   "mimetype": "text/x-python",
   "name": "python",
   "nbconvert_exporter": "python",
   "pygments_lexer": "ipython3",
   "version": "3.10.5"
  }
 },
 "nbformat": 4,
 "nbformat_minor": 1
}
