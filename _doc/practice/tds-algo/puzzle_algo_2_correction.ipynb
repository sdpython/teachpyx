{
 "cells": [
  {
   "cell_type": "markdown",
   "metadata": {},
   "source": [
    "# Puzzles algorithmes (2) - correction\n",
    "\n",
    "Eléments de réponses pour des puzzles algorithmiques tirés de [Google Code Jam](https://en.wikipedia.org/wiki/Google_Code_Jam) et autres sites équivalents, nombres premiers, écoulement d'eau, séparation des bagarreurs, formation de binômes."
   ]
  },
  {
   "cell_type": "markdown",
   "metadata": {},
   "source": [
    "## Exercice 1 : nombres premiers\n",
    "\n",
    "[CodeForces 483A](https://codeforces.com/problemset/problem/483/A)\n",
    "\n",
    "On propose la conjecture suivante :\n",
    "    \n",
    "Si $(a,b)$ sont premiers entre eux et si $(b,c)$ sont premiers entre eux alors $(a,c)$ sont premiers entre eux.\n",
    "\n",
    "On veut montrer que cette conjecture est **fausse**. Pour cela, il faut trouver trois entiers $(a,b,c)$ pour lesquels l'énoncé est faux et on les cherche tels qu'il existe deux entiers $l<r$ :\n",
    "\n",
    "* $l \\leqslant a < b < c \\leqslant r$\n",
    "* $1 \\leqslant l \\leqslant r  \\leqslant  10^{18}$\n",
    "* $r - l \\leqslant 50$"
   ]
  },
  {
   "cell_type": "markdown",
   "metadata": {},
   "source": [
    "### Première idée\n",
    "\n",
    "On peut chercher $(a,b,c)$ de la forme $2n, 2n+1, 2n+2$. On peut trouver $n$ tel que $(2n,2n+1)$, $(2n+1,2n+2)$ soient premiers eux. $(2n, 2n+2)$ ne le seront pas. Exemple : 4,5,6."
   ]
  },
  {
   "cell_type": "markdown",
   "metadata": {},
   "source": [
    "### Seconde idée : les trouver tous ?\n",
    "    \n",
    "   "
   ]
  },
  {
   "cell_type": "code",
   "execution_count": null,
   "metadata": {},
   "outputs": [],
   "source": []
  },
  {
   "cell_type": "code",
   "execution_count": null,
   "metadata": {},
   "outputs": [],
   "source": []
  },
  {
   "cell_type": "markdown",
   "metadata": {},
   "source": [
    "## Exercice 2 : watersheds\n",
    "\n",
    "*Google Code Jam 2009*\n",
    "                       \n",
    "Geologists sometimes divide an area of land into different regions based on where rainfall flows down to. These regions are called drainage basins.\n",
    "\n",
    "Given an elevation map (a 2-dimensional array of altitudes), label the map such that locations in the same drainage basin have the same label, subject to the following rules.\n",
    "\n",
    "* From each cell, water flows down to at most one of its 4 neighboring cells.\n",
    "* For each cell, if none of its 4 neighboring cells has a lower altitude than the current cell's, then the water does not flow, and the current cell is called a sink.\n",
    "* Otherwise, water flows from the current cell to the neighbor with the lowest altitude.\n",
    "*  In case of a tie, water will choose the first direction with the lowest altitude from this list: North, West, East, South.\n",
    "\n",
    "Every cell that drains directly or indirectly to the same sink is part of the same drainage basin. Each basin is labeled by a unique lower-case letter, in such a way that, when the rows of the map are concatenated from top to bottom, the resulting string is lexicographically smallest. (In particular, the basin of the most North-Western cell is always labeled 'a'.)"
   ]
  },
  {
   "cell_type": "code",
   "execution_count": null,
   "metadata": {},
   "outputs": [],
   "source": []
  },
  {
   "cell_type": "markdown",
   "metadata": {},
   "source": [
    "## Exercice 3 : séparation des bagarreurs\n",
    "\n",
    "*Google Code Jam 2014*\n",
    "\n",
    "As the leader of the Evil League of Evil, Bad Horse has a lot of problems to deal with. Most recently, there have been far too many arguments and far too much backstabbing in the League, so much so that Bad Horse has decided to split the league into two departments in order to separate troublesome members. Being the Thoroughbred of Sin, Bad Horse isn't about to spend his valuable time figuring out how to split the League members by himself. That what he's got you -- his loyal henchman -- for."
   ]
  },
  {
   "cell_type": "code",
   "execution_count": null,
   "metadata": {},
   "outputs": [],
   "source": []
  },
  {
   "cell_type": "markdown",
   "metadata": {},
   "source": [
    "## Exercice 4 : formation de binômes\n",
    "\n",
    "[UVa 10911](https://onlinejudge.org/index.php?option=onlinejudge&page=show_problem&problem=1852)\n",
    "\n",
    "You have been given the job of forming the quiz teams for the next 'MCA CPCI Quiz Championship'. There are $2N$ students interested to participate and you have to form $N$ teams, each team consisting of two members. Since the members have to practice together, all the students want their member's house as near as possible. Let $x_1$ be the distance between the houses of group 1, $x_2$ be the distance between the houses of group 2 and so on. You have to make sure the summation ($x_1 + x_2 + x_3 + ... + x_n$) is minimized."
   ]
  },
  {
   "cell_type": "markdown",
   "metadata": {},
   "source": [
    "### solution"
   ]
  },
  {
   "cell_type": "markdown",
   "metadata": {},
   "source": [
    "L'ordre dans lequel l'appariement sont envisagés n'a pas d'importance (contrairement à l'appariement de deux séquences d'ADN). Alors, une direction possible aurait été un algorithme du type [distance de Levenstein](https://en.wikipedia.org/wiki/Levenshtein_distance).\n",
    "\n",
    "Dans ce problème est un problème d'[appariement](https://fr.wikipedia.org/wiki/Couplage_%28th%C3%A9orie_des_graphes%29) ou de couplage dans un [graphe bi-parti](https://fr.wikipedia.org/wiki/Graphe_biparti). Plusieurs algorithmes approchés existent pour résoudre ce problème :\n",
    "\n",
    "* [la méthode hongroise](https://fr.wikipedia.org/wiki/Algorithme_hongrois)\n",
    "* [algorithme de Floyd Fulkerson](https://fr.wikipedia.org/wiki/Algorithme_de_Ford-Fulkerson) (algorithme exact mais qui répond au problème de flot maximal)\n",
    "* [l'algorithme de Hopcroft–Karp](https://en.wikipedia.org/wiki/Hopcroft%E2%80%93Karp_algorithm)\n",
    "\n",
    "L'algorithme optimal retourne la solution optimale en un temps polynômial : [Blossom algorithm](https://en.wikipedia.org/wiki/Blossom_algorithm)."
   ]
  },
  {
   "cell_type": "code",
   "execution_count": null,
   "metadata": {},
   "outputs": [],
   "source": []
  }
 ],
 "metadata": {
  "kernelspec": {
   "display_name": "Python 3 (ipykernel)",
   "language": "python",
   "name": "python3"
  },
  "language_info": {
   "codemirror_mode": {
    "name": "ipython",
    "version": 3
   },
   "file_extension": ".py",
   "mimetype": "text/x-python",
   "name": "python",
   "nbconvert_exporter": "python",
   "pygments_lexer": "ipython3",
   "version": "3.10.5"
  }
 },
 "nbformat": 4,
 "nbformat_minor": 1
}
