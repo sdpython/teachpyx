{
 "cells": [
  {
   "cell_type": "markdown",
   "metadata": {},
   "source": [
    "# Plus proches voisins en grande dimension\n",
    "\n",
    "La méthodes des [plus proches voisins](https://fr.wikipedia.org/wiki/Recherche_des_plus_proches_voisins) est un algorithme assez simple. Que se passe-t-il quand la dimension de l'espace des features augmente ? Comment y remédier ? Le profiling [memory_profiler](https://pypi.python.org/pypi/memory_profiler) ou [cprofile](https://docs.python.org/3.7/library/profile.html#module-cProfile) sont des outils utiles pour savoir où le temps est perdu. "
   ]
  },
  {
   "cell_type": "markdown",
   "metadata": {},
   "source": [
    "## Q1 : k-nn : mesurer la performance"
   ]
  },
  {
   "cell_type": "code",
   "execution_count": 1,
   "metadata": {},
   "outputs": [
    {
     "data": {
      "text/plain": [
       "array([[-0.85382076,  0.22046675,  1.24910001,  2.94596312,  0.66829759,\n",
       "        -1.20552856, -1.72023578, -1.84674932, -0.26846378,  0.20075415],\n",
       "       [-1.59306412,  1.88866079, -0.76923866, -2.32519462, -2.94535057,\n",
       "        -1.47877141, -2.2276281 ,  0.02957725,  1.85438519,  0.55194846],\n",
       "       [ 5.58758523,  2.80964683,  0.32608346,  4.12806316, -1.3248342 ,\n",
       "         1.06996005,  2.31117628,  3.99525892, -1.47020431, -4.13399841]])"
      ]
     },
     "execution_count": 1,
     "metadata": {},
     "output_type": "execute_result"
    }
   ],
   "source": [
    "from sklearn.datasets import make_classification\n",
    "\n",
    "datax, datay = make_classification(\n",
    "    10000, n_features=10, n_classes=3, n_clusters_per_class=2, n_informative=8\n",
    ")\n",
    "datax[:3]"
   ]
  },
  {
   "cell_type": "code",
   "execution_count": 2,
   "metadata": {},
   "outputs": [
    {
     "data": {
      "text/html": [
       "<style>#sk-container-id-1 {color: black;}#sk-container-id-1 pre{padding: 0;}#sk-container-id-1 div.sk-toggleable {background-color: white;}#sk-container-id-1 label.sk-toggleable__label {cursor: pointer;display: block;width: 100%;margin-bottom: 0;padding: 0.3em;box-sizing: border-box;text-align: center;}#sk-container-id-1 label.sk-toggleable__label-arrow:before {content: \"▸\";float: left;margin-right: 0.25em;color: #696969;}#sk-container-id-1 label.sk-toggleable__label-arrow:hover:before {color: black;}#sk-container-id-1 div.sk-estimator:hover label.sk-toggleable__label-arrow:before {color: black;}#sk-container-id-1 div.sk-toggleable__content {max-height: 0;max-width: 0;overflow: hidden;text-align: left;background-color: #f0f8ff;}#sk-container-id-1 div.sk-toggleable__content pre {margin: 0.2em;color: black;border-radius: 0.25em;background-color: #f0f8ff;}#sk-container-id-1 input.sk-toggleable__control:checked~div.sk-toggleable__content {max-height: 200px;max-width: 100%;overflow: auto;}#sk-container-id-1 input.sk-toggleable__control:checked~label.sk-toggleable__label-arrow:before {content: \"▾\";}#sk-container-id-1 div.sk-estimator input.sk-toggleable__control:checked~label.sk-toggleable__label {background-color: #d4ebff;}#sk-container-id-1 div.sk-label input.sk-toggleable__control:checked~label.sk-toggleable__label {background-color: #d4ebff;}#sk-container-id-1 input.sk-hidden--visually {border: 0;clip: rect(1px 1px 1px 1px);clip: rect(1px, 1px, 1px, 1px);height: 1px;margin: -1px;overflow: hidden;padding: 0;position: absolute;width: 1px;}#sk-container-id-1 div.sk-estimator {font-family: monospace;background-color: #f0f8ff;border: 1px dotted black;border-radius: 0.25em;box-sizing: border-box;margin-bottom: 0.5em;}#sk-container-id-1 div.sk-estimator:hover {background-color: #d4ebff;}#sk-container-id-1 div.sk-parallel-item::after {content: \"\";width: 100%;border-bottom: 1px solid gray;flex-grow: 1;}#sk-container-id-1 div.sk-label:hover label.sk-toggleable__label {background-color: #d4ebff;}#sk-container-id-1 div.sk-serial::before {content: \"\";position: absolute;border-left: 1px solid gray;box-sizing: border-box;top: 0;bottom: 0;left: 50%;z-index: 0;}#sk-container-id-1 div.sk-serial {display: flex;flex-direction: column;align-items: center;background-color: white;padding-right: 0.2em;padding-left: 0.2em;position: relative;}#sk-container-id-1 div.sk-item {position: relative;z-index: 1;}#sk-container-id-1 div.sk-parallel {display: flex;align-items: stretch;justify-content: center;background-color: white;position: relative;}#sk-container-id-1 div.sk-item::before, #sk-container-id-1 div.sk-parallel-item::before {content: \"\";position: absolute;border-left: 1px solid gray;box-sizing: border-box;top: 0;bottom: 0;left: 50%;z-index: -1;}#sk-container-id-1 div.sk-parallel-item {display: flex;flex-direction: column;z-index: 1;position: relative;background-color: white;}#sk-container-id-1 div.sk-parallel-item:first-child::after {align-self: flex-end;width: 50%;}#sk-container-id-1 div.sk-parallel-item:last-child::after {align-self: flex-start;width: 50%;}#sk-container-id-1 div.sk-parallel-item:only-child::after {width: 0;}#sk-container-id-1 div.sk-dashed-wrapped {border: 1px dashed gray;margin: 0 0.4em 0.5em 0.4em;box-sizing: border-box;padding-bottom: 0.4em;background-color: white;}#sk-container-id-1 div.sk-label label {font-family: monospace;font-weight: bold;display: inline-block;line-height: 1.2em;}#sk-container-id-1 div.sk-label-container {text-align: center;}#sk-container-id-1 div.sk-container {/* jupyter's `normalize.less` sets `[hidden] { display: none; }` but bootstrap.min.css set `[hidden] { display: none !important; }` so we also need the `!important` here to be able to override the default hidden behavior on the sphinx rendered scikit-learn.org. See: https://github.com/scikit-learn/scikit-learn/issues/21755 */display: inline-block !important;position: relative;}#sk-container-id-1 div.sk-text-repr-fallback {display: none;}</style><div id=\"sk-container-id-1\" class=\"sk-top-container\"><div class=\"sk-text-repr-fallback\"><pre>KNeighborsClassifier(algorithm=&#x27;brute&#x27;)</pre><b>In a Jupyter environment, please rerun this cell to show the HTML representation or trust the notebook. <br />On GitHub, the HTML representation is unable to render, please try loading this page with nbviewer.org.</b></div><div class=\"sk-container\" hidden><div class=\"sk-item\"><div class=\"sk-estimator sk-toggleable\"><input class=\"sk-toggleable__control sk-hidden--visually\" id=\"sk-estimator-id-1\" type=\"checkbox\" checked><label for=\"sk-estimator-id-1\" class=\"sk-toggleable__label sk-toggleable__label-arrow\">KNeighborsClassifier</label><div class=\"sk-toggleable__content\"><pre>KNeighborsClassifier(algorithm=&#x27;brute&#x27;)</pre></div></div></div></div></div>"
      ],
      "text/plain": [
       "KNeighborsClassifier(algorithm='brute')"
      ]
     },
     "execution_count": 2,
     "metadata": {},
     "output_type": "execute_result"
    }
   ],
   "source": [
    "from sklearn.neighbors import KNeighborsClassifier\n",
    "\n",
    "model = KNeighborsClassifier(5, algorithm=\"brute\")\n",
    "model.fit(datax, datay)"
   ]
  },
  {
   "cell_type": "code",
   "execution_count": 3,
   "metadata": {},
   "outputs": [
    {
     "data": {
      "text/plain": [
       "array([0, 1, 0, ..., 2, 0, 1])"
      ]
     },
     "execution_count": 3,
     "metadata": {},
     "output_type": "execute_result"
    }
   ],
   "source": [
    "model.predict(datax)"
   ]
  },
  {
   "cell_type": "code",
   "execution_count": 4,
   "metadata": {},
   "outputs": [
    {
     "name": "stdout",
     "output_type": "stream",
     "text": [
      "271 ms ± 22.1 ms per loop (mean ± std. dev. of 7 runs, 1 loop each)\n"
     ]
    }
   ],
   "source": [
    "%timeit model.predict(datax)"
   ]
  },
  {
   "cell_type": "code",
   "execution_count": 5,
   "metadata": {},
   "outputs": [
    {
     "name": "stdout",
     "output_type": "stream",
     "text": [
      "C:\\Python3105_x64\\lib\\site-packages\n"
     ]
    }
   ],
   "source": [
    "import numpy\n",
    "import os\n",
    "\n",
    "path = os.path.normpath(os.path.join(numpy.__file__, \"..\", \"..\"))\n",
    "print(path)"
   ]
  },
  {
   "cell_type": "code",
   "execution_count": 6,
   "metadata": {
    "scrolled": false
   },
   "outputs": [
    {
     "name": "stdout",
     "output_type": "stream",
     "text": [
      "         445 function calls in 0.287 seconds\n",
      "\n",
      "   Ordered by: cumulative time\n",
      "\n",
      "   ncalls  tottime  percall  cumtime  percall filename:lineno(function)\n",
      "        2    0.000    0.000    0.287    0.143 IPython/core/interactiveshell.py:3397(run_code)\n",
      "        2    0.000    0.000    0.287    0.143 {built-in method builtins.exec}\n",
      "        1    0.000    0.000    0.287    0.287 C:/Users/xavie/AppData/Local/Temp/ipykernel_22912/2929265561.py:1(<module>)\n",
      "        1    0.000    0.000    0.287    0.287 C:/xavierdupre/__home_/github_fork/scikit-learn/sklearn/neighbors/_classification.py:230(predict)\n",
      "        1    0.001    0.001    0.286    0.286 C:/xavierdupre/__home_/github_fork/scikit-learn/sklearn/neighbors/_classification.py:291(predict_proba)\n",
      "        1    0.000    0.000    0.285    0.285 C:/xavierdupre/__home_/github_fork/scikit-learn/sklearn/neighbors/_base.py:730(kneighbors)\n",
      "        1    0.000    0.000    0.283    0.283 C:/xavierdupre/__home_/github_fork/scikit-learn/sklearn/metrics/_pairwise_distances_reduction/_dispatcher.py:165(compute)\n",
      "        1    0.283    0.283    0.283    0.283 {built-in method compute}\n",
      "        1    0.000    0.000    0.001    0.001 C:/xavierdupre/__home_/github_fork/scikit-learn/sklearn/base.py:508(_validate_data)\n",
      "        1    0.000    0.000    0.001    0.001 C:/xavierdupre/__home_/github_fork/scikit-learn/sklearn/utils/validation.py:647(check_array)\n",
      "        1    0.000    0.000    0.001    0.001 C:/xavierdupre/__home_/github_fork/scikit-learn/sklearn/utils/validation.py:95(_assert_all_finite)\n",
      "        1    0.000    0.000    0.001    0.001 numpy/core/fromnumeric.py:2177(sum)\n",
      "        1    0.000    0.000    0.001    0.001 numpy/core/fromnumeric.py:71(_wrapreduction)\n",
      "        3    0.000    0.000    0.001    0.000 C:/xavierdupre/__home_/github_fork/scikit-learn/sklearn/metrics/_pairwise_distances_reduction/_dispatcher.py:75(is_usable_for)\n",
      "        2    0.000    0.000    0.000    0.000 C:/xavierdupre/__home_/github_fork/scikit-learn/sklearn/metrics/_pairwise_distances_reduction/_dispatcher.py:448(is_usable_for)\n",
      "        2    0.000    0.000    0.000    0.000 {method 'reduce' of 'numpy.ufunc' objects}\n",
      "        7    0.000    0.000    0.000    0.000 C:/xavierdupre/__home_/github_fork/scikit-learn/sklearn/_config.py:32(get_config)\n",
      "        1    0.000    0.000    0.000    0.000 numpy/core/fromnumeric.py:1140(argmax)\n",
      "        1    0.000    0.000    0.000    0.000 numpy/core/fromnumeric.py:53(_wrapfunc)\n",
      "        1    0.000    0.000    0.000    0.000 {method 'argmax' of 'numpy.ndarray' objects}\n",
      "        1    0.000    0.000    0.000    0.000 C:/xavierdupre/__home_/github_fork/scikit-learn/sklearn/utils/fixes.py:67(threadpool_limits)\n",
      "        1    0.000    0.000    0.000    0.000 threadpoolctl.py:455(limit)\n",
      "        1    0.000    0.000    0.000    0.000 threadpoolctl.py:160(__init__)\n",
      "        1    0.000    0.000    0.000    0.000 {method 'sum' of 'numpy.ndarray' objects}\n",
      "        1    0.000    0.000    0.000    0.000 numpy/core/_methods.py:47(_sum)\n",
      "        3    0.000    0.000    0.000    0.000 C:/xavierdupre/__home_/github_fork/scikit-learn/sklearn/metrics/_pairwise_distances_reduction/_dispatcher.py:58(valid_metrics)\n",
      "        1    0.000    0.000    0.000    0.000 threadpoolctl.py:412(info)\n",
      "        1    0.000    0.000    0.000    0.000 threadpoolctl.py:414(<listcomp>)\n",
      "       29    0.000    0.000    0.000    0.000 {built-in method builtins.getattr}\n",
      "        3    0.000    0.000    0.000    0.000 threadpoolctl.py:813(info)\n",
      "        1    0.000    0.000    0.000    0.000 joblib/parallel.py:411(effective_n_jobs)\n",
      "        3    0.000    0.000    0.000    0.000 C:/xavierdupre/__home_/github_fork/scikit-learn/sklearn/utils/validation.py:1406(check_is_fitted)\n",
      "        2    0.000    0.000    0.000    0.000 numpy/core/numeric.py:274(full)\n",
      "        6    0.000    0.000    0.000    0.000 C:/Python3105_x64/lib/ctypes/__init__.py:384(__getattr__)\n",
      "        2    0.000    0.000    0.000    0.000 C:/Python3105_x64/lib/codeop.py:117(__call__)\n",
      "        1    0.000    0.000    0.000    0.000 joblib/parallel.py:89(get_active_backend)\n",
      "        3    0.000    0.000    0.000    0.000 threadpoolctl.py:818(num_threads)\n",
      "        4    0.000    0.000    0.000    0.000 threadpoolctl.py:856(set_num_threads)\n",
      "        1    0.000    0.000    0.000    0.000 threadpoolctl.py:171(__exit__)\n",
      "        2    0.000    0.000    0.000    0.000 C:/xavierdupre/__home_/github_fork/scikit-learn/sklearn/utils/validation.py:333(_num_samples)\n",
      "        1    0.000    0.000    0.000    0.000 threadpoolctl.py:181(restore_original_limits)\n",
      "        2    0.000    0.000    0.000    0.000 threadpoolctl.py:846(get_num_threads)\n",
      "        2    0.000    0.000    0.000    0.000 {built-in method builtins.compile}\n",
      "       33    0.000    0.000    0.000    0.000 {built-in method builtins.isinstance}\n",
      "        3    0.000    0.000    0.000    0.000 C:/xavierdupre/__home_/github_fork/scikit-learn/sklearn/utils/validation.py:1368(_is_fitted)\n"
     ]
    }
   ],
   "source": [
    "import cProfile\n",
    "import pstats\n",
    "from io import StringIO\n",
    "\n",
    "pr = cProfile.Profile()\n",
    "pr.enable()\n",
    "model.predict(datax)\n",
    "pr.disable()\n",
    "s = StringIO()\n",
    "ps = pstats.Stats(pr, stream=s).sort_stats(\"cumulative\")\n",
    "ps.print_stats()\n",
    "res = s.getvalue().replace(path, \"\").replace(\"\\\\\", \"/\").replace(\" /\", \" \")\n",
    "print(\"\\n\".join(res.split(\"\\n\")[:50]))"
   ]
  },
  {
   "cell_type": "markdown",
   "metadata": {},
   "source": [
    "Etudier l'évolution du temps de prédiction en fonction du nombre d'observations, de la dimension, du nombre de classes ? Qu'en déduisez-vous ? Le code sur GitHub :\n",
    "\n",
    "* [predict](https://github.com/scikit-learn/scikit-learn/blob/ef5cb84a/sklearn/neighbors/classification.py#L129)\n",
    "* [kneighbors](https://github.com/scikit-learn/scikit-learn/blob/ef5cb84a805efbe4bb06516670a9b8c690992bd7/sklearn/neighbors/base.py#L273)\n",
    "* [pairwise_distance](https://github.com/scikit-learn/scikit-learn/blob/master/sklearn/metrics/pairwise.py#L1141)"
   ]
  },
  {
   "cell_type": "markdown",
   "metadata": {},
   "source": [
    "## Q2 : k-nn avec sparse features\n",
    "\n",
    "On recommence cette mesure de temps mais en créant des jeux de données [sparses](https://fr.wikipedia.org/wiki/Matrice_creuse)."
   ]
  },
  {
   "cell_type": "markdown",
   "metadata": {},
   "source": [
    "## Q3 : Imaginez une façon d'aller plus vite ?\n",
    "\n",
    "Aller plus vite veut parfois dire perdre un peu en performance et dans notre cas, on veut accélérer la prédiction."
   ]
  },
  {
   "cell_type": "code",
   "execution_count": null,
   "metadata": {},
   "outputs": [],
   "source": []
  }
 ],
 "metadata": {
  "kernelspec": {
   "display_name": "Python 3 (ipykernel)",
   "language": "python",
   "name": "python3"
  },
  "language_info": {
   "codemirror_mode": {
    "name": "ipython",
    "version": 3
   },
   "file_extension": ".py",
   "mimetype": "text/x-python",
   "name": "python",
   "nbconvert_exporter": "python",
   "pygments_lexer": "ipython3",
   "version": "3.10.5"
  }
 },
 "nbformat": 4,
 "nbformat_minor": 2
}
