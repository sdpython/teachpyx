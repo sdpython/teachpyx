{
 "cells": [
  {
   "cell_type": "markdown",
   "metadata": {},
   "source": [
    "# Programmation dynamique et plus court chemin (correction)\n",
    "\n",
    "Correction."
   ]
  },
  {
   "cell_type": "markdown",
   "metadata": {},
   "source": [
    "On récupère le fichier ``matrix_distance_7398.txt`` depuis [matrix_distance_7398.zip](https://github.com/sdpython/teachpyx/raw/main/_data/matrix_distance_7398.zip) qui contient des distances entre différentes villes (pas toutes)."
   ]
  },
  {
   "cell_type": "code",
   "execution_count": 1,
   "metadata": {},
   "outputs": [
    {
     "data": {
      "text/plain": [
       "['./matrix_distance_7398.txt']"
      ]
     },
     "execution_count": 1,
     "metadata": {},
     "output_type": "execute_result"
    }
   ],
   "source": [
    "from teachpyx.tools.data_helper import download_and_unzip\n",
    "\n",
    "url = \"https://github.com/sdpython/teachpyx/raw/main/_data/matrix_distance_7398.zip\"\n",
    "\n",
    "download_and_unzip(url)"
   ]
  },
  {
   "cell_type": "code",
   "execution_count": 2,
   "metadata": {},
   "outputs": [
    {
     "data": {
      "text/plain": [
       "array([['Boulogne-Billancourt', 'Beauvais', 85597],\n",
       "       ['Courbevoie', 'Sevran', 26564],\n",
       "       ['Colombes', 'Alfortville', 36843],\n",
       "       ['Bagneux', 'Marcq-En-Baroeul', 233455],\n",
       "       ['Suresnes', 'Gennevilliers', 10443]], dtype=object)"
      ]
     },
     "execution_count": 2,
     "metadata": {},
     "output_type": "execute_result"
    }
   ],
   "source": [
    "import pandas\n",
    "\n",
    "df = pandas.read_csv(\n",
    "    \"matrix_distance_7398.txt\", sep=\"\\t\", header=None, names=[\"v1\", \"v2\", \"distance\"]\n",
    ")\n",
    "matrice = df.values\n",
    "matrice[:5]"
   ]
  },
  {
   "cell_type": "markdown",
   "metadata": {},
   "source": [
    "## Exercice 1"
   ]
  },
  {
   "cell_type": "code",
   "execution_count": 3,
   "metadata": {},
   "outputs": [
    {
     "name": "stdout",
     "output_type": "stream",
     "text": [
      "196\n"
     ]
    }
   ],
   "source": [
    "vil = {}\n",
    "for row in matrice:\n",
    "    vil[row[0]] = 0\n",
    "    vil[row[1]] = 1\n",
    "vil = list(vil.keys())\n",
    "print(len(vil))"
   ]
  },
  {
   "cell_type": "markdown",
   "metadata": {},
   "source": [
    "## Exercice 2\n",
    "\n",
    "La distance n'existe pas encore. L'exception du court programme suivant le montre. Rejoindre Bordeaux depuis Charleville nécessite plusieurs étapes."
   ]
  },
  {
   "cell_type": "code",
   "execution_count": 4,
   "metadata": {},
   "outputs": [
    {
     "name": "stdout",
     "output_type": "stream",
     "text": [
      "7888\n"
     ]
    }
   ],
   "source": [
    "dist = {}\n",
    "for row in matrice:\n",
    "    a = row[0]\n",
    "    b = row[1]\n",
    "    dist[a, b] = dist[b, a] = row[2]\n",
    "print(len(dist))"
   ]
  },
  {
   "cell_type": "code",
   "execution_count": 5,
   "metadata": {},
   "outputs": [
    {
     "name": "stdout",
     "output_type": "stream",
     "text": [
      "<class 'KeyError'> ('Charleville-Mezieres', 'Bordeaux')\n"
     ]
    }
   ],
   "source": [
    "try:\n",
    "    print(dist[\"Charleville-Mezieres\", \"Bordeaux\"])  # elle n'existe pas encore\n",
    "except Exception as e:\n",
    "    print(type(e), e)"
   ]
  },
  {
   "cell_type": "markdown",
   "metadata": {},
   "source": [
    "## Exercice 3\n",
    "\n",
    "On peut remplir facilement toutes les cases correspondant aux villes reliées à Charleville-Mézières, c'est-à-dire toutes les villes accessibles en une étape."
   ]
  },
  {
   "cell_type": "code",
   "execution_count": 6,
   "metadata": {},
   "outputs": [
    {
     "name": "stdout",
     "output_type": "stream",
     "text": [
      "196\n"
     ]
    }
   ],
   "source": [
    "d = {}\n",
    "d[\"Charleville-Mezieres\"] = 0\n",
    "for v in vil:\n",
    "    d[v] = 1e10\n",
    "for v, w in dist:\n",
    "    if v == \"Charleville-Mezieres\":\n",
    "        d[w] = dist[v, w]\n",
    "print(len(d))"
   ]
  },
  {
   "cell_type": "markdown",
   "metadata": {},
   "source": [
    "## Exercice 4\n",
    "\n",
    "Si on découvre que $d[w] > d[v] + dist[w,v]$, cela veut dire qu'il faut mettre à jour le tableau $d$ car il ne contient pas la distance optimale. On répète cela pour toutes les paires $(v,w)$."
   ]
  },
  {
   "cell_type": "code",
   "execution_count": 7,
   "metadata": {},
   "outputs": [
    {
     "name": "stdout",
     "output_type": "stream",
     "text": [
      "816197\n"
     ]
    }
   ],
   "source": [
    "for v, w in dist:\n",
    "    d2 = d[v] + dist[v, w]\n",
    "    if d2 < d[w]:\n",
    "        d[w] = d2\n",
    "print(d[\"Bordeaux\"])"
   ]
  },
  {
   "cell_type": "markdown",
   "metadata": {},
   "source": [
    "On trouve 813197 mètres pour la distance (Charleville-Mezieres, Bordeaux). Ce n'est pas forcément la meilleure. Pour être sûr, il faut répéter la même itération autant de fois qu'il y a de villes (car le plus long chemin contient autant d'étapes qu'il y a de villes). "
   ]
  },
  {
   "cell_type": "code",
   "execution_count": 8,
   "metadata": {},
   "outputs": [
    {
     "name": "stdout",
     "output_type": "stream",
     "text": [
      "795670\n"
     ]
    }
   ],
   "source": [
    "for i in range(0, len(d)):\n",
    "    for v, w in dist:\n",
    "        d2 = d[v] + dist[v, w]\n",
    "        if d2 < d[w]:\n",
    "            d[w] = d2\n",
    "print(d[\"Bordeaux\"])"
   ]
  },
  {
   "cell_type": "markdown",
   "metadata": {},
   "source": [
    "## Exercice facultatif\n",
    "\n",
    "Pour montrer que l'algorithme suggéré permettra d'obtenir la solution optimale, il faut montrer qu'il n'est pas nécessaire d'envisager aucun autre ordre que celui des skieurs et des paires triés par taille croissante. Cela ne veut pas dire qu'un autre ordre ne sera pas optimal, cela veut dire que pour obtenir l'appariement de coût optimal, il existe une solution pour laquelle skieurs et skis sont rangés dans l'ordre.\n",
    "\n",
    "On considère donc un appariement $\\sigma$ qui associé le skieur $t_i$ à la paire $s_{\\sigma(i)}$. Il suffit que montrer que :\n",
    "\n",
    "$\\forall i,j,  \\; t_i \\leqslant t_j \\Longleftrightarrow s_{\\sigma(i)} \\leqslant s_{\\sigma(j)}$\n",
    "\n",
    "Pour montrer cela, on fait un raisonnement par l'absurde : pour $i$ et $j$ quelconques, on suppose qu'il existe un appariement optimal tel que  $t_i \\geqslant  t_j$ et $s_{\\sigma(i)} < s_{\\sigma(j)}$. Le coût $C(\\sigma)$ de cet appariement est :\n",
    "\n",
    "$C(\\sigma) = \\sum_{k=1}^{N} \\left| t_k - s_{\\sigma(k)} \\right| = \\alpha + \\left| t_i - s_{\\sigma(i)} \\right| + \\left| t_j - s_{\\sigma(j)} \\right|$\n",
    "\n",
    "Le coût de l'appariement en permutant les skieurs $i$ et $j$ (donc en les rangeant dans l'ordre croissant) est :\n",
    "\n",
    "$C(\\sigma') = \\sum_{k=1}^{N} \\left| t_k - s_{\\sigma(k)} \\right| = \\alpha + \\left| t_j - s_{\\sigma(i)} \\right| + \\left| t_i - s_{\\sigma(j)} \\right|$\n",
    "\n",
    "On calcule :\n",
    "\n",
    "$C(\\sigma) - C(\\sigma') = \\left| t_i - s_{\\sigma(i)} \\right| + \\left| t_j - s_{\\sigma(j)} \\right|  - \\left| t_j - s_{\\sigma(i)} \\right| - \\left| t_i - s_{\\sigma(j)} \\right|$"
   ]
  },
  {
   "cell_type": "markdown",
   "metadata": {},
   "source": [
    "Premier cas $t_j \\geqslant s_{\\sigma(i)}$ et $t_i > t_j \\geqslant s_{\\sigma(i)}$ et :\n",
    "\n",
    "$\\begin{array}{rcl} C(\\sigma) - C(\\sigma') &=& \\left| t_i - s_{\\sigma(i)} \\right| + \\left| t_j - s_{\\sigma(j)} \\right|  - \\left(  t_j - s_{\\sigma(j)} + s_{\\sigma(j)} - s_{\\sigma(i)} \\right) - \\left| t_i - s_{\\sigma(j)} \\right| \\\\ &=&  t_i - s_{\\sigma(i)}  + \\left| t_j - s_{\\sigma(j)} \\right|  - \\left(  t_j - s_{\\sigma(j)} \\right) - \\left( s_{\\sigma(j)} - s_{\\sigma(i)} \\right) - \\left| t_i - s_{\\sigma(j)} \\right| \\\\ &=&  t_i - s_{\\sigma(i)}- \\left| t_i - s_{\\sigma(i)} \\right|  + \\left| t_j - s_{\\sigma(j)} \\right|  - \\left(  t_j - s_{\\sigma(j)} \\right) \\\\ &=&  \\left| t_j - s_{\\sigma(j)} \\right|  - \\left(  t_j - s_{\\sigma(j)} \\right|) \\\\  &\\geqslant& 0 \\end{array}$"
   ]
  },
  {
   "cell_type": "markdown",
   "metadata": {},
   "source": [
    "Second cas $t_j \\leqslant s_{\\sigma(i)}$ et $t_j \\leqslant s_{\\sigma(i)} \\leqslant s_{\\sigma(j)}$ et :\n",
    "\n",
    "$\\begin{array}{rcl} C(\\sigma) - C(\\sigma') &=& \\left| t_i - s_{\\sigma(i)} \\right| + s_{\\sigma(j)} -t_j  - \\left(  s_{\\sigma(i)} - t_j\\right) - \\left| t_i - s_{\\sigma(j)} \\right| \\\\ &=& \\left| t_i - s_{\\sigma(i)} \\right| + s_{\\sigma(j)} -  s_{\\sigma(i)} - \\left| t_i - s_{\\sigma(j)} \\right| \\\\ &\\geqslant& \\left| t_i - s_{\\sigma(j)}\\right| - \\left|  s_{\\sigma(j)} -  s_{\\sigma(i)} \\right| + s_{\\sigma(j)} -  s_{\\sigma(i)} - \\left| t_i - s_{\\sigma(j)} \\right| \\\\ &\\geqslant& 0 \\end{array}$\n",
    "\n",
    "Dans les deux cas, on montre donc qu'il existe un appariement meilleur ou équivalent en permutant les deux skieurs $i$ et $j$, c'est-à-dire en les triant par ordre croissant de taille. Nous avons donc montré que, si les paires de ski sont triées par ordre croissant de taille, il existe necéssairement un appariement optimal pour lequel les skieurs sont aussi triés par ordre croissant. Lors de la recherche de cet appariement optimal, on peut se restreindre à ces cas de figure."
   ]
  },
  {
   "cell_type": "markdown",
   "metadata": {},
   "source": [
    "## Exercice 5\n",
    "\n",
    "$p(n,m) = \\min \\left\\{  p(n-1,m-1) + \\left| t_n - s_m \\right|, p(n,m-1) \\right\\}$\n",
    "\n",
    "Lorsqu'on considère le meilleur appariement des paires $1..m$ et des skieurs $1..n$, il n'y a que deux choix possibles pour la paire $m$ :\n",
    "\n",
    "- soit elle n'est associée à aucun skieur et dans ce cas : $p(n,m) = p(n,m-1)$,\n",
    "- soit elle est associée au skieur $n$ (et à aucun autre) : $p(n,m) = p(n-1,m-1) + \\left| t_n - s_m \\right|$."
   ]
  },
  {
   "cell_type": "markdown",
   "metadata": {},
   "source": [
    "## Exercice 6"
   ]
  },
  {
   "cell_type": "code",
   "execution_count": 9,
   "metadata": {},
   "outputs": [
    {
     "name": "stdout",
     "output_type": "stream",
     "text": [
      "0.16268842703187558\n"
     ]
    }
   ],
   "source": [
    "import random\n",
    "\n",
    "skieurs = [random.gauss(1.75, 0.1) for i in range(0, 10)]\n",
    "paires = [random.gauss(1.75, 0.1) for i in range(0, 15)]\n",
    "skieurs.sort()\n",
    "paires.sort()\n",
    "\n",
    "p = {}\n",
    "p[-1, -1] = 0\n",
    "for n, taille in enumerate(skieurs):\n",
    "    p[n, -1] = p[n - 1, -1] + taille\n",
    "for m, paire in enumerate(paires):\n",
    "    p[-1, m] = 0\n",
    "for n, taille in enumerate(skieurs):\n",
    "    for m, paire in enumerate(paires):\n",
    "        p1 = p.get((n, m - 1), 1e10)\n",
    "        p2 = p.get((n - 1, m - 1), 1e10) + abs(taille - paire)\n",
    "        p[n, m] = min(p1, p2)\n",
    "\n",
    "print(p[len(skieurs) - 1, len(paires) - 1])"
   ]
  },
  {
   "cell_type": "markdown",
   "metadata": {},
   "source": [
    "## Exercice 7\n",
    "\n",
    "Il faut imaginer que $p$ peut être représenté sous forme de matrice et qu'à chaque fois, on prend le meilleur chemin parmi 2 :\n",
    "\n",
    "- Chemin horizontal : on ne choisit pas la paire $m$.\n",
    "- Chemin diagonal : on choisit la paire $m$ pour le skieur $n$"
   ]
  },
  {
   "cell_type": "code",
   "execution_count": 10,
   "metadata": {},
   "outputs": [
    {
     "data": {
      "image/png": "[encoded data removed]",
      "text/plain": [
       "<IPython.core.display.Image object>"
      ]
     },
     "execution_count": 10,
     "metadata": {},
     "output_type": "execute_result"
    }
   ],
   "source": [
    "from IPython.display import Image\n",
    "\n",
    "Image(\"graph_notebook_ski.png\")"
   ]
  },
  {
   "cell_type": "markdown",
   "metadata": {},
   "source": [
    "`` \\xymatrix{  & m-1  & m \\\\      n-1   &  p(n-1,m-1) \\ar[dr]^{ + \\abs{t_n - s_m}} &  p(n-1,m) \\\\      n     &  p(n,m-1)   \\ar[r] & p(n,m) \\\\ } ``"
   ]
  },
  {
   "cell_type": "code",
   "execution_count": 11,
   "metadata": {},
   "outputs": [
    {
     "name": "stdout",
     "output_type": "stream",
     "text": [
      "0.16268842703187558\n",
      "(9, 14)\n",
      "(8, 13)\n",
      "(7, 12)\n",
      "(6, 11)\n",
      "(6, 10)\n",
      "(5, 9)\n",
      "(4, 8)\n",
      "(4, 7)\n",
      "(3, 6)\n",
      "(2, 5)\n",
      "(1, 4)\n",
      "(0, 3)\n",
      "[(0, 3), (1, 4), (2, 5), (3, 6), (4, 7), (4, 8), (5, 9), (6, 10), (6, 11), (7, 12), (8, 13), (9, 14)]\n"
     ]
    }
   ],
   "source": [
    "p = {}\n",
    "p[-1, -1] = 0\n",
    "best = {}\n",
    "for n, taille in enumerate(skieurs):\n",
    "    p[n, -1] = p[n - 1, -1] + taille\n",
    "for m, paire in enumerate(paires):\n",
    "    p[-1, m] = 0\n",
    "for n, taille in enumerate(skieurs):\n",
    "    for m, paire in enumerate(paires):\n",
    "        p1 = p.get((n, m - 1), 1e10)\n",
    "        p2 = p.get((n - 1, m - 1), 1e10) + abs(taille - paire)\n",
    "        p[n, m] = min(p1, p2)\n",
    "\n",
    "        if p[n, m] == p1:\n",
    "            best[n, m] = n, m - 1\n",
    "        else:\n",
    "            best[n, m] = n - 1, m - 1\n",
    "\n",
    "print(p[len(skieurs) - 1, len(paires) - 1])\n",
    "\n",
    "chemin = []\n",
    "pos = len(skieurs) - 1, len(paires) - 1\n",
    "while pos in best:\n",
    "    print(pos)\n",
    "    chemin.append(pos)\n",
    "    pos = best[pos]\n",
    "chemin.reverse()\n",
    "print(chemin)"
   ]
  },
  {
   "cell_type": "markdown",
   "metadata": {},
   "source": [
    "## Exercice 8\n",
    "\n",
    "Les deux algorithmes ont un coût quadratique."
   ]
  },
  {
   "cell_type": "markdown",
   "metadata": {},
   "source": [
    "## Prolongements : degré de séparation sur Facebook"
   ]
  },
  {
   "cell_type": "code",
   "execution_count": 12,
   "metadata": {},
   "outputs": [
    {
     "data": {
      "text/html": [
       "<div>\n",
       "<style scoped>\n",
       "    .dataframe tbody tr th:only-of-type {\n",
       "        vertical-align: middle;\n",
       "    }\n",
       "\n",
       "    .dataframe tbody tr th {\n",
       "        vertical-align: top;\n",
       "    }\n",
       "\n",
       "    .dataframe thead th {\n",
       "        text-align: right;\n",
       "    }\n",
       "</style>\n",
       "<table border=\"1\" class=\"dataframe\">\n",
       "  <thead>\n",
       "    <tr style=\"text-align: right;\">\n",
       "      <th></th>\n",
       "      <th>v1</th>\n",
       "      <th>v2</th>\n",
       "    </tr>\n",
       "  </thead>\n",
       "  <tbody>\n",
       "    <tr>\n",
       "      <th>0</th>\n",
       "      <td>2290</td>\n",
       "      <td>2363</td>\n",
       "    </tr>\n",
       "    <tr>\n",
       "      <th>1</th>\n",
       "      <td>2346</td>\n",
       "      <td>2025</td>\n",
       "    </tr>\n",
       "    <tr>\n",
       "      <th>2</th>\n",
       "      <td>2140</td>\n",
       "      <td>2428</td>\n",
       "    </tr>\n",
       "    <tr>\n",
       "      <th>3</th>\n",
       "      <td>2201</td>\n",
       "      <td>2506</td>\n",
       "    </tr>\n",
       "    <tr>\n",
       "      <th>4</th>\n",
       "      <td>2425</td>\n",
       "      <td>2557</td>\n",
       "    </tr>\n",
       "  </tbody>\n",
       "</table>\n",
       "</div>"
      ],
      "text/plain": [
       "     v1    v2\n",
       "0  2290  2363\n",
       "1  2346  2025\n",
       "2  2140  2428\n",
       "3  2201  2506\n",
       "4  2425  2557"
      ]
     },
     "execution_count": 12,
     "metadata": {},
     "output_type": "execute_result"
    }
   ],
   "source": [
    "import pandas\n",
    "\n",
    "url = \"https://github.com/sdpython/teachpyx/raw/main/_data/facebook.zip\"\n",
    "\n",
    "download_and_unzip(url)\n",
    "df = pandas.read_csv(\"facebook/1912.edges\", sep=\" \", names=[\"v1\", \"v2\"])\n",
    "df.head()"
   ]
  },
  {
   "cell_type": "code",
   "execution_count": null,
   "metadata": {
    "collapsed": true
   },
   "outputs": [],
   "source": []
  },
  {
   "cell_type": "code",
   "execution_count": null,
   "metadata": {
    "collapsed": true
   },
   "outputs": [],
   "source": []
  }
 ],
 "metadata": {
  "kernelspec": {
   "display_name": "Python 3 (ipykernel)",
   "language": "python",
   "name": "python3"
  },
  "language_info": {
   "codemirror_mode": {
    "name": "ipython",
    "version": 3
   },
   "file_extension": ".py",
   "mimetype": "text/x-python",
   "name": "python",
   "nbconvert_exporter": "python",
   "pygments_lexer": "ipython3",
   "version": "3.10.12"
  }
 },
 "nbformat": 4,
 "nbformat_minor": 2
}
