{
 "cells": [
  {
   "cell_type": "markdown",
   "metadata": {},
   "source": [
    "# Cryptage homomorphic de Craig Gentry - correction\n",
    "\n",
    "Un cryptage homomorphe préserve l'addition et la multiplication : une addition sur des nombres cryptés est égale au résultat crypté de l'addition sur les nombres non cryptées. Craig Gentry a proposé un tel cryptage dans son article [Fully Homomorphic Encryption over the Integers](https://eprint.iacr.org/2009/616.pdf). Le système de cryptage encrypte et décrypte des bits (0 ou 1). Correction."
   ]
  },
  {
   "cell_type": "markdown",
   "metadata": {},
   "source": [
    "## Définition du cryptage\n",
    "\n",
    "$KeyGen(\\lambda)$\n",
    "\n",
    "* La clé secrète $sk$ est un entier impair $p$ codé sur $\\eta$ bits : $p\\in (2\\mathbb{Z}+1) \\cap [2^{\\eta}, 2^{\\eta+1}[$.\n",
    "* La clé publique $pk$ est une séquence de $\\tau+1$ entiers aléatoires tirés selon un loi $\\mathcal{D}_{\\gamma,\\rho}(p)$. La séquence $(x_0, ..., x_{\\tau})$ (doit vérifier $x_0$ est impair et $r_p(x_0)$ est pair. Il faut recommencer si ce n'est pas le cas. Chaque entier est codé sur au plus $\\gamma$ bits.\n",
    "\n",
    "$Encrypt(pk, m\\in \\{0,1\\})$\n",
    "\n",
    "Choisir un ensemble aléatoire $S \\subset \\{1, ..., \\tau\\}$ et un entier aléatoire $r$ dans l'intervalle $]-2^{\\rho'}, 2^{\\rho'}[$. Calculer $c = (m + 2r + 2\\sum_{i \\in S} x_i) \\mod x_0$.\n",
    "\n",
    "$Evaluate(pk, C, c_1, ..., c_t)$\n",
    "\n",
    "La fonction $C$ effectue des opérations sur $t$ bits. Le résultat est $c$.\n",
    "\n",
    "$Decrypt(sk, c)$\n",
    "\n",
    "Le résultat cherché est $(c \\mod p) \\mod 2$.\n",
    "\n",
    "**Avec :** (valeurs suggérées par l'article mais d'autres sont possibles\n",
    "\n",
    "* $\\rho = \\lambda$\n",
    "* $\\rho' = 2\\lambda$\n",
    "* $\\eta \\sim  O(\\lambda^2)$\n",
    "* $\\gamma \\sim  O(\\lambda^5)$\n",
    "* $\\tau = \\gamma + \\lambda$\n",
    "* Pour simuler une loi $\\mathcal{D}_{\\gamma,\\rho}(p)$, choisir $q$ tel que $q \\in \\mathbb{Z} \\cap \\left[0, \\frac{2^{\\gamma}}{p}\\right[$, $r$ tel que $r \\in \\mathbb{Z} \\cap \\left]-2^{\\rho}, 2^{\\rho}\\right[$ et calculer $x = pq+r$.\n",
    "* $r_p(x)$ est le reste de la division entière de $x$ par $p$, reste choisi dans l'intervalle $\\left]-\\frac{p}{2}, \\frac{p}{2}\\right]$."
   ]
  },
  {
   "cell_type": "markdown",
   "metadata": {},
   "source": [
    "## Exercice 1 : implémenter le cryptage"
   ]
  },
  {
   "cell_type": "code",
   "execution_count": null,
   "metadata": {},
   "outputs": [],
   "source": []
  },
  {
   "cell_type": "markdown",
   "metadata": {},
   "source": [
    "## Exercice 2 : vérifier que le cryptage est stable par addition et multiplication"
   ]
  },
  {
   "cell_type": "code",
   "execution_count": null,
   "metadata": {},
   "outputs": [],
   "source": []
  },
  {
   "cell_type": "markdown",
   "metadata": {},
   "source": [
    "## Exercice 3 : implémententer l'addition entière "
   ]
  },
  {
   "cell_type": "code",
   "execution_count": null,
   "metadata": {},
   "outputs": [],
   "source": []
  },
  {
   "cell_type": "markdown",
   "metadata": {},
   "source": [
    "## Exercice 4 : implémenter la multiplication entière"
   ]
  },
  {
   "cell_type": "code",
   "execution_count": null,
   "metadata": {},
   "outputs": [],
   "source": []
  },
  {
   "cell_type": "code",
   "execution_count": null,
   "metadata": {},
   "outputs": [],
   "source": []
  }
 ],
 "metadata": {
  "kernelspec": {
   "display_name": "Python 3 (ipykernel)",
   "language": "python",
   "name": "python3"
  },
  "language_info": {
   "codemirror_mode": {
    "name": "ipython",
    "version": 3
   },
   "file_extension": ".py",
   "mimetype": "text/x-python",
   "name": "python",
   "nbconvert_exporter": "python",
   "pygments_lexer": "ipython3",
   "version": "3.10.5"
  }
 },
 "nbformat": 4,
 "nbformat_minor": 2
}
