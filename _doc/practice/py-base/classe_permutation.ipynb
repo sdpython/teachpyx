{
 "cells": [
  {
   "cell_type": "markdown",
   "id": "27c5f085",
   "metadata": {},
   "source": [
    "# Classe Permutation et décomposition en transitions\n",
    "\n",
    "On reprend le notebook qui introduit la [classe permutation](https://sdpython.github.io/doc/teachpyx/dev/practice/py-base/classe_de.html) pour la compléter avec pour objectifs de décomposer une permutation en transposition (l'échange de deux élements dans un tableau)."
   ]
  },
  {
   "cell_type": "markdown",
   "id": "2fd07b3e",
   "metadata": {},
   "source": [
    "## Composition\n",
    "\n",
    "Lorsque la décomposition d'une permutation sera implémentée, il faudra vérifier (tester) qu'elle fonctionne. Pour cela, il faut être capable de composer deux permutations. C'est l'objet de la méthode `compose` ci-dessous."
   ]
  },
  {
   "cell_type": "code",
   "execution_count": 2,
   "id": "a5b7babd-b939-4a3e-82d6-25b5cb74840d",
   "metadata": {},
   "outputs": [],
   "source": [
    "class Permutation:\n",
    "    def __init__(self, sigma_or_n: int | list[int]):\n",
    "        if isinstance(sigma_or_n, int):\n",
    "            self.sigma = list(range(sigma_or_n))\n",
    "        elif isinstance(sigma_or_n, list):\n",
    "            self.sigma = sigma_or_n\n",
    "        else:\n",
    "            # Ce code produit une erreur dès que le type du paramètre d'entrée\n",
    "            # n'est ni un entier ni une liste.\n",
    "            raise TypeError(f\"unexpected type {type(sigma_or_n)}\")\n",
    "\n",
    "    def __str__(self) -> str:\n",
    "        return \" \".join([str(i) for i in self.sigma])\n",
    "\n",
    "    def applique(self, ensemble: list) -> list:\n",
    "        nouvel_ensemble = [None for i in ensemble]\n",
    "        for position, s in enumerate(self.sigma):\n",
    "            nouvel_ensemble[position] = ensemble[s]\n",
    "        return nouvel_ensemble\n",
    "\n",
    "    def compose(self, p2):\n",
    "        \"\"\"\n",
    "        Composer deux permutations revient à appliquer la seconde permutation\n",
    "        sur l'ensemble sigma qui définit la première permutation.\n",
    "        \"\"\"\n",
    "        perm = p2.applique(self.sigma)\n",
    "        return Permutation(perm)\n",
    "\n",
    "\n",
    "def test_compose():\n",
    "    \"\"\"\n",
    "    On test sur des cas simples, la permutation de deux éléments\n",
    "    ou encore l'applique de la même permutation trois fois.\n",
    "    On peut aussi vérifier qu'un théorème est vrai. Le groupe des permutations\n",
    "    de l'ensemble n étant fini, il existe un entier telle la permutation\n",
    "    composée avec elle-même n fois aboutisse à la permutation identité.\n",
    "    \"\"\"\n",
    "    p1 = Permutation([1, 0])\n",
    "    assert p1.compose(p1).sigma == [0, 1]\n",
    "    p2 = Permutation([2, 0, 1])\n",
    "    assert p2.compose(p2.compose(p2)).sigma == [0, 1, 2]\n",
    "\n",
    "\n",
    "test_compose()"
   ]
  },
  {
   "cell_type": "markdown",
   "id": "7ca9b515",
   "metadata": {},
   "source": [
    "## Opérateur == et @\n",
    "\n",
    "Tout fonctionne mais l'écriture est verbeuse. On souhaite la simplifier pour écrire `p == [0, 1]` au lieu de `p.sigma == [0, 1]`. Pour cela, il faut surcharger l'opérateur `==` et implémentation la méthode spéciale `__eq__`. On fait de même avec la composition, on veut écrire `p1 @ p2` à la place de `p1.compose(p2)`."
   ]
  },
  {
   "cell_type": "code",
   "execution_count": 5,
   "id": "025becc9-af9c-4fe0-a066-3873e02d55be",
   "metadata": {},
   "outputs": [
    {
     "data": {
      "text/plain": [
       "True"
      ]
     },
     "execution_count": 5,
     "metadata": {},
     "output_type": "execute_result"
    }
   ],
   "source": [
    "class Permutation:\n",
    "    def __init__(self, sigma_or_n: int | list[int]):\n",
    "        if isinstance(sigma_or_n, int):\n",
    "            self.sigma = list(range(sigma_or_n))\n",
    "        elif isinstance(sigma_or_n, list):\n",
    "            self.sigma = sigma_or_n\n",
    "        else:\n",
    "            # Ce code produit une erreur dès que le type du paramètre d'entrée\n",
    "            # n'est ni un entier ni une liste.\n",
    "            raise TypeError(f\"unexpected type {type(sigma_or_n)}\")\n",
    "\n",
    "    def __str__(self) -> str:\n",
    "        return \" \".join([str(i) for i in self.sigma])\n",
    "\n",
    "    def applique(self, ensemble: list) -> list:\n",
    "        nouvel_ensemble = [None for i in ensemble]\n",
    "        for position, s in enumerate(self.sigma):\n",
    "            nouvel_ensemble[position] = ensemble[s]\n",
    "        return nouvel_ensemble\n",
    "\n",
    "    def compose(self, p2):\n",
    "        perm = p2.applique(self.sigma)\n",
    "        return Permutation(perm)\n",
    "\n",
    "    def __eq__(self, ens):\n",
    "        \"\"\"\n",
    "        Cette méthode est appelée dès qu'on écrit `p == quelque chose`.\n",
    "        \"\"\"\n",
    "        if isinstance(ens, list):\n",
    "            # si ens est une liste...\n",
    "            return self.sigma == ens\n",
    "        # si ens est une instance de la classe Permutation...\n",
    "        return self.sigma == ens.sigma\n",
    "\n",
    "    def __matmul__(self, p):\n",
    "        \"\"\"\n",
    "        Cette méthode est appelée dès qu'on écrit `p1 @ quelque chose`.\n",
    "        \"\"\"\n",
    "        return self.compose(p)\n",
    "\n",
    "\n",
    "def test_compose():\n",
    "    \"\"\"\n",
    "    La fonction de test est plus lisible comme ceci.\n",
    "    Mais c'est parfois une affaire de goût.\n",
    "    \"\"\"\n",
    "    p1 = Permutation([1, 0])\n",
    "    assert p1 @ p1 == [0, 1]\n",
    "    p2 = Permutation([2, 0, 1])\n",
    "    assert p2 @ p2 @ p2 == [0, 1, 2]\n",
    "\n",
    "\n",
    "test_compose()\n",
    "\n",
    "p = Permutation([0, 1])\n",
    "p == [0, 1]"
   ]
  },
  {
   "cell_type": "markdown",
   "id": "1692f961",
   "metadata": {},
   "source": [
    "## Décomposition\n",
    "\n",
    "La décomposition d'une permutation en transposition consiste à chercher un élement qui n'est pas à sa position puis à le permutation avec celui qui l'est. Puis de continuer jusqu'à ce que tous les éléments soient à leur position.\n",
    "\n",
    "```\n",
    "position  0  1  2  3  4\n",
    "sigma     0  2  3  4  1\n",
    "```\n",
    "\n",
    "Itération 1 : on permute 2 et 3 aux positions 1 et 2\n",
    "\n",
    "```\n",
    "position  0  1  2  3  4\n",
    "sigma     0  3  2  4  1\n",
    "```\n",
    "\n",
    "Itération 2 : on permute 3 et 4 aux positions 1 et 3\n",
    "\n",
    "```\n",
    "position  0  1  2  3  4\n",
    "sigma     0  4  2  3  1\n",
    "```\n",
    "\n",
    "Itération 3 : on permute 4 et 1 aux positions 1 et 4\n",
    "\n",
    "```\n",
    "position  0  1  2  3  4\n",
    "sigma     0  1  2  3  4\n",
    "```\n",
    "\n",
    "On a fini. Les transpositions sont donc dans l'ordre inverse (1, 2), (1, 3), (1, 4)."
   ]
  },
  {
   "cell_type": "code",
   "execution_count": 9,
   "id": "c37001be-56bb-43c1-aa17-b0d4d764745d",
   "metadata": {},
   "outputs": [],
   "source": [
    "class Permutation:\n",
    "    def __init__(self, sigma_or_n: int | list[int]):\n",
    "        if isinstance(sigma_or_n, int):\n",
    "            self.sigma = list(range(sigma_or_n))\n",
    "        elif isinstance(sigma_or_n, list):\n",
    "            self.sigma = sigma_or_n\n",
    "        else:\n",
    "            # Ce code produit une erreur dès que le type du paramètre d'entrée\n",
    "            # n'est ni un entier ni une liste.\n",
    "            raise TypeError(f\"unexpected type {type(sigma_or_n)}\")\n",
    "\n",
    "    def __str__(self) -> str:\n",
    "        return \" \".join([str(i) for i in self.sigma])\n",
    "\n",
    "    def applique(self, ensemble: list) -> list:\n",
    "        nouvel_ensemble = [None for i in ensemble]\n",
    "        for position, s in enumerate(self.sigma):\n",
    "            nouvel_ensemble[position] = ensemble[s]\n",
    "        return nouvel_ensemble\n",
    "\n",
    "    def compose(self, p2):\n",
    "        perm = p2.applique(self.sigma)\n",
    "        return Permutation(perm)\n",
    "\n",
    "    def __eq__(self, ens):\n",
    "        if isinstance(ens, list):\n",
    "            return self.sigma == ens\n",
    "        return self.sigma == ens.sigma\n",
    "\n",
    "    def __matmul__(self, p):\n",
    "        return self.compose(p)\n",
    "\n",
    "    def decompose(self):\n",
    "        transposition = []\n",
    "        i = 0\n",
    "        state = self.sigma.copy()\n",
    "        while i < len(state):\n",
    "            if state[i] == i:\n",
    "                # l'élément est à sa position, on passe au suivant,\n",
    "                # on sait que tous les éléments aux positions k < i\n",
    "                # sont également à leur positions\n",
    "                i += 1\n",
    "            else:\n",
    "                # l'élément n'est pas à sa position,\n",
    "                # on permute avec celui à sa position,\n",
    "                # on les grande dans une liste\n",
    "                transposition.append((i, state[i]))\n",
    "                v = state[i]\n",
    "                state[v], state[i] = state[i], state[v]\n",
    "        # on retourne la liste\n",
    "        transposition.reverse()\n",
    "        return transposition\n",
    "\n",
    "\n",
    "def applique_decomposition_identite(n, decomposition):\n",
    "    # On prend la permutation identité et on applique chaque transposition.\n",
    "    p = Permutation(n)\n",
    "    for i, j in decomposition:\n",
    "        perm = list(range(n))\n",
    "        perm[i], perm[j] = perm[j], perm[i]\n",
    "        tr = Permutation(perm)\n",
    "        p = p.compose(tr)\n",
    "    return p\n",
    "\n",
    "\n",
    "def test_decompose1():\n",
    "    # On se sert de l'exemple donné ci-dessus pour tester la fonction.\n",
    "    p = Permutation([0, 2, 3, 4, 1])\n",
    "    dec = p.decompose()\n",
    "    assert dec == [(1, 4), (1, 3), (1, 2)]\n",
    "\n",
    "\n",
    "def test_decompose2():\n",
    "    p = Permutation([0, 2, 3, 4, 1])\n",
    "    dec = p.decompose()\n",
    "    result = applique_decomposition_identite(len(p.sigma), dec)\n",
    "    assert p == result\n",
    "\n",
    "\n",
    "test_decompose1()\n",
    "test_decompose2()"
   ]
  },
  {
   "cell_type": "markdown",
   "id": "8f3899ec",
   "metadata": {},
   "source": [
    "## Transposition\n",
    "\n",
    "Pour écrire le code de vérification, on a créé une transposition comme une instance de la classe Permutation :\n",
    "\n",
    "```python\n",
    "perm = list(range(n))\n",
    "perm[i], perm[j] = perm[j], perm[i]\n",
    "tr = Permutation(perm)\n",
    "```\n",
    "\n",
    "On souhaite en faire une classe spéciale car ces permutations sont présentes dans de nombreux algorithmes. Mais comme une transposition est aussi une permutation, on souhaite créer une classe qui fonctionne de la même manière que la classe `Permutation`. C'est à cela que sert l'héritage. Ici, on a juste besoin de changer la façon dont une instance de classe `Permutation` est créée."
   ]
  },
  {
   "cell_type": "code",
   "execution_count": 10,
   "id": "273f0a13-557c-4108-a5b5-aaeb86ec3b1d",
   "metadata": {},
   "outputs": [
    {
     "name": "stdout",
     "output_type": "stream",
     "text": [
      "TR: 0 1 3 2\n",
      "0 1 2 3\n"
     ]
    }
   ],
   "source": [
    "class Transposition(Permutation):\n",
    "    def __init__(self, i, j, n):\n",
    "        perm = list(range(n))\n",
    "        perm[i], perm[j] = perm[j], perm[i]\n",
    "        Permutation.__init__(\n",
    "            self, perm\n",
    "        )  # on appelle le constructeur de la classe parent = Permutation\n",
    "\n",
    "    def __str__(self):\n",
    "        return \"TR: \" + Permutation.__str__(\n",
    "            self\n",
    "        )  # on appelle la méthode de la classe parent = Permutation\n",
    "\n",
    "\n",
    "t = Transposition(2, 3, 4)\n",
    "print(t)\n",
    "print(t @ t)"
   ]
  },
  {
   "cell_type": "markdown",
   "id": "182c0175",
   "metadata": {},
   "source": [
    "## Un exemple court pour démêler ce qui est changé\n",
    "\n",
    "L'exemple suivant permet de suivre quelle méthode appelle quelle autre lors d'un héritage."
   ]
  },
  {
   "cell_type": "code",
   "execution_count": 11,
   "id": "d0dea92f-552c-4dc7-a949-09b5a7be2ce9",
   "metadata": {},
   "outputs": [
    {
     "name": "stdout",
     "output_type": "stream",
     "text": [
      "B enfant\n",
      "A parent\n",
      "C enfant\n"
     ]
    }
   ],
   "source": [
    "class Parent:\n",
    "    def A(self):\n",
    "        print(\"A parent\")\n",
    "        self.C()\n",
    "\n",
    "    def B(self):\n",
    "        print(\"B parent\")\n",
    "        self.A()\n",
    "\n",
    "    def C(self):\n",
    "        print(\"C parent\")\n",
    "\n",
    "\n",
    "class Enfant(Parent):\n",
    "    def B(self):\n",
    "        print(\"B enfant\")\n",
    "        self.A()\n",
    "\n",
    "    def C(self):\n",
    "        print(\"C enfant\")\n",
    "\n",
    "\n",
    "p = Enfant()\n",
    "p.B()"
   ]
  },
  {
   "cell_type": "markdown",
   "id": "5902ca5b-c02f-4965-a184-080b4e6572e3",
   "metadata": {},
   "source": [
    "## Python 3.x\n",
    "\n",
    "Le langage python autorise d'autres écriture pour appeler la classe parent avec la fonction [super](https://docs.python.org/3/library/functions.html#super)."
   ]
  },
  {
   "cell_type": "code",
   "execution_count": 13,
   "id": "a282f6f6",
   "metadata": {},
   "outputs": [
    {
     "name": "stdout",
     "output_type": "stream",
     "text": [
      "TR: 0 1 3 2\n",
      "0 1 2 3\n"
     ]
    }
   ],
   "source": [
    "class Transposition(Permutation):\n",
    "    def __init__(self, i, j, n):\n",
    "        perm = list(range(n))\n",
    "        perm[i], perm[j] = perm[j], perm[i]\n",
    "        super().__init__(\n",
    "            perm\n",
    "        )  # on appelle le constructeur de la classe parent = Permutation\n",
    "\n",
    "    def __str__(self):\n",
    "        return (\n",
    "            \"TR: \" + super().__str__()\n",
    "        )  # on appelle la méthode de la classe parent = Permutation\n",
    "\n",
    "\n",
    "t = Transposition(2, 3, 4)\n",
    "print(t)\n",
    "print(t @ t)"
   ]
  },
  {
   "cell_type": "markdown",
   "id": "ddb17b21",
   "metadata": {},
   "source": [
    "Ou encore"
   ]
  },
  {
   "cell_type": "code",
   "execution_count": 16,
   "id": "45ab4981",
   "metadata": {},
   "outputs": [
    {
     "name": "stdout",
     "output_type": "stream",
     "text": [
      "TR: 0 1 3 2\n",
      "0 1 2 3\n"
     ]
    }
   ],
   "source": [
    "class Transposition(Permutation):\n",
    "    def __init__(self, i, j, n):\n",
    "        perm = list(range(n))\n",
    "        perm[i], perm[j] = perm[j], perm[i]\n",
    "        super(Transposition, self).__init__(\n",
    "            perm\n",
    "        )  # on appelle le constructeur de la classe parent = Permutation\n",
    "\n",
    "    def __str__(self):\n",
    "        return (\n",
    "            \"TR: \" + super(Transposition, self).__str__()\n",
    "        )  # on appelle la méthode de la classe parent = Permutation\n",
    "\n",
    "\n",
    "t = Transposition(2, 3, 4)\n",
    "print(t)\n",
    "print(t @ t)"
   ]
  },
  {
   "cell_type": "markdown",
   "id": "9761f0a6",
   "metadata": {},
   "source": [
    "La fonction `super` recherche le parent d'une classe. C'est donc un peu plus lent que de l'écrire de façon explicite. Voir aussi [Python’s super() considered super! ](https://rhettinger.wordpress.com/2011/05/26/super-considered-super/)."
   ]
  },
  {
   "cell_type": "markdown",
   "id": "e316c720",
   "metadata": {},
   "source": []
  }
 ],
 "metadata": {
  "kernelspec": {
   "display_name": "Python 3 (ipykernel)",
   "language": "python",
   "name": "python3"
  },
  "language_info": {
   "codemirror_mode": {
    "name": "ipython",
    "version": 3
   },
   "file_extension": ".py",
   "mimetype": "text/x-python",
   "name": "python",
   "nbconvert_exporter": "python",
   "pygments_lexer": "ipython3",
   "version": "3.10.12"
  }
 },
 "nbformat": 4,
 "nbformat_minor": 5
}
