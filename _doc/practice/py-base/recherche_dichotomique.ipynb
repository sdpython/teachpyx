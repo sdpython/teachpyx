{
 "cells": [
  {
   "cell_type": "markdown",
   "metadata": {},
   "source": [
    "# Recherche dichotomique\n",
    "\n",
    "Recherche dichotomique illustrée."
   ]
  },
  {
   "cell_type": "markdown",
   "metadata": {},
   "source": [
    "Lorsqu'on décrit n'importe quel algorithme, on évoque toujours son coût, souvent une formule de ce style :\n",
    "\n",
    "$$O(n^u(\\ln_2 n)^v)$$\n",
    "\n",
    "$u$ et $v$ sont des entiers. $v$ est souvent soit 0, soit 1. Mais d'où vient ce logarithme ? Le premier algorithme auquel on pense et dont le coût correspond au cas $u=0$ et $v=1$ est la recherche dichotomique. Il consiste à chercher un élément dans une liste triée. Le logarithme vient du fait qu'on réduit l'espace de recherche par deux à chaque itération. Fatalement, on trouve très vite l'élément à chercher. Et le logarithme, dans la plupart des algorithmes, vient du fait qu'on divise la dimension du problème par un nombre entier à chaque itération, ici 2.\n",
    "\n",
    "La recherche dichotomique est assez simple : on part d'une liste triée ``T`` et on cherche l'élément ``v`` (on suppose qu'il s'y trouve). On procède comme suit :\n",
    "\n",
    "* On compare ``v`` à l'élément du milieu de la liste.\n",
    "* S'il est égal à ``v``, on a fini.\n",
    "* Sinon, s'il est inférieur, il faut chercher dans la première moitié de la liste. On retourne à l'étape 1 avec la liste réduite.\n",
    "* S'il est supérieur, on fait de même avec la seconde moitié de la liste.\n",
    "\n",
    "C'est ce qu'illustre la figure suivante où ``a`` désigne le début de la liste, ``b`` la fin, ``m`` le milieu. A chaque itération, on déplace ces trois positions."
   ]
  },
  {
   "cell_type": "code",
   "execution_count": 2,
   "metadata": {},
   "outputs": [
    {
     "data": {
      "image/png": "[encoded data removed]",
      "text/plain": [
       "<IPython.core.display.Image object>"
      ]
     },
     "execution_count": 2,
     "metadata": {},
     "output_type": "execute_result"
    }
   ],
   "source": [
    "from IPython.display import Image\n",
    "\n",
    "Image(\"images/dicho.png\")"
   ]
  },
  {
   "cell_type": "markdown",
   "metadata": {},
   "source": [
    "## Version itérative"
   ]
  },
  {
   "cell_type": "code",
   "execution_count": 3,
   "metadata": {
    "collapsed": true
   },
   "outputs": [],
   "source": [
    "def recherche_dichotomique(element, liste_triee):\n",
    "    a = 0\n",
    "    b = len(liste_triee) - 1\n",
    "    m = (a + b) // 2\n",
    "    while a < b:\n",
    "        if liste_triee[m] == element:\n",
    "            return m\n",
    "        elif liste_triee[m] > element:\n",
    "            b = m - 1\n",
    "        else:\n",
    "            a = m + 1\n",
    "        m = (a + b) // 2\n",
    "    return a"
   ]
  },
  {
   "cell_type": "code",
   "execution_count": 4,
   "metadata": {},
   "outputs": [
    {
     "data": {
      "text/plain": [
       "2"
      ]
     },
     "execution_count": 4,
     "metadata": {},
     "output_type": "execute_result"
    }
   ],
   "source": [
    "li = [0, 4, 5, 19, 100, 200, 450, 999]\n",
    "recherche_dichotomique(5, li)"
   ]
  },
  {
   "cell_type": "markdown",
   "metadata": {},
   "source": [
    "## Version récursive"
   ]
  },
  {
   "cell_type": "code",
   "execution_count": 5,
   "metadata": {
    "collapsed": true
   },
   "outputs": [],
   "source": [
    "def recherche_dichotomique_recursive(element, liste_triee, a=0, b=-1):\n",
    "    if a == b:\n",
    "        return a\n",
    "    if b == -1:\n",
    "        b = len(liste_triee) - 1\n",
    "    m = (a + b) // 2\n",
    "    if liste_triee[m] == element:\n",
    "        return m\n",
    "    elif liste_triee[m] > element:\n",
    "        return recherche_dichotomique_recursive(element, liste_triee, a, m - 1)\n",
    "    else:\n",
    "        return recherche_dichotomique_recursive(element, liste_triee, m + 1, b)"
   ]
  },
  {
   "cell_type": "code",
   "execution_count": 6,
   "metadata": {},
   "outputs": [
    {
     "data": {
      "text/plain": [
       "2"
      ]
     },
     "execution_count": 6,
     "metadata": {},
     "output_type": "execute_result"
    }
   ],
   "source": [
    "recherche_dichotomique(5, li)"
   ]
  },
  {
   "cell_type": "markdown",
   "metadata": {},
   "source": [
    "## Version récursive 2\n",
    "\n",
    "L'ajout des parametrès ``a`` et ``b`` peut paraître un peu lourd. Voici une troisième implémentation en Python (toujours récursive) :"
   ]
  },
  {
   "cell_type": "code",
   "execution_count": 7,
   "metadata": {
    "collapsed": true
   },
   "outputs": [],
   "source": [
    "def recherche_dichotomique_recursive2(element, liste_triee):\n",
    "    if len(liste_triee) == 1:\n",
    "        return 0\n",
    "    m = len(liste_triee) // 2\n",
    "    if liste_triee[m] == element:\n",
    "        return m\n",
    "    elif liste_triee[m] > element:\n",
    "        return recherche_dichotomique_recursive2(element, liste_triee[:m])\n",
    "    else:\n",
    "        return m + recherche_dichotomique_recursive2(element, liste_triee[m:])"
   ]
  },
  {
   "cell_type": "code",
   "execution_count": 8,
   "metadata": {},
   "outputs": [
    {
     "data": {
      "text/plain": [
       "2"
      ]
     },
     "execution_count": 8,
     "metadata": {},
     "output_type": "execute_result"
    }
   ],
   "source": [
    "recherche_dichotomique(5, li)"
   ]
  },
  {
   "cell_type": "markdown",
   "metadata": {},
   "source": [
    "Il ne faut pas oublier ``m +`` sinon le résultat peut être décalé dans certains cas. Ensuite, cette version sera un peu moins rapide du fait de la recopie d'une partie de la liste."
   ]
  },
  {
   "cell_type": "code",
   "execution_count": null,
   "metadata": {
    "collapsed": true
   },
   "outputs": [],
   "source": []
  }
 ],
 "metadata": {
  "kernelspec": {
   "display_name": "Python 3 (ipykernel)",
   "language": "python",
   "name": "python3"
  },
  "language_info": {
   "codemirror_mode": {
    "name": "ipython",
    "version": 3
   },
   "file_extension": ".py",
   "mimetype": "text/x-python",
   "name": "python",
   "nbconvert_exporter": "python",
   "pygments_lexer": "ipython3",
   "version": "3.10.6"
  }
 },
 "nbformat": 4,
 "nbformat_minor": 2
}
