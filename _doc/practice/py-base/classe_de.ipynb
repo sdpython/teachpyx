{
 "cells": [
  {
   "cell_type": "markdown",
   "id": "94392b90",
   "metadata": {},
   "source": [
    "# Jeu de dé, rotation sur un circuit (classes)\n",
    "\n",
    "Ce notebook met en classe les fonctions développées dans le notebook [Jeu de dé, rotation sur un circuit](https://sdpython.github.io/doc/teachpyx/dev/practice/py-base/de_rotation.html).\n",
    "\n",
    "Le notebook utilise les [annotations](https://docs.python.org/fr/3/howto/annotations.html) pour indiquer les types de variables et résultats la fonction ou méthode manipulent. L'interpréteur n'utilise pas ces informations. Elles peuvent être néanmoins utilisées par des outils comme [mypy](https://github.com/python/mypy) pour vérifier s'il n'existe pas des incohérences. D'autres outils comme [black](https://black.readthedocs.io/en/stable/index.html) ou encore [black-nb](https://github.com/tomcatling/black-nb) permettent de formatter le code. Le module [ruff](https://astral.sh/ruff) permet quant à lui de vérifier le code sans l'exécuter."
   ]
  },
  {
   "cell_type": "markdown",
   "id": "43208f07",
   "metadata": {},
   "source": [
    "## De\n",
    "\n",
    "La classe minimaliste comprend un unique constructeur. Il initialise la classe et en particulier ces attributes."
   ]
  },
  {
   "cell_type": "code",
   "execution_count": 1,
   "id": "4fe36f3b-b42d-4ef1-b9a6-f2023399500b",
   "metadata": {},
   "outputs": [
    {
     "name": "stdout",
     "output_type": "stream",
     "text": [
      "<__main__.De object at 0x7fec374f5ed0>\n"
     ]
    }
   ],
   "source": [
    "class De:\n",
    "    def __init__(self, faces: list[int] | None = None):\n",
    "        self.de = [2, 6, 5, 1, 4, 3] if faces is None else faces\n",
    "\n",
    "\n",
    "d = De()\n",
    "print(d)"
   ]
  },
  {
   "cell_type": "markdown",
   "id": "48cb4520",
   "metadata": {},
   "source": [
    "L'affichage de la classe n'est pas très utile car python ne sait pas convertir une classe en une chaîne de caractères autrement qu'en retournant le type de la classe. Mais on peut définir cette conversion de sorte que `str(d)` retourne une chaîne qu'on aura construite."
   ]
  },
  {
   "cell_type": "code",
   "execution_count": 2,
   "id": "f7a04543",
   "metadata": {},
   "outputs": [
    {
     "name": "stdout",
     "output_type": "stream",
     "text": [
      "De en chaîne\n"
     ]
    }
   ],
   "source": [
    "class De:\n",
    "    def __init__(self, faces: list[int] | None = None):\n",
    "        self.de = [2, 6, 5, 1, 4, 3] if faces is None else faces\n",
    "\n",
    "    def __str__(self) -> str:\n",
    "        return \"De en chaîne\"\n",
    "\n",
    "\n",
    "de = De()\n",
    "print(de)"
   ]
  },
  {
   "cell_type": "markdown",
   "id": "adb51a40",
   "metadata": {},
   "source": [
    "Il ne reste plus qu'à retourner une chaîne de caractères plus utile :"
   ]
  },
  {
   "cell_type": "code",
   "execution_count": 3,
   "id": "df5aee02",
   "metadata": {},
   "outputs": [
    {
     "name": "stdout",
     "output_type": "stream",
     "text": [
      "\n",
      "           |   4     |\n",
      "        De | 2 6 5 1 |\n",
      "           |   3     |\n",
      "        \n"
     ]
    }
   ],
   "source": [
    "class De:\n",
    "    def __init__(self, faces: list[int] | None = None):\n",
    "        self.de = [2, 6, 5, 1, 4, 3] if faces is None else faces\n",
    "\n",
    "    def __str__(self) -> str:\n",
    "        return f\"\"\"\n",
    "           |   {self.de[4]}     |\n",
    "        De | {self.de[0]} {self.de[1]} {self.de[2]} {self.de[3]} |\n",
    "           |   {self.de[5]}     |\n",
    "        \"\"\"\n",
    "\n",
    "\n",
    "de = De()\n",
    "print(de)"
   ]
  },
  {
   "cell_type": "markdown",
   "id": "fb2f312e",
   "metadata": {},
   "source": [
    "Un autre example :"
   ]
  },
  {
   "cell_type": "code",
   "execution_count": null,
   "id": "c0571fc1-5565-460b-bc98-ad03d85d7b61",
   "metadata": {},
   "outputs": [],
   "source": [
    "de_autre = De([6, 5, 4, 3, 2, 1])\n",
    "print(de_autre)"
   ]
  },
  {
   "cell_type": "markdown",
   "id": "8aaaed2c",
   "metadata": {},
   "source": [
    "On ajoute une méthode vérifiant la validité du dé, à savoir des faces toutes distinctes et des faces opposées dont la somme fait 7."
   ]
  },
  {
   "cell_type": "code",
   "execution_count": 4,
   "id": "59db776c-37b9-42ca-b6a3-9d613b9cd83c",
   "metadata": {},
   "outputs": [
    {
     "name": "stdout",
     "output_type": "stream",
     "text": [
      "True\n"
     ]
    }
   ],
   "source": [
    "class De:\n",
    "    def __init__(self, faces: list[int] | None = None):\n",
    "        self.de = [2, 6, 5, 1, 4, 3] if faces is None else faces\n",
    "\n",
    "    def __str__(self) -> str:\n",
    "        return f\"\"\"\n",
    "           |   {self.de[4]}     |\n",
    "        De | {self.de[0]} {self.de[1]} {self.de[2]} {self.de[3]} |\n",
    "           |   {self.de[5]}     |\n",
    "        \"\"\"\n",
    "\n",
    "    def valid(self) -> bool:\n",
    "        sommes = [\n",
    "            self.de[0] + self.de[2],\n",
    "            self.de[1] + self.de[3],\n",
    "            self.de[4] + self.de[5],\n",
    "        ]\n",
    "        return min(sommes) == max(sommes) == 7 and set(self.de) == set(range(1, 7))\n",
    "\n",
    "\n",
    "d = De()\n",
    "print(d.valid())"
   ]
  },
  {
   "cell_type": "markdown",
   "id": "7a0b5142",
   "metadata": {},
   "source": [
    "## Permutation\n",
    "\n",
    "Faire tourner un dé revient à appliquer une permutation sur l'ensemble des faces. On construit pour ce faire une classe permutation.\n",
    "`Permutation(5)` est la permutation identité (qui ne change rien) sur un ensemble de 5 éléments. On ajoute à cette classe une méthode `applique` qui permute les éléments d'un ensemble quelconque."
   ]
  },
  {
   "cell_type": "code",
   "execution_count": 5,
   "id": "183d9f5a-20bc-4d7b-9038-1c3e72988a8b",
   "metadata": {},
   "outputs": [
    {
     "data": {
      "text/plain": [
       "['B', 'C', 'D', 'A']"
      ]
     },
     "execution_count": 5,
     "metadata": {},
     "output_type": "execute_result"
    }
   ],
   "source": [
    "class Permutation:\n",
    "    def __init__(self, sigma_or_n: int | list[int]):\n",
    "        if isinstance(sigma_or_n, int):\n",
    "            self.sigma = list(range(sigma_or_n))\n",
    "        elif isinstance(sigma_or_n, list):\n",
    "            self.sigma = sigma_or_n\n",
    "        else:\n",
    "            # Ce code produit une erreur dès que le type du paramètre d'entrée\n",
    "            # n'est ni un entier ni une liste.\n",
    "            raise TypeError(f\"unexpected type {type(sigma_or_n)}\")\n",
    "\n",
    "    def __str__(self) -> str:\n",
    "        return \" \".join([str(i) for i in self.sigma])\n",
    "\n",
    "    def applique(self, ensemble: list) -> list:\n",
    "        nouvel_ensemble = [None for i in ensemble]\n",
    "        for position, s in enumerate(self.sigma):\n",
    "            nouvel_ensemble[position] = ensemble[s]\n",
    "        return nouvel_ensemble\n",
    "\n",
    "\n",
    "p = Permutation([1, 2, 3, 0])\n",
    "p.applique([\"A\", \"B\", \"C\", \"D\"])"
   ]
  },
  {
   "cell_type": "markdown",
   "id": "e6e16a47",
   "metadata": {},
   "source": [
    "On vérifie que l'expression `Permutation(5.5)` produit une erreur en l'attrapant."
   ]
  },
  {
   "cell_type": "code",
   "execution_count": 9,
   "id": "32f101ed-03b7-4edb-91a8-0dfcfed866d9",
   "metadata": {},
   "outputs": [
    {
     "name": "stdout",
     "output_type": "stream",
     "text": [
      "<class 'TypeError'> unexpected type <class 'float'>\n"
     ]
    }
   ],
   "source": [
    "try:\n",
    "    p = Permutation(5.5)\n",
    "except Exception as e:\n",
    "    print(type(e), e)"
   ]
  },
  {
   "cell_type": "markdown",
   "id": "be1643ad",
   "metadata": {},
   "source": [
    "Une utilise maintenant cette classe pour réécrire les fonctions `rotation1` et `rotation2`."
   ]
  },
  {
   "cell_type": "code",
   "execution_count": 10,
   "id": "46e1b1f8",
   "metadata": {},
   "outputs": [],
   "source": [
    "def rotation(de: De, p: Permutation) -> De:\n",
    "    return De(p.applique(de.de))\n",
    "\n",
    "\n",
    "def rotation1(de: De) -> De:\n",
    "    \"\"\"\n",
    "    [2 6 5 1 4 3] -> [1 2 6 5 4 3]\n",
    "    \"\"\"\n",
    "    return rotation(de, Permutation([3, 0, 1, 2, 4, 5]))\n",
    "\n",
    "\n",
    "def test_rotation1():\n",
    "    de0 = de = De([2, 6, 5, 1, 4, 3])\n",
    "    for i in range(4):\n",
    "        de = rotation1(de)\n",
    "        assert set(de.de) == set(de0.de)\n",
    "    assert de.de == de0.de\n",
    "\n",
    "\n",
    "test_rotation1()"
   ]
  },
  {
   "cell_type": "markdown",
   "id": "f3b289a1",
   "metadata": {},
   "source": [
    "Cette fonction applique une permutation à un dé. On pourrait en faire une méthode de la classe `De`."
   ]
  },
  {
   "cell_type": "code",
   "execution_count": 18,
   "id": "a2cdb489-ee17-44e8-a06d-260ae6fe4a57",
   "metadata": {},
   "outputs": [],
   "source": [
    "class De:\n",
    "    def __init__(self, faces: list[int] | None = None):\n",
    "        self.de = [2, 6, 5, 1, 4, 3] if faces is None else faces\n",
    "\n",
    "    def __str__(self):\n",
    "        return f\"\"\"\n",
    "           |   {self.de[4]}     |\n",
    "        De | {self.de[0]} {self.de[1]} {self.de[2]} {self.de[3]} |\n",
    "           |   {self.de[5]}     |\n",
    "        \"\"\"\n",
    "\n",
    "    def valid(self):\n",
    "        sommes = [\n",
    "            self.de[0] + self.de[2],\n",
    "            self.de[1] + self.de[3],\n",
    "            self.de[4] + self.de[5],\n",
    "        ]\n",
    "        return min(sommes) == max(sommes) == 7 and set(self.de) == set(range(1, 7))\n",
    "\n",
    "    # L'annotation du résultat est \"De\" plutôt que De car le type doit exister\n",
    "    # au moment où l'interpréteur lit la ligne. Or ce type De est en train d'être défini.\n",
    "    def rotation(self, p: Permutation) -> \"De\":\n",
    "        return De(p.applique(self.de))\n",
    "\n",
    "    def rotation1(self) -> \"De\":\n",
    "        \"\"\"\n",
    "        [2 6 5 1 4 3] -> [1 2 6 5 4 3]\n",
    "        \"\"\"\n",
    "        return self.rotation(Permutation([3, 0, 1, 2, 4, 5]))\n",
    "\n",
    "    def rotation2(self) -> \"De\":\n",
    "        \"\"\"\n",
    "        [2 6 5 1 4 3] -> [4 6 3 1 5 2]\n",
    "        \"\"\"\n",
    "        return self.rotation(Permutation([4, 1, 5, 3, 2, 0]))\n",
    "\n",
    "\n",
    "def test_rotation1():\n",
    "    r = De([2, 6, 5, 1, 4, 3]).rotation1().de\n",
    "    expected = [1, 2, 6, 5, 4, 3]\n",
    "    if r != expected:\n",
    "        raise AssertionError(f\"{r} != {expected}\")\n",
    "\n",
    "\n",
    "def test_rotation2():\n",
    "    r = De([2, 6, 5, 1, 4, 3]).rotation2().de\n",
    "    expected = [4, 6, 3, 1, 5, 2]\n",
    "    if r != expected:\n",
    "        raise AssertionError(f\"{r} != {expected}\")\n",
    "\n",
    "\n",
    "test_rotation1()\n",
    "test_rotation2()"
   ]
  },
  {
   "cell_type": "markdown",
   "id": "b1d011bc",
   "metadata": {},
   "source": [
    " "
   ]
  }
 ],
 "metadata": {
  "kernelspec": {
   "display_name": "Python 3 (ipykernel)",
   "language": "python",
   "name": "python3"
  },
  "language_info": {
   "codemirror_mode": {
    "name": "ipython",
    "version": 3
   },
   "file_extension": ".py",
   "mimetype": "text/x-python",
   "name": "python",
   "nbconvert_exporter": "python",
   "pygments_lexer": "ipython3",
   "version": "3.10.12"
  }
 },
 "nbformat": 4,
 "nbformat_minor": 5
}