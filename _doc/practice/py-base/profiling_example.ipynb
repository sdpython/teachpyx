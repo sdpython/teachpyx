{
 "cells": [
  {
   "cell_type": "markdown",
   "metadata": {},
   "source": [
    "# Exemple de profiling\n",
    "\n",
    "Profiling et fonction *pdf*. Le profiling est utilisé pour mesurer le temps que passe un programme dans chaque fonction."
   ]
  },
  {
   "cell_type": "markdown",
   "metadata": {},
   "source": [
    "## Bizarrerie"
   ]
  },
  {
   "cell_type": "markdown",
   "metadata": {},
   "source": [
    "C'est un exemple qui m'a été envoyé par un étudiant pendant l'été pour montrer que la fonction [pdf](http://docs.scipy.org/doc/scipy-0.16.0/reference/generated/scipy.stats.norm.html) est plus lente qu'une réimplémentation simple qui fait à la même chose."
   ]
  },
  {
   "cell_type": "code",
   "execution_count": 1,
   "metadata": {
    "collapsed": true
   },
   "outputs": [],
   "source": [
    "import time\n",
    "from scipy.stats import norm\n",
    "import numpy as np"
   ]
  },
  {
   "cell_type": "code",
   "execution_count": 2,
   "metadata": {},
   "outputs": [
    {
     "data": {
      "text/plain": [
       "0.9644453525543213"
      ]
     },
     "execution_count": 2,
     "metadata": {},
     "output_type": "execute_result"
    }
   ],
   "source": [
    "debut = time.time()\n",
    "for i in range(10**3):\n",
    "    norm(2, 3).pdf(4)\n",
    "fin = time.time()\n",
    "fin - debut"
   ]
  },
  {
   "cell_type": "code",
   "execution_count": 3,
   "metadata": {},
   "outputs": [
    {
     "data": {
      "text/plain": [
       "0.001481771469116211"
      ]
     },
     "execution_count": 3,
     "metadata": {},
     "output_type": "execute_result"
    }
   ],
   "source": [
    "def density(x, mean, sigma2):\n",
    "    return np.exp(-((x - mean) ** 2) / (2 * sigma2)) / (2 * np.pi * sigma2) ** 0.5\n",
    "\n",
    "\n",
    "debut = time.time()\n",
    "for i in range(10**3):\n",
    "    density(4, 2, 3)\n",
    "fin = time.time()\n",
    "fin - debut"
   ]
  },
  {
   "cell_type": "markdown",
   "metadata": {},
   "source": [
    "**Que se passe-t-il ?**\n",
    "\n",
    "Tout d'abord la fonction [pdf](http://docs.scipy.org/doc/scipy-0.16.0/reference/generated/scipy.stats.norm.html) comme toute les fonctions des librairies numériques sont optimisées pour le calcul sur des matrices ou des vecteurs et non sur des nombres. Pour la suite, on utilise un profileur."
   ]
  },
  {
   "cell_type": "markdown",
   "metadata": {},
   "source": [
    "## Profiler"
   ]
  },
  {
   "cell_type": "code",
   "execution_count": 4,
   "metadata": {
    "collapsed": true
   },
   "outputs": [],
   "source": [
    "import cProfile, io, pstats, os, sys\n",
    "\n",
    "\n",
    "def doprofile(func, filename, *l):\n",
    "    pr = cProfile.Profile()\n",
    "    pr.enable()  # début du profiling\n",
    "    func(*l)  # appel de la fonction\n",
    "    pr.disable()  # fin du profiling\n",
    "    s = io.StringIO()\n",
    "    ps = pstats.Stats(pr, stream=s).sort_stats(\"cumulative\")\n",
    "    ps.print_stats()\n",
    "    rem = os.path.normpath(os.path.join(os.getcwd(), \"..\", \"..\", \"..\"))\n",
    "    res = s.getvalue().replace(rem, \"\")\n",
    "    res = res.replace(sys.base_prefix, \"\").replace(\"\\\\\", \"/\")\n",
    "    ps.dump_stats(filename)\n",
    "    return res"
   ]
  },
  {
   "cell_type": "code",
   "execution_count": 5,
   "metadata": {},
   "outputs": [
    {
     "data": {
      "text/plain": [
       "(10000000, 1)"
      ]
     },
     "execution_count": 5,
     "metadata": {},
     "output_type": "execute_result"
    }
   ],
   "source": [
    "import numpy\n",
    "\n",
    "x = numpy.ones((10000000, 1)) * 4\n",
    "x.shape"
   ]
  },
  {
   "cell_type": "code",
   "execution_count": 6,
   "metadata": {},
   "outputs": [
    {
     "name": "stdout",
     "output_type": "stream",
     "text": [
      "0.6027283668518066 (10000000, 1) [0.00013383]\n"
     ]
    }
   ],
   "source": [
    "debut = time.time()\n",
    "y = norm.pdf(x)\n",
    "fin = time.time()\n",
    "print(fin - debut, y.shape, y[0])"
   ]
  },
  {
   "cell_type": "code",
   "execution_count": 17,
   "metadata": {},
   "outputs": [
    {
     "name": "stdout",
     "output_type": "stream",
     "text": [
      "         113 function calls in 0.450 seconds\n",
      "\n",
      "   Ordered by: cumulative time\n",
      "\n",
      "   ncalls  tottime  percall  cumtime  percall filename:lineno(function)\n",
      "        1    0.178    0.178    0.450    0.450 /site-packages/scipy/stats/_distn_infrastructure.py:1958(pdf)\n",
      "        1    0.000    0.000    0.142    0.142 /site-packages/scipy/stats/_continuous_distns.py:361(_pdf)\n",
      "        1    0.142    0.142    0.142    0.142 /site-packages/scipy/stats/_continuous_distns.py:300(_norm_pdf)\n",
      "        7    0.022    0.003    0.093    0.013 {built-in method numpy.core._multiarray_umath.implement_array_function}\n",
      "        1    0.000    0.000    0.048    0.048 <__array_function__ internals>:177(place)\n",
      "        1    0.000    0.000    0.048    0.048 /site-packages/numpy/lib/function_base.py:1912(place)\n",
      "        1    0.048    0.048    0.048    0.048 {built-in method numpy.core._multiarray_umath._insert}\n",
      "        1    0.028    0.028    0.028    0.028 /site-packages/scipy/stats/_distn_infrastructure.py:975(_support_mask)\n",
      "        1    0.000    0.000    0.022    0.022 <__array_function__ internals>:177(putmask)\n",
      "        2    0.000    0.000    0.022    0.011 /site-packages/numpy/core/fromnumeric.py:69(_wrapreduction)\n",
      "        2    0.021    0.011    0.021    0.011 {method 'reduce' of 'numpy.ufunc' objects}\n",
      "        1    0.000    0.000    0.021    0.021 /site-packages/scipy/stats/_distn_infrastructure.py:559(argsreduce)\n",
      "        1    0.000    0.000    0.011    0.011 <__array_function__ internals>:177(all)\n",
      "        1    0.000    0.000    0.011    0.011 /site-packages/numpy/core/fromnumeric.py:2406(all)\n",
      "        1    0.000    0.000    0.011    0.011 <__array_function__ internals>:177(any)\n",
      "        1    0.000    0.000    0.011    0.011 /site-packages/numpy/core/fromnumeric.py:2307(any)\n",
      "        1    0.000    0.000    0.010    0.010 /site-packages/scipy/stats/_distn_infrastructure.py:604(<listcomp>)\n",
      "        2    0.010    0.005    0.010    0.005 {method 'ravel' of 'numpy.ndarray' objects}\n",
      "        1    0.000    0.000    0.000    0.000 <__array_function__ internals>:177(broadcast_arrays)\n",
      "        1    0.000    0.000    0.000    0.000 /site-packages/numpy/lib/stride_tricks.py:480(broadcast_arrays)\n",
      "        1    0.000    0.000    0.000    0.000 /site-packages/numpy/lib/stride_tricks.py:546(<listcomp>)\n",
      "        3    0.000    0.000    0.000    0.000 /site-packages/numpy/lib/stride_tricks.py:340(_broadcast_to)\n",
      "        2    0.000    0.000    0.000    0.000 /site-packages/numpy/core/_ufunc_config.py:32(seterr)\n",
      "        1    0.000    0.000    0.000    0.000 <__array_function__ internals>:177(atleast_1d)\n",
      "        1    0.000    0.000    0.000    0.000 /site-packages/numpy/core/_ufunc_config.py:434(__exit__)\n",
      "        1    0.000    0.000    0.000    0.000 /site-packages/numpy/core/_ufunc_config.py:429(__enter__)\n",
      "        1    0.000    0.000    0.000    0.000 /site-packages/numpy/core/shape_base.py:23(atleast_1d)\n",
      "        1    0.000    0.000    0.000    0.000 <__array_function__ internals>:177(shape)\n",
      "        1    0.000    0.000    0.000    0.000 {built-in method numpy.zeros}\n",
      "        1    0.000    0.000    0.000    0.000 /site-packages/numpy/lib/stride_tricks.py:416(_broadcast_shape)\n",
      "        2    0.000    0.000    0.000    0.000 /site-packages/numpy/core/_ufunc_config.py:131(geterr)\n",
      "        3    0.000    0.000    0.000    0.000 {built-in method builtins.any}\n",
      "        1    0.000    0.000    0.000    0.000 /site-packages/numpy/lib/stride_tricks.py:538(<listcomp>)\n",
      "        2    0.000    0.000    0.000    0.000 {built-in method numpy.seterrobj}\n",
      "        3    0.000    0.000    0.000    0.000 /site-packages/numpy/lib/function_base.py:346(iterable)\n",
      "        4    0.000    0.000    0.000    0.000 {built-in method numpy.geterrobj}\n",
      "        9    0.000    0.000    0.000    0.000 /site-packages/numpy/lib/stride_tricks.py:345(<genexpr>)\n",
      "        1    0.000    0.000    0.000    0.000 {built-in method numpy.asarray}\n",
      "        1    0.000    0.000    0.000    0.000 {built-in method builtins.all}\n",
      "        6    0.000    0.000    0.000    0.000 {built-in method numpy.array}\n",
      "        2    0.000    0.000    0.000    0.000 /site-packages/numpy/core/fromnumeric.py:70(<dictcomp>)\n",
      "        1    0.000    0.000    0.000    0.000 {method 'reshape' of 'numpy.ndarray' objects}\n",
      "        1    0.000    0.000    0.000    0.000 /site-packages/numpy/core/fromnumeric.py:1965(shape)\n",
      "        3    0.000    0.000    0.000    0.000 /site-packages/numpy/lib/stride_tricks.py:542(<genexpr>)\n",
      "        1    0.000    0.000    0.000    0.000 {built-in method numpy.promote_types}\n",
      "        1    0.000    0.000    0.000    0.000 /site-packages/numpy/core/_ufunc_config.py:425(__init__)\n",
      "        1    0.000    0.000    0.000    0.000 /site-packages/scipy/stats/_distn_infrastructure.py:941(_argcheck)\n",
      "        3    0.000    0.000    0.000    0.000 /site-packages/numpy/lib/stride_tricks.py:25(_maybe_view_as_subclass)\n",
      "        2    0.000    0.000    0.000    0.000 {method 'items' of 'dict' objects}\n",
      "        1    0.000    0.000    0.000    0.000 /site-packages/numpy/core/fromnumeric.py:2302(_any_dispatcher)\n",
      "        1    0.000    0.000    0.000    0.000 /site-packages/numpy/core/multiarray.py:1106(putmask)\n",
      "        1    0.000    0.000    0.000    0.000 /site-packages/numpy/core/fromnumeric.py:1961(_shape_dispatcher)\n",
      "        2    0.000    0.000    0.000    0.000 {built-in method builtins.len}\n",
      "        3    0.000    0.000    0.000    0.000 {method '__exit__' of 'numpy.nditer' objects}\n",
      "        3    0.000    0.000    0.000    0.000 {built-in method builtins.iter}\n",
      "        1    0.000    0.000    0.000    0.000 /site-packages/numpy/lib/function_base.py:1908(_place_dispatcher)\n",
      "        2    0.000    0.000    0.000    0.000 {method 'append' of 'list' objects}\n",
      "        1    0.000    0.000    0.000    0.000 /site-packages/scipy/stats/_distn_infrastructure.py:953(_get_support)\n",
      "        2    0.000    0.000    0.000    0.000 {built-in method builtins.isinstance}\n",
      "        1    0.000    0.000    0.000    0.000 {method 'disable' of '_lsprof.Profiler' objects}\n",
      "        2    0.000    0.000    0.000    0.000 {built-in method numpy.asanyarray}\n",
      "        1    0.000    0.000    0.000    0.000 <string>:2(_parse_args)\n",
      "        1    0.000    0.000    0.000    0.000 /site-packages/numpy/core/shape_base.py:19(_atleast_1d_dispatcher)\n",
      "        1    0.000    0.000    0.000    0.000 /site-packages/numpy/core/fromnumeric.py:2401(_all_dispatcher)\n",
      "        1    0.000    0.000    0.000    0.000 /site-packages/numpy/lib/stride_tricks.py:476(_broadcast_arrays_dispatcher)\n",
      "\n",
      "\n",
      "\n"
     ]
    }
   ],
   "source": [
    "import os\n",
    "import scipy\n",
    "\n",
    "path = os.path.normpath(os.path.join(scipy.__file__, \"..\", \"..\", \"..\"))\n",
    "\n",
    "r = doprofile(norm.pdf, \"pdf.prof\", x)\n",
    "print(r.replace(path, \"\"))"
   ]
  },
  {
   "cell_type": "code",
   "execution_count": 8,
   "metadata": {},
   "outputs": [
    {
     "name": "stdout",
     "output_type": "stream",
     "text": [
      "0.1882781982421875 (10000000, 1) [0.00013383]\n"
     ]
    }
   ],
   "source": [
    "def density(x, mean, sigma2):\n",
    "    return np.exp(-((x - mean) ** 2) / (2 * sigma2)) / (2 * np.pi * sigma2) ** 0.5\n",
    "\n",
    "\n",
    "debut = time.time()\n",
    "y = density(x, 0.0, 1.0)\n",
    "fin = time.time()\n",
    "print(fin - debut, y.shape, y[0])"
   ]
  },
  {
   "cell_type": "code",
   "execution_count": 9,
   "metadata": {},
   "outputs": [
    {
     "name": "stdout",
     "output_type": "stream",
     "text": [
      "         2 function calls in 0.177 seconds\n",
      "\n",
      "   Ordered by: cumulative time\n",
      "\n",
      "   ncalls  tottime  percall  cumtime  percall filename:lineno(function)\n",
      "        1    0.177    0.177    0.177    0.177 /tmp/ipykernel_29119/200996087.py:1(density)\n",
      "        1    0.000    0.000    0.000    0.000 {method 'disable' of '_lsprof.Profiler' objects}\n",
      "\n",
      "\n",
      "\n"
     ]
    }
   ],
   "source": [
    "r = doprofile(density, \"pdf.prof\", x, 0, 1)\n",
    "print(r)"
   ]
  },
  {
   "cell_type": "markdown",
   "metadata": {
    "collapsed": true
   },
   "source": [
    "Quand on regarde le code de la fonction, on s'aperçoit que la fonction perd du temps dans [argsreduce](https://github.com/scipy/scipy/blob/v0.17.1/scipy/stats/_distn_infrastructure.py#L521). Elle fait aussi d'autres choses comme regarder les valeurs manquantes. En guise de conclusion, lorsqu'une fonction gère trop de cas particuliers (type, valeurs), elle est nécessairement plus lente qu'une fonction qu'on implémente soi-même."
   ]
  },
  {
   "cell_type": "code",
   "execution_count": null,
   "metadata": {
    "collapsed": true
   },
   "outputs": [],
   "source": []
  },
  {
   "cell_type": "code",
   "execution_count": null,
   "metadata": {
    "collapsed": true
   },
   "outputs": [],
   "source": []
  }
 ],
 "metadata": {
  "kernelspec": {
   "display_name": "Python 3 (ipykernel)",
   "language": "python",
   "name": "python3"
  }
 },
 "nbformat": 4,
 "nbformat_minor": 1
}