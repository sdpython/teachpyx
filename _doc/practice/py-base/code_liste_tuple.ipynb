{
 "cells": [
  {
   "cell_type": "markdown",
   "metadata": {},
   "source": [
    "# Liste, tuple, ensemble, dictionnaire, liste chaînée, coût des opérations\n",
    "\n",
    "Exemples de containers, list, tuple, set, dict."
   ]
  },
  {
   "cell_type": "markdown",
   "metadata": {},
   "source": [
    "Python propose différents [containers](https://docs.python.org/3.4/tutorial/datastructures.html#) pour stocker des éléments. Voici les plus courants :\n",
    "\n",
    "- [list](https://docs.python.org/3.4/tutorial/datastructures.html#more-on-lists) : tableau d'éléments indexés de 0 à $n$ exclu auquel on peut ajouter ou retirer des éléments\n",
    "- [dict](https://docs.python.org/3.4/tutorial/datastructures.html#dictionaries) : tableau d'éléments indexés par des types immuables auquel on peut ajouter ou retirer des éléments\n",
    "- [tuple](https://docs.python.org/3.4/tutorial/datastructures.html#tuples-and-sequences) : tableau d'éléments indexés de 0 à $n$ exclu qu'on ne peut pas modifier\n",
    "- [set](https://docs.python.org/3.4/tutorial/datastructures.html#sets) : tableau d'éléments uniques non indexés\n",
    "- [frozenset](https://docs.python.org/3.4/tutorial/datastructures.html#sets) : ``set`` immuables (non modifiable)\n",
    "- [deque](https://docs.python.org/3.4/library/collections.html#collections.deque) : presque équivalent à une listes, la différent vient de l'implémentation, les mêmes opérations n'auront pas les mêmes coûts (deque = [liste chaînée](http://fr.wikipedia.org/wiki/Liste_cha%C3%AEn%C3%A9e))\n",
    "\n",
    "D'autres containers sont disponibles via le module [collections](https://docs.python.org/3.4/library/collections.html). Tous proposent de stocker un nombre variables d'éléments. Deux aspects difféèrent :\n",
    "\n",
    "- la façon de désigner un élément de l'ensemble\n",
    "- le coût de certaines opérations, il faut choisir qui minisera le coût des opérations pour votre programme"
   ]
  },
  {
   "cell_type": "markdown",
   "metadata": {},
   "source": [
    "### Insertion avec ``list`` et ``deque``\n",
    "\n",
    "On veut comparer les coûts d'insertion en début et fin de liste pour un grand nombre d'éléments."
   ]
  },
  {
   "cell_type": "code",
   "execution_count": 1,
   "metadata": {},
   "outputs": [
    {
     "name": "stdout",
     "output_type": "stream",
     "text": [
      "passage  0\n",
      "  insertion en fin\n",
      "    list 1000000 éléments, temps par éléments : 3.043996999999763e-07\n",
      "    deque 1000000 éléments, temps par éléments : 2.178121000001738e-07\n",
      "  insertion au début\n",
      "    deque 1000000 éléments, temps par éléments : 1.8570490000001884e-07\n",
      "    list 10000 éléments, temps par éléments : 4.053180000005341e-06\n",
      "passage  1\n",
      "  insertion en fin\n",
      "    list 1000000 éléments, temps par éléments : 1.3997890000018743e-07\n",
      "    deque 1000000 éléments, temps par éléments : 1.6107420000003003e-07\n",
      "  insertion au début\n",
      "    deque 1000000 éléments, temps par éléments : 1.515752000000248e-07\n",
      "    list 10000 éléments, temps par éléments : 3.5221999999976104e-06\n",
      "passage  2\n",
      "  insertion en fin\n",
      "    list 1000000 éléments, temps par éléments : 1.691041999999925e-07\n",
      "    deque 1000000 éléments, temps par éléments : 1.5332390000003215e-07\n",
      "  insertion au début\n",
      "    deque 1000000 éléments, temps par éléments : 1.6655210000021725e-07\n",
      "    list 10000 éléments, temps par éléments : 3.256439999995564e-06\n"
     ]
    }
   ],
   "source": [
    "import time, collections\n",
    "\n",
    "N = 1000000\n",
    "\n",
    "for p in range(0, 3):\n",
    "    print(\"passage \", p)\n",
    "    print(\"  insertion en fin\")\n",
    "\n",
    "    li = list()\n",
    "    a = time.perf_counter()\n",
    "    for i in range(0, N):\n",
    "        li.append(i)\n",
    "    b = time.perf_counter()\n",
    "    print(\"    list\", N, \"éléments, temps par éléments :\", (b - a) / N)\n",
    "\n",
    "    li = collections.deque()\n",
    "    a = time.perf_counter()\n",
    "    for i in range(0, N):\n",
    "        li.append(i)\n",
    "    b = time.perf_counter()\n",
    "    print(\"    deque\", N, \"éléments, temps par éléments :\", (b - a) / N)\n",
    "\n",
    "    print(\"  insertion au début\")\n",
    "    li = collections.deque()\n",
    "    a = time.perf_counter()\n",
    "    for i in range(0, N):\n",
    "        li.appendleft(i)\n",
    "    b = time.perf_counter()\n",
    "    print(\"    deque\", N, \"éléments, temps par éléments :\", (b - a) / N)\n",
    "\n",
    "    N2 = N // 100\n",
    "    li = list()\n",
    "    a = time.perf_counter()\n",
    "    for i in range(0, N2):\n",
    "        li.insert(0, i)\n",
    "    b = time.perf_counter()\n",
    "    print(\"    list\", N2, \"éléments, temps par éléments :\", (b - a) / N2)"
   ]
  },
  {
   "cell_type": "markdown",
   "metadata": {},
   "source": [
    "On voit que l'insertion au début du tableau est beaucoup plus coûteuse pour une liste que pour un ``deque``."
   ]
  },
  {
   "cell_type": "markdown",
   "metadata": {},
   "source": [
    "### Un élément dans un ensemble\n",
    "\n",
    "Faut-il écrire ``i in [0,1]`` ou ``i in (0,1)`` ou ... Essayons."
   ]
  },
  {
   "cell_type": "code",
   "execution_count": 2,
   "metadata": {},
   "outputs": [
    {
     "name": "stdout",
     "output_type": "stream",
     "text": [
      "passage 0\n"
     ]
    },
    {
     "name": "stdout",
     "output_type": "stream",
     "text": [
      "  list 100000 fois, temps par éléments : 1.3807420000000548e-05\n",
      "  tuple 100000 fois, temps par éléments : 1.3729126999999152e-05\n",
      "  set 100000 fois, temps par éléments : 2.135010000006332e-07\n",
      "  frozenset 100000 fois, temps par éléments : 2.173010000001341e-07\n",
      "passage 1\n",
      "  list 100000 fois, temps par éléments : 1.4215090999998666e-05\n",
      "  tuple 100000 fois, temps par éléments : 1.988498300000174e-05\n",
      "  set 100000 fois, temps par éléments : 1.4301800000112054e-07\n",
      "  frozenset 100000 fois, temps par éléments : 1.2669100000039179e-07\n",
      "passage 2\n",
      "  list 100000 fois, temps par éléments : 1.326028999999835e-05\n",
      "  tuple 100000 fois, temps par éléments : 1.2816742999998495e-05\n",
      "  set 100000 fois, temps par éléments : 2.033819999996922e-07\n",
      "  frozenset 100000 fois, temps par éléments : 1.3662699999940742e-07\n"
     ]
    }
   ],
   "source": [
    "import time, collections\n",
    "\n",
    "N = 100000\n",
    "lens = list(range(0, 1000))\n",
    "tens = tuple(lens)\n",
    "sens = set(lens)\n",
    "fens = frozenset(lens)\n",
    "\n",
    "for p in range(0, 3):\n",
    "    print(\"passage\", p)\n",
    "    a = time.perf_counter()\n",
    "    s = 0\n",
    "    for i in range(0, N):\n",
    "        if i in lens:\n",
    "            s += 1\n",
    "    b = time.perf_counter()\n",
    "    print(\"  list\", N, \"fois, temps par éléments :\", (b - a) / N)\n",
    "\n",
    "    a = time.perf_counter()\n",
    "    s = 0\n",
    "    for i in range(0, N):\n",
    "        if i in tens:\n",
    "            s += 1\n",
    "    b = time.perf_counter()\n",
    "    print(\"  tuple\", N, \"fois, temps par éléments :\", (b - a) / N)\n",
    "\n",
    "    a = time.perf_counter()\n",
    "    s = 0\n",
    "    for i in range(0, N):\n",
    "        if i in sens:\n",
    "            s += 1\n",
    "    b = time.perf_counter()\n",
    "    print(\"  set\", N, \"fois, temps par éléments :\", (b - a) / N)\n",
    "\n",
    "    a = time.perf_counter()\n",
    "    s = 0\n",
    "    for i in range(0, N):\n",
    "        if i in fens:\n",
    "            s += 1\n",
    "    b = time.perf_counter()\n",
    "    print(\"  frozenset\", N, \"fois, temps par éléments :\", (b - a) / N)"
   ]
  },
  {
   "cell_type": "markdown",
   "metadata": {},
   "source": [
    "Il apparaît que les ensemble ``set`` ou ``frozenset`` sont beaucoup plus rapides. Plus l'ensemble est grand, plus cette différence est importante."
   ]
  },
  {
   "cell_type": "code",
   "execution_count": null,
   "metadata": {
    "collapsed": true
   },
   "outputs": [],
   "source": []
  }
 ],
 "metadata": {
  "kernelspec": {
   "display_name": "Python 3 (ipykernel)",
   "language": "python",
   "name": "python3"
  },
  "language_info": {
   "codemirror_mode": {
    "name": "ipython",
    "version": 3
   },
   "file_extension": ".py",
   "mimetype": "text/x-python",
   "name": "python",
   "nbconvert_exporter": "python",
   "pygments_lexer": "ipython3",
   "version": "3.10.12"
  }
 },
 "nbformat": 4,
 "nbformat_minor": 1
}
