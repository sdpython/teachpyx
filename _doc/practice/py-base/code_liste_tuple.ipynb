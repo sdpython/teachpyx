{
 "cells": [
  {
   "cell_type": "markdown",
   "metadata": {},
   "source": [
    "# Liste, tuple, ensemble, dictionnaire, liste chaînée, coût des opérations\n",
    "\n",
    "Exemples de containers, list, tuple, set, dict."
   ]
  },
  {
   "cell_type": "markdown",
   "metadata": {},
   "source": [
    "Python propose différents [containers](https://docs.python.org/3.4/tutorial/datastructures.html#) pour stocker des éléments. Voici les plus courants :\n",
    "\n",
    "- [list](https://docs.python.org/3.4/tutorial/datastructures.html#more-on-lists) : tableau d'éléments indexés de 0 à $n$ exclu auquel on peut ajouter ou retirer des éléments\n",
    "- [dict](https://docs.python.org/3.4/tutorial/datastructures.html#dictionaries) : tableau d'éléments indexés par des types immuables auquel on peut ajouter ou retirer des éléments\n",
    "- [tuple](https://docs.python.org/3.4/tutorial/datastructures.html#tuples-and-sequences) : tableau d'éléments indexés de 0 à $n$ exclu qu'on ne peut pas modifier\n",
    "- [set](https://docs.python.org/3.4/tutorial/datastructures.html#sets) : tableau d'éléments uniques non indexés\n",
    "- [frozenset](https://docs.python.org/3.4/tutorial/datastructures.html#sets) : ``set`` immuables (non modifiable)\n",
    "- [deque](https://docs.python.org/3.4/library/collections.html#collections.deque) : presque équivalent à une listes, la différent vient de l'implémentation, les mêmes opérations n'auront pas les mêmes coûts (deque = [liste chaînée](http://fr.wikipedia.org/wiki/Liste_cha%C3%AEn%C3%A9e))\n",
    "\n",
    "D'autres containers sont disponibles via le module [collections](https://docs.python.org/3.4/library/collections.html). Tous proposent de stocker un nombre variables d'éléments. Deux aspects difféèrent :\n",
    "\n",
    "- la façon de désigner un élément de l'ensemble\n",
    "- le coût de certaines opérations, il faut choisir qui minisera le coût des opérations pour votre programme"
   ]
  },
  {
   "cell_type": "markdown",
   "metadata": {},
   "source": [
    "### Insertion avec ``list`` et ``deque``\n",
    "\n",
    "On veut comparer les coûts d'insertion en début et fin de liste pour un grand nombre d'éléments."
   ]
  },
  {
   "cell_type": "code",
   "execution_count": 1,
   "metadata": {},
   "outputs": [
    {
     "name": "stdout",
     "output_type": "stream",
     "text": [
      "passage  0\n",
      "  insertion en fin\n",
      "    list 1000000 éléments, temps par éléments : 1.2462739999955374e-07\n",
      "    deque 1000000 éléments, temps par éléments : 1.0353370000029826e-07\n",
      "  insertion au début\n",
      "    deque 1000000 éléments, temps par éléments : 9.81406999999308e-08\n",
      "    list 1000000 éléments, temps par éléments : 1.796050000029936e-08\n",
      "passage  1\n",
      "  insertion en fin\n",
      "    list 1000000 éléments, temps par éléments : 9.953019999920797e-08\n",
      "    deque 1000000 éléments, temps par éléments : 8.313129999987723e-08\n",
      "  insertion au début\n",
      "    deque 1000000 éléments, temps par éléments : 7.568269999956101e-08\n",
      "    list 1000000 éléments, temps par éléments : 1.580999999987398e-08\n",
      "passage  2\n",
      "  insertion en fin\n",
      "    list 1000000 éléments, temps par éléments : 8.447889999933977e-08\n",
      "    deque 1000000 éléments, temps par éléments : 8.401670000057492e-08\n",
      "  insertion au début\n",
      "    deque 1000000 éléments, temps par éléments : 7.71205999999438e-08\n",
      "    list 1000000 éléments, temps par éléments : 1.6167699999641626e-08\n"
     ]
    }
   ],
   "source": [
    "import time, collections\n",
    "\n",
    "N = 1000000\n",
    "\n",
    "for p in range(0, 3):\n",
    "    print(\"passage \", p)\n",
    "    print(\"  insertion en fin\")\n",
    "\n",
    "    li = list()\n",
    "    a = time.perf_counter()\n",
    "    for i in range(0, N):\n",
    "        li.append(i)\n",
    "    b = time.perf_counter()\n",
    "    print(\"    list\", N, \"éléments, temps par éléments :\", (b - a) / N)\n",
    "\n",
    "    li = collections.deque()\n",
    "    a = time.perf_counter()\n",
    "    for i in range(0, N):\n",
    "        li.append(i)\n",
    "    b = time.perf_counter()\n",
    "    print(\"    deque\", N, \"éléments, temps par éléments :\", (b - a) / N)\n",
    "\n",
    "    print(\"  insertion au début\")\n",
    "    li = collections.deque()\n",
    "    a = time.perf_counter()\n",
    "    for i in range(0, N):\n",
    "        li.appendleft(i)\n",
    "    b = time.perf_counter()\n",
    "    print(\"    deque\", N, \"éléments, temps par éléments :\", (b - a) / N)\n",
    "\n",
    "    N2 = N // 100\n",
    "    li = list()\n",
    "    a = time.perf_counter()\n",
    "    for i in range(0, N2):\n",
    "        li.insert(0, i)\n",
    "    b = time.perf_counter()\n",
    "    print(\"    list\", N, \"éléments, temps par éléments :\", (b - a) / N)"
   ]
  },
  {
   "cell_type": "markdown",
   "metadata": {},
   "source": [
    "On voit que l'insertion au début du tableau est beaucoup plus coûteuse pour une liste que pour un ``deque``."
   ]
  },
  {
   "cell_type": "markdown",
   "metadata": {},
   "source": [
    "### Un élément dans un ensemble\n",
    "\n",
    "Faut-il écrire ``i in [0,1]`` ou ``i in (0,1)`` ou ... Essayons."
   ]
  },
  {
   "cell_type": "code",
   "execution_count": 2,
   "metadata": {},
   "outputs": [
    {
     "name": "stdout",
     "output_type": "stream",
     "text": [
      "passage 0\n",
      "  list 100000 fois, temps par éléments : 5.977897000002485e-06\n",
      "  tuple 100000 fois, temps par éléments : 6.178353999994215e-06\n",
      "  set 100000 fois, temps par éléments : 6.823300000178278e-08\n",
      "  frozenset 100000 fois, temps par éléments : 7.471699999769044e-08\n",
      "passage 1\n",
      "  list 100000 fois, temps par éléments : 5.712876000006872e-06\n",
      "  tuple 100000 fois, temps par éléments : 5.798504000003959e-06\n",
      "  set 100000 fois, temps par éléments : 8.035500000005414e-08\n",
      "  frozenset 100000 fois, temps par éléments : 8.195899999918766e-08\n",
      "passage 2\n",
      "  list 100000 fois, temps par éléments : 5.84480600000461e-06\n",
      "  tuple 100000 fois, temps par éléments : 5.923587000006591e-06\n",
      "  set 100000 fois, temps par éléments : 7.347799999479321e-08\n",
      "  frozenset 100000 fois, temps par éléments : 6.471000000601634e-08\n"
     ]
    }
   ],
   "source": [
    "import time, collections\n",
    "\n",
    "N = 100000\n",
    "lens = list(range(0, 1000))\n",
    "tens = tuple(lens)\n",
    "sens = set(lens)\n",
    "fens = frozenset(lens)\n",
    "\n",
    "for p in range(0, 3):\n",
    "    print(\"passage\", p)\n",
    "    a = time.perf_counter()\n",
    "    s = 0\n",
    "    for i in range(0, N):\n",
    "        if i in lens:\n",
    "            s += 1\n",
    "    b = time.perf_counter()\n",
    "    print(\"  list\", N, \"fois, temps par éléments :\", (b - a) / N)\n",
    "\n",
    "    a = time.perf_counter()\n",
    "    s = 0\n",
    "    for i in range(0, N):\n",
    "        if i in tens:\n",
    "            s += 1\n",
    "    b = time.perf_counter()\n",
    "    print(\"  tuple\", N, \"fois, temps par éléments :\", (b - a) / N)\n",
    "\n",
    "    a = time.perf_counter()\n",
    "    s = 0\n",
    "    for i in range(0, N):\n",
    "        if i in sens:\n",
    "            s += 1\n",
    "    b = time.perf_counter()\n",
    "    print(\"  set\", N, \"fois, temps par éléments :\", (b - a) / N)\n",
    "\n",
    "    a = time.perf_counter()\n",
    "    s = 0\n",
    "    for i in range(0, N):\n",
    "        if i in fens:\n",
    "            s += 1\n",
    "    b = time.perf_counter()\n",
    "    print(\"  frozenset\", N, \"fois, temps par éléments :\", (b - a) / N)"
   ]
  },
  {
   "cell_type": "markdown",
   "metadata": {},
   "source": [
    "Il apparaît que les ensemble ``set`` ou ``frozenset`` sont beaucoup plus rapides. Plus l'ensemble est grand, plus cette différence est importante."
   ]
  },
  {
   "cell_type": "code",
   "execution_count": null,
   "metadata": {
    "collapsed": true
   },
   "outputs": [],
   "source": []
  }
 ],
 "metadata": {
  "kernelspec": {
   "display_name": "Python 3 (ipykernel)",
   "language": "python",
   "name": "python3"
  },
  "language_info": {
   "codemirror_mode": {
    "name": "ipython",
    "version": 3
   },
   "file_extension": ".py",
   "mimetype": "text/x-python",
   "name": "python",
   "nbconvert_exporter": "python",
   "pygments_lexer": "ipython3",
   "version": "3.10.12"
  }
 },
 "nbformat": 4,
 "nbformat_minor": 1
}