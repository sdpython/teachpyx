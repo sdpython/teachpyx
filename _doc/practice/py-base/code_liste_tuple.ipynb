{
 "cells": [
  {
   "cell_type": "markdown",
   "metadata": {},
   "source": [
    "# Liste, tuple, ensemble, dictionnaire, liste chaînée, coût des opérations\n",
    "\n",
    "Exemples de containers, list, tuple, set, dict."
   ]
  },
  {
   "cell_type": "markdown",
   "metadata": {},
   "source": [
    "Python propose différents [containers](https://docs.python.org/3.4/tutorial/datastructures.html#) pour stocker des éléments. Voici les plus courants :\n",
    "\n",
    "- [list](https://docs.python.org/3.4/tutorial/datastructures.html#more-on-lists) : tableau d'éléments indexés de 0 à $n$ exclu auquel on peut ajouter ou retirer des éléments\n",
    "- [dict](https://docs.python.org/3.4/tutorial/datastructures.html#dictionaries) : tableau d'éléments indexés par des types immuables auquel on peut ajouter ou retirer des éléments\n",
    "- [tuple](https://docs.python.org/3.4/tutorial/datastructures.html#tuples-and-sequences) : tableau d'éléments indexés de 0 à $n$ exclu qu'on ne peut pas modifier\n",
    "- [set](https://docs.python.org/3.4/tutorial/datastructures.html#sets) : tableau d'éléments uniques non indexés\n",
    "- [frozenset](https://docs.python.org/3.4/tutorial/datastructures.html#sets) : ``set`` immuables (non modifiable)\n",
    "- [deque](https://docs.python.org/3.4/library/collections.html#collections.deque) : presque équivalent à une listes, la différent vient de l'implémentation, les mêmes opérations n'auront pas les mêmes coûts (deque = [liste chaînée](http://fr.wikipedia.org/wiki/Liste_cha%C3%AEn%C3%A9e))\n",
    "\n",
    "D'autres containers sont disponibles via le module [collections](https://docs.python.org/3.4/library/collections.html). Tous proposent de stocker un nombre variables d'éléments. Deux aspects difféèrent :\n",
    "\n",
    "- la façon de désigner un élément de l'ensemble\n",
    "- le coût de certaines opérations, il faut choisir qui minisera le coût des opérations pour votre programme"
   ]
  },
  {
   "cell_type": "markdown",
   "metadata": {},
   "source": [
    "### Insertion avec ``list`` et ``deque``\n",
    "\n",
    "On veut comparer les coûts d'insertion en début et fin de liste pour un grand nombre d'éléments."
   ]
  },
  {
   "cell_type": "code",
   "execution_count": 1,
   "metadata": {},
   "outputs": [
    {
     "name": "stdout",
     "output_type": "stream",
     "text": [
      "passage  0\n",
      "  insertion en fin\n",
      "    list 1000000 éléments, temps par éléments : 1.4931430000069667e-07\n",
      "    deque 1000000 éléments, temps par éléments : 1.1550030000216793e-07\n",
      "  insertion au début\n",
      "    deque 1000000 éléments, temps par éléments : 9.052890000020853e-08\n",
      "    list 1000000 éléments, temps par éléments : 1.617479999913485e-08\n",
      "passage  1\n",
      "  insertion en fin\n",
      "    list 1000000 éléments, temps par éléments : 9.72325999973691e-08\n",
      "    deque 1000000 éléments, temps par éléments : 9.789069999897038e-08\n",
      "  insertion au début\n",
      "    deque 1000000 éléments, temps par éléments : 8.926229999997304e-08\n",
      "    list 1000000 éléments, temps par éléments : 2.2176400001626463e-08\n",
      "passage  2\n",
      "  insertion en fin\n",
      "    list 1000000 éléments, temps par éléments : 1.0210229999938748e-07\n",
      "    deque 1000000 éléments, temps par éléments : 9.393510000154493e-08\n",
      "  insertion au début\n",
      "    deque 1000000 éléments, temps par éléments : 1.1841930000082357e-07\n",
      "    list 1000000 éléments, temps par éléments : 1.944509999884758e-08\n"
     ]
    }
   ],
   "source": [
    "import time, collections\n",
    "\n",
    "N = 1000000\n",
    "\n",
    "for p in range(0, 3):\n",
    "    print(\"passage \", p)\n",
    "    print(\"  insertion en fin\")\n",
    "\n",
    "    li = list()\n",
    "    a = time.perf_counter()\n",
    "    for i in range(0, N):\n",
    "        li.append(i)\n",
    "    b = time.perf_counter()\n",
    "    print(\"    list\", N, \"éléments, temps par éléments :\", (b - a) / N)\n",
    "\n",
    "    li = collections.deque()\n",
    "    a = time.perf_counter()\n",
    "    for i in range(0, N):\n",
    "        li.append(i)\n",
    "    b = time.perf_counter()\n",
    "    print(\"    deque\", N, \"éléments, temps par éléments :\", (b - a) / N)\n",
    "\n",
    "    print(\"  insertion au début\")\n",
    "    li = collections.deque()\n",
    "    a = time.perf_counter()\n",
    "    for i in range(0, N):\n",
    "        li.appendleft(i)\n",
    "    b = time.perf_counter()\n",
    "    print(\"    deque\", N, \"éléments, temps par éléments :\", (b - a) / N)\n",
    "\n",
    "    N2 = N // 100\n",
    "    li = list()\n",
    "    a = time.perf_counter()\n",
    "    for i in range(0, N2):\n",
    "        li.insert(0, i)\n",
    "    b = time.perf_counter()\n",
    "    print(\"    list\", N, \"éléments, temps par éléments :\", (b - a) / N)"
   ]
  },
  {
   "cell_type": "markdown",
   "metadata": {},
   "source": [
    "On voit que l'insertion au début du tableau est beaucoup plus coûteuse pour une liste que pour un ``deque``."
   ]
  },
  {
   "cell_type": "markdown",
   "metadata": {},
   "source": [
    "### Un élément dans un ensemble\n",
    "\n",
    "Faut-il écrire ``i in [0,1]`` ou ``i in (0,1)`` ou ... Essayons."
   ]
  },
  {
   "cell_type": "code",
   "execution_count": 2,
   "metadata": {},
   "outputs": [
    {
     "name": "stdout",
     "output_type": "stream",
     "text": [
      "passage 0\n",
      "  list 100000 fois, temps par éléments : 5.936910999989777e-06\n",
      "  tuple 100000 fois, temps par éléments : 5.664128999997047e-06\n",
      "  set 100000 fois, temps par éléments : 8.605400002124953e-08\n",
      "  frozenset 100000 fois, temps par éléments : 8.20949999979348e-08\n",
      "passage 1\n",
      "  list 100000 fois, temps par éléments : 5.516229999993811e-06\n",
      "  tuple 100000 fois, temps par éléments : 5.690046999989136e-06\n",
      "  set 100000 fois, temps par éléments : 8.56039999780478e-08\n",
      "  frozenset 100000 fois, temps par éléments : 8.40990000142483e-08\n",
      "passage 2\n",
      "  list 100000 fois, temps par éléments : 5.475893999973777e-06\n",
      "  tuple 100000 fois, temps par éléments : 5.727637000018149e-06\n",
      "  set 100000 fois, temps par éléments : 9.1552000012598e-08\n",
      "  frozenset 100000 fois, temps par éléments : 8.212900000216905e-08\n"
     ]
    }
   ],
   "source": [
    "import time, collections\n",
    "\n",
    "N = 100000\n",
    "lens = list(range(0, 1000))\n",
    "tens = tuple(lens)\n",
    "sens = set(lens)\n",
    "fens = frozenset(lens)\n",
    "\n",
    "for p in range(0, 3):\n",
    "    print(\"passage\", p)\n",
    "    a = time.perf_counter()\n",
    "    s = 0\n",
    "    for i in range(0, N):\n",
    "        if i in lens:\n",
    "            s += 1\n",
    "    b = time.perf_counter()\n",
    "    print(\"  list\", N, \"fois, temps par éléments :\", (b - a) / N)\n",
    "\n",
    "    a = time.perf_counter()\n",
    "    s = 0\n",
    "    for i in range(0, N):\n",
    "        if i in tens:\n",
    "            s += 1\n",
    "    b = time.perf_counter()\n",
    "    print(\"  tuple\", N, \"fois, temps par éléments :\", (b - a) / N)\n",
    "\n",
    "    a = time.perf_counter()\n",
    "    s = 0\n",
    "    for i in range(0, N):\n",
    "        if i in sens:\n",
    "            s += 1\n",
    "    b = time.perf_counter()\n",
    "    print(\"  set\", N, \"fois, temps par éléments :\", (b - a) / N)\n",
    "\n",
    "    a = time.perf_counter()\n",
    "    s = 0\n",
    "    for i in range(0, N):\n",
    "        if i in fens:\n",
    "            s += 1\n",
    "    b = time.perf_counter()\n",
    "    print(\"  frozenset\", N, \"fois, temps par éléments :\", (b - a) / N)"
   ]
  },
  {
   "cell_type": "markdown",
   "metadata": {},
   "source": [
    "Il apparaît que les ensemble ``set`` ou ``frozenset`` sont beaucoup plus rapides. Plus l'ensemble est grand, plus cette différence est importante."
   ]
  },
  {
   "cell_type": "code",
   "execution_count": null,
   "metadata": {
    "collapsed": true
   },
   "outputs": [],
   "source": []
  }
 ],
 "metadata": {
  "kernelspec": {
   "display_name": "Python 3 (ipykernel)",
   "language": "python",
   "name": "python3"
  }
 },
 "nbformat": 4,
 "nbformat_minor": 1
}
