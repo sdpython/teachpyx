{
 "cells": [
  {
   "cell_type": "markdown",
   "id": "0bf6d757",
   "metadata": {},
   "source": [
    "# Tests unitaires\n",
    "\n",
    "Les tests unitaires sont l'élément clé pour créer un programme fiable. Il est impensable de s'en passer. Un test unitaire est une fonction qui s'assure qu'une autre fonction retourne le résultat souhaité pour les mêmes entrées. Ils sont présents dans tous les langages.\n",
    "\n",
    "Les modules python les plus utilisés sont aussi les plus testés, ils sont validés par des milliers de tests unitaires."
   ]
  },
  {
   "cell_type": "code",
   "execution_count": 1,
   "id": "31adf536",
   "metadata": {},
   "outputs": [],
   "source": [
    "def unit_test():\n",
    "    y = f(x)\n",
    "    if y != valeur_attendue:\n",
    "        raise AssertionError(f\"{y} != {valeur_attendue}\")"
   ]
  },
  {
   "cell_type": "markdown",
   "id": "570adf0b",
   "metadata": {},
   "source": [
    "## Un petit jeu\n",
    "\n",
    "On suppose qu'une tour est placée sur un échiquier, on veut savoir combien de coups il faut pour atteindre une autre case."
   ]
  },
  {
   "cell_type": "code",
   "execution_count": 2,
   "id": "b3056ab6",
   "metadata": {},
   "outputs": [],
   "source": [
    "def tour_prend_piece(x1, y1, x2, y2):\n",
    "    # ...\n",
    "    return 1 or 2"
   ]
  },
  {
   "cell_type": "markdown",
   "id": "8ba48742",
   "metadata": {},
   "source": [
    "Si votre fonction est bien correct, la fonction suivante doit s'exécuter sans erreur."
   ]
  },
  {
   "cell_type": "code",
   "execution_count": 3,
   "id": "416b49bf",
   "metadata": {},
   "outputs": [],
   "source": [
    "def test_tour_prend_piece():\n",
    "    assert tour_prend_piece(0, 0, 0, 1) == 1\n",
    "    assert tour_prend_piece(0, 0, 1, 0) == 1\n",
    "    assert tour_prend_piece(1, 0, 0, 0) == 1\n",
    "    assert tour_prend_piece(0, 1, 0, 0) == 1\n",
    "    assert tour_prend_piece(0, 0, 1, 1) == 2\n",
    "    assert tour_prend_piece(0, 2, 1, 1) == 2"
   ]
  },
  {
   "cell_type": "markdown",
   "id": "f9d20ecb",
   "metadata": {},
   "source": [
    "## Une autre écriture\n",
    "\n",
    "La fonction précédente a quatre arguments. On souhaite les remplacer par deux tuple."
   ]
  },
  {
   "cell_type": "code",
   "execution_count": 4,
   "id": "47c8f27f",
   "metadata": {},
   "outputs": [],
   "source": [
    "def tour_prend_piece_tuple(t1, t2):\n",
    "    # ...\n",
    "    return True or False\n",
    "\n",
    "\n",
    "def test_tour_prend_piece_tuple():\n",
    "    def _tour_prend_piece(x1, y1, x2, y2):\n",
    "        return tour_prend_piece_tuple((x1, y1), (x2, y2))\n",
    "\n",
    "    assert _tour_prend_piece(0, 0, 0, 1) == 1\n",
    "    assert _tour_prend_piece(0, 0, 1, 0) == 1\n",
    "    assert _tour_prend_piece(1, 0, 0, 0) == 1\n",
    "    assert _tour_prend_piece(0, 1, 0, 0) == 1\n",
    "    assert _tour_prend_piece(0, 0, 1, 1) == 2\n",
    "    assert _tour_prend_piece(0, 2, 1, 1) == 2"
   ]
  },
  {
   "cell_type": "markdown",
   "id": "dd9a5adf",
   "metadata": {},
   "source": [
    "## Des obstacles...\n",
    "\n",
    "Ecrire une fonction qui prend en compte les obstacles : la tour ne peut pas traverser une case si une pièce est présente. On pourra s'inspirer d'un algorithme de coloriage. Qu'en est-il des tests unitaires précédents ?\n",
    "\n",
    "L'idée est colorier l'échiquier avec le nombre de coups qu'il faut pour atteindre une case."
   ]
  },
  {
   "cell_type": "code",
   "execution_count": 5,
   "id": "78847424",
   "metadata": {
    "scrolled": false
   },
   "outputs": [
    {
     "data": {
      "text/plain": [
       "4.0"
      ]
     },
     "execution_count": 5,
     "metadata": {},
     "output_type": "execute_result"
    }
   ],
   "source": [
    "import numpy\n",
    "\n",
    "\n",
    "def find_neighbour(echiquier, p):\n",
    "    x, y = p\n",
    "    if x > 0 and echiquier[x - 1, y] == -1:\n",
    "        return (x - 1, y), (-1, 0)\n",
    "    if x < echiquier.shape[0] - 1 and echiquier[x + 1, y] == -1:\n",
    "        return (x + 1, y), (1, 0)\n",
    "    if y > 0 and echiquier[x, y - 1] == -1:\n",
    "        return (x, y - 1), (0, -1)\n",
    "    if y < echiquier.shape[1] - 1 and echiquier[x, y + 1] == -1:\n",
    "        return (x, y + 1), (0, 1)\n",
    "    return None, None\n",
    "\n",
    "\n",
    "def coloring(t1, t2, obstacles):\n",
    "    obstacles = set(obstacles)  # pour aller plus vite\n",
    "    echiquier = numpy.zeros((8, 8)) - 1\n",
    "    for obs in obstacles:\n",
    "        echiquier[obs] = -2\n",
    "    echiquier[t1] = 0\n",
    "    cases = [t1]\n",
    "    while len(cases) > 0:\n",
    "        case = cases[0]\n",
    "        next_case, direction = find_neighbour(echiquier, case)\n",
    "        if next_case is None:\n",
    "            del cases[0]\n",
    "            continue\n",
    "        x, y = next_case\n",
    "        value = echiquier[case] + 1\n",
    "        while x >= 0 and y >= 0 and x < echiquier.shape[0] and y < echiquier.shape[1]:\n",
    "            if echiquier[x, y] == -2:\n",
    "                break\n",
    "            if echiquier[x, y] == -1:\n",
    "                echiquier[x, y] = value\n",
    "            else:\n",
    "                echiquier[x, y] = min(value, echiquier[x, y])\n",
    "            cases.append((x, y))\n",
    "            x += direction[0]\n",
    "            y += direction[1]\n",
    "    return echiquier[t2]\n",
    "\n",
    "\n",
    "coloring((0, 0), (6, 6), [(0, 6), (6, 0), (1, 5), (5, 1), (5, 6), (5, 5), (6, 5)])"
   ]
  },
  {
   "cell_type": "code",
   "execution_count": null,
   "id": "3f5813b2",
   "metadata": {},
   "outputs": [],
   "source": []
  },
  {
   "cell_type": "code",
   "execution_count": null,
   "id": "c15879c6",
   "metadata": {},
   "outputs": [],
   "source": []
  },
  {
   "cell_type": "code",
   "execution_count": 6,
   "id": "5a87b8b1",
   "metadata": {},
   "outputs": [],
   "source": [
    "def tour_prend_piece_obstacle(t1, t2, obstacles):\n",
    "    # ...\n",
    "    return  # ..."
   ]
  },
  {
   "cell_type": "markdown",
   "id": "671e08ea",
   "metadata": {},
   "source": [
    "## Ajouter d'autres tests unitaires pour cette seconde version"
   ]
  },
  {
   "cell_type": "code",
   "execution_count": null,
   "id": "1947817c",
   "metadata": {},
   "outputs": [],
   "source": []
  },
  {
   "cell_type": "markdown",
   "id": "e7b4d454",
   "metadata": {},
   "source": [
    "## Changer la taille de l'échiquier\n",
    "\n",
    "On considère que l'échiquier est de taille connue mais plus nécessairement 8x8. Modifier la fonction pour prendre en compte ce changement. Qu'en est-il des tests unitaires."
   ]
  },
  {
   "cell_type": "code",
   "execution_count": null,
   "id": "af29f0eb",
   "metadata": {},
   "outputs": [],
   "source": []
  },
  {
   "cell_type": "markdown",
   "id": "dbb8e625",
   "metadata": {},
   "source": [
    "## Pour aller plus loin\n",
    "\n",
    "Les tests unitaires :\n",
    "\n",
    "* Ils sont des fonctions sans arguments dont le nom commencent par `test_`.\n",
    "* Ils sont indispensables quand on travaille à plusieurs : ils assurent que quelqu'un ne *casse* pas votre fonction.\n",
    "* Ils s'écrivent rarement dans un notebook. On les écrit dans un fichier à part, et ils testent des fonctions écrites dans d'autres fichiers mais pas dans des notebooks.\n",
    "* Les tests unitaires doivent être rapides : ils sont exécutés très souvent, ils doivent être courts et rapides.\n",
    "* On teste des résultats numériques mais aussi qu'une fonction crée une exception, un warning...\n",
    "\n",
    "Des milliers de tests unitaires :\n",
    "\n",
    "* [unittest](https://docs.python.org/3/library/unittest.html) : module python dédiés aux tests unitaires\n",
    "* [pytest](https://docs.pytest.org/en/7.1.x/) : c'est une librairie très utilisées. La commande `pytest <répertoire>` cherche toutes les fonctions commencençant par `test_` et les exécute.\n",
    "\n",
    "Intégration continue :\n",
    "\n",
    "Exemple avec [scikit-learn](https://github.com/scikit-learn/scikit-learn), résultats des tests [scikit-learn/build](https://dev.azure.com/scikit-learn/scikit-learn/_build)"
   ]
  },
  {
   "cell_type": "markdown",
   "id": "fdf036be",
   "metadata": {},
   "source": [
    "## Tester une exception\n"
   ]
  },
  {
   "cell_type": "code",
   "execution_count": 7,
   "id": "dda739a4",
   "metadata": {},
   "outputs": [],
   "source": [
    "def tour_prend_piece_obstacle(t1, t2, obstacles):\n",
    "    if min(t1) < 0 or min(t2) < 0:\n",
    "        raise ValueError(\n",
    "            f\"Une pièce est en dehors de l'échiquier, pièces : {t1} ou {t2}.\"\n",
    "        )\n",
    "    return  # ..."
   ]
  },
  {
   "cell_type": "code",
   "execution_count": 8,
   "id": "90950e76",
   "metadata": {},
   "outputs": [],
   "source": [
    "def test_tour_prend_piece_obstacle_exception():\n",
    "    # ...\n",
    "    pass"
   ]
  },
  {
   "cell_type": "code",
   "execution_count": null,
   "id": "b76dd5ed",
   "metadata": {},
   "outputs": [],
   "source": []
  },
  {
   "cell_type": "code",
   "execution_count": null,
   "id": "b16161b5",
   "metadata": {},
   "outputs": [],
   "source": []
  }
 ],
 "metadata": {
  "kernelspec": {
   "display_name": "Python 3 (ipykernel)",
   "language": "python",
   "name": "python3"
  },
  "language_info": {
   "codemirror_mode": {
    "name": "ipython",
    "version": 3
   },
   "file_extension": ".py",
   "mimetype": "text/x-python",
   "name": "python",
   "nbconvert_exporter": "python",
   "pygments_lexer": "ipython3",
   "version": "3.10.12"
  }
 },
 "nbformat": 4,
 "nbformat_minor": 5
}