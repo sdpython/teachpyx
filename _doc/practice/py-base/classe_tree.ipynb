{
 "cells": [
  {
   "cell_type": "markdown",
   "id": "3b0fa3d1",
   "metadata": {},
   "source": [
    "# Une classe pour représenter un arbre"
   ]
  },
  {
   "cell_type": "code",
   "execution_count": 39,
   "id": "5be6d490-9bf8-45ad-b815-baa995ffb8f0",
   "metadata": {},
   "outputs": [],
   "source": [
    "class Noeud:\n",
    "    def __init__(self, v):\n",
    "        self.v = v\n",
    "        self.left = None\n",
    "        self.right = None\n",
    "\n",
    "\n",
    "na = Noeud(\"A\")\n",
    "na.left = Noeud(\"B\")\n",
    "na.left.left = Noeud(\"C\")\n",
    "na.left.right = Noeud(\"D\")\n",
    "na.right = Noeud(\"E\")"
   ]
  },
  {
   "cell_type": "code",
   "execution_count": 48,
   "id": "e6fd545b-578e-4c5a-8ce9-c32cb2112446",
   "metadata": {},
   "outputs": [
    {
     "name": "stdout",
     "output_type": "stream",
     "text": [
      "A\n",
      "+-B\n",
      "  +-C\n",
      "  +-D\n",
      "+-E\n",
      "2\n"
     ]
    }
   ],
   "source": [
    "import textwrap\n",
    "\n",
    "def graph():\n",
    "    na = Noeud(\"A\")\n",
    "    na.left = Noeud(\"B\")\n",
    "    na.left.left = Noeud(\"C\")\n",
    "    na.left.right = Noeud(\"D\")\n",
    "    na.right = Noeud(\"E\")\n",
    "    return na\n",
    "\n",
    "class Noeud:\n",
    "    def __init__(self, v):\n",
    "        self.v = v\n",
    "        self.left = None\n",
    "        self.right = None\n",
    "\n",
    "    def __str__(self):\n",
    "        rows = [str(self.v)]\n",
    "        if self.left is not None:\n",
    "            rows.append(\"+-\" + textwrap.indent(str(self.left), \"  \")[2:])\n",
    "        if self.right is not None:\n",
    "            rows.append(\"+-\" + textwrap.indent(str(self.right), \"  \")[2:])\n",
    "        return \"\\n\".join(rows)\n",
    "\n",
    "    def profondeur_maximale(self):\n",
    "        pleft = 0 if self.left is None else self.left.profondeur() + 1\n",
    "        pright = 0 if self.right is None else self.right.profondeur() + 1\n",
    "        return max(pleft, pright)\n",
    "\n",
    "    def profondeur_moyenne(self):\n",
    "\n",
    "na = graph()\n",
    "print(na)\n",
    "print(na.profondeur())"
   ]
  },
  {
   "cell_type": "code",
   "execution_count": null,
   "id": "5902ca5b-c02f-4965-a184-080b4e6572e3",
   "metadata": {},
   "outputs": [],
   "source": []
  }
 ],
 "metadata": {
  "kernelspec": {
   "display_name": "Python 3 (ipykernel)",
   "language": "python",
   "name": "python3"
  },
  "language_info": {
   "codemirror_mode": {
    "name": "ipython",
    "version": 3
   },
   "file_extension": ".py",
   "mimetype": "text/x-python",
   "name": "python",
   "nbconvert_exporter": "python",
   "pygments_lexer": "ipython3",
   "version": "3.11.4"
  }
 },
 "nbformat": 4,
 "nbformat_minor": 5
}
