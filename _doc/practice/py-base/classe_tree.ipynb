{
 "cells": [
  {
   "cell_type": "markdown",
   "id": "3b0fa3d1",
   "metadata": {},
   "source": [
    "# Une classe pour représenter un arbre\n",
    "\n",
    "On utilise une classe pour représenter un arbre binaire avec pour objectif de pouvoir afficher cet arbre, de calculer la profondeur maximale ou moyenne, de compter le nombre de chemin, d'itérer sur tous les noeuds."
   ]
  },
  {
   "cell_type": "markdown",
   "id": "f5ef8155",
   "metadata": {},
   "source": [
    "## Premier jet"
   ]
  },
  {
   "cell_type": "code",
   "execution_count": 2,
   "id": "5be6d490-9bf8-45ad-b815-baa995ffb8f0",
   "metadata": {},
   "outputs": [],
   "source": [
    "class Noeud:\n",
    "    def __init__(self, v):\n",
    "        self.v = v\n",
    "        self.left = None\n",
    "        self.right = None\n",
    "\n",
    "\n",
    "na = Noeud(\"A\")\n",
    "na.left = Noeud(\"B\")\n",
    "na.left.left = Noeud(\"C\")\n",
    "na.left.right = Noeud(\"D\")\n",
    "na.right = Noeud(\"E\")"
   ]
  },
  {
   "cell_type": "markdown",
   "id": "16bfabbb",
   "metadata": {},
   "source": [
    "## Afficher l'arbre\n",
    "\n",
    "C'est toujours très utile pour vérifier que l'arbre qu'on a implémenté est bien celui qu'on avait en tête. Il faut donc parcourir tous les noeuds."
   ]
  },
  {
   "cell_type": "code",
   "execution_count": 3,
   "id": "e6fd545b-578e-4c5a-8ce9-c32cb2112446",
   "metadata": {},
   "outputs": [
    {
     "name": "stdout",
     "output_type": "stream",
     "text": [
      "A\n",
      "+-B\n",
      "  +-C\n",
      "  +-D\n",
      "+-E\n"
     ]
    }
   ],
   "source": [
    "import textwrap\n",
    "\n",
    "\n",
    "def graph():\n",
    "    na = Noeud(\"A\")\n",
    "    na.left = Noeud(\"B\")\n",
    "    na.left.left = Noeud(\"C\")\n",
    "    na.left.right = Noeud(\"D\")\n",
    "    na.right = Noeud(\"E\")\n",
    "    return na\n",
    "\n",
    "\n",
    "class Noeud:\n",
    "    def __init__(self, v):\n",
    "        self.v = v\n",
    "        self.left = None\n",
    "        self.right = None\n",
    "\n",
    "    def __str__(self):\n",
    "        rows = [str(self.v)]\n",
    "        if self.left is not None:\n",
    "            rows.append(\"+-\" + textwrap.indent(str(self.left), \"  \")[2:])\n",
    "        if self.right is not None:\n",
    "            rows.append(\"+-\" + textwrap.indent(str(self.right), \"  \")[2:])\n",
    "        return \"\\n\".join(rows)\n",
    "\n",
    "\n",
    "na = graph()\n",
    "print(na)"
   ]
  },
  {
   "cell_type": "markdown",
   "id": "5902ca5b-c02f-4965-a184-080b4e6572e3",
   "metadata": {},
   "source": [
    "## Profondeur maximale : le plus grand chemin depuis la racine jusqu'aux feuilles"
   ]
  },
  {
   "cell_type": "code",
   "execution_count": 6,
   "id": "af72d03b",
   "metadata": {},
   "outputs": [
    {
     "name": "stdout",
     "output_type": "stream",
     "text": [
      "2\n"
     ]
    }
   ],
   "source": [
    "class Noeud:\n",
    "    def __init__(self, v):\n",
    "        self.v = v\n",
    "        self.left = None\n",
    "        self.right = None\n",
    "\n",
    "    def __str__(self):\n",
    "        rows = [str(self.v)]\n",
    "        if self.left is not None:\n",
    "            rows.append(\"+-\" + textwrap.indent(str(self.left), \"  \")[2:])\n",
    "        if self.right is not None:\n",
    "            rows.append(\"+-\" + textwrap.indent(str(self.right), \"  \")[2:])\n",
    "        return \"\\n\".join(rows)\n",
    "\n",
    "    def profondeur_maximale(self):\n",
    "        pleft = 0 if self.left is None else self.left.profondeur_maximale() + 1\n",
    "        pright = 0 if self.right is None else self.right.profondeur_maximale() + 1\n",
    "        return max(pleft, pright)\n",
    "\n",
    "\n",
    "na = graph()\n",
    "print(na.profondeur_maximale())"
   ]
  },
  {
   "cell_type": "markdown",
   "id": "b78c0cce",
   "metadata": {},
   "source": [
    "## Profondeur moyenne ?\n",
    "\n",
    "L'astuce est souvent la même : il faut calculer la moyenne au dernier moment et jusqu'à ce moment-là, on conserve la somme et le compte. On divise les deux à la fin. Il reste une ambiguïté, est-ce qu'un noeud ayant une feuille à gauche ou droite mais une seul feuille est-il considéré comme une feuille également ? Une demi-feuille ? C'est une convention à choisir en fonction de l'usage qui est fait de cette moyenne. Certaines expressions n'existent pas en mathématique comme $0^0$, est-ce que cela vaut 0, 1, ou $\\infty$ ? Ce choix vous est laissé. Dans le cas, présent, l'implémentation de la fonction fait qu'un noeud n'ayant qu'un fils est une demi-feuille."
   ]
  },
  {
   "cell_type": "code",
   "execution_count": 2,
   "id": "46900b0d",
   "metadata": {},
   "outputs": [
    {
     "name": "stdout",
     "output_type": "stream",
     "text": [
      "5.0 3.0 1.6666666666666667\n"
     ]
    }
   ],
   "source": [
    "import textwrap\n",
    "\n",
    "\n",
    "def graph():\n",
    "    na = Noeud(\"A\")\n",
    "    na.left = Noeud(\"B\")\n",
    "    na.left.left = Noeud(\"C\")\n",
    "    na.left.right = Noeud(\"D\")\n",
    "    na.right = Noeud(\"E\")\n",
    "    return na\n",
    "\n",
    "\n",
    "class Noeud:\n",
    "    def __init__(self, v):\n",
    "        self.v = v\n",
    "        self.left = None\n",
    "        self.right = None\n",
    "\n",
    "    def __str__(self):\n",
    "        rows = [str(self.v)]\n",
    "        if self.left is not None:\n",
    "            rows.append(\"+-\" + textwrap.indent(str(self.left), \"  \")[2:])\n",
    "        if self.right is not None:\n",
    "            rows.append(\"+-\" + textwrap.indent(str(self.right), \"  \")[2:])\n",
    "        return \"\\n\".join(rows)\n",
    "\n",
    "    def profondeur_maximale(self):\n",
    "        pleft = 0 if self.left is None else self.left.profondeur_maximale() + 1\n",
    "        pright = 0 if self.right is None else self.right.profondeur_maximale() + 1\n",
    "        return max(pleft, pright)\n",
    "\n",
    "    def profondeur_somme_count(self):\n",
    "        somme = 0\n",
    "        count = 0\n",
    "        if self.left is None:\n",
    "            count += 0.5\n",
    "        else:\n",
    "            sleft, cleft = self.left.profondeur_somme_count()\n",
    "            somme += sleft + cleft\n",
    "            count += cleft\n",
    "        if self.right is None:\n",
    "            count += 0.5\n",
    "        else:\n",
    "            sright, cright = self.right.profondeur_somme_count()\n",
    "            somme += sright + cright\n",
    "            count += cright\n",
    "        return somme, count\n",
    "\n",
    "\n",
    "na = graph()\n",
    "somme, count = na.profondeur_somme_count()\n",
    "print(somme, count, somme / count)"
   ]
  },
  {
   "cell_type": "markdown",
   "id": "aa74f7fb",
   "metadata": {},
   "source": [
    "## Intermède : is ou == ?"
   ]
  },
  {
   "cell_type": "code",
   "execution_count": 1,
   "id": "2b365548",
   "metadata": {},
   "outputs": [
    {
     "name": "stdout",
     "output_type": "stream",
     "text": [
      "True False\n"
     ]
    }
   ],
   "source": [
    "class bizarre:\n",
    "    def __eq__(self, a):\n",
    "        return False\n",
    "\n",
    "\n",
    "b = bizarre()\n",
    "print(b is b, b == b)"
   ]
  },
  {
   "cell_type": "code",
   "execution_count": null,
   "id": "1133329b",
   "metadata": {},
   "outputs": [],
   "source": []
  }
 ],
 "metadata": {
  "kernelspec": {
   "display_name": "Python 3 (ipykernel)",
   "language": "python",
   "name": "python3"
  },
  "language_info": {
   "codemirror_mode": {
    "name": "ipython",
    "version": 3
   },
   "file_extension": ".py",
   "mimetype": "text/x-python",
   "name": "python",
   "nbconvert_exporter": "python",
   "pygments_lexer": "ipython3",
   "version": "3.10.12"
  }
 },
 "nbformat": 4,
 "nbformat_minor": 5
}