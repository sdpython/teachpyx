{
 "cells": [
  {
   "cell_type": "markdown",
   "id": "b2799b1a",
   "metadata": {},
   "source": [
    "# Un bref aperçu des classes\n",
    "\n",
    "Les classes ou la programmation objet est une façon différente d'écrire et d'organiser un programme informatique. Cela ne permet rien de plus que les fonctions mais ça permet de le faire souvent de façon plus élégante."
   ]
  },
  {
   "cell_type": "markdown",
   "id": "c5d41751",
   "metadata": {},
   "source": [
    "## Une station de métro\n",
    "\n",
    "Une station de métro est définie par son nom et sa position. Un dictionnairre peut suffire."
   ]
  },
  {
   "cell_type": "code",
   "execution_count": 1,
   "id": "abdebcd5",
   "metadata": {},
   "outputs": [],
   "source": [
    "station = {\"name\": \"Charles Michels\", \"lat\": 48.846651, \"lng\": 2.285811}"
   ]
  },
  {
   "cell_type": "markdown",
   "id": "202c7ef9",
   "metadata": {},
   "source": [
    "L'inconvénient de cette écriture est qu'il faut toujours bien orthographier le nom des clés du dictionnaire. La moindre erreur empêche le programme de fonctionner. La seconde écriture avec des classes ne simplifie pas la tâche à première vue. Mais..."
   ]
  },
  {
   "cell_type": "code",
   "execution_count": 2,
   "id": "ca64e293",
   "metadata": {},
   "outputs": [],
   "source": [
    "class Station:\n",
    "    def __init__(self, name, lat, lng):\n",
    "        self.name = name\n",
    "        self.lng = lng\n",
    "        self.lat = lat\n",
    "\n",
    "\n",
    "station = Station(\"Charles Michels\", 48.846651, 2.285811)"
   ]
  },
  {
   "cell_type": "markdown",
   "id": "9bf88310",
   "metadata": {},
   "source": [
    "Lorsqu'on écrit ce qui suit, l'autocomplétion du notebook montre les différentes possibilités."
   ]
  },
  {
   "cell_type": "code",
   "execution_count": 3,
   "id": "4fea076f",
   "metadata": {},
   "outputs": [
    {
     "data": {
      "text/plain": [
       "'Charles Michels'"
      ]
     },
     "execution_count": 3,
     "metadata": {},
     "output_type": "execute_result"
    }
   ],
   "source": [
    "station.name"
   ]
  },
  {
   "cell_type": "markdown",
   "id": "ce328462",
   "metadata": {},
   "source": [
    "Les classes permettent de définir de nouveau type de données. Ici, une station, avec trois attributs, `name`, `lng`, `lat`."
   ]
  },
  {
   "cell_type": "markdown",
   "id": "1764eb4a",
   "metadata": {},
   "source": [
    "## Une distance"
   ]
  },
  {
   "cell_type": "code",
   "execution_count": 4,
   "id": "c3f1dff0",
   "metadata": {},
   "outputs": [
    {
     "data": {
      "text/plain": [
       "0.6928550943713419"
      ]
     },
     "execution_count": 4,
     "metadata": {},
     "output_type": "execute_result"
    }
   ],
   "source": [
    "import math\n",
    "\n",
    "\n",
    "def distance_haversine(s1, s2):\n",
    "    radius = 6371\n",
    "    lat1 = s1[\"lat\"]\n",
    "    lat2 = s2[\"lat\"]\n",
    "    lng1 = s1[\"lng\"]\n",
    "    lng2 = s2[\"lng\"]\n",
    "    dlat = math.radians(lat2 - lat1)\n",
    "    dlon = math.radians(lng2 - lng1)\n",
    "    a = math.sin(dlat / 2) * math.sin(dlat / 2) + math.cos(\n",
    "        math.radians(lat1)\n",
    "    ) * math.cos(math.radians(lat2)) * math.sin(dlon / 2) * math.sin(dlon / 2)\n",
    "    c = 2 * math.atan2(math.sqrt(a), math.sqrt(1 - a))\n",
    "    d = radius * c\n",
    "    return d\n",
    "\n",
    "\n",
    "station1 = {\"name\": \"Charles Michels\", \"lat\": 48.846651, \"lng\": 2.285811}\n",
    "station2 = {\"name\": \"Emile Zola\", \"lat\": 48.847030, \"lng\": 2.295262}\n",
    "distance_haversine(station1, station2)"
   ]
  },
  {
   "cell_type": "markdown",
   "id": "8b4c80a1",
   "metadata": {},
   "source": [
    "La même écriture avec des classes."
   ]
  },
  {
   "cell_type": "code",
   "execution_count": 5,
   "id": "dba991cf",
   "metadata": {},
   "outputs": [
    {
     "data": {
      "text/plain": [
       "0.6928550943713419"
      ]
     },
     "execution_count": 5,
     "metadata": {},
     "output_type": "execute_result"
    }
   ],
   "source": [
    "def distance_haversine(s1, s2):\n",
    "    radius = 6371\n",
    "    lat1 = s1.lat\n",
    "    lat2 = s2.lat\n",
    "    lng1 = s1.lng\n",
    "    lng2 = s2.lng\n",
    "    dlat = math.radians(lat2 - lat1)\n",
    "    dlon = math.radians(lng2 - lng1)\n",
    "    a = math.sin(dlat / 2) * math.sin(dlat / 2) + math.cos(\n",
    "        math.radians(lat1)\n",
    "    ) * math.cos(math.radians(lat2)) * math.sin(dlon / 2) * math.sin(dlon / 2)\n",
    "    c = 2 * math.atan2(math.sqrt(a), math.sqrt(1 - a))\n",
    "    d = radius * c\n",
    "    return d\n",
    "\n",
    "\n",
    "station1 = Station(\"Charles Michels\", 48.846651, 2.285811)\n",
    "station2 = Station(\"Emile Zola\", 48.847030, 2.295262)\n",
    "distance_haversine(station1, station2)"
   ]
  },
  {
   "cell_type": "markdown",
   "id": "813b7d15",
   "metadata": {},
   "source": [
    "## Méthode\n",
    "\n",
    "Et comme cette fonction ne s'applique qu'aux stations de métro, on peut la définir en tant que fonction appartenant à la classe ou **méthode**."
   ]
  },
  {
   "cell_type": "code",
   "execution_count": 6,
   "id": "c9fc57e3",
   "metadata": {},
   "outputs": [
    {
     "data": {
      "text/plain": [
       "0.6928550943713419"
      ]
     },
     "execution_count": 6,
     "metadata": {},
     "output_type": "execute_result"
    }
   ],
   "source": [
    "class Station:\n",
    "    def __init__(self, name, lat, lng):\n",
    "        self.name = name\n",
    "        self.lng = lng\n",
    "        self.lat = lat\n",
    "\n",
    "    def distance_haversine(s1, s2):\n",
    "        radius = 6371\n",
    "        lat1 = s1.lat\n",
    "        lat2 = s2.lat\n",
    "        lng1 = s1.lng\n",
    "        lng2 = s2.lng\n",
    "        dlat = math.radians(lat2 - lat1)\n",
    "        dlon = math.radians(lng2 - lng1)\n",
    "        a = math.sin(dlat / 2) * math.sin(dlat / 2) + math.cos(\n",
    "            math.radians(lat1)\n",
    "        ) * math.cos(math.radians(lat2)) * math.sin(dlon / 2) * math.sin(dlon / 2)\n",
    "        c = 2 * math.atan2(math.sqrt(a), math.sqrt(1 - a))\n",
    "        d = radius * c\n",
    "        return d\n",
    "\n",
    "\n",
    "station1 = Station(\"Charles Michels\", 48.846651, 2.285811)\n",
    "station2 = Station(\"Emile Zola\", 48.847030, 2.295262)\n",
    "station1.distance_haversine(station2)"
   ]
  },
  {
   "cell_type": "markdown",
   "id": "825fd178",
   "metadata": {},
   "source": [
    "Une méthode de la classe `Station` prend toujours comme premier paramètre une variable de type `Station` (ou **instance**). On le distingue en l'appelant `self`. En python, c'est une convention, pas une obligation mais l'écriture est plus rigide dans d'autres langages."
   ]
  },
  {
   "cell_type": "code",
   "execution_count": 7,
   "id": "a05fefff",
   "metadata": {},
   "outputs": [
    {
     "data": {
      "text/plain": [
       "0.6928550943713419"
      ]
     },
     "execution_count": 7,
     "metadata": {},
     "output_type": "execute_result"
    }
   ],
   "source": [
    "class Station:\n",
    "    def __init__(self, name, lat, lng):\n",
    "        self.name = name\n",
    "        self.lng = lng\n",
    "        self.lat = lat\n",
    "\n",
    "    def distance_haversine(self, s2):\n",
    "        radius = 6371\n",
    "        lat1 = self.lat\n",
    "        lat2 = s2.lat\n",
    "        lng1 = self.lng\n",
    "        lng2 = s2.lng\n",
    "        dlat = math.radians(lat2 - lat1)\n",
    "        dlon = math.radians(lng2 - lng1)\n",
    "        a = math.sin(dlat / 2) * math.sin(dlat / 2) + math.cos(\n",
    "            math.radians(lat1)\n",
    "        ) * math.cos(math.radians(lat2)) * math.sin(dlon / 2) * math.sin(dlon / 2)\n",
    "        c = 2 * math.atan2(math.sqrt(a), math.sqrt(1 - a))\n",
    "        d = radius * c\n",
    "        return d\n",
    "\n",
    "\n",
    "station1 = Station(\"Charles Michels\", 48.846651, 2.285811)\n",
    "station2 = Station(\"Emile Zola\", 48.847030, 2.295262)\n",
    "station1.distance_haversine(station2)"
   ]
  },
  {
   "cell_type": "markdown",
   "id": "5a58cfdb",
   "metadata": {},
   "source": [
    "Ca fait la même chose mais cela s'écrit différemment."
   ]
  },
  {
   "cell_type": "markdown",
   "id": "cd49246a",
   "metadata": {},
   "source": [
    "## Opérateurs\n",
    "\n",
    "Les classes permettent également de définir des opérations."
   ]
  },
  {
   "cell_type": "code",
   "execution_count": 8,
   "id": "3b063d2b",
   "metadata": {},
   "outputs": [
    {
     "data": {
      "text/plain": [
       "0.6928550943713419"
      ]
     },
     "execution_count": 8,
     "metadata": {},
     "output_type": "execute_result"
    }
   ],
   "source": [
    "class Station:\n",
    "    def __init__(self, name, lat, lng):\n",
    "        self.name = name\n",
    "        self.lng = lng\n",
    "        self.lat = lat\n",
    "\n",
    "    def distance_haversine(self, s2):\n",
    "        radius = 6371\n",
    "        lat1 = self.lat\n",
    "        lat2 = s2.lat\n",
    "        lng1 = self.lng\n",
    "        lng2 = s2.lng\n",
    "        dlat = math.radians(lat2 - lat1)\n",
    "        dlon = math.radians(lng2 - lng1)\n",
    "        a = math.sin(dlat / 2) * math.sin(dlat / 2) + math.cos(\n",
    "            math.radians(lat1)\n",
    "        ) * math.cos(math.radians(lat2)) * math.sin(dlon / 2) * math.sin(dlon / 2)\n",
    "        c = 2 * math.atan2(math.sqrt(a), math.sqrt(1 - a))\n",
    "        d = radius * c\n",
    "        return d\n",
    "\n",
    "    def __rshift__(self, s2):\n",
    "        return self.distance_haversine(s2)\n",
    "\n",
    "\n",
    "station1 = Station(\"Charles Michels\", 48.846651, 2.285811)\n",
    "station2 = Station(\"Emile Zola\", 48.847030, 2.295262)\n",
    "station1 >> station2"
   ]
  },
  {
   "cell_type": "code",
   "execution_count": null,
   "id": "f91c7347",
   "metadata": {},
   "outputs": [],
   "source": []
  }
 ],
 "metadata": {
  "kernelspec": {
   "display_name": "Python 3 (ipykernel)",
   "language": "python",
   "name": "python3"
  },
  "language_info": {
   "codemirror_mode": {
    "name": "ipython",
    "version": 3
   },
   "file_extension": ".py",
   "mimetype": "text/x-python",
   "name": "python",
   "nbconvert_exporter": "python",
   "pygments_lexer": "ipython3",
   "version": "3.10.12"
  }
 },
 "nbformat": 4,
 "nbformat_minor": 5
}
