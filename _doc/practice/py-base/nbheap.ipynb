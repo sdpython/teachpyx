{
 "cells": [
  {
   "cell_type": "markdown",
   "metadata": {},
   "source": [
    "# Heap\n",
    "\n",
    "La structure *heap* ou [tas](https://fr.wikipedia.org/wiki/Tas_(informatique)) en français est utilisée pour trier. Elle peut également servir à obtenir les *k* premiers éléments d'une liste."
   ]
  },
  {
   "cell_type": "markdown",
   "metadata": {},
   "source": [
    "Un tas est peut être considéré comme un tableau $T$ qui vérifie une condition assez simple, pour tout indice $i$, alors $T[i] \\geqslant \\max(T[2i+1], T[2i+2])$. On en déduit nécessairement que le premier élément du tableau est le plus grand. Maintenant comment transformer un tableau en un autre qui respecte cette contrainte ?"
   ]
  },
  {
   "cell_type": "code",
   "execution_count": 22,
   "metadata": {},
   "outputs": [],
   "source": [
    "%matplotlib inline"
   ]
  },
  {
   "cell_type": "markdown",
   "metadata": {},
   "source": [
    "## Transformer en tas"
   ]
  },
  {
   "cell_type": "code",
   "execution_count": 23,
   "metadata": {},
   "outputs": [
    {
     "data": {
      "text/plain": [
       "[12, 11, 5, 10, 7, 3, 1, 6, 4, 3, 2]"
      ]
     },
     "execution_count": 23,
     "metadata": {},
     "output_type": "execute_result"
    }
   ],
   "source": [
    "def swap(tab, i, j):\n",
    "    \"Echange deux éléments.\"\n",
    "    tab[i], tab[j] = tab[j], tab[i]\n",
    "\n",
    "\n",
    "def entas(heap):\n",
    "    \"Organise un ensemble selon un tas.\"\n",
    "    modif = 1\n",
    "    while modif > 0:\n",
    "        modif = 0\n",
    "        i = len(heap) - 1\n",
    "        while i > 0:\n",
    "            root = (i - 1) // 2\n",
    "            if heap[root] < heap[i]:\n",
    "                swap(heap, root, i)\n",
    "                modif += 1\n",
    "            i -= 1\n",
    "    return heap\n",
    "\n",
    "\n",
    "ens = [1, 2, 3, 4, 7, 10, 5, 6, 11, 12, 3]\n",
    "entas(ens)"
   ]
  },
  {
   "cell_type": "markdown",
   "metadata": {},
   "source": [
    "Comme ce n'est pas facile de vérifer que c'est un tas, on le dessine."
   ]
  },
  {
   "cell_type": "markdown",
   "metadata": {},
   "source": [
    "## Dessiner un tas"
   ]
  },
  {
   "cell_type": "code",
   "execution_count": 24,
   "metadata": {},
   "outputs": [
    {
     "data": {
      "text/plain": [
       "<Axes: >"
      ]
     },
     "execution_count": 24,
     "metadata": {},
     "output_type": "execute_result"
    },
    {
     "data": {
      "image/png": "[encoded data removed]",
      "text/plain": [
       "<Figure size 500x500 with 1 Axes>"
      ]
     },
     "metadata": {},
     "output_type": "display_data"
    }
   ],
   "source": [
    "import networkx as nx\n",
    "import matplotlib.pyplot as plt\n",
    "\n",
    "\n",
    "def dessine_tas(heap):\n",
    "    G = nx.Graph()\n",
    "\n",
    "    for i, v in enumerate(heap):\n",
    "        if i * 2 + 1 < len(heap):\n",
    "            G.add_edge(f\"[{i}]={heap[i]}\", f\"[{i * 2 + 1}]={heap[i * 2 + 1]}\")\n",
    "            if i * 2 + 2 < len(heap):\n",
    "                G.add_edge(f\"[{i}]={heap[i]}\", f\"[{i * 2 + 2}]={heap[i * 2 + 2]}\")\n",
    "\n",
    "    fig, ax = plt.subplots(figsize=(5, 5))\n",
    "    pos = nx.bfs_layout(G, start=f\"[0]={heap[0]}\")\n",
    "    nx.draw(\n",
    "        G,\n",
    "        pos,\n",
    "        with_labels=True,\n",
    "        node_color=\"lightcoral\",\n",
    "        node_size=1200,\n",
    "        font_size=8,\n",
    "        font_weight=\"bold\",\n",
    "        arrows=True,\n",
    "        arrowstyle=\"->\",\n",
    "        ax=ax,\n",
    "    )\n",
    "    return ax\n",
    "\n",
    "\n",
    "dessine_tas(entas(ens))"
   ]
  },
  {
   "cell_type": "markdown",
   "metadata": {},
   "source": [
    "Le nombre entre crochets est la position, l'autre nombre est la valeur à cette position. Cette représentation fait apparaître une structure d'arbre binaire."
   ]
  },
  {
   "cell_type": "markdown",
   "metadata": {},
   "source": [
    "## Première version"
   ]
  },
  {
   "cell_type": "code",
   "execution_count": 25,
   "metadata": {},
   "outputs": [
    {
     "name": "stdout",
     "output_type": "stream",
     "text": [
      "1 [1]\n",
      "2 [2, 1]\n",
      "3 [3, 2, 1]\n",
      "4 [3, 3, 1, 2]\n",
      "5 [4, 3, 1, 3, 2]\n",
      "6 [5, 4, 3, 3, 2, 1]\n",
      "7 [5, 6, 3, 4, 2, 3, 1]\n",
      "8 [5, 7, 3, 6, 2, 3, 1, 4]\n",
      "9 [5, 10, 3, 7, 2, 3, 1, 6, 4]\n"
     ]
    }
   ],
   "source": [
    "def swap(tab, i, j):\n",
    "    \"Echange deux éléments.\"\n",
    "    tab[i], tab[j] = tab[j], tab[i]\n",
    "\n",
    "\n",
    "def _heapify_max_bottom(heap):\n",
    "    \"Organise un ensemble selon un tas.\"\n",
    "    modif = 1\n",
    "    while modif > 0:\n",
    "        modif = 0\n",
    "        i = len(heap) - 1\n",
    "        while i > 0:\n",
    "            root = (i - 1) // 2\n",
    "            if heap[root] < heap[i]:\n",
    "                swap(heap, root, i)\n",
    "                modif += 1\n",
    "            i -= 1\n",
    "\n",
    "\n",
    "def _heapify_max_up(heap):\n",
    "    \"Organise un ensemble selon un tas.\"\n",
    "    i = 0\n",
    "    while True:\n",
    "        left = 2 * i + 1\n",
    "        right = left + 1\n",
    "        if right < len(heap):\n",
    "            if heap[left] > heap[i] >= heap[right]:\n",
    "                swap(heap, i, left)\n",
    "                i = left\n",
    "            elif heap[right] > heap[i]:\n",
    "                swap(heap, i, right)\n",
    "                i = right\n",
    "            else:\n",
    "                break\n",
    "        elif left < len(heap) and heap[left] > heap[i]:\n",
    "            swap(heap, i, left)\n",
    "            i = left\n",
    "        else:\n",
    "            break\n",
    "\n",
    "\n",
    "def topk_min(ens, k):\n",
    "    \"Retourne les k plus petits éléments d'un ensemble.\"\n",
    "\n",
    "    heap = ens[:k]\n",
    "    _heapify_max_bottom(heap)\n",
    "\n",
    "    for el in ens[k:]:\n",
    "        if el < heap[0]:\n",
    "            heap[0] = el\n",
    "            _heapify_max_up(heap)\n",
    "    return heap\n",
    "\n",
    "\n",
    "ens = [1, 2, 3, 4, 7, 10, 5, 6, 11, 12, 3]\n",
    "for k in range(1, len(ens) - 1):\n",
    "    print(k, topk_min(ens, k))"
   ]
  },
  {
   "cell_type": "markdown",
   "metadata": {},
   "source": [
    "## Même chose avec les indices au lieu des valeurs"
   ]
  },
  {
   "cell_type": "code",
   "execution_count": 26,
   "metadata": {},
   "outputs": [
    {
     "name": "stdout",
     "output_type": "stream",
     "text": [
      "1 [0] [1]\n",
      "2 [1, 0] [2, 1]\n",
      "3 [2, 1, 0] [3, 2, 1]\n",
      "4 [10, 2, 0, 1] [3, 3, 1, 2]\n",
      "5 [5, 10, 0, 2, 1] [4, 3, 1, 3, 2]\n",
      "6 [6, 5, 2, 10, 1, 0] [5, 4, 3, 3, 2, 1]\n",
      "7 [5, 7, 10, 6, 1, 2, 0] [4, 6, 3, 5, 2, 3, 1]\n",
      "8 [5, 3, 10, 7, 1, 2, 0, 6] [4, 7, 3, 6, 2, 3, 1, 5]\n",
      "9 [5, 4, 10, 3, 1, 2, 0, 7, 6] [4, 10, 3, 7, 2, 3, 1, 6, 5]\n"
     ]
    }
   ],
   "source": [
    "def _heapify_max_bottom_position(ens, pos):\n",
    "    \"Organise un ensemble selon un tas.\"\n",
    "    modif = 1\n",
    "    while modif > 0:\n",
    "        modif = 0\n",
    "        i = len(pos) - 1\n",
    "        while i > 0:\n",
    "            root = (i - 1) // 2\n",
    "            if ens[pos[root]] < ens[pos[i]]:\n",
    "                swap(pos, root, i)\n",
    "                modif += 1\n",
    "            i -= 1\n",
    "\n",
    "\n",
    "def _heapify_max_up_position(ens, pos):\n",
    "    \"Organise un ensemble selon un tas.\"\n",
    "    i = 0\n",
    "    while True:\n",
    "        left = 2 * i + 1\n",
    "        right = left + 1\n",
    "        if right < len(pos):\n",
    "            if ens[pos[left]] > ens[pos[i]] >= ens[pos[right]]:\n",
    "                swap(pos, i, left)\n",
    "                i = left\n",
    "            elif ens[pos[right]] > ens[pos[i]]:\n",
    "                swap(pos, i, right)\n",
    "                i = right\n",
    "            else:\n",
    "                break\n",
    "        elif left < len(pos) and ens[pos[left]] > ens[pos[i]]:\n",
    "            swap(pos, i, left)\n",
    "            i = left\n",
    "        else:\n",
    "            break\n",
    "\n",
    "\n",
    "def topk_min_position(ens, k):\n",
    "    \"Retourne les positions des k plus petits éléments d'un ensemble.\"\n",
    "\n",
    "    pos = list(range(k))\n",
    "    _heapify_max_bottom_position(ens, pos)\n",
    "\n",
    "    for i, el in enumerate(ens[k:]):\n",
    "        if el < ens[pos[0]]:\n",
    "            pos[0] = k + i\n",
    "            _heapify_max_up_position(ens, pos)\n",
    "    return pos\n",
    "\n",
    "\n",
    "ens = [1, 2, 3, 7, 10, 4, 5, 6, 11, 12, 3]\n",
    "for k in range(1, len(ens) - 1):\n",
    "    pos = topk_min_position(ens, k)\n",
    "    print(k, pos, [ens[i] for i in pos])"
   ]
  },
  {
   "cell_type": "code",
   "execution_count": 27,
   "metadata": {},
   "outputs": [
    {
     "name": "stdout",
     "output_type": "stream",
     "text": [
      "1.15 ms ± 73.2 μs per loop (mean ± std. dev. of 7 runs, 1,000 loops each)\n"
     ]
    }
   ],
   "source": [
    "import numpy.random as rnd\n",
    "\n",
    "X = rnd.randn(10000)\n",
    "\n",
    "%timeit topk_min(X, 20)"
   ]
  },
  {
   "cell_type": "code",
   "execution_count": 28,
   "metadata": {},
   "outputs": [
    {
     "name": "stdout",
     "output_type": "stream",
     "text": [
      "1.3 ms ± 27 μs per loop (mean ± std. dev. of 7 runs, 1,000 loops each)\n"
     ]
    }
   ],
   "source": [
    "%timeit topk_min_position(X, 20)"
   ]
  },
  {
   "cell_type": "markdown",
   "metadata": {},
   "source": [
    "## Coût de l'algorithme"
   ]
  },
  {
   "cell_type": "code",
   "execution_count": 29,
   "metadata": {},
   "outputs": [
    {
     "name": "stderr",
     "output_type": "stream",
     "text": [
      "100%|██████████| 20/20 [00:04<00:00,  4.36it/s]\n"
     ]
    },
    {
     "data": {
      "text/html": [
       "<div>\n",
       "<style scoped>\n",
       "    .dataframe tbody tr th:only-of-type {\n",
       "        vertical-align: middle;\n",
       "    }\n",
       "\n",
       "    .dataframe tbody tr th {\n",
       "        vertical-align: top;\n",
       "    }\n",
       "\n",
       "    .dataframe thead th {\n",
       "        text-align: right;\n",
       "    }\n",
       "</style>\n",
       "<table border=\"1\" class=\"dataframe\">\n",
       "  <thead>\n",
       "    <tr style=\"text-align: right;\">\n",
       "      <th></th>\n",
       "      <th>average</th>\n",
       "      <th>deviation</th>\n",
       "      <th>min_exec</th>\n",
       "      <th>max_exec</th>\n",
       "      <th>repeat</th>\n",
       "      <th>number</th>\n",
       "      <th>ttime</th>\n",
       "      <th>context_size</th>\n",
       "      <th>warmup_time</th>\n",
       "      <th>size</th>\n",
       "    </tr>\n",
       "  </thead>\n",
       "  <tbody>\n",
       "    <tr>\n",
       "      <th>0</th>\n",
       "      <td>0.000936</td>\n",
       "      <td>0.000545</td>\n",
       "      <td>0.000417</td>\n",
       "      <td>0.002053</td>\n",
       "      <td>10</td>\n",
       "      <td>10</td>\n",
       "      <td>0.009363</td>\n",
       "      <td>184</td>\n",
       "      <td>0.001808</td>\n",
       "      <td>1000</td>\n",
       "    </tr>\n",
       "    <tr>\n",
       "      <th>1</th>\n",
       "      <td>0.000846</td>\n",
       "      <td>0.000243</td>\n",
       "      <td>0.000593</td>\n",
       "      <td>0.001176</td>\n",
       "      <td>10</td>\n",
       "      <td>10</td>\n",
       "      <td>0.008458</td>\n",
       "      <td>184</td>\n",
       "      <td>0.000567</td>\n",
       "      <td>2000</td>\n",
       "    </tr>\n",
       "    <tr>\n",
       "      <th>2</th>\n",
       "      <td>0.001052</td>\n",
       "      <td>0.000698</td>\n",
       "      <td>0.000661</td>\n",
       "      <td>0.002505</td>\n",
       "      <td>10</td>\n",
       "      <td>10</td>\n",
       "      <td>0.010521</td>\n",
       "      <td>184</td>\n",
       "      <td>0.001720</td>\n",
       "      <td>3000</td>\n",
       "    </tr>\n",
       "    <tr>\n",
       "      <th>3</th>\n",
       "      <td>0.001355</td>\n",
       "      <td>0.000407</td>\n",
       "      <td>0.000940</td>\n",
       "      <td>0.001972</td>\n",
       "      <td>10</td>\n",
       "      <td>10</td>\n",
       "      <td>0.013552</td>\n",
       "      <td>184</td>\n",
       "      <td>0.000966</td>\n",
       "      <td>4000</td>\n",
       "    </tr>\n",
       "    <tr>\n",
       "      <th>4</th>\n",
       "      <td>0.001157</td>\n",
       "      <td>0.000332</td>\n",
       "      <td>0.000944</td>\n",
       "      <td>0.001844</td>\n",
       "      <td>10</td>\n",
       "      <td>10</td>\n",
       "      <td>0.011573</td>\n",
       "      <td>184</td>\n",
       "      <td>0.001753</td>\n",
       "      <td>5000</td>\n",
       "    </tr>\n",
       "  </tbody>\n",
       "</table>\n",
       "</div>"
      ],
      "text/plain": [
       "    average  deviation  min_exec  max_exec  repeat  number     ttime  \\\n",
       "0  0.000936   0.000545  0.000417  0.002053      10      10  0.009363   \n",
       "1  0.000846   0.000243  0.000593  0.001176      10      10  0.008458   \n",
       "2  0.001052   0.000698  0.000661  0.002505      10      10  0.010521   \n",
       "3  0.001355   0.000407  0.000940  0.001972      10      10  0.013552   \n",
       "4  0.001157   0.000332  0.000944  0.001844      10      10  0.011573   \n",
       "\n",
       "   context_size  warmup_time  size  \n",
       "0           184     0.001808  1000  \n",
       "1           184     0.000567  2000  \n",
       "2           184     0.001720  3000  \n",
       "3           184     0.000966  4000  \n",
       "4           184     0.001753  5000  "
      ]
     },
     "execution_count": 29,
     "metadata": {},
     "output_type": "execute_result"
    }
   ],
   "source": [
    "from tqdm import tqdm\n",
    "from pandas import DataFrame\n",
    "from teachpyx.ext_test_case import measure_time\n",
    "\n",
    "rows = []\n",
    "for n in tqdm(list(range(1000, 20001, 1000))):\n",
    "    X = rnd.randn(n)\n",
    "    res = measure_time(\n",
    "        \"topk_min_position(X, 100)\",\n",
    "        {\"X\": X, \"topk_min_position\": topk_min_position},\n",
    "        div_by_number=True,\n",
    "        number=10,\n",
    "    )\n",
    "    res[\"size\"] = n\n",
    "    rows.append(res)\n",
    "\n",
    "df = DataFrame(rows)\n",
    "df.head()"
   ]
  },
  {
   "cell_type": "code",
   "execution_count": 30,
   "metadata": {},
   "outputs": [
    {
     "data": {
      "image/png": "[encoded data removed]",
      "text/plain": [
       "<Figure size 640x480 with 1 Axes>"
      ]
     },
     "metadata": {},
     "output_type": "display_data"
    }
   ],
   "source": [
    "import matplotlib.pyplot as plt\n",
    "\n",
    "df[[\"size\", \"average\"]].set_index(\"size\").plot()\n",
    "plt.title(\"Coût topk en fonction de la taille du tableau\");"
   ]
  },
  {
   "cell_type": "markdown",
   "metadata": {},
   "source": [
    "A peu près linéaire comme attendu."
   ]
  },
  {
   "cell_type": "code",
   "execution_count": 31,
   "metadata": {},
   "outputs": [
    {
     "name": "stderr",
     "output_type": "stream",
     "text": [
      "  0%|          | 0/11 [00:00<?, ?it/s]"
     ]
    },
    {
     "name": "stderr",
     "output_type": "stream",
     "text": [
      "100%|██████████| 11/11 [00:03<00:00,  3.30it/s]\n"
     ]
    },
    {
     "data": {
      "text/html": [
       "<div>\n",
       "<style scoped>\n",
       "    .dataframe tbody tr th:only-of-type {\n",
       "        vertical-align: middle;\n",
       "    }\n",
       "\n",
       "    .dataframe tbody tr th {\n",
       "        vertical-align: top;\n",
       "    }\n",
       "\n",
       "    .dataframe thead th {\n",
       "        text-align: right;\n",
       "    }\n",
       "</style>\n",
       "<table border=\"1\" class=\"dataframe\">\n",
       "  <thead>\n",
       "    <tr style=\"text-align: right;\">\n",
       "      <th></th>\n",
       "      <th>average</th>\n",
       "      <th>deviation</th>\n",
       "      <th>min_exec</th>\n",
       "      <th>max_exec</th>\n",
       "      <th>repeat</th>\n",
       "      <th>number</th>\n",
       "      <th>ttime</th>\n",
       "      <th>context_size</th>\n",
       "      <th>warmup_time</th>\n",
       "      <th>k</th>\n",
       "    </tr>\n",
       "  </thead>\n",
       "  <tbody>\n",
       "    <tr>\n",
       "      <th>0</th>\n",
       "      <td>0.003371</td>\n",
       "      <td>0.000490</td>\n",
       "      <td>0.003056</td>\n",
       "      <td>0.004701</td>\n",
       "      <td>10</td>\n",
       "      <td>5</td>\n",
       "      <td>0.033712</td>\n",
       "      <td>184</td>\n",
       "      <td>0.008233</td>\n",
       "      <td>500</td>\n",
       "    </tr>\n",
       "    <tr>\n",
       "      <th>1</th>\n",
       "      <td>0.004981</td>\n",
       "      <td>0.001537</td>\n",
       "      <td>0.003584</td>\n",
       "      <td>0.007546</td>\n",
       "      <td>10</td>\n",
       "      <td>5</td>\n",
       "      <td>0.049812</td>\n",
       "      <td>184</td>\n",
       "      <td>0.003769</td>\n",
       "      <td>650</td>\n",
       "    </tr>\n",
       "    <tr>\n",
       "      <th>2</th>\n",
       "      <td>0.005043</td>\n",
       "      <td>0.001202</td>\n",
       "      <td>0.004029</td>\n",
       "      <td>0.007892</td>\n",
       "      <td>10</td>\n",
       "      <td>5</td>\n",
       "      <td>0.050429</td>\n",
       "      <td>184</td>\n",
       "      <td>0.003999</td>\n",
       "      <td>800</td>\n",
       "    </tr>\n",
       "    <tr>\n",
       "      <th>3</th>\n",
       "      <td>0.005430</td>\n",
       "      <td>0.000759</td>\n",
       "      <td>0.004515</td>\n",
       "      <td>0.006904</td>\n",
       "      <td>10</td>\n",
       "      <td>5</td>\n",
       "      <td>0.054297</td>\n",
       "      <td>184</td>\n",
       "      <td>0.007590</td>\n",
       "      <td>950</td>\n",
       "    </tr>\n",
       "    <tr>\n",
       "      <th>4</th>\n",
       "      <td>0.006422</td>\n",
       "      <td>0.001376</td>\n",
       "      <td>0.004506</td>\n",
       "      <td>0.009072</td>\n",
       "      <td>10</td>\n",
       "      <td>5</td>\n",
       "      <td>0.064225</td>\n",
       "      <td>184</td>\n",
       "      <td>0.009276</td>\n",
       "      <td>1100</td>\n",
       "    </tr>\n",
       "  </tbody>\n",
       "</table>\n",
       "</div>"
      ],
      "text/plain": [
       "    average  deviation  min_exec  max_exec  repeat  number     ttime  \\\n",
       "0  0.003371   0.000490  0.003056  0.004701      10       5  0.033712   \n",
       "1  0.004981   0.001537  0.003584  0.007546      10       5  0.049812   \n",
       "2  0.005043   0.001202  0.004029  0.007892      10       5  0.050429   \n",
       "3  0.005430   0.000759  0.004515  0.006904      10       5  0.054297   \n",
       "4  0.006422   0.001376  0.004506  0.009072      10       5  0.064225   \n",
       "\n",
       "   context_size  warmup_time     k  \n",
       "0           184     0.008233   500  \n",
       "1           184     0.003769   650  \n",
       "2           184     0.003999   800  \n",
       "3           184     0.007590   950  \n",
       "4           184     0.009276  1100  "
      ]
     },
     "execution_count": 31,
     "metadata": {},
     "output_type": "execute_result"
    }
   ],
   "source": [
    "from tqdm import tqdm\n",
    "from teachpyx.ext_test_case import measure_time\n",
    "\n",
    "rows = []\n",
    "X = rnd.randn(10000)\n",
    "for k in tqdm(list(range(500, 2001, 150))):\n",
    "    res = measure_time(\n",
    "        \"topk_min_position(X, k)\",\n",
    "        {\"X\": X, \"topk_min_position\": topk_min_position, \"k\": k},\n",
    "        div_by_number=True,\n",
    "        number=5,\n",
    "    )\n",
    "    res[\"k\"] = k\n",
    "    rows.append(res)\n",
    "\n",
    "df = DataFrame(rows)\n",
    "df.head()"
   ]
  },
  {
   "cell_type": "code",
   "execution_count": 32,
   "metadata": {},
   "outputs": [
    {
     "data": {
      "image/png": "[encoded data removed]",
      "text/plain": [
       "<Figure size 640x480 with 1 Axes>"
      ]
     },
     "metadata": {},
     "output_type": "display_data"
    }
   ],
   "source": [
    "df[[\"k\", \"average\"]].set_index(\"k\").plot()\n",
    "plt.title(\"Coût topk en fonction de k\");"
   ]
  },
  {
   "cell_type": "markdown",
   "metadata": {},
   "source": [
    "Pas évident, au pire en $O(n\\ln n)$, au mieux en $O(n)$."
   ]
  },
  {
   "cell_type": "markdown",
   "metadata": {},
   "source": [
    "## Version simplifiée\n",
    "\n",
    "A-t-on vraiment besoin de `_heapify_max_bottom_position` ?"
   ]
  },
  {
   "cell_type": "code",
   "execution_count": 33,
   "metadata": {},
   "outputs": [
    {
     "name": "stdout",
     "output_type": "stream",
     "text": [
      "1 [0] [1]\n",
      "2 [1, 0] [2, 1]\n",
      "3 [2, 1, 0] [3, 2, 1]\n",
      "4 [10, 2, 1, 0] [3, 3, 2, 1]\n",
      "5 [5, 10, 2, 1, 0] [4, 3, 3, 2, 1]\n",
      "6 [5, 6, 10, 2, 1, 0] [4, 5, 3, 3, 2, 1]\n",
      "7 [6, 7, 10, 5, 2, 1, 0] [5, 6, 3, 4, 3, 2, 1]\n",
      "8 [5, 4, 10, 7, 6, 2, 1, 0] [4, 10, 3, 6, 5, 3, 2, 1]\n",
      "9 [3, 4, 6, 5, 7, 10, 2, 1, 0] [7, 10, 5, 4, 6, 3, 3, 2, 1]\n"
     ]
    }
   ],
   "source": [
    "def _heapify_max_up_position_simple(ens, pos, first):\n",
    "    \"Organise un ensemble selon un tas.\"\n",
    "    i = first\n",
    "    while True:\n",
    "        left = 2 * i + 1\n",
    "        right = left + 1\n",
    "        if right < len(pos):\n",
    "            if ens[pos[left]] > ens[pos[i]] >= ens[pos[right]]:\n",
    "                swap(pos, i, left)\n",
    "                i = left\n",
    "            elif ens[pos[right]] > ens[pos[i]]:\n",
    "                swap(pos, i, right)\n",
    "                i = right\n",
    "            else:\n",
    "                break\n",
    "        elif left < len(pos) and ens[pos[left]] > ens[pos[i]]:\n",
    "            swap(pos, i, left)\n",
    "            i = left\n",
    "        else:\n",
    "            break\n",
    "\n",
    "\n",
    "def topk_min_position_simple(ens, k):\n",
    "    \"Retourne les positions des k plus petits éléments d'un ensemble.\"\n",
    "\n",
    "    pos = list(range(k))\n",
    "    pos[k - 1] = 0\n",
    "\n",
    "    for i in range(1, k):\n",
    "        pos[k - i - 1] = i\n",
    "        _heapify_max_up_position_simple(ens, pos, k - i - 1)\n",
    "\n",
    "    for i, el in enumerate(ens[k:]):\n",
    "        if el < ens[pos[0]]:\n",
    "            pos[0] = k + i\n",
    "            _heapify_max_up_position_simple(ens, pos, 0)\n",
    "    return pos\n",
    "\n",
    "\n",
    "ens = [1, 2, 3, 7, 10, 4, 5, 6, 11, 12, 3]\n",
    "for k in range(1, len(ens) - 1):\n",
    "    pos = topk_min_position_simple(ens, k)\n",
    "    print(k, pos, [ens[i] for i in pos])"
   ]
  },
  {
   "cell_type": "code",
   "execution_count": 34,
   "metadata": {},
   "outputs": [
    {
     "name": "stdout",
     "output_type": "stream",
     "text": [
      "1.42 ms ± 39.9 μs per loop (mean ± std. dev. of 7 runs, 1,000 loops each)\n"
     ]
    }
   ],
   "source": [
    "X = rnd.randn(10000)\n",
    "\n",
    "%timeit topk_min_position_simple(X, 20)"
   ]
  },
  {
   "cell_type": "code",
   "execution_count": null,
   "metadata": {},
   "outputs": [],
   "source": []
  },
  {
   "cell_type": "code",
   "execution_count": null,
   "metadata": {},
   "outputs": [],
   "source": []
  }
 ],
 "metadata": {
  "kernelspec": {
   "display_name": "Python 3 (ipykernel)",
   "language": "python",
   "name": "python3"
  },
  "language_info": {
   "codemirror_mode": {
    "name": "ipython",
    "version": 3
   },
   "file_extension": ".py",
   "mimetype": "text/x-python",
   "name": "python",
   "nbconvert_exporter": "python",
   "pygments_lexer": "ipython3",
   "version": "3.12.9"
  }
 },
 "nbformat": 4,
 "nbformat_minor": 2
}