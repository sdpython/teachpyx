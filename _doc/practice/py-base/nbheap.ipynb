{
 "cells": [
  {
   "cell_type": "markdown",
   "metadata": {},
   "source": [
    "# Heap\n",
    "\n",
    "La structure *heap* ou [tas](https://fr.wikipedia.org/wiki/Tas_(informatique)) en français est utilisée pour trier. Elle peut également servir à obtenir les *k* premiers éléments d'une liste."
   ]
  },
  {
   "cell_type": "markdown",
   "metadata": {},
   "source": [
    "Un tas est peut être considéré comme un tableau $T$ qui vérifie une condition assez simple, pour tout indice $i$, alors $T[i] \\geqslant \\max(T[2i+1], T[2i+2])$. On en déduit nécessairement que le premier élément du tableau est le plus grand. Maintenant comment transformer un tableau en un autre qui respecte cette contrainte ?"
   ]
  },
  {
   "cell_type": "code",
   "execution_count": 4,
   "metadata": {},
   "outputs": [],
   "source": [
    "%matplotlib inline"
   ]
  },
  {
   "cell_type": "markdown",
   "metadata": {},
   "source": [
    "## Transformer en tas"
   ]
  },
  {
   "cell_type": "code",
   "execution_count": 5,
   "metadata": {},
   "outputs": [
    {
     "data": {
      "text/plain": [
       "[12, 11, 5, 10, 7, 3, 1, 6, 4, 3, 2]"
      ]
     },
     "execution_count": 5,
     "metadata": {},
     "output_type": "execute_result"
    }
   ],
   "source": [
    "def swap(tab, i, j):\n",
    "    \"Echange deux éléments.\"\n",
    "    tab[i], tab[j] = tab[j], tab[i]\n",
    "\n",
    "\n",
    "def entas(heap):\n",
    "    \"Organise un ensemble selon un tas.\"\n",
    "    modif = 1\n",
    "    while modif > 0:\n",
    "        modif = 0\n",
    "        i = len(heap) - 1\n",
    "        while i > 0:\n",
    "            root = (i - 1) // 2\n",
    "            if heap[root] < heap[i]:\n",
    "                swap(heap, root, i)\n",
    "                modif += 1\n",
    "            i -= 1\n",
    "    return heap\n",
    "\n",
    "\n",
    "ens = [1, 2, 3, 4, 7, 10, 5, 6, 11, 12, 3]\n",
    "entas(ens)"
   ]
  },
  {
   "cell_type": "markdown",
   "metadata": {},
   "source": [
    "Comme ce n'est pas facile de vérifer que c'est un tas, on le dessine."
   ]
  },
  {
   "cell_type": "markdown",
   "metadata": {},
   "source": [
    "## Dessiner un tas"
   ]
  },
  {
   "cell_type": "code",
   "execution_count": 9,
   "metadata": {},
   "outputs": [
    {
     "ename": "ModuleNotFoundError",
     "evalue": "No module named 'teachpyx'",
     "output_type": "error",
     "traceback": [
      "\u001b[0;31m---------------------------------------------------------------------------\u001b[0m",
      "\u001b[0;31mModuleNotFoundError\u001b[0m                       Traceback (most recent call last)",
      "Cell \u001b[0;32mIn[9], line 1\u001b[0m\n\u001b[0;32m----> 1\u001b[0m \u001b[39mfrom\u001b[39;00m \u001b[39mteachpyx\u001b[39;00m\u001b[39m.\u001b[39;00m\u001b[39mtools\u001b[39;00m \u001b[39mimport\u001b[39;00m draw_diagram\n\u001b[1;32m      4\u001b[0m \u001b[39mdef\u001b[39;00m \u001b[39mdessine_tas\u001b[39m(heap):\n\u001b[1;32m      5\u001b[0m     rows \u001b[39m=\u001b[39m [\u001b[39m\"\u001b[39m\u001b[39mblockdiag \u001b[39m\u001b[39m{\u001b[39m\u001b[39m\"\u001b[39m]\n",
      "\u001b[0;31mModuleNotFoundError\u001b[0m: No module named 'teachpyx'"
     ]
    }
   ],
   "source": [
    "from teachpyx.tools import draw_diagram\n",
    "\n",
    "\n",
    "def dessine_tas(heap):\n",
    "    rows = [\"blockdiag {\"]\n",
    "    for i, v in enumerate(heap):\n",
    "        if i * 2 + 1 < len(heap):\n",
    "            rows.append(\n",
    "                '\"[{}]={}\" -> \"[{}]={}\";'.format(i, heap[i], i * 2 + 1, heap[i * 2 + 1])\n",
    "            )\n",
    "            if i * 2 + 2 < len(heap):\n",
    "                rows.append(\n",
    "                    '\"[{}]={}\" -> \"[{}]={}\";'.format(\n",
    "                        i, heap[i], i * 2 + 2, heap[i * 2 + 2]\n",
    "                    )\n",
    "                )\n",
    "    rows.append(\"}\")\n",
    "    return draw_diagram(\"\\n\".join(rows))\n",
    "\n",
    "\n",
    "ens = [1, 2, 3, 4, 7, 10, 5, 6, 11, 12, 3]\n",
    "dessine_tas(entas(ens))"
   ]
  },
  {
   "cell_type": "markdown",
   "metadata": {},
   "source": [
    "Le nombre entre crochets est la position, l'autre nombre est la valeur à cette position. Cette représentation fait apparaître une structure d'arbre binaire."
   ]
  },
  {
   "cell_type": "markdown",
   "metadata": {},
   "source": [
    "## Première version"
   ]
  },
  {
   "cell_type": "code",
   "execution_count": 10,
   "metadata": {},
   "outputs": [
    {
     "name": "stdout",
     "output_type": "stream",
     "text": [
      "1 [1]\n",
      "2 [2, 1]\n",
      "3 [3, 2, 1]\n",
      "4 [3, 3, 1, 2]\n",
      "5 [4, 3, 1, 3, 2]\n",
      "6 [5, 4, 3, 3, 2, 1]\n",
      "7 [5, 6, 3, 4, 2, 3, 1]\n",
      "8 [5, 7, 3, 6, 2, 3, 1, 4]\n",
      "9 [5, 10, 3, 7, 2, 3, 1, 6, 4]\n"
     ]
    }
   ],
   "source": [
    "def swap(tab, i, j):\n",
    "    \"Echange deux éléments.\"\n",
    "    tab[i], tab[j] = tab[j], tab[i]\n",
    "\n",
    "\n",
    "def _heapify_max_bottom(heap):\n",
    "    \"Organise un ensemble selon un tas.\"\n",
    "    modif = 1\n",
    "    while modif > 0:\n",
    "        modif = 0\n",
    "        i = len(heap) - 1\n",
    "        while i > 0:\n",
    "            root = (i - 1) // 2\n",
    "            if heap[root] < heap[i]:\n",
    "                swap(heap, root, i)\n",
    "                modif += 1\n",
    "            i -= 1\n",
    "\n",
    "\n",
    "def _heapify_max_up(heap):\n",
    "    \"Organise un ensemble selon un tas.\"\n",
    "    i = 0\n",
    "    while True:\n",
    "        left = 2 * i + 1\n",
    "        right = left + 1\n",
    "        if right < len(heap):\n",
    "            if heap[left] > heap[i] >= heap[right]:\n",
    "                swap(heap, i, left)\n",
    "                i = left\n",
    "            elif heap[right] > heap[i]:\n",
    "                swap(heap, i, right)\n",
    "                i = right\n",
    "            else:\n",
    "                break\n",
    "        elif left < len(heap) and heap[left] > heap[i]:\n",
    "            swap(heap, i, left)\n",
    "            i = left\n",
    "        else:\n",
    "            break\n",
    "\n",
    "\n",
    "def topk_min(ens, k):\n",
    "    \"Retourne les k plus petits éléments d'un ensemble.\"\n",
    "\n",
    "    heap = ens[:k]\n",
    "    _heapify_max_bottom(heap)\n",
    "\n",
    "    for el in ens[k:]:\n",
    "        if el < heap[0]:\n",
    "            heap[0] = el\n",
    "            _heapify_max_up(heap)\n",
    "    return heap\n",
    "\n",
    "\n",
    "ens = [1, 2, 3, 4, 7, 10, 5, 6, 11, 12, 3]\n",
    "for k in range(1, len(ens) - 1):\n",
    "    print(k, topk_min(ens, k))"
   ]
  },
  {
   "cell_type": "markdown",
   "metadata": {},
   "source": [
    "## Même chose avec les indices au lieu des valeurs"
   ]
  },
  {
   "cell_type": "code",
   "execution_count": 11,
   "metadata": {},
   "outputs": [
    {
     "name": "stdout",
     "output_type": "stream",
     "text": [
      "1 [0] [1]\n",
      "2 [1, 0] [2, 1]\n",
      "3 [2, 1, 0] [3, 2, 1]\n",
      "4 [10, 2, 0, 1] [3, 3, 1, 2]\n",
      "5 [5, 10, 0, 2, 1] [4, 3, 1, 3, 2]\n",
      "6 [6, 5, 2, 10, 1, 0] [5, 4, 3, 3, 2, 1]\n",
      "7 [5, 7, 10, 6, 1, 2, 0] [4, 6, 3, 5, 2, 3, 1]\n",
      "8 [5, 3, 10, 7, 1, 2, 0, 6] [4, 7, 3, 6, 2, 3, 1, 5]\n",
      "9 [5, 4, 10, 3, 1, 2, 0, 7, 6] [4, 10, 3, 7, 2, 3, 1, 6, 5]\n"
     ]
    }
   ],
   "source": [
    "def _heapify_max_bottom_position(ens, pos):\n",
    "    \"Organise un ensemble selon un tas.\"\n",
    "    modif = 1\n",
    "    while modif > 0:\n",
    "        modif = 0\n",
    "        i = len(pos) - 1\n",
    "        while i > 0:\n",
    "            root = (i - 1) // 2\n",
    "            if ens[pos[root]] < ens[pos[i]]:\n",
    "                swap(pos, root, i)\n",
    "                modif += 1\n",
    "            i -= 1\n",
    "\n",
    "\n",
    "def _heapify_max_up_position(ens, pos):\n",
    "    \"Organise un ensemble selon un tas.\"\n",
    "    i = 0\n",
    "    while True:\n",
    "        left = 2 * i + 1\n",
    "        right = left + 1\n",
    "        if right < len(pos):\n",
    "            if ens[pos[left]] > ens[pos[i]] >= ens[pos[right]]:\n",
    "                swap(pos, i, left)\n",
    "                i = left\n",
    "            elif ens[pos[right]] > ens[pos[i]]:\n",
    "                swap(pos, i, right)\n",
    "                i = right\n",
    "            else:\n",
    "                break\n",
    "        elif left < len(pos) and ens[pos[left]] > ens[pos[i]]:\n",
    "            swap(pos, i, left)\n",
    "            i = left\n",
    "        else:\n",
    "            break\n",
    "\n",
    "\n",
    "def topk_min_position(ens, k):\n",
    "    \"Retourne les positions des k plus petits éléments d'un ensemble.\"\n",
    "\n",
    "    pos = list(range(k))\n",
    "    _heapify_max_bottom_position(ens, pos)\n",
    "\n",
    "    for i, el in enumerate(ens[k:]):\n",
    "        if el < ens[pos[0]]:\n",
    "            pos[0] = k + i\n",
    "            _heapify_max_up_position(ens, pos)\n",
    "    return pos\n",
    "\n",
    "\n",
    "ens = [1, 2, 3, 7, 10, 4, 5, 6, 11, 12, 3]\n",
    "for k in range(1, len(ens) - 1):\n",
    "    pos = topk_min_position(ens, k)\n",
    "    print(k, pos, [ens[i] for i in pos])"
   ]
  },
  {
   "cell_type": "code",
   "execution_count": 12,
   "metadata": {},
   "outputs": [
    {
     "name": "stdout",
     "output_type": "stream",
     "text": [
      "1.25 ms ± 19.1 µs per loop (mean ± std. dev. of 7 runs, 1,000 loops each)\n"
     ]
    }
   ],
   "source": [
    "import numpy.random as rnd\n",
    "\n",
    "X = rnd.randn(10000)\n",
    "\n",
    "%timeit topk_min(X, 20)"
   ]
  },
  {
   "cell_type": "code",
   "execution_count": 13,
   "metadata": {},
   "outputs": [
    {
     "name": "stdout",
     "output_type": "stream",
     "text": [
      "1.67 ms ± 155 µs per loop (mean ± std. dev. of 7 runs, 100 loops each)\n"
     ]
    }
   ],
   "source": [
    "%timeit topk_min_position(X, 20)"
   ]
  },
  {
   "cell_type": "markdown",
   "metadata": {},
   "source": [
    "## Coût de l'algorithme"
   ]
  },
  {
   "cell_type": "code",
   "execution_count": 14,
   "metadata": {},
   "outputs": [
    {
     "ename": "ModuleNotFoundError",
     "evalue": "No module named 'cpyquickhelper'",
     "output_type": "error",
     "traceback": [
      "\u001b[0;31m---------------------------------------------------------------------------\u001b[0m",
      "\u001b[0;31mModuleNotFoundError\u001b[0m                       Traceback (most recent call last)",
      "Cell \u001b[0;32mIn[14], line 1\u001b[0m\n\u001b[0;32m----> 1\u001b[0m \u001b[39mfrom\u001b[39;00m \u001b[39mcpyquickhelper\u001b[39;00m\u001b[39m.\u001b[39;00m\u001b[39mnumbers\u001b[39;00m \u001b[39mimport\u001b[39;00m measure_time\n\u001b[1;32m      2\u001b[0m \u001b[39mfrom\u001b[39;00m \u001b[39mtqdm\u001b[39;00m \u001b[39mimport\u001b[39;00m tqdm\n\u001b[1;32m      3\u001b[0m \u001b[39mfrom\u001b[39;00m \u001b[39mpandas\u001b[39;00m \u001b[39mimport\u001b[39;00m DataFrame\n",
      "\u001b[0;31mModuleNotFoundError\u001b[0m: No module named 'cpyquickhelper'"
     ]
    }
   ],
   "source": [
    "from cpyquickhelper.numbers import measure_time\n",
    "from tqdm import tqdm\n",
    "from pandas import DataFrame\n",
    "\n",
    "rows = []\n",
    "for n in tqdm(list(range(1000, 20001, 1000))):\n",
    "    X = rnd.randn(n)\n",
    "    res = measure_time(\n",
    "        \"topk_min_position(X, 100)\",\n",
    "        {\"X\": X, \"topk_min_position\": topk_min_position},\n",
    "        div_by_number=True,\n",
    "        number=10,\n",
    "    )\n",
    "    res[\"size\"] = n\n",
    "    rows.append(res)\n",
    "\n",
    "df = DataFrame(rows)\n",
    "df.head()"
   ]
  },
  {
   "cell_type": "code",
   "execution_count": null,
   "metadata": {},
   "outputs": [],
   "source": [
    "import matplotlib.pyplot as plt\n",
    "\n",
    "df[[\"size\", \"average\"]].set_index(\"size\").plot()\n",
    "plt.title(\"Coût topk en fonction de la taille du tableau\");"
   ]
  },
  {
   "cell_type": "markdown",
   "metadata": {},
   "source": [
    "A peu près linéaire comme attendu."
   ]
  },
  {
   "cell_type": "code",
   "execution_count": 20,
   "metadata": {},
   "outputs": [
    {
     "ename": "ModuleNotFoundError",
     "evalue": "No module named 'teachpyx'",
     "output_type": "error",
     "traceback": [
      "\u001b[0;31m---------------------------------------------------------------------------\u001b[0m",
      "\u001b[0;31mModuleNotFoundError\u001b[0m                       Traceback (most recent call last)",
      "Cell \u001b[0;32mIn[20], line 2\u001b[0m\n\u001b[1;32m      1\u001b[0m \u001b[39mfrom\u001b[39;00m \u001b[39mtqdm\u001b[39;00m \u001b[39mimport\u001b[39;00m tqdm\n\u001b[0;32m----> 2\u001b[0m \u001b[39mfrom\u001b[39;00m \u001b[39mteachpyx\u001b[39;00m\u001b[39m.\u001b[39;00m\u001b[39mext_test_case\u001b[39;00m \u001b[39mimport\u001b[39;00m measure_time\n\u001b[1;32m      4\u001b[0m rows \u001b[39m=\u001b[39m []\n\u001b[1;32m      5\u001b[0m X \u001b[39m=\u001b[39m rnd\u001b[39m.\u001b[39mrandn(\u001b[39m10000\u001b[39m)\n",
      "\u001b[0;31mModuleNotFoundError\u001b[0m: No module named 'teachpyx'"
     ]
    }
   ],
   "source": [
    "from tqdm import tqdm\n",
    "from teachpyx.ext_test_case import measure_time\n",
    "\n",
    "rows = []\n",
    "X = rnd.randn(10000)\n",
    "for k in tqdm(list(range(500, 2001, 150))):\n",
    "    res = measure_time(\n",
    "        \"topk_min_position(X, k)\",\n",
    "        {\"X\": X, \"topk_min_position\": topk_min_position, \"k\": k},\n",
    "        div_by_number=True,\n",
    "        number=5,\n",
    "    )\n",
    "    res[\"k\"] = k\n",
    "    rows.append(res)\n",
    "\n",
    "df = DataFrame(rows)\n",
    "df.head()"
   ]
  },
  {
   "cell_type": "code",
   "execution_count": 16,
   "metadata": {},
   "outputs": [
    {
     "ename": "NameError",
     "evalue": "name 'df' is not defined",
     "output_type": "error",
     "traceback": [
      "\u001b[0;31m---------------------------------------------------------------------------\u001b[0m",
      "\u001b[0;31mNameError\u001b[0m                                 Traceback (most recent call last)",
      "Cell \u001b[0;32mIn[16], line 1\u001b[0m\n\u001b[0;32m----> 1\u001b[0m df[[\u001b[39m\"\u001b[39m\u001b[39mk\u001b[39m\u001b[39m\"\u001b[39m, \u001b[39m\"\u001b[39m\u001b[39maverage\u001b[39m\u001b[39m\"\u001b[39m]]\u001b[39m.\u001b[39mset_index(\u001b[39m\"\u001b[39m\u001b[39mk\u001b[39m\u001b[39m\"\u001b[39m)\u001b[39m.\u001b[39mplot()\n\u001b[1;32m      2\u001b[0m plt\u001b[39m.\u001b[39mtitle(\u001b[39m\"\u001b[39m\u001b[39mCoût topk en fonction de k\u001b[39m\u001b[39m\"\u001b[39m);\n",
      "\u001b[0;31mNameError\u001b[0m: name 'df' is not defined"
     ]
    }
   ],
   "source": [
    "df[[\"k\", \"average\"]].set_index(\"k\").plot()\n",
    "plt.title(\"Coût topk en fonction de k\");"
   ]
  },
  {
   "cell_type": "markdown",
   "metadata": {},
   "source": [
    "Pas évident, au pire en $O(n\\ln n)$, au mieux en $O(n)$."
   ]
  },
  {
   "cell_type": "markdown",
   "metadata": {},
   "source": [
    "## Version simplifiée\n",
    "\n",
    "A-t-on vraiment besoin de `_heapify_max_bottom_position` ?"
   ]
  },
  {
   "cell_type": "code",
   "execution_count": 21,
   "metadata": {},
   "outputs": [
    {
     "name": "stdout",
     "output_type": "stream",
     "text": [
      "1 [0] [1]\n",
      "2 [1, 0] [2, 1]\n",
      "3 [2, 1, 0] [3, 2, 1]\n",
      "4 [10, 2, 1, 0] [3, 3, 2, 1]\n",
      "5 [5, 10, 2, 1, 0] [4, 3, 3, 2, 1]\n",
      "6 [5, 6, 10, 2, 1, 0] [4, 5, 3, 3, 2, 1]\n",
      "7 [6, 7, 10, 5, 2, 1, 0] [5, 6, 3, 4, 3, 2, 1]\n",
      "8 [5, 4, 10, 7, 6, 2, 1, 0] [4, 10, 3, 6, 5, 3, 2, 1]\n",
      "9 [3, 4, 6, 5, 7, 10, 2, 1, 0] [7, 10, 5, 4, 6, 3, 3, 2, 1]\n"
     ]
    }
   ],
   "source": [
    "def _heapify_max_up_position_simple(ens, pos, first):\n",
    "    \"Organise un ensemble selon un tas.\"\n",
    "    i = first\n",
    "    while True:\n",
    "        left = 2 * i + 1\n",
    "        right = left + 1\n",
    "        if right < len(pos):\n",
    "            if ens[pos[left]] > ens[pos[i]] >= ens[pos[right]]:\n",
    "                swap(pos, i, left)\n",
    "                i = left\n",
    "            elif ens[pos[right]] > ens[pos[i]]:\n",
    "                swap(pos, i, right)\n",
    "                i = right\n",
    "            else:\n",
    "                break\n",
    "        elif left < len(pos) and ens[pos[left]] > ens[pos[i]]:\n",
    "            swap(pos, i, left)\n",
    "            i = left\n",
    "        else:\n",
    "            break\n",
    "\n",
    "\n",
    "def topk_min_position_simple(ens, k):\n",
    "    \"Retourne les positions des k plus petits éléments d'un ensemble.\"\n",
    "\n",
    "    pos = list(range(k))\n",
    "    pos[k - 1] = 0\n",
    "\n",
    "    for i in range(1, k):\n",
    "        pos[k - i - 1] = i\n",
    "        _heapify_max_up_position_simple(ens, pos, k - i - 1)\n",
    "\n",
    "    for i, el in enumerate(ens[k:]):\n",
    "        if el < ens[pos[0]]:\n",
    "            pos[0] = k + i\n",
    "            _heapify_max_up_position_simple(ens, pos, 0)\n",
    "    return pos\n",
    "\n",
    "\n",
    "ens = [1, 2, 3, 7, 10, 4, 5, 6, 11, 12, 3]\n",
    "for k in range(1, len(ens) - 1):\n",
    "    pos = topk_min_position_simple(ens, k)\n",
    "    print(k, pos, [ens[i] for i in pos])"
   ]
  },
  {
   "cell_type": "code",
   "execution_count": 22,
   "metadata": {},
   "outputs": [
    {
     "name": "stdout",
     "output_type": "stream",
     "text": [
      "1.67 ms ± 24.7 µs per loop (mean ± std. dev. of 7 runs, 100 loops each)\n"
     ]
    }
   ],
   "source": [
    "X = rnd.randn(10000)\n",
    "\n",
    "%timeit topk_min_position_simple(X, 20)"
   ]
  },
  {
   "cell_type": "code",
   "execution_count": null,
   "metadata": {},
   "outputs": [],
   "source": []
  },
  {
   "cell_type": "code",
   "execution_count": null,
   "metadata": {},
   "outputs": [],
   "source": []
  }
 ],
 "metadata": {
  "kernelspec": {
   "display_name": "Python 3 (ipykernel)",
   "language": "python",
   "name": "python3"
  },
  "language_info": {
   "codemirror_mode": {
    "name": "ipython",
    "version": 3
   },
   "file_extension": ".py",
   "mimetype": "text/x-python",
   "name": "python",
   "nbconvert_exporter": "python",
   "pygments_lexer": "ipython3",
   "version": "3.10.6"
  }
 },
 "nbformat": 4,
 "nbformat_minor": 2
}
