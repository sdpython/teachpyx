{
 "cells": [
  {
   "cell_type": "markdown",
   "metadata": {},
   "source": [
    "# Simuler une loi multinomiale\n",
    "\n",
    "On part d'une loi uniforme et on simule une loi multinomiale."
   ]
  },
  {
   "cell_type": "code",
   "execution_count": 12,
   "metadata": {},
   "outputs": [],
   "source": [
    "%matplotlib inline"
   ]
  },
  {
   "cell_type": "markdown",
   "metadata": {},
   "source": [
    "Une variable qui suit une [loi multinomiale](http://fr.wikipedia.org/wiki/Loi_multinomiale) est une variable à valeurs entières qui prend ses valeurs dans un ensemble fini, et chacune de ces valeurs a une probabilité différente."
   ]
  },
  {
   "cell_type": "code",
   "execution_count": 13,
   "metadata": {},
   "outputs": [
    {
     "data": {
      "image/png": "[encoded data removed]",
      "text/plain": [
       "<Figure size 800x400 with 1 Axes>"
      ]
     },
     "metadata": {},
     "output_type": "display_data"
    }
   ],
   "source": [
    "import matplotlib.pyplot as plt\n",
    "\n",
    "poids = [0.2, 0.15, 0.15, 0.1, 0.4]\n",
    "valeur = [0, 1, 2, 3, 4]\n",
    "plt.figure(figsize=(8, 4))\n",
    "plt.bar(valeur, poids);"
   ]
  },
  {
   "cell_type": "markdown",
   "metadata": {},
   "source": [
    "Lorsqu'on simule une telle loi, chaque valeur a une probabilité de sortir proportionnelle à chaque poids. La fonction [numpy.random.multinomial](https://numpy.org/doc/stable/reference/random/generated/numpy.random.multinomial.html) permet de calculer cela."
   ]
  },
  {
   "cell_type": "code",
   "execution_count": 14,
   "metadata": {},
   "outputs": [
    {
     "data": {
      "text/plain": [
       "array([0.199, 0.162, 0.129, 0.105, 0.405])"
      ]
     },
     "execution_count": 14,
     "metadata": {},
     "output_type": "execute_result"
    }
   ],
   "source": [
    "import numpy.random as rnd\n",
    "\n",
    "draw = rnd.multinomial(1000, poids)\n",
    "draw / sum(draw)"
   ]
  },
  {
   "cell_type": "markdown",
   "metadata": {},
   "source": [
    "Pour avoir 1000 tirages plutôt que l'aggrégation des 1000 tirages :"
   ]
  },
  {
   "cell_type": "code",
   "execution_count": 15,
   "metadata": {},
   "outputs": [
    {
     "data": {
      "text/plain": [
       "array([[0, 0, 0, 0, 1],\n",
       "       [0, 0, 0, 0, 1],\n",
       "       [0, 0, 0, 0, 1],\n",
       "       ...,\n",
       "       [0, 0, 0, 0, 1],\n",
       "       [0, 0, 1, 0, 0],\n",
       "       [0, 0, 0, 0, 1]])"
      ]
     },
     "execution_count": 15,
     "metadata": {},
     "output_type": "execute_result"
    }
   ],
   "source": [
    "draw = rnd.multinomial(1, poids, 1000)\n",
    "draw"
   ]
  },
  {
   "cell_type": "markdown",
   "metadata": {},
   "source": [
    "### Algorithme de simulation\n",
    "\n",
    "Tout d'abord, on calcule la distribution cumulée (ou [fonction de répartition](http://fr.wikipedia.org/wiki/Fonction_de_r%C3%A9partition)). Le calcule proposé utilise la fonction [numpy.cumsum](http://docs.scipy.org/doc/numpy/reference/generated/numpy.cumsum.html)."
   ]
  },
  {
   "cell_type": "code",
   "execution_count": 16,
   "metadata": {},
   "outputs": [
    {
     "name": "stdout",
     "output_type": "stream",
     "text": [
      "[0.2  0.35 0.5  0.6  1.  ]\n"
     ]
    },
    {
     "data": {
      "image/png": "[encoded data removed]",
      "text/plain": [
       "<Figure size 640x480 with 1 Axes>"
      ]
     },
     "metadata": {},
     "output_type": "display_data"
    }
   ],
   "source": [
    "import numpy\n",
    "\n",
    "cum = numpy.cumsum(\n",
    "    poids\n",
    ")  # voir http://docs.scipy.org/doc/numpy/reference/generated/numpy.cumsum.html\n",
    "print(cum)\n",
    "plt.bar(valeur, cum);"
   ]
  },
  {
   "cell_type": "markdown",
   "metadata": {},
   "source": [
    "Cette fonction de répartition $(x,F(x))$ est croissante. On définit les cinq intervalles : $A_i=]F(i),F(i+1)]$. Pour simuler une loi multinomiale, il suffit de tirer un nombre aléatoire dans $[0,1]$ puis de trouver l'intervalle $A_i$ auquel il appartient. $i$ est le résultat cherché. Le calcul de la distribution cumulée utilise une autre alternative : [functools.reduce](https://docs.python.org/3.4/library/functools.html#functools.reduce)."
   ]
  },
  {
   "cell_type": "code",
   "execution_count": 17,
   "metadata": {},
   "outputs": [
    {
     "data": {
      "text/plain": [
       "[4, 1, 4, 4, 0, 0, 4, 2, 2, 4]"
      ]
     },
     "execution_count": 17,
     "metadata": {},
     "output_type": "execute_result"
    }
   ],
   "source": [
    "import functools, random\n",
    "\n",
    "\n",
    "def simulation_multinomiale(poids):\n",
    "    # calcule la fonction de répartition\n",
    "    # voir https://docs.python.org/3.4/library/functools.html#functools.reduce\n",
    "    def agg(x, y):\n",
    "        x.append(y)\n",
    "        return x\n",
    "\n",
    "    cum = functools.reduce(agg, poids, [])\n",
    "\n",
    "    x = random.random()\n",
    "    s = 0\n",
    "    i = 0\n",
    "    while s <= x and i < len(cum):\n",
    "        s += cum[i]\n",
    "        i += 1\n",
    "    return i - 1\n",
    "\n",
    "\n",
    "alea = [simulation_multinomiale(poids) for i in range(0, 1000)]\n",
    "alea[:10]"
   ]
  },
  {
   "cell_type": "markdown",
   "metadata": {},
   "source": [
    "On vérifie que les probabilités d'apparition de chaque nombre sont celles attendues."
   ]
  },
  {
   "cell_type": "code",
   "execution_count": 18,
   "metadata": {},
   "outputs": [
    {
     "data": {
      "text/plain": [
       "Counter({4: 430, 0: 177, 2: 156, 1: 139, 3: 98})"
      ]
     },
     "execution_count": 18,
     "metadata": {},
     "output_type": "execute_result"
    }
   ],
   "source": [
    "import collections\n",
    "\n",
    "c = collections.Counter(alea)\n",
    "c"
   ]
  },
  {
   "cell_type": "markdown",
   "metadata": {},
   "source": [
    "### Une première optimisation : tri des poids\n",
    "\n",
    "L'algorithme fait intervenir le calcul de la distribution cumulée. Lorsqu'on tire un grand nombre de variable aléatoire, il est intéressant de ne faire ce calcul qu'une seule fois puisqu'il ne change jamais. De même, il est plus intéressant de mettre les valeurs de plus grand poids en premier. La boucle de la fonction ``simulation_multinomiale`` s'arrêtera plus tôt."
   ]
  },
  {
   "cell_type": "code",
   "execution_count": 19,
   "metadata": {},
   "outputs": [
    {
     "name": "stdout",
     "output_type": "stream",
     "text": [
      "[0.2, 0.15, 0.15, 0.1, 0.4] [0.4, 0.2, 0.15, 0.15, 0.1]\n",
      "passage 0\n",
      "  non trié 0.009419400001206668\n",
      "  trié 0.007181299999501789\n",
      "passage 1\n",
      "  non trié 0.010566299999481998\n",
      "  trié 0.0066910000023199245\n",
      "passage 2\n",
      "  non trié 0.007558699999208329\n",
      "  trié 0.006804499997087987\n"
     ]
    }
   ],
   "source": [
    "def simulation_multinomiale(pc):\n",
    "    x = random.random()\n",
    "    s = 0\n",
    "    i = 0\n",
    "    while s <= x and i < len(pc):\n",
    "        s += pc[i]\n",
    "        i += 1\n",
    "    return i - 1\n",
    "\n",
    "\n",
    "def agg(x, y):\n",
    "    x.append(y)\n",
    "    return x\n",
    "\n",
    "\n",
    "poids_cumule = functools.reduce(agg, poids, [])\n",
    "poids_cumule_trie = functools.reduce(agg, sorted(poids, reverse=True), [])\n",
    "print(poids_cumule, poids_cumule_trie)\n",
    "\n",
    "import time\n",
    "\n",
    "for p in range(0, 3):\n",
    "    print(\"passage\", p)\n",
    "    a = time.perf_counter()\n",
    "    alea = [simulation_multinomiale(poids_cumule) for i in range(0, 10000)]\n",
    "    b = time.perf_counter()\n",
    "    print(\"  non trié\", b - a)\n",
    "    a = time.perf_counter()\n",
    "    alea = [simulation_multinomiale(poids_cumule_trie) for i in range(0, 10000)]\n",
    "    b = time.perf_counter()\n",
    "    print(\"  trié\", b - a)"
   ]
  },
  {
   "cell_type": "markdown",
   "metadata": {},
   "source": [
    "La seconde version est plus rapide.Son intérêt dépend du nombre d'observations aléatoire à tirer. En effet, si $K$ est le nombre de valeurs distinctes, les coûts fixes des deux méthodes sont les suivants :\n",
    "\n",
    "- non trié : $O(K)$ (distribution cumulative)\n",
    "- trié : $O(K + K\\ln K)$ ((distribution cumulative + tri)\n",
    "\n",
    "Qu'en est-il pour la fonction [numpy.random.multinomial](https://numpy.org/doc/stable/reference/random/generated/numpy.random.multinomial.html) ?"
   ]
  },
  {
   "cell_type": "code",
   "execution_count": 20,
   "metadata": {},
   "outputs": [
    {
     "name": "stdout",
     "output_type": "stream",
     "text": [
      "passage 0\n",
      "  non trié 0.00013789999866276048\n",
      "  trié 0.00010370000018156134\n",
      "passage 1\n",
      "  non trié 0.0004912999975204002\n",
      "  trié 0.00014940000255592167\n",
      "passage 2\n",
      "  non trié 6.950000170036219e-05\n",
      "  trié 0.0002525000018067658\n"
     ]
    }
   ],
   "source": [
    "poids_trie = list(sorted(poids, reverse=True))\n",
    "\n",
    "for p in range(0, 3):\n",
    "    print(\"passage\", p)\n",
    "    a = time.perf_counter()\n",
    "    rnd.multinomial(10000, poids)\n",
    "    b = time.perf_counter()\n",
    "    print(\"  non trié\", b - a)\n",
    "    a = time.perf_counter()\n",
    "    rnd.multinomial(10000, poids_trie)\n",
    "    b = time.perf_counter()\n",
    "    print(\"  trié\", b - a)"
   ]
  },
  {
   "cell_type": "markdown",
   "metadata": {},
   "source": [
    "C'est plus rapide aussi. On voit aussi que cette façon de faire est beaucoup plus rapide que la version implémentée en Python pur. Cela vient du faire que le module [numpy](http://www.numpy.org/) est optimisé pour le calcul numérique et surtout implémenté en langages [C++](http://fr.wikipedia.org/wiki/C%2B%2B) et [Fortran](http://fr.wikipedia.org/wiki/Fortran)."
   ]
  },
  {
   "cell_type": "markdown",
   "metadata": {},
   "source": [
    "### Optimisation bootstrap\n",
    "\n",
    "C'est une technique inspiré du [bootstrap](http://fr.wikipedia.org/wiki/Bootstrap_%28statistiques%29) qui est un peu moins précise que la version précédente mais qui peut suffire dans bien des cas. Elle est intéressante si on tire un grand nomrbre d'observations aléatoire de la même loi et si $K$ est grand ($K$ = nombre de valeurs distinctes). L'idée consiste à générer un premier grand vecteur de nombres aléatoires puis à tirer des nombres aléatoire dans ce vecteur."
   ]
  },
  {
   "cell_type": "code",
   "execution_count": 21,
   "metadata": {},
   "outputs": [
    {
     "name": "stdout",
     "output_type": "stream",
     "text": [
      "passage 0\n",
      "  simulation_multinomiale 0.06869539999752305\n",
      "  bootstrap 0.00884070000029169\n",
      "passage 1\n",
      "  simulation_multinomiale 0.08114130000103614\n",
      "  bootstrap 0.0094169999974838\n",
      "passage 2\n",
      "  simulation_multinomiale 0.06719900000098278\n",
      "  bootstrap 0.01211440000042785\n"
     ]
    }
   ],
   "source": [
    "K = 100\n",
    "poids = [1 / K for i in range(0, K)]\n",
    "poids_cumule = functools.reduce(agg, poids, [])\n",
    "vecteur = [simulation_multinomiale(poids_cumule) for i in range(0, 100000)]\n",
    "N = len(vecteur) - 1\n",
    "\n",
    "for p in range(0, 3):\n",
    "    print(\"passage\", p)\n",
    "    a = time.perf_counter()\n",
    "    alea = [simulation_multinomiale(poids_cumule) for i in range(0, 10000)]\n",
    "    b = time.perf_counter()\n",
    "    print(\"  simulation_multinomiale\", b - a)\n",
    "    a = time.perf_counter()\n",
    "    alea = [vecteur[random.randint(0, N)] for i in range(0, 10000)]\n",
    "    b = time.perf_counter()\n",
    "    print(\"  bootstrap\", b - a)"
   ]
  },
  {
   "cell_type": "markdown",
   "metadata": {},
   "source": [
    "Cette façon de faire implique le stockage d'un grand nombre de variables aléatoires dans ``vecteur``. Ce procédé est plus rapide car tirer un nombre aléatoire entier est plus rapide que de simuler une variable de loi multinomial."
   ]
  },
  {
   "cell_type": "code",
   "execution_count": null,
   "metadata": {
    "collapsed": true
   },
   "outputs": [],
   "source": []
  }
 ],
 "metadata": {
  "kernelspec": {
   "display_name": "Python 3 (ipykernel)",
   "language": "python",
   "name": "python3"
  }
 },
 "nbformat": 4,
 "nbformat_minor": 1
}
