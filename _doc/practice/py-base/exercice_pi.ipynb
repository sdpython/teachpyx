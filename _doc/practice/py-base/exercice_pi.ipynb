{
 "cells": [
  {
   "cell_type": "markdown",
   "metadata": {},
   "source": [
    "# Calculs de surface et autres calculs\n",
    "\n",
    "C'est l'histoire d'une boucle, puis d'une autre, puis enfin d'un couple de boucles, voire d'un triplé."
   ]
  },
  {
   "cell_type": "markdown",
   "metadata": {},
   "source": [
    "## Enoncé"
   ]
  },
  {
   "cell_type": "markdown",
   "metadata": {},
   "source": [
    "### Exercice 1 : calcul de la surface d'un cercle\n",
    "\n",
    "On cherche à écrire une fonction qui calcule la surface d'un cercle de rayon *r*."
   ]
  },
  {
   "cell_type": "code",
   "execution_count": 1,
   "metadata": {},
   "outputs": [],
   "source": [
    "def surface_cerle(r):\n",
    "    # ...\n",
    "    return 0.0"
   ]
  },
  {
   "cell_type": "markdown",
   "metadata": {},
   "source": [
    "#### 1.1 En utilisant la constante pi"
   ]
  },
  {
   "cell_type": "code",
   "execution_count": null,
   "metadata": {},
   "outputs": [],
   "source": []
  },
  {
   "cell_type": "markdown",
   "metadata": {},
   "source": [
    "#### 1.2 Sans utiliser pi ni aucune autre fonction\n",
    "\n",
    "Donc juste des additions, des multiplications, des divisions. On a le droit aux boucles aussi."
   ]
  },
  {
   "cell_type": "code",
   "execution_count": null,
   "metadata": {},
   "outputs": [],
   "source": []
  },
  {
   "cell_type": "markdown",
   "metadata": {},
   "source": [
    "### Exercice 2 : tri aléatoire\n",
    "\n",
    "On implémente le tri suivant (est-ce vraiment un tri d'ailleurs ?) :\n",
    "\n",
    "* Dans un tableau *T*, on tire deux élements aléatoires *i < j*, si *T[i] > T[j]*, on les permute.\n",
    "* On s'arrête après *n* tirages sans permutations."
   ]
  },
  {
   "cell_type": "markdown",
   "metadata": {},
   "source": [
    "### Exercice 3 : petits calculs parfaits pour une machine\n",
    "\n",
    "On suppose que le tableau précédent est de taille *n=10*, l'algorithme précédent s'arrête après *n* tirages sans permutations. Comment choisir *n* de telle sorte que le tableau finisse trié dans 90% des cas..."
   ]
  },
  {
   "cell_type": "markdown",
   "metadata": {},
   "source": [
    "## Réponses"
   ]
  },
  {
   "cell_type": "markdown",
   "metadata": {},
   "source": [
    "### 1.1. calcul de la surface d'un cercle avec pi"
   ]
  },
  {
   "cell_type": "code",
   "execution_count": 2,
   "metadata": {},
   "outputs": [
    {
     "data": {
      "text/plain": [
       "78.53981633974483"
      ]
     },
     "execution_count": 2,
     "metadata": {},
     "output_type": "execute_result"
    }
   ],
   "source": [
    "from math import pi\n",
    "\n",
    "\n",
    "def surface_cercle(r):\n",
    "    return r**2 * pi\n",
    "\n",
    "\n",
    "surface_cercle(5)"
   ]
  },
  {
   "cell_type": "markdown",
   "metadata": {},
   "source": [
    "### 1.2. calcul de la surface d'un cercle sans pi ou autre fonction\n",
    "\n",
    "Une approche possible est probabiliste : on construit un estimateur de $\\pi$ en tirant aléatoirement des points dans un carré de côté 1. Si le point $P_i$ tombe dans le quart de cercle inscrit dans le carré, on compte 1, sinon on compte 0. Donc:\n",
    "\n",
    "$$\\frac{1}{n} \\sum_{i=1}^n \\mathbb{1}_{\\Vert P_i \\Vert^2 \\leqslant 1} \\rightarrow \\frac{\\pi}{4}$$\n",
    "\n",
    "Ce ratio converge vers la probabilité pour le point $P_i$ de tomber dans le quart de cercle, qui est égale au ratio des deux aires : $\\frac{\\pi r^2}{r^2}$ avec $ r=1$."
   ]
  },
  {
   "cell_type": "code",
   "execution_count": 3,
   "metadata": {},
   "outputs": [
    {
     "data": {
      "text/plain": [
       "3.216"
      ]
     },
     "execution_count": 3,
     "metadata": {},
     "output_type": "execute_result"
    }
   ],
   "source": [
    "import numpy\n",
    "\n",
    "\n",
    "def estimation_pi(n=10000):\n",
    "    rnd = numpy.random.rand(1000, 2)\n",
    "    norme = rnd[:, 0] ** 2 + rnd[:, 1] ** 2\n",
    "    dedans = norme <= 1\n",
    "    dedans_entier = dedans.astype(numpy.int64)\n",
    "    return dedans_entier.sum() / dedans.shape[0] * 4\n",
    "\n",
    "\n",
    "pi = estimation_pi()\n",
    "pi"
   ]
  },
  {
   "cell_type": "code",
   "execution_count": 4,
   "metadata": {},
   "outputs": [
    {
     "data": {
      "text/plain": [
       "80.4"
      ]
     },
     "execution_count": 4,
     "metadata": {},
     "output_type": "execute_result"
    }
   ],
   "source": [
    "def surface_cercle_pi(r, pi):\n",
    "    return r**2 * pi\n",
    "\n",
    "\n",
    "surface_cercle_pi(5, pi)"
   ]
  },
  {
   "cell_type": "markdown",
   "metadata": {},
   "source": [
    "### 2. tri aléatoire\n",
    "\n"
   ]
  },
  {
   "cell_type": "code",
   "execution_count": 5,
   "metadata": {},
   "outputs": [
    {
     "data": {
      "text/plain": [
       "[0, 1, 2, 3, 3, 4, 5, 7, 8, 9, 10, 11]"
      ]
     },
     "execution_count": 5,
     "metadata": {},
     "output_type": "execute_result"
    }
   ],
   "source": [
    "def tri_alea(T, n=1000):\n",
    "    T = T.copy()\n",
    "    for i in range(0, n):\n",
    "        i, j = numpy.random.randint(0, len(T), 2)\n",
    "        if i < j and T[i] > T[j]:\n",
    "            T[i], T[j] = T[j], T[i]\n",
    "    return T\n",
    "\n",
    "\n",
    "tableau = [1, 3, 4, 5, 3, 2, 7, 11, 10, 9, 8, 0]\n",
    "tri_alea(tableau)"
   ]
  },
  {
   "cell_type": "markdown",
   "metadata": {},
   "source": [
    "Et si *i > j*, on ne fait rien et c'est bien dommage."
   ]
  },
  {
   "cell_type": "code",
   "execution_count": 6,
   "metadata": {},
   "outputs": [
    {
     "data": {
      "text/plain": [
       "[0, 1, 2, 3, 3, 4, 5, 7, 8, 9, 10, 11]"
      ]
     },
     "execution_count": 6,
     "metadata": {},
     "output_type": "execute_result"
    }
   ],
   "source": [
    "def tri_alea2(T, n=1000):\n",
    "    T = T.copy()\n",
    "    for i in range(0, n):\n",
    "        i = numpy.random.randint(0, len(T) - 1)\n",
    "        j = numpy.random.randint(i + 1, len(T))\n",
    "        if T[i] > T[j]:\n",
    "            T[i], T[j] = T[j], T[i]\n",
    "    return T\n",
    "\n",
    "\n",
    "tableau = [1, 3, 4, 5, 3, 2, 7, 11, 10, 9, 8, 0]\n",
    "tri_alea2(tableau)"
   ]
  },
  {
   "cell_type": "markdown",
   "metadata": {},
   "source": [
    "Le résultat n'est pas forcément meilleur mais il est plus rapide à obtenir puisqu'on fait un test en moins."
   ]
  },
  {
   "cell_type": "markdown",
   "metadata": {},
   "source": [
    "Et si on s'arrête quand cinq permutations aléatoires de suite ne mènen à aucune permutations dans le tableau."
   ]
  },
  {
   "cell_type": "code",
   "execution_count": 7,
   "metadata": {},
   "outputs": [
    {
     "data": {
      "text/plain": [
       "[0, 1, 2, 3, 3, 4, 5, 7, 8, 9, 10, 11]"
      ]
     },
     "execution_count": 7,
     "metadata": {},
     "output_type": "execute_result"
    }
   ],
   "source": [
    "def tri_alea3(T, c=100):\n",
    "    T = T.copy()\n",
    "    compteur = 0\n",
    "    while compteur < c:\n",
    "        i = numpy.random.randint(0, len(T) - 1)\n",
    "        j = numpy.random.randint(i + 1, len(T))\n",
    "        if T[i] > T[j]:\n",
    "            T[i], T[j] = T[j], T[i]\n",
    "            compteur = 0\n",
    "        else:\n",
    "            compteur += 1\n",
    "    return T\n",
    "\n",
    "\n",
    "tableau = [1, 3, 4, 5, 3, 2, 7, 11, 10, 9, 8, 0]\n",
    "tri_alea3(tableau)"
   ]
  },
  {
   "cell_type": "markdown",
   "metadata": {},
   "source": [
    "### 3. petits calculs parfaits pour une machine"
   ]
  },
  {
   "cell_type": "code",
   "execution_count": 8,
   "metadata": {},
   "outputs": [],
   "source": [
    "def est_trie(T):\n",
    "    for i in range(1, len(T)):\n",
    "        if T[i] < T[i - 1]:\n",
    "            return False\n",
    "    return True"
   ]
  },
  {
   "cell_type": "code",
   "execution_count": 9,
   "metadata": {},
   "outputs": [
    {
     "data": {
      "text/plain": [
       "0.76"
      ]
     },
     "execution_count": 9,
     "metadata": {},
     "output_type": "execute_result"
    }
   ],
   "source": [
    "def eval_c(n, c, N=100):\n",
    "    compteur = 0\n",
    "    for i in range(N):\n",
    "        T = numpy.random.randint(0, 20, n)\n",
    "        T2 = tri_alea3(T, c=c)\n",
    "        if est_trie(T2):\n",
    "            compteur += 1\n",
    "    return compteur * 1.0 / N\n",
    "\n",
    "\n",
    "eval_c(10, 100)"
   ]
  },
  {
   "cell_type": "code",
   "execution_count": 10,
   "metadata": {},
   "outputs": [
    {
     "name": "stderr",
     "output_type": "stream",
     "text": [
      " 50%|█████     | 5/10 [00:01<00:01,  3.71it/s]"
     ]
    },
    {
     "name": "stderr",
     "output_type": "stream",
     "text": [
      "100%|██████████| 10/10 [00:03<00:00,  3.14it/s]\n"
     ]
    },
    {
     "data": {
      "text/plain": [
       "[0.88, 0.96, 0.97, 0.95, 0.98]"
      ]
     },
     "execution_count": 10,
     "metadata": {},
     "output_type": "execute_result"
    }
   ],
   "source": [
    "from tqdm import tqdm  # pour afficher une barre de défilement\n",
    "\n",
    "cs = []\n",
    "ecs = []\n",
    "for c in tqdm(range(1, 251, 25)):\n",
    "    cs.append(c)\n",
    "    ecs.append(eval_c(10, c=c))\n",
    "\n",
    "ecs[-5:]"
   ]
  },
  {
   "cell_type": "code",
   "execution_count": 11,
   "metadata": {},
   "outputs": [],
   "source": [
    "%matplotlib inline"
   ]
  },
  {
   "cell_type": "code",
   "execution_count": 12,
   "metadata": {},
   "outputs": [
    {
     "data": {
      "image/png": "[encoded data removed]",
      "text/plain": [
       "<Figure size 640x480 with 1 Axes>"
      ]
     },
     "metadata": {},
     "output_type": "display_data"
    }
   ],
   "source": [
    "import matplotlib.pyplot as plt\n",
    "\n",
    "plt.plot(cs, ecs)\n",
    "plt.plot([0, max(cs)], [0.9, 0.9], \"--\");"
   ]
  },
  {
   "cell_type": "markdown",
   "metadata": {},
   "source": [
    "La réponse se situe aux alentours de 150, on ne peut pas dire précisément car tout est aléatoire, on peut seulement estimer la distribution de ce résultat qui est aussi une variable aléatoire. Cette réponse dépend de la taille du tableau à tirer."
   ]
  },
  {
   "cell_type": "code",
   "execution_count": null,
   "metadata": {},
   "outputs": [],
   "source": []
  }
 ],
 "metadata": {
  "kernelspec": {
   "display_name": "Python 3",
   "language": "python",
   "name": "python3"
  },
  "language_info": {
   "codemirror_mode": {
    "name": "ipython",
    "version": 3
   },
   "file_extension": ".py",
   "mimetype": "text/x-python",
   "name": "python",
   "nbconvert_exporter": "python",
   "pygments_lexer": "ipython3",
   "version": "3.10.12"
  }
 },
 "nbformat": 4,
 "nbformat_minor": 1
}