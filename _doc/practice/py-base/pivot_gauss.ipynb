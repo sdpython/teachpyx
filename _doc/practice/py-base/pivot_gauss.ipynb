{
 "cells": [
  {
   "cell_type": "markdown",
   "id": "78c438d1",
   "metadata": {},
   "source": [
    "# Pivot de gauss avec numpy\n",
    "\n",
    "Etape par étape, le pivote de Gauss implémenté en python puis avec numpy."
   ]
  },
  {
   "cell_type": "code",
   "execution_count": 1,
   "id": "ece7f5fe",
   "metadata": {},
   "outputs": [],
   "source": [
    "%matplotlib inline"
   ]
  },
  {
   "cell_type": "markdown",
   "id": "c86f204b",
   "metadata": {},
   "source": [
    "## Python"
   ]
  },
  {
   "cell_type": "code",
   "execution_count": 2,
   "id": "b7b12b6d",
   "metadata": {},
   "outputs": [],
   "source": [
    "import numpy"
   ]
  },
  {
   "cell_type": "code",
   "execution_count": 3,
   "id": "7abd4ba2",
   "metadata": {},
   "outputs": [
    {
     "data": {
      "text/plain": [
       "array([[ 0.21287505,  0.52366039,  0.80354581,  0.41810413],\n",
       "       [ 0.        , -1.67221432, -2.60484376, -0.90041526],\n",
       "       [ 0.        ,  0.        , -0.44418202,  0.21029843],\n",
       "       [ 0.        ,  0.        ,  0.        , -0.30863963]])"
      ]
     },
     "execution_count": 3,
     "metadata": {},
     "output_type": "execute_result"
    }
   ],
   "source": [
    "def pivot_gauss(m):\n",
    "    n = m.copy()\n",
    "    for i in range(1, m.shape[0]):\n",
    "        j0 = i\n",
    "        while j0 < m.shape[0] and m[j0, i - 1] == 0:\n",
    "            j0 += 1\n",
    "        for j in range(j0, m.shape[0]):\n",
    "            coef = -m[j, i - 1] / m[i - 1, i - 1]\n",
    "            for k in range(i - 1, m.shape[1]):\n",
    "                m[j, k] += coef * m[i - 1, k]\n",
    "    return m\n",
    "\n",
    "\n",
    "m = numpy.random.rand(4, 4)\n",
    "piv = pivot_gauss(m)\n",
    "piv * (numpy.abs(piv) > 1e-10)"
   ]
  },
  {
   "cell_type": "markdown",
   "id": "f083a3bd",
   "metadata": {},
   "source": [
    "`* (numpy.abs(piv) > 1e-10)` sert à simplifier l'affichage des valeurs quasi nulles."
   ]
  },
  {
   "cell_type": "markdown",
   "id": "16886afd",
   "metadata": {},
   "source": [
    "## Numpy 1"
   ]
  },
  {
   "cell_type": "code",
   "execution_count": 4,
   "id": "3e176e60",
   "metadata": {},
   "outputs": [
    {
     "data": {
      "text/plain": [
       "array([[ 0.21287505,  0.52366039,  0.80354581,  0.41810413],\n",
       "       [ 0.        , -1.67221432, -2.60484376, -0.90041526],\n",
       "       [ 0.        ,  0.        , -0.44418202,  0.21029843],\n",
       "       [ 0.        ,  0.        ,  0.        , -0.30863963]])"
      ]
     },
     "execution_count": 4,
     "metadata": {},
     "output_type": "execute_result"
    }
   ],
   "source": [
    "def pivot_gauss2(m):\n",
    "    n = m.copy()\n",
    "    for i in range(1, m.shape[0]):\n",
    "        j0 = i\n",
    "        while j0 < m.shape[0] and m[j0, i - 1] == 0:\n",
    "            j0 += 1\n",
    "        for j in range(j0, m.shape[0]):\n",
    "            coef = -m[j, i - 1] / m[i - 1, i - 1]\n",
    "            m[j, i - 1 :] += m[i - 1, i - 1 :] * coef\n",
    "    return m\n",
    "\n",
    "\n",
    "piv = pivot_gauss2(m)\n",
    "piv * (numpy.abs(piv) > 1e-10)"
   ]
  },
  {
   "cell_type": "markdown",
   "id": "e772ae93",
   "metadata": {},
   "source": [
    "## Numpy 2"
   ]
  },
  {
   "cell_type": "code",
   "execution_count": 5,
   "id": "25a080f5",
   "metadata": {},
   "outputs": [
    {
     "data": {
      "text/plain": [
       "array([[ 0.21287505,  0.52366039,  0.80354581,  0.41810413],\n",
       "       [ 0.        , -1.67221432, -2.60484376, -0.90041526],\n",
       "       [ 0.        ,  0.        , -0.44418202,  0.21029843],\n",
       "       [ 0.        ,  0.        ,  0.        , -0.30863963]])"
      ]
     },
     "execution_count": 5,
     "metadata": {},
     "output_type": "execute_result"
    }
   ],
   "source": [
    "def pivot_gauss3(m):\n",
    "    n = m.copy()\n",
    "    for i in range(1, m.shape[0]):\n",
    "        j0 = i\n",
    "        while j0 < m.shape[0] and m[j0, i - 1] == 0:\n",
    "            j0 += 1\n",
    "        coef = -m[j0:, i - 1] / m[i - 1, i - 1]\n",
    "        m[j0:, i - 1 :] += coef.reshape((-1, 1)) * m[i - 1, i - 1 :].reshape((1, -1))\n",
    "    return m\n",
    "\n",
    "\n",
    "piv = pivot_gauss3(m)\n",
    "piv * (numpy.abs(piv) > 1e-10)"
   ]
  },
  {
   "cell_type": "markdown",
   "id": "1397d47d",
   "metadata": {},
   "source": [
    "## Vitesse"
   ]
  },
  {
   "cell_type": "code",
   "execution_count": 6,
   "id": "9b8d6d6b",
   "metadata": {},
   "outputs": [
    {
     "ename": "ModuleNotFoundError",
     "evalue": "No module named 'cpyquickhelper'",
     "output_type": "error",
     "traceback": [
      "\u001b[0;31m---------------------------------------------------------------------------\u001b[0m",
      "\u001b[0;31mModuleNotFoundError\u001b[0m                       Traceback (most recent call last)",
      "Cell \u001b[0;32mIn[6], line 1\u001b[0m\n\u001b[0;32m----> 1\u001b[0m \u001b[39mfrom\u001b[39;00m \u001b[39mcpyquickhelper\u001b[39;00m\u001b[39m.\u001b[39;00m\u001b[39mnumbers\u001b[39;00m \u001b[39mimport\u001b[39;00m measure_time\n\u001b[1;32m      2\u001b[0m \u001b[39mfrom\u001b[39;00m \u001b[39mtqdm\u001b[39;00m \u001b[39mimport\u001b[39;00m tqdm\n\u001b[1;32m      3\u001b[0m \u001b[39mimport\u001b[39;00m \u001b[39mpandas\u001b[39;00m\n",
      "\u001b[0;31mModuleNotFoundError\u001b[0m: No module named 'cpyquickhelper'"
     ]
    }
   ],
   "source": [
    "from cpyquickhelper.numbers import measure_time\n",
    "from tqdm import tqdm\n",
    "import pandas\n",
    "\n",
    "data = []\n",
    "for n in tqdm([10, 20, 30, 40, 50, 60, 70, 80, 100]):\n",
    "    m = numpy.random.rand(n, n)\n",
    "    if n < 50:\n",
    "        res = measure_time(lambda: pivot_gauss(m), number=10, repeat=10)\n",
    "        res.update(dict(name=\"python\", n=n))\n",
    "        data.append(res)\n",
    "    res = measure_time(lambda: pivot_gauss2(m), number=10, repeat=10)\n",
    "    res.update(dict(name=\"numpy1\", n=n))\n",
    "    data.append(res)\n",
    "    res = measure_time(lambda: pivot_gauss3(m), number=10, repeat=10)\n",
    "    res.update(dict(name=\"numpy2\", n=n))\n",
    "    data.append(res)\n",
    "\n",
    "df = pandas.DataFrame(data)\n",
    "df"
   ]
  },
  {
   "cell_type": "code",
   "execution_count": null,
   "id": "0349b4fa",
   "metadata": {},
   "outputs": [
    {
     "data": {
      "text/html": [
       "<div>\n",
       "<style scoped>\n",
       "    .dataframe tbody tr th:only-of-type {\n",
       "        vertical-align: middle;\n",
       "    }\n",
       "\n",
       "    .dataframe tbody tr th {\n",
       "        vertical-align: top;\n",
       "    }\n",
       "\n",
       "    .dataframe thead th {\n",
       "        text-align: right;\n",
       "    }\n",
       "</style>\n",
       "<table border=\"1\" class=\"dataframe\">\n",
       "  <thead>\n",
       "    <tr style=\"text-align: right;\">\n",
       "      <th>name</th>\n",
       "      <th>numpy1</th>\n",
       "      <th>numpy2</th>\n",
       "      <th>python</th>\n",
       "    </tr>\n",
       "    <tr>\n",
       "      <th>n</th>\n",
       "      <th></th>\n",
       "      <th></th>\n",
       "      <th></th>\n",
       "    </tr>\n",
       "  </thead>\n",
       "  <tbody>\n",
       "    <tr>\n",
       "      <th>10</th>\n",
       "      <td>0.000454</td>\n",
       "      <td>0.001363</td>\n",
       "      <td>0.000674</td>\n",
       "    </tr>\n",
       "    <tr>\n",
       "      <th>20</th>\n",
       "      <td>0.000841</td>\n",
       "      <td>0.001814</td>\n",
       "      <td>0.001038</td>\n",
       "    </tr>\n",
       "    <tr>\n",
       "      <th>30</th>\n",
       "      <td>0.003207</td>\n",
       "      <td>0.002815</td>\n",
       "      <td>0.013065</td>\n",
       "    </tr>\n",
       "    <tr>\n",
       "      <th>40</th>\n",
       "      <td>0.012710</td>\n",
       "      <td>0.005585</td>\n",
       "      <td>0.053362</td>\n",
       "    </tr>\n",
       "    <tr>\n",
       "      <th>50</th>\n",
       "      <td>0.024682</td>\n",
       "      <td>0.007721</td>\n",
       "      <td>NaN</td>\n",
       "    </tr>\n",
       "    <tr>\n",
       "      <th>60</th>\n",
       "      <td>0.038531</td>\n",
       "      <td>0.009483</td>\n",
       "      <td>NaN</td>\n",
       "    </tr>\n",
       "    <tr>\n",
       "      <th>70</th>\n",
       "      <td>0.042429</td>\n",
       "      <td>0.011983</td>\n",
       "      <td>NaN</td>\n",
       "    </tr>\n",
       "    <tr>\n",
       "      <th>80</th>\n",
       "      <td>0.084926</td>\n",
       "      <td>0.015445</td>\n",
       "      <td>NaN</td>\n",
       "    </tr>\n",
       "    <tr>\n",
       "      <th>100</th>\n",
       "      <td>0.137455</td>\n",
       "      <td>0.025048</td>\n",
       "      <td>NaN</td>\n",
       "    </tr>\n",
       "  </tbody>\n",
       "</table>\n",
       "</div>"
      ],
      "text/plain": [
       "name    numpy1    numpy2    python\n",
       "n                                 \n",
       "10    0.000454  0.001363  0.000674\n",
       "20    0.000841  0.001814  0.001038\n",
       "30    0.003207  0.002815  0.013065\n",
       "40    0.012710  0.005585  0.053362\n",
       "50    0.024682  0.007721       NaN\n",
       "60    0.038531  0.009483       NaN\n",
       "70    0.042429  0.011983       NaN\n",
       "80    0.084926  0.015445       NaN\n",
       "100   0.137455  0.025048       NaN"
      ]
     },
     "execution_count": 9,
     "metadata": {},
     "output_type": "execute_result"
    }
   ],
   "source": [
    "piv = df.pivot(index=\"n\", columns=\"name\", values=\"average\")\n",
    "piv"
   ]
  },
  {
   "cell_type": "code",
   "execution_count": null,
   "id": "ef4549e3",
   "metadata": {},
   "outputs": [
    {
     "data": {
      "image/png": "[encoded data removed]",
      "text/plain": [
       "<Figure size 432x288 with 1 Axes>"
      ]
     },
     "metadata": {
      "needs_background": "light"
     },
     "output_type": "display_data"
    }
   ],
   "source": [
    "piv.plot(title=\"pivot de gauss\");"
   ]
  },
  {
   "cell_type": "code",
   "execution_count": null,
   "id": "4d3bb00b",
   "metadata": {},
   "outputs": [],
   "source": []
  }
 ],
 "metadata": {
  "kernelspec": {
   "display_name": "Python 3 (ipykernel)",
   "language": "python",
   "name": "python3"
  },
  "language_info": {
   "codemirror_mode": {
    "name": "ipython",
    "version": 3
   },
   "file_extension": ".py",
   "mimetype": "text/x-python",
   "name": "python",
   "nbconvert_exporter": "python",
   "pygments_lexer": "ipython3",
   "version": "3.10.6"
  }
 },
 "nbformat": 4,
 "nbformat_minor": 5
}
