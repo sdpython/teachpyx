{
 "cells": [
  {
   "cell_type": "markdown",
   "id": "cbc3da63-4c62-45e9-bd8b-19fcd29ac38a",
   "metadata": {},
   "source": [
    "# Itérateur\n",
    "\n",
    "Lorsqu'on écrit ``for element in ensemble``, la variable ``element`` désigne tour à tour chaque élément d'un ensemble. Lorsque cet ensemble existe, on parle d'itérateur. Lorsqu'il n'existe que de façon virtuelle, on parte de générateur. La fonction [range](https://docs.python.org/3/library/stdtypes.html#range) génère des entiers sans que l'ensemble d'où ils viennent existe. D'ailleurs, quand on l'affiche :"
   ]
  },
  {
   "cell_type": "code",
   "execution_count": 15,
   "id": "f27f38e3-404a-4ed2-8890-f11bb45e2e43",
   "metadata": {},
   "outputs": [
    {
     "name": "stdout",
     "output_type": "stream",
     "text": [
      "range(0, 5)\n"
     ]
    }
   ],
   "source": [
    "print(range(5))"
   ]
  },
  {
   "cell_type": "markdown",
   "id": "bb3aebf6",
   "metadata": {},
   "source": [
    "Mais on peut stocker tous ces éléments dans une liste :"
   ]
  },
  {
   "cell_type": "code",
   "execution_count": 17,
   "id": "045bed4f-86bc-46d6-b2ae-186cf75c6ca1",
   "metadata": {},
   "outputs": [
    {
     "name": "stdout",
     "output_type": "stream",
     "text": [
      "[0, 1, 2, 3, 4]\n"
     ]
    }
   ],
   "source": [
    "print(list(range(5)))"
   ]
  },
  {
   "cell_type": "markdown",
   "id": "8675ef62",
   "metadata": {},
   "source": [
    "La fonction `range` est équivalente au code suivant en python :"
   ]
  },
  {
   "cell_type": "code",
   "execution_count": 18,
   "id": "b91eebf9-2690-4130-bfb5-35e4b9320000",
   "metadata": {},
   "outputs": [
    {
     "name": "stdout",
     "output_type": "stream",
     "text": [
      "<generator object range_like at 0x7f6141101a40>\n"
     ]
    }
   ],
   "source": [
    "def range_like(n):\n",
    "    for i in range(n):\n",
    "        yield i\n",
    "\n",
    "\n",
    "print(range_like(5))"
   ]
  },
  {
   "cell_type": "code",
   "execution_count": 20,
   "id": "3c90068e-4ce6-4bfd-b0de-2bdbd3ea33ef",
   "metadata": {},
   "outputs": [
    {
     "name": "stdout",
     "output_type": "stream",
     "text": [
      "[0, 1, 2, 3, 4]\n"
     ]
    }
   ],
   "source": [
    "print(list(range_like(5)))"
   ]
  },
  {
   "cell_type": "markdown",
   "id": "16c2adb3",
   "metadata": {},
   "source": [
    "Le mot-clé `yield` émet un élément. L'exécution sort de la fonction avec cet élément comme résultat puis elle y retourne. L'exemple suivant insère des `print` pour comprendre quelle ligne s'exécute à quel moment."
   ]
  },
  {
   "cell_type": "code",
   "execution_count": null,
   "id": "52453858-39f1-43c7-b99a-8d4a48a70dff",
   "metadata": {},
   "outputs": [
    {
     "name": "stdout",
     "output_type": "stream",
     "text": [
      "A\n",
      "B 0\n",
      "A\n",
      "B 1\n",
      "A\n",
      "B 2\n",
      "A\n",
      "B 3\n",
      "A\n",
      "B 4\n"
     ]
    }
   ],
   "source": [
    "def range_like(n):\n",
    "    for i in range(n):\n",
    "        print(\"A\")\n",
    "        yield i\n",
    "\n",
    "\n",
    "for k in range_like(5):\n",
    "    print(\"B\", k)"
   ]
  },
  {
   "cell_type": "code",
   "execution_count": 23,
   "id": "0fd2d231-3e6d-43cb-b188-c1411f8f1ec8",
   "metadata": {},
   "outputs": [
    {
     "name": "stdout",
     "output_type": "stream",
     "text": [
      "A\n",
      "B 0.800615241684132\n",
      "A\n",
      "B 0.6203906335810035\n",
      "A\n",
      "B 0.8446265230838613\n",
      "A\n",
      "B 0.6735124583604849\n",
      "A\n",
      "B 0.879029749313784\n"
     ]
    }
   ],
   "source": [
    "import random\n",
    "\n",
    "\n",
    "def random_generator(n):\n",
    "    for i in range(n):\n",
    "        print(\"A\")\n",
    "        yield random.random()\n",
    "\n",
    "\n",
    "for k in random_generator(5):\n",
    "    print(\"B\", k)"
   ]
  },
  {
   "cell_type": "markdown",
   "id": "5fb0ce38",
   "metadata": {},
   "source": [
    "Le mot-clé `yield` est utilisé pour énumérer les éléments d'un ensemble sans que cet ensemble existe vraiment. Il suffit que cette énumération suive une certaine logique qu'on applique dans l'exemple suivant à l'énumération des feuilles d'un arbre."
   ]
  },
  {
   "cell_type": "code",
   "execution_count": null,
   "id": "de022942-dee6-49dc-821d-7f90f5c38150",
   "metadata": {},
   "outputs": [
    {
     "name": "stdout",
     "output_type": "stream",
     "text": [
      "C:00\n",
      "D:00\n",
      "E:00\n"
     ]
    }
   ],
   "source": [
    "class Noeud:\n",
    "    def __init__(self, v):\n",
    "        self.v = v\n",
    "        self.left = None\n",
    "        self.right = None\n",
    "\n",
    "    def __str__(self):\n",
    "        return (\n",
    "            f\"{self.v}:\"\n",
    "            f\"{0 if self.left is None else 1}\"\n",
    "            f\"{0 if self.right is None else 1}\"\n",
    "        )\n",
    "\n",
    "    def leave_generator(self):\n",
    "        if self.left is None or self.right is None:\n",
    "            yield self\n",
    "        if self.left is not None:\n",
    "            for leave in self.left.leave_generator():\n",
    "                yield leave\n",
    "        if self.right is not None:\n",
    "            for leave in self.right.leave_generator():\n",
    "                yield leave\n",
    "\n",
    "\n",
    "gr = graph()\n",
    "for leave in gr.leave_generator():\n",
    "    print(leave)"
   ]
  },
  {
   "cell_type": "markdown",
   "id": "eb32871e",
   "metadata": {},
   "source": [
    "## Génération d'un arbre aléatoire\n",
    "\n",
    "Un arbre avec un seul noeud est toujours le même. Le second noeud peut être *accroché* à gauche ou droite du premier. Et c'est ainsi qu'on peut créer un arbre aléatoire, chaque nouveau noeud est inséré au bout d'un chemin existant. Ce chemin est choisi en partant du premier noeud - la racine - puis en allant à gauche ou à droite de façon aléatoire jusqu'à arriver à un noeud qui n'a pas de fils."
   ]
  },
  {
   "cell_type": "code",
   "execution_count": 33,
   "id": "e933b90a-7978-4e10-9b5a-c53fd7342d40",
   "metadata": {},
   "outputs": [
    {
     "name": "stdout",
     "output_type": "stream",
     "text": [
      "--------\n",
      "A\n",
      "--------\n",
      "A\n",
      "+-B\n",
      "--------\n",
      "A\n",
      "+-C\n",
      "+-B\n",
      "--------\n",
      "A\n",
      "+-C\n",
      "  +-D\n",
      "+-B\n",
      "--------\n",
      "A\n",
      "+-C\n",
      "  +-D\n",
      "+-B\n",
      "  +-E\n",
      "--------\n",
      "A\n",
      "+-C\n",
      "  +-D\n",
      "    +-F\n",
      "+-B\n",
      "  +-E\n",
      "--------\n",
      "A\n",
      "+-C\n",
      "  +-D\n",
      "    +-G\n",
      "    +-F\n",
      "+-B\n",
      "  +-E\n",
      "--------\n",
      "A\n",
      "+-C\n",
      "  +-D\n",
      "    +-G\n",
      "    +-F\n",
      "      +-H\n",
      "+-B\n",
      "  +-E\n",
      "--------\n",
      "A\n",
      "+-C\n",
      "  +-D\n",
      "    +-G\n",
      "      +-I\n",
      "    +-F\n",
      "      +-H\n",
      "+-B\n",
      "  +-E\n",
      "--------\n",
      "A\n",
      "+-C\n",
      "  +-J\n",
      "  +-D\n",
      "    +-G\n",
      "      +-I\n",
      "    +-F\n",
      "      +-H\n",
      "+-B\n",
      "  +-E\n",
      "--------\n",
      "A\n",
      "+-C\n",
      "  +-J\n",
      "  +-D\n",
      "    +-G\n",
      "      +-I\n",
      "    +-F\n",
      "      +-H\n",
      "        +-K\n",
      "+-B\n",
      "  +-E\n",
      "##########\n",
      "A\n",
      "+-C\n",
      "  +-J\n",
      "  +-D\n",
      "    +-G\n",
      "      +-I\n",
      "      +-L\n",
      "    +-F\n",
      "      +-H\n",
      "        +-K\n",
      "+-B\n",
      "  +-E\n"
     ]
    }
   ],
   "source": [
    "class Noeud:\n",
    "    def __init__(self, v):\n",
    "        self.v = v\n",
    "        self.left = None\n",
    "        self.right = None\n",
    "\n",
    "    def __str__(self):\n",
    "        rows = [str(self.v)]\n",
    "        if self.left is not None:\n",
    "            rows.append(\"+-\" + textwrap.indent(str(self.left), \"  \")[2:])\n",
    "        if self.right is not None:\n",
    "            rows.append(\"+-\" + textwrap.indent(str(self.right), \"  \")[2:])\n",
    "        return \"\\n\".join(rows)\n",
    "\n",
    "    def add_alea(self, node):\n",
    "        h = random.randint(0, 1)\n",
    "        if h == 0:\n",
    "            if self.left is None:\n",
    "                self.left = node\n",
    "            else:\n",
    "                self.left.add_alea(node)\n",
    "        else:\n",
    "            if self.right is None:\n",
    "                self.right = node\n",
    "            else:\n",
    "                self.right.add_alea(node)\n",
    "\n",
    "    def profondeur_maximale(self):\n",
    "        pleft = 0 if self.left is None else self.left.profondeur_maximale() + 1\n",
    "        pright = 0 if self.right is None else self.right.profondeur_maximale() + 1\n",
    "        return max(pleft, pright)\n",
    "\n",
    "\n",
    "root = Noeud(\"A\")\n",
    "for c in \"BCDEFGHIJKL\":\n",
    "    print(\"--------\")  # cette séparation permet de mieux voir ce qu'il se passe\n",
    "    print(root)  # on affiche l'arbre à chaque itération\n",
    "    root.add_alea(Noeud(c))\n",
    "print(\"##########\")\n",
    "print(root)"
   ]
  },
  {
   "cell_type": "markdown",
   "id": "873413f6",
   "metadata": {},
   "source": [
    "## Profondeur maximale\n",
    "\n",
    "Quelle est la profondeur maximale d'un arbre aléaatoire ? C'est forcément une variable aléatoire. Elle est comprise entre $\\log n$ et $n$ si $n$ est le nombre de noeud du graphe insérés dans le graphe aléatoire. L'exemple suivant calcule la profondeur maximale tout au long de sa création."
   ]
  },
  {
   "cell_type": "code",
   "execution_count": 40,
   "id": "2db383d6-73f2-4b9a-83b0-8fc1e501fed4",
   "metadata": {},
   "outputs": [
    {
     "name": "stderr",
     "output_type": "stream",
     "text": [
      "100%|██████████| 16384/16384 [00:29<00:00, 547.23it/s]\n"
     ]
    },
    {
     "data": {
      "image/png": "[encoded data removed]",
      "text/plain": [
       "<Figure size 640x480 with 1 Axes>"
      ]
     },
     "metadata": {},
     "output_type": "display_data"
    }
   ],
   "source": [
    "import tqdm\n",
    "import matplotlib.pyplot as plt\n",
    "\n",
    "x = []\n",
    "y = []\n",
    "root = Noeud(\"A\")\n",
    "numeros = list(range(2**14))\n",
    "for c in tqdm.tqdm(numeros):\n",
    "    root.add_alea(Noeud(c))\n",
    "    x.append(c)\n",
    "    y.append(root.profondeur_maximale())\n",
    "\n",
    "plt.plot(x, y);"
   ]
  },
  {
   "cell_type": "markdown",
   "id": "7e7c8f50",
   "metadata": {},
   "source": [
    "Il faudrait recommencer plein de fois pour en tirer l'intuition d'un résultat théorique."
   ]
  }
 ],
 "metadata": {
  "kernelspec": {
   "display_name": "Python 3 (ipykernel)",
   "language": "python",
   "name": "python3"
  },
  "language_info": {
   "codemirror_mode": {
    "name": "ipython",
    "version": 3
   },
   "file_extension": ".py",
   "mimetype": "text/x-python",
   "name": "python",
   "nbconvert_exporter": "python",
   "pygments_lexer": "ipython3",
   "version": "3.11.4"
  }
 },
 "nbformat": 4,
 "nbformat_minor": 5
}
