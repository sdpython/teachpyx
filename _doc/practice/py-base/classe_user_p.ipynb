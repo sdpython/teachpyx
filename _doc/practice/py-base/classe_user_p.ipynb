{
 "cells": [
  {
   "cell_type": "markdown",
   "id": "ce36bb4d",
   "metadata": {},
   "source": [
    "# Classe, Héritage, calcule d'une distance\n",
    "\n",
    "On veut calculer la distance entre un produit et un utilisateur. En première intention, la distance entre deux produits est calculée en fonction de ses attributs et la distance entre deux utilisateurs est calculée en fonction de leurs achats. La pertinence de la distance n'est pas le sujet ici mais quoi coder et dans quelle classe.\n",
    "\n",
    "Un peu de vocabulaire :\n",
    "\n",
    "* une **méthode** est une fonction d'une classe\n",
    "* un **attribut** est une variable d'une classe\n",
    "* le constructeur ou la méthode ``__init__`` est appelé implicitement lorsque l'objet est créé"
   ]
  },
  {
   "cell_type": "markdown",
   "id": "2eed7fb1",
   "metadata": {},
   "source": [
    "## Classe Product\n",
    "\n",
    "On lui adjoint trois attributs, un identifiant, un prix, une category."
   ]
  },
  {
   "cell_type": "code",
   "execution_count": 9,
   "id": "4d58bcaa-3154-4d37-8b84-3a0ca70e824e",
   "metadata": {},
   "outputs": [
    {
     "data": {
      "text/plain": [
       "P:1:45:livre"
      ]
     },
     "execution_count": 9,
     "metadata": {},
     "output_type": "execute_result"
    }
   ],
   "source": [
    "class Product:\n",
    "    def __init__(self, identifiant, prix, category):\n",
    "        self.identifiant = identifiant\n",
    "        self.prix = prix\n",
    "        self.category = category\n",
    "\n",
    "    def __repr__(self):\n",
    "        return f\"P:{self.identifiant}:{self.prix}:{self.category}\"\n",
    "\n",
    "    # def __eq__(self, p):\n",
    "    #     # Cet méthode définit le sens de l'opérateur ==.\n",
    "    #     # Par défaut, python vérifie que les deux variables comparées désignent\n",
    "    #     # la même instance et non leur contenu.\n",
    "    #     return self.identifiant == p.identifiant\n",
    "    def distance(self, p):\n",
    "        return abs(self.prix - p.prix) * (1 if self.category == p.category else 10)\n",
    "\n",
    "\n",
    "p = Product(1, 45, \"livre\")\n",
    "p"
   ]
  },
  {
   "cell_type": "code",
   "execution_count": 10,
   "id": "caedcfb4",
   "metadata": {},
   "outputs": [
    {
     "data": {
      "text/plain": [
       "(False, True)"
      ]
     },
     "execution_count": 10,
     "metadata": {},
     "output_type": "execute_result"
    }
   ],
   "source": [
    "p1 = Product(1, 1, 1)\n",
    "p2 = Product(1, 1, 1)\n",
    "p3 = p1\n",
    "p1 == p2, p1 == p3"
   ]
  },
  {
   "cell_type": "markdown",
   "id": "fc046142",
   "metadata": {},
   "source": [
    "## Classe utilisateur"
   ]
  },
  {
   "cell_type": "code",
   "execution_count": 11,
   "id": "30631cb1-33fd-4799-9a5c-381b249ac0dd",
   "metadata": {},
   "outputs": [
    {
     "data": {
      "text/plain": [
       "5.0"
      ]
     },
     "execution_count": 11,
     "metadata": {},
     "output_type": "execute_result"
    }
   ],
   "source": [
    "import numpy as np\n",
    "\n",
    "\n",
    "class User:\n",
    "    def __init__(self, identifiant):\n",
    "        self.identifiant = identifiant\n",
    "        self.products = []\n",
    "\n",
    "    def bought(self, p):\n",
    "        self.products.append(p)\n",
    "\n",
    "    def __repr__(self):\n",
    "        return f\"U:{self.identifiant}:{len(self.products)}\"\n",
    "\n",
    "    def distance(self, user):\n",
    "        # distance entre self et user\n",
    "        mat = np.empty((len(self.products), len(user.products)), dtype=float)\n",
    "        for i, p1 in enumerate(self.products):\n",
    "            for j, p2 in enumerate(user.products):\n",
    "                mat[i, j] = p1.distance(p2)\n",
    "        return min(mat.min(axis=1).sum(), mat.min(axis=0).sum())\n",
    "\n",
    "\n",
    "u1 = User(11)\n",
    "u1.bought(Product(1, 45, \"livre\"))\n",
    "u2 = User(12)\n",
    "u2.bought(Product(1, 40, \"livre\"))\n",
    "u2.bought(Product(1, 30, \"disque\"))\n",
    "u1.distance(u2)"
   ]
  },
  {
   "cell_type": "markdown",
   "id": "9d95472c",
   "metadata": {},
   "source": [
    "## Classe Base\n",
    "\n",
    "La distance calculée sur les utilisateurs peut être calculée de la même façon sur les produit si la classe `Product` sait quels utilisateurs les ont acheté. De cette façon, on peut dire que deux produits sont proches s'ils sont achetés par les mêmes utilisateurs. Comme ce calcul est le même, il est tentant de créer une classe commune aux produits et aux utilisateurs. Les classes `Product` et `User` vont hériter de cette nouvelle classe.\n",
    "\n",
    "On distance donc :\n",
    "\n",
    "* la méthode `distance` qui est la distance décrite ci-dessus,\n",
    "* la méthode `similarity` qui compare deux produits à partir de leurs attributs.\n",
    "\n",
    "Les instructions `print` permettent de suivre quelle méthode est appelée."
   ]
  },
  {
   "cell_type": "code",
   "execution_count": 12,
   "id": "fc265037-a1ef-475e-98f1-d3ad2c43d5a5",
   "metadata": {},
   "outputs": [],
   "source": [
    "class Base:\n",
    "    def __init__(self, identifiant):\n",
    "        self.identifiant = identifiant\n",
    "        self.container = []\n",
    "\n",
    "    def add(self, b):\n",
    "        self.container.append(b)\n",
    "\n",
    "    def similarity(self, b):\n",
    "        # Déclencher une exception NotImplementedError est une façon de dire\n",
    "        # que la méthode existe mais qu'elle doit être redéfinit ou surchargée dans la\n",
    "        # classe qui hérite de la classe Base.\n",
    "        raise NotImplementedError(\n",
    "            f\"il faut surcharger cette méthode pour le type {type(self)}\"\n",
    "        )\n",
    "\n",
    "    def distance(self, user):\n",
    "        # distance entre self et user\n",
    "        print(f\"Base:distance:{self.identifiant}:{user.identifiant}\")\n",
    "        mat = np.empty((len(self.container), len(user.container)), dtype=float)\n",
    "        for i, p1 in enumerate(self.container):\n",
    "            for j, p2 in enumerate(user.container):\n",
    "                mat[i, j] = p1.similarity(p2)\n",
    "        return min(mat.min(axis=1).sum(), mat.min(axis=0).sum())\n",
    "\n",
    "\n",
    "# Maintenant les héritages\n",
    "\n",
    "\n",
    "class Product(Base):\n",
    "    def __init__(self, identifiant, prix, category):\n",
    "        Base.__init__(self, identifiant)\n",
    "        self.prix = prix\n",
    "        self.category = category\n",
    "\n",
    "    def similarity(self, p):\n",
    "        # On redéfinit la méthode similarity dans la classe Product car elle lui est propre.\n",
    "        print(f\"Product:similarite:{self.identifiant}:{p.identifiant}\")\n",
    "        return abs(self.prix - p.prix) * (1 if self.category == p.category else 10)\n",
    "\n",
    "\n",
    "class User(Base):\n",
    "    def bought(self, p):\n",
    "        self.add(p)\n",
    "\n",
    "    def similarity(self, u):\n",
    "        # On redéfinit la méthode similarity de sorte qu'elle appelle la méthode distance.\n",
    "        # car elle est appelée par la méthode Product.distance.\n",
    "        print(f\"User:similarity:{self.identifiant}:{u.identifiant}\")\n",
    "        return self.distance(u)\n",
    "\n",
    "\n",
    "p1 = Product(1, 45, \"livre\")\n",
    "p2 = Product(2, 40, \"livre\")\n",
    "p3 = Product(3, 30, \"disque\")\n",
    "\n",
    "u1 = User(11)\n",
    "u1.bought(p1)\n",
    "u2 = User(12)\n",
    "u2.bought(p2)\n",
    "u2.bought(p3)\n",
    "\n",
    "p1.add(u1)\n",
    "p2.add(u2)\n",
    "p3.add(u2)"
   ]
  },
  {
   "cell_type": "markdown",
   "id": "6f05680f",
   "metadata": {},
   "source": [
    "Toujours la distance entre deux utilisateurs."
   ]
  },
  {
   "cell_type": "code",
   "execution_count": 13,
   "id": "58650db1-942b-4313-ae3d-eda0d0b56b5d",
   "metadata": {},
   "outputs": [
    {
     "name": "stdout",
     "output_type": "stream",
     "text": [
      "Base:distance:11:12\n",
      "Product:similarite:1:2\n",
      "Product:similarite:1:3\n"
     ]
    },
    {
     "data": {
      "text/plain": [
       "5.0"
      ]
     },
     "execution_count": 13,
     "metadata": {},
     "output_type": "execute_result"
    }
   ],
   "source": [
    "u1.distance(u2)"
   ]
  },
  {
   "cell_type": "markdown",
   "id": "ce0ef219",
   "metadata": {},
   "source": [
    "Et maintenant la distance entre deux produits définie à partir des utilisateurs ayant acheté des produits."
   ]
  },
  {
   "cell_type": "markdown",
   "id": "975895c4",
   "metadata": {},
   "source": [
    "## "
   ]
  },
  {
   "cell_type": "code",
   "execution_count": 14,
   "id": "ec5e7537-b66a-4d23-b2e6-6a900a933cce",
   "metadata": {},
   "outputs": [
    {
     "name": "stdout",
     "output_type": "stream",
     "text": [
      "Base:distance:1:2\n",
      "User:similarity:11:12\n",
      "Base:distance:11:12\n",
      "Product:similarite:1:2\n",
      "Product:similarite:1:3\n"
     ]
    },
    {
     "data": {
      "text/plain": [
       "5.0"
      ]
     },
     "execution_count": 14,
     "metadata": {},
     "output_type": "execute_result"
    }
   ],
   "source": [
    "p1.distance(p2)"
   ]
  },
  {
   "cell_type": "code",
   "execution_count": null,
   "id": "8b9b770f-7f95-4cae-9e01-b5e66067425c",
   "metadata": {},
   "outputs": [],
   "source": []
  }
 ],
 "metadata": {
  "kernelspec": {
   "display_name": "Python 3 (ipykernel)",
   "language": "python",
   "name": "python3"
  },
  "language_info": {
   "codemirror_mode": {
    "name": "ipython",
    "version": 3
   },
   "file_extension": ".py",
   "mimetype": "text/x-python",
   "name": "python",
   "nbconvert_exporter": "python",
   "pygments_lexer": "ipython3",
   "version": "3.10.12"
  }
 },
 "nbformat": 4,
 "nbformat_minor": 5
}