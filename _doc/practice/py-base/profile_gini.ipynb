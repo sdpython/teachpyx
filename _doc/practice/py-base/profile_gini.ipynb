{
 "cells": [
  {
   "cell_type": "markdown",
   "metadata": {},
   "source": [
    "# Profiling la fonction Gini\n",
    "\n",
    "Le [profilage de code](https://fr.wikipedia.org/wiki/Profilage_de_code) ou *profiling* en anglais signifie qu'on mesure le temps passé dans chaque partie d'un programme pour en découvrir les parties les plus coûteuses et les améliorer. On souhaite toujours accélérer un programme trop lent, le profiling permet de savoir sur quelles parties se concentrer."
   ]
  },
  {
   "cell_type": "markdown",
   "metadata": {},
   "source": [
    "## Enoncé\n",
    "\n",
    "On applique le profiling au code suivant pour découvrir laquelle de ces fonctions est la plus lente. Vous pouvez changer ce code pour un de ceux que vous avez écrits précédemment."
   ]
  },
  {
   "cell_type": "code",
   "execution_count": 1,
   "metadata": {},
   "outputs": [
    {
     "data": {
      "text/plain": [
       "(0.5, 0.9)"
      ]
     },
     "execution_count": 1,
     "metadata": {},
     "output_type": "execute_result"
    }
   ],
   "source": [
    "def _gini_sort(Y):\n",
    "    return list(sorted(Y))\n",
    "\n",
    "\n",
    "def _gini_init(Y):\n",
    "    return [[1, y] for y in Y]\n",
    "\n",
    "\n",
    "def _gini_cumsum(couples):\n",
    "    for i in range(1, len(couples)):\n",
    "        couples[i][0] += couples[i - 1][0]\n",
    "        couples[i][1] += couples[i - 1][1]\n",
    "    for i in range(0, len(couples)):\n",
    "        couples[i][0] /= couples[-1][0]\n",
    "        couples[i][1] /= couples[-1][1]\n",
    "    return couples\n",
    "\n",
    "\n",
    "def _gini_final(couples):\n",
    "    g = couples[0][0] * couples[0][1]\n",
    "    n = len(couples)\n",
    "\n",
    "    for i in range(1, n):\n",
    "        dx = couples[i][0] - couples[i - 1][0]\n",
    "        y = couples[i - 1][1] + couples[i][1]\n",
    "        g += dx * y\n",
    "\n",
    "    return 1.0 - g / 2\n",
    "\n",
    "\n",
    "def gini(Y):\n",
    "    Y = _gini_sort(Y)\n",
    "    couples = _gini_init(Y)\n",
    "    couples = _gini_cumsum(couples)\n",
    "    return _gini_final(couples)\n",
    "\n",
    "\n",
    "gini([1, 1, 1, 1, 1]), gini([0, 0, 0, 0, 100000])"
   ]
  },
  {
   "cell_type": "markdown",
   "metadata": {},
   "source": [
    "Pour ces deux exemples caractéristiques, on retrouve bien des valeurs attendues."
   ]
  },
  {
   "cell_type": "markdown",
   "metadata": {},
   "source": [
    "### Exercice 1 : profiler le code précédent\n",
    "\n",
    "Le langage python dispose d'un module qui mesure le temps passé dans chaque fonction [profile](https://docs.python.org/3/library/profile.html). Il faut l'utiliser."
   ]
  },
  {
   "cell_type": "code",
   "execution_count": null,
   "metadata": {},
   "outputs": [],
   "source": []
  },
  {
   "cell_type": "markdown",
   "metadata": {},
   "source": [
    "### Exercice 2 : changer la fonction _gini_final si possible en plus rapide\n",
    "\n"
   ]
  },
  {
   "cell_type": "code",
   "execution_count": null,
   "metadata": {},
   "outputs": [],
   "source": []
  },
  {
   "cell_type": "markdown",
   "metadata": {},
   "source": [
    "### Exercice 3 : vous améliorez la fonction _gini_final, profilez pour savoir de combien ?"
   ]
  },
  {
   "cell_type": "code",
   "execution_count": null,
   "metadata": {},
   "outputs": [],
   "source": []
  },
  {
   "cell_type": "markdown",
   "metadata": {},
   "source": [
    "### Exercice 4 : utiliser d'autres modules de profiling\n",
    "\n",
    "Si c'est possible, comme [pyinstrument](https://github.com/joerick/pyinstrument) ou [py-spy](https://github.com/benfred/py-spy). Il y a deux façons de faire du profiling :\n",
    "\n",
    "* **déterministe :** on mesure le temps passé dans chaque fonction, à chaque appel, ce type de profilage n'est souvent possible que pour des langages interprétés,\n",
    "* **statistique :** tous les centièmes de secondes, on regarde quelle ligne de quelle fonction le programme exécute. On compte ensuite combien de fois la ligne exécutée était dans une fonction pour déterminer le temps passé dans chaque fonction.\n",
    "\n",
    "Les deux modules proposés sont statistiques, le premier est déterministe. Bien évidemment, le fait de mesurer le temps passé prend du temps également, plus on s'arrête souvant, plus l'exécution est ralentie."
   ]
  },
  {
   "cell_type": "code",
   "execution_count": null,
   "metadata": {},
   "outputs": [],
   "source": []
  },
  {
   "cell_type": "markdown",
   "metadata": {},
   "source": [
    "### Exercice 5 : la fonction _gini_cumsum contient deux boucles. Quelle est la plus rapide ?"
   ]
  },
  {
   "cell_type": "code",
   "execution_count": null,
   "metadata": {},
   "outputs": [],
   "source": []
  },
  {
   "cell_type": "markdown",
   "metadata": {},
   "source": [
    "## Réponses"
   ]
  },
  {
   "cell_type": "markdown",
   "metadata": {},
   "source": [
    "### Exercice 1 : profiler le code précédent\n",
    "\n",
    "On reprend un des exemples de cette page [The Python Profilers](https://docs.python.org/3/library/profile.html#module-cProfile)."
   ]
  },
  {
   "cell_type": "code",
   "execution_count": 2,
   "metadata": {},
   "outputs": [
    {
     "name": "stdout",
     "output_type": "stream",
     "text": [
      "         48 function calls in 0.000 seconds\n",
      "\n",
      "   Ordered by: cumulative time\n",
      "\n",
      "   ncalls  tottime  percall  cumtime  percall filename:lineno(function)\n",
      "        2    0.000    0.000    0.000    0.000 /home/xadupre/.venv/lib/python3.10/site-packages/IPython/core/interactiveshell.py:3472(run_code)\n",
      "        2    0.000    0.000    0.000    0.000 {built-in method builtins.exec}\n",
      "        2    0.000    0.000    0.000    0.000 /usr/lib/python3.10/codeop.py:117(__call__)\n",
      "        1    0.000    0.000    0.000    0.000 /tmp/ipykernel_23329/1877708867.py:1(<module>)\n",
      "        2    0.000    0.000    0.000    0.000 {built-in method builtins.compile}\n",
      "        1    0.000    0.000    0.000    0.000 /tmp/ipykernel_23329/1359775409.py:31(gini)\n",
      "        2    0.000    0.000    0.000    0.000 /usr/lib/python3.10/contextlib.py:279(helper)\n",
      "        4    0.000    0.000    0.000    0.000 {built-in method builtins.next}\n",
      "        1    0.000    0.000    0.000    0.000 /tmp/ipykernel_23329/1359775409.py:9(_gini_cumsum)\n",
      "        2    0.000    0.000    0.000    0.000 /usr/lib/python3.10/contextlib.py:130(__enter__)\n",
      "        2    0.000    0.000    0.000    0.000 /usr/lib/python3.10/contextlib.py:139(__exit__)\n",
      "        2    0.000    0.000    0.000    0.000 /usr/lib/python3.10/contextlib.py:102(__init__)\n",
      "        2    0.000    0.000    0.000    0.000 /home/xadupre/.venv/lib/python3.10/site-packages/traitlets/traitlets.py:692(__get__)\n",
      "        1    0.000    0.000    0.000    0.000 /tmp/ipykernel_23329/1359775409.py:19(_gini_final)\n",
      "        4    0.000    0.000    0.000    0.000 /home/xadupre/.venv/lib/python3.10/site-packages/IPython/core/compilerop.py:180(extra_flags)\n",
      "        1    0.000    0.000    0.000    0.000 /tmp/ipykernel_23329/1359775409.py:1(_gini_sort)\n",
      "        1    0.000    0.000    0.000    0.000 /tmp/ipykernel_23329/1359775409.py:5(_gini_init)\n",
      "        4    0.000    0.000    0.000    0.000 {built-in method builtins.getattr}\n",
      "        2    0.000    0.000    0.000    0.000 /home/xadupre/.venv/lib/python3.10/site-packages/IPython/core/interactiveshell.py:3424(compare)\n",
      "        2    0.000    0.000    0.000    0.000 /home/xadupre/.venv/lib/python3.10/site-packages/traitlets/traitlets.py:654(get)\n",
      "        1    0.000    0.000    0.000    0.000 {built-in method builtins.sorted}\n",
      "        3    0.000    0.000    0.000    0.000 {built-in method builtins.len}\n",
      "        1    0.000    0.000    0.000    0.000 /tmp/ipykernel_23329/1359775409.py:6(<listcomp>)\n",
      "        2    0.000    0.000    0.000    0.000 /home/xadupre/.venv/lib/python3.10/site-packages/IPython/core/interactiveshell.py:1229(user_global_ns)\n",
      "        1    0.000    0.000    0.000    0.000 {method 'disable' of '_lsprof.Profiler' objects}\n",
      "\n",
      "\n",
      "\n"
     ]
    }
   ],
   "source": [
    "import cProfile, pstats, io\n",
    "from pstats import SortKey\n",
    "\n",
    "pr = cProfile.Profile()\n",
    "pr.enable()\n",
    "\n",
    "gini([1, 1, 1, 1, 1])\n",
    "\n",
    "pr.disable()\n",
    "s = io.StringIO()\n",
    "sortby = SortKey.CUMULATIVE\n",
    "ps = pstats.Stats(pr, stream=s).sort_stats(sortby)\n",
    "ps.print_stats()\n",
    "print(s.getvalue())"
   ]
  },
  {
   "cell_type": "markdown",
   "metadata": {},
   "source": [
    "Tous les temps sont nuls. Le code est trop rapide. Il faut soit exécuter le code plusieurs fois, soit prendre un tableau plus grand."
   ]
  },
  {
   "cell_type": "code",
   "execution_count": 3,
   "metadata": {},
   "outputs": [
    {
     "name": "stdout",
     "output_type": "stream",
     "text": [
      "         11038 function calls in 3.682 seconds\n",
      "\n",
      "   Ordered by: cumulative time\n",
      "\n",
      "   ncalls  tottime  percall  cumtime  percall filename:lineno(function)\n",
      "        2    0.000    0.000    3.682    1.841 /home/xadupre/.venv/lib/python3.10/site-packages/IPython/core/interactiveshell.py:3472(run_code)\n",
      "        2    0.000    0.000    3.682    1.841 {built-in method builtins.exec}\n",
      "        1    0.132    0.132    3.682    3.682 /tmp/ipykernel_23329/4034582288.py:1(<module>)\n",
      "     1000    0.024    0.000    3.436    0.003 /tmp/ipykernel_23329/1359775409.py:31(gini)\n",
      "     1000    1.909    0.002    1.914    0.002 /tmp/ipykernel_23329/1359775409.py:9(_gini_cumsum)\n",
      "     1000    1.058    0.001    1.060    0.001 /tmp/ipykernel_23329/1359775409.py:19(_gini_final)\n",
      "     1000    0.007    0.000    0.398    0.000 /tmp/ipykernel_23329/1359775409.py:5(_gini_init)\n",
      "     1000    0.392    0.000    0.392    0.000 /tmp/ipykernel_23329/1359775409.py:6(<listcomp>)\n",
      "     1000    0.113    0.000    0.113    0.000 /tmp/ipykernel_23329/4034582288.py:8(<listcomp>)\n",
      "     1000    0.013    0.000    0.039    0.000 /tmp/ipykernel_23329/1359775409.py:1(_gini_sort)\n",
      "     1000    0.026    0.000    0.026    0.000 {built-in method builtins.sorted}\n",
      "     3000    0.008    0.000    0.008    0.000 {built-in method builtins.len}\n",
      "        2    0.000    0.000    0.000    0.000 /usr/lib/python3.10/codeop.py:117(__call__)\n",
      "        2    0.000    0.000    0.000    0.000 {built-in method builtins.compile}\n",
      "        2    0.000    0.000    0.000    0.000 /usr/lib/python3.10/contextlib.py:279(helper)\n",
      "        4    0.000    0.000    0.000    0.000 {built-in method builtins.next}\n",
      "        2    0.000    0.000    0.000    0.000 /usr/lib/python3.10/contextlib.py:139(__exit__)\n",
      "        2    0.000    0.000    0.000    0.000 /usr/lib/python3.10/contextlib.py:130(__enter__)\n",
      "        2    0.000    0.000    0.000    0.000 /usr/lib/python3.10/contextlib.py:102(__init__)\n",
      "        2    0.000    0.000    0.000    0.000 /home/xadupre/.venv/lib/python3.10/site-packages/traitlets/traitlets.py:692(__get__)\n",
      "        4    0.000    0.000    0.000    0.000 /home/xadupre/.venv/lib/python3.10/site-packages/IPython/core/compilerop.py:180(extra_flags)\n",
      "        4    0.000    0.000    0.000    0.000 {built-in method builtins.getattr}\n",
      "        2    0.000    0.000    0.000    0.000 /home/xadupre/.venv/lib/python3.10/site-packages/IPython/core/interactiveshell.py:3424(compare)\n",
      "        2    0.000    0.000    0.000    0.000 /home/xadupre/.venv/lib/python3.10/site-packages/traitlets/traitlets.py:654(get)\n",
      "        2    0.000    0.000    0.000    0.000 /home/xadupre/.venv/lib/python3.10/site-packages/IPython/core/interactiveshell.py:1229(user_global_ns)\n",
      "        1    0.000    0.000    0.000    0.000 {method 'disable' of '_lsprof.Profiler' objects}\n",
      "\n",
      "\n",
      "\n"
     ]
    }
   ],
   "source": [
    "import cProfile, pstats, io\n",
    "from pstats import SortKey\n",
    "\n",
    "pr = cProfile.Profile()\n",
    "pr.enable()\n",
    "\n",
    "for i in range(1000):\n",
    "    gini([1 for i in range(1000)])\n",
    "\n",
    "pr.disable()\n",
    "s = io.StringIO()\n",
    "sortby = SortKey.CUMULATIVE\n",
    "ps = pstats.Stats(pr, stream=s).sort_stats(sortby)\n",
    "ps.print_stats()\n",
    "print(s.getvalue())"
   ]
  },
  {
   "cell_type": "markdown",
   "metadata": {},
   "source": [
    "C'est un peu illisible. On filtre."
   ]
  },
  {
   "cell_type": "code",
   "execution_count": 4,
   "metadata": {},
   "outputs": [
    {
     "name": "stdout",
     "output_type": "stream",
     "text": [
      "     1000    0.024    0.000    3.436    0.003 /tmp/ipykernel_23329/1359775409.py:31(gini)\n",
      "     1000    1.909    0.002    1.914    0.002 /tmp/ipykernel_23329/1359775409.py:9(_gini_cumsum)\n",
      "     1000    1.058    0.001    1.060    0.001 /tmp/ipykernel_23329/1359775409.py:19(_gini_final)\n",
      "     1000    0.007    0.000    0.398    0.000 /tmp/ipykernel_23329/1359775409.py:5(_gini_init)\n",
      "     1000    0.013    0.000    0.039    0.000 /tmp/ipykernel_23329/1359775409.py:1(_gini_sort)\n"
     ]
    }
   ],
   "source": [
    "def filtre(text):\n",
    "    lines = text.split(\"\\n\")\n",
    "    return \"\\n\".join(filter(lambda t: \"gini\" in t, lines))\n",
    "\n",
    "\n",
    "print(filtre(s.getvalue()))"
   ]
  },
  {
   "cell_type": "markdown",
   "metadata": {},
   "source": [
    "### Exercice 2 : changer la fonction _gini_final si possible en plus rapide"
   ]
  },
  {
   "cell_type": "code",
   "execution_count": 5,
   "metadata": {},
   "outputs": [
    {
     "data": {
      "text/plain": [
       "(0.9, 0.5, 0.9, 0.5)"
      ]
     },
     "execution_count": 5,
     "metadata": {},
     "output_type": "execute_result"
    }
   ],
   "source": [
    "def _gini_final_faster(couples):\n",
    "    g = couples[0][0] * couples[0][1]\n",
    "    n = len(couples)\n",
    "\n",
    "    # par construction, tous les dx sont identiques, cela fait des calculs en moins\n",
    "    # le code suivant est plus rapide mais peut encore être optimisé\n",
    "    dx = couples[0][0]\n",
    "    sy = couples[0][0]\n",
    "    for i in range(1, n):\n",
    "        sy = couples[i - 1][1] + couples[i][1]\n",
    "        g += dx * sy\n",
    "\n",
    "    return 1.0 - g / 2\n",
    "\n",
    "\n",
    "def gini_faster(Y):\n",
    "    Y = _gini_sort(Y)\n",
    "    couples = _gini_init(Y)\n",
    "    couples = _gini_cumsum(couples)\n",
    "    return _gini_final_faster(couples)\n",
    "\n",
    "\n",
    "(\n",
    "    gini_faster([0, 0, 0, 0, 5000]),\n",
    "    gini_faster([1, 1, 1, 1, 1]),\n",
    "    gini([0, 0, 0, 0, 5000]),\n",
    "    gini([1, 1, 1, 1, 1]),\n",
    ")"
   ]
  },
  {
   "cell_type": "markdown",
   "metadata": {},
   "source": [
    "### Exercice 3 : vous améliorez la fonction _gini_final, profilez pour savoir de combien ?\n",
    "\n",
    "On appelle les deux fonctions pour pouvoir comparer."
   ]
  },
  {
   "cell_type": "code",
   "execution_count": 6,
   "metadata": {},
   "outputs": [
    {
     "name": "stdout",
     "output_type": "stream",
     "text": [
      "     2000    3.121    0.002    3.130    0.002 /tmp/ipykernel_23329/1359775409.py:9(_gini_cumsum)\n",
      "     1000    0.018    0.000    2.877    0.003 /tmp/ipykernel_23329/1359775409.py:31(gini)\n",
      "     1000    0.017    0.000    2.543    0.003 /tmp/ipykernel_23329/1862792531.py:16(gini_faster)\n",
      "     1000    0.866    0.001    0.867    0.001 /tmp/ipykernel_23329/1359775409.py:19(_gini_final)\n",
      "     2000    0.011    0.000    0.788    0.000 /tmp/ipykernel_23329/1359775409.py:5(_gini_init)\n",
      "     1000    0.528    0.001    0.530    0.001 /tmp/ipykernel_23329/1862792531.py:1(_gini_final_faster)\n",
      "     2000    0.024    0.000    0.070    0.000 /tmp/ipykernel_23329/1359775409.py:1(_gini_sort)\n"
     ]
    }
   ],
   "source": [
    "import cProfile, pstats, io\n",
    "from pstats import SortKey\n",
    "\n",
    "pr = cProfile.Profile()\n",
    "pr.enable()\n",
    "\n",
    "for i in range(1000):\n",
    "    gini([1 for i in range(1000)])\n",
    "    gini_faster([1 for i in range(1000)])\n",
    "\n",
    "pr.disable()\n",
    "s = io.StringIO()\n",
    "sortby = SortKey.CUMULATIVE\n",
    "ps = pstats.Stats(pr, stream=s).sort_stats(sortby)\n",
    "ps.print_stats()\n",
    "print(filtre(s.getvalue()))"
   ]
  },
  {
   "cell_type": "markdown",
   "metadata": {},
   "source": [
    "La seconde version est plus rapide."
   ]
  },
  {
   "cell_type": "markdown",
   "metadata": {},
   "source": [
    "### Exercice 4 : utiliser d'autres modules de profiling\n",
    "\n",
    "[pyinstrument](https://github.com/joerick/pyinstrument) n'est pas peut-être pas installé. Il fonctionne de la même façon."
   ]
  },
  {
   "cell_type": "code",
   "execution_count": 9,
   "metadata": {},
   "outputs": [
    {
     "data": {
      "text/html": [
       "<!DOCTYPE html>\n",
       "            <html>\n",
       "            <head>\n",
       "                <meta charset=\"utf-8\">\n",
       "            </head>\n",
       "            <body>\n",
       "                <div id=\"app\"></div>\n",
       "\n",
       "                <script>var pyinstrumentHTMLRenderer=function(){\"use strict\";var ct=Object.defineProperty;var dt=(R,y,B)=>y in R?ct(R,y,{enumerable:!0,configurable:!0,writable:!0,value:B}):R[y]=B;var w=(R,y,B)=>(dt(R,typeof y!=\"symbol\"?y+\"\":y,B),B);const R=\"\";function y(){}function B(t){return t()}function we(){return Object.create(null)}function O(t){t.forEach(B)}function be(t){return typeof t==\"function\"}function K(t,e){return t!=t?e==e:t!==e||t&&typeof t==\"object\"||typeof t==\"function\"}function Ie(t){return Object.keys(t).length===0}function Re(t,...e){if(t==null)return y;const i=t.subscribe(...e);return i.unsubscribe?()=>i.unsubscribe():i}function se(t,e,i){t.$$.on_destroy.push(Re(e,i))}function f(t,e){t.appendChild(e)}function H(t,e,i){t.insertBefore(e,i||null)}function P(t){t.parentNode&&t.parentNode.removeChild(t)}function _(t){return document.createElement(t)}function ke(t){return document.createElementNS(\"http://www.w3.org/2000/svg\",t)}function L(t){return document.createTextNode(t)}function b(){return L(\" \")}function ye(){return L(\"\")}function W(t,e,i,n){return t.addEventListener(e,i,n),()=>t.removeEventListener(e,i,n)}function Ce(t){return function(e){return e.preventDefault(),t.call(this,e)}}function Ee(t){return function(e){return e.stopPropagation(),t.call(this,e)}}function d(t,e,i){i==null?t.removeAttribute(e):t.getAttribute(e)!==i&&t.setAttribute(e,i)}function Oe(t){return Array.from(t.childNodes)}function U(t,e){e=\"\"+e,t.wholeText!==e&&(t.data=e)}function T(t,e,i,n){i===null?t.style.removeProperty(e):t.style.setProperty(e,i,n?\"important\":\"\")}function X(t,e,i){t.classList[i?\"add\":\"remove\"](e)}let V;function Z(t){V=t}function Te(){if(!V)throw new Error(\"Function called outside component initialization\");return V}function qe(t){Te().$$.on_mount.push(t)}function Ue(t){Te().$$.on_destroy.push(t)}const Y=[],Fe=[],j=[],Se=[],Ve=Promise.resolve();let ue=!1;function Ze(){ue||(ue=!0,Ve.then($e))}function ae(t){j.push(t)}const fe=new Set;let x=0;function $e(){const t=V;do{for(;x<Y.length;){const e=Y[x];x++,Z(e),Ye(e.$$)}for(Z(null),Y.length=0,x=0;Fe.length;)Fe.pop()();for(let e=0;e<j.length;e+=1){const i=j[e];fe.has(i)||(fe.add(i),i())}j.length=0}while(Y.length);for(;Se.length;)Se.pop()();ue=!1,fe.clear(),Z(t)}function Ye(t){if(t.fragment!==null){t.update(),O(t.before_update);const e=t.dirty;t.dirty=[-1],t.fragment&&t.fragment.p(t.ctx,e),t.after_update.forEach(ae)}}const ee=new Set;let Q;function ce(){Q={r:0,c:[],p:Q}}function de(){Q.r||O(Q.c),Q=Q.p}function D(t,e){t&&t.i&&(ee.delete(t),t.i(e))}function N(t,e,i,n){if(t&&t.o){if(ee.has(t))return;ee.add(t),Q.c.push(()=>{ee.delete(t),n&&(i&&t.d(1),n())}),t.o(e)}else n&&n()}function Je(t,e){N(t,1,1,()=>{e.delete(t.key)})}function Ke(t,e,i,n,u,a,r,l,s,o,c,m){let g=t.length,p=a.length,v=g;const E={};for(;v--;)E[t[v].key]=v;const F=[],h=new Map,A=new Map;for(v=p;v--;){const k=m(u,a,v),S=i(k);let $=r.get(S);$?n&&$.p(k,e):($=o(S,k),$.c()),h.set(S,F[v]=$),S in E&&A.set(S,Math.abs(v-E[S]))}const M=new Set,G=new Set;function C(k){D(k,1),k.m(l,c),r.set(k.key,k),c=k.first,p--}for(;g&&p;){const k=F[p-1],S=t[g-1],$=k.key,z=S.key;k===S?(c=k.first,g--,p--):h.has(z)?!r.has($)||M.has($)?C(k):G.has(z)?g--:A.get($)>A.get(z)?(G.add($),C(k)):(M.add(z),g--):(s(S,r),g--)}for(;g--;){const k=t[g];h.has(k.key)||s(k,r)}for(;p;)C(F[p-1]);return F}function pe(t){t&&t.c()}function te(t,e,i,n){const{fragment:u,after_update:a}=t.$$;u&&u.m(e,i),n||ae(()=>{const r=t.$$.on_mount.map(B).filter(be);t.$$.on_destroy?t.$$.on_destroy.push(...r):O(r),t.$$.on_mount=[]}),a.forEach(ae)}function ie(t,e){const i=t.$$;i.fragment!==null&&(O(i.on_destroy),i.fragment&&i.fragment.d(e),i.on_destroy=i.fragment=null,i.ctx=[])}function We(t,e){t.$$.dirty[0]===-1&&(Y.push(t),Ze(),t.$$.dirty.fill(0)),t.$$.dirty[e/31|0]|=1<<e%31}function me(t,e,i,n,u,a,r,l=[-1]){const s=V;Z(t);const o=t.$$={fragment:null,ctx:[],props:a,update:y,not_equal:u,bound:we(),on_mount:[],on_destroy:[],on_disconnect:[],before_update:[],after_update:[],context:new Map(e.context||(s?s.$$.context:[])),callbacks:we(),dirty:l,skip_bound:!1,root:e.target||s.$$.root};r&&r(o.root);let c=!1;if(o.ctx=i?i(t,e.props||{},(m,g,...p)=>{const v=p.length?p[0]:g;return o.ctx&&u(o.ctx[m],o.ctx[m]=v)&&(!o.skip_bound&&o.bound[m]&&o.bound[m](v),c&&We(t,m)),g}):[],o.update(),c=!0,O(o.before_update),o.fragment=n?n(o.ctx):!1,e.target){if(e.hydrate){const m=Oe(e.target);o.fragment&&o.fragment.l(m),m.forEach(P)}else o.fragment&&o.fragment.c();e.intro&&D(t.$$.fragment),te(t,e.target,e.anchor,e.customElement),$e()}Z(s)}class he{$destroy(){ie(this,1),this.$destroy=y}$on(e,i){if(!be(i))return y;const n=this.$$.callbacks[e]||(this.$$.callbacks[e]=[]);return n.push(i),()=>{const u=n.indexOf(i);u!==-1&&n.splice(u,1)}}$set(e){this.$$set&&!Ie(e)&&(this.$$.skip_bound=!0,this.$$set(e),this.$$.skip_bound=!1)}}const q=[];function De(t,e=y){let i;const n=new Set;function u(l){if(K(t,l)&&(t=l,i)){const s=!q.length;for(const o of n)o[1](),q.push(o,t);if(s){for(let o=0;o<q.length;o+=2)q[o][0](q[o+1]);q.length=0}}}function a(l){u(l(t))}function r(l,s=y){const o=[l,s];return n.add(o),n.size===1&&(i=e(u)||y),l(t),()=>{n.delete(o),n.size===0&&(i(),i=null)}}return{set:u,update:a,subscribe:r}}const Me=De({}),ne=De(\"absolute\"),pt=\"\";function je(t){let e,i,n,u,a,r,l,s,o,c,m,g,p,v,E,F,h,A,M,G,C,k,S,$,z,re=t[0].sampleCount+\"\",ve,Xe,oe,Qe,le,Ae,Ge;return{c(){e=_(\"div\"),i=_(\"div\"),n=_(\"div\"),u=_(\"div\"),u.textContent=\"pyinstrument\",a=b(),r=_(\"div\"),l=_(\"label\"),l.textContent=\"Absolute time\",s=b(),o=_(\"input\"),c=b(),m=_(\"div\"),m.textContent=\"Recorded:\",g=b(),p=_(\"div\"),p.textContent=`${t[2]}`,v=b(),E=_(\"div\"),E.textContent=\"Duration:\",F=b(),h=_(\"div\"),h.textContent=`${t[4]} seconds`,A=b(),M=_(\"label\"),M.textContent=\"Proportional time\",G=b(),C=_(\"input\"),k=b(),S=_(\"div\"),S.textContent=\"Samples:\",$=b(),z=_(\"div\"),ve=L(re),Xe=b(),oe=_(\"div\"),oe.textContent=\"CPU time:\",Qe=b(),le=_(\"div\"),le.textContent=`${t[3]} seconds`,d(u,\"class\",\"title svelte-tewt95\"),d(l,\"class\",\"metric-label svelte-tewt95\"),d(l,\"for\",\"absolute\"),d(o,\"type\",\"radio\"),o.__value=\"absolute\",o.value=o.__value,d(o,\"id\",\"absolute\"),d(o,\"name\",\"time-format\"),o.checked=!0,t[6][0].push(o),d(m,\"class\",\"metric-label svelte-tewt95\"),d(p,\"class\",\"metric-value svelte-tewt95\"),d(E,\"class\",\"metric-label svelte-tewt95\"),d(h,\"class\",\"metric-value svelte-tewt95\"),d(M,\"class\",\"metric-label svelte-tewt95\"),d(M,\"for\",\"proportion\"),d(C,\"type\",\"radio\"),C.__value=\"proportion\",C.value=C.__value,d(C,\"id\",\"proportion\"),d(C,\"name\",\"time-format\"),t[6][0].push(C),d(S,\"class\",\"metric-label svelte-tewt95\"),d(z,\"class\",\"metric-value svelte-tewt95\"),d(oe,\"class\",\"metric-label svelte-tewt95\"),d(le,\"class\",\"metric-value svelte-tewt95\"),d(r,\"class\",\"metrics svelte-tewt95\"),d(n,\"class\",\"row svelte-tewt95\"),d(i,\"class\",\"margins\"),d(e,\"class\",\"header svelte-tewt95\")},m(I,J){H(I,e,J),f(e,i),f(i,n),f(n,u),f(n,a),f(n,r),f(r,l),f(r,s),f(r,o),o.checked=o.__value===t[1],f(r,c),f(r,m),f(r,g),f(r,p),f(r,v),f(r,E),f(r,F),f(r,h),f(r,A),f(r,M),f(r,G),f(r,C),C.checked=C.__value===t[1],f(r,k),f(r,S),f(r,$),f(r,z),f(z,ve),f(r,Xe),f(r,oe),f(r,Qe),f(r,le),Ae||(Ge=[W(o,\"change\",t[5]),W(C,\"change\",t[7])],Ae=!0)},p(I,[J]){J&2&&(o.checked=o.__value===I[1]),J&2&&(C.checked=C.__value===I[1]),J&1&&re!==(re=I[0].sampleCount+\"\")&&U(ve,re)},i:y,o:y,d(I){I&&P(e),t[6][0].splice(t[6][0].indexOf(o),1),t[6][0].splice(t[6][0].indexOf(C),1),Ae=!1,O(Ge)}}}function xe(t,e,i){var m;let n;se(t,ne,g=>i(1,n=g));let{session:u}=e;const a=new Date(u.startTime*1e3).toLocaleString(),r=(m=u.cpuTime)==null?void 0:m.toLocaleString(void 0,{maximumSignificantDigits:3}),l=u.duration.toLocaleString(void 0,{maximumSignificantDigits:3}),s=[[]];function o(){n=this.__value,ne.set(n)}function c(){n=this.__value,ne.set(n)}return t.$$set=g=>{\"session\"in g&&i(0,u=g.session)},[u,n,a,r,l,o,s,c]}class et extends he{constructor(e){super(),me(this,e,xe,je,K,{session:0})}}const mt=\"\";function Pe(t,e,i){const n=t.slice();return n[14]=e[i],n}function Le(t){let e,i,n,u,a,r,l,s,o,c,m,g,p,v,E,F;return{c(){e=_(\"div\"),i=_(\"div\"),n=ke(\"svg\"),u=ke(\"path\"),a=b(),r=_(\"div\"),l=L(t[5]),s=b(),o=_(\"div\"),c=L(t[4]),m=b(),g=_(\"div\"),p=b(),v=_(\"div\"),v.textContent=`${t[9]}`,d(u,\"d\",\"M.937-.016L5.793 4.84.937 9.696z\"),d(u,\"fill\",t[7]),d(u,\"fill-rule\",\"evenodd\"),d(u,\"fill-opacity\",\".582\"),d(n,\"width\",\"6\"),d(n,\"height\",\"10\"),d(i,\"class\",\"frame-triangle svelte-1aphj50\"),X(i,\"rotate\",t[2]),T(i,\"visibility\",t[0].children.length>0?\"visible\":\"hidden\"),d(r,\"class\",\"time svelte-1aphj50\"),T(r,\"color\",t[7]),T(r,\"font-weight\",t[0].proportionOfTotal<.2?500:600),d(o,\"class\",\"name svelte-1aphj50\"),d(g,\"class\",\"spacer\"),T(g,\"flex\",\"1\"),d(v,\"class\",\"code-position svelte-1aphj50\"),d(e,\"class\",\"frame-description svelte-1aphj50\"),X(e,\"application-code\",t[0].isApplicationCode),X(e,\"children-visible\",t[2]),T(e,\"padding-left\",`${t[1]*35}px`)},m(h,A){H(h,e,A),f(e,i),f(i,n),f(n,u),f(e,a),f(e,r),f(r,l),f(e,s),f(e,o),f(o,c),f(e,m),f(e,g),f(e,p),f(e,v),E||(F=W(e,\"click\",Ee(Ce(t[10]))),E=!0)},p(h,A){A&128&&d(u,\"fill\",h[7]),A&4&&X(i,\"rotate\",h[2]),A&1&&T(i,\"visibility\",h[0].children.length>0?\"visible\":\"hidden\"),A&32&&U(l,h[5]),A&128&&T(r,\"color\",h[7]),A&1&&T(r,\"font-weight\",h[0].proportionOfTotal<.2?500:600),A&16&&U(c,h[4]),A&1&&X(e,\"application-code\",h[0].isApplicationCode),A&4&&X(e,\"children-visible\",h[2]),A&2&&T(e,\"padding-left\",`${h[1]*35}px`)},d(h){h&&P(e),E=!1,F()}}}function Ne(t){let e,i,n,u,a=t[0].group.frames.length+\"\",r,l,s,o,c,m;return{c(){e=_(\"div\"),i=_(\"div\"),n=_(\"div\"),n.innerHTML='<svg width=\"6\" height=\"10\"><path d=\"M.937-.016L5.793 4.84.937 9.696z\" fill=\"#FFF\" fill-rule=\"evenodd\" fill-opacity=\".582\"></path></svg>',u=b(),r=L(a),l=L(` frames hidden\n",
       "        (`),s=L(t[6]),o=L(\")\"),d(n,\"class\",\"group-triangle svelte-1aphj50\"),X(n,\"rotate\",t[8]),d(i,\"class\",\"group-header-button svelte-1aphj50\"),d(e,\"class\",\"group-header svelte-1aphj50\"),T(e,\"padding-left\",`${t[1]*35}px`)},m(g,p){H(g,e,p),f(e,i),f(i,n),f(i,u),f(i,r),f(i,l),f(i,s),f(i,o),c||(m=W(e,\"click\",Ee(Ce(t[11]))),c=!0)},p(g,p){p&256&&X(n,\"rotate\",g[8]),p&1&&a!==(a=g[0].group.frames.length+\"\")&&U(r,a),p&64&&U(s,g[6]),p&2&&T(e,\"padding-left\",`${g[1]*35}px`)},d(g){g&&P(e),c=!1,m()}}}function ze(t){let e=[],i=new Map,n,u,a=t[0].children;const r=l=>l[14].identifier;for(let l=0;l<a.length;l+=1){let s=Pe(t,a,l),o=r(s);i.set(o,e[l]=Be(o,s))}return{c(){for(let l=0;l<e.length;l+=1)e[l].c();n=ye()},m(l,s){for(let o=0;o<e.length;o+=1)e[o].m(l,s);H(l,n,s),u=!0},p(l,s){s&11&&(a=l[0].children,ce(),e=Ke(e,s,r,1,l,a,i,n.parentNode,Je,Be,n,Pe),de())},i(l){if(!u){for(let s=0;s<a.length;s+=1)D(e[s]);u=!0}},o(l){for(let s=0;s<e.length;s+=1)N(e[s]);u=!1},d(l){for(let s=0;s<e.length;s+=1)e[s].d(l);l&&P(n)}}}function Be(t,e){let i,n,u;return n=new He({props:{frame:e[14],indent:e[1]+(e[3]?1:0)}}),{key:t,first:null,c(){i=ye(),pe(n.$$.fragment),this.first=i},m(a,r){H(a,i,r),te(n,a,r),u=!0},p(a,r){e=a;const l={};r&1&&(l.frame=e[14]),r&10&&(l.indent=e[1]+(e[3]?1:0)),n.$set(l)},i(a){u||(D(n.$$.fragment,a),u=!0)},o(a){N(n.$$.fragment,a),u=!1},d(a){a&&P(i),ie(n,a)}}}function tt(t){let e,i,n,u,a,r,l=t[3]&&Le(t),s=t[0].group&&t[0].group.rootFrame==t[0]&&t[2]&&Ne(t),o=t[2]&&ze(t);return{c(){e=_(\"div\"),l&&l.c(),i=b(),s&&s.c(),n=b(),o&&o.c(),u=b(),a=_(\"div\"),d(a,\"class\",\"visual-guide\"),T(a,\"left\",`${t[1]*35+21}px`),T(a,\"backgroundColor\",t[7]),d(e,\"class\",\"frame svelte-1aphj50\")},m(c,m){H(c,e,m),l&&l.m(e,null),f(e,i),s&&s.m(e,null),f(e,n),o&&o.m(e,null),f(e,u),f(e,a),r=!0},p(c,[m]){c[3]?l?l.p(c,m):(l=Le(c),l.c(),l.m(e,i)):l&&(l.d(1),l=null),c[0].group&&c[0].group.rootFrame==c[0]&&c[2]?s?s.p(c,m):(s=Ne(c),s.c(),s.m(e,n)):s&&(s.d(1),s=null),c[2]?o?(o.p(c,m),m&4&&D(o,1)):(o=ze(c),o.c(),D(o,1),o.m(e,u)):o&&(ce(),N(o,1,1,()=>{o=null}),de()),m&2&&T(a,\"left\",`${c[1]*35+21}px`),m&128&&T(a,\"backgroundColor\",c[7])},i(c){r||(D(o),r=!0)},o(c){N(o),r=!1},d(c){c&&P(e),l&&l.d(),s&&s.d(),o&&o.d()}}}function it(t,e,i){let n,u,a;se(t,Me,h=>i(12,u=h)),se(t,ne,h=>i(13,a=h));let{frame:r}=e,{indent:l=0}=e,s=!0,o,c;r.className?c=`${r.className}.${r.function}`:c=r.function;const m=`${r.filePathShort}:${r.lineNo.toString().padEnd(4,\"\\xA0\")}`;let g,p=null;if(r.group){const h=r.group.libraries;h.length<4?p=h.join(\", \"):p=`${h[0]}, ${h[1]}, ${h[2]}...`}let v;r.proportionOfTotal>.6?v=\"#FF4159\":r.proportionOfTotal>.3?v=\"#F5A623\":r.proportionOfTotal>.2?v=\"#D8CB2A\":v=\"#7ED321\";function E(){i(2,s=!s)}function F(){Me.update(h=>{var A;return{...h,[(A=r.groupId)!=null?A:\"\"]:!n}})}return t.$$set=h=>{\"frame\"in h&&i(0,r=h.frame),\"indent\"in h&&i(1,l=h.indent)},t.$$.update=()=>{var h,A,M;if(t.$$.dirty&4097&&(r.group?u[(h=r.groupId)!=null?h:\"\"]||((A=r.group)==null?void 0:A.rootFrame)===r||r.children.filter(G=>!G.group).length>1?i(3,o=!0):i(3,o=!1):i(3,o=!0)),t.$$.dirty&8193)if(a===\"absolute\")i(5,g=r.time.toLocaleString(void 0,{minimumFractionDigits:3,maximumFractionDigits:3}));else if(a===\"proportion\")i(5,g=`${(r.proportionOfTotal*100).toLocaleString(void 0,{minimumFractionDigits:1,maximumFractionDigits:1})}%`);else throw new Error(\"unknown timeFormat\");t.$$.dirty&4097&&i(8,n=u[(M=r.groupId)!=null?M:\"\"]===!0)},[r,l,s,o,c,g,p,v,n,m,E,F,u,a]}class He extends he{constructor(e){super(),me(this,e,it,tt,K,{frame:0,indent:1})}}const nt=\"data:image/png;base64,iVBORw0KGgoAAAANSUhEUgAAACAAAAAgCAYAAABzenr0AAAABGdBTUEAALGPC/xhBQAAADhlWElmTU0AKgAAAAgAAYdpAAQAAAABAAAAGgAAAAAAAqACAAQAAAABAAAAIKADAAQAAAABAAAAIAAAAACPTkDJAAAFPklEQVRYCdWXu4skVRSHb3VXP2bcXUVMBkRMTVww2XQDExEEH4iKiUYGhuJEPgJhUSMzQQSDRVzETNDMTTfUwL/ARUwM1t3pV1WX33eqbnfP9MxOu5kHTt9T93F+v3vOubeqi7QhT1+58vhiVn1G19WiaQ6KIqVQOmyT+h9kuUxp2bAAtQkpij9pbw5G5fu/3br1x8ql4NW0+rVJzaN29nop9VUeCtoerXpMTj53g+AGcINR1YB3RIJMN6dIxd/luLxcZoftzltwAct+SiNGh2jJ84BnSQWJTeBNW2C0ZrvufrZA5y2JmuemWkfCjYq5IsC6q2iE2V0LuDdMaYxKZDxo+yS3JZkEY+5SsAU7P5q1qZNEAxnXGo0NubomQM4dWPnCMAU/fUCnoA7kFjPEPohuqfO6uc++0xKSVHUcHDbNwZpAeFyHyMcg408G16mSnwW3b5OEz3rtCAyJnHUQUSEFmMdki0CMmsNOX/gkpf1RSpf223Q43jC2MMw4tFWsjwHzBngsIOT6CaEf7wGKrTo/agFbH8oWAQdkWTF5htGntSDn2h2YBTal/9603Z2++swZ0+5BZIjdQwfUz5DcGwHVotSfdpYtAg7oUKzaycyo6PjmkA4cRmgBuf5zSj/80kbAuToaYHz9afdgCiCxJF3gpudfZampOyGnEwAwIkEbuROBXEauXZGdYzrEtFTTpx3zHGeewGoFcFxk2Cdlxempy8/oZyXm1KO3R14fIraPXEzpAnXgyVBmRMdjNgdVsqZgxLw9cl4C7m7N+d17pOqIuaj2LKetQzs1Ai3E+reRJip4CSnz2wPYHC9wFL66MYko9k8pwgmAU4hqbxZhO6tNXba321V8Uvruc4ZzGgQxErnFNszqItqC0DdpTtzfeqWJ21DwpRp5WkOdHwFJqM4UMLcdeB2AADPUkigSm00VOZixsOL8WfUB3oWd4ZWcT8CpgLz2XkoPX+IgEIU+q6K6QZqzqxoAr15vupqC8Air0wm7JwUL2AWJByIAuDXQEGZ1aegRASY4Ppq0AOZZIoZYsLh4zDsa4PSfeA+En/tGQMI5ZTe+xClhN+Q5z4b67TfZJeATiAQw4J4KwTzCOfT2nSb3JRALAJTEfKPQcrGBG5GwwCLMRCRAXcgiQY1IYD8ogbzuDd5qF7gL+p4ESM05Z//coWXH1oEE5oQkQPOi3EroDDk/Ai40Cp3SRE2AG+8MWyOk5h1j7ixnEogPD0dVcv/FVwXXLceKs20K5rCaFk06fKmOD424akkTXUFkVwanEtBZfH7hMK5eCEwBl0DNYHvJ0Idd4MHXr7djkGDtWQV3GqlTCRhybzqv1R4zbA/fXabRfhFAHkvflJO77XivuyElbRHG+h3yL6EtAu4iPkoF5q4veRn1ecEUAwYg0pSyQwAoRk3qz4p4DS+wawpxSVHoY9cobBHQtxBBBMBrN/rkvOEC6lF0hF/nKvaS31yE155btLVAFKIidbSDbBMI9HaluzjC4ZKQWHieBIcVPqvbyg/b503Dh91kTcB/LH4Z6wmNI8X2PnyxTkPSUI7JP7MjvE5hTrwDuO+rLvT2uXxnAXNNgL9LLHxdB16jOi24XgOEK68EyMKMb/uYRERol1w+FmRN67XrWonsKDdzRNPmXzPjbEXHxwWttsCcwpXki8cte91afP7zkdQuYch/zSizVv66ffvOwZNPfLus/YNSPMYuLkZIda66yw3NzwHMeCOBXcBNdVH8OBiXLx/7c5qJrFrK/GOYfETH97Sr/jOM38FnvodDGv8f+Rcj1XBLIcDKAQAAAABJRU5ErkJggg==\",ht=\"\";function rt(t){let e;return{c(){e=_(\"div\"),e.textContent=\"No samples recorded.\",d(e,\"class\",\"error\")},m(i,n){H(i,e,n)},p:y,i:y,o:y,d(i){i&&P(e)}}}function ot(t){let e,i;return e=new He({props:{frame:t[0].rootFrame}}),{c(){pe(e.$$.fragment)},m(n,u){te(e,n,u),i=!0},p(n,u){const a={};u&1&&(a.frame=n[0].rootFrame),e.$set(a)},i(n){i||(D(e.$$.fragment,n),i=!0)},o(n){N(e.$$.fragment,n),i=!1},d(n){ie(e,n)}}}function lt(t){let e,i,n,u,a,r,l,s,o;i=new et({props:{session:t[0]}});const c=[ot,rt],m=[];function g(p,v){return p[0].rootFrame?0:1}return l=g(t),s=m[l]=c[l](t),{c(){e=_(\"div\"),pe(i.$$.fragment),n=b(),u=_(\"div\"),a=b(),r=_(\"div\"),s.c(),d(u,\"class\",\"spacer\"),T(u,\"height\",\"20px\"),d(r,\"class\",\"margins\"),d(e,\"class\",\"app svelte-rmu4zi\")},m(p,v){H(p,e,v),te(i,e,null),f(e,n),f(e,u),f(e,a),f(e,r),m[l].m(r,null),o=!0},p(p,[v]){const E={};v&1&&(E.session=p[0]),i.$set(E);let F=l;l=g(p),l===F?m[l].p(p,v):(ce(),N(m[F],1,1,()=>{m[F]=null}),de(),s=m[l],s?s.p(p,v):(s=m[l]=c[l](p),s.c()),D(s,1),s.m(r,null))},i(p){o||(D(i.$$.fragment,p),D(s),o=!0)},o(p){N(i.$$.fragment,p),N(s),o=!1},d(p){p&&P(e),ie(i),m[l].d()}}}function ge(){document.body.style.minHeight=`${window.scrollY+window.innerHeight}px`}function st(t,e,i){let{session:n}=e;const u=document.createElement(\"link\");u.rel=\"shortut icon\",u.href=nt,document.head.appendChild(u),qe(()=>{window.addEventListener(\"scroll\",ge),ge()}),Ue(()=>{window.removeEventListener(\"scroll\",ge)});const a=n.rootFrame,r=a==null?void 0:a.time.toLocaleString(void 0,{maximumSignificantDigits:3});let l=a==null?void 0:a.function;return l==\"<module>\"&&(l=n.program),document.title=`${r}s - ${l} - pyinstrument`,t.$$set=s=>{\"session\"in s&&i(0,n=s.session)},[n]}class ut extends he{constructor(e){super(),me(this,e,st,lt,K,{session:0})}}class at{constructor(e,i){w(this,\"id\");w(this,\"rootFrame\");w(this,\"frames\",[]);this.id=e,this.rootFrame=i}addFrame(e){this.frames.push(e)}get exitFrames(){const e=[];for(const i of this.frames){let n=!1;for(const u of i.children)if(u.group!=this){n=!0;break}n&&e.push(i)}return e}get libraries(){const e=[];for(const i of this.frames){const n=/^[^\\\\/.]*/.exec(i.filePathShort)[0];e.includes(n)||e.push(n)}return e}}class _e{constructor(e,i=null,n={groups:{}}){w(this,\"function\");w(this,\"filePath\");w(this,\"filePathShort\");w(this,\"lineNo\");w(this,\"time\");w(this,\"totalTime\");w(this,\"awaitTime\");w(this,\"isApplicationCode\");w(this,\"groupId\");w(this,\"className\");w(this,\"parent\");w(this,\"children\");w(this,\"group\");var u,a;if(this.parent=i,this.function=e.function,this.filePath=e.file_path,this.filePathShort=e.file_path_short,this.lineNo=e.line_no,this.time=e.time,this.totalTime=this.parent?this.parent.totalTime:this.time,this.awaitTime=e.await_time,this.isApplicationCode=e.is_application_code,this.groupId=(u=e.group_id)!=null?u:null,this.className=(a=e.class_name)!=null?a:null,e.group_id){const r=e.group_id;let l=n.groups[r];l||(l=n.groups[r]=new at(r,this)),l.addFrame(this),this.group=n.groups[r]}else this.group=null;this.children=e.children.map(r=>new _e(r,this,n))}get identifier(){return`${this.function}:${this.filePath}:${this.lineNo}`}get proportionOfTotal(){return this.time/this.totalTime}}class ft{constructor(e){w(this,\"startTime\");w(this,\"duration\");w(this,\"sampleCount\");w(this,\"program\");w(this,\"cpuTime\");w(this,\"rootFrame\");this.startTime=e.start_time,this.duration=e.duration,this.sampleCount=e.sample_count,this.program=e.program,this.cpuTime=e.cpu_time,this.rootFrame=e.root_frame?new _e(e.root_frame):null}}return{render(t,e){const i=new ft(e);return new ut({target:t,props:{session:i}})}}}();\n",
       "</script>\n",
       "                <style>@import\"https://fonts.googleapis.com/css?family=Source+Code+Pro:400,600|Source+Sans+Pro:400,600\";html,body{background-color:#303538;color:#fff;padding:0;margin:0}.margins{padding:0 30px}.header.svelte-tewt95{background:#292f32}.row.svelte-tewt95{display:flex;align-items:center}.title.svelte-tewt95{font-size:34px;padding-top:20px;padding-bottom:16px;white-space:nowrap;overflow:hidden;text-overflow:ellipsis;margin-right:10px;flex:1}.metrics.svelte-tewt95{display:grid;grid-template-columns:auto auto auto auto auto auto;font-size:14px;text-transform:uppercase;grid-gap:1px 8px}.metric-label.svelte-tewt95{font-weight:600;color:#a9abad}.metric-value.svelte-tewt95{color:#737779;margin-right:.5em}.frame.svelte-1aphj50.svelte-1aphj50{font-family:Source Code Pro,Roboto Mono,Consolas,Monaco,monospace;font-size:15px;z-index:0;position:relative;user-select:none}.group-header.svelte-1aphj50.svelte-1aphj50{margin-left:35px}.group-header-button.svelte-1aphj50.svelte-1aphj50{display:inline-block;color:#ffffff94;user-select:none;cursor:default;position:relative}.group-header-button.svelte-1aphj50.svelte-1aphj50:before{position:absolute;left:-3px;right:-3px;top:0px;bottom:-1px;content:\"\";z-index:-1;background-color:#3b4043}.group-header-button.svelte-1aphj50.svelte-1aphj50:hover:before{background-color:#4a4f54}.group-triangle.svelte-1aphj50.svelte-1aphj50,.frame-triangle.svelte-1aphj50.svelte-1aphj50{width:6px;height:10px;padding-left:6px;padding-right:5px;display:inline-block}.group-triangle.rotate.svelte-1aphj50.svelte-1aphj50,.frame-triangle.rotate.svelte-1aphj50.svelte-1aphj50{transform:translate(6px,4px) rotate(90deg)}.frame-description.svelte-1aphj50.svelte-1aphj50{display:flex}.frame-description.svelte-1aphj50.svelte-1aphj50:hover:before{position:absolute;left:-3px;right:-3px;top:-1px;height:22px;content:\"\";z-index:-1;background-color:#354759;opacity:.5}.frame-triangle.svelte-1aphj50.svelte-1aphj50{opacity:1}.frame-description.children-visible.svelte-1aphj50 .frame-triangle.svelte-1aphj50{opacity:0}.frame-description.children-visible.svelte-1aphj50:hover .frame-triangle.svelte-1aphj50{opacity:1}.name.svelte-1aphj50.svelte-1aphj50,.time.svelte-1aphj50.svelte-1aphj50,.code-position.svelte-1aphj50.svelte-1aphj50{user-select:text;cursor:default}.application-code.svelte-1aphj50 .name.svelte-1aphj50{color:#5db3ff}.time.svelte-1aphj50.svelte-1aphj50{margin-right:.55em;color:#b8e98685}.code-position.svelte-1aphj50.svelte-1aphj50{color:#ffffff80;text-align:right;margin-left:1em}.visual-guide{top:21px;bottom:0;left:0;width:2px;background-color:#fff;position:absolute;opacity:.08}.frame-description:hover~.visual-guide{opacity:.4}.frame-description:hover~.children .visual-guide{opacity:.1}.app.svelte-rmu4zi{font-family:Source Sans Pro,Helvetica,Arial,sans-serif;-webkit-font-smoothing:antialiased;-moz-osx-font-smoothing:grayscale}\n",
       "</style>\n",
       "\n",
       "                <script>\n",
       "                    const sessionData = {\"start_time\": 1693495091.897440,\"duration\": 10.832517,\"sample_count\": 6284,\"program\": \"/home/xadupre/.venv/lib/python3.10/site-packages/ipykernel_launcher.py --ip=127.0.0.1 --stdin=9043 --control=9041 --hb=9040 --Session.signature_scheme=\\\"hmac-sha256\\\" --Session.key=b\\\"e12ec89c-57d8-46af-a6db-8c990a0a2543\\\" --shell=9042 --transport=\\\"tcp\\\" --iopub=9044 --f=/home/xadupre/.local/share/jupyter/runtime/kernel-v2-9370woLQitsxWvI.json\",\"cpu_time\": 10.832751,\"root_frame\": {\"function\": \"run_ast_nodes\",\"file_path_short\": \"IPython/core/interactiveshell.py\",\"file_path\": \"/home/xadupre/.venv/lib/python3.10/site-packages/IPython/core/interactiveshell.py\",\"line_no\": 3349,\"time\": 10.830704,\"await_time\": 0.000000,\"is_application_code\": false,\"children\": [{\"function\": \"<module>\",\"file_path_short\": \"../../../tmp/ipykernel_23329/2122459359.py\",\"file_path\": \"/tmp/ipykernel_23329/2122459359.py\",\"line_no\": 1,\"time\": 10.829567,\"await_time\": 0.000000,\"is_application_code\": true,\"children\": [{\"function\": \"gini\",\"file_path_short\": \"../../../tmp/ipykernel_23329/1359775409.py\",\"file_path\": \"/tmp/ipykernel_23329/1359775409.py\",\"line_no\": 31,\"time\": 5.350893,\"await_time\": 0.000000,\"is_application_code\": true,\"children\": [{\"function\": \"_gini_cumsum\",\"file_path_short\": \"../../../tmp/ipykernel_23329/1359775409.py\",\"file_path\": \"/tmp/ipykernel_23329/1359775409.py\",\"line_no\": 9,\"time\": 2.965502,\"await_time\": 0.000000,\"is_application_code\": true,\"children\": [{\"function\": \"[self]\",\"file_path_short\": \"../../../tmp/ipykernel_23329/1359775409.py\",\"file_path\": \"\",\"line_no\": 0,\"time\": 2.888140,\"await_time\": 0.000000,\"is_application_code\": false,\"children\": []}]},{\"function\": \"_gini_final\",\"file_path_short\": \"../../../tmp/ipykernel_23329/1359775409.py\",\"file_path\": \"/tmp/ipykernel_23329/1359775409.py\",\"line_no\": 19,\"time\": 1.496493,\"await_time\": 0.000000,\"is_application_code\": true,\"children\": [{\"function\": \"[self]\",\"file_path_short\": \"../../../tmp/ipykernel_23329/1359775409.py\",\"file_path\": \"\",\"line_no\": 0,\"time\": 1.495491,\"await_time\": 0.000000,\"is_application_code\": false,\"children\": []}]},{\"function\": \"_gini_init\",\"file_path_short\": \"../../../tmp/ipykernel_23329/1359775409.py\",\"file_path\": \"/tmp/ipykernel_23329/1359775409.py\",\"line_no\": 5,\"time\": 0.705217,\"await_time\": 0.000000,\"is_application_code\": true,\"children\": [{\"function\": \"<listcomp>\",\"file_path_short\": \"../../../tmp/ipykernel_23329/1359775409.py\",\"file_path\": \"/tmp/ipykernel_23329/1359775409.py\",\"line_no\": 6,\"time\": 0.644044,\"await_time\": 0.000000,\"is_application_code\": true,\"children\": []}]},{\"function\": \"[self]\",\"file_path_short\": \"../../../tmp/ipykernel_23329/1359775409.py\",\"file_path\": \"\",\"line_no\": 0,\"time\": 0.150010,\"await_time\": 0.000000,\"is_application_code\": false,\"children\": []}]},{\"function\": \"gini_faster\",\"file_path_short\": \"../../../tmp/ipykernel_23329/1862792531.py\",\"file_path\": \"/tmp/ipykernel_23329/1862792531.py\",\"line_no\": 16,\"time\": 4.710270,\"await_time\": 0.000000,\"is_application_code\": true,\"children\": [{\"function\": \"_gini_cumsum\",\"file_path_short\": \"../../../tmp/ipykernel_23329/1359775409.py\",\"file_path\": \"/tmp/ipykernel_23329/1359775409.py\",\"line_no\": 9,\"time\": 2.983680,\"await_time\": 0.000000,\"is_application_code\": true,\"children\": [{\"function\": \"[self]\",\"file_path_short\": \"../../../tmp/ipykernel_23329/1359775409.py\",\"file_path\": \"\",\"line_no\": 0,\"time\": 2.891722,\"await_time\": 0.000000,\"is_application_code\": false,\"children\": []}]},{\"function\": \"_gini_final_faster\",\"file_path_short\": \"../../../tmp/ipykernel_23329/1862792531.py\",\"file_path\": \"/tmp/ipykernel_23329/1862792531.py\",\"line_no\": 1,\"time\": 0.807612,\"await_time\": 0.000000,\"is_application_code\": true,\"children\": [{\"function\": \"[self]\",\"file_path_short\": \"../../../tmp/ipykernel_23329/1862792531.py\",\"file_path\": \"\",\"line_no\": 0,\"time\": 0.803833,\"await_time\": 0.000000,\"is_application_code\": false,\"children\": []}]},{\"function\": \"_gini_init\",\"file_path_short\": \"../../../tmp/ipykernel_23329/1359775409.py\",\"file_path\": \"/tmp/ipykernel_23329/1359775409.py\",\"line_no\": 5,\"time\": 0.714972,\"await_time\": 0.000000,\"is_application_code\": true,\"children\": [{\"function\": \"<listcomp>\",\"file_path_short\": \"../../../tmp/ipykernel_23329/1359775409.py\",\"file_path\": \"/tmp/ipykernel_23329/1359775409.py\",\"line_no\": 6,\"time\": 0.663392,\"await_time\": 0.000000,\"is_application_code\": true,\"children\": []}]},{\"function\": \"[self]\",\"file_path_short\": \"../../../tmp/ipykernel_23329/1862792531.py\",\"file_path\": \"\",\"line_no\": 0,\"time\": 0.157090,\"await_time\": 0.000000,\"is_application_code\": false,\"children\": []}]},{\"function\": \"[self]\",\"file_path_short\": \"../../../tmp/ipykernel_23329/2122459359.py\",\"file_path\": \"\",\"line_no\": 0,\"time\": 0.387217,\"await_time\": 0.000000,\"is_application_code\": false,\"children\": []},{\"function\": \"<listcomp>\",\"file_path_short\": \"../../../tmp/ipykernel_23329/2122459359.py\",\"file_path\": \"/tmp/ipykernel_23329/2122459359.py\",\"line_no\": 8,\"time\": 0.215180,\"await_time\": 0.000000,\"is_application_code\": true,\"children\": []},{\"function\": \"<listcomp>\",\"file_path_short\": \"../../../tmp/ipykernel_23329/2122459359.py\",\"file_path\": \"/tmp/ipykernel_23329/2122459359.py\",\"line_no\": 9,\"time\": 0.166006,\"await_time\": 0.000000,\"is_application_code\": true,\"children\": []}]}],\"class_name\": \"ZMQInteractiveShell\"}}\n",
       ";\n",
       "                    pyinstrumentHTMLRenderer.render(document.getElementById('app'), sessionData);\n",
       "                </script>\n",
       "            </body>\n",
       "            </html>\n",
       "        "
      ],
      "text/plain": [
       "<IPython.core.display.HTML object>"
      ]
     },
     "execution_count": 9,
     "metadata": {},
     "output_type": "execute_result"
    }
   ],
   "source": [
    "from pyinstrument import Profiler\n",
    "from IPython.display import HTML\n",
    "\n",
    "profiler = Profiler()\n",
    "profiler.start()\n",
    "\n",
    "for i in range(1000):\n",
    "    gini([1 for i in range(1000)])\n",
    "    gini_faster([1 for i in range(1000)])\n",
    "\n",
    "profiler.stop()\n",
    "\n",
    "HTML(profiler.output_html())"
   ]
  },
  {
   "cell_type": "markdown",
   "metadata": {},
   "source": [
    "C'est plus facile à lire."
   ]
  },
  {
   "cell_type": "markdown",
   "metadata": {},
   "source": [
    "### Exercice 5 : la fonction _gini_cumsum contient deux boucles. Quelle est la plus rapide ?\n",
    "\n",
    "Pour ce faire, on découpe la fonction en deux."
   ]
  },
  {
   "cell_type": "code",
   "execution_count": 10,
   "metadata": {},
   "outputs": [
    {
     "data": {
      "text/plain": [
       "(0.5, 0.9)"
      ]
     },
     "execution_count": 10,
     "metadata": {},
     "output_type": "execute_result"
    }
   ],
   "source": [
    "def _gini_cumsum2a(couples):\n",
    "    for i in range(1, len(couples)):\n",
    "        couples[i][0] += couples[i - 1][0]\n",
    "        couples[i][1] += couples[i - 1][1]\n",
    "    return couples\n",
    "\n",
    "\n",
    "def _gini_cumsum2b(couples):\n",
    "    for i in range(0, len(couples)):\n",
    "        couples[i][0] /= couples[-1][0]\n",
    "        couples[i][1] /= couples[-1][1]\n",
    "    return couples\n",
    "\n",
    "\n",
    "def _gini_cumsum2(couples):\n",
    "    _gini_cumsum2a(couples)\n",
    "    _gini_cumsum2b(couples)\n",
    "    return couples\n",
    "\n",
    "\n",
    "def gini2(Y):\n",
    "    Y = _gini_sort(Y)\n",
    "    couples = _gini_init(Y)\n",
    "    couples = _gini_cumsum2(couples)\n",
    "    return _gini_final(couples)\n",
    "\n",
    "\n",
    "gini2([1, 1, 1, 1, 1]), gini2([0, 0, 0, 0, 100000])"
   ]
  },
  {
   "cell_type": "code",
   "execution_count": 11,
   "metadata": {},
   "outputs": [
    {
     "name": "stdout",
     "output_type": "stream",
     "text": [
      "     1000    0.023    0.000    3.580    0.004 /tmp/ipykernel_23329/239060152.py:21(gini2)\n",
      "     1000    0.024    0.000    3.124    0.003 /tmp/ipykernel_23329/1862792531.py:16(gini_faster)\n",
      "     1000    0.015    0.000    1.926    0.002 /tmp/ipykernel_23329/239060152.py:15(_gini_cumsum2)\n",
      "     1000    1.898    0.002    1.905    0.002 /tmp/ipykernel_23329/1359775409.py:9(_gini_cumsum)\n",
      "     2000    0.013    0.000    1.057    0.001 /tmp/ipykernel_23329/1359775409.py:5(_gini_init)\n",
      "     1000    1.040    0.001    1.042    0.001 /tmp/ipykernel_23329/1359775409.py:19(_gini_final)\n",
      "     1000    1.001    0.001    1.004    0.001 /tmp/ipykernel_23329/239060152.py:1(_gini_cumsum2a)\n",
      "     1000    0.905    0.001    0.908    0.001 /tmp/ipykernel_23329/239060152.py:8(_gini_cumsum2b)\n",
      "     1000    0.649    0.001    0.651    0.001 /tmp/ipykernel_23329/1862792531.py:1(_gini_final_faster)\n",
      "     2000    0.030    0.000    0.076    0.000 /tmp/ipykernel_23329/1359775409.py:1(_gini_sort)\n"
     ]
    }
   ],
   "source": [
    "import cProfile, pstats, io\n",
    "from pstats import SortKey\n",
    "\n",
    "pr = cProfile.Profile()\n",
    "pr.enable()\n",
    "\n",
    "for i in range(1000):\n",
    "    gini2([1 for i in range(1000)])\n",
    "    gini_faster([1 for i in range(1000)])\n",
    "\n",
    "pr.disable()\n",
    "s = io.StringIO()\n",
    "sortby = SortKey.CUMULATIVE\n",
    "ps = pstats.Stats(pr, stream=s).sort_stats(sortby)\n",
    "ps.print_stats()\n",
    "print(filtre(s.getvalue()))"
   ]
  },
  {
   "cell_type": "markdown",
   "metadata": {},
   "source": [
    "Elles sont aussi rapides l'une que l'autre. On peut néanmoins en accélérer une puisqu'on divise tous les éléments d'un tableau par une même valeur. On peut la stocker dans une variable plutôt que d'aller la chercher à chaque fois dans le tableau."
   ]
  },
  {
   "cell_type": "code",
   "execution_count": 12,
   "metadata": {},
   "outputs": [
    {
     "data": {
      "text/plain": [
       "(0.5, 0.9)"
      ]
     },
     "execution_count": 12,
     "metadata": {},
     "output_type": "execute_result"
    }
   ],
   "source": [
    "def _gini_cumsum3b(couples):\n",
    "    total0 = couples[-1][0]\n",
    "    total1 = couples[-1][1]\n",
    "    for i in range(0, len(couples)):\n",
    "        couples[i][0] /= total0\n",
    "        couples[i][1] /= total1\n",
    "    return couples\n",
    "\n",
    "\n",
    "def _gini_cumsum3(couples):\n",
    "    _gini_cumsum2a(couples)\n",
    "    _gini_cumsum3b(couples)\n",
    "    return couples\n",
    "\n",
    "\n",
    "def gini3(Y):\n",
    "    Y = _gini_sort(Y)\n",
    "    couples = _gini_init(Y)\n",
    "    couples = _gini_cumsum3(couples)\n",
    "    return _gini_final(couples)\n",
    "\n",
    "\n",
    "gini2([1, 1, 1, 1, 1]), gini2([0, 0, 0, 0, 100000])"
   ]
  },
  {
   "cell_type": "code",
   "execution_count": 13,
   "metadata": {},
   "outputs": [
    {
     "name": "stdout",
     "output_type": "stream",
     "text": [
      "     1000    0.022    0.000    3.461    0.003 /tmp/ipykernel_23329/239060152.py:21(gini2)\n",
      "     1000    0.022    0.000    3.302    0.003 /tmp/ipykernel_23329/1743022160.py:16(gini3)\n",
      "     2000    2.059    0.001    2.064    0.001 /tmp/ipykernel_23329/1359775409.py:19(_gini_final)\n",
      "     2000    2.004    0.001    2.009    0.001 /tmp/ipykernel_23329/239060152.py:1(_gini_cumsum2a)\n",
      "     1000    0.013    0.000    1.921    0.002 /tmp/ipykernel_23329/239060152.py:15(_gini_cumsum2)\n",
      "     1000    0.018    0.000    1.739    0.002 /tmp/ipykernel_23329/1743022160.py:10(_gini_cumsum3)\n",
      "     1000    0.917    0.001    0.919    0.001 /tmp/ipykernel_23329/239060152.py:8(_gini_cumsum2b)\n",
      "     2000    0.012    0.000    0.919    0.000 /tmp/ipykernel_23329/1359775409.py:5(_gini_init)\n",
      "     1000    0.699    0.001    0.701    0.001 /tmp/ipykernel_23329/1743022160.py:1(_gini_cumsum3b)\n",
      "     2000    0.028    0.000    0.077    0.000 /tmp/ipykernel_23329/1359775409.py:1(_gini_sort)\n"
     ]
    }
   ],
   "source": [
    "import cProfile, pstats, io\n",
    "from pstats import SortKey\n",
    "\n",
    "pr = cProfile.Profile()\n",
    "pr.enable()\n",
    "\n",
    "for i in range(1000):\n",
    "    gini2([1 for i in range(1000)])\n",
    "    gini3([1 for i in range(1000)])\n",
    "\n",
    "pr.disable()\n",
    "s = io.StringIO()\n",
    "sortby = SortKey.CUMULATIVE\n",
    "ps = pstats.Stats(pr, stream=s).sort_stats(sortby)\n",
    "ps.print_stats()\n",
    "print(filtre(s.getvalue()))"
   ]
  },
  {
   "cell_type": "markdown",
   "metadata": {},
   "source": [
    "C'est mieux même si l'amélioration ne paraît pas nécessairement significative par rapport au temps total, le résultat l'est si on regarde le temps fonction par fonction."
   ]
  },
  {
   "cell_type": "code",
   "execution_count": null,
   "metadata": {},
   "outputs": [],
   "source": []
  }
 ],
 "metadata": {
  "kernelspec": {
   "display_name": "Python 3",
   "language": "python",
   "name": "python3"
  },
  "language_info": {
   "codemirror_mode": {
    "name": "ipython",
    "version": 3
   },
   "file_extension": ".py",
   "mimetype": "text/x-python",
   "name": "python",
   "nbconvert_exporter": "python",
   "pygments_lexer": "ipython3",
   "version": "3.10.12"
  }
 },
 "nbformat": 4,
 "nbformat_minor": 1
}
