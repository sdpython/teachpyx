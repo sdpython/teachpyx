{
 "cells": [
  {
   "cell_type": "markdown",
   "metadata": {},
   "source": [
    "# D'une structure de données à l'autre\n",
    "\n",
    "Ce notebook s'amuse à passer d'une structure de données à une autre, d'une liste à un dictionnaire, d'une liste de liste à un dictionnaire, avec toujours les mêmes données : [list](https://sdpython.github.io/doc/teachpyx/dev/py/c_lang/types.html#liste), [dict](https://sdpython.github.io/doc/teachpyx/dev/py/c_lang/types.html#dictionnaire), [tuple](https://sdpython.github.io/doc/teachpyx/dev/py/c_lang/types.html#tuple)."
   ]
  },
  {
   "cell_type": "markdown",
   "metadata": {},
   "source": [
    "## histogramme et dictionnaire"
   ]
  },
  {
   "cell_type": "markdown",
   "metadata": {},
   "source": [
    "### liste à dictionnaire\n",
    "\n",
    "Un histogramme est le moyen le plus simple de calculer la distribution d'une variable, de compter la fréquence des éléments d'une liste."
   ]
  },
  {
   "cell_type": "code",
   "execution_count": 2,
   "metadata": {},
   "outputs": [
    {
     "data": {
      "text/plain": [
       "{'a': 1, 'b': 2, 'gh': 2, 'er': 1}"
      ]
     },
     "execution_count": 2,
     "metadata": {},
     "output_type": "execute_result"
    }
   ],
   "source": [
    "ens = [\"a\", \"b\", \"gh\", \"er\", \"b\", \"gh\"]\n",
    "hist = {}\n",
    "for e in ens:\n",
    "    hist[e] = hist.get(e, 0) + 1\n",
    "hist"
   ]
  },
  {
   "cell_type": "markdown",
   "metadata": {},
   "source": [
    "La méthode [get](https://docs.python.org/3/library/stdtypes.html?highlight=get#dict.get) comme beaucoup de fonctions implémente un besoin fréquent. Elle regarde si une clé appartient au dictionnaire, retourne la valeur associée ou une valeur par défault dans le cas contraire. Sans utiliser cette méthode, le code précédent devient :"
   ]
  },
  {
   "cell_type": "code",
   "execution_count": 3,
   "metadata": {},
   "outputs": [
    {
     "data": {
      "text/plain": [
       "{'a': 1, 'b': 2, 'gh': 2, 'er': 1}"
      ]
     },
     "execution_count": 3,
     "metadata": {},
     "output_type": "execute_result"
    }
   ],
   "source": [
    "ens = [\"a\", \"b\", \"gh\", \"er\", \"b\", \"gh\"]\n",
    "hist = {}\n",
    "for e in ens:\n",
    "    if e in hist:\n",
    "        hist[e] += 1\n",
    "    else:\n",
    "        hist[e] = 1\n",
    "hist"
   ]
  },
  {
   "cell_type": "markdown",
   "metadata": {},
   "source": [
    "Il existe également la fonction [Counter](https://docs.python.org/fr/3/library/collections.html?highlight=counter#collections.Counter) qui fait cela."
   ]
  },
  {
   "cell_type": "code",
   "execution_count": 4,
   "metadata": {},
   "outputs": [
    {
     "data": {
      "text/plain": [
       "Counter({'b': 2, 'gh': 2, 'a': 1, 'er': 1})"
      ]
     },
     "execution_count": 4,
     "metadata": {},
     "output_type": "execute_result"
    }
   ],
   "source": [
    "from collections import Counter\n",
    "\n",
    "ens = [\"a\", \"b\", \"gh\", \"er\", \"b\", \"gh\"]\n",
    "hist = Counter(ens)\n",
    "hist"
   ]
  },
  {
   "cell_type": "markdown",
   "metadata": {},
   "source": [
    "### dictionnaire à liste\n",
    "\n",
    "A priori l'histogramme représente la même information que la liste initiale `ens`. Il doit exister un moyen de recontruire la liste initiale."
   ]
  },
  {
   "cell_type": "code",
   "execution_count": 5,
   "metadata": {},
   "outputs": [
    {
     "data": {
      "text/plain": [
       "['a', 'b', 'b', 'er', 'gh', 'gh']"
      ]
     },
     "execution_count": 5,
     "metadata": {},
     "output_type": "execute_result"
    }
   ],
   "source": [
    "hist = {\"a\": 1, \"b\": 2, \"er\": 1, \"gh\": 2}\n",
    "ens = []\n",
    "for k, v in hist.items():\n",
    "    for i in range(v):\n",
    "        ens.append(k)\n",
    "ens"
   ]
  },
  {
   "cell_type": "markdown",
   "metadata": {},
   "source": [
    "La liste initiale est retrouvée excepté l'ordre qui est différent. Les éléments identiques sont côte à côte. La méthode [items](https://docs.python.org/3/library/stdtypes.html?highlight=get#dict.items) retourne des couples `(clé, valeur)` ou plutôt une vue, c'est-à-dire une façon de parcourir un ensemble."
   ]
  },
  {
   "cell_type": "code",
   "execution_count": 6,
   "metadata": {},
   "outputs": [
    {
     "data": {
      "text/plain": [
       "dict_items([('a', 1), ('b', 2), ('er', 1), ('gh', 2)])"
      ]
     },
     "execution_count": 6,
     "metadata": {},
     "output_type": "execute_result"
    }
   ],
   "source": [
    "hist.items()"
   ]
  },
  {
   "cell_type": "markdown",
   "metadata": {},
   "source": [
    "Pour vérifier que la méthode [items](https://docs.python.org/3/library/stdtypes.html?highlight=get#dict.items) ne retourne pas un ensemble mais une façon de parcourir un ensemble, on regarde sa taille avec la fonction [getsizeof](https://docs.python.org/3/library/sys.html?highlight=getsizeof#sys.getsizeof) :"
   ]
  },
  {
   "cell_type": "code",
   "execution_count": 7,
   "metadata": {},
   "outputs": [
    {
     "data": {
      "text/plain": [
       "(120, 232, 40)"
      ]
     },
     "execution_count": 7,
     "metadata": {},
     "output_type": "execute_result"
    }
   ],
   "source": [
    "import sys\n",
    "\n",
    "vue = hist.items()\n",
    "sys.getsizeof(ens), sys.getsizeof(hist), sys.getsizeof(vue)"
   ]
  },
  {
   "cell_type": "markdown",
   "metadata": {},
   "source": [
    "Et pour un dictionnaire plus grand, la taille du dictionnaire."
   ]
  },
  {
   "cell_type": "code",
   "execution_count": 8,
   "metadata": {},
   "outputs": [
    {
     "data": {
      "text/plain": [
       "(36960, 40)"
      ]
     },
     "execution_count": 8,
     "metadata": {},
     "output_type": "execute_result"
    }
   ],
   "source": [
    "d = {i: i for i in range(1000)}\n",
    "sys.getsizeof(d), sys.getsizeof(d.items())"
   ]
  },
  {
   "cell_type": "markdown",
   "metadata": {},
   "source": [
    "On peut ne pas utiliser la méthode [items](https://docs.python.org/3/library/stdtypes.html?highlight=get#dict.items) :"
   ]
  },
  {
   "cell_type": "code",
   "execution_count": 9,
   "metadata": {},
   "outputs": [
    {
     "data": {
      "text/plain": [
       "['a', 'b', 'b', 'er', 'gh', 'gh']"
      ]
     },
     "execution_count": 9,
     "metadata": {},
     "output_type": "execute_result"
    }
   ],
   "source": [
    "hist = {\"a\": 1, \"b\": 2, \"er\": 1, \"gh\": 2}\n",
    "ens = []\n",
    "for k in hist:\n",
    "    v = hist[k]\n",
    "    for i in range(v):\n",
    "        ens.append(k)\n",
    "ens"
   ]
  },
  {
   "cell_type": "markdown",
   "metadata": {},
   "source": [
    "### dictionnaire et deux listes\n",
    "\n",
    "Cette fois-ci, on met les clés d'un côté et les valeurs de l'autre."
   ]
  },
  {
   "cell_type": "code",
   "execution_count": 10,
   "metadata": {},
   "outputs": [
    {
     "data": {
      "text/plain": [
       "(['a', 'b', 'er', 'gh'], [1, 2, 1, 2])"
      ]
     },
     "execution_count": 10,
     "metadata": {},
     "output_type": "execute_result"
    }
   ],
   "source": [
    "hist = {\"a\": 1, \"b\": 2, \"er\": 1, \"gh\": 2}\n",
    "cles = [k for k in hist]\n",
    "vals = [hist[k] for k in hist]\n",
    "cles, vals"
   ]
  },
  {
   "cell_type": "markdown",
   "metadata": {},
   "source": [
    "On peut écrire aussi ce programme "
   ]
  },
  {
   "cell_type": "code",
   "execution_count": 11,
   "metadata": {},
   "outputs": [
    {
     "data": {
      "text/plain": [
       "(['a', 'b', 'er', 'gh'], [1, 2, 1, 2])"
      ]
     },
     "execution_count": 11,
     "metadata": {},
     "output_type": "execute_result"
    }
   ],
   "source": [
    "hist = {\"a\": 1, \"b\": 2, \"er\": 1, \"gh\": 2}\n",
    "cles = list(hist.keys())\n",
    "vals = list(hist.values())\n",
    "cles, vals"
   ]
  },
  {
   "cell_type": "markdown",
   "metadata": {},
   "source": [
    "Toutefois, cette écriture n'est pas recommandée car il est possible que l'expression ``for k in hist`` ou ``list(hist.keys())`` parcourent les clés d'un dictionnaire de deux façons différentes si le dictionnaire est modifié entre temps. Mais on ne s'en pas toujours compte car cela dépend de l'implémentation des méthodes associées à la classe [dict](https://docs.python.org/3.5/library/stdtypes.html?highlight=dict#dict) (voir [cpython](https://github.com/python/cpython/tree/master/Python)). C'est pourquoi on préfère ne parcourir qu'une seule fois le dictionnaire tout en créant les deux listes."
   ]
  },
  {
   "cell_type": "code",
   "execution_count": 12,
   "metadata": {},
   "outputs": [
    {
     "data": {
      "text/plain": [
       "(['a', 'b', 'er', 'gh'], [1, 2, 1, 2])"
      ]
     },
     "execution_count": 12,
     "metadata": {},
     "output_type": "execute_result"
    }
   ],
   "source": [
    "hist = {\"a\": 1, \"b\": 2, \"er\": 1, \"gh\": 2}\n",
    "cles = []\n",
    "vals = []\n",
    "for k, v in hist.items():\n",
    "    cles.append(k)\n",
    "    vals.append(v)\n",
    "cles, vals"
   ]
  },
  {
   "cell_type": "markdown",
   "metadata": {},
   "source": [
    "### deux listes et dictionnaires\n",
    "\n",
    "On effectue l'opération inverse."
   ]
  },
  {
   "cell_type": "code",
   "execution_count": 13,
   "metadata": {},
   "outputs": [
    {
     "data": {
      "text/plain": [
       "{'a': 1, 'gh': 2, 'er': 1, 'b': 2}"
      ]
     },
     "execution_count": 13,
     "metadata": {},
     "output_type": "execute_result"
    }
   ],
   "source": [
    "cles, vals = [\"a\", \"gh\", \"er\", \"b\"], [1, 2, 1, 2]\n",
    "hist = {a: b for a, b in zip(cles, vals)}\n",
    "hist"
   ]
  },
  {
   "cell_type": "markdown",
   "metadata": {},
   "source": [
    "Et si on ne veut pas utiliser la fonction [zip](https://docs.python.org/3/library/functions.html#zip) :"
   ]
  },
  {
   "cell_type": "code",
   "execution_count": 14,
   "metadata": {},
   "outputs": [
    {
     "data": {
      "text/plain": [
       "{'a': 1, 'gh': 2, 'er': 1, 'b': 2}"
      ]
     },
     "execution_count": 14,
     "metadata": {},
     "output_type": "execute_result"
    }
   ],
   "source": [
    "cles, vals = [\"a\", \"gh\", \"er\", \"b\"], [1, 2, 1, 2]\n",
    "hist = {}\n",
    "for i in range(len(cles)):\n",
    "    hist[cles[i]] = vals[i]\n",
    "hist"
   ]
  },
  {
   "cell_type": "markdown",
   "metadata": {},
   "source": [
    "### zip reverse\n",
    "\n",
    "La fonction [zip](https://docs.python.org/3/library/functions.html#zip) permet de parcourir deux listes en parallèles. Cela permet de raccourcir le code pour créer un dictionnaire à partir de clés et de valeurs séparés. Ca paraît bien plus long que de créer les listes des clés et des valeurs. Et pourtant le code suivant peut être considérablement raccourci :"
   ]
  },
  {
   "cell_type": "code",
   "execution_count": 15,
   "metadata": {},
   "outputs": [
    {
     "data": {
      "text/plain": [
       "(['a', 'b', 'er', 'gh'], [1, 2, 1, 2])"
      ]
     },
     "execution_count": 15,
     "metadata": {},
     "output_type": "execute_result"
    }
   ],
   "source": [
    "hist = {\"a\": 1, \"b\": 2, \"er\": 1, \"gh\": 2}\n",
    "cles = []\n",
    "vals = []\n",
    "for k, v in hist.items():\n",
    "    cles.append(k)\n",
    "    vals.append(v)\n",
    "cles, vals"
   ]
  },
  {
   "cell_type": "markdown",
   "metadata": {},
   "source": [
    "Cela devient :"
   ]
  },
  {
   "cell_type": "code",
   "execution_count": 16,
   "metadata": {},
   "outputs": [
    {
     "data": {
      "text/plain": [
       "(('a', 'b', 'er', 'gh'), (1, 2, 1, 2))"
      ]
     },
     "execution_count": 16,
     "metadata": {},
     "output_type": "execute_result"
    }
   ],
   "source": [
    "hist = {\"a\": 1, \"b\": 2, \"er\": 1, \"gh\": 2}\n",
    "cles, vals = zip(*hist.items())\n",
    "cles, vals"
   ]
  },
  {
   "cell_type": "markdown",
   "metadata": {},
   "source": [
    "Petite différence, `cles`, `vals` sont sous forme de [tuple](https://docs.python.org/3.5/library/stdtypes.html?highlight=tuple#tuple) mais cela reste très élégant."
   ]
  },
  {
   "cell_type": "markdown",
   "metadata": {},
   "source": [
    "## matrices et dictionnaires"
   ]
  },
  {
   "cell_type": "markdown",
   "metadata": {},
   "source": [
    "### liste de listes et dictionnaires\n",
    "\n",
    "Une liste de listes est la représentation la plus naturelle. Essayons de la transformer sous forme de dictionnaire. On utilise la fonction [enumerate](https://docs.python.org/3/library/functions.html#enumerate)."
   ]
  },
  {
   "cell_type": "code",
   "execution_count": 17,
   "metadata": {},
   "outputs": [
    {
     "data": {
      "text/plain": [
       "{(0, 0): 1, (0, 1): 2, (1, 0): 3, (1, 1): 4}"
      ]
     },
     "execution_count": 17,
     "metadata": {},
     "output_type": "execute_result"
    }
   ],
   "source": [
    "mat = [[1, 2], [3, 4]]\n",
    "dv = {}\n",
    "for i, row in enumerate(mat):\n",
    "    for j, x in enumerate(row):\n",
    "        dv[i, j] = x\n",
    "dv"
   ]
  },
  {
   "cell_type": "markdown",
   "metadata": {},
   "source": [
    "### dictionnaires et liste de listes\n",
    "\n",
    "On effectue l'opération inverse. Nous n'avons pas perdu d'information, nous devrions retrouver la liste de listes originale."
   ]
  },
  {
   "cell_type": "code",
   "execution_count": 18,
   "metadata": {},
   "outputs": [
    {
     "data": {
      "text/plain": [
       "[[1, 2], [3, 4]]"
      ]
     },
     "execution_count": 18,
     "metadata": {},
     "output_type": "execute_result"
    }
   ],
   "source": [
    "dx = {(0, 0): 1, (0, 1): 2, (1, 0): 3, (1, 1): 4}\n",
    "max_i = max(k[0] for k in dx) + 1\n",
    "max_j = max(k[1] for k in dx) + 1\n",
    "mat = [[0] * max_j for i in range(max_i)]\n",
    "for k, v in dv.items():\n",
    "    mat[k[0]][k[1]] = v\n",
    "mat"
   ]
  },
  {
   "cell_type": "markdown",
   "metadata": {},
   "source": [
    "La différence principale entre un dictionnaire ``d`` et une liste ``l`` est que l'instruction ``d[k]`` ajoute un élément d'indice ``k`` (quel que soit ``k``) alors que l'instruction ``l[k]``) suppose que l'élément d'indice ``k`` existe dans la liste. C'est pour cela qu'on commence à calculer les indices maximaux largeur, longueur."
   ]
  },
  {
   "cell_type": "markdown",
   "metadata": {},
   "source": [
    "### matrice sparse\n",
    "\n",
    "On utilise cette répresentation surtout lorsque pour des matrices sparses : la majorité des coefficients sont nuls. Dans ce cas, le dictionnaire final ne contient que les coefficients non nuls."
   ]
  },
  {
   "cell_type": "code",
   "execution_count": 19,
   "metadata": {},
   "outputs": [
    {
     "data": {
      "text/plain": [
       "{(0, 0): 1, (1, 1): 4}"
      ]
     },
     "execution_count": 19,
     "metadata": {},
     "output_type": "execute_result"
    }
   ],
   "source": [
    "mat = [[1, 0, 0], [0, 4, 0]]\n",
    "dv = {}\n",
    "for i, row in enumerate(mat):\n",
    "    for j, x in enumerate(row):\n",
    "        if x != 0:\n",
    "            dv[i, j] = x\n",
    "dv"
   ]
  },
  {
   "cell_type": "markdown",
   "metadata": {},
   "source": [
    "Si on ne conserve pas les dimensions de la matrice originale, on perd un peu d'information dans un cas précis : si la matrice se termine par une colonne ou une ligne de zéros."
   ]
  },
  {
   "cell_type": "code",
   "execution_count": 20,
   "metadata": {},
   "outputs": [
    {
     "data": {
      "text/plain": [
       "[[1, 0], [0, 4]]"
      ]
     },
     "execution_count": 20,
     "metadata": {},
     "output_type": "execute_result"
    }
   ],
   "source": [
    "dx = {(0, 0): 1, (1, 1): 4}\n",
    "max_i = max(k[0] for k in dx) + 1\n",
    "max_j = max(k[1] for k in dx) + 1\n",
    "mat = [[0] * max_j for i in range(max_i)]\n",
    "for k, v in dv.items():\n",
    "    mat[k[0]][k[1]] = v\n",
    "mat"
   ]
  },
  {
   "cell_type": "markdown",
   "metadata": {},
   "source": [
    "## matrices et tableaux"
   ]
  },
  {
   "cell_type": "markdown",
   "metadata": {},
   "source": [
    "### 2 dimensions logiques, 1 dimension en mémoire\n",
    "\n",
    "On préfère représenter une matrice par un seul vecteur même si logiquement elle en contient car cela prend moins de place en mémoire. Dans ce cas, on met les lignes bout à bout."
   ]
  },
  {
   "cell_type": "code",
   "execution_count": 21,
   "metadata": {},
   "outputs": [
    {
     "data": {
      "text/plain": [
       "[1, 0, 0, 0, 4, 0, 1, 2, 3]"
      ]
     },
     "execution_count": 21,
     "metadata": {},
     "output_type": "execute_result"
    }
   ],
   "source": [
    "mat = [[1, 0, 0], [0, 4, 0], [1, 2, 3]]\n",
    "arr = []\n",
    "for i, row in enumerate(mat):\n",
    "    for j, x in enumerate(row):\n",
    "        arr.append(x)\n",
    "arr"
   ]
  },
  {
   "cell_type": "markdown",
   "metadata": {},
   "source": [
    "D'un côté, nous avons 4 listes avec `mat` et une seule avec `arr`. Vérifions les tailles :"
   ]
  },
  {
   "cell_type": "code",
   "execution_count": 22,
   "metadata": {},
   "outputs": [
    {
     "data": {
      "text/plain": [
       "(80, 184)"
      ]
     },
     "execution_count": 22,
     "metadata": {},
     "output_type": "execute_result"
    }
   ],
   "source": [
    "import sys\n",
    "\n",
    "sys.getsizeof(mat), sys.getsizeof(arr)"
   ]
  },
  {
   "cell_type": "markdown",
   "metadata": {},
   "source": [
    "Etrange ! Mais pour comprendre, il faut lire la documentation de la fonction [getsizeof](https://docs.python.org/3/library/sys.html?highlight=getsizeof#sys.getsizeof) qui ne compte pas la somme des objets référencés par celui dont on mesure la taille. Autrement dit, dans le cas d'une liste de listes, la fonction ne mesure que la taille de la première liste. Pour corriger le tir, on utilise la fonction suggérée par la documentation de Python."
   ]
  },
  {
   "cell_type": "code",
   "execution_count": 23,
   "metadata": {},
   "outputs": [
    {
     "data": {
      "text/plain": [
       "(480, 320)"
      ]
     },
     "execution_count": 23,
     "metadata": {},
     "output_type": "execute_result"
    }
   ],
   "source": [
    "from teachpyx.tools import total_size\n",
    "\n",
    "total_size(mat), total_size(arr)"
   ]
  },
  {
   "cell_type": "markdown",
   "metadata": {},
   "source": [
    "Cela prend énormément de place pour 9 *float* (soit 9x8 octets) mais Python stocke beaucoup plus d'informations qu'un langage compilé type C++. Cela explique pourquoi le module [numpy](http://www.numpy.org/) fait la même chose avec moins d'espace mémoire car il est codé en C++."
   ]
  },
  {
   "cell_type": "code",
   "execution_count": 24,
   "metadata": {},
   "outputs": [
    {
     "data": {
      "text/plain": [
       "(200, 184)"
      ]
     },
     "execution_count": 24,
     "metadata": {},
     "output_type": "execute_result"
    }
   ],
   "source": [
    "from numpy import array\n",
    "\n",
    "amat = array(mat)\n",
    "aarr = array(arr)\n",
    "total_size(amat), total_size(aarr)"
   ]
  },
  {
   "cell_type": "markdown",
   "metadata": {},
   "source": [
    "Et si on augmente le nombre de réels pour faire disparaître les coûts fixes :"
   ]
  },
  {
   "cell_type": "code",
   "execution_count": 25,
   "metadata": {},
   "outputs": [
    {
     "data": {
      "text/plain": [
       "(32.00984, 8.00112)"
      ]
     },
     "execution_count": 25,
     "metadata": {},
     "output_type": "execute_result"
    }
   ],
   "source": [
    "n = 100000\n",
    "li = list(float(x) for x in range(n))\n",
    "ar = array(li)\n",
    "total_size(li) / n, total_size(ar) / n"
   ]
  },
  {
   "cell_type": "markdown",
   "metadata": {},
   "source": [
    "Python prend 4 fois plus de place que numpy."
   ]
  },
  {
   "cell_type": "markdown",
   "metadata": {},
   "source": [
    "### du tableau à la liste de listes\n",
    "\n",
    "A moins que la matrice soit carrée, il faut conserver une des dimensions du tableau original, le nombre de lignes par exemple."
   ]
  },
  {
   "cell_type": "code",
   "execution_count": 26,
   "metadata": {},
   "outputs": [
    {
     "data": {
      "text/plain": [
       "[[1, 0, 0], [0, 4, 0], [1, 2, 3]]"
      ]
     },
     "execution_count": 26,
     "metadata": {},
     "output_type": "execute_result"
    }
   ],
   "source": [
    "arr = [1, 0, 0, 0, 4, 0, 1, 2, 3]\n",
    "nb_lin = 3\n",
    "nb_col = len(arr) // nb_lin\n",
    "mat = []\n",
    "pos = 0\n",
    "for i in range(nb_lin):\n",
    "    row = []\n",
    "    for j in range(nb_col):\n",
    "        row.append(arr[pos])\n",
    "        pos += 1\n",
    "    mat.append(row)\n",
    "mat"
   ]
  },
  {
   "cell_type": "markdown",
   "metadata": {},
   "source": [
    "On peut aussi faire comme ceci :"
   ]
  },
  {
   "cell_type": "code",
   "execution_count": 27,
   "metadata": {},
   "outputs": [
    {
     "data": {
      "text/plain": [
       "[[1, 0, 0], [0, 4, 0], [1, 2, 3]]"
      ]
     },
     "execution_count": 27,
     "metadata": {},
     "output_type": "execute_result"
    }
   ],
   "source": [
    "arr = [1, 0, 0, 0, 4, 0, 1, 2, 3]\n",
    "nb_lin = 3\n",
    "nb_col = len(arr) // nb_lin\n",
    "mat = [[0] * nb_col for i in range(nb_lin)]\n",
    "for pos, x in enumerate(arr):\n",
    "    i = pos // nb_lin\n",
    "    j = pos % nb_lin\n",
    "    mat[i][j] = x\n",
    "mat"
   ]
  },
  {
   "cell_type": "code",
   "execution_count": null,
   "metadata": {},
   "outputs": [],
   "source": []
  }
 ],
 "metadata": {
  "kernelspec": {
   "display_name": "Python 3 (ipykernel)",
   "language": "python",
   "name": "python3"
  },
  "language_info": {
   "codemirror_mode": {
    "name": "ipython",
    "version": 3
   },
   "file_extension": ".py",
   "mimetype": "text/x-python",
   "name": "python",
   "nbconvert_exporter": "python",
   "pygments_lexer": "ipython3",
   "version": "3.10.12"
  }
 },
 "nbformat": 4,
 "nbformat_minor": 1
}
