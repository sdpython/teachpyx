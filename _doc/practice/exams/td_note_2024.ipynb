{
 "cells": [
  {
   "cell_type": "markdown",
   "metadata": {},
   "source": [
    "# 1A - Enoncé 6 novembre 2024\n",
    "\n",
    "Correction de l'examen du 6 novembre 2024.\n",
    "\n",
    "Toutes les questions valent 2 points."
   ]
  },
  {
   "cell_type": "markdown",
   "metadata": {},
   "source": [
    "## Aparté dessin\n",
    "\n",
    "Cette partie ne fait pas partie de l'énoncé."
   ]
  },
  {
   "cell_type": "code",
   "execution_count": 8,
   "metadata": {},
   "outputs": [
    {
     "data": {
      "text/plain": [
       "<Axes: >"
      ]
     },
     "execution_count": 8,
     "metadata": {},
     "output_type": "execute_result"
    },
    {
     "data": {
      "image/png": "[encoded data removed]",
      "text/plain": [
       "<Figure size 300x300 with 1 Axes>"
      ]
     },
     "metadata": {},
     "output_type": "display_data"
    }
   ],
   "source": [
    "import matplotlib.pyplot as plt\n",
    "\n",
    "\n",
    "def dessin(n=4):\n",
    "    fig, ax = plt.subplots(1, 1, figsize=(3, 3))\n",
    "    ax.plot([-1, n + 1], [-1, n + 1], \"w\", linewidth=1)\n",
    "    for i in range(0, n + 1):\n",
    "        ax.plot([i, i], [0, n], \"b-\", linewidth=4)\n",
    "        ax.plot([0, n], [i, i], \"b-\", linewidth=4)\n",
    "    ax.plot([-1, 0], [n + 1, n], \"ro-\", linewidth=4, ms=8)\n",
    "    ax.text(0, n + 0.1, \"A\", fontsize=20)\n",
    "    ax.get_xaxis().set_visible(False)\n",
    "    ax.get_yaxis().set_visible(False)\n",
    "    fig.patch.set_visible(False)\n",
    "    return ax\n",
    "\n",
    "\n",
    "dessin()"
   ]
  },
  {
   "cell_type": "markdown",
   "metadata": {},
   "source": [
    "## Exercice 1 : optimization\n",
    "\n",
    "25 maisons sont positionnées aux 25 intersections du quadrillage ci-dessus. Le courant (rouge) arrive à un angle du carré (point A). Il faut relier chaque maison au courant pour un coût minimal. Pour cela il faut tirer un câble entre chaque intersection au point A. Les câbles ne peuvent passer que par les routes (les lignes du quadrillage), pas de diagonales donc.\n",
    "\n",
    "\n",
    "### Q1 : implémenter une fonction qui calcule la distance L1\n",
    "\n",
    "$d(x_1,y_1,x_2,y_2) = |x_1 - x_2| + |y_1 - y_2|$"
   ]
  },
  {
   "cell_type": "code",
   "execution_count": 9,
   "metadata": {},
   "outputs": [],
   "source": [
    "def distance(x1, y1, x2, y2):\n",
    "    return abs(x1 - x2) + abs(y1 - y2)\n",
    "\n",
    "\n",
    "assert distance(0, 0, 3, 4) == 7"
   ]
  },
  {
   "cell_type": "markdown",
   "metadata": {},
   "source": [
    "### Q2: calculer la longueur de câble pour relier les 25 maisons.\n",
    "\n",
    "Il y a deux façons de faire cela, une façon gloutonne ou une autre plus rapide mais qui nécessite d'utiliser une série des sommes de Gauss : la somme est $n$ premiers entiers est $\\frac{n(n+1)}{2}$. On considère la façon gloutonne d'abord."
   ]
  },
  {
   "cell_type": "code",
   "execution_count": 10,
   "metadata": {},
   "outputs": [],
   "source": [
    "def longueur_cable(n=5):\n",
    "    total = 0\n",
    "    for i in range(0, n):\n",
    "        for j in range(0, n):\n",
    "            total += distance(0, 0, i, j)\n",
    "    return total\n",
    "\n",
    "\n",
    "assert longueur_cable(5) == 100"
   ]
  },
  {
   "cell_type": "markdown",
   "metadata": {},
   "source": [
    "La façon non gloutonne mais pas appropriée pour la suite."
   ]
  },
  {
   "cell_type": "code",
   "execution_count": 11,
   "metadata": {},
   "outputs": [],
   "source": [
    "def longueur_cable_gauss(n=5):\n",
    "    somme_longueur = (n - 1) * n / 2  # on part de 0 à 4\n",
    "    total = n * somme_longueur + n * somme_longueur\n",
    "    return total\n",
    "\n",
    "\n",
    "assert longueur_cable_gauss(5) == 100"
   ]
  },
  {
   "cell_type": "markdown",
   "metadata": {},
   "source": [
    "### Q3: même calcul pour 36, 49, 72 maisons (carrés de côté 6, 7, un rectangle 8x9) ?"
   ]
  },
  {
   "cell_type": "code",
   "execution_count": 12,
   "metadata": {},
   "outputs": [],
   "source": [
    "def longueur_cable(longueur, largeur):\n",
    "    total = 0\n",
    "    for i in range(0, longueur):\n",
    "        for j in range(0, largeur):\n",
    "            total += distance(0, 0, i, j)\n",
    "    return total\n",
    "\n",
    "\n",
    "assert longueur_cable(6, 6) == 180\n",
    "assert longueur_cable(7, 7) == 294\n",
    "assert longueur_cable(8, 9) == 540"
   ]
  },
  {
   "cell_type": "markdown",
   "metadata": {},
   "source": [
    "### Q4: avec deux câbles\n",
    "\n",
    "On dispose de deux câbles : \n",
    "\n",
    "* un câble ne pouvant relier qu'une maison avec un coût $c_1$ par mètre\n",
    "* un câble ne pouvant relier qu'une ou deux maisons avec un coût $c_2$ par mètre\n",
    "\n",
    "Par conséquent, on peut relier une maison *M1* avec un câble $c_2$ puis relier *M1* à une autre maison *M2* avec un câble $c_1$. On veut savoir quand utiliser tel ou tel câble pour minimiser les coûts.\n",
    "\n",
    "Ecrire une fonction qui retourne le coût du câblage décrit ci-dessus.\n"
   ]
  },
  {
   "cell_type": "code",
   "execution_count": 16,
   "metadata": {},
   "outputs": [],
   "source": [
    "def cout_cablage(x1, y1, x2, y2, c1, c2):\n",
    "    return distance(0, 0, x1, y1) * c2 + distance(x1, y1, x2, y2) * c1\n",
    "\n",
    "\n",
    "assert cout_cablage(1, 2, 2, 4, 1, 1.5) == 7.5"
   ]
  },
  {
   "cell_type": "markdown",
   "metadata": {},
   "source": [
    "## Q5: que fait le code suivant et que montre-t-il ?"
   ]
  },
  {
   "cell_type": "code",
   "execution_count": 17,
   "metadata": {},
   "outputs": [
    {
     "name": "stdout",
     "output_type": "stream",
     "text": [
      "[0, 1, 2, 3, 4, 5, 6, 7, 8, 9]\n",
      "[5.0, 5.5, 6.0, 6.5, 7.0, 7.5, 10.0, 12.5, 15.0, 17.5]\n"
     ]
    }
   ],
   "source": [
    "def position_m1(n, c1, c2):\n",
    "    x = []\n",
    "    y = []\n",
    "    for i in range(2 * n):\n",
    "        x.append(i)\n",
    "        c = cout_cablage(0, i, 0, n, c1, c2)\n",
    "        y.append(c)\n",
    "    return x, y\n",
    "\n",
    "\n",
    "x, y = position_m1(5, 1, 1.5)\n",
    "print(x)\n",
    "print(y)"
   ]
  },
  {
   "cell_type": "markdown",
   "metadata": {},
   "source": [
    "Le code calcule le coût du câblage pour une maison mobile M1 et une maison M2 fixe. Il montre que plus la maison M1 est loin de A, plus le coût est grand. Minimiser les coûts revient à minimiser la distance A jusque M1."
   ]
  },
  {
   "cell_type": "markdown",
   "metadata": {},
   "source": [
    "## Q6,7: idée d'algorithme\n",
    "\n",
    "* on prend une maison non câblée M1 la plus proche de A\n",
    "* on prend ensuite une maison non câblée M2 la plus proche du coin opposé\n",
    "* on continue jusque à la fin\n",
    "\n",
    "On crée une matrice *M*, $n \\times n$, initilialisé à -1. La maison 0,0 est relié avec le câble 0: $M[i,j] =$ le numéro du câble qui la relie.\n",
    "\n",
    "Ecrire une fonction qui retourne la maison la plus proche d'une position $(i,j)$ et non câblée."
   ]
  },
  {
   "cell_type": "code",
   "execution_count": null,
   "metadata": {},
   "outputs": [],
   "source": [
    "import numpy as np\n",
    "\n",
    "\n",
    "def init(n=5):\n",
    "    M = np.zeros((n, n)) - 1\n",
    "    M[0, 0] = 0\n",
    "    return M\n",
    "\n",
    "\n",
    "def maison_proche(M, x, y):\n",
    "    best = None\n",
    "    meilleur = None, None\n",
    "    for i in range(0, M.shape[0]):\n",
    "        for j in range(0, M.shape[1]):\n",
    "            if M[i, j] >= 0:\n",
    "                continue\n",
    "            d = distance(x, y, i, j)\n",
    "            if best is None or d < best:\n",
    "                best = d\n",
    "                meilleur = i, j\n",
    "    return meilleur\n",
    "\n",
    "\n",
    "M = init()\n",
    "assert maison_proche(M, 0, 0) == (0, 1)\n",
    "M[0, 1] = 1\n",
    "M[1, 0] = 2\n",
    "M[1, 1] = 3\n",
    "assert maison_proche(M, 0, 1) == (0, 2)"
   ]
  },
  {
   "cell_type": "markdown",
   "metadata": {},
   "source": [
    "## Q8: on veut tirer un nouveau câble\n",
    "\n",
    "Ecrire une fonction qui tire un nouveau câble :\n",
    "\n",
    "* on prend une maison proche de A\n",
    "* on met à jour la matrice M\n",
    "* on prend une maison proche du coin opposé\n",
    "* on met à jour la matrice M\n",
    "* une retourne le coût"
   ]
  },
  {
   "cell_type": "code",
   "execution_count": 33,
   "metadata": {},
   "outputs": [],
   "source": [
    "def nouveau_cable(M, c1, c2):\n",
    "    numero = int(M.max() + 1)\n",
    "    m1 = maison_proche(M, 0, 0)\n",
    "    M[m1] = numero\n",
    "    m2 = maison_proche(M, *M.shape)\n",
    "    M[m2] = numero\n",
    "    c = cout_cablage(*m1, *m2, c1, c2)\n",
    "    return m1, m2, c\n",
    "\n",
    "\n",
    "M = init()\n",
    "g = nouveau_cable(M, 1, 1.5)\n",
    "assert g == ((0, 1), (4, 4), 8.5)"
   ]
  },
  {
   "cell_type": "markdown",
   "metadata": {},
   "source": [
    "## Q9: on complète l'algorithme\n",
    "\n",
    "Il suffit d'une boucle pour câbler toutes les maisons. La trouverez-vous ?"
   ]
  },
  {
   "cell_type": "code",
   "execution_count": 36,
   "metadata": {},
   "outputs": [
    {
     "name": "stdout",
     "output_type": "stream",
     "text": [
      "[((0, 1), (4, 4), 8.5), ((1, 0), (3, 4), 7.5), ((0, 2), (4, 3), 8.0), ((1, 1), (2, 4), 7.0), ((2, 0), (3, 3), 7.0), ((0, 3), (4, 2), 9.5), ((1, 2), (1, 4), 6.5), ((2, 1), (2, 3), 6.5), ((3, 0), (3, 2), 6.5), ((0, 4), (4, 1), 13.0), ((1, 3), (2, 2), 8.0), ((3, 1), (4, 0), 8.0)]\n"
     ]
    }
   ],
   "source": [
    "def algorithme_cablage(n, c1, c2):\n",
    "    M = init(n)\n",
    "    n_cables = n * n // 2\n",
    "    cables = []\n",
    "    for i in range(0, n_cables):\n",
    "        cable = nouveau_cable(M, c1, c2)\n",
    "        cables.append(cable)\n",
    "    return cables\n",
    "\n",
    "\n",
    "print(algorithme_cablage(5, 1, 1.5))"
   ]
  },
  {
   "cell_type": "markdown",
   "metadata": {},
   "source": [
    "## Q10: L'algorithme a un défaut, trouverez-vous lequel ?\n",
    "\n",
    "La fonction ``nouveau_cable`` choisit la première maison de façon optimale et ensuite choisit l'extrémité en fonction d'un point qui ne dépend de la première maison. Il faudrait choisir une maison $M2$ à la fois éloignée de A et proche de $M1$ mais cela ne suffira sans doute pas. Une fois l'algorithme achevé, il sera sans doute possible d'améliorer le câblage en permutant les maisons M2 entre elles :\n",
    "\n",
    "Soit deux câbles ``A -> M1 -> M2`` et ``A -> N1 -> N2``, si ``cout(A -> M1 -> N2) < cout(A -> N1 -> M2)`` alors on peut permuter M2 et N2."
   ]
  },
  {
   "cell_type": "markdown",
   "metadata": {},
   "source": []
  }
 ],
 "metadata": {
  "kernelspec": {
   "display_name": "Python 3 (ipykernel)",
   "language": "python",
   "name": "python3"
  },
  "language_info": {
   "codemirror_mode": {
    "name": "ipython",
    "version": 3
   },
   "file_extension": ".py",
   "mimetype": "text/x-python",
   "name": "python",
   "nbconvert_exporter": "python",
   "pygments_lexer": "ipython3",
   "version": "3.10.12"
  }
 },
 "nbformat": 4,
 "nbformat_minor": 2
}
