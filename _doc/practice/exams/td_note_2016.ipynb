{
 "cells": [
  {
   "cell_type": "markdown",
   "metadata": {},
   "source": [
    "# 1A.e - TD noté, 11 décembre 2015\n",
    "\n",
    "Calcul des intérêt d'un emprunt pour acheter un appartement, stratégie d'investissement."
   ]
  },
  {
   "cell_type": "code",
   "execution_count": 1,
   "metadata": {},
   "outputs": [
    {
     "name": "stdout",
     "output_type": "stream",
     "text": [
      "Populating the interactive namespace from numpy and matplotlib\n"
     ]
    }
   ],
   "source": [
    "%matplotlib inline"
   ]
  },
  {
   "cell_type": "markdown",
   "metadata": {},
   "source": [
    "Après chaque question, on vérifie sur un petit exemple que cela fonctionne comme attendu."
   ]
  },
  {
   "cell_type": "markdown",
   "metadata": {},
   "source": [
    "## Exercice 1 : Louer ou acheter un appartement ? \n",
    "\n",
    "A surface égale, est-il préférable de louer ou d'acheter son appartement~? Cet exercice propose différentes questions afin d'y répondre."
   ]
  },
  {
   "cell_type": "markdown",
   "metadata": {},
   "source": [
    "### Q1 \n",
    "\n",
    "On suppose qu'on a $X$ euros d'apport, écrire une fonction qui calcule la somme d'argent obtenue après $n$ années d'un placement à *r%* ? Par exemple, pour $n=2$, la fonction retourne $x + rx + r(1+r)x = (1+r)^2 x$."
   ]
  },
  {
   "cell_type": "code",
   "execution_count": 3,
   "metadata": {},
   "outputs": [
    {
     "data": {
      "text/plain": [
       "1.0404"
      ]
     },
     "execution_count": 4,
     "metadata": {},
     "output_type": "execute_result"
    }
   ],
   "source": [
    "def rendement(x, n, r):\n",
    "    return x * (1 + r) ** n\n",
    "\n",
    "\n",
    "rendement(1, 2, 0.02)"
   ]
  },
  {
   "cell_type": "code",
   "execution_count": 4,
   "metadata": {},
   "outputs": [
    {
     "data": {
      "text/plain": [
       "1.0612080000000002"
      ]
     },
     "execution_count": 5,
     "metadata": {},
     "output_type": "execute_result"
    }
   ],
   "source": [
    "rendement(1, 3, 0.02)"
   ]
  },
  {
   "cell_type": "markdown",
   "metadata": {},
   "source": [
    "### Q2\n",
    "\n",
    "Une banque prête de l'argent à un taux annuel $p$, c'est-à-dire au taux mensuel $m=(1+p)^\\frac{1}{12}-1$. Ce taux s'applique chaque mois sur la somme du capital restant à rembourser. On emprunte $K$ euros avec une mensualité fixée à $M$ euros, écrire une fonction qui décompose la mensualité $M$ en capital remboursé et intérêt."
   ]
  },
  {
   "cell_type": "code",
   "execution_count": 5,
   "metadata": {},
   "outputs": [
    {
     "data": {
      "text/plain": [
       "(570.6769646931234, 429.32303530687665)"
      ]
     },
     "execution_count": 6,
     "metadata": {},
     "output_type": "execute_result"
    }
   ],
   "source": [
    "def decompose_mensualite(K, M, p):\n",
    "    i = K * ((1 + p) ** (1.0 / 12) - 1)\n",
    "    return M - i, i\n",
    "\n",
    "\n",
    "decompose_mensualite(180000, 1000, 0.029)"
   ]
  },
  {
   "cell_type": "markdown",
   "metadata": {},
   "source": [
    "### Q3 \n",
    "\n",
    "Ecrire une fonction qui calcule toutes les mensualités.\n",
    "\n",
    "Lors d'un prêt à taux fixe, en France tout du moins, ce que paye l'emprunteur à sa banque est un montant fixe par mois : la mensualité. L'emprunteur paye le même montant chaque mois. Chaque mensualité se décompose comme suit :\n",
    "\n",
    "* les intêrets correspondant à la somme $K$ pour un mois : $i=Km$ où $m=(1+p)^{\\frac{1}{12}}-1$\n",
    "* la partie servant à rembourser le capital : $cap=M-i$\n",
    "\n",
    "Cette partie $cap$ va être ôtée au capital $K$ à rembourser de sorte que le mois prochain, la somme prêtée pour le mois sera moindre. Le résulat souhaité pour cette question est une liste qui contient ce même montant $M$ $n$ fois. Ce $n$ correspond à la longueur du prêt. Et pour être plus précis, le même montant $M$ répété $n$ fois excepté pour la dernière mensualité."
   ]
  },
  {
   "cell_type": "code",
   "execution_count": 6,
   "metadata": {},
   "outputs": [
    {
     "data": {
      "text/plain": [
       "19.666666666666668"
      ]
     },
     "execution_count": 7,
     "metadata": {},
     "output_type": "execute_result"
    }
   ],
   "source": [
    "def mensualites(K, M, p):\n",
    "    res = []\n",
    "    while K > 0:\n",
    "        cap, i = decompose_mensualite(K, M, p)\n",
    "        if cap < 0:\n",
    "            raise Exception(\n",
    "                \"problème avec K={0} cap={1} i={2} len={3}\".format(K, cap, i, len(res))\n",
    "            )\n",
    "        K -= cap\n",
    "        if K < 0:\n",
    "            res.append(M + K)\n",
    "        else:\n",
    "            res.append(M)\n",
    "    return res\n",
    "\n",
    "\n",
    "len(mensualites(180000, 1000, 0.029)) / 12"
   ]
  },
  {
   "cell_type": "code",
   "execution_count": 7,
   "metadata": {},
   "outputs": [
    {
     "data": {
      "text/plain": [
       "[1000, 1000, 1000, 1000, 1000, 1000, 1000, 1000, 1000, 1000, 1000, 1000]"
      ]
     },
     "execution_count": 8,
     "metadata": {},
     "output_type": "execute_result"
    }
   ],
   "source": [
    "mens = mensualites(180000, 1000, 0.029)\n",
    "mens[:12]"
   ]
  },
  {
   "cell_type": "code",
   "execution_count": 8,
   "metadata": {},
   "outputs": [
    {
     "data": {
      "text/plain": [
       "[1000, 1000, 1000, 1000, 1000, 459.63104825975415]"
      ]
     },
     "execution_count": 9,
     "metadata": {},
     "output_type": "execute_result"
    }
   ],
   "source": [
    "mens[-6:]"
   ]
  },
  {
   "cell_type": "markdown",
   "metadata": {},
   "source": [
    "Parfois ce calcul entre dans une boucle infinie : cela signifie que la somme $K$ ou le taux d'intéret est trop grand pour la mensualité $M$. Par conséquence, les intérêts à rembourser chaque mois dépasse la mensualité. Le capital à rembourser, plutôt que de décroître augmente. La boucle infinie signifie que l'emprunteur a emprunté une somme au-dessus de ses moyens."
   ]
  },
  {
   "cell_type": "markdown",
   "metadata": {},
   "source": [
    "### Q4\n",
    "\n",
    "Un emprunteur souhaite contracter un emprunt pour $Y$ années. La mensualité maximum qu'il peut consacrer par mois est $M$, le taux de l'emprunt est $p$. Quelle est la somme maximale qu'on puisse emprunter ? On se contentera d'une valeur approchée à 1000 euros près.\n",
    "\n",
    "La fonction précédente estime la durée du prêt. Moins on emprunte, moins la durée est longue. On n'a pas besoin de 20 ans pour emprunter 1000€. L'idée consiste simplement à tester de 1000 en 1000 toutes les sommes jusqu'à ce que la durée du prêt dépasse $Y$ année soit $12Y$ mois."
   ]
  },
  {
   "cell_type": "code",
   "execution_count": 9,
   "metadata": {},
   "outputs": [
    {
     "data": {
      "text/plain": [
       "183000"
      ]
     },
     "execution_count": 10,
     "metadata": {},
     "output_type": "execute_result"
    }
   ],
   "source": [
    "def somme_maximale(M, p, Y):\n",
    "    K = 20000\n",
    "    l = mensualites(K, M, p)\n",
    "    while len(l) < Y * 12:\n",
    "        K += 1000\n",
    "        l = mensualites(K, M, p)\n",
    "    return K\n",
    "\n",
    "\n",
    "somme_maximale(1000, 0.029, 20)"
   ]
  },
  {
   "cell_type": "markdown",
   "metadata": {},
   "source": [
    "**Remarque :** On pouvait également chercher la somme maximale au delà de laquelle le capital à rembourser augmente car la mensualité est utilisée intégralement pour payer les intérets. C'est-à-dire que la fonction ``decompose_mensualite`` retourne une valeur négative ou nulle soit la valeur de $K$ telle que $M = K \\left ( (1+p)^{\\frac{1}{12}}-1 \\right)$. Dans ce cas, c'est comme si la durée du prêt devenait infinie. Cette somme est nécessairement supérieur à la valeur cherchée qui correspond à une durée de prêt finie."
   ]
  },
  {
   "cell_type": "markdown",
   "metadata": {},
   "source": [
    "**Remarque :** Est-on sûr que la longueur des bien ``Y*12`` ? \n",
    "    \n",
    "En effet, rien de le garantit. Il faudrait s'assurer que le nombre de mensualités ne saute pas des années comme la version suivante où on passe 10000 en 10000 et la valeur est"
   ]
  },
  {
   "cell_type": "code",
   "execution_count": 10,
   "metadata": {},
   "outputs": [
    {
     "name": "stdout",
     "output_type": "stream",
     "text": [
      "K 140000 mois 171 années 14\n",
      "K 150000 mois 186 années 15\n",
      "K 160000 mois 202 années 16\n",
      "K 170000 mois 219 années 18\n",
      "K 180000 mois 236 années 19\n",
      "K 190000 mois 254 années 21\n"
     ]
    },
    {
     "data": {
      "text/plain": [
       "190000"
      ]
     },
     "execution_count": 11,
     "metadata": {},
     "output_type": "execute_result"
    }
   ],
   "source": [
    "def somme_maximale_step(M, p, Y, step=10000):\n",
    "    K = 20000\n",
    "    l = mensualites(K, M, p)\n",
    "    while len(l) < Y * 12:\n",
    "        K += step\n",
    "        l = mensualites(K, M, p)\n",
    "        if len(l) >= (Y - 3) * 10:\n",
    "            print(\"K\", K, \"mois\", len(l), \"années\", len(l) // 12)\n",
    "    return K\n",
    "\n",
    "\n",
    "somme_maximale_step(1000, 0.029, 20)"
   ]
  },
  {
   "cell_type": "code",
   "execution_count": 11,
   "metadata": {},
   "outputs": [
    {
     "name": "stdout",
     "output_type": "stream",
     "text": [
      "K 139000 mois 170 années 14\n",
      "K 140000 mois 171 années 14\n",
      "K 141000 mois 173 années 14\n",
      "K 142000 mois 174 années 14\n",
      "K 143000 mois 176 années 14\n",
      "K 144000 mois 177 années 14\n",
      "K 145000 mois 179 années 14\n",
      "K 146000 mois 180 années 15\n",
      "K 147000 mois 182 années 15\n",
      "K 148000 mois 183 années 15\n",
      "K 149000 mois 185 années 15\n",
      "K 150000 mois 186 années 15\n",
      "K 151000 mois 188 années 15\n",
      "K 152000 mois 190 années 15\n",
      "K 153000 mois 191 années 15\n",
      "K 154000 mois 193 années 16\n",
      "K 155000 mois 194 années 16\n",
      "K 156000 mois 196 années 16\n",
      "K 157000 mois 197 années 16\n",
      "K 158000 mois 199 années 16\n",
      "K 159000 mois 201 années 16\n",
      "K 160000 mois 202 années 16\n",
      "K 161000 mois 204 années 17\n",
      "K 162000 mois 206 années 17\n",
      "K 163000 mois 207 années 17\n",
      "K 164000 mois 209 années 17\n",
      "K 165000 mois 210 années 17\n",
      "K 166000 mois 212 années 17\n",
      "K 167000 mois 214 années 17\n",
      "K 168000 mois 215 années 17\n",
      "K 169000 mois 217 années 18\n",
      "K 170000 mois 219 années 18\n",
      "K 171000 mois 220 années 18\n",
      "K 172000 mois 222 années 18\n",
      "K 173000 mois 224 années 18\n",
      "K 174000 mois 226 années 18\n",
      "K 175000 mois 227 années 18\n",
      "K 176000 mois 229 années 19\n",
      "K 177000 mois 231 années 19\n",
      "K 178000 mois 232 années 19\n",
      "K 179000 mois 234 années 19\n",
      "K 180000 mois 236 années 19\n",
      "K 181000 mois 238 années 19\n",
      "K 182000 mois 239 années 19\n",
      "K 183000 mois 241 années 20\n"
     ]
    },
    {
     "data": {
      "text/plain": [
       "183000"
      ]
     },
     "execution_count": 12,
     "metadata": {},
     "output_type": "execute_result"
    }
   ],
   "source": [
    "somme_maximale_step(1000, 0.029, 20, step=1000)"
   ]
  },
  {
   "cell_type": "markdown",
   "metadata": {},
   "source": [
    "Même dans ce cas, on ne tombe pas exactement sur 20 ans. Il faudrait avoir une valeur pour ``step`` variable pour traiter tous les cas. Par exemple, dès que le nombre de mois augmente de plus de 1, on divise $K$ par 2. La précision serait au mois près."
   ]
  },
  {
   "cell_type": "code",
   "execution_count": 12,
   "metadata": {
    "scrolled": false
   },
   "outputs": [
    {
     "name": "stdout",
     "output_type": "stream",
     "text": [
      "K 175312.5 mois 228 années 19 step 312.5\n",
      "K 175625.0 mois 228 années 19 step 312.5\n",
      "K 175937.5 mois 229 années 19 step 312.5\n",
      "K 176250.0 mois 229 années 19 step 312.5\n",
      "K 176562.5 mois 230 années 19 step 312.5\n",
      "K 176875.0 mois 231 années 19 step 312.5\n",
      "K 177187.5 mois 231 années 19 step 312.5\n",
      "K 177500.0 mois 232 années 19 step 312.5\n",
      "K 177812.5 mois 232 années 19 step 312.5\n",
      "K 178125.0 mois 233 années 19 step 312.5\n",
      "K 178437.5 mois 233 années 19 step 312.5\n",
      "K 178750.0 mois 234 années 19 step 312.5\n",
      "K 179062.5 mois 234 années 19 step 312.5\n",
      "K 179375.0 mois 235 années 19 step 312.5\n",
      "K 179687.5 mois 235 années 19 step 312.5\n",
      "K 180000.0 mois 236 années 19 step 312.5\n",
      "K 180312.5 mois 237 années 19 step 312.5\n",
      "K 180625.0 mois 237 années 19 step 312.5\n",
      "K 180937.5 mois 238 années 19 step 312.5\n",
      "K 181250.0 mois 238 années 19 step 312.5\n",
      "K 181562.5 mois 239 années 19 step 312.5\n",
      "K 181875.0 mois 239 années 19 step 312.5\n",
      "K 182187.5 mois 240 années 20 step 312.5\n"
     ]
    },
    {
     "data": {
      "text/plain": [
       "182187.5"
      ]
     },
     "execution_count": 13,
     "metadata": {},
     "output_type": "execute_result"
    }
   ],
   "source": [
    "def somme_maximale_mois_step(M, p, Y, step=10000):\n",
    "    K = 20000\n",
    "    l = mensualites(K, M, p)\n",
    "    l0 = l\n",
    "    while len(l) < Y * 12:\n",
    "        while True:\n",
    "            l = mensualites(K + step, M, p)\n",
    "            if len(l) > len(l0) + 1:\n",
    "                step /= 2\n",
    "            else:\n",
    "                K += step\n",
    "                l0 = l\n",
    "                break\n",
    "        if len(l) >= (Y - 1) * 12:\n",
    "            print(\"K\", K, \"mois\", len(l), \"années\", len(l) // 12, \"step\", step)\n",
    "    return K\n",
    "\n",
    "\n",
    "somme_maximale_mois_step(1000, 0.029, 20)"
   ]
  },
  {
   "cell_type": "markdown",
   "metadata": {
    "collapsed": true
   },
   "source": [
    "### Q5 \n",
    "\n",
    "A Paris, on loue un appartement pour $L$ euros du m$^2$. Un parisien loue son appartement de $S m^2$ pour $SL$ euros. Ce parisien peut dépenser $A$ euros par mois répartis en $SL$ le loyer et $A-SL$ les économies. Ecrire une fonction qui calcule les économies réalisées au bout de $Y$ années.\n",
    "\n",
    "Après les études, ce parisien ne dispose d'aucun apport financier. Il commence par louer un appartement. Chaque mois, il envisage de consacrer  $A$ euros. Il loue un apprtement suffisamment de petit de telle sorte que le loyer est inférieur à $A$. Chaque mois, il économise la différence. Chaque euros économise est placé à taux fixe annuel $r$, donc au taux mensuel $rm = (1+r)^{\\frac{1}{12}}-1$. Cette fonction calcule les économies réalisées."
   ]
  },
  {
   "cell_type": "code",
   "execution_count": 13,
   "metadata": {},
   "outputs": [
    {
     "data": {
      "text/plain": [
       "25862.65218705509"
      ]
     },
     "execution_count": 14,
     "metadata": {},
     "output_type": "execute_result"
    }
   ],
   "source": [
    "def economie(A, S, L, r, Y):\n",
    "    delta = A - S * L\n",
    "    rm = (1 + r) ** (1.0 / 12) - 1\n",
    "    eco = 0\n",
    "    nbm = Y * 12\n",
    "    while nbm > 0:\n",
    "        eco = eco * (1 + rm) + delta\n",
    "        nbm -= 1\n",
    "    return eco\n",
    "\n",
    "\n",
    "economie(1000, 40, 20, 0.015, 10)"
   ]
  },
  {
   "cell_type": "markdown",
   "metadata": {},
   "source": [
    "### Q6\n",
    "\n",
    "En considérant que ce même parisien ne peut dépenser plus de $A$ euros par mois, qu'il ne possède rien au début de sa carrière professionnelle, on veut savoir à partir de combien d'années il sera en mesure d'acheter son appartement à supposer qu'il peut se constituer un apport en capital issu de ces économies. On suppose que le prix au mètre carré à Paris est $C$ et qu'il veut emprunter avec un prêt d'une durée fixe. \n",
    "\n",
    "\n",
    "Si on résume, le parisen n'a pas les moyens d'acheter son appartement dès la fin de ses études. Il commence à louer et économise. La somme $A$ correspond à un tiers de son salaire, il sait également qu'avec une mensualité de $A$, il peut emprunter au maximum sur 20 ans `` somme_maximale(A,p,20)``. Il pourra donc acheter un appartement de la même surface lorsque ses économies ajoutées à la somme maximale qu'il peut emprunter dépasseront le prix de l'appartement.\n",
    "\n",
    "On regarde chaque année si les économies accumulées permettent à ce parisien d'acheter."
   ]
  },
  {
   "cell_type": "code",
   "execution_count": 14,
   "metadata": {},
   "outputs": [
    {
     "data": {
      "image/png": "[encoded data removed]",
      "text/plain": [
       "<IPython.core.display.Image object>"
      ]
     },
     "execution_count": 15,
     "metadata": {},
     "output_type": "execute_result"
    }
   ],
   "source": [
    "from IPython.display import Image\n",
    "\n",
    "Image(\"exam2016_values.png\")"
   ]
  },
  {
   "cell_type": "code",
   "execution_count": 15,
   "metadata": {},
   "outputs": [
    {
     "data": {
      "text/plain": [
       "29"
      ]
     },
     "execution_count": 16,
     "metadata": {},
     "output_type": "execute_result"
    }
   ],
   "source": [
    "def bascule(A, S, L, r, Y, C, p):\n",
    "    Y = 0\n",
    "    possible = C * S\n",
    "    while possible > 0:\n",
    "        Y += 1\n",
    "        eco = economie(A, S, L, r, Y)\n",
    "        somme = somme_maximale(A, p, Y)\n",
    "        possible = C * S - somme - eco\n",
    "    return Y\n",
    "\n",
    "\n",
    "bascule(1000, 40, 20, 0.015, 20, 8000, 0.029)"
   ]
  },
  {
   "cell_type": "markdown",
   "metadata": {},
   "source": [
    "### Q7 exo 1\n",
    "\n",
    "Ecrire une fonction qui détermine la plus petite surface que ce parisien ne pourra jamais s'offrir avant 20 ans au mètre carré près.\n",
    "\n",
    "Le raisonnement est toujours le même, on regarde des plus petites surfaces aux plus grandes la surface que ce parisien pourra s'offrir. La fonction ``bascule`` indique quand un parisien peut acheter son appartement pour la première fois. Il suffit de partir d'une petite surface et de lui ajouter des mètres carrés jusqu'à ce que le moment de bascule se produise 20 ans après avoir commencé à travailler."
   ]
  },
  {
   "cell_type": "code",
   "execution_count": 16,
   "metadata": {},
   "outputs": [
    {
     "data": {
      "text/plain": [
       "34"
      ]
     },
     "execution_count": 17,
     "metadata": {},
     "output_type": "execute_result"
    }
   ],
   "source": [
    "def surface_max(A, L, r, Y, C, p, delay=20):\n",
    "    S = 1\n",
    "    wait = bascule(A, S, L, r, Y, C, p)\n",
    "    while wait < delay:\n",
    "        S += 1\n",
    "        wait = bascule(A, S, L, r, Y, C, p)\n",
    "    return S\n",
    "\n",
    "\n",
    "surface_max(1000, 20, 0.015, 20, 8000, 0.029)"
   ]
  },
  {
   "cell_type": "markdown",
   "metadata": {},
   "source": [
    "### Q7 exo 2\n",
    "\n",
    "Déterminer la somme $A$ qu'il faille investir pour acheter 40 $m^2$ à 30 ans en supposant que ce parisien a commencé à travailler à 23 ans et commence à louer un appartement de cette surface.\n",
    "\n",
    "Le raisonnement est identique au question précédente. On commence par des mensualités $A$ élevées qu'on fait décroître jusqu'à ce que le parisien ne puisse plus s'offrir son appartement."
   ]
  },
  {
   "cell_type": "code",
   "execution_count": 17,
   "metadata": {},
   "outputs": [
    {
     "data": {
      "text/plain": [
       "2600"
      ]
     },
     "execution_count": 18,
     "metadata": {},
     "output_type": "execute_result"
    }
   ],
   "source": [
    "def A40a30(L, r, Y, C, p):\n",
    "    A = 10000\n",
    "    S = 40\n",
    "    wait = bascule(A, S, L, r, Y, C, p)\n",
    "    while wait < 7:\n",
    "        A -= 100\n",
    "        wait = bascule(A, S, L, r, Y, C, p)\n",
    "    return A\n",
    "\n",
    "\n",
    "A40a30(20, 0.015, 20, 8000, 0.029)"
   ]
  },
  {
   "cell_type": "markdown",
   "metadata": {},
   "source": [
    "### Q8 \n",
    "\n",
    "Ce modèle ne prend pas en compte tous les paramètres de la vie réelle. Citez-en un. \n",
    "\n",
    "* L'inflation\n",
    "* Les augmentations de salaires\n",
    "* L'augmentation du prix au mètre carré\n",
    "* ..."
   ]
  },
  {
   "cell_type": "markdown",
   "metadata": {},
   "source": [
    "### Q9 version dichotomique de Q4\n",
    "\n",
    "On utilise la fonction *decompose_mensualite* pour calculer la somme maximale qu'une personne puisse emprunter avec une mensualité *M*, à savoir tout passe en intérêt ``M / ((1+p)**(1.0/12)-1)`` où celle qui correspond à un nombre de mensualité infini.\n",
    "\n",
    "La réponse que l'on cherche est une somme mais celle-ci est une fonction croissante de la durée du prêt. Plutôt que de donner plus d'explications à ce sujet, je suggère de lire le problème [Problem C. Egg Drop](https://changyaochen.github.io/egg-drop-problem/). La même solution ne s'applique pas ici mais c'est le même état d'esprit qui permet de la trouver. La solution que je propose n'est pas nécessairement la meilleure mais elle est certainement plus rapide que la première proposée. \n",
    "\n",
    "La ligne avec ``###`` est la plus importante. On multiplie les pas de recherche pas un coefficient. Supérieur à 1 : l'algorithme ne peut pas converger. Inférieur à 1 : le pas doit être suffisamment grand pour converger vers la vraie valeur. Cela dépend de la dérivée $\\frac{df}{dK}$ où $f$ est la durée du prêt ``len(mensualites(K, M, p))``."
   ]
  },
  {
   "cell_type": "code",
   "execution_count": 18,
   "metadata": {
    "scrolled": true
   },
   "outputs": [
    {
     "data": {
      "text/plain": [
       "182199.99817640134"
      ]
     },
     "execution_count": 19,
     "metadata": {},
     "output_type": "execute_result"
    }
   ],
   "source": [
    "def somme_maximale_dicho(M, p, Y):\n",
    "    K_max = M / ((1 + p) ** (1.0 / 12) - 1)\n",
    "    K = K_max / 2\n",
    "    step = 0.5\n",
    "    dk = K * step\n",
    "    l = mensualites(K, M, p)\n",
    "    while len(l) != Y * 12 and dk > 1e-5:\n",
    "        if len(l) < Y * 12:\n",
    "            K += dk\n",
    "            K = min(K_max - 1000, K)\n",
    "        else:\n",
    "            K -= dk\n",
    "        dk *= step  ###\n",
    "        l = mensualites(K, M, p)\n",
    "    if len(l) != Y * 12:\n",
    "        raise Exception(\"il faut augmenter step\")\n",
    "    return K\n",
    "\n",
    "\n",
    "somme_maximale_dicho(1000, 0.029, 20)"
   ]
  },
  {
   "cell_type": "markdown",
   "metadata": {},
   "source": [
    "Le paramètre ``dk`` donne une indication de la précision. On compare les temps d'exécution :"
   ]
  },
  {
   "cell_type": "code",
   "execution_count": 19,
   "metadata": {},
   "outputs": [
    {
     "name": "stdout",
     "output_type": "stream",
     "text": [
      "10 loops, best of 3: 25.7 ms per loop\n",
      "100 loops, best of 3: 2.8 ms per loop\n"
     ]
    }
   ],
   "source": [
    "%timeit somme_maximale(1000, 0.029, 20)\n",
    "%timeit somme_maximale_dicho(1000, 0.029, 20)"
   ]
  },
  {
   "cell_type": "markdown",
   "metadata": {},
   "source": [
    "## Exercice 2 : coder les numéros de téléphone"
   ]
  },
  {
   "cell_type": "markdown",
   "metadata": {},
   "source": [
    "### Q1 \n",
    "\n",
    "Michel perd souvent ses carnets de numéros et pour éviter d'importuner ses proches de recevoir des coups de fils impromptus, il utilise un code. Si la première lettre est une voyelle, il permute les numéros 3 et 4 sinon il les laisse en l'état. Si la seconde lettre est une voyelle, il permute les numéros 5 et 6, rien en cas de consonnes. Exemple (on enlève volontairement les accents) :\n",
    "\n",
    "    adele   06 64 34 22 67 --> 06 46 34 22 67\n",
    "    gerard  06 64 34 22 68 --> 06 64 43 22 86\n",
    "    \n",
    "Ecrire la fonction qui transforme un numéro. Il est recommandé de ne pas tenir compte des espaces."
   ]
  },
  {
   "cell_type": "code",
   "execution_count": 20,
   "metadata": {},
   "outputs": [
    {
     "data": {
      "text/plain": [
       "'0646342267'"
      ]
     },
     "execution_count": 21,
     "metadata": {},
     "output_type": "execute_result"
    }
   ],
   "source": [
    "def transforme_numero(prenom, numero):\n",
    "    res = numero[:2]\n",
    "    for i, c in enumerate(prenom):\n",
    "        if c in \"aeiouy\":\n",
    "            res += numero[i * 2 + 3] + numero[i * 2 + 2]\n",
    "        else:\n",
    "            res += numero[i * 2 + 2 : i * 2 + 4]\n",
    "        if len(res) >= len(numero):\n",
    "            break\n",
    "    return res\n",
    "\n",
    "\n",
    "transforme_numero(\"adele\", \"0664342267\")"
   ]
  },
  {
   "cell_type": "markdown",
   "metadata": {},
   "source": [
    "### Q2 \n",
    "\n",
    "Ecrire la fonction qui effectue la transformation inverse. La réciproque est en fait la même fonction."
   ]
  },
  {
   "cell_type": "code",
   "execution_count": 21,
   "metadata": {},
   "outputs": [
    {
     "data": {
      "text/plain": [
       "'0664342267'"
      ]
     },
     "execution_count": 22,
     "metadata": {},
     "output_type": "execute_result"
    }
   ],
   "source": [
    "transforme_numero(\"adele\", \"0646342267\")"
   ]
  },
  {
   "cell_type": "markdown",
   "metadata": {
    "collapsed": true
   },
   "source": [
    "## Exercice 3 : coder les numéros de téléphone"
   ]
  },
  {
   "cell_type": "markdown",
   "metadata": {},
   "source": [
    "### Q1\n",
    "\n",
    "Michel perd souvent ses carnets de numéros et pour éviter d'importuner ses proches de recevoir des coups de fils impromptus, il utilise un code. Si la première lettre est une voyelle, il fait la somme des chiffres 3 et 4 et remplace le chiffre 4 par celui des unités de l'addition, sinon il les laisse en l'état. Si la seconde lettre est une voyelle, il additionne les chiffres 5 et 6 et remplace le chiffre 6 par celui des unités de l'addition, rien en cas de consonnes. Exemple (on enlève volontairement les accents) :\n",
    "\n",
    "    adele   06 64 34 22 67 --> 06 60 34 24 67\n",
    "    gerard  06 64 34 22 68 --> 06 64 37 22 64\n",
    "\n",
    "Ecrire la fonction qui transforme un numéro. Il est recommandé de ne pas tenir compte des espaces."
   ]
  },
  {
   "cell_type": "code",
   "execution_count": 22,
   "metadata": {},
   "outputs": [
    {
     "data": {
      "text/plain": [
       "'0660342467'"
      ]
     },
     "execution_count": 23,
     "metadata": {},
     "output_type": "execute_result"
    }
   ],
   "source": [
    "def transforme_numero(prenom, numero):\n",
    "    res = numero[:2]\n",
    "    for i, c in enumerate(prenom):\n",
    "        if c in \"aeiouy\":\n",
    "            res += numero[i * 2 + 2] + str(\n",
    "                (int(numero[i * 2 + 2]) + int(numero[i * 2 + 3])) % 10\n",
    "            )\n",
    "        else:\n",
    "            res += numero[i * 2 + 2 : i * 2 + 4]\n",
    "        if len(res) >= len(numero):\n",
    "            break\n",
    "    return res\n",
    "\n",
    "\n",
    "transforme_numero(\"adele\", \"0664342267\")"
   ]
  },
  {
   "cell_type": "markdown",
   "metadata": {},
   "source": [
    "### Q2\n",
    "\n",
    "A votre avis, est-il possible d'écrire la fonction qui effectue la transformation inverse. Justifiez.\n",
    "\n",
    "Oui et voici la réciproque. On considère un groupe de chiffre modifié, l'important est de comprendre que si le second chiffre est inférieur au premier alors la somme des deux chiffres initiaux dépasse nécessairement 10."
   ]
  },
  {
   "cell_type": "code",
   "execution_count": 23,
   "metadata": {},
   "outputs": [
    {
     "data": {
      "text/plain": [
       "'0664342267'"
      ]
     },
     "execution_count": 24,
     "metadata": {},
     "output_type": "execute_result"
    }
   ],
   "source": [
    "def transforme_numero_envers(prenom, numero):\n",
    "    res = numero[:2]\n",
    "    for i, c in enumerate(prenom):\n",
    "        if c in \"aeiouy\":\n",
    "            res += numero[i * 2 + 2] + str(\n",
    "                (int(numero[i * 2 + 3]) - int(numero[i * 2 + 2]) + 10) % 10\n",
    "            )\n",
    "        else:\n",
    "            res += numero[i * 2 + 2 : i * 2 + 4]\n",
    "        if len(res) >= len(numero):\n",
    "            break\n",
    "    return res\n",
    "\n",
    "\n",
    "transforme_numero_envers(\"adele\", \"0660342467\")"
   ]
  },
  {
   "cell_type": "markdown",
   "metadata": {},
   "source": [
    "**Remarque :** Beaucoup ont affronté l'erreur suivante"
   ]
  },
  {
   "cell_type": "code",
   "execution_count": 24,
   "metadata": {},
   "outputs": [
    {
     "ename": "TypeError",
     "evalue": "unorderable types: str() < int()",
     "output_type": "error",
     "traceback": [
      "\u001b[1;31m---------------------------------------------------------------------------\u001b[0m",
      "\u001b[1;31mTypeError\u001b[0m                                 Traceback (most recent call last)",
      "\u001b[1;32m<ipython-input-1-9b3e94b6565a>\u001b[0m in \u001b[0;36m<module>\u001b[1;34m()\u001b[0m\n\u001b[1;32m----> 1\u001b[1;33m \u001b[1;34m\"3\"\u001b[0m \u001b[1;33m<\u001b[0m \u001b[1;36m4\u001b[0m\u001b[1;33m\u001b[0m\u001b[0m\n\u001b[0m",
      "\u001b[1;31mTypeError\u001b[0m: unorderable types: str() < int()"
     ]
    }
   ],
   "source": [
    "# déclenche une exception\n",
    "try:\n",
    "    \"3\" < 4\n",
    "except Exception as e:\n",
    "    print(e)"
   ]
  },
  {
   "cell_type": "markdown",
   "metadata": {},
   "source": [
    "Comme l'exemple le stipule, cela survient lorsqu'on essaye de faire une comparison numérique entre une chaîne de caractères et un type numérique. Il faut convertir la chaîne de caractères."
   ]
  },
  {
   "cell_type": "code",
   "execution_count": 25,
   "metadata": {},
   "outputs": [
    {
     "data": {
      "text/plain": [
       "True"
      ]
     },
     "execution_count": 26,
     "metadata": {},
     "output_type": "execute_result"
    }
   ],
   "source": [
    "int(\"3\") < 4"
   ]
  },
  {
   "cell_type": "code",
   "execution_count": 26,
   "metadata": {
    "collapsed": true
   },
   "outputs": [],
   "source": []
  }
 ],
 "metadata": {
  "kernelspec": {
   "display_name": "Python 3",
   "language": "python",
   "name": "python3"
  },
  "language_info": {
   "codemirror_mode": {
    "name": "ipython",
    "version": 3
   },
   "file_extension": ".py",
   "mimetype": "text/x-python",
   "name": "python",
   "nbconvert_exporter": "python",
   "pygments_lexer": "ipython3",
   "version": "3.6.1"
  }
 },
 "nbformat": 4,
 "nbformat_minor": 1
}
