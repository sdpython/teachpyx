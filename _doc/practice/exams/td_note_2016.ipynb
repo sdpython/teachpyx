{
  "cells": [
    {
      "cell_type": "markdown",
      "metadata": {},
      "source": [
        "# 1A.e - TD not\u00e9, 11 d\u00e9cembre 2015\n",
        "\n",
        "Calcul des int\u00e9r\u00eat d'un emprunt pour acheter un appartement, strat\u00e9gie d'investissement."
      ]
    },
    {
      "cell_type": "code",
      "execution_count": 1,
      "metadata": {},
      "outputs": [
        {
          "name": "stdout",
          "output_type": "stream",
          "text": [
            "Populating the interactive namespace from numpy and matplotlib\n"
          ]
        }
      ],
      "source": [
        "%matplotlib inline"
      ]
    },
    {
      "cell_type": "code",
      "execution_count": 2,
      "metadata": {},
      "outputs": [
        {
          "data": {
            "text/html": [
              "<div id=\"my_id_menu_nb\">run previous cell, wait for 2 seconds</div>\n",
              "<script>\n",
              "function repeat_indent_string(n){\n",
              "    var a = \"\" ;\n",
              "    for ( ; n > 0 ; --n)\n",
              "        a += \"    \";\n",
              "    return a;\n",
              "}\n",
              "var update_menu_string = function(begin, lfirst, llast, sformat, send, keep_item, begin_format, end_format) {\n",
              "    var anchors = document.getElementsByClassName(\"section\");\n",
              "    if (anchors.length == 0) {\n",
              "        anchors = document.getElementsByClassName(\"text_cell_render rendered_html\");\n",
              "    }\n",
              "    var i,t;\n",
              "    var text_menu = begin;\n",
              "    var text_memo = \"<pre>\\nlength:\" + anchors.length + \"\\n\";\n",
              "    var ind = \"\";\n",
              "    var memo_level = 1;\n",
              "    var href;\n",
              "    var tags = [];\n",
              "    var main_item = 0;\n",
              "    var format_open = 0;\n",
              "    for (i = 0; i <= llast; i++)\n",
              "        tags.push(\"h\" + i);\n",
              "\n",
              "    for (i = 0; i < anchors.length; i++) {\n",
              "        text_memo += \"**\" + anchors[i].id + \"--\\n\";\n",
              "\n",
              "        var child = null;\n",
              "        for(t = 0; t < tags.length; t++) {\n",
              "            var r = anchors[i].getElementsByTagName(tags[t]);\n",
              "            if (r.length > 0) {\n",
              "child = r[0];\n",
              "break;\n",
              "            }\n",
              "        }\n",
              "        if (child == null) {\n",
              "            text_memo += \"null\\n\";\n",
              "            continue;\n",
              "        }\n",
              "        if (anchors[i].hasAttribute(\"id\")) {\n",
              "            // when converted in RST\n",
              "            href = anchors[i].id;\n",
              "            text_memo += \"#1-\" + href;\n",
              "            // passer \u00e0 child suivant (le chercher)\n",
              "        }\n",
              "        else if (child.hasAttribute(\"id\")) {\n",
              "            // in a notebook\n",
              "            href = child.id;\n",
              "            text_memo += \"#2-\" + href;\n",
              "        }\n",
              "        else {\n",
              "            text_memo += \"#3-\" + \"*\" + \"\\n\";\n",
              "            continue;\n",
              "        }\n",
              "        var title = child.textContent;\n",
              "        var level = parseInt(child.tagName.substring(1,2));\n",
              "\n",
              "        text_memo += \"--\" + level + \"?\" + lfirst + \"--\" + title + \"\\n\";\n",
              "\n",
              "        if ((level < lfirst) || (level > llast)) {\n",
              "            continue ;\n",
              "        }\n",
              "        if (title.endsWith('\u00b6')) {\n",
              "            title = title.substring(0,title.length-1).replace(\"<\", \"&lt;\")\n",
              "         .replace(\">\", \"&gt;\").replace(\"&\", \"&amp;\");\n",
              "        }\n",
              "        if (title.length == 0) {\n",
              "            continue;\n",
              "        }\n",
              "\n",
              "        while (level < memo_level) {\n",
              "            text_menu += end_format + \"</ul>\\n\";\n",
              "            format_open -= 1;\n",
              "            memo_level -= 1;\n",
              "        }\n",
              "        if (level == lfirst) {\n",
              "            main_item += 1;\n",
              "        }\n",
              "        if (keep_item != -1 && main_item != keep_item + 1) {\n",
              "            // alert(main_item + \" - \" + level + \" - \" + keep_item);\n",
              "            continue;\n",
              "        }\n",
              "        while (level > memo_level) {\n",
              "            text_menu += \"<ul>\\n\";\n",
              "            memo_level += 1;\n",
              "        }\n",
              "        text_menu += repeat_indent_string(level-2);\n",
              "        text_menu += begin_format + sformat.replace(\"__HREF__\", href).replace(\"__TITLE__\", title);\n",
              "        format_open += 1;\n",
              "    }\n",
              "    while (1 < memo_level) {\n",
              "        text_menu += end_format + \"</ul>\\n\";\n",
              "        memo_level -= 1;\n",
              "        format_open -= 1;\n",
              "    }\n",
              "    text_menu += send;\n",
              "    //text_menu += \"\\n\" + text_memo;\n",
              "\n",
              "    while (format_open > 0) {\n",
              "        text_menu += end_format;\n",
              "        format_open -= 1;\n",
              "    }\n",
              "    return text_menu;\n",
              "};\n",
              "var update_menu = function() {\n",
              "    var sbegin = \"\";\n",
              "    var sformat = '<a href=\"#__HREF__\">__TITLE__</a>';\n",
              "    var send = \"\";\n",
              "    var begin_format = '<li>';\n",
              "    var end_format = '</li>';\n",
              "    var keep_item = -1;\n",
              "    var text_menu = update_menu_string(sbegin, 2, 4, sformat, send, keep_item,\n",
              "       begin_format, end_format);\n",
              "    var menu = document.getElementById(\"my_id_menu_nb\");\n",
              "    menu.innerHTML=text_menu;\n",
              "};\n",
              "window.setTimeout(update_menu,2000);\n",
              "            </script>"
            ],
            "text/plain": [
              "<IPython.core.display.HTML object>"
            ]
          },
          "execution_count": 3,
          "metadata": {},
          "output_type": "execute_result"
        }
      ],
      "source": [
        "from jyquickhelper import add_notebook_menu\n",
        "add_notebook_menu()"
      ]
    },
    {
      "cell_type": "markdown",
      "metadata": {},
      "source": [
        "Apr\u00e8s chaque question, on v\u00e9rifie sur un petit exemple que cela fonctionne comme attendu."
      ]
    },
    {
      "cell_type": "markdown",
      "metadata": {},
      "source": [
        "## Exercice 1 : Louer ou acheter un appartement ? \n",
        "\n",
        "A surface \u00e9gale, est-il pr\u00e9f\u00e9rable de louer ou d'acheter son appartement~? Cet exercice propose diff\u00e9rentes questions afin d'y r\u00e9pondre."
      ]
    },
    {
      "cell_type": "markdown",
      "metadata": {},
      "source": [
        "### Q1 \n",
        "\n",
        "On suppose qu'on a $X$ euros d'apport, \u00e9crire une fonction qui calcule la somme d'argent obtenue apr\u00e8s $n$ ann\u00e9es d'un placement \u00e0 *r%* ? Par exemple, pour $n=2$, la fonction retourne $x + rx + r(1+r)x = (1+r)^2 x$."
      ]
    },
    {
      "cell_type": "code",
      "execution_count": 3,
      "metadata": {},
      "outputs": [
        {
          "data": {
            "text/plain": [
              "1.0404"
            ]
          },
          "execution_count": 4,
          "metadata": {},
          "output_type": "execute_result"
        }
      ],
      "source": [
        "def rendement(x, n, r):\n",
        "    return x*(1+r)**n\n",
        "\n",
        "rendement(1, 2, 0.02)"
      ]
    },
    {
      "cell_type": "code",
      "execution_count": 4,
      "metadata": {},
      "outputs": [
        {
          "data": {
            "text/plain": [
              "1.0612080000000002"
            ]
          },
          "execution_count": 5,
          "metadata": {},
          "output_type": "execute_result"
        }
      ],
      "source": [
        "rendement(1, 3, 0.02)"
      ]
    },
    {
      "cell_type": "markdown",
      "metadata": {},
      "source": [
        "### Q2\n",
        "\n",
        "Une banque pr\u00eate de l'argent \u00e0 un taux annuel $p$, c'est-\u00e0-dire au taux mensuel $m=(1+p)^\\frac{1}{12}-1$. Ce taux s'applique chaque mois sur la somme du capital restant \u00e0 rembourser. On emprunte $K$ euros avec une mensualit\u00e9 fix\u00e9e \u00e0 $M$ euros, \u00e9crire une fonction qui d\u00e9compose la mensualit\u00e9 $M$ en capital rembours\u00e9 et int\u00e9r\u00eat."
      ]
    },
    {
      "cell_type": "code",
      "execution_count": 5,
      "metadata": {},
      "outputs": [
        {
          "data": {
            "text/plain": [
              "(570.6769646931234, 429.32303530687665)"
            ]
          },
          "execution_count": 6,
          "metadata": {},
          "output_type": "execute_result"
        }
      ],
      "source": [
        "def decompose_mensualite(K,M,p):\n",
        "    i = K * ((1+p)**(1.0/12)-1)\n",
        "    return M-i, i\n",
        "\n",
        "decompose_mensualite(180000, 1000, 0.029)"
      ]
    },
    {
      "cell_type": "markdown",
      "metadata": {},
      "source": [
        "### Q3 \n",
        "\n",
        "Ecrire une fonction qui calcule toutes les mensualit\u00e9s.\n",
        "\n",
        "Lors d'un pr\u00eat \u00e0 taux fixe, en France tout du moins, ce que paye l'emprunteur \u00e0 sa banque est un montant fixe par mois : la mensualit\u00e9. L'emprunteur paye le m\u00eame montant chaque mois. Chaque mensualit\u00e9 se d\u00e9compose comme suit :\n",
        "\n",
        "* les int\u00earets correspondant \u00e0 la somme $K$ pour un mois : $i=Km$ o\u00f9 $m=(1+p)^{\\frac{1}{12}}-1$\n",
        "* la partie servant \u00e0 rembourser le capital : $cap=M-i$\n",
        "\n",
        "Cette partie $cap$ va \u00eatre \u00f4t\u00e9e au capital $K$ \u00e0 rembourser de sorte que le mois prochain, la somme pr\u00eat\u00e9e pour le mois sera moindre. Le r\u00e9sulat souhait\u00e9 pour cette question est une liste qui contient ce m\u00eame montant $M$ $n$ fois. Ce $n$ correspond \u00e0 la longueur du pr\u00eat. Et pour \u00eatre plus pr\u00e9cis, le m\u00eame montant $M$ r\u00e9p\u00e9t\u00e9 $n$ fois except\u00e9 pour la derni\u00e8re mensualit\u00e9."
      ]
    },
    {
      "cell_type": "code",
      "execution_count": 6,
      "metadata": {},
      "outputs": [
        {
          "data": {
            "text/plain": [
              "19.666666666666668"
            ]
          },
          "execution_count": 7,
          "metadata": {},
          "output_type": "execute_result"
        }
      ],
      "source": [
        "def mensualites(K,M,p):\n",
        "    res = []\n",
        "    while K > 0:\n",
        "        cap, i = decompose_mensualite(K,M,p)\n",
        "        if cap < 0:\n",
        "            raise Exception(\"probl\u00e8me avec K={0} cap={1} i={2} len={3}\".format(K,cap,i,len(res)))\n",
        "        K -= cap\n",
        "        if K < 0:\n",
        "            res.append(M + K)\n",
        "        else:\n",
        "            res.append(M)\n",
        "    return res\n",
        "\n",
        "len(mensualites(180000,1000,0.029))/12"
      ]
    },
    {
      "cell_type": "code",
      "execution_count": 7,
      "metadata": {},
      "outputs": [
        {
          "data": {
            "text/plain": [
              "[1000, 1000, 1000, 1000, 1000, 1000, 1000, 1000, 1000, 1000, 1000, 1000]"
            ]
          },
          "execution_count": 8,
          "metadata": {},
          "output_type": "execute_result"
        }
      ],
      "source": [
        "mens = mensualites(180000,1000,0.029)\n",
        "mens[:12]"
      ]
    },
    {
      "cell_type": "code",
      "execution_count": 8,
      "metadata": {},
      "outputs": [
        {
          "data": {
            "text/plain": [
              "[1000, 1000, 1000, 1000, 1000, 459.63104825975415]"
            ]
          },
          "execution_count": 9,
          "metadata": {},
          "output_type": "execute_result"
        }
      ],
      "source": [
        "mens[-6:]"
      ]
    },
    {
      "cell_type": "markdown",
      "metadata": {},
      "source": [
        "Parfois ce calcul entre dans une boucle infinie : cela signifie que la somme $K$ ou le taux d'int\u00e9ret est trop grand pour la mensualit\u00e9 $M$. Par cons\u00e9quence, les int\u00e9r\u00eats \u00e0 rembourser chaque mois d\u00e9passe la mensualit\u00e9. Le capital \u00e0 rembourser, plut\u00f4t que de d\u00e9cro\u00eetre augmente. La boucle infinie signifie que l'emprunteur a emprunt\u00e9 une somme au-dessus de ses moyens."
      ]
    },
    {
      "cell_type": "markdown",
      "metadata": {},
      "source": [
        "### Q4\n",
        "\n",
        "Un emprunteur souhaite contracter un emprunt pour $Y$ ann\u00e9es. La mensualit\u00e9 maximum qu'il peut consacrer par mois est $M$, le taux de l'emprunt est $p$. Quelle est la somme maximale qu'on puisse emprunter ? On se contentera d'une valeur approch\u00e9e \u00e0 1000 euros pr\u00e8s.\n",
        "\n",
        "La fonction pr\u00e9c\u00e9dente estime la dur\u00e9e du pr\u00eat. Moins on emprunte, moins la dur\u00e9e est longue. On n'a pas besoin de 20 ans pour emprunter 1000\u20ac. L'id\u00e9e consiste simplement \u00e0 tester de 1000 en 1000 toutes les sommes jusqu'\u00e0 ce que la dur\u00e9e du pr\u00eat d\u00e9passe $Y$ ann\u00e9e soit $12Y$ mois."
      ]
    },
    {
      "cell_type": "code",
      "execution_count": 9,
      "metadata": {},
      "outputs": [
        {
          "data": {
            "text/plain": [
              "183000"
            ]
          },
          "execution_count": 10,
          "metadata": {},
          "output_type": "execute_result"
        }
      ],
      "source": [
        "def somme_maximale(M,p,Y):\n",
        "    K = 20000\n",
        "    l = mensualites(K, M, p)\n",
        "    while len(l) < Y*12:\n",
        "        K += 1000\n",
        "        l = mensualites(K, M, p)\n",
        "    return K\n",
        "        \n",
        "somme_maximale(1000, 0.029, 20)"
      ]
    },
    {
      "cell_type": "markdown",
      "metadata": {},
      "source": [
        "**Remarque :** On pouvait \u00e9galement chercher la somme maximale au del\u00e0 de laquelle le capital \u00e0 rembourser augmente car la mensualit\u00e9 est utilis\u00e9e int\u00e9gralement pour payer les int\u00e9rets. C'est-\u00e0-dire que la fonction ``decompose_mensualite`` retourne une valeur n\u00e9gative ou nulle soit la valeur de $K$ telle que $M = K \\left ( (1+p)^{\\frac{1}{12}}-1 \\right)$. Dans ce cas, c'est comme si la dur\u00e9e du pr\u00eat devenait infinie. Cette somme est n\u00e9cessairement sup\u00e9rieur \u00e0 la valeur cherch\u00e9e qui correspond \u00e0 une dur\u00e9e de pr\u00eat finie."
      ]
    },
    {
      "cell_type": "markdown",
      "metadata": {},
      "source": [
        "**Remarque :** Est-on s\u00fbr que la longueur des bien ``Y*12`` ? \n",
        "    \n",
        "En effet, rien de le garantit. Il faudrait s'assurer que le nombre de mensualit\u00e9s ne saute pas des ann\u00e9es comme la version suivante o\u00f9 on passe 10000 en 10000 et la valeur est"
      ]
    },
    {
      "cell_type": "code",
      "execution_count": 10,
      "metadata": {},
      "outputs": [
        {
          "name": "stdout",
          "output_type": "stream",
          "text": [
            "K 140000 mois 171 ann\u00e9es 14\n",
            "K 150000 mois 186 ann\u00e9es 15\n",
            "K 160000 mois 202 ann\u00e9es 16\n",
            "K 170000 mois 219 ann\u00e9es 18\n",
            "K 180000 mois 236 ann\u00e9es 19\n",
            "K 190000 mois 254 ann\u00e9es 21\n"
          ]
        },
        {
          "data": {
            "text/plain": [
              "190000"
            ]
          },
          "execution_count": 11,
          "metadata": {},
          "output_type": "execute_result"
        }
      ],
      "source": [
        "def somme_maximale_step(M,p,Y,step=10000):\n",
        "    K = 20000\n",
        "    l = mensualites(K, M, p)\n",
        "    while len(l) < Y*12:\n",
        "        K += step\n",
        "        l = mensualites(K, M, p)\n",
        "        if len(l) >= (Y-3)*10:\n",
        "            print(\"K\", K,\"mois\", len(l), \"ann\u00e9es\", len(l)//12)\n",
        "    return K\n",
        "        \n",
        "somme_maximale_step(1000, 0.029, 20)"
      ]
    },
    {
      "cell_type": "code",
      "execution_count": 11,
      "metadata": {},
      "outputs": [
        {
          "name": "stdout",
          "output_type": "stream",
          "text": [
            "K 139000 mois 170 ann\u00e9es 14\n",
            "K 140000 mois 171 ann\u00e9es 14\n",
            "K 141000 mois 173 ann\u00e9es 14\n",
            "K 142000 mois 174 ann\u00e9es 14\n",
            "K 143000 mois 176 ann\u00e9es 14\n",
            "K 144000 mois 177 ann\u00e9es 14\n",
            "K 145000 mois 179 ann\u00e9es 14\n",
            "K 146000 mois 180 ann\u00e9es 15\n",
            "K 147000 mois 182 ann\u00e9es 15\n",
            "K 148000 mois 183 ann\u00e9es 15\n",
            "K 149000 mois 185 ann\u00e9es 15\n",
            "K 150000 mois 186 ann\u00e9es 15\n",
            "K 151000 mois 188 ann\u00e9es 15\n",
            "K 152000 mois 190 ann\u00e9es 15\n",
            "K 153000 mois 191 ann\u00e9es 15\n",
            "K 154000 mois 193 ann\u00e9es 16\n",
            "K 155000 mois 194 ann\u00e9es 16\n",
            "K 156000 mois 196 ann\u00e9es 16\n",
            "K 157000 mois 197 ann\u00e9es 16\n",
            "K 158000 mois 199 ann\u00e9es 16\n",
            "K 159000 mois 201 ann\u00e9es 16\n",
            "K 160000 mois 202 ann\u00e9es 16\n",
            "K 161000 mois 204 ann\u00e9es 17\n",
            "K 162000 mois 206 ann\u00e9es 17\n",
            "K 163000 mois 207 ann\u00e9es 17\n",
            "K 164000 mois 209 ann\u00e9es 17\n",
            "K 165000 mois 210 ann\u00e9es 17\n",
            "K 166000 mois 212 ann\u00e9es 17\n",
            "K 167000 mois 214 ann\u00e9es 17\n",
            "K 168000 mois 215 ann\u00e9es 17\n",
            "K 169000 mois 217 ann\u00e9es 18\n",
            "K 170000 mois 219 ann\u00e9es 18\n",
            "K 171000 mois 220 ann\u00e9es 18\n",
            "K 172000 mois 222 ann\u00e9es 18\n",
            "K 173000 mois 224 ann\u00e9es 18\n",
            "K 174000 mois 226 ann\u00e9es 18\n",
            "K 175000 mois 227 ann\u00e9es 18\n",
            "K 176000 mois 229 ann\u00e9es 19\n",
            "K 177000 mois 231 ann\u00e9es 19\n",
            "K 178000 mois 232 ann\u00e9es 19\n",
            "K 179000 mois 234 ann\u00e9es 19\n",
            "K 180000 mois 236 ann\u00e9es 19\n",
            "K 181000 mois 238 ann\u00e9es 19\n",
            "K 182000 mois 239 ann\u00e9es 19\n",
            "K 183000 mois 241 ann\u00e9es 20\n"
          ]
        },
        {
          "data": {
            "text/plain": [
              "183000"
            ]
          },
          "execution_count": 12,
          "metadata": {},
          "output_type": "execute_result"
        }
      ],
      "source": [
        "somme_maximale_step(1000, 0.029, 20, step=1000)"
      ]
    },
    {
      "cell_type": "markdown",
      "metadata": {},
      "source": [
        "M\u00eame dans ce cas, on ne tombe pas exactement sur 20 ans. Il faudrait avoir une valeur pour ``step`` variable pour traiter tous les cas. Par exemple, d\u00e8s que le nombre de mois augmente de plus de 1, on divise $K$ par 2. La pr\u00e9cision serait au mois pr\u00e8s."
      ]
    },
    {
      "cell_type": "code",
      "execution_count": 12,
      "metadata": {
        "scrolled": false
      },
      "outputs": [
        {
          "name": "stdout",
          "output_type": "stream",
          "text": [
            "K 175312.5 mois 228 ann\u00e9es 19 step 312.5\n",
            "K 175625.0 mois 228 ann\u00e9es 19 step 312.5\n",
            "K 175937.5 mois 229 ann\u00e9es 19 step 312.5\n",
            "K 176250.0 mois 229 ann\u00e9es 19 step 312.5\n",
            "K 176562.5 mois 230 ann\u00e9es 19 step 312.5\n",
            "K 176875.0 mois 231 ann\u00e9es 19 step 312.5\n",
            "K 177187.5 mois 231 ann\u00e9es 19 step 312.5\n",
            "K 177500.0 mois 232 ann\u00e9es 19 step 312.5\n",
            "K 177812.5 mois 232 ann\u00e9es 19 step 312.5\n",
            "K 178125.0 mois 233 ann\u00e9es 19 step 312.5\n",
            "K 178437.5 mois 233 ann\u00e9es 19 step 312.5\n",
            "K 178750.0 mois 234 ann\u00e9es 19 step 312.5\n",
            "K 179062.5 mois 234 ann\u00e9es 19 step 312.5\n",
            "K 179375.0 mois 235 ann\u00e9es 19 step 312.5\n",
            "K 179687.5 mois 235 ann\u00e9es 19 step 312.5\n",
            "K 180000.0 mois 236 ann\u00e9es 19 step 312.5\n",
            "K 180312.5 mois 237 ann\u00e9es 19 step 312.5\n",
            "K 180625.0 mois 237 ann\u00e9es 19 step 312.5\n",
            "K 180937.5 mois 238 ann\u00e9es 19 step 312.5\n",
            "K 181250.0 mois 238 ann\u00e9es 19 step 312.5\n",
            "K 181562.5 mois 239 ann\u00e9es 19 step 312.5\n",
            "K 181875.0 mois 239 ann\u00e9es 19 step 312.5\n",
            "K 182187.5 mois 240 ann\u00e9es 20 step 312.5\n"
          ]
        },
        {
          "data": {
            "text/plain": [
              "182187.5"
            ]
          },
          "execution_count": 13,
          "metadata": {},
          "output_type": "execute_result"
        }
      ],
      "source": [
        "def somme_maximale_mois_step(M,p,Y,step=10000):\n",
        "    K = 20000\n",
        "    l = mensualites(K, M, p)\n",
        "    l0 = l\n",
        "    while len(l) < Y*12:\n",
        "        while True:\n",
        "            l = mensualites(K + step, M, p)\n",
        "            if len(l) > len(l0) + 1:\n",
        "                step /= 2\n",
        "            else:\n",
        "                K += step\n",
        "                l0 = l\n",
        "                break\n",
        "        if len(l) >= (Y-1)*12:\n",
        "            print(\"K\", K,\"mois\", len(l), \"ann\u00e9es\", len(l)//12, \"step\", step)\n",
        "    return K\n",
        "        \n",
        "somme_maximale_mois_step(1000, 0.029, 20)"
      ]
    },
    {
      "cell_type": "markdown",
      "metadata": {
        "collapsed": true
      },
      "source": [
        "### Q5 \n",
        "\n",
        "A Paris, on loue un appartement pour $L$ euros du m$^2$. Un parisien loue son appartement de $S m^2$ pour $SL$ euros. Ce parisien peut d\u00e9penser $A$ euros par mois r\u00e9partis en $SL$ le loyer et $A-SL$ les \u00e9conomies. Ecrire une fonction qui calcule les \u00e9conomies r\u00e9alis\u00e9es au bout de $Y$ ann\u00e9es.\n",
        "\n",
        "Apr\u00e8s les \u00e9tudes, ce parisien ne dispose d'aucun apport financier. Il commence par louer un appartement. Chaque mois, il envisage de consacrer  $A$ euros. Il loue un apprtement suffisamment de petit de telle sorte que le loyer est inf\u00e9rieur \u00e0 $A$. Chaque mois, il \u00e9conomise la diff\u00e9rence. Chaque euros \u00e9conomise est plac\u00e9 \u00e0 taux fixe annuel $r$, donc au taux mensuel $rm = (1+r)^{\\frac{1}{12}}-1$. Cette fonction calcule les \u00e9conomies r\u00e9alis\u00e9es."
      ]
    },
    {
      "cell_type": "code",
      "execution_count": 13,
      "metadata": {},
      "outputs": [
        {
          "data": {
            "text/plain": [
              "25862.65218705509"
            ]
          },
          "execution_count": 14,
          "metadata": {},
          "output_type": "execute_result"
        }
      ],
      "source": [
        "def economie(A,S,L,r,Y):\n",
        "    delta = A - S*L\n",
        "    rm = ((1+r)**(1.0/12)-1)\n",
        "    eco = 0\n",
        "    nbm = Y*12\n",
        "    while nbm > 0:\n",
        "        eco = eco * (1+rm) + delta\n",
        "        nbm -= 1\n",
        "    return eco\n",
        "\n",
        "economie(1000,40,20,0.015,10)"
      ]
    },
    {
      "cell_type": "markdown",
      "metadata": {},
      "source": [
        "### Q6\n",
        "\n",
        "En consid\u00e9rant que ce m\u00eame parisien ne peut d\u00e9penser plus de $A$ euros par mois, qu'il ne poss\u00e8de rien au d\u00e9but de sa carri\u00e8re professionnelle, on veut savoir \u00e0 partir de combien d'ann\u00e9es il sera en mesure d'acheter son appartement \u00e0 supposer qu'il peut se constituer un apport en capital issu de ces \u00e9conomies. On suppose que le prix au m\u00e8tre carr\u00e9 \u00e0 Paris est $C$ et qu'il veut emprunter avec un pr\u00eat d'une dur\u00e9e fixe. \n",
        "\n",
        "\n",
        "Si on r\u00e9sume, le parisen n'a pas les moyens d'acheter son appartement d\u00e8s la fin de ses \u00e9tudes. Il commence \u00e0 louer et \u00e9conomise. La somme $A$ correspond \u00e0 un tiers de son salaire, il sait \u00e9galement qu'avec une mensualit\u00e9 de $A$, il peut emprunter au maximum sur 20 ans `` somme_maximale(A,p,20)``. Il pourra donc acheter un appartement de la m\u00eame surface lorsque ses \u00e9conomies ajout\u00e9es \u00e0 la somme maximale qu'il peut emprunter d\u00e9passeront le prix de l'appartement.\n",
        "\n",
        "On regarde chaque ann\u00e9e si les \u00e9conomies accumul\u00e9es permettent \u00e0 ce parisien d'acheter."
      ]
    },
    {
      "cell_type": "code",
      "execution_count": 14,
      "metadata": {},
      "outputs": [
        {
          "data": {
            "image/png": "[encoded data removed]",
            "text/plain": [
              "<IPython.core.display.Image object>"
            ]
          },
          "execution_count": 15,
          "metadata": {},
          "output_type": "execute_result"
        }
      ],
      "source": [
        "from pyquickhelper.helpgen import NbImage\n",
        "NbImage(\"exam2016_values.png\")"
      ]
    },
    {
      "cell_type": "code",
      "execution_count": 15,
      "metadata": {},
      "outputs": [
        {
          "data": {
            "text/plain": [
              "29"
            ]
          },
          "execution_count": 16,
          "metadata": {},
          "output_type": "execute_result"
        }
      ],
      "source": [
        "def bascule(A,S,L,r,Y,C,p):\n",
        "    Y = 0\n",
        "    possible = C*S\n",
        "    while possible > 0:\n",
        "        Y += 1\n",
        "        eco = economie(A,S,L,r,Y)\n",
        "        somme = somme_maximale(A,p,Y)\n",
        "        possible = C*S - somme - eco\n",
        "    return Y\n",
        "\n",
        "bascule(1000,40,20,0.015,20,8000,0.029)"
      ]
    },
    {
      "cell_type": "markdown",
      "metadata": {},
      "source": [
        "### Q7 exo 1\n",
        "\n",
        "Ecrire une fonction qui d\u00e9termine la plus petite surface que ce parisien ne pourra jamais s'offrir avant 20 ans au m\u00e8tre carr\u00e9 pr\u00e8s.\n",
        "\n",
        "Le raisonnement est toujours le m\u00eame, on regarde des plus petites surfaces aux plus grandes la surface que ce parisien pourra s'offrir. La fonction ``bascule`` indique quand un parisien peut acheter son appartement pour la premi\u00e8re fois. Il suffit de partir d'une petite surface et de lui ajouter des m\u00e8tres carr\u00e9s jusqu'\u00e0 ce que le moment de bascule se produise 20 ans apr\u00e8s avoir commenc\u00e9 \u00e0 travailler."
      ]
    },
    {
      "cell_type": "code",
      "execution_count": 16,
      "metadata": {},
      "outputs": [
        {
          "data": {
            "text/plain": [
              "34"
            ]
          },
          "execution_count": 17,
          "metadata": {},
          "output_type": "execute_result"
        }
      ],
      "source": [
        "def surface_max(A,L,r,Y,C,p,delay=20):\n",
        "    S = 1\n",
        "    wait = bascule(A,S,L,r,Y,C,p)\n",
        "    while wait < delay:\n",
        "        S += 1\n",
        "        wait = bascule(A,S,L,r,Y,C,p)\n",
        "    return S\n",
        "\n",
        "surface_max(1000,20,0.015,20,8000,0.029)"
      ]
    },
    {
      "cell_type": "markdown",
      "metadata": {},
      "source": [
        "### Q7 exo 2\n",
        "\n",
        "D\u00e9terminer la somme $A$ qu'il faille investir pour acheter 40 $m^2$ \u00e0 30 ans en supposant que ce parisien a commenc\u00e9 \u00e0 travailler \u00e0 23 ans et commence \u00e0 louer un appartement de cette surface.\n",
        "\n",
        "Le raisonnement est identique au question pr\u00e9c\u00e9dente. On commence par des mensualit\u00e9s $A$ \u00e9lev\u00e9es qu'on fait d\u00e9cro\u00eetre jusqu'\u00e0 ce que le parisien ne puisse plus s'offrir son appartement."
      ]
    },
    {
      "cell_type": "code",
      "execution_count": 17,
      "metadata": {},
      "outputs": [
        {
          "data": {
            "text/plain": [
              "2600"
            ]
          },
          "execution_count": 18,
          "metadata": {},
          "output_type": "execute_result"
        }
      ],
      "source": [
        "def A40a30(L,r,Y,C,p):\n",
        "    A = 10000\n",
        "    S = 40\n",
        "    wait = bascule(A,S,L,r,Y,C,p)\n",
        "    while wait < 7:\n",
        "        A -= 100\n",
        "        wait = bascule(A,S,L,r,Y,C,p)\n",
        "    return A\n",
        "\n",
        "A40a30(20,0.015,20,8000,0.029)"
      ]
    },
    {
      "cell_type": "markdown",
      "metadata": {},
      "source": [
        "### Q8 \n",
        "\n",
        "Ce mod\u00e8le ne prend pas en compte tous les param\u00e8tres de la vie r\u00e9elle. Citez-en un. \n",
        "\n",
        "* L'inflation\n",
        "* Les augmentations de salaires\n",
        "* L'augmentation du prix au m\u00e8tre carr\u00e9\n",
        "* ..."
      ]
    },
    {
      "cell_type": "markdown",
      "metadata": {},
      "source": [
        "### Q9 version dichotomique de Q4\n",
        "\n",
        "On utilise la fonction *decompose_mensualite* pour calculer la somme maximale qu'une personne puisse emprunter avec une mensualit\u00e9 *M*, \u00e0 savoir tout passe en int\u00e9r\u00eat ``M / ((1+p)**(1.0/12)-1)`` o\u00f9 celle qui correspond \u00e0 un nombre de mensualit\u00e9 infini.\n",
        "\n",
        "La r\u00e9ponse que l'on cherche est une somme mais celle-ci est une fonction croissante de la dur\u00e9e du pr\u00eat. Plut\u00f4t que de donner plus d'explications \u00e0 ce sujet, je sugg\u00e8re de lire le probl\u00e8me [Problem C. Egg Drop](https://code.google.com/codejam/contest/32003/dashboard#s=p2). La m\u00eame solution ne s'applique pas ici mais c'est le m\u00eame \u00e9tat d'esprit qui permet de la trouver. La solution que je propose n'est pas n\u00e9cessairement la meilleure mais elle est certainement plus rapide que la premi\u00e8re propos\u00e9e. \n",
        "\n",
        "La ligne avec ``###`` est la plus importante. On multiplie les pas de recherche pas un coefficient. Sup\u00e9rieur \u00e0 1 : l'algorithme ne peut pas converger. Inf\u00e9rieur \u00e0 1 : le pas doit \u00eatre suffisamment grand pour converger vers la vraie valeur. Cela d\u00e9pend de la d\u00e9riv\u00e9e $\\frac{df}{dK}$ o\u00f9 $f$ est la dur\u00e9e du pr\u00eat ``len(mensualites(K, M, p))``."
      ]
    },
    {
      "cell_type": "code",
      "execution_count": 18,
      "metadata": {
        "scrolled": true
      },
      "outputs": [
        {
          "data": {
            "text/plain": [
              "182199.99817640134"
            ]
          },
          "execution_count": 19,
          "metadata": {},
          "output_type": "execute_result"
        }
      ],
      "source": [
        "def somme_maximale_dicho(M,p,Y):\n",
        "    K_max = M / ((1+p)**(1.0/12)-1)\n",
        "    K = K_max / 2\n",
        "    step = 0.5\n",
        "    dk = K * step\n",
        "    l = mensualites(K, M, p)\n",
        "    while len(l) != Y*12 and dk > 1e-5:\n",
        "        if len(l) < Y*12:\n",
        "            K += dk\n",
        "            K = min(K_max - 1000, K)\n",
        "        else:\n",
        "            K -= dk\n",
        "        dk *= step   ###\n",
        "        l = mensualites(K, M, p)\n",
        "    if len(l) != Y*12:\n",
        "        raise Exception(\"il faut augmenter step\")\n",
        "    return K\n",
        "        \n",
        "somme_maximale_dicho(1000, 0.029, 20)"
      ]
    },
    {
      "cell_type": "markdown",
      "metadata": {},
      "source": [
        "Le param\u00e8tre ``dk`` donne une indication de la pr\u00e9cision. On compare les temps d'ex\u00e9cution :"
      ]
    },
    {
      "cell_type": "code",
      "execution_count": 19,
      "metadata": {},
      "outputs": [
        {
          "name": "stdout",
          "output_type": "stream",
          "text": [
            "10 loops, best of 3: 25.7 ms per loop\n",
            "100 loops, best of 3: 2.8 ms per loop\n"
          ]
        }
      ],
      "source": [
        "%timeit somme_maximale(1000, 0.029, 20)\n",
        "%timeit somme_maximale_dicho(1000, 0.029, 20)"
      ]
    },
    {
      "cell_type": "markdown",
      "metadata": {},
      "source": [
        "## Exercice 2 : coder les num\u00e9ros de t\u00e9l\u00e9phone"
      ]
    },
    {
      "cell_type": "markdown",
      "metadata": {},
      "source": [
        "### Q1 \n",
        "\n",
        "Michel perd souvent ses carnets de num\u00e9ros et pour \u00e9viter d'importuner ses proches de recevoir des coups de fils impromptus, il utilise un code. Si la premi\u00e8re lettre est une voyelle, il permute les num\u00e9ros 3 et 4 sinon il les laisse en l'\u00e9tat. Si la seconde lettre est une voyelle, il permute les num\u00e9ros 5 et 6, rien en cas de consonnes. Exemple (on enl\u00e8ve volontairement les accents) :\n",
        "\n",
        "    adele   06 64 34 22 67 --> 06 46 34 22 67\n",
        "    gerard  06 64 34 22 68 --> 06 64 43 22 86\n",
        "    \n",
        "Ecrire la fonction qui transforme un num\u00e9ro. Il est recommand\u00e9 de ne pas tenir compte des espaces."
      ]
    },
    {
      "cell_type": "code",
      "execution_count": 20,
      "metadata": {},
      "outputs": [
        {
          "data": {
            "text/plain": [
              "'0646342267'"
            ]
          },
          "execution_count": 21,
          "metadata": {},
          "output_type": "execute_result"
        }
      ],
      "source": [
        "def transforme_numero(prenom, numero):\n",
        "    res = numero[:2]\n",
        "    for i, c in enumerate(prenom):\n",
        "        if c in \"aeiouy\":\n",
        "            res += numero[i*2+3] + numero[i*2+2]\n",
        "        else:\n",
        "            res += numero[i*2+2:i*2+4]\n",
        "        if len(res) >= len(numero):\n",
        "            break\n",
        "    return res\n",
        "\n",
        "transforme_numero(\"adele\", \"0664342267\")"
      ]
    },
    {
      "cell_type": "markdown",
      "metadata": {},
      "source": [
        "### Q2 \n",
        "\n",
        "Ecrire la fonction qui effectue la transformation inverse. La r\u00e9ciproque est en fait la m\u00eame fonction."
      ]
    },
    {
      "cell_type": "code",
      "execution_count": 21,
      "metadata": {},
      "outputs": [
        {
          "data": {
            "text/plain": [
              "'0664342267'"
            ]
          },
          "execution_count": 22,
          "metadata": {},
          "output_type": "execute_result"
        }
      ],
      "source": [
        "transforme_numero(\"adele\", \"0646342267\")"
      ]
    },
    {
      "cell_type": "markdown",
      "metadata": {
        "collapsed": true
      },
      "source": [
        "## Exercice 3 : coder les num\u00e9ros de t\u00e9l\u00e9phone"
      ]
    },
    {
      "cell_type": "markdown",
      "metadata": {},
      "source": [
        "### Q1\n",
        "\n",
        "Michel perd souvent ses carnets de num\u00e9ros et pour \u00e9viter d'importuner ses proches de recevoir des coups de fils impromptus, il utilise un code. Si la premi\u00e8re lettre est une voyelle, il fait la somme des chiffres 3 et 4 et remplace le chiffre 4 par celui des unit\u00e9s de l'addition, sinon il les laisse en l'\u00e9tat. Si la seconde lettre est une voyelle, il additionne les chiffres 5 et 6 et remplace le chiffre 6 par celui des unit\u00e9s de l'addition, rien en cas de consonnes. Exemple (on enl\u00e8ve volontairement les accents) :\n",
        "\n",
        "    adele   06 64 34 22 67 --> 06 60 34 24 67\n",
        "    gerard  06 64 34 22 68 --> 06 64 37 22 64\n",
        "\n",
        "Ecrire la fonction qui transforme un num\u00e9ro. Il est recommand\u00e9 de ne pas tenir compte des espaces."
      ]
    },
    {
      "cell_type": "code",
      "execution_count": 22,
      "metadata": {},
      "outputs": [
        {
          "data": {
            "text/plain": [
              "'0660342467'"
            ]
          },
          "execution_count": 23,
          "metadata": {},
          "output_type": "execute_result"
        }
      ],
      "source": [
        "def transforme_numero(prenom, numero):\n",
        "    res = numero[:2]\n",
        "    for i, c in enumerate(prenom):\n",
        "        if c in \"aeiouy\":\n",
        "            res += numero[i*2+2] + str ( (int(numero[i*2+2]) + int(numero[i*2+3])) % 10)\n",
        "        else:\n",
        "            res += numero[i*2+2:i*2+4]\n",
        "        if len(res) >= len(numero):\n",
        "            break\n",
        "    return res\n",
        "\n",
        "transforme_numero(\"adele\", \"0664342267\")"
      ]
    },
    {
      "cell_type": "markdown",
      "metadata": {},
      "source": [
        "### Q2\n",
        "\n",
        "A votre avis, est-il possible d'\u00e9crire la fonction qui effectue la transformation inverse. Justifiez.\n",
        "\n",
        "Oui et voici la r\u00e9ciproque. On consid\u00e8re un groupe de chiffre modifi\u00e9, l'important est de comprendre que si le second chiffre est inf\u00e9rieur au premier alors la somme des deux chiffres initiaux d\u00e9passe n\u00e9cessairement 10."
      ]
    },
    {
      "cell_type": "code",
      "execution_count": 23,
      "metadata": {},
      "outputs": [
        {
          "data": {
            "text/plain": [
              "'0664342267'"
            ]
          },
          "execution_count": 24,
          "metadata": {},
          "output_type": "execute_result"
        }
      ],
      "source": [
        "def transforme_numero_envers(prenom, numero):\n",
        "    res = numero[:2]\n",
        "    for i, c in enumerate(prenom):\n",
        "        if c in \"aeiouy\":\n",
        "            res += numero[i*2+2] + str ( (int(numero[i*2+3]) - int(numero[i*2+2]) + 10) % 10)\n",
        "        else:\n",
        "            res += numero[i*2+2:i*2+4]\n",
        "        if len(res) >= len(numero):\n",
        "            break\n",
        "    return res\n",
        "\n",
        "transforme_numero_envers(\"adele\", \"0660342467\")"
      ]
    },
    {
      "cell_type": "markdown",
      "metadata": {},
      "source": [
        "**Remarque :** Beaucoup ont affront\u00e9 l'erreur suivante"
      ]
    },
    {
      "cell_type": "code",
      "execution_count": 24,
      "metadata": {},
      "outputs": [
        {
          "ename": "TypeError",
          "evalue": "unorderable types: str() < int()",
          "output_type": "error",
          "traceback": [
            "\u001b[1;31m---------------------------------------------------------------------------\u001b[0m",
            "\u001b[1;31mTypeError\u001b[0m                                 Traceback (most recent call last)",
            "\u001b[1;32m<ipython-input-1-9b3e94b6565a>\u001b[0m in \u001b[0;36m<module>\u001b[1;34m()\u001b[0m\n\u001b[1;32m----> 1\u001b[1;33m \u001b[1;34m\"3\"\u001b[0m \u001b[1;33m<\u001b[0m \u001b[1;36m4\u001b[0m\u001b[1;33m\u001b[0m\u001b[0m\n\u001b[0m",
            "\u001b[1;31mTypeError\u001b[0m: unorderable types: str() < int()"
          ]
        }
      ],
      "source": [
        "# d\u00e9clenche une exception\n",
        "\"3\" < 4"
      ]
    },
    {
      "cell_type": "markdown",
      "metadata": {},
      "source": [
        "Comme l'exemple le stipule, cela survient lorsqu'on essaye de faire une comparison num\u00e9rique entre une cha\u00eene de caract\u00e8res et un type num\u00e9rique. Il faut convertir la cha\u00eene de caract\u00e8res."
      ]
    },
    {
      "cell_type": "code",
      "execution_count": 25,
      "metadata": {},
      "outputs": [
        {
          "data": {
            "text/plain": [
              "True"
            ]
          },
          "execution_count": 26,
          "metadata": {},
          "output_type": "execute_result"
        }
      ],
      "source": [
        "int(\"3\") < 4"
      ]
    },
    {
      "cell_type": "code",
      "execution_count": 26,
      "metadata": {
        "collapsed": true
      },
      "outputs": [],
      "source": []
    }
  ],
  "metadata": {
    "kernelspec": {
      "display_name": "Python 3",
      "language": "python",
      "name": "python3"
    },
    "language_info": {
      "codemirror_mode": {
        "name": "ipython",
        "version": 3
      },
      "file_extension": ".py",
      "mimetype": "text/x-python",
      "name": "python",
      "nbconvert_exporter": "python",
      "pygments_lexer": "ipython3",
      "version": "3.6.1"
    }
  },
  "nbformat": 4,
  "nbformat_minor": 1
}