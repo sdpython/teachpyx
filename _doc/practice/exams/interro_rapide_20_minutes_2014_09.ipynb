{
  "cells": [
    {
      "cell_type": "markdown",
      "metadata": {},
      "source": [
        "# 1A.e - Correction de l'interrogation \u00e9crite du 26 septembre 2014\n",
        "\n",
        "cha\u00eene de caract\u00e8res, tri, fonction"
      ]
    },
    {
      "cell_type": "code",
      "execution_count": 1,
      "metadata": {},
      "outputs": [
        {
          "data": {
            "text/html": [
              "<div id=\"my_id_menu_nb\">run previous cell, wait for 2 seconds</div>\n",
              "<script>\n",
              "function repeat_indent_string(n){\n",
              "    var a = \"\" ;\n",
              "    for ( ; n > 0 ; --n)\n",
              "        a += \"    \";\n",
              "    return a;\n",
              "}\n",
              "var update_menu_string = function(begin, lfirst, llast, sformat, send, keep_item, begin_format, end_format) {\n",
              "    var anchors = document.getElementsByClassName(\"section\");\n",
              "    if (anchors.length == 0) {\n",
              "        anchors = document.getElementsByClassName(\"text_cell_render rendered_html\");\n",
              "    }\n",
              "    var i,t;\n",
              "    var text_menu = begin;\n",
              "    var text_memo = \"<pre>\\nlength:\" + anchors.length + \"\\n\";\n",
              "    var ind = \"\";\n",
              "    var memo_level = 1;\n",
              "    var href;\n",
              "    var tags = [];\n",
              "    var main_item = 0;\n",
              "    var format_open = 0;\n",
              "    for (i = 0; i <= llast; i++)\n",
              "        tags.push(\"h\" + i);\n",
              "\n",
              "    for (i = 0; i < anchors.length; i++) {\n",
              "        text_memo += \"**\" + anchors[i].id + \"--\\n\";\n",
              "\n",
              "        var child = null;\n",
              "        for(t = 0; t < tags.length; t++) {\n",
              "            var r = anchors[i].getElementsByTagName(tags[t]);\n",
              "            if (r.length > 0) {\n",
              "child = r[0];\n",
              "break;\n",
              "            }\n",
              "        }\n",
              "        if (child == null) {\n",
              "            text_memo += \"null\\n\";\n",
              "            continue;\n",
              "        }\n",
              "        if (anchors[i].hasAttribute(\"id\")) {\n",
              "            // when converted in RST\n",
              "            href = anchors[i].id;\n",
              "            text_memo += \"#1-\" + href;\n",
              "            // passer \u00e0 child suivant (le chercher)\n",
              "        }\n",
              "        else if (child.hasAttribute(\"id\")) {\n",
              "            // in a notebook\n",
              "            href = child.id;\n",
              "            text_memo += \"#2-\" + href;\n",
              "        }\n",
              "        else {\n",
              "            text_memo += \"#3-\" + \"*\" + \"\\n\";\n",
              "            continue;\n",
              "        }\n",
              "        var title = child.textContent;\n",
              "        var level = parseInt(child.tagName.substring(1,2));\n",
              "\n",
              "        text_memo += \"--\" + level + \"?\" + lfirst + \"--\" + title + \"\\n\";\n",
              "\n",
              "        if ((level < lfirst) || (level > llast)) {\n",
              "            continue ;\n",
              "        }\n",
              "        if (title.endsWith('\u00b6')) {\n",
              "            title = title.substring(0,title.length-1).replace(\"<\", \"&lt;\")\n",
              "         .replace(\">\", \"&gt;\").replace(\"&\", \"&amp;\");\n",
              "        }\n",
              "        if (title.length == 0) {\n",
              "            continue;\n",
              "        }\n",
              "\n",
              "        while (level < memo_level) {\n",
              "            text_menu += end_format + \"</ul>\\n\";\n",
              "            format_open -= 1;\n",
              "            memo_level -= 1;\n",
              "        }\n",
              "        if (level == lfirst) {\n",
              "            main_item += 1;\n",
              "        }\n",
              "        if (keep_item != -1 && main_item != keep_item + 1) {\n",
              "            // alert(main_item + \" - \" + level + \" - \" + keep_item);\n",
              "            continue;\n",
              "        }\n",
              "        while (level > memo_level) {\n",
              "            text_menu += \"<ul>\\n\";\n",
              "            memo_level += 1;\n",
              "        }\n",
              "        text_menu += repeat_indent_string(level-2);\n",
              "        text_menu += begin_format + sformat.replace(\"__HREF__\", href).replace(\"__TITLE__\", title);\n",
              "        format_open += 1;\n",
              "    }\n",
              "    while (1 < memo_level) {\n",
              "        text_menu += end_format + \"</ul>\\n\";\n",
              "        memo_level -= 1;\n",
              "        format_open -= 1;\n",
              "    }\n",
              "    text_menu += send;\n",
              "    //text_menu += \"\\n\" + text_memo;\n",
              "\n",
              "    while (format_open > 0) {\n",
              "        text_menu += end_format;\n",
              "        format_open -= 1;\n",
              "    }\n",
              "    return text_menu;\n",
              "};\n",
              "var update_menu = function() {\n",
              "    var sbegin = \"\";\n",
              "    var sformat = '<a href=\"#__HREF__\">__TITLE__</a>';\n",
              "    var send = \"\";\n",
              "    var begin_format = '<li>';\n",
              "    var end_format = '</li>';\n",
              "    var keep_item = -1;\n",
              "    var text_menu = update_menu_string(sbegin, 2, 4, sformat, send, keep_item,\n",
              "       begin_format, end_format);\n",
              "    var menu = document.getElementById(\"my_id_menu_nb\");\n",
              "    menu.innerHTML=text_menu;\n",
              "};\n",
              "window.setTimeout(update_menu,2000);\n",
              "            </script>"
            ],
            "text/plain": [
              "<IPython.core.display.HTML object>"
            ]
          },
          "execution_count": 2,
          "metadata": {},
          "output_type": "execute_result"
        }
      ],
      "source": [
        "from jyquickhelper import add_notebook_menu\n",
        "add_notebook_menu()"
      ]
    },
    {
      "cell_type": "markdown",
      "metadata": {},
      "source": [
        "### Enonc\u00e9 1"
      ]
    },
    {
      "cell_type": "markdown",
      "metadata": {},
      "source": [
        "#### Q1\n",
        "\n",
        "Ecrire une fonction qui retourne 1 si $n$ est un multiple de 2014."
      ]
    },
    {
      "cell_type": "code",
      "execution_count": 2,
      "metadata": {},
      "outputs": [
        {
          "name": "stdout",
          "output_type": "stream",
          "text": [
            "1 0\n"
          ]
        }
      ],
      "source": [
        "def mul2014(n):\n",
        "    return 1 if n % 2014 == 0 else 0\n",
        "\n",
        "print(mul2014(2014), mul2014(2015))"
      ]
    },
    {
      "cell_type": "markdown",
      "metadata": {},
      "source": [
        "Pour cette question, quelques \u00e9l\u00e8ves ont v\u00e9rifi\u00e9 que ``n`` \u00e9tait plus petit que 2014 d'abord. Ce n'est pas vraiment la peine."
      ]
    },
    {
      "cell_type": "markdown",
      "metadata": {},
      "source": [
        "#### Q2\n",
        "\n",
        "Calculer le minimum des cosinus des entiers de 1 \u00e0 10."
      ]
    },
    {
      "cell_type": "code",
      "execution_count": 3,
      "metadata": {},
      "outputs": [
        {
          "data": {
            "text/plain": [
              "-0.9899924966004454"
            ]
          },
          "execution_count": 4,
          "metadata": {},
          "output_type": "execute_result"
        }
      ],
      "source": [
        "import math\n",
        "min ( math.cos(i) for i in range(1,11) )"
      ]
    },
    {
      "cell_type": "markdown",
      "metadata": {},
      "source": [
        "``range(0,10)`` va de 0 \u00e0 10 exclu."
      ]
    },
    {
      "cell_type": "code",
      "execution_count": 4,
      "metadata": {},
      "outputs": [
        {
          "data": {
            "text/plain": [
              "[0, 1, 2, 3, 4, 5, 6, 7, 8, 9]"
            ]
          },
          "execution_count": 5,
          "metadata": {},
          "output_type": "execute_result"
        }
      ],
      "source": [
        "list(range(0,10))"
      ]
    },
    {
      "cell_type": "markdown",
      "metadata": {},
      "source": [
        "#### Q3\n",
        "\n",
        "Ecire une fonction qui v\u00e9rifie qu'une cha\u00eene de caract\u00e8res est sym\u00e9trique (ex: ``kayak``)."
      ]
    },
    {
      "cell_type": "code",
      "execution_count": 5,
      "metadata": {},
      "outputs": [
        {
          "name": "stdout",
          "output_type": "stream",
          "text": [
            "True False\n"
          ]
        }
      ],
      "source": [
        "def symetrie(s):\n",
        "    i=0\n",
        "    j=len(s)-1\n",
        "    while i < j :\n",
        "        if s[i] != s[j] : return False\n",
        "        i += 1\n",
        "        j -= 1\n",
        "    return True\n",
        "\n",
        "print(symetrie(\"kayak\"), symetrie(\"kakaks\"))"
      ]
    },
    {
      "cell_type": "markdown",
      "metadata": {},
      "source": [
        "Sur cette question, on fait r\u00e9guli\u00e8rement deux erreurs lorsqu'on commence \u00e0 programmer :\n",
        "\n",
        "* Le dernier indice est ``len(s)-1`` et non ``len(s)``. Le premier indice est 0.\n",
        "* Il ne sert \u00e0 rien que ``i`` aille de 0 \u00e0 ``len(s)-1``, aller de 0 \u00e0 ``len(s)//2`` suffit."
      ]
    },
    {
      "cell_type": "markdown",
      "metadata": {},
      "source": [
        "### Enonc\u00e9 2"
      ]
    },
    {
      "cell_type": "markdown",
      "metadata": {},
      "source": [
        "#### Q1\n",
        "\n",
        "Ecrire une fonction qui retourne 1 si une cha\u00eene de caract\u00e8res contient un A, 0 sinon."
      ]
    },
    {
      "cell_type": "code",
      "execution_count": 6,
      "metadata": {},
      "outputs": [
        {
          "name": "stdout",
          "output_type": "stream",
          "text": [
            "0\n"
          ]
        }
      ],
      "source": [
        "def contient_A(s):\n",
        "    return 1 if \"A\" in s else 0\n",
        "\n",
        "print(contient_A(\"e\"))"
      ]
    },
    {
      "cell_type": "markdown",
      "metadata": {},
      "source": [
        "Utiliser une boucle n'\u00e9tait pas n\u00e9cessaire, un simple test suffit."
      ]
    },
    {
      "cell_type": "markdown",
      "metadata": {},
      "source": [
        "#### Q2\n",
        "\n",
        "Calculer $\\sum_{i=1}^{10} \\frac{x^{2i}}{\\sin i}$."
      ]
    },
    {
      "cell_type": "code",
      "execution_count": 7,
      "metadata": {},
      "outputs": [
        {
          "data": {
            "text/plain": [
              "0.12093467645909634"
            ]
          },
          "execution_count": 8,
          "metadata": {},
          "output_type": "execute_result"
        }
      ],
      "source": [
        "import math\n",
        "x = 0.3\n",
        "sum ( x**(2*i) / math.sin(i) for i in range(1,11) )"
      ]
    },
    {
      "cell_type": "markdown",
      "metadata": {},
      "source": [
        "#### Q3\n",
        "\n",
        "Ecrire qu'une fonction qui v\u00e9rifie si un tableau est tri\u00e9."
      ]
    },
    {
      "cell_type": "code",
      "execution_count": 8,
      "metadata": {},
      "outputs": [
        {
          "data": {
            "text/plain": [
              "(True, True, False)"
            ]
          },
          "execution_count": 9,
          "metadata": {},
          "output_type": "execute_result"
        }
      ],
      "source": [
        "def est_trie(tab):\n",
        "    for i in range(1,len(tab)):\n",
        "        if tab[i-1] > tab[i] : return False\n",
        "    return True\n",
        "\n",
        "est_trie( [1]),est_trie( [1,2,3]),est_trie( [1,2,3,0])"
      ]
    },
    {
      "cell_type": "markdown",
      "metadata": {},
      "source": [
        "Quelques \u00e9l\u00e8ves ont \u00e9crit quelque chose comme :"
      ]
    },
    {
      "cell_type": "code",
      "execution_count": 9,
      "metadata": {
        "collapsed": true
      },
      "outputs": [],
      "source": [
        "def est_trie(tab):\n",
        "    res = tab.copy()\n",
        "    res.sort()\n",
        "    return res == tab"
      ]
    },
    {
      "cell_type": "markdown",
      "metadata": {},
      "source": [
        "Bien que ceci soit tout-\u00e0-fait correct, le fait de trier une copie du tableau n\u00e9cessite des calculs inutiles. Le co\u00fbt d'un tri est en $O(n \\ln n)$ alors que tester si le tableau est tri\u00e9 est au pire de $O(n)$ puisqu'il suffit de le parcourir une fois. J'ajoute une derni\u00e8re remarque : sans copie la fonction ``est_trie`` retourne toujours vrai."
      ]
    },
    {
      "cell_type": "code",
      "execution_count": 10,
      "metadata": {},
      "outputs": [
        {
          "name": "stdout",
          "output_type": "stream",
          "text": [
            "True True\n",
            "False True\n"
          ]
        }
      ],
      "source": [
        "def est_trie_nocopy(tab):\n",
        "    res = tab\n",
        "    res.sort()\n",
        "    return res == tab\n",
        "\n",
        "t = [ 0,1,2 ]\n",
        "print( est_trie(t), est_trie_nocopy(t) )\n",
        "\n",
        "t = [ 0,1,2,0 ]\n",
        "print( est_trie(t), est_trie_nocopy(t) )"
      ]
    },
    {
      "cell_type": "markdown",
      "metadata": {},
      "source": [
        "La raison est l'instruction ``res = tab`` cr\u00e9e une autre variable ``res`` mais l'instruction n'implique pas la copie de la liste. Elle ne fait que donner un autre nom \u00e0 la m\u00eame liste. Ainsi :"
      ]
    },
    {
      "cell_type": "code",
      "execution_count": 11,
      "metadata": {},
      "outputs": [
        {
          "data": {
            "text/plain": [
              "([1000000000, 1, 2], [1000000000, 1, 2])"
            ]
          },
          "execution_count": 12,
          "metadata": {},
          "output_type": "execute_result"
        }
      ],
      "source": [
        "t = [0,1,2]\n",
        "t2 = t\n",
        "t2[0] = 1000000000\n",
        "\n",
        "t,t2"
      ]
    },
    {
      "cell_type": "markdown",
      "metadata": {},
      "source": [
        "Modifier la liste ``t`` revient \u00e0 modifier la liste ``t2`` puisque ce sont les m\u00eames. Cela est d\u00fb au fait que le langage Python ne copie les listes, les dictionnaires ou les instances de classes que si ces copies sont demand\u00e9es explicitement. Par d\u00e9faut, le langage \u00e9vite toute copie."
      ]
    },
    {
      "cell_type": "code",
      "execution_count": 12,
      "metadata": {
        "collapsed": true
      },
      "outputs": [],
      "source": []
    }
  ],
  "metadata": {
    "kernelspec": {
      "display_name": "Python 3",
      "language": "python",
      "name": "python3"
    },
    "language_info": {
      "codemirror_mode": {
        "name": "ipython",
        "version": 3
      },
      "file_extension": ".py",
      "mimetype": "text/x-python",
      "name": "python",
      "nbconvert_exporter": "python",
      "pygments_lexer": "ipython3",
      "version": "3.6.1"
    }
  },
  "nbformat": 4,
  "nbformat_minor": 1
}