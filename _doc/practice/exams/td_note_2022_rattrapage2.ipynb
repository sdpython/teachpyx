{
  "cells": [
    {
      "cell_type": "markdown",
      "id": "fed67b73",
      "metadata": {},
      "source": [
        "# 1A - Enonc\u00e9 3 mars 2022- rattrapage\n",
        "\n",
        "Correction de l'examen du 3 mars 2022. L'objectif est de construire un arbre de fa\u00e7on algorithmique."
      ]
    },
    {
      "cell_type": "code",
      "execution_count": 1,
      "id": "5c7c88b5",
      "metadata": {},
      "outputs": [
        {
          "data": {
            "text/html": [
              "<div id=\"my_id_menu_nb\">run previous cell, wait for 2 seconds</div>\n",
              "<script>\n",
              "function repeat_indent_string(n){\n",
              "    var a = \"\" ;\n",
              "    for ( ; n > 0 ; --n)\n",
              "        a += \"    \";\n",
              "    return a;\n",
              "}\n",
              "// look up into all sections and builds an automated menu //\n",
              "var update_menu_string = function(begin, lfirst, llast, sformat, send, keep_item, begin_format, end_format) {\n",
              "    var anchors = document.getElementsByClassName(\"section\");\n",
              "    if (anchors.length == 0) {\n",
              "        anchors = document.getElementsByClassName(\"text_cell_render rendered_html\");\n",
              "    }\n",
              "    var i,t;\n",
              "    var text_menu = begin;\n",
              "    var text_memo = \"<pre>\\nlength:\" + anchors.length + \"\\n\";\n",
              "    var ind = \"\";\n",
              "    var memo_level = 1;\n",
              "    var href;\n",
              "    var tags = [];\n",
              "    var main_item = 0;\n",
              "    var format_open = 0;\n",
              "    for (i = 0; i <= llast; i++)\n",
              "        tags.push(\"h\" + i);\n",
              "\n",
              "    for (i = 0; i < anchors.length; i++) {\n",
              "        text_memo += \"**\" + anchors[i].id + \"--\\n\";\n",
              "\n",
              "        var child = null;\n",
              "        for(t = 0; t < tags.length; t++) {\n",
              "            var r = anchors[i].getElementsByTagName(tags[t]);\n",
              "            if (r.length > 0) {\n",
              "child = r[0];\n",
              "break;\n",
              "            }\n",
              "        }\n",
              "        if (child == null) {\n",
              "            text_memo += \"null\\n\";\n",
              "            continue;\n",
              "        }\n",
              "        if (anchors[i].hasAttribute(\"id\")) {\n",
              "            // when converted in RST\n",
              "            href = anchors[i].id;\n",
              "            text_memo += \"#1-\" + href;\n",
              "            // passer \u00e0 child suivant (le chercher)\n",
              "        }\n",
              "        else if (child.hasAttribute(\"id\")) {\n",
              "            // in a notebook\n",
              "            href = child.id;\n",
              "            text_memo += \"#2-\" + href;\n",
              "        }\n",
              "        else {\n",
              "            text_memo += \"#3-\" + \"*\" + \"\\n\";\n",
              "            continue;\n",
              "        }\n",
              "        var title = child.textContent;\n",
              "        var level = parseInt(child.tagName.substring(1,2));\n",
              "\n",
              "        text_memo += \"--\" + level + \"?\" + lfirst + \"--\" + title + \"\\n\";\n",
              "\n",
              "        if ((level < lfirst) || (level > llast)) {\n",
              "            continue ;\n",
              "        }\n",
              "        if (title.endsWith('\u00b6')) {\n",
              "            title = title.substring(0,title.length-1).replace(\"<\", \"&lt;\")\n",
              "         .replace(\">\", \"&gt;\").replace(\"&\", \"&amp;\");\n",
              "        }\n",
              "        if (title.length == 0) {\n",
              "            continue;\n",
              "        }\n",
              "\n",
              "        while (level < memo_level) {\n",
              "            text_menu += end_format + \"</ul>\\n\";\n",
              "            format_open -= 1;\n",
              "            memo_level -= 1;\n",
              "        }\n",
              "        if (level == lfirst) {\n",
              "            main_item += 1;\n",
              "        }\n",
              "        if (keep_item != -1 && main_item != keep_item + 1) {\n",
              "            // alert(main_item + \" - \" + level + \" - \" + keep_item);\n",
              "            continue;\n",
              "        }\n",
              "        while (level > memo_level) {\n",
              "            text_menu += \"<ul>\\n\";\n",
              "            memo_level += 1;\n",
              "        }\n",
              "        text_menu += repeat_indent_string(level-2);\n",
              "        text_menu += begin_format + sformat.replace(\"__HREF__\", href).replace(\"__TITLE__\", title);\n",
              "        format_open += 1;\n",
              "    }\n",
              "    while (1 < memo_level) {\n",
              "        text_menu += end_format + \"</ul>\\n\";\n",
              "        memo_level -= 1;\n",
              "        format_open -= 1;\n",
              "    }\n",
              "    text_menu += send;\n",
              "    //text_menu += \"\\n\" + text_memo;\n",
              "\n",
              "    while (format_open > 0) {\n",
              "        text_menu += end_format;\n",
              "        format_open -= 1;\n",
              "    }\n",
              "    return text_menu;\n",
              "};\n",
              "var update_menu = function() {\n",
              "    var sbegin = \"\";\n",
              "    var sformat = '<a href=\"#__HREF__\">__TITLE__</a>';\n",
              "    var send = \"\";\n",
              "    var begin_format = '<li>';\n",
              "    var end_format = '</li>';\n",
              "    var keep_item = -1;\n",
              "    var text_menu = update_menu_string(sbegin, 2, 4, sformat, send, keep_item,\n",
              "       begin_format, end_format);\n",
              "    var menu = document.getElementById(\"my_id_menu_nb\");\n",
              "    menu.innerHTML=text_menu;\n",
              "};\n",
              "window.setTimeout(update_menu,2000);\n",
              "            </script>"
            ],
            "text/plain": [
              "<IPython.core.display.HTML object>"
            ]
          },
          "execution_count": 2,
          "metadata": {},
          "output_type": "execute_result"
        }
      ],
      "source": [
        "from jyquickhelper import add_notebook_menu\n",
        "add_notebook_menu()"
      ]
    },
    {
      "cell_type": "markdown",
      "id": "4d6219c6",
      "metadata": {},
      "source": [
        "## Dessin d'une liste de segments"
      ]
    },
    {
      "cell_type": "code",
      "execution_count": 2,
      "id": "423979d4",
      "metadata": {},
      "outputs": [
        {
          "data": {
            "image/png": "[encoded data removed]",
            "text/plain": [
              "<Figure size 288x288 with 1 Axes>"
            ]
          },
          "metadata": {
            "needs_background": "light"
          },
          "output_type": "display_data"
        }
      ],
      "source": [
        "import matplotlib.pyplot as plt\n",
        "\n",
        "\n",
        "def draw(segments, L=1):\n",
        "    fig, ax = plt.subplots(1, 1, figsize=(4, 4))\n",
        "    maxxy = 0\n",
        "    for seg in segments:\n",
        "        ax.plot([seg['x1'], seg['x2']], [seg['y1'], seg['y2']], 'b-', lw=seg['E'] * 10000)\n",
        "    ax.set_xlim([0, 2 * L])\n",
        "    ax.set_ylim([-L, L])\n",
        "    return ax\n",
        "\n",
        "draw([{'x1': 0, 'y1': 0, 'x2': 1.0, 'y2': 0.0, 'E': 0.001, 'angle': 0}]);"
      ]
    },
    {
      "cell_type": "markdown",
      "id": "aa56697d",
      "metadata": {},
      "source": [
        "## Distance d'un segment"
      ]
    },
    {
      "cell_type": "code",
      "execution_count": 3,
      "id": "8cde6f66",
      "metadata": {},
      "outputs": [
        {
          "data": {
            "text/plain": [
              "1.0"
            ]
          },
          "execution_count": 4,
          "metadata": {},
          "output_type": "execute_result"
        }
      ],
      "source": [
        "def distance(seg):\n",
        "    x1, x2, y1, y2 = seg['x1'], seg['x2'], seg['y1'], seg['y2']\n",
        "    return ((x2 - x1) ** 2 + (y2 - y1) ** 2) ** 0.5\n",
        "\n",
        "distance({'x1': 0, 'y1': 0, 'x2': 1.0, 'y2': 0.0, 'E': 0.001, 'angle': 0})"
      ]
    },
    {
      "cell_type": "markdown",
      "id": "a10ca2b8",
      "metadata": {},
      "source": [
        "## Calcul du segment suivant"
      ]
    },
    {
      "cell_type": "code",
      "execution_count": 4,
      "id": "f65183df",
      "metadata": {},
      "outputs": [
        {
          "data": {
            "text/plain": [
              "{'x1': 0, 'y1': 0, 'x2': 1.0, 'y2': 0.0, 'E': 0.001, 'angle': 0}"
            ]
          },
          "execution_count": 5,
          "metadata": {},
          "output_type": "execute_result"
        }
      ],
      "source": [
        "from math import cos, sin, pi\n",
        "\n",
        "\n",
        "def segment(x=0, y=0, angle=0, L=1, E=0.001):\n",
        "    x2 = x + cos(angle) * L\n",
        "    y2 = y + sin(angle) * L\n",
        "    return dict(x1=x, y1=y, x2=x2, y2=y2, E=E, angle=angle)\n",
        "\n",
        "segment()"
      ]
    },
    {
      "cell_type": "markdown",
      "id": "68f1a950",
      "metadata": {},
      "source": [
        "## Calcul des trois segments suivants"
      ]
    },
    {
      "cell_type": "code",
      "execution_count": 5,
      "id": "b94ef6c2",
      "metadata": {},
      "outputs": [
        {
          "data": {
            "image/png": "[encoded data removed]",
            "text/plain": [
              "<Figure size 288x288 with 1 Axes>"
            ]
          },
          "metadata": {
            "needs_background": "light"
          },
          "output_type": "display_data"
        }
      ],
      "source": [
        "def tree3(seg, angle=pi/3, re=0.33, rl=0.66):\n",
        "    x, y = seg['x2'], seg['y2']\n",
        "    e = seg['E'] * re\n",
        "    le = distance(seg) * rl\n",
        "    a = seg['angle']\n",
        "    segments = [\n",
        "        segment(x, y, angle=a-angle, L=le, E=e),\n",
        "        segment(x, y, angle=a, L=le, E=e),\n",
        "        segment(x, y, angle=a+angle, L=le, E=e),\n",
        "    ]\n",
        "    return segments\n",
        "\n",
        "premier = segment()\n",
        "segs = [premier] + tree3(premier, 1)\n",
        "draw(segs);"
      ]
    },
    {
      "cell_type": "markdown",
      "id": "ace78731",
      "metadata": {},
      "source": [
        "## Construction de tous les niveaux de l'arbre"
      ]
    },
    {
      "cell_type": "code",
      "execution_count": 6,
      "id": "d21515d6",
      "metadata": {},
      "outputs": [
        {
          "data": {
            "image/png": "[encoded data removed]",
            "text/plain": [
              "<Figure size 288x288 with 1 Axes>"
            ]
          },
          "metadata": {
            "needs_background": "light"
          },
          "output_type": "display_data"
        }
      ],
      "source": [
        "def tree_recursive(level, seg, angle=pi/6, re=0.6, rl=0.95):\n",
        "    all_segs = [seg]\n",
        "    iter_segs = [seg]\n",
        "    for i in range(level):\n",
        "        new_segs = []\n",
        "        for seg in iter_segs:\n",
        "            new_segs.extend(tree3(seg, angle=angle, re=re, rl=rl))\n",
        "        all_segs.extend(new_segs)\n",
        "        iter_segs = new_segs\n",
        "    return all_segs\n",
        "\n",
        "premier = segment()\n",
        "segs = tree_recursive(3, premier)\n",
        "draw(segs, L=3);"
      ]
    },
    {
      "cell_type": "markdown",
      "id": "ee2945c8",
      "metadata": {},
      "source": [
        "## Construction de trois segments al\u00e9atoires"
      ]
    },
    {
      "cell_type": "code",
      "execution_count": 7,
      "id": "bea39e8a",
      "metadata": {},
      "outputs": [
        {
          "data": {
            "image/png": "[encoded data removed]",
            "text/plain": [
              "<Figure size 288x288 with 1 Axes>"
            ]
          },
          "metadata": {
            "needs_background": "light"
          },
          "output_type": "display_data"
        }
      ],
      "source": [
        "import random\n",
        "\n",
        "def tree3_alea(seg, angle=pi/3, re=0.33, rl=0.66, rnd=0.1):\n",
        "    re_rnd = re * (1 + random.random() * rnd)\n",
        "    rl_rnd = rl * (1 + random.random() * rnd)\n",
        "    \n",
        "    x, y = seg['x2'], seg['y2']\n",
        "    e = seg['E'] * re_rnd\n",
        "    le = distance(seg) * rl_rnd\n",
        "\n",
        "    a = seg['angle']\n",
        "    a1 = a - (1 + random.random() * rnd) * angle\n",
        "    a2 = a + random.random() * rnd * angle\n",
        "    a3 = a + (1 + random.random() * rnd) * angle\n",
        "    \n",
        "    segments = [\n",
        "        segment(x, y, angle=a1, L=le, E=e),\n",
        "        segment(x, y, angle=a2, L=le, E=e),\n",
        "        segment(x, y, angle=a3, L=le, E=e),\n",
        "    ]\n",
        "    return segments\n",
        "\n",
        "premier = segment()\n",
        "segs = [premier] + tree3_alea(premier, 1)\n",
        "draw(segs);"
      ]
    },
    {
      "cell_type": "markdown",
      "id": "9ab893ca",
      "metadata": {},
      "source": [
        "## Construction d'un arbre al\u00e9atoire\n",
        "\n",
        "L'id\u00e9e est d'ajouter 40% d'al\u00e9atoire sur trois param\u00e8tres : la r\u00e9duction des longueurs, la r\u00e9duction des \u00e9paisseurs, les angles des trois segments suivants."
      ]
    },
    {
      "cell_type": "code",
      "execution_count": 8,
      "id": "68cf03b7",
      "metadata": {},
      "outputs": [
        {
          "data": {
            "image/png": "[encoded data removed]",
            "text/plain": [
              "<Figure size 288x288 with 1 Axes>"
            ]
          },
          "metadata": {
            "needs_background": "light"
          },
          "output_type": "display_data"
        }
      ],
      "source": [
        "def tree_recursive_alea(level, seg, angle=pi/6, re=0.6, rl=0.95, rnd=0.4):\n",
        "    all_segs = [seg]\n",
        "    iter_segs = [seg]\n",
        "    for i in range(level):\n",
        "        new_segs = []\n",
        "        for seg in iter_segs:\n",
        "            new_segs.extend(tree3_alea(seg, angle=angle, re=re, rl=rl, rnd=rnd))\n",
        "        all_segs.extend(new_segs)\n",
        "        iter_segs = new_segs\n",
        "    return all_segs\n",
        "\n",
        "premier = segment()\n",
        "segs = tree_recursive_alea(3, premier)\n",
        "draw(segs, L=3.5);"
      ]
    },
    {
      "cell_type": "code",
      "execution_count": 9,
      "id": "a1be3ff5",
      "metadata": {},
      "outputs": [
        {
          "data": {
            "image/png": "[encoded data removed]",
            "text/plain": [
              "<Figure size 288x288 with 1 Axes>"
            ]
          },
          "metadata": {
            "needs_background": "light"
          },
          "output_type": "display_data"
        }
      ],
      "source": [
        "premier = segment()\n",
        "segs = tree_recursive_alea(4, premier)\n",
        "draw(segs, L=5);"
      ]
    },
    {
      "cell_type": "code",
      "execution_count": 10,
      "id": "62f70df7",
      "metadata": {},
      "outputs": [],
      "source": []
    }
  ],
  "metadata": {
    "kernelspec": {
      "display_name": "Python 3",
      "language": "python",
      "name": "python3"
    },
    "language_info": {
      "codemirror_mode": {
        "name": "ipython",
        "version": 3
      },
      "file_extension": ".py",
      "mimetype": "text/x-python",
      "name": "python",
      "nbconvert_exporter": "python",
      "pygments_lexer": "ipython3",
      "version": "3.9.5"
    }
  },
  "nbformat": 4,
  "nbformat_minor": 5
}