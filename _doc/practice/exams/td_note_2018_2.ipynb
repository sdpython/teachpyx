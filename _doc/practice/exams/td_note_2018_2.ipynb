{
  "cells": [
    {
      "cell_type": "markdown",
      "metadata": {},
      "source": [
        "# 1A.e - Enonc\u00e9 12 d\u00e9cembre 2017 (2)\n",
        "\n",
        "Correction du premier \u00e9nonc\u00e9 de l'examen du 12 d\u00e9cembre 2017. Celui-ci m\u00e8ne \u00e0 l'impl\u00e9mentation d'un algorithme qui permet d'approximer une fonction $f$ par une fonction en escalier \u00e0 partir d'un ensemble de points $(X_i, f(X_i))$."
      ]
    },
    {
      "cell_type": "code",
      "execution_count": 1,
      "metadata": {},
      "outputs": [
        {
          "data": {
            "text/html": [
              "<div id=\"my_id_menu_nb\">run previous cell, wait for 2 seconds</div>\n",
              "<script>\n",
              "function repeat_indent_string(n){\n",
              "    var a = \"\" ;\n",
              "    for ( ; n > 0 ; --n)\n",
              "        a += \"    \";\n",
              "    return a;\n",
              "}\n",
              "var update_menu_string = function(begin, lfirst, llast, sformat, send, keep_item, begin_format, end_format) {\n",
              "    var anchors = document.getElementsByClassName(\"section\");\n",
              "    if (anchors.length == 0) {\n",
              "        anchors = document.getElementsByClassName(\"text_cell_render rendered_html\");\n",
              "    }\n",
              "    var i,t;\n",
              "    var text_menu = begin;\n",
              "    var text_memo = \"<pre>\\nlength:\" + anchors.length + \"\\n\";\n",
              "    var ind = \"\";\n",
              "    var memo_level = 1;\n",
              "    var href;\n",
              "    var tags = [];\n",
              "    var main_item = 0;\n",
              "    var format_open = 0;\n",
              "    for (i = 0; i <= llast; i++)\n",
              "        tags.push(\"h\" + i);\n",
              "\n",
              "    for (i = 0; i < anchors.length; i++) {\n",
              "        text_memo += \"**\" + anchors[i].id + \"--\\n\";\n",
              "\n",
              "        var child = null;\n",
              "        for(t = 0; t < tags.length; t++) {\n",
              "            var r = anchors[i].getElementsByTagName(tags[t]);\n",
              "            if (r.length > 0) {\n",
              "child = r[0];\n",
              "break;\n",
              "            }\n",
              "        }\n",
              "        if (child == null) {\n",
              "            text_memo += \"null\\n\";\n",
              "            continue;\n",
              "        }\n",
              "        if (anchors[i].hasAttribute(\"id\")) {\n",
              "            // when converted in RST\n",
              "            href = anchors[i].id;\n",
              "            text_memo += \"#1-\" + href;\n",
              "            // passer \u00e0 child suivant (le chercher)\n",
              "        }\n",
              "        else if (child.hasAttribute(\"id\")) {\n",
              "            // in a notebook\n",
              "            href = child.id;\n",
              "            text_memo += \"#2-\" + href;\n",
              "        }\n",
              "        else {\n",
              "            text_memo += \"#3-\" + \"*\" + \"\\n\";\n",
              "            continue;\n",
              "        }\n",
              "        var title = child.textContent;\n",
              "        var level = parseInt(child.tagName.substring(1,2));\n",
              "\n",
              "        text_memo += \"--\" + level + \"?\" + lfirst + \"--\" + title + \"\\n\";\n",
              "\n",
              "        if ((level < lfirst) || (level > llast)) {\n",
              "            continue ;\n",
              "        }\n",
              "        if (title.endsWith('\u00b6')) {\n",
              "            title = title.substring(0,title.length-1).replace(\"<\", \"&lt;\")\n",
              "         .replace(\">\", \"&gt;\").replace(\"&\", \"&amp;\");\n",
              "        }\n",
              "        if (title.length == 0) {\n",
              "            continue;\n",
              "        }\n",
              "\n",
              "        while (level < memo_level) {\n",
              "            text_menu += end_format + \"</ul>\\n\";\n",
              "            format_open -= 1;\n",
              "            memo_level -= 1;\n",
              "        }\n",
              "        if (level == lfirst) {\n",
              "            main_item += 1;\n",
              "        }\n",
              "        if (keep_item != -1 && main_item != keep_item + 1) {\n",
              "            // alert(main_item + \" - \" + level + \" - \" + keep_item);\n",
              "            continue;\n",
              "        }\n",
              "        while (level > memo_level) {\n",
              "            text_menu += \"<ul>\\n\";\n",
              "            memo_level += 1;\n",
              "        }\n",
              "        text_menu += repeat_indent_string(level-2);\n",
              "        text_menu += begin_format + sformat.replace(\"__HREF__\", href).replace(\"__TITLE__\", title);\n",
              "        format_open += 1;\n",
              "    }\n",
              "    while (1 < memo_level) {\n",
              "        text_menu += end_format + \"</ul>\\n\";\n",
              "        memo_level -= 1;\n",
              "        format_open -= 1;\n",
              "    }\n",
              "    text_menu += send;\n",
              "    //text_menu += \"\\n\" + text_memo;\n",
              "\n",
              "    while (format_open > 0) {\n",
              "        text_menu += end_format;\n",
              "        format_open -= 1;\n",
              "    }\n",
              "    return text_menu;\n",
              "};\n",
              "var update_menu = function() {\n",
              "    var sbegin = \"\";\n",
              "    var sformat = '<a href=\"#__HREF__\">__TITLE__</a>';\n",
              "    var send = \"\";\n",
              "    var begin_format = '<li>';\n",
              "    var end_format = '</li>';\n",
              "    var keep_item = -1;\n",
              "    var text_menu = update_menu_string(sbegin, 2, 4, sformat, send, keep_item,\n",
              "       begin_format, end_format);\n",
              "    var menu = document.getElementById(\"my_id_menu_nb\");\n",
              "    menu.innerHTML=text_menu;\n",
              "};\n",
              "window.setTimeout(update_menu,2000);\n",
              "            </script>"
            ],
            "text/plain": [
              "<IPython.core.display.HTML object>"
            ]
          },
          "execution_count": 2,
          "metadata": {},
          "output_type": "execute_result"
        }
      ],
      "source": [
        "from jyquickhelper import add_notebook_menu\n",
        "add_notebook_menu()"
      ]
    },
    {
      "cell_type": "markdown",
      "metadata": {},
      "source": [
        "## Q1 - \u00e9chantillon al\u00e9atoire\n",
        "\n",
        "G\u00e9n\u00e9rer un ensemble al\u00e9atoire de 1000 nombres $(X_i,Y_i)$ qui v\u00e9rifie :\n",
        "\n",
        "* $X_i$ suit une loi uniforme sur $[0,16]$\n",
        "* $Y_i = \\sqrt{X_i}[\\sqrt{X_i}]$ o\u00f9 $[A]$ est la partie enti\u00e8re de $A$.\n",
        "\n",
        "On pourra se servir de la fonction ``random`` du module ``random``."
      ]
    },
    {
      "cell_type": "code",
      "execution_count": 2,
      "metadata": {},
      "outputs": [],
      "source": [
        "import random\n",
        "X = [random.random() * 16 for i in range(0,1000)]\n",
        "Y = [ x**0.5 * int(x**0.5) for x in X]"
      ]
    },
    {
      "cell_type": "markdown",
      "metadata": {},
      "source": [
        "## Q1 - dessiner le nuage de points - donn\u00e9e\n",
        "\n",
        "Le code suivant vous est donn\u00e9 afin de v\u00e9rifier vos r\u00e9ponses."
      ]
    },
    {
      "cell_type": "code",
      "execution_count": 3,
      "metadata": {},
      "outputs": [],
      "source": [
        "%matplotlib inline"
      ]
    },
    {
      "cell_type": "code",
      "execution_count": 4,
      "metadata": {},
      "outputs": [
        {
          "data": {
            "text/plain": [
              "[<matplotlib.lines.Line2D at 0x1c0e33655f8>]"
            ]
          },
          "execution_count": 5,
          "metadata": {},
          "output_type": "execute_result"
        },
        {
          "data": {
            "image/png": "[encoded data removed]",
            "text/plain": [
              "<matplotlib.figure.Figure at 0x1c0e21a8400>"
            ]
          },
          "metadata": {},
          "output_type": "display_data"
        }
      ],
      "source": [
        "import matplotlib.pyplot as plt\n",
        "plt.plot(X, Y, '.')"
      ]
    },
    {
      "cell_type": "markdown",
      "metadata": {},
      "source": [
        "## Q2 - tri\n",
        "\n",
        "Trier les points selon les $X$."
      ]
    },
    {
      "cell_type": "code",
      "execution_count": 5,
      "metadata": {},
      "outputs": [],
      "source": [
        "nuage = [(x,y) for x,y in zip(X,Y)]\n",
        "nuage.sort()"
      ]
    },
    {
      "cell_type": "markdown",
      "metadata": {},
      "source": [
        "## Q3 - moyenne\n",
        "\n",
        "On suppose que les $Y$ sont tri\u00e9s selon les $X$ croissants.\n",
        "Calculer la moyenne des diff\u00e9rences entre $Y$ et la moyenne $m$ des $Y$\n",
        "(au carr\u00e9) sur un intervalle $[i,j]$, $j$ exclu.\n",
        "Ecrire une fonction ``def somme_diff(nuage, i, j)`` qui ex\u00e9cute ce calcul\n",
        "qui correspond \u00e0 $\\sum_{k=i}^j (Y_k - m)^2$ avec $m = (\\sum_{k=i}^j Y_k) / (j-i)$."
      ]
    },
    {
      "cell_type": "code",
      "execution_count": 6,
      "metadata": {},
      "outputs": [
        {
          "data": {
            "text/plain": [
              "(0.0, 15754.105018618644)"
            ]
          },
          "execution_count": 7,
          "metadata": {},
          "output_type": "execute_result"
        }
      ],
      "source": [
        "def somme_diff(xy, i, j):\n",
        "    m = sum(e[1] for e in xy[i:j]) / (j-i)\n",
        "    return sum((e[1]-m)**2 for e in xy[i:j])\n",
        "\n",
        "somme_diff(nuage, 0, 5), somme_diff(nuage, 0, len(nuage))"
      ]
    },
    {
      "cell_type": "markdown",
      "metadata": {},
      "source": [
        "## Q4 - distance\n",
        "\n",
        "Soit $i,j$ deux entiers, on coupe l'intervalle en deux : $i,k$ et $k,j$. On calcule ``somme_diff`` sur ces deux intervalles, on fait la somme des diff\u00e9rences (en valeurs absolues) de ces moyennes par rapport \u00e0 la valeur sur le plus grand intervalle. On \u00e9crit la fonction ``def difference(nuage, i, j, k):``."
      ]
    },
    {
      "cell_type": "code",
      "execution_count": 7,
      "metadata": {},
      "outputs": [
        {
          "data": {
            "text/plain": [
              "19898.600443365925"
            ]
          },
          "execution_count": 8,
          "metadata": {},
          "output_type": "execute_result"
        }
      ],
      "source": [
        "def difference(nuage, i, j, k):\n",
        "    m1 = somme_diff(nuage, i, k)\n",
        "    m2 = somme_diff(nuage, k, j)\n",
        "    m = somme_diff(nuage, i, j)\n",
        "    return abs(m-m1) + abs(m-m2)\n",
        "\n",
        "difference(nuage, 0, len(nuage), 100)"
      ]
    },
    {
      "cell_type": "markdown",
      "metadata": {},
      "source": [
        "## Q5 - fonction comme param\u00e8tre\n",
        "\n",
        "Le langage Python permet de passer une fonction \u00e0 une autre fonction en tant qu'argument. Un exemple :"
      ]
    },
    {
      "cell_type": "code",
      "execution_count": 8,
      "metadata": {},
      "outputs": [
        {
          "data": {
            "text/plain": [
              "1"
            ]
          },
          "execution_count": 9,
          "metadata": {},
          "output_type": "execute_result"
        }
      ],
      "source": [
        "def fct(x, y):\n",
        "    return abs(x-y)\n",
        "\n",
        "def distance_list(list_x, list_y, f):\n",
        "    return sum(f(x,y) for x,y in zip(list_x, list_y))\n",
        "\n",
        "distance_list([0, 1], [0, 2], fct)"
      ]
    },
    {
      "cell_type": "markdown",
      "metadata": {},
      "source": [
        "Ecrire la fonction pr\u00e9c\u00e9dente en utilisant la fonction ``fct``."
      ]
    },
    {
      "cell_type": "code",
      "execution_count": 9,
      "metadata": {},
      "outputs": [
        {
          "data": {
            "text/plain": [
              "552.6383487080093"
            ]
          },
          "execution_count": 10,
          "metadata": {},
          "output_type": "execute_result"
        }
      ],
      "source": [
        "def somme_diff(xy, i, j, f):\n",
        "    m = sum(e[1] for e in xy[i:j]) / (j-i)\n",
        "    return sum(f(e[1], m) for e in xy[i:j])\n",
        "\n",
        "def difference(nuage, i, j, k, f):\n",
        "    m1 = somme_diff(nuage, i, k, f)\n",
        "    m2 = somme_diff(nuage, k, j, f)\n",
        "    m = somme_diff(nuage, i, j, f)\n",
        "    return abs(m1 + m2 - m)\n",
        "\n",
        "difference(nuage, 0, len(nuage), 100, fct)"
      ]
    },
    {
      "cell_type": "markdown",
      "metadata": {},
      "source": [
        "## Q6 - optimiser\n",
        "\n",
        "On veut d\u00e9terminer le $i$ optimal, celui qui maximise la diff\u00e9rence dans l'intervalle $[i,j]$. On souhaite garder la fonction ``fct`` comme argument. Pour cela, impl\u00e9menter la fonction ``def optimise(nuage, i, j, f):``."
      ]
    },
    {
      "cell_type": "code",
      "execution_count": 10,
      "metadata": {},
      "outputs": [
        {
          "data": {
            "text/plain": [
              "(553, 2184.8079894060775)"
            ]
          },
          "execution_count": 11,
          "metadata": {},
          "output_type": "execute_result"
        }
      ],
      "source": [
        "def optimise(nuage, i, j, f):\n",
        "    mx = -1\n",
        "    ib = None\n",
        "    for k in range(i+1,j-1):\n",
        "        d = difference(nuage, i,j,k, f)\n",
        "        if ib is None or d > mx:\n",
        "            mx = d\n",
        "            ib = k\n",
        "    return ib, mx\n",
        "\n",
        "optimise(nuage, 0, len(nuage), fct)"
      ]
    },
    {
      "cell_type": "code",
      "execution_count": 11,
      "metadata": {},
      "outputs": [
        {
          "data": {
            "text/plain": [
              "[<matplotlib.lines.Line2D at 0x1c0e4c6f208>]"
            ]
          },
          "execution_count": 12,
          "metadata": {},
          "output_type": "execute_result"
        },
        {
          "data": {
            "image/png": "[encoded data removed]",
            "text/plain": [
              "<matplotlib.figure.Figure at 0x1c0e4c68f98>"
            ]
          },
          "metadata": {},
          "output_type": "display_data"
        }
      ],
      "source": [
        "import matplotlib.pyplot as plt\n",
        "x = nuage[553][0]\n",
        "plt.plot(X,Y,'.')\n",
        "plt.plot([x,x], [0,10])"
      ]
    },
    {
      "cell_type": "markdown",
      "metadata": {},
      "source": [
        "## Q7 - optimisation encore\n",
        "\n",
        "Recommencer sur les deux intervalles trouv\u00e9s"
      ]
    },
    {
      "cell_type": "code",
      "execution_count": 12,
      "metadata": {},
      "outputs": [
        {
          "data": {
            "text/plain": [
              "((253, 787.5154656398129), (789, 156.7106930739271))"
            ]
          },
          "execution_count": 13,
          "metadata": {},
          "output_type": "execute_result"
        }
      ],
      "source": [
        "optimise(nuage, 0, 570, fct), optimise(nuage, 570, len(nuage), fct)"
      ]
    },
    {
      "cell_type": "code",
      "execution_count": 13,
      "metadata": {},
      "outputs": [
        {
          "data": {
            "text/plain": [
              "[<matplotlib.lines.Line2D at 0x1c0e4c90940>]"
            ]
          },
          "execution_count": 14,
          "metadata": {},
          "output_type": "execute_result"
        },
        {
          "data": {
            "image/png": "[encoded data removed]",
            "text/plain": [
              "<matplotlib.figure.Figure at 0x1c0e4c665f8>"
            ]
          },
          "metadata": {},
          "output_type": "display_data"
        }
      ],
      "source": [
        "import matplotlib.pyplot as plt\n",
        "x = nuage[253][0]\n",
        "x2 = nuage[789][0]\n",
        "plt.plot(X,Y,'.')\n",
        "plt.plot([x,x], [0,10])\n",
        "plt.plot([x2,x2], [0,10])"
      ]
    },
    {
      "cell_type": "markdown",
      "metadata": {},
      "source": [
        "## Q8 - fonction r\u00e9cursive\n",
        "\n",
        "Pouvez-vous imaginer une fonction r\u00e9cursive qui produit toutes les s\u00e9parations. Ecrire la fonction ``def recursive(nuage, i, j, f, th=0.1):``. La fonction ``recursive`` tente de placer chaque point dans un intervalle distinct et elle \u00e9choue car elle d\u00e9passe le nombre d'appels r\u00e9cursifs autoris\u00e9s par le langage Python."
      ]
    },
    {
      "cell_type": "code",
      "execution_count": 14,
      "metadata": {
        "scrolled": false
      },
      "outputs": [
        {
          "data": {
            "text/plain": [
              "(946, [0, 1, 1, 2, 2], [996, 996, 997, 997, 998])"
            ]
          },
          "execution_count": 15,
          "metadata": {},
          "output_type": "execute_result"
        }
      ],
      "source": [
        "def recursive(nuage, i, j, f):\n",
        "    if i+1 == j or i == j:\n",
        "        return [i]\n",
        "    k, mx = optimise(nuage, i, j, f)\n",
        "    if k is None:\n",
        "        return None\n",
        "    else:\n",
        "        r1 = recursive(nuage, i, k, f)\n",
        "        r2 = recursive(nuage, k, j, f)        \n",
        "        if r1 is None and r2 is None:\n",
        "            return [k]\n",
        "        elif r1 is None:\n",
        "            return [k] + r2\n",
        "        elif r2 is None:\n",
        "            return r1 + [k]\n",
        "        else:\n",
        "            return r1 + [k] + r2\n",
        "\n",
        "# d\u00e9clenche une exception\n",
        "r = recursive(nuage, 0, len(nuage), fct)\n",
        "len(r), r[:5], r[-5:]"
      ]
    },
    {
      "cell_type": "markdown",
      "metadata": {},
      "source": [
        "La fonction n'est pas encore parfait et elle retourne plusieurs fois le m\u00eame point de coupure mais ce n'est pas le plus grave car la fonction retourne quasiment tous les points."
      ]
    },
    {
      "cell_type": "markdown",
      "metadata": {},
      "source": [
        "## Q9 - seuil\n",
        "\n",
        "L'algorithme produit beaucoup de points de coupures. On souhaite arr\u00eater la r\u00e9cursion plus t\u00f4t en mettant un seuil sur la quantit\u00e9 obtenue $|\\Delta_{i}^k + \\Delta_{k}^j - \\Delta_{i}^j|$ qui doit \u00eatre sup\u00e9rieur \u00e0 50."
      ]
    },
    {
      "cell_type": "code",
      "execution_count": 15,
      "metadata": {},
      "outputs": [
        {
          "data": {
            "text/plain": [
              "(5, [61, 253, 384, 553, 782])"
            ]
          },
          "execution_count": 16,
          "metadata": {},
          "output_type": "execute_result"
        }
      ],
      "source": [
        "def recursive(nuage, i, j, f, th=50):\n",
        "    k, mx = optimise(nuage, i, j, f)\n",
        "    if mx <= th:\n",
        "        return None\n",
        "    r1 = recursive(nuage, i, k, f, th=th)\n",
        "    r2 = recursive(nuage, k, j, f, th=th)\n",
        "    if r1 is None and r2 is None:\n",
        "        return [k]\n",
        "    elif r1 is None:\n",
        "        return [k] + r2\n",
        "    elif r2 is None:\n",
        "        return r1 + [k]\n",
        "    else:\n",
        "        return r1 + [k] + r2\n",
        "    \n",
        "r = recursive(nuage, 0, len(nuage), fct)\n",
        "len(r), r[:5]"
      ]
    },
    {
      "cell_type": "code",
      "execution_count": 16,
      "metadata": {},
      "outputs": [
        {
          "data": {
            "image/png": "[encoded data removed]",
            "text/plain": [
              "<matplotlib.figure.Figure at 0x1c0e3bc5c18>"
            ]
          },
          "metadata": {},
          "output_type": "display_data"
        }
      ],
      "source": [
        "import matplotlib.pyplot as plt\n",
        "plt.plot(X, Y, '.')\n",
        "for i in r:\n",
        "    x = nuage[i][0]\n",
        "    plt.plot([x,x], [0,10])"
      ]
    },
    {
      "cell_type": "markdown",
      "metadata": {},
      "source": [
        "## Q10 - co\u00fbt\n",
        "\n",
        "Quel est le co\u00fbt de la fonction ``optimize`` en fonction de la taille de l'intervalle ? Peut-on mieux faire  (ce qu'on n'impl\u00e9mentera pas)."
      ]
    },
    {
      "cell_type": "markdown",
      "metadata": {},
      "source": [
        "Tel qu'il est impl\u00e9ment\u00e9, le co\u00fbt est en $O(n^2)$, le co\u00fbt peut \u00eatre lin\u00e9aire en triant les \u00e9l\u00e9ments dans l'ordre croissant, ce qui a \u00e9t\u00e9 fait, ou $n\\ln n$ si on inclut le co\u00fbt du tri bien qu'on ne le fasse qu'une fois. Voyons plus en d\u00e9tail comment se d\u00e9barrasser du co\u00fbt en $O(n^2)$. Tout d'abord la version actuelle."
      ]
    },
    {
      "cell_type": "code",
      "execution_count": 17,
      "metadata": {},
      "outputs": [
        {
          "name": "stdout",
          "output_type": "stream",
          "text": [
            "628 ms \u00b1 6.15 ms per loop (mean \u00b1 std. dev. of 7 runs, 1 loop each)\n"
          ]
        }
      ],
      "source": [
        "def somme_diff2(xy, i, j):\n",
        "    m = sum(e[1] for e in xy[i:j]) / (j-i)\n",
        "    return sum((e[1]-m)**2 for e in xy[i:j])\n",
        "\n",
        "def difference2(nuage, i, j, k):\n",
        "    m1 = somme_diff2(nuage, i, k)\n",
        "    m2 = somme_diff2(nuage, k, j)\n",
        "    m = somme_diff2(nuage, i, j)\n",
        "    return abs(m1+m2-m)\n",
        "\n",
        "def optimise2(nuage, i, j):\n",
        "    mx = -1\n",
        "    ib = None\n",
        "    for k in range(i+1,j-1):\n",
        "        d = difference2(nuage, i,j,k)\n",
        "        if ib is None or d > mx:\n",
        "            mx = d\n",
        "            ib = k\n",
        "    if ib is None:\n",
        "        ib = i\n",
        "        mx = 0\n",
        "    return ib, mx\n",
        "\n",
        "%timeit optimise2(nuage, 0, len(nuage))"
      ]
    },
    {
      "cell_type": "markdown",
      "metadata": {},
      "source": [
        "L'instruction suivante permet de voir o\u00f9 le programme passe la majeure partie de son temps."
      ]
    },
    {
      "cell_type": "code",
      "execution_count": 18,
      "metadata": {},
      "outputs": [],
      "source": [
        "# %prun optimise_abs(nuage, 0, len(nuage))"
      ]
    },
    {
      "cell_type": "markdown",
      "metadata": {},
      "source": [
        "La fonction [sum](https://docs.python.org/3/library/functions.html#sum) cache une boucle, avec la boucle ``for`` dans la fonction ``optimise``, cela explique le co\u00fbt en $O(n^2)$. Le fait qu'\u00e0 chaque it\u00e9ration, on passe une observation d'un c\u00f4t\u00e9 \u00e0 l'autre de la coupure puis on recalcule les moyennes... Nous allons optimiser ce calcul en tenant compte du fait que la fonction de co\u00fbt est $f(x,y) = (x-y)^2$. Il faut \u00e9galement se souvenir de la formule $\\mathbb{V}X = \\mathbb{E}(X^2) - (\\mathbb{E}X)^2$ ce qu'on transforme en $\\sum_{i=1}^n (X_i-M)^2 = \\sum_{i=1}^n X_i^2 - n M^2$ avec $M = \\frac{1}{n} \\sum_{i=1}^n X_i$."
      ]
    },
    {
      "cell_type": "code",
      "execution_count": 19,
      "metadata": {},
      "outputs": [
        {
          "data": {
            "text/plain": [
              "((553, 13082.574312018376), (553, 13082.574312018447))"
            ]
          },
          "execution_count": 20,
          "metadata": {},
          "output_type": "execute_result"
        }
      ],
      "source": [
        "def optimise_rapide(nuage, i, j):\n",
        "    # On calcule les histogrammes.\n",
        "    Y = sum(y for x,y in nuage)\n",
        "    Y_1 = sum(y for x,y in nuage[i:i+1])\n",
        "    Y_2 = sum(y for x,y in nuage[i+1:j])\n",
        "    Y2 = sum(y**2 for x,y in nuage)\n",
        "    Y2_1 = sum(y**2 for x,y in nuage[i:i+1])\n",
        "    Y2_2 = sum(y**2 for x,y in nuage[i+1:j])\n",
        "    \n",
        "    m = Y2 - Y**2 / len(nuage)\n",
        "    m1 = Y2_1 - Y_1**2\n",
        "    m2 = Y2_2 - Y_2**2/(len(nuage)-1)\n",
        "    mx = -1\n",
        "    ib = None\n",
        "    for k in range(i+1,j-1):\n",
        "        d = abs(m1+m2-m)\n",
        "        if ib is None or d > mx:\n",
        "            mx = d\n",
        "            ib = k\n",
        "        # On met \u00e0 jour les sommes Y?_?\n",
        "        y = nuage[k][1] \n",
        "\n",
        "        Y_1 += y\n",
        "        Y_2 -= y\n",
        "        Y2_1 += y**2\n",
        "        Y2_2 -= y**2\n",
        "        \n",
        "        m1 = Y2_1 - Y_1**2 / (k-i+1)\n",
        "        m2 = Y2_2 - Y_2**2 / (j-k-1)\n",
        "        \n",
        "    if ib is None:\n",
        "        ib = i\n",
        "        mx = 0\n",
        "    return ib, mx\n",
        "\n",
        "# On v\u00e9rifie qu'on obtient les m\u00eames r\u00e9sultats.\n",
        "optimise_rapide(nuage, 0, len(nuage)), optimise2(nuage, 0, len(nuage))"
      ]
    },
    {
      "cell_type": "code",
      "execution_count": 20,
      "metadata": {},
      "outputs": [
        {
          "name": "stdout",
          "output_type": "stream",
          "text": [
            "1.77 ms \u00b1 43.6 \u00b5s per loop (mean \u00b1 std. dev. of 7 runs, 1000 loops each)\n"
          ]
        }
      ],
      "source": [
        "%timeit optimise_rapide(nuage, 0, len(nuage))"
      ]
    },
    {
      "cell_type": "markdown",
      "metadata": {},
      "source": [
        "Carr\u00e9ment plus rapide."
      ]
    },
    {
      "cell_type": "code",
      "execution_count": 21,
      "metadata": {},
      "outputs": [],
      "source": []
    }
  ],
  "metadata": {
    "kernelspec": {
      "display_name": "Python 3",
      "language": "python",
      "name": "python3"
    },
    "language_info": {
      "codemirror_mode": {
        "name": "ipython",
        "version": 3
      },
      "file_extension": ".py",
      "mimetype": "text/x-python",
      "name": "python",
      "nbconvert_exporter": "python",
      "pygments_lexer": "ipython3",
      "version": "3.6.4"
    }
  },
  "nbformat": 4,
  "nbformat_minor": 2
}