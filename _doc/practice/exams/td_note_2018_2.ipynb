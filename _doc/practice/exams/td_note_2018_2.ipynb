{
 "cells": [
  {
   "cell_type": "markdown",
   "metadata": {},
   "source": [
    "# 1A.e - Enoncé 12 décembre 2017 (2)\n",
    "\n",
    "Correction du premier énoncé de l'examen du 12 décembre 2017. Celui-ci mène à l'implémentation d'un algorithme qui permet d'approximer une fonction $f$ par une fonction en escalier à partir d'un ensemble de points $(X_i, f(X_i))$."
   ]
  },
  {
   "cell_type": "markdown",
   "metadata": {},
   "source": [
    "## Q1 - échantillon aléatoire\n",
    "\n",
    "Générer un ensemble aléatoire de 1000 nombres $(X_i,Y_i)$ qui vérifie :\n",
    "\n",
    "* $X_i$ suit une loi uniforme sur $[0,16]$\n",
    "* $Y_i = \\sqrt{X_i}[\\sqrt{X_i}]$ où $[A]$ est la partie entière de $A$.\n",
    "\n",
    "On pourra se servir de la fonction ``random`` du module ``random``."
   ]
  },
  {
   "cell_type": "code",
   "execution_count": 2,
   "metadata": {},
   "outputs": [],
   "source": [
    "import random\n",
    "\n",
    "X = [random.random() * 16 for i in range(0, 1000)]\n",
    "Y = [x**0.5 * int(x**0.5) for x in X]"
   ]
  },
  {
   "cell_type": "markdown",
   "metadata": {},
   "source": [
    "## Q1 - dessiner le nuage de points - donnée\n",
    "\n",
    "Le code suivant vous est donné afin de vérifier vos réponses."
   ]
  },
  {
   "cell_type": "code",
   "execution_count": 3,
   "metadata": {},
   "outputs": [],
   "source": [
    "%matplotlib inline"
   ]
  },
  {
   "cell_type": "code",
   "execution_count": 4,
   "metadata": {},
   "outputs": [
    {
     "data": {
      "text/plain": [
       "[<matplotlib.lines.Line2D at 0x1c0e33655f8>]"
      ]
     },
     "execution_count": 5,
     "metadata": {},
     "output_type": "execute_result"
    },
    {
     "data": {
      "image/png": "[encoded data removed]",
      "text/plain": [
       "<matplotlib.figure.Figure at 0x1c0e21a8400>"
      ]
     },
     "metadata": {},
     "output_type": "display_data"
    }
   ],
   "source": [
    "import matplotlib.pyplot as plt\n",
    "\n",
    "plt.plot(X, Y, \".\")"
   ]
  },
  {
   "cell_type": "markdown",
   "metadata": {},
   "source": [
    "## Q2 - tri\n",
    "\n",
    "Trier les points selon les $X$."
   ]
  },
  {
   "cell_type": "code",
   "execution_count": 5,
   "metadata": {},
   "outputs": [],
   "source": [
    "nuage = [(x, y) for x, y in zip(X, Y)]\n",
    "nuage.sort()"
   ]
  },
  {
   "cell_type": "markdown",
   "metadata": {},
   "source": [
    "## Q3 - moyenne\n",
    "\n",
    "On suppose que les $Y$ sont triés selon les $X$ croissants.\n",
    "Calculer la moyenne des différences entre $Y$ et la moyenne $m$ des $Y$\n",
    "(au carré) sur un intervalle $[i,j]$, $j$ exclu.\n",
    "Ecrire une fonction ``def somme_diff(nuage, i, j)`` qui exécute ce calcul\n",
    "qui correspond à $\\sum_{k=i}^j (Y_k - m)^2$ avec $m = (\\sum_{k=i}^j Y_k) / (j-i)$."
   ]
  },
  {
   "cell_type": "code",
   "execution_count": 6,
   "metadata": {},
   "outputs": [
    {
     "data": {
      "text/plain": [
       "(0.0, 15754.105018618644)"
      ]
     },
     "execution_count": 7,
     "metadata": {},
     "output_type": "execute_result"
    }
   ],
   "source": [
    "def somme_diff(xy, i, j):\n",
    "    m = sum(e[1] for e in xy[i:j]) / (j - i)\n",
    "    return sum((e[1] - m) ** 2 for e in xy[i:j])\n",
    "\n",
    "\n",
    "somme_diff(nuage, 0, 5), somme_diff(nuage, 0, len(nuage))"
   ]
  },
  {
   "cell_type": "markdown",
   "metadata": {},
   "source": [
    "## Q4 - distance\n",
    "\n",
    "Soit $i,j$ deux entiers, on coupe l'intervalle en deux : $i,k$ et $k,j$. On calcule ``somme_diff`` sur ces deux intervalles, on fait la somme des différences (en valeurs absolues) de ces moyennes par rapport à la valeur sur le plus grand intervalle. On écrit la fonction ``def difference(nuage, i, j, k):``."
   ]
  },
  {
   "cell_type": "code",
   "execution_count": 7,
   "metadata": {},
   "outputs": [
    {
     "data": {
      "text/plain": [
       "19898.600443365925"
      ]
     },
     "execution_count": 8,
     "metadata": {},
     "output_type": "execute_result"
    }
   ],
   "source": [
    "def difference(nuage, i, j, k):\n",
    "    m1 = somme_diff(nuage, i, k)\n",
    "    m2 = somme_diff(nuage, k, j)\n",
    "    m = somme_diff(nuage, i, j)\n",
    "    return abs(m - m1) + abs(m - m2)\n",
    "\n",
    "\n",
    "difference(nuage, 0, len(nuage), 100)"
   ]
  },
  {
   "cell_type": "markdown",
   "metadata": {},
   "source": [
    "## Q5 - fonction comme paramètre\n",
    "\n",
    "Le langage Python permet de passer une fonction à une autre fonction en tant qu'argument. Un exemple :"
   ]
  },
  {
   "cell_type": "code",
   "execution_count": 8,
   "metadata": {},
   "outputs": [
    {
     "data": {
      "text/plain": [
       "1"
      ]
     },
     "execution_count": 9,
     "metadata": {},
     "output_type": "execute_result"
    }
   ],
   "source": [
    "def fct(x, y):\n",
    "    return abs(x - y)\n",
    "\n",
    "\n",
    "def distance_list(list_x, list_y, f):\n",
    "    return sum(f(x, y) for x, y in zip(list_x, list_y))\n",
    "\n",
    "\n",
    "distance_list([0, 1], [0, 2], fct)"
   ]
  },
  {
   "cell_type": "markdown",
   "metadata": {},
   "source": [
    "Ecrire la fonction précédente en utilisant la fonction ``fct``."
   ]
  },
  {
   "cell_type": "code",
   "execution_count": 9,
   "metadata": {},
   "outputs": [
    {
     "data": {
      "text/plain": [
       "552.6383487080093"
      ]
     },
     "execution_count": 10,
     "metadata": {},
     "output_type": "execute_result"
    }
   ],
   "source": [
    "def somme_diff(xy, i, j, f):\n",
    "    m = sum(e[1] for e in xy[i:j]) / (j - i)\n",
    "    return sum(f(e[1], m) for e in xy[i:j])\n",
    "\n",
    "\n",
    "def difference(nuage, i, j, k, f):\n",
    "    m1 = somme_diff(nuage, i, k, f)\n",
    "    m2 = somme_diff(nuage, k, j, f)\n",
    "    m = somme_diff(nuage, i, j, f)\n",
    "    return abs(m1 + m2 - m)\n",
    "\n",
    "\n",
    "difference(nuage, 0, len(nuage), 100, fct)"
   ]
  },
  {
   "cell_type": "markdown",
   "metadata": {},
   "source": [
    "## Q6 - optimiser\n",
    "\n",
    "On veut déterminer le $i$ optimal, celui qui maximise la différence dans l'intervalle $[i,j]$. On souhaite garder la fonction ``fct`` comme argument. Pour cela, implémenter la fonction ``def optimise(nuage, i, j, f):``."
   ]
  },
  {
   "cell_type": "code",
   "execution_count": 10,
   "metadata": {},
   "outputs": [
    {
     "data": {
      "text/plain": [
       "(553, 2184.8079894060775)"
      ]
     },
     "execution_count": 11,
     "metadata": {},
     "output_type": "execute_result"
    }
   ],
   "source": [
    "def optimise(nuage, i, j, f):\n",
    "    mx = -1\n",
    "    ib = None\n",
    "    for k in range(i + 1, j - 1):\n",
    "        d = difference(nuage, i, j, k, f)\n",
    "        if ib is None or d > mx:\n",
    "            mx = d\n",
    "            ib = k\n",
    "    return ib, mx\n",
    "\n",
    "\n",
    "optimise(nuage, 0, len(nuage), fct)"
   ]
  },
  {
   "cell_type": "code",
   "execution_count": 11,
   "metadata": {},
   "outputs": [
    {
     "data": {
      "text/plain": [
       "[<matplotlib.lines.Line2D at 0x1c0e4c6f208>]"
      ]
     },
     "execution_count": 12,
     "metadata": {},
     "output_type": "execute_result"
    },
    {
     "data": {
      "image/png": "[encoded data removed]",
      "text/plain": [
       "<matplotlib.figure.Figure at 0x1c0e4c68f98>"
      ]
     },
     "metadata": {},
     "output_type": "display_data"
    }
   ],
   "source": [
    "import matplotlib.pyplot as plt\n",
    "\n",
    "x = nuage[553][0]\n",
    "plt.plot(X, Y, \".\")\n",
    "plt.plot([x, x], [0, 10])"
   ]
  },
  {
   "cell_type": "markdown",
   "metadata": {},
   "source": [
    "## Q7 - optimisation encore\n",
    "\n",
    "Recommencer sur les deux intervalles trouvés"
   ]
  },
  {
   "cell_type": "code",
   "execution_count": 12,
   "metadata": {},
   "outputs": [
    {
     "data": {
      "text/plain": [
       "((253, 787.5154656398129), (789, 156.7106930739271))"
      ]
     },
     "execution_count": 13,
     "metadata": {},
     "output_type": "execute_result"
    }
   ],
   "source": [
    "optimise(nuage, 0, 570, fct), optimise(nuage, 570, len(nuage), fct)"
   ]
  },
  {
   "cell_type": "code",
   "execution_count": 13,
   "metadata": {},
   "outputs": [
    {
     "data": {
      "text/plain": [
       "[<matplotlib.lines.Line2D at 0x1c0e4c90940>]"
      ]
     },
     "execution_count": 14,
     "metadata": {},
     "output_type": "execute_result"
    },
    {
     "data": {
      "image/png": "[encoded data removed]",
      "text/plain": [
       "<matplotlib.figure.Figure at 0x1c0e4c665f8>"
      ]
     },
     "metadata": {},
     "output_type": "display_data"
    }
   ],
   "source": [
    "import matplotlib.pyplot as plt\n",
    "\n",
    "x = nuage[253][0]\n",
    "x2 = nuage[789][0]\n",
    "plt.plot(X, Y, \".\")\n",
    "plt.plot([x, x], [0, 10])\n",
    "plt.plot([x2, x2], [0, 10])"
   ]
  },
  {
   "cell_type": "markdown",
   "metadata": {},
   "source": [
    "## Q8 - fonction récursive\n",
    "\n",
    "Pouvez-vous imaginer une fonction récursive qui produit toutes les séparations. Ecrire la fonction ``def recursive(nuage, i, j, f, th=0.1):``. La fonction ``recursive`` tente de placer chaque point dans un intervalle distinct et elle échoue car elle dépasse le nombre d'appels récursifs autorisés par le langage Python."
   ]
  },
  {
   "cell_type": "code",
   "execution_count": 14,
   "metadata": {
    "scrolled": false
   },
   "outputs": [
    {
     "data": {
      "text/plain": [
       "(946, [0, 1, 1, 2, 2], [996, 996, 997, 997, 998])"
      ]
     },
     "execution_count": 15,
     "metadata": {},
     "output_type": "execute_result"
    }
   ],
   "source": [
    "def recursive(nuage, i, j, f):\n",
    "    if i + 1 == j or i == j:\n",
    "        return [i]\n",
    "    k, mx = optimise(nuage, i, j, f)\n",
    "    if k is None:\n",
    "        return None\n",
    "    else:\n",
    "        r1 = recursive(nuage, i, k, f)\n",
    "        r2 = recursive(nuage, k, j, f)\n",
    "        if r1 is None and r2 is None:\n",
    "            return [k]\n",
    "        elif r1 is None:\n",
    "            return [k] + r2\n",
    "        elif r2 is None:\n",
    "            return r1 + [k]\n",
    "        else:\n",
    "            return r1 + [k] + r2\n",
    "\n",
    "\n",
    "# déclenche une exception\n",
    "r = recursive(nuage, 0, len(nuage), fct)\n",
    "len(r), r[:5], r[-5:]"
   ]
  },
  {
   "cell_type": "markdown",
   "metadata": {},
   "source": [
    "La fonction n'est pas encore parfait et elle retourne plusieurs fois le même point de coupure mais ce n'est pas le plus grave car la fonction retourne quasiment tous les points."
   ]
  },
  {
   "cell_type": "markdown",
   "metadata": {},
   "source": [
    "## Q9 - seuil\n",
    "\n",
    "L'algorithme produit beaucoup de points de coupures. On souhaite arrêter la récursion plus tôt en mettant un seuil sur la quantité obtenue $|\\Delta_{i}^k + \\Delta_{k}^j - \\Delta_{i}^j|$ qui doit être supérieur à 50."
   ]
  },
  {
   "cell_type": "code",
   "execution_count": 15,
   "metadata": {},
   "outputs": [
    {
     "data": {
      "text/plain": [
       "(5, [61, 253, 384, 553, 782])"
      ]
     },
     "execution_count": 16,
     "metadata": {},
     "output_type": "execute_result"
    }
   ],
   "source": [
    "def recursive(nuage, i, j, f, th=50):\n",
    "    k, mx = optimise(nuage, i, j, f)\n",
    "    if mx <= th:\n",
    "        return None\n",
    "    r1 = recursive(nuage, i, k, f, th=th)\n",
    "    r2 = recursive(nuage, k, j, f, th=th)\n",
    "    if r1 is None and r2 is None:\n",
    "        return [k]\n",
    "    elif r1 is None:\n",
    "        return [k] + r2\n",
    "    elif r2 is None:\n",
    "        return r1 + [k]\n",
    "    else:\n",
    "        return r1 + [k] + r2\n",
    "\n",
    "\n",
    "r = recursive(nuage, 0, len(nuage), fct)\n",
    "len(r), r[:5]"
   ]
  },
  {
   "cell_type": "code",
   "execution_count": 16,
   "metadata": {},
   "outputs": [
    {
     "data": {
      "image/png": "[encoded data removed]",
      "text/plain": [
       "<matplotlib.figure.Figure at 0x1c0e3bc5c18>"
      ]
     },
     "metadata": {},
     "output_type": "display_data"
    }
   ],
   "source": [
    "import matplotlib.pyplot as plt\n",
    "\n",
    "plt.plot(X, Y, \".\")\n",
    "for i in r:\n",
    "    x = nuage[i][0]\n",
    "    plt.plot([x, x], [0, 10])"
   ]
  },
  {
   "cell_type": "markdown",
   "metadata": {},
   "source": [
    "## Q10 - coût\n",
    "\n",
    "Quel est le coût de la fonction ``optimize`` en fonction de la taille de l'intervalle ? Peut-on mieux faire  (ce qu'on n'implémentera pas)."
   ]
  },
  {
   "cell_type": "markdown",
   "metadata": {},
   "source": [
    "Tel qu'il est implémenté, le coût est en $O(n^2)$, le coût peut être linéaire en triant les éléments dans l'ordre croissant, ce qui a été fait, ou $n\\ln n$ si on inclut le coût du tri bien qu'on ne le fasse qu'une fois. Voyons plus en détail comment se débarrasser du coût en $O(n^2)$. Tout d'abord la version actuelle."
   ]
  },
  {
   "cell_type": "code",
   "execution_count": 17,
   "metadata": {},
   "outputs": [
    {
     "name": "stdout",
     "output_type": "stream",
     "text": [
      "628 ms ± 6.15 ms per loop (mean ± std. dev. of 7 runs, 1 loop each)\n"
     ]
    }
   ],
   "source": [
    "def somme_diff2(xy, i, j):\n",
    "    m = sum(e[1] for e in xy[i:j]) / (j - i)\n",
    "    return sum((e[1] - m) ** 2 for e in xy[i:j])\n",
    "\n",
    "\n",
    "def difference2(nuage, i, j, k):\n",
    "    m1 = somme_diff2(nuage, i, k)\n",
    "    m2 = somme_diff2(nuage, k, j)\n",
    "    m = somme_diff2(nuage, i, j)\n",
    "    return abs(m1 + m2 - m)\n",
    "\n",
    "\n",
    "def optimise2(nuage, i, j):\n",
    "    mx = -1\n",
    "    ib = None\n",
    "    for k in range(i + 1, j - 1):\n",
    "        d = difference2(nuage, i, j, k)\n",
    "        if ib is None or d > mx:\n",
    "            mx = d\n",
    "            ib = k\n",
    "    if ib is None:\n",
    "        ib = i\n",
    "        mx = 0\n",
    "    return ib, mx\n",
    "\n",
    "\n",
    "%timeit optimise2(nuage, 0, len(nuage))"
   ]
  },
  {
   "cell_type": "markdown",
   "metadata": {},
   "source": [
    "L'instruction suivante permet de voir où le programme passe la majeure partie de son temps."
   ]
  },
  {
   "cell_type": "code",
   "execution_count": 18,
   "metadata": {},
   "outputs": [],
   "source": [
    "# %prun optimise_abs(nuage, 0, len(nuage))"
   ]
  },
  {
   "cell_type": "markdown",
   "metadata": {},
   "source": [
    "La fonction [sum](https://docs.python.org/3/library/functions.html#sum) cache une boucle, avec la boucle ``for`` dans la fonction ``optimise``, cela explique le coût en $O(n^2)$. Le fait qu'à chaque itération, on passe une observation d'un côté à l'autre de la coupure puis on recalcule les moyennes... Nous allons optimiser ce calcul en tenant compte du fait que la fonction de coût est $f(x,y) = (x-y)^2$. Il faut également se souvenir de la formule $\\mathbb{V}X = \\mathbb{E}(X^2) - (\\mathbb{E}X)^2$ ce qu'on transforme en $\\sum_{i=1}^n (X_i-M)^2 = \\sum_{i=1}^n X_i^2 - n M^2$ avec $M = \\frac{1}{n} \\sum_{i=1}^n X_i$."
   ]
  },
  {
   "cell_type": "code",
   "execution_count": 19,
   "metadata": {},
   "outputs": [
    {
     "data": {
      "text/plain": [
       "((553, 13082.574312018376), (553, 13082.574312018447))"
      ]
     },
     "execution_count": 20,
     "metadata": {},
     "output_type": "execute_result"
    }
   ],
   "source": [
    "def optimise_rapide(nuage, i, j):\n",
    "    # On calcule les histogrammes.\n",
    "    Y = sum(y for x, y in nuage)\n",
    "    Y_1 = sum(y for x, y in nuage[i : i + 1])\n",
    "    Y_2 = sum(y for x, y in nuage[i + 1 : j])\n",
    "    Y2 = sum(y**2 for x, y in nuage)\n",
    "    Y2_1 = sum(y**2 for x, y in nuage[i : i + 1])\n",
    "    Y2_2 = sum(y**2 for x, y in nuage[i + 1 : j])\n",
    "\n",
    "    m = Y2 - Y**2 / len(nuage)\n",
    "    m1 = Y2_1 - Y_1**2\n",
    "    m2 = Y2_2 - Y_2**2 / (len(nuage) - 1)\n",
    "    mx = -1\n",
    "    ib = None\n",
    "    for k in range(i + 1, j - 1):\n",
    "        d = abs(m1 + m2 - m)\n",
    "        if ib is None or d > mx:\n",
    "            mx = d\n",
    "            ib = k\n",
    "        # On met à jour les sommes Y?_?\n",
    "        y = nuage[k][1]\n",
    "\n",
    "        Y_1 += y\n",
    "        Y_2 -= y\n",
    "        Y2_1 += y**2\n",
    "        Y2_2 -= y**2\n",
    "\n",
    "        m1 = Y2_1 - Y_1**2 / (k - i + 1)\n",
    "        m2 = Y2_2 - Y_2**2 / (j - k - 1)\n",
    "\n",
    "    if ib is None:\n",
    "        ib = i\n",
    "        mx = 0\n",
    "    return ib, mx\n",
    "\n",
    "\n",
    "# On vérifie qu'on obtient les mêmes résultats.\n",
    "optimise_rapide(nuage, 0, len(nuage)), optimise2(nuage, 0, len(nuage))"
   ]
  },
  {
   "cell_type": "code",
   "execution_count": 20,
   "metadata": {},
   "outputs": [
    {
     "name": "stdout",
     "output_type": "stream",
     "text": [
      "1.77 ms ± 43.6 µs per loop (mean ± std. dev. of 7 runs, 1000 loops each)\n"
     ]
    }
   ],
   "source": [
    "%timeit optimise_rapide(nuage, 0, len(nuage))"
   ]
  },
  {
   "cell_type": "markdown",
   "metadata": {},
   "source": [
    "Carrément plus rapide."
   ]
  },
  {
   "cell_type": "code",
   "execution_count": 21,
   "metadata": {},
   "outputs": [],
   "source": []
  }
 ],
 "metadata": {
  "kernelspec": {
   "display_name": "Python 3",
   "language": "python",
   "name": "python3"
  },
  "language_info": {
   "codemirror_mode": {
    "name": "ipython",
    "version": 3
   },
   "file_extension": ".py",
   "mimetype": "text/x-python",
   "name": "python",
   "nbconvert_exporter": "python",
   "pygments_lexer": "ipython3",
   "version": "3.6.4"
  }
 },
 "nbformat": 4,
 "nbformat_minor": 2
}