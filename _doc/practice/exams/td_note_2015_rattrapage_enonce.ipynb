{
 "cells": [
  {
   "cell_type": "markdown",
   "metadata": {},
   "source": [
    "# 1A.e - TD noté 2015 rattrapage (énoncé, écrit et oral)\n",
    "\n",
    "Questions posées à l'oral autour du jeu 2048 et d'un exercice Google Jam sur le position de carreaux dans un plus grand carré : [Problem D. Cut Tiles](https://github.com/Harmon758/Google-Kick-Start/tree/master/2014/Round%20A/Problem%20D)."
   ]
  },
  {
   "cell_type": "markdown",
   "metadata": {},
   "source": [
    "## Question 1\n",
    "\n",
    "On s'intéresse à une phase du jeu [2048](http://gabrielecirulli.github.io/2048/). On part d'une grille :"
   ]
  },
  {
   "cell_type": "code",
   "execution_count": 2,
   "metadata": {},
   "outputs": [
    {
     "name": "stdout",
     "output_type": "stream",
     "text": [
      "[2, 0, 0, 4]\n",
      "[0, 2, 8, 2]\n",
      "[0, 2, 4, 2]\n",
      "[2, 2, 8, 0]\n"
     ]
    }
   ],
   "source": [
    "mat = [\n",
    "    [2, 0, 0, 4],\n",
    "    [0, 2, 8, 2],\n",
    "    [0, 2, 4, 2],\n",
    "    [2, 2, 8, 0],\n",
    "]\n",
    "for m in mat:\n",
    "    print(m)"
   ]
  },
  {
   "cell_type": "markdown",
   "metadata": {},
   "source": [
    "On veut écrire une fonction qui calcule l'état du jeu après la pression de la touche ``bas``."
   ]
  },
  {
   "cell_type": "code",
   "execution_count": 3,
   "metadata": {
    "collapsed": true
   },
   "outputs": [],
   "source": []
  },
  {
   "cell_type": "markdown",
   "metadata": {},
   "source": [
    "## Question 2\n",
    "\n",
    "Modifier la fonction pour gérer les quatre directions."
   ]
  },
  {
   "cell_type": "code",
   "execution_count": 4,
   "metadata": {
    "collapsed": true
   },
   "outputs": [],
   "source": []
  },
  {
   "cell_type": "markdown",
   "metadata": {},
   "source": [
    "## Question 3\n",
    "\n",
    "Remplir deux cases vides choisies aléatoirement avec deux chiffres 2."
   ]
  },
  {
   "cell_type": "code",
   "execution_count": 5,
   "metadata": {
    "collapsed": true
   },
   "outputs": [],
   "source": []
  },
  {
   "cell_type": "markdown",
   "metadata": {},
   "source": [
    "## Question 4\n",
    "\n",
    "Proposer des solutions pour le problème [Problem D. Cut Tiles](https://github.com/Harmon758/Google-Kick-Start/tree/master/2014/Round%20A/Problem%20D). On n'implémentera pas ces solutions."
   ]
  },
  {
   "cell_type": "code",
   "execution_count": 6,
   "metadata": {
    "collapsed": true
   },
   "outputs": [],
   "source": []
  }
 ],
 "metadata": {
  "kernelspec": {
   "display_name": "Python 3",
   "language": "python",
   "name": "python3"
  },
  "language_info": {
   "codemirror_mode": {
    "name": "ipython",
    "version": 3
   },
   "file_extension": ".py",
   "mimetype": "text/x-python",
   "name": "python",
   "nbconvert_exporter": "python",
   "pygments_lexer": "ipython3",
   "version": "3.6.1"
  }
 },
 "nbformat": 4,
 "nbformat_minor": 1
}
