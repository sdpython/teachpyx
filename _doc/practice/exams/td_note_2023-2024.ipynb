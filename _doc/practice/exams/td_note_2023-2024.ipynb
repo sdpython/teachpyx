{
 "cells": [
  {
   "cell_type": "markdown",
   "metadata": {},
   "source": [
    "# 1A - Enoncé 8 novembre 2023"
   ]
  },
  {
   "cell_type": "markdown",
   "metadata": {},
   "source": [
    "## Exercice 1 : décodage façon Morse\n",
    "\n",
    "Une langue étrangère s'écrit avec 10 lettres `ABCDEFGHUIJ`. Chacune est représentée par 4 bits."
   ]
  },
  {
   "cell_type": "code",
   "execution_count": 13,
   "metadata": {},
   "outputs": [],
   "source": [
    "code_def = \"\"\"\n",
    "A 0000\n",
    "B 0001\n",
    "C 0010\n",
    "D 0011\n",
    "E 0100\n",
    "F 0101\n",
    "G 0110\n",
    "H 0111\n",
    "I 1000\n",
    "J 1001\n",
    "\"\"\""
   ]
  },
  {
   "cell_type": "markdown",
   "metadata": {},
   "source": [
    "Ou encore."
   ]
  },
  {
   "cell_type": "code",
   "execution_count": 14,
   "metadata": {},
   "outputs": [],
   "source": [
    "code_def = {\n",
    "    \"A\": \"0000\",\n",
    "    \"B\": \"0001\",\n",
    "    \"C\": \"0010\",\n",
    "    \"D\": \"0011\",\n",
    "    \"E\": \"0100\",\n",
    "    \"F\": \"0101\",\n",
    "    \"G\": \"0110\",\n",
    "    \"H\": \"0111\",\n",
    "    \"I\": \"1000\",\n",
    "    \"J\": \"1001\",\n",
    "}"
   ]
  },
  {
   "cell_type": "markdown",
   "metadata": {},
   "source": [
    "### Q1 : Ecrire une fonction qui code une séquence de lettres en une séquence de 0 et 1."
   ]
  },
  {
   "cell_type": "code",
   "execution_count": 25,
   "metadata": {},
   "outputs": [],
   "source": [
    "def code(text):\n",
    "    return \"\".join(code_def[c] for c in text)\n",
    "\n",
    "\n",
    "assert code(\"AG\") == \"00000110\""
   ]
  },
  {
   "cell_type": "markdown",
   "metadata": {},
   "source": [
    "### Q2 : On s'intéresse au décodage d'un message.\n",
    "\n",
    "Première étage : écrire une fonction qui retourne la première lettre\n",
    "correpondant au premier code qui commence un message codé."
   ]
  },
  {
   "cell_type": "code",
   "execution_count": 26,
   "metadata": {},
   "outputs": [],
   "source": [
    "def first_letter(chaine):\n",
    "    for k, v in code_def.items():\n",
    "        if chaine.startswith(v):\n",
    "            return k\n",
    "\n",
    "\n",
    "assert first_letter(\"10010001\") == \"J\""
   ]
  },
  {
   "cell_type": "markdown",
   "metadata": {},
   "source": [
    "### Q3 : Ecrire une fonction qui reçoit une séquence de 0 et de 1 et retourne la séquence de lettres correspondante."
   ]
  },
  {
   "cell_type": "code",
   "execution_count": 27,
   "metadata": {},
   "outputs": [],
   "source": [
    "def decode(chaine):\n",
    "    res = \"\"\n",
    "    while len(chaine) > 0:\n",
    "        found = None\n",
    "        for k, v in code_def.items():\n",
    "            if chaine.startswith(v):\n",
    "                found = k\n",
    "        if found is None:\n",
    "            return None\n",
    "        res += found\n",
    "        chaine = chaine[len(code_def[found]) :]\n",
    "    return res\n",
    "\n",
    "\n",
    "assert decode(\"00000110\") == \"AG\""
   ]
  },
  {
   "cell_type": "markdown",
   "metadata": {},
   "source": [
    "On peut utiliser le fait que toutes les lettres sont représentées par des séquences de 4 bits mais la fonction est spécifique au premier code et ne marcherait pas dans les autres cas."
   ]
  },
  {
   "cell_type": "code",
   "execution_count": 17,
   "metadata": {},
   "outputs": [],
   "source": [
    "code_def_inverse = {v: k for k, v in code_def.items()}\n",
    "\n",
    "\n",
    "def decode_rapide(chaine):\n",
    "    res = \"\"\n",
    "    for i in range(0, len(chaine), 4):\n",
    "        res += code_def_inverse[chaine[i : i + 4]]\n",
    "    return res\n",
    "\n",
    "\n",
    "assert decode_rapide(\"00000110\") == \"AG\""
   ]
  },
  {
   "cell_type": "markdown",
   "metadata": {},
   "source": [
    "### Q4 : On forme une classe avec les deux fonctions précédentes. Il faut compléter le code suivant."
   ]
  },
  {
   "cell_type": "code",
   "execution_count": 35,
   "metadata": {},
   "outputs": [],
   "source": [
    "class Coding:\n",
    "    def __init__(self):\n",
    "        self.mapping = {\n",
    "            \"A\": \"0000\",\n",
    "            \"B\": \"0001\",\n",
    "            \"C\": \"0010\",\n",
    "            \"D\": \"0011\",\n",
    "            \"E\": \"0100\",\n",
    "            \"F\": \"0101\",\n",
    "            \"G\": \"0110\",\n",
    "            \"H\": \"0111\",\n",
    "            \"I\": \"1000\",\n",
    "            \"J\": \"1001\",\n",
    "        }\n",
    "        self.inverse = {v: k for k, v in self.mapping.items()}\n",
    "\n",
    "    def code(self, text):\n",
    "        return \"\".join(self.mapping[c] for c in text)\n",
    "\n",
    "    def first_letter(self, chaine):\n",
    "        for k, v in self.mapping.items():\n",
    "            if chaine.startswith(v):\n",
    "                return k\n",
    "        return None\n",
    "\n",
    "    def decode(self, chaine):\n",
    "        if len(chaine) == 0:\n",
    "            return \"\"\n",
    "        letter = self.first_letter(chaine)\n",
    "        if letter is None:\n",
    "            return None\n",
    "        suite = self.decode(chaine[len(self.mapping[letter]) :])\n",
    "        if suite is None:\n",
    "            return None\n",
    "        return letter + suite\n",
    "\n",
    "\n",
    "cl = Coding()\n",
    "assert cl.code(\"AG\") == \"00000110\"\n",
    "assert cl.decode(\"00000110\") == \"AG\""
   ]
  },
  {
   "cell_type": "markdown",
   "metadata": {},
   "source": [
    "### Q5 : On veut réduire la taille du message codé.\n",
    "\n",
    "Les lettres de A à G sont maintenant codées sur 3 bits et les suivantes sur 5. On change juste le dictionnaire de la classe."
   ]
  },
  {
   "cell_type": "code",
   "execution_count": 36,
   "metadata": {},
   "outputs": [],
   "source": [
    "class Coding35(Coding):\n",
    "    def __init__(self):\n",
    "        self.mapping = {\n",
    "            \"A\": \"000\",\n",
    "            \"B\": \"001\",\n",
    "            \"C\": \"010\",\n",
    "            \"D\": \"011\",\n",
    "            \"E\": \"100\",\n",
    "            \"F\": \"101\",\n",
    "            \"G\": \"110\",\n",
    "            \"H\": \"11100\",\n",
    "            \"I\": \"11101\",\n",
    "            \"J\": \"11110\",\n",
    "        }\n",
    "        self.inverse = {v: k for k, v in self.mapping.items()}\n",
    "\n",
    "\n",
    "cl = Coding35()\n",
    "assert cl.code(\"AH\") == \"00011100\"\n",
    "assert cl.decode(\"00011100\") == \"AH\""
   ]
  },
  {
   "cell_type": "markdown",
   "metadata": {},
   "source": [
    "### Q6 : Que fait la fonction suivante ?\n",
    "\n",
    "Que suppose-t-elle sur la méthode `decode` pour qu'elle fonctionne."
   ]
  },
  {
   "cell_type": "code",
   "execution_count": 38,
   "metadata": {},
   "outputs": [],
   "source": [
    "def which_coding(text, codings):\n",
    "    return [c for c in codings if c.decode(text) is not None]\n",
    "\n",
    "\n",
    "codings = [Coding(), Coding35()]\n",
    "assert which_coding(\"0000\", codings) == codings[:1]"
   ]
  },
  {
   "cell_type": "markdown",
   "metadata": {},
   "source": [
    "La fonction retourne la liste des codes qui peuvent décoder un message. Elle suppose que la méthode `decode` retourne None lorsqu'elle ne peut décoder un message."
   ]
  },
  {
   "cell_type": "markdown",
   "metadata": {},
   "source": [
    "### Q7 : Dans ce langage, les lettres sont toutes équiprobables\n",
    "\n",
    "Quel code est le plus court pour un texte aléatoire très grand et quantifier le gain ?\n",
    "Que se passe-t-il si la lettre J a une probabilité de 0.3 et toutes les autres lettres ont la même probabilité\n",
    "d'apparition ? Que suggérez-vous pour optimiser le Coding en terme de longueur ?"
   ]
  },
  {
   "cell_type": "markdown",
   "metadata": {},
   "source": [
    "La probabilité des lettes est uniforme, donc égale 0.1. Avec le premier code, la longueur moyenne d'une lettre codé est 4. Avec le second c'est $(7 * 3  + 3 * 5) * 0.1 = 3.6$. Donc le second est plus efficace. Si J a une probabilité d'apparition de 0.3, le calcule devient : $7 * 3 * \\frac{0.5}{9}  + 2 * 5 * \\frac{0.5}{9} + 5 * 0.3 \\sim 4.22$."
   ]
  },
  {
   "cell_type": "code",
   "execution_count": 20,
   "metadata": {},
   "outputs": [
    {
     "data": {
      "text/plain": [
       "4.222222222222222"
      ]
     },
     "execution_count": 20,
     "metadata": {},
     "output_type": "execute_result"
    }
   ],
   "source": [
    "7 * 3 * 0.5 / 9 + 2 * 5 * 0.5 / 9 + 5 * 0.5"
   ]
  },
  {
   "cell_type": "markdown",
   "metadata": {},
   "source": [
    "Pour optimiser, il faut donner le code le plus court aux lettres les plus probables."
   ]
  },
  {
   "cell_type": "code",
   "execution_count": 21,
   "metadata": {},
   "outputs": [
    {
     "data": {
      "text/plain": [
       "3.3333333333333335"
      ]
     },
     "execution_count": 21,
     "metadata": {},
     "output_type": "execute_result"
    }
   ],
   "source": [
    "6 * 3 * 0.5 / 9 + 3 * 5 * 0.5 / 9 + 3 * 0.5"
   ]
  },
  {
   "cell_type": "markdown",
   "metadata": {},
   "source": [
    "### Q8 : On change le Coding des lettres A et B\n",
    "\n",
    "`A  00` et `B 01`.\n",
    "\n",
    "Il faut créer une troisième classe\n",
    "héritant de la première. Que valent `c.code(\"BGBB\")` et `c.code(\"DEF\")` ?\n",
    "Que retourne votre méthode `decode` ?"
   ]
  },
  {
   "cell_type": "code",
   "execution_count": 22,
   "metadata": {},
   "outputs": [],
   "source": [
    "class Coding235(Coding):\n",
    "    def __init__(self):\n",
    "        self.mapping = {\n",
    "            \"A\": \"00\",\n",
    "            \"B\": \"01\",\n",
    "            \"C\": \"010\",\n",
    "            \"D\": \"011\",\n",
    "            \"E\": \"100\",\n",
    "            \"F\": \"101\",\n",
    "            \"G\": \"110\",\n",
    "            \"H\": \"11100\",\n",
    "            \"I\": \"11101\",\n",
    "            \"J\": \"11110\",\n",
    "        }\n",
    "        self.inverse = {v: k for k, v in self.mapping.items()}\n",
    "\n",
    "\n",
    "c = Coding235()\n",
    "assert c.code(\"BGBB\") == \"011100101\"\n",
    "assert c.code(\"DEF\") == \"011100101\"  # c'est la même chose"
   ]
  },
  {
   "cell_type": "markdown",
   "metadata": {},
   "source": [
    "### Q9 : Dans le cas précédent, la première lettre peut être soit **B** soit **D**.\n",
    "\n",
    "Ecrire une méthode qui retourne toutes les options pour la première lettre d'un message codé."
   ]
  },
  {
   "cell_type": "code",
   "execution_count": 23,
   "metadata": {},
   "outputs": [],
   "source": [
    "class Coding235(Coding):\n",
    "    def __init__(self):\n",
    "        self.mapping = {\n",
    "            \"A\": \"00\",\n",
    "            \"B\": \"01\",\n",
    "            \"C\": \"010\",\n",
    "            \"D\": \"011\",\n",
    "            \"E\": \"100\",\n",
    "            \"F\": \"101\",\n",
    "            \"G\": \"110\",\n",
    "            \"H\": \"11100\",\n",
    "            \"I\": \"11101\",\n",
    "            \"J\": \"11110\",\n",
    "        }\n",
    "        self.inverse = {v: k for k, v in self.mapping.items()}\n",
    "\n",
    "    def first_letters(self, chaine):\n",
    "        found = []\n",
    "        for k, v in self.mapping.items():\n",
    "            if chaine.startswith(v):\n",
    "                found.append(k)\n",
    "        return set(found)\n",
    "\n",
    "\n",
    "c = Coding235()\n",
    "assert c.first_letters(\"011100101\") == {\"B\", \"D\"}"
   ]
  },
  {
   "cell_type": "markdown",
   "metadata": {},
   "source": [
    "### Q10 : Ecrire une méthode...\n",
    "\n",
    "`decode` qui retourne toutes les solutions par récurrence."
   ]
  },
  {
   "cell_type": "code",
   "execution_count": 24,
   "metadata": {},
   "outputs": [
    {
     "name": "stdout",
     "output_type": "stream",
     "text": [
      "{'BGBB', 'DEF'}\n",
      "---\n"
     ]
    }
   ],
   "source": [
    "class Coding235(Coding):\n",
    "    def __init__(self):\n",
    "        self.mapping = {\n",
    "            \"A\": \"00\",\n",
    "            \"B\": \"01\",\n",
    "            \"C\": \"010\",\n",
    "            \"D\": \"011\",\n",
    "            \"E\": \"100\",\n",
    "            \"F\": \"101\",\n",
    "            \"G\": \"110\",\n",
    "            \"H\": \"11100\",\n",
    "            \"I\": \"11101\",\n",
    "            \"J\": \"11110\",\n",
    "        }\n",
    "        self.inverse = {v: k for k, v in self.mapping.items()}\n",
    "\n",
    "    def first_letters(self, chaine):\n",
    "        found = []\n",
    "        for k, v in self.mapping.items():\n",
    "            if chaine.startswith(v):\n",
    "                found.append(k)\n",
    "        return set(found)\n",
    "\n",
    "    def decode(self, chaine):\n",
    "        solutions = []\n",
    "        found = self.first_letters(chaine)\n",
    "        for f in found:\n",
    "            end = chaine[len(self.mapping[f]) :]\n",
    "            if end == \"\":\n",
    "                solutions.append(f)\n",
    "                continue\n",
    "            suites = self.decode(end)\n",
    "            if len(suites) == 0:\n",
    "                continue\n",
    "            for s in suites:\n",
    "                solutions.append(f + s)\n",
    "\n",
    "        return set(solutions)\n",
    "\n",
    "\n",
    "c = Coding235()\n",
    "assert c.decode(\"011100101\") == {\"BGBB\", \"DEF\"}"
   ]
  },
  {
   "cell_type": "code",
   "execution_count": null,
   "metadata": {},
   "outputs": [],
   "source": []
  }
 ],
 "metadata": {
  "kernelspec": {
   "display_name": "Python 3 (ipykernel)",
   "language": "python",
   "name": "python3"
  },
  "language_info": {
   "codemirror_mode": {
    "name": "ipython",
    "version": 3
   },
   "file_extension": ".py",
   "mimetype": "text/x-python",
   "name": "python",
   "nbconvert_exporter": "python",
   "pygments_lexer": "ipython3",
   "version": "3.10.12"
  }
 },
 "nbformat": 4,
 "nbformat_minor": 2
}
