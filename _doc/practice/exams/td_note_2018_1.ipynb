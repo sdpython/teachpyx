{
 "cells": [
  {
   "cell_type": "markdown",
   "metadata": {},
   "source": [
    "# 1A.e - Enoncé 12 décembre 2017 (1)\n",
    "\n",
    "Correction du premier énoncé de l'examen du 12 décembre 2017. Celui-ci mène à l'implémentation d'un algorithme qui permet de retrouver une fonction $f$ en escalier à partir d'un ensemble de points $(X_i, f(X_i))$."
   ]
  },
  {
   "cell_type": "markdown",
   "metadata": {},
   "source": [
    "## Q1 - échantillon aléatoire\n",
    "\n",
    "Générer un ensemble aléatoire de 1000 nombres $(X_i,Y_i)$ qui vérifie :\n",
    "\n",
    "* $X_i$ suit une loi uniforme sur $[0,16]$\n",
    "* $Y_i = \\mathbb{1}_{[\\sqrt{X_i}] \\mod 2}$ où $[A]$ est la partie entière de $A$.\n",
    "\n",
    "On pourra se servir de la fonction ``random`` du module ``random``."
   ]
  },
  {
   "cell_type": "code",
   "execution_count": 2,
   "metadata": {},
   "outputs": [],
   "source": [
    "import random\n",
    "\n",
    "X = [random.random() * 16 for i in range(0, 1000)]\n",
    "Y = [int(x**0.5) % 2 for x in X]"
   ]
  },
  {
   "cell_type": "markdown",
   "metadata": {},
   "source": [
    "## Q1 - dessiner le nuage de points - donnée\n",
    "\n",
    "Le code suivant vous est donné afin de vérifier vos réponses."
   ]
  },
  {
   "cell_type": "code",
   "execution_count": 3,
   "metadata": {},
   "outputs": [],
   "source": [
    "%matplotlib inline"
   ]
  },
  {
   "cell_type": "code",
   "execution_count": 4,
   "metadata": {},
   "outputs": [
    {
     "data": {
      "text/plain": [
       "[<matplotlib.lines.Line2D at 0x1f893f9e518>]"
      ]
     },
     "execution_count": 5,
     "metadata": {},
     "output_type": "execute_result"
    },
    {
     "data": {
      "image/png": "[encoded data removed]",
      "text/plain": [
       "<matplotlib.figure.Figure at 0x1f892ef8160>"
      ]
     },
     "metadata": {},
     "output_type": "display_data"
    }
   ],
   "source": [
    "import matplotlib.pyplot as plt\n",
    "\n",
    "plt.plot(X, Y, \".\")"
   ]
  },
  {
   "cell_type": "markdown",
   "metadata": {},
   "source": [
    "## Q2 - tri\n",
    "\n",
    "Trier les points selon les $X$."
   ]
  },
  {
   "cell_type": "code",
   "execution_count": 5,
   "metadata": {},
   "outputs": [
    {
     "data": {
      "text/plain": [
       "[(0.014962888038782651, 0),\n",
       " (0.020462778257442693, 0),\n",
       " (0.022310859639508962, 0),\n",
       " (0.03078728731371605, 0),\n",
       " (0.03153252863972433, 0)]"
      ]
     },
     "execution_count": 6,
     "metadata": {},
     "output_type": "execute_result"
    }
   ],
   "source": [
    "nuage = [(x, y) for x, y in zip(X, Y)]\n",
    "nuage.sort()\n",
    "nuage[:5]"
   ]
  },
  {
   "cell_type": "markdown",
   "metadata": {},
   "source": [
    "## Q3 - moyenne\n",
    "\n",
    "On suppose que les $Y$ sont triés selon les $X$ croissants.\n",
    "Calculer la moyenne des différences entre $Y$ et la moyenne $m$ des $Y$\n",
    "(en valeur absolue) sur un intervalle $[i,j]$, $j$ exclu.\n",
    "Ecrire une fonction ``def somme_diff(nuage, i, j)`` qui exécute ce calcul\n",
    "qui correspond à $\\sum_{k=i}^{j-1} |Y_k - m|$ avec $m = (\\sum_{k=i}^{j-1} Y_k) / (j-i)$."
   ]
  },
  {
   "cell_type": "code",
   "execution_count": 6,
   "metadata": {},
   "outputs": [
    {
     "data": {
      "text/plain": [
       "(0.0, 476.2380000000092)"
      ]
     },
     "execution_count": 7,
     "metadata": {},
     "output_type": "execute_result"
    }
   ],
   "source": [
    "def somme_diff(xy, i, j):\n",
    "    m = sum(e[1] for e in xy[i:j]) / (j - i)\n",
    "    return sum(abs(e[1] - m) for e in xy[i:j])\n",
    "\n",
    "\n",
    "somme_diff(nuage, 0, 5), somme_diff(nuage, 0, len(nuage))"
   ]
  },
  {
   "cell_type": "markdown",
   "metadata": {},
   "source": [
    "## Q4 - distance\n",
    "\n",
    "Soit $i,j$ deux entiers, on coupe l'intervalle en deux : $i,k$ et $k,j$. On calcule la ``somme_diff`` sur ces deux intervalles, on fait la somme des différences (en valeurs absolues) de ces moyennes par rapport à la valeur sur le plus grand intervalle. On écrit la fonction ``def difference(nuage, i, j, k):``."
   ]
  },
  {
   "cell_type": "code",
   "execution_count": 7,
   "metadata": {},
   "outputs": [
    {
     "data": {
      "text/plain": [
       "18.56022222223197"
      ]
     },
     "execution_count": 8,
     "metadata": {},
     "output_type": "execute_result"
    }
   ],
   "source": [
    "def difference(nuage, i, j, k):\n",
    "    m1 = somme_diff(nuage, i, k)\n",
    "    m2 = somme_diff(nuage, k, j)\n",
    "    m = somme_diff(nuage, i, j)\n",
    "    return abs(m1 + m2 - m)\n",
    "\n",
    "\n",
    "difference(nuage, 0, len(nuage), 100)"
   ]
  },
  {
   "cell_type": "markdown",
   "metadata": {},
   "source": [
    "## Q5 - fonction comme paramètre\n",
    "\n",
    "Le langage Python permet de passer une fonction à une autre fonction en tant qu'argument. Un exemple :"
   ]
  },
  {
   "cell_type": "code",
   "execution_count": 8,
   "metadata": {},
   "outputs": [
    {
     "data": {
      "text/plain": [
       "1"
      ]
     },
     "execution_count": 9,
     "metadata": {},
     "output_type": "execute_result"
    }
   ],
   "source": [
    "def fct(x, y):\n",
    "    return abs(x - y)\n",
    "\n",
    "\n",
    "def distance_list(list_x, list_y, f):\n",
    "    return sum(f(x, y) for x, y in zip(list_x, list_y))\n",
    "\n",
    "\n",
    "distance_list([0, 1], [0, 2], fct)"
   ]
  },
  {
   "cell_type": "markdown",
   "metadata": {},
   "source": [
    "Ecrire la fonction précédente en utilisant la fonction ``fct``."
   ]
  },
  {
   "cell_type": "code",
   "execution_count": 9,
   "metadata": {},
   "outputs": [
    {
     "data": {
      "text/plain": [
       "494.7982222222412"
      ]
     },
     "execution_count": 10,
     "metadata": {},
     "output_type": "execute_result"
    }
   ],
   "source": [
    "def somme_diff(xy, i, j, f):\n",
    "    m = sum(e[1] for e in xy[i:j]) / (j - i)\n",
    "    # On a modifié les fonctions précédentes pour calculer\n",
    "    # une fonction d'erreur \"custom\" ou définie par l'utilisateur.\n",
    "    return sum(f(e[1], m) for e in xy[i:j])\n",
    "\n",
    "\n",
    "def difference(nuage, i, j, k, f):\n",
    "    m1 = somme_diff(nuage, i, k, f)\n",
    "    m2 = somme_diff(nuage, k, j, f)\n",
    "    m = somme_diff(nuage, i, j, f)\n",
    "    return abs(m - m1) + abs(m - m2)\n",
    "\n",
    "\n",
    "difference(nuage, 0, len(nuage), 100, fct)"
   ]
  },
  {
   "cell_type": "markdown",
   "metadata": {},
   "source": [
    "## Q6 - optimiser\n",
    "\n",
    "On veut déterminer le $i$ optimal, celui qui maximise la différence dans l'intervalle $[i,j]$. On souhaite garder la fonction ``fct`` comme argument. Pour cela, implémenter la fonction ``def optimise(nuage, i, j, f):``."
   ]
  },
  {
   "cell_type": "code",
   "execution_count": 10,
   "metadata": {},
   "outputs": [
    {
     "data": {
      "text/plain": [
       "(565, 711.6476814159435)"
      ]
     },
     "execution_count": 11,
     "metadata": {},
     "output_type": "execute_result"
    }
   ],
   "source": [
    "def optimise(nuage, i, j, f):\n",
    "    mx = -1\n",
    "    ib = None\n",
    "    for k in range(i + 1, j - 1):\n",
    "        d = difference(nuage, i, j, k, f)\n",
    "        if ib is None or d > mx:\n",
    "            mx = d\n",
    "            ib = k\n",
    "    if ib is None:\n",
    "        # Au cas où l'intervalle est vide, on retourne une coupure\n",
    "        # égale à i.\n",
    "        ib = i\n",
    "        mx = 0\n",
    "    return ib, mx\n",
    "\n",
    "\n",
    "optimise(nuage, 0, len(nuage), fct)"
   ]
  },
  {
   "cell_type": "code",
   "execution_count": 11,
   "metadata": {},
   "outputs": [
    {
     "data": {
      "text/plain": [
       "[<matplotlib.lines.Line2D at 0x1f893ea57b8>]"
      ]
     },
     "execution_count": 12,
     "metadata": {},
     "output_type": "execute_result"
    },
    {
     "data": {
      "image/png": "[encoded data removed]",
      "text/plain": [
       "<matplotlib.figure.Figure at 0x1f893ea52b0>"
      ]
     },
     "metadata": {},
     "output_type": "display_data"
    }
   ],
   "source": [
    "import matplotlib.pyplot as plt\n",
    "\n",
    "x = nuage[552][0]\n",
    "plt.plot(X, Y, \".\")\n",
    "plt.plot([x, x], [0, 1])"
   ]
  },
  {
   "cell_type": "markdown",
   "metadata": {},
   "source": [
    "Le premier point de coupure trouvé (le trait orange) correspond à un des bords d'un des escaliers."
   ]
  },
  {
   "cell_type": "markdown",
   "metadata": {},
   "source": [
    "## Q7 - optimisation encore\n",
    "\n",
    "Recommencer sur les deux intervalles trouvés. La question était juste histoire que le résultat à la question précédente est reproductible sur d'autres intervalles."
   ]
  },
  {
   "cell_type": "code",
   "execution_count": 12,
   "metadata": {},
   "outputs": [
    {
     "data": {
      "text/plain": [
       "((1, 0.0), (565, 618.0710615624871))"
      ]
     },
     "execution_count": 13,
     "metadata": {},
     "output_type": "execute_result"
    }
   ],
   "source": [
    "optimise(nuage, 0, 68, fct), optimise(nuage, 68, len(nuage), fct)"
   ]
  },
  {
   "cell_type": "code",
   "execution_count": 13,
   "metadata": {},
   "outputs": [
    {
     "data": {
      "text/plain": [
       "[<matplotlib.lines.Line2D at 0x1f8943ece80>]"
      ]
     },
     "execution_count": 14,
     "metadata": {},
     "output_type": "execute_result"
    },
    {
     "data": {
      "image/png": "[encoded data removed]",
      "text/plain": [
       "<matplotlib.figure.Figure at 0x1f894398550>"
      ]
     },
     "metadata": {},
     "output_type": "display_data"
    }
   ],
   "source": [
    "import matplotlib.pyplot as plt\n",
    "\n",
    "x = nuage[58][0]\n",
    "x2 = nuage[552][0]\n",
    "plt.plot(X, Y, \".\")\n",
    "plt.plot([x, x], [0, 1])\n",
    "plt.plot([x2, x2], [0, 1])"
   ]
  },
  {
   "cell_type": "markdown",
   "metadata": {},
   "source": [
    "## Q8 - fonction récursive\n",
    "\n",
    "Pouvez-vous imaginer une fonction récursive qui produit toutes les séparations. Ecrire la fonction ``def recursive(nuage, i, j, f, th=0.1):``."
   ]
  },
  {
   "cell_type": "code",
   "execution_count": 14,
   "metadata": {},
   "outputs": [
    {
     "data": {
      "text/plain": [
       "[68, 242, 565]"
      ]
     },
     "execution_count": 15,
     "metadata": {},
     "output_type": "execute_result"
    }
   ],
   "source": [
    "def recursive(nuage, i, j, f, th=0.1):\n",
    "    k, mx = optimise(nuage, i, j, f)\n",
    "    if mx <= th:\n",
    "        return None\n",
    "    r1 = recursive(nuage, i, k, f, th=th)\n",
    "    r2 = recursive(nuage, k, j, f, th=th)\n",
    "    if r1 is None and r2 is None:\n",
    "        return [k]\n",
    "    elif r1 is None:\n",
    "        return [k] + r2\n",
    "    elif r2 is None:\n",
    "        return r1 + [k]\n",
    "    else:\n",
    "        return r1 + [k] + r2\n",
    "\n",
    "\n",
    "r = recursive(nuage, 0, len(nuage), fct)\n",
    "r"
   ]
  },
  {
   "cell_type": "code",
   "execution_count": 15,
   "metadata": {},
   "outputs": [
    {
     "data": {
      "image/png": "[encoded data removed]",
      "text/plain": [
       "<matplotlib.figure.Figure at 0x1f8943313c8>"
      ]
     },
     "metadata": {},
     "output_type": "display_data"
    }
   ],
   "source": [
    "import matplotlib.pyplot as plt\n",
    "\n",
    "plt.plot(X, Y, \".\")\n",
    "for i in r:\n",
    "    x = nuage[i][0]\n",
    "    plt.plot([x, x], [0, 1])"
   ]
  },
  {
   "cell_type": "markdown",
   "metadata": {},
   "source": [
    "## Q9 - coût\n",
    "\n",
    "Quel est le coût de la fonction ``optimize`` en fonction de la taille de l'intervalle ? Peut-on mieux faire  (ce qu'on n'implémentera pas)."
   ]
  },
  {
   "cell_type": "markdown",
   "metadata": {},
   "source": [
    "Tel qu'il est implémenté, le coût est en $O(n^2)$, le coût peut être linéaire en triant les éléments dans l'ordre croissant, ce qui a été fait, ou $n\\ln n$ si on inclut le coût du tri bien qu'on ne le fasse qu'une fois. Voyons plus en détail comment se débarrasser du coût en $O(n^2)$. Tout d'abord la version actuelle."
   ]
  },
  {
   "cell_type": "code",
   "execution_count": 16,
   "metadata": {},
   "outputs": [
    {
     "name": "stdout",
     "output_type": "stream",
     "text": [
      "503 ms ± 21.1 ms per loop (mean ± std. dev. of 7 runs, 1 loop each)\n"
     ]
    }
   ],
   "source": [
    "def somme_diff_abs(xy, i, j):\n",
    "    m = sum(e[1] for e in xy[i:j]) / (j - i)\n",
    "    return sum(abs(e[1] - m) for e in xy[i:j])\n",
    "\n",
    "\n",
    "def difference_abs(nuage, i, j, k):\n",
    "    m1 = somme_diff_abs(nuage, i, k)\n",
    "    m2 = somme_diff_abs(nuage, k, j)\n",
    "    m = somme_diff_abs(nuage, i, j)\n",
    "    return abs(m1 + m2 - m)\n",
    "\n",
    "\n",
    "def optimise_abs(nuage, i, j):\n",
    "    mx = -1\n",
    "    ib = None\n",
    "    for k in range(i + 1, j - 1):\n",
    "        d = difference_abs(nuage, i, j, k)\n",
    "        if ib is None or d > mx:\n",
    "            mx = d\n",
    "            ib = k\n",
    "    if ib is None:\n",
    "        ib = i\n",
    "        mx = 0\n",
    "    return ib, mx\n",
    "\n",
    "\n",
    "%timeit optimise_abs(nuage, 0, len(nuage))"
   ]
  },
  {
   "cell_type": "markdown",
   "metadata": {},
   "source": [
    "L'instruction suivante permet de voir où le programme passe la majeure partie de son temps."
   ]
  },
  {
   "cell_type": "code",
   "execution_count": 17,
   "metadata": {},
   "outputs": [],
   "source": [
    "# %prun optimise_abs(nuage, 0, len(nuage))"
   ]
  },
  {
   "cell_type": "markdown",
   "metadata": {},
   "source": [
    "La fonction [sum](https://docs.python.org/3/library/functions.html#sum) cache une boucle, avec la boucle ``for`` dans la fonction ``optimise``, cela explique le coût en $O(n^2)$. Le fait qu'à chaque itération, on passe une observation d'un côté à l'autre de la coupure puis on recalcule les moyennes... Il y a deux façons d'optimiser ce calcul selon qu'on tient compte du fait que les valeurs de $Y$ sont binaires ou non.\n",
    "\n",
    "Dans le premier cas, il suffit de compter les valeurs 0 ou 1 de part et d'autres de la coupure (histogrammes) pour calculer la moyenne. Lorsque $k$ varie, il suffit de mettre à jour les histogrammes en déduisant et en ajoutant le $Y_k$ aux bons endroits."
   ]
  },
  {
   "cell_type": "code",
   "execution_count": 18,
   "metadata": {},
   "outputs": [
    {
     "data": {
      "text/plain": [
       "((565, 235.4096814159292), (565, 235.40968141593424))"
      ]
     },
     "execution_count": 19,
     "metadata": {},
     "output_type": "execute_result"
    }
   ],
   "source": [
    "def histogramme_y(xy, i, j):\n",
    "    d = [0, 0]\n",
    "    for x, y in xy[i:j]:\n",
    "        d[y] += 1\n",
    "    return d\n",
    "\n",
    "\n",
    "def somme_diff_histogramme(d):\n",
    "    m = d[1] * 1.0 / (d[0] + d[1])\n",
    "    return (1 - m) * d[1] + m * d[0]\n",
    "\n",
    "\n",
    "def optimise_rapide(nuage, i, j):\n",
    "    # On calcule les histogrammes.\n",
    "    d1 = histogramme_y(nuage, i, i + 1)\n",
    "    d2 = histogramme_y(nuage, i + 1, j)\n",
    "    d = d1.copy()\n",
    "    d[0] += d2[0]\n",
    "    d[1] += d2[1]\n",
    "\n",
    "    m = somme_diff_histogramme(d)\n",
    "    m1 = somme_diff_histogramme(d1)\n",
    "    m2 = somme_diff_histogramme(d2)\n",
    "    mx = -1\n",
    "    ib = None\n",
    "    for k in range(i + 1, j - 1):\n",
    "        d = abs(m1 + m2 - m)\n",
    "        if ib is None or d > mx:\n",
    "            mx = d\n",
    "            ib = k\n",
    "        # On met à jour les histogrammes. On ajoute d'un côté, on retranche de l'autre.\n",
    "        y = nuage[k][1]\n",
    "        d1[y] += 1\n",
    "        d2[y] -= 1\n",
    "        m1 = somme_diff_histogramme(d1)\n",
    "        m2 = somme_diff_histogramme(d2)\n",
    "    if ib is None:\n",
    "        ib = i\n",
    "        mx = 0\n",
    "    return ib, mx\n",
    "\n",
    "\n",
    "# On vérifie qu'on obtient les mêmes résultats.\n",
    "optimise_rapide(nuage, 0, len(nuage)), optimise_abs(nuage, 0, len(nuage))"
   ]
  },
  {
   "cell_type": "markdown",
   "metadata": {},
   "source": [
    "C'est carrément plus rapide et cela marche pour toute fonction ``fct``."
   ]
  },
  {
   "cell_type": "code",
   "execution_count": 19,
   "metadata": {},
   "outputs": [
    {
     "name": "stdout",
     "output_type": "stream",
     "text": [
      "1.63 ms ± 150 µs per loop (mean ± std. dev. of 7 runs, 1000 loops each)\n"
     ]
    }
   ],
   "source": [
    "%timeit optimise_rapide(nuage, 0, len(nuage))"
   ]
  },
  {
   "cell_type": "markdown",
   "metadata": {},
   "source": [
    "Si on ne suppose pas que les $Y_i$ sont binaires et qu'ils sont quelconques, les histogrammes contiendront plus de deux éléments. Dans ce cas, il faut conserver deux tableaux triés des $Y_i$, de part et d'autres de la coupure. Lorsqu'on bouge la coupure $k$, cela revient à déplacer $Y_k$ d'un tableau à l'autre ce qui se fera par recherche dichotomique donc en $O(\\ln n)$. La mise à jour de la moyenne des valeurs absolues est immédiate si la fonction ``fct=abs(x-y)`` et pas forcément immédiate dans le cas général. Lorsque c'est une valeur absolue, il faut utiliser quelques résultats sur la [régression quantile](https://sdpython.github.io/doc/teachpyx/dev/practice/exams/td_note_2017_2.html)."
   ]
  },
  {
   "cell_type": "markdown",
   "metadata": {},
   "source": [
    "## Q10 - autre nuage de points\n",
    "\n",
    "Comment l'algorithme se comporte-t-il lorsque tous les points sont distincts ?"
   ]
  },
  {
   "cell_type": "code",
   "execution_count": 20,
   "metadata": {},
   "outputs": [],
   "source": [
    "import random\n",
    "\n",
    "X2 = list(range(10))\n",
    "Y2 = X2"
   ]
  },
  {
   "cell_type": "code",
   "execution_count": 21,
   "metadata": {},
   "outputs": [
    {
     "data": {
      "text/plain": [
       "[<matplotlib.lines.Line2D at 0x1f8944d3ba8>]"
      ]
     },
     "execution_count": 22,
     "metadata": {},
     "output_type": "execute_result"
    },
    {
     "data": {
      "image/png": "[encoded data removed]",
      "text/plain": [
       "<matplotlib.figure.Figure at 0x1f894331dd8>"
      ]
     },
     "metadata": {},
     "output_type": "display_data"
    }
   ],
   "source": [
    "import matplotlib.pyplot as plt\n",
    "\n",
    "plt.plot(X2, Y2, \".\")"
   ]
  },
  {
   "cell_type": "code",
   "execution_count": 22,
   "metadata": {},
   "outputs": [],
   "source": [
    "nuage2 = [(x, y) for x, y in zip(X2, Y2)]\n",
    "nuage2.sort()"
   ]
  },
  {
   "cell_type": "code",
   "execution_count": 23,
   "metadata": {},
   "outputs": [
    {
     "data": {
      "text/plain": [
       "(5, [2, 3, 5, 7, 8])"
      ]
     },
     "execution_count": 24,
     "metadata": {},
     "output_type": "execute_result"
    }
   ],
   "source": [
    "r = recursive(nuage2, 0, len(nuage2), fct)\n",
    "len(r), r"
   ]
  },
  {
   "cell_type": "code",
   "execution_count": 24,
   "metadata": {},
   "outputs": [
    {
     "data": {
      "image/png": "[encoded data removed]",
      "text/plain": [
       "<matplotlib.figure.Figure at 0x1f894500710>"
      ]
     },
     "metadata": {},
     "output_type": "display_data"
    }
   ],
   "source": [
    "import matplotlib.pyplot as plt\n",
    "\n",
    "plt.plot(X2, Y2, \".\")\n",
    "for i in r:\n",
    "    x = nuage2[i][0]\n",
    "    plt.plot([x, x], [0, 10])"
   ]
  },
  {
   "cell_type": "markdown",
   "metadata": {},
   "source": [
    "La fonction va placer un point dans chaque intervalle, il y aura quasiment autant de points de coupures que de points. Presque autant car l'implémentation a quelques effets de bords comme la boucle ``for k in range(i+1,j-1):`` qui ne considère pas les extrémités d'un intervalle comme de potentiels points de coupures."
   ]
  },
  {
   "cell_type": "code",
   "execution_count": 25,
   "metadata": {},
   "outputs": [],
   "source": []
  }
 ],
 "metadata": {
  "kernelspec": {
   "display_name": "Python 3",
   "language": "python",
   "name": "python3"
  },
  "language_info": {
   "codemirror_mode": {
    "name": "ipython",
    "version": 3
   },
   "file_extension": ".py",
   "mimetype": "text/x-python",
   "name": "python",
   "nbconvert_exporter": "python",
   "pygments_lexer": "ipython3",
   "version": "3.6.4"
  }
 },
 "nbformat": 4,
 "nbformat_minor": 2
}
