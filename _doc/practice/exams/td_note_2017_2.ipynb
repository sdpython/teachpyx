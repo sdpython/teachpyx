{
 "cells": [
  {
   "cell_type": "markdown",
   "metadata": {},
   "source": [
    "# 1A.e - TD noté, 21 février 2017\n",
    "\n",
    "Solution du TD noté, celui-ci présente un algorithme pour calculer les coefficients d'une régression quantile et par extension d'une médiane dans un espace à plusieurs dimensions."
   ]
  },
  {
   "cell_type": "markdown",
   "metadata": {},
   "source": [
    "Précision : dans tout l'énoncé, la transposée d'une matrice est notée $X' = X^{T}$. La plupart du temps $X$ et $Y$ désignent des vecteurs colonnes. $\\beta$ désigne un vecteur ligne, $W$ une matrice diagonale."
   ]
  },
  {
   "cell_type": "markdown",
   "metadata": {},
   "source": [
    "## Exercice 1"
   ]
  },
  {
   "cell_type": "markdown",
   "metadata": {},
   "source": [
    "### Q1 \n",
    "\n",
    "A l'aide du module [random](https://docs.python.org/3/library/random.html), générer un ensemble de points aléatoires."
   ]
  },
  {
   "cell_type": "code",
   "execution_count": 1,
   "metadata": {},
   "outputs": [
    {
     "data": {
      "text/plain": [
       "[1000, 15, 65, 44, 95, 17, 43, 44, 88, 88]"
      ]
     },
     "execution_count": 1,
     "metadata": {},
     "output_type": "execute_result"
    }
   ],
   "source": [
    "import random\n",
    "\n",
    "\n",
    "def ensemble_aleatoire(n):\n",
    "    res = [random.randint(0, 100) for i in range(n)]\n",
    "    res[0] = 1000\n",
    "    return res\n",
    "\n",
    "\n",
    "ens = ensemble_aleatoire(10)\n",
    "ens"
   ]
  },
  {
   "cell_type": "markdown",
   "metadata": {},
   "source": [
    "### Q2\n",
    "\n",
    "La médiane d'un ensemble de points $\\left\\{X_1, ..., X_n\\right\\}$ est une valeur $X_M$ telle que : \n",
    "\n",
    "$$\\sum_i \\mathbb{1}_{X_i < X_m} = \\sum_i \\mathbb{1}_{X_i > X_m}$$\n",
    "\n",
    "Autrement dit, il y a autant de valeurs inférieures que supérieures à $X_M$. On obtient cette valeur en triant les éléments par ordre croissant et en prenant celui du milieu.\n",
    "\n"
   ]
  },
  {
   "cell_type": "code",
   "execution_count": 2,
   "metadata": {},
   "outputs": [
    {
     "data": {
      "text/plain": [
       "65"
      ]
     },
     "execution_count": 2,
     "metadata": {},
     "output_type": "execute_result"
    }
   ],
   "source": [
    "def mediane(ensemble):\n",
    "    tri = list(sorted(ensemble))\n",
    "    return tri[len(tri) // 2]\n",
    "\n",
    "\n",
    "mediane(ens)"
   ]
  },
  {
   "cell_type": "markdown",
   "metadata": {},
   "source": [
    "### Q3\n",
    "\n",
    "Lorsque le nombre de points est pair, la médiane peut être n'importe quelle valeur dans un intervalle. Modifier votre fonction de façon à ce que la fonction précédente retourne le milieu de la fonction."
   ]
  },
  {
   "cell_type": "code",
   "execution_count": 3,
   "metadata": {},
   "outputs": [
    {
     "data": {
      "text/plain": [
       "54.5"
      ]
     },
     "execution_count": 3,
     "metadata": {},
     "output_type": "execute_result"
    }
   ],
   "source": [
    "def mediane(ensemble):\n",
    "    tri = list(sorted(ensemble))\n",
    "    if len(tri) % 2 == 0:\n",
    "        m = len(tri) // 2\n",
    "        return (tri[m] + tri[m - 1]) / 2\n",
    "    else:\n",
    "        return tri[len(tri) // 2]\n",
    "\n",
    "\n",
    "mediane(ens)"
   ]
  },
  {
   "cell_type": "markdown",
   "metadata": {},
   "source": [
    "### Q4\n",
    "\n",
    "Pour un ensemble de points $E=\\left\\{X_1, ..., X_n\\right\\}$, on considère la fonction suivante : \n",
    "\n",
    "$$f(x) = \\sum_{i=1}^n \\left | x - X_i\\right |$$\n",
    "\n",
    "On suppose que la médiane $X_M$ de l'ensemble $E$ n'appartient pas à $E$ : $X_M \\notin E$. Que vaut $f'(X_M)$ ?\n",
    "On acceptera le fait que la médiane est le seul point dans ce cas.\n",
    "\n",
    "$$f'(X_m) = - \\sum_{i=1}^n \\mathbb{1}_{X_i < X_m} + \\sum_{i=1}^n \\mathbb{1}_{X_i > X_m}$$\n",
    "\n",
    "Par définition de la médiane, $f'(X_M)=0$. En triant les éléments, on montre que la $f'(x) = 0 \\Longleftrightarrow x=X_m$."
   ]
  },
  {
   "cell_type": "markdown",
   "metadata": {},
   "source": [
    "### Q5\n",
    "\n",
    "On suppose qu'on dispose d'un ensemble d'observations $\\left(X_i, Y_i\\right)$ avec $X_i, Y_i \\in \\mathbb{R}$.\n",
    "La régression linéaire consiste une relation linéaire $Y_i = a X_i + b + \\epsilon_i$\n",
    "qui minimise la variance du bruit. On pose :\n",
    "\n",
    "$$E(a, b) = \\sum_i \\left(Y_i - (a X_i + b)\\right)^2$$\n",
    "\n",
    "On cherche $a, b$ tels que :\n",
    "\n",
    "$$a^*, b^* = \\arg \\min E(a, b) = \\arg \\min \\sum_i \\left(Y_i - (a X_i + b)\\right)^2$$\n",
    "\n",
    "La fonction est dérivable et on trouve :\n",
    "\n",
    "$$\\frac{\\partial E(a,b)}{\\partial a} = - 2 \\sum_i X_i ( Y_i - (a X_i + b)) \\text{ et } \\frac{\\partial E(a,b)}{\\partial b} = - 2 \\sum_i ( Y_i - (a X_i + b))$$\n",
    "\n",
    "Il suffit alors d'annuler les dérivées. On résoud un système d'équations linéaires. On note :\n",
    "\n",
    "$$\\begin{array}{l} \\mathbb{E} X = \\frac{1}{n}\\sum_{i=1}^n X_i \\text{ et } \\mathbb{E} Y = \\frac{1}{n}\\sum_{i=1}^n Y_i \\\\ \\mathbb{E}{X^2} = \\frac{1}{n}\\sum_{i=1}^n X_i^2 \\text{ et } \\mathbb{E} {XY} = \\frac{1}{n}\\sum_{i=1}^n X_i Y_i \\end{array}$$\n",
    "\n",
    "Finalement :\n",
    "\n",
    "$$\\begin{array}{l} a^* = \\frac{ \\mathbb{E} {XY} - \\mathbb{E} X \\mathbb{E} Y}{\\mathbb{E}{X^2} - (\\mathbb{E} X)^2} \\text{ et } b^* = \\mathbb{E} Y - a^* \\mathbb{E} X \\end{array}$$\n",
    "\n",
    "Lorsqu'on a plusieurs dimensions pour $X$, on écrit le problème d'optimisation, on cherche les coefficients $\\beta^*$ qui minimisent :\n",
    "\n",
    "$$E(\\beta)=\\sum_{i=1}^n \\left(y_i - X_i \\beta\\right)^2 = \\left \\Vert Y - X\\beta \\right \\Vert ^2$$\n",
    "\n",
    "La solution est : $\\beta^* = (X'X)^{-1}X'Y$.\n",
    "\n",
    "Ecrire une fonction qui calcule ce vecteur optimal."
   ]
  },
  {
   "cell_type": "code",
   "execution_count": 4,
   "metadata": {},
   "outputs": [
    {
     "data": {
      "text/plain": [
       "array([[1.00144835]])"
      ]
     },
     "execution_count": 4,
     "metadata": {},
     "output_type": "execute_result"
    }
   ],
   "source": [
    "from numpy.linalg import inv\n",
    "\n",
    "\n",
    "def regression_lineaire(X, Y):\n",
    "    t = X.T\n",
    "    return inv(t @ X) @ t @ Y\n",
    "\n",
    "\n",
    "import numpy\n",
    "\n",
    "X = numpy.array(ens).reshape((len(ens), 1))\n",
    "regression_lineaire(\n",
    "    X, X + 1\n",
    ")  # un essai pour vérifier que la valeur n'est pas aberrante"
   ]
  },
  {
   "cell_type": "markdown",
   "metadata": {},
   "source": [
    "### Q6\n",
    "\n",
    "Ecrire une fonction qui transforme un vecteur en une matrice diagonale."
   ]
  },
  {
   "cell_type": "code",
   "execution_count": 5,
   "metadata": {},
   "outputs": [
    {
     "data": {
      "text/plain": [
       "array([[1, 0, 0],\n",
       "       [0, 2, 0],\n",
       "       [0, 0, 3]])"
      ]
     },
     "execution_count": 5,
     "metadata": {},
     "output_type": "execute_result"
    }
   ],
   "source": [
    "def matrice_diagonale(W):\n",
    "    return numpy.diag(W)\n",
    "\n",
    "\n",
    "matrice_diagonale([1, 2, 3])"
   ]
  },
  {
   "cell_type": "markdown",
   "metadata": {},
   "source": [
    "### Q7\n",
    "\n",
    "On considère maintenant que chaque observation est pondérée par un poids $w_i$. On veut maintenant trouver le vecteur $\\beta$ qui minimise :\n",
    "\n",
    "$$E(\\beta)=\\sum_{i=1}^n w_i \\left( y_i - X_i \\beta \\right)^2 = \\left \\Vert W^{\\frac{1}{2}}(Y - X\\beta)\\right \\Vert^2$$\n",
    "\n",
    "Où $W=diag(w_1, ..., w_n)$ est la matrice diagonale. La solution est :\n",
    "\n",
    "$$\\beta_* = (X'WX)^{-1}X'WY$$\n",
    "\n",
    "Ecrire une fonction qui calcule la solution de la régression pondérée. La fonction [ravel](https://docs.scipy.org/doc/numpy/reference/generated/numpy.ravel.html) est utile."
   ]
  },
  {
   "cell_type": "code",
   "execution_count": 6,
   "metadata": {},
   "outputs": [
    {
     "data": {
      "text/plain": [
       "(array([[1.]]), array([[1.01427573]]))"
      ]
     },
     "execution_count": 6,
     "metadata": {},
     "output_type": "execute_result"
    }
   ],
   "source": [
    "def regression_lineaire_ponderee(X, Y, W):\n",
    "    if len(W.shape) == 1 or W.shape[0] != W.shape[1]:\n",
    "        # c'est un vecteur\n",
    "        W = matrice_diagonale(W.ravel())\n",
    "    wx = W @ X\n",
    "    xt = X.T\n",
    "    return inv(xt @ wx) @ xt @ W @ Y\n",
    "\n",
    "\n",
    "X = numpy.array(sorted(ens)).reshape((len(ens), 1))\n",
    "Y = X.copy()\n",
    "Y[0] = max(X)\n",
    "W = numpy.ones(len(ens))\n",
    "W[0] = 0\n",
    "regression_lineaire_ponderee(X, Y, W), regression_lineaire(X, Y)"
   ]
  },
  {
   "cell_type": "markdown",
   "metadata": {},
   "source": [
    "### Q8\n",
    "\n",
    "Ecrire une fonction qui calcule les quantités suivantes (fonctions [maximum](https://docs.scipy.org/doc/numpy/reference/generated/numpy.maximum.html), [reciprocal](https://docs.scipy.org/doc/numpy/reference/generated/numpy.reciprocal.html#numpy.reciprocal)).\n",
    "\n",
    "$$z_i = \\frac{1}{\\max\\left( \\delta, \\left|y_i - X_i \\beta\\right|\\right)}$$"
   ]
  },
  {
   "cell_type": "code",
   "execution_count": 7,
   "metadata": {},
   "outputs": [
    {
     "data": {
      "text/plain": [
       "array([[1.01538305e-03],\n",
       "       [5.88235294e+00],\n",
       "       [2.32558140e+00],\n",
       "       [2.27272727e+00],\n",
       "       [2.27272727e+00],\n",
       "       [1.53846154e+00],\n",
       "       [1.13636364e+00],\n",
       "       [1.13636364e+00],\n",
       "       [1.05263158e+00],\n",
       "       [1.00000000e-01]])"
      ]
     },
     "execution_count": 7,
     "metadata": {},
     "output_type": "execute_result"
    }
   ],
   "source": [
    "def calcule_z(X, beta, Y, W, delta=0.0001):\n",
    "    epsilon = numpy.abs(Y - X @ beta)\n",
    "    return numpy.reciprocal(numpy.maximum(epsilon, numpy.ones(epsilon.shape) * delta))\n",
    "\n",
    "\n",
    "calcule_z(X * 1.0, numpy.array([[1.01]]), Y, W)"
   ]
  },
  {
   "cell_type": "markdown",
   "metadata": {},
   "source": [
    "### Q9\n",
    "\n",
    "On souhaite coder l'algorithme suivant :\n",
    "\n",
    "1. $w_i^{(1)} = 1$\n",
    "2. $\\beta_{(t)} = (X'W^{(t)}X)^{-1}X'W^{(t)}Y$\n",
    "3. $w_i^{(t+1)} = \\frac{1}{\\max\\left( \\delta, \\left|y_i - X_i \\beta^{(t)}\\right|\\right)}$\n",
    "4. $t = t+1$\n",
    "5. Retour à l'étape 2.\n"
   ]
  },
  {
   "cell_type": "code",
   "execution_count": 8,
   "metadata": {
    "scrolled": false
   },
   "outputs": [
    {
     "name": "stdout",
     "output_type": "stream",
     "text": [
      "0 173.8971776057001 [[24.09487215]]\n",
      "1 113.8229016016727 [[6.16379991]]\n",
      "2 102.31983967417062 [[2.73034639]]\n",
      "3 100.39132855434099 [[2.15204012]]\n",
      "4 100.24844521352179 [[2.10443138]]\n",
      "5 100.10481587527799 [[2.05258271]]\n",
      "6 100.0856692693878 [[2.04297748]]\n",
      "7 100.08332794594425 [[2.04131809]]\n",
      "8 100.0800296132712 [[2.03867545]]\n",
      "9 100.07493795090468 [[2.03459599]]\n"
     ]
    },
    {
     "data": {
      "text/plain": [
       "array([[2.03459599]])"
      ]
     },
     "execution_count": 8,
     "metadata": {},
     "output_type": "execute_result"
    }
   ],
   "source": [
    "def algorithm(X, Y, delta=0.0001):\n",
    "    W = numpy.ones(X.shape[0])\n",
    "    for i in range(0, 10):\n",
    "        beta = regression_lineaire_ponderee(X, Y, W)\n",
    "        W = calcule_z(X, beta, Y, W, delta=delta)\n",
    "        E = numpy.abs(Y - X @ beta).sum()\n",
    "        print(i, E, beta)\n",
    "    return beta\n",
    "\n",
    "\n",
    "X = numpy.random.rand(10, 1)\n",
    "Y = X * 2 + numpy.random.rand()\n",
    "Y[0] = Y[0] + 100\n",
    "algorithm(X, Y)"
   ]
  },
  {
   "cell_type": "code",
   "execution_count": 9,
   "metadata": {},
   "outputs": [
    {
     "data": {
      "text/plain": [
       "array([[24.09487215]])"
      ]
     },
     "execution_count": 9,
     "metadata": {},
     "output_type": "execute_result"
    }
   ],
   "source": [
    "regression_lineaire(X, Y)"
   ]
  },
  {
   "cell_type": "markdown",
   "metadata": {},
   "source": [
    "### Q10"
   ]
  },
  {
   "cell_type": "code",
   "execution_count": 10,
   "metadata": {},
   "outputs": [
    {
     "data": {
      "text/plain": [
       "51.0"
      ]
     },
     "execution_count": 10,
     "metadata": {},
     "output_type": "execute_result"
    }
   ],
   "source": [
    "ens = ensemble_aleatoire(10)\n",
    "Y = numpy.empty((len(ens), 1))\n",
    "Y[:, 0] = ens\n",
    "X = numpy.ones((len(ens), 1))\n",
    "mediane(ens)"
   ]
  },
  {
   "cell_type": "code",
   "execution_count": 11,
   "metadata": {},
   "outputs": [
    {
     "data": {
      "text/plain": [
       "array([136.7])"
      ]
     },
     "execution_count": 11,
     "metadata": {},
     "output_type": "execute_result"
    }
   ],
   "source": [
    "Y.mean(axis=0)"
   ]
  },
  {
   "cell_type": "code",
   "execution_count": 12,
   "metadata": {},
   "outputs": [
    {
     "data": {
      "text/plain": [
       "array([[136.7]])"
      ]
     },
     "execution_count": 12,
     "metadata": {},
     "output_type": "execute_result"
    }
   ],
   "source": [
    "regression_lineaire(X, Y)"
   ]
  },
  {
   "cell_type": "code",
   "execution_count": 13,
   "metadata": {},
   "outputs": [
    {
     "name": "stdout",
     "output_type": "stream",
     "text": [
      "0 1726.6000000000004 [[136.7]]\n",
      "1 1168.2374836735025 [[58.61874184]]\n",
      "2 1163.7683647305184 [[56.38418237]]\n",
      "3 1161.0 [[54.75688683]]\n",
      "4 1161.0 [[54.75688683]]\n",
      "5 1161.0 [[54.75688683]]\n",
      "6 1161.0 [[54.75688683]]\n",
      "7 1161.0 [[54.75688683]]\n",
      "8 1161.0 [[54.75688683]]\n",
      "9 1161.0 [[54.75688683]]\n"
     ]
    },
    {
     "data": {
      "text/plain": [
       "array([[54.75688683]])"
      ]
     },
     "execution_count": 13,
     "metadata": {},
     "output_type": "execute_result"
    }
   ],
   "source": [
    "algorithm(X, Y)"
   ]
  },
  {
   "cell_type": "code",
   "execution_count": 14,
   "metadata": {},
   "outputs": [
    {
     "data": {
      "text/plain": [
       "51.0"
      ]
     },
     "execution_count": 14,
     "metadata": {},
     "output_type": "execute_result"
    }
   ],
   "source": [
    "mediane(ens)"
   ]
  },
  {
   "cell_type": "code",
   "execution_count": 15,
   "metadata": {},
   "outputs": [
    {
     "data": {
      "text/plain": [
       "[3, 7, 22, 24, 47, 55, 62, 70, 77, 1000]"
      ]
     },
     "execution_count": 15,
     "metadata": {},
     "output_type": "execute_result"
    }
   ],
   "source": [
    "list(sorted(ens))"
   ]
  },
  {
   "cell_type": "markdown",
   "metadata": {},
   "source": [
    "La régression linéaire égale la moyenne, l'algorithme s'approche de la médiane."
   ]
  },
  {
   "cell_type": "markdown",
   "metadata": {},
   "source": [
    "## Quelques explications et démonstrations\n",
    "\n",
    "Cet énoncé est inspiré de [Iteratively reweighted least squares](https://en.wikipedia.org/wiki/Iteratively_reweighted_least_squares). Cet algorithme permet notamment d'étendre la notion de médiane à des espaces vectoriels de plusieurs dimensions. On peut détermine un point $X_M$ qui minimise la quantité :\n",
    "\n",
    "$$\\sum_{i=1}^n \\left| X_i - X_M \\right |$$\n",
    "\n",
    "Nous reprenons l'algorithme décrit ci-dessus :\n",
    "\n",
    "1. $w_i^{(1)} = 1$\n",
    "2. $\\beta_{(t)} = (X'W^{(t)}X)^{-1}X'W^{(t)}Y$\n",
    "3. $w_i^{(t+1)} = \\frac{1}{\\max\\left( \\delta, \\left|y_i - X_i \\beta^{(t)}\\right|\\right)}$\n",
    "4. $t = t+1$\n",
    "5. Retour à l'étape 2.\n",
    "\n",
    "L'erreur quadratique pondéré est :\n",
    "\n",
    "$$E_2(\\beta, W) = \\sum_{i=1}^n w_i \\left\\Vert Y_i - X_i \\beta \\right\\Vert^2$$\n",
    "\n",
    "Si $w_i = \\frac{1}{\\left|y_i - X_i \\beta\\right|}$, on remarque que :\n",
    "\n",
    "$$E_2(\\beta, W) = \\sum_{i=1}^n \\frac{\\left\\Vert Y_i - X_i \\beta \\right\\Vert^2}{\\left|y_i - X_i \\beta\\right|} = \\sum_{i=1}^n \\left|y_i - X_i \\beta\\right| = E_1(\\beta)$$\n",
    "\n",
    "On retombe sur l'erreur en valeur absolue optimisée par la régression quantile. Comme l'étape 2 consiste à trouver les coefficients $\\beta$ qui minimise $E_2(\\beta, W^{(t)})$, par construction, il ressort que :\n",
    "\n",
    "$$E_1(\\beta^{(t+1)}) = E_2(\\beta^{(t+1)}, W^{(t)}) \\leqslant E_2(\\beta^{(t)}, W^{(t)}) = E_1(\\beta^{(t)})$$\n",
    "\n",
    "La suite $t \\rightarrow E_1(\\beta^{(t)})$ est suite décroissant est minorée par 0. Elle converge donc vers un minimum. Or la fonction $\\beta \\rightarrow E_1(\\beta)$ est une fonction convexe. Elle n'admet qu'un seul minimum (mais pas nécessaire un seul point atteignant ce minimum). L'algorithme converge donc vers la médiane. Le paramètre $\\delta$ est là pour éviter les erreurs de divisions par zéros et les approximations de calcul faites par l'ordinateur."
   ]
  },
  {
   "cell_type": "markdown",
   "metadata": {
    "collapsed": true
   },
   "source": [
    "## Quelques commentaires sur le code\n",
    "\n",
    "Le symbol [@](https://www.python.org/dev/peps/pep-0465/) a été introduit par Python 3.5 et est équivalent à la fonction [numpy.dot](https://docs.scipy.org/doc/numpy/reference/generated/numpy.dot.html). Les dimensions des matrices posent souvent quelques problèmes."
   ]
  },
  {
   "cell_type": "code",
   "execution_count": 16,
   "metadata": {},
   "outputs": [
    {
     "data": {
      "text/plain": [
       "((3, 2), (3,))"
      ]
     },
     "execution_count": 16,
     "metadata": {},
     "output_type": "execute_result"
    }
   ],
   "source": [
    "import numpy\n",
    "\n",
    "y = numpy.array([1, 2, 3])\n",
    "M = numpy.array([[3, 4], [6, 7], [3, 3]])\n",
    "M.shape, y.shape"
   ]
  },
  {
   "cell_type": "code",
   "execution_count": 17,
   "metadata": {},
   "outputs": [
    {
     "name": "stdout",
     "output_type": "stream",
     "text": [
      "matmul: Input operand 1 has a mismatch in its core dimension 0, with gufunc signature (n?,k),(k,m?)->(n?,m?) (size 3 is different from 2)\n"
     ]
    }
   ],
   "source": [
    "try:\n",
    "    M @ y\n",
    "except Exception as e:\n",
    "    print(e)"
   ]
  },
  {
   "cell_type": "markdown",
   "metadata": {},
   "source": [
    "Par défaut, numpy considère un vecteur de taille ``(3,)`` comme un vecteur ligne ``(3,1)``. Donc l'expression suivante va marcher :"
   ]
  },
  {
   "cell_type": "code",
   "execution_count": 18,
   "metadata": {},
   "outputs": [
    {
     "data": {
      "text/plain": [
       "array([24, 27])"
      ]
     },
     "execution_count": 18,
     "metadata": {},
     "output_type": "execute_result"
    }
   ],
   "source": [
    "y @ M"
   ]
  },
  {
   "cell_type": "markdown",
   "metadata": {},
   "source": [
    "Ou :"
   ]
  },
  {
   "cell_type": "code",
   "execution_count": 19,
   "metadata": {},
   "outputs": [
    {
     "data": {
      "text/plain": [
       "array([24, 27])"
      ]
     },
     "execution_count": 19,
     "metadata": {},
     "output_type": "execute_result"
    }
   ],
   "source": [
    "M.T @ y"
   ]
  },
  {
   "cell_type": "code",
   "execution_count": null,
   "metadata": {
    "collapsed": true
   },
   "outputs": [],
   "source": []
  }
 ],
 "metadata": {
  "kernelspec": {
   "display_name": "Python 3",
   "language": "python",
   "name": "python3"
  },
  "language_info": {
   "codemirror_mode": {
    "name": "ipython",
    "version": 3
   },
   "file_extension": ".py",
   "mimetype": "text/x-python",
   "name": "python",
   "nbconvert_exporter": "python",
   "pygments_lexer": "ipython3",
   "version": "3.10.12"
  }
 },
 "nbformat": 4,
 "nbformat_minor": 2
}
