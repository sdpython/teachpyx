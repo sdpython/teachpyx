{
  "cells": [
    {
      "cell_type": "markdown",
      "metadata": {},
      "source": [
        "# 1A.e - Enonc\u00e9 23 octobre 2018 (2)\n",
        "\n",
        "Correction du second \u00e9nonc\u00e9 de l'examen du 23 octobre 2018. L'\u00e9nonc\u00e9 propose une m\u00e9thode pour renseigner les valeurs manquantes dans une base de deux variables."
      ]
    },
    {
      "cell_type": "code",
      "execution_count": 1,
      "metadata": {},
      "outputs": [
        {
          "data": {
            "text/html": [
              "<div id=\"my_id_menu_nb\">run previous cell, wait for 2 seconds</div>\n",
              "<script>\n",
              "function repeat_indent_string(n){\n",
              "    var a = \"\" ;\n",
              "    for ( ; n > 0 ; --n)\n",
              "        a += \"    \";\n",
              "    return a;\n",
              "}\n",
              "// look up into all sections and builds an automated menu //\n",
              "var update_menu_string = function(begin, lfirst, llast, sformat, send, keep_item, begin_format, end_format) {\n",
              "    var anchors = document.getElementsByClassName(\"section\");\n",
              "    if (anchors.length == 0) {\n",
              "        anchors = document.getElementsByClassName(\"text_cell_render rendered_html\");\n",
              "    }\n",
              "    var i,t;\n",
              "    var text_menu = begin;\n",
              "    var text_memo = \"<pre>\\nlength:\" + anchors.length + \"\\n\";\n",
              "    var ind = \"\";\n",
              "    var memo_level = 1;\n",
              "    var href;\n",
              "    var tags = [];\n",
              "    var main_item = 0;\n",
              "    var format_open = 0;\n",
              "    for (i = 0; i <= llast; i++)\n",
              "        tags.push(\"h\" + i);\n",
              "\n",
              "    for (i = 0; i < anchors.length; i++) {\n",
              "        text_memo += \"**\" + anchors[i].id + \"--\\n\";\n",
              "\n",
              "        var child = null;\n",
              "        for(t = 0; t < tags.length; t++) {\n",
              "            var r = anchors[i].getElementsByTagName(tags[t]);\n",
              "            if (r.length > 0) {\n",
              "child = r[0];\n",
              "break;\n",
              "            }\n",
              "        }\n",
              "        if (child == null) {\n",
              "            text_memo += \"null\\n\";\n",
              "            continue;\n",
              "        }\n",
              "        if (anchors[i].hasAttribute(\"id\")) {\n",
              "            // when converted in RST\n",
              "            href = anchors[i].id;\n",
              "            text_memo += \"#1-\" + href;\n",
              "            // passer \u00e0 child suivant (le chercher)\n",
              "        }\n",
              "        else if (child.hasAttribute(\"id\")) {\n",
              "            // in a notebook\n",
              "            href = child.id;\n",
              "            text_memo += \"#2-\" + href;\n",
              "        }\n",
              "        else {\n",
              "            text_memo += \"#3-\" + \"*\" + \"\\n\";\n",
              "            continue;\n",
              "        }\n",
              "        var title = child.textContent;\n",
              "        var level = parseInt(child.tagName.substring(1,2));\n",
              "\n",
              "        text_memo += \"--\" + level + \"?\" + lfirst + \"--\" + title + \"\\n\";\n",
              "\n",
              "        if ((level < lfirst) || (level > llast)) {\n",
              "            continue ;\n",
              "        }\n",
              "        if (title.endsWith('\u00b6')) {\n",
              "            title = title.substring(0,title.length-1).replace(\"<\", \"&lt;\")\n",
              "         .replace(\">\", \"&gt;\").replace(\"&\", \"&amp;\");\n",
              "        }\n",
              "        if (title.length == 0) {\n",
              "            continue;\n",
              "        }\n",
              "\n",
              "        while (level < memo_level) {\n",
              "            text_menu += end_format + \"</ul>\\n\";\n",
              "            format_open -= 1;\n",
              "            memo_level -= 1;\n",
              "        }\n",
              "        if (level == lfirst) {\n",
              "            main_item += 1;\n",
              "        }\n",
              "        if (keep_item != -1 && main_item != keep_item + 1) {\n",
              "            // alert(main_item + \" - \" + level + \" - \" + keep_item);\n",
              "            continue;\n",
              "        }\n",
              "        while (level > memo_level) {\n",
              "            text_menu += \"<ul>\\n\";\n",
              "            memo_level += 1;\n",
              "        }\n",
              "        text_menu += repeat_indent_string(level-2);\n",
              "        text_menu += begin_format + sformat.replace(\"__HREF__\", href).replace(\"__TITLE__\", title);\n",
              "        format_open += 1;\n",
              "    }\n",
              "    while (1 < memo_level) {\n",
              "        text_menu += end_format + \"</ul>\\n\";\n",
              "        memo_level -= 1;\n",
              "        format_open -= 1;\n",
              "    }\n",
              "    text_menu += send;\n",
              "    //text_menu += \"\\n\" + text_memo;\n",
              "\n",
              "    while (format_open > 0) {\n",
              "        text_menu += end_format;\n",
              "        format_open -= 1;\n",
              "    }\n",
              "    return text_menu;\n",
              "};\n",
              "var update_menu = function() {\n",
              "    var sbegin = \"\";\n",
              "    var sformat = '<a href=\"#__HREF__\">__TITLE__</a>';\n",
              "    var send = \"\";\n",
              "    var begin_format = '<li>';\n",
              "    var end_format = '</li>';\n",
              "    var keep_item = -1;\n",
              "    var text_menu = update_menu_string(sbegin, 2, 4, sformat, send, keep_item,\n",
              "       begin_format, end_format);\n",
              "    var menu = document.getElementById(\"my_id_menu_nb\");\n",
              "    menu.innerHTML=text_menu;\n",
              "};\n",
              "window.setTimeout(update_menu,2000);\n",
              "            </script>"
            ],
            "text/plain": [
              "<IPython.core.display.HTML object>"
            ]
          },
          "execution_count": 2,
          "metadata": {},
          "output_type": "execute_result"
        }
      ],
      "source": [
        "from jyquickhelper import add_notebook_menu\n",
        "add_notebook_menu()"
      ]
    },
    {
      "cell_type": "markdown",
      "metadata": {},
      "source": [
        "On sait d'apr\u00e8s les derni\u00e8res questions qu'il faudra tout r\u00e9p\u00e9ter plusieurs fois. On prend le soin d'\u00e9crire chaque question dans une fonction."
      ]
    },
    {
      "cell_type": "markdown",
      "metadata": {},
      "source": [
        "## Q1 - \u00e9chantillon al\u00e9atoire\n",
        "\n",
        "G\u00e9n\u00e9rer un ensemble de $N=1000$ couples al\u00e9atoires $(X_i,Y_i)$ qui v\u00e9rifient :\n",
        "\n",
        "* $X_i$ suit une loi normale de variance 1.\n",
        "* $Y_i = 2 X_i + \\epsilon_i$ o\u00f9 $\\epsilon_i$ suit une loi normale de variance 1."
      ]
    },
    {
      "cell_type": "code",
      "execution_count": 2,
      "metadata": {},
      "outputs": [
        {
          "data": {
            "text/plain": [
              "array([[-1.56987627, -0.87585938],\n",
              "       [ 0.21230699,  1.85706677],\n",
              "       [-1.32971056, -1.31614371],\n",
              "       [ 0.99469359,  2.63550262],\n",
              "       [-1.90844194, -3.84040783]])"
            ]
          },
          "execution_count": 3,
          "metadata": {},
          "output_type": "execute_result"
        }
      ],
      "source": [
        "import numpy.random as rnd\n",
        "import numpy\n",
        "\n",
        "def random_mat(N):\n",
        "    mat = numpy.zeros((N, 2))\n",
        "    mat[:, 0] = rnd.normal(size=(N,))\n",
        "    mat[:, 1] = mat[:, 0] * 2 + rnd.normal(size=(N,))\n",
        "    return mat\n",
        "\n",
        "N = 1000\n",
        "mat = random_mat(N)\n",
        "mat[:5]"
      ]
    },
    {
      "cell_type": "markdown",
      "metadata": {},
      "source": [
        "**Remarque :** Un \u00e9l\u00e8ve a retourn\u00e9 cette r\u00e9ponse, je vous laisse chercher pourquoi ce code produit deux variables tout-\u00e0-fait d\u00e9corr\u00e9l\u00e9es.\n",
        "\n",
        "```\n",
        "def random_mat(N=1000):\n",
        "    A = np.random.normal(0,1,(N,2))\n",
        "    A[:,1] = 2*A[:,1] + np.random.normal(0,1,N)/10\n",
        "    return A\n",
        "```\n",
        "\n",
        "Cela peut se v\u00e9rifier en calculant la corr\u00e9lation.\n",
        "\n",
        "**Remarque 2 :** Un \u00e9l\u00e8ve a g\u00e9n\u00e9r\u00e9 le nuage $X + 2\\epsilon$ ce qui produit un nuage de points dont les deux variable sont moins corr\u00e9l\u00e9es. Voir \u00e0 la fin pour plus de d\u00e9tail."
      ]
    },
    {
      "cell_type": "markdown",
      "metadata": {},
      "source": [
        "## Q2 - matrice m1\n",
        "\n",
        "On d\u00e9finit la matrice $M \\in \\mathbb{M}_{N,2}(\\mathbb{R})$ d\u00e9finie par les deux vecteurs colonnes $(X_i)$ et $(Y_i)$. Choisir al\u00e9atoirement 20 valeurs dans cette matrice et les remplacer par ``numpy.nan``. On obtient la matrice $M_1$."
      ]
    },
    {
      "cell_type": "code",
      "execution_count": 3,
      "metadata": {},
      "outputs": [
        {
          "data": {
            "text/plain": [
              "array([[-1.48750338, -4.92138266],\n",
              "       [-0.59978536, -2.22258934],\n",
              "       [ 1.72143302,         nan],\n",
              "       [ 1.02229479,  1.52222862],\n",
              "       [-0.1157862 ,  1.97598417]])"
            ]
          },
          "execution_count": 4,
          "metadata": {},
          "output_type": "execute_result"
        }
      ],
      "source": [
        "import random\n",
        "\n",
        "def build_m1(mat, n=20):\n",
        "    mat = mat.copy()\n",
        "    positions = []\n",
        "    while len(positions) < n:\n",
        "        h = random.randint(0, mat.shape[0] * mat.shape[1] - 1)\n",
        "        pos = h % mat.shape[0], h // mat.shape[0]\n",
        "        if pos in positions:\n",
        "            # La position est d\u00e9j\u00e0 tir\u00e9e.\n",
        "            continue\n",
        "        positions.append(pos)\n",
        "        mat[pos] = numpy.nan\n",
        "    return mat, positions\n",
        "\n",
        "m1, positions = build_m1(mat)\n",
        "p = positions[0][0]\n",
        "m1[max(p-2, 0):min(p+3, mat.shape[0])]"
      ]
    },
    {
      "cell_type": "markdown",
      "metadata": {},
      "source": [
        "**Remarque 1:** l'\u00e9nonc\u00e9 ne pr\u00e9cisait pas s'il fallait choisir les valeurs al\u00e9atoires sur une ou deux colonnes, le faire sur une seule colonne est sans doute plus rapide et ne change rien aux conclusions des derni\u00e8res questions.\n",
        "\n",
        "**Remarque 2:** il ne faut pas oublier de copier la matrice ``mat.copy()``, dans le cas contraire, la fonction modifie la matrice originale. Ce n'est pas n\u00e9cessairement un probl\u00e8me except\u00e9 pour les derni\u00e8res questions qui requiert de garder cette matrice.\n",
        "\n",
        "**Remarque 3:** l'\u00e9nonc\u00e9 ne pr\u00e9cisait pas avec ou sans remise. L'impl\u00e9mentation pr\u00e9c\u00e9dente le fait sans remise."
      ]
    },
    {
      "cell_type": "markdown",
      "metadata": {},
      "source": [
        "## Q3 - moyenne\n",
        "\n",
        "Calculer $\\mathbb{E}{X} = \\frac{1}{N}\\sum_i^N X_i$ et $\\mathbb{E}Y = \\frac{1}{N}\\sum_i^N Y_i$. Comme on ne tient pas compte des valeurs manquantes, les moyennes calcul\u00e9es se font avec moins de $N$ termes. Si on d\u00e9finit $V_x$ et $V_y$ l'ensemble des valeurs non manquantes, on veut calculer $\\mathbb{E}{X} = \\frac{\\sum_{i \\in V_x} X_i}{\\sum_{i \\in V_x} 1}$ et $\\mathbb{E}Y = \\frac{\\sum_{i \\in V_y} Y_i}{\\sum_{i \\in V_y} 1}$."
      ]
    },
    {
      "cell_type": "code",
      "execution_count": 4,
      "metadata": {},
      "outputs": [
        {
          "data": {
            "text/plain": [
              "array([0.01928312, 0.09388639])"
            ]
          },
          "execution_count": 5,
          "metadata": {},
          "output_type": "execute_result"
        }
      ],
      "source": [
        "def mean_no_nan(mat):\n",
        "    res = []\n",
        "    for i in range(mat.shape[1]):\n",
        "        ex = numpy.mean(mat[~numpy.isnan(mat[:, i]), i])\n",
        "        res.append(ex)\n",
        "    return numpy.array(res)\n",
        "\n",
        "mean_no_nan(m1)"
      ]
    },
    {
      "cell_type": "markdown",
      "metadata": {},
      "source": [
        "**Remarque 1 :** il \u00e9tait encore plus simple d'utiliser la fonction [nanmean](https://docs.scipy.org/doc/numpy/reference/generated/numpy.nanmean.html#numpy.nanmean).\n",
        "\n",
        "**Remarque 2 :** Il fallait diviser par le nombre de valeurs non nulles et non le nombre de lignes de la matrice."
      ]
    },
    {
      "cell_type": "markdown",
      "metadata": {},
      "source": [
        "## Q4 - matrice m2\n",
        "\n",
        "Remplacer les valeurs manquantes de la matrice $M_1$ par la moyenne de leurs colonnes respectives. On obtient la matrice $M_2$."
      ]
    },
    {
      "cell_type": "code",
      "execution_count": 5,
      "metadata": {},
      "outputs": [
        {
          "data": {
            "text/plain": [
              "array([[-1.48750338, -4.92138266],\n",
              "       [-0.59978536, -2.22258934],\n",
              "       [ 1.72143302,  0.09388639],\n",
              "       [ 1.02229479,  1.52222862],\n",
              "       [-0.1157862 ,  1.97598417]])"
            ]
          },
          "execution_count": 6,
          "metadata": {},
          "output_type": "execute_result"
        }
      ],
      "source": [
        "def build_m2(mat):\n",
        "    means = mean_no_nan(mat)\n",
        "    m1 = mat.copy()\n",
        "    for i in range(len(means)):\n",
        "        m1[numpy.isnan(m1[:, i]), i] = means[i]\n",
        "    return m1\n",
        "\n",
        "m2 = build_m2(m1)\n",
        "m2[max(p-2, 0):min(p+3, mat.shape[0])]"
      ]
    },
    {
      "cell_type": "markdown",
      "metadata": {},
      "source": [
        "## Q5 - x le plus proche\n",
        "\n",
        "On consid\u00e8re le point de coordonn\u00e9es $(x, y)$, \u00e9crire une fonction qui retourne le point de la matrice $M$ dont l'abscisse est la plus proche de $x$."
      ]
    },
    {
      "cell_type": "code",
      "execution_count": 6,
      "metadata": {},
      "outputs": [
        {
          "data": {
            "text/plain": [
              "10"
            ]
          },
          "execution_count": 7,
          "metadata": {},
          "output_type": "execute_result"
        }
      ],
      "source": [
        "def plus_proche(mat, x, col, colnan):\n",
        "    mini = None\n",
        "    for k in range(mat.shape[0]):\n",
        "        if numpy.isnan(mat[k, col]) or numpy.isnan(mat[k, colnan]):\n",
        "            continue\n",
        "        d = abs(mat[k, col] - x)\n",
        "        if mini is None or d < mini:\n",
        "            mini = d\n",
        "            best = k\n",
        "    return best\n",
        "\n",
        "plus_proche(m1, m1[10, 0], 0, 1)"
      ]
    },
    {
      "cell_type": "code",
      "execution_count": 7,
      "metadata": {},
      "outputs": [
        {
          "data": {
            "text/plain": [
              "10"
            ]
          },
          "execution_count": 8,
          "metadata": {},
          "output_type": "execute_result"
        }
      ],
      "source": [
        "def plus_proche_rapide(mat, x, col, colnan):\n",
        "    mini = None\n",
        "    na = numpy.arange(0, mat.shape[0])[~(numpy.isnan(mat[:, col]) | numpy.isnan(mat[:, colnan]))]\n",
        "    diff = numpy.abs(mat[na, col] - x)\n",
        "    amin = numpy.argmin(diff)\n",
        "    best = na[amin]\n",
        "    return best\n",
        "\n",
        "plus_proche_rapide(m1, m1[10, 0], 0, 1)"
      ]
    },
    {
      "cell_type": "code",
      "execution_count": 8,
      "metadata": {},
      "outputs": [
        {
          "name": "stdout",
          "output_type": "stream",
          "text": [
            "4.12 ms \u00b1 399 \u00b5s per loop (mean \u00b1 std. dev. of 7 runs, 100 loops each)\n"
          ]
        }
      ],
      "source": [
        "%timeit plus_proche(m1, m1[10, 0], 0, 1)"
      ]
    },
    {
      "cell_type": "code",
      "execution_count": 9,
      "metadata": {},
      "outputs": [
        {
          "name": "stdout",
          "output_type": "stream",
          "text": [
            "33.1 \u00b5s \u00b1 2.26 \u00b5s per loop (mean \u00b1 std. dev. of 7 runs, 10000 loops each)\n"
          ]
        }
      ],
      "source": [
        "%timeit plus_proche_rapide(m1, m1[10, 0], 0, 1)"
      ]
    },
    {
      "cell_type": "markdown",
      "metadata": {},
      "source": [
        "C'est beaucoup plus rapide car on utilise les fonctions *numpy*."
      ]
    },
    {
      "cell_type": "markdown",
      "metadata": {
        "scrolled": false
      },
      "source": [
        "## Q6 - matrice m3\n",
        "\n",
        "Pour chaque $y$ manquant, on utilise la fonction pr\u00e9c\u00e9dente pour retourner le point dont l'abscisse et la plus proche et on remplace l'ordonn\u00e9e $y$ par celle du point trouv\u00e9. On fait de m\u00eame avec les $x$ manquant.\n",
        "On construit la matrice ainsi $M_3$ \u00e0 partir de $M_1$."
      ]
    },
    {
      "cell_type": "code",
      "execution_count": 10,
      "metadata": {},
      "outputs": [
        {
          "data": {
            "text/plain": [
              "array([[-1.48750338, -4.92138266],\n",
              "       [-0.59978536, -2.22258934],\n",
              "       [ 1.72143302,  2.83806507],\n",
              "       [ 1.02229479,  1.52222862],\n",
              "       [-0.1157862 ,  1.97598417]])"
            ]
          },
          "execution_count": 11,
          "metadata": {},
          "output_type": "execute_result"
        }
      ],
      "source": [
        "def build_m3(mat):\n",
        "    mat = mat.copy()\n",
        "    for i in range(mat.shape[0]):\n",
        "        for j in range(mat.shape[1]):\n",
        "            if numpy.isnan(mat[i, j]):\n",
        "                col = 1-j\n",
        "                if numpy.isnan(mat[i, col]):\n",
        "                    # deux valeurs nan, on utilise la moyenne\n",
        "                    mat[i, j] = numpy.mean(mat[~numpy.isnan(mat[:,j]), j])\n",
        "                else:\n",
        "                    pos = plus_proche_rapide(mat, mat[i, col], col, j)\n",
        "                    mat[i, j] = mat[pos, j]\n",
        "    return mat\n",
        "\n",
        "m3 = build_m3(m1)\n",
        "m3[max(p-2, 0):min(p+3, mat.shape[0])]"
      ]
    },
    {
      "cell_type": "markdown",
      "metadata": {},
      "source": [
        "## Q7 - norme\n",
        "\n",
        "On a deux m\u00e9thodes pour compl\u00e9ter les valeurs manquantes, quelle est la meilleure ? Il faut v\u00e9rifier num\u00e9riquement en comparant $\\parallel M-M_2 \\parallel^2$ et $\\parallel M-M_3 \\parallel^2$."
      ]
    },
    {
      "cell_type": "code",
      "execution_count": 11,
      "metadata": {},
      "outputs": [
        {
          "data": {
            "text/plain": [
              "(93.88020645836853, 10.054794671768933)"
            ]
          },
          "execution_count": 12,
          "metadata": {},
          "output_type": "execute_result"
        }
      ],
      "source": [
        "def distance(m1, m2):\n",
        "    d = m1.ravel() - m2.ravel()\n",
        "    return d @ d\n",
        "\n",
        "d2 = distance(mat, m2)\n",
        "d3 = distance(mat, m3)\n",
        "d2, d3"
      ]
    },
    {
      "cell_type": "markdown",
      "metadata": {},
      "source": [
        "**Remarque :** Un \u00e9l\u00e8ve a r\u00e9pondu :\n",
        "\n",
        "```\n",
        "On obtient (norme(M-M2))^2 = 98.9707 et (norme(M-M3))^2 = 98.2287 : la meilleure m\u00e9thode semble \u00eatre la seconde (Q6).\n",
        "```\n",
        "\n",
        "La diff\u00e9rence n'est significative et cela sugg\u00e8re une erreur de calcul. Cela doit mettre la puce \u00e0 l'oreille."
      ]
    },
    {
      "cell_type": "markdown",
      "metadata": {},
      "source": [
        "## Q8 - r\u00e9p\u00e9tition\n",
        "\n",
        "Une experience r\u00e9ussie ne veut pas dire que cela fonctionne. Recommencer 10 fois en changeant le nuages de points et les valeurs manquantes ajout\u00e9es."
      ]
    },
    {
      "cell_type": "code",
      "execution_count": 12,
      "metadata": {},
      "outputs": [
        {
          "data": {
            "text/plain": [
              "array([[38.93113166, 13.65407502],\n",
              "       [44.59161999, 31.20763444],\n",
              "       [56.36123306, 39.49474066],\n",
              "       [40.20767715, 15.72341549],\n",
              "       [86.99591576, 36.28602503],\n",
              "       [81.35006845, 12.18103292],\n",
              "       [85.775306  , 37.15330721],\n",
              "       [79.44248685, 22.80699951],\n",
              "       [52.70774305, 21.74452936],\n",
              "       [83.59144759, 15.22093401]])"
            ]
          },
          "execution_count": 13,
          "metadata": {},
          "output_type": "execute_result"
        }
      ],
      "source": [
        "def repetition(N=1000, n=20, nb=10):\n",
        "    res = []\n",
        "    for i in range(nb):\n",
        "        mat = random_mat(N)\n",
        "        m1, _ = build_m1(mat, n)\n",
        "        m2 = build_m2(m1)\n",
        "        m3 = build_m3(m1)\n",
        "        d2, d3 = distance(mat, m2), distance(mat, m3)\n",
        "        res.append((d2, d3))\n",
        "    return numpy.array(res)\n",
        "\n",
        "repetition()"
      ]
    },
    {
      "cell_type": "markdown",
      "metadata": {},
      "source": [
        "## Q9 - plus de valeurs manquantes\n",
        "\n",
        "Et si on augmente le nombre de valeurs manquantes, l'\u00e9cart se creuse-t-il ou se r\u00e9duit -il ? Montrez-le num\u00e9riquement."
      ]
    },
    {
      "cell_type": "code",
      "execution_count": 13,
      "metadata": {},
      "outputs": [
        {
          "name": "stdout",
          "output_type": "stream",
          "text": [
            "100\n",
            "200\n",
            "300\n",
            "400\n",
            "500\n",
            "600\n",
            "700\n",
            "800\n",
            "900\n"
          ]
        },
        {
          "data": {
            "text/plain": [
              "array([[3.35913762, 1.46902292],\n",
              "       [3.02940671, 1.50112628],\n",
              "       [3.06988804, 1.66400287],\n",
              "       [3.02826212, 1.6163169 ],\n",
              "       [2.98007237, 1.7964768 ]])"
            ]
          },
          "execution_count": 14,
          "metadata": {},
          "output_type": "execute_result"
        }
      ],
      "source": [
        "diff = []\n",
        "ns = []\n",
        "for n in range(100, 1000, 100):\n",
        "    print(n)\n",
        "    res = repetition(n=n, nb=10)\n",
        "    diff.append(res.mean(axis=0) / n)\n",
        "    ns.append(n)\n",
        "diff = numpy.array(diff)\n",
        "diff[:5]"
      ]
    },
    {
      "cell_type": "code",
      "execution_count": 14,
      "metadata": {},
      "outputs": [],
      "source": [
        "%matplotlib inline"
      ]
    },
    {
      "cell_type": "code",
      "execution_count": 15,
      "metadata": {},
      "outputs": [
        {
          "data": {
            "image/png": "[encoded data removed]",
            "text/plain": [
              "<Figure size 720x288 with 2 Axes>"
            ]
          },
          "metadata": {
            "needs_background": "light"
          },
          "output_type": "display_data"
        }
      ],
      "source": [
        "import pandas\n",
        "df = pandas.DataFrame(diff, columns=[\"d2\", \"d3\"])\n",
        "df['N'] = ns\n",
        "df = df.set_index('N')\n",
        "df[\"ratio\"] = df[\"d2\"] / df[\"d3\"]\n",
        "\n",
        "import matplotlib.pyplot as plt\n",
        "fig, ax = plt.subplots(1, 2, figsize=(10, 4))\n",
        "df[[\"d2\", \"d3\"]].plot(ax=ax[0])\n",
        "df[[\"ratio\"]].plot(ax=ax[1])\n",
        "ax[0].set_title(\"d2 et d3\\nErreur moyenne par valeur manquante\")\n",
        "ax[1].set_title(\"d2 / d3\");"
      ]
    },
    {
      "cell_type": "markdown",
      "metadata": {},
      "source": [
        "Plus il y a de valeurs manquantes, plus le ratio tend vers 1 car il y a moins d'informations pour compl\u00e9ter les valeurs manquantes autrement que par la moyenne. Il y a aussi plus souvent des couples de valeurs manquantes qui ne peuvent \u00eatre remplac\u00e9s que par la moyenne."
      ]
    },
    {
      "cell_type": "markdown",
      "metadata": {},
      "source": [
        "## Q10\n",
        "\n",
        "Votre fonction de la question 5 a probablement un co\u00fbt lin\u00e9aire. Il est probablement possible de faire mieux, si oui, il faut pr\u00e9ciser comment et ce que cela implique sur les donn\u00e9es. Il ne faut pas l'impl\u00e9menter."
      ]
    },
    {
      "cell_type": "markdown",
      "metadata": {},
      "source": [
        "Il suffit de trier le tableau et d'utiliser une recherche dichotomique. Le co\u00fbt du tri est n\u00e9gligeable par rapport au nombre de fois que la fonction ``plus_proche`` est utilis\u00e9e."
      ]
    },
    {
      "cell_type": "code",
      "execution_count": 16,
      "metadata": {},
      "outputs": [
        {
          "data": {
            "text/html": [
              "<div>\n",
              "<style scoped>\n",
              "    .dataframe tbody tr th:only-of-type {\n",
              "        vertical-align: middle;\n",
              "    }\n",
              "\n",
              "    .dataframe tbody tr th {\n",
              "        vertical-align: top;\n",
              "    }\n",
              "\n",
              "    .dataframe thead th {\n",
              "        text-align: right;\n",
              "    }\n",
              "</style>\n",
              "<table border=\"1\" class=\"dataframe\">\n",
              "  <thead>\n",
              "    <tr style=\"text-align: right;\">\n",
              "      <th></th>\n",
              "      <th>corr</th>\n",
              "      <th>d2</th>\n",
              "      <th>d3</th>\n",
              "    </tr>\n",
              "  </thead>\n",
              "  <tbody>\n",
              "    <tr>\n",
              "      <th>495</th>\n",
              "      <td>0.978472</td>\n",
              "      <td>14.787724</td>\n",
              "      <td>5.693286</td>\n",
              "    </tr>\n",
              "    <tr>\n",
              "      <th>496</th>\n",
              "      <td>0.980944</td>\n",
              "      <td>17.399139</td>\n",
              "      <td>3.579552</td>\n",
              "    </tr>\n",
              "    <tr>\n",
              "      <th>497</th>\n",
              "      <td>0.979960</td>\n",
              "      <td>16.064428</td>\n",
              "      <td>7.893382</td>\n",
              "    </tr>\n",
              "    <tr>\n",
              "      <th>498</th>\n",
              "      <td>0.977117</td>\n",
              "      <td>15.492200</td>\n",
              "      <td>4.140280</td>\n",
              "    </tr>\n",
              "    <tr>\n",
              "      <th>499</th>\n",
              "      <td>0.981207</td>\n",
              "      <td>17.797778</td>\n",
              "      <td>2.785862</td>\n",
              "    </tr>\n",
              "  </tbody>\n",
              "</table>\n",
              "</div>"
            ],
            "text/plain": [
              "         corr         d2        d3\n",
              "495  0.978472  14.787724  5.693286\n",
              "496  0.980944  17.399139  3.579552\n",
              "497  0.979960  16.064428  7.893382\n",
              "498  0.977117  15.492200  4.140280\n",
              "499  0.981207  17.797778  2.785862"
            ]
          },
          "execution_count": 17,
          "metadata": {},
          "output_type": "execute_result"
        }
      ],
      "source": [
        "def random_mat(N, alpha):\n",
        "    mat = numpy.zeros((N, 2))\n",
        "    mat[:, 0] = rnd.normal(size=(N,))\n",
        "    mat[:, 1] = mat[:, 0] * alpha + rnd.normal(size=(N,))\n",
        "    return mat\n",
        "\n",
        "rows = []\n",
        "for alpha in [0.01 * h for h in range(0, 500)]:\n",
        "    m = random_mat(1000, alpha)\n",
        "    m1, _ = build_m1(m, 20)\n",
        "    m2 = build_m2(m1)\n",
        "    m3 = build_m3(m1)\n",
        "    d2, d3 = distance(m, m2), distance(m, m3)\n",
        "    cc = numpy.corrcoef(m.T)[0, 1]\n",
        "    rows.append(dict(corr=cc, d2=d2**0.5, d3=d3**0.5))\n",
        "\n",
        "df = pandas.DataFrame(rows)\n",
        "df.tail()"
      ]
    },
    {
      "cell_type": "code",
      "execution_count": 17,
      "metadata": {},
      "outputs": [
        {
          "data": {
            "image/png": "[encoded data removed]",
            "text/plain": [
              "<Figure size 432x288 with 1 Axes>"
            ]
          },
          "metadata": {
            "needs_background": "light"
          },
          "output_type": "display_data"
        }
      ],
      "source": [
        "ax = df.sort_values(\"corr\").plot(x=\"corr\", y=[\"d2\", \"d3\"])\n",
        "ax.set_title(\"Evolution de l'erreur en fonction de la corr\u00e9lation\");"
      ]
    },
    {
      "cell_type": "markdown",
      "metadata": {},
      "source": [
        "On voit que la second m\u00e9thode est meilleure si la corr\u00e9lation est sup\u00e9rieur \u00e0 0.7. Plut\u00f4t moins bonne avant."
      ]
    },
    {
      "cell_type": "code",
      "execution_count": 18,
      "metadata": {},
      "outputs": [],
      "source": []
    }
  ],
  "metadata": {
    "kernelspec": {
      "display_name": "Python 3",
      "language": "python",
      "name": "python3"
    },
    "language_info": {
      "codemirror_mode": {
        "name": "ipython",
        "version": 3
      },
      "file_extension": ".py",
      "mimetype": "text/x-python",
      "name": "python",
      "nbconvert_exporter": "python",
      "pygments_lexer": "ipython3",
      "version": "3.7.0"
    }
  },
  "nbformat": 4,
  "nbformat_minor": 2
}