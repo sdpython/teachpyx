{
 "cells": [
  {
   "cell_type": "markdown",
   "metadata": {},
   "source": [
    "# Premiers pas en Python (correction)"
   ]
  },
  {
   "cell_type": "markdown",
   "metadata": {},
   "source": [
    "La partie 1 ne nécessite pas de correction."
   ]
  },
  {
   "cell_type": "markdown",
   "metadata": {},
   "source": [
    "### Partie 2"
   ]
  },
  {
   "cell_type": "markdown",
   "metadata": {},
   "source": [
    "Les erreurs sont corrigées de telle sorte que la ligne fautive est mise en commentaires ou que le commentaire indique la correction.\n",
    "\n",
    "**Un oubli**"
   ]
  },
  {
   "cell_type": "code",
   "execution_count": 8,
   "metadata": {},
   "outputs": [
    {
     "name": "stdout",
     "output_type": "stream",
     "text": [
      "9\n"
     ]
    }
   ],
   "source": [
    "a = 5\n",
    "a = a + 4  # a + 4\n",
    "print(a)"
   ]
  },
  {
   "cell_type": "markdown",
   "metadata": {},
   "source": [
    "Si on affecte pas le résultat d'une opération à une variable, il est perdu.\n",
    "\n",
    "**Une erreur de syntaxe**"
   ]
  },
  {
   "cell_type": "code",
   "execution_count": 9,
   "metadata": {},
   "outputs": [
    {
     "name": "stdout",
     "output_type": "stream",
     "text": [
      "45\n"
     ]
    }
   ],
   "source": [
    "a = 0\n",
    "for i in range(0, 10):  # il manquait : en fin de ligne\n",
    "    a = a + i\n",
    "print(a)"
   ]
  },
  {
   "cell_type": "markdown",
   "metadata": {},
   "source": [
    "**Une autre erreur de syntaxe**"
   ]
  },
  {
   "cell_type": "code",
   "execution_count": 10,
   "metadata": {},
   "outputs": [
    {
     "name": "stdout",
     "output_type": "stream",
     "text": [
      "0\n",
      "1\n",
      "3\n",
      "6\n",
      "10\n",
      "15\n",
      "21\n",
      "28\n",
      "36\n",
      "45\n"
     ]
    }
   ],
   "source": [
    "a = 0\n",
    "for i in range(0, 10):\n",
    "    a = a + i\n",
    "    print(a)  # il manquait deux espaces"
   ]
  },
  {
   "cell_type": "markdown",
   "metadata": {},
   "source": [
    "L'indentation est stricte en Python : elle indique la séparation entre des blocs d'instructions. Si les lignes ne sont pas bien alignées, l'interpréteur ne sait plus à quel bloc associer la ligne.\n",
    "\n",
    "**Une opération interdite**"
   ]
  },
  {
   "cell_type": "code",
   "execution_count": 11,
   "metadata": {},
   "outputs": [],
   "source": [
    "a = 0\n",
    "s = \"e\"\n",
    "# print (a + s)  # pas de correction"
   ]
  },
  {
   "cell_type": "markdown",
   "metadata": {},
   "source": [
    "Il n'existe pas de correction dans ce cas, il s'agit d'une opération interdite. De la même manière l'opération suivante est interdite aussi car on ajoute des informations de type différent :"
   ]
  },
  {
   "cell_type": "code",
   "execution_count": 12,
   "metadata": {},
   "outputs": [],
   "source": [
    "# 1 + \"1\"  # déclenche une exception"
   ]
  },
  {
   "cell_type": "markdown",
   "metadata": {},
   "source": [
    "Pour faire le calcule, il faut convertir les deux variables dans le même type :"
   ]
  },
  {
   "cell_type": "code",
   "execution_count": 13,
   "metadata": {},
   "outputs": [
    {
     "name": "stdout",
     "output_type": "stream",
     "text": [
      "2\n",
      "11\n"
     ]
    }
   ],
   "source": [
    "print(1 + int(\"1\"))\n",
    "print(str(1) + \"1\")"
   ]
  },
  {
   "cell_type": "markdown",
   "metadata": {},
   "source": [
    "Le premier résultat est un entier. Le second est une chaîne de caractères. Les deux chaînes \"1\" + \"1\" ont été collées ensemble.\n",
    "\n",
    "**Un nombre impair de...**"
   ]
  },
  {
   "cell_type": "code",
   "execution_count": 14,
   "metadata": {},
   "outputs": [
    {
     "name": "stdout",
     "output_type": "stream",
     "text": [
      "195\n"
     ]
    }
   ],
   "source": [
    "a = 0\n",
    "for i in range(0, 10):\n",
    "    a = a + (i + 2) * 3  # il manquait une parenthèse à la fin\n",
    "print(a)"
   ]
  },
  {
   "cell_type": "markdown",
   "metadata": {},
   "source": [
    "### Partie 3"
   ]
  },
  {
   "cell_type": "markdown",
   "metadata": {},
   "source": [
    "**Ecrire un programme qui calcule la somme des 10 premiers entiers au carré**"
   ]
  },
  {
   "cell_type": "code",
   "execution_count": 15,
   "metadata": {},
   "outputs": [
    {
     "name": "stdout",
     "output_type": "stream",
     "text": [
      "55\n"
     ]
    }
   ],
   "source": [
    "s = 0\n",
    "for i in range(1, 11):  # range énumère les entiers de 1 à 11 exclu\n",
    "    s += i\n",
    "print(s)"
   ]
  },
  {
   "cell_type": "markdown",
   "metadata": {},
   "source": [
    "Une autre version en écriture abrégée :"
   ]
  },
  {
   "cell_type": "code",
   "execution_count": 16,
   "metadata": {},
   "outputs": [
    {
     "name": "stdout",
     "output_type": "stream",
     "text": [
      "55\n"
     ]
    }
   ],
   "source": [
    "r = sum(i for i in range(1, 11))\n",
    "print(r)"
   ]
  },
  {
   "cell_type": "markdown",
   "metadata": {},
   "source": [
    "**Ecrire un programme qui calcule la somme des 5 premiers entiers impairs au carré**"
   ]
  },
  {
   "cell_type": "code",
   "execution_count": 17,
   "metadata": {},
   "outputs": [
    {
     "name": "stdout",
     "output_type": "stream",
     "text": [
      "ajoute 1\n",
      "ajoute 3\n",
      "ajoute 5\n",
      "ajoute 7\n",
      "ajoute 9\n",
      "résultat 25\n"
     ]
    }
   ],
   "source": [
    "s = 0\n",
    "for i in range(1, 11):\n",
    "    if i % 2 == 1:\n",
    "        print(\"ajoute\", i)\n",
    "        s += i\n",
    "print(\"résultat\", s)"
   ]
  },
  {
   "cell_type": "markdown",
   "metadata": {},
   "source": [
    "De la même manière, en écriture abrégée :"
   ]
  },
  {
   "cell_type": "code",
   "execution_count": 18,
   "metadata": {},
   "outputs": [
    {
     "name": "stdout",
     "output_type": "stream",
     "text": [
      "25\n"
     ]
    }
   ],
   "source": [
    "r = sum(i for i in range(1, 11) if i % 2 == 1)\n",
    "print(r)"
   ]
  },
  {
   "cell_type": "markdown",
   "metadata": {},
   "source": [
    "**Ecrire un programme qui calcule la somme des qui 10 premmières factorielles : $\\sum_{i=1}^{10} i!$**"
   ]
  },
  {
   "cell_type": "code",
   "execution_count": 19,
   "metadata": {},
   "outputs": [
    {
     "name": "stdout",
     "output_type": "stream",
     "text": [
      "résultat 4037913\n"
     ]
    }
   ],
   "source": [
    "s = 0\n",
    "f = 1\n",
    "for i in range(1, 11):\n",
    "    f *= i\n",
    "    s += f\n",
    "print(\"résultat\", s)"
   ]
  },
  {
   "cell_type": "markdown",
   "metadata": {},
   "source": [
    "Il faut introduire une variable intermédiaire car le résultat qu'on cherche à calculer est la somme d'un produit. A chaque itération, on utilise le résultat de la somme à l'itération précédente ainsi que la valeur de la factorielle. La notation abrégée est plus difficile à écrire."
   ]
  }
 ],
 "metadata": {
  "kernelspec": {
   "display_name": "Python 3",
   "language": "python",
   "name": "python3"
  },
  "language_info": {
   "codemirror_mode": {
    "name": "ipython",
    "version": 3
   },
   "file_extension": ".py",
   "mimetype": "text/x-python",
   "name": "python",
   "nbconvert_exporter": "python",
   "pygments_lexer": "ipython3",
   "version": "3.10.12"
  }
 },
 "nbformat": 4,
 "nbformat_minor": 1
}