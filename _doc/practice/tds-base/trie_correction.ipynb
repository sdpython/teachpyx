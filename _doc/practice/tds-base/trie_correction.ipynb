{
 "cells": [
  {
   "cell_type": "markdown",
   "metadata": {},
   "source": [
    "# Arbre et Trie (correction)\n",
    "\n",
    "Correction."
   ]
  },
  {
   "cell_type": "markdown",
   "metadata": {},
   "source": [
    "## Exercice 1\n"
   ]
  },
  {
   "cell_type": "code",
   "execution_count": 1,
   "metadata": {},
   "outputs": [
    {
     "name": "stdout",
     "output_type": "stream",
     "text": [
      "10000\n"
     ]
    }
   ],
   "source": [
    "import random\n",
    "\n",
    "\n",
    "def mot_alea(l):\n",
    "    l = [chr(97 + random.randint(0, 25)) for i in range(l)]\n",
    "    return \"\".join(l)\n",
    "\n",
    "\n",
    "taille = 20\n",
    "N = 10000\n",
    "mots = [mot_alea(taille) for _ in range(N)]\n",
    "print(len(mots))"
   ]
  },
  {
   "cell_type": "markdown",
   "metadata": {},
   "source": [
    "## Exercice 2"
   ]
  },
  {
   "cell_type": "code",
   "execution_count": 2,
   "metadata": {},
   "outputs": [
    {
     "name": "stdout",
     "output_type": "stream",
     "text": [
      "recherche simple 1.2651422999999795\n"
     ]
    }
   ],
   "source": [
    "import time\n",
    "\n",
    "debut = time.perf_counter()\n",
    "for k in mots:\n",
    "    i = mots.index(k)\n",
    "fin = time.perf_counter()\n",
    "print(\"recherche simple\", fin - debut)"
   ]
  },
  {
   "cell_type": "markdown",
   "metadata": {},
   "source": [
    "Avec ``%timeit`` :"
   ]
  },
  {
   "cell_type": "code",
   "execution_count": 3,
   "metadata": {},
   "outputs": [
    {
     "name": "stdout",
     "output_type": "stream",
     "text": [
      "1.17 s ± 208 ms per loop (mean ± std. dev. of 7 runs, 1 loop each)\n"
     ]
    }
   ],
   "source": [
    "# %timeit for k in mots : i = mots.index(k)"
   ]
  },
  {
   "cell_type": "markdown",
   "metadata": {},
   "source": [
    "## Exercice 3 : recherche dichotomique"
   ]
  },
  {
   "cell_type": "code",
   "execution_count": 4,
   "metadata": {},
   "outputs": [
    {
     "name": "stdout",
     "output_type": "stream",
     "text": [
      "dichotomie 0.06771000000003369\n"
     ]
    }
   ],
   "source": [
    "def dicho(mots, x):\n",
    "    a = 0\n",
    "    b = len(mots) - 1\n",
    "    while a < b:\n",
    "        m = (a + b) // 2\n",
    "        t = mots[m]\n",
    "        if t < x:\n",
    "            b = m - 1\n",
    "        elif t == x:\n",
    "            return m\n",
    "        else:\n",
    "            a = m + 1\n",
    "    return a\n",
    "\n",
    "\n",
    "mots.sort()\n",
    "\n",
    "debut = time.perf_counter()\n",
    "for k in mots:\n",
    "    i = dicho(mots, k)\n",
    "fin = time.perf_counter()\n",
    "print(\"dichotomie\", fin - debut)"
   ]
  },
  {
   "cell_type": "code",
   "execution_count": 5,
   "metadata": {},
   "outputs": [
    {
     "name": "stdout",
     "output_type": "stream",
     "text": [
      "31.9 ms ± 2.21 ms per loop (mean ± std. dev. of 7 runs, 10 loops each)\n"
     ]
    }
   ],
   "source": [
    "%timeit for k in mots : i = dicho(mots, k)"
   ]
  },
  {
   "cell_type": "markdown",
   "metadata": {},
   "source": [
    "## Exercice 4"
   ]
  },
  {
   "cell_type": "code",
   "execution_count": 7,
   "metadata": {},
   "outputs": [
    {
     "name": "stdout",
     "output_type": "stream",
     "text": [
      "10 simple 4.340000032243552e-05 dicho 0.00010930000007647322 ratio 4.340000032243552e-05  ratio théorique  0.1003433318879937\n",
      "100 simple 0.00016539999978704145 dicho 0.00020910000012008823 ratio 0.00016539999978704145  ratio théorique  0.5017166594399687\n",
      "1000 simple 0.0016119000001708628 dicho 0.0002951000001303328 ratio 0.0016119000001708628  ratio théorique  3.3447777295997914\n",
      "10000 simple 0.025103800000124465 dicho 0.0005895999997846957 ratio 0.025103800000124465  ratio théorique  25.085832971998425\n",
      "100000 simple 0.4739787999997134 dicho 0.0006374999998115527 ratio 0.4739787999997134  ratio théorique  200.68666377598748\n"
     ]
    }
   ],
   "source": [
    "import math\n",
    "\n",
    "for N in [10, 100, 1000, 10000, 100000]:\n",
    "    mots = [mot_alea(taille) for _ in range(N)]\n",
    "    tolook = [mots[random.randint(0, len(mots) - 1)] for i in range(0, 100)]\n",
    "    mots.sort()\n",
    "\n",
    "    debut = time.perf_counter()\n",
    "    for k in tolook:\n",
    "        i = mots.index(k)\n",
    "    fin = time.perf_counter()\n",
    "    ds = fin - debut\n",
    "\n",
    "    debut = time.perf_counter()\n",
    "    for k in tolook:\n",
    "        i = dicho(mots, k)\n",
    "    fin = time.perf_counter()\n",
    "    dd = fin - debut\n",
    "\n",
    "    print(\n",
    "        N,\n",
    "        \"simple\",\n",
    "        ds,\n",
    "        \"dicho\",\n",
    "        dd,\n",
    "        \"ratio\",\n",
    "        ds / max(dd, 1),\n",
    "        \" ratio théorique \",\n",
    "        len(mots) / math.log(len(mots)) * math.log(2) / 30,\n",
    "    )"
   ]
  },
  {
   "cell_type": "markdown",
   "metadata": {},
   "source": [
    "Même chose avec ``timeit`` mais en plus long."
   ]
  },
  {
   "cell_type": "code",
   "execution_count": 9,
   "metadata": {},
   "outputs": [],
   "source": [
    "if False:\n",
    "    for N in [10, 100, 1000, 10000, 100000]:\n",
    "        print(\"N=\", N)\n",
    "        mots = [mot_alea(taille) for _ in range(N)]\n",
    "        tolook = [mots[random.randint(0, len(mots) - 1)] for i in range(0, 100)]\n",
    "        mots.sort()\n",
    "\n",
    "        %timeit for k in tolook : i = mots.index(k)\n",
    "        %timeit for k in tolook : i = dicho(mots, k)"
   ]
  },
  {
   "cell_type": "markdown",
   "metadata": {},
   "source": [
    "Soit $N$ le nombre de mots dans la liste :\n",
    "\n",
    "* coût de la recherche simple : $O(N)$ \n",
    "* coût de la recherche dichotomique : $O(\\ln N)$ \n",
    "\n",
    "Le ratio $N/\\ln N$ mesuré en pratique devrait être sensiblement égal au ratio théorique à un facteur multiplication près. Le trie du tableau qui précède la recherche dichotomique n'est pas pris en compte. Plus on effectue de recherche, plus son coût devient marginal. Ce coût explique néanmoins pourquoi on ne fait pas toujours une recherche dichotomique."
   ]
  },
  {
   "cell_type": "markdown",
   "metadata": {},
   "source": [
    "## Exercice 5 : trie"
   ]
  },
  {
   "cell_type": "code",
   "execution_count": 10,
   "metadata": {},
   "outputs": [
    {
     "name": "stdout",
     "output_type": "stream",
     "text": [
      "{'a': {'a': {'a': {}, 'b': {}}, 'b': {'a': {}}}, 'b': {'a': {'a': {}, 'b': {}}, 'b': {'b': {}, 'a': {}}}}\n"
     ]
    }
   ],
   "source": [
    "def build_trie(mots):\n",
    "    trie = {}\n",
    "    for m in mots:\n",
    "        r = trie\n",
    "        for c in m:\n",
    "            if c not in r:\n",
    "                r[c] = {}\n",
    "            r = r[c]\n",
    "    return trie\n",
    "\n",
    "\n",
    "mots = [\"aaa\", \"aba\", \"aab\", \"baa\", \"bbb\", \"bba\", \"bab\"]\n",
    "\n",
    "trie = build_trie(mots)\n",
    "print(trie)"
   ]
  },
  {
   "cell_type": "markdown",
   "metadata": {},
   "source": [
    "## Exercice 6 : recherche dans un trie"
   ]
  },
  {
   "cell_type": "code",
   "execution_count": 11,
   "metadata": {},
   "outputs": [
    {
     "name": "stdout",
     "output_type": "stream",
     "text": [
      "aaa True\n",
      "aba True\n",
      "aab True\n",
      "baa True\n",
      "bbb True\n",
      "bba True\n",
      "bab True\n",
      "bcc False\n"
     ]
    }
   ],
   "source": [
    "def lookup(trie, m):\n",
    "    r = trie\n",
    "    for c in m:\n",
    "        if c in r:\n",
    "            r = r[c]\n",
    "        else:\n",
    "            return False\n",
    "    return True\n",
    "\n",
    "\n",
    "for k in mots:\n",
    "    print(k, lookup(trie, k))\n",
    "print(\"bcc\", lookup(trie, \"bcc\"))"
   ]
  },
  {
   "cell_type": "markdown",
   "metadata": {},
   "source": [
    "Pour illustrer la structure d'arbre du trie, on l'affiche avec la fonction suivante : "
   ]
  },
  {
   "cell_type": "code",
   "execution_count": 12,
   "metadata": {},
   "outputs": [
    {
     "name": "stdout",
     "output_type": "stream",
     "text": [
      "a\n",
      "  a\n",
      "    a\n",
      "    b\n",
      "  b\n",
      "    a\n",
      "b\n",
      "  a\n",
      "    a\n",
      "    b\n",
      "  b\n",
      "    a\n",
      "    b\n"
     ]
    }
   ],
   "source": [
    "def print_trie(trie, niveau=0):\n",
    "    for k, v in sorted(trie.items()):\n",
    "        print(\"  \" * niveau + k)\n",
    "        if len(v) > 0:\n",
    "            print_trie(v, niveau + 1)\n",
    "\n",
    "\n",
    "print_trie(trie)"
   ]
  },
  {
   "cell_type": "markdown",
   "metadata": {},
   "source": [
    "Il reste un inconvénient à cette représentation. Si on construire le trie pour le mot ``[\"aaa\"]`` ou les mots ``[\"aa\",\"aaa]\"``, on obtient le même trie :"
   ]
  },
  {
   "cell_type": "code",
   "execution_count": 13,
   "metadata": {},
   "outputs": [
    {
     "name": "stdout",
     "output_type": "stream",
     "text": [
      "a\n",
      "  a\n",
      "    a\n"
     ]
    }
   ],
   "source": [
    "print_trie(build_trie([\"aaa\"]))"
   ]
  },
  {
   "cell_type": "code",
   "execution_count": 14,
   "metadata": {},
   "outputs": [
    {
     "name": "stdout",
     "output_type": "stream",
     "text": [
      "a\n",
      "  a\n",
      "    a\n"
     ]
    }
   ],
   "source": [
    "print_trie(build_trie([\"aaa\", \"aa\"]))"
   ]
  },
  {
   "cell_type": "markdown",
   "metadata": {},
   "source": [
    "Pour éviter cela, le plus simple est de représenter la fin d'un mot comme un caractère à part entière."
   ]
  },
  {
   "cell_type": "code",
   "execution_count": 15,
   "metadata": {},
   "outputs": [
    {
     "name": "stdout",
     "output_type": "stream",
     "text": [
      "a\n",
      "  a\n",
      "    a\n",
      "      *\n"
     ]
    }
   ],
   "source": [
    "print_trie(build_trie([\"aaa*\"]))"
   ]
  },
  {
   "cell_type": "code",
   "execution_count": 16,
   "metadata": {},
   "outputs": [
    {
     "name": "stdout",
     "output_type": "stream",
     "text": [
      "a\n",
      "  a\n",
      "    *\n",
      "    a\n",
      "      *\n"
     ]
    }
   ],
   "source": [
    "print_trie(build_trie([\"aaa*\", \"aa*\"]))"
   ]
  },
  {
   "cell_type": "markdown",
   "metadata": {},
   "source": [
    "## Exercice 7\n",
    "\n",
    "Soit $L$ la longueur maximale des mots et $C$ le nombre de lettres distinctes, avec un trie, le coût de la recherche est majoré par : $O(L \\ln C)$. On reprend le code de l'exercice 5 et on ajoute le code associé au trie. On effectue 10000 recherches au lieu de 1000 pour avoir une meilleure estimation de la différence (pour vous en convaincre, il suffit comparer les temps obtenus par deux exécution de ce même code)."
   ]
  },
  {
   "cell_type": "code",
   "execution_count": 20,
   "metadata": {},
   "outputs": [
    {
     "name": "stdout",
     "output_type": "stream",
     "text": [
      "10 dicho 0.00015950000033626566 trie 0.00017660000003161258\n",
      "100 dicho 0.0001847000003181165 trie 0.0002316999998583924\n",
      "1000 dicho 0.00035339999976713443 trie 0.0002839999997377163\n",
      "10000 dicho 0.0003455000000940345 trie 0.00033450000000811997\n",
      "100000 dicho 0.0003973000002588378 trie 0.0003483000000414904\n"
     ]
    }
   ],
   "source": [
    "for N in [10, 100, 1000, 10000, 100000]:  # , 200000, 400000] :\n",
    "    mots = [mot_alea(taille) for _ in range(N)]\n",
    "    tolook = [mots[random.randint(0, len(mots) - 1)] for i in range(0, 100)]\n",
    "    trie = build_trie(mots)\n",
    "    mots.sort()\n",
    "\n",
    "    debut = time.perf_counter()\n",
    "    for k in tolook:\n",
    "        i = dicho(mots, k)\n",
    "    fin = time.perf_counter()\n",
    "    dd = fin - debut\n",
    "\n",
    "    debut = time.perf_counter()\n",
    "    for k in tolook:\n",
    "        i = lookup(trie, k)\n",
    "    fin = time.perf_counter()\n",
    "    dt = fin - debut\n",
    "\n",
    "    print(N, \"dicho\", dd, \"trie\", dt)"
   ]
  },
  {
   "cell_type": "markdown",
   "metadata": {},
   "source": [
    "Confirmation avec une mesure plus robuste."
   ]
  },
  {
   "cell_type": "code",
   "execution_count": 18,
   "metadata": {},
   "outputs": [],
   "source": [
    "if False:\n",
    "    for N in [10, 100, 1000, 10000, 100000, 200000, 400000]:\n",
    "        print(\"N=\", N)\n",
    "        mots = [mot_alea(taille) for _ in range(N)]\n",
    "        tolook = [mots[random.randint(0, len(mots) - 1)] for i in range(0, 10000)]\n",
    "        trie = build_trie(mots)\n",
    "        mots.sort()\n",
    "\n",
    "        %timeit for k in tolook : i = dicho(mots, k)\n",
    "        %timeit for k in tolook : i = lookup(trie, k)"
   ]
  },
  {
   "cell_type": "markdown",
   "metadata": {},
   "source": [
    "Encore une fois, le temps de construction du trie n'est pas pris en compte. Plus il y a de recherche à effectuer, plus il devient négligeable.\n",
    "\n",
    "Le dictionnaire est un object courant dans la plupart des languages. En python, celui-ci utilise une [table de hachage](http://fr.wikipedia.org/wiki/Table_de_hachage) et le coût d'accès à un élément n'est pas en $O(\\ln n)$ mais en $O(n)$ (voir [time complexity](https://wiki.python.org/moin/TimeComplexity)). En C++, le dictionnaire (ou [map](http://www.cplusplus.com/reference/map/map/)) utilise un arbre binaire et l'accès à un élément a un coût logarithmique : [Standard C++ Containers](http://www.cs.northwestern.edu/~riesbeck/programming/c++/stl-summary.html)."
   ]
  },
  {
   "cell_type": "markdown",
   "metadata": {},
   "source": [
    "## Plus en détails"
   ]
  },
  {
   "cell_type": "markdown",
   "metadata": {},
   "source": [
    "La recherche dichotomique est équivalente à celle opérée avec un [arbre binaire de recherche](http://fr.wikipedia.org/wiki/Arbre_binaire_de_recherche) (si ce dernier est [équilibré](http://fr.wikipedia.org/wiki/Arbre_B) ou [arbre rouge/noir](http://fr.wikipedia.org/wiki/Arbre_bicolore)). Ce dernier consiste à classer les éléments par ordre alphabétique. Un arbre est souvent représenté par une classe et non par un dictionnaire comme la dernière partie de cette session le laissait supposer."
   ]
  },
  {
   "cell_type": "code",
   "execution_count": 21,
   "metadata": {},
   "outputs": [
    {
     "name": "stdout",
     "output_type": "stream",
     "text": [
      "value=racine\n",
      "    value=child 1\n",
      "        value=child 2\n",
      "        value=child 1000\n",
      "    value=child 3\n"
     ]
    }
   ],
   "source": [
    "class Arbre:\n",
    "    def __init__(self, value):\n",
    "        self.value = value\n",
    "        self.children = []\n",
    "\n",
    "    def add_child(self, child):\n",
    "        self.children.append(child)\n",
    "\n",
    "    def __str__(self):\n",
    "        rows = [\"value={0}\".format(self.value)]\n",
    "        for c in self.children:\n",
    "            s = str(c)\n",
    "            lines = [\"    \" + l for l in s.split(\"\\n\")]\n",
    "            rows.extend(lines)\n",
    "        return \"\\n\".join(rows)\n",
    "\n",
    "\n",
    "root = Arbre(\"racine\")\n",
    "child1 = Arbre(\"child 1\")\n",
    "child1.add_child(Arbre(\"child 2\"))\n",
    "child1.add_child(Arbre(\"child 1000\"))\n",
    "root.add_child(child1)\n",
    "root.add_child(Arbre(\"child 3\"))\n",
    "print(root)"
   ]
  },
  {
   "cell_type": "markdown",
   "metadata": {},
   "source": [
    "Les arbres sont des graphes particuliers car il ne contiennent pas de cycles. Il est possible de parcourir les noeuds, de les numéroter. Ils sont très utilisés en machine learning avec les [arbres de décisions](http://fr.wikipedia.org/wiki/Arbre_de_d%C3%A9cision) ou les [random forests](http://en.wikipedia.org/wiki/Random_forest). Ils sont parfois cachés comme dans le cas de la recherche dichotomique qui peut être implémentée à partir d'une structure d'arbre.\n",
    "\n",
    "Dans le cas de le recherche dichotomique, on suppose que le nombre de noeuds fils est toujours 2. L'ordre alphabétique est le suivant : noeuds fils 1, noeud courant, noeud fils 2. Les deux noeuds fils pourraient être nuls. L'implémentation de l'arbre serait la suivante :"
   ]
  },
  {
   "cell_type": "code",
   "execution_count": 22,
   "metadata": {},
   "outputs": [
    {
     "name": "stdout",
     "output_type": "stream",
     "text": [
      "['alphabet', 'avant', 'avant après', 'milieu', 'zillion']\n",
      "value=alphabet\n",
      "value=avant\n",
      "value=avant après\n",
      "value=milieu\n",
      "value=zillion\n"
     ]
    }
   ],
   "source": [
    "class ArbreDicho:\n",
    "    def __init__(self, value):\n",
    "        self.value = value\n",
    "        self.before = None\n",
    "        self.after = None\n",
    "\n",
    "    def __str__(self):\n",
    "        return \"value={0}\".format(self.value)\n",
    "\n",
    "    def add_before(self, child):\n",
    "        self.before = child\n",
    "\n",
    "    def add_after(self, child):\n",
    "        self.after = child\n",
    "\n",
    "    def find(self, word):\n",
    "        if self.value == word:\n",
    "            return self\n",
    "        elif word < self.value:\n",
    "            if self.before is None:\n",
    "                return None\n",
    "            else:\n",
    "                return self.before.find(word)\n",
    "        else:\n",
    "            if self.after is None:\n",
    "                return None\n",
    "            else:\n",
    "                return self.after.find(word)\n",
    "\n",
    "    def sorted_list(self):\n",
    "        res = []\n",
    "        if self.before is not None:\n",
    "            res.extend(self.before.sorted_list())\n",
    "        res.append(self.value)\n",
    "        if self.after is not None:\n",
    "            res.extend(self.after.sorted_list())\n",
    "        return res\n",
    "\n",
    "\n",
    "# on crée un arbre dont les noeuds vérifient la propriété énoncé plus haut (les mots apparaissent dans le bon ordre)\n",
    "root = ArbreDicho(\"milieu\")\n",
    "root.add_before(ArbreDicho(\"avant\"))\n",
    "root.add_after(ArbreDicho(\"zillion\"))\n",
    "root.before.add_before(ArbreDicho(\"alphabet\"))\n",
    "root.before.add_after(ArbreDicho(\"avant après\"))\n",
    "\n",
    "# on vérifie que c'est bien le cas\n",
    "all = root.sorted_list()\n",
    "assert all == sorted(all)\n",
    "print(all)\n",
    "\n",
    "# on effectue la recherche\n",
    "for a in all:\n",
    "    f = root.find(a)\n",
    "    print(f)"
   ]
  },
  {
   "cell_type": "markdown",
   "metadata": {},
   "source": [
    "## Questions\n",
    "\n",
    "Questions posées par les étudiants.\n",
    "\n",
    "**Q1**\n",
    "\n",
    "Il s'agit de reproduire à l'aide de dictionnaires un trie.\n",
    "Voici le code que vous avez donné et qui effectivement fonctionne à merveille."
   ]
  },
  {
   "cell_type": "code",
   "execution_count": 23,
   "metadata": {},
   "outputs": [],
   "source": [
    "def build_trie(mots):\n",
    "    trie = {}\n",
    "    for m in mots:\n",
    "        r = trie\n",
    "        for c in m:\n",
    "            if c not in r:\n",
    "                r[c] = {}\n",
    "            r = r[c]\n",
    "    return trie"
   ]
  },
  {
   "cell_type": "markdown",
   "metadata": {},
   "source": [
    "Cependant, je ne comprends pas très bien comment il fait pour tourner !\n",
    "A quel moment est ce que l'on modifie le dictionnaire ``trie`` défini\n",
    "initialement comme ``{}`` ? Pour moi, pour chaque ``m`` dans ``mots``,\n",
    "on ne fait que créer une copie nommée ``r`` de trie,\n",
    "c'est à dire au début ``{}``, puis on réalise des opérations\n",
    "sur ce ``r`` que l'on modifie en cours de route, et à la fin de ces opérations,\n",
    "on passe au mot suivant en créant une nouvelle copie ``r`` de ``trie``,\n",
    "à savoir toujours ``{}`` !"
   ]
  },
  {
   "cell_type": "markdown",
   "metadata": {},
   "source": [
    "**réponse**\n",
    "\n",
    "Il existe un bon moyen de visualiser l'exécution, c'est le site\n",
    "`Python Tutor <http://pythontutor.com/>`_. En recopiant, l'exemple suivant,\n",
    "on peut suivre pas à pas l'exécution "
   ]
  },
  {
   "cell_type": "code",
   "execution_count": 24,
   "metadata": {},
   "outputs": [
    {
     "name": "stdout",
     "output_type": "stream",
     "text": [
      "{'a': {'a': {'a': {}, 'b': {}}, 'b': {'a': {}}}, 'b': {'a': {'a': {}, 'b': {}}, 'b': {'b': {}, 'a': {}}}}\n"
     ]
    }
   ],
   "source": [
    "def build_trie(mots):\n",
    "    trie = {}\n",
    "    for m in mots:\n",
    "        r = trie\n",
    "        for c in m:\n",
    "            if c not in r:\n",
    "                r[c] = {}\n",
    "            r = r[c]\n",
    "    return trie\n",
    "\n",
    "\n",
    "mots = [\"aaa\", \"aba\", \"aab\", \"baa\", \"bbb\", \"bba\", \"bab\"]\n",
    "trie = build_trie(mots)\n",
    "print(trie)"
   ]
  },
  {
   "cell_type": "markdown",
   "metadata": {},
   "source": [
    "A chaque nouveau mot, les premiers caractères vont probablement faire déjà partie du\n",
    "trie, les derniers vont être ajoutés au bout d'une branche existante. La question\n",
    "est comment trouver cette branche. Cette branche peut avoir une longueur\n",
    "variable."
   ]
  },
  {
   "cell_type": "code",
   "execution_count": 26,
   "metadata": {},
   "outputs": [
    {
     "data": {
      "image/png": "[encoded data removed]",
      "text/plain": [
       "<IPython.core.display.Image object>"
      ]
     },
     "execution_count": 26,
     "metadata": {},
     "output_type": "execute_result"
    }
   ],
   "source": [
    "from IPython.display import Image\n",
    "\n",
    "Image(\"wiki_trie2.png\")"
   ]
  },
  {
   "cell_type": "markdown",
   "metadata": {},
   "source": [
    "Pour trouver cette branche, le mécanisme qu'on utilise est très proche de celui qu'on uilise pour se déplacer dans une [liste chaînée](https://fr.wikipedia.org/wiki/Liste_cha%C3%AEn%C3%A9e). Dans une liste chaînée, il n'y a pas d'indice pour un élément. Chaque élément pointe sur le suivant."
   ]
  },
  {
   "cell_type": "code",
   "execution_count": null,
   "metadata": {},
   "outputs": [],
   "source": [
    "class liste_chainee:\n",
    "    def __init__(self, value):\n",
    "        self.value = value\n",
    "        self.next = None\n",
    "\n",
    "    def attache(self, element):\n",
    "        self.next = element\n",
    "\n",
    "    def atteindre_la_fin(self):\n",
    "        position_courante = self\n",
    "        if position_courante.next is not None:\n",
    "            position_courante = position_courante.next\n",
    "        return position_courante\n",
    "\n",
    "\n",
    "e0 = liste_chainee(0)\n",
    "e1 = liste_chainee(1)\n",
    "e2 = liste_chainee(2)\n",
    "e0.attache(e1)\n",
    "e1.attache(e2)\n",
    "\n",
    "fin = e0.atteindre_la_fin()\n",
    "print(fin.value)"
   ]
  },
  {
   "cell_type": "markdown",
   "metadata": {},
   "source": [
    "Cet exemple est plus simple car pour se déplacer du début à la fin, il n'y qu'une seule *direction* : soit on est à la fin, soit il faut continuer car il y a un élément suivant (``next`` n'est pas ``None``).\n",
    "\n",
    "Toutefois, le programme précédent montre qu'il faut utiliser une variable ``position_courante`` qui mémorise la position à laquelle on se trouve lorsqu'on parcours la liste. Pour avancer, on exécute simplement : ``position_courante = position_courante.next``.\n",
    "\n",
    "La position courante devient la suivante. Dans le cas du trie, cette instruction change car l'élément suivant dépend du caractère ``c`` : ``r = r[c]``.\n",
    "\n",
    "Le premier code comprend deux éléments :\n",
    "\n",
    "* le fait de se promener le long d'un chemin ::\n",
    "\n",
    "    ```\n",
    "    r = trie  # initialisation\n",
    "    r = r[c]  # on avance d'un cran\n",
    "    ```\n",
    "\n",
    "* le fait d'ajouter un caractère au trie ::\n",
    "\n",
    "    ```\n",
    "    r[c] = { }\n",
    "    ```\n",
    "\n",
    "Le caractère ``c`` a été ajouté au trie en tant que clé d'un dictionnaire,\n",
    "lui-même valeur d'un dictionnaire associé à une clé égale\n",
    "au caractère précédent dans le mot qu'on est en train d'ajouter."
   ]
  },
  {
   "cell_type": "markdown",
   "metadata": {},
   "source": [
    "**Q2**\n",
    "\n",
    "**suite**\n",
    "\n",
    "Lorsque l'on crée un dictionnaire, appelons le \"a\", puis que l'on en crée\n",
    "une autre copie, que l'on appelle \"b\", et que l'on modifie b,\n",
    "alors a se retrouve modifié ! Le dictionnaire ``b`` est en fait plus qu'une copie,\n",
    "mais une deuxième entité qui code le même objet,\n",
    "et je crois que c'est ca que je n'avais pas compris.\n",
    "\n",
    "Par ailleurs, ce qui est surprenant, c'est que ceci ne fonctionne\n",
    "qu'avec les dictionnaires ! Lorsque l'on execute ceci :"
   ]
  },
  {
   "cell_type": "code",
   "execution_count": 27,
   "metadata": {},
   "outputs": [
    {
     "name": "stdout",
     "output_type": "stream",
     "text": [
      "[]\n"
     ]
    }
   ],
   "source": [
    "a = []\n",
    "b = a\n",
    "b = b + [2]\n",
    "print(a)"
   ]
  },
  {
   "cell_type": "markdown",
   "metadata": {},
   "source": [
    "Alors la sortie est ``[]``. Quand on execute ceci :"
   ]
  },
  {
   "cell_type": "code",
   "execution_count": 28,
   "metadata": {},
   "outputs": [
    {
     "name": "stdout",
     "output_type": "stream",
     "text": [
      "{1: 1}\n"
     ]
    }
   ],
   "source": [
    "a = {}\n",
    "b = a\n",
    "b[1] = 1\n",
    "print(a)"
   ]
  },
  {
   "cell_type": "markdown",
   "metadata": {},
   "source": [
    "La réponse est ``{1 : 1}``.\n",
    "\n",
    "**réponse**\n",
    "\n",
    "Ceci est une propriété des listes et des dictionnaires qui sont des objets **mutable** en Python.\n",
    "Je renvoie à la page [Qu’est-ce qu’un type immuable ou immutable ?](https://sdpython.github.io/doc/teachpyx/dev/py/c_lang/types.html#types-immuables-ou-immutable).\n",
    "pour comprendre ce que sont ces deux propriétés en particulier.\n",
    "\n",
    "Les listes sont **mutable**. Donc si on écrit ``b = a``, on crée un second identifiant pour accéder\n",
    "à la même liste. Voici pourquoi écrire ``a[0]=1`` a le même effet que ``b[0]=1``.\n",
    "Toutefois, dans le cas où ``b`` désigne une copie de la liste ``a``, ces deux instructions\n",
    "n'auront pas les mêmes conséquences. Pour comprendre le résultat, il faut se demander\n",
    "dans quel cas, on ne fait de copie, dans quel autre une copie a été créée.\n",
    "\n",
    "L'instruction ``b=a`` ne crée pas de copie. L'instuction ``b=b+[2]`` construit\n",
    "la concaténation de deux listes, c'est donc une nouvelle liste qu'on affecte à ``b``.\n",
    "Dans l'exemple suivant, ce n'est plus le cas même si le code paraît équivalent :"
   ]
  },
  {
   "cell_type": "code",
   "execution_count": 29,
   "metadata": {},
   "outputs": [
    {
     "name": "stdout",
     "output_type": "stream",
     "text": [
      "[2]\n"
     ]
    }
   ],
   "source": [
    "a = []\n",
    "b = a\n",
    "b += [2]  # --> il n'y a plus de copie implicite\n",
    "print(a)  # --> affiche [2]"
   ]
  },
  {
   "cell_type": "markdown",
   "metadata": {},
   "source": [
    "Le même exemple pour être écrit avec des dictionnaires car ils sont aussi **mutable**."
   ]
  }
 ],
 "metadata": {
  "kernelspec": {
   "display_name": "Python 3 (ipykernel)",
   "language": "python",
   "name": "python3"
  },
  "language_info": {
   "codemirror_mode": {
    "name": "ipython",
    "version": 3
   },
   "file_extension": ".py",
   "mimetype": "text/x-python",
   "name": "python",
   "nbconvert_exporter": "python",
   "pygments_lexer": "ipython3",
   "version": "3.10.12"
  }
 },
 "nbformat": 4,
 "nbformat_minor": 1
}