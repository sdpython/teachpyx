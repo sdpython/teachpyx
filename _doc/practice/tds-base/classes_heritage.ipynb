{
 "cells": [
  {
   "cell_type": "markdown",
   "metadata": {},
   "source": [
    "# Classes, héritage\n",
    "\n",
    "L'héritage permet de réécrire certaines parties du code sans pour autant enlever les anciennes versions toujours utilisées."
   ]
  },
  {
   "cell_type": "markdown",
   "metadata": {},
   "source": [
    "### Qu'est-ce que l'héritage ?\n",
    "\n",
    "La séance précédente a montré comment fonctionnait une classe, comment elle s'écrivait. Cette séance est à propos de l'_héritage_ qui est une propriété des langages objets. Elle est utile par exemple lorsqu'on doit écrire plusieurs versions d'un même algorithme et qu'une petite partie seulement change d'une version à l'autre.\n",
    "\n",
    "Supposons que vous ayez un algorithme constitué de trois fonctions plus une dernière qui appelle les trois autres dans le bon ordre. On désire créer une version pour laquelle une des trois fonctions seulement est modifiée."
   ]
  },
  {
   "cell_type": "code",
   "execution_count": 1,
   "metadata": {},
   "outputs": [
    {
     "name": "stdout",
     "output_type": "stream",
     "text": [
      "Version1.fonction1 0\n",
      "Version1.fonction2 0\n",
      "Version1.fonction3 0\n"
     ]
    }
   ],
   "source": [
    "class Version1:\n",
    "    def __init__(self, p):\n",
    "        self.p = p\n",
    "\n",
    "    def fonction1(self):\n",
    "        print(\"Version1.fonction1\", self.p)\n",
    "\n",
    "    def fonction2(self):\n",
    "        print(\"Version1.fonction2\", self.p)\n",
    "\n",
    "    def fonction3(self):\n",
    "        print(\"Version1.fonction3\", self.p)\n",
    "\n",
    "    def fonction_finale(self):\n",
    "        self.fonction1()\n",
    "        self.fonction2()\n",
    "        self.fonction3()\n",
    "\n",
    "\n",
    "v = Version1(0)\n",
    "v.fonction_finale()"
   ]
  },
  {
   "cell_type": "markdown",
   "metadata": {},
   "source": [
    "On souhaite changer la fonction ``fonction2`` sans modifier la classe ``Version1`` et en écrivant le moins possible de code."
   ]
  },
  {
   "cell_type": "code",
   "execution_count": 2,
   "metadata": {},
   "outputs": [
    {
     "name": "stdout",
     "output_type": "stream",
     "text": [
      "Version1.fonction1 0\n",
      "Version2.fonction2 1\n",
      "Version1.fonction3 0\n"
     ]
    }
   ],
   "source": [
    "class Version2(Version1):\n",
    "    def fonction2(self):\n",
    "        print(\"Version2.fonction2\", self.p + 1)\n",
    "\n",
    "\n",
    "v = Version2(0)\n",
    "v.fonction_finale()"
   ]
  },
  {
   "cell_type": "markdown",
   "metadata": {},
   "source": [
    "Le langage a compris qu'on avait changé une fonction et il s'en sert dans la seconde classe. Pour que cela fonctionne, il faut néanmoins respecter une contrainte essentielle : la fonction remplacée (ou surchargée) doit accepter les mêmes paramètres et retourner le même type de résultat. Cette contrainte n'est pas obligatoire en Python mais elle l'est dans la plupart des langages. Il est conseillé de la respecter."
   ]
  },
  {
   "cell_type": "markdown",
   "metadata": {},
   "source": [
    "### Exercice 1 : pièce normale\n",
    "\n",
    "On créer une classe ``Piece`` qui contient deux méthodes : une méthode ``tirage_aleatoire`` et une méthode qui appelle la précédente pour faire une moyenne sur $n$ tirages."
   ]
  },
  {
   "cell_type": "code",
   "execution_count": 3,
   "metadata": {},
   "outputs": [
    {
     "name": "stdout",
     "output_type": "stream",
     "text": [
      "0\n"
     ]
    }
   ],
   "source": [
    "import random\n",
    "\n",
    "\n",
    "class Piece:\n",
    "    def tirage_aleatoire(self, precedent):\n",
    "        return random.randint(0, 1)\n",
    "\n",
    "    def moyenne_tirage(self, n):\n",
    "        # ....\n",
    "        return 0  # à remplacer\n",
    "\n",
    "\n",
    "p = Piece()\n",
    "print(p.moyenne_tirage(100))"
   ]
  },
  {
   "cell_type": "markdown",
   "metadata": {},
   "source": [
    "### Exercice 2 : pièce truquée\n",
    "\n",
    "Le paramètre ``precedent`` est inutile dans cette première version mais on suppose maintenant que le joueur qui joue est un tricheur. Lorsqu'il perd, il joue une pièce truquée le coup d'après pour laquelle la probabilité d'avoir 1 est de 0,7. On veut implémenter cela avec une classe ``PieceTruquee``."
   ]
  },
  {
   "cell_type": "code",
   "execution_count": 4,
   "metadata": {
    "collapsed": true
   },
   "outputs": [],
   "source": [
    "import random\n",
    "\n",
    "\n",
    "class PieceTruquee(Piece):\n",
    "    # ......\n",
    "    pass"
   ]
  },
  {
   "cell_type": "markdown",
   "metadata": {},
   "source": [
    "Pour choisir de faire telle ou telle avec une probabilité de 0,7, on peut écrire :"
   ]
  },
  {
   "cell_type": "code",
   "execution_count": 5,
   "metadata": {
    "collapsed": true
   },
   "outputs": [],
   "source": [
    "if random.random() <= 0.7:\n",
    "    # ... faire une chose avec la probabilité 0.7\n",
    "    pass\n",
    "else:\n",
    "    # ... faire une autre chose avec la probabilité 0.3\n",
    "    pass"
   ]
  },
  {
   "cell_type": "markdown",
   "metadata": {},
   "source": [
    "### Utiliser des méthodes de la classe mère"
   ]
  },
  {
   "cell_type": "markdown",
   "metadata": {},
   "source": [
    "Lorsqu'on change une fonction, on a parfois juste d'un petit changement par rapport à la méthode précédente qu'il faut pouvoir appeler. Si on reprend l'exemple précédent, on modifie la méthode ``tirage_aleatoire`` pour retourner l'autre valeur :"
   ]
  },
  {
   "cell_type": "code",
   "execution_count": 6,
   "metadata": {},
   "outputs": [
    {
     "data": {
      "text/plain": [
       "1"
      ]
     },
     "execution_count": 6,
     "metadata": {},
     "output_type": "execute_result"
    }
   ],
   "source": [
    "class PieceTruquee(Piece):\n",
    "    def tirage_aleatoire(self, precedent):\n",
    "        return 1 - Piece.tirage_aleatoire(self, precedent)\n",
    "\n",
    "\n",
    "p = PieceTruquee()\n",
    "p.tirage_aleatoire(0)"
   ]
  },
  {
   "cell_type": "markdown",
   "metadata": {},
   "source": [
    "Une autre écriture possible est la suivante avec le mot-clé [super](https://docs.python.org/3.4/library/functions.html#super) :"
   ]
  },
  {
   "cell_type": "code",
   "execution_count": 7,
   "metadata": {},
   "outputs": [
    {
     "data": {
      "text/plain": [
       "0"
      ]
     },
     "execution_count": 7,
     "metadata": {},
     "output_type": "execute_result"
    }
   ],
   "source": [
    "class PieceTruquee(Piece):\n",
    "    def tirage_aleatoire(self, precedent):\n",
    "        return 1 - super().tirage_aleatoire(precedent)\n",
    "\n",
    "\n",
    "p = PieceTruquee()\n",
    "p.tirage_aleatoire(0)"
   ]
  },
  {
   "cell_type": "markdown",
   "metadata": {},
   "source": [
    "### Exercice 3 : Pièce mixte\n",
    "\n",
    "Ecrire une classe ``PieceTruqueeMix`` qui appelle aléatoiremnt soit ``Piece.tirage_aleatoire`` soit  ``PieceTruquee.tirage_aleatoire``."
   ]
  },
  {
   "cell_type": "code",
   "execution_count": null,
   "metadata": {
    "collapsed": true
   },
   "outputs": [],
   "source": []
  },
  {
   "cell_type": "markdown",
   "metadata": {},
   "source": [
    "### Autre construction avec des fonctions\n",
    "\n",
    "La création de classe peut sembler fastidieuse. Une autre solution est l'utilisation de fonction comme paramètre d'une autre fonction :"
   ]
  },
  {
   "cell_type": "code",
   "execution_count": 9,
   "metadata": {},
   "outputs": [
    {
     "name": "stdout",
     "output_type": "stream",
     "text": [
      "0.56\n"
     ]
    }
   ],
   "source": [
    "def moyenne_tirage(n, fonction):\n",
    "    \"\"\"\n",
    "    Cette fonction fait la moyenne des résultats produits par la fonction passée en argument\n",
    "    ce texte apparaît dès qu'on écrit help(moyenne_tirage) (ou moyenne_tirage? dans un notebook)\n",
    "    \"\"\"\n",
    "    tirage = []\n",
    "    for i in range(n):\n",
    "        precedent = tirage[-1] if i > 0 else None\n",
    "        tirage.append(fonction(precedent))\n",
    "    s = sum(tirage)\n",
    "    return s * 1.0 / len(tirage)\n",
    "\n",
    "\n",
    "print(moyenne_tirage(100, lambda v: random.randint(0, 1)))"
   ]
  },
  {
   "cell_type": "code",
   "execution_count": 10,
   "metadata": {},
   "outputs": [
    {
     "name": "stdout",
     "output_type": "stream",
     "text": [
      "0.62\n"
     ]
    }
   ],
   "source": [
    "def truquee(precedent):\n",
    "    if precedent == None or precedent == 1:\n",
    "        return random.randint(0, 1)\n",
    "    else:\n",
    "        return 1 if random.randint(0, 9) >= 3 else 0\n",
    "\n",
    "\n",
    "print(moyenne_tirage(100, truquee))"
   ]
  },
  {
   "cell_type": "markdown",
   "metadata": {},
   "source": [
    "### Exercice 4 : pièce mixte avec des fonctions\n",
    "\n",
    "Comment utiliser les fonctions dans le cas de la pièce ``PieceTruqueeMix`` ?"
   ]
  },
  {
   "cell_type": "code",
   "execution_count": null,
   "metadata": {
    "collapsed": true
   },
   "outputs": [],
   "source": []
  }
 ],
 "metadata": {
  "kernelspec": {
   "display_name": "Python 3",
   "language": "python",
   "name": "python3"
  },
  "language_info": {
   "codemirror_mode": {
    "name": "ipython",
    "version": 3
   },
   "file_extension": ".py",
   "mimetype": "text/x-python",
   "name": "python",
   "nbconvert_exporter": "python",
   "pygments_lexer": "ipython3",
   "version": "3.10.12"
  }
 },
 "nbformat": 4,
 "nbformat_minor": 1
}