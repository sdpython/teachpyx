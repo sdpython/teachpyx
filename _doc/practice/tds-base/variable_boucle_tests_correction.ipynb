{
 "cells": [
  {
   "cell_type": "markdown",
   "metadata": {},
   "source": [
    "# Variables, boucles, tests (correction)\n",
    "\n",
    "Boucles, tests, correction."
   ]
  },
  {
   "cell_type": "markdown",
   "metadata": {},
   "source": [
    "### Partie 3 : boucles (exercice)"
   ]
  },
  {
   "cell_type": "code",
   "execution_count": 1,
   "metadata": {},
   "outputs": [
    {
     "name": "stdout",
     "output_type": "stream",
     "text": [
      "4\n",
      "1\n",
      "3\n",
      "2\n"
     ]
    }
   ],
   "source": [
    "l = [4, 3, 0, 2, 1]\n",
    "i = 0\n",
    "while l[i] != 0:\n",
    "    i = l[i]\n",
    "    print(i)  # que vaut l[i] à la fin ?"
   ]
  },
  {
   "cell_type": "markdown",
   "metadata": {},
   "source": [
    "Cet exercice montre une façon curieuse de se déplacer dans un tableau puisqu'on commence à la première position puis on va la position indiqué par le premier élément du tableau et ainsi de suite. On s'arrête quand on tombe sur la valeur zéro."
   ]
  },
  {
   "cell_type": "code",
   "execution_count": 2,
   "metadata": {},
   "outputs": [
    {
     "data": {
      "image/png": "[encoded data removed]",
      "text/plain": [
       "<IPython.core.display.Image object>"
      ]
     },
     "execution_count": 2,
     "metadata": {},
     "output_type": "execute_result"
    }
   ],
   "source": [
    "from IPython.display import Image\n",
    "\n",
    "Image(\"td2_1.png\")"
   ]
  },
  {
   "cell_type": "markdown",
   "metadata": {},
   "source": [
    "### Partie 5 : recherche non dichotomique (exercice)\n",
    "\n",
    "Il n'y a pas d'autres moyens que de passer tous les éléments en revue et de conserver la position du premier élément dans la liste qui vérifie le critère de recherche."
   ]
  },
  {
   "cell_type": "code",
   "execution_count": 3,
   "metadata": {},
   "outputs": [
    {
     "name": "stdout",
     "output_type": "stream",
     "text": [
      "3\n"
     ]
    }
   ],
   "source": [
    "l = [3, 6, 2, 7, 9]\n",
    "x = 7\n",
    "\n",
    "for i, v in enumerate(l):\n",
    "    if v == x:\n",
    "        position = i\n",
    "\n",
    "print(position)"
   ]
  },
  {
   "cell_type": "markdown",
   "metadata": {},
   "source": [
    "### Partie 6 : recherche dichotomique (exercice)"
   ]
  },
  {
   "cell_type": "markdown",
   "metadata": {},
   "source": [
    "La recherche dichotomique s'applique uniquement sur un tableau triée. A chaque itération, on vise le milieu du tableau pour savoir dans quelle moitié chercher."
   ]
  },
  {
   "cell_type": "code",
   "execution_count": 4,
   "metadata": {},
   "outputs": [
    {
     "name": "stdout",
     "output_type": "stream",
     "text": [
      "3\n"
     ]
    }
   ],
   "source": [
    "l = [2, 3, 6, 7, 9]\n",
    "# si la liste n'est pas triée, il faut écrire :\n",
    "l.sort()\n",
    "x = 7\n",
    "\n",
    "a = 0\n",
    "b = len(l) - 1\n",
    "while a <= b:\n",
    "    m = (a + b) // 2  # ne pas oublier // sinon la division est réelle\n",
    "    if l[m] == x:\n",
    "        position = m  # ligne A\n",
    "        break  # pas la peine de continuer, on quitte la boucle\n",
    "    elif l[m] < x:\n",
    "        a = m + 1\n",
    "    else:\n",
    "        b = m - 1\n",
    "\n",
    "print(position)"
   ]
  },
  {
   "cell_type": "markdown",
   "metadata": {},
   "source": [
    "### Partie 7 : pour aller plus loin (exercice)"
   ]
  },
  {
   "cell_type": "markdown",
   "metadata": {},
   "source": [
    "Lorsque l'élément à chercher n'est pas dans la liste, cela déclenche une erreur :"
   ]
  },
  {
   "cell_type": "code",
   "execution_count": 5,
   "metadata": {},
   "outputs": [
    {
     "name": "stdout",
     "output_type": "stream",
     "text": [
      "-1\n"
     ]
    }
   ],
   "source": [
    "l = [2, 3, 6, 7, 9]\n",
    "l.sort()\n",
    "x = 5\n",
    "\n",
    "position = -1\n",
    "\n",
    "a = 0\n",
    "b = len(l) - 1\n",
    "while a <= b:\n",
    "    m = (a + b) // 2\n",
    "    if l[m] == x:\n",
    "        position = m\n",
    "        break\n",
    "    elif l[m] < x:\n",
    "        a = m + 1\n",
    "    else:\n",
    "        b = m - 1\n",
    "\n",
    "print(position)"
   ]
  },
  {
   "cell_type": "markdown",
   "metadata": {},
   "source": [
    "Le programme affiche ``None`` qui était la valeur par défaut de la variable position. La boucle n'a pas changé le contenu de la variable. Donc, lorsque ``position==-1``, cela veut dire que le résultat n'a pas été trouvé.\n",
    "\n",
    "**Coût**\n",
    "\n",
    "Comme à chaque itération, on divise la taille du problème par deux, on est sûr que l'algorithme a trouvé la réponse lorsque $\\frac{n}{2^k} < 1$ où $n$ est le nombre d'éléments du tableau et $k$ le nombre d'itérations. Par conséquent, $k \\sim \\ln_2 n$. On note cela $O(\\ln_2 n)$. Le programme suivant vérifie cela :"
   ]
  },
  {
   "cell_type": "code",
   "execution_count": 6,
   "metadata": {},
   "outputs": [
    {
     "name": "stdout",
     "output_type": "stream",
     "text": [
      "k= 0 x= 456217 itération= 20  log2(len(l))= 19.931568569324174\n",
      "k= 1 x= 134146 itération= 20  log2(len(l))= 19.931568569324174\n",
      "k= 2 x= 166639 itération= 16  log2(len(l))= 19.931568569324174\n",
      "k= 3 x= 922092 itération= 19  log2(len(l))= 19.931568569324174\n",
      "k= 4 x= 728522 itération= 20  log2(len(l))= 19.931568569324174\n",
      "k= 5 x= 162931 itération= 15  log2(len(l))= 19.931568569324174\n",
      "k= 6 x= 741312 itération= 20  log2(len(l))= 19.931568569324174\n",
      "k= 7 x= 195045 itération= 20  log2(len(l))= 19.931568569324174\n",
      "k= 8 x= 642304 itération= 18  log2(len(l))= 19.931568569324174\n",
      "k= 9 x= 685730 itération= 20  log2(len(l))= 19.931568569324174\n"
     ]
    }
   ],
   "source": [
    "import random, math\n",
    "\n",
    "l = list(range(0, 1000000))\n",
    "\n",
    "for k in range(0, 10):\n",
    "    x = random.randint(0, l[-1])\n",
    "\n",
    "    iter = 0\n",
    "    a = 0\n",
    "    b = len(l) - 1\n",
    "    while a <= b:\n",
    "        iter += 1\n",
    "        m = (a + b) // 2\n",
    "        if l[m] == x:\n",
    "            position = m\n",
    "            break\n",
    "        elif l[m] < x:\n",
    "            a = m + 1\n",
    "        else:\n",
    "            b = m - 1\n",
    "\n",
    "    print(\n",
    "        \"k=\",\n",
    "        k,\n",
    "        \"x=\",\n",
    "        x,\n",
    "        \"itération=\",\n",
    "        iter,\n",
    "        \" log2(len(l))=\",\n",
    "        math.log(len(l)) / math.log(2),\n",
    "    )"
   ]
  },
  {
   "cell_type": "code",
   "execution_count": null,
   "metadata": {},
   "outputs": [],
   "source": []
  }
 ],
 "metadata": {
  "kernelspec": {
   "display_name": "Python 3",
   "language": "python",
   "name": "python3"
  },
  "language_info": {
   "codemirror_mode": {
    "name": "ipython",
    "version": 3
   },
   "file_extension": ".py",
   "mimetype": "text/x-python",
   "name": "python",
   "nbconvert_exporter": "python",
   "pygments_lexer": "ipython3",
   "version": "3.10.12"
  }
 },
 "nbformat": 4,
 "nbformat_minor": 1
}