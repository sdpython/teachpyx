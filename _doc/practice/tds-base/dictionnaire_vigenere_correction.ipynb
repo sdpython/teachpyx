{
 "cells": [
  {
   "cell_type": "markdown",
   "metadata": {},
   "source": [
    "# Dictionnaires, fonctions, code de Vigenère (correction)\n",
    "\n",
    "Le notebook ne fait que crypter et décrypter un message sachant le code connu."
   ]
  },
  {
   "cell_type": "markdown",
   "metadata": {},
   "source": [
    "### Exercice 1"
   ]
  },
  {
   "cell_type": "code",
   "execution_count": 1,
   "metadata": {},
   "outputs": [
    {
     "name": "stdout",
     "output_type": "stream",
     "text": [
      "n a\n"
     ]
    }
   ],
   "source": [
    "def lettre_suivante(lettre):\n",
    "    c = ord(lettre) - ord(\"a\")\n",
    "    c = (c + 1) % 26\n",
    "    return chr(c + ord(\"a\"))\n",
    "\n",
    "\n",
    "print(lettre_suivante(\"m\"), lettre_suivante(\"z\"))"
   ]
  },
  {
   "cell_type": "markdown",
   "metadata": {},
   "source": [
    "### Exercice 2"
   ]
  },
  {
   "cell_type": "code",
   "execution_count": 2,
   "metadata": {},
   "outputs": [
    {
     "name": "stdout",
     "output_type": "stream",
     "text": [
      "['tywin', 'tyrion']\n"
     ]
    }
   ],
   "source": [
    "mots = [\n",
    "    \"eddard\",\n",
    "    \"catelyn\",\n",
    "    \"robb\",\n",
    "    \"sansa\",\n",
    "    \"arya\",\n",
    "    \"brandon\",\n",
    "    \"rickon\",\n",
    "    \"theon\",\n",
    "    \"rorbert\",\n",
    "    \"cersei\",\n",
    "    \"tywin\",\n",
    "    \"jaime\",\n",
    "    \"tyrion\",\n",
    "    \"shae\",\n",
    "    \"bronn\",\n",
    "    \"lancel\",\n",
    "    \"joffrey\",\n",
    "    \"sandor\",\n",
    "    \"varys\",\n",
    "    \"renly\",\n",
    "    \"a\",\n",
    "]\n",
    "\n",
    "\n",
    "def mots_lettre_position(liste, lettre, position):\n",
    "    res = []\n",
    "    for mot in liste:\n",
    "        if position < len(mot) and mot[position] == lettre:\n",
    "            res.append(mot)\n",
    "    return res\n",
    "\n",
    "\n",
    "r = mots_lettre_position(mots, \"y\", 1)\n",
    "print(r)"
   ]
  },
  {
   "cell_type": "markdown",
   "metadata": {},
   "source": [
    "### Exercice 3 : utilisation d'un dictionnaire"
   ]
  },
  {
   "cell_type": "markdown",
   "metadata": {},
   "source": [
    "L'énoncé suggère d'utiliser comme clé de dictionnaire le couple ``(position, lettre)`` et la fonction doit retourne la liste des mots qui ont tous la même lettre à la même position. Le dictionnaire ``dictionnaire_bien_choisi`` de l'énoncé doit avoir pour clés des couples ``(position, lettre)`` et pour valeurs des listes de prénoms."
   ]
  },
  {
   "cell_type": "code",
   "execution_count": 3,
   "metadata": {},
   "outputs": [
    {
     "name": "stdout",
     "output_type": "stream",
     "text": [
      "résultat= ['tywin', 'tyrion']\n",
      "dictionnaire= {(0, 'e'): ['eddard'], (1, 'd'): ['eddard'], (2, 'd'): ['eddard'], (3, 'a'): ['eddard', 'arya'], (4, 'r'): ['eddard', 'joffrey'], (5, 'd'): ['eddard'], (0, 'c'): ['catelyn', 'cersei'], (1, 'a'): ['catelyn', 'sansa', 'jaime', 'lancel', 'sandor', 'varys'], (2, 't'): ['catelyn'], (3, 'e'): ['catelyn', 'shae'], (4, 'l'): ['catelyn'], (5, 'y'): ['catelyn'], (6, 'n'): ['catelyn', 'brandon'], (0, 'r'): ['robb', 'rickon', 'rorbert', 'renly'], (1, 'o'): ['robb', 'rorbert', 'joffrey'], (2, 'b'): ['robb'], (3, 'b'): ['robb', 'rorbert'], (0, 's'): ['sansa', 'shae', 'sandor'], (2, 'n'): ['sansa', 'lancel', 'sandor', 'renly'], (3, 's'): ['sansa', 'cersei'], (4, 'a'): ['sansa'], (0, 'a'): ['arya', 'a'], (1, 'r'): ['arya', 'brandon', 'bronn'], (2, 'y'): ['arya'], (0, 'b'): ['brandon', 'bronn'], (2, 'a'): ['brandon', 'shae'], (3, 'n'): ['brandon', 'bronn'], (4, 'd'): ['brandon'], (5, 'o'): ['brandon'], (1, 'i'): ['rickon'], (2, 'c'): ['rickon'], (3, 'k'): ['rickon'], (4, 'o'): ['rickon', 'tyrion', 'sandor'], (5, 'n'): ['rickon', 'tyrion'], (0, 't'): ['theon', 'tywin', 'tyrion'], (1, 'h'): ['theon', 'shae'], (2, 'e'): ['theon'], (3, 'o'): ['theon'], (4, 'n'): ['theon', 'tywin', 'bronn'], (2, 'r'): ['rorbert', 'cersei', 'tyrion', 'varys'], (4, 'e'): ['rorbert', 'cersei', 'jaime', 'lancel'], (5, 'r'): ['rorbert', 'sandor'], (6, 't'): ['rorbert'], (1, 'e'): ['cersei', 'renly'], (5, 'i'): ['cersei'], (1, 'y'): ['tywin', 'tyrion'], (2, 'w'): ['tywin'], (3, 'i'): ['tywin', 'tyrion'], (0, 'j'): ['jaime', 'joffrey'], (2, 'i'): ['jaime'], (3, 'm'): ['jaime'], (2, 'o'): ['bronn'], (0, 'l'): ['lancel'], (3, 'c'): ['lancel'], (5, 'l'): ['lancel'], (2, 'f'): ['joffrey'], (3, 'f'): ['joffrey'], (5, 'e'): ['joffrey'], (6, 'y'): ['joffrey'], (3, 'd'): ['sandor'], (0, 'v'): ['varys'], (3, 'y'): ['varys'], (4, 's'): ['varys'], (3, 'l'): ['renly'], (4, 'y'): ['renly']}\n"
     ]
    }
   ],
   "source": [
    "def dictionnaire_choisi(liste):\n",
    "    d = {}\n",
    "    for mot in liste:\n",
    "        for i, c in enumerate(mot):\n",
    "            d[i, c] = d.get((i, c), []) + [mot]\n",
    "    return d\n",
    "\n",
    "\n",
    "def mots_lettre_position(d, lettre, position):\n",
    "    return d.get((position, lettre), [])\n",
    "\n",
    "\n",
    "d = dictionnaire_choisi(mots)\n",
    "r = mots_lettre_position(d, \"y\", 1)\n",
    "print(\"résultat=\", r)\n",
    "print(\"dictionnaire=\", d)"
   ]
  },
  {
   "cell_type": "markdown",
   "metadata": {},
   "source": [
    "S'il permet d'aller beaucoup plus vite pour effectuer une recherche, le dictionnaire ``d`` contient beaucoup plus de mots que la liste initiale. Si on suppose que tous les mots sont uniques, il en contient exactement autant que la somme des longueurs de chaque mot.\n",
    "\n",
    "**A quoi ça sert ?** Tout dépend du nombre de fois qu'on n'effectue ce type de **recherche**. Il faut d'abord décomposer les deux méthodes en coût fixe (préparation du dictionnaire) et coût recherche puis regarder la page [Time Complexity](https://wiki.python.org/moin/TimeComplexity). On obtient :\n",
    "\n",
    "- liste de l'exercice 2 :  coût fixe = 0, coût variable $\\sim O(N)$ \n",
    "- dictionaire de l'exercice 3 : coût fixe $\\sim O(L)$, coût variable $\\sim O(1)$ \n",
    "\n",
    "Où :\n",
    "\n",
    "- $N$ est le nombre de mots,\n",
    "- $L$ est la somme des nombres de lettres de chaque mot,\n",
    "- $M$ est la longueur maximale d'un mot.\n",
    "\n",
    "Les dictionnaires en Python utilisent une [table de hashage](http://fr.wikipedia.org/wiki/Table_de_hachage) pour stocker les clés. L'objet ``map`` de Python ne rapproche plus de l'objet ``unordered_map`` de C++ que de l'objet ``map``. Ce dernier (C++ uniquement) est un tableau trié. L'accès à chaque élément se fait par dichotomie en $O(\\ln_2 n)$ (voir [Standard C++ Containers](http://www.cs.northwestern.edu/~riesbeck/programming/c++/stl-summary.html#map). Le coût dans ce cas serait (toujours en C++) :\n",
    "\n",
    "- dictionaire de l'exercice 3 : coût fixe $\\sim O(L \\, ln_2(26 * M))$, coût variable $\\sim O(ln_2(26 * M))$ \n",
    "\n",
    "\n",
    "Si on effectue cette recherche un grand nombre de fois, l'utilisation d'un dictionnaire permet d'être beaucoup plus rapide même si on doit créer une structure intermédiaire. Ce schéma revient régulièrement : **représenter autrement les données pour accélérer un traitement effectué un grand nombre de fois**. \n",
    "\n",
    "Vous pouvez lire également :\n",
    "\n",
    "- [hash](https://docs.python.org/3.4/reference/datamodel.html#object.__hash__)\n",
    "- [STL Container Performance](https://nonuruzun.medium.com/stl-container-performance-3ec5a8fbc3be)\n",
    "- [C++11: unordered_map vs map](http://kariddi.blogspot.fr/2012/07/c11-unorderedmap-vs-map.html)\n",
    "- [AVL tree](http://en.wikipedia.org/wiki/AVL_tree)\n",
    "- [List of data structures](http://en.wikipedia.org/wiki/List_of_data_structures)\n",
    "- [Time complexity of accessing a Python dict](http://stackoverflow.com/questions/1963507/time-complexity-of-accessing-a-python-dict)\n",
    "- [Hash Table Performance Tests](http://preshing.com/20110603/hash-table-performance-tests/)\n",
    "- [How to implement a good __hash__ function in python](http://stackoverflow.com/questions/4005318/how-to-implement-a-good-hash-function-in-python)"
   ]
  },
  {
   "cell_type": "markdown",
   "metadata": {},
   "source": [
    "### Exercice 4 : crypter et décrypter selon Vigenère\n",
    "\n",
    "Tout d'abord le code de César :"
   ]
  },
  {
   "cell_type": "code",
   "execution_count": 4,
   "metadata": {},
   "outputs": [
    {
     "name": "stdout",
     "output_type": "stream",
     "text": [
      "MHQHVXLVSDVFRGH\n"
     ]
    }
   ],
   "source": [
    "def code_cesar(m):\n",
    "    s = \"\".join([chr((ord(l) - 65 + 3) % 26 + 65) for l in m])\n",
    "    return s\n",
    "\n",
    "\n",
    "m = \"JENESUISPASCODE\"\n",
    "print(code_cesar(m))"
   ]
  },
  {
   "cell_type": "markdown",
   "metadata": {},
   "source": [
    "Et le code de Vigenère :"
   ]
  },
  {
   "cell_type": "code",
   "execution_count": 5,
   "metadata": {},
   "outputs": [
    {
     "name": "stdout",
     "output_type": "stream",
     "text": [
      "MSCHGJLGEDGRRRT\n"
     ]
    }
   ],
   "source": [
    "def code_vigenere(message, cle):\n",
    "    message_code = \"\"\n",
    "    for i, c in enumerate(message):\n",
    "        d = cle[i % len(cle)]\n",
    "        d = ord(d) - 65\n",
    "        message_code += chr((ord(c) - 65 + d) % 26 + 65)\n",
    "    return message_code\n",
    "\n",
    "\n",
    "m = \"JENESUISPASCODE\"\n",
    "print(code_vigenere(m, \"DOP\"))"
   ]
  },
  {
   "cell_type": "markdown",
   "metadata": {},
   "source": [
    "Et le décryptage du code de Vigenère pour lequel on modifie la fonction précédente qui pourra alors coder et décoder."
   ]
  },
  {
   "cell_type": "code",
   "execution_count": 6,
   "metadata": {},
   "outputs": [
    {
     "name": "stdout",
     "output_type": "stream",
     "text": [
      "MSCHGJLGEDGRRRT JENESUISPASCODE\n"
     ]
    }
   ],
   "source": [
    "def code_vigenere(message, cle, decode=False):  # ligne changée\n",
    "    message_code = \"\"\n",
    "    for i, c in enumerate(message):\n",
    "        d = cle[i % len(cle)]\n",
    "        d = ord(d) - 65\n",
    "        if decode:\n",
    "            d = 26 - d  # ligne ajoutée\n",
    "        message_code += chr((ord(c) - 65 + d) % 26 + 65)\n",
    "    return message_code\n",
    "\n",
    "\n",
    "m = \"JENESUISPASCODE\"\n",
    "c = code_vigenere(m, \"DOP\")\n",
    "d = code_vigenere(c, \"DOP\", True)\n",
    "print(c, d)"
   ]
  },
  {
   "cell_type": "markdown",
   "metadata": {},
   "source": [
    "Pour retrouver le code de César, il suffit de choisir une clé d'une seule lettre :"
   ]
  },
  {
   "cell_type": "code",
   "execution_count": 7,
   "metadata": {},
   "outputs": [
    {
     "name": "stdout",
     "output_type": "stream",
     "text": [
      "MHQHVXLVSDVFRGH\n"
     ]
    }
   ],
   "source": [
    "c = code_vigenere(m, \"D\")\n",
    "print(c)"
   ]
  },
  {
   "cell_type": "markdown",
   "metadata": {},
   "source": [
    "On peut casser le code de Vigenère."
   ]
  },
  {
   "cell_type": "code",
   "execution_count": null,
   "metadata": {},
   "outputs": [],
   "source": []
  }
 ],
 "metadata": {
  "kernelspec": {
   "display_name": "Python 3",
   "language": "python",
   "name": "python3"
  },
  "language_info": {
   "codemirror_mode": {
    "name": "ipython",
    "version": 3
   },
   "file_extension": ".py",
   "mimetype": "text/x-python",
   "name": "python",
   "nbconvert_exporter": "python",
   "pygments_lexer": "ipython3",
   "version": "3.10.12"
  }
 },
 "nbformat": 4,
 "nbformat_minor": 1
}