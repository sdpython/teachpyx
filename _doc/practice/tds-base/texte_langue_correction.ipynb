{
 "cells": [
  {
   "cell_type": "markdown",
   "metadata": {},
   "source": [
    "# Deviner la langue d'un texte (correction)\n",
    "\n",
    "Calcul d'un score pour détecter la langue d'un texte. Ce notebook aborde les dictionnaires, les fichiers et les graphiques (correction)."
   ]
  },
  {
   "cell_type": "code",
   "execution_count": 2,
   "metadata": {
    "collapsed": true
   },
   "outputs": [],
   "source": [
    "%matplotlib inline"
   ]
  },
  {
   "cell_type": "markdown",
   "metadata": {},
   "source": [
    "## Q1 : lire un fichier"
   ]
  },
  {
   "cell_type": "code",
   "execution_count": 3,
   "metadata": {
    "collapsed": true
   },
   "outputs": [],
   "source": [
    "def read_file(filename):\n",
    "    with open(filename, \"r\", encoding=\"utf-8\") as f:\n",
    "        return f.read()"
   ]
  },
  {
   "cell_type": "markdown",
   "metadata": {},
   "source": [
    "Les problèmes d'[encoding](https://fr.wikipedia.org/wiki/Codage_des_caract%C3%A8res) sont toujours délicats. Un encoding définit la façon dont une séquence d'octets représente une chaîne de caractères. Il y a 256 valeurs possible d'octets et la langue chinoise contient beaucoup plus de caractères. Il faut donc utiliser plusieurs octets pour représenter un caractère un peu comme le Morse qui n'utilise que deux symboles pour représenter 26 lettres. Quand on ne connaît pas l'encoding, on utilise un module [chardet](http://chardet.readthedocs.io/en/latest/index.html) et la fonction [detect](http://chardet.readthedocs.io/en/latest/usage.html)."
   ]
  },
  {
   "cell_type": "code",
   "execution_count": 4,
   "metadata": {
    "collapsed": true
   },
   "outputs": [],
   "source": [
    "import chardet\n",
    "\n",
    "\n",
    "def read_file_enc(filename):\n",
    "    with open(filename, \"rb\") as f:\n",
    "        b = f.read()\n",
    "    res = chardet.detect(b)\n",
    "    enc = res[\"encoding\"]\n",
    "    return res, b.decode(enc)"
   ]
  },
  {
   "cell_type": "markdown",
   "metadata": {},
   "source": [
    "On teste la fonction avec un petit fichier qu'on crée pour l'occasion."
   ]
  },
  {
   "cell_type": "code",
   "execution_count": 5,
   "metadata": {
    "collapsed": true
   },
   "outputs": [],
   "source": [
    "with open(\"texte.txt\", \"w\", encoding=\"utf-8\") as f:\n",
    "    f.write(\"un corbeau sur un arbre perché tenait en son bec un fromage\")"
   ]
  },
  {
   "cell_type": "code",
   "execution_count": 6,
   "metadata": {},
   "outputs": [
    {
     "data": {
      "text/plain": [
       "'un corbeau sur un arbre perché tenait en son bec un fromage'"
      ]
     },
     "execution_count": 7,
     "metadata": {},
     "output_type": "execute_result"
    }
   ],
   "source": [
    "lu = read_file(\"texte.txt\")\n",
    "lu"
   ]
  },
  {
   "cell_type": "code",
   "execution_count": 7,
   "metadata": {},
   "outputs": [
    {
     "data": {
      "text/plain": [
       "'un corbeau sur un arbre perchÃ© tenait en son bec un fromage'"
      ]
     },
     "execution_count": 8,
     "metadata": {},
     "output_type": "execute_result"
    }
   ],
   "source": [
    "enc, lu = read_file_enc(\"texte.txt\")\n",
    "lu"
   ]
  },
  {
   "cell_type": "markdown",
   "metadata": {},
   "source": [
    "Visiblement, ce n'est pas toujours évident mais suffisant pour ce qu'on veut en faire à savoir des statistiques. Les problèmes avec la langue latine devraient être statistiquement négligeables pour ce que nous souhaitons en faire."
   ]
  },
  {
   "cell_type": "code",
   "execution_count": 8,
   "metadata": {},
   "outputs": [
    {
     "data": {
      "text/plain": [
       "{'confidence': 0.6213765491709115,\n",
       " 'encoding': 'ISO-8859-9',\n",
       " 'language': 'Turkish'}"
      ]
     },
     "execution_count": 9,
     "metadata": {},
     "output_type": "execute_result"
    }
   ],
   "source": [
    "enc"
   ]
  },
  {
   "cell_type": "markdown",
   "metadata": {},
   "source": [
    "## Q2 : histogramme"
   ]
  },
  {
   "cell_type": "code",
   "execution_count": 9,
   "metadata": {
    "collapsed": true
   },
   "outputs": [],
   "source": [
    "def histogram(texte):\n",
    "    d = {}\n",
    "    for c in texte:\n",
    "        d[c] = d.get(c, 0) + 1\n",
    "    return d"
   ]
  },
  {
   "cell_type": "code",
   "execution_count": 10,
   "metadata": {},
   "outputs": [
    {
     "data": {
      "text/plain": [
       "{' ': 11,\n",
       " 'a': 4,\n",
       " 'b': 3,\n",
       " 'c': 3,\n",
       " 'e': 7,\n",
       " 'f': 1,\n",
       " 'g': 1,\n",
       " 'h': 1,\n",
       " 'i': 1,\n",
       " 'm': 1,\n",
       " 'n': 6,\n",
       " 'o': 3,\n",
       " 'p': 1,\n",
       " 'r': 6,\n",
       " 's': 2,\n",
       " 't': 2,\n",
       " 'u': 5,\n",
       " '©': 1,\n",
       " 'Ã': 1}"
      ]
     },
     "execution_count": 11,
     "metadata": {},
     "output_type": "execute_result"
    }
   ],
   "source": [
    "histogram(lu)"
   ]
  },
  {
   "cell_type": "markdown",
   "metadata": {},
   "source": [
    "Le module [collections](https://docs.python.org/3/library/collections.html) propose un objet [Counter](https://docs.python.org/3/library/collections.html#collections.Counter) qui implémente ce calcul."
   ]
  },
  {
   "cell_type": "code",
   "execution_count": 11,
   "metadata": {},
   "outputs": [
    {
     "data": {
      "text/plain": [
       "Counter({' ': 11,\n",
       "         'a': 4,\n",
       "         'b': 3,\n",
       "         'c': 3,\n",
       "         'e': 7,\n",
       "         'f': 1,\n",
       "         'g': 1,\n",
       "         'h': 1,\n",
       "         'i': 1,\n",
       "         'm': 1,\n",
       "         'n': 6,\n",
       "         'o': 3,\n",
       "         'p': 1,\n",
       "         'r': 6,\n",
       "         's': 2,\n",
       "         't': 2,\n",
       "         'u': 5,\n",
       "         '©': 1,\n",
       "         'Ã': 1})"
      ]
     },
     "execution_count": 12,
     "metadata": {},
     "output_type": "execute_result"
    }
   ],
   "source": [
    "from collections import Counter\n",
    "\n",
    "\n",
    "def histogram2(texte):\n",
    "    return Counter(texte)\n",
    "\n",
    "\n",
    "histogram2(lu)"
   ]
  },
  {
   "cell_type": "markdown",
   "metadata": {},
   "source": [
    "Comme pour beaucoup de fonctions faisant partie des extensions du langage Python, elle est plus rapide que la version que nous pourrions implémenter."
   ]
  },
  {
   "cell_type": "code",
   "execution_count": 12,
   "metadata": {},
   "outputs": [
    {
     "name": "stdout",
     "output_type": "stream",
     "text": [
      "13.8 µs ± 1.17 µs per loop (mean ± std. dev. of 7 runs, 100000 loops each)\n"
     ]
    }
   ],
   "source": [
    "%timeit histogram(lu)"
   ]
  },
  {
   "cell_type": "code",
   "execution_count": 13,
   "metadata": {},
   "outputs": [
    {
     "name": "stdout",
     "output_type": "stream",
     "text": [
      "7.56 µs ± 546 ns per loop (mean ± std. dev. of 7 runs, 100000 loops each)\n"
     ]
    }
   ],
   "source": [
    "%timeit histogram2(lu)"
   ]
  },
  {
   "cell_type": "markdown",
   "metadata": {},
   "source": [
    "## Q3 : normalisation"
   ]
  },
  {
   "cell_type": "code",
   "execution_count": 14,
   "metadata": {},
   "outputs": [
    {
     "data": {
      "text/plain": [
       "{' ': 0.18333333333333332,\n",
       " 'a': 0.06666666666666667,\n",
       " 'b': 0.05,\n",
       " 'c': 0.05,\n",
       " 'e': 0.11666666666666667,\n",
       " 'f': 0.016666666666666666,\n",
       " 'g': 0.016666666666666666,\n",
       " 'h': 0.016666666666666666,\n",
       " 'i': 0.016666666666666666,\n",
       " 'm': 0.016666666666666666,\n",
       " 'n': 0.1,\n",
       " 'o': 0.05,\n",
       " 'p': 0.016666666666666666,\n",
       " 'r': 0.1,\n",
       " 's': 0.03333333333333333,\n",
       " 't': 0.03333333333333333,\n",
       " 'u': 0.08333333333333333,\n",
       " '©': 0.016666666666666666,\n",
       " 'Ã': 0.016666666666666666}"
      ]
     },
     "execution_count": 15,
     "metadata": {},
     "output_type": "execute_result"
    }
   ],
   "source": [
    "def normalize(hist):\n",
    "    s = sum(hist.values())\n",
    "    if s == 0:\n",
    "        return {}\n",
    "    else:\n",
    "        return {k: v / s for k, v in hist.items()}\n",
    "\n",
    "\n",
    "normalize(histogram2(lu))"
   ]
  },
  {
   "cell_type": "markdown",
   "metadata": {},
   "source": [
    "## Q4 : calcul\n",
    "\n",
    "On essaye avec la fréquence de la lettre ``H``. (données : [articles.zip](http://http://www.xavierdupre.fr/enseignement/complements/articles.zip))"
   ]
  },
  {
   "cell_type": "code",
   "execution_count": 15,
   "metadata": {},
   "outputs": [
    {
     "data": {
      "text/plain": [
       "{'afp1.txt': 0.0067247820672478205,\n",
       " 'afp2.txt': 0.007575757575757576,\n",
       " 'arthur_charpentier1.txt': 0.007012142979305627,\n",
       " 'arthur_charpentier2.txt': 0.02588801926550271,\n",
       " 'arthur_charpentier3.txt': 0.004853022739877981,\n",
       " 'blog1.txt': 0.010752688172043012,\n",
       " 'blog2.txt': 0.007556675062972292,\n",
       " 'blog3.txt': 0.010554089709762533,\n",
       " 'blogny1.txt': 0.029830508474576273,\n",
       " 'elpais1.txt': 0.01349112426035503,\n",
       " 'elpais2.txt': 0.005625270445694505,\n",
       " 'elpais3.txt': 0.005441436539246361,\n",
       " 'elpais4.txt': 0.00224408769204212,\n",
       " 'elpais5.txt': 0.009715025906735751,\n",
       " 'elpais6.txt': 0.0051919661155895615,\n",
       " 'elpais7.txt': 0.005625270445694505,\n",
       " 'inconnu1.txt': 0,\n",
       " 'inconnu2.txt': 0.00016849199663016007,\n",
       " 'lemonde1.txt': 0.010804020100502512,\n",
       " 'lemonde10.txt': 0.007139797229758675,\n",
       " 'lemonde11.txt': 0.0021551724137931034,\n",
       " 'lemonde2.txt': 0.0055272108843537416,\n",
       " 'lemonde3.txt': 0.0014691478942213516,\n",
       " 'lemonde4.txt': 0.004875076173065204,\n",
       " 'lemonde5.txt': 0.0044822949350067235,\n",
       " 'lemonde6.txt': 0.007034547444114429,\n",
       " 'lemonde7.txt': 0.0020463847203274215,\n",
       " 'lemonde8.txt': 0.0034299968818210166,\n",
       " 'lemonde9.txt': 0.008162299639202697,\n",
       " 'lequipe1.txt': 0.00572041473006793,\n",
       " 'lequipe2.txt': 0.005029013539651838,\n",
       " 'nytimes1.txt': 0.030130034887408817,\n",
       " 'nytimes2.txt': 0.031933508311461065,\n",
       " 'nytimes3.txt': 0.02547634339541854,\n",
       " 'nytimes4.txt': 0.03934426229508197,\n",
       " 'nytimes5.txt': 0.035542582417582416,\n",
       " 'nytimes6.txt': 0.030610255410411385,\n",
       " 'nytimes7.txt': 0.04194094414143314,\n",
       " 'nytimes8.txt': 0.03151779230210603,\n",
       " 'nytimes9.txt': 0.03840526700804682}"
      ]
     },
     "execution_count": 16,
     "metadata": {},
     "output_type": "execute_result"
    }
   ],
   "source": [
    "from teachpyx.tools.data_helper import download_and_unzip\n",
    "\n",
    "url = \"https://github.com/sdpython/teachpyx/raw/td/_data/articles.zip\"\n",
    "texts = download_data(url)\n",
    "\n",
    "h = {text: normalize(histogram2(read_file_enc(text)[1])).get(\"h\", 0) for text in texts}\n",
    "h"
   ]
  },
  {
   "cell_type": "markdown",
   "metadata": {},
   "source": [
    "On regarde les valeurs obtenus pour les articles du monde et du new-york time."
   ]
  },
  {
   "cell_type": "code",
   "execution_count": 16,
   "metadata": {},
   "outputs": [
    {
     "data": {
      "text/plain": [
       "<matplotlib.legend.Legend at 0x153646d5f28>"
      ]
     },
     "execution_count": 17,
     "metadata": {},
     "output_type": "execute_result"
    },
    {
     "data": {
      "image/png": "[encoded data removed]",
      "text/plain": [
       "<matplotlib.figure.Figure at 0x153643030b8>"
      ]
     },
     "metadata": {},
     "output_type": "display_data"
    }
   ],
   "source": [
    "import matplotlib.pyplot as plt\n",
    "\n",
    "lemonde = list(sorted(v for k, v in h.items() if \"lemonde\" in k))\n",
    "ny = list(sorted(v for k, v in h.items() if \"times\" in k))\n",
    "plt.plot(lemonde, label=\"lemonde\")\n",
    "plt.plot(ny, label=\"times\")\n",
    "plt.legend()"
   ]
  },
  {
   "cell_type": "markdown",
   "metadata": {},
   "source": [
    "Ca marche plutôt bien."
   ]
  },
  {
   "cell_type": "markdown",
   "metadata": {},
   "source": [
    "## Q5 : score\n",
    "\n",
    "On recommence avec deux lettres et on trace un nuage de points pour les articles des mêmes journaux."
   ]
  },
  {
   "cell_type": "code",
   "execution_count": 17,
   "metadata": {
    "collapsed": true
   },
   "outputs": [],
   "source": [
    "scores = {}\n",
    "for text in texts:\n",
    "    norm = normalize(histogram2(read_file_enc(text)[1]))\n",
    "    h, w = norm.get(\"h\", 0), norm.get(\"w\", 0)\n",
    "    scores[text] = (h, w)\n",
    "\n",
    "lem = [v for k, v in scores.items() if \"lemonde\" in k]\n",
    "ny = [v for k, v in scores.items() if \"times\" in k]"
   ]
  },
  {
   "cell_type": "code",
   "execution_count": 18,
   "metadata": {},
   "outputs": [
    {
     "data": {
      "text/plain": [
       "<matplotlib.legend.Legend at 0x15364cadb70>"
      ]
     },
     "execution_count": 19,
     "metadata": {},
     "output_type": "execute_result"
    },
    {
     "data": {
      "image/png": "[encoded data removed]",
      "text/plain": [
       "<matplotlib.figure.Figure at 0x15364bc5748>"
      ]
     },
     "metadata": {},
     "output_type": "display_data"
    }
   ],
   "source": [
    "plt.scatter(x=[_[0] for _ in lem], y=[_[1] for _ in lem], label=\"lemonde\")\n",
    "plt.scatter(x=[_[0] for _ in ny], y=[_[1] for _ in ny], label=\"times\")\n",
    "plt.xlabel(\"h\")\n",
    "plt.ylabel(\"w\")\n",
    "plt.legend()"
   ]
  },
  {
   "cell_type": "markdown",
   "metadata": {},
   "source": [
    "Les textes anglais et français apparaissent bien séparés. On place les autres."
   ]
  },
  {
   "cell_type": "code",
   "execution_count": 19,
   "metadata": {
    "collapsed": true
   },
   "outputs": [],
   "source": [
    "other = [v for k, v in scores.items() if \"times\" not in k and \"monde\" not in k]"
   ]
  },
  {
   "cell_type": "code",
   "execution_count": 20,
   "metadata": {},
   "outputs": [
    {
     "data": {
      "text/plain": [
       "<matplotlib.legend.Legend at 0x15364ed8c50>"
      ]
     },
     "execution_count": 21,
     "metadata": {},
     "output_type": "execute_result"
    },
    {
     "data": {
      "image/png": "[encoded data removed]",
      "text/plain": [
       "<matplotlib.figure.Figure at 0x15364c2cac8>"
      ]
     },
     "metadata": {},
     "output_type": "display_data"
    }
   ],
   "source": [
    "plt.scatter(x=[_[0] for _ in lem], y=[_[1] for _ in lem], label=\"lemonde\")\n",
    "plt.scatter(x=[_[0] for _ in ny], y=[_[1] for _ in ny], label=\"times\")\n",
    "plt.scatter(x=[_[0] for _ in other], y=[_[1] for _ in other], label=\"autres\", s=15)\n",
    "plt.xlabel(\"h\")\n",
    "plt.ylabel(\"w\")\n",
    "plt.legend()"
   ]
  },
  {
   "cell_type": "markdown",
   "metadata": {},
   "source": [
    "On ajoute le nom du texte sur le graphique."
   ]
  },
  {
   "cell_type": "code",
   "execution_count": 21,
   "metadata": {
    "collapsed": true
   },
   "outputs": [],
   "source": [
    "text_others = [k for k, v in scores.items() if \"times\" not in k and \"monde\" not in k]"
   ]
  },
  {
   "cell_type": "code",
   "execution_count": 22,
   "metadata": {},
   "outputs": [
    {
     "data": {
      "text/plain": [
       "<matplotlib.legend.Legend at 0x15366bb7d30>"
      ]
     },
     "execution_count": 23,
     "metadata": {},
     "output_type": "execute_result"
    },
    {
     "data": {
      "image/png": "[encoded data removed]",
      "text/plain": [
       "<matplotlib.figure.Figure at 0x153667dd668>"
      ]
     },
     "metadata": {},
     "output_type": "display_data"
    }
   ],
   "source": [
    "fig, ax = plt.subplots(1, 1, figsize=(10, 10))\n",
    "ax.scatter(x=[_[0] for _ in lem], y=[_[1] for _ in lem], label=\"lemonde\")\n",
    "ax.scatter(x=[_[0] for _ in ny], y=[_[1] for _ in ny], label=\"times\")\n",
    "ax.scatter(x=[_[0] for _ in other], y=[_[1] for _ in other], label=\"autres\", s=15)\n",
    "for (x, y), t in zip(other, text_others):\n",
    "    ax.text(x, y, t, ha=\"right\", rotation=-30, wrap=True)\n",
    "ax.set_xlabel(\"h\")\n",
    "ax.set_ylabel(\"w\")\n",
    "ax.legend()"
   ]
  },
  {
   "cell_type": "code",
   "execution_count": 23,
   "metadata": {
    "collapsed": true
   },
   "outputs": [],
   "source": []
  }
 ],
 "metadata": {
  "kernelspec": {
   "display_name": "Python 3",
   "language": "python",
   "name": "python3"
  },
  "language_info": {
   "codemirror_mode": {
    "name": "ipython",
    "version": 3
   },
   "file_extension": ".py",
   "mimetype": "text/x-python",
   "name": "python",
   "nbconvert_exporter": "python",
   "pygments_lexer": "ipython3",
   "version": "3.6.4"
  }
 },
 "nbformat": 4,
 "nbformat_minor": 2
}
