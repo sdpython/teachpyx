{
 "cells": [
  {
   "cell_type": "markdown",
   "metadata": {},
   "source": [
    "# Variables, boucles, tests\n",
    "\n",
    "Répétitions de code, exécuter une partie plutôt qu'une autre."
   ]
  },
  {
   "cell_type": "markdown",
   "metadata": {},
   "source": [
    "## Partie 1 : variables, int, float, str, list"
   ]
  },
  {
   "cell_type": "markdown",
   "metadata": {},
   "source": [
    "Un algorithme manipule des données. Ces données ne sont pas connues au moment où on écrit l'algorithme. Les variables servent à nommer ces données afin de pouvoir écrire cet algorithme. On procède la plupart du temps dans l'ordre suivant :\n",
    "\n",
    "* On écrit l'algorithme.\n",
    "* On affecte des valeurs aux variables.\n",
    "* On exécute l'algorithme.\n",
    "\n",
    "Quelques exemples à essayer autour des variables :"
   ]
  },
  {
   "cell_type": "code",
   "execution_count": 1,
   "metadata": {},
   "outputs": [
    {
     "data": {
      "text/plain": [
       "(3, 3.3, 'exemple', None, ' exemple sur\\nplusieurs lignes')"
      ]
     },
     "execution_count": 1,
     "metadata": {},
     "output_type": "execute_result"
    }
   ],
   "source": [
    "i = 3  # entier = type numérique (type int)\n",
    "r = 3.3  # réel   = type numérique (type float)\n",
    "s = \"exemple\"  # chaîne de caractères = type str (exemple n'est pas une variable)\n",
    "s = \"exemple\"  # \" et ' peuvent être utilisées pour définir une chaîne de caractères\n",
    "sl = \"\"\" exemple sur\n",
    "plusieurs lignes\"\"\"  # on peut définir une chaîne sur plusieurs lignes avec \"\"\" ou '''\n",
    "n = None  # None signifie que la variable existe mais qu'elle ne contient rien\n",
    "# elle est souvent utilisée pour signifier qu'il n'y a pas de résultat\n",
    "# car... une erreur s'est produite, il n'y a pas de résultat\n",
    "# (racine carrée de -1 par exemple)\n",
    "\n",
    "i, r, s, n, sl  # avec les notebooks, le dernier print n'est pas nécessaire, il suffit d'écrire\n",
    "# i,r,s,n"
   ]
  },
  {
   "cell_type": "code",
   "execution_count": 2,
   "metadata": {},
   "outputs": [
    {
     "name": "stdout",
     "output_type": "stream",
     "text": [
      "anything\n"
     ]
    },
    {
     "data": {
      "text/plain": [
       "(5, 6)"
      ]
     },
     "execution_count": 2,
     "metadata": {},
     "output_type": "execute_result"
    }
   ],
   "source": [
    "v = \"anything\"  # affectation\n",
    "print(v)  # affichage\n",
    "v1, v2 = 5, 6  # double affectation\n",
    "v1, v2"
   ]
  },
  {
   "cell_type": "markdown",
   "metadata": {},
   "source": [
    "Par défaut, le notebook affiche le résultat présent sur la dernière ligne de la cellule. S'il on souhaite en afficher plusieurs, il faut utiliser la fonction [print](https://docs.python.org/3/library/functions.html?highlight=print#print)."
   ]
  },
  {
   "cell_type": "code",
   "execution_count": 3,
   "metadata": {},
   "outputs": [
    {
     "name": "stdout",
     "output_type": "stream",
     "text": [
      "3\n"
     ]
    },
    {
     "data": {
      "text/plain": [
       "15"
      ]
     },
     "execution_count": 3,
     "metadata": {},
     "output_type": "execute_result"
    }
   ],
   "source": [
    "x = 3\n",
    "print(x)\n",
    "y = 5 * x\n",
    "y"
   ]
  },
  {
   "cell_type": "code",
   "execution_count": 30,
   "metadata": {},
   "outputs": [
    {
     "data": {
      "text/plain": [
       "'addition de 4 et 5 donne : 4 + 5 = 9'"
      ]
     },
     "execution_count": 30,
     "metadata": {},
     "output_type": "execute_result"
    }
   ],
   "source": [
    "x, y = 4, 5\n",
    "s = \"addition\"\n",
    "\"{3} de {0} et {1} donne : {0} + {1} = {2}\".format(x, y, x + y, s)"
   ]
  },
  {
   "cell_type": "markdown",
   "metadata": {},
   "source": [
    "La dernière écriture permet d'assembler différentes valeurs en une seule chaînes de caractères. C'est très pratique lorsqu'on veut répéter le même assemblage un grand nombre de fois. Ce mécanisme ressemble à celui des lettres type : c'est un texte à trou qu'on remplit avec des valeurs différentes à chaque fois. Les dernières versions de python propose maintenant la syntaxe suivante plus lisible :"
   ]
  },
  {
   "cell_type": "code",
   "execution_count": 31,
   "metadata": {},
   "outputs": [
    {
     "data": {
      "text/plain": [
       "'addition de 4 et 5 donne : 4 + 5 = 9'"
      ]
     },
     "execution_count": 31,
     "metadata": {},
     "output_type": "execute_result"
    }
   ],
   "source": [
    "f\"{s} de {x} et {y} donne : {x} + {y} = {x + y}\""
   ]
  },
  {
   "cell_type": "code",
   "execution_count": 32,
   "metadata": {},
   "outputs": [
    {
     "name": "stdout",
     "output_type": "stream",
     "text": [
      "Monsieur xavier, vous avez gagné...\n",
      "Monsieur sloane, vous avez gagné...\n"
     ]
    }
   ],
   "source": [
    "for prenom in [\"xavier\", \"sloane\"]:\n",
    "    print(f\"Monsieur {prenom}, vous avez gagné...\")"
   ]
  },
  {
   "cell_type": "markdown",
   "metadata": {},
   "source": [
    "**Type d'une variable :**"
   ]
  },
  {
   "cell_type": "code",
   "execution_count": 6,
   "metadata": {},
   "outputs": [
    {
     "name": "stdout",
     "output_type": "stream",
     "text": [
      "<class 'str'>\n",
      "True\n"
     ]
    }
   ],
   "source": [
    "print(type(v))  # affiche le type d'une variable\n",
    "print(isinstance(v, str))  # pour déterminer si v est de type str"
   ]
  },
  {
   "cell_type": "markdown",
   "metadata": {},
   "source": [
    "**Les tableaux ou listes (list) :**"
   ]
  },
  {
   "cell_type": "code",
   "execution_count": 7,
   "metadata": {},
   "outputs": [
    {
     "data": {
      "text/plain": [
       "((4, 5), [4, 5, 6.5], 4, 5, [])"
      ]
     },
     "execution_count": 7,
     "metadata": {},
     "output_type": "execute_result"
    }
   ],
   "source": [
    "c = (4, 5)  # couple de valeurs (ou tuple)\n",
    "l = [4, 5, 6.5]  # listes de valeurs ou tableaux\n",
    "x = l[0]  # obtention du premier élément de la liste l\n",
    "y = c[1]  # obtention du second élément\n",
    "le = []  # un tableau vide\n",
    "c, l, x, y, le"
   ]
  },
  {
   "cell_type": "code",
   "execution_count": 8,
   "metadata": {},
   "outputs": [
    {
     "name": "stdout",
     "output_type": "stream",
     "text": [
      "[4, 8, 5, 6, 7]\n"
     ]
    },
    {
     "data": {
      "text/plain": [
       "[6, 7]"
      ]
     },
     "execution_count": 8,
     "metadata": {},
     "output_type": "execute_result"
    }
   ],
   "source": [
    "l = [4, 5]\n",
    "l += [6]  # ajouter un élément\n",
    "l.append(7)  # ajouter un élément\n",
    "l.insert(1, 8)  # insérer un élément en seconde position\n",
    "print(l)\n",
    "del l[0]  # supprimer un élément\n",
    "del l[0:2]  # supprimer les deux premiers éléments\n",
    "l"
   ]
  },
  {
   "cell_type": "markdown",
   "metadata": {},
   "source": [
    "**Longueur d'une liste et autres :**"
   ]
  },
  {
   "cell_type": "code",
   "execution_count": 9,
   "metadata": {},
   "outputs": [
    {
     "name": "stdout",
     "output_type": "stream",
     "text": [
      "3\n",
      "6\n"
     ]
    },
    {
     "data": {
      "text/plain": [
       "[4, 5, 6, 4, 4, 5, 6]"
      ]
     },
     "execution_count": 9,
     "metadata": {},
     "output_type": "execute_result"
    }
   ],
   "source": [
    "l = [4, 5, 6]\n",
    "print(len(l))  # affiche la longueur du tableau\n",
    "print(max(l))  # affiche le plus grand élément\n",
    "s = l * 3  # création de la liste [ 4, 5, 6, 4, 5, 6, 4, 5, 6 ]\n",
    "t = s[4:7]  # extraction de la sous-liste de la position 4 à 7 exclu\n",
    "s[4:7] = [4]  # remplacement de cette liste par [ 4 ]\n",
    "s"
   ]
  },
  {
   "cell_type": "markdown",
   "metadata": {},
   "source": [
    "Type **mutable** et **immutable** (voir aussi [Qu'est-ce qu'un type immuable ou immutable ?](https://sdpython.github.io/doc/teachpyx/dev/api/faqs.html#indexfaqref-python11)) : une liste est un type **mutable**. Cela veut dire que par défaut, l'instruction ``list1=list2`` ne recopie pas la liste, elle lui donne un autre nom qui peut être utilisé en même temps que le premier."
   ]
  },
  {
   "cell_type": "code",
   "execution_count": 10,
   "metadata": {},
   "outputs": [
    {
     "data": {
      "text/plain": [
       "([-1, 1, 2], [-1, 1, 2])"
      ]
     },
     "execution_count": 10,
     "metadata": {},
     "output_type": "execute_result"
    }
   ],
   "source": [
    "l1 = [0, 1, 2]\n",
    "l2 = l1\n",
    "l2[0] = -1\n",
    "l1, l2"
   ]
  },
  {
   "cell_type": "markdown",
   "metadata": {},
   "source": [
    "Les deux listes sont en apparence modifiées. En fait, il n'y en a qu'une. Pour créer une copie, il faut explicitement demander une copie."
   ]
  },
  {
   "cell_type": "code",
   "execution_count": 11,
   "metadata": {},
   "outputs": [
    {
     "data": {
      "text/plain": [
       "([0, 1, 2], [-1, 1, 2])"
      ]
     },
     "execution_count": 11,
     "metadata": {},
     "output_type": "execute_result"
    }
   ],
   "source": [
    "l1 = [0, 1, 2]\n",
    "l2 = list(l1)\n",
    "l2[0] = -1\n",
    "l1, l2"
   ]
  },
  {
   "cell_type": "markdown",
   "metadata": {},
   "source": [
    "C'est un point très important du langage qu'il ne faut pas oublier. On retrouve cette convention dans la plupart des [langages interprétés](http://en.wikipedia.org/wiki/Interpreted_language) car faire une copie alourdit le temps d'exécution."
   ]
  },
  {
   "cell_type": "markdown",
   "metadata": {},
   "source": [
    "## Partie 2 : Tests\n",
    "\n",
    "Les tests permettent de faire un choix : selon la valeur d'une condition, on fait soit une séquence d'instructions soit une autre."
   ]
  },
  {
   "cell_type": "code",
   "execution_count": 12,
   "metadata": {},
   "outputs": [
    {
     "name": "stdout",
     "output_type": "stream",
     "text": [
      "v est égal à 2\n"
     ]
    }
   ],
   "source": [
    "v = 2\n",
    "if v == 2:\n",
    "    print(\"v est égal à 2\")\n",
    "else:\n",
    "    print(\"v n'est pas égal à 2\")"
   ]
  },
  {
   "cell_type": "markdown",
   "metadata": {},
   "source": [
    "La clause ``else`` n'est obligatoire :"
   ]
  },
  {
   "cell_type": "code",
   "execution_count": 13,
   "metadata": {},
   "outputs": [
    {
     "name": "stdout",
     "output_type": "stream",
     "text": [
      "v est égal à 2\n"
     ]
    }
   ],
   "source": [
    "v = 2\n",
    "if v == 2:\n",
    "    print(\"v est égal à 2\")"
   ]
  },
  {
   "cell_type": "markdown",
   "metadata": {},
   "source": [
    "Plusieurs tests enchaînés :"
   ]
  },
  {
   "cell_type": "code",
   "execution_count": 14,
   "metadata": {},
   "outputs": [
    {
     "name": "stdout",
     "output_type": "stream",
     "text": [
      "v est égal à 2\n"
     ]
    }
   ],
   "source": [
    "v = 2\n",
    "if v == 2:\n",
    "    print(\"v est égal à 2\")\n",
    "elif v > 2:\n",
    "    print(\"v est supérieur à 2\")\n",
    "else:\n",
    "    print(\"v est inférieur à 2\")"
   ]
  },
  {
   "cell_type": "markdown",
   "metadata": {},
   "source": [
    "## Partie 3 : boucles"
   ]
  },
  {
   "cell_type": "markdown",
   "metadata": {},
   "source": [
    "Les boucles permettent de répéter un nombre fini ou infini de fois la même séquence d'instructions.\n",
    "Quelques exemples à essayer autour des boucles :"
   ]
  },
  {
   "cell_type": "code",
   "execution_count": 15,
   "metadata": {},
   "outputs": [
    {
     "name": "stdout",
     "output_type": "stream",
     "text": [
      "dedans 0\n",
      "dedans 1\n",
      "dedans 2\n",
      "dedans 3\n",
      "dedans 4\n",
      "dedans 5\n",
      "dedans 6\n",
      "dedans 7\n",
      "dedans 8\n",
      "dedans 9\n"
     ]
    },
    {
     "data": {
      "text/plain": [
       "('dehors', 9)"
      ]
     },
     "execution_count": 15,
     "metadata": {},
     "output_type": "execute_result"
    }
   ],
   "source": [
    "for i in range(0, 10):  # on répète 10 fois\n",
    "    print(\"dedans\", i)  # l'affichage de i\n",
    "    # ici, on est dans la boucle\n",
    "# ici, on n'est plus dans la boucle\n",
    "\"dehors\", i  # on ne passe par 10"
   ]
  },
  {
   "cell_type": "markdown",
   "metadata": {},
   "source": [
    "**Boucle while :**"
   ]
  },
  {
   "cell_type": "code",
   "execution_count": 16,
   "metadata": {},
   "outputs": [
    {
     "name": "stdout",
     "output_type": "stream",
     "text": [
      "0\n",
      "1\n",
      "2\n",
      "3\n",
      "4\n",
      "5\n",
      "6\n",
      "7\n",
      "8\n",
      "9\n"
     ]
    }
   ],
   "source": [
    "i = 0\n",
    "while i < 10:\n",
    "    print(i)\n",
    "    i += 1"
   ]
  },
  {
   "cell_type": "markdown",
   "metadata": {},
   "source": [
    "**Interrompre une boucle :**"
   ]
  },
  {
   "cell_type": "code",
   "execution_count": 17,
   "metadata": {},
   "outputs": [
    {
     "name": "stdout",
     "output_type": "stream",
     "text": [
      "0\n",
      "1\n",
      "3\n",
      "4\n",
      "5\n",
      "6\n"
     ]
    }
   ],
   "source": [
    "for i in range(0, 10):\n",
    "    if i == 2:\n",
    "        continue  # on passe directement au suivant\n",
    "    print(i)\n",
    "    if i > 5:\n",
    "        break  # interruption définitive"
   ]
  },
  {
   "cell_type": "markdown",
   "metadata": {},
   "source": [
    "**Parcours d'une liste :** observer les différences entre les trois écritures"
   ]
  },
  {
   "cell_type": "code",
   "execution_count": 18,
   "metadata": {},
   "outputs": [
    {
     "name": "stdout",
     "output_type": "stream",
     "text": [
      "élément  0 = 5\n",
      "élément  1 = 3\n",
      "élément  2 = 5\n",
      "élément  3 = 7\n"
     ]
    }
   ],
   "source": [
    "l = [5, 3, 5, 7]\n",
    "for i in range(0, len(l)):\n",
    "    print(\"élément \", i, \"=\", l[i])"
   ]
  },
  {
   "cell_type": "code",
   "execution_count": 19,
   "metadata": {},
   "outputs": [
    {
     "name": "stdout",
     "output_type": "stream",
     "text": [
      "élément  5\n",
      "élément  3\n",
      "élément  5\n",
      "élément  7\n"
     ]
    }
   ],
   "source": [
    "l = [5, 3, 5, 7]\n",
    "for v in l:\n",
    "    print(\"élément \", v)"
   ]
  },
  {
   "cell_type": "code",
   "execution_count": 20,
   "metadata": {},
   "outputs": [
    {
     "name": "stdout",
     "output_type": "stream",
     "text": [
      "élément  0 = 5\n",
      "élément  1 = 3\n",
      "élément  2 = 5\n",
      "élément  3 = 7\n"
     ]
    }
   ],
   "source": [
    "l = [5, 3, 5, 7]\n",
    "for i, v in enumerate(l):\n",
    "    print(\"élément \", i, \"=\", v)"
   ]
  },
  {
   "cell_type": "markdown",
   "metadata": {},
   "source": [
    "**Que fait le programme suivant ?**"
   ]
  },
  {
   "cell_type": "code",
   "execution_count": 21,
   "metadata": {},
   "outputs": [
    {
     "name": "stdout",
     "output_type": "stream",
     "text": [
      "4\n",
      "1\n",
      "3\n",
      "2\n"
     ]
    }
   ],
   "source": [
    "l = [4, 3, 0, 2, 1]\n",
    "i = 0\n",
    "while l[i] != 0:\n",
    "    i = l[i]\n",
    "    print(i)  # que vaut l[i] à la fin ?"
   ]
  },
  {
   "cell_type": "markdown",
   "metadata": {},
   "source": [
    "## Partie 4 : les listes compactes, les ensembles\n",
    "\n",
    "Plutôt que d'écrire :"
   ]
  },
  {
   "cell_type": "code",
   "execution_count": 22,
   "metadata": {},
   "outputs": [
    {
     "data": {
      "text/plain": [
       "[1, 3, 5, 7, 9, 11, 13, 15, 17, 19]"
      ]
     },
     "execution_count": 22,
     "metadata": {},
     "output_type": "execute_result"
    }
   ],
   "source": [
    "l = []\n",
    "for i in range(10):\n",
    "    l.append(i * 2 + 1)\n",
    "l"
   ]
  },
  {
   "cell_type": "markdown",
   "metadata": {},
   "source": [
    "On peut écrire :"
   ]
  },
  {
   "cell_type": "code",
   "execution_count": 23,
   "metadata": {},
   "outputs": [
    {
     "data": {
      "text/plain": [
       "[1, 3, 5, 7, 9, 11, 13, 15, 17, 19]"
      ]
     },
     "execution_count": 23,
     "metadata": {},
     "output_type": "execute_result"
    }
   ],
   "source": [
    "l = [i * 2 + 1 for i in range(10)]\n",
    "l"
   ]
  },
  {
   "cell_type": "markdown",
   "metadata": {},
   "source": [
    "Quelques examples à essayer :"
   ]
  },
  {
   "cell_type": "code",
   "execution_count": 24,
   "metadata": {},
   "outputs": [
    {
     "data": {
      "text/plain": [
       "[0, 2, 4, 6, 8, 10, 12, 14, 16, 18]"
      ]
     },
     "execution_count": 24,
     "metadata": {},
     "output_type": "execute_result"
    }
   ],
   "source": [
    "l = [i * 2 for i in range(0, 10)]\n",
    "l  # qu'affiche l ?"
   ]
  },
  {
   "cell_type": "code",
   "execution_count": 25,
   "metadata": {},
   "outputs": [
    {
     "data": {
      "text/plain": [
       "[0, 4, 8, 12, 16]"
      ]
     },
     "execution_count": 25,
     "metadata": {},
     "output_type": "execute_result"
    }
   ],
   "source": [
    "l = [i * 2 for i in range(0, 10) if i % 2 == 0]\n",
    "l  # qu'affiche l ?"
   ]
  },
  {
   "cell_type": "markdown",
   "metadata": {},
   "source": [
    "Les ensembles ou **set** sont des listes pour lesqueelles les éléments sont uniques. Si deux nombres nombres *int* et *float* sont égaux, seul le premier sera conservé."
   ]
  },
  {
   "cell_type": "code",
   "execution_count": 33,
   "metadata": {},
   "outputs": [
    {
     "data": {
      "text/plain": [
       "{4, 5, 6, 7, 9, 'a', 'b', 'c'}"
      ]
     },
     "execution_count": 33,
     "metadata": {},
     "output_type": "execute_result"
    }
   ],
   "source": [
    "li = [\"a\", \"b\", \"c\", \"a\", 9, 4, 5, 6, 7, 4, 5, 9.0]\n",
    "s = set(li)\n",
    "s"
   ]
  },
  {
   "cell_type": "markdown",
   "metadata": {},
   "source": [
    "## Partie 5 : recherche non dichotomique (exercice)\n",
    "\n",
    "On veut écrire quelques instructions pour trouver la position du nombre ``x = 7`` dans la liste ``l``. Il faut compléter le programme suivant en utilisant une boucle et un test."
   ]
  },
  {
   "cell_type": "code",
   "execution_count": 34,
   "metadata": {
    "collapsed": true
   },
   "outputs": [],
   "source": [
    "li = [3, 6, 2, 7, 9]\n",
    "x = 7\n",
    "\n",
    "# ......\n",
    "\n",
    "# print(position)"
   ]
  },
  {
   "cell_type": "markdown",
   "metadata": {},
   "source": [
    "## Partie 6 : Recherche dichotomique"
   ]
  },
  {
   "cell_type": "markdown",
   "metadata": {},
   "source": [
    "La [recherche dichotomique](http://fr.wikipedia.org/wiki/Dichotomie) consiste à chercher un élément ``e`` dans un tableau trié ``l``. On cherche sa position :\n",
    "\n",
    "* On commence par comparer ``e`` à l'élément placé au milieu du tableau d'indice ``m``, s'ils sont égaux, on a trouvé,\n",
    "* s'il est inférieur, on sait qu'il se trouve entre les indices 0 et ``m-1``,\n",
    "* s'il est supérieur, on sait qu'il se trouve entre les indices ``m+1`` et la fin du tableau.\n",
    "\n",
    "Avec une comparaison, on a déjà éliminé une moitié de tableau dans laquelle on sait que ``p`` ne se trouve pas. On applique le même raisonnement à l'autre moitié pour réduire la partie du tableau dans laquelle on doit chercher."
   ]
  },
  {
   "cell_type": "code",
   "execution_count": null,
   "metadata": {
    "collapsed": true
   },
   "outputs": [],
   "source": [
    "l = sorted([4, 7, -1, 3, 9, 5, -5])\n",
    "\n",
    "# recherche dichotomique\n",
    "# la position retournée est correspond à celle de l'élément dans le tableau trié"
   ]
  },
  {
   "cell_type": "markdown",
   "metadata": {},
   "source": [
    "## Partie 7 : pour aller plus loin\n",
    "    \n",
    "* Que fait la fonction écrite à la question précédente lorsque l'élément ne se trouve pas dans le tableau ?\n",
    "* Comparer le coût d'une recherche classique et celui d'une recherche dichotomique. On appelle coût d'un algorithme le nombre d'opérations qu'il faut pour atteindre le résultats. Dans ce cas, ce coût correspond au nombre d'itérations, c'est-à-dire le nombre de passage dans la boucle. Comme ce coût dépend des données en entrée, on experime généralement ce coût en fonction de la taille des données."
   ]
  },
  {
   "cell_type": "code",
   "execution_count": null,
   "metadata": {
    "collapsed": true
   },
   "outputs": [],
   "source": []
  }
 ],
 "metadata": {
  "kernelspec": {
   "display_name": "Python 3",
   "language": "python",
   "name": "python3"
  },
  "language_info": {
   "codemirror_mode": {
    "name": "ipython",
    "version": 3
   },
   "file_extension": ".py",
   "mimetype": "text/x-python",
   "name": "python",
   "nbconvert_exporter": "python",
   "pygments_lexer": "ipython3",
   "version": "3.10.12"
  }
 },
 "nbformat": 4,
 "nbformat_minor": 1
}
