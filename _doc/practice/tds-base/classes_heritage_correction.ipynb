{
 "cells": [
  {
   "cell_type": "markdown",
   "metadata": {},
   "source": [
    "# Classes, héritage (correction)\n",
    "\n",
    "Correction."
   ]
  },
  {
   "cell_type": "markdown",
   "metadata": {},
   "source": [
    "### Exercice 1 : pièce normale"
   ]
  },
  {
   "cell_type": "code",
   "execution_count": 1,
   "metadata": {},
   "outputs": [
    {
     "name": "stdout",
     "output_type": "stream",
     "text": [
      "0.57\n"
     ]
    }
   ],
   "source": [
    "import random\n",
    "\n",
    "\n",
    "class Piece:\n",
    "    def tirage_aleatoire(self, precedent):\n",
    "        return random.randint(0, 1)\n",
    "\n",
    "    def moyenne_tirage(self, n):\n",
    "        tirage = []\n",
    "        for i in range(n):\n",
    "            precedent = tirage[-1] if i > 0 else None\n",
    "            tirage.append(self.tirage_aleatoire(precedent))\n",
    "        s = sum(tirage)\n",
    "        return s * 1.0 / len(tirage)\n",
    "\n",
    "\n",
    "p = Piece()\n",
    "print(p.moyenne_tirage(100))"
   ]
  },
  {
   "cell_type": "markdown",
   "metadata": {},
   "source": [
    "### Exercice 2 : pièce truquée"
   ]
  },
  {
   "cell_type": "code",
   "execution_count": 2,
   "metadata": {},
   "outputs": [
    {
     "name": "stdout",
     "output_type": "stream",
     "text": [
      "0.59\n"
     ]
    }
   ],
   "source": [
    "class PieceTruquee(Piece):\n",
    "    def tirage_aleatoire(self, precedent):\n",
    "        if precedent == None or precedent == 1:\n",
    "            return random.randint(0, 1)\n",
    "        else:\n",
    "            return 1 if random.randint(0, 9) >= 3 else 0\n",
    "\n",
    "\n",
    "p = PieceTruquee()\n",
    "print(p.moyenne_tirage(100))"
   ]
  },
  {
   "cell_type": "markdown",
   "metadata": {},
   "source": [
    "### Exercice 3 : Pièce mixte"
   ]
  },
  {
   "cell_type": "code",
   "execution_count": 3,
   "metadata": {},
   "outputs": [
    {
     "name": "stdout",
     "output_type": "stream",
     "text": [
      "0.59\n"
     ]
    }
   ],
   "source": [
    "class PieceTruqueeMix(PieceTruquee):\n",
    "    def tirage_aleatoire(self, precedent):\n",
    "        if random.randint(0, 1) == 0:\n",
    "            return Piece.tirage_aleatoire(self, precedent)\n",
    "        else:\n",
    "            return PieceTruquee.tirage_aleatoire(self, precedent)\n",
    "\n",
    "\n",
    "p = PieceTruqueeMix()\n",
    "print(p.moyenne_tirage(100))"
   ]
  },
  {
   "cell_type": "markdown",
   "metadata": {},
   "source": [
    "### Exercice 4 : pièce mixte avec des fonctions"
   ]
  },
  {
   "cell_type": "code",
   "execution_count": 4,
   "metadata": {},
   "outputs": [
    {
     "name": "stdout",
     "output_type": "stream",
     "text": [
      "0.6\n"
     ]
    }
   ],
   "source": [
    "# ce qui vient de l'énoncé\n",
    "def moyenne_tirage(n, fonction):\n",
    "    \"\"\"\n",
    "    cette fonction fait la moyenne des résultats produits par la fonction passée en argument\n",
    "    \"\"\"\n",
    "    tirage = []\n",
    "    for i in range(n):\n",
    "        precedent = tirage[-1] if i > 0 else None\n",
    "        tirage.append(fonction(precedent))\n",
    "    s = sum(tirage)\n",
    "    return s * 1.0 / len(tirage)\n",
    "\n",
    "\n",
    "def truquee(precedent):\n",
    "    if precedent == None or precedent == 1:\n",
    "        return random.randint(0, 1)\n",
    "    else:\n",
    "        return 1 if random.randint(0, 9) >= 3 else 0\n",
    "\n",
    "\n",
    "# la partie ajoutée pour la correction\n",
    "print(\n",
    "    moyenne_tirage(\n",
    "        100, lambda v: random.randint(0, 1) if random.randint(0, 1) == 0 else truquee(v)\n",
    "    )\n",
    ")"
   ]
  }
 ],
 "metadata": {
  "kernelspec": {
   "display_name": "Python 3",
   "language": "python",
   "name": "python3"
  },
  "language_info": {
   "codemirror_mode": {
    "name": "ipython",
    "version": 3
   },
   "file_extension": ".py",
   "mimetype": "text/x-python",
   "name": "python",
   "nbconvert_exporter": "python",
   "pygments_lexer": "ipython3",
   "version": "3.10.12"
  }
 },
 "nbformat": 4,
 "nbformat_minor": 1
}