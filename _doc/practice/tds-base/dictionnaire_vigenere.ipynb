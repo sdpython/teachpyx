{
 "cells": [
  {
   "cell_type": "markdown",
   "metadata": {},
   "source": [
    "# Dictionnaires, fonctions, code de Vigenère\n",
    "\n",
    "Le dictionnaire est une structure de données très utilisée. Elle est illustrée pour un problème de décryptage."
   ]
  },
  {
   "cell_type": "markdown",
   "metadata": {},
   "source": [
    "### Fonctions"
   ]
  },
  {
   "cell_type": "markdown",
   "metadata": {},
   "source": [
    "Les fonctions sont des portions de programmes qui reproduisent les mêmes instructions. La fonction suivante calcule un polynôme de second degré $x^2+x-5$. A chaque fois qu'on appellera la fonction ``polynome``, elle fera le même calcul sur des ``x`` différents. Cela évite principalement d'avoir à recopier les mêmes lignes à chaque fois qu'on en a besoin."
   ]
  },
  {
   "cell_type": "code",
   "execution_count": 18,
   "metadata": {
    "collapsed": true
   },
   "outputs": [],
   "source": [
    "def polynome(x):\n",
    "    x2 = x * x\n",
    "    return x2 + x - 5"
   ]
  },
  {
   "cell_type": "markdown",
   "metadata": {},
   "source": [
    "Une fonction commence toujours par ``def``. Entre parenthèses, ce sont les paramètres (ou entrées de la fonction). Ce qui suit le mot-clé ``return`` est le résultat de la fonction (ou sa sortie). Parmi les fonctions, il y a celles qui existent déjà et celles que vous écrivez. La fonction ``cos`` existe déjà : elle fait un calcul qu'il n'est pas besoin de réécrire. La fonction ``polynome`` décrite plus haut n'existait pas avant de l'avoir définie. On distingue la définition d'une fonction :"
   ]
  },
  {
   "cell_type": "code",
   "execution_count": 19,
   "metadata": {
    "collapsed": true
   },
   "outputs": [],
   "source": [
    "def polynome(x, coefficient):\n",
    "    return sum([x**i * c for i, c in enumerate(coefficient)])"
   ]
  },
  {
   "cell_type": "markdown",
   "metadata": {},
   "source": [
    "De son utilisation ou appel :"
   ]
  },
  {
   "cell_type": "code",
   "execution_count": 20,
   "metadata": {},
   "outputs": [
    {
     "data": {
      "text/plain": [
       "1.96"
      ]
     },
     "execution_count": 20,
     "metadata": {},
     "output_type": "execute_result"
    }
   ],
   "source": [
    "y = polynome(1.2, [1, 2, -1])  # calcul de -x^2 + 2x + 1 pour x = 1.2\n",
    "y"
   ]
  },
  {
   "cell_type": "markdown",
   "metadata": {},
   "source": [
    "On peut appeler une fonction depuis une autre fonction. Une fonction peut prendre autant de paramètres que l'on veut à condition qu'ils aient des noms différents. On peut aussi leur associer une **valeur par défaut** :"
   ]
  },
  {
   "cell_type": "code",
   "execution_count": 21,
   "metadata": {},
   "outputs": [
    {
     "data": {
      "text/plain": [
       "(2.9999999999999996, 9.965784284662087)"
      ]
     },
     "execution_count": 21,
     "metadata": {},
     "output_type": "execute_result"
    }
   ],
   "source": [
    "from math import log  # on importe une fonction existante\n",
    "\n",
    "\n",
    "def log_base(x, base=10):\n",
    "    return log(x) / log(base)\n",
    "\n",
    "\n",
    "y = log_base(1000)  # identique à y = log_base (1000, 10)\n",
    "z = log_base(1000, 2)  # logarithme en base deux\n",
    "y, z"
   ]
  },
  {
   "cell_type": "markdown",
   "metadata": {},
   "source": [
    "Les fonctions doivent porter des noms différents. Dans le cas contraire, seule la dernière existe."
   ]
  },
  {
   "cell_type": "code",
   "execution_count": 22,
   "metadata": {},
   "outputs": [],
   "source": [
    "def polynome(x):  # remplacée par la seconde fonction\n",
    "    return x * x + x - 5\n",
    "\n",
    "\n",
    "def polynome(x, coefficient):\n",
    "    return sum([x**i * c for i, c in enumerate(coefficient)])\n",
    "\n",
    "\n",
    "# y = polynome(4)  # déclenche une exception"
   ]
  },
  {
   "cell_type": "markdown",
   "metadata": {},
   "source": [
    "### Exercice 1\n",
    "\n",
    "Les fonctions [chr](https://docs.python.org/3.4/library/functions.html#chr) et [ord](https://docs.python.org/3.4/library/functions.html#ord) sont symétriques l'une de l'autre : elles convertissent un nombre en lettre et réciproquement."
   ]
  },
  {
   "cell_type": "code",
   "execution_count": 23,
   "metadata": {},
   "outputs": [
    {
     "name": "stdout",
     "output_type": "stream",
     "text": [
      "A a\n",
      "66 98\n"
     ]
    }
   ],
   "source": [
    "print(chr(65), chr(97))\n",
    "print(ord(\"B\"), ord(\"b\"))"
   ]
  },
  {
   "cell_type": "markdown",
   "metadata": {},
   "source": [
    "Le symbol ``%`` permet d'obtenir le reste d'une division entière. L'exercice consiste à écrire une fonction qui retourne la lettre suivante dans l'ordre alphabétique. La lettre qui suit ``z`` est ``a``."
   ]
  },
  {
   "cell_type": "code",
   "execution_count": 24,
   "metadata": {
    "collapsed": true
   },
   "outputs": [],
   "source": [
    "def lettre_suivante(lettre):\n",
    "    \"à compléter\"\n",
    "    # ......\n",
    "    # return ...."
   ]
  },
  {
   "cell_type": "markdown",
   "metadata": {},
   "source": [
    "### Fonctions dans le détail"
   ]
  },
  {
   "cell_type": "markdown",
   "metadata": {},
   "source": [
    "#### Variable locale\n",
    "\n",
    "**Une variable créée à l'intérieur d'une fonction n'existe pas à l'extérieur : c'est une variable locale.** C'est pourquoi le code suivant provoque une erreur car la variable ``z`` n'existe pas en dehors de la fonction ``calcul``. Les variables ``y`` ou ``z`` ne servent que d'intermédiaire de calcul. Le seul résultat qui sort de la fonction suit le mot-clé ``return``."
   ]
  },
  {
   "cell_type": "code",
   "execution_count": 25,
   "metadata": {},
   "outputs": [],
   "source": [
    "def calcul(x):\n",
    "    y = x**2\n",
    "    z = x + y\n",
    "    return z\n",
    "\n",
    "\n",
    "# print(z)  # déclenche une exception"
   ]
  },
  {
   "cell_type": "markdown",
   "metadata": {},
   "source": [
    "#### Mot-clé ``return``\n",
    "\n",
    "**Sans mot-clé ``return``, le résultat est ``None``.**"
   ]
  },
  {
   "cell_type": "code",
   "execution_count": 26,
   "metadata": {},
   "outputs": [
    {
     "name": "stdout",
     "output_type": "stream",
     "text": [
      "None\n"
     ]
    }
   ],
   "source": [
    "def calcul(x):\n",
    "    y = x**2\n",
    "    z = x + y\n",
    "\n",
    "\n",
    "a = calcul(3)\n",
    "print(a)"
   ]
  },
  {
   "cell_type": "markdown",
   "metadata": {},
   "source": [
    "La fonction se termine après le premier ``return`` rencontré lors de l'exécution."
   ]
  },
  {
   "cell_type": "code",
   "execution_count": 27,
   "metadata": {},
   "outputs": [
    {
     "name": "stdout",
     "output_type": "stream",
     "text": [
      "je passe par ici\n"
     ]
    },
    {
     "data": {
      "text/plain": [
       "5"
      ]
     },
     "execution_count": 27,
     "metadata": {},
     "output_type": "execute_result"
    }
   ],
   "source": [
    "def valeur_absolue(x):\n",
    "    print(\"je passe par ici\")\n",
    "    if x < 0:\n",
    "        y = -x\n",
    "        return y\n",
    "    else:\n",
    "        y = x\n",
    "        return y\n",
    "    print(\"je ne passe jamais par ici\")\n",
    "\n",
    "\n",
    "valeur_absolue(-5)"
   ]
  },
  {
   "cell_type": "markdown",
   "metadata": {},
   "source": [
    "### Fonction récursive\n",
    "\n",
    "**Une fonction peut être récursive : elle s'appelle elle-même.** Mais il est important de savoir qu'il existe un cas dans lequel elle ne s'appelle pas pour arrêter la récursion."
   ]
  },
  {
   "cell_type": "code",
   "execution_count": 28,
   "metadata": {},
   "outputs": [
    {
     "name": "stdout",
     "output_type": "stream",
     "text": [
      "je m'appelle pour x= 10\n",
      "je m'appelle pour x= 5.0\n",
      "je m'appelle pour x= 2.5\n",
      "je ne m'appelle pas pour x= 1.25\n"
     ]
    },
    {
     "data": {
      "text/plain": [
       "4"
      ]
     },
     "execution_count": 28,
     "metadata": {},
     "output_type": "execute_result"
    }
   ],
   "source": [
    "def recursive(x):\n",
    "    if x / 2 < 1:\n",
    "        print(\"je ne m'appelle pas pour x=\", x)\n",
    "        return 1\n",
    "    else:\n",
    "        print(\"je m'appelle pour x=\", x)\n",
    "        return recursive(x / 2) + 1\n",
    "\n",
    "\n",
    "recursive(10)"
   ]
  },
  {
   "cell_type": "markdown",
   "metadata": {},
   "source": [
    "### Dictionnaires"
   ]
  },
  {
   "cell_type": "markdown",
   "metadata": {},
   "source": [
    "#### clé - valeur"
   ]
  },
  {
   "cell_type": "markdown",
   "metadata": {},
   "source": [
    "Une **liste** est un ensemble d'autres objets indexés par des entiers. Un **dictionnaire** est un ensemble d'autres objets indexés par presque n'importe quoi."
   ]
  },
  {
   "cell_type": "code",
   "execution_count": 29,
   "metadata": {
    "collapsed": true
   },
   "outputs": [],
   "source": [
    "d = {}  # un dictionnaire vide\n",
    "d = {\n",
    "    \"a\": \"acronym\",\n",
    "    \"b\": \"bizarre\",\n",
    "}  # un dictionnaire qui associe 'acroym' à 'a' et 'bizarre' à 'b'.\n",
    "z = d[\"a\"]  # z reçoit la valeur associée à 'a' et stockée dans le dictionnaire d"
   ]
  },
  {
   "cell_type": "markdown",
   "metadata": {},
   "source": [
    "Quelques fonctions utiles :"
   ]
  },
  {
   "cell_type": "code",
   "execution_count": 30,
   "metadata": {},
   "outputs": [
    {
     "data": {
      "text/plain": [
       "('d=', {'a': 'acronym', 'b': 'bizarre'}, 'l=', 2, 'b=', True, 'x=', 'acronym')"
      ]
     },
     "execution_count": 30,
     "metadata": {},
     "output_type": "execute_result"
    }
   ],
   "source": [
    "d = {\"a\": \"acronym\", \"b\": \"bizarre\"}\n",
    "l = len(d)  # retourne le nombre d'élément de d\n",
    "b = (\n",
    "    \"a\" in d\n",
    ")  # b vaut True si une valeur est associée à 'a', on dit aussi que la clé 'a' est présente\n",
    "x = d.get(\"a\", \"\")  # x vaut d['a'] si la clé 'a' existe, il vaut '' sinon\n",
    "\n",
    "\"d=\", d, \"l=\", l, \"b=\", b, \"x=\", x"
   ]
  },
  {
   "cell_type": "markdown",
   "metadata": {},
   "source": [
    "On utilise souvent un dictionnaire pour compter les lettres d'un texte :"
   ]
  },
  {
   "cell_type": "code",
   "execution_count": 31,
   "metadata": {},
   "outputs": [
    {
     "data": {
      "text/plain": [
       "{'e': 6, 'x': 2, 'm': 1, 'p': 1, 'l': 1, ' ': 2, 'd': 1, 't': 2}"
      ]
     },
     "execution_count": 31,
     "metadata": {},
     "output_type": "execute_result"
    }
   ],
   "source": [
    "texte = \"exemple de texte\"\n",
    "d = {}\n",
    "for c in texte:\n",
    "    d[c] = d.get(c, 0) + 1\n",
    "\n",
    "d"
   ]
  },
  {
   "cell_type": "markdown",
   "metadata": {},
   "source": [
    "Les valeurs peuvent être n'importe quoi, y compris des listes ou des dictionnaires. Les clés doivent être des types [immuables](https://docs.python.org/3/glossary.html#term-immutable) (nombre, chaînes de caractères, ``tuple`` incluant des types immuables). Si vous utilisez un autre type, cela déclenche une erreur : "
   ]
  },
  {
   "cell_type": "code",
   "execution_count": 33,
   "metadata": {},
   "outputs": [],
   "source": [
    "f = [3, 4]\n",
    "# d[f] = 0  # déclenche une exception"
   ]
  },
  {
   "cell_type": "markdown",
   "metadata": {},
   "source": [
    "Lorsqu'on affecte une valeur à une clé, le dictionnaire crée la clé ou remplace la valeur précédente par la nouvelle :"
   ]
  },
  {
   "cell_type": "code",
   "execution_count": 34,
   "metadata": {},
   "outputs": [
    {
     "data": {
      "text/plain": [
       "{'a': 1}"
      ]
     },
     "execution_count": 34,
     "metadata": {},
     "output_type": "execute_result"
    }
   ],
   "source": [
    "d = {}\n",
    "d[\"a\"] = 0  # création d'une clé\n",
    "d[\"a\"] = 1  # remplacement d'une valeur\n",
    "\n",
    "d"
   ]
  },
  {
   "cell_type": "markdown",
   "metadata": {},
   "source": [
    "On peut aussi créer un dictionnaire de façon compacte :"
   ]
  },
  {
   "cell_type": "code",
   "execution_count": 35,
   "metadata": {},
   "outputs": [
    {
     "data": {
      "text/plain": [
       "{'un': 2, 'deux': 4, 'trois': 5}"
      ]
     },
     "execution_count": 35,
     "metadata": {},
     "output_type": "execute_result"
    }
   ],
   "source": [
    "d = {s: len(s) for s in [\"un\", \"deux\", \"trois\"]}\n",
    "d"
   ]
  },
  {
   "cell_type": "markdown",
   "metadata": {},
   "source": [
    "#### notions de coût\n",
    "\n",
    "Il est aussi rapide d'accéder à un élément d'un dictionnaire que d'accéder à un élément d'une liste : [TimeComplexity](https://wiki.python.org/moin/TimeComplexity). C'est une [table de hashage](https://en.wikipedia.org/wiki/Hash_table) qui permet d'obtenir ce résultat."
   ]
  },
  {
   "cell_type": "markdown",
   "metadata": {},
   "source": [
    "#### ordonner les éléments d'un dictionnaire\n",
    "\n",
    "Les éléments d'un dictionnaire ne sont pas ordonnées ou tout du moins ne le sont pas d'une façon prédictible. Pour les parcourir dans un ordre précis, il faut utiliser une liste puis les ordonner. L'exemple suivant montre comment ordonner les éléments par ordre croissant de valeur, puis par ordre alphabétique en cas d'ex aeco."
   ]
  },
  {
   "cell_type": "code",
   "execution_count": 36,
   "metadata": {},
   "outputs": [
    {
     "data": {
      "text/plain": [
       "{'un': 2, 'deux': 4, 'trois': 5, 'quatre': 6, 'cinq': 4}"
      ]
     },
     "execution_count": 36,
     "metadata": {},
     "output_type": "execute_result"
    }
   ],
   "source": [
    "d = {s: len(s) for s in [\"un\", \"deux\", \"trois\", \"quatre\", \"cinq\"]}\n",
    "d"
   ]
  },
  {
   "cell_type": "code",
   "execution_count": 37,
   "metadata": {},
   "outputs": [
    {
     "data": {
      "text/plain": [
       "[(2, 'un'), (4, 'deux'), (5, 'trois'), (6, 'quatre'), (4, 'cinq')]"
      ]
     },
     "execution_count": 37,
     "metadata": {},
     "output_type": "execute_result"
    }
   ],
   "source": [
    "ordonne = [(v, k) for k, v in d.items()]\n",
    "ordonne"
   ]
  },
  {
   "cell_type": "code",
   "execution_count": 38,
   "metadata": {},
   "outputs": [
    {
     "data": {
      "text/plain": [
       "[(2, 'un'), (4, 'cinq'), (4, 'deux'), (5, 'trois'), (6, 'quatre')]"
      ]
     },
     "execution_count": 38,
     "metadata": {},
     "output_type": "execute_result"
    }
   ],
   "source": [
    "ordonne.sort()\n",
    "ordonne"
   ]
  },
  {
   "cell_type": "markdown",
   "metadata": {},
   "source": [
    "**A quoi ça sert ?** on se sert beaucoup des dictionnaires pour compter la fréquences des caractères, des mots ou de couples de mots dans un texte. On les ordonne ensuite par fréquences décroissantes pour obtenir les mots ou caractères les plus fréquents."
   ]
  },
  {
   "cell_type": "markdown",
   "metadata": {},
   "source": [
    "### Exercice 2 : recherche dans une liste\n",
    "\n",
    "On considère une liste de mots :"
   ]
  },
  {
   "cell_type": "code",
   "execution_count": 39,
   "metadata": {
    "collapsed": true
   },
   "outputs": [],
   "source": [
    "mots = [\n",
    "    \"eddard\",\n",
    "    \"catelyn\",\n",
    "    \"robb\",\n",
    "    \"sansa\",\n",
    "    \"arya\",\n",
    "    \"brandon\",\n",
    "    \"rickon\",\n",
    "    \"theon\",\n",
    "    \"rorbert\",\n",
    "    \"cersei\",\n",
    "    \"tywin\",\n",
    "    \"jaime\",\n",
    "    \"tyrion\",\n",
    "    \"shae\",\n",
    "    \"bronn\",\n",
    "    \"lancel\",\n",
    "    \"joffrey\",\n",
    "    \"sandor\",\n",
    "    \"varys\",\n",
    "    \"renly\",\n",
    "    \"a\",\n",
    "]"
   ]
  },
  {
   "cell_type": "markdown",
   "metadata": {},
   "source": [
    "Il faut écrire une fonction qui retourne tous les mots de la liste qui ont un 'y' en seconde position."
   ]
  },
  {
   "cell_type": "code",
   "execution_count": 41,
   "metadata": {
    "collapsed": true
   },
   "outputs": [],
   "source": [
    "def mots_lettre_position(liste, lettre, position):\n",
    "    \"à compléter\"\n",
    "    # ......\n",
    "    # return [ .... ]"
   ]
  },
  {
   "cell_type": "markdown",
   "metadata": {},
   "source": [
    "### Exercice 3 : utilisation d'un dictionnaire\n",
    "\n",
    "On modifie la fonction précédente ``mots_lettre_position`` de telle sorte qu'elle s'écrive comme suit :"
   ]
  },
  {
   "cell_type": "code",
   "execution_count": 42,
   "metadata": {
    "collapsed": true
   },
   "outputs": [],
   "source": [
    "def mots_lettre_position(dictionnaire_bien_choisi, lettre, position):\n",
    "    return dictionnaire_bien_choisi.get((position, lettre), [])"
   ]
  },
  {
   "cell_type": "markdown",
   "metadata": {},
   "source": [
    "Construisez le dictionnaire ``dictionnaire_bien_choisi`` pour que cela fonctionne.\n",
    "Combien de mots sont stockés dans ``dictionnaire_bien_choisi`` ?"
   ]
  },
  {
   "cell_type": "markdown",
   "metadata": {},
   "source": [
    "**Reformulation** Lorsqu'on cherche un mot dans un dictionnaire (un vrai), on tourne peu de pages pour le trouver puisqu'ils sont triés par ordre alphabétique. Maintenant, si on souhaite trouver tous les mots dans la seconde lettre est ``e``, c'est impossible à moins de trier les mots par leur seconde lettre : il faudrait un dictionnaire différent pour chaque position de lettre. L'objectif de cet exercice est de concevoir une sorte de dictionnaire qui permette de retrouver tous les mots ayant telle lettre à telle position."
   ]
  },
  {
   "cell_type": "markdown",
   "metadata": {},
   "source": [
    "### Exercice 4 : crypter de décrypter selon Vigenère\n",
    "\n",
    "Le [code de César](http://fr.wikipedia.org/wiki/Chiffrement_par_d%C3%A9calage) est une permutation de lettre ou un décalage. Toutes les lettres du message sont décalées d'un nombre fixe :\n",
    "\n",
    "- ``JENESUISPASCODE``\n",
    "- ``MHQHVXLVSDVFRGH``\n",
    "\n",
    "Le [code de Vigenère](http://fr.wikipedia.org/wiki/Chiffre_de_Vigen%C3%A8re) introduit un décalage qui dépend de la position de la lettre dans le message à coder. On choisit d'abord un mot qui servira de code (par exemple ``DOP``) puis on le traduit en décalages : ``[3, 14, 15]`` en servant de la position des lettres dans l'alphabet. \n",
    "\n",
    "Pour coder, on décale la première lettre de 3, la seconde de 14, la troisième 15, la quatrième de 3 à nouveau... L'objectif de cette partie est d'écrire une fonction qui crypte le message précédent et une autre qui décrypte."
   ]
  },
  {
   "cell_type": "code",
   "execution_count": 43,
   "metadata": {
    "collapsed": true
   },
   "outputs": [],
   "source": [
    "def code_vigenere(message, cle):\n",
    "    # ...... à remplir\n",
    "    return message_code"
   ]
  },
  {
   "cell_type": "markdown",
   "metadata": {},
   "source": [
    "A quelle condition le code de Vigenère est un simple code de César ?\n",
    "\n",
    "Pensez-vous qu'il soit possible de casser le code de Vigenère (de le décrypter sans la clé) ?"
   ]
  },
  {
   "cell_type": "code",
   "execution_count": null,
   "metadata": {
    "collapsed": true
   },
   "outputs": [],
   "source": []
  }
 ],
 "metadata": {
  "kernelspec": {
   "display_name": "Python 3",
   "language": "python",
   "name": "python3"
  },
  "language_info": {
   "codemirror_mode": {
    "name": "ipython",
    "version": 3
   },
   "file_extension": ".py",
   "mimetype": "text/x-python",
   "name": "python",
   "nbconvert_exporter": "python",
   "pygments_lexer": "ipython3",
   "version": "3.10.12"
  }
 },
 "nbformat": 4,
 "nbformat_minor": 1
}
