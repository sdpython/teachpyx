{
 "cells": [
  {
   "cell_type": "markdown",
   "metadata": {},
   "source": [
    "# Intégrale et la méthode des rectangles - correction\n",
    "\n",
    "Approximation du calcul d'une intégrale par la méthode des rectangles."
   ]
  },
  {
   "cell_type": "code",
   "execution_count": 1,
   "metadata": {
    "collapsed": true
   },
   "outputs": [],
   "source": [
    "%matplotlib inline"
   ]
  },
  {
   "cell_type": "markdown",
   "metadata": {},
   "source": [
    "## Calcul de l'intégrale"
   ]
  },
  {
   "cell_type": "code",
   "execution_count": 2,
   "metadata": {
    "collapsed": true
   },
   "outputs": [],
   "source": [
    "a = -2\n",
    "b = 3\n",
    "n = 20"
   ]
  },
  {
   "cell_type": "code",
   "execution_count": 3,
   "metadata": {},
   "outputs": [
    {
     "data": {
      "text/plain": [
       "-2.6145744834544478"
      ]
     },
     "execution_count": 3,
     "metadata": {},
     "output_type": "execute_result"
    }
   ],
   "source": [
    "import math\n",
    "\n",
    "f = lambda x: x * math.cos(x)\n",
    "f(4)"
   ]
  },
  {
   "cell_type": "code",
   "execution_count": 4,
   "metadata": {},
   "outputs": [
    {
     "data": {
      "text/plain": [
       "0.55"
      ]
     },
     "execution_count": 4,
     "metadata": {},
     "output_type": "execute_result"
    }
   ],
   "source": [
    "def integrale(f, a, b, n):\n",
    "    somme = 0\n",
    "    h = float(b - a) / n\n",
    "    x = a\n",
    "    for i in range(0, n + 1):\n",
    "        somme += f(x) * h\n",
    "        x += h\n",
    "    return somme\n",
    "\n",
    "\n",
    "# On vérifie ave un cas simple.\n",
    "integrale(lambda x: x, 0, 1, 10)"
   ]
  },
  {
   "cell_type": "code",
   "execution_count": 5,
   "metadata": {},
   "outputs": [
    {
     "data": {
      "text/plain": [
       "-2.2320146802585272"
      ]
     },
     "execution_count": 5,
     "metadata": {},
     "output_type": "execute_result"
    }
   ],
   "source": [
    "integrale(f, a, b, n)"
   ]
  },
  {
   "cell_type": "markdown",
   "metadata": {},
   "source": [
    "Il faut écrire la fonction qui calcule l'intégrale."
   ]
  },
  {
   "cell_type": "markdown",
   "metadata": {},
   "source": [
    "## Calcul de précision\n",
    "\n",
    "On essaye toutes les valeurs de $n$ jusqu'à obtenir la précision souhaitée en supposant qu'elle est obtenue à partir du moment où la différence relative entre deux valeurs successives est inférieure à la précision."
   ]
  },
  {
   "cell_type": "code",
   "execution_count": 6,
   "metadata": {},
   "outputs": [
    {
     "data": {
      "text/plain": [
       "(0.5050000000000003, 100)"
      ]
     },
     "execution_count": 6,
     "metadata": {},
     "output_type": "execute_result"
    }
   ],
   "source": [
    "def integrale_precise(f, a, b, n0, precision):\n",
    "    val = integrale(f, a, b, n0)\n",
    "    val0 = None\n",
    "    while val0 is None or abs(val - val0) / val0 > precision:\n",
    "        val0 = val\n",
    "        n0 += 1\n",
    "        val = integrale(f, a, b, n0)\n",
    "    return val, n0\n",
    "\n",
    "\n",
    "integrale_precise(lambda x: x, 0, 1, 10, 1e-4)"
   ]
  },
  {
   "cell_type": "markdown",
   "metadata": {},
   "source": [
    "Le deuxième nombre indique que la valeur de $n$ nécessaire."
   ]
  },
  {
   "cell_type": "code",
   "execution_count": 7,
   "metadata": {},
   "outputs": [
    {
     "data": {
      "text/plain": [
       "(-2.2196877891927724, 21)"
      ]
     },
     "execution_count": 7,
     "metadata": {},
     "output_type": "execute_result"
    }
   ],
   "source": [
    "integrale_precise(f, a, b, n, 1e-4)"
   ]
  },
  {
   "cell_type": "markdown",
   "metadata": {},
   "source": [
    "## Calcul plus rapide\n",
    "\n",
    "Imaginez un piano. A l'itération $n$, on calcule les touches blanches, à l'itération $n+1$, les touches noires. A l'itération $n$, on calcule les $k$ rectangles de hauteur rouges, puis les $k$ verts à $n+1$ puis les $2k$ à $n+2$."
   ]
  },
  {
   "cell_type": "code",
   "execution_count": 9,
   "metadata": {},
   "outputs": [
    {
     "data": {
      "image/png": "[encoded data removed]",
      "text/plain": [
       "<IPython.core.display.Image object>"
      ]
     },
     "execution_count": 9,
     "metadata": {
      "image/png": {
       "width": 400
      }
     },
     "output_type": "execute_result"
    }
   ],
   "source": [
    "from IPython.display import Image\n",
    "\n",
    "Image(\"int2.png\", width=400)"
   ]
  },
  {
   "cell_type": "code",
   "execution_count": 10,
   "metadata": {},
   "outputs": [
    {
     "data": {
      "text/plain": [
       "(0.5000454610560389, 81920)"
      ]
     },
     "execution_count": 10,
     "metadata": {},
     "output_type": "execute_result"
    }
   ],
   "source": [
    "def integrale_precise_2n(f, a, b, n0, precision):\n",
    "    val = integrale(f, a, b, n0)\n",
    "    val0 = None\n",
    "    h = float(b - a) / n0\n",
    "    while val0 is None or abs(val - val0) / val0 > precision:\n",
    "        val0 = val\n",
    "        n0 *= 2\n",
    "        h /= 2\n",
    "        val = (val + integrale(f, a + h, b, n0)) / 2\n",
    "    return val, n0\n",
    "\n",
    "\n",
    "integrale_precise_2n(lambda x: x, 0, 1, 10, 1e-4)"
   ]
  },
  {
   "cell_type": "code",
   "execution_count": 11,
   "metadata": {},
   "outputs": [
    {
     "data": {
      "text/plain": [
       "(-2.2169740198498182, 40)"
      ]
     },
     "execution_count": 11,
     "metadata": {},
     "output_type": "execute_result"
    }
   ],
   "source": [
    "integrale_precise_2n(f, a, b, n, 1e-4)"
   ]
  },
  {
   "cell_type": "markdown",
   "metadata": {},
   "source": [
    "Qu'est-ce qui explique les différences en précision ? Dans le cas de cette intégrale, on veut calculer $\\int_0^1 xdx$. A l'itération $n$, on a : \n",
    "\n",
    "$$I(n)=\\frac{i}{n}\\sum_{i=1}^n \\frac{i}{n} = \\frac{n(n+1)}{2n^2} = \\frac{n+1}{2n} = \\frac{1}{2} + \\frac{1}{2n}$$\n",
    "\n",
    "On en déduit que $I(n+1) - I(n) = \\frac{1}{2n+2} - \\frac{1}{2n} \\sim O(\\frac{1}{n^2})$. Autrement dit, l'algorithme s'arrête dès que $\\frac{1}{n^2} < precision$ mais la somme des différences qui resteraient à calculer si on continuait n'est pas négligeable : \n",
    "\n",
    "$$\\sum_{i>k} I(n+1) - I(n) \\sim \\frac{1}{k}$$\n",
    "\n",
    "Pour cette intégrale, l'algorithme s'arrête alors que le chemin restant à parcourir est aussi grand que la différence entre deux valeurs successives."
   ]
  },
  {
   "cell_type": "markdown",
   "metadata": {},
   "source": [
    "La seconde version multiplie le nombre de calculs par deux à chaque fois même si elle évite de recalculer les mêmes valeurs. Une fois qu'on a commencé une série, il faut aller jusqu'au bout. C'est intéressant si la fonction à intégrer est longue à calculer. \n",
    "\n",
    "L'intégrale converge pour toute fonction réglée ou si l'ensemble de ses discontinuité est un ensemble de mesure nulle. On peut obtenir une autre propriété si on suppose que la fonction est $C^1$ (la dérivée est continue). La dérivée admet un majorant et on s'en sert pour majorer la marge d'erreur."
   ]
  },
  {
   "cell_type": "code",
   "execution_count": 13,
   "metadata": {},
   "outputs": [
    {
     "data": {
      "image/png": "[encoded data removed]",
      "text/plain": [
       "<IPython.core.display.Image object>"
      ]
     },
     "execution_count": 13,
     "metadata": {
      "image/png": {
       "width": 400
      }
     },
     "output_type": "execute_result"
    }
   ],
   "source": [
    "Image(\"marge.png\", width=400)"
   ]
  },
  {
   "cell_type": "markdown",
   "metadata": {},
   "source": [
    "Chaque petit rectangle est de taille $h=\\frac{b-a}{n}$ et de hauteur maximal $M'h$ où $M'$ est un majorant de la dérivée. $M'=\\underset{x \\in [a,b]}{sup} \\left|f'(x)\\right|$. La marge d'incertitude vérifie :\n",
    "\n",
    "$$m(h) \\leqslant nM'h^2 = \\frac{M'(b-a)^2}{n}$$"
   ]
  },
  {
   "cell_type": "markdown",
   "metadata": {},
   "source": [
    "C'est une suite décroissante et pour obtenir une précision $p$, il suffit de choisir $n$ tel que :\n",
    "\n",
    "$$n > \\frac{M'(b-a)^2}{p}$$"
   ]
  },
  {
   "cell_type": "markdown",
   "metadata": {},
   "source": [
    "Il faut maintenant estimer un majorant pour la dérivée. Comme on calcule la fonction pour un ensemble de points pris dans l'interval $x_i=(b-a)\\frac{i}{n} + a \\in [a,b]$, On peut le faire en calculant :\n",
    "\n",
    "$$M' \\sim \\max_i\\left\\{ \\frac{\\left|f(x_{i+1}) - f(x_i)\\right|}{x_{i+1} - x_i}\\right\\}$$\n",
    "\n",
    "Si $f(x)=x^2$, $a=0$, $b=1$, $n = \\frac{1}{p}$."
   ]
  },
  {
   "cell_type": "code",
   "execution_count": 14,
   "metadata": {},
   "outputs": [
    {
     "data": {
      "text/plain": [
       "(0.5004995004994989, 1001)"
      ]
     },
     "execution_count": 14,
     "metadata": {},
     "output_type": "execute_result"
    }
   ],
   "source": [
    "def integrale_precision(f, a, b, n):\n",
    "    somme = 0\n",
    "    h = float(b - a) / n\n",
    "    x = a\n",
    "    max_fp = 0\n",
    "    last_f = 0\n",
    "    for i in range(0, n + 1):\n",
    "        fx = f(x)\n",
    "        somme += f(x) * h\n",
    "        x += h\n",
    "        if last_f is not None:\n",
    "            md = abs(fx - last_f) / h\n",
    "            max_fp = max(max_fp, md)\n",
    "        last_f = fx\n",
    "    return somme, max_fp * n * h**2\n",
    "\n",
    "\n",
    "def integrale_precise_derivee(f, a, b, n0, precision):\n",
    "    val, prec = integrale_precision(f, a, b, n0)\n",
    "    val0 = None\n",
    "    while val0 is None or prec > precision:\n",
    "        val0 = val\n",
    "        n0 += 1\n",
    "        val, prec = integrale_precision(f, a, b, n0)\n",
    "    return val, n0\n",
    "\n",
    "\n",
    "integrale_precise_derivee(lambda x: x, 0, 1, 10, 1e-3)"
   ]
  },
  {
   "cell_type": "code",
   "execution_count": null,
   "metadata": {
    "collapsed": true
   },
   "outputs": [],
   "source": []
  },
  {
   "cell_type": "markdown",
   "metadata": {},
   "source": [
    "## La fonction récalcitrante\n",
    "\n",
    "L'intégrale de Rienmann converge pour toute fonction dont les discontinuités sont de mesures nulles. Numériquement, c'est autre chose. On peut construire une telle fonction pour laquelle le calcule de l'intégrale ne converge pas.\n",
    "\n",
    "$$f(x) = \\left\\{ \\begin{array}{ll}2 \\text{ si } x = k2^{-n} \\forall k,n \\in \\mathbb{N} \\\\ 1 \\text{ sinon } \\end{array}\\right.$$"
   ]
  },
  {
   "cell_type": "code",
   "execution_count": 15,
   "metadata": {},
   "outputs": [
    {
     "data": {
      "text/plain": [
       "(1, 2, 2)"
      ]
     },
     "execution_count": 15,
     "metadata": {},
     "output_type": "execute_result"
    }
   ],
   "source": [
    "import math\n",
    "\n",
    "\n",
    "def bizarre(x, n):\n",
    "    if x == 0:\n",
    "        return 1\n",
    "    kn = int(math.log(n) / math.log(2)) + 1\n",
    "    a = 2**kn * x\n",
    "    d = abs(int(a + 1e-10) - a)\n",
    "    if d < 1e-10:\n",
    "        return 2\n",
    "    else:\n",
    "        return 1\n",
    "\n",
    "\n",
    "bizarre(0.33, 8), bizarre(0.5, 8), bizarre(0.125, 8)"
   ]
  },
  {
   "cell_type": "code",
   "execution_count": 16,
   "metadata": {},
   "outputs": [],
   "source": [
    "def integrale_bizarre(f, a, b, n):\n",
    "    somme = 0\n",
    "    h = float(b - a) / n\n",
    "    x = a\n",
    "    for i in range(0, n + 1):\n",
    "        # même fonction mais on passe n également\n",
    "        somme += f(x, n) * h\n",
    "        x += h\n",
    "    return somme\n",
    "\n",
    "\n",
    "px = list(range(1, 257))\n",
    "py = [integrale_bizarre(bizarre, 0, 1, i) for i in px]"
   ]
  },
  {
   "cell_type": "code",
   "execution_count": 17,
   "metadata": {},
   "outputs": [
    {
     "data": {
      "text/plain": [
       "2.125"
      ]
     },
     "execution_count": 17,
     "metadata": {},
     "output_type": "execute_result"
    }
   ],
   "source": [
    "integrale_bizarre(bizarre, 0, 1, 8)"
   ]
  },
  {
   "cell_type": "code",
   "execution_count": 18,
   "metadata": {},
   "outputs": [
    {
     "data": {
      "text/plain": [
       "2.0625"
      ]
     },
     "execution_count": 18,
     "metadata": {},
     "output_type": "execute_result"
    }
   ],
   "source": [
    "integrale_bizarre(bizarre, 0, 1, 16)"
   ]
  },
  {
   "cell_type": "code",
   "execution_count": 19,
   "metadata": {},
   "outputs": [
    {
     "data": {
      "text/plain": [
       "1.2857142857142856"
      ]
     },
     "execution_count": 19,
     "metadata": {},
     "output_type": "execute_result"
    }
   ],
   "source": [
    "integrale_bizarre(bizarre, 0, 1, 7)"
   ]
  },
  {
   "cell_type": "code",
   "execution_count": 20,
   "metadata": {},
   "outputs": [
    {
     "data": {
      "image/png": "[encoded data removed]",
      "text/plain": [
       "<Figure size 640x480 with 1 Axes>"
      ]
     },
     "metadata": {},
     "output_type": "display_data"
    }
   ],
   "source": [
    "import matplotlib.pyplot as plt\n",
    "\n",
    "fig, ax = plt.subplots(1, 1)\n",
    "ax.plot(px, py);"
   ]
  },
  {
   "cell_type": "markdown",
   "metadata": {},
   "source": [
    "La fonction est bornée, intégrable car elle est constante partout sauf sur un ensemble de mesure nulle qui est plus petit que l'ensemble des rationnels. Pourtant le calcul informatique associée ne converge pas car pour certaines valeurs de $n$, les valeurs prises tombent pour la plupart dans cet ensemble."
   ]
  },
  {
   "cell_type": "markdown",
   "metadata": {},
   "source": [
    "## Calcul de Monte Carlo\n",
    "\n",
    "Ce calcul consiste simplement à tirer des valeurs aléatoirement dans l'intervalle à intégrer puis à en faire la moyenne."
   ]
  },
  {
   "cell_type": "code",
   "execution_count": 21,
   "metadata": {},
   "outputs": [
    {
     "data": {
      "text/plain": [
       "0.5443922662659958"
      ]
     },
     "execution_count": 21,
     "metadata": {},
     "output_type": "execute_result"
    }
   ],
   "source": [
    "import random\n",
    "\n",
    "\n",
    "def integrale_mc(f, a, b, n):\n",
    "    somme = 0\n",
    "    for i in range(0, n):\n",
    "        x = random.uniform(a, b)\n",
    "        somme += f(x)\n",
    "    return somme / n\n",
    "\n",
    "\n",
    "# On vérifie ave un cas simple.\n",
    "integrale_mc(lambda x: x, 0, 1, 100)"
   ]
  },
  {
   "cell_type": "markdown",
   "metadata": {},
   "source": [
    "On peut appeler plusieurs fois la fonction et faire la moyenne des valeurs obtenues pour obtenir un algorithme qui s'arrête à partir d'une certaine précision."
   ]
  },
  {
   "cell_type": "code",
   "execution_count": 22,
   "metadata": {},
   "outputs": [
    {
     "data": {
      "text/plain": [
       "(0.5001005538840249, 100)"
      ]
     },
     "execution_count": 22,
     "metadata": {},
     "output_type": "execute_result"
    }
   ],
   "source": [
    "def integrale_mc_precise(f, a, b, n0, precision):\n",
    "    val = integrale(f, a, b, n0)\n",
    "    moy = val\n",
    "    moy0 = None\n",
    "    nb = 1\n",
    "    while moy0 is None or abs(moy - moy0) / moy0 > precision:\n",
    "        val += integrale_mc(f, a, b, n0)\n",
    "        nb += 1\n",
    "        moy0 = moy\n",
    "        moy = val / nb\n",
    "    return moy, n0\n",
    "\n",
    "\n",
    "integrale_mc_precise(lambda x: x, 0, 1, 100, 1e-4)"
   ]
  },
  {
   "cell_type": "markdown",
   "metadata": {},
   "source": [
    "## Quand s'arrêter ?\n",
    "\n",
    "L'intégrale de [Monte Carlo](https://fr.wikipedia.org/wiki/M%C3%A9thode_de_Monte-Carlo) est une variable aléatoire qui est une moyenne. $I_n(f)=\\frac{1}{n} \\sum_{i=1}^n f((b-a)U_i + b)$ où $U_i$ est une variable aléatoire uniforme dans l'intervalle $[0,1]$. $f((b-a)U_i + b)$ est une variable aléatoire qui n'est a priori pas uniforme. Elle est bornée si fonction $f$ est bornée. En utilisant le théorème centrale limite, on sait que $\\sqrt{n}I_n(f)$ tend vers une loi normale dont on peut majorer la variance par $M^2$ où $M=max(\\{f(x) | x \\in [a,b]\\})$. Il suffit ensuite de choisir un $n$ suffisant grand telle sorte que l'intervalle de confiance à 95% soit suffisamment petit. Si $p$ est la précision, $\\frac{1.96 M}{\\sqrt{n}} < \\frac{p}{2}$ et donc $n > \\frac{16M^2}{p^2}$.\n",
    "\n",
    "Pour une précision à $10^{-2}$ :"
   ]
  },
  {
   "cell_type": "code",
   "execution_count": null,
   "metadata": {},
   "outputs": [
    {
     "data": {
      "text/plain": [
       "0.500765653300686"
      ]
     },
     "execution_count": 24,
     "metadata": {},
     "output_type": "execute_result"
    }
   ],
   "source": [
    "integrale_mc(lambda x: x, 0, 1, int(16e4))"
   ]
  },
  {
   "cell_type": "markdown",
   "metadata": {},
   "source": [
    "## Mesure du temps\n",
    "\n",
    "Les temps ne sont pas vraiment comparables puisque les conditions d'arrêt de chaque fonction ne correspondent pas aux même précisions."
   ]
  },
  {
   "cell_type": "code",
   "execution_count": 23,
   "metadata": {},
   "outputs": [
    {
     "name": "stdout",
     "output_type": "stream",
     "text": [
      "14.4 µs ± 2.18 µs per loop (mean ± std. dev. of 7 runs, 100,000 loops each)\n"
     ]
    }
   ],
   "source": [
    "%timeit integrale_precise(f, a, b, n, 1e-4)"
   ]
  },
  {
   "cell_type": "code",
   "execution_count": 24,
   "metadata": {},
   "outputs": [
    {
     "name": "stdout",
     "output_type": "stream",
     "text": [
      "14 µs ± 221 ns per loop (mean ± std. dev. of 7 runs, 10,000 loops each)\n"
     ]
    }
   ],
   "source": [
    "%timeit integrale_precise_2n(f, a, b, n, 1e-4)"
   ]
  },
  {
   "cell_type": "code",
   "execution_count": 25,
   "metadata": {},
   "outputs": [
    {
     "name": "stdout",
     "output_type": "stream",
     "text": [
      "18.3 µs ± 3.03 µs per loop (mean ± std. dev. of 7 runs, 100,000 loops each)\n"
     ]
    }
   ],
   "source": [
    "%timeit integrale_mc_precise(f, a, b, n, 1e-4)"
   ]
  },
  {
   "cell_type": "code",
   "execution_count": 26,
   "metadata": {},
   "outputs": [
    {
     "name": "stdout",
     "output_type": "stream",
     "text": [
      "885 µs ± 156 µs per loop (mean ± std. dev. of 7 runs, 1,000 loops each)\n"
     ]
    }
   ],
   "source": [
    "%timeit integrale_precise(lambda x: x, 0, 1, 10, 1e-4)"
   ]
  },
  {
   "cell_type": "code",
   "execution_count": 27,
   "metadata": {},
   "outputs": [
    {
     "name": "stdout",
     "output_type": "stream",
     "text": [
      "22.4 ms ± 1.31 ms per loop (mean ± std. dev. of 7 runs, 10 loops each)\n"
     ]
    }
   ],
   "source": [
    "%timeit integrale_precise_2n(lambda x: x, 0, 1, 10, 1e-4)"
   ]
  },
  {
   "cell_type": "code",
   "execution_count": 28,
   "metadata": {},
   "outputs": [
    {
     "name": "stdout",
     "output_type": "stream",
     "text": [
      "269 µs ± 47 µs per loop (mean ± std. dev. of 7 runs, 1,000 loops each)\n"
     ]
    }
   ],
   "source": [
    "%timeit integrale_mc_precise(lambda x: x, 0, 1, 10, 1e-4)"
   ]
  }
 ],
 "metadata": {
  "kernelspec": {
   "display_name": "Python 3",
   "language": "python",
   "name": "python3"
  },
  "language_info": {
   "codemirror_mode": {
    "name": "ipython",
    "version": 3
   },
   "file_extension": ".py",
   "mimetype": "text/x-python",
   "name": "python",
   "nbconvert_exporter": "python",
   "pygments_lexer": "ipython3",
   "version": "3.10.12"
  }
 },
 "nbformat": 4,
 "nbformat_minor": 2
}