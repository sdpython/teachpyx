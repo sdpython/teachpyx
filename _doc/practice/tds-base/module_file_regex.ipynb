{
 "cells": [
  {
   "cell_type": "markdown",
   "metadata": {},
   "source": [
    "# Modules, fichiers, expressions régulières\n",
    "\n",
    "Le langage Python est défini par un ensemble de règle, une grammaire. Seul, il n'est bon qu'à faire des calculs. Les modules sont des collections de fonctionnalités pour interagir avec des capteurs ou des écrans ou pour faire des calculs plus rapides ou plus complexes."
   ]
  },
  {
   "cell_type": "markdown",
   "metadata": {},
   "source": [
    "## Fichiers\n",
    "\n",
    "Les fichiers permettent deux usages principaux :\n",
    "\n",
    "- récupérer des données d'une exécution du programme à l'autre (lorsque le programme s'arrête, toutes les variables sont perdues)\n",
    "- échanger des informations avec d'autres programmes (Excel par exemple).\n",
    "\n",
    "Le format le plus souvent utilisé est le fichier plat, texte, txt, csv, tsv. C'est un fichier qui contient une information structurée sous forme de matrice, en ligne et colonne car c'est comme que les informations numériques se présentent le plus souvent. Un fichier est une longue séquence de caractères. Il a fallu choisir une convention pour dire que deux ensembles de caractères ne font pas partie de la même colonne ou de la même ligne. La convention la plus répandue est :\n",
    "\n",
    "* ``\\t`` : séparateur de colonnes\n",
    "* ``\\n`` : séparateur de lignes\n",
    "\n",
    "Le caractère ``\\`` indique au langage python que le caractère qui suit fait partie d'un code. Vous trouverez la liste des codes : [String and Bytes literals](https://docs.python.org/3/reference/lexical_analysis.html#string-and-bytes-literals).\n",
    "\n",
    "**Aparté :** aujourd'hui, lire et écrire des fichiers est tellement fréquent qu'il existe des outils qui font ça dans une grande variété de formats. Il est utile pourtant de le faire au moins une fois soi-même pour comprendre la logique des outils et ne pas être bloqué dans les cas non prévus.\n",
    "\n",
    "Ecrire et lire des fichiers est beaucoup plus long que de jouer avec des variables. Ecrire signifie qu'on enregistre les données sur le disque dur : elles passent du programme au disque dur (elles deviennent permanentes). Elles font le chemin inverse lors de la lecture."
   ]
  },
  {
   "cell_type": "markdown",
   "metadata": {},
   "source": [
    "### Ecriture\n",
    "\n",
    "Il est important de retenir qu'un fichier texte ne peut recevoir que des chaînes de caractères."
   ]
  },
  {
   "cell_type": "code",
   "execution_count": 16,
   "metadata": {},
   "outputs": [
    {
     "name": "stdout",
     "output_type": "stream",
     "text": [
      "['mat2.txt', 'mat.txt']\n"
     ]
    }
   ],
   "source": [
    "mat = [[1.0, 0.0], [0.0, 1.0]]  # matrice de type liste de listes\n",
    "with open(\"mat.txt\", \"w\") as f:  # création d'un fichier en mode écriture\n",
    "    for i in range(0, len(mat)):  #\n",
    "        for j in range(0, len(mat[i])):  #\n",
    "            s = str(mat[i][j])  # conversion en chaîne de caractères\n",
    "            f.write(s + \"\\t\")  #\n",
    "        f.write(\"\\n\")  #\n",
    "\n",
    "# on vérifie que le fichier existe :\n",
    "import os\n",
    "\n",
    "print([_ for _ in os.listdir(\".\") if \"mat\" in _])\n",
    "\n",
    "# la ligne précédente utilise le symbole _ : c'est une variable\n",
    "# le caractère _ est une lettre comme une autre\n",
    "# on pourrait écrire :\n",
    "# print([ fichier for fichier in os.listdir(\".\") if \"mat\" in fichier ] )\n",
    "# on utilise cette convention pour dire que cette variable n'a pas vocation à rester"
   ]
  },
  {
   "cell_type": "markdown",
   "metadata": {},
   "source": [
    "Le même programme mais écrit avec une écriture condensée :"
   ]
  },
  {
   "cell_type": "code",
   "execution_count": 17,
   "metadata": {},
   "outputs": [
    {
     "name": "stdout",
     "output_type": "stream",
     "text": [
      "['mat2.txt', 'mat.txt']\n"
     ]
    }
   ],
   "source": [
    "mat = [[1.0, 0.0], [0.0, 1.0]]  # matrice de type liste de listes\n",
    "with open(\"mat.txt\", \"w\") as f:  # création d'un fichier\n",
    "    s = \"\\n\".join(\"\\t\".join(str(x) for x in row) for row in mat)\n",
    "    f.write(s)\n",
    "\n",
    "# on vérifie que le fichier existe :\n",
    "print([_ for _ in os.listdir(\".\") if \"mat\" in _])"
   ]
  },
  {
   "cell_type": "markdown",
   "metadata": {},
   "source": [
    "On regarde les premières lignes du fichier ``mat.txt`` :"
   ]
  },
  {
   "cell_type": "code",
   "execution_count": 18,
   "metadata": {},
   "outputs": [
    {
     "name": "stdout",
     "output_type": "stream",
     "text": [
      "1.0\t0.0\n",
      "0.0\t1.0\n"
     ]
    }
   ],
   "source": [
    "with open(\"mat.txt\", \"r\") as f:\n",
    "    print(f.read()[:1000])"
   ]
  },
  {
   "cell_type": "markdown",
   "metadata": {},
   "source": [
    "### Lecture"
   ]
  },
  {
   "cell_type": "code",
   "execution_count": 19,
   "metadata": {},
   "outputs": [
    {
     "name": "stdout",
     "output_type": "stream",
     "text": [
      "[['1.0', '0.0'], ['0.0', '1.0']]\n"
     ]
    }
   ],
   "source": [
    "with open(\"mat.txt\", \"r\") as f:  # ouverture d'un fichier\n",
    "    mat = [row.strip(\" \\n\").split(\"\\t\") for row in f.readlines()]\n",
    "print(mat)"
   ]
  },
  {
   "cell_type": "markdown",
   "metadata": {},
   "source": [
    "On retrouve les mêmes informations à ceci près qu'il ne faut pas oublier de convertir les nombres initiaux en ``float``."
   ]
  },
  {
   "cell_type": "code",
   "execution_count": 20,
   "metadata": {},
   "outputs": [
    {
     "name": "stdout",
     "output_type": "stream",
     "text": [
      "[[1.0, 0.0], [0.0, 1.0]]\n"
     ]
    }
   ],
   "source": [
    "with open(\"mat.txt\", \"r\") as f:  # ouverture d'un fichier\n",
    "    mat = [[float(x) for x in row.strip(\" \\n\").split(\"\\t\")] for row in f.readlines()]\n",
    "print(mat)"
   ]
  },
  {
   "cell_type": "markdown",
   "metadata": {},
   "source": [
    "Voilà qui est mieux. Le module [os.path](https://docs.python.org/3.4/library/os.path.html) propose différentes fonctions pour manipuler les noms de fichiers. Le module [os](http://docs.python.org/3.3/library/os.html#module-os) propose différentes fonctions pour manipuler les fichiers :"
   ]
  },
  {
   "cell_type": "code",
   "execution_count": 21,
   "metadata": {},
   "outputs": [
    {
     "name": "stdout",
     "output_type": "stream",
     "text": [
      "monmodule.py\n",
      "pyramide_bigarree.ipynb\n",
      "td2_1.png\n",
      "classes_heritage_correction.ipynb\n",
      "lemonde5.txt\n",
      "VOEUX83.txt\n",
      "classes_carre_magique.ipynb\n",
      "lemonde3.txt\n",
      "blogny1.txt\n",
      "blog3.txt\n",
      "nytimes5.txt\n",
      "classes_carre_magique_correction.ipynb\n",
      "integrale_rectangle_correction.ipynb\n",
      "nytimes2.txt\n",
      "VOEUX05.txt\n",
      "module_file_regex.ipynb\n",
      "__pycache__\n",
      "int2.png\n",
      "lemonde1.txt\n",
      "nytimes8.txt\n",
      "VOEUX06.txt\n",
      "dictionnaire_vigenere.ipynb\n",
      "articles.zip\n",
      "voeux.zip\n",
      "lemonde9.txt\n",
      "VOEUX08.txt\n",
      "2048.png\n",
      "texte_langue_correction.ipynb\n",
      "nytimes1.txt\n",
      "VOEUX01.txt\n",
      "premiers_pas_correction.ipynb\n",
      "nytimes9.txt\n",
      "VOEUX74.txt\n",
      "j2048.ipynb\n",
      "VOEUX75.txt\n",
      "elpais2.txt\n",
      "lequipe1.txt\n",
      "VOEUX94.txt\n",
      "lemonde7.txt\n",
      "lemonde10.txt\n",
      "seance4_excel.csv\n",
      "arthur_charpentier2.txt\n",
      "afp2.txt\n",
      "inconnu2.txt\n",
      "pyramide_bigarree_correction.ipynb\n",
      "afp1.txt\n",
      "lemonde8.txt\n",
      "mat2.txt\n",
      "elpais5.txt\n",
      "hexa.png\n",
      "int.png\n",
      "module_file_regex_correction.ipynb\n",
      "nytimes3.txt\n",
      "VOEUX89.txt\n",
      "arthur_charpentier3.txt\n",
      "VOEUX87.txt\n",
      "mat.txt\n",
      "lemonde11.txt\n",
      "elpais4.txt\n",
      "nytimes7.txt\n",
      "lemonde2.txt\n",
      "texte.txt\n",
      "inconnu1.txt\n",
      "lequipe2.txt\n",
      "premiers_pas.ipynb\n",
      "lemonde6.txt\n",
      "blog1.txt\n",
      "VOEUX09.txt\n",
      "VOEUX90.txt\n",
      "elpais7.txt\n",
      "exemple_fichier.txt\n",
      "elpais6.txt\n",
      "texte_langue.ipynb\n",
      "integrale_rectangle.ipynb\n",
      "VOEUX07.txt\n",
      "classes_heritage.ipynb\n",
      "arthur_charpentier1.txt\n",
      "lemonde4.txt\n",
      "blog2.txt\n",
      "dictionnaire_vigenere_correction.ipynb\n",
      "marge.png\n",
      "variable_boucle_tests.ipynb\n",
      "nytimes6.txt\n",
      "elpais3.txt\n",
      "variable_boucle_tests_correction.ipynb\n",
      "j2048_correction.ipynb\n",
      "nytimes4.txt\n",
      "VOEUX79.txt\n",
      "elpais1.txt\n"
     ]
    }
   ],
   "source": [
    "import os\n",
    "\n",
    "for f in os.listdir(\".\"):\n",
    "    print(f)"
   ]
  },
  {
   "cell_type": "markdown",
   "metadata": {},
   "source": [
    "### with\n",
    "\n",
    "De façon pragmatique, l'instruction [with](https://docs.python.org/3.4/reference/compound_stmts.html#with) permet d'écrire un code plus court d'une instruction : ``close``. Les deux bouts de code suivant sont équivalents :"
   ]
  },
  {
   "cell_type": "code",
   "execution_count": 22,
   "metadata": {},
   "outputs": [],
   "source": [
    "with open(\"exemple_fichier.txt\", \"w\") as f:\n",
    "    f.write(\"something\")"
   ]
  },
  {
   "cell_type": "code",
   "execution_count": 23,
   "metadata": {},
   "outputs": [],
   "source": [
    "f = open(\"exemple_fichier.txt\", \"w\")\n",
    "f.write(\"something\")\n",
    "f.close()"
   ]
  },
  {
   "cell_type": "markdown",
   "metadata": {},
   "source": [
    "L'instruction ``close`` *ferme* le fichier. A l'ouverture, le fichier est réservé par le programme Python, aucune autre application ne peut écrire dans le même fichier. Après l'instruction ``close``, une autre application pour le supprimer, le modifier. Avec le mot clé ``with``, la méthode ``close`` est implicitement appelée."
   ]
  },
  {
   "cell_type": "markdown",
   "metadata": {},
   "source": [
    "#### à quoi ça sert ?\n",
    "\n",
    "On écrit très rarement un fichier texte. Ce format est le seul reconnu par toutes les applications. Tous les logiciels, tous les langages proposent des fonctionnalités qui exportent les données dans un format texte. Dans certaines circonstances, les outils standards ne fonctionnent pas - trop grops volumes de données, problème d'encoding, caractère inattendu -. Il faut se débrouiller."
   ]
  },
  {
   "cell_type": "code",
   "execution_count": null,
   "metadata": {},
   "outputs": [],
   "source": []
  },
  {
   "cell_type": "markdown",
   "metadata": {},
   "source": [
    "### Exercice 1 : Excel $\\rightarrow$ Python $\\rightarrow$ Excel\n",
    "    \n",
    "Il faut télécharger le fichier [seance4_excel.csv](https://github.com/sdpython/teachpyx/raw/main/_data/seance4_excel.csv) qui contient une table de trois colonnes. Il faut :\n",
    "\n",
    "- le lire sous python\n",
    "- créer une matrice carrée 3x3 où chaque valeur est dans sa case (X,Y),\n",
    "- enregistrer le résultat sous format texte,\n",
    "- le récupérer sous Excel.    "
   ]
  },
  {
   "cell_type": "markdown",
   "metadata": {},
   "source": [
    "### Autres formats de fichiers\n",
    "\n",
    "Les fichiers texte sont les plus simples à manipuler mais il existe d'autres formats classiques :\n",
    "\n",
    "- [json](http://fr.wikipedia.org/wiki/JSON) : un format d'échange de données très utilisés sur internet\n",
    "- [html](http://fr.wikipedia.org/wiki/Hypertext_Markup_Language) : les pages web\n",
    "- [xml](http://fr.wikipedia.org/wiki/Extensible_Markup_Language) : données structurées\n",
    "- [zip](http://fr.wikipedia.org/wiki/ZIP_(format_de_fichier)), [gz](http://fr.wikipedia.org/wiki/Gzip) : données compressées\n",
    "- [wav](http://fr.wikipedia.org/wiki/WAVEform_audio_format), [mp3](http://fr.wikipedia.org/wiki/MPEG-1/2_Audio_Layer_3), [ogg](http://fr.wikipedia.org/wiki/Ogg) : musique\n",
    "- [mp4](http://fr.wikipedia.org/wiki/MPEG-4), [Vorbis](http://fr.wikipedia.org/wiki/Vorbis) : vidéo\n",
    "- ..."
   ]
  },
  {
   "cell_type": "markdown",
   "metadata": {},
   "source": [
    "## Modules\n",
    "\n",
    "Les modules sont des extensions du langages. Python ne sait quasiment rien faire seul mais il bénéficie de nombreuses extensions. On distingue souvent les extensions présentes lors de l'installation du langage (le module [math](https://docs.python.org/3.4/library/math.html)) des extensions externes qu'il faut soi-même installer ([numpy](http://www.numpy.org/)). Deux liens :\n",
    "\n",
    "- [modules officiels](http://docs.python.org/3.4/library/)\n",
    "- [modules externes](https://pypi.python.org/pypi)\n",
    "\n",
    "Le premier réflexe est toujours de regarder si un module ne pourrait pas vous être utile avant de commencer à programmer. Pour utiliser une fonction d'un module, on utilise l'une des syntaxes suivantes :"
   ]
  },
  {
   "cell_type": "code",
   "execution_count": 24,
   "metadata": {},
   "outputs": [
    {
     "name": "stdout",
     "output_type": "stream",
     "text": [
      "0.5403023058681398\n",
      "0.5403023058681398\n",
      "0.5403023058681398\n"
     ]
    }
   ],
   "source": [
    "import math\n",
    "\n",
    "print(math.cos(1))\n",
    "\n",
    "from math import cos\n",
    "\n",
    "print(cos(1))\n",
    "\n",
    "from math import *  # cette syntaxe est déconseillée car il est possible qu'une fonction\n",
    "\n",
    "print(cos(1))  # porte le même nom qu'une des vôtres"
   ]
  },
  {
   "cell_type": "markdown",
   "metadata": {},
   "source": [
    "### Exercice 2 : trouver un module (1)\n",
    "\n",
    "Aller à la page [modules officiels](http://docs.python.org/3.4/library/) (ou utiliser un moteur de recherche) pour trouver un module permettant de générer des nombres aléatoires. Créer une liste de nombres aléatoires selon une loi uniforme puis faire une permutation aléatoire de cette séquence."
   ]
  },
  {
   "cell_type": "markdown",
   "metadata": {},
   "source": [
    "### Exercice 3 : trouver un module (2)\n",
    "\n",
    "Trouver un module qui vous permette de calculer la différence entre deux dates puis déterminer le jour de la semaine où vous êtes nés."
   ]
  },
  {
   "cell_type": "markdown",
   "metadata": {},
   "source": [
    "### Module qu'on crée soi-même\n",
    "\n",
    "Il est possible de répartir son programme en plusieurs fichiers. Par exemple, un premier fichier ``monmodule.py`` qui contient une fonction :"
   ]
  },
  {
   "cell_type": "code",
   "execution_count": 25,
   "metadata": {},
   "outputs": [
    {
     "name": "stdout",
     "output_type": "stream",
     "text": [
      "ce message n'apparaît que si ce programme est le point d'entrée\n"
     ]
    }
   ],
   "source": [
    "# fichier monmodule.py\n",
    "import math\n",
    "\n",
    "\n",
    "def fonction_cos_sequence(seq):\n",
    "    return [math.cos(x) for x in seq]\n",
    "\n",
    "\n",
    "if __name__ == \"__main__\":\n",
    "    print(\"ce message n'apparaît que si ce programme est le point d'entrée\")"
   ]
  },
  {
   "cell_type": "markdown",
   "metadata": {},
   "source": [
    "La cellule suivante vous permet d'enregistrer le contenu de la cellule précédente dans un fichier appelée ``monmodule.py``."
   ]
  },
  {
   "cell_type": "code",
   "execution_count": 26,
   "metadata": {},
   "outputs": [],
   "source": [
    "code = \"\"\"\n",
    "# coding: utf-8\n",
    "import math\n",
    "\n",
    "\n",
    "def fonction_cos_sequence(seq) :\n",
    "    return [math.cos(x) for x in seq]\n",
    "\n",
    "\n",
    "if __name__ == \"__main__\" :\n",
    "    print(\"ce message n'apparaît que si ce programme est le point d'entrée\")\n",
    "\"\"\"\n",
    "with open(\"monmodule.py\", \"w\", encoding=\"utf-8\") as f:\n",
    "    f.write(code)"
   ]
  },
  {
   "cell_type": "markdown",
   "metadata": {},
   "source": [
    "Python recherche les modules qu'il peut importer parmi les répertoires de la liste :"
   ]
  },
  {
   "cell_type": "code",
   "execution_count": 2,
   "metadata": {},
   "outputs": [
    {
     "data": {
      "text/plain": [
       "['/usr/lib/python3.10/lib-dynload',\n",
       " '',\n",
       " '/home/xadupre/.venv/lib/python3.10/site-packages']"
      ]
     },
     "execution_count": 2,
     "metadata": {},
     "output_type": "execute_result"
    }
   ],
   "source": [
    "import sys\n",
    "\n",
    "sys.path[-3:]"
   ]
  },
  {
   "cell_type": "markdown",
   "metadata": {},
   "source": [
    "On ajoute le répertoire courant pour que python puisse trouver le nouveau module."
   ]
  },
  {
   "cell_type": "code",
   "execution_count": 3,
   "metadata": {},
   "outputs": [],
   "source": [
    "sys.path.append(\".\")"
   ]
  },
  {
   "cell_type": "markdown",
   "metadata": {},
   "source": [
    "Le second fichier :"
   ]
  },
  {
   "cell_type": "code",
   "execution_count": 4,
   "metadata": {},
   "outputs": [
    {
     "name": "stdout",
     "output_type": "stream",
     "text": [
      "[0.5403023058681398, -0.4161468365471424, -0.9899924966004454]\n"
     ]
    }
   ],
   "source": [
    "import monmodule\n",
    "\n",
    "print(monmodule.fonction_cos_sequence([1, 2, 3]))"
   ]
  },
  {
   "cell_type": "markdown",
   "metadata": {},
   "source": [
    "**Note :** Si le fichier ``monmodule.py`` est modifié, *python* ne recharge pas automatiquement le module si celui-ci a déjà été chargé. On peut voir la liste des modules en mémoire dans la variable ``sys.modules`` :"
   ]
  },
  {
   "cell_type": "code",
   "execution_count": 28,
   "metadata": {},
   "outputs": [
    {
     "data": {
      "text/plain": [
       "['IPython',\n",
       " 'IPython.core',\n",
       " 'IPython.core.alias',\n",
       " 'IPython.core.application',\n",
       " 'IPython.core.async_helpers',\n",
       " 'IPython.core.autocall',\n",
       " 'IPython.core.builtin_trap',\n",
       " 'IPython.core.compilerop',\n",
       " 'IPython.core.completer',\n",
       " 'IPython.core.completerlib']"
      ]
     },
     "execution_count": 28,
     "metadata": {},
     "output_type": "execute_result"
    }
   ],
   "source": [
    "import sys\n",
    "\n",
    "list(sorted(sys.modules))[:10]"
   ]
  },
  {
   "cell_type": "markdown",
   "metadata": {},
   "source": [
    "Pour retirer le module de la mémoire, il faut l'enlever de ``sys.modules`` avec l'instruction ``del sys.modules['monmodule']``. *Python* aura l'impression que le module *monmodule.py* est nouveau et il l'importera à nouveau."
   ]
  },
  {
   "cell_type": "markdown",
   "metadata": {},
   "source": [
    "### Exercice 4 : son propre module\n",
    "\n",
    "Que se passe-t-il si vous remplacez ``if __name__ == \"__main__\":``  par ``if True :``, ce qui équivaut à retirer la ligne ``if __name__ == \"__main__\":`` ?"
   ]
  },
  {
   "cell_type": "markdown",
   "metadata": {},
   "source": [
    "## Expressions régulières\n",
    "\n",
    "Pour la suite de la séance, on utilise comme préambule les instructions suivantes :"
   ]
  },
  {
   "cell_type": "code",
   "execution_count": 29,
   "metadata": {},
   "outputs": [
    {
     "data": {
      "text/plain": [
       "['VOEUX01.txt', 'VOEUX05.txt', 'VOEUX06.txt', 'VOEUX07.txt', 'VOEUX08.txt']"
      ]
     },
     "execution_count": 29,
     "metadata": {},
     "output_type": "execute_result"
    }
   ],
   "source": [
    "from teachpyx.tools.data_helper import download_and_unzip\n",
    "\n",
    "url = \"https://github.com/sdpython/teachpyx/raw/main/_data/voeux.zip\"\n",
    "discours = download_and_unzip(url)\n",
    "discours[:5]"
   ]
  },
  {
   "cell_type": "markdown",
   "metadata": {},
   "source": [
    "La documentation pour les expressions régulières est ici : [regular expressions](http://docs.python.org/3.3/library/re.html). Elles permettent de rechercher des motifs dans un texte :\n",
    "\n",
    "- _4 chiffres / 2 chiffres / 2 chiffres_ correspond au motif des dates, avec une expression régulière, il s'écrit : ``[0-9]{4}/[0-9]{2}/[0-9]{2}``\n",
    "- _la lettre a répété entre 2 et 10 fois_ est un autre motif, il s'écrit : ``a{2,10}``."
   ]
  },
  {
   "cell_type": "code",
   "execution_count": 30,
   "metadata": {},
   "outputs": [
    {
     "name": "stdout",
     "output_type": "stream",
     "text": [
      "['28/12/1903', '08/02/1957']\n"
     ]
    }
   ],
   "source": [
    "import re  # les expressions régulières sont accessibles via le module re\n",
    "\n",
    "expression = re.compile(\"[0-9]{2}/[0-9]{2}/[0-9]{4}\")\n",
    "texte = \"\"\"Je suis né le 28/12/1903 et je suis mort le 08/02/1957. Ma seconde femme est morte le 10/11/63.\"\"\"\n",
    "cherche = expression.findall(texte)\n",
    "print(cherche)"
   ]
  },
  {
   "cell_type": "markdown",
   "metadata": {},
   "source": [
    "Pourquoi la troisième date n'apparaît pas dans la liste de résultats ?"
   ]
  },
  {
   "cell_type": "markdown",
   "metadata": {},
   "source": [
    "### Exercice 5 : chercher un motif dans un texte\n",
    "\n",
    "On souhaite obtenir toutes les séquences de lettres commençant par _je_ ? Quel est le motif correspondant ? Il ne reste plus qu'à terminer le programme précédent."
   ]
  },
  {
   "cell_type": "markdown",
   "metadata": {},
   "source": [
    "### Exercice 6 : chercher un autre motif dans un texte\n",
    "\n",
    "Avec la même expression régulière, rechercher indifféremment le mot _securite_ ou _insecurite_."
   ]
  },
  {
   "cell_type": "markdown",
   "metadata": {
    "collapsed": true
   },
   "source": [
    "### Exercice 7 : recherche les urls dans une page wikipédia\n",
    "\n",
    "On pourra prendre comme exemple la page du programme [Python](https://fr.wikipedia.org/wiki/Python_(langage))."
   ]
  },
  {
   "cell_type": "markdown",
   "metadata": {},
   "source": [
    "### Exercice 8 : construire un texte à motif\n",
    "\n",
    "A l'inverse des expressions régulières, des modules comme [Mako](http://www.makotemplates.org/) ou [Jinja2](http://jinja.pocoo.org/docs/dev/) permettent de construire simplement des documents qui suivent des règles. Ces outils sont très utilisés pour la construction de page web. On appelle cela faire du [templating](https://wiki.python.org/moin/Templating). Créer une page web qui affiche à l'aide d'un des modules la liste des dimanches de cette année."
   ]
  },
  {
   "cell_type": "markdown",
   "metadata": {},
   "source": [
    "## Petites subtilités avec les expressions régulières en Python\n",
    "\n",
    "Je me souviens rarement de la syntaxe des expressions régulières. J'utilise beaucoup la fonction findall. A tort je crois. "
   ]
  },
  {
   "cell_type": "code",
   "execution_count": 2,
   "metadata": {},
   "outputs": [
    {
     "name": "stdout",
     "output_type": "stream",
     "text": [
      "(' c', 'c', 'ab', 'c')\n",
      "(' ab', 'ab', 'ab', '')\n"
     ]
    }
   ],
   "source": [
    "import re\n",
    "\n",
    "text = \"\"\" a ab ab ab ab c a ab ab ab\"\"\"\n",
    "exp = re.compile(\"a( ((ab)|(c)))+\")\n",
    "found = exp.findall(text)\n",
    "for el in found:\n",
    "    print(el)"
   ]
  },
  {
   "cell_type": "markdown",
   "metadata": {},
   "source": [
    "Le premier élément de chaque ligne correspond au groupe inclus dans les premières parenthèses qui matche plusieurs sous-parties de la chaîne de caractères mais seule la dernière est conservée. "
   ]
  },
  {
   "cell_type": "code",
   "execution_count": 3,
   "metadata": {},
   "outputs": [
    {
     "name": "stdout",
     "output_type": "stream",
     "text": [
      "(' ab ab ab ab c', ' c', 'c', 'ab', 'c')\n",
      "(' ab ab ab', ' ab', 'ab', 'ab', '')\n"
     ]
    }
   ],
   "source": [
    "text = \"\"\" a ab ab ab ab c a ab ab ab\"\"\"\n",
    "exp = re.compile(\"a(( ((ab)|(c)))+)\")\n",
    "found = exp.findall(text)\n",
    "for el in found:\n",
    "    print(el)"
   ]
  },
  {
   "cell_type": "markdown",
   "metadata": {},
   "source": [
    "Si on ajoute des parenthèses autour de l'expression répétées (donc incluant le signe +), on récupère toutes les sous-parties matchant le motif répété par +. Naïvement, j'ai pensé que je les aurais toutes dans des éléments séparés. Mais si l'expression régulières contient n groupes de parenthèses, on récupère des tuples de n éléments. Un autre code permet de récupèrer les positions."
   ]
  },
  {
   "cell_type": "code",
   "execution_count": 4,
   "metadata": {},
   "outputs": [
    {
     "name": "stdout",
     "output_type": "stream",
     "text": [
      "01-16: (' ab ab ab ab c', ' c', 'c', 'ab', 'c')\n",
      "17-27: (' ab ab ab', ' ab', 'ab', 'ab', None)\n"
     ]
    }
   ],
   "source": [
    "exp = re.compile(\"a(( ((ab)|(c)))+)\")\n",
    "for m in exp.finditer(text):\n",
    "    print(\"%02d-%02d: %s\" % (m.start(), m.end(), m.groups()))"
   ]
  },
  {
   "cell_type": "markdown",
   "metadata": {},
   "source": [
    "On se rend compte plus rapidement que quelque chose ne va pas."
   ]
  }
 ],
 "metadata": {
  "kernelspec": {
   "display_name": "Python 3 (ipykernel)",
   "language": "python",
   "name": "python3"
  }
 },
 "nbformat": 4,
 "nbformat_minor": 1
}
