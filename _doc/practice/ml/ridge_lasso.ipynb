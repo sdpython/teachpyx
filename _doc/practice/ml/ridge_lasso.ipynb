{
 "cells": [
  {
   "cell_type": "markdown",
   "metadata": {},
   "source": [
    "# Régression Ridge, Lasso et nouvel estimateur\n",
    "\n",
    "Ce notebook présente la régression Ridge, Lasso, et l'API de scikit-learn. Il explique plus en détail pourquoi la régression Lasso contraint les coefficients de la régression à s'annuler."
   ]
  },
  {
   "cell_type": "code",
   "execution_count": 4,
   "metadata": {},
   "outputs": [],
   "source": [
    "%matplotlib inline"
   ]
  },
  {
   "cell_type": "markdown",
   "metadata": {},
   "source": [
    "## Un jeu de données pour un problème de régression"
   ]
  },
  {
   "cell_type": "code",
   "execution_count": 5,
   "metadata": {},
   "outputs": [],
   "source": [
    "from sklearn.datasets import load_diabetes\n",
    "\n",
    "data = load_diabetes()\n",
    "X, y = data.data, data.target / 10"
   ]
  },
  {
   "cell_type": "markdown",
   "metadata": {},
   "source": [
    "`/ 10` ou normaliser pour éviter les problèmes numériques lors que l'optimisation."
   ]
  },
  {
   "cell_type": "code",
   "execution_count": 6,
   "metadata": {},
   "outputs": [],
   "source": [
    "from sklearn.model_selection import train_test_split\n",
    "\n",
    "X_train, X_test, y_train, y_test = train_test_split(X, y)"
   ]
  },
  {
   "cell_type": "markdown",
   "metadata": {},
   "source": [
    "On apprend la première régression linéaire."
   ]
  },
  {
   "cell_type": "code",
   "execution_count": 7,
   "metadata": {},
   "outputs": [
    {
     "data": {
      "text/plain": [
       "array([  0.56507947, -24.63366763,  51.67654224,  34.74727391,\n",
       "       -79.27261232,  43.79683015,  14.9985268 ,  27.18645867,\n",
       "        64.50606168,  11.08885871])"
      ]
     },
     "execution_count": 7,
     "metadata": {},
     "output_type": "execute_result"
    }
   ],
   "source": [
    "from sklearn.linear_model import LinearRegression\n",
    "\n",
    "lin = LinearRegression()\n",
    "lin.fit(X_train, y_train)\n",
    "lin.coef_"
   ]
  },
  {
   "cell_type": "code",
   "execution_count": 8,
   "metadata": {},
   "outputs": [
    {
     "data": {
      "text/plain": [
       "0.5338804549709038"
      ]
     },
     "execution_count": 8,
     "metadata": {},
     "output_type": "execute_result"
    }
   ],
   "source": [
    "from sklearn.metrics import r2_score\n",
    "\n",
    "r2_score(y_test, lin.predict(X_test))"
   ]
  },
  {
   "cell_type": "markdown",
   "metadata": {},
   "source": [
    "## Régression Ridge\n",
    "\n",
    "La régression [Ridge](https://scikit-learn.org/stable/modules/generated/sklearn.linear_model.Ridge.html) optimise le problème qui suit :\n",
    "\n",
    "$$\\min_\\beta E(\\alpha, \\beta) = \\sum_{i=1}^n (y_i - X_i\\beta)^2 + \\alpha \\lVert \\beta \\rVert ^2$$\n",
    "\n",
    "C'est une régression linéaire avec une contrainte quadratique sur les coefficients. C'est utile lorsque les variables sont très corrélées, ce qui fausse souvent la résolution numérique. La solution peut s'exprimer de façon exacte.\n",
    "\n",
    "$$\\beta^* = (X'X + \\alpha I)^{-1} X' Y$$\n",
    "\n",
    "On voit qu'il est possible de choisir un $\\alpha$ pour lequel la matrice $X'X + \\alpha I$ est inversible. C'est aussi utile lorsqu'il y a beaucoup de variables car la probabilité d'avoir des variables corrélées est grande. Il est possible de choisir un $\\alpha$ suffisamment grand pour que la matrice $(X'X + \\alpha I)^{-1}$ soit inversible et la solution unique."
   ]
  },
  {
   "cell_type": "code",
   "execution_count": 9,
   "metadata": {},
   "outputs": [
    {
     "data": {
      "text/plain": [
       "0.14638204850109837"
      ]
     },
     "execution_count": 9,
     "metadata": {},
     "output_type": "execute_result"
    }
   ],
   "source": [
    "from sklearn.linear_model import Ridge\n",
    "\n",
    "rid = Ridge(10).fit(X_train, y_train)\n",
    "r2_score(y_test, rid.predict(X_test))"
   ]
  },
  {
   "cell_type": "code",
   "execution_count": 10,
   "metadata": {},
   "outputs": [
    {
     "data": {
      "text/plain": [
       "(0.5078580798207908, 0.1546076751624358)"
      ]
     },
     "execution_count": 10,
     "metadata": {},
     "output_type": "execute_result"
    }
   ],
   "source": [
    "(r2_score(y_train, lin.predict(X_train)), r2_score(y_train, rid.predict(X_train)))"
   ]
  },
  {
   "cell_type": "markdown",
   "metadata": {},
   "source": [
    "La contrainte introduite sur les coefficients augmente l'erreur sur la base d'apprentissage mais réduit la norme des coefficients."
   ]
  },
  {
   "cell_type": "code",
   "execution_count": 11,
   "metadata": {},
   "outputs": [
    {
     "data": {
      "image/png": "[encoded data removed]",
      "text/plain": [
       "<Figure size 400x400 with 1 Axes>"
      ]
     },
     "metadata": {},
     "output_type": "display_data"
    }
   ],
   "source": [
    "import numpy\n",
    "import matplotlib.pyplot as plt\n",
    "\n",
    "r = numpy.abs(lin.coef_) / numpy.abs(rid.coef_)\n",
    "fig, ax = plt.subplots(1, 1, figsize=(4, 4))\n",
    "ax.plot(r)\n",
    "ax.set_title(\"Ratio des coefficients\\npour une régression Ridge\");"
   ]
  },
  {
   "cell_type": "markdown",
   "metadata": {},
   "source": [
    "Un des coefficients est 10 fois plus grand et la norme des coefficients est plus petite."
   ]
  },
  {
   "cell_type": "code",
   "execution_count": 12,
   "metadata": {},
   "outputs": [
    {
     "data": {
      "text/plain": [
       "(133.92288256836204, 11.468149305335954)"
      ]
     },
     "execution_count": 12,
     "metadata": {},
     "output_type": "execute_result"
    }
   ],
   "source": [
    "numpy.linalg.norm(lin.coef_), numpy.linalg.norm(rid.coef_)"
   ]
  },
  {
   "cell_type": "markdown",
   "metadata": {},
   "source": [
    "De fait, il est préféreable de normaliser les variables avant d'appliquer la contrainte."
   ]
  },
  {
   "cell_type": "code",
   "execution_count": 13,
   "metadata": {},
   "outputs": [
    {
     "data": {
      "text/plain": [
       "0.5109393397213065"
      ]
     },
     "execution_count": 13,
     "metadata": {},
     "output_type": "execute_result"
    }
   ],
   "source": [
    "rid = Ridge(0.2).fit(X_train, y_train)\n",
    "r2_score(y_test, rid.predict(X_test))"
   ]
  },
  {
   "cell_type": "code",
   "execution_count": 14,
   "metadata": {},
   "outputs": [
    {
     "data": {
      "text/plain": [
       "(133.92288256836204, 69.14560512791194)"
      ]
     },
     "execution_count": 14,
     "metadata": {},
     "output_type": "execute_result"
    }
   ],
   "source": [
    "numpy.linalg.norm(lin.coef_), numpy.linalg.norm(rid.coef_)"
   ]
  },
  {
   "cell_type": "markdown",
   "metadata": {},
   "source": [
    "## Régression Lasso\n",
    "\n",
    "La régression [Lasso](https://scikit-learn.org/stable/modules/generated/sklearn.linear_model.Lasso.html) optimise le problème qui suit :\n",
    "\n",
    "$$\\min_\\beta E(\\alpha, \\beta) = \\sum_{i=1}^n (y_i - X_i\\beta)^2 + \\alpha \\lVert \\beta \\rVert$$\n",
    "\n",
    "C'est une régression linéaire avec une contrainte linéaire sur les coefficients. C'est utile lorsque les variables sont très corrélées, ce qui fausse souvent la résolution numérique. La solution ne s'exprime de façon exacte et la résolution utilise une méthode à base de gradient."
   ]
  },
  {
   "cell_type": "code",
   "execution_count": 15,
   "metadata": {},
   "outputs": [
    {
     "data": {
      "text/plain": [
       "array([ 0.,  0.,  0.,  0.,  0.,  0., -0.,  0.,  0.,  0.])"
      ]
     },
     "execution_count": 15,
     "metadata": {},
     "output_type": "execute_result"
    }
   ],
   "source": [
    "from sklearn.linear_model import Lasso\n",
    "\n",
    "las = Lasso(5.0).fit(X_train, y_train)\n",
    "las.coef_"
   ]
  },
  {
   "cell_type": "markdown",
   "metadata": {},
   "source": [
    "On voit que beaucoup de coefficients sont nuls."
   ]
  },
  {
   "cell_type": "code",
   "execution_count": 16,
   "metadata": {},
   "outputs": [
    {
     "data": {
      "text/plain": [
       "array([ True,  True,  True,  True,  True,  True,  True,  True,  True,\n",
       "        True])"
      ]
     },
     "execution_count": 16,
     "metadata": {},
     "output_type": "execute_result"
    }
   ],
   "source": [
    "las.coef_ == 0"
   ]
  },
  {
   "cell_type": "code",
   "execution_count": 17,
   "metadata": {},
   "outputs": [
    {
     "data": {
      "text/plain": [
       "10"
      ]
     },
     "execution_count": 17,
     "metadata": {},
     "output_type": "execute_result"
    }
   ],
   "source": [
    "sum(las.coef_ == 0)"
   ]
  },
  {
   "cell_type": "markdown",
   "metadata": {},
   "source": [
    "Comme pour la régression Ridge, il est préférable de normaliser. On étudie également le nombre de coefficients nuls en fonction de la valeur $\\alpha$."
   ]
  },
  {
   "cell_type": "code",
   "execution_count": 18,
   "metadata": {},
   "outputs": [
    {
     "name": "stderr",
     "output_type": "stream",
     "text": [
      "100%|██████████| 18/18 [00:00<00:00, 354.37it/s]\n"
     ]
    },
    {
     "data": {
      "text/html": [
       "<div>\n",
       "<style scoped>\n",
       "    .dataframe tbody tr th:only-of-type {\n",
       "        vertical-align: middle;\n",
       "    }\n",
       "\n",
       "    .dataframe tbody tr th {\n",
       "        vertical-align: top;\n",
       "    }\n",
       "\n",
       "    .dataframe thead th {\n",
       "        text-align: right;\n",
       "    }\n",
       "</style>\n",
       "<table border=\"1\" class=\"dataframe\">\n",
       "  <thead>\n",
       "    <tr style=\"text-align: right;\">\n",
       "      <th></th>\n",
       "      <th>lambda</th>\n",
       "      <th>r2</th>\n",
       "      <th>nbnull</th>\n",
       "    </tr>\n",
       "  </thead>\n",
       "  <tbody>\n",
       "    <tr>\n",
       "      <th>0</th>\n",
       "      <td>0.00001</td>\n",
       "      <td>0.533887</td>\n",
       "      <td>0</td>\n",
       "    </tr>\n",
       "    <tr>\n",
       "      <th>1</th>\n",
       "      <td>0.00010</td>\n",
       "      <td>0.533923</td>\n",
       "      <td>0</td>\n",
       "    </tr>\n",
       "    <tr>\n",
       "      <th>2</th>\n",
       "      <td>0.00500</td>\n",
       "      <td>0.533023</td>\n",
       "      <td>2</td>\n",
       "    </tr>\n",
       "    <tr>\n",
       "      <th>3</th>\n",
       "      <td>0.01000</td>\n",
       "      <td>0.529573</td>\n",
       "      <td>3</td>\n",
       "    </tr>\n",
       "    <tr>\n",
       "      <th>4</th>\n",
       "      <td>0.01500</td>\n",
       "      <td>0.522538</td>\n",
       "      <td>3</td>\n",
       "    </tr>\n",
       "  </tbody>\n",
       "</table>\n",
       "</div>"
      ],
      "text/plain": [
       "    lambda        r2  nbnull\n",
       "0  0.00001  0.533887       0\n",
       "1  0.00010  0.533923       0\n",
       "2  0.00500  0.533023       2\n",
       "3  0.01000  0.529573       3\n",
       "4  0.01500  0.522538       3"
      ]
     },
     "execution_count": 18,
     "metadata": {},
     "output_type": "execute_result"
    }
   ],
   "source": [
    "from tqdm import tqdm\n",
    "\n",
    "res = []\n",
    "for alf in tqdm(\n",
    "    [\n",
    "        0.00001,\n",
    "        0.0001,\n",
    "        0.005,\n",
    "        0.01,\n",
    "        0.015,\n",
    "        0.02,\n",
    "        0.025,\n",
    "        0.03,\n",
    "        0.04,\n",
    "        0.05,\n",
    "        0.06,\n",
    "        0.07,\n",
    "        0.08,\n",
    "        0.09,\n",
    "        0.1,\n",
    "        0.2,\n",
    "        0.3,\n",
    "        0.4,\n",
    "    ]\n",
    "):\n",
    "    las = Lasso(alf).fit(X_train, y_train)\n",
    "    r2 = r2_score(y_test, las.predict(X_test))\n",
    "    res.append({\"lambda\": alf, \"r2\": r2, \"nbnull\": sum(las.coef_ == 0)})\n",
    "\n",
    "\n",
    "from pandas import DataFrame\n",
    "\n",
    "df = DataFrame(res)\n",
    "df.head(5)"
   ]
  },
  {
   "cell_type": "code",
   "execution_count": 19,
   "metadata": {},
   "outputs": [
    {
     "data": {
      "image/png": "[encoded data removed]",
      "text/plain": [
       "<Figure size 800x300 with 2 Axes>"
      ]
     },
     "metadata": {},
     "output_type": "display_data"
    }
   ],
   "source": [
    "fig, ax = plt.subplots(1, 2, figsize=(8, 3))\n",
    "ax[0].plot(df[\"lambda\"], df[\"r2\"], label=\"r2\")\n",
    "ax[1].plot(df[\"lambda\"], df[\"nbnull\"], label=\"nbnull\")\n",
    "ax[1].plot(df[\"lambda\"], las.coef_.shape[0] - df[\"nbnull\"], label=\"nbvar\")\n",
    "ax[0].set_xscale(\"log\")\n",
    "ax[1].set_xscale(\"log\")\n",
    "ax[0].set_xlabel(\"lambda\")\n",
    "ax[1].set_xlabel(\"lambda\")\n",
    "ax[0].legend()\n",
    "ax[1].legend();"
   ]
  },
  {
   "cell_type": "markdown",
   "metadata": {},
   "source": [
    "La régression Lasso annule les coefficients, voire tous les coefficients si le paramètre $\\alpha$ est assez grand. Voyons cela pour une régression avec une seule variable. On doit minimiser l'expression :\n",
    "\n",
    "$$E(\\beta) = \\sum_{i=1}^n (y_i - \\beta x_i)^2 + \\alpha |\\beta|$$\n",
    "\n",
    "Trouver $\\beta^*$ qui minimise l'expression nécessite de trouver le paramètre $\\beta$ tel que $E(\\beta)=0$. On calcule la dérivée $E'(\\beta)$ :\n",
    "\n",
    "$$E'(\\beta) = \\left \\{ \\begin{array}{ll} \\sum_{i=1}^n -x_i(y_i - \\beta x_i) + \\alpha & \\text{si } \\beta > 0 \\\\ \\sum_{i=1}^n -x_i(y_i - \\beta x_i) - \\alpha & \\text{si } \\beta < 0 \\end{array} \\right .$$\n",
    "\n",
    "Et :\n",
    "\n",
    "$$E'(\\beta) = 0 \\Leftrightarrow \\left \\{ \\begin{array}{ll} \\beta = \\frac{-\\alpha + \\sum_{i=1}^n x_i y_i}{\\sum_{i=1}^n{x_i^2}} & \\text{si } \\beta > 0 \\\\ \\beta = \\frac{\\alpha + \\sum_{i=1}^n x_i y_i}{\\sum_{i=1}^n{x_i^2}}  & \\text{si } \\beta < 0 \\end{array} \\right .$$\n",
    "\n",
    "On voit que pour une grande valeur de $\\alpha > \\sum_i x_i y_i$, le paramètre $\\beta$ n'a pas de solution. Dans le premier cas, la valeur est nécessairement négative alors que la solution ne fonctionne que si $\\beta$ est positive. C'est la même situation contradictoire dans l'autre cas. La seule option possible lorsque $\\alpha$ est très grand, c'est $\\beta = 0$. On montre donc que ce qu'on a observé ci-dessus est vrai pour une régression à une dimension."
   ]
  },
  {
   "cell_type": "markdown",
   "metadata": {},
   "source": [
    "## Application à la sélection d'arbre d'une forêt aléatoire\n",
    "\n",
    "Une forêt aléatoire est simplement une moyenne des prédictions d'arbres de régression.\n",
    "\n",
    "$$RF(X) = \\sum_{i=1}^p T_i(X)$$\n",
    "\n",
    "Pourquoi ne pas utiliser une régression Lasso pour réduire le nombre d'arbres et exprimer la forêt aléatoire avec des coefficients $\\beta$ estimés à l'aide d'une régression Lasso et choisis de telle sorte que beaucoup soient nuls.\n",
    "\n",
    "$$RF(X) = \\sum_{i=1}^p \\beta_i T_i(X)$$"
   ]
  },
  {
   "cell_type": "code",
   "execution_count": 20,
   "metadata": {},
   "outputs": [],
   "source": [
    "from sklearn.ensemble import RandomForestRegressor\n",
    "\n",
    "rf = RandomForestRegressor(100).fit(X_train, y_train)"
   ]
  },
  {
   "cell_type": "markdown",
   "metadata": {},
   "source": [
    "La prédiction d'un arbre s'obtient avec :"
   ]
  },
  {
   "cell_type": "code",
   "execution_count": 21,
   "metadata": {},
   "outputs": [
    {
     "data": {
      "text/plain": [
       "array([ 3.9,  9.7, 16.4, 31.1,  3.9, 27.5, 28.1,  5.1, 18.3,  4.3, 10.2,\n",
       "       27. , 25.7, 26.5,  8.7,  5.5,  9.7,  6.9, 11.6,  9.6,  9.6, 12.4,\n",
       "       14.4,  6.7,  7.8,  4.8,  9.7,  7.2,  5.2, 25.9, 30.3, 19.6,  6.4,\n",
       "       17.3,  7.5, 17.3,  5.2, 31.7,  6.9,  5.5, 30.3,  9.7, 28.8, 30.6,\n",
       "        7.2, 25.3, 11.3, 20. , 28.8, 10.1,  9.1, 14.4, 28.8,  5.9, 11.6,\n",
       "       14.4, 28.1, 14.3, 26.5, 15.2, 20. ,  7.8,  9.6,  7. ,  4.8, 30.8,\n",
       "       16.4,  6.9,  8.5, 20.9, 31.1, 20.6, 13.4,  7. , 14.4,  5.2,  8.5,\n",
       "       20.1, 18.6, 15.1,  9. , 14.3, 30.8, 12.5,  5.2, 23.7, 11.6, 20.2,\n",
       "       20.9, 17.8, 23.6, 14.4, 20. , 16. , 21.4, 13.1, 25.7, 17.8,  7.8,\n",
       "       16.4, 12.2, 17.2, 20.9, 18.5,  6.9, 10.1, 21.7, 12.9, 12.8, 29.2,\n",
       "       17.3])"
      ]
     },
     "execution_count": 21,
     "metadata": {},
     "output_type": "execute_result"
    }
   ],
   "source": [
    "rf.estimators_[0].predict(X_test)"
   ]
  },
  {
   "cell_type": "markdown",
   "metadata": {},
   "source": [
    "On construit une fonction qui concatène les prédictions des arbres."
   ]
  },
  {
   "cell_type": "code",
   "execution_count": 22,
   "metadata": {},
   "outputs": [
    {
     "data": {
      "text/plain": [
       "(111, 100)"
      ]
     },
     "execution_count": 22,
     "metadata": {},
     "output_type": "execute_result"
    }
   ],
   "source": [
    "def concatenate_prediction(X):\n",
    "    preds = []\n",
    "    for i in range(len(rf.estimators_)):\n",
    "        pred = rf.estimators_[i].predict(X)\n",
    "        preds.append(pred)\n",
    "    return numpy.vstack(preds).T\n",
    "\n",
    "\n",
    "concatenate_prediction(X_test).shape"
   ]
  },
  {
   "cell_type": "markdown",
   "metadata": {},
   "source": [
    "Et on observe la performance en fonction du paramètre $\\alpha$ de la régression Lasso."
   ]
  },
  {
   "cell_type": "code",
   "execution_count": 23,
   "metadata": {},
   "outputs": [
    {
     "name": "stderr",
     "output_type": "stream",
     "text": [
      "  0%|          | 0/18 [00:00<?, ?it/s]"
     ]
    },
    {
     "name": "stderr",
     "output_type": "stream",
     "text": [
      "100%|██████████| 18/18 [00:03<00:00,  5.14it/s]\n"
     ]
    }
   ],
   "source": [
    "X_train_rf = concatenate_prediction(X_train)\n",
    "X_test_rf = concatenate_prediction(X_test)\n",
    "\n",
    "res = []\n",
    "for alf in tqdm(\n",
    "    [\n",
    "        0.0001,\n",
    "        0.01,\n",
    "        0.1,\n",
    "        0.2,\n",
    "        0.5,\n",
    "        1.0,\n",
    "        1.2,\n",
    "        1.5,\n",
    "        2.0,\n",
    "        4.0,\n",
    "        6.0,\n",
    "        8.0,\n",
    "        10.0,\n",
    "        12.0,\n",
    "        14,\n",
    "        16,\n",
    "        18,\n",
    "        20,\n",
    "    ]\n",
    "):\n",
    "    las = Lasso(alf, max_iter=40000).fit(X_train_rf, y_train)\n",
    "    r2 = r2_score(y_test, las.predict(X_test_rf))\n",
    "    r2_rf = r2_score(y_test, rf.predict(X_test))\n",
    "    res.append({\"lambda\": alf, \"r2\": r2, \"r2_rf\": r2_rf, \"nbnull\": sum(las.coef_ == 0)})"
   ]
  },
  {
   "cell_type": "code",
   "execution_count": 24,
   "metadata": {},
   "outputs": [
    {
     "data": {
      "text/html": [
       "<div>\n",
       "<style scoped>\n",
       "    .dataframe tbody tr th:only-of-type {\n",
       "        vertical-align: middle;\n",
       "    }\n",
       "\n",
       "    .dataframe tbody tr th {\n",
       "        vertical-align: top;\n",
       "    }\n",
       "\n",
       "    .dataframe thead th {\n",
       "        text-align: right;\n",
       "    }\n",
       "</style>\n",
       "<table border=\"1\" class=\"dataframe\">\n",
       "  <thead>\n",
       "    <tr style=\"text-align: right;\">\n",
       "      <th></th>\n",
       "      <th>lambda</th>\n",
       "      <th>r2</th>\n",
       "      <th>r2_rf</th>\n",
       "      <th>nbnull</th>\n",
       "    </tr>\n",
       "  </thead>\n",
       "  <tbody>\n",
       "    <tr>\n",
       "      <th>0</th>\n",
       "      <td>0.0001</td>\n",
       "      <td>0.436048</td>\n",
       "      <td>0.477698</td>\n",
       "      <td>0</td>\n",
       "    </tr>\n",
       "    <tr>\n",
       "      <th>1</th>\n",
       "      <td>0.0100</td>\n",
       "      <td>0.437957</td>\n",
       "      <td>0.477698</td>\n",
       "      <td>2</td>\n",
       "    </tr>\n",
       "    <tr>\n",
       "      <th>2</th>\n",
       "      <td>0.1000</td>\n",
       "      <td>0.453785</td>\n",
       "      <td>0.477698</td>\n",
       "      <td>18</td>\n",
       "    </tr>\n",
       "  </tbody>\n",
       "</table>\n",
       "</div>"
      ],
      "text/plain": [
       "   lambda        r2     r2_rf  nbnull\n",
       "0  0.0001  0.436048  0.477698       0\n",
       "1  0.0100  0.437957  0.477698       2\n",
       "2  0.1000  0.453785  0.477698      18"
      ]
     },
     "execution_count": 24,
     "metadata": {},
     "output_type": "execute_result"
    }
   ],
   "source": [
    "df = DataFrame(res)\n",
    "df.head(3)"
   ]
  },
  {
   "cell_type": "code",
   "execution_count": 25,
   "metadata": {
    "scrolled": false
   },
   "outputs": [
    {
     "data": {
      "image/png": "[encoded data removed]",
      "text/plain": [
       "<Figure size 800x300 with 2 Axes>"
      ]
     },
     "metadata": {},
     "output_type": "display_data"
    }
   ],
   "source": [
    "fig, ax = plt.subplots(1, 2, figsize=(8, 3))\n",
    "ax[0].plot(df[\"lambda\"], df[\"r2\"], label=\"r2\")\n",
    "ax[0].plot(df[\"lambda\"], df[\"r2_rf\"], label=\"r2_rf\")\n",
    "ax[1].plot(df[\"lambda\"], df[\"nbnull\"], label=\"nbnull\")\n",
    "ax[1].plot(df[\"lambda\"], las.coef_.shape[0] - df[\"nbnull\"], label=\"nbvar\")\n",
    "ax[0].set_xscale(\"log\")\n",
    "ax[1].set_xscale(\"log\")\n",
    "ax[0].legend()\n",
    "ax[1].legend();"
   ]
  },
  {
   "cell_type": "markdown",
   "metadata": {},
   "source": [
    "## Explication géométrique de la nullité des coefficients dans une régression Lasso\n",
    "\n",
    "On se place dans le cas d'un modèle très simple : $y = \\alpha_1 x_1 + \\alpha_2 x_2 + \\epsilon$. Les coefficients optimaux sont obtenus en minimisant l'erreur $\\sum (y - (a_1 x_1 + a_2 x_2))^2 + \\lambda (|a_1| + |a_2|)$. On note $E(a_1, a_2) = E_r(a_1, a_2) + E_l(a_1, a_2)$. $E_r$ est l'erreur de régression, $E_l$ est l'erreur de Lasso. Les coefficients optimaux pour l'erreur $E_r$ sont $(a^*_1, a^*_2) = (\\alpha_1 x_1 + \\alpha_2)$. On représente maintenant sur un graphe les courbes de niveaux de ces deux erreurs. "
   ]
  },
  {
   "cell_type": "code",
   "execution_count": 26,
   "metadata": {},
   "outputs": [
    {
     "data": {
      "image/png": "[encoded data removed]",
      "text/plain": [
       "<Figure size 640x480 with 1 Axes>"
      ]
     },
     "metadata": {},
     "output_type": "display_data"
    }
   ],
   "source": [
    "import math\n",
    "\n",
    "\n",
    "def xyl1(t):\n",
    "    return t, numpy.minimum(1 - t, t + 1)\n",
    "\n",
    "\n",
    "def xyl2(t):\n",
    "    return t, numpy.minimum(2.3 - t, t + 2.3)\n",
    "\n",
    "\n",
    "def xyl3(t):\n",
    "    return t, 0.4 - t\n",
    "\n",
    "\n",
    "t = numpy.arange(1000) * 2 * math.pi / 1000\n",
    "t2 = numpy.arange(500) / 500 - 0.2\n",
    "fig, ax = plt.subplots(1, 1)\n",
    "# ax.text(0.35, 2.7, \"lambda1\")\n",
    "# ax.text(0.05, 2.5, \"lambda2\")\n",
    "ax.plot([0.66], [1.66], \"yo\", label=\"a^*\", ms=10)\n",
    "ax.plot([0.0], [1.0], \"yo\", ms=10)\n",
    "ax.plot([0.0], [0.5], \"yo\", ms=10)\n",
    "# ax.plot([0.0], [2.5], \"yo\")\n",
    "ax.plot([0, 0], [0, 3], \"k--\")\n",
    "ax.plot([0, 2], [0, 0], \"k--\")\n",
    "ax.plot(numpy.cos(t) * 0.5 + 1, numpy.sin(t) * 0.5 + 2, \"g\", label=\"Er\")\n",
    "ax.plot(numpy.cos(t) * 2**0.5 + 1, numpy.sin(t) * 2**0.5 + 2, \"g\", lw=4)\n",
    "ax.plot(numpy.cos(t) * 1.8 + 1, numpy.sin(t) * 1.8 + 2, \"g\", lw=6)\n",
    "x, y = xyl1(t2)\n",
    "ax.plot(x, y, \"r\", label=\"El\")\n",
    "x, y = xyl2(t2)\n",
    "ax.plot(x, y, \"r\", lw=4)\n",
    "x, y = xyl3(t2 - 0.5)\n",
    "ax.plot(x, y, \"r--\", lw=2)\n",
    "ax.legend();"
   ]
  },
  {
   "cell_type": "markdown",
   "metadata": {},
   "source": [
    "$E_r$ reste constante sur un cercle. $E_l$ reste constante sur une droite. Le point optimal solution de la régression Ridge est sur la tangente entre le cercle et la droite. Lorsqu'on augmente $\\lambda$, il faut réduire l'erreur, donc passer sur une courbe de niveaux plus grande pour l'erreur $E_r$. Il arrive un moment où ce point tangent est situé sur un des axes. Ensuite, ce point tangent est situé de l'autre côté de l'axe et en annulant le coefficient $a_1$, on décroît à la fois $E_r$ et $E_l$. Vérifions numériquement sur une exemple en estimant les coefficients d'une régression Lasso en deux dimensions $y = a_1 X_1 + a_2 X_2 + \\epsilon$ et en faisant varier la paramètre $\\lambda$ de la contrainte."
   ]
  },
  {
   "cell_type": "code",
   "execution_count": 27,
   "metadata": {},
   "outputs": [
    {
     "name": "stderr",
     "output_type": "stream",
     "text": [
      "100%|██████████| 61/61 [00:00<00:00, 331.56it/s]"
     ]
    },
    {
     "name": "stderr",
     "output_type": "stream",
     "text": [
      "\n"
     ]
    },
    {
     "data": {
      "image/png": "[encoded data removed]",
      "text/plain": [
       "<Figure size 1400x400 with 4 Axes>"
      ]
     },
     "metadata": {},
     "output_type": "display_data"
    }
   ],
   "source": [
    "import warnings\n",
    "from sklearn.metrics import mean_squared_error\n",
    "import pandas\n",
    "\n",
    "X = numpy.random.randn(100, 2) + 1.0\n",
    "X[:, 1] += 1.0\n",
    "y = numpy.sum(X, axis=1) + X[:, 1] + numpy.random.randn(100) / 10\n",
    "\n",
    "\n",
    "def train_lasso(X, y, c):\n",
    "    with warnings.catch_warnings():\n",
    "        warnings.simplefilter(\"ignore\")\n",
    "        lasso = Lasso(c, fit_intercept=False)\n",
    "        lasso.fit(X, y)\n",
    "    Er = mean_squared_error(y, lasso.predict(X))\n",
    "    El = numpy.abs(lasso.coef_).sum() * c\n",
    "    return Er, El, lasso.coef_\n",
    "\n",
    "\n",
    "obs = []\n",
    "for i in tqdm(range(0, 61)):\n",
    "    c = i / 4.0\n",
    "    Er, El, coef = train_lasso(X, y, c)\n",
    "    obs.append(dict(c=c, Er=Er, El=El, E=Er + El, a1=coef[0], a2=coef[1]))\n",
    "df = pandas.DataFrame(obs).set_index(\"c\")\n",
    "\n",
    "fig, ax = plt.subplots(1, 4, figsize=(14, 4))\n",
    "ax[0].plot(X[:, 0], X[:, 1], \".\", label=\"X\")\n",
    "ax[0].set_title(\"Features\")\n",
    "ax[0].set_xlabel(\"x1\")\n",
    "ax[0].set_ylabel(\"x2\")\n",
    "df[[\"Er\", \"El\", \"E\"]].plot(ax=ax[1])\n",
    "ax[1].set_title(\"Errors\")\n",
    "ax[1].set_xlabel(\"lambda\")\n",
    "ax[1].set_ylabel(\"Errors\")\n",
    "df.plot.scatter(x=\"a1\", y=\"a2\", ax=ax[2])\n",
    "ax[2].set_title(\"Coefficients de la régression\")\n",
    "ax[2].set_xlabel(\"a1\")\n",
    "ax[2].set_ylabel(\"a2\")\n",
    "df[[\"a1\", \"a2\"]].plot(ax=ax[3])\n",
    "ax[3].set_title(\"Coefficients\")\n",
    "ax[3].set_xlabel(\"lambda\")\n",
    "ax[3].set_ylabel(\"Coefficients\");"
   ]
  },
  {
   "cell_type": "markdown",
   "metadata": {},
   "source": [
    "On retrouve numériquement le résultat énoncé ci-dessus."
   ]
  },
  {
   "cell_type": "markdown",
   "metadata": {},
   "source": [
    "## Validation croisée et API scikit-learn\n",
    "\n",
    "La validation croisée est simple à faire dans *scikit-learn* est simple à faire si le modèle suit l'API de *scikit-learn* mais ce n'est pas le cas avec notre nouveau modèle. C'est pourtant essentiel pour s'assurer que le modèle est robuste. Toutefois *scikit-learn* permet de créer de nouveau modèle à la sauce *scikit-learn*."
   ]
  },
  {
   "cell_type": "code",
   "execution_count": 28,
   "metadata": {},
   "outputs": [
    {
     "data": {
      "text/plain": [
       "0.47415783259761723"
      ]
     },
     "execution_count": 28,
     "metadata": {},
     "output_type": "execute_result"
    }
   ],
   "source": [
    "from sklearn.base import BaseEstimator, RegressorMixin\n",
    "\n",
    "\n",
    "class LassoRandomForestRegressor(BaseEstimator, RegressorMixin):\n",
    "    def __init__(\n",
    "        self,\n",
    "        # Lasso\n",
    "        alpha=1.0,\n",
    "        fit_intercept=True,\n",
    "        precompute=False,\n",
    "        copy_X=True,\n",
    "        max_iter=1000,\n",
    "        tol=1e-4,\n",
    "        warm_start_lasso=False,\n",
    "        positive=False,\n",
    "        random_state=None,\n",
    "        selection=\"cyclic\",\n",
    "        # RF\n",
    "        n_estimators=100,\n",
    "        criterion=\"squared_error\",\n",
    "        max_depth=None,\n",
    "        min_samples_split=2,\n",
    "        min_samples_leaf=1,\n",
    "        min_weight_fraction_leaf=0.0,\n",
    "        max_features=1.0,\n",
    "        max_leaf_nodes=None,\n",
    "        min_impurity_decrease=0.0,\n",
    "        bootstrap=True,\n",
    "        oob_score=False,\n",
    "        n_jobs=None,\n",
    "        # random_state=None,\n",
    "        verbose=0,\n",
    "        warm_start_rf=False,\n",
    "        ccp_alpha=0.0,\n",
    "        max_samples=None,\n",
    "    ):\n",
    "\n",
    "        # Lasso\n",
    "        self.alpha = alpha\n",
    "        self.fit_intercept = fit_intercept\n",
    "        self.precompute = precompute\n",
    "        self.copy_X = copy_X\n",
    "        self.max_iter = max_iter\n",
    "        self.tol = tol\n",
    "        self.warm_start_lasso = warm_start_lasso\n",
    "        self.positive = positive\n",
    "        self.random_state = random_state\n",
    "        self.selection = selection\n",
    "        # RF\n",
    "        self.n_estimators = n_estimators\n",
    "        self.criterion = criterion\n",
    "        self.max_depth = max_depth\n",
    "        self.min_samples_split = min_samples_split\n",
    "        self.min_samples_leaf = min_samples_leaf\n",
    "        self.min_weight_fraction_leaf = min_weight_fraction_leaf\n",
    "        self.max_features = max_features\n",
    "        self.max_leaf_nodes = max_leaf_nodes\n",
    "        self.min_impurity_decrease = min_impurity_decrease\n",
    "        self.bootstrap = bootstrap\n",
    "        self.oob_score = oob_score\n",
    "        self.n_jobs = n_jobs\n",
    "        self.random_state = random_state\n",
    "        self.verbose = verbose\n",
    "        self.warm_start_rf = warm_start_rf\n",
    "        self.ccp_alpha = ccp_alpha\n",
    "        self.max_samples = max_samples\n",
    "\n",
    "    def _concatenate_prediction(self, X):\n",
    "        preds = []\n",
    "        for i in range(len(self.rf_.estimators_)):\n",
    "            pred = self.rf_.estimators_[i].predict(X)\n",
    "            preds.append(pred)\n",
    "        return numpy.vstack(preds).T\n",
    "\n",
    "    def fit(self, X, y, sample_weight=None):\n",
    "        self.rf_ = RandomForestRegressor(\n",
    "            n_estimators=self.n_estimators,\n",
    "            criterion=self.criterion,\n",
    "            max_depth=self.max_depth,\n",
    "            min_samples_split=self.min_samples_split,\n",
    "            min_samples_leaf=self.min_samples_leaf,\n",
    "            min_weight_fraction_leaf=self.min_weight_fraction_leaf,\n",
    "            max_features=self.max_features,\n",
    "            max_leaf_nodes=self.max_leaf_nodes,\n",
    "            min_impurity_decrease=self.min_impurity_decrease,\n",
    "            bootstrap=self.bootstrap,\n",
    "            oob_score=self.oob_score,\n",
    "            n_jobs=self.n_jobs,\n",
    "            random_state=self.random_state,\n",
    "            verbose=self.verbose,\n",
    "            warm_start=self.warm_start_rf,\n",
    "            ccp_alpha=self.ccp_alpha,\n",
    "            max_samples=self.max_samples,\n",
    "        )\n",
    "\n",
    "        self.rf_.fit(X, y, sample_weight=sample_weight)\n",
    "        X_rf = self._concatenate_prediction(X)\n",
    "\n",
    "        self.lasso_ = Lasso(\n",
    "            alpha=self.alpha,\n",
    "            max_iter=self.max_iter,\n",
    "            fit_intercept=self.fit_intercept,\n",
    "            precompute=self.precompute,\n",
    "            copy_X=self.copy_X,\n",
    "            tol=self.tol,\n",
    "            warm_start=self.warm_start_lasso,\n",
    "            positive=self.positive,\n",
    "            random_state=self.random_state,\n",
    "            selection=self.selection,\n",
    "        )\n",
    "\n",
    "        self.lasso_.fit(X_rf, y)\n",
    "        return self\n",
    "\n",
    "    def predict(self, X):\n",
    "        X_rf = self._concatenate_prediction(X)\n",
    "        return self.lasso_.predict(X_rf)\n",
    "\n",
    "\n",
    "model = LassoRandomForestRegressor(alpha=1, n_estimators=100, max_iter=10000)\n",
    "model.fit(X_train, y_train)\n",
    "pred = model.predict(X_test)\n",
    "r2_score(y_test, pred)"
   ]
  },
  {
   "cell_type": "markdown",
   "metadata": {},
   "source": [
    "Et la validation croisée  fut :"
   ]
  },
  {
   "cell_type": "code",
   "execution_count": 29,
   "metadata": {},
   "outputs": [
    {
     "data": {
      "text/plain": [
       "array([0.26413444, 0.49396068, 0.44598638, 0.52062164, 0.10872839])"
      ]
     },
     "execution_count": 29,
     "metadata": {},
     "output_type": "execute_result"
    }
   ],
   "source": [
    "from sklearn.model_selection import cross_val_score\n",
    "\n",
    "cross_val_score(model, X_train, y_train, cv=5)"
   ]
  },
  {
   "cell_type": "markdown",
   "metadata": {},
   "source": [
    "Ce n'est pas très robuste. Peut-être est-ce dû à l'ordre des données (un léger effet temporel)."
   ]
  },
  {
   "cell_type": "code",
   "execution_count": 30,
   "metadata": {},
   "outputs": [
    {
     "data": {
      "text/plain": [
       "array([0.23637803, 0.33097263, 0.35233357, 0.40361275, 0.45858455])"
      ]
     },
     "execution_count": 30,
     "metadata": {},
     "output_type": "execute_result"
    }
   ],
   "source": [
    "from sklearn.model_selection import ShuffleSplit\n",
    "\n",
    "cross_val_score(\n",
    "    LassoRandomForestRegressor(n_estimators=100, alpha=10, max_iter=10000),\n",
    "    X_train,\n",
    "    y_train,\n",
    "    cv=ShuffleSplit(5),\n",
    ")"
   ]
  },
  {
   "cell_type": "markdown",
   "metadata": {},
   "source": [
    "Pas beaucoup mieux. Le modèle n'est pas très robuste."
   ]
  },
  {
   "cell_type": "markdown",
   "metadata": {},
   "source": [
    "On essaye néanmoins de trouver les meilleurs paramètres à l'aide d'une grille de recherche."
   ]
  },
  {
   "cell_type": "code",
   "execution_count": 40,
   "metadata": {},
   "outputs": [
    {
     "name": "stdout",
     "output_type": "stream",
     "text": [
      "Fitting 5 folds for each of 18 candidates, totalling 90 fits\n"
     ]
    },
    {
     "data": {
      "text/html": [
       "<style>#sk-container-id-2 {\n",
       "  /* Definition of color scheme common for light and dark mode */\n",
       "  --sklearn-color-text: black;\n",
       "  --sklearn-color-line: gray;\n",
       "  /* Definition of color scheme for unfitted estimators */\n",
       "  --sklearn-color-unfitted-level-0: #fff5e6;\n",
       "  --sklearn-color-unfitted-level-1: #f6e4d2;\n",
       "  --sklearn-color-unfitted-level-2: #ffe0b3;\n",
       "  --sklearn-color-unfitted-level-3: chocolate;\n",
       "  /* Definition of color scheme for fitted estimators */\n",
       "  --sklearn-color-fitted-level-0: #f0f8ff;\n",
       "  --sklearn-color-fitted-level-1: #d4ebff;\n",
       "  --sklearn-color-fitted-level-2: #b3dbfd;\n",
       "  --sklearn-color-fitted-level-3: cornflowerblue;\n",
       "\n",
       "  /* Specific color for light theme */\n",
       "  --sklearn-color-text-on-default-background: var(--sg-text-color, var(--theme-code-foreground, var(--jp-content-font-color1, black)));\n",
       "  --sklearn-color-background: var(--sg-background-color, var(--theme-background, var(--jp-layout-color0, white)));\n",
       "  --sklearn-color-border-box: var(--sg-text-color, var(--theme-code-foreground, var(--jp-content-font-color1, black)));\n",
       "  --sklearn-color-icon: #696969;\n",
       "\n",
       "  @media (prefers-color-scheme: dark) {\n",
       "    /* Redefinition of color scheme for dark theme */\n",
       "    --sklearn-color-text-on-default-background: var(--sg-text-color, var(--theme-code-foreground, var(--jp-content-font-color1, white)));\n",
       "    --sklearn-color-background: var(--sg-background-color, var(--theme-background, var(--jp-layout-color0, #111)));\n",
       "    --sklearn-color-border-box: var(--sg-text-color, var(--theme-code-foreground, var(--jp-content-font-color1, white)));\n",
       "    --sklearn-color-icon: #878787;\n",
       "  }\n",
       "}\n",
       "\n",
       "#sk-container-id-2 {\n",
       "  color: var(--sklearn-color-text);\n",
       "}\n",
       "\n",
       "#sk-container-id-2 pre {\n",
       "  padding: 0;\n",
       "}\n",
       "\n",
       "#sk-container-id-2 input.sk-hidden--visually {\n",
       "  border: 0;\n",
       "  clip: rect(1px 1px 1px 1px);\n",
       "  clip: rect(1px, 1px, 1px, 1px);\n",
       "  height: 1px;\n",
       "  margin: -1px;\n",
       "  overflow: hidden;\n",
       "  padding: 0;\n",
       "  position: absolute;\n",
       "  width: 1px;\n",
       "}\n",
       "\n",
       "#sk-container-id-2 div.sk-dashed-wrapped {\n",
       "  border: 1px dashed var(--sklearn-color-line);\n",
       "  margin: 0 0.4em 0.5em 0.4em;\n",
       "  box-sizing: border-box;\n",
       "  padding-bottom: 0.4em;\n",
       "  background-color: var(--sklearn-color-background);\n",
       "}\n",
       "\n",
       "#sk-container-id-2 div.sk-container {\n",
       "  /* jupyter's `normalize.less` sets `[hidden] { display: none; }`\n",
       "     but bootstrap.min.css set `[hidden] { display: none !important; }`\n",
       "     so we also need the `!important` here to be able to override the\n",
       "     default hidden behavior on the sphinx rendered scikit-learn.org.\n",
       "     See: https://github.com/scikit-learn/scikit-learn/issues/21755 */\n",
       "  display: inline-block !important;\n",
       "  position: relative;\n",
       "}\n",
       "\n",
       "#sk-container-id-2 div.sk-text-repr-fallback {\n",
       "  display: none;\n",
       "}\n",
       "\n",
       "div.sk-parallel-item,\n",
       "div.sk-serial,\n",
       "div.sk-item {\n",
       "  /* draw centered vertical line to link estimators */\n",
       "  background-image: linear-gradient(var(--sklearn-color-text-on-default-background), var(--sklearn-color-text-on-default-background));\n",
       "  background-size: 2px 100%;\n",
       "  background-repeat: no-repeat;\n",
       "  background-position: center center;\n",
       "}\n",
       "\n",
       "/* Parallel-specific style estimator block */\n",
       "\n",
       "#sk-container-id-2 div.sk-parallel-item::after {\n",
       "  content: \"\";\n",
       "  width: 100%;\n",
       "  border-bottom: 2px solid var(--sklearn-color-text-on-default-background);\n",
       "  flex-grow: 1;\n",
       "}\n",
       "\n",
       "#sk-container-id-2 div.sk-parallel {\n",
       "  display: flex;\n",
       "  align-items: stretch;\n",
       "  justify-content: center;\n",
       "  background-color: var(--sklearn-color-background);\n",
       "  position: relative;\n",
       "}\n",
       "\n",
       "#sk-container-id-2 div.sk-parallel-item {\n",
       "  display: flex;\n",
       "  flex-direction: column;\n",
       "}\n",
       "\n",
       "#sk-container-id-2 div.sk-parallel-item:first-child::after {\n",
       "  align-self: flex-end;\n",
       "  width: 50%;\n",
       "}\n",
       "\n",
       "#sk-container-id-2 div.sk-parallel-item:last-child::after {\n",
       "  align-self: flex-start;\n",
       "  width: 50%;\n",
       "}\n",
       "\n",
       "#sk-container-id-2 div.sk-parallel-item:only-child::after {\n",
       "  width: 0;\n",
       "}\n",
       "\n",
       "/* Serial-specific style estimator block */\n",
       "\n",
       "#sk-container-id-2 div.sk-serial {\n",
       "  display: flex;\n",
       "  flex-direction: column;\n",
       "  align-items: center;\n",
       "  background-color: var(--sklearn-color-background);\n",
       "  padding-right: 1em;\n",
       "  padding-left: 1em;\n",
       "}\n",
       "\n",
       "\n",
       "/* Toggleable style: style used for estimator/Pipeline/ColumnTransformer box that is\n",
       "clickable and can be expanded/collapsed.\n",
       "- Pipeline and ColumnTransformer use this feature and define the default style\n",
       "- Estimators will overwrite some part of the style using the `sk-estimator` class\n",
       "*/\n",
       "\n",
       "/* Pipeline and ColumnTransformer style (default) */\n",
       "\n",
       "#sk-container-id-2 div.sk-toggleable {\n",
       "  /* Default theme specific background. It is overwritten whether we have a\n",
       "  specific estimator or a Pipeline/ColumnTransformer */\n",
       "  background-color: var(--sklearn-color-background);\n",
       "}\n",
       "\n",
       "/* Toggleable label */\n",
       "#sk-container-id-2 label.sk-toggleable__label {\n",
       "  cursor: pointer;\n",
       "  display: block;\n",
       "  width: 100%;\n",
       "  margin-bottom: 0;\n",
       "  padding: 0.5em;\n",
       "  box-sizing: border-box;\n",
       "  text-align: center;\n",
       "}\n",
       "\n",
       "#sk-container-id-2 label.sk-toggleable__label-arrow:before {\n",
       "  /* Arrow on the left of the label */\n",
       "  content: \"▸\";\n",
       "  float: left;\n",
       "  margin-right: 0.25em;\n",
       "  color: var(--sklearn-color-icon);\n",
       "}\n",
       "\n",
       "#sk-container-id-2 label.sk-toggleable__label-arrow:hover:before {\n",
       "  color: var(--sklearn-color-text);\n",
       "}\n",
       "\n",
       "/* Toggleable content - dropdown */\n",
       "\n",
       "#sk-container-id-2 div.sk-toggleable__content {\n",
       "  max-height: 0;\n",
       "  max-width: 0;\n",
       "  overflow: hidden;\n",
       "  text-align: left;\n",
       "  /* unfitted */\n",
       "  background-color: var(--sklearn-color-unfitted-level-0);\n",
       "}\n",
       "\n",
       "#sk-container-id-2 div.sk-toggleable__content.fitted {\n",
       "  /* fitted */\n",
       "  background-color: var(--sklearn-color-fitted-level-0);\n",
       "}\n",
       "\n",
       "#sk-container-id-2 div.sk-toggleable__content pre {\n",
       "  margin: 0.2em;\n",
       "  border-radius: 0.25em;\n",
       "  color: var(--sklearn-color-text);\n",
       "  /* unfitted */\n",
       "  background-color: var(--sklearn-color-unfitted-level-0);\n",
       "}\n",
       "\n",
       "#sk-container-id-2 div.sk-toggleable__content.fitted pre {\n",
       "  /* unfitted */\n",
       "  background-color: var(--sklearn-color-fitted-level-0);\n",
       "}\n",
       "\n",
       "#sk-container-id-2 input.sk-toggleable__control:checked~div.sk-toggleable__content {\n",
       "  /* Expand drop-down */\n",
       "  max-height: 200px;\n",
       "  max-width: 100%;\n",
       "  overflow: auto;\n",
       "}\n",
       "\n",
       "#sk-container-id-2 input.sk-toggleable__control:checked~label.sk-toggleable__label-arrow:before {\n",
       "  content: \"▾\";\n",
       "}\n",
       "\n",
       "/* Pipeline/ColumnTransformer-specific style */\n",
       "\n",
       "#sk-container-id-2 div.sk-label input.sk-toggleable__control:checked~label.sk-toggleable__label {\n",
       "  color: var(--sklearn-color-text);\n",
       "  background-color: var(--sklearn-color-unfitted-level-2);\n",
       "}\n",
       "\n",
       "#sk-container-id-2 div.sk-label.fitted input.sk-toggleable__control:checked~label.sk-toggleable__label {\n",
       "  background-color: var(--sklearn-color-fitted-level-2);\n",
       "}\n",
       "\n",
       "/* Estimator-specific style */\n",
       "\n",
       "/* Colorize estimator box */\n",
       "#sk-container-id-2 div.sk-estimator input.sk-toggleable__control:checked~label.sk-toggleable__label {\n",
       "  /* unfitted */\n",
       "  background-color: var(--sklearn-color-unfitted-level-2);\n",
       "}\n",
       "\n",
       "#sk-container-id-2 div.sk-estimator.fitted input.sk-toggleable__control:checked~label.sk-toggleable__label {\n",
       "  /* fitted */\n",
       "  background-color: var(--sklearn-color-fitted-level-2);\n",
       "}\n",
       "\n",
       "#sk-container-id-2 div.sk-label label.sk-toggleable__label,\n",
       "#sk-container-id-2 div.sk-label label {\n",
       "  /* The background is the default theme color */\n",
       "  color: var(--sklearn-color-text-on-default-background);\n",
       "}\n",
       "\n",
       "/* On hover, darken the color of the background */\n",
       "#sk-container-id-2 div.sk-label:hover label.sk-toggleable__label {\n",
       "  color: var(--sklearn-color-text);\n",
       "  background-color: var(--sklearn-color-unfitted-level-2);\n",
       "}\n",
       "\n",
       "/* Label box, darken color on hover, fitted */\n",
       "#sk-container-id-2 div.sk-label.fitted:hover label.sk-toggleable__label.fitted {\n",
       "  color: var(--sklearn-color-text);\n",
       "  background-color: var(--sklearn-color-fitted-level-2);\n",
       "}\n",
       "\n",
       "/* Estimator label */\n",
       "\n",
       "#sk-container-id-2 div.sk-label label {\n",
       "  font-family: monospace;\n",
       "  font-weight: bold;\n",
       "  display: inline-block;\n",
       "  line-height: 1.2em;\n",
       "}\n",
       "\n",
       "#sk-container-id-2 div.sk-label-container {\n",
       "  text-align: center;\n",
       "}\n",
       "\n",
       "/* Estimator-specific */\n",
       "#sk-container-id-2 div.sk-estimator {\n",
       "  font-family: monospace;\n",
       "  border: 1px dotted var(--sklearn-color-border-box);\n",
       "  border-radius: 0.25em;\n",
       "  box-sizing: border-box;\n",
       "  margin-bottom: 0.5em;\n",
       "  /* unfitted */\n",
       "  background-color: var(--sklearn-color-unfitted-level-0);\n",
       "}\n",
       "\n",
       "#sk-container-id-2 div.sk-estimator.fitted {\n",
       "  /* fitted */\n",
       "  background-color: var(--sklearn-color-fitted-level-0);\n",
       "}\n",
       "\n",
       "/* on hover */\n",
       "#sk-container-id-2 div.sk-estimator:hover {\n",
       "  /* unfitted */\n",
       "  background-color: var(--sklearn-color-unfitted-level-2);\n",
       "}\n",
       "\n",
       "#sk-container-id-2 div.sk-estimator.fitted:hover {\n",
       "  /* fitted */\n",
       "  background-color: var(--sklearn-color-fitted-level-2);\n",
       "}\n",
       "\n",
       "/* Specification for estimator info (e.g. \"i\" and \"?\") */\n",
       "\n",
       "/* Common style for \"i\" and \"?\" */\n",
       "\n",
       ".sk-estimator-doc-link,\n",
       "a:link.sk-estimator-doc-link,\n",
       "a:visited.sk-estimator-doc-link {\n",
       "  float: right;\n",
       "  font-size: smaller;\n",
       "  line-height: 1em;\n",
       "  font-family: monospace;\n",
       "  background-color: var(--sklearn-color-background);\n",
       "  border-radius: 1em;\n",
       "  height: 1em;\n",
       "  width: 1em;\n",
       "  text-decoration: none !important;\n",
       "  margin-left: 1ex;\n",
       "  /* unfitted */\n",
       "  border: var(--sklearn-color-unfitted-level-1) 1pt solid;\n",
       "  color: var(--sklearn-color-unfitted-level-1);\n",
       "}\n",
       "\n",
       ".sk-estimator-doc-link.fitted,\n",
       "a:link.sk-estimator-doc-link.fitted,\n",
       "a:visited.sk-estimator-doc-link.fitted {\n",
       "  /* fitted */\n",
       "  border: var(--sklearn-color-fitted-level-1) 1pt solid;\n",
       "  color: var(--sklearn-color-fitted-level-1);\n",
       "}\n",
       "\n",
       "/* On hover */\n",
       "div.sk-estimator:hover .sk-estimator-doc-link:hover,\n",
       ".sk-estimator-doc-link:hover,\n",
       "div.sk-label-container:hover .sk-estimator-doc-link:hover,\n",
       ".sk-estimator-doc-link:hover {\n",
       "  /* unfitted */\n",
       "  background-color: var(--sklearn-color-unfitted-level-3);\n",
       "  color: var(--sklearn-color-background);\n",
       "  text-decoration: none;\n",
       "}\n",
       "\n",
       "div.sk-estimator.fitted:hover .sk-estimator-doc-link.fitted:hover,\n",
       ".sk-estimator-doc-link.fitted:hover,\n",
       "div.sk-label-container:hover .sk-estimator-doc-link.fitted:hover,\n",
       ".sk-estimator-doc-link.fitted:hover {\n",
       "  /* fitted */\n",
       "  background-color: var(--sklearn-color-fitted-level-3);\n",
       "  color: var(--sklearn-color-background);\n",
       "  text-decoration: none;\n",
       "}\n",
       "\n",
       "/* Span, style for the box shown on hovering the info icon */\n",
       ".sk-estimator-doc-link span {\n",
       "  display: none;\n",
       "  z-index: 9999;\n",
       "  position: relative;\n",
       "  font-weight: normal;\n",
       "  right: .2ex;\n",
       "  padding: .5ex;\n",
       "  margin: .5ex;\n",
       "  width: min-content;\n",
       "  min-width: 20ex;\n",
       "  max-width: 50ex;\n",
       "  color: var(--sklearn-color-text);\n",
       "  box-shadow: 2pt 2pt 4pt #999;\n",
       "  /* unfitted */\n",
       "  background: var(--sklearn-color-unfitted-level-0);\n",
       "  border: .5pt solid var(--sklearn-color-unfitted-level-3);\n",
       "}\n",
       "\n",
       ".sk-estimator-doc-link.fitted span {\n",
       "  /* fitted */\n",
       "  background: var(--sklearn-color-fitted-level-0);\n",
       "  border: var(--sklearn-color-fitted-level-3);\n",
       "}\n",
       "\n",
       ".sk-estimator-doc-link:hover span {\n",
       "  display: block;\n",
       "}\n",
       "\n",
       "/* \"?\"-specific style due to the `<a>` HTML tag */\n",
       "\n",
       "#sk-container-id-2 a.estimator_doc_link {\n",
       "  float: right;\n",
       "  font-size: 1rem;\n",
       "  line-height: 1em;\n",
       "  font-family: monospace;\n",
       "  background-color: var(--sklearn-color-background);\n",
       "  border-radius: 1rem;\n",
       "  height: 1rem;\n",
       "  width: 1rem;\n",
       "  text-decoration: none;\n",
       "  /* unfitted */\n",
       "  color: var(--sklearn-color-unfitted-level-1);\n",
       "  border: var(--sklearn-color-unfitted-level-1) 1pt solid;\n",
       "}\n",
       "\n",
       "#sk-container-id-2 a.estimator_doc_link.fitted {\n",
       "  /* fitted */\n",
       "  border: var(--sklearn-color-fitted-level-1) 1pt solid;\n",
       "  color: var(--sklearn-color-fitted-level-1);\n",
       "}\n",
       "\n",
       "/* On hover */\n",
       "#sk-container-id-2 a.estimator_doc_link:hover {\n",
       "  /* unfitted */\n",
       "  background-color: var(--sklearn-color-unfitted-level-3);\n",
       "  color: var(--sklearn-color-background);\n",
       "  text-decoration: none;\n",
       "}\n",
       "\n",
       "#sk-container-id-2 a.estimator_doc_link.fitted:hover {\n",
       "  /* fitted */\n",
       "  background-color: var(--sklearn-color-fitted-level-3);\n",
       "}\n",
       "</style><div id=\"sk-container-id-2\" class=\"sk-top-container\"><div class=\"sk-text-repr-fallback\"><pre>GridSearchCV(estimator=LassoRandomForestRegressor(),\n",
       "             param_grid={&#x27;alpha&#x27;: [0.1, 0.5, 1.0, 2.0, 5.0, 10],\n",
       "                         &#x27;max_iter&#x27;: [10000], &#x27;n_estimators&#x27;: [10, 20, 50]},\n",
       "             verbose=1)</pre><b>In a Jupyter environment, please rerun this cell to show the HTML representation or trust the notebook. <br />On GitHub, the HTML representation is unable to render, please try loading this page with nbviewer.org.</b></div><div class=\"sk-container\" hidden><div class=\"sk-item sk-dashed-wrapped\"><div class=\"sk-label-container\"><div class=\"sk-label fitted sk-toggleable\"><input class=\"sk-toggleable__control sk-hidden--visually\" id=\"sk-estimator-id-4\" type=\"checkbox\" ><label for=\"sk-estimator-id-4\" class=\"sk-toggleable__label fitted sk-toggleable__label-arrow fitted\">&nbsp;&nbsp;GridSearchCV<a class=\"sk-estimator-doc-link fitted\" rel=\"noreferrer\" target=\"_blank\" href=\"https://scikit-learn.org/dev/modules/generated/sklearn.model_selection.GridSearchCV.html\">?<span>Documentation for GridSearchCV</span></a><span class=\"sk-estimator-doc-link fitted\">i<span>Fitted</span></span></label><div class=\"sk-toggleable__content fitted\"><pre>GridSearchCV(estimator=LassoRandomForestRegressor(),\n",
       "             param_grid={&#x27;alpha&#x27;: [0.1, 0.5, 1.0, 2.0, 5.0, 10],\n",
       "                         &#x27;max_iter&#x27;: [10000], &#x27;n_estimators&#x27;: [10, 20, 50]},\n",
       "             verbose=1)</pre></div> </div></div><div class=\"sk-parallel\"><div class=\"sk-parallel-item\"><div class=\"sk-item\"><div class=\"sk-label-container\"><div class=\"sk-label fitted sk-toggleable\"><input class=\"sk-toggleable__control sk-hidden--visually\" id=\"sk-estimator-id-5\" type=\"checkbox\" ><label for=\"sk-estimator-id-5\" class=\"sk-toggleable__label fitted sk-toggleable__label-arrow fitted\">estimator: LassoRandomForestRegressor</label><div class=\"sk-toggleable__content fitted\"><pre>LassoRandomForestRegressor()</pre></div> </div></div><div class=\"sk-serial\"><div class=\"sk-item\"><div class=\"sk-estimator fitted sk-toggleable\"><input class=\"sk-toggleable__control sk-hidden--visually\" id=\"sk-estimator-id-6\" type=\"checkbox\" ><label for=\"sk-estimator-id-6\" class=\"sk-toggleable__label fitted sk-toggleable__label-arrow fitted\">LassoRandomForestRegressor</label><div class=\"sk-toggleable__content fitted\"><pre>LassoRandomForestRegressor()</pre></div> </div></div></div></div></div></div></div></div></div>"
      ],
      "text/plain": [
       "GridSearchCV(estimator=LassoRandomForestRegressor(),\n",
       "             param_grid={'alpha': [0.1, 0.5, 1.0, 2.0, 5.0, 10],\n",
       "                         'max_iter': [10000], 'n_estimators': [10, 20, 50]},\n",
       "             verbose=1)"
      ]
     },
     "execution_count": 40,
     "metadata": {},
     "output_type": "execute_result"
    }
   ],
   "source": [
    "from sklearn.model_selection import GridSearchCV\n",
    "\n",
    "params = {\n",
    "    \"alpha\": [0.1, 0.5, 1.0, 2.0, 5.0, 10],\n",
    "    \"n_estimators\": [10, 20, 50],\n",
    "    \"max_iter\": [10000],\n",
    "}\n",
    "grid = GridSearchCV(LassoRandomForestRegressor(), param_grid=params, verbose=1)\n",
    "grid.fit(X_train, y_train)"
   ]
  },
  {
   "cell_type": "code",
   "execution_count": 41,
   "metadata": {},
   "outputs": [
    {
     "data": {
      "text/plain": [
       "{'alpha': 10, 'max_iter': 10000, 'n_estimators': 50}"
      ]
     },
     "execution_count": 41,
     "metadata": {},
     "output_type": "execute_result"
    }
   ],
   "source": [
    "grid.best_params_"
   ]
  },
  {
   "cell_type": "code",
   "execution_count": 42,
   "metadata": {
    "scrolled": false
   },
   "outputs": [
    {
     "data": {
      "text/plain": [
       "0.44775063104195545"
      ]
     },
     "execution_count": 42,
     "metadata": {},
     "output_type": "execute_result"
    }
   ],
   "source": [
    "r2_score(y_test, grid.best_estimator_.predict(X_test))"
   ]
  },
  {
   "cell_type": "code",
   "execution_count": 43,
   "metadata": {},
   "outputs": [
    {
     "data": {
      "text/plain": [
       "25"
      ]
     },
     "execution_count": 43,
     "metadata": {},
     "output_type": "execute_result"
    }
   ],
   "source": [
    "sum(grid.best_estimator_.lasso_.coef_ == 0)"
   ]
  },
  {
   "cell_type": "markdown",
   "metadata": {},
   "source": [
    "On a réussi à supprimer 27 arbres."
   ]
  },
  {
   "cell_type": "markdown",
   "metadata": {},
   "source": [
    "## Optimisation mémoire\n",
    "\n",
    "Le modèle précédent n'est pas optimal dans le sens où il stocke en mémoire tous les arbres, mêmes ceux associés à un coefficient nuls après la régression Lasso alors que le calcul ne sert à rien puisque ignoré."
   ]
  },
  {
   "cell_type": "code",
   "execution_count": 44,
   "metadata": {},
   "outputs": [
    {
     "data": {
      "text/plain": [
       "0.4731987666983202"
      ]
     },
     "execution_count": 44,
     "metadata": {},
     "output_type": "execute_result"
    }
   ],
   "source": [
    "class OptimizedLassoRandomForestRegressor(BaseEstimator, RegressorMixin):\n",
    "    def __init__(\n",
    "        self,\n",
    "        # Lasso\n",
    "        alpha=1.0,\n",
    "        fit_intercept=True,\n",
    "        precompute=False,\n",
    "        copy_X=True,\n",
    "        max_iter=1000,\n",
    "        tol=1e-4,\n",
    "        warm_start_lasso=False,\n",
    "        positive=False,\n",
    "        random_state=None,\n",
    "        selection=\"cyclic\",\n",
    "        # RF\n",
    "        n_estimators=100,\n",
    "        criterion=\"squared_error\",\n",
    "        max_depth=None,\n",
    "        min_samples_split=2,\n",
    "        min_samples_leaf=1,\n",
    "        min_weight_fraction_leaf=0.0,\n",
    "        max_features=1.0,\n",
    "        max_leaf_nodes=None,\n",
    "        min_impurity_decrease=0.0,\n",
    "        bootstrap=True,\n",
    "        oob_score=False,\n",
    "        n_jobs=None,\n",
    "        # random_state=None,\n",
    "        verbose=0,\n",
    "        warm_start_rf=False,\n",
    "        ccp_alpha=0.0,\n",
    "        max_samples=None,\n",
    "    ):\n",
    "\n",
    "        # Lasso\n",
    "        self.alpha = alpha\n",
    "        self.fit_intercept = fit_intercept\n",
    "        self.precompute = precompute\n",
    "        self.copy_X = copy_X\n",
    "        self.max_iter = max_iter\n",
    "        self.tol = tol\n",
    "        self.warm_start_lasso = warm_start_lasso\n",
    "        self.positive = positive\n",
    "        self.random_state = random_state\n",
    "        self.selection = selection\n",
    "        # RF\n",
    "        self.n_estimators = n_estimators\n",
    "        self.criterion = criterion\n",
    "        self.max_depth = max_depth\n",
    "        self.min_samples_split = min_samples_split\n",
    "        self.min_samples_leaf = min_samples_leaf\n",
    "        self.min_weight_fraction_leaf = min_weight_fraction_leaf\n",
    "        self.max_features = max_features\n",
    "        self.max_leaf_nodes = max_leaf_nodes\n",
    "        self.min_impurity_decrease = min_impurity_decrease\n",
    "        self.bootstrap = bootstrap\n",
    "        self.oob_score = oob_score\n",
    "        self.n_jobs = n_jobs\n",
    "        self.random_state = random_state\n",
    "        self.verbose = verbose\n",
    "        self.warm_start_rf = warm_start_rf\n",
    "        self.ccp_alpha = ccp_alpha\n",
    "        self.max_samples = max_samples\n",
    "\n",
    "    def _concatenate_prediction(self, X):\n",
    "        preds = []\n",
    "        for i in range(len(self.rf_.estimators_)):\n",
    "            pred = self.rf_.estimators_[i].predict(X)\n",
    "            preds.append(pred)\n",
    "        return numpy.vstack(preds).T\n",
    "\n",
    "    def fit(self, X, y, sample_weight=None):\n",
    "\n",
    "        self.rf_ = RandomForestRegressor(\n",
    "            n_estimators=self.n_estimators,\n",
    "            criterion=self.criterion,\n",
    "            max_depth=self.max_depth,\n",
    "            min_samples_split=self.min_samples_split,\n",
    "            min_samples_leaf=self.min_samples_leaf,\n",
    "            min_weight_fraction_leaf=self.min_weight_fraction_leaf,\n",
    "            max_features=self.max_features,\n",
    "            max_leaf_nodes=self.max_leaf_nodes,\n",
    "            min_impurity_decrease=self.min_impurity_decrease,\n",
    "            bootstrap=self.bootstrap,\n",
    "            oob_score=self.oob_score,\n",
    "            n_jobs=self.n_jobs,\n",
    "            random_state=self.random_state,\n",
    "            verbose=self.verbose,\n",
    "            warm_start=self.warm_start_rf,\n",
    "            ccp_alpha=self.ccp_alpha,\n",
    "            max_samples=self.max_samples,\n",
    "        )\n",
    "\n",
    "        self.rf_.fit(X, y, sample_weight=sample_weight)\n",
    "        X_rf = self._concatenate_prediction(X)\n",
    "\n",
    "        self.lasso_ = Lasso(\n",
    "            alpha=self.alpha,\n",
    "            max_iter=self.max_iter,\n",
    "            fit_intercept=self.fit_intercept,\n",
    "            precompute=self.precompute,\n",
    "            copy_X=self.copy_X,\n",
    "            tol=self.tol,\n",
    "            warm_start=self.warm_start_lasso,\n",
    "            positive=self.positive,\n",
    "            random_state=self.random_state,\n",
    "            selection=self.selection,\n",
    "        )\n",
    "\n",
    "        self.lasso_.fit(X_rf, y)\n",
    "\n",
    "        # on ne garde que les arbres associées à des coefficients non nuls\n",
    "        self.coef_ = []\n",
    "        self.intercept_ = self.lasso_.intercept_\n",
    "        self.estimators_ = []\n",
    "        for i in range(len(self.rf_.estimators_)):\n",
    "            if self.lasso_.coef_[i] != 0:\n",
    "                self.estimators_.append(self.rf_.estimators_[i])\n",
    "                self.coef_.append(self.lasso_.coef_[i])\n",
    "\n",
    "        self.coef_ = numpy.array(self.coef_)\n",
    "        del self.lasso_\n",
    "        del self.rf_\n",
    "        return self\n",
    "\n",
    "    def predict(self, X):\n",
    "        preds = []\n",
    "        for i in range(len(self.estimators_)):\n",
    "            pred = self.estimators_[i].predict(X)\n",
    "            preds.append(pred)\n",
    "        x_rf = numpy.vstack(preds).T\n",
    "\n",
    "        return x_rf @ self.coef_ + self.intercept_\n",
    "\n",
    "\n",
    "model2 = OptimizedLassoRandomForestRegressor()\n",
    "model2.fit(X_train, y_train)\n",
    "pred = model2.predict(X_test)\n",
    "r2_score(y_test, pred)"
   ]
  },
  {
   "cell_type": "markdown",
   "metadata": {},
   "source": [
    "Le modèle produit bien les mêmes résultats. Vérifions que le nouveau modèle prend moins de place une fois enregistré sur le disque."
   ]
  },
  {
   "cell_type": "code",
   "execution_count": 45,
   "metadata": {},
   "outputs": [],
   "source": [
    "import pickle\n",
    "\n",
    "with open(\"optimzed_rf.pickle\", \"wb\") as f:\n",
    "    pickle.dump(model2, f)"
   ]
  },
  {
   "cell_type": "code",
   "execution_count": 46,
   "metadata": {},
   "outputs": [
    {
     "data": {
      "text/plain": [
       "0.4731987666983202"
      ]
     },
     "execution_count": 46,
     "metadata": {},
     "output_type": "execute_result"
    }
   ],
   "source": [
    "with open(\"optimzed_rf.pickle\", \"rb\") as f:\n",
    "    model2 = pickle.load(f)\n",
    "\n",
    "r2_score(y_test, model2.predict(X_test))"
   ]
  },
  {
   "cell_type": "code",
   "execution_count": 47,
   "metadata": {},
   "outputs": [],
   "source": [
    "with open(\"lasso_rf.pickle\", \"wb\") as f:\n",
    "    pickle.dump(model, f)"
   ]
  },
  {
   "cell_type": "code",
   "execution_count": 48,
   "metadata": {},
   "outputs": [
    {
     "data": {
      "text/plain": [
       "(1354238, 2979576)"
      ]
     },
     "execution_count": 48,
     "metadata": {},
     "output_type": "execute_result"
    }
   ],
   "source": [
    "import os\n",
    "\n",
    "os.stat(\"optimzed_rf.pickle\").st_size, os.stat(\"lasso_rf.pickle\").st_size"
   ]
  },
  {
   "cell_type": "markdown",
   "metadata": {},
   "source": [
    "C'est bien le cas."
   ]
  }
 ],
 "metadata": {
  "kernelspec": {
   "display_name": "Python 3 (ipykernel)",
   "language": "python",
   "name": "python3"
  }
 },
 "nbformat": 4,
 "nbformat_minor": 2
}