{
 "cells": [
  {
   "cell_type": "markdown",
   "id": "8d328050",
   "metadata": {},
   "source": [
    "# Distance d'édition (4 octobre)"
   ]
  },
  {
   "cell_type": "markdown",
   "id": "f8dd2041",
   "metadata": {},
   "source": [
    "## distance avec des mots de même longueur"
   ]
  },
  {
   "cell_type": "code",
   "execution_count": 5,
   "id": "93b30134-069b-40fa-8c77-e47be7670f20",
   "metadata": {},
   "outputs": [
    {
     "data": {
      "text/plain": [
       "2"
      ]
     },
     "execution_count": 5,
     "metadata": {},
     "output_type": "execute_result"
    }
   ],
   "source": [
    "def distance(m1, m2):\n",
    "    if len(m1) != len(m2):\n",
    "        raise ValueError(\"La distance ne marche que pour des mots de même longueur.\")\n",
    "    d = 0\n",
    "    for i in range(len(m1)):\n",
    "        if m1[i] != m2[i]:\n",
    "            d += 1\n",
    "    return d\n",
    "\n",
    "\n",
    "distance(\"REMUNERER\", \"RENUMERER\")"
   ]
  },
  {
   "cell_type": "markdown",
   "id": "0a865ed3",
   "metadata": {},
   "source": [
    "## Distance avec des mots presque de même longueur"
   ]
  },
  {
   "cell_type": "code",
   "execution_count": 12,
   "id": "8be3551c-19ab-4a8e-909a-c61b39ec1528",
   "metadata": {},
   "outputs": [],
   "source": [
    "def distance_1(m1, m2):\n",
    "    if len(m1) == len(m2):\n",
    "        return distance(m1, m2)\n",
    "    if len(m1) > len(m2):\n",
    "        return distance_1(m2, m1)\n",
    "    if len(m1) + 1 != len(m2):\n",
    "        raise ValueError(\"La distance ne marche que pour len(m1) + 1 == len(m2).\")\n",
    "    best = None\n",
    "    for i in range(len(m1) + 1):\n",
    "        m3 = m1[:i] + \" \" + m1[i:]\n",
    "        d = distance(m3, m2)\n",
    "        if best is None or d < best:\n",
    "            best = d\n",
    "    return best\n",
    "\n",
    "\n",
    "def test_distance_1(fdist):\n",
    "    assert fdist(\"REMUNNERER\", \"RENUMERER\") == 3\n",
    "    assert fdist(\"\", \"A\") == 1\n",
    "    assert fdist(\"A\", \"\") == 1\n",
    "    assert fdist(\"A\", \"A\") == 0\n",
    "    assert fdist(\"\", \"\") == 0\n",
    "\n",
    "\n",
    "test_distance_1(distance_1)"
   ]
  },
  {
   "cell_type": "markdown",
   "id": "3dc11cb3",
   "metadata": {},
   "source": [
    "## Cas générique"
   ]
  },
  {
   "cell_type": "code",
   "execution_count": 13,
   "id": "6b9a0037-e36c-4a37-9de4-20102386f71f",
   "metadata": {},
   "outputs": [],
   "source": [
    "def distance_n(m1, m2):\n",
    "    if len(m1) > len(m2):\n",
    "        return distance_n(m2, m1)\n",
    "    if len(m1) + 1 == len(m2):\n",
    "        return distance_1(m1, m2)\n",
    "    best = None\n",
    "    for i in range(len(m1) + 1):\n",
    "        m3 = m1[:i] + \" \" + m1[i:]\n",
    "        d = distance_n(m3, m2)\n",
    "        if best is None or d < best:\n",
    "            best = d\n",
    "    return best\n",
    "\n",
    "\n",
    "test_distance_1(distance_n)"
   ]
  },
  {
   "cell_type": "code",
   "execution_count": 15,
   "id": "84825601-cadb-40d8-89db-b8763f53186a",
   "metadata": {},
   "outputs": [],
   "source": [
    "def test_distance_n(fdist):\n",
    "    assert fdist(\"\", \"AA\") == 2\n",
    "    assert fdist(\"ii\", \"iji\") == 1\n",
    "\n",
    "\n",
    "test_distance_n(distance_n)"
   ]
  },
  {
   "cell_type": "markdown",
   "id": "8aa112d5",
   "metadata": {},
   "source": [
    "## Coût algorithmique"
   ]
  },
  {
   "cell_type": "code",
   "execution_count": null,
   "id": "1e386825-5981-4730-9da0-1e3bb5c89bfc",
   "metadata": {},
   "outputs": [],
   "source": [
    "def distance_levenstein(m1, m2):\n",
    "    dist = np.zeros((len(m1) + 1, len(m2) + 1))\n",
    "    for i in range(0, len(m1) + 1):\n",
    "        for j in range(0, len(m2) + 1):\n",
    "            # ...\n",
    "\n",
    "test_distance_1(distance_levenstein)\n",
    "test_distance_n(distance_levenstein)"
   ]
  }
 ],
 "metadata": {
  "kernelspec": {
   "display_name": "Python 3 (ipykernel)",
   "language": "python",
   "name": "python3"
  },
  "language_info": {
   "codemirror_mode": {
    "name": "ipython",
    "version": 3
   },
   "file_extension": ".py",
   "mimetype": "text/x-python",
   "name": "python",
   "nbconvert_exporter": "python",
   "pygments_lexer": "ipython3",
   "version": "3.11.4"
  }
 },
 "nbformat": 4,
 "nbformat_minor": 5
}
