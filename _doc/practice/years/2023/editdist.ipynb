{
 "cells": [
  {
   "cell_type": "markdown",
   "id": "8d328050",
   "metadata": {},
   "source": [
    "# Distance d'édition (4 octobre)"
   ]
  },
  {
   "cell_type": "markdown",
   "id": "f8dd2041",
   "metadata": {},
   "source": [
    "## distance avec des mots de même longueur"
   ]
  },
  {
   "cell_type": "code",
   "execution_count": 1,
   "id": "93b30134-069b-40fa-8c77-e47be7670f20",
   "metadata": {},
   "outputs": [
    {
     "data": {
      "text/plain": [
       "2"
      ]
     },
     "execution_count": 1,
     "metadata": {},
     "output_type": "execute_result"
    }
   ],
   "source": [
    "def distance(m1, m2):\n",
    "    if len(m1) != len(m2):\n",
    "        raise ValueError(\"La distance ne marche que pour des mots de même longueur.\")\n",
    "    d = 0\n",
    "    for i in range(len(m1)):\n",
    "        if m1[i] != m2[i]:\n",
    "            d += 1\n",
    "    return d\n",
    "\n",
    "\n",
    "distance(\"REMUNERER\", \"RENUMERER\")"
   ]
  },
  {
   "cell_type": "markdown",
   "id": "0a865ed3",
   "metadata": {},
   "source": [
    "## Distance avec des mots presque de même longueur"
   ]
  },
  {
   "cell_type": "code",
   "execution_count": 2,
   "id": "8be3551c-19ab-4a8e-909a-c61b39ec1528",
   "metadata": {},
   "outputs": [],
   "source": [
    "def distance_1(m1, m2):\n",
    "    if len(m1) == len(m2):\n",
    "        return distance(m1, m2)\n",
    "    if len(m1) > len(m2):\n",
    "        return distance_1(m2, m1)\n",
    "    if len(m1) + 1 != len(m2):\n",
    "        raise ValueError(\"La distance ne marche que pour len(m1) + 1 == len(m2).\")\n",
    "    best = None\n",
    "    for i in range(len(m1) + 1):\n",
    "        m3 = m1[:i] + \" \" + m1[i:]\n",
    "        d = distance(m3, m2)\n",
    "        if best is None or d < best:\n",
    "            best = d\n",
    "    return best\n",
    "\n",
    "\n",
    "def test_distance_1(fdist):\n",
    "    assert fdist(\"REMUNNERER\", \"RENUMERER\") == 3\n",
    "    assert fdist(\"\", \"A\") == 1\n",
    "    assert fdist(\"A\", \"\") == 1\n",
    "    assert fdist(\"A\", \"A\") == 0\n",
    "    assert fdist(\"\", \"\") == 0\n",
    "\n",
    "\n",
    "test_distance_1(distance_1)"
   ]
  },
  {
   "cell_type": "markdown",
   "id": "3dc11cb3",
   "metadata": {},
   "source": [
    "## Cas générique"
   ]
  },
  {
   "cell_type": "code",
   "execution_count": 3,
   "id": "6b9a0037-e36c-4a37-9de4-20102386f71f",
   "metadata": {},
   "outputs": [],
   "source": [
    "def distance_n(m1, m2):\n",
    "    if len(m1) > len(m2):\n",
    "        return distance_n(m2, m1)\n",
    "    if len(m1) + 1 == len(m2):\n",
    "        return distance_1(m1, m2)\n",
    "    best = None\n",
    "    for i in range(len(m1) + 1):\n",
    "        m3 = m1[:i] + \" \" + m1[i:]\n",
    "        d = distance_n(m3, m2)\n",
    "        if best is None or d < best:\n",
    "            best = d\n",
    "    return best\n",
    "\n",
    "\n",
    "test_distance_1(distance_n)"
   ]
  },
  {
   "cell_type": "code",
   "execution_count": 4,
   "id": "84825601-cadb-40d8-89db-b8763f53186a",
   "metadata": {},
   "outputs": [],
   "source": [
    "def test_distance_n(fdist):\n",
    "    assert fdist(\"\", \"AA\") == 2\n",
    "    assert fdist(\"ii\", \"iji\") == 1\n",
    "\n",
    "\n",
    "test_distance_n(distance_n)"
   ]
  },
  {
   "cell_type": "markdown",
   "id": "8aa112d5",
   "metadata": {},
   "source": [
    "## Coût algorithmique\n",
    "\n",
    "La fonction effectue une boucle de (P+1) itération, puis une autre de (P+2) puis une autre jusqu'à Q. Le coût est donc en $O\\left(\\frac{Q!}{P!} \\right)$."
   ]
  },
  {
   "cell_type": "markdown",
   "id": "e4fce2a3",
   "metadata": {},
   "source": [
    "## Distance de Levenshtein\n",
    "\n",
    "Voir [Distance de Levenshtein](https://fr.wikipedia.org/wiki/Distance_de_Levenshtein)."
   ]
  },
  {
   "cell_type": "code",
   "execution_count": 5,
   "id": "1e386825-5981-4730-9da0-1e3bb5c89bfc",
   "metadata": {},
   "outputs": [],
   "source": [
    "import numpy as np\n",
    "\n",
    "\n",
    "def distance_levenstein(m1, m2):\n",
    "    dist = np.zeros((len(m1) + 1, len(m2) + 1))\n",
    "    for i in range(len(m1) + 1):\n",
    "        dist[i, 0] = i\n",
    "    for j in range(len(m2) + 1):\n",
    "        dist[0, j] = j\n",
    "    for i in range(1, len(m1) + 1):\n",
    "        for j in range(1, len(m2) + 1):\n",
    "            c = 1 if m1[i - 1] != m2[j - 1] else 0\n",
    "            dist[i, j] = min(\n",
    "                [dist[i - 1, j] + 1, dist[i, j - 1] + 1, dist[i - 1, j - 1] + c]\n",
    "            )\n",
    "    return dist[len(m1), len(m2)]\n",
    "\n",
    "\n",
    "distance_levenstein(\"REMUNERER\", \"RENUMERER\")\n",
    "\n",
    "test_distance_1(distance_levenstein)\n",
    "test_distance_n(distance_levenstein)"
   ]
  },
  {
   "cell_type": "markdown",
   "id": "6fe9cc42",
   "metadata": {},
   "source": [
    "## Avec alignement"
   ]
  },
  {
   "cell_type": "code",
   "execution_count": 8,
   "id": "0e5f55f6",
   "metadata": {},
   "outputs": [
    {
     "data": {
      "text/plain": [
       "(6.0,\n",
       " [(1, 1),\n",
       "  (2, 2),\n",
       "  (2, 3),\n",
       "  (2, 4),\n",
       "  (3, 5),\n",
       "  (4, 6),\n",
       "  (5, 7),\n",
       "  (6, 8),\n",
       "  (7, 9),\n",
       "  (8, 9),\n",
       "  (9, 10),\n",
       "  (10, 11),\n",
       "  (11, 11)],\n",
       " 'RE  MUNEREERE',\n",
       " 'RENNNUMER ER ')"
      ]
     },
     "execution_count": 8,
     "metadata": {},
     "output_type": "execute_result"
    }
   ],
   "source": [
    "import numpy as np\n",
    "\n",
    "\n",
    "def distance_levenstein_alignment(m1, m2):\n",
    "    dist = np.zeros((len(m1) + 1, len(m2) + 1))\n",
    "    pred = np.zeros((len(m1) + 1, len(m2) + 1))\n",
    "    for i in range(len(m1) + 1):\n",
    "        dist[i, 0] = i\n",
    "        pred[i, 0] = 1\n",
    "    for j in range(len(m2) + 1):\n",
    "        dist[0, j] = j\n",
    "        pred[0, j] = 2\n",
    "    for i in range(1, len(m1) + 1):\n",
    "        for j in range(1, len(m2) + 1):\n",
    "            a = dist[i - 1, j] + 1\n",
    "            b = dist[i, j - 1] + 1\n",
    "            c = dist[i - 1, j - 1] + (1 if m1[i - 1] != m2[j - 1] else 0)\n",
    "            if c <= min(a, b):\n",
    "                dist[i, j] = c\n",
    "                pred[i, j] = 3\n",
    "            elif a <= b:\n",
    "                dist[i, j] = a\n",
    "                pred[i, j] = 1\n",
    "            else:\n",
    "                dist[i, j] = b\n",
    "                pred[i, j] = 2\n",
    "    # que faire avec pred?\n",
    "    i, j = len(m1), len(m2)\n",
    "    positions = []\n",
    "    chars = []\n",
    "    while i != 0 or j != 0:\n",
    "        positions.append((i, j))\n",
    "        p = pred[i, j]\n",
    "        if p == 1:\n",
    "            chars.append((m1[i - 1], \" \"))\n",
    "            i -= 1\n",
    "        elif p == 2:\n",
    "            chars.append((\" \", m2[j - 1]))\n",
    "            j -= 1\n",
    "        else:\n",
    "            chars.append((m1[i - 1], m2[j - 1]))\n",
    "            i -= 1\n",
    "            j -= 1\n",
    "\n",
    "    positions.reverse()\n",
    "    chars.reverse()\n",
    "    return (\n",
    "        dist[len(m1), len(m2)],\n",
    "        positions,\n",
    "        \"\".join(c[0] for c in chars),\n",
    "        \"\".join(c[1] for c in chars),\n",
    "    )\n",
    "\n",
    "\n",
    "distance_levenstein_alignment(\"REMUNEREERE\", \"RENNNUMERER\")"
   ]
  },
  {
   "cell_type": "markdown",
   "id": "c3291765",
   "metadata": {},
   "source": [
    "## Un coût différent pour les accents"
   ]
  },
  {
   "cell_type": "code",
   "execution_count": 10,
   "id": "0fba5ed7",
   "metadata": {},
   "outputs": [
    {
     "data": {
      "text/plain": [
       "(3.5,\n",
       " [(1, 1),\n",
       "  (2, 2),\n",
       "  (3, 3),\n",
       "  (4, 4),\n",
       "  (5, 4),\n",
       "  (6, 5),\n",
       "  (7, 6),\n",
       "  (8, 7),\n",
       "  (9, 8),\n",
       "  (10, 9)],\n",
       " 'rému nérer',\n",
       " 'renuumérer')"
      ]
     },
     "execution_count": 10,
     "metadata": {},
     "output_type": "execute_result"
    }
   ],
   "source": [
    "def cost(c1, c2):\n",
    "    if c1 == c2:\n",
    "        return 0\n",
    "    if c1 in \"eéêèë\" and c2 in \"eéêèë\":\n",
    "        return 0.5\n",
    "    return 1\n",
    "\n",
    "\n",
    "def distance_levenstein_alignment_accent(m1, m2):\n",
    "    dist = np.zeros((len(m1) + 1, len(m2) + 1))\n",
    "    pred = np.zeros((len(m1) + 1, len(m2) + 1))\n",
    "    for i in range(len(m1) + 1):\n",
    "        dist[i, 0] = i\n",
    "        pred[i, 0] = 1\n",
    "    for j in range(len(m2) + 1):\n",
    "        dist[0, j] = j\n",
    "        pred[0, j] = 2\n",
    "    for i in range(1, len(m1) + 1):\n",
    "        for j in range(1, len(m2) + 1):\n",
    "            a = dist[i - 1, j] + 1\n",
    "            b = dist[i, j - 1] + 1\n",
    "            c = dist[i - 1, j - 1] + cost(m1[i - 1], m2[j - 1])\n",
    "            if c <= min(a, b):\n",
    "                dist[i, j] = c\n",
    "                pred[i, j] = 3\n",
    "            elif a <= b:\n",
    "                dist[i, j] = a\n",
    "                pred[i, j] = 1\n",
    "            else:\n",
    "                dist[i, j] = b\n",
    "                pred[i, j] = 2\n",
    "\n",
    "    i, j = len(m1), len(m2)\n",
    "    positions = []\n",
    "    chars = []\n",
    "    while i != 0 or j != 0:\n",
    "        positions.append((i, j))\n",
    "        p = pred[i, j]\n",
    "        if p == 1:\n",
    "            chars.append((\" \", m2[j - 1]))\n",
    "            i -= 1\n",
    "        elif p == 2:\n",
    "            chars.append((m1[i - 1], \" \"))\n",
    "            j -= 1\n",
    "        else:\n",
    "            chars.append((m1[i - 1], m2[j - 1]))\n",
    "            i -= 1\n",
    "            j -= 1\n",
    "\n",
    "    positions.reverse()\n",
    "    chars.reverse()\n",
    "    return (\n",
    "        dist[len(m1), len(m2)],\n",
    "        positions,\n",
    "        \"\".join(c[0] for c in chars),\n",
    "        \"\".join(c[1] for c in chars),\n",
    "    )\n",
    "\n",
    "\n",
    "distance_levenstein_alignment_accent(\"rémunnérer\", \"renumérer\")"
   ]
  }
 ],
 "metadata": {
  "kernelspec": {
   "display_name": "Python 3 (ipykernel)",
   "language": "python",
   "name": "python3"
  },
  "language_info": {
   "codemirror_mode": {
    "name": "ipython",
    "version": 3
   },
   "file_extension": ".py",
   "mimetype": "text/x-python",
   "name": "python",
   "nbconvert_exporter": "python",
   "pygments_lexer": "ipython3",
   "version": "3.10.12"
  }
 },
 "nbformat": 4,
 "nbformat_minor": 5
}
