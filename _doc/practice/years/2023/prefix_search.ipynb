{
 "cells": [
  {
   "cell_type": "markdown",
   "id": "8be78edc",
   "metadata": {},
   "source": [
    "# Recherche de préfixes\n",
    "\n",
    "On dispose d'une liste triée de mots. Un très grande liste. On cherche à connaître la position du premier de cette liste commençait par un certain préfixe."
   ]
  },
  {
   "cell_type": "code",
   "execution_count": 4,
   "id": "d8030904-73d8-4a1a-8a8c-313df2f314ce",
   "metadata": {},
   "outputs": [
    {
     "data": {
      "text/plain": [
       "['abc', 'abn', 'aer', 'bee', 'bii', 'bjk', 'cap', 'cbb']"
      ]
     },
     "execution_count": 4,
     "metadata": {},
     "output_type": "execute_result"
    }
   ],
   "source": [
    "mots = [\"abc\", \"abn\", \"aer\", \"bii\", \"bee\", \"bjk\", \"cap\", \"cbb\"]\n",
    "mots.sort()\n",
    "mots"
   ]
  },
  {
   "cell_type": "markdown",
   "id": "9ea17cc5",
   "metadata": {},
   "source": [
    "On cherche les position des premiers mot de la liste triée commençant par chaque lettre."
   ]
  },
  {
   "cell_type": "code",
   "execution_count": 5,
   "id": "52af5f2d",
   "metadata": {},
   "outputs": [
    {
     "data": {
      "text/plain": [
       "2"
      ]
     },
     "execution_count": 5,
     "metadata": {},
     "output_type": "execute_result"
    }
   ],
   "source": [
    "def position_premiere_lettre(prefixe, mots):\n",
    "    # retourne position du premier commençant par le préfixe prefixe\n",
    "    for i, mot in enumerate(mots):\n",
    "        if mot.startswith(prefixe):\n",
    "            return i\n",
    "    return -1\n",
    "\n",
    "\n",
    "position_premiere_lettre(\"ae\", mots)"
   ]
  },
  {
   "cell_type": "markdown",
   "id": "6831c4d3",
   "metadata": {},
   "source": [
    "Même fonction implémentée un peu différemment."
   ]
  },
  {
   "cell_type": "code",
   "execution_count": 6,
   "id": "5c0b3207-8d6f-474c-a6c9-21c9ef0c3235",
   "metadata": {},
   "outputs": [
    {
     "data": {
      "text/plain": [
       "{'c': 6, 'b': 3, 'a': 0}"
      ]
     },
     "execution_count": 6,
     "metadata": {},
     "output_type": "execute_result"
    }
   ],
   "source": [
    "def position_premiere_lettre(mots):\n",
    "    p = {}\n",
    "    for i in range(len(mots) - 1, -1, -1):\n",
    "        p[mots[i][0]] = i\n",
    "    return p\n",
    "\n",
    "\n",
    "position_premiere_lettre(mots)"
   ]
  },
  {
   "cell_type": "markdown",
   "id": "c3c97f35",
   "metadata": {},
   "source": [
    "On cherche maintenant les positions des mots commençant par un préfixe de deux lettres."
   ]
  },
  {
   "cell_type": "code",
   "execution_count": 7,
   "id": "12215aa9-6848-4db8-8d0f-da92f20b142f",
   "metadata": {},
   "outputs": [
    {
     "data": {
      "text/plain": [
       "{'a': {'e': 2, 'b': 0}, 'b': {'j': 5, 'i': 4, 'e': 3}, 'c': {'b': 7, 'a': 6}}"
      ]
     },
     "execution_count": 7,
     "metadata": {},
     "output_type": "execute_result"
    }
   ],
   "source": [
    "def position_lettre(mots, a=0, b=None, pos=0):\n",
    "    p = {}\n",
    "    if b is None:\n",
    "        b = len(mots)\n",
    "    for i in range(b - 1, a - 1, -1):\n",
    "        p[mots[i][pos]] = i\n",
    "    return p\n",
    "\n",
    "\n",
    "def position_deux_lettres(mots):\n",
    "    pos1 = position_premiere_lettre(mots)\n",
    "    elements = list(sorted(pos1.items()))\n",
    "    pos2 = {}\n",
    "    for i, (c, p) in enumerate(elements):\n",
    "        if i < len(elements) - 1:\n",
    "            pos2[c] = position_lettre(mots, p, elements[i + 1][1], pos=1)\n",
    "        else:\n",
    "            pos2[c] = position_lettre(mots, p, pos=1)\n",
    "    return pos2\n",
    "\n",
    "\n",
    "position_deux_lettres(mots)"
   ]
  },
  {
   "cell_type": "markdown",
   "id": "e44f1365-9cc4-4fe7-b2ce-9b445065d317",
   "metadata": {},
   "source": [
    "Peut-on adapter cette fonction à toute longueur de préfixe ? L'idée est de construire le résultat de façon récursive."
   ]
  },
  {
   "cell_type": "code",
   "execution_count": 8,
   "id": "a21a29b3",
   "metadata": {},
   "outputs": [
    {
     "data": {
      "text/plain": [
       "{'a': (0, {'b': (0, {'c': (0, {}), 'n': (1, {})}), 'e': (2, {'r': (2, {})})}),\n",
       " 'b': (3,\n",
       "  {'e': (3, {'e': (3, {})}),\n",
       "   'i': (4, {'i': (4, {})}),\n",
       "   'j': (5, {'k': (5, {})})}),\n",
       " 'c': (6, {'a': (6, {'p': (6, {})}), 'b': (7, {'b': (7, {})})})}"
      ]
     },
     "execution_count": 8,
     "metadata": {},
     "output_type": "execute_result"
    }
   ],
   "source": [
    "def build_dictionary(mots, increment=0):\n",
    "    premiere_lettre = {}\n",
    "    for i, mot in enumerate(mots):\n",
    "        if len(mot) == 0:\n",
    "            continue\n",
    "        initial = mot[0]\n",
    "        if initial not in premiere_lettre:\n",
    "            premiere_lettre[initial] = i\n",
    "    dico = {}\n",
    "    for initial, position1 in premiere_lettre.items():\n",
    "        position_lettre_apres = [i for i in premiere_lettre.values() if i > position1]\n",
    "        position2 = (\n",
    "            len(mots) if len(position_lettre_apres) == 0 else min(position_lettre_apres)\n",
    "        )\n",
    "        sous_mots = mots[position1:position2]\n",
    "        if len(sous_mots) == 0:\n",
    "            dico[initial] = (position1 + increment, None)\n",
    "        else:\n",
    "            sous_mots_1 = [m[1:] for m in sous_mots]\n",
    "            sous_dico = build_dictionary(sous_mots_1, position1 + increment)\n",
    "            dico[initial] = (position1 + increment, sous_dico)\n",
    "    return dico\n",
    "\n",
    "\n",
    "dico = build_dictionary(mots)\n",
    "dico"
   ]
  },
  {
   "cell_type": "markdown",
   "id": "440c424e",
   "metadata": {},
   "source": [
    "Ensuite on peut utiliser cette structure pour accélérer la recherche du premier mots d'une liste triée commençant par un préfixe donné."
   ]
  },
  {
   "cell_type": "code",
   "execution_count": 9,
   "id": "3bd8b1a8",
   "metadata": {},
   "outputs": [
    {
     "data": {
      "text/plain": [
       "3"
      ]
     },
     "execution_count": 9,
     "metadata": {},
     "output_type": "execute_result"
    }
   ],
   "source": [
    "def position_prefixe_dico(prefixe, dico):\n",
    "    d = dico\n",
    "    pos = 0\n",
    "    for c in prefixe:\n",
    "        pos = d[c][0]\n",
    "        d = d[c][1]\n",
    "    return pos\n",
    "\n",
    "\n",
    "position_prefixe_dico(\"be\", dico)"
   ]
  },
  {
   "cell_type": "markdown",
   "id": "eda20926",
   "metadata": {},
   "source": [
    "Comme souvent, la structure permet un gain de temps lors de la recherche. La recherche dichotomique dans une liste triée à un coût en $O(\\log_2 N)$ où $N$ est la longueur de la liste triée. En utilisant la structure, on passe à un coût $O(L\\log_2 C)$ où $L$ est la longueur du préfixe et $C$ le nombre de caractères, en général 26 pour une langue latine. La structure est toujours avantageuse lorsque la liste est grande car l'alphabet est petit et ne peut croître, la longueur du préfixe est elle aussi petite.\n",
    "\n",
    "$$\\exists N, O(\\log_2 N) > O(L\\log_2 C)$$"
   ]
  },
  {
   "cell_type": "code",
   "execution_count": null,
   "id": "0951b415",
   "metadata": {},
   "outputs": [],
   "source": []
  }
 ],
 "metadata": {
  "kernelspec": {
   "display_name": "Python 3 (ipykernel)",
   "language": "python",
   "name": "python3"
  },
  "language_info": {
   "codemirror_mode": {
    "name": "ipython",
    "version": 3
   },
   "file_extension": ".py",
   "mimetype": "text/x-python",
   "name": "python",
   "nbconvert_exporter": "python",
   "pygments_lexer": "ipython3",
   "version": "3.10.12"
  }
 },
 "nbformat": 4,
 "nbformat_minor": 5
}
