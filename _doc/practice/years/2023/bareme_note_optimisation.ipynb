{
 "cells": [
  {
   "cell_type": "markdown",
   "id": "c2ef8144",
   "metadata": {},
   "source": [
    "# Optimiser la note moyenne\n",
    "\n",
    "Un professeur cherche à optimiser la note moyenne de son examen. Son barème est le suivant pour ses 10 questions : [ 1, 1, 1, 2, 2, 2, 3, 3, 3, 4]. Il est seulement possible de permuter les points associés au dix questions. Pour chaque question et chaque étudiant, la réponse est soit fausse, soit bonne."
   ]
  },
  {
   "cell_type": "markdown",
   "id": "f8d9a22d",
   "metadata": {},
   "source": [
    "## La classe Bereme"
   ]
  },
  {
   "cell_type": "code",
   "execution_count": 1,
   "id": "2b46ec07-8969-4932-bc83-f49a3b5b9595",
   "metadata": {},
   "outputs": [
    {
     "data": {
      "text/plain": [
       "array([1, 1, 1, 2, 2, 2, 3, 3, 3, 4])"
      ]
     },
     "execution_count": 1,
     "metadata": {},
     "output_type": "execute_result"
    }
   ],
   "source": [
    "import numpy\n",
    "\n",
    "\n",
    "class Bareme:\n",
    "    def __init__(self, bareme=None):\n",
    "        self.bareme = numpy.array(bareme or [1, 1, 1, 2, 2, 2, 3, 3, 3, 4])\n",
    "\n",
    "    def __str__(self):\n",
    "        # facultatif: juste pour print(bareme)\n",
    "        return f\"Bareme: {self.bareme}\"\n",
    "\n",
    "    def __len__(self):\n",
    "        # facultatif: retourne le nombre de questions\n",
    "        # bareme = Bareme() .... len(bareme) --> appelle Bareme.__len__\n",
    "        return len(self.bareme)\n",
    "\n",
    "    def mean(self, classe):\n",
    "        # Pour écrire ceci :\n",
    "        # bareme = Bareme()\n",
    "        # classe = [Eleve(n_questions=len(bareme)) for i in range(100)]\n",
    "        # moyenne = bareme.mean(classe)\n",
    "        # Cette fonction est nécessaire pour vérifier que l'optimisation a fonctionné.\n",
    "        notes = [e.note(self) for e in classe]\n",
    "        return sum(notes) / len(classe)\n",
    "\n",
    "\n",
    "b = Bareme()\n",
    "b.bareme"
   ]
  },
  {
   "cell_type": "markdown",
   "id": "1c5ba990",
   "metadata": {},
   "source": [
    "## La classe Eleve"
   ]
  },
  {
   "cell_type": "code",
   "execution_count": 3,
   "id": "e2e4e305",
   "metadata": {},
   "outputs": [
    {
     "name": "stdout",
     "output_type": "stream",
     "text": [
      "Eleve: [1 0 1 1 0 0 0 1 1 0]\n",
      "0.45454545454545453\n"
     ]
    }
   ],
   "source": [
    "class Eleve:\n",
    "    def __init__(self, notes=None, n_questions=None):\n",
    "        if notes is None:\n",
    "            # on tire des notes au hasard\n",
    "            self.notes = numpy.random.randint(0, 2, n_questions)\n",
    "        else:\n",
    "            self.notes = numpy.array(notes)\n",
    "\n",
    "    def __str__(self):\n",
    "        return f\"Eleve: {self.notes}\"\n",
    "\n",
    "    def note(self, b):\n",
    "        return (self.notes * b.bareme).sum() / b.bareme.sum()\n",
    "\n",
    "\n",
    "eleve = Eleve(n_questions=len(b))\n",
    "print(eleve)\n",
    "print(eleve.note(b))"
   ]
  },
  {
   "cell_type": "markdown",
   "id": "d192a50a",
   "metadata": {},
   "source": [
    "## Une classe"
   ]
  },
  {
   "cell_type": "code",
   "execution_count": 4,
   "id": "3ff6ba92-40bd-4fb6-8853-1ec0740812a8",
   "metadata": {},
   "outputs": [
    {
     "data": {
      "text/plain": [
       "0.5050000000000003"
      ]
     },
     "execution_count": 4,
     "metadata": {},
     "output_type": "execute_result"
    }
   ],
   "source": [
    "bareme = Bareme()\n",
    "classe = [Eleve(n_questions=len(bareme)) for i in range(100)]\n",
    "moyenne = bareme.mean(classe)\n",
    "moyenne"
   ]
  },
  {
   "cell_type": "markdown",
   "id": "9d7d3e86",
   "metadata": {},
   "source": [
    "## Une barème optimisé\n",
    "\n",
    "On pourrait tester toutes les permutations. C'est la version gloutonne. Mais elle prendrait trop de temps. On part sur une intuition : il faut associer le plus grand nombre de points à la question à laquelle les étudiants ont le mieux répondu. On procède de même pour les autres questions. Il faut trier les questions par ordre croissant des taux de réponses."
   ]
  },
  {
   "cell_type": "code",
   "execution_count": 5,
   "id": "c744560f",
   "metadata": {},
   "outputs": [],
   "source": [
    "class BaremeOpt(Bareme):\n",
    "    def optimize(self, classe):\n",
    "        matrice_notes = numpy.array([e.notes for e in classe])\n",
    "        v = matrice_notes.sum(axis=0)\n",
    "        els_pos = list((v, i) for i, v in enumerate(v))\n",
    "        els_pos.sort()\n",
    "        perm = [tu[1] for tu in els_pos]\n",
    "        b = self.bareme.copy()\n",
    "        for i, p in enumerate(perm):\n",
    "            self.bareme[i] = b[p]"
   ]
  },
  {
   "cell_type": "code",
   "execution_count": 6,
   "id": "e45dfadc-43f5-46c0-af2f-914fca69c376",
   "metadata": {},
   "outputs": [
    {
     "name": "stdout",
     "output_type": "stream",
     "text": [
      "moyenne avant optimisation: 0.49000000000000005\n",
      "moyenne après optimisation: 0.4890909090909088\n"
     ]
    }
   ],
   "source": [
    "bareme = BaremeOpt()\n",
    "classe = [Eleve(n_questions=len(bareme)) for i in range(100)]\n",
    "print(f\"moyenne avant optimisation: {bareme.mean(classe)}\")\n",
    "bareme.optimize(classe)\n",
    "print(f\"moyenne après optimisation: {bareme.mean(classe)}\")"
   ]
  },
  {
   "cell_type": "markdown",
   "id": "4767dd72",
   "metadata": {},
   "source": [
    "## Une erreur\n",
    "\n",
    "Pour une exécution, l'optimisation n'a pas fonctioné. Est-ce l'idée de l'optimisation qui est fausse ou son implémentation. Pour comprendre, on cherche un cas simple :"
   ]
  },
  {
   "cell_type": "code",
   "execution_count": 7,
   "id": "e856a74b-dbc3-4886-aff0-040d16cd7bec",
   "metadata": {},
   "outputs": [],
   "source": [
    "for i in range(100):\n",
    "    bareme = BaremeOpt([1, 2, 3])\n",
    "    classe = [Eleve(n_questions=3) for i in range(3)]\n",
    "    m1 = bareme.mean(classe)\n",
    "    bareme.optimize(classe)\n",
    "    m2 = bareme.mean(classe)\n",
    "    if m2 < m1:\n",
    "        print(f\"moyenne avant-après optimisation: {m1} - {m2} - barème={bareme}\")\n",
    "        for e in classe:\n",
    "            print(e)\n",
    "        break"
   ]
  },
  {
   "cell_type": "markdown",
   "id": "c1c37c9a",
   "metadata": {},
   "source": [
    "Pourtant sur cet exemple, l'algorithme d'optimisation devrait fonctionner. La démonstration plus bas nous l'assure. C'est donc l'implémentation qui est fausse."
   ]
  },
  {
   "cell_type": "code",
   "execution_count": 8,
   "id": "5cf35d2d",
   "metadata": {},
   "outputs": [],
   "source": [
    "class BaremeOpt2(Bareme):\n",
    "    def optimize(self, classe):\n",
    "        matrice_notes = numpy.array([e.notes for e in classe])\n",
    "        v = matrice_notes.sum(axis=0)\n",
    "        els_pos = list((v, i) for i, v in enumerate(v))\n",
    "        els_pos.sort()\n",
    "        perm = [tu[1] for tu in els_pos]\n",
    "        b = self.bareme.copy()\n",
    "        for i, p in enumerate(perm):\n",
    "            # self.bareme[i] = b[p]  # -> l'erreur est là\n",
    "            self.bareme[p] = b[i]"
   ]
  },
  {
   "cell_type": "code",
   "execution_count": 9,
   "id": "ff6b5279",
   "metadata": {},
   "outputs": [],
   "source": [
    "for i in range(100):\n",
    "    bareme = BaremeOpt2([1, 2, 3])\n",
    "    classe = [Eleve(n_questions=3) for i in range(3)]\n",
    "    m1 = bareme.mean(classe)\n",
    "    bareme.optimize(classe)\n",
    "    m2 = bareme.mean(classe)\n",
    "    if m2 < m1:\n",
    "        print(f\"moyenne avant-après optimisation: {m1} - {m2} - barème={bareme}\")\n",
    "        for e in classe:\n",
    "            print(e)\n",
    "        break"
   ]
  },
  {
   "cell_type": "markdown",
   "id": "449eede7",
   "metadata": {},
   "source": [
    "Tout fonctionne."
   ]
  },
  {
   "cell_type": "markdown",
   "id": "bb5eb34e-d80d-47e9-8603-139d54678de5",
   "metadata": {},
   "source": [
    "## Démonstration\n",
    "\n",
    "$v_i$ et $v_j$ les taux de bonnes réponses à deux questions, et $b_i$, $b_j$ les barèmes correspondant. La note moyenne est $v_i b_i + v_j b_j$. Faut-il associer $b_i$ à $v_i$ ou $v_j$ ?\n",
    "\n",
    "$$\n",
    "v_i b_i + v_j b_j - (v_i b_j + v_j b_i) = v_i (b_i - b_j) + v_j (b_j - b_i) = (v_i - v_j)(b_i - b_j)\n",
    "$$\n",
    "\n",
    "Cette quantité est positive si ($v_i < v_j$ et $b_i < b_j$) ou $v_i > v_j$ et $b_i > b_j$), c'est à dire si les taux de bonnes réponses et les barèmes associées sont classés dans le même ordre."
   ]
  },
  {
   "cell_type": "markdown",
   "id": "ba2a1551-f45e-449a-83e4-e5c691969cad",
   "metadata": {},
   "source": [
    "\n",
    "Ce problème est une variante de celui de la location de ski où il faut donner N paires skis de tailles différentes à N skieurs de tailles différentes ([Recherche Opérationnelle: Programmation dynamique, chaînes de Markov, files d’attente](https://members.loria.fr/FSur/enseignement/RO/poly_RO_FSur.pdf))."
   ]
  }
 ],
 "metadata": {
  "kernelspec": {
   "display_name": "Python 3 (ipykernel)",
   "language": "python",
   "name": "python3"
  },
  "language_info": {
   "codemirror_mode": {
    "name": "ipython",
    "version": 3
   },
   "file_extension": ".py",
   "mimetype": "text/x-python",
   "name": "python",
   "nbconvert_exporter": "python",
   "pygments_lexer": "ipython3",
   "version": "3.10.12"
  }
 },
 "nbformat": 4,
 "nbformat_minor": 5
}