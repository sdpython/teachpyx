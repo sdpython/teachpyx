{
 "cells": [
  {
   "cell_type": "markdown",
   "metadata": {},
   "source": [
    "# Pivot de Gauss"
   ]
  },
  {
   "cell_type": "code",
   "execution_count": 36,
   "metadata": {},
   "outputs": [],
   "source": [
    "import numpy as np\n",
    "from numpy.testing import assert_almost_equal\n",
    "\n",
    "\n",
    "def pivot_gauss(M):\n",
    "    if len(M.shape) != 2 or M.shape[0] != M.shape[1]:\n",
    "        raise ValueError(\n",
    "            f\"La fonction ne fonctionne que sur une matrice \"\n",
    "            f\"carrée mais shape est {M.shape}.\"\n",
    "        )\n",
    "    M = M.copy()\n",
    "    n = len(M)\n",
    "    I = np.eye(n)\n",
    "    for i in range(n):\n",
    "        p = i\n",
    "        while M[p, i] == 0:\n",
    "            p += 1\n",
    "        if p >= n:\n",
    "            continue\n",
    "        for k in range(p + 1, n):\n",
    "            indice = M[k, i] / M[p, i]\n",
    "            # La matrice M vérifie M[k,:i] == 0\n",
    "            M[k, i:] -= M[p, i:] * indice\n",
    "            # Mais pas la matrice de passage, c'est pourquoi\n",
    "            # il faut appliquer la même transformation sur toute la ligne\n",
    "            I[k, :] -= I[p, :] * indice\n",
    "\n",
    "    for i in range(n):\n",
    "        indice = M[i, i]\n",
    "        if indice != 0:\n",
    "            # La matrice M vérifie M[k,:i] == 0 (triangulaire supérieure)\n",
    "            M[i, i:] /= indice\n",
    "            # Mais pas la matrice de passage.\n",
    "            I[i, :] /= indice\n",
    "    return M, I\n",
    "\n",
    "\n",
    "def test_pivot_gauss():\n",
    "    v, p = pivot_gauss(np.identity(2))\n",
    "    assert_almost_equal(np.identity(2), v)\n",
    "    assert_almost_equal(np.identity(2), p)\n",
    "\n",
    "    m = np.array([[1, 4], [2, 5]], dtype=np.float64)\n",
    "    v, p = pivot_gauss(m)\n",
    "    assert_almost_equal(v, p @ m)\n",
    "    assert_almost_equal(np.array([[1, 4], [0, 1]], dtype=np.float64), v)\n",
    "\n",
    "    m = np.array([[1, 4, 3], [2, 5, 9], [3, 1, 2]], dtype=np.float64)\n",
    "    v, p = pivot_gauss(m)\n",
    "    assert_almost_equal(v, p @ m)\n",
    "    assert_almost_equal(\n",
    "        np.array([[1, 4, 3], [0, 1, -1], [0, 0, 1]], dtype=np.float64), v\n",
    "    )\n",
    "\n",
    "\n",
    "test_pivot_gauss()"
   ]
  },
  {
   "cell_type": "code",
   "execution_count": null,
   "metadata": {},
   "outputs": [],
   "source": []
  }
 ],
 "metadata": {
  "kernelspec": {
   "display_name": "Python 3",
   "language": "python",
   "name": "python3"
  },
  "language_info": {
   "codemirror_mode": {
    "name": "ipython",
    "version": 3
   },
   "file_extension": ".py",
   "mimetype": "text/x-python",
   "name": "python",
   "nbconvert_exporter": "python",
   "pygments_lexer": "ipython3",
   "version": "3.10.12"
  }
 },
 "nbformat": 4,
 "nbformat_minor": 2
}