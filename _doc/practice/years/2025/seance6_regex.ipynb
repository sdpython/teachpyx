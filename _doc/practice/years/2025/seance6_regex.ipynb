{
 "cells": [
  {
   "cell_type": "markdown",
   "metadata": {},
   "source": [
    "# Séance 6 - epressions régulières"
   ]
  },
  {
   "cell_type": "code",
   "execution_count": 15,
   "metadata": {},
   "outputs": [],
   "source": [
    "texte = \"\"\"\n",
    "Voici un texte intégrant 50 formules de politesse variées, adaptées à différents contextes (professionnel, amical, formel, informel, écrit, oral) :\n",
    "\n",
    "---\n",
    "\n",
    "**Objet : Remerciements et suite à notre échange**\n",
    "\n",
    "Chère Madame Dupont,\n",
    "\n",
    "Je me permets de vous adresser ce message afin de vous exprimer toute ma gratitude pour l’attention que vous avez portée à mon projet. **1. Je vous remercie sincèrement** pour le temps que vous m’avez accordé lors de notre dernière rencontre.\n",
    "\n",
    "**2. Veuillez agréer, Madame, l’expression de mes salutations distinguées.**\n",
    "Je tiens à souligner la qualité de vos conseils, qui m’ont été d’une aide précieuse. **3. Je vous en suis profondément reconnaissant(e).**\n",
    "\n",
    "**4. Avec toute ma considération,**\n",
    "Je vous prie de bien vouloir trouver ci-joint le document que vous m’avez demandé. **5. N’hésitez pas à me faire savoir** si vous souhaitez que j’apporte des modifications ou des précisions.\n",
    "\n",
    "**6. Dans l’attente de votre retour, je reste à votre disposition** pour toute information complémentaire.\n",
    "**7. Je vous remercie par avance** pour l’attention que vous porterez à ce dossier.\n",
    "\n",
    "**8. Cordialement,**\n",
    "Je souhaiterais également vous informer que l’événement aura lieu le 15 novembre prochain. **9. Seriez-vous disponible** pour y assister ?\n",
    "\n",
    "**10. Je serais ravi(e) de vous y retrouver.**\n",
    "**11. En espérant avoir le plaisir de vous compter parmi nous,**\n",
    "Je vous prie d’agréer, Cher Monsieur, **12. l’assurance de ma parfaite considération.**\n",
    "\n",
    "**13. Bien à vous,**\n",
    "Pour revenir sur notre échange téléphonique, **14. je vous confirme** que les délais seront respectés.\n",
    "**15. Merci de votre confiance.**\n",
    "\n",
    "**16. Avec mes sincères salutations,**\n",
    "Je vous invite à consulter le rapport joint pour plus de détails. **17. Je reste à l’écoute** de vos remarques.\n",
    "\n",
    "**18. En vous remerciant de votre bienveillance,**\n",
    "Je vous souhaite une excellente journée. **19. Prenez soin de vous.**\n",
    "\n",
    "**20. Amicalement,**\n",
    "Je tenais à vous faire part de ma satisfaction quant à notre collaboration. **21. C’est un réel plaisir de travailler à vos côtés.**\n",
    "\n",
    "**22. Avec toute mon amitié,**\n",
    "Je vous propose de nous retrouver la semaine prochaine pour en discuter plus en détail. **23. Qu’en pensez-vous ?**\n",
    "\n",
    "**24. À très bientôt,**\n",
    "Je vous joins les informations demandées et **25. vous prie de m’excuser** pour le léger retard.\n",
    "\n",
    "**26. Avec mes excuses les plus sincères,**\n",
    "Je vous remercie pour votre compréhension. **27. Je vous en suis infiniment reconnaissant(e).**\n",
    "\n",
    "**28. Respectueusement,**\n",
    "Je vous informe que le projet avance selon le planning prévu. **29. Je vous tiendrai informé(e) des prochaines étapes.**\n",
    "\n",
    "**30. Dans l’attente de votre réponse,**\n",
    "Je vous souhaite un excellent week-end. **31. Profitez bien de ces moments de détente.**\n",
    "\n",
    "**32. Avec toute ma sympathie,**\n",
    "Je vous serais gré de bien vouloir me confirmer votre présence. **33. Merci d’avance pour votre retour.**\n",
    "\n",
    "**34. Bien cordialement,**\n",
    "Je vous adresse mes plus vifs remerciements pour votre soutien. **35. Votre aide m’est précieuse.**\n",
    "\n",
    "**36. Avec toute ma gratitude,**\n",
    "Je vous prie de croire, Madame, **37. en l’expression de mes sentiments les plus respectueux.**\n",
    "\n",
    "**38. Très respectueusement,**\n",
    "Je vous informe que le dossier est désormais complet. **39. Je reste à votre entière disposition** pour toute question.\n",
    "\n",
    "**40. Avec mes meilleures pensées,**\n",
    "Je vous souhaite une belle journée. **41. À très vite, j’espère.**\n",
    "\n",
    "**42. Avec toute mon affection,**\n",
    "Je vous remercie pour votre patience. **43. Votre bienveillance me touche beaucoup.**\n",
    "\n",
    "**44. Avec toute ma reconnaissance,**\n",
    "Je vous prie de bien vouloir excuser ce contretemps. **45. Je ferai tout mon possible pour y remédier.**\n",
    "\n",
    "**46. Avec mes excuses renouvelées,**\n",
    "Je vous remercie pour votre confiance renouvelée. **47. C’est un honneur de collaborer avec vous.**\n",
    "\n",
    "**48. Avec toute mon estime,**\n",
    "Je vous souhaite une excellente continuation. **49. Au plaisir de vous revoir bientôt.**\n",
    "\n",
    "**50. Bien à vous,**\n",
    "\n",
    "**51. Merci, je vous dois beaucoup.**\n",
    "\n",
    "Merci pour ces formules de politesse.\n",
    "\n",
    "---\n",
    "\n",
    "N’hésitez pas à me dire si vous souhaitez adapter ce texte à un contexte particulier !\n",
    "\"\"\""
   ]
  },
  {
   "cell_type": "code",
   "execution_count": 16,
   "metadata": {},
   "outputs": [
    {
     "data": {
      "text/plain": [
       "['\\n\\n',\n",
       " '50. Bien à vous,',\n",
       " '\\n\\n',\n",
       " '51. Merci, je vous dois beaucoup.',\n",
       " '\\n\\nMerci pour ces formules de politesse.\\n\\n---\\n\\nN’hésitez pas à me dire si vous souhaitez adapter ce texte à un contexte particulier !\\n']"
      ]
     },
     "execution_count": 16,
     "metadata": {},
     "output_type": "execute_result"
    }
   ],
   "source": [
    "morceaux = texte.split(\"**\")\n",
    "morceaux[-5:]"
   ]
  },
  {
   "cell_type": "code",
   "execution_count": 17,
   "metadata": {},
   "outputs": [
    {
     "name": "stdout",
     "output_type": "stream",
     "text": [
      "15. Merci de votre confiance.\n",
      "33. Merci d’avance pour votre retour.\n"
     ]
    }
   ],
   "source": [
    "for m in morceaux:\n",
    "    if \"merci\" in m.lower():\n",
    "        mot = m.lower().split(\" \")\n",
    "        if \"merci\" in mot:\n",
    "            print(m)"
   ]
  },
  {
   "cell_type": "code",
   "execution_count": 18,
   "metadata": {},
   "outputs": [
    {
     "name": "stdout",
     "output_type": "stream",
     "text": [
      "15. Merci de votre confiance.\n",
      "33. Merci d’avance pour votre retour.\n",
      "51. Merci, je vous dois beaucoup.\n",
      "\n",
      "\n",
      "Merci pour ces formules de politesse.\n",
      "\n",
      "---\n",
      "\n",
      "N’hésitez pas à me dire si vous souhaitez adapter ce texte à un contexte particulier !\n",
      "\n"
     ]
    }
   ],
   "source": [
    "for m in morceaux:\n",
    "    if \"merci\" not in m.lower():\n",
    "        continue\n",
    "    f = m.lower().replace(\",\", \" \").replace(\".\", \" \").replace(\"\\n\", \" \")\n",
    "    mot = f.lower().split(\" \")\n",
    "    if \"merci\" not in mot:\n",
    "        continue\n",
    "    print(m)"
   ]
  },
  {
   "cell_type": "code",
   "execution_count": 19,
   "metadata": {},
   "outputs": [
    {
     "data": {
      "text/plain": [
       "[]"
      ]
     },
     "execution_count": 19,
     "metadata": {},
     "output_type": "execute_result"
    }
   ],
   "source": [
    "import re\n",
    "\n",
    "tous_les_merci = re.findall(r\"\\*\\*(merci)\\*\\*\", texte)\n",
    "tous_les_merci"
   ]
  },
  {
   "cell_type": "code",
   "execution_count": 20,
   "metadata": {},
   "outputs": [
    {
     "name": "stdout",
     "output_type": "stream",
     "text": [
      "['merci 1', 'merci 2']\n"
     ]
    }
   ],
   "source": [
    "motif = r\"\\*\\*(.*?merci.*?)\\*\\*\"\n",
    "\n",
    "resultats = re.findall(motif, \"**merci 1**, **merci 2**\", flags=re.IGNORECASE)\n",
    "print(resultats)"
   ]
  },
  {
   "cell_type": "code",
   "execution_count": 21,
   "metadata": {},
   "outputs": [
    {
     "name": "stdout",
     "output_type": "stream",
     "text": [
      "['Objet : Remerciements et suite à notre échange', '1. Je vous remercie sincèrement', '7. Je vous remercie par avance', '15. Merci de votre confiance.', '18. En vous remerciant de votre bienveillance,', '33. Merci d’avance pour votre retour.', '51. Merci, je vous dois beaucoup.']\n"
     ]
    }
   ],
   "source": [
    "resultats = re.findall(motif, texte, flags=re.IGNORECASE)\n",
    "print(resultats)"
   ]
  },
  {
   "cell_type": "code",
   "execution_count": 22,
   "metadata": {},
   "outputs": [
    {
     "name": "stdout",
     "output_type": "stream",
     "text": [
      "['**15. Merci de votre confiance.**', '**33. Merci d’avance pour votre retour.**', '**51. Merci, je vous dois beaucoup.**']\n"
     ]
    }
   ],
   "source": [
    "motif = r\"\\*\\*(?=[^*]*merci\\b)[^*]*\\*\\*\"\n",
    "resultats = re.findall(motif, texte, flags=re.IGNORECASE)\n",
    "print(resultats)"
   ]
  },
  {
   "cell_type": "code",
   "execution_count": 23,
   "metadata": {},
   "outputs": [],
   "source": [
    "import os\n",
    "import zipfile\n",
    "\n",
    "# Dossier contenant les fichiers ZIP\n",
    "dossier_zip = \"chemin/vers/vos/fichiers_zip\"  # Remplacez par votre chemin\n",
    "# Dossier de destination pour les fichiers décompressés\n",
    "dossier_dest = \"chemin/vers/dossier_destination\"  # Remplacez par votre chemin\n",
    "\n",
    "# Liste tous les fichiers ZIP dans le dossier\n",
    "if os.path.exists(dossier_zip):\n",
    "    fichiers_zip = [f for f in os.listdir(dossier_zip) if f.endswith(\".zip\")]\n",
    "else:\n",
    "    fichiers_zip = []\n",
    "\n",
    "if fichiers_zip:\n",
    "    # Crée le dossier de destination s'il n'existe pas\n",
    "    os.makedirs(dossier_dest, exist_ok=True)\n",
    "\n",
    "    print(f\"Trouvé {len(fichiers_zip)} fichiers ZIP à décompresser.\")\n",
    "\n",
    "    for fichier in fichiers_zip:\n",
    "        chemin_zip = os.path.join(dossier_zip, fichier)\n",
    "        nom_dossier = os.path.splitext(fichier)[0]  # Nom du sous-dossier = nom du ZIP\n",
    "        dossier_sortie = os.path.join(dossier_dest, nom_dossier)\n",
    "\n",
    "        try:\n",
    "            with zipfile.ZipFile(chemin_zip, \"r\") as zip_ref:\n",
    "                zip_ref.extractall(dossier_sortie)\n",
    "            print(f\"✅ Décompression réussie : {fichier} -> {nom_dossier}\")\n",
    "        except zipfile.BadZipFile:\n",
    "            print(f\"❌ Erreur : {fichier} est corrompu ou n'est pas un ZIP valide.\")\n",
    "        except Exception as e:\n",
    "            print(f\"❌ Erreur inattendue avec {fichier} : {e}\")\n",
    "\n",
    "    print(\"Décompression terminée !\")"
   ]
  },
  {
   "cell_type": "code",
   "execution_count": 24,
   "metadata": {},
   "outputs": [],
   "source": [
    "import os\n",
    "import pandas as pd\n",
    "\n",
    "# Dossier contenant vos fichiers Excel\n",
    "dossier_excel = \"chemin/vers/vos/fichiers_excel\"  # Remplacez par votre chemin\n",
    "\n",
    "if os.path.exists(dossier_excel):\n",
    "    # Nom du fichier Excel de sortie\n",
    "    fichier_sortie = \"fichier_fusionne.xlsx\"  # Remplacez par le nom souhaité\n",
    "\n",
    "    # Liste tous les fichiers Excel dans le dossier\n",
    "    fichiers_excel = [\n",
    "        f for f in os.listdir(dossier_excel) if f.endswith((\".xlsx\", \".xls\"))\n",
    "    ]\n",
    "\n",
    "    print(f\"Trouvé {len(fichiers_excel)} fichiers Excel à fusionner.\")\n",
    "\n",
    "    # Crée un objet ExcelWriter pour écrire le fichier de sortie\n",
    "    with pd.ExcelWriter(fichier_sortie, engine=\"openpyxl\") as writer:\n",
    "        for fichier in fichiers_excel:\n",
    "            chemin_fichier = os.path.join(dossier_excel, fichier)\n",
    "            # Lit chaque fichier Excel\n",
    "            df = pd.read_excel(chemin_fichier)\n",
    "            # Nom de l'onglet = nom du fichier (sans extension)\n",
    "            nom_onglet = os.path.splitext(fichier)[0][\n",
    "                :31\n",
    "            ]  # Excel limite à 31 caractères\n",
    "            # Écrit dans le fichier de sortie, dans un nouvel onglet\n",
    "            df.to_excel(writer, sheet_name=nom_onglet, index=False)\n",
    "            print(f\"✅ Ajouté : {fichier} -> onglet '{nom_onglet}'\")\n",
    "\n",
    "    print(\n",
    "        f\"Fusion terminée ! Le fichier '{fichier_sortie}' contient {len(fichiers_excel)} onglets.\"\n",
    "    )"
   ]
  },
  {
   "cell_type": "code",
   "execution_count": 25,
   "metadata": {},
   "outputs": [],
   "source": [
    "import os\n",
    "import cv2\n",
    "\n",
    "# Chemin du répertoire contenant vos images\n",
    "dossier_images = \"chemin/vers/vos/images\"  # Remplacez par votre chemin\n",
    "\n",
    "if os.path.exists(dossier_images):\n",
    "    # Chemin du répertoire de sortie (pour les images avec visages)\n",
    "    dossier_sortie = \"chemin/vers/images_avec_visages\"  # Remplacez par votre chemin\n",
    "\n",
    "    # Crée le dossier de sortie s'il n'existe pas\n",
    "    os.makedirs(dossier_sortie, exist_ok=True)\n",
    "\n",
    "    # Charge le classificateur de visages pré-entraîné d'OpenCV\n",
    "    face_cascade = cv2.CascadeClassifier(\n",
    "        cv2.data.haarcascades + \"haarcascade_frontalface_default.xml\"\n",
    "    )\n",
    "\n",
    "    # Liste des extensions d'image supportées\n",
    "    extensions = (\".jpg\", \".jpeg\", \".png\", \".bmp\", \".gif\")\n",
    "\n",
    "    # Parcourt toutes les images du répertoire\n",
    "    for fichier in os.listdir(dossier_images):\n",
    "        if fichier.lower().endswith(extensions):\n",
    "            chemin_image = os.path.join(dossier_images, fichier)\n",
    "            # Lit l'image\n",
    "            img = cv2.imread(chemin_image)\n",
    "            if img is None:\n",
    "                continue  # Ignore si l'image ne peut pas être lue\n",
    "\n",
    "            # Convertit en niveaux de gris pour la détection\n",
    "            gray = cv2.cvtColor(img, cv2.COLOR_BGR2GRAY)\n",
    "            # Détecte les visages\n",
    "            faces = face_cascade.detectMultiScale(\n",
    "                gray, scaleFactor=1.1, minNeighbors=5, minSize=(30, 30)\n",
    "            )\n",
    "\n",
    "            # Si au moins un visage est détecté, copie l'image dans le dossier de sortie\n",
    "            if len(faces) > 0:\n",
    "                chemin_sortie = os.path.join(dossier_sortie, fichier)\n",
    "                cv2.imwrite(chemin_sortie, img)\n",
    "                print(f\"✅ Visage détecté : {fichier}\")\n",
    "\n",
    "    print(\"Filtrage terminé ! Les images avec visages sont dans :\", dossier_sortie)"
   ]
  },
  {
   "cell_type": "code",
   "execution_count": 26,
   "metadata": {},
   "outputs": [],
   "source": [
    "import os\n",
    "from PIL import Image\n",
    "import matplotlib.pyplot as plt\n",
    "import math\n",
    "\n",
    "# Chemin du répertoire contenant vos images\n",
    "dossier_images = \"Telechargements\"  # Remplacez par votre chemin\n",
    "if os.path.exists(dossier_images):\n",
    "    # Chemin de sortie pour le poster\n",
    "    poster_sortie = \"poster_miniatures.jpg\"  # Remplacez par le nom souhaité\n",
    "\n",
    "    # Taille des miniatures (en pixels)\n",
    "    taille_miniature = (200, 200)\n",
    "    # Marge entre les miniatures (en pixels)\n",
    "    marge = 20\n",
    "    # Fond du poster (blanc par défaut)\n",
    "    fond = (255, 255, 255)\n",
    "\n",
    "    # Liste des extensions d'image supportées\n",
    "    extensions = (\".jpg\", \".jpeg\", \".png\", \".bmp\", \".gif\")\n",
    "\n",
    "    # Récupère la liste des images\n",
    "    images = [f for f in os.listdir(dossier_images) if f.lower().endswith(extensions)]\n",
    "    images.sort()  # Trie par nom\n",
    "    print(\"nombre d'images\", len(images))\n",
    "\n",
    "    # 1/ Zoom\n",
    "    zoom = []\n",
    "    for i, image in enumerate(images):\n",
    "        chemin_image = os.path.join(dossier_images, image)\n",
    "        img = Image.open(chemin_image)\n",
    "        w, h = img.size\n",
    "        minhw = min(w, h)\n",
    "        ratio = 200 / minhw\n",
    "        img = img.resize((int(w * ratio), int(h * ratio)))\n",
    "        zoom.append(img)\n",
    "        print(f\"image {i}: {img.size}\")\n",
    "\n",
    "    # 2. position\n",
    "    print(\"-----\")\n",
    "    positions = []\n",
    "    x, y = 0, 0\n",
    "    miny = 1000\n",
    "    maxy = 0\n",
    "    for i, img in enumerate(zoom):\n",
    "        positions.append((x, y))\n",
    "        w, h = img.size\n",
    "        x += w\n",
    "        miny = min(h, miny)\n",
    "        maxy = max(maxy, y + miny)\n",
    "        if x >= 1200:\n",
    "            x = 0\n",
    "            y += miny\n",
    "            miny = 1000\n",
    "        print(i, (x, y), miny)\n",
    "\n",
    "    print(positions)\n",
    "    largeur_poster = 1200\n",
    "    hauteur_poster = maxy\n",
    "\n",
    "    # Crée une image vide pour le poster\n",
    "    poster = Image.new(\"RGB\", (largeur_poster, hauteur_poster), fond)\n",
    "\n",
    "    for pos, img in zip(positions, zoom):\n",
    "        poster.paste(img, pos)\n",
    "        x = pos[0] + img.size[0]\n",
    "        y = pos[1]\n",
    "\n",
    "    i = 0\n",
    "    while x < 1200:\n",
    "        poster.paste(zoom[i], (x, y))\n",
    "        x += zoom[i].size[0]\n",
    "\n",
    "    # Sauvegarde le poster\n",
    "    poster.save(poster_sortie)\n",
    "    print(f\"✅ Poster généré : {poster_sortie} ({nb_images} miniatures)\")\n",
    "\n",
    "    plt.figure(figsize=(20, 10))  # Ajustez la taille selon vos besoins\n",
    "    plt.imshow(poster)\n",
    "    plt.axis(\"off\")  # Masque les axes\n",
    "    plt.title(f\"Poster de miniatures ({nb_images} images)\")\n",
    "    plt.show()"
   ]
  },
  {
   "cell_type": "code",
   "execution_count": 27,
   "metadata": {},
   "outputs": [
    {
     "data": {
      "text/plain": [
       "'GHIZ'"
      ]
     },
     "execution_count": 27,
     "metadata": {},
     "output_type": "execute_result"
    }
   ],
   "source": [
    "def plus_grande_sequence_commune_naif(seq1, seq2):\n",
    "    for length in range(len(seq1), 0, -1):\n",
    "        for i in range(len(seq1)):\n",
    "            if i + length <= len(seq1):\n",
    "                s1 = seq1[i : i + length]\n",
    "                if s1 in seq2:\n",
    "                    return s1\n",
    "    return \"\"\n",
    "\n",
    "\n",
    "seq1 = \"ABCDEFGHIZERT\"\n",
    "seq2 = \"ABGGHIZTJKL\"\n",
    "plus_grande_sequence_commune_naif(seq1, seq2)"
   ]
  },
  {
   "cell_type": "code",
   "execution_count": 28,
   "metadata": {},
   "outputs": [
    {
     "data": {
      "text/plain": [
       "'GHIZ'"
      ]
     },
     "execution_count": 28,
     "metadata": {},
     "output_type": "execute_result"
    }
   ],
   "source": [
    "import numpy as np\n",
    "import pprint\n",
    "\n",
    "\n",
    "def distance_edition(m1, m2):\n",
    "    cout = np.empty((len(m1) + 1, len(m2) + 1))\n",
    "    predi = np.empty((len(m1) + 1, len(m2) + 1), dtype=np.int64)\n",
    "    predj = np.empty((len(m1) + 1, len(m2) + 1), dtype=np.int64)\n",
    "    cout[:, 0] = np.arange(len(m1) + 1)\n",
    "    cout[0, :] = np.arange(len(m2) + 1)\n",
    "    predi[:, 0] = np.arange(len(m1) + 1) - 1\n",
    "    predj[:, 0] = 0\n",
    "    predi[0, :] = 0\n",
    "    predj[0, :] = np.arange(len(m2) + 1) - 1\n",
    "    for i in range(1, len(m1) + 1):\n",
    "        for j in range(1, len(m2) + 1):\n",
    "            c_sup = cout[i - 1, j] + 1\n",
    "            c_ins = cout[i, j - 1] + 1\n",
    "            c_cmp = cout[i - 1, j - 1] + (1 if m1[i - 1] != m2[j - 1] else 0)\n",
    "            if c_cmp <= min(c_sup, c_ins):\n",
    "                cout[i, j], predi[i, j], predj[i, j] = c_cmp, i - 1, j - 1\n",
    "            elif c_sup <= c_ins:\n",
    "                cout[i, j], predi[i, j], predj[i, j] = c_sup, i - 1, j\n",
    "            else:\n",
    "                cout[i, j], predi[i, j], predj[i, j] = c_ins, i, j - 1\n",
    "    # alignement\n",
    "    alignement = [(len(m1), len(m2))]\n",
    "    while min(alignement[-1]) >= 0:\n",
    "        i, j = alignement[-1]\n",
    "        i, j = predi[i, j], predj[i, j]\n",
    "        alignement.append((i, j))\n",
    "    alignement = alignement[::-1][2:]\n",
    "    lettres = [(m1[i - 1], m2[j - 1]) for i, j in alignement]\n",
    "    return cout, alignement, lettres\n",
    "\n",
    "\n",
    "def plus_grande_sequence_commune(seq1, seq2):\n",
    "    cout, alignement, lettres = distance_edition(seq1, seq2)\n",
    "    i0 = None\n",
    "    best = None\n",
    "    for i, (c1, c2) in enumerate(lettres):\n",
    "        if c1 == c2:\n",
    "            if i0 is None:\n",
    "                i0 = i\n",
    "            if i0 is not None and best is None or i - i0 + 1 > len(best):\n",
    "                best = \"\".join(c[1] for c in lettres[i0 : i + 1])\n",
    "        else:\n",
    "            i0 = None\n",
    "    return best\n",
    "\n",
    "\n",
    "# cout, alignement, lettres = distance_edition(seq1, seq2)\n",
    "# pprint.pprint(list(zip(alignement,lettres)))\n",
    "plus_grande_sequence_commune(seq1, seq2)"
   ]
  },
  {
   "cell_type": "code",
   "execution_count": null,
   "metadata": {},
   "outputs": [],
   "source": []
  }
 ],
 "metadata": {
  "celltoolbar": "Format de la Cellule Texte Brut",
  "kernelspec": {
   "display_name": "this312",
   "language": "python",
   "name": "python3"
  },
  "language_info": {
   "codemirror_mode": {
    "name": "ipython",
    "version": 3
   },
   "file_extension": ".py",
   "mimetype": "text/x-python",
   "name": "python",
   "nbconvert_exporter": "python",
   "pygments_lexer": "ipython3",
   "version": "3.12.3"
  }
 },
 "nbformat": 4,
 "nbformat_minor": 2
}