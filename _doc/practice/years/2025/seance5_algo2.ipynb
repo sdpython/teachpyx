{
 "cells": [
  {
   "cell_type": "markdown",
   "metadata": {},
   "source": [
    "# Algorithmes\n",
    "\n",
    "## Mesurer le temps"
   ]
  },
  {
   "cell_type": "code",
   "execution_count": 1,
   "metadata": {},
   "outputs": [
    {
     "name": "stdout",
     "output_type": "stream",
     "text": [
      "[<class 'RuntimeError'>, RuntimeError('stop')]\n"
     ]
    }
   ],
   "source": [
    "def fonction1():\n",
    "    raise RuntimeError(\"stop\")\n",
    "\n",
    "\n",
    "def fonction2():\n",
    "    return fonction1()\n",
    "\n",
    "\n",
    "def fonction3():\n",
    "    return fonction2()\n",
    "\n",
    "\n",
    "try:\n",
    "    fonction3()\n",
    "except Exception as e:\n",
    "    print([type(e), e])"
   ]
  },
  {
   "cell_type": "code",
   "execution_count": 2,
   "metadata": {},
   "outputs": [
    {
     "name": "stdout",
     "output_type": "stream",
     "text": [
      "list 0.00920867919921875\n"
     ]
    }
   ],
   "source": [
    "def recherche_list(ensemble: list, element) -> bool:\n",
    "    return element in ensemble\n",
    "\n",
    "\n",
    "def recherche_set(ensemble: set, element) -> bool:\n",
    "    return element in ensemble\n",
    "\n",
    "\n",
    "def recherche_dict(ensemble: dict, element) -> bool:\n",
    "    return element in ensemble\n",
    "\n",
    "\n",
    "N = 10000\n",
    "list_entier = list(range(N))\n",
    "set_entier = set(range(N))\n",
    "dict_entier = {k: 0 for k in range(N)}\n",
    "\n",
    "T = 100\n",
    "import time\n",
    "\n",
    "begin = time.time()\n",
    "for i in range(T):\n",
    "    recherche_list(list_entier, 9000)\n",
    "duree = time.time() - begin\n",
    "print(\"list\", duree)"
   ]
  },
  {
   "cell_type": "code",
   "execution_count": 3,
   "metadata": {},
   "outputs": [
    {
     "name": "stdout",
     "output_type": "stream",
     "text": [
      "list 0.6168732643127441\n",
      "set 0.0010602474212646484\n",
      "dict 0.0015003681182861328\n"
     ]
    }
   ],
   "source": [
    "T = 10000\n",
    "el = 9999\n",
    "begin = time.time()\n",
    "for i in range(T):\n",
    "    recherche_list(list_entier, el)\n",
    "duree = time.time() - begin\n",
    "print(\"list\", duree)\n",
    "\n",
    "begin = time.time()\n",
    "for i in range(T):\n",
    "    recherche_set(set_entier, el)\n",
    "duree = time.time() - begin\n",
    "print(\"set\", duree)\n",
    "\n",
    "begin = time.time()\n",
    "for i in range(T):\n",
    "    recherche_dict(dict_entier, el)\n",
    "duree = time.time() - begin\n",
    "print(\"dict\", duree)"
   ]
  },
  {
   "cell_type": "code",
   "execution_count": 4,
   "metadata": {},
   "outputs": [
    {
     "name": "stdout",
     "output_type": "stream",
     "text": [
      "b'Bonjour le mondesd\\xe3\\x83\\x8a\\xe3\\x83\\xab\\xe3\\x83\\x88'\n",
      "9b158061cd\n"
     ]
    }
   ],
   "source": [
    "import hashlib\n",
    "\n",
    "# Texte à hacher\n",
    "texte = \"Bonjour le mondesdナルト\".encode(\"utf-8\")\n",
    "print(texte)\n",
    "\n",
    "# Création du hash SHA-256\n",
    "hash_obj = hashlib.sha256(texte)\n",
    "hash_hex = hash_obj.hexdigest()[:10]\n",
    "\n",
    "print(hash_hex)"
   ]
  },
  {
   "cell_type": "markdown",
   "metadata": {},
   "source": [
    "## Profiling"
   ]
  },
  {
   "cell_type": "code",
   "execution_count": 5,
   "metadata": {},
   "outputs": [],
   "source": [
    "def f():\n",
    "    for i in range(T):\n",
    "        recherche_list(list_entier, el)\n",
    "        recherche_set(set_entier, el)\n",
    "        recherche_dict(dict_entier, el)"
   ]
  },
  {
   "cell_type": "code",
   "execution_count": 6,
   "metadata": {},
   "outputs": [
    {
     "name": "stdout",
     "output_type": "stream",
     "text": [
      "\n",
      "  _     ._   __/__   _ _  _  _ _/_   Recorded: 22:16:49  Samples:  643\n",
      " /_//_/// /_\\ / //_// / //_'/ //     Duration: 0.664     CPU time: 0.669\n",
      "/   _/                      v5.1.1\n",
      "\n",
      "Profile at /tmp/ipykernel_231901/1337574655.py:4\n",
      "\n",
      "0.663 ZMQInteractiveShell.run_ast_nodes  IPython/core/interactiveshell.py:3418\n",
      "`- 0.662 <module>  /tmp/ipykernel_231901/1337574655.py:1\n",
      "   `- 0.662 f  /tmp/ipykernel_231901/2115577803.py:1\n",
      "      |- 0.648 recherche_list  /tmp/ipykernel_231901/3550779215.py:1\n",
      "      `- 0.012 [self]  /tmp/ipykernel_231901/2115577803.py\n",
      "\n",
      "\n"
     ]
    }
   ],
   "source": [
    "from pyinstrument import Profiler\n",
    "\n",
    "profiler = Profiler()\n",
    "profiler.start()\n",
    "\n",
    "# Code à profiler\n",
    "f()\n",
    "\n",
    "profiler.stop()\n",
    "print(profiler.output_text())"
   ]
  },
  {
   "cell_type": "code",
   "execution_count": 7,
   "metadata": {},
   "outputs": [
    {
     "name": "stdout",
     "output_type": "stream",
     "text": [
      " "
     ]
    },
    {
     "name": "stdout",
     "output_type": "stream",
     "text": [
      "         30757 function calls (30742 primitive calls) in 0.667 seconds\n",
      "\n",
      "   Ordered by: internal time\n",
      "\n",
      "   ncalls  tottime  percall  cumtime  percall filename:lineno(function)\n",
      "    10000    0.638    0.000    0.638    0.000 3550779215.py:1(recherche_list)\n",
      "        1    0.007    0.007    0.459    0.459 2115577803.py:1(f)\n",
      "      6/4    0.007    0.001    0.007    0.002 events.py:86(_run)\n",
      "      2/1    0.005    0.003    0.459    0.459 <string>:1(<module>)\n",
      "      3/1    0.003    0.001    0.000    0.000 selectors.py:451(select)\n",
      "    10000    0.002    0.000    0.002    0.000 3550779215.py:4(recherche_set)\n",
      "    10000    0.002    0.000    0.002    0.000 3550779215.py:7(recherche_dict)\n",
      "       14    0.001    0.000    0.001    0.000 socket.py:626(send)\n",
      "        1    0.000    0.000    0.020    0.020 history.py:833(_writeout_input_cache)\n",
      "      3/1    0.000    0.000    0.000    0.000 {method 'poll' of 'select.epoll' objects}\n",
      "        2    0.000    0.000    0.006    0.003 socket.py:703(send_multipart)\n",
      "        1    0.000    0.000    0.000    0.000 {method 'disable' of '_lsprof.Profiler' objects}\n",
      "        1    0.000    0.000    0.027    0.027 history.py:55(only_when_enabled)\n",
      "        2    0.000    0.000    0.000    0.000 {method 'recv' of '_socket.socket' objects}\n",
      "        2    0.000    0.000    0.000    0.000 {method '__exit__' of 'sqlite3.Connection' objects}\n",
      "        2    0.000    0.000    0.000    0.000 socket.py:774(recv_multipart)\n",
      "        4    0.000    0.000    0.171    0.043 base_events.py:1922(_run_once)\n",
      "        5    0.000    0.000    0.000    0.000 attrsettr.py:66(_get_attr_opt)\n",
      "       72    0.000    0.000    0.000    0.000 enum.py:1538(_get_value)\n",
      "      2/1    0.000    0.000    0.650    0.650 {built-in method builtins.exec}\n",
      "        1    0.000    0.000    0.000    0.000 {method 'execute' of 'sqlite3.Connection' objects}\n",
      "  152/148    0.000    0.000    0.000    0.000 {built-in method builtins.isinstance}\n",
      "       16    0.000    0.000    0.000    0.000 enum.py:1545(__or__)\n",
      "        1    0.000    0.000    0.000    0.000 poll.py:80(poll)\n",
      "        5    0.000    0.000    0.000    0.000 attrsettr.py:43(__getattr__)\n",
      "      2/1    0.000    0.000    0.027    0.027 decorator.py:229(fun)\n",
      "       31    0.000    0.000    0.000    0.000 enum.py:720(__call__)\n",
      "        1    0.000    0.000    0.000    0.000 {method 'send' of '_socket.socket' objects}\n",
      "        1    0.000    0.000    0.000    0.000 inspect.py:3133(_bind)\n",
      "        8    0.000    0.000    0.000    0.000 enum.py:1556(__and__)\n",
      "      6/4    0.000    0.000    0.001    0.000 {method 'run' of '_contextvars.Context' objects}\n",
      "        1    0.000    0.000    0.000    0.000 kernelbase.py:302(poll_control_queue)\n",
      "       31    0.000    0.000    0.000    0.000 enum.py:1123(__new__)\n",
      "        6    0.000    0.000    0.000    0.000 typing.py:392(inner)\n",
      "        2    0.000    0.000    0.006    0.003 iostream.py:278(_really_send)\n",
      "        1    0.000    0.000    0.020    0.020 history.py:845(writeout_cache)\n",
      "        2    0.000    0.000    0.007    0.003 zmqstream.py:583(_handle_events)\n",
      "        1    0.000    0.000    0.000    0.000 selector_events.py:129(_read_from_self)\n",
      "        1    0.000    0.000    0.000    0.000 traitlets.py:1527(_notify_observers)\n",
      "        8    0.000    0.000    0.000    0.000 traitlets.py:676(__get__)\n",
      "        3    0.000    0.000    0.000    0.000 zmqstream.py:686(_update_handler)\n",
      "        3    0.000    0.000    0.000    0.000 ioloop.py:742(_run_callback)\n",
      "        2    0.000    0.000    0.000    0.000 typing.py:1492(__subclasscheck__)\n",
      "        1    0.000    0.000    0.000    0.000 decorator.py:199(fix)\n",
      "        3    0.000    0.000    0.000    0.000 zmqstream.py:663(_rebuild_io_state)\n",
      "        2    0.000    0.000    0.006    0.003 iostream.py:157(_handle_event)\n",
      "        2    0.000    0.000    0.006    0.003 zmqstream.py:556(_run_callback)\n",
      "        1    0.000    0.000    0.000    0.000 kernelbase.py:324(_flush)\n",
      "        2    0.000    0.000    0.000    0.000 traitlets.py:3631(set)\n",
      "        4    0.000    0.000    0.000    0.000 queue.py:97(empty)\n",
      "        7    0.000    0.000    0.000    0.000 base_events.py:738(time)\n",
      "        2    0.000    0.000    0.006    0.003 zmqstream.py:624(_handle_recv)\n",
      "        1    0.000    0.000    0.000    0.000 queues.py:225(get)\n",
      "        8    0.000    0.000    0.000    0.000 traitlets.py:629(get)\n",
      "        3    0.000    0.000    0.000    0.000 base_events.py:818(_call_soon)\n",
      "       25    0.000    0.000    0.000    0.000 {built-in method builtins.len}\n",
      "        1    0.000    0.000    0.000    0.000 zmqstream.py:427(flush)\n",
      "        4    0.000    0.000    0.000    0.000 typing.py:1285(__hash__)\n",
      "        2    0.000    0.000    0.000    0.000 traitlets.py:708(__set__)\n",
      "        1    0.000    0.000    0.000    0.000 asyncio.py:225(add_callback)\n",
      "        5    0.000    0.000    0.000    0.000 selector_events.py:750(_process_events)\n",
      "        2    0.000    0.000    0.006    0.003 iostream.py:276(<lambda>)\n",
      "        1    0.000    0.000    0.000    0.000 _base.py:537(set_result)\n",
      "        1    0.000    0.000    0.000    0.000 iostream.py:718(_rotate_buffers)\n",
      "        1    0.000    0.000    0.000    0.000 iostream.py:616(_flush)\n",
      "        2    0.000    0.000    0.000    0.000 traitlets.py:689(set)\n",
      "        2    0.000    0.000    0.000    0.000 traitlets.py:718(_validate)\n",
      "        5    0.000    0.000    0.000    0.000 <frozen importlib._bootstrap>:1390(_handle_fromlist)\n",
      "        1    0.000    0.000    0.000    0.000 threading.py:311(_acquire_restore)\n",
      "        1    0.000    0.000    0.000    0.000 inspect.py:2949(apply_defaults)\n",
      "        2    0.000    0.000    0.000    0.000 typing.py:1221(__instancecheck__)\n",
      "        5    0.000    0.000    0.000    0.000 {built-in method builtins.getattr}\n",
      "        1    0.000    0.000    0.000    0.000 inspect.py:3272(bind)\n",
      "        3    0.000    0.000    0.000    0.000 threading.py:299(__enter__)\n",
      "        2    0.000    0.000    0.000    0.000 base_events.py:1907(_add_callback)\n",
      "       10    0.000    0.000    0.000    0.000 {built-in method builtins.hasattr}\n",
      "        2    0.000    0.000    0.000    0.000 traitlets.py:3474(validate)\n",
      "        1    0.000    0.000    0.000    0.000 iostream.py:710(_flush_buffers)\n",
      "        1    0.000    0.000    0.000    0.000 queues.py:209(put_nowait)\n",
      "        2    0.000    0.000    0.000    0.000 traitlets.py:3624(validate_elements)\n",
      "        7    0.000    0.000    0.000    0.000 {built-in method time.monotonic}\n",
      "        1    0.000    0.000    0.000    0.000 queues.py:186(put)\n",
      "        3    0.000    0.000    0.000    0.000 events.py:36(__init__)\n",
      "        1    0.000    0.000    0.000    0.000 zmqstream.py:468(update_flag)\n",
      "        2    0.000    0.000    0.000    0.000 traitlets.py:727(_cross_validate)\n",
      "        7    0.000    0.000    0.000    0.000 {built-in method builtins.max}\n",
      "        3    0.000    0.000    0.000    0.000 threading.py:302(__exit__)\n",
      "        1    0.000    0.000    0.000    0.000 traitlets.py:1512(_notify_trait)\n",
      "       10    0.000    0.000    0.000    0.000 {method 'popleft' of 'collections.deque' objects}\n",
      "        1    0.000    0.000    0.000    0.000 inspect.py:2896(args)\n",
      "        1    0.000    0.000    0.000    0.000 inspect.py:2919(kwargs)\n",
      "        2    0.000    0.000    0.000    0.000 traitlets.py:2304(validate)\n",
      "        2    0.000    0.000    0.000    0.000 base_events.py:789(call_soon)\n",
      "        8    0.000    0.000    0.000    0.000 {method '__exit__' of '_thread.lock' objects}\n",
      "        1    0.000    0.000    0.000    0.000 traitlets.py:1523(notify_change)\n",
      "        9    0.000    0.000    0.000    0.000 {method 'append' of 'collections.deque' objects}\n",
      "        2    0.000    0.000    0.000    0.000 iostream.py:213(_is_master_process)\n",
      "        1    0.000    0.000    0.000    0.000 queues.py:256(get_nowait)\n",
      "        1    0.000    0.000    0.006    0.006 asyncio.py:200(_handle_events)\n",
      "        1    0.000    0.000    0.000    0.000 futures.py:396(_call_set_state)\n",
      "        1    0.000    0.000    0.000    0.000 threading.py:424(notify_all)\n",
      "        2    0.000    0.000    0.000    0.000 queues.py:322(_consume_expired)\n",
      "        1    0.000    0.000    0.000    0.000 threading.py:627(clear)\n",
      "       28    0.000    0.000    0.000    0.000 typing.py:2187(cast)\n",
      "        2    0.000    0.000    0.000    0.000 {built-in method builtins.issubclass}\n",
      "        4    0.000    0.000    0.000    0.000 zmqstream.py:542(sending)\n",
      "        5    0.000    0.000    0.000    0.000 {method 'upper' of 'str' objects}\n",
      "        2    0.000    0.000    0.000    0.000 <frozen abc>:121(__subclasscheck__)\n",
      "        6    0.000    0.000    0.000    0.000 {built-in method builtins.next}\n",
      "        2    0.000    0.000    0.000    0.000 {built-in method _abc._abc_subclasscheck}\n",
      "        1    0.000    0.000    0.000    0.000 base_events.py:842(call_soon_threadsafe)\n",
      "        6    0.000    0.000    0.000    0.000 {method 'append' of 'list' objects}\n",
      "        2    0.000    0.000    0.000    0.000 {method 'set_result' of '_asyncio.Future' objects}\n",
      "        2    0.000    0.000    0.000    0.000 {built-in method builtins.min}\n",
      "        3    0.000    0.000    0.000    0.000 {method 'acquire' of '_thread.lock' objects}\n",
      "        2    0.000    0.000    0.000    0.000 iostream.py:216(_check_mp_mode)\n",
      "        1    0.000    0.000    0.000    0.000 history.py:839(_writeout_output_cache)\n",
      "        1    0.000    0.000    0.000    0.000 selector_events.py:141(_write_to_self)\n",
      "        2    0.000    0.000    0.000    0.000 {built-in method math.ceil}\n",
      "        1    0.000    0.000    0.000    0.000 concurrent.py:182(future_set_result_unless_cancelled)\n",
      "        1    0.000    0.000    0.000    0.000 _base.py:337(_invoke_callbacks)\n",
      "        3    0.000    0.000    0.000    0.000 {method 'items' of 'mappingproxy' objects}\n",
      "        1    0.000    0.000    0.000    0.000 queues.py:317(__put_internal)\n",
      "        2    0.000    0.000    0.000    0.000 selectors.py:275(_key_from_fd)\n",
      "        4    0.000    0.000    0.000    0.000 queue.py:209(_qsize)\n",
      "        1    0.000    0.000    0.000    0.000 threading.py:308(_release_save)\n",
      "        2    0.000    0.000    0.000    0.000 {built-in method _contextvars.copy_context}\n",
      "        1    0.000    0.000    0.000    0.000 {built-in method _asyncio.get_running_loop}\n",
      "        1    0.000    0.000    0.000    0.000 threading.py:394(notify)\n",
      "        2    0.000    0.000    0.000    0.000 {built-in method posix.getpid}\n",
      "        4    0.000    0.000    0.000    0.000 {method 'get' of 'dict' objects}\n",
      "        1    0.000    0.000    0.000    0.000 {built-in method _heapq.heappop}\n",
      "        1    0.000    0.000    0.000    0.000 {method 'values' of 'mappingproxy' objects}\n",
      "        4    0.000    0.000    0.000    0.000 {built-in method builtins.hash}\n",
      "        1    0.000    0.000    0.000    0.000 {method '__enter__' of '_thread.RLock' objects}\n",
      "       10    0.000    0.000    0.000    0.000 inspect.py:2808(kind)\n",
      "        1    0.000    0.000    0.000    0.000 {built-in method _thread.allocate_lock}\n",
      "        1    0.000    0.000    0.000    0.000 unix_events.py:81(_process_self_data)\n",
      "        2    0.000    0.000    0.000    0.000 traitlets.py:3486(validate_elements)\n",
      "        2    0.000    0.000    0.000    0.000 {method '__enter__' of '_thread.lock' objects}\n",
      "        5    0.000    0.000    0.000    0.000 zmqstream.py:538(receiving)\n",
      "        1    0.000    0.000    0.000    0.000 queues.py:173(qsize)\n",
      "        1    0.000    0.000    0.000    0.000 poll.py:31(register)\n",
      "        2    0.000    0.000    0.000    0.000 {built-in method builtins.iter}\n",
      "        2    0.000    0.000    0.000    0.000 {method '__exit__' of '_thread.RLock' objects}\n",
      "        1    0.000    0.000    0.000    0.000 zmqstream.py:694(<lambda>)\n",
      "        3    0.000    0.000    0.000    0.000 base_events.py:543(_check_closed)\n",
      "        5    0.000    0.000    0.000    0.000 base_events.py:2017(get_debug)\n",
      "        2    0.000    0.000    0.000    0.000 iostream.py:255(closed)\n",
      "        4    0.000    0.000    0.000    0.000 inspect.py:2796(name)\n",
      "        1    0.000    0.000    0.000    0.000 {method 'items' of 'dict' objects}\n",
      "        2    0.000    0.000    0.000    0.000 {method 'cancelled' of '_asyncio.Future' objects}\n",
      "        1    0.000    0.000    0.000    0.000 queues.py:309(_get)\n",
      "        1    0.000    0.000    0.000    0.000 zmqstream.py:659(_check_closed)\n",
      "        1    0.000    0.000    0.000    0.000 queues.py:312(_put)\n",
      "        4    0.000    0.000    0.000    0.000 inspect.py:3089(parameters)\n",
      "        2    0.000    0.000    0.000    0.000 {method 'extend' of 'list' objects}\n",
      "        1    0.000    0.000    0.000    0.000 threading.py:314(_is_owned)\n",
      "        1    0.000    0.000    0.000    0.000 queues.py:177(empty)\n",
      "        1    0.000    0.000    0.000    0.000 {method '_is_owned' of '_thread.RLock' objects}\n",
      "        1    0.000    0.000    0.000    0.000 {method 'done' of '_asyncio.Future' objects}\n",
      "        1    0.000    0.000    0.000    0.000 base_events.py:724(is_closed)\n",
      "        1    0.000    0.000    0.000    0.000 queues.py:59(_set_timeout)\n",
      "        1    0.000    0.000    0.000    0.000 {method 'release' of '_thread.lock' objects}\n",
      "        1    0.000    0.000    0.000    0.000 locks.py:224(clear)\n",
      "        1    0.000    0.000    0.000    0.000 inspect.py:2888(__init__)"
     ]
    }
   ],
   "source": [
    "%prun f()"
   ]
  },
  {
   "cell_type": "markdown",
   "metadata": {},
   "source": [
    "## Optimisation d'un programme"
   ]
  },
  {
   "cell_type": "code",
   "execution_count": 8,
   "metadata": {},
   "outputs": [
    {
     "data": {
      "text/plain": [
       "(array([[0.02609378, 0.47304915],\n",
       "        [0.11827469, 0.76657083],\n",
       "        [0.827706  , 0.26337121],\n",
       "        [0.56057621, 0.53610594],\n",
       "        [0.22134542, 0.73108227]]),\n",
       " [7, 19, 0, 9, 18, 8, 17, 15, 5, 14, 2, 13, 11, 12, 6, 16, 10, 1, 4, 3])"
      ]
     },
     "execution_count": 8,
     "metadata": {},
     "output_type": "execute_result"
    }
   ],
   "source": [
    "import numpy as np\n",
    "import matplotlib.pyplot as plt\n",
    "\n",
    "\n",
    "def distance(v1, v2):  # v1= np.array([0, 1]), v2= ....\n",
    "    return ((v1 - v2) ** 2).sum() ** 0.5\n",
    "    # return ((v1[0] - v2[0]) ** 2 + (v1[1] - v2[1]) ** 2) ** 0.5\n",
    "\n",
    "\n",
    "def plus_proche_non_visitee(villes, chemin):\n",
    "    depart = chemin[-1]\n",
    "    dmin, imin = None, None\n",
    "    for i in range(villes.shape[0]):\n",
    "        if i not in chemin:\n",
    "            d = distance(villes[depart], villes[i])\n",
    "            if dmin is None or d < dmin:\n",
    "                dmin, imin = d, i\n",
    "    return imin\n",
    "\n",
    "\n",
    "def algo_proche_en_proche(villes):\n",
    "    chemin = [0]\n",
    "    while len(chemin) < villes.shape[0]:\n",
    "        # trouver la ville la plus proche non visitée de la dernière\n",
    "        # ville visitée et l'ajouter au chemin\n",
    "        inext = plus_proche_non_visitee(villes, chemin)\n",
    "        chemin.append(inext)\n",
    "    return chemin\n",
    "\n",
    "\n",
    "def elimine_croisements(villes, chemin):\n",
    "    C = chemin\n",
    "    while True:\n",
    "        mieux = 0\n",
    "        for i in range(-1, villes.shape[0]):\n",
    "            for j in range(i + 2, villes.shape[0] - 1):\n",
    "                delta = (\n",
    "                    -distance(villes[C[i]], villes[C[i + 1]])\n",
    "                    - distance(villes[C[j]], villes[C[j + 1]])\n",
    "                    + distance(villes[C[i]], villes[C[j]])\n",
    "                    + distance(villes[C[i + 1]], villes[C[j + 1]])\n",
    "                )\n",
    "                if delta < 0:\n",
    "                    mieux += 1\n",
    "                    if i >= 0:\n",
    "                        chemin[i + 1 : j + 1] = chemin[j:i:-1]\n",
    "                    else:\n",
    "                        chemin[i + 1 : j + 1] = chemin[j::-1]\n",
    "        if mieux == 0:\n",
    "            break\n",
    "\n",
    "\n",
    "villes = np.random.rand(20, 2)\n",
    "chemin = algo_proche_en_proche(villes)\n",
    "elimine_croisements(villes, chemin)\n",
    "villes[:5], chemin"
   ]
  },
  {
   "cell_type": "code",
   "execution_count": 9,
   "metadata": {},
   "outputs": [
    {
     "name": "stdout",
     "output_type": "stream",
     "text": [
      "t= 0 N= 100\n",
      "[75, 51, 15, 20, 73, 40, 82, 38, 59, 94, 36, 54, 88, 26, 97, 44, 81, 13, 96, 99, 28, 9, 14, 78, 46, 85, 83, 22, 93, 52, 2, 56, 42, 27, 49, 25, 62, 39, 5, 92, 34, 21, 66, 16, 30, 37, 70, 57, 76, 86, 63, 33, 19, 58, 43, 23, 65, 3, 45, 72, 77, 0, 60, 32, 89, 4, 61, 71, 84, 79, 18, 87, 67, 31, 24, 74, 50, 10, 91, 68, 98, 1, 64, 41, 48, 95, 80, 69, 29, 55, 12, 47, 6, 11, 35, 90, 17, 7, 53, 8]\n"
     ]
    }
   ],
   "source": [
    "def problem(N, T):\n",
    "    for t in range(T):\n",
    "        print(\"t=\", t, \"N=\", N)\n",
    "        villes = np.random.rand(N, 2)\n",
    "        chemin = algo_proche_en_proche(villes)\n",
    "        elimine_croisements(villes, chemin)\n",
    "    return chemin\n",
    "\n",
    "\n",
    "print(problem(100, 1))"
   ]
  },
  {
   "cell_type": "markdown",
   "metadata": {},
   "source": [
    "```python\n",
    "import cProfile, pstats, io\n",
    "from pstats import SortKey\n",
    "pr = cProfile.Profile()\n",
    "pr.enable()\n",
    "\n",
    "problem(10, 5)\n",
    "\n",
    "pr.disable()\n",
    "s = io.StringIO()\n",
    "sortby = SortKey.CUMULATIVE\n",
    "ps = pstats.Stats(pr, stream=s).sort_stats(sortby)\n",
    "ps.print_stats()\n",
    "print(s.getvalue().replace(\"<ipython-input-\", \"<nb\"))\n",
    "```"
   ]
  },
  {
   "cell_type": "markdown",
   "metadata": {},
   "source": [
    "## Optimisation de la fonction distance"
   ]
  },
  {
   "cell_type": "code",
   "execution_count": 10,
   "metadata": {},
   "outputs": [
    {
     "name": "stdout",
     "output_type": "stream",
     "text": [
      "duree 0.2855997085571289\n",
      "duree 0.14869189262390137\n",
      "duree 0.22153949737548828\n"
     ]
    }
   ],
   "source": [
    "def distance1(v1, v2):  # v1= np.array([0, 1]), v2= ....\n",
    "    return ((v1 - v2) ** 2).sum() ** 0.5\n",
    "\n",
    "\n",
    "def distance2(v1, v2):\n",
    "    s = (v1 - v2) ** 2\n",
    "    return (s[0] + s[1]) ** 0.5\n",
    "\n",
    "\n",
    "def distance3(v1, v2):\n",
    "    d = v1 - v2\n",
    "    s = d * d\n",
    "    return np.sqrt(s[0] + s[1])\n",
    "\n",
    "\n",
    "import numpy as np\n",
    "\n",
    "v1 = np.array([0, 5], dtype=np.float32)\n",
    "v2 = np.array([1, 5.5], dtype=np.float32)\n",
    "N = 100000\n",
    "import time\n",
    "\n",
    "begin = time.time()\n",
    "for i in range(N):\n",
    "    distance1(v1, v2)\n",
    "print(\"duree\", time.time() - begin)\n",
    "begin = time.time()\n",
    "for i in range(N):\n",
    "    distance2(v1, v2)\n",
    "print(\"duree\", time.time() - begin)\n",
    "begin = time.time()\n",
    "for i in range(N):\n",
    "    distance3(v1, v2)\n",
    "print(\"duree\", time.time() - begin)"
   ]
  },
  {
   "cell_type": "code",
   "execution_count": 11,
   "metadata": {},
   "outputs": [
    {
     "data": {
      "text/plain": [
       "(np.float64(0.0054706211079842415), np.float64(0.0054706211079842415))"
      ]
     },
     "execution_count": 11,
     "metadata": {},
     "output_type": "execute_result"
    }
   ],
   "source": [
    "def distance(v1, v2):\n",
    "    d = v1 - v2\n",
    "    s = d * d\n",
    "    return np.sqrt(s[0] + s[1])\n",
    "\n",
    "\n",
    "def delta(villes, C, i, j):\n",
    "    i1, i2, j1, j2 = C[i], C[i + 1], C[j], C[j + 1]\n",
    "    return (\n",
    "        -distance(villes[i1], villes[i2])\n",
    "        - distance(villes[j1], villes[j2])\n",
    "        + distance(villes[i1], villes[j1])\n",
    "        + distance(villes[i2], villes[j2])\n",
    "    )\n",
    "\n",
    "\n",
    "def delta2(villes, C, i, j):\n",
    "    i1, i2, j1, j2 = C[i], C[i + 1], C[j], C[j + 1]\n",
    "    d = villes[(i1, j1, i1, i2), :] - villes[(i2, j2, j1, j2), :]\n",
    "    d2 = d * d\n",
    "    s = np.sqrt(d2[:, 0] + d2[:, 1])\n",
    "    return -s[0] - s[1] + s[2] + s[3]\n",
    "\n",
    "\n",
    "villes = np.random.rand(20, 2)\n",
    "C = list(range(villes.shape[0]))\n",
    "delta(villes, C, 5, 8), delta2(villes, C, 5, 8)"
   ]
  },
  {
   "cell_type": "code",
   "execution_count": 12,
   "metadata": {},
   "outputs": [
    {
     "name": "stdout",
     "output_type": "stream",
     "text": [
      "duree 1.044642686843872\n",
      "duree 0.844332218170166\n"
     ]
    }
   ],
   "source": [
    "begin = time.time()\n",
    "for i in range(N):\n",
    "    delta(villes, C, 5, 8)\n",
    "print(\"duree\", time.time() - begin)\n",
    "begin = time.time()\n",
    "for i in range(N):\n",
    "    delta2(villes, C, 5, 8)\n",
    "print(\"duree\", time.time() - begin)"
   ]
  },
  {
   "cell_type": "code",
   "execution_count": 13,
   "metadata": {},
   "outputs": [],
   "source": [
    "import scipy\n",
    "\n",
    "\n",
    "def elimine_croisements2(villes, chemin):\n",
    "    distances = scipy.spatial.distances.pdist(villes)\n",
    "    C = chemin\n",
    "    while True:\n",
    "        mieux = 0\n",
    "        for i in range(-1, villes.shape[0]):\n",
    "            for j in range(i + 2, villes.shape[0] - 1):\n",
    "                delta = (\n",
    "                    -distances[C[i], C[i + 1]]\n",
    "                    - distances[C[j], C[j + 1]]\n",
    "                    + distances[C[i], C[j]]\n",
    "                    + distances[C[i + 1], C[j + 1]]\n",
    "                )\n",
    "                if delta < 0:\n",
    "                    mieux += 1\n",
    "                    print(\"mieux\", i, j, delta, chemin[i + 1 : j + 1], chemin[j:i:-1])\n",
    "                    # c'est mieux... on retourne les villes du chemin\n",
    "                    # entre i+1 et j inclus\n",
    "                    if i >= 0:\n",
    "                        chemin[i + 1 : j + 1] = chemin[j:i:-1]\n",
    "                    else:\n",
    "                        chemin[i + 1 : j + 1] = chemin[j::-1]\n",
    "        if mieux == 0:\n",
    "            break"
   ]
  },
  {
   "cell_type": "code",
   "execution_count": null,
   "metadata": {},
   "outputs": [],
   "source": []
  },
  {
   "cell_type": "markdown",
   "metadata": {},
   "source": [
    "## Préfixes"
   ]
  },
  {
   "cell_type": "code",
   "execution_count": 14,
   "metadata": {},
   "outputs": [
    {
     "data": {
      "text/plain": [
       "{'': [''], 'B': ['A', 'CA', ''], 'E': ['E', 'F', 'G'], 'A': ['B', 'BC']}"
      ]
     },
     "execution_count": 14,
     "metadata": {},
     "output_type": "execute_result"
    }
   ],
   "source": [
    "def casse_liste(liste):\n",
    "    premiere_lettre = set(mot[:1] for mot in liste)\n",
    "    res = {}\n",
    "    for p in premiere_lettre:\n",
    "        res[p] = [mot[1:] for mot in liste if mot[:1] == p]\n",
    "    return res\n",
    "\n",
    "\n",
    "liste = [\"AB\", \"ABC\", \"BA\", \"BCA\", \"B\", \"EE\", \"EF\", \"EG\", \"\"]\n",
    "casse_liste(liste)"
   ]
  },
  {
   "cell_type": "code",
   "execution_count": 15,
   "metadata": {},
   "outputs": [
    {
     "data": {
      "text/plain": [
       "{'': {},\n",
       " 'B': {'C': {'A': {}}, '': {}, 'A': {}},\n",
       " 'E': {'E': {}, 'F': {}, 'G': {}},\n",
       " 'A': {'B': {'': {}, 'C': {}}}}"
      ]
     },
     "execution_count": 15,
     "metadata": {},
     "output_type": "execute_result"
    }
   ],
   "source": [
    "def casse_liste_rec(liste):\n",
    "    if not liste or liste == [\"\"]:\n",
    "        return {}\n",
    "    premiere_lettre = set(mot[:1] for mot in liste)\n",
    "    res = {}\n",
    "    for p in premiere_lettre:\n",
    "        res[p] = casse_liste_rec([mot[1:] for mot in liste if mot[:1] == p])\n",
    "    return res\n",
    "\n",
    "\n",
    "liste = [\"AB\", \"ABC\", \"BA\", \"BCA\", \"B\", \"EE\", \"EF\", \"EG\", \"\"]\n",
    "casse_liste_rec(liste)"
   ]
  },
  {
   "cell_type": "code",
   "execution_count": 16,
   "metadata": {},
   "outputs": [
    {
     "name": "stdout",
     "output_type": "stream",
     "text": [
      "{'': {},\n",
      " 'A': {'B': {'': {}, 'C': {}}},\n",
      " 'B': {'': {}, 'A': {}, 'C': {'A': {}}},\n",
      " 'E': {'E': {}, 'F': {}, 'G': {}}}\n"
     ]
    }
   ],
   "source": [
    "import pprint\n",
    "\n",
    "pprint.pprint(casse_liste_rec(liste))"
   ]
  },
  {
   "cell_type": "code",
   "execution_count": 17,
   "metadata": {},
   "outputs": [
    {
     "data": {
      "text/plain": [
       "['', 'BCA', 'B', 'BA', 'EE', 'EF', 'EG', 'AB', 'ABC']"
      ]
     },
     "execution_count": 17,
     "metadata": {},
     "output_type": "execute_result"
    }
   ],
   "source": [
    "def reconstruit_liste(trie, prefixe=\"\"):\n",
    "    mots = []\n",
    "    for lettre, sous_trie in trie.items():\n",
    "        nouveau_prefixe = prefixe + lettre\n",
    "        if not sous_trie:  # Si le sous-trie est vide, c'est la fin d'un mot\n",
    "            mots.append(nouveau_prefixe)\n",
    "        else:\n",
    "            mots.extend(reconstruit_liste(sous_trie, nouveau_prefixe))\n",
    "    return mots\n",
    "\n",
    "\n",
    "liste = [\"AB\", \"ABC\", \"BA\", \"BCA\", \"B\", \"EE\", \"EF\", \"EG\", \"\"]\n",
    "trie = casse_liste_rec(liste)\n",
    "liste_reconstruite = reconstruit_liste(trie)\n",
    "liste_reconstruite"
   ]
  },
  {
   "cell_type": "code",
   "execution_count": 18,
   "metadata": {},
   "outputs": [
    {
     "data": {
      "text/plain": [
       "(True, True, False)"
      ]
     },
     "execution_count": 18,
     "metadata": {},
     "output_type": "execute_result"
    }
   ],
   "source": [
    "def search_trie(trie, mot):\n",
    "    if not mot:\n",
    "        return True  # Mot vide, considéré comme présent\n",
    "    if not trie:\n",
    "        return False  # Trie vide, mot absent\n",
    "    premiere_lettre = mot[0]\n",
    "    if premiere_lettre not in trie:\n",
    "        return False\n",
    "    return search_trie(trie[premiere_lettre], mot[1:])\n",
    "\n",
    "\n",
    "search_trie(trie, \"\"), search_trie(trie, \"BC\"), search_trie(trie, \"Z\")"
   ]
  },
  {
   "cell_type": "code",
   "execution_count": 19,
   "metadata": {},
   "outputs": [
    {
     "data": {
      "text/plain": [
       "(True, True, False)"
      ]
     },
     "execution_count": 19,
     "metadata": {},
     "output_type": "execute_result"
    }
   ],
   "source": [
    "def search_trie2(trie, mot):\n",
    "    current = trie\n",
    "    for lettre in mot:\n",
    "        if lettre not in current:\n",
    "            return False\n",
    "        current = current[lettre]\n",
    "    return True\n",
    "\n",
    "\n",
    "search_trie2(trie, \"\"), search_trie2(trie, \"BC\"), search_trie2(trie, \"Z\")"
   ]
  },
  {
   "cell_type": "code",
   "execution_count": 20,
   "metadata": {},
   "outputs": [
    {
     "data": {
      "text/plain": [
       "['BCA', 'B', 'BA', 'EE', 'EF', 'EG', 'AB']"
      ]
     },
     "execution_count": 20,
     "metadata": {},
     "output_type": "execute_result"
    }
   ],
   "source": [
    "def intersection_tries_naive(trie1, trie2):\n",
    "    liste = reconstruit_liste(trie1)\n",
    "    return [mot for mot in liste if search_trie2(trie2, mot)]\n",
    "\n",
    "\n",
    "liste1 = [\"AB\", \"ABC\", \"BA\", \"BCA\", \"B\", \"EE\", \"EF\", \"EG\"]\n",
    "trie1 = casse_liste_rec(liste1)\n",
    "liste2 = [\"AB\", \"BA\", \"BCA\", \"B\", \"EE\", \"EF\", \"EG\", \"EH\"]\n",
    "trie2 = casse_liste_rec(liste2)\n",
    "intersection_tries_naive(trie1, trie2)"
   ]
  },
  {
   "cell_type": "code",
   "execution_count": 21,
   "metadata": {},
   "outputs": [
    {
     "data": {
      "text/plain": [
       "['BCA', 'B', 'BA', 'EE', 'EF', 'EG']"
      ]
     },
     "execution_count": 21,
     "metadata": {},
     "output_type": "execute_result"
    }
   ],
   "source": [
    "def intersection_tries(trie1, trie2, prefixe=\"\"):\n",
    "    mots = []\n",
    "    # Parcourir les clés communes aux deux tries\n",
    "    for lettre in set(trie1.keys()) & set(trie2.keys()):\n",
    "        nouveau_prefixe = prefixe + lettre\n",
    "        # Si les deux sous-tries sont vides, c'est un mot commun\n",
    "        if not trie1[lettre] and not trie2[lettre]:\n",
    "            mots.append(nouveau_prefixe)\n",
    "        else:\n",
    "            # Sinon, continuer récursivement\n",
    "            mots.extend(\n",
    "                intersection_tries(trie1[lettre], trie2[lettre], nouveau_prefixe)\n",
    "            )\n",
    "    return mots\n",
    "\n",
    "\n",
    "intersection_tries(trie1, trie2)"
   ]
  },
  {
   "cell_type": "code",
   "execution_count": null,
   "metadata": {},
   "outputs": [],
   "source": []
  }
 ],
 "metadata": {
  "kernelspec": {
   "display_name": "Python 3 (ipykernel)",
   "language": "python",
   "name": "python3"
  },
  "language_info": {
   "codemirror_mode": {
    "name": "ipython",
    "version": 3
   },
   "file_extension": ".py",
   "mimetype": "text/x-python",
   "name": "python",
   "nbconvert_exporter": "python",
   "pygments_lexer": "ipython3",
   "version": "3.12.9"
  }
 },
 "nbformat": 4,
 "nbformat_minor": 2
}