{
 "cells": [
  {
   "cell_type": "markdown",
   "metadata": {},
   "source": [
    "# Séance 7 - postier chinois"
   ]
  },
  {
   "cell_type": "code",
   "execution_count": 3,
   "metadata": {
    "colab": {
     "base_uri": "https://localhost:8080/",
     "height": 243
    },
    "id": "jMJh6BaUqBza",
    "outputId": "7462c5b8-2545-46d6-8285-5b8702cca7eb"
   },
   "outputs": [
    {
     "name": "stdout",
     "output_type": "stream",
     "text": [
      "Adjacency Matrix:\n",
      "[[0 1 0 1 0 0 0 0 1 1 1 0]\n",
      " [1 0 1 0 0 0 1 0 1 0 0 1]\n",
      " [0 1 0 0 1 0 0 1 0 1 1 0]\n",
      " [1 0 0 0 0 0 0 0 1 0 0 0]\n",
      " [0 0 1 0 0 0 0 0 0 0 0 0]\n",
      " [0 0 0 0 0 0 0 1 1 1 0 0]\n",
      " [0 1 0 0 0 0 0 0 0 1 0 0]\n",
      " [0 0 1 0 0 1 0 0 1 1 1 1]\n",
      " [1 1 0 1 0 1 0 1 0 0 0 0]\n",
      " [1 0 1 0 0 1 1 1 0 0 0 0]\n",
      " [1 0 1 0 0 0 0 1 0 0 0 0]\n",
      " [0 1 0 0 0 0 0 1 0 0 0 0]]\n"
     ]
    }
   ],
   "source": [
    "import networkx as nx\n",
    "import numpy as np\n",
    "\n",
    "# Create a connected graph with 12 nodes\n",
    "G = nx.erdos_renyi_graph(\n",
    "    12, 0.3\n",
    ")  # Using a random graph for simplicity, adjust probability for connectivity\n",
    "\n",
    "# Ensure the graph is connected, regenerate if not\n",
    "while not nx.is_connected(G):\n",
    "    G = nx.erdos_renyi_graph(12, 0.3)\n",
    "\n",
    "# Get the adjacency matrix\n",
    "adj_matrix = nx.adjacency_matrix(G)\n",
    "\n",
    "# Convert to a dense numpy array for easier viewing\n",
    "adj_matrix_dense = adj_matrix.todense()\n",
    "\n",
    "print(\"Adjacency Matrix:\")\n",
    "print(adj_matrix_dense)"
   ]
  },
  {
   "cell_type": "code",
   "execution_count": 4,
   "metadata": {
    "colab": {
     "base_uri": "https://localhost:8080/",
     "height": 345
    },
    "id": "745eaabe",
    "outputId": "53c9a82c-c2d8-40f2-8e58-fc100644683c"
   },
   "outputs": [
    {
     "data": {
      "image/png": "[encoded data removed]",
      "text/plain": [
       "<Figure size 400x400 with 1 Axes>"
      ]
     },
     "metadata": {},
     "output_type": "display_data"
    }
   ],
   "source": [
    "import matplotlib.pyplot as plt\n",
    "\n",
    "# Draw the graph\n",
    "pos = nx.spring_layout(G)  # positions for all nodes - seed for reproducibility\n",
    "fig, ax = plt.subplots(figsize=(4, 4))\n",
    "nx.draw(\n",
    "    G,\n",
    "    pos,\n",
    "    with_labels=True,\n",
    "    node_color=\"skyblue\",\n",
    "    node_size=700,\n",
    "    edge_color=\"k\",\n",
    "    linewidths=1,\n",
    "    font_size=15,\n",
    "    ax=ax,\n",
    ")\n",
    "\n",
    "# Display the plot\n",
    "plt.show()"
   ]
  },
  {
   "cell_type": "code",
   "execution_count": 5,
   "metadata": {
    "colab": {
     "base_uri": "https://localhost:8080/"
    },
    "id": "GHcplBDDqpU4",
    "outputId": "5608ce1a-75b8-4dd7-ec68-f0f7ca428734"
   },
   "outputs": [
    {
     "data": {
      "text/plain": [
       "array([5, 5, 5, 2, 1, 3, 2, 6, 5, 5, 3, 2])"
      ]
     },
     "execution_count": 5,
     "metadata": {},
     "output_type": "execute_result"
    }
   ],
   "source": [
    "def degre_noeuds(adj_matrix_dense):\n",
    "    return adj_matrix_dense.sum(axis=1)\n",
    "\n",
    "\n",
    "degre_noeuds(adj_matrix_dense)"
   ]
  },
  {
   "cell_type": "code",
   "execution_count": 6,
   "metadata": {
    "colab": {
     "base_uri": "https://localhost:8080/"
    },
    "id": "9ATMw4THrnWT",
    "outputId": "1283378b-5327-4a44-9b53-58c5089cad17"
   },
   "outputs": [
    {
     "data": {
      "text/plain": [
       "False"
      ]
     },
     "execution_count": 6,
     "metadata": {},
     "output_type": "execute_result"
    }
   ],
   "source": [
    "def tous_noeuds_degre_impair_sauf_deux(adj_matrix_dense):\n",
    "    deg = degre_noeuds(adj_matrix_dense)\n",
    "    impairs = (deg % 2).sum()\n",
    "    return bool(impairs <= 2)\n",
    "\n",
    "\n",
    "tous_noeuds_degre_impair_sauf_deux(adj_matrix_dense)"
   ]
  },
  {
   "cell_type": "code",
   "execution_count": 7,
   "metadata": {
    "colab": {
     "base_uri": "https://localhost:8080/"
    },
    "id": "23W4Bn5jvwGN",
    "outputId": "2d38f735-7f17-4dae-a5a4-d38551167a3c"
   },
   "outputs": [
    {
     "data": {
      "text/plain": [
       "(np.float64(2.0), [0, 1])"
      ]
     },
     "execution_count": 7,
     "metadata": {},
     "output_type": "execute_result"
    }
   ],
   "source": [
    "def plus_court_chemin(adj_matrix, debut, fin):\n",
    "    distance = np.array([np.inf for i in range(len(adj_matrix))])\n",
    "    predecessors = np.array([-1 for i in range(len(adj_matrix))])\n",
    "    distance[debut] = 0\n",
    "    for t in range(len(adj_matrix)):\n",
    "        for i in range(len(adj_matrix)):\n",
    "            for j in range(len(adj_matrix)):\n",
    "                d = distance[i] + adj_matrix[i, j]\n",
    "                if adj_matrix[i, j] != 0 and distance[j] > d:\n",
    "                    distance[j] = d\n",
    "                    predecessors[j] = i\n",
    "    chemin = []\n",
    "    while fin != -1:\n",
    "        chemin.append(int(fin))\n",
    "        fin = predecessors[fin]\n",
    "    return distance[fin], chemin[::-1]\n",
    "\n",
    "\n",
    "plus_court_chemin(adj_matrix_dense, 0, 1)"
   ]
  },
  {
   "cell_type": "code",
   "execution_count": 8,
   "metadata": {
    "colab": {
     "base_uri": "https://localhost:8080/"
    },
    "id": "T8bQZmj2wWWn",
    "outputId": "9dc51332-be09-4b69-9208-db3458c628f1"
   },
   "outputs": [
    {
     "data": {
      "text/plain": [
       "[(np.int64(1), np.int64(0)),\n",
       " (np.int64(4), np.int64(2)),\n",
       " (np.int64(8), np.int64(5)),\n",
       " (np.int64(10), np.int64(9))]"
      ]
     },
     "execution_count": 8,
     "metadata": {},
     "output_type": "execute_result"
    }
   ],
   "source": [
    "def appariement_approche(adj_matrix):\n",
    "    degre = degre_noeuds(adj_matrix)\n",
    "    impair = np.arange(degre.shape[0])[degre % 2 == 1]\n",
    "    paires = []\n",
    "    for i in impair:\n",
    "        for j in impair:\n",
    "            if i <= j:\n",
    "                continue\n",
    "            paires.append((i, j, plus_court_chemin(adj_matrix, i, j)[0]))\n",
    "    paires.sort()\n",
    "    appariement = []\n",
    "    selectionne = set()\n",
    "    for i, j, d in paires:\n",
    "        if i not in selectionne and j not in selectionne:\n",
    "            selectionne.add(i)\n",
    "            selectionne.add(j)\n",
    "            appariement.append((i, j))\n",
    "    return appariement\n",
    "\n",
    "\n",
    "appariement = appariement_approche(adj_matrix_dense)\n",
    "appariement"
   ]
  },
  {
   "cell_type": "code",
   "execution_count": 9,
   "metadata": {
    "colab": {
     "base_uri": "https://localhost:8080/"
    },
    "id": "krmGWY-T0bZh",
    "outputId": "30617cbf-12b1-47ab-fab3-85f379a32e68"
   },
   "outputs": [
    {
     "data": {
      "text/plain": [
       "array([[0, 2, 0, 1, 0, 0, 0, 0, 1, 2, 2, 0],\n",
       "       [2, 0, 1, 0, 0, 0, 1, 0, 1, 0, 0, 1],\n",
       "       [0, 1, 0, 0, 2, 0, 0, 1, 0, 1, 1, 0],\n",
       "       [1, 0, 0, 0, 0, 0, 0, 0, 1, 0, 0, 0],\n",
       "       [0, 0, 2, 0, 0, 0, 0, 0, 0, 0, 0, 0],\n",
       "       [0, 0, 0, 0, 0, 0, 0, 1, 2, 1, 0, 0],\n",
       "       [0, 1, 0, 0, 0, 0, 0, 0, 0, 1, 0, 0],\n",
       "       [0, 0, 1, 0, 0, 1, 0, 0, 1, 1, 1, 1],\n",
       "       [1, 1, 0, 1, 0, 2, 0, 1, 0, 0, 0, 0],\n",
       "       [2, 0, 1, 0, 0, 1, 1, 1, 0, 0, 0, 0],\n",
       "       [2, 0, 1, 0, 0, 0, 0, 1, 0, 0, 0, 0],\n",
       "       [0, 1, 0, 0, 0, 0, 0, 1, 0, 0, 0, 0]])"
      ]
     },
     "execution_count": 9,
     "metadata": {},
     "output_type": "execute_result"
    }
   ],
   "source": [
    "def ajout_arc(adj_matrix):\n",
    "    copie = adj_matrix.copy()\n",
    "    appariement = appariement_approche(adj_matrix_dense)\n",
    "    for i, j in appariement:\n",
    "        chemin = plus_court_chemin(adj_matrix, i, j)[1]\n",
    "        for k in range(len(chemin) - 1):\n",
    "            copie[chemin[k], chemin[k + 1]] += 1\n",
    "            copie[chemin[k + 1], chemin[k]] += 1\n",
    "    return copie\n",
    "\n",
    "\n",
    "matrice_paire = ajout_arc(adj_matrix_dense)\n",
    "matrice_paire"
   ]
  },
  {
   "cell_type": "code",
   "execution_count": 10,
   "metadata": {
    "colab": {
     "base_uri": "https://localhost:8080/"
    },
    "id": "VXXei49I17IY",
    "outputId": "832c5fb0-ec65-40d3-b511-83a48be40f92"
   },
   "outputs": [
    {
     "data": {
      "text/plain": [
       "array([8, 6, 6, 2, 2, 4, 2, 6, 6, 6, 4, 2])"
      ]
     },
     "execution_count": 10,
     "metadata": {},
     "output_type": "execute_result"
    }
   ],
   "source": [
    "degre_noeuds(matrice_paire)"
   ]
  },
  {
   "cell_type": "code",
   "execution_count": 11,
   "metadata": {
    "colab": {
     "base_uri": "https://localhost:8080/"
    },
    "id": "dGGJiXVr2MpZ",
    "outputId": "4d4ea4b5-0bc2-44b5-f7f5-bbf6ec6b1222"
   },
   "outputs": [
    {
     "data": {
      "text/plain": [
       "[0, 10, 7, 11, 1, 8, 7, 9, 6, 1, 2, 9, 5, 7, 2, 4, 8, 3, 0, 1, 8, 9, 10]"
      ]
     },
     "execution_count": 11,
     "metadata": {},
     "output_type": "execute_result"
    }
   ],
   "source": [
    "def chemin_passant_par_tous_les_arcs(matrice):\n",
    "    \"\"\"\n",
    "    Retourne un chemin passant par tous les arcs d'un graphe non orienté,\n",
    "    représenté par une matrice d'adjacence.\n",
    "    Retourne None si le graphe n'est pas eulérien.\n",
    "    \"\"\"\n",
    "    # Conversion matrice -> liste d'adjacence\n",
    "    n = len(matrice)\n",
    "    graphe = {}\n",
    "    for i in range(n):\n",
    "        for j in range(i + 1, n):\n",
    "            if matrice[i][j] > 0:\n",
    "                if i not in graphe:\n",
    "                    graphe[i] = []\n",
    "                if j not in graphe:\n",
    "                    graphe[j] = []\n",
    "                graphe[i].append(j)\n",
    "                graphe[j].append(i)\n",
    "\n",
    "    # Vérifie si le graphe est eulérien\n",
    "    def est_eulerien(g):\n",
    "        degres = [0] * n\n",
    "        for u in g:\n",
    "            degres[u] = len(g[u])\n",
    "        degres_impairs = [u for u in range(n) if degres[u] % 2 != 0]\n",
    "        if len(degres_impairs) == 0 or len(degres_impairs) == 2:\n",
    "            return True, degres_impairs\n",
    "        return False, degres_impairs\n",
    "\n",
    "    # Algorithme de Hierholzer\n",
    "    def hierholzer(g):\n",
    "        stack = []\n",
    "        chemin = []\n",
    "        sommet_courant = 0\n",
    "        stack.append(sommet_courant)\n",
    "\n",
    "        while stack:\n",
    "            u = stack[-1]\n",
    "            if g[u]:\n",
    "                v = g[u].pop()\n",
    "                g[v].remove(u)  # Supprime l'arc dans les deux sens\n",
    "                stack.append(v)\n",
    "            else:\n",
    "                chemin.append(stack.pop())\n",
    "        return chemin[::-1]\n",
    "\n",
    "    # Copie du graphe pour ne pas le modifier\n",
    "    g = {}\n",
    "    for u in graphe:\n",
    "        g[u] = graphe[u].copy()\n",
    "\n",
    "    chemin = hierholzer(g)\n",
    "    return chemin\n",
    "\n",
    "\n",
    "chemin_passant_par_tous_les_arcs(matrice_paire)"
   ]
  },
  {
   "cell_type": "code",
   "execution_count": null,
   "metadata": {
    "id": "2ldG9xEz4Cw8"
   },
   "outputs": [],
   "source": []
  }
 ],
 "metadata": {
  "colab": {
   "provenance": []
  },
  "kernelspec": {
   "display_name": "this312",
   "language": "python",
   "name": "python3"
  },
  "language_info": {
   "codemirror_mode": {
    "name": "ipython",
    "version": 3
   },
   "file_extension": ".py",
   "mimetype": "text/x-python",
   "name": "python",
   "nbconvert_exporter": "python",
   "pygments_lexer": "ipython3",
   "version": "3.12.3"
  }
 },
 "nbformat": 4,
 "nbformat_minor": 0
}