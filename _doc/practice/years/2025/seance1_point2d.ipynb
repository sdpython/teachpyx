{
 "cells": [
  {
   "cell_type": "markdown",
   "metadata": {},
   "source": [
    "# Introduction aux classes\n",
    "\n",
    "Ce notebook part d'une classe représentant un point en deux dimensions pour aller jusqu'au calcul de la surface d'un polygone quel qu'il soit. La plupart des réponses ont été guidées par LeChat."
   ]
  },
  {
   "cell_type": "code",
   "execution_count": 2,
   "metadata": {},
   "outputs": [],
   "source": [
    "class Point2D:\n",
    "    def __init__(self, x=0, y=0):\n",
    "        self.x = x\n",
    "        self.y = y\n",
    "\n",
    "    def __repr__(self):\n",
    "        return f\"Point2D({self.x}, {self.y})\"\n",
    "\n",
    "    def __eq__(self, other):\n",
    "        if isinstance(other, Point2D):\n",
    "            return self.x == other.x and self.y == other.y\n",
    "        return False\n",
    "\n",
    "    def distance_to(self, other):\n",
    "        \"\"\"Calcule la distance entre deux points.\"\"\"\n",
    "        return ((self.x - other.x) ** 2 + (self.y - other.y) ** 2) ** 0.5\n",
    "\n",
    "    @staticmethod\n",
    "    def intersection_point(p1, p2, p3, p4):\n",
    "        \"\"\"Retourne le point d'intersection des segments p1p2 et p3p4, ou None si pas d'intersection.\"\"\"\n",
    "        # Calcul des coefficients des droites\n",
    "        a1 = p2.y - p1.y\n",
    "        b1 = p1.x - p2.x\n",
    "        c1 = a1 * p1.x + b1 * p1.y\n",
    "\n",
    "        a2 = p4.y - p3.y\n",
    "        b2 = p3.x - p4.x\n",
    "        c2 = a2 * p3.x + b2 * p3.y\n",
    "\n",
    "        det = a1 * b2 - a2 * b1\n",
    "        if det == 0:\n",
    "            return None  # Droites parallèles\n",
    "\n",
    "        x = (b2 * c1 - b1 * c2) / det\n",
    "        y = (a1 * c2 - a2 * c1) / det\n",
    "\n",
    "        # Vérifie que le point est bien sur les deux segments\n",
    "        if (\n",
    "            min(p1.x, p2.x) <= x <= max(p1.x, p2.x)\n",
    "            and min(p1.y, p2.y) <= y <= max(p1.y, p2.y)\n",
    "            and min(p3.x, p4.x) <= x <= max(p3.x, p4.x)\n",
    "            and min(p3.y, p4.y) <= y <= max(p3.y, p4.y)\n",
    "        ):\n",
    "            return Point2D(x, y)\n",
    "        return None"
   ]
  },
  {
   "cell_type": "code",
   "execution_count": 3,
   "metadata": {},
   "outputs": [
    {
     "name": "stdout",
     "output_type": "stream",
     "text": [
      "Point2D(3, 4)\n",
      "5.0\n"
     ]
    }
   ],
   "source": [
    "p1 = Point2D(3, 4)\n",
    "p2 = Point2D(6, 8)\n",
    "print(p1)  # Affiche : Point2D(3, 4)\n",
    "print(p1.distance_to(p2))"
   ]
  },
  {
   "cell_type": "code",
   "execution_count": 18,
   "metadata": {},
   "outputs": [],
   "source": [
    "import matplotlib.pyplot as plt\n",
    "\n",
    "\n",
    "class Polygone:\n",
    "    def __init__(self, points=None):\n",
    "        if points is None:\n",
    "            self.points = []\n",
    "        else:\n",
    "            self.points = list(points)\n",
    "\n",
    "    def __repr__(self):\n",
    "        return f\"Polygone({self.points})\"\n",
    "\n",
    "    def ajouter_point(self, point):\n",
    "        \"\"\"Ajoute un point au polygone.\"\"\"\n",
    "        self.points.append(point)\n",
    "\n",
    "    def perimetre(self):\n",
    "        \"\"\"Calcule le périmètre du polygone.\"\"\"\n",
    "        if len(self.points) < 2:\n",
    "            return 0.0\n",
    "        perimetre = 0.0\n",
    "        for i in range(len(self.points)):\n",
    "            p1 = self.points[i]\n",
    "            p2 = self.points[(i + 1) % len(self.points)]\n",
    "            perimetre += p1.distance_to(p2)\n",
    "        return perimetre\n",
    "\n",
    "    def aire(self):\n",
    "        \"\"\"Calcule l'aire du polygone en utilisant la formule du shoelace.\"\"\"\n",
    "        if len(self.points) < 3:\n",
    "            return 0.0\n",
    "        aire = 0.0\n",
    "        n = len(self.points)\n",
    "        for i in range(n):\n",
    "            x_i, y_i = self.points[i].x, self.points[i].y\n",
    "            x_j, y_j = self.points[(i + 1) % n].x, self.points[(i + 1) % n].y\n",
    "            aire += (x_i * y_j) - (x_j * y_i)\n",
    "        return abs(aire) / 2.0\n",
    "\n",
    "    def tracer(self, titre=\"Polygone\", couleur=\"blue\"):\n",
    "        \"\"\"Trace le polygone dans un notebook avec les indices des points.\"\"\"\n",
    "        if len(self.points) < 2:\n",
    "            print(\"Pas assez de points pour tracer.\")\n",
    "            return\n",
    "\n",
    "        x = [p.x for p in self.points]\n",
    "        y = [p.y for p in self.points]\n",
    "\n",
    "        # On ferme le polygone en ajoutant le premier point à la fin\n",
    "        x.append(self.points[0].x)\n",
    "        y.append(self.points[0].y)\n",
    "\n",
    "        plt.figure()\n",
    "        plt.plot(x, y, marker=\"o\", color=couleur)\n",
    "\n",
    "        # Ajout des indices des points\n",
    "        for i, (xi, yi) in enumerate(zip(x[:-1], y[:-1])):\n",
    "            plt.text(xi, yi, f\" {i}\", color=\"red\", fontsize=12)\n",
    "\n",
    "        plt.title(titre)\n",
    "        plt.xlabel(\"X\")\n",
    "        plt.ylabel(\"Y\")\n",
    "        plt.grid(True)\n",
    "        plt.axis(\"equal\")\n",
    "        plt.show()\n",
    "\n",
    "    def premier_point_intersection_segments(self):\n",
    "        \"\"\"Retourne les coordonnées du premier point d'intersection entre deux segments,\n",
    "        ainsi que les indices des premières extrémités de chacun des segments.\n",
    "        Retourne (None, None, None) si pas d'intersection.\"\"\"\n",
    "        n = len(self.points)\n",
    "        for i in range(n):\n",
    "            for j in range(i + 1, n):\n",
    "                p1 = self.points[i]\n",
    "                p2 = self.points[(i + 1) % n]\n",
    "                p3 = self.points[j]\n",
    "                p4 = self.points[(j + 1) % n]\n",
    "                pt_inter = Point2D.intersection_point(p1, p2, p3, p4)\n",
    "                if pt_inter is not None:\n",
    "                    return pt_inter, i, j\n",
    "        return None, None, None\n",
    "\n",
    "    def inserer_point_intersection(self, i, j, point):\n",
    "        \"\"\"Insère le point d'intersection après i et après j dans la liste des points.\n",
    "        Attention : cela modifie la liste des points du polygone.\n",
    "        \"\"\"\n",
    "        if i >= len(self.points) or j >= len(self.points):\n",
    "            raise ValueError(\"Indices invalides\")\n",
    "        # On insère d'abord après le plus grand indice pour ne pas décaler l'autre\n",
    "        if i > j:\n",
    "            self.points.insert(j + 1, point)\n",
    "            self.points.insert(i + 2, point)  # +2 car la liste a déjà grandi\n",
    "        else:\n",
    "            self.points.insert(i + 1, point)\n",
    "            self.points.insert(j + 2, point)  # +2 car la liste a déjà grandi"
   ]
  },
  {
   "cell_type": "code",
   "execution_count": 19,
   "metadata": {},
   "outputs": [
    {
     "name": "stdout",
     "output_type": "stream",
     "text": [
      "Polygone([Point2D(0, 0), Point2D(4, 0), Point2D(4, 3), Point2D(0, 3)])\n",
      "14.0\n"
     ]
    }
   ],
   "source": [
    "p1 = Point2D(0, 0)\n",
    "p2 = Point2D(4, 0)\n",
    "p3 = Point2D(4, 3)\n",
    "p4 = Point2D(0, 3)\n",
    "\n",
    "poly = Polygone([p1, p2, p3, p4])\n",
    "print(\n",
    "    poly\n",
    ")  # Affiche : Polygone([Point2D(0, 0), Point2D(4, 0), Point2D(4, 3), Point2D(0, 3)])\n",
    "print(poly.perimetre())  # Affiche : 14.0"
   ]
  },
  {
   "cell_type": "code",
   "execution_count": 20,
   "metadata": {},
   "outputs": [
    {
     "name": "stdout",
     "output_type": "stream",
     "text": [
      "12.0\n"
     ]
    }
   ],
   "source": [
    "p1 = Point2D(0, 0)\n",
    "p2 = Point2D(4, 0)\n",
    "p3 = Point2D(4, 3)\n",
    "p4 = Point2D(0, 3)\n",
    "\n",
    "poly = Polygone([p1, p2, p3, p4])\n",
    "print(poly.aire())  # Affiche : 12.0"
   ]
  },
  {
   "cell_type": "code",
   "execution_count": 21,
   "metadata": {},
   "outputs": [
    {
     "name": "stdout",
     "output_type": "stream",
     "text": [
      "0.0\n"
     ]
    }
   ],
   "source": [
    "p1 = Point2D(0, 0)\n",
    "p2 = Point2D(0, 1)\n",
    "p3 = Point2D(1, 0)\n",
    "p4 = Point2D(1, 1)\n",
    "\n",
    "poly = Polygone([p1, p2, p3, p4])\n",
    "print(poly.aire())  # Affiche : 12.0"
   ]
  },
  {
   "cell_type": "code",
   "execution_count": 22,
   "metadata": {},
   "outputs": [
    {
     "data": {
      "image/png": "[encoded data removed]",
      "text/plain": [
       "<Figure size 432x288 with 1 Axes>"
      ]
     },
     "metadata": {
      "needs_background": "light"
     },
     "output_type": "display_data"
    }
   ],
   "source": [
    "poly.tracer(titre=\"Mon rectangle\", couleur=\"red\")"
   ]
  },
  {
   "cell_type": "code",
   "execution_count": null,
   "metadata": {},
   "outputs": [],
   "source": []
  }
 ],
 "metadata": {
  "kernelspec": {
   "display_name": "Python 3",
   "language": "python",
   "name": "python3"
  },
  "language_info": {
   "codemirror_mode": {
    "name": "ipython",
    "version": 3
   },
   "file_extension": ".py",
   "mimetype": "text/x-python",
   "name": "python",
   "nbconvert_exporter": "python",
   "pygments_lexer": "ipython3",
   "version": "3.7.3"
  }
 },
 "nbformat": 4,
 "nbformat_minor": 2
}