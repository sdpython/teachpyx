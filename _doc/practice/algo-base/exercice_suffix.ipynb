{
 "cells": [
  {
   "cell_type": "markdown",
   "metadata": {},
   "source": [
    "# Jeux de dictionnaires, plus grand suffixe commun\n",
    "\n",
    "Les dictionnaires sont très utilisés pour associer des choses entre elles, surtout quand ces choses ne sont pas entières. Le notebook montre l'intérêt de perdre un peu de temps pour transformer les données et rendre un calcul plus rapide."
   ]
  },
  {
   "cell_type": "markdown",
   "metadata": {},
   "source": [
    "## Enoncé\n",
    "\n",
    "Le texte suivant est un poème d'Arthur Rimbaud, Les Voyelles. On veut en extraire tous les mots."
   ]
  },
  {
   "cell_type": "code",
   "execution_count": 1,
   "metadata": {},
   "outputs": [],
   "source": [
    "poeme = \"\"\"\n",
    "A noir, E blanc, I rouge, U vert, O bleu, voyelles,\n",
    "Je dirai quelque jour vos naissances latentes.\n",
    "A, noir corset velu des mouches éclatantes\n",
    "Qui bombillent autour des puanteurs cruelles,\n",
    "\n",
    "Golfe d'ombre; E, candeur des vapeurs et des tentes,\n",
    "Lance des glaciers fiers, rois blancs, frissons d'ombelles;\n",
    "I, pourpres, sang craché, rire des lèvres belles\n",
    "Dans la colère ou les ivresses pénitentes;\n",
    "\n",
    "U, cycles, vibrements divins des mers virides,\n",
    "Paix des pâtis semés d'animaux, paix des rides\n",
    "Que l'alchimie imprime aux grands fronts studieux;\n",
    "\n",
    "O, suprême clairon plein de strideurs étranges,\n",
    "Silences traversés des Mondes et des Anges:\n",
    "—O l'Oméga, rayon violet de Ses Yeux!\n",
    "\"\"\""
   ]
  },
  {
   "cell_type": "code",
   "execution_count": 2,
   "metadata": {},
   "outputs": [
    {
     "name": "stdout",
     "output_type": "stream",
     "text": [
      "['a', 'noir', 'e', 'blanc', 'i', 'rouge', 'u', 'vert', 'o', 'bleu', 'voyelles', 'je', 'dirai', 'quelque', 'jour', 'vos', 'naissances', 'latentes', 'a', 'noir', 'corset', 'velu', 'des', 'mouches', 'éclatantes', 'qui', 'bombillent', 'autour', 'des', 'puanteurs', 'cruelles', 'golfe', 'd', 'ombre', 'e', 'candeur', 'des', 'vapeurs', 'et', 'des', 'tentes', 'lance', 'des', 'glaciers', 'fiers', 'rois', 'blancs', 'frissons', 'd', 'ombelles', 'i', 'pourpres', 'sang', 'craché', 'rire', 'des', 'lèvres', 'belles', 'dans', 'la', 'colère', 'ou', 'les', 'ivresses', 'pénitentes', 'u', 'cycles', 'vibrements', 'divins', 'des', 'mers', 'virides', 'paix', 'des', 'pâtis', 'semés', 'd', 'animaux', 'paix', 'des', 'rides', 'que', 'l', 'alchimie', 'imprime', 'aux', 'grands', 'fronts', 'studieux', 'o', 'suprême', 'clairon', 'plein', 'de', 'strideurs', 'étranges', 'silences', 'traversés', 'des', 'mondes', 'et', 'des', 'anges', '—o', 'l', 'oméga', 'rayon', 'violet', 'de', 'ses', 'yeux']\n"
     ]
    }
   ],
   "source": [
    "def extract_words(text):\n",
    "    # ce n'est pas la plus efficace des fonctions mais ça fait ce qu'on veut\n",
    "    spl = (\n",
    "        text.lower()\n",
    "        .replace(\"!\", \"\")\n",
    "        .replace(\",\", \"\")\n",
    "        .replace(\";\", \"\")\n",
    "        .replace(\".\", \"\")\n",
    "        .replace(\":\", \"\")\n",
    "        .replace(\"'\", \" \")\n",
    "        .split()\n",
    "    )\n",
    "    return spl\n",
    "\n",
    "\n",
    "print(extract_words(poeme))"
   ]
  },
  {
   "cell_type": "markdown",
   "metadata": {},
   "source": [
    "### Exercice 1 : trouver les deux mots qui partagent le plus grand suffixe en commun"
   ]
  },
  {
   "cell_type": "code",
   "execution_count": null,
   "metadata": {},
   "outputs": [],
   "source": []
  },
  {
   "cell_type": "markdown",
   "metadata": {},
   "source": [
    "### Exercice 2 : constuire un dictionnaire qui associe à chaque lettre tous les mots se terminant par celle-ci"
   ]
  },
  {
   "cell_type": "code",
   "execution_count": null,
   "metadata": {},
   "outputs": [],
   "source": []
  },
  {
   "cell_type": "markdown",
   "metadata": {},
   "source": [
    "### Exercice 3 : trouver les deux mots qui partagent le plus grand suffixe en commun en utilisant le dictionnaire précédent"
   ]
  },
  {
   "cell_type": "code",
   "execution_count": null,
   "metadata": {},
   "outputs": [],
   "source": []
  },
  {
   "cell_type": "markdown",
   "metadata": {},
   "source": [
    "### Exercice 4 : mesurer le temps pris par chaque fonction\n",
    "\n",
    "La fonction [perf_counter](https://docs.python.org/3/library/time.html#time.perf_counter) est parfaite pour ça."
   ]
  },
  {
   "cell_type": "code",
   "execution_count": null,
   "metadata": {},
   "outputs": [],
   "source": []
  },
  {
   "cell_type": "markdown",
   "metadata": {},
   "source": [
    "### Exercice 5 : expliquer pourquoi telle méthode est plus rapide.\n",
    "\n",
    "La réponse devrait guider vers une méthode encore plus rapide."
   ]
  },
  {
   "cell_type": "code",
   "execution_count": null,
   "metadata": {},
   "outputs": [],
   "source": []
  },
  {
   "cell_type": "markdown",
   "metadata": {},
   "source": [
    "### Exercice 6 : pousser l'idée plus loin et construire un trie\n",
    "\n",
    "Indexer les mots par leur dernière lettre permet d'aller plus vite. Il faut maintenant trouver le suffixe le plus long dans chaque sous-groupe de mots. Ce problème est identique au précédent sur tous les mots précédents auxquels la dernière aurait été ôtée. Comment exploiter cette idée jusqu'au bout ?"
   ]
  },
  {
   "cell_type": "code",
   "execution_count": null,
   "metadata": {},
   "outputs": [],
   "source": []
  },
  {
   "cell_type": "markdown",
   "metadata": {},
   "source": [
    "## Réponses"
   ]
  },
  {
   "cell_type": "markdown",
   "metadata": {},
   "source": [
    "### Exercice 1 : trouver les deux mots qui partagent le plus grand suffixe en commun\n",
    "\n",
    "Ce n'est qu'une suggestion. La fonction repose sur trois boucles, la première parcourt différentes tailles de suffixe, les deux autres regardes toutes les paires de mots."
   ]
  },
  {
   "cell_type": "code",
   "execution_count": 3,
   "metadata": {},
   "outputs": [
    {
     "data": {
      "text/plain": [
       "('tentes', ('latentes', 'tentes'))"
      ]
     },
     "execution_count": 3,
     "metadata": {},
     "output_type": "execute_result"
    }
   ],
   "source": [
    "def plus_grand_suffix_commun(mots):\n",
    "    longueur_max = max([len(m) for m in mots])\n",
    "    meilleure_paire = None\n",
    "    meilleur_suffix = None\n",
    "    # On peut parcourir les tailles de suffixe dans un sens croissant\n",
    "    # mais c'est plus efficace dans un sens décroissant dans la mesure\n",
    "    # où le premier suffixe trouvé est alors nécessairement le plus long.\n",
    "    for i in range(longueur_max - 1, 0, -1):\n",
    "        for m1 in mots:\n",
    "            for m2 in mots:  # ici, on pourrait ne parcourir qu'une partie des mots\n",
    "                # car m1,m2 ou m2,m1, c'est pareil.\n",
    "                if m1 == m2:\n",
    "                    continue\n",
    "                if len(m1) < i or len(m2) < i:\n",
    "                    continue\n",
    "                suffixe = m1[-i:]\n",
    "                if m2[-i:] == suffixe:\n",
    "                    meilleur_suffix = suffixe\n",
    "                    meilleure_paire = m1, m2\n",
    "                    return meilleur_suffix, meilleure_paire\n",
    "\n",
    "\n",
    "mots = extract_words(poeme)\n",
    "plus_grand_suffix_commun(mots)"
   ]
  },
  {
   "cell_type": "markdown",
   "metadata": {},
   "source": [
    "### Exercice 2 : constuire un dictionnaire qui associe à chaque lettre tous les mots se terminant par celle-ci"
   ]
  },
  {
   "cell_type": "code",
   "execution_count": 4,
   "metadata": {},
   "outputs": [
    {
     "data": {
      "text/plain": [
       "{'a': ['a', 'a', 'la', 'oméga'],\n",
       " 'r': ['noir', 'jour', 'noir', 'autour', 'candeur'],\n",
       " 'e': ['e',\n",
       "  'rouge',\n",
       "  'je',\n",
       "  'quelque',\n",
       "  'golfe',\n",
       "  'ombre',\n",
       "  'e',\n",
       "  'lance',\n",
       "  'rire',\n",
       "  'colère',\n",
       "  'que',\n",
       "  'alchimie',\n",
       "  'imprime',\n",
       "  'suprême',\n",
       "  'de',\n",
       "  'de'],\n",
       " 'c': ['blanc'],\n",
       " 'i': ['i', 'dirai', 'qui', 'i'],\n",
       " 'u': ['u', 'bleu', 'velu', 'ou', 'u'],\n",
       " 't': ['vert', 'corset', 'bombillent', 'et', 'et', 'violet'],\n",
       " 'o': ['o', 'o', '—o'],\n",
       " 's': ['voyelles',\n",
       "  'vos',\n",
       "  'naissances',\n",
       "  'latentes',\n",
       "  'des',\n",
       "  'mouches',\n",
       "  'éclatantes',\n",
       "  'des',\n",
       "  'puanteurs',\n",
       "  'cruelles',\n",
       "  'des',\n",
       "  'vapeurs',\n",
       "  'des',\n",
       "  'tentes',\n",
       "  'des',\n",
       "  'glaciers',\n",
       "  'fiers',\n",
       "  'rois',\n",
       "  'blancs',\n",
       "  'frissons',\n",
       "  'ombelles',\n",
       "  'pourpres',\n",
       "  'des',\n",
       "  'lèvres',\n",
       "  'belles',\n",
       "  'dans',\n",
       "  'les',\n",
       "  'ivresses',\n",
       "  'pénitentes',\n",
       "  'cycles',\n",
       "  'vibrements',\n",
       "  'divins',\n",
       "  'des',\n",
       "  'mers',\n",
       "  'virides',\n",
       "  'des',\n",
       "  'pâtis',\n",
       "  'semés',\n",
       "  'des',\n",
       "  'rides',\n",
       "  'grands',\n",
       "  'fronts',\n",
       "  'strideurs',\n",
       "  'étranges',\n",
       "  'silences',\n",
       "  'traversés',\n",
       "  'des',\n",
       "  'mondes',\n",
       "  'des',\n",
       "  'anges',\n",
       "  'ses'],\n",
       " 'd': ['d', 'd', 'd'],\n",
       " 'g': ['sang'],\n",
       " 'é': ['craché'],\n",
       " 'x': ['paix', 'animaux', 'paix', 'aux', 'studieux', 'yeux'],\n",
       " 'l': ['l', 'l'],\n",
       " 'n': ['clairon', 'plein', 'rayon']}"
      ]
     },
     "execution_count": 4,
     "metadata": {},
     "output_type": "execute_result"
    }
   ],
   "source": [
    "mots = extract_words(poeme)\n",
    "suffix_map = {}\n",
    "for mot in mots:\n",
    "    lettre = mot[-1]\n",
    "    if lettre in suffix_map:\n",
    "        suffix_map[lettre].append(mot)\n",
    "    else:\n",
    "        suffix_map[lettre] = [mot]\n",
    "suffix_map"
   ]
  },
  {
   "cell_type": "markdown",
   "metadata": {},
   "source": [
    "### Exercice 3 : trouver les deux mots qui partagent le plus grand suffixe en commun en utilisant le dictionnaire précédent\n",
    "\n",
    "On reprend les deux ingrédients."
   ]
  },
  {
   "cell_type": "code",
   "execution_count": 5,
   "metadata": {},
   "outputs": [
    {
     "data": {
      "text/plain": [
       "(6, 'tentes', ('latentes', 'tentes'))"
      ]
     },
     "execution_count": 5,
     "metadata": {},
     "output_type": "execute_result"
    }
   ],
   "source": [
    "def plus_grand_suffix_commun_dictionnaire(mots):\n",
    "    suffix_map = {}\n",
    "    for mot in mots:\n",
    "        lettre = mot[-1]\n",
    "        if lettre in suffix_map:\n",
    "            suffix_map[lettre].append(mot)\n",
    "        else:\n",
    "            suffix_map[lettre] = [mot]\n",
    "\n",
    "    tout = []\n",
    "    for cle, valeur in suffix_map.items():\n",
    "        suffix = plus_grand_suffix_commun(valeur)\n",
    "        if suffix is None:\n",
    "            continue\n",
    "        tout.append((len(suffix[0]), suffix[0], suffix[1]))\n",
    "    return max(tout)\n",
    "\n",
    "\n",
    "mots = extract_words(poeme)\n",
    "plus_grand_suffix_commun_dictionnaire(mots)"
   ]
  },
  {
   "cell_type": "markdown",
   "metadata": {},
   "source": [
    "### Exercice 4 : mesurer le temps pris par chaque fonction"
   ]
  },
  {
   "cell_type": "code",
   "execution_count": 6,
   "metadata": {},
   "outputs": [
    {
     "data": {
      "text/plain": [
       "0.5386918000003789"
      ]
     },
     "execution_count": 6,
     "metadata": {},
     "output_type": "execute_result"
    }
   ],
   "source": [
    "from time import perf_counter\n",
    "\n",
    "mots = extract_words(poeme)\n",
    "\n",
    "debut = perf_counter()\n",
    "for i in range(100):\n",
    "    plus_grand_suffix_commun(mots)\n",
    "perf_counter() - debut"
   ]
  },
  {
   "cell_type": "code",
   "execution_count": 7,
   "metadata": {},
   "outputs": [
    {
     "data": {
      "text/plain": [
       "0.17898409999997966"
      ]
     },
     "execution_count": 7,
     "metadata": {},
     "output_type": "execute_result"
    }
   ],
   "source": [
    "debut = perf_counter()\n",
    "for i in range(100):\n",
    "    plus_grand_suffix_commun_dictionnaire(mots)\n",
    "perf_counter() - debut"
   ]
  },
  {
   "cell_type": "markdown",
   "metadata": {},
   "source": [
    "### Exercice 5 : expliquer pourquoi telle méthode est plus rapide.\n",
    "\n",
    "La seconde méthode est deux à trois fois plus rapide. Cela dépend du nombre de mots qu'on note *N*. Si on note *L* la longueur du plus grand mot, la première méthode a pour coût $O(LN^2)$. La seconde est une succession de deux étapes. La première étape construit un dictionnaire en parcourant une seule fois la liste des mots. Son coût est $O(N)$. La seconde utilise la première méthode mais sur des ensembles plus petits. Plus exactements, si $N_x$ est le nombre de mots se terminant pas $x$, alors le coût de la méthode est $O(L \\sum_x N_x^2)$ avec $\\sum_x N_x = N$. Il faut donc comparer $O(LN^2)$ à $O(N) + O(L \\sum_x N_x^2)$. Le second coût est plus petit."
   ]
  },
  {
   "cell_type": "markdown",
   "metadata": {},
   "source": [
    "### Exercice 6 : pousser l'idée plus loin et construire un trie\n",
    "\n",
    "Un [trie](https://fr.wikipedia.org/wiki/Trie_(informatique)) est une structure de données permettant de trouver rapidement tous les mots partageant le même préfixe ou suffixe."
   ]
  },
  {
   "cell_type": "code",
   "execution_count": 8,
   "metadata": {},
   "outputs": [
    {
     "data": {
      "text/plain": [
       "{'c': {'b': {'a': {'z': {'FIN': 0}, 'FIN': 0}}}}"
      ]
     },
     "execution_count": 8,
     "metadata": {},
     "output_type": "execute_result"
    }
   ],
   "source": [
    "def build_trie(liste):\n",
    "    trie = {}\n",
    "    for mot in liste:\n",
    "        noeud = trie\n",
    "        for i in range(0, len(mot)):\n",
    "            lettre = mot[len(mot) - i - 1]\n",
    "            if lettre not in noeud:\n",
    "                noeud[lettre] = {}\n",
    "            noeud = noeud[lettre]\n",
    "        noeud[\"FIN\"] = 0\n",
    "    return trie\n",
    "\n",
    "\n",
    "liste = [\"zabc\", \"abc\"]\n",
    "t = build_trie(liste)\n",
    "t"
   ]
  },
  {
   "cell_type": "code",
   "execution_count": 9,
   "metadata": {},
   "outputs": [
    {
     "data": {
      "text/plain": [
       "{'a': {'FIN': 0, 'l': {'FIN': 0}, 'g': {'é': {'m': {'o': {'FIN': 0}}}}},\n",
       " 'r': {'i': {'o': {'n': {'FIN': 0}}},\n",
       "  'u': {'o': {'j': {'FIN': 0}, 't': {'u': {'a': {'FIN': 0}}}},\n",
       "   'e': {'d': {'n': {'a': {'c': {'FIN': 0}}}}}}},\n",
       " 'e': {'FIN': 0,\n",
       "  'g': {'u': {'o': {'r': {'FIN': 0}}}},\n",
       "  'j': {'FIN': 0},\n",
       "  'u': {'q': {'l': {'e': {'u': {'q': {'FIN': 0}}}}, 'FIN': 0}},\n",
       "  'f': {'l': {'o': {'g': {'FIN': 0}}}},\n",
       "  'r': {'b': {'m': {'o': {'FIN': 0}}},\n",
       "   'i': {'r': {'FIN': 0}},\n",
       "   'è': {'l': {'o': {'c': {'FIN': 0}}}}},\n",
       "  'c': {'n': {'a': {'l': {'FIN': 0}}}},\n",
       "  'i': {'m': {'i': {'h': {'c': {'l': {'a': {'FIN': 0}}}}}}},\n",
       "  'm': {'i': {'r': {'p': {'m': {'i': {'FIN': 0}}}}},\n",
       "   'ê': {'r': {'p': {'u': {'s': {'FIN': 0}}}}}},\n",
       "  'd': {'FIN': 0}},\n",
       " 'c': {'n': {'a': {'l': {'b': {'FIN': 0}}}}},\n",
       " 'i': {'FIN': 0, 'a': {'r': {'i': {'d': {'FIN': 0}}}}, 'u': {'q': {'FIN': 0}}},\n",
       " 'u': {'FIN': 0,\n",
       "  'e': {'l': {'b': {'FIN': 0}}},\n",
       "  'l': {'e': {'v': {'FIN': 0}}},\n",
       "  'o': {'FIN': 0}},\n",
       " 't': {'r': {'e': {'v': {'FIN': 0}}},\n",
       "  'e': {'s': {'r': {'o': {'c': {'FIN': 0}}}},\n",
       "   'FIN': 0,\n",
       "   'l': {'o': {'i': {'v': {'FIN': 0}}}}},\n",
       "  'n': {'e': {'l': {'l': {'i': {'b': {'m': {'o': {'b': {'FIN': 0}}}}}}}}}},\n",
       " 'o': {'FIN': 0, '—': {'FIN': 0}},\n",
       " 's': {'e': {'l': {'l': {'e': {'y': {'o': {'v': {'FIN': 0}}},\n",
       "      'u': {'r': {'c': {'FIN': 0}}},\n",
       "      'b': {'m': {'o': {'FIN': 0}}, 'FIN': 0}}},\n",
       "    'FIN': 0,\n",
       "    'c': {'y': {'c': {'FIN': 0}}}},\n",
       "   'c': {'n': {'a': {'s': {'s': {'i': {'a': {'n': {'FIN': 0}}}}}},\n",
       "     'e': {'l': {'i': {'s': {'FIN': 0}}}}}},\n",
       "   't': {'n': {'e': {'t': {'a': {'l': {'FIN': 0}},\n",
       "       'FIN': 0,\n",
       "       'i': {'n': {'é': {'p': {'FIN': 0}}}}}},\n",
       "     'a': {'t': {'a': {'l': {'c': {'é': {'FIN': 0}}}}}}}},\n",
       "   'd': {'FIN': 0,\n",
       "    'i': {'r': {'i': {'v': {'FIN': 0}}, 'FIN': 0}},\n",
       "    'n': {'o': {'m': {'FIN': 0}}}},\n",
       "   'h': {'c': {'u': {'o': {'m': {'FIN': 0}}}}},\n",
       "   'r': {'p': {'r': {'u': {'o': {'p': {'FIN': 0}}}}},\n",
       "    'v': {'è': {'l': {'FIN': 0}}}},\n",
       "   's': {'s': {'e': {'r': {'v': {'i': {'FIN': 0}}}}}, 'FIN': 0},\n",
       "   'g': {'n': {'a': {'r': {'t': {'é': {'FIN': 0}}}, 'FIN': 0}}}},\n",
       "  'o': {'v': {'FIN': 0}},\n",
       "  'r': {'u': {'e': {'t': {'n': {'a': {'u': {'p': {'FIN': 0}}}}},\n",
       "     'p': {'a': {'v': {'FIN': 0}}},\n",
       "     'd': {'i': {'r': {'t': {'s': {'FIN': 0}}}}}}},\n",
       "   'e': {'i': {'c': {'a': {'l': {'g': {'FIN': 0}}}}, 'f': {'FIN': 0}},\n",
       "    'm': {'FIN': 0}}},\n",
       "  'i': {'o': {'r': {'FIN': 0}}, 't': {'â': {'p': {'FIN': 0}}}},\n",
       "  'c': {'n': {'a': {'l': {'b': {'FIN': 0}}}}},\n",
       "  'n': {'o': {'s': {'s': {'i': {'r': {'f': {'FIN': 0}}}}}},\n",
       "   'a': {'d': {'FIN': 0}},\n",
       "   'i': {'v': {'i': {'d': {'FIN': 0}}}}},\n",
       "  't': {'n': {'e': {'m': {'e': {'r': {'b': {'i': {'v': {'FIN': 0}}}}}}},\n",
       "    'o': {'r': {'f': {'FIN': 0}}}}},\n",
       "  'é': {'m': {'e': {'s': {'FIN': 0}}},\n",
       "   's': {'r': {'e': {'v': {'a': {'r': {'t': {'FIN': 0}}}}}}}},\n",
       "  'd': {'n': {'a': {'r': {'g': {'FIN': 0}}}}}},\n",
       " 'd': {'FIN': 0},\n",
       " 'g': {'n': {'a': {'s': {'FIN': 0}}}},\n",
       " 'é': {'h': {'c': {'a': {'r': {'c': {'FIN': 0}}}}}},\n",
       " 'x': {'i': {'a': {'p': {'FIN': 0}}},\n",
       "  'u': {'a': {'m': {'i': {'n': {'a': {'FIN': 0}}}}, 'FIN': 0},\n",
       "   'e': {'i': {'d': {'u': {'t': {'s': {'FIN': 0}}}}}, 'y': {'FIN': 0}}}},\n",
       " 'l': {'FIN': 0},\n",
       " 'n': {'o': {'r': {'i': {'a': {'l': {'c': {'FIN': 0}}}}},\n",
       "   'y': {'a': {'r': {'FIN': 0}}}},\n",
       "  'i': {'e': {'l': {'p': {'FIN': 0}}}}}}"
      ]
     },
     "execution_count": 9,
     "metadata": {},
     "output_type": "execute_result"
    }
   ],
   "source": [
    "mots = extract_words(poeme)\n",
    "trie = build_trie(mots)\n",
    "trie"
   ]
  },
  {
   "cell_type": "markdown",
   "metadata": {},
   "source": [
    "C'est illisible. On ne montre que les mots se terminant par ``tes``."
   ]
  },
  {
   "cell_type": "code",
   "execution_count": 10,
   "metadata": {},
   "outputs": [
    {
     "data": {
      "text/plain": [
       "{'n': {'e': {'t': {'a': {'l': {'FIN': 0}},\n",
       "    'FIN': 0,\n",
       "    'i': {'n': {'é': {'p': {'FIN': 0}}}}}},\n",
       "  'a': {'t': {'a': {'l': {'c': {'é': {'FIN': 0}}}}}}}}"
      ]
     },
     "execution_count": 10,
     "metadata": {},
     "output_type": "execute_result"
    }
   ],
   "source": [
    "trie[\"s\"][\"e\"][\"t\"]"
   ]
  },
  {
   "cell_type": "markdown",
   "metadata": {},
   "source": [
    "Toujours pas très partique. On veut représenter l'arbre visuellement ou tout du moins une sous-partie. On utilise le langage [DOT](https://fr.wikipedia.org/wiki/Dot)."
   ]
  },
  {
   "cell_type": "code",
   "execution_count": 11,
   "metadata": {},
   "outputs": [
    {
     "name": "stdout",
     "output_type": "stream",
     "text": [
      "digraph{\n",
      "set2374575491648 [label=\"set\"];\n",
      "n2374575489600 [label=\"n\"];\n",
      "set2374575491648 -> n2374575489600;\n",
      "e2374575503808 [label=\"e\"];\n",
      "n2374575489600 -> e2374575503808;\n",
      "t2374575329600 [label=\"t\"];\n",
      "e2374575503808 -> t2374575329600;\n",
      "a2374575329984 [label=\"a\"];\n",
      "t2374575329600 -> a2374575329984;\n",
      "l2374575327296 [label=\"l\"];\n",
      "a2374575329984 -> l2374575327296;\n",
      "FIN2374494191824 [label=\"FIN\"];\n",
      "l2374575327296 -> FIN2374494191824;\n",
      "\n",
      "FIN2374494191824 [label=\"FIN\"];\n",
      "t2374575329600 -> FIN2374494191824;\n",
      "\n",
      "i2374575817216 [label=\"i\"];\n",
      "t2374575329600 -> i2374575817216;\n",
      "n2374575817280 [label=\"n\"];\n",
      "i2374575817216 -> n2374575817280;\n",
      "é2374575817344 [label=\"é\"];\n",
      "n2374575817280 -> é2374575817344;\n",
      "p2374575817408 [label=\"p\"];\n",
      "é2374575817344 -> p2374575817408;\n",
      "FIN2374494191824 [label=\"FIN\"];\n",
      "p2374575817408 -> FIN2374494191824;\n",
      "\n",
      "a2374575326656 [label=\"a\"];\n",
      "n2374575489600 -> a2374575326656;\n",
      "t2374575325312 [label=\"t\"];\n",
      "a2374575326656 -> t2374575325312;\n",
      "a2374575330240 [label=\"a\"];\n",
      "t2374575325312 -> a2374575330240;\n",
      "l2374575340416 [label=\"l\"];\n",
      "a2374575330240 -> l2374575340416;\n",
      "c2374575339968 [label=\"c\"];\n",
      "l2374575340416 -> c2374575339968;\n",
      "é2374575595200 [label=\"é\"];\n",
      "c2374575339968 -> é2374575595200;\n",
      "FIN2374494191824 [label=\"FIN\"];\n",
      "é2374575595200 -> FIN2374494191824;\n",
      "\n",
      "}\n"
     ]
    }
   ],
   "source": [
    "def build_dot(trie, predecessor=None, root_name=None, depth=0):\n",
    "    rows = []\n",
    "    root = trie\n",
    "    if predecessor is None:\n",
    "        rows.append(\"digraph{\")\n",
    "        rows.append(\n",
    "            '%s%d [label=\"%s\"];' % (root_name or \"ROOT\", id(trie), root_name or \"ROOT\")\n",
    "        )\n",
    "        rows.append(build_dot(trie, root_name or \"ROOT\", depth=depth))\n",
    "        rows.append(\"}\")\n",
    "    elif isinstance(trie, dict):\n",
    "        for k, v in trie.items():\n",
    "            rows.append('%s%d [label=\"%s\"];' % (k, id(v), k))\n",
    "            rows.append(\"%s%d -> %s%d;\" % (predecessor, id(trie), k, id(v)))\n",
    "            rows.append(build_dot(v, k, depth=depth + 1))\n",
    "    return \"\\n\".join(rows)\n",
    "\n",
    "\n",
    "text = build_dot(trie[\"s\"][\"e\"][\"t\"], root_name=\"set\")\n",
    "print(text)"
   ]
  },
  {
   "cell_type": "code",
   "execution_count": 18,
   "metadata": {
    "scrolled": false
   },
   "outputs": [
    {
     "data": {
      "text/html": [
       "\n",
       "    <script src=\"https://sdpython.github.io/js/viz-lite.js\"></script>\n",
       "    <div id=\"9110917c-391f-4bd3-a5cb-c245800c0841\"></div>\n",
       "    <script>\n",
       "    var svgGraph = Viz(\"digraph{\\nset2374575491648 [label=\\\"set\\\"];\\nn2374575489600 [label=\\\"n\\\"];\\nset2374575491648 -> n2374575489600;\\ne2374575503808 [label=\\\"e\\\"];\\nn2374575489600 -> e2374575503808;\\nt2374575329600 [label=\\\"t\\\"];\\ne2374575503808 -> t2374575329600;\\na2374575329984 [label=\\\"a\\\"];\\nt2374575329600 -> a2374575329984;\\nl2374575327296 [label=\\\"l\\\"];\\na2374575329984 -> l2374575327296;\\nFIN2374494191824 [label=\\\"FIN\\\"];\\nl2374575327296 -> FIN2374494191824;\\n\\nFIN2374494191824 [label=\\\"FIN\\\"];\\nt2374575329600 -> FIN2374494191824;\\n\\ni2374575817216 [label=\\\"i\\\"];\\nt2374575329600 -> i2374575817216;\\nn2374575817280 [label=\\\"n\\\"];\\ni2374575817216 -> n2374575817280;\\né2374575817344 [label=\\\"é\\\"];\\nn2374575817280 -> é2374575817344;\\np2374575817408 [label=\\\"p\\\"];\\né2374575817344 -> p2374575817408;\\nFIN2374494191824 [label=\\\"FIN\\\"];\\np2374575817408 -> FIN2374494191824;\\n\\na2374575326656 [label=\\\"a\\\"];\\nn2374575489600 -> a2374575326656;\\nt2374575325312 [label=\\\"t\\\"];\\na2374575326656 -> t2374575325312;\\na2374575330240 [label=\\\"a\\\"];\\nt2374575325312 -> a2374575330240;\\nl2374575340416 [label=\\\"l\\\"];\\na2374575330240 -> l2374575340416;\\nc2374575339968 [label=\\\"c\\\"];\\nl2374575340416 -> c2374575339968;\\né2374575595200 [label=\\\"é\\\"];\\nc2374575339968 -> é2374575595200;\\nFIN2374494191824 [label=\\\"FIN\\\"];\\né2374575595200 -> FIN2374494191824;\\n\\n}\");\n",
       "    document.getElementById('9110917c-391f-4bd3-a5cb-c245800c0841').innerHTML = svgGraph;\n",
       "    </script>\n",
       "    "
      ],
      "text/plain": [
       "<IPython.core.display.HTML object>"
      ]
     },
     "execution_count": 18,
     "metadata": {},
     "output_type": "execute_result"
    }
   ],
   "source": [
    "import uuid\n",
    "import numpy\n",
    "import matplotlib.pyplot as plt\n",
    "from IPython.display import HTML\n",
    "\n",
    "\n",
    "def plot_dot(dot):\n",
    "    # Dessine un graph à l'aide du language DOT\n",
    "    # https://graphviz.org/doc/info/lang.html\n",
    "    # print(dot)  # décommenter cette ligne pour voir le résultat\n",
    "    hdot = dot.replace(\"\\n\", \"\\\\n\").replace('\"', '\\\\\"')\n",
    "    uid = uuid.uuid4()\n",
    "    text = f\"\"\"\n",
    "    <script src=\"https://sdpython.github.io/js/viz-lite.js\"></script>\n",
    "    <div id=\"{uid}\"></div>\n",
    "    <script>\n",
    "    var svgGraph = Viz(\"{hdot}\");\n",
    "    document.getElementById('{uid}').innerHTML = svgGraph;\n",
    "    </script>\n",
    "    \"\"\"\n",
    "    return HTML(text)\n",
    "\n",
    "\n",
    "plot_dot(text)"
   ]
  },
  {
   "cell_type": "code",
   "execution_count": 13,
   "metadata": {},
   "outputs": [
    {
     "data": {
      "text/plain": [
       "['s', 'e', 'l', 'l', 'e', 'b', 'FIN']"
      ]
     },
     "execution_count": 13,
     "metadata": {},
     "output_type": "execute_result"
    }
   ],
   "source": [
    "def plus_grand_suffix_commun_dictionnaire_trie(mots):\n",
    "    whole_trie = build_trie(mots)\n",
    "\n",
    "    def walk(trie):\n",
    "        best = []\n",
    "        for k, v in trie.items():\n",
    "            if isinstance(v, int):\n",
    "                continue\n",
    "            r = walk(v)\n",
    "            if len(r) > 0 and len(r) + 1 > len(best):\n",
    "                best = [k] + r\n",
    "        if len(best) > 0:\n",
    "            return best\n",
    "        if len(trie) >= 2:\n",
    "            return [\"FIN\"]\n",
    "        return []\n",
    "\n",
    "    return walk(whole_trie)\n",
    "\n",
    "\n",
    "res = plus_grand_suffix_commun_dictionnaire_trie(mots)\n",
    "res"
   ]
  },
  {
   "cell_type": "code",
   "execution_count": 14,
   "metadata": {},
   "outputs": [
    {
     "data": {
      "text/plain": [
       "(6, 'tentes', ('latentes', 'tentes'))"
      ]
     },
     "execution_count": 14,
     "metadata": {},
     "output_type": "execute_result"
    }
   ],
   "source": [
    "res = plus_grand_suffix_commun_dictionnaire(mots)\n",
    "res"
   ]
  },
  {
   "cell_type": "markdown",
   "metadata": {},
   "source": [
    "Le résultat est différent car le dictionnaire ne garantit pas que les éléments seront parcourus dans l'ordre alphabétique."
   ]
  },
  {
   "cell_type": "code",
   "execution_count": 15,
   "metadata": {},
   "outputs": [
    {
     "data": {
      "text/plain": [
       "0.23091779999958817"
      ]
     },
     "execution_count": 15,
     "metadata": {},
     "output_type": "execute_result"
    }
   ],
   "source": [
    "debut = perf_counter()\n",
    "for i in range(100):\n",
    "    plus_grand_suffix_commun_dictionnaire(mots)\n",
    "perf_counter() - debut"
   ]
  },
  {
   "cell_type": "code",
   "execution_count": 16,
   "metadata": {},
   "outputs": [
    {
     "data": {
      "text/plain": [
       "0.05081569999947533"
      ]
     },
     "execution_count": 16,
     "metadata": {},
     "output_type": "execute_result"
    }
   ],
   "source": [
    "debut = perf_counter()\n",
    "for i in range(100):\n",
    "    plus_grand_suffix_commun_dictionnaire_trie(mots)\n",
    "perf_counter() - debut"
   ]
  },
  {
   "cell_type": "markdown",
   "metadata": {},
   "source": [
    "Mais c'est beaucoup plus rapide."
   ]
  },
  {
   "cell_type": "code",
   "execution_count": null,
   "metadata": {},
   "outputs": [],
   "source": []
  }
 ],
 "metadata": {
  "kernelspec": {
   "display_name": "Python 3 (ipykernel)",
   "language": "python",
   "name": "python3"
  },
  "language_info": {
   "codemirror_mode": {
    "name": "ipython",
    "version": 3
   },
   "file_extension": ".py",
   "mimetype": "text/x-python",
   "name": "python",
   "nbconvert_exporter": "python",
   "pygments_lexer": "ipython3",
   "version": "3.10.5"
  }
 },
 "nbformat": 4,
 "nbformat_minor": 1
}
