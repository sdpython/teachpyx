{
 "cells": [
  {
   "cell_type": "markdown",
   "metadata": {},
   "source": [
    "# Les k premiers éléments (top k)\n",
    "\n",
    "Rechercher les k premiers éléments est un exercice classique d'algorithmie, souvent appelé *top-k*et qu'on peut résoudre à l'aide d'un [algorithme de sélection](https://fr.wikipedia.org/wiki/Algorithme_de_s%C3%A9lection). C'est très utile en machine learning pour retourner les 3, 4, ou 5 premiers résultats d'un modèle prédictif."
   ]
  },
  {
   "cell_type": "code",
   "execution_count": 1,
   "metadata": {},
   "outputs": [],
   "source": [
    "%matplotlib inline"
   ]
  },
  {
   "cell_type": "markdown",
   "metadata": {},
   "source": [
    "## Enoncé\n",
    "\n",
    "On part d'une liste toute simple, une permutation aléatoire des premiers entiers. On connaît donc les *k* plus petits éléments qu'il faut obtenir."
   ]
  },
  {
   "cell_type": "code",
   "execution_count": 2,
   "metadata": {},
   "outputs": [
    {
     "data": {
      "text/plain": [
       "array([10, 13, 17, 14,  7, 15,  0,  3,  9,  6,  8,  2, 19, 18,  4, 12, 11,\n",
       "        5,  1, 16])"
      ]
     },
     "execution_count": 2,
     "metadata": {},
     "output_type": "execute_result"
    }
   ],
   "source": [
    "import numpy\n",
    "\n",
    "perm = numpy.random.permutation(numpy.arange(20))\n",
    "perm"
   ]
  },
  {
   "cell_type": "markdown",
   "metadata": {},
   "source": [
    "### Exercice 1 : on trie tout et on prend les k plus petit\n",
    "\n",
    "C'est la méthode la plus simple mais pas la plus efficace."
   ]
  },
  {
   "cell_type": "code",
   "execution_count": 3,
   "metadata": {},
   "outputs": [],
   "source": [
    "def topk_sortall(ensemble, k):\n",
    "    # à vous\n",
    "    # ...\n",
    "    pass\n",
    "\n",
    "\n",
    "topk_sortall(perm, 4)"
   ]
  },
  {
   "cell_type": "markdown",
   "metadata": {},
   "source": [
    "### Exercice 2 : version plus rapide au choix\n",
    "\n",
    "A vois de choisir entre l'une et l'autre voire les deux si vous allez vite.\n",
    "\n",
    "**Idée 1**\n",
    "\n",
    "On garde un tableau de *k* éléments triés *T*, on parcourt tous les éléments du tableau initial. Si l'élément est plus petit que le plus grand des éléments dans le tableau *T*, on l'ajoute à ce tableau de façon à le garder trier. On continue jusqu'à la fin et le tableau *T* est l'ensemble des *k* plus petits éléments.\n",
    "\n",
    "**Idée 2**\n",
    "\n",
    "On découpe le tableau en $\\left[\\frac{n}{k}\\right]$ tableaux de taille *k* qu'on trie. On fusionne ensuite ces $\\left[\\frac{n}{k}\\right]$ pour garder ensuite les *k* plus petits éléments."
   ]
  },
  {
   "cell_type": "code",
   "execution_count": 4,
   "metadata": {},
   "outputs": [],
   "source": [
    "def topk_idee1ou2(ensemble, k):\n",
    "    pass"
   ]
  },
  {
   "cell_type": "markdown",
   "metadata": {},
   "source": [
    "Vous avez aussi le droit de tricher pour une troisième idée [Heap / Tas](https://sdpython.github.io/doc/teachpyx/dev/practice/py-base/nbheap.html) mais il faudra vous débrouiller tout seul."
   ]
  },
  {
   "cell_type": "markdown",
   "metadata": {},
   "source": [
    "### Exercice 3 : algorithme de sélection\n",
    "\n",
    "L'idée est assez simple : on prend un élément du tableau au hasard - le pivot - , on range à droite tous les éléments supérieurs, à gauche tous les éléments inférieurs. Si ce pivot se trouve à la position *k* alors on a trouvé les *k* plus petits éléments. Sinon, on sait où chercher."
   ]
  },
  {
   "cell_type": "code",
   "execution_count": null,
   "metadata": {},
   "outputs": [],
   "source": []
  },
  {
   "cell_type": "markdown",
   "metadata": {},
   "source": [
    "### Exercice 4 : utiliser la fonction perf_counter pour comparer les vitessses de chaque solution\n",
    "\n",
    "Et bien sûr, il faudra expliquer pourquoi l'algorithme le plus rapide est bien le plus rapide. Faire varier la taille du tableau initial."
   ]
  },
  {
   "cell_type": "code",
   "execution_count": 5,
   "metadata": {},
   "outputs": [],
   "source": [
    "from time import perf_counter"
   ]
  },
  {
   "cell_type": "code",
   "execution_count": null,
   "metadata": {},
   "outputs": [],
   "source": []
  },
  {
   "cell_type": "markdown",
   "metadata": {},
   "source": [
    "## Réponses"
   ]
  },
  {
   "cell_type": "markdown",
   "metadata": {},
   "source": [
    "### Exercice 1 : on trie tout et on prend les k plus petit\n",
    "\n",
    "Très simple mais le coût est en $O(n \\ln n)$ puisqu'il faut trier tous les éléments."
   ]
  },
  {
   "cell_type": "code",
   "execution_count": 6,
   "metadata": {},
   "outputs": [
    {
     "data": {
      "text/plain": [
       "array([0, 1, 2, 3])"
      ]
     },
     "execution_count": 6,
     "metadata": {},
     "output_type": "execute_result"
    }
   ],
   "source": [
    "def topk_sortall(ensemble, k):\n",
    "    ensemble = ensemble.copy()\n",
    "    ensemble.sort()\n",
    "    return ensemble[:k]\n",
    "\n",
    "\n",
    "topk_sortall(perm, 4)"
   ]
  },
  {
   "cell_type": "markdown",
   "metadata": {},
   "source": [
    "Or trier tous les éléments n'est pas nécessaire. On n'a pas besoin de trier tous les éléments après la position *k*. Il est donc a priori envisageable de fairre mieux en ne faisant que les calculs nécessaires."
   ]
  },
  {
   "cell_type": "markdown",
   "metadata": {},
   "source": [
    "### Exercice 2 : version plus rapide au choix\n",
    "\n",
    "La première idée n'est pas une de celles proposées mais elle est très simple. Parmi les tris décrits sur cette [interstices/tri](https://interstices.info/les-algorithmes-de-tri/), le tri par sélection est intéressant car il suffit d'effectuer les *k* premières itérations pour retrouver les *k* plus petits éléments aux *k* premières positions."
   ]
  },
  {
   "cell_type": "code",
   "execution_count": 7,
   "metadata": {},
   "outputs": [
    {
     "data": {
      "text/plain": [
       "array([0, 1, 2, 3])"
      ]
     },
     "execution_count": 7,
     "metadata": {},
     "output_type": "execute_result"
    }
   ],
   "source": [
    "def topk_tri_selection(ensemble, k):\n",
    "    ensemble = ensemble.copy()\n",
    "    for i in range(0, min(k, len(ensemble))):\n",
    "        for j in range(i + 1, len(ensemble)):\n",
    "            if ensemble[i] > ensemble[j]:\n",
    "                ensemble[i], ensemble[j] = ensemble[j], ensemble[i]\n",
    "    return ensemble[:k]\n",
    "\n",
    "\n",
    "topk_tri_selection(perm, 4)"
   ]
  },
  {
   "cell_type": "markdown",
   "metadata": {},
   "source": [
    "Le coût de l'algorithme est en $O(kn)$.\n",
    "\n",
    "**idée 1**"
   ]
  },
  {
   "cell_type": "code",
   "execution_count": 8,
   "metadata": {},
   "outputs": [
    {
     "data": {
      "text/plain": [
       "[7, 0, 1, 2]"
      ]
     },
     "execution_count": 8,
     "metadata": {},
     "output_type": "execute_result"
    }
   ],
   "source": [
    "def topk_insertion(ensemble, k):\n",
    "    def position(sub, value):\n",
    "        a, b = 0, len(sub) - 1\n",
    "        m = (a + b) // 2\n",
    "        while a < b:\n",
    "            if value == sub[m]:\n",
    "                return m\n",
    "            if value < sub[m]:\n",
    "                b = m - 1\n",
    "            else:\n",
    "                a = m + 1\n",
    "            m = (a + b) // 2\n",
    "        return m if sub[m] >= value else m + 1\n",
    "\n",
    "    res = [ensemble[0]]\n",
    "    for i in range(1, len(ensemble)):\n",
    "        if ensemble[i] < res[-1]:\n",
    "            # on insère selon un méthode dichotomique\n",
    "            p = position(res, ensemble[i])\n",
    "            res.insert(p, ensemble[i])\n",
    "            if len(res) > k:\n",
    "                res.pop()\n",
    "\n",
    "    return res\n",
    "\n",
    "\n",
    "topk_insertion(perm, 4)"
   ]
  },
  {
   "cell_type": "markdown",
   "metadata": {},
   "source": [
    "Le coût de l'algorithme est dans le pire des cas $O(n * (\\ln k + k))$ :\n",
    "\n",
    "* *n* car il y *n* itérations\n",
    "* $\\ln k$ car on recherche un élément de façon dichotomique dans un tableau trié\n",
    "* *k* car on insère un élément dans un tableau en déplaçant tous les éléments plus grands\n",
    "\n",
    "Dans les faits, c'est un peu plus compliqué car le fait qu'on ait trouvé un élément plus petit à la position $i$ que le plus grand déjà trouvé n'est pas un événement fréquent si on suppose que le tableau est dans un ordre aléatoire. On pourrait même dire que la probabilité de trouver un élément faisant partie des *k* plus petits éléments est de plus en plus faible. On pourrait soit en rester là, soit se dire qu'on souhaite un algorithme plus rapide encore même dans le pire des cas qui serait pour cette version-ci un tableau trié dans le sens décroissant. Dans ce cas, on sait que le prochain élément fait toujours partie des $k$ plus petits éléments connus jusqu'à présent.\n",
    "\n",
    "On pourrait répondre à cette question si on suppose que les éléments sont indépendants et tirés selon la même loi aléatoire."
   ]
  },
  {
   "cell_type": "markdown",
   "metadata": {},
   "source": [
    "**idée 2**\n",
    "\n",
    "L'idée est un peu plus compliquée."
   ]
  },
  {
   "cell_type": "code",
   "execution_count": 9,
   "metadata": {},
   "outputs": [
    {
     "data": {
      "text/plain": [
       "[0, 1, 2, 3]"
      ]
     },
     "execution_count": 9,
     "metadata": {},
     "output_type": "execute_result"
    }
   ],
   "source": [
    "def topk_fusion(ensemble, k):\n",
    "    n = len(ensemble) // (len(ensemble) // k)\n",
    "    res = []\n",
    "    last = 0\n",
    "    while last < len(ensemble):\n",
    "        res.append(last)\n",
    "        last += n\n",
    "    res.append(len(ensemble))\n",
    "\n",
    "    subs = []\n",
    "    for i in range(1, len(res)):\n",
    "        sub = ensemble[res[i - 1] : res[i]]\n",
    "        sub.sort()\n",
    "        subs.append(sub)\n",
    "\n",
    "    indices = [0 for sub in subs]\n",
    "    topk = []\n",
    "    while len(topk) < k:\n",
    "        arg = None\n",
    "        for i, sub in enumerate(subs):\n",
    "            if indices[i] < len(sub) and (\n",
    "                arg is None or sub[indices[i]] < subs[arg][indices[arg]]\n",
    "            ):\n",
    "                arg = i\n",
    "        topk.append(subs[arg][indices[arg]])\n",
    "        indices[arg] += 1\n",
    "\n",
    "    return topk\n",
    "\n",
    "\n",
    "topk_fusion(perm, 4)"
   ]
  },
  {
   "cell_type": "markdown",
   "metadata": {},
   "source": [
    "### Exercice 3 : algorithme de sélection\n",
    "\n",
    "Première version par récurrence."
   ]
  },
  {
   "cell_type": "code",
   "execution_count": 10,
   "metadata": {},
   "outputs": [
    {
     "data": {
      "text/plain": [
       "[0, 3, 2, 1]"
      ]
     },
     "execution_count": 10,
     "metadata": {},
     "output_type": "execute_result"
    }
   ],
   "source": [
    "def topk_select_recursive(ensemble, k):\n",
    "    if len(ensemble) <= k:\n",
    "        return ensemble\n",
    "    p = ensemble[k]\n",
    "    inf, sup = [], []\n",
    "    for e in ensemble:\n",
    "        if e > p:\n",
    "            sup.append(e)\n",
    "        else:\n",
    "            inf.append(e)\n",
    "    if len(inf) == k:\n",
    "        return inf\n",
    "    if len(sup) == 0:\n",
    "        # potentiellement une boucle infinie, on change\n",
    "        # le pivot de côté\n",
    "        sup.append(p)\n",
    "        del inf[inf.index(p)]\n",
    "    if len(inf) >= k:\n",
    "        return topk_select_recursive(inf, k)\n",
    "    return inf + topk_select_recursive(sup, k - len(inf))\n",
    "\n",
    "\n",
    "topk_select_recursive(perm, 4)"
   ]
  },
  {
   "cell_type": "markdown",
   "metadata": {},
   "source": [
    "Une seconde version sans récurrence."
   ]
  },
  {
   "cell_type": "code",
   "execution_count": 11,
   "metadata": {},
   "outputs": [
    {
     "data": {
      "text/plain": [
       "array([0, 1, 2, 3])"
      ]
     },
     "execution_count": 11,
     "metadata": {},
     "output_type": "execute_result"
    }
   ],
   "source": [
    "def topk_select(ensemble, k):\n",
    "    ensemble = ensemble.copy()\n",
    "\n",
    "    def loop(a, b, pivot):\n",
    "        pivot_index = None\n",
    "        while a < b:\n",
    "            while a < len(ensemble) and ensemble[a] < pivot:\n",
    "                a += 1\n",
    "            while b >= 0 and ensemble[b] >= pivot:\n",
    "                if ensemble[b] == pivot:\n",
    "                    pivot_index = b\n",
    "                b -= 1\n",
    "            if a < b:\n",
    "                ensemble[a], ensemble[b] = ensemble[b], ensemble[a]\n",
    "        return min(a, len(ensemble) - 1), pivot_index\n",
    "\n",
    "    a = 0\n",
    "    b = len(ensemble) - 1\n",
    "    m = k\n",
    "    while True:\n",
    "        pivot = ensemble[m]\n",
    "        m, pi = loop(a, b, pivot)\n",
    "        if m == k:\n",
    "            return ensemble[:m]\n",
    "        # Les cas particuliers interviennent lorsque pivot choisi est\n",
    "        # identique au précédent.\n",
    "        if m > k:\n",
    "            if b == m - 1:\n",
    "                ensemble[b], ensemble[pi] = ensemble[pi], ensemble[b]\n",
    "                b -= 1\n",
    "            else:\n",
    "                b = m - 1\n",
    "        else:\n",
    "            if a == m:\n",
    "                ensemble[a], ensemble[pi] = ensemble[pi], ensemble[a]\n",
    "                a += 1\n",
    "            else:\n",
    "                a = m\n",
    "        m = k\n",
    "\n",
    "\n",
    "topk_select(perm, 4)"
   ]
  },
  {
   "cell_type": "markdown",
   "metadata": {},
   "source": [
    "### Exercice 4 : utiliser la fonction perf_counter pour comparer les vitessses de chaque solution"
   ]
  },
  {
   "cell_type": "code",
   "execution_count": 12,
   "metadata": {},
   "outputs": [
    {
     "data": {
      "text/plain": [
       "0.0023090000031515956"
      ]
     },
     "execution_count": 12,
     "metadata": {},
     "output_type": "execute_result"
    }
   ],
   "source": [
    "from time import perf_counter\n",
    "\n",
    "\n",
    "def measure_time(fct, perm, k, repeat=1000):\n",
    "    t1 = perf_counter()\n",
    "    for r in range(repeat):\n",
    "        fct(perm, k)\n",
    "    return perf_counter() - t1\n",
    "\n",
    "\n",
    "measure_time(topk_sortall, perm, 4)"
   ]
  },
  {
   "cell_type": "code",
   "execution_count": 13,
   "metadata": {},
   "outputs": [
    {
     "data": {
      "text/plain": [
       "0.06701939999766182"
      ]
     },
     "execution_count": 13,
     "metadata": {},
     "output_type": "execute_result"
    }
   ],
   "source": [
    "measure_time(topk_tri_selection, perm, 4)"
   ]
  },
  {
   "cell_type": "code",
   "execution_count": 14,
   "metadata": {},
   "outputs": [
    {
     "data": {
      "text/plain": [
       "0.017117299998062663"
      ]
     },
     "execution_count": 14,
     "metadata": {},
     "output_type": "execute_result"
    }
   ],
   "source": [
    "measure_time(topk_insertion, perm, 4)"
   ]
  },
  {
   "cell_type": "code",
   "execution_count": 15,
   "metadata": {},
   "outputs": [
    {
     "data": {
      "text/plain": [
       "0.0257670000064536"
      ]
     },
     "execution_count": 15,
     "metadata": {},
     "output_type": "execute_result"
    }
   ],
   "source": [
    "measure_time(topk_fusion, perm, 4)"
   ]
  },
  {
   "cell_type": "code",
   "execution_count": 16,
   "metadata": {},
   "outputs": [
    {
     "data": {
      "text/plain": [
       "0.010535299996263348"
      ]
     },
     "execution_count": 16,
     "metadata": {},
     "output_type": "execute_result"
    }
   ],
   "source": [
    "measure_time(topk_select_recursive, perm, 4)"
   ]
  },
  {
   "cell_type": "code",
   "execution_count": 17,
   "metadata": {},
   "outputs": [
    {
     "data": {
      "text/plain": [
       "0.05852940000477247"
      ]
     },
     "execution_count": 17,
     "metadata": {},
     "output_type": "execute_result"
    }
   ],
   "source": [
    "measure_time(topk_select, perm, 4)"
   ]
  },
  {
   "cell_type": "markdown",
   "metadata": {},
   "source": [
    "La première fonction est plus rapide surtout parce que le tri est implémenté par une fonction du langage particulièrement optimisée (en C). Il faudrait implémenter un tri en python pour pouvoir comparer."
   ]
  },
  {
   "cell_type": "code",
   "execution_count": 18,
   "metadata": {},
   "outputs": [],
   "source": [
    "perm10000 = numpy.random.permutation(numpy.arange(10000))"
   ]
  },
  {
   "cell_type": "code",
   "execution_count": 19,
   "metadata": {},
   "outputs": [
    {
     "data": {
      "text/plain": [
       "0.006514400003652554"
      ]
     },
     "execution_count": 19,
     "metadata": {},
     "output_type": "execute_result"
    }
   ],
   "source": [
    "measure_time(topk_sortall, perm10000, 40, repeat=10)"
   ]
  },
  {
   "cell_type": "code",
   "execution_count": 20,
   "metadata": {},
   "outputs": [
    {
     "data": {
      "text/plain": [
       "1.0134890000044834"
      ]
     },
     "execution_count": 20,
     "metadata": {},
     "output_type": "execute_result"
    }
   ],
   "source": [
    "measure_time(topk_tri_selection, perm10000, 40, repeat=10)"
   ]
  },
  {
   "cell_type": "code",
   "execution_count": 21,
   "metadata": {},
   "outputs": [
    {
     "data": {
      "text/plain": [
       "0.019539000000804663"
      ]
     },
     "execution_count": 21,
     "metadata": {},
     "output_type": "execute_result"
    }
   ],
   "source": [
    "measure_time(topk_insertion, perm10000, 40, repeat=10)"
   ]
  },
  {
   "cell_type": "code",
   "execution_count": 22,
   "metadata": {},
   "outputs": [
    {
     "data": {
      "text/plain": [
       "0.041308899999421556"
      ]
     },
     "execution_count": 22,
     "metadata": {},
     "output_type": "execute_result"
    }
   ],
   "source": [
    "measure_time(topk_fusion, perm10000, 40, repeat=10)"
   ]
  },
  {
   "cell_type": "code",
   "execution_count": 23,
   "metadata": {
    "scrolled": false
   },
   "outputs": [
    {
     "data": {
      "text/plain": [
       "0.014250300002458971"
      ]
     },
     "execution_count": 23,
     "metadata": {},
     "output_type": "execute_result"
    }
   ],
   "source": [
    "measure_time(topk_select_recursive, perm10000, 40, repeat=10)"
   ]
  },
  {
   "cell_type": "code",
   "execution_count": 24,
   "metadata": {},
   "outputs": [
    {
     "data": {
      "text/plain": [
       "0.062273499999719206"
      ]
     },
     "execution_count": 24,
     "metadata": {},
     "output_type": "execute_result"
    }
   ],
   "source": [
    "measure_time(topk_select, perm10000, 40, repeat=10)"
   ]
  },
  {
   "cell_type": "markdown",
   "metadata": {},
   "source": [
    "Il faut faire tourner la fonction un grand nombre de fois sur différentes tailles de *n* pour voir l'évolution."
   ]
  },
  {
   "cell_type": "code",
   "execution_count": 25,
   "metadata": {},
   "outputs": [
    {
     "name": "stderr",
     "output_type": "stream",
     "text": [
      "100%|██████████| 9/9 [00:05<00:00,  1.71it/s]\n"
     ]
    },
    {
     "data": {
      "text/html": [
       "<div>\n",
       "<style scoped>\n",
       "    .dataframe tbody tr th:only-of-type {\n",
       "        vertical-align: middle;\n",
       "    }\n",
       "\n",
       "    .dataframe tbody tr th {\n",
       "        vertical-align: top;\n",
       "    }\n",
       "\n",
       "    .dataframe thead th {\n",
       "        text-align: right;\n",
       "    }\n",
       "</style>\n",
       "<table border=\"1\" class=\"dataframe\">\n",
       "  <thead>\n",
       "    <tr style=\"text-align: right;\">\n",
       "      <th></th>\n",
       "      <th>k</th>\n",
       "      <th>n</th>\n",
       "      <th>topk_sortall</th>\n",
       "      <th>topk_tri_selection</th>\n",
       "      <th>topk_insertion</th>\n",
       "      <th>topk_fusion</th>\n",
       "      <th>topk_select_recursive</th>\n",
       "      <th>topk_select</th>\n",
       "    </tr>\n",
       "  </thead>\n",
       "  <tbody>\n",
       "    <tr>\n",
       "      <th>0</th>\n",
       "      <td>100</td>\n",
       "      <td>1000</td>\n",
       "      <td>0.000692</td>\n",
       "      <td>0.194126</td>\n",
       "      <td>0.003134</td>\n",
       "      <td>0.003230</td>\n",
       "      <td>0.013448</td>\n",
       "      <td>0.015127</td>\n",
       "    </tr>\n",
       "    <tr>\n",
       "      <th>1</th>\n",
       "      <td>150</td>\n",
       "      <td>1000</td>\n",
       "      <td>0.000383</td>\n",
       "      <td>0.283472</td>\n",
       "      <td>0.001300</td>\n",
       "      <td>0.003163</td>\n",
       "      <td>0.022354</td>\n",
       "      <td>0.010969</td>\n",
       "    </tr>\n",
       "    <tr>\n",
       "      <th>2</th>\n",
       "      <td>200</td>\n",
       "      <td>1000</td>\n",
       "      <td>0.000835</td>\n",
       "      <td>0.377026</td>\n",
       "      <td>0.001189</td>\n",
       "      <td>0.003169</td>\n",
       "      <td>0.022742</td>\n",
       "      <td>0.024926</td>\n",
       "    </tr>\n",
       "    <tr>\n",
       "      <th>3</th>\n",
       "      <td>250</td>\n",
       "      <td>1000</td>\n",
       "      <td>0.000522</td>\n",
       "      <td>0.450699</td>\n",
       "      <td>0.001051</td>\n",
       "      <td>0.002952</td>\n",
       "      <td>0.045683</td>\n",
       "      <td>0.038119</td>\n",
       "    </tr>\n",
       "    <tr>\n",
       "      <th>4</th>\n",
       "      <td>300</td>\n",
       "      <td>1000</td>\n",
       "      <td>0.000527</td>\n",
       "      <td>0.539852</td>\n",
       "      <td>0.001091</td>\n",
       "      <td>0.003602</td>\n",
       "      <td>0.038593</td>\n",
       "      <td>0.026605</td>\n",
       "    </tr>\n",
       "  </tbody>\n",
       "</table>\n",
       "</div>"
      ],
      "text/plain": [
       "     k     n  topk_sortall  topk_tri_selection  topk_insertion  topk_fusion  \\\n",
       "0  100  1000      0.000692            0.194126        0.003134     0.003230   \n",
       "1  150  1000      0.000383            0.283472        0.001300     0.003163   \n",
       "2  200  1000      0.000835            0.377026        0.001189     0.003169   \n",
       "3  250  1000      0.000522            0.450699        0.001051     0.002952   \n",
       "4  300  1000      0.000527            0.539852        0.001091     0.003602   \n",
       "\n",
       "   topk_select_recursive  topk_select  \n",
       "0               0.013448     0.015127  \n",
       "1               0.022354     0.010969  \n",
       "2               0.022742     0.024926  \n",
       "3               0.045683     0.038119  \n",
       "4               0.038593     0.026605  "
      ]
     },
     "execution_count": 25,
     "metadata": {},
     "output_type": "execute_result"
    }
   ],
   "source": [
    "from tqdm import tqdm\n",
    "from pandas import DataFrame\n",
    "\n",
    "perm1000 = numpy.random.permutation(numpy.arange(1000))\n",
    "res = []\n",
    "for k in tqdm(range(100, 501, 50)):\n",
    "    obs = dict(k=k, n=perm1000.shape[0])\n",
    "    for fct in [\n",
    "        topk_sortall,\n",
    "        topk_tri_selection,\n",
    "        topk_insertion,\n",
    "        topk_fusion,\n",
    "        topk_select_recursive,\n",
    "        topk_select,\n",
    "    ]:\n",
    "        obs[fct.__name__] = measure_time(fct, perm1000, k, repeat=10)\n",
    "    res.append(obs)\n",
    "\n",
    "df = DataFrame(res)\n",
    "df.head()"
   ]
  },
  {
   "cell_type": "code",
   "execution_count": 26,
   "metadata": {},
   "outputs": [
    {
     "data": {
      "image/png": "[encoded data removed]",
      "text/plain": [
       "<Figure size 1400x400 with 2 Axes>"
      ]
     },
     "metadata": {},
     "output_type": "display_data"
    }
   ],
   "source": [
    "import matplotlib.pyplot as plt\n",
    "\n",
    "fig, ax = plt.subplots(1, 2, figsize=(14, 4))\n",
    "df.set_index(\"k\").drop([\"n\", \"topk_tri_selection\"], axis=1).plot(\n",
    "    logy=True, logx=True, title=\"Coût en fonction de k\", ax=ax[0]\n",
    ")\n",
    "df.set_index(\"k\")[[\"topk_tri_selection\"]].plot(\n",
    "    logy=True, logx=True, title=\"Coût en fonction de k\", ax=ax[1]\n",
    ");"
   ]
  },
  {
   "cell_type": "markdown",
   "metadata": {},
   "source": [
    "Pas évident, le langage est trop haut niveau et le coût de l'interpréteur gomme les aspects algorithmique. Il faudrait augmenter la taille du tableau à trier ou affiner la mesure."
   ]
  },
  {
   "cell_type": "code",
   "execution_count": 27,
   "metadata": {},
   "outputs": [
    {
     "name": "stderr",
     "output_type": "stream",
     "text": [
      "100%|██████████| 5/5 [00:02<00:00,  1.70it/s]\n"
     ]
    },
    {
     "data": {
      "text/html": [
       "<div>\n",
       "<style scoped>\n",
       "    .dataframe tbody tr th:only-of-type {\n",
       "        vertical-align: middle;\n",
       "    }\n",
       "\n",
       "    .dataframe tbody tr th {\n",
       "        vertical-align: top;\n",
       "    }\n",
       "\n",
       "    .dataframe thead th {\n",
       "        text-align: right;\n",
       "    }\n",
       "</style>\n",
       "<table border=\"1\" class=\"dataframe\">\n",
       "  <thead>\n",
       "    <tr style=\"text-align: right;\">\n",
       "      <th></th>\n",
       "      <th>k</th>\n",
       "      <th>n</th>\n",
       "      <th>topk_sortall</th>\n",
       "      <th>topk_tri_selection</th>\n",
       "      <th>topk_insertion</th>\n",
       "      <th>topk_fusion</th>\n",
       "      <th>topk_select_recursive</th>\n",
       "      <th>topk_select</th>\n",
       "    </tr>\n",
       "  </thead>\n",
       "  <tbody>\n",
       "    <tr>\n",
       "      <th>0</th>\n",
       "      <td>10</td>\n",
       "      <td>20</td>\n",
       "      <td>0.000527</td>\n",
       "      <td>0.000620</td>\n",
       "      <td>0.000124</td>\n",
       "      <td>0.000111</td>\n",
       "      <td>0.000137</td>\n",
       "      <td>0.000411</td>\n",
       "    </tr>\n",
       "    <tr>\n",
       "      <th>1</th>\n",
       "      <td>10</td>\n",
       "      <td>100</td>\n",
       "      <td>0.000030</td>\n",
       "      <td>0.002329</td>\n",
       "      <td>0.000275</td>\n",
       "      <td>0.000402</td>\n",
       "      <td>0.000326</td>\n",
       "      <td>0.001340</td>\n",
       "    </tr>\n",
       "    <tr>\n",
       "      <th>2</th>\n",
       "      <td>10</td>\n",
       "      <td>1000</td>\n",
       "      <td>0.000328</td>\n",
       "      <td>0.021377</td>\n",
       "      <td>0.001635</td>\n",
       "      <td>0.005340</td>\n",
       "      <td>0.001277</td>\n",
       "      <td>0.005500</td>\n",
       "    </tr>\n",
       "    <tr>\n",
       "      <th>3</th>\n",
       "      <td>10</td>\n",
       "      <td>10000</td>\n",
       "      <td>0.005612</td>\n",
       "      <td>0.178028</td>\n",
       "      <td>0.011507</td>\n",
       "      <td>0.034768</td>\n",
       "      <td>0.008894</td>\n",
       "      <td>0.022889</td>\n",
       "    </tr>\n",
       "    <tr>\n",
       "      <th>4</th>\n",
       "      <td>10</td>\n",
       "      <td>100000</td>\n",
       "      <td>0.066547</td>\n",
       "      <td>1.755049</td>\n",
       "      <td>0.115708</td>\n",
       "      <td>0.361258</td>\n",
       "      <td>0.099447</td>\n",
       "      <td>0.233724</td>\n",
       "    </tr>\n",
       "  </tbody>\n",
       "</table>\n",
       "</div>"
      ],
      "text/plain": [
       "    k       n  topk_sortall  topk_tri_selection  topk_insertion  topk_fusion  \\\n",
       "0  10      20      0.000527            0.000620        0.000124     0.000111   \n",
       "1  10     100      0.000030            0.002329        0.000275     0.000402   \n",
       "2  10    1000      0.000328            0.021377        0.001635     0.005340   \n",
       "3  10   10000      0.005612            0.178028        0.011507     0.034768   \n",
       "4  10  100000      0.066547            1.755049        0.115708     0.361258   \n",
       "\n",
       "   topk_select_recursive  topk_select  \n",
       "0               0.000137     0.000411  \n",
       "1               0.000326     0.001340  \n",
       "2               0.001277     0.005500  \n",
       "3               0.008894     0.022889  \n",
       "4               0.099447     0.233724  "
      ]
     },
     "execution_count": 27,
     "metadata": {},
     "output_type": "execute_result"
    }
   ],
   "source": [
    "res = []\n",
    "k = 10\n",
    "for n in tqdm([20, 100, 1000, 10000, 100000]):\n",
    "    permn = numpy.random.permutation(numpy.arange(n))\n",
    "    obs = dict(k=k, n=permn.shape[0])\n",
    "    for fct in [\n",
    "        topk_sortall,\n",
    "        topk_tri_selection,\n",
    "        topk_insertion,\n",
    "        topk_fusion,\n",
    "        topk_select_recursive,\n",
    "        topk_select,\n",
    "    ]:\n",
    "        obs[fct.__name__] = measure_time(fct, permn, k, repeat=10)\n",
    "    res.append(obs)\n",
    "\n",
    "df = DataFrame(res)\n",
    "df.head()"
   ]
  },
  {
   "cell_type": "code",
   "execution_count": 28,
   "metadata": {},
   "outputs": [
    {
     "data": {
      "image/png": "[encoded data removed]",
      "text/plain": [
       "<Figure size 640x480 with 1 Axes>"
      ]
     },
     "metadata": {},
     "output_type": "display_data"
    }
   ],
   "source": [
    "df.set_index(\"n\").drop([\"k\"], axis=1).plot(\n",
    "    logy=True, logx=True, title=\"Coût en fonction de n\"\n",
    ");"
   ]
  },
  {
   "cell_type": "markdown",
   "metadata": {},
   "source": [
    "Les coûts paraissent linéaires en *n*. Il faudrait cependant augmenter la taille encore car on sait que l'un d'entre eux ne l'est pas. Le coût de l'interpréteur python est là-encore non négligeable. Il faudrait prendre des langages plus rapide ou plus bas niveau ou augmenter les tailles pour voir quelque chose d'intéressant."
   ]
  },
  {
   "cell_type": "code",
   "execution_count": null,
   "metadata": {},
   "outputs": [],
   "source": []
  }
 ],
 "metadata": {
  "kernelspec": {
   "display_name": "Python 3",
   "language": "python",
   "name": "python3"
  },
  "language_info": {
   "codemirror_mode": {
    "name": "ipython",
    "version": 3
   },
   "file_extension": ".py",
   "mimetype": "text/x-python",
   "name": "python",
   "nbconvert_exporter": "python",
   "pygments_lexer": "ipython3",
   "version": "3.10.12"
  }
 },
 "nbformat": 4,
 "nbformat_minor": 1
}