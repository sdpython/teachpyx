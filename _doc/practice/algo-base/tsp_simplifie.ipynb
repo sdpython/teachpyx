{
 "cells": [
  {
   "cell_type": "markdown",
   "id": "5b96ec82",
   "metadata": {},
   "source": [
    "# Plus court chemin passant par tous les noeuds d'un graphe\n",
    "\n",
    "Dans le cas présent, le graphe est totalement connecté puisque chaque noeud est connecté à tous les autres. On commence par tiré des villes aléatoires."
   ]
  },
  {
   "cell_type": "markdown",
   "id": "c9e3a884",
   "metadata": {},
   "source": [
    "## Distance"
   ]
  },
  {
   "cell_type": "code",
   "execution_count": 2,
   "id": "fd09979b-7b95-4560-aa14-41a66c60c90e",
   "metadata": {},
   "outputs": [
    {
     "data": {
      "text/plain": [
       "array([[ 1.39190158,  0.70104769],\n",
       "       [-0.865672  ,  1.22913836],\n",
       "       [ 1.65596723, -0.32503514]])"
      ]
     },
     "execution_count": 2,
     "metadata": {},
     "output_type": "execute_result"
    }
   ],
   "source": [
    "import numpy\n",
    "\n",
    "\n",
    "def random_cities(n):\n",
    "    return numpy.random.randn(n, 2)\n",
    "\n",
    "\n",
    "random_cities(3)"
   ]
  },
  {
   "cell_type": "markdown",
   "id": "7991c791",
   "metadata": {},
   "source": [
    "Ensuite vient la distance du circuit avec les villes dans l'ordre dans lequel elles apparaissent."
   ]
  },
  {
   "cell_type": "code",
   "execution_count": 3,
   "id": "df2438f4-a6f6-4422-89a2-6ef8a07223fe",
   "metadata": {},
   "outputs": [
    {
     "data": {
      "text/plain": [
       "2.8284271247461903"
      ]
     },
     "execution_count": 3,
     "metadata": {},
     "output_type": "execute_result"
    }
   ],
   "source": [
    "def distance_boucle(cities):\n",
    "    d = 0\n",
    "    for i in range(cities.shape[0]):\n",
    "        dx = cities[i - 1, 0] - cities[i, 0]\n",
    "        dy = cities[i - 1, 1] - cities[i, 1]\n",
    "        d += (dx**2 + dy**2) ** 0.5\n",
    "    return d\n",
    "\n",
    "\n",
    "cities = numpy.array([[0, 0], [1, 1]])\n",
    "distance_boucle(cities)"
   ]
  },
  {
   "cell_type": "markdown",
   "id": "e46a6687",
   "metadata": {},
   "source": [
    "La même fonction sans boucle et avec numpy."
   ]
  },
  {
   "cell_type": "code",
   "execution_count": 4,
   "id": "b5315ea5-cacb-4add-905e-f45b4e3d8655",
   "metadata": {},
   "outputs": [
    {
     "data": {
      "text/plain": [
       "8.0"
      ]
     },
     "execution_count": 4,
     "metadata": {},
     "output_type": "execute_result"
    }
   ],
   "source": [
    "def distance(cities):\n",
    "    d = ((cities[:-1] - cities[1:]) ** 2).sum(axis=1) ** 0.5\n",
    "    d2 = ((cities[0] - cities[-1]) ** 2).sum() ** 0.5\n",
    "    return d.sum() + d2\n",
    "\n",
    "\n",
    "cities = numpy.array([[0, 0], [0, 2], [2, 2], [2, 0]])\n",
    "distance(cities)"
   ]
  },
  {
   "cell_type": "markdown",
   "id": "9d81b54b",
   "metadata": {},
   "source": [
    "On mesure de chaque calcul de distance sur un petit échantillon."
   ]
  },
  {
   "cell_type": "code",
   "execution_count": 10,
   "id": "9693ed49-c6a0-4e3d-ab1a-eb6f2bc18617",
   "metadata": {},
   "outputs": [
    {
     "name": "stdout",
     "output_type": "stream",
     "text": [
      "25.4 µs ± 6.29 µs per loop (mean ± std. dev. of 10 runs, 1,000 loops each)\n"
     ]
    }
   ],
   "source": [
    "%timeit -r 10 -n 1000 distance_boucle(cities)"
   ]
  },
  {
   "cell_type": "code",
   "execution_count": 11,
   "id": "850ccc2e-d057-4ef1-a794-88e3f960da79",
   "metadata": {},
   "outputs": [
    {
     "name": "stdout",
     "output_type": "stream",
     "text": [
      "28.5 µs ± 6.93 µs per loop (mean ± std. dev. of 10 runs, 1,000 loops each)\n"
     ]
    }
   ],
   "source": [
    "%timeit -r 10 -n 1000 distance(cities)"
   ]
  },
  {
   "cell_type": "markdown",
   "id": "f4e48e7b",
   "metadata": {},
   "source": [
    "C'est pareil. Et maintenant sur un plus grand jeu."
   ]
  },
  {
   "cell_type": "code",
   "execution_count": 12,
   "id": "b1c175da-b6a7-49b9-876b-f78044bcdfeb",
   "metadata": {},
   "outputs": [],
   "source": [
    "cities = random_cities(1000)"
   ]
  },
  {
   "cell_type": "code",
   "execution_count": 15,
   "id": "34f0622e-55f9-422d-84cd-f0e9f5b3c0ed",
   "metadata": {},
   "outputs": [
    {
     "name": "stdout",
     "output_type": "stream",
     "text": [
      "1.72 ms ± 513 µs per loop (mean ± std. dev. of 10 runs, 10 loops each)\n"
     ]
    }
   ],
   "source": [
    "%timeit -r 10 -n 10 distance_boucle(cities)"
   ]
  },
  {
   "cell_type": "code",
   "execution_count": 16,
   "id": "77d0bfc8-ed07-4ff2-a31b-a2daa5395065",
   "metadata": {},
   "outputs": [
    {
     "name": "stdout",
     "output_type": "stream",
     "text": [
      "The slowest run took 11.82 times longer than the fastest. This could mean that an intermediate result is being cached.\n",
      "220 µs ± 253 µs per loop (mean ± std. dev. of 10 runs, 10 loops each)\n"
     ]
    }
   ],
   "source": [
    "%timeit -r 10 -n 10 distance(cities)"
   ]
  },
  {
   "cell_type": "markdown",
   "id": "0296dd72",
   "metadata": {},
   "source": [
    "La différence est clairement en faveur de numpy."
   ]
  },
  {
   "cell_type": "markdown",
   "id": "ab018816",
   "metadata": {},
   "source": [
    "## Idée d'algorithme\n",
    "\n",
    "On parcourt toutes les permutations et on garde la meilleure. Cela fonctionnera si le nombre de villes est très petit mais cela peut servir plus tard"
   ]
  },
  {
   "cell_type": "code",
   "execution_count": 17,
   "id": "4cdf6350-2800-4dbc-92b6-0d9dd38760eb",
   "metadata": {},
   "outputs": [
    {
     "data": {
      "text/plain": [
       "(array([[0, 0],\n",
       "        [0, 2],\n",
       "        [2, 2],\n",
       "        [2, 0]]),\n",
       " 8.0)"
      ]
     },
     "execution_count": 17,
     "metadata": {},
     "output_type": "execute_result"
    }
   ],
   "source": [
    "from itertools import permutations\n",
    "\n",
    "\n",
    "def optimise(cities):\n",
    "    best_cities = None\n",
    "    best_distance = None\n",
    "    indices = list(range(cities.shape[0]))\n",
    "    for p in permutations(indices):\n",
    "        p_cities = cities[p, :]\n",
    "        d = distance(p_cities)\n",
    "        if best_distance is None or d < best_distance:\n",
    "            best_distance = d\n",
    "            best_cities = p_cities\n",
    "    return best_cities, best_distance\n",
    "\n",
    "\n",
    "cities = numpy.array([[0, 0], [0, 2], [2, 2], [2, 0]])\n",
    "optimise(cities)"
   ]
  },
  {
   "cell_type": "markdown",
   "id": "6db77397",
   "metadata": {},
   "source": [
    "On dessine car le résultat est plus facilement vérifiable."
   ]
  },
  {
   "cell_type": "code",
   "execution_count": 18,
   "id": "d2035406-b2c2-4374-8afe-af0615c902a1",
   "metadata": {},
   "outputs": [
    {
     "data": {
      "image/png": "[encoded data removed]",
      "text/plain": [
       "<Figure size 200x200 with 1 Axes>"
      ]
     },
     "metadata": {},
     "output_type": "display_data"
    }
   ],
   "source": [
    "import matplotlib.pyplot as plt\n",
    "\n",
    "fig, ax = plt.subplots(1, 1, figsize=(2, 2))\n",
    "cities = random_cities(7)\n",
    "opt_cities = optimise(cities)[0]\n",
    "ax.plot(\n",
    "    list(opt_cities[:, 0]) + [opt_cities[0, 0]],\n",
    "    list(opt_cities[:, 1]) + [opt_cities[0, 1]],\n",
    "    \"o-\",\n",
    ");"
   ]
  },
  {
   "cell_type": "markdown",
   "id": "a0400680",
   "metadata": {},
   "source": [
    "Comme ça prend trop de temps, on tire au hasard des permutations, un nombre fini pour être sûr que l'algorithme se termine en un temps raisonnable."
   ]
  },
  {
   "cell_type": "code",
   "execution_count": 20,
   "id": "3480f7e2-7d90-4f35-9c99-3d7acc669bf8",
   "metadata": {},
   "outputs": [
    {
     "data": {
      "text/plain": [
       "(array([[0, 2],\n",
       "        [2, 2],\n",
       "        [2, 0],\n",
       "        [0, 0]]),\n",
       " 8.0)"
      ]
     },
     "execution_count": 20,
     "metadata": {},
     "output_type": "execute_result"
    }
   ],
   "source": [
    "def optimise_random(cities, n_perm):\n",
    "    best_cities = None\n",
    "    best_distance = None\n",
    "    indices = list(range(cities.shape[0]))\n",
    "    for i in range(n_perm):\n",
    "        p = numpy.random.permutation(indices)\n",
    "        p_cities = cities[p, :]\n",
    "        d = distance(p_cities)\n",
    "        if best_distance is None or d < best_distance:\n",
    "            best_distance = d\n",
    "            best_cities = p_cities\n",
    "    return best_cities, best_distance\n",
    "\n",
    "\n",
    "cities = numpy.array([[0, 0], [0, 2], [2, 2], [2, 0]])\n",
    "optimise_random(cities, 10)"
   ]
  },
  {
   "cell_type": "code",
   "execution_count": 21,
   "id": "6d554b45-c5d0-46a2-a34d-4e9495f75be6",
   "metadata": {},
   "outputs": [
    {
     "data": {
      "image/png": "[encoded data removed]",
      "text/plain": [
       "<Figure size 300x300 with 1 Axes>"
      ]
     },
     "metadata": {},
     "output_type": "display_data"
    }
   ],
   "source": [
    "fig, ax = plt.subplots(1, 1, figsize=(3, 3))\n",
    "cities = random_cities(10)\n",
    "opt_cities = optimise_random(cities, 10000)[0]\n",
    "ax.plot(\n",
    "    list(opt_cities[:, 0]) + [opt_cities[0, 0]],\n",
    "    list(opt_cities[:, 1]) + [opt_cities[0, 1]],\n",
    "    \"o-\",\n",
    ");"
   ]
  },
  {
   "cell_type": "markdown",
   "id": "1bbca49b",
   "metadata": {},
   "source": [
    "Mais ce n'est pas parfait car il y a des croisements."
   ]
  },
  {
   "cell_type": "markdown",
   "id": "689aed34",
   "metadata": {},
   "source": [
    "## Croisements\n",
    "\n",
    "On écrit une fonction pour enlever des erreurs évidentes. La solution obtenue sera meilleure sans poutant être optimale."
   ]
  },
  {
   "cell_type": "code",
   "execution_count": 23,
   "id": "4bc9f406",
   "metadata": {},
   "outputs": [
    {
     "data": {
      "text/plain": [
       "array([[0, 0],\n",
       "       [0, 2],\n",
       "       [2, 2],\n",
       "       [2, 0]])"
      ]
     },
     "execution_count": 23,
     "metadata": {},
     "output_type": "execute_result"
    }
   ],
   "source": [
    "def retournement1(cities):\n",
    "    d0 = distance(cities)\n",
    "    for i in range(cities.shape[0] - 1):\n",
    "        for j in range(i + 1, cities.shape[0]):\n",
    "            cities[i : j + 1, :] = cities[i : j + 1, :][::-1]\n",
    "            d = distance(cities)\n",
    "            if d < d0:\n",
    "                d0 = d\n",
    "            else:\n",
    "                cities[i : j + 1, :] = cities[i : j + 1, :][::-1]\n",
    "    return cities\n",
    "\n",
    "\n",
    "cities = numpy.array([[0, 0], [0, 2], [2, 2], [2, 0]])\n",
    "retournement1(cities)"
   ]
  },
  {
   "cell_type": "code",
   "execution_count": 31,
   "id": "49adbc52",
   "metadata": {},
   "outputs": [
    {
     "data": {
      "image/png": "[encoded data removed]",
      "text/plain": [
       "<Figure size 600x300 with 2 Axes>"
      ]
     },
     "metadata": {},
     "output_type": "display_data"
    }
   ],
   "source": [
    "fig, ax = plt.subplots(1, 2, figsize=(6, 3))\n",
    "cities = random_cities(20)\n",
    "opt_cities = optimise_random(cities, 10000)[0]\n",
    "ax[0].plot(\n",
    "    list(opt_cities[:, 0]) + [opt_cities[0, 0]],\n",
    "    list(opt_cities[:, 1]) + [opt_cities[0, 1]],\n",
    "    \"or-\",\n",
    ")\n",
    "retournement1(opt_cities)\n",
    "ax[1].plot(\n",
    "    list(opt_cities[:, 0]) + [opt_cities[0, 0]],\n",
    "    list(opt_cities[:, 1]) + [opt_cities[0, 1]],\n",
    "    \"ob-\",\n",
    ");"
   ]
  },
  {
   "cell_type": "markdown",
   "id": "e22962e2",
   "metadata": {},
   "source": [
    "En rouge, le résultat avant la fonction retournement, en bleu après. Ce n'est pas parfait même si c'est mieux. Il faut appliquer la fonction `retournement` qu'il faut appeler plusieurs fois ce qu'on fait dans la même fonction."
   ]
  },
  {
   "cell_type": "code",
   "execution_count": 32,
   "id": "d13518ca-037a-41c8-bad3-1b899bcea689",
   "metadata": {},
   "outputs": [
    {
     "data": {
      "text/plain": [
       "array([[0, 0],\n",
       "       [0, 2],\n",
       "       [2, 2],\n",
       "       [2, 0]])"
      ]
     },
     "execution_count": 32,
     "metadata": {},
     "output_type": "execute_result"
    }
   ],
   "source": [
    "def retournement(cities):\n",
    "    d0 = distance(cities)\n",
    "    d_avant = d0 + 1\n",
    "    while d0 < d_avant:\n",
    "        d_avant = d0\n",
    "        for i in range(cities.shape[0] - 1):\n",
    "            for j in range(i + 1, cities.shape[0]):\n",
    "                cities[i : j + 1, :] = cities[i : j + 1, :][::-1]\n",
    "                d = distance(cities)\n",
    "                if d < d0:\n",
    "                    d0 = d\n",
    "                else:\n",
    "                    cities[i : j + 1, :] = cities[i : j + 1, :][::-1]\n",
    "    return cities\n",
    "\n",
    "\n",
    "cities = numpy.array([[0, 0], [0, 2], [2, 2], [2, 0]])\n",
    "retournement(cities)"
   ]
  },
  {
   "cell_type": "code",
   "execution_count": 34,
   "id": "565baab6-68c2-4b2d-9c8b-961ff5c3509d",
   "metadata": {},
   "outputs": [
    {
     "data": {
      "image/png": "[encoded data removed]",
      "text/plain": [
       "<Figure size 300x300 with 1 Axes>"
      ]
     },
     "metadata": {},
     "output_type": "display_data"
    }
   ],
   "source": [
    "fig, ax = plt.subplots(1, 1, figsize=(3, 3))\n",
    "cities = random_cities(20)\n",
    "opt_cities = optimise_random(cities, 10000)[0]\n",
    "retournement(opt_cities)\n",
    "ax.plot(\n",
    "    list(opt_cities[:, 0]) + [opt_cities[0, 0]],\n",
    "    list(opt_cities[:, 1]) + [opt_cities[0, 1]],\n",
    "    \"og-\",\n",
    ");"
   ]
  },
  {
   "cell_type": "markdown",
   "id": "6bde635c-aff2-43e8-9434-57c622d33127",
   "metadata": {},
   "source": [
    "Et voilà, tout marche bien."
   ]
  },
  {
   "cell_type": "markdown",
   "id": "677ba8cf",
   "metadata": {},
   "source": []
  }
 ],
 "metadata": {
  "kernelspec": {
   "display_name": "Python 3 (ipykernel)",
   "language": "python",
   "name": "python3"
  },
  "language_info": {
   "codemirror_mode": {
    "name": "ipython",
    "version": 3
   },
   "file_extension": ".py",
   "mimetype": "text/x-python",
   "name": "python",
   "nbconvert_exporter": "python",
   "pygments_lexer": "ipython3",
   "version": "3.10.12"
  }
 },
 "nbformat": 4,
 "nbformat_minor": 5
}
