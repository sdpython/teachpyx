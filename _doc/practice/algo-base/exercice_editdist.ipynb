{
 "cells": [
  {
   "cell_type": "markdown",
   "metadata": {},
   "source": [
    "# Distance entre deux mots de même longueur et tests unitaires\n",
    "\n",
    "Calculer une distance entre deux mots n'est pas le plus intuitif des problèmes. Dans ce notebook, on se permet de tâtonner pour faire évoluer quelques idées autour du sujet. C'est l'occasion aussi de montrer à quoi servent les tests unitaires et pourquoi ils sont utiles lorsqu'on tâtonne."
   ]
  },
  {
   "cell_type": "markdown",
   "metadata": {},
   "source": [
    "## Distance naïve\n",
    "\n",
    "Naïf... mais beaucoup d'idées naïves finissent par aboutir à des pyramides complexes."
   ]
  },
  {
   "cell_type": "markdown",
   "metadata": {},
   "source": [
    "### Distance très naïve\n",
    "\n",
    "On se restraint au cas où les deux mots à comparer ont la même longueur. Et dans ce cas, le plus simple est de compter le nombre de caractères différents à chaque position."
   ]
  },
  {
   "cell_type": "code",
   "execution_count": 1,
   "metadata": {},
   "outputs": [
    {
     "data": {
      "text/plain": [
       "1"
      ]
     },
     "execution_count": 1,
     "metadata": {},
     "output_type": "execute_result"
    }
   ],
   "source": [
    "def distance1(m1, m2):\n",
    "    d = 0\n",
    "    for i in range(0, len(m1)):\n",
    "        if m1[i] != m2[i]:\n",
    "            d += 1\n",
    "    return d\n",
    "\n",
    "\n",
    "distance1(\"info\", \"imfo\")"
   ]
  },
  {
   "cell_type": "markdown",
   "metadata": {},
   "source": [
    "### Distance entre deux mots de longueur différente mais pas si différente\n",
    "\n",
    "On considère le cas où les deux mots ont des longueurs égales ou différentes de un caractères. Dans le premier cas, on utilise la distance précédente, dans le second cas, on ajoute un espace au mot le plus court et on appelle la distance précédente. Mais où insérer cet espace ? A toutes les positions bien sûr, la distance sera le minimum de toutes les distances calculées.\n",
    "\n",
    "Pour simplifier, on commence par décider que le premier mot doit être le plus court des deux. Si ce n'est pas le cas, on les permute."
   ]
  },
  {
   "cell_type": "code",
   "execution_count": 2,
   "metadata": {},
   "outputs": [
    {
     "data": {
      "text/plain": [
       "1"
      ]
     },
     "execution_count": 2,
     "metadata": {},
     "output_type": "execute_result"
    }
   ],
   "source": [
    "def distance2(m1, m2):\n",
    "    if len(m1) == len(m2):\n",
    "        return distance1(m1, m2)\n",
    "    if len(m2) < len(m1):\n",
    "        m1, m2 = m2, m1\n",
    "    meilleur = len(m2)\n",
    "    for i in range(len(m1) + 1):\n",
    "        m1_e = m1[:i] + \" \" + m1[i:]\n",
    "        d = distance1(m1_e, m2)\n",
    "        if d < meilleur:\n",
    "            meilleur = d\n",
    "    return meilleur\n",
    "\n",
    "\n",
    "distance2(\"cab\", \"ab\")"
   ]
  },
  {
   "cell_type": "code",
   "execution_count": 3,
   "metadata": {},
   "outputs": [
    {
     "data": {
      "text/plain": [
       "5"
      ]
     },
     "execution_count": 3,
     "metadata": {},
     "output_type": "execute_result"
    }
   ],
   "source": [
    "distance2(\"abcd\", \"bcdef\")"
   ]
  },
  {
   "cell_type": "markdown",
   "metadata": {},
   "source": [
    "Parfois on aime bien comprendre un peu plus en détail. On ajoute alors un paramètre `verbose` qui affiche des informations sans pour autant affecter le résultat."
   ]
  },
  {
   "cell_type": "code",
   "execution_count": 4,
   "metadata": {},
   "outputs": [
    {
     "name": "stdout",
     "output_type": "stream",
     "text": [
      "i=0 m1_e=' ab' m2='cab' d=1 meilleur=1\n",
      "i=1 m1_e='a b' m2='cab' d=2 meilleur=1\n",
      "i=2 m1_e='ab ' m2='cab' d=3 meilleur=1\n"
     ]
    },
    {
     "data": {
      "text/plain": [
       "1"
      ]
     },
     "execution_count": 4,
     "metadata": {},
     "output_type": "execute_result"
    }
   ],
   "source": [
    "def distance2_verbose(m1, m2, verbose=False):\n",
    "    if len(m1) == len(m2):\n",
    "        return distance1(m1, m2)\n",
    "    if len(m2) < len(m1):\n",
    "        m1, m2 = m2, m1\n",
    "    meilleur = len(m2)\n",
    "    for i in range(len(m1) + 1):\n",
    "        m1_e = m1[:i] + \" \" + m1[i:]\n",
    "        d = distance1(m1_e, m2)\n",
    "        if d < meilleur:\n",
    "            meilleur = d\n",
    "        if verbose:\n",
    "            print(\"i=%r m1_e=%r m2=%r d=%d meilleur=%d\" % (i, m1_e, m2, d, meilleur))\n",
    "    return meilleur\n",
    "\n",
    "\n",
    "distance2_verbose(\"cab\", \"ab\", True)"
   ]
  },
  {
   "cell_type": "markdown",
   "metadata": {},
   "source": [
    "Le paramètre **verbose** est une sorte de règle communément partagée, une convention... C'est ce que qu'en disent les [pirates](https://www.youtube.com/watch?v=WJVBvvS57j0)."
   ]
  },
  {
   "cell_type": "markdown",
   "metadata": {},
   "source": [
    "### Distance entre deux mots de longueur différente\n",
    "\n",
    "On suit la même idée et on insère des espaces dans le mot le plus petit de façon récursive jusqu'à pouvoir utiliser la distance précédente. Le code ressemble beaucoup à la fonction précédente."
   ]
  },
  {
   "cell_type": "code",
   "execution_count": 5,
   "metadata": {},
   "outputs": [
    {
     "data": {
      "text/plain": [
       "3"
      ]
     },
     "execution_count": 5,
     "metadata": {},
     "output_type": "execute_result"
    }
   ],
   "source": [
    "def distance3(m1, m2):\n",
    "    if abs(len(m1) - len(m2)) <= 1:\n",
    "        return distance2(m1, m2)\n",
    "    if len(m2) < len(m1):\n",
    "        m1, m2 = m2, m1\n",
    "    meilleur = len(m2)\n",
    "    for i in range(len(m1) + 1):\n",
    "        m1_e = m1[:i] + \" \" + m1[i:]\n",
    "        d = distance3(m1_e, m2)\n",
    "        if d < meilleur:\n",
    "            meilleur = d\n",
    "    return meilleur\n",
    "\n",
    "\n",
    "distance3(\"info\", \"pimfos\")"
   ]
  },
  {
   "cell_type": "markdown",
   "metadata": {},
   "source": [
    "## Test unitaires\n",
    "\n",
    "Quand on développe un algorithme, on l'applique sur quelques exemples pour vérifier qu'il marche... Puis, on l'améliore et on vérifie qu'il fonctionne sur de nouveaux exemples plus complexes... Vérifie-t-on que cela marche fonctionne encore pour les premiers cas... Le plus souvent non... car c'est fastideux... J'en conviens... Alors pourquoi ne pas noter tous ces cas dans une fonction qui les vérifie... La fonction ne prend aucun paramètres, elle réussit si la fonction retourne tous les résultats désirés, elle échoue dans le cas contraire."
   ]
  },
  {
   "cell_type": "code",
   "execution_count": 6,
   "metadata": {},
   "outputs": [],
   "source": [
    "def test_dist_equal(d):\n",
    "    assert d(\"\", \"\") == 0\n",
    "    assert d(\"a\", \"a\") == 0\n",
    "    assert d(\"a\", \"b\") == 1\n",
    "\n",
    "\n",
    "def test_distance1():\n",
    "    test_dist_equal(distance1)\n",
    "\n",
    "\n",
    "test_distance1()"
   ]
  },
  {
   "cell_type": "markdown",
   "metadata": {},
   "source": [
    "Pas d'erreur... On continue avec la seconde distance en ajoutant des cas pour lesquels elle a été programmée. Pour les tests, on utilise un caractère `'_'` différent des espaces `' '` utilisé par les fonctions distance."
   ]
  },
  {
   "cell_type": "code",
   "execution_count": 7,
   "metadata": {},
   "outputs": [],
   "source": [
    "def test_dist_diff1(d):\n",
    "    assert d(\"\", \"a\") == 1\n",
    "    assert d(\"a\", \"\") == 1\n",
    "    assert d(\"_a\", \"a\") == 1\n",
    "    assert d(\"a_\", \"a\") == 1\n",
    "    assert d(\"a\", \"a_\") == 1\n",
    "    assert d(\"a\", \"_a\") == 1\n",
    "\n",
    "\n",
    "def test_distance2():\n",
    "    test_dist_equal(distance2)\n",
    "    test_dist_diff1(distance2)\n",
    "\n",
    "\n",
    "test_distance2()"
   ]
  },
  {
   "cell_type": "markdown",
   "metadata": {},
   "source": [
    "Toujours pas d'erreur... La vie est magnifique... On continue avec la troisième distance en ajoutant des cas pour lesquels elle a été programmée."
   ]
  },
  {
   "cell_type": "code",
   "execution_count": 8,
   "metadata": {},
   "outputs": [],
   "source": [
    "def test_dist_diff2(d):\n",
    "    assert d(\"\", \"ab\") == 2\n",
    "    assert d(\"ab\", \"\") == 2\n",
    "    assert d(\"_ab\", \"a\") == 2\n",
    "    assert d(\"ab_\", \"ab\") == 1\n",
    "    assert d(\"ab\", \"ab_\") == 1\n",
    "    assert d(\"ab\", \"_ab\") == 1\n",
    "    assert d(\"ab\", \"ab\") == 0\n",
    "    assert d(\"ab\", \"a_b\") == 1\n",
    "    assert d(\"a_b\", \"ab\") == 1\n",
    "\n",
    "\n",
    "def test_distance3():\n",
    "    test_dist_equal(distance3)\n",
    "    test_dist_diff1(distance3)\n",
    "    test_dist_diff2(distance3)\n",
    "\n",
    "\n",
    "test_distance3()"
   ]
  },
  {
   "cell_type": "markdown",
   "metadata": {},
   "source": [
    "Toujours pas d'erreur... Magnifique... Et maintenant... Il est vrai qu'on ne s'est pas penché sur les coûts de chaque fonction mais la fonction ``distance3`` est incroyablement longue. On note $N = \\max(len(m1), len(m2))$.\n",
    "\n",
    "* coût `distance1`: $O(N)$ \n",
    "* coût `distance2`: $O(N^2)$ \n",
    "* coût `distance3`: $O(N^{\\delta+1})$ où $\\delta = |len(m1), len(m2)|$.\n",
    "\n",
    "Je vous laisse quelques minutes pour vérifier. J'interprète : c'est beaucoup trop."
   ]
  },
  {
   "cell_type": "markdown",
   "metadata": {},
   "source": [
    "### Distance d'édition\n",
    "\n",
    "On implémente l'algorithme de la distance de [Levenstein](https://en.wikipedia.org/wiki/Levenshtein_distance)."
   ]
  },
  {
   "cell_type": "code",
   "execution_count": 9,
   "metadata": {},
   "outputs": [
    {
     "name": "stdout",
     "output_type": "stream",
     "text": [
      "edit 1.0\n"
     ]
    }
   ],
   "source": [
    "import numpy\n",
    "\n",
    "\n",
    "def edit_distance(m1, m2):\n",
    "    mat = numpy.zeros((len(m1) + 1, len(m2) + 1))\n",
    "    for i in range(len(m1) + 1):\n",
    "        mat[i, 0] = i\n",
    "    for j in range(len(m2) + 1):\n",
    "        mat[0, j] = j\n",
    "    for i in range(1, len(m1) + 1):\n",
    "        for j in range(1, len(m2) + 1):\n",
    "            c1 = mat[i - 1, j] + 1\n",
    "            c2 = mat[i, j - 1] + 1\n",
    "            if m1[i - 1] == m2[j - 1]:\n",
    "                c = 0\n",
    "            else:\n",
    "                c = 1\n",
    "            c3 = mat[i - 1, j - 1] + c\n",
    "            mat[i, j] = min([c1, c2, c3])\n",
    "    return mat[-1, -1]\n",
    "\n",
    "\n",
    "print(\"edit\", edit_distance(\"agrafe\", \"agrae\"))"
   ]
  },
  {
   "cell_type": "markdown",
   "metadata": {},
   "source": [
    "On utilise les tests unitaires pour vérifier qu'elle retourne les mêmes résultats, ceux qu'on souhaite."
   ]
  },
  {
   "cell_type": "code",
   "execution_count": 10,
   "metadata": {},
   "outputs": [],
   "source": [
    "def test_edit_distance():\n",
    "    test_dist_equal(edit_distance)\n",
    "    test_dist_diff1(edit_distance)\n",
    "    test_dist_diff2(edit_distance)\n",
    "\n",
    "\n",
    "test_edit_distance()"
   ]
  },
  {
   "cell_type": "markdown",
   "metadata": {},
   "source": [
    "Ca marche..."
   ]
  },
  {
   "cell_type": "markdown",
   "metadata": {},
   "source": [
    "### m et n sont très proches, et alors ?"
   ]
  },
  {
   "cell_type": "code",
   "execution_count": 11,
   "metadata": {},
   "outputs": [
    {
     "data": {
      "text/plain": [
       "2.0"
      ]
     },
     "execution_count": 11,
     "metadata": {},
     "output_type": "execute_result"
    }
   ],
   "source": [
    "edit_distance(\"rémunérer\", \"rénumérer\")"
   ]
  },
  {
   "cell_type": "markdown",
   "metadata": {},
   "source": [
    "Comme beaucoup de gens font l'erreur, on voudrait que le coût soit réduit de moitié. On veut alors que la confusion entre `m` et `n` ait un coût de `0.5`."
   ]
  },
  {
   "cell_type": "code",
   "execution_count": 12,
   "metadata": {},
   "outputs": [
    {
     "name": "stdout",
     "output_type": "stream",
     "text": [
      "edit 1.0\n"
     ]
    }
   ],
   "source": [
    "def edit_distance2(m1, m2):\n",
    "    mat = numpy.zeros((len(m1) + 1, len(m2) + 1))\n",
    "    cmp_char = {(\"m\", \"n\"): 0.5, (\"n\", \"m\"): 0.5}\n",
    "    for i in range(len(m1) + 1):\n",
    "        mat[i, 0] = i\n",
    "    for j in range(len(m2) + 1):\n",
    "        mat[0, j] = j\n",
    "    for i in range(1, len(m1) + 1):\n",
    "        for j in range(1, len(m2) + 1):\n",
    "            c1 = mat[i - 1, j] + 1\n",
    "            c2 = mat[i, j - 1] + 1\n",
    "            if m1[i - 1] == m2[j - 1]:\n",
    "                c = 0\n",
    "            else:\n",
    "                c = cmp_char.get((m1[i - 1], m2[j - 1]), 1)\n",
    "            c3 = mat[i - 1, j - 1] + c\n",
    "            mat[i, j] = min([c1, c2, c3])\n",
    "\n",
    "            if i >= 2:\n",
    "                cc = cmp_char.get((m1[i - 2 : i], m2[j - 1]), 1)\n",
    "                c4 = mat[i - 2, j - 1] + cc\n",
    "                mat[i, j] = min(mat[i, j], c4)\n",
    "            if j >= 2:\n",
    "                cc = cmp_char.get((m1[i - 1], m2[j - 2 : j]), 1)\n",
    "                c4 = mat[i - 1, j - 2] + cc\n",
    "                mat[i, j] = min(mat[i, j], c4)\n",
    "\n",
    "    return mat[-1, -1]\n",
    "\n",
    "\n",
    "print(\"edit\", edit_distance2(\"rémunérer\", \"rénumérer\"))"
   ]
  },
  {
   "cell_type": "markdown",
   "metadata": {},
   "source": [
    "Et toujours les tests unitaires."
   ]
  },
  {
   "cell_type": "code",
   "execution_count": 13,
   "metadata": {},
   "outputs": [],
   "source": [
    "def test_special(d):\n",
    "    assert d(\"rémunérer\", \"rénumérer\") == 1\n",
    "\n",
    "\n",
    "def test_edit_distance2():\n",
    "    test_dist_equal(edit_distance2)\n",
    "    test_dist_diff1(edit_distance2)\n",
    "    test_dist_diff2(edit_distance2)\n",
    "    test_special(edit_distance2)\n",
    "\n",
    "\n",
    "test_edit_distance2()"
   ]
  },
  {
   "cell_type": "markdown",
   "metadata": {},
   "source": [
    "### ff, f, ph, f... plus personne ne sait écrire"
   ]
  },
  {
   "cell_type": "markdown",
   "metadata": {},
   "source": [
    "Tout marche. Et maintenant on aimerait que :\n",
    "\n",
    "* `distance('agraffe', 'agrafe') == 0.5`\n",
    "* `distance('agrafe', 'agrae') == 1`\n",
    "* `distance('éléphant', 'éléfant') == 0.5`\n",
    "\n",
    "Nouvelle distance encore."
   ]
  },
  {
   "cell_type": "code",
   "execution_count": 14,
   "metadata": {},
   "outputs": [
    {
     "name": "stdout",
     "output_type": "stream",
     "text": [
      "edit 1.0\n"
     ]
    }
   ],
   "source": [
    "def edit_distance3(m1, m2):\n",
    "    mat = numpy.zeros((len(m1) + 1, len(m2) + 1))\n",
    "    cmp_char = {\n",
    "        (\"m\", \"n\"): 0.5,\n",
    "        (\"n\", \"m\"): 0.5,\n",
    "        (\"ff\", \"f\"): 0.5,\n",
    "        (\"f\", \"ff\"): 0.5,\n",
    "        (\"ph\", \"f\"): 0.4,\n",
    "        (\"ph\", \"f\"): 0.4,\n",
    "    }\n",
    "    ins_char = {}\n",
    "    for i in range(len(m1) + 1):\n",
    "        mat[i, 0] = i\n",
    "    for j in range(len(m2) + 1):\n",
    "        mat[0, j] = j\n",
    "    for i in range(1, len(m1) + 1):\n",
    "        for j in range(1, len(m2) + 1):\n",
    "            c1 = mat[i - 1, j] + ins_char.get(m1[i - 1], 1)\n",
    "            c2 = mat[i, j - 1] + ins_char.get(m2[j - 1], 1)\n",
    "            if m1[i - 1] == m2[j - 1]:\n",
    "                c = 0\n",
    "            else:\n",
    "                c = cmp_char.get((m1[i - 1], m2[j - 1]), 1)\n",
    "            c3 = mat[i - 1, j - 1] + c\n",
    "            mat[i, j] = min([c1, c2, c3])\n",
    "\n",
    "            if i >= 2:\n",
    "                cc = cmp_char.get((m1[i - 2 : i], m2[j - 1]), 1)\n",
    "                c4 = mat[i - 2, j - 1] + cc\n",
    "                mat[i, j] = min(mat[i, j], c4)\n",
    "            if j >= 2:\n",
    "                cc = cmp_char.get((m1[i - 1], m2[j - 2 : j]), 1)\n",
    "                c4 = mat[i - 1, j - 2] + cc\n",
    "                mat[i, j] = min(mat[i, j], c4)\n",
    "\n",
    "    return mat[-1, -1]\n",
    "\n",
    "\n",
    "print(\"edit\", edit_distance(\"agrafe\", \"agrae\"))"
   ]
  },
  {
   "cell_type": "markdown",
   "metadata": {},
   "source": [
    "Test unitaire [again](https://www.youtube.com/watch?v=dBN86y30Ufc)."
   ]
  },
  {
   "cell_type": "code",
   "execution_count": 15,
   "metadata": {},
   "outputs": [],
   "source": [
    "def test_special(d):\n",
    "    assert d(\"rémunérer\", \"rénumérer\") == 1\n",
    "    assert d(\"agrafe\", \"agrae\") == 1\n",
    "    assert d(\"agraffe\", \"agrafe\") == 0.5\n",
    "    assert d(\"éléphant\", \"éléfant\") == 0.4\n",
    "\n",
    "\n",
    "def test_edit_distance3():\n",
    "    test_dist_equal(edit_distance3)\n",
    "    test_dist_diff1(edit_distance3)\n",
    "    test_dist_diff2(edit_distance3)\n",
    "    test_special(edit_distance3)\n",
    "\n",
    "\n",
    "test_edit_distance3()"
   ]
  },
  {
   "cell_type": "markdown",
   "metadata": {},
   "source": [
    "[This is the end](https://www.youtube.com/watch?v=VScSEXRwUqQ)."
   ]
  },
  {
   "cell_type": "code",
   "execution_count": null,
   "metadata": {},
   "outputs": [],
   "source": []
  }
 ],
 "metadata": {
  "kernelspec": {
   "display_name": "Python 3",
   "language": "python",
   "name": "python3"
  },
  "language_info": {
   "codemirror_mode": {
    "name": "ipython",
    "version": 3
   },
   "file_extension": ".py",
   "mimetype": "text/x-python",
   "name": "python",
   "nbconvert_exporter": "python",
   "pygments_lexer": "ipython3",
   "version": "3.10.12"
  }
 },
 "nbformat": 4,
 "nbformat_minor": 2
}