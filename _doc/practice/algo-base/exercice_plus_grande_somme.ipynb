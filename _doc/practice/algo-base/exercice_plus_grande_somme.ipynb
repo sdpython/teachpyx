{
 "cells": [
  {
   "cell_type": "markdown",
   "metadata": {},
   "source": [
    "# La sous-séquence de plus grande somme\n",
    "\n",
    "Ce problème est connu sur le nom de [Maximum subarray problem](http://en.wikipedia.org/wiki/Maximum_subarray_problem). Notion abordée : programmation dynamique."
   ]
  },
  {
   "cell_type": "code",
   "execution_count": 1,
   "metadata": {},
   "outputs": [],
   "source": [
    "%matplotlib inline"
   ]
  },
  {
   "cell_type": "markdown",
   "metadata": {},
   "source": [
    "### Enoncé\n",
    "\n",
    "On suppose qu'on a une liste $L=( l_1, l_2, ..., l_n)$. On souhaite trouver la sous-séquence de plus grande somme. En d'autres termes, on veut trouver $(i^*,j^*)$ tels que :\n",
    "\n",
    "$\\sum_{k=i^*}^{j^*} l_k = \\max_{i,j} \\sum_{k=i}^{j} l_k$"
   ]
  },
  {
   "cell_type": "markdown",
   "metadata": {},
   "source": [
    "### Solution naïve\n",
    "\n",
    "La première solution consiste à calculer les sommes de toutes les sous-séquences et de garder les $i,j$ qui ont permis d'obtenir la meilleure sous-séquence. On divise le programme en deux fonctions :\n",
    "\n",
    "* ``somme_partielle`` : calcule la somme de la sous-séquence ``l[i:j]`` (coût de la fonction : $O(n)$)\n",
    "* ``plus_grande_sous_liste`` : passe en revue toutes les sous-séquences et retourne la meilleure (coût de la fonction $O(n^2)$)\n",
    "\n",
    "Le coût de cet algorithme est en $O(n^3)$."
   ]
  },
  {
   "cell_type": "code",
   "execution_count": 2,
   "metadata": {},
   "outputs": [
    {
     "data": {
      "text/plain": [
       "[7, -1, 8]"
      ]
     },
     "execution_count": 2,
     "metadata": {},
     "output_type": "execute_result"
    }
   ],
   "source": [
    "def somme_partielle(li, i, j):\n",
    "    r = 0\n",
    "    for a in range(i, j):\n",
    "        r += li[a]\n",
    "    return r\n",
    "    # on pourrait juste écrire\n",
    "    # return sum(li[i:j])\n",
    "\n",
    "\n",
    "def plus_grande_sous_liste(li):\n",
    "    meilleur = min(li)  # ligne A\n",
    "    im, jm = -1, -1\n",
    "    for i in range(0, len(li)):\n",
    "        for j in range(i + 1, len(li) + 1):  # ne pas oublier +1 car sinon\n",
    "            # le dernier élément n'est jamais pris en compte\n",
    "            s = somme_partielle(li, i, j)\n",
    "            if s > meilleur:\n",
    "                meilleur = s\n",
    "                im, jm = i, j\n",
    "    return li[im:jm]\n",
    "\n",
    "\n",
    "# si li ne contient que des valeurs positives, la solution est évidemment la liste entière\n",
    "# c'est pourquoi il faut tester cette fonction avec des valeurs négatives\n",
    "li = [4, -6, 7, -1, 8, -50, 3]\n",
    "m = plus_grande_sous_liste(li)\n",
    "m"
   ]
  },
  {
   "cell_type": "markdown",
   "metadata": {},
   "source": [
    "La ligne A contient l'instruction ``meilleur = min(li)``. Pour une liste où tous les nombres sont négatifs, la meilleure sous-liste est constitué du plus petit élément de la liste. Remplacer cette instruction par ``meilleur = 0`` a pour conséquence de retourner une liste vide dans ce cas précis. \n",
    "\n",
    "$cout(n) = \\sum_{i=0}^n \\sum_{j=i+1}^n j-i = \\sum_{i=0}^n \\sum_{j=0}^i j = \\sum_{i=0}^n \\frac{i(i+1)}{2} \\sim O(n^3)$"
   ]
  },
  {
   "cell_type": "markdown",
   "metadata": {},
   "source": [
    "### Solution plus rapide\n",
    "\n",
    "Il est possible de modifier cette fonction de telle sorte que le coût soit en $O(n^2)$ car on évite la répétition de certains calculs lors du calcul de la somme des sous-séquences. On peut écrire :\n",
    "\n",
    "$\\sum_{k=i}^{j+1} l_k = l_j + \\sum_{k=i}^{j} l_k$\n",
    "\n",
    "Dans la seconde boucle, il suffit d'ajouter l'élément ``li[j]`` à la somme précédente."
   ]
  },
  {
   "cell_type": "code",
   "execution_count": 3,
   "metadata": {},
   "outputs": [
    {
     "name": "stdout",
     "output_type": "stream",
     "text": [
      "[7, -1, 8]\n",
      "[78, 9, 7, 7]\n"
     ]
    },
    {
     "data": {
      "text/plain": [
       "[7, -1, 8]"
      ]
     },
     "execution_count": 3,
     "metadata": {},
     "output_type": "execute_result"
    }
   ],
   "source": [
    "def plus_grande_sous_liste_n2(li):\n",
    "    meilleur = 0\n",
    "    im, jm = -1, -1\n",
    "    for i in range(0, len(li)):\n",
    "        s = 0\n",
    "        for j in range(i, len(li)):\n",
    "            s += li[j]\n",
    "            if s > meilleur:\n",
    "                meilleur = s\n",
    "                im, jm = i, j + 1\n",
    "    return li[im:jm]\n",
    "\n",
    "\n",
    "li = [4, -6, 7, -1, 8, -50, 3]\n",
    "m = plus_grande_sous_liste_n2(li)\n",
    "print(m)\n",
    "\n",
    "li = [1, 2, 3, 4, 5, -98, 78, 9, 7, 7]\n",
    "m = plus_grande_sous_liste_n2(li)\n",
    "print(m)\n",
    "\n",
    "li = [0, 2, 4, -7, -2, 7, -1, 8, -10, 3]\n",
    "m = plus_grande_sous_liste_n2(li)\n",
    "m"
   ]
  },
  {
   "cell_type": "markdown",
   "metadata": {},
   "source": [
    "### Solution dichotomique\n",
    "\n",
    "Il existe une dernière version plus rapide encore. Si on considère la liste $L=(l_1, ..., l_n)$ dont on cherche à extraire la sous-séquence de somme maximale. Supposons que $l_a$ appartienne à cette sous-séquence. On construit la fonction suivante :\n",
    "\n",
    "$f(a,k) =\\left \\{ \\begin{array}{ll} \\sum_{i=a}^{k} l_i &si \\; k > a \\\\ \\sum_{i=k}^{a} l_i &si \\; k < a  \\end{array} \\right .$\n",
    "\n",
    "On cherche alors les valeurs $k_1$ et $k_2$ telles que :\n",
    "\n",
    "$\\begin{array}{rcl} f(a,k_1) &=& \\max_{k<a} f(a,k) \\\\ f(a,k_2) &=& \\max_{k>a} f(a,k) \\end{array}$\n",
    "\n",
    "La sous-séquence de somme maximale cherchée est $[k_1,k_2]$ avec $a$ dans cet intervalle et le coût de cette recherche est en $O(n)$. Mais ceci n'est vrai que si on sait que  $l_a$ appartient à la sous-séquence de somme maximale.\n",
    "\n",
    "Autre considération : pour deux listes $l_1$ et $l_2$, la séquence maximale de la réunion des deux appartient soit à l'une, soit à l'autre, soit elle inclut le point de jonction.\n",
    "\n",
    "Ces deux idées mises bout à bout donne l'algorithme suivant construit de façon récursive. On coupe la liste en deux parties de longueur égale :\n",
    "\n",
    "* On calcule la meilleure séquence sur la première sous-séquence.\n",
    "* On calcule la meilleure séquence sur la seconde sous-séquence.\n",
    "* On calcule la meilleure séquence en suppose que l'élément du milieu appartient à cette séquence.\n",
    "\n",
    "La meilleure séquence est nécessairement l'une des trois."
   ]
  },
  {
   "cell_type": "code",
   "execution_count": 4,
   "metadata": {},
   "outputs": [
    {
     "name": "stdout",
     "output_type": "stream",
     "text": [
      "[7, -1, 8]\n",
      "[78, 9, 7, 7]\n"
     ]
    },
    {
     "data": {
      "text/plain": [
       "[7, -1, 8]"
      ]
     },
     "execution_count": 4,
     "metadata": {},
     "output_type": "execute_result"
    }
   ],
   "source": [
    "def plus_grande_sous_liste_nlnn2_r(li, i, j):\n",
    "    if i == j:\n",
    "        return 0\n",
    "    elif i + 1 == j:\n",
    "        return li[i], i, i + 1\n",
    "\n",
    "    milieu = (i + j) // 2\n",
    "\n",
    "    # on coupe le problème deux\n",
    "    ma, ia, ja = plus_grande_sous_liste_nlnn2_r(li, i, milieu)\n",
    "    mb, ib, jb = plus_grande_sous_liste_nlnn2_r(li, milieu, j)\n",
    "\n",
    "    # pour aller encore plus vite dans un cas précis\n",
    "    if ja == ib:\n",
    "        total = ma + mb\n",
    "        im, jm = ia, jb\n",
    "    else:\n",
    "        # on étudie la jonction\n",
    "        im, jm = milieu, milieu + 1\n",
    "        meilleur = li[milieu]\n",
    "        s = meilleur\n",
    "        for k in range(milieu + 1, j):\n",
    "            s += li[k]\n",
    "            if s > meilleur:\n",
    "                meilleur = s\n",
    "                jm = k + 1\n",
    "\n",
    "        total = meilleur\n",
    "        meilleur = li[milieu]\n",
    "        s = meilleur\n",
    "        for k in range(milieu - 1, i - 1, -1):\n",
    "            s += li[k]\n",
    "            if s > meilleur:\n",
    "                meilleur = s\n",
    "                im = k\n",
    "\n",
    "        total += meilleur - li[milieu]\n",
    "\n",
    "    if ma >= max(mb, total):\n",
    "        return ma, ia, ja\n",
    "    elif mb >= max(ma, total):\n",
    "        return mb, ib, jb\n",
    "    else:\n",
    "        return total, im, jm\n",
    "\n",
    "\n",
    "def plus_grande_sous_liste_nlnn2(li):\n",
    "    m, i, j = plus_grande_sous_liste_nlnn2_r(li, 0, len(li))\n",
    "    return li[i:j]\n",
    "\n",
    "\n",
    "li = [4, -6, 7, -1, 8, -50, 3]\n",
    "m = plus_grande_sous_liste_nlnn2(li)\n",
    "print(m)\n",
    "\n",
    "li = [1, 2, 3, 4, 5, -98, 78, 9, 7, 7]\n",
    "m = plus_grande_sous_liste_nlnn2(li)\n",
    "print(m)\n",
    "\n",
    "li = [0, 2, 4, -7, -2, 7, -1, 8, -10, 3]\n",
    "m = plus_grande_sous_liste_nlnn2(li)\n",
    "m"
   ]
  },
  {
   "cell_type": "markdown",
   "metadata": {},
   "source": [
    "Le coût de cette fonction est au pire en $O(n \\ln n)$. A chaque itération, on effectue trois calculs :\n",
    "\n",
    "* meilleure séquence à droite : $f(n/2)$\n",
    "* meilleure séquence à gauche : $f(n/2)$\n",
    "* meilleure séquence incluant $a$ : $n$\n",
    "\n",
    "Le coût de l'iteration $n$ est $f(n)=n + 2f(n/2)$ avec $f(1)=0$. On calcule les premières termes : "
   ]
  },
  {
   "cell_type": "code",
   "execution_count": 5,
   "metadata": {},
   "outputs": [
    {
     "name": "stdout",
     "output_type": "stream",
     "text": [
      "f(2)=2 --> f(2)/2 = 1.0\n",
      "f(4)=8 --> f(4)/4 = 2.0\n",
      "f(8)=24 --> f(8)/8 = 3.0\n",
      "f(16)=64 --> f(16)/16 = 4.0\n",
      "f(32)=160 --> f(32)/32 = 5.0\n",
      "f(64)=384 --> f(64)/64 = 6.0\n",
      "f(128)=896 --> f(128)/128 = 7.0\n",
      "f(256)=2048 --> f(256)/256 = 8.0\n",
      "f(512)=4608 --> f(512)/512 = 9.0\n"
     ]
    }
   ],
   "source": [
    "cout = lambda n: 0 if n == 1 else n + 2 * cout(n // 2)\n",
    "for i in range(1, 10):\n",
    "    print(\"f({0})={1} --> f({0})/{0} = {2}\".format(2**i, cout(2**i), cout(2**i) / 2**i))"
   ]
  },
  {
   "cell_type": "markdown",
   "metadata": {},
   "source": [
    "On suppose que $f(2^n)=n2^n \\Leftrightarrow f(n) = n \\ln_2 n$. Il suffit de vérifier cela avec la récurrence : \n",
    "\n",
    "$\\begin{array}{rcl} f(n) &=& n + 2f(\\frac{n}{2}) = n + 2 \\frac{n}{2} \\ln_2(\\frac{n}{2}) \\\\ &=& n + n \\ln_2(n) - n\\ln_2(2) = n + n\\ln_2(n) - n = n\\ln_2 n\\end{array}$\n",
    "\n",
    "C'est le coût d'une itération. Comme à chaque itération on coupe le problème en deux, le coût total de l'algorithme est :\n",
    "\n",
    "$\\begin{array}{rcl} C(2^n) &=& f(2^n) + 2f(2^{n-1}) + 4f(2^{n-2}) + ... + 2^{n-1}f(2) = \\sum_{k=1}^{n} 2^{n-k} f(2^k) \\\\ &=& \\sum_{k=1}^n 2^{n-k} 2^k k = \\sum_{k=1}^n 2^n k = 2^{n-1}n(n-1) \\leqslant 2^{n-1} n^2 \\end{array}$\n",
    "\n",
    "Par conséquent, le coût est en $C(n) \\sim O(n \\ln^2 n)$."
   ]
  },
  {
   "cell_type": "markdown",
   "metadata": {},
   "source": [
    "### Solution linéaire\n",
    "\n",
    "La dernière solution est la plus rapide. Elle consiste à parcourir la liste dans le sens croissant des indices et à construire la série cumulée."
   ]
  },
  {
   "cell_type": "code",
   "execution_count": 6,
   "metadata": {},
   "outputs": [
    {
     "data": {
      "image/png": "[encoded data removed]",
      "text/plain": [
       "<Figure size 640x480 with 1 Axes>"
      ]
     },
     "metadata": {},
     "output_type": "display_data"
    }
   ],
   "source": [
    "import matplotlib.pyplot as plt\n",
    "\n",
    "li = [0, 2, 4, -7, -2, 7, -1, 8, -10, 3]\n",
    "cumul = [li[0]]\n",
    "for i in li[1:]:\n",
    "    cumul.append(cumul[-1] + i)\n",
    "cumul2 = [li[0]]\n",
    "for i in li[1:]:\n",
    "    cumul2.append(max(cumul2[-1] + i, 0))\n",
    "plt.plot(cumul, label=\"cumul\")\n",
    "plt.plot(cumul2, label=\"cumul2\")\n",
    "plt.plot([0 for c in cumul])\n",
    "plt.legend()\n",
    "plt.title(\"somme cumulée\");"
   ]
  },
  {
   "cell_type": "markdown",
   "metadata": {},
   "source": [
    "La courbe devient négative au quatrième nombre. L'astuce consiste à dire qu'on peut traiter les deux ensembles séparément et que la meilleure sous-séquence n'inclura pas ce nombre en quatrième position. Si on cherche la meilleure sous-séquence se terminant à la position $i$, il suffit juste de revenir en arrière et de trouver le minimum de la courbe cumulée avant la position $i$. Pour $i=5$, le point le plus bas qui précède est le point $k=3$. Au point $i=3$, on sait qu'il n'existe pas de sous-séquence positive précédent $i=3$.\n",
    "\n",
    "On découpe la courbe en segments $[[i,j]]$ vérifiant $l_{i-1} < 0 \\leqslant l_i$ et $\\sum_{k=1}^{j} l_k < 0$ et $l_{j+1} \\geqslant 0$."
   ]
  },
  {
   "cell_type": "code",
   "execution_count": 7,
   "metadata": {},
   "outputs": [
    {
     "data": {
      "image/png": "[encoded data removed]",
      "text/plain": [
       "<IPython.core.display.Image object>"
      ]
     },
     "execution_count": 7,
     "metadata": {},
     "output_type": "execute_result"
    }
   ],
   "source": [
    "from IPython.core.display import Image\n",
    "\n",
    "Image(\"sommemax.png\")"
   ]
  },
  {
   "cell_type": "markdown",
   "metadata": {},
   "source": [
    "On parcourt la série cumulée. A chaque fois qu'on passe sous zéro, au premier nombre positif suivant, on redémarre à zéro. La sous-séquence de somme maximale est forcément dans un de ces tronçons, elle a pour point de départ le premier élément et pour point d'arrivée le maximum obtenu sur le tronçon en question : pour chaque point $x,Cumul2(x)$ d'un tronçon, le minimum de la courbe cumulée précédent $x$ est nécessairement le premier élément du tronçon."
   ]
  },
  {
   "cell_type": "code",
   "execution_count": 8,
   "metadata": {},
   "outputs": [
    {
     "name": "stdout",
     "output_type": "stream",
     "text": [
      "[7, -1, 8]\n",
      "[78, 9, 7, 7]\n"
     ]
    },
    {
     "data": {
      "text/plain": [
       "[7, -1, 8]"
      ]
     },
     "execution_count": 8,
     "metadata": {},
     "output_type": "execute_result"
    }
   ],
   "source": [
    "def plus_grande_sous_liste_n(li):\n",
    "    meilleur = [None for i in li]\n",
    "    somme = [None for i in li]\n",
    "    best = None\n",
    "\n",
    "    for i, el in enumerate(li):\n",
    "        if el >= 0:\n",
    "            if i > 0:\n",
    "                somme[i] = max(somme[i - 1], 0) + el\n",
    "                meilleur[i] = meilleur[i - 1] if somme[i - 1] >= 0 else i\n",
    "            else:\n",
    "                somme[i] = el\n",
    "                meilleur[i] = i\n",
    "            if best is None or somme[i] > somme[best]:\n",
    "                best = i\n",
    "        else:\n",
    "            somme[i] = (somme[i - 1] + el) if i > 0 else el\n",
    "            if somme[i] >= 0:\n",
    "                meilleur[i] = meilleur[i - 1]\n",
    "\n",
    "    i, j = meilleur[best], best + 1\n",
    "    return li[i:j]\n",
    "\n",
    "\n",
    "li = [4, -6, 7, -1, 8, -10, 3]\n",
    "m = plus_grande_sous_liste_n(li)\n",
    "print(m)  # affiche [7, -1, 8]\n",
    "\n",
    "li = [1, 2, 3, 4, 5, -98, 78, 9, 7, 7]\n",
    "m = plus_grande_sous_liste_n(li)\n",
    "print(m)\n",
    "\n",
    "li = [0, 2, 4, -7, -2, 7, -1, 8, -10, 3]\n",
    "m = plus_grande_sous_liste_n(li)\n",
    "m"
   ]
  },
  {
   "cell_type": "markdown",
   "metadata": {},
   "source": [
    "### Comparaison des temps de calcul\n",
    "\n",
    "On effectue cela sur une liste de nombres aléatoire négatifs et positifs."
   ]
  },
  {
   "cell_type": "code",
   "execution_count": 9,
   "metadata": {},
   "outputs": [],
   "source": [
    "import random\n",
    "\n",
    "li100 = [random.randint(-10, 50) for i in range(0, 100)]"
   ]
  },
  {
   "cell_type": "markdown",
   "metadata": {},
   "source": [
    "Coût en $O(n^3)$ :"
   ]
  },
  {
   "cell_type": "code",
   "execution_count": 10,
   "metadata": {},
   "outputs": [
    {
     "name": "stdout",
     "output_type": "stream",
     "text": [
      "15.6 ms ± 1.19 ms per loop (mean ± std. dev. of 7 runs, 100 loops each)\n"
     ]
    }
   ],
   "source": [
    "%timeit plus_grande_sous_liste(li100)"
   ]
  },
  {
   "cell_type": "markdown",
   "metadata": {},
   "source": [
    "Coût en $O(n^2)$ :"
   ]
  },
  {
   "cell_type": "code",
   "execution_count": 11,
   "metadata": {},
   "outputs": [
    {
     "name": "stdout",
     "output_type": "stream",
     "text": [
      "565 µs ± 33.7 µs per loop (mean ± std. dev. of 7 runs, 1,000 loops each)\n"
     ]
    }
   ],
   "source": [
    "%timeit plus_grande_sous_liste_n2(li100)"
   ]
  },
  {
   "cell_type": "markdown",
   "metadata": {},
   "source": [
    "Coût en $O(n \\ln^2 n)$ :"
   ]
  },
  {
   "cell_type": "code",
   "execution_count": 12,
   "metadata": {},
   "outputs": [
    {
     "name": "stdout",
     "output_type": "stream",
     "text": [
      "134 µs ± 12.9 µs per loop (mean ± std. dev. of 7 runs, 10,000 loops each)\n"
     ]
    }
   ],
   "source": [
    "%timeit plus_grande_sous_liste_nlnn2(li100)"
   ]
  },
  {
   "cell_type": "markdown",
   "metadata": {},
   "source": [
    "Coût en $O(n)$ :"
   ]
  },
  {
   "cell_type": "code",
   "execution_count": 13,
   "metadata": {},
   "outputs": [
    {
     "name": "stdout",
     "output_type": "stream",
     "text": [
      "70.9 µs ± 3.32 µs per loop (mean ± std. dev. of 7 runs, 10,000 loops each)\n"
     ]
    }
   ],
   "source": [
    "%timeit plus_grande_sous_liste_n(li100)"
   ]
  },
  {
   "cell_type": "markdown",
   "metadata": {},
   "source": [
    "### Application"
   ]
  },
  {
   "cell_type": "markdown",
   "metadata": {},
   "source": [
    "Le [drawdown](http://en.wikipedia.org/wiki/Drawdown_%28economics%29) est un indicateur de performance pour les systèmes de trading. Il mesure la perte maximale enregistrée sur une période. En d'autres, il correspond à la sous-séquence de somme minimale. On vient de montrer qu'il n'est pas plus long à calculer qu'une moyenne."
   ]
  },
  {
   "cell_type": "code",
   "execution_count": null,
   "metadata": {},
   "outputs": [],
   "source": []
  }
 ],
 "metadata": {
  "kernelspec": {
   "display_name": "Python 3 (ipykernel)",
   "language": "python",
   "name": "python3"
  },
  "language_info": {
   "codemirror_mode": {
    "name": "ipython",
    "version": 3
   },
   "file_extension": ".py",
   "mimetype": "text/x-python",
   "name": "python",
   "nbconvert_exporter": "python",
   "pygments_lexer": "ipython3",
   "version": "3.10.6"
  }
 },
 "nbformat": 4,
 "nbformat_minor": 1
}