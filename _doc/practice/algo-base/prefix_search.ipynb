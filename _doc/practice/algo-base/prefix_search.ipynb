{
 "cells": [
  {
   "cell_type": "markdown",
   "id": "8be78edc",
   "metadata": {},
   "source": [
    "# Recherche de préfixes\n",
    "\n",
    "On dispose d'une liste triée de mots. Un très grande liste. On cherche à connaître la position du premier de cette liste commençait par un certain préfixe."
   ]
  },
  {
   "cell_type": "code",
   "execution_count": null,
   "id": "d8030904-73d8-4a1a-8a8c-313df2f314ce",
   "metadata": {},
   "outputs": [
    {
     "data": {
      "text/plain": [
       "['abc', 'abn', 'aer', 'bee', 'bii', 'bjk', 'cap', 'cbb']"
      ]
     },
     "execution_count": 3,
     "metadata": {},
     "output_type": "execute_result"
    }
   ],
   "source": [
    "mots = [\"abc\", \"abn\", \"aer\", \"bii\", \"bee\", \"bjk\", \"cap\", \"cbb\"]\n",
    "mots.sort()\n",
    "mots"
   ]
  },
  {
   "cell_type": "code",
   "execution_count": 1,
   "id": "5c0b3207-8d6f-474c-a6c9-21c9ef0c3235",
   "metadata": {},
   "outputs": [
    {
     "ename": "NameError",
     "evalue": "name 'mots' is not defined",
     "output_type": "error",
     "traceback": [
      "\u001b[0;31m---------------------------------------------------------------------------\u001b[0m",
      "\u001b[0;31mNameError\u001b[0m                                 Traceback (most recent call last)",
      "\u001b[1;32m/home/xadupre/github/teachpyx/_doc/practice/algo-base/prefix_search.ipynb Cell 3\u001b[0m line \u001b[0;36m7\n\u001b[1;32m      <a href='vscode-notebook-cell://wsl%2Bubuntu-22.04/home/xadupre/github/teachpyx/_doc/practice/algo-base/prefix_search.ipynb#W1sdnNjb2RlLXJlbW90ZQ%3D%3D?line=3'>4</a>\u001b[0m         p[mots[i][\u001b[39m0\u001b[39m]] \u001b[39m=\u001b[39m i\n\u001b[1;32m      <a href='vscode-notebook-cell://wsl%2Bubuntu-22.04/home/xadupre/github/teachpyx/_doc/practice/algo-base/prefix_search.ipynb#W1sdnNjb2RlLXJlbW90ZQ%3D%3D?line=4'>5</a>\u001b[0m     \u001b[39mreturn\u001b[39;00m p\n\u001b[0;32m----> <a href='vscode-notebook-cell://wsl%2Bubuntu-22.04/home/xadupre/github/teachpyx/_doc/practice/algo-base/prefix_search.ipynb#W1sdnNjb2RlLXJlbW90ZQ%3D%3D?line=6'>7</a>\u001b[0m position_premiere_lettre(mots)\n",
      "\u001b[0;31mNameError\u001b[0m: name 'mots' is not defined"
     ]
    }
   ],
   "source": [
    "def position_premiere_lettre(mots):\n",
    "    p = {}\n",
    "    for i in range(len(mots) - 1, -1, -1):\n",
    "        p[mots[i][0]] = i\n",
    "    return p\n",
    "\n",
    "\n",
    "position_premiere_lettre(mots)"
   ]
  },
  {
   "cell_type": "code",
   "execution_count": null,
   "id": "12215aa9-6848-4db8-8d0f-da92f20b142f",
   "metadata": {},
   "outputs": [
    {
     "data": {
      "text/plain": [
       "{'a': {'e': 2, 'b': 0}, 'b': {'j': 5, 'i': 4, 'e': 3}, 'c': {'b': 7, 'a': 6}}"
      ]
     },
     "execution_count": 11,
     "metadata": {},
     "output_type": "execute_result"
    }
   ],
   "source": [
    "def position_lettre(mots, a=0, b=None, pos=0):\n",
    "    p = {}\n",
    "    if b is None:\n",
    "        b = len(mots)\n",
    "    for i in range(b - 1, a - 1, -1):\n",
    "        p[mots[i][pos]] = i\n",
    "    return p\n",
    "\n",
    "\n",
    "def position_deux_lettres(mots):\n",
    "    pos1 = position_premiere_lettre(mots)\n",
    "    elements = list(sorted(pos1.items()))\n",
    "    pos2 = {}\n",
    "    for i, (c, p) in enumerate(elements):\n",
    "        if i < len(elements) - 1:\n",
    "            pos2[c] = position_lettre(mots, p, elements[i + 1][1], pos=1)\n",
    "        else:\n",
    "            pos2[c] = position_lettre(mots, p, pos=1)\n",
    "    return pos2\n",
    "\n",
    "\n",
    "position_deux_lettres(mots)"
   ]
  },
  {
   "cell_type": "markdown",
   "id": "e44f1365-9cc4-4fe7-b2ce-9b445065d317",
   "metadata": {},
   "source": [
    "Peut-on adapter cette fonction à toute longueur de préfixe ?"
   ]
  },
  {
   "cell_type": "markdown",
   "id": "3f487195",
   "metadata": {},
   "source": []
  }
 ],
 "metadata": {
  "kernelspec": {
   "display_name": "Python 3 (ipykernel)",
   "language": "python",
   "name": "python3"
  },
  "language_info": {
   "codemirror_mode": {
    "name": "ipython",
    "version": 3
   },
   "file_extension": ".py",
   "mimetype": "text/x-python",
   "name": "python",
   "nbconvert_exporter": "python",
   "pygments_lexer": "ipython3",
   "version": "3.10.12"
  }
 },
 "nbformat": 4,
 "nbformat_minor": 5
}
