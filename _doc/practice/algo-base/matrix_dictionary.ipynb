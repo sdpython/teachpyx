{
 "cells": [
  {
   "cell_type": "markdown",
   "metadata": {},
   "source": [
    "# Produit matriciel avec une matrice creuse\n",
    "\n",
    "Les dictionnaires sont une façon assez de représenter les matrices creuses en ne conservant que les coefficients non nuls. Comment écrire alors le produit matriciel ?"
   ]
  },
  {
   "cell_type": "markdown",
   "metadata": {},
   "source": [
    "## Matrice creuse et dictionnaire\n",
    "\n",
    "Une [matrice creuse](https://fr.wikipedia.org/wiki/Matrice_creuse) ou [sparse matrix](https://en.wikipedia.org/wiki/Sparse_matrix) est constituée majoritairement de 0. On utilise un dictionnaire avec les coefficients non nuls. La fonction suivante pour créer une matrice aléatoire."
   ]
  },
  {
   "cell_type": "code",
   "execution_count": 1,
   "metadata": {},
   "outputs": [
    {
     "data": {
      "text/plain": [
       "{(0, 1): 1, (1, 1): 1, (2, 1): 1, (2, 0): 1, (1, 0): 1, (2, 2): 0}"
      ]
     },
     "execution_count": 1,
     "metadata": {},
     "output_type": "execute_result"
    }
   ],
   "source": [
    "import random\n",
    "\n",
    "\n",
    "def random_matrix(n, m, ratio=0.1):\n",
    "    mat = {}\n",
    "    nb = min(n * m, int(ratio * n * m + 0.5))\n",
    "    while len(mat) < nb:\n",
    "        i = random.randint(0, n - 1)\n",
    "        j = random.randint(0, m - 1)\n",
    "        mat[i, j] = 1\n",
    "    last = (n - 1, m - 1)\n",
    "    if last not in mat:\n",
    "        # pour être sûr que la matrice a les bonnes dimensions\n",
    "        mat[last] = 0\n",
    "    return mat\n",
    "\n",
    "\n",
    "mat = random_matrix(3, 3, ratio=0.5)\n",
    "mat"
   ]
  },
  {
   "cell_type": "markdown",
   "metadata": {},
   "source": [
    "## Calcul de la dimension\n",
    "\n",
    "Pour obtenir la dimension de la matrice, il faut parcourir toutes les clés du dictionnaire."
   ]
  },
  {
   "cell_type": "code",
   "execution_count": 2,
   "metadata": {},
   "outputs": [
    {
     "data": {
      "text/plain": [
       "(3, 3)"
      ]
     },
     "execution_count": 2,
     "metadata": {},
     "output_type": "execute_result"
    }
   ],
   "source": [
    "def dimension(mat):\n",
    "    maxi, maxj = 0, 0\n",
    "    for k in mat:\n",
    "        maxi = max(maxi, k[0])\n",
    "        maxj = max(maxj, k[1])\n",
    "    return maxi + 1, maxj + 1\n",
    "\n",
    "\n",
    "dimension(mat)"
   ]
  },
  {
   "cell_type": "markdown",
   "metadata": {},
   "source": [
    "Cette fonction possède l'inconvénient de retourner une valeur fausse si la matrice ne possède aucun coefficient non nul sur la dernière ligne ou la dernière colonne. Cela peut être embarrassant, tout dépend de l'usage."
   ]
  },
  {
   "cell_type": "markdown",
   "metadata": {},
   "source": [
    "## Produit matriciel classique\n",
    "\n",
    "On implémente le produit matriciel classique, à trois boucles."
   ]
  },
  {
   "cell_type": "code",
   "execution_count": 3,
   "metadata": {},
   "outputs": [
    {
     "data": {
      "text/plain": [
       "{(0, 0): 1, (1, 1): 1}"
      ]
     },
     "execution_count": 3,
     "metadata": {},
     "output_type": "execute_result"
    }
   ],
   "source": [
    "def produit_classique(m1, m2):\n",
    "    dim1 = dimension(m1)\n",
    "    dim2 = dimension(m2)\n",
    "    if dim1[1] != dim2[0]:\n",
    "        raise Exception(\"Impossible de multiplier {0}, {1}\".format(dim1, dim2))\n",
    "    res = {}\n",
    "    for i in range(dim1[0]):\n",
    "        for j in range(dim2[1]):\n",
    "            s = 0\n",
    "            for k in range(dim1[1]):\n",
    "                s += m1.get((i, k), 0) * m2.get((k, j), 0)\n",
    "            if s != 0:  # Pour éviter de garder les coefficients non nuls.\n",
    "                res[i, j] = s\n",
    "    return res\n",
    "\n",
    "\n",
    "simple = {(0, 1): 1, (1, 0): 1}\n",
    "produit_classique(simple, simple)"
   ]
  },
  {
   "cell_type": "markdown",
   "metadata": {},
   "source": [
    "Sur la matrice aléatoire..."
   ]
  },
  {
   "cell_type": "code",
   "execution_count": 4,
   "metadata": {},
   "outputs": [
    {
     "data": {
      "text/plain": [
       "{(0, 0): 1, (0, 1): 1, (1, 0): 1, (1, 1): 2, (2, 0): 1, (2, 1): 2}"
      ]
     },
     "execution_count": 4,
     "metadata": {},
     "output_type": "execute_result"
    }
   ],
   "source": [
    "produit_classique(mat, mat)"
   ]
  },
  {
   "cell_type": "markdown",
   "metadata": {},
   "source": [
    "## Produit matriciel plus élégant\n",
    "\n",
    "A-t-on vraiment besoin de s'enquérir des dimensions de la matrice pour faire le produit matriciel ? Ne peut-on pas tout simplement faire une boucle sur les coefficients non nul ?"
   ]
  },
  {
   "cell_type": "code",
   "execution_count": 5,
   "metadata": {},
   "outputs": [
    {
     "data": {
      "text/plain": [
       "{(0, 0): 1, (1, 1): 1}"
      ]
     },
     "execution_count": 5,
     "metadata": {},
     "output_type": "execute_result"
    }
   ],
   "source": [
    "def produit_elegant(m1, m2):\n",
    "    res = {}\n",
    "    for (i, k1), v1 in m1.items():\n",
    "        if v1 == 0:\n",
    "            continue\n",
    "        for (k2, j), v2 in m2.items():\n",
    "            if v2 == 0:\n",
    "                continue\n",
    "            if k1 == k2:\n",
    "                if (i, j) in res:\n",
    "                    res[i, j] += v1 * v2\n",
    "                else:\n",
    "                    res[i, j] = v1 * v2\n",
    "    return res\n",
    "\n",
    "\n",
    "produit_elegant(simple, simple)"
   ]
  },
  {
   "cell_type": "code",
   "execution_count": 6,
   "metadata": {},
   "outputs": [
    {
     "data": {
      "text/plain": [
       "{(0, 1): 1, (0, 0): 1, (1, 1): 2, (1, 0): 1, (2, 1): 2, (2, 0): 1}"
      ]
     },
     "execution_count": 6,
     "metadata": {},
     "output_type": "execute_result"
    }
   ],
   "source": [
    "produit_elegant(mat, mat)"
   ]
  },
  {
   "cell_type": "markdown",
   "metadata": {},
   "source": [
    "## Mesure du temps\n",
    "\n",
    "A priori, la seconde méthode est plus rapide puisque son coût est proportionnel au produit du nombre de coefficients non nuls dans les deux matrices. Vérifions."
   ]
  },
  {
   "cell_type": "code",
   "execution_count": 7,
   "metadata": {},
   "outputs": [
    {
     "name": "stdout",
     "output_type": "stream",
     "text": [
      "259 ms ± 46.4 ms per loop (mean ± std. dev. of 7 runs, 1 loop each)\n"
     ]
    }
   ],
   "source": [
    "bigmat = random_matrix(100, 100)\n",
    "%timeit produit_classique(bigmat, bigmat)"
   ]
  },
  {
   "cell_type": "code",
   "execution_count": 8,
   "metadata": {},
   "outputs": [
    {
     "name": "stdout",
     "output_type": "stream",
     "text": [
      "66.6 ms ± 4.9 ms per loop (mean ± std. dev. of 7 runs, 10 loops each)\n"
     ]
    }
   ],
   "source": [
    "%timeit produit_elegant(bigmat, bigmat)"
   ]
  },
  {
   "cell_type": "markdown",
   "metadata": {},
   "source": [
    "C'est beaucoup mieux. Mais peut-on encore faire mieux ?"
   ]
  },
  {
   "cell_type": "markdown",
   "metadata": {},
   "source": [
    "## Dictionnaires de dictionnaires\n",
    "\n",
    "Ca sonne un peu comme [mille millions de mille sabords](https://fr.wikipedia.org/wiki/Vocabulaire_du_capitaine_Haddock) mais le dictionnaire que nous avons créé a pour clé un couple de coordonnées et valeur des coefficients. La fonction ``produit_elegant`` fait plein d'itérations inutiles en quelque sorte puisque les coefficients sont nuls. Peut-on éviter ça ?\n",
    "\n",
    "Et si on utilisait des dictionnaires de dictionnaires : ``{ ligne : { colonne : valeur } }``."
   ]
  },
  {
   "cell_type": "code",
   "execution_count": 9,
   "metadata": {},
   "outputs": [
    {
     "data": {
      "text/plain": [
       "{0: {1: 1}, 1: {0: 1}}"
      ]
     },
     "execution_count": 9,
     "metadata": {},
     "output_type": "execute_result"
    }
   ],
   "source": [
    "def matrice_dicodico(mat):\n",
    "    res = {}\n",
    "    for (i, j), v in mat.items():\n",
    "        if i not in res:\n",
    "            res[i] = {j: v}\n",
    "        else:\n",
    "            res[i][j] = v\n",
    "    return res\n",
    "\n",
    "\n",
    "matrice_dicodico(simple)"
   ]
  },
  {
   "cell_type": "markdown",
   "metadata": {},
   "source": [
    "Peut-on adapter le calcul matriciel élégant ? Il reste à associer les indices de colonnes de la première avec les indices de lignes de la seconde. Cela pose problème en l'état quand les indices de colonnes sont inaccessibles sans connaître les indices de lignes d'abord à moins d'échanger l'ordre pour la seconde matrice."
   ]
  },
  {
   "cell_type": "code",
   "execution_count": 10,
   "metadata": {},
   "outputs": [
    {
     "data": {
      "text/plain": [
       "{1: {0: 1}, 0: {1: 1}}"
      ]
     },
     "execution_count": 10,
     "metadata": {},
     "output_type": "execute_result"
    }
   ],
   "source": [
    "def matrice_dicodico_lc(mat, ligne=True):\n",
    "    res = {}\n",
    "    if ligne:\n",
    "        for (i, j), v in mat.items():\n",
    "            if i not in res:\n",
    "                res[i] = {j: v}\n",
    "            else:\n",
    "                res[i][j] = v\n",
    "    else:\n",
    "        for (j, i), v in mat.items():\n",
    "            if i not in res:\n",
    "                res[i] = {j: v}\n",
    "            else:\n",
    "                res[i][j] = v\n",
    "    return res\n",
    "\n",
    "\n",
    "matrice_dicodico_lc(simple, ligne=False)"
   ]
  },
  {
   "cell_type": "markdown",
   "metadata": {},
   "source": [
    "Maintenant qu'on a fait ça, on peut songer au produit matriciel."
   ]
  },
  {
   "cell_type": "code",
   "execution_count": 11,
   "metadata": {},
   "outputs": [
    {
     "data": {
      "text/plain": [
       "{(0, 0): 1, (1, 1): 1}"
      ]
     },
     "execution_count": 11,
     "metadata": {},
     "output_type": "execute_result"
    }
   ],
   "source": [
    "def produit_elegant_rapide(m1, m2):\n",
    "    res = {}\n",
    "    for k, vs in m1.items():\n",
    "        if k in m2:\n",
    "            for i, v1 in vs.items():\n",
    "                for j, v2 in m2[k].items():\n",
    "                    if (i, j) in res:\n",
    "                        res[i, j] += v1 * v2\n",
    "                    else:\n",
    "                        res[i, j] = v1 * v2\n",
    "\n",
    "    return res\n",
    "\n",
    "\n",
    "m1 = matrice_dicodico_lc(simple, ligne=False)\n",
    "m2 = matrice_dicodico_lc(simple)\n",
    "produit_elegant_rapide(m1, m2)"
   ]
  },
  {
   "cell_type": "code",
   "execution_count": 12,
   "metadata": {},
   "outputs": [
    {
     "data": {
      "text/plain": [
       "{(0, 1): 1, (0, 0): 1, (1, 1): 2, (1, 0): 1, (2, 1): 2, (2, 0): 1, (2, 2): 0}"
      ]
     },
     "execution_count": 12,
     "metadata": {},
     "output_type": "execute_result"
    }
   ],
   "source": [
    "m1 = matrice_dicodico_lc(mat, ligne=False)\n",
    "m2 = matrice_dicodico_lc(mat)\n",
    "produit_elegant_rapide(m1, m2)"
   ]
  },
  {
   "cell_type": "markdown",
   "metadata": {},
   "source": [
    "On mesure le temps avec une grande matrice."
   ]
  },
  {
   "cell_type": "code",
   "execution_count": 13,
   "metadata": {},
   "outputs": [
    {
     "name": "stdout",
     "output_type": "stream",
     "text": [
      "2.66 ms ± 509 µs per loop (mean ± std. dev. of 7 runs, 100 loops each)\n"
     ]
    }
   ],
   "source": [
    "m1 = matrice_dicodico_lc(bigmat, ligne=False)\n",
    "m2 = matrice_dicodico_lc(bigmat)\n",
    "%timeit produit_elegant_rapide(m1, m2)"
   ]
  },
  {
   "cell_type": "markdown",
   "metadata": {},
   "source": [
    "Beaucoup plus rapide, il n'y a plus besoin de tester les coefficients non nuls. La comparaison n'est pas très juste néanmoins car il faut transformer les deux matrices avant de faire le calcul. Et si on l'incluait ?"
   ]
  },
  {
   "cell_type": "code",
   "execution_count": 14,
   "metadata": {},
   "outputs": [
    {
     "data": {
      "text/plain": [
       "{(0, 0): 1, (1, 1): 1}"
      ]
     },
     "execution_count": 14,
     "metadata": {},
     "output_type": "execute_result"
    }
   ],
   "source": [
    "def produit_elegant_rapide_transformation(mat1, mat2):\n",
    "    m1 = matrice_dicodico_lc(mat1, ligne=False)\n",
    "    m2 = matrice_dicodico_lc(mat2)\n",
    "    return produit_elegant_rapide(m1, m2)\n",
    "\n",
    "\n",
    "produit_elegant_rapide_transformation(simple, simple)"
   ]
  },
  {
   "cell_type": "code",
   "execution_count": 15,
   "metadata": {},
   "outputs": [
    {
     "name": "stdout",
     "output_type": "stream",
     "text": [
      "2.97 ms ± 251 µs per loop (mean ± std. dev. of 7 runs, 100 loops each)\n"
     ]
    }
   ],
   "source": [
    "%timeit produit_elegant_rapide_transformation(bigmat, bigmat)"
   ]
  },
  {
   "cell_type": "markdown",
   "metadata": {},
   "source": [
    "Finalement ça vaut le coup... mais est-ce le cas pour toutes les matrices."
   ]
  },
  {
   "cell_type": "code",
   "execution_count": 16,
   "metadata": {},
   "outputs": [],
   "source": [
    "%matplotlib inline"
   ]
  },
  {
   "cell_type": "code",
   "execution_count": 17,
   "metadata": {},
   "outputs": [
    {
     "name": "stdout",
     "output_type": "stream",
     "text": [
      "{'dicodico': 0.008358499999303604, 'ratio': 0.1, 'dico': 0.10761350000029779, 'classique': 0.2080854999985604}\n",
      "{'dicodico': 0.011978200000157813, 'ratio': 0.2, 'dico': 0.28018710000105784, 'classique': 0.28202239999882295}\n",
      "{'dicodico': 0.06322960000034072, 'ratio': 0.3, 'dico': 0.7310262999999395, 'classique': 0.21729559999948833}\n",
      "{'dicodico': 0.04302850000021863, 'ratio': 0.4, 'classique': 0.25215659999958007}\n",
      "{'dicodico': 0.06354410000130883, 'ratio': 0.5, 'classique': 0.24071189999813214}\n",
      "{'dicodico': 0.08784929999819724, 'ratio': 0.6, 'classique': 0.23844240000107675}\n",
      "{'dicodico': 0.13118289999692934, 'ratio': 0.7, 'classique': 0.2613874999988184}\n",
      "{'dicodico': 0.21261740000045393, 'ratio': 0.8, 'classique': 0.2777879999994184}\n",
      "{'dicodico': 0.22135960000014165, 'ratio': 0.9, 'classique': 0.2984610000021348}\n",
      "{'dicodico': 0.27173079999920446, 'ratio': 0.99, 'classique': 0.28927499999917927}\n"
     ]
    }
   ],
   "source": [
    "import time\n",
    "\n",
    "mesures = []\n",
    "\n",
    "for ratio in [0.1, 0.2, 0.3, 0.4, 0.5, 0.6, 0.7, 0.8, 0.9, 0.99]:\n",
    "    big = random_matrix(100, 100, ratio=ratio)\n",
    "\n",
    "    t1 = time.perf_counter()\n",
    "    produit_elegant_rapide_transformation(big, big)\n",
    "    t2 = time.perf_counter()\n",
    "    dt = t2 - t1\n",
    "    obs = {\"dicodico\": dt, \"ratio\": ratio}\n",
    "\n",
    "    if ratio <= 0.3:\n",
    "        # après c'est trop lent\n",
    "        t1 = time.perf_counter()\n",
    "        produit_elegant(big, big)\n",
    "        t2 = time.perf_counter()\n",
    "        dt = t2 - t1\n",
    "        obs[\"dico\"] = dt\n",
    "\n",
    "    t1 = time.perf_counter()\n",
    "    produit_classique(big, big)\n",
    "    t2 = time.perf_counter()\n",
    "    dt = t2 - t1\n",
    "    obs[\"classique\"] = dt\n",
    "\n",
    "    mesures.append(obs)\n",
    "    print(obs)"
   ]
  },
  {
   "cell_type": "code",
   "execution_count": 18,
   "metadata": {},
   "outputs": [
    {
     "data": {
      "image/png": "[encoded data removed]",
      "text/plain": [
       "<Figure size 640x480 with 1 Axes>"
      ]
     },
     "metadata": {},
     "output_type": "display_data"
    }
   ],
   "source": [
    "from pandas import DataFrame\n",
    "\n",
    "df = DataFrame(mesures)\n",
    "ax = df.plot(x=\"ratio\", y=\"dicodico\", label=\"dico dico\")\n",
    "df.plot(x=\"ratio\", y=\"dico\", label=\"dico\", ax=ax)\n",
    "df.plot(x=\"ratio\", y=\"classique\", label=\"classique\", ax=ax)\n",
    "ax.legend();"
   ]
  },
  {
   "cell_type": "markdown",
   "metadata": {},
   "source": [
    "Cette dernière version est efficace."
   ]
  },
  {
   "cell_type": "code",
   "execution_count": null,
   "metadata": {},
   "outputs": [],
   "source": []
  }
 ],
 "metadata": {
  "kernelspec": {
   "display_name": "Python 3",
   "language": "python",
   "name": "python3"
  },
  "language_info": {
   "codemirror_mode": {
    "name": "ipython",
    "version": 3
   },
   "file_extension": ".py",
   "mimetype": "text/x-python",
   "name": "python",
   "nbconvert_exporter": "python",
   "pygments_lexer": "ipython3",
   "version": "3.10.12"
  }
 },
 "nbformat": 4,
 "nbformat_minor": 2
}