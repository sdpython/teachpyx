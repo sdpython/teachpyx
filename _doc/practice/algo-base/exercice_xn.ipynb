{
 "cells": [
  {
   "cell_type": "markdown",
   "metadata": {},
   "source": [
    "# Calculer x**n le plus rapidement possible\n",
    "\n",
    "C'est un exercice courant lors des entretiens d'embauche. Il faut savoir ce qu'est la dichotomie et la notation binaire d'un nombre."
   ]
  },
  {
   "cell_type": "markdown",
   "metadata": {},
   "source": [
    "### Enoncé"
   ]
  },
  {
   "cell_type": "markdown",
   "metadata": {},
   "source": [
    "Comme $n$ est entier, la façon la plus simple est de calculer $x \\times x \\times ... \\times x$ mais existe-t-il plus rapide que cela ?"
   ]
  },
  {
   "cell_type": "markdown",
   "metadata": {},
   "source": [
    "### Solution"
   ]
  },
  {
   "cell_type": "markdown",
   "metadata": {},
   "source": [
    "L'idée de départ consiste à écrire $x^{2n}=(x^n)^2$. En extrapolant, on en déduit que si $n=2^k$, alors le coût du calcul de $x^n$ consistera en $k$ itérations en on $2^k$."
   ]
  },
  {
   "cell_type": "code",
   "execution_count": 1,
   "metadata": {},
   "outputs": [
    {
     "name": "stdout",
     "output_type": "stream",
     "text": [
      "2^(2^0)=2^1=2\n",
      "2^(2^1)=2^2=4\n",
      "2^(2^2)=2^4=16\n",
      "2^(2^3)=2^8=256\n"
     ]
    }
   ],
   "source": [
    "def puissance2k(x, k):\n",
    "    while k > 0:\n",
    "        x *= x\n",
    "        k -= 1\n",
    "    return x\n",
    "\n",
    "\n",
    "for i in range(0, 4):\n",
    "    print(\"2^(2^{0})=2^{1}={2}\".format(i, 2**i, puissance2k(2, i)))"
   ]
  },
  {
   "cell_type": "markdown",
   "metadata": {},
   "source": [
    "Lorsque $n$ n'est pas une puissance de 2, il suffit que le décomposer en écriture binaire. Si $n = \\sum_k a_k 2^k$, avec $a_k \\in \\{0,1\\}$, alors $x^n = \\prod_k x^{a_k 2^k}$."
   ]
  },
  {
   "cell_type": "code",
   "execution_count": 2,
   "metadata": {},
   "outputs": [
    {
     "name": "stdout",
     "output_type": "stream",
     "text": [
      "2^0=1\n",
      "2^1=2\n",
      "2^2=4\n",
      "2^3=8\n",
      "2^4=16\n",
      "2^5=32\n",
      "2^6=64\n",
      "2^7=128\n",
      "2^8=256\n"
     ]
    }
   ],
   "source": [
    "def puissance(x, n):\n",
    "    r = 1\n",
    "    while n > 0:\n",
    "        if n % 2 == 1:\n",
    "            r *= x\n",
    "        x *= x\n",
    "        n //= 2\n",
    "    return r\n",
    "\n",
    "\n",
    "for i in range(0, 9):\n",
    "    print(\"2^{0}={1}\".format(i, puissance(2, i)))"
   ]
  },
  {
   "cell_type": "code",
   "execution_count": null,
   "metadata": {
    "collapsed": true
   },
   "outputs": [],
   "source": []
  }
 ],
 "metadata": {
  "kernelspec": {
   "display_name": "Python 3 (ipykernel)",
   "language": "python",
   "name": "python3"
  },
  "language_info": {
   "codemirror_mode": {
    "name": "ipython",
    "version": 3
   },
   "file_extension": ".py",
   "mimetype": "text/x-python",
   "name": "python",
   "nbconvert_exporter": "python",
   "pygments_lexer": "ipython3",
   "version": "3.10.6"
  }
 },
 "nbformat": 4,
 "nbformat_minor": 1
}