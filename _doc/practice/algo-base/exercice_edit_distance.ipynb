{
 "cells": [
  {
   "cell_type": "markdown",
   "metadata": {},
   "source": [
    "# Distance d'édition\n",
    "\n",
    "La distance d'édition ou distance de [Levenshtein](https://en.wikipedia.org/wiki/Levenshtein_distance) permet de calculer une distance entre deux mots et par extension entre deux séquences."
   ]
  },
  {
   "cell_type": "code",
   "execution_count": 1,
   "metadata": {},
   "outputs": [],
   "source": [
    "%matplotlib inline"
   ]
  },
  {
   "cell_type": "markdown",
   "metadata": {},
   "source": [
    "## Enoncé\n"
   ]
  },
  {
   "cell_type": "markdown",
   "metadata": {},
   "source": [
    "### Q1 : Distance simple entre deux mots de même longueur\n",
    "\n",
    "Une distance entre deux mots... c'est plus simple si les deux mots ont la même longueur, on calcule le nombre de différences."
   ]
  },
  {
   "cell_type": "code",
   "execution_count": null,
   "metadata": {},
   "outputs": [],
   "source": []
  },
  {
   "cell_type": "markdown",
   "metadata": {},
   "source": [
    "### Q2 : Distance simple entre deux mots de longueur différente\n",
    "\n",
    "On construit cette distance comme la différence des longueurs + la distance entre le mot le plus court et toutes les sous-séquences de même longueur issues de la chaîne la plus longue."
   ]
  },
  {
   "cell_type": "code",
   "execution_count": null,
   "metadata": {},
   "outputs": [],
   "source": []
  },
  {
   "cell_type": "markdown",
   "metadata": {},
   "source": [
    "### Q3 : Distance alambiquée...\n",
    "\n",
    "Cette fois-ci, on coupe chacun des deux mots en deux, au hasard. On applique la distance précédente sur chacun des deux tronçons. On fait la somme. Il ne reste plus qu'à minimiser cette somme sur l'ensemble des coupures possibles."
   ]
  },
  {
   "cell_type": "code",
   "execution_count": null,
   "metadata": {},
   "outputs": [],
   "source": []
  },
  {
   "cell_type": "markdown",
   "metadata": {},
   "source": [
    "### Q4 : implémenter l'algorithme de la page wikipedia\n",
    "\n",
    "[Levenshtein](https://fr.wikipedia.org/wiki/Distance_de_Levenshtein)"
   ]
  },
  {
   "cell_type": "code",
   "execution_count": null,
   "metadata": {},
   "outputs": [],
   "source": []
  },
  {
   "cell_type": "code",
   "execution_count": null,
   "metadata": {},
   "outputs": [],
   "source": []
  },
  {
   "cell_type": "markdown",
   "metadata": {},
   "source": [
    "## Réponses"
   ]
  },
  {
   "cell_type": "markdown",
   "metadata": {},
   "source": [
    "### Q1 : Distance simple entre deux mots de même longueur\n",
    "\n",
    "Une distance entre deux mots... c'est plus simple si les deux mots ont la même longueur, on calcule le nombre de différences."
   ]
  },
  {
   "cell_type": "code",
   "execution_count": 2,
   "metadata": {},
   "outputs": [
    {
     "data": {
      "text/plain": [
       "2"
      ]
     },
     "execution_count": 2,
     "metadata": {},
     "output_type": "execute_result"
    }
   ],
   "source": [
    "def distance_meme_longueur(m1, m2):\n",
    "    if len(m1) != len(m2):\n",
    "        raise ValueError(\"m1 et m2 sont de longueurs différentes\")\n",
    "    d = 0\n",
    "    for c1, c2 in zip(m1, m2):\n",
    "        if c1 != c2:\n",
    "            d += 1\n",
    "    return d\n",
    "\n",
    "\n",
    "distance_meme_longueur(\"abcef\", \"abcde\")"
   ]
  },
  {
   "cell_type": "markdown",
   "metadata": {},
   "source": [
    "On vérifie que la fonctionne jette bien une exception lorsque les chaînes de caractères sont de longueurs différentes."
   ]
  },
  {
   "cell_type": "code",
   "execution_count": 3,
   "metadata": {},
   "outputs": [
    {
     "name": "stdout",
     "output_type": "stream",
     "text": [
      "m1 et m2 sont de longueurs différentes\n"
     ]
    }
   ],
   "source": [
    "try:\n",
    "    distance_meme_longueur(\"a\", \"bb\")\n",
    "except Exception as e:\n",
    "    print(e)"
   ]
  },
  {
   "cell_type": "markdown",
   "metadata": {},
   "source": [
    "### Q2 : Distance simple entre deux mots de longueur différente\n",
    "\n",
    "On construit cette distance comme la différence des longueurs + la distance entre le mot le plus court et toutes les sous-séquences de même longueur issues de la chaîne la plus longue."
   ]
  },
  {
   "cell_type": "code",
   "execution_count": 4,
   "metadata": {},
   "outputs": [
    {
     "data": {
      "text/plain": [
       "(0, 1, 3)"
      ]
     },
     "execution_count": 4,
     "metadata": {},
     "output_type": "execute_result"
    }
   ],
   "source": [
    "def distance(m1, m2):\n",
    "    if len(m1) < len(m2):\n",
    "        return distance(m2, m1)\n",
    "    if len(m1) == len(m2):\n",
    "        return distance_meme_longueur(m1, m2)\n",
    "    d = len(m1) - len(m2)\n",
    "    mind = [distance_meme_longueur(m1[i : i + len(m2)], m2) for i in range(0, d)]\n",
    "    return d + min(mind)\n",
    "\n",
    "\n",
    "distance(\"aa\", \"aa\"), distance(\"aa\", \"aaa\"), distance(\"aa\", \"bbb\")"
   ]
  },
  {
   "cell_type": "markdown",
   "metadata": {},
   "source": [
    "### Q3 : Distance alambiquée...\n",
    "\n",
    "Cette fois-ci, on coupe chacun des deux mots en deux, au hasard. On applique la distance précédente sur chacun des deux tronçons. On fait la somme. Il ne reste plus qu'à minimiser cette somme sur l'ensemble des coupures possibles."
   ]
  },
  {
   "cell_type": "code",
   "execution_count": 5,
   "metadata": {},
   "outputs": [
    {
     "data": {
      "text/plain": [
       "(2, 1, 1.5, 0)"
      ]
     },
     "execution_count": 5,
     "metadata": {},
     "output_type": "execute_result"
    }
   ],
   "source": [
    "def distance_alambiquee(m1, m2):\n",
    "    mini = None\n",
    "    for i in range(len(m1)):\n",
    "        for j in range(len(m2)):\n",
    "            d = distance(m1[:i], m2[:j]) + distance(m1[i:], m2[j:])\n",
    "            if mini is None or d < mini:\n",
    "                mini = d\n",
    "            # Option verlan\n",
    "            d = distance(m1[:i], m2[j:]) + distance(m1[i:], m2[:j]) + 0.5\n",
    "            if d < mini:\n",
    "                mini = d\n",
    "    return mini\n",
    "\n",
    "\n",
    "(\n",
    "    distance(\"abc\", \"ac\"),\n",
    "    distance_alambiquee(\"abc\", \"ac\"),\n",
    "    distance_alambiquee(\"abc\", \"ca\"),\n",
    "    distance_alambiquee(\"b\", \"b\"),\n",
    ")"
   ]
  },
  {
   "cell_type": "code",
   "execution_count": null,
   "metadata": {},
   "outputs": [],
   "source": []
  },
  {
   "cell_type": "markdown",
   "metadata": {},
   "source": [
    "### Q4 : implémenter l'algorithme de la page wikipedia\n",
    "\n",
    "[Levenshtein](https://fr.wikipedia.org/wiki/Distance_de_Levenshtein)\n",
    "\n",
    "La première implémentation reprend l'algorithme décrit sur la page wikipédia."
   ]
  },
  {
   "cell_type": "code",
   "execution_count": 6,
   "metadata": {},
   "outputs": [
    {
     "data": {
      "text/plain": [
       "1"
      ]
     },
     "execution_count": 6,
     "metadata": {},
     "output_type": "execute_result"
    }
   ],
   "source": [
    "def levenstein(m1, m2):\n",
    "    d = {}\n",
    "    d[0, 0] = 0\n",
    "    for i in range(len(m1) + 1):\n",
    "        d[i, 0] = i\n",
    "    for j in range(len(m2) + 1):\n",
    "        d[0, j] = j\n",
    "    for i in range(1, len(m1) + 1):\n",
    "        for j in range(1, len(m2) + 1):\n",
    "            d[i, j] = min(\n",
    "                d[i - 1, j] + 1,\n",
    "                d[i, j - 1] + 1,\n",
    "                d[i - 1, j - 1] + (1 if m1[i - 1] != m2[j - 1] else 0),\n",
    "            )\n",
    "    return d[len(m1), len(m2)]\n",
    "\n",
    "\n",
    "levenstein(\"abc\", \"ac\")"
   ]
  },
  {
   "cell_type": "markdown",
   "metadata": {},
   "source": [
    "La seconde version est plus alambiquée, elle modifie légèrement la version alambiquée. C'est une version récursive."
   ]
  },
  {
   "cell_type": "code",
   "execution_count": 7,
   "metadata": {},
   "outputs": [
    {
     "data": {
      "text/plain": [
       "(3, 2, 2)"
      ]
     },
     "execution_count": 7,
     "metadata": {},
     "output_type": "execute_result"
    }
   ],
   "source": [
    "def distance_alambiquee_levenstein(m1, m2):\n",
    "    mini = None\n",
    "    for i in range(len(m1)):\n",
    "        for j in range(len(m2)):\n",
    "            if i > 0 and i < len(m1) - 1 and j > 0 and j < len(m2) - 1:\n",
    "                d1 = distance_alambiquee_levenstein(m1[:i], m2[:j])\n",
    "                d2 = distance_alambiquee_levenstein(m1[i:], m2[j:])\n",
    "            else:\n",
    "                d1 = distance(m1[:i], m2[:j])\n",
    "                d2 = distance(m1[i:], m2[j:])\n",
    "            d = d1 + d2\n",
    "            if mini is None or d < mini:\n",
    "                mini = d\n",
    "    return mini\n",
    "\n",
    "\n",
    "(\n",
    "    distance_alambiquee(\"abcde\", \"ace\"),\n",
    "    levenstein(\"abcde\", \"ace\"),\n",
    "    distance_alambiquee_levenstein(\"abcde\", \"ace\"),\n",
    ")"
   ]
  },
  {
   "cell_type": "code",
   "execution_count": null,
   "metadata": {},
   "outputs": [],
   "source": []
  }
 ],
 "metadata": {
  "kernelspec": {
   "display_name": "Python 3",
   "language": "python",
   "name": "python3"
  },
  "language_info": {
   "codemirror_mode": {
    "name": "ipython",
    "version": 3
   },
   "file_extension": ".py",
   "mimetype": "text/x-python",
   "name": "python",
   "nbconvert_exporter": "python",
   "pygments_lexer": "ipython3",
   "version": "3.10.12"
  }
 },
 "nbformat": 4,
 "nbformat_minor": 2
}