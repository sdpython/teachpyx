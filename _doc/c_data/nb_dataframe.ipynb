{
 "cells": [
  {
   "cell_type": "markdown",
   "metadata": {},
   "source": [
    "# DataFrame et Graphes\n",
    "\n",
    "Les [Dataframe](https://fr.wikipedia.org/wiki/Pandas) se sont imposés pour manipuler les données. Avec cette façon de représenter les données, associée à des méthodes couramment utilisées, ce qu'on faisait en une ou deux boucles se fait maintenant en une seule fonction. Le module [pandas](http://pandas.pydata.org/) est très utilisé, il existe de nombreux [tutoriels](http://pandas.pydata.org/pandas-docs/stable/tutorials.html), ou page de recettes pour les usages les plus fréquents : [cookbook](http://pandas.pydata.org/pandas-docs/stable/cookbook.html#cookbook)."
   ]
  },
  {
   "cell_type": "code",
   "execution_count": 1,
   "metadata": {
    "collapsed": true
   },
   "outputs": [],
   "source": [
    "%matplotlib inline\n",
    "# Cette première instruction indique à Jupyter d'insérer les graphiques\n",
    "# dans le notebook plutôt que dans une fenêtre externe.\n",
    "import matplotlib.pyplot as plt"
   ]
  },
  {
   "cell_type": "markdown",
   "metadata": {},
   "source": [
    "La première instruction ``%matplotlib`` est spécifique aux notebooks. Sans cela, les graphiques ne sont pas insérées dans la page elle-même mais cela ne s'applique qu'aux notebooks et provoquera une erreur sur [Spyder](https://github.com/spyder-ide/spyder) par exemple."
   ]
  },
  {
   "cell_type": "markdown",
   "metadata": {},
   "source": [
    "## DataFrame\n",
    "\n",
    "Pour faire court, c'est l'équivalent d'une feuille Excel ou d'une table SQL.\n",
    "\n",
    "**Taille de DataFrame**\n",
    "\n",
    "Les DataFrame en Python sont assez rapides lorsqu'il y a moins de 10 millions d'observations et que le fichier texte qui décrit les données n'est pas plus gros que 10 Mo. Au delà, il faut soit être patient, soit être astucieux, utiliser sqllite et passer au SQL ou parcourir les données en streaming.\n",
    "\n",
    "**Valeurs manquantes**\n",
    "\n",
    "Lorsqu'on récupère des données, il peut arriver qu'une valeur soit manquante ([Working with missing data](http://pandas.pydata.org/pandas-docs/dev/missing_data.html))."
   ]
  },
  {
   "cell_type": "code",
   "execution_count": 2,
   "metadata": {},
   "outputs": [
    {
     "data": {
      "image/png": "[encoded data removed]",
      "text/plain": [
       "<IPython.core.display.Image object>"
      ]
     },
     "execution_count": 2,
     "metadata": {},
     "output_type": "execute_result"
    }
   ],
   "source": [
    "from IPython.display import Image\n",
    "\n",
    "Image(\"td2df.png\")"
   ]
  },
  {
   "cell_type": "markdown",
   "metadata": {},
   "source": [
    "Pour manipuler les dataframe, on utilise le module [pandas](http://pandas.pydata.org/). Il est prévu pour manipuler les données d'une table par **bloc** (une sous-table). Tant qu'on manipule des blocs, le module est rapide."
   ]
  },
  {
   "cell_type": "markdown",
   "metadata": {},
   "source": [
    "### Series\n",
    "\n",
    "Une [Series](http://pandas.pydata.org/pandas-docs/stable/generated/pandas.Series.html) est un objet uni-dimensionnel similaire à un tableau, une liste ou une colonne d'une table. Chaque valeur est associée à un **index** qui est par défaut les entiers de 0 à $N-1$ (avec $N$ la longueur de la [Series](http://pandas.pydata.org/pandas-docs/stable/generated/pandas.Series.html))."
   ]
  },
  {
   "cell_type": "code",
   "execution_count": 3,
   "metadata": {},
   "outputs": [
    {
     "data": {
      "text/plain": [
       "0              42\n",
       "1    Hello World!\n",
       "2            3.14\n",
       "3              -5\n",
       "4            None\n",
       "dtype: object"
      ]
     },
     "execution_count": 3,
     "metadata": {},
     "output_type": "execute_result"
    }
   ],
   "source": [
    "import pandas\n",
    "from pandas import Series\n",
    "import numpy\n",
    "\n",
    "s = Series([42, \"Hello World!\", 3.14, -5, None, numpy.nan])\n",
    "s.head()"
   ]
  },
  {
   "cell_type": "markdown",
   "metadata": {},
   "source": [
    "On peut aussi préciser les indices lors de la création, ou construire la [Series](http://pandas.pydata.org/pandas-docs/stable/generated/pandas.Series.html) à partir d'un dictionnaire si on fournit un index avec un dictionnaire, les index qui ne sont pas des clés du dictionnaire seront des valeurs manquantes."
   ]
  },
  {
   "cell_type": "code",
   "execution_count": 4,
   "metadata": {},
   "outputs": [
    {
     "data": {
      "text/plain": [
       "Paris14     75014\n",
       "Paris18     75018\n",
       "Malakoff    92240\n",
       "Nice         6300\n",
       "dtype: int64"
      ]
     },
     "execution_count": 4,
     "metadata": {},
     "output_type": "execute_result"
    }
   ],
   "source": [
    "s2 = Series(\n",
    "    [42, \"Hello World!\", 3.14, -5, None, numpy.nan],\n",
    "    index=[\"int\", \"string\", \"pi\", \"neg\", \"missing1\", \"missing2\"],\n",
    ")\n",
    "city2cp_dict = {\"Paris14\": 75014, \"Paris18\": 75018, \"Malakoff\": 92240, \"Nice\": 6300}\n",
    "cities = Series(city2cp_dict)\n",
    "cities"
   ]
  },
  {
   "cell_type": "markdown",
   "metadata": {},
   "source": [
    "Quelques liens pour comprendre le code suivant : [Series.isnull](http://pandas.pydata.org/pandas-docs/stable/generated/pandas.Series.isnull.html), [Series.notnull](http://pandas.pydata.org/pandas-docs/stable/generated/pandas.Series.notnull.html)."
   ]
  },
  {
   "cell_type": "code",
   "execution_count": 5,
   "metadata": {},
   "outputs": [
    {
     "data": {
      "text/plain": [
       "Paris12     False\n",
       "Paris14      True\n",
       "Paris18      True\n",
       "Malakoff     True\n",
       "Nice         True\n",
       "Vanves      False\n",
       "dtype: bool"
      ]
     },
     "execution_count": 5,
     "metadata": {},
     "output_type": "execute_result"
    }
   ],
   "source": [
    "cities_list = [\"Paris12\"] + list(city2cp_dict.keys()) + [\"Vanves\"]\n",
    "cities2 = Series(city2cp_dict, index=cities_list)\n",
    "pandas.isnull(cities2)  # same as cities2.isnull()\n",
    "pandas.notnull(cities2)"
   ]
  },
  {
   "cell_type": "markdown",
   "metadata": {},
   "source": [
    "On peut se servir de l'index pour sélectionner une ou plusieurs valeurs de la [Series](http://pandas.pydata.org/pandas-docs/stable/generated/pandas.Series.html), éventuellement pour en changer la valeur. On peut aussi appliquer des opérations mathématiques, filtrer avec un booléen, ou encore tester la présence d'un élement."
   ]
  },
  {
   "cell_type": "code",
   "execution_count": 6,
   "metadata": {},
   "outputs": [
    {
     "data": {
      "text/plain": [
       "Paris12     75.0\n",
       "Paris14     75.0\n",
       "Paris18     75.0\n",
       "Malakoff    92.0\n",
       "Nice         6.0\n",
       "Vanves       NaN\n",
       "dtype: float64"
      ]
     },
     "execution_count": 6,
     "metadata": {},
     "output_type": "execute_result"
    }
   ],
   "source": [
    "cities2[\"Nice\"]  # renvoie un scalaire\n",
    "cities2[[\"Malakoff\", \"Paris14\"]]  # renvoie une Series\n",
    "cities2[\"Paris12\"] = 75012\n",
    "dep = cities2 // 1000  # // pour une division entière\n",
    "dep"
   ]
  },
  {
   "cell_type": "markdown",
   "metadata": {},
   "source": [
    "[pandas](http://pandas.pydata.org/) aligne automatiquement les données en utilisant l'index des [Series](http://pandas.pydata.org/pandas-docs/stable/generated/pandas.Series.html) lorsqu'on fait une opération sur des series."
   ]
  },
  {
   "cell_type": "code",
   "execution_count": 7,
   "metadata": {},
   "outputs": [
    {
     "name": "stdout",
     "output_type": "stream",
     "text": [
      "Paris14 True\n",
      "Paris13 False\n"
     ]
    }
   ],
   "source": [
    "cities2[dep == 75]\n",
    "\n",
    "print(\"Paris14\", \"Paris14\" in cities2)\n",
    "print(\"Paris13\", \"Paris13\" in cities2)"
   ]
  },
  {
   "cell_type": "code",
   "execution_count": 8,
   "metadata": {},
   "outputs": [
    {
     "data": {
      "text/plain": [
       "Malakoff    184480.0\n",
       "Nice         12600.0\n",
       "Paris12          NaN\n",
       "Paris14     150028.0\n",
       "Paris18     150036.0\n",
       "Vanves           NaN\n",
       "dtype: float64"
      ]
     },
     "execution_count": 8,
     "metadata": {},
     "output_type": "execute_result"
    }
   ],
   "source": [
    "# print(cities)\n",
    "# print(cities2)\n",
    "cities + cities2"
   ]
  },
  {
   "cell_type": "markdown",
   "metadata": {},
   "source": [
    "*pandas* garde les lignes communes aux deux tables et additionnent les colonnes portant le même nom. On peut nommer la [Series](http://pandas.pydata.org/pandas-docs/stable/generated/pandas.Series.html), ses index et même assigner un nouvel index à une [Series](http://pandas.pydata.org/pandas-docs/stable/generated/pandas.Series.html) existante."
   ]
  },
  {
   "cell_type": "code",
   "execution_count": 9,
   "metadata": {},
   "outputs": [
    {
     "name": "stdout",
     "output_type": "stream",
     "text": [
      "Ville\n",
      "Paris12     75012.0\n",
      "Paris14     75014.0\n",
      "Paris18     75018.0\n",
      "Malakoff    92240.0\n",
      "Nice         6300.0\n",
      "Vanves          NaN\n",
      "Name: Code Postal, dtype: float64\n",
      "-------------\n",
      "0              42\n",
      "1    Hello World!\n",
      "2            3.14\n",
      "3              -5\n",
      "4            None\n",
      "5             NaN\n",
      "dtype: object\n"
     ]
    }
   ],
   "source": [
    "cities2.name = \"Code Postal\"\n",
    "cities2.index.name = \"Ville\"\n",
    "print(cities2)\n",
    "print(\"-------------\")\n",
    "s2.index = range(6)\n",
    "print(s2)"
   ]
  },
  {
   "cell_type": "markdown",
   "metadata": {},
   "source": [
    "## DataFrame (pandas)\n",
    "\n",
    "**Quelques liens :** [An Introduction to Pandas](http://synesthesiam.com/posts/an-introduction-to-pandas.html)\n",
    "\n",
    "Un [DataFrame](http://en.wikipedia.org/wiki/Data_frame) est un objet qui est présent dans la plupart des logiciels de traitements de données, c'est une **matrice**, chaque colonne est une [Series](http://pandas.pydata.org/pandas-docs/stable/generated/pandas.Series.html) et est de même type (nombre, date, texte), elle peut contenir des valeurs manquantes ([nan](http://docs.scipy.org/doc/numpy/user/misc.html)). On peut considérer chaque colonne comme les variables d'une table ([pandas.Dataframe](http://pandas.pydata.org/pandas-docs/dev/generated/pandas.DataFrame.html) - cette page contient toutes les méthodes de la classe).\n",
    "\n",
    "Un [Dataframe](http://pandas.pydata.org/pandas-docs/dev/generated/pandas.DataFrame.html) représente une table de données, i.e. une collection ordonnées de colonnes.\n",
    "Ces colonnes/lignes peuvent avoir des types différents (numérique, string, boolean).\n",
    "Cela est très similaire aux [DataFrame](http://www.r-tutor.com/r-introduction/data-frame) du langage R (en apparence...), avec un traitement plus symétrique des lignes et des colonnes."
   ]
  },
  {
   "cell_type": "code",
   "execution_count": 10,
   "metadata": {},
   "outputs": [
    {
     "data": {
      "text/html": [
       "<div>\n",
       "<style scoped>\n",
       "    .dataframe tbody tr th:only-of-type {\n",
       "        vertical-align: middle;\n",
       "    }\n",
       "\n",
       "    .dataframe tbody tr th {\n",
       "        vertical-align: top;\n",
       "    }\n",
       "\n",
       "    .dataframe thead th {\n",
       "        text-align: right;\n",
       "    }\n",
       "</style>\n",
       "<table border=\"1\" class=\"dataframe\">\n",
       "  <thead>\n",
       "    <tr style=\"text-align: right;\">\n",
       "      <th></th>\n",
       "      <th>date</th>\n",
       "      <th>prix</th>\n",
       "      <th>devise</th>\n",
       "    </tr>\n",
       "  </thead>\n",
       "  <tbody>\n",
       "    <tr>\n",
       "      <th>0</th>\n",
       "      <td>2014-06-22</td>\n",
       "      <td>220.0</td>\n",
       "      <td>euros</td>\n",
       "    </tr>\n",
       "    <tr>\n",
       "      <th>1</th>\n",
       "      <td>2014-06-23</td>\n",
       "      <td>221.0</td>\n",
       "      <td>euros</td>\n",
       "    </tr>\n",
       "  </tbody>\n",
       "</table>\n",
       "</div>"
      ],
      "text/plain": [
       "         date   prix devise\n",
       "0  2014-06-22  220.0  euros\n",
       "1  2014-06-23  221.0  euros"
      ]
     },
     "execution_count": 10,
     "metadata": {},
     "output_type": "execute_result"
    }
   ],
   "source": [
    "import pandas\n",
    "\n",
    "l = [\n",
    "    {\"date\": \"2014-06-22\", \"prix\": 220.0, \"devise\": \"euros\"},\n",
    "    {\"date\": \"2014-06-23\", \"prix\": 221.0, \"devise\": \"euros\"},\n",
    "]\n",
    "df = pandas.DataFrame(l)\n",
    "df"
   ]
  },
  {
   "cell_type": "markdown",
   "metadata": {},
   "source": [
    "Avec une valeur manquante :"
   ]
  },
  {
   "cell_type": "code",
   "execution_count": 11,
   "metadata": {},
   "outputs": [
    {
     "data": {
      "text/html": [
       "<div>\n",
       "<style scoped>\n",
       "    .dataframe tbody tr th:only-of-type {\n",
       "        vertical-align: middle;\n",
       "    }\n",
       "\n",
       "    .dataframe tbody tr th {\n",
       "        vertical-align: top;\n",
       "    }\n",
       "\n",
       "    .dataframe thead th {\n",
       "        text-align: right;\n",
       "    }\n",
       "</style>\n",
       "<table border=\"1\" class=\"dataframe\">\n",
       "  <thead>\n",
       "    <tr style=\"text-align: right;\">\n",
       "      <th></th>\n",
       "      <th>date</th>\n",
       "      <th>prix</th>\n",
       "      <th>devise</th>\n",
       "    </tr>\n",
       "  </thead>\n",
       "  <tbody>\n",
       "    <tr>\n",
       "      <th>0</th>\n",
       "      <td>2014-06-22</td>\n",
       "      <td>220.0</td>\n",
       "      <td>euros</td>\n",
       "    </tr>\n",
       "    <tr>\n",
       "      <th>1</th>\n",
       "      <td>2014-06-23</td>\n",
       "      <td>NaN</td>\n",
       "      <td>euros</td>\n",
       "    </tr>\n",
       "  </tbody>\n",
       "</table>\n",
       "</div>"
      ],
      "text/plain": [
       "         date   prix devise\n",
       "0  2014-06-22  220.0  euros\n",
       "1  2014-06-23    NaN  euros"
      ]
     },
     "execution_count": 11,
     "metadata": {},
     "output_type": "execute_result"
    }
   ],
   "source": [
    "l = [\n",
    "    {\"date\": \"2014-06-22\", \"prix\": 220.0, \"devise\": \"euros\"},\n",
    "    {\"date\": \"2014-06-23\", \"devise\": \"euros\"},\n",
    "]\n",
    "df = pandas.DataFrame(l)\n",
    "df"
   ]
  },
  {
   "cell_type": "markdown",
   "metadata": {},
   "source": [
    "[NaN](http://docs.scipy.org/doc/numpy/reference/generated/numpy.isnan.html#numpy.isnan) est une convention pour une valeur manquante. On extrait la variable ``prix`` :"
   ]
  },
  {
   "cell_type": "code",
   "execution_count": 12,
   "metadata": {},
   "outputs": [
    {
     "data": {
      "text/plain": [
       "0    220.0\n",
       "1      NaN\n",
       "Name: prix, dtype: float64"
      ]
     },
     "execution_count": 12,
     "metadata": {},
     "output_type": "execute_result"
    }
   ],
   "source": [
    "df.prix"
   ]
  },
  {
   "cell_type": "markdown",
   "metadata": {},
   "source": [
    "Ou :"
   ]
  },
  {
   "cell_type": "code",
   "execution_count": 13,
   "metadata": {},
   "outputs": [
    {
     "data": {
      "text/plain": [
       "0    220.0\n",
       "1      NaN\n",
       "Name: prix, dtype: float64"
      ]
     },
     "execution_count": 13,
     "metadata": {},
     "output_type": "execute_result"
    }
   ],
   "source": [
    "df[\"prix\"]"
   ]
  },
  {
   "cell_type": "markdown",
   "metadata": {},
   "source": [
    "Pour extraire plusieurs colonnes :"
   ]
  },
  {
   "cell_type": "code",
   "execution_count": 14,
   "metadata": {},
   "outputs": [
    {
     "data": {
      "text/html": [
       "<div>\n",
       "<style scoped>\n",
       "    .dataframe tbody tr th:only-of-type {\n",
       "        vertical-align: middle;\n",
       "    }\n",
       "\n",
       "    .dataframe tbody tr th {\n",
       "        vertical-align: top;\n",
       "    }\n",
       "\n",
       "    .dataframe thead th {\n",
       "        text-align: right;\n",
       "    }\n",
       "</style>\n",
       "<table border=\"1\" class=\"dataframe\">\n",
       "  <thead>\n",
       "    <tr style=\"text-align: right;\">\n",
       "      <th></th>\n",
       "      <th>date</th>\n",
       "      <th>prix</th>\n",
       "    </tr>\n",
       "  </thead>\n",
       "  <tbody>\n",
       "    <tr>\n",
       "      <th>0</th>\n",
       "      <td>2014-06-22</td>\n",
       "      <td>220.0</td>\n",
       "    </tr>\n",
       "    <tr>\n",
       "      <th>1</th>\n",
       "      <td>2014-06-23</td>\n",
       "      <td>NaN</td>\n",
       "    </tr>\n",
       "  </tbody>\n",
       "</table>\n",
       "</div>"
      ],
      "text/plain": [
       "         date   prix\n",
       "0  2014-06-22  220.0\n",
       "1  2014-06-23    NaN"
      ]
     },
     "execution_count": 14,
     "metadata": {},
     "output_type": "execute_result"
    }
   ],
   "source": [
    "df[[\"date\", \"prix\"]]"
   ]
  },
  {
   "cell_type": "markdown",
   "metadata": {},
   "source": [
    "Pour prendre la transposée (voir aussi [DataFrame.transpose](https://pandas.pydata.org/pandas-docs/stable/reference/api/pandas.DataFrame.transpose.html)) :"
   ]
  },
  {
   "cell_type": "code",
   "execution_count": 15,
   "metadata": {},
   "outputs": [
    {
     "data": {
      "text/html": [
       "<div>\n",
       "<style scoped>\n",
       "    .dataframe tbody tr th:only-of-type {\n",
       "        vertical-align: middle;\n",
       "    }\n",
       "\n",
       "    .dataframe tbody tr th {\n",
       "        vertical-align: top;\n",
       "    }\n",
       "\n",
       "    .dataframe thead th {\n",
       "        text-align: right;\n",
       "    }\n",
       "</style>\n",
       "<table border=\"1\" class=\"dataframe\">\n",
       "  <thead>\n",
       "    <tr style=\"text-align: right;\">\n",
       "      <th></th>\n",
       "      <th>0</th>\n",
       "      <th>1</th>\n",
       "    </tr>\n",
       "  </thead>\n",
       "  <tbody>\n",
       "    <tr>\n",
       "      <th>date</th>\n",
       "      <td>2014-06-22</td>\n",
       "      <td>2014-06-23</td>\n",
       "    </tr>\n",
       "    <tr>\n",
       "      <th>prix</th>\n",
       "      <td>220.0</td>\n",
       "      <td>NaN</td>\n",
       "    </tr>\n",
       "    <tr>\n",
       "      <th>devise</th>\n",
       "      <td>euros</td>\n",
       "      <td>euros</td>\n",
       "    </tr>\n",
       "  </tbody>\n",
       "</table>\n",
       "</div>"
      ],
      "text/plain": [
       "                 0           1\n",
       "date    2014-06-22  2014-06-23\n",
       "prix         220.0         NaN\n",
       "devise       euros       euros"
      ]
     },
     "execution_count": 15,
     "metadata": {},
     "output_type": "execute_result"
    }
   ],
   "source": [
    "df.T"
   ]
  },
  {
   "cell_type": "markdown",
   "metadata": {},
   "source": [
    "### Lecture et écriture de DataFrame\n",
    "\n",
    "Aujourd'hui, on n'a plus besoin de réécrire soi-même une fonction de lecture ou d'écriture de données présentées sous forme de tables. Il existe des fonctions plus génériques qui gère un grand nombre de cas.\n",
    "Cette section présente brièvement les fonctions qui permettent de lire/écrire un [DataFrame](http://en.wikipedia.org/wiki/Data_frame) aux formats [texte](http://fr.wikipedia.org/wiki/Fichier_texte)/[Excel](http://fr.wikipedia.org/wiki/Microsoft_Excel). On reprend l'exemple de section précédente. L'instruction ``encoding=utf-8`` n'est pas obligatoire mais conseillée lorsque les données contiennent des accents (voir [read_csv](https://pandas.pydata.org/pandas-docs/stable/reference/api/pandas.read_csv.html))."
   ]
  },
  {
   "cell_type": "code",
   "execution_count": 16,
   "metadata": {},
   "outputs": [
    {
     "name": "stdout",
     "output_type": "stream",
     "text": [
      "date\tprix\tdevise\n",
      "2014-06-22\t220.0\teuros\n",
      "2014-06-23\t221.0\teuros\n",
      "\n"
     ]
    },
    {
     "data": {
      "text/plain": [
       "['/bin/bash: line 1: exemple.xlsx: command not found']"
      ]
     },
     "execution_count": 16,
     "metadata": {},
     "output_type": "execute_result"
    }
   ],
   "source": [
    "import pandas\n",
    "\n",
    "l = [\n",
    "    {\"date\": \"2014-06-22\", \"prix\": 220.0, \"devise\": \"euros\"},\n",
    "    {\"date\": \"2014-06-23\", \"prix\": 221.0, \"devise\": \"euros\"},\n",
    "]\n",
    "df = pandas.DataFrame(l)\n",
    "\n",
    "# écriture au format texte\n",
    "df.to_csv(\"exemple.txt\", sep=\"\\t\", encoding=\"utf-8\", index=False)\n",
    "\n",
    "# on regarde ce qui a été enregistré\n",
    "with open(\"exemple.txt\", \"r\", encoding=\"utf-8\") as f:\n",
    "    text = f.read()\n",
    "print(text)\n",
    "\n",
    "# on enregistre au format Excel\n",
    "df.to_excel(\"exemple.xlsx\", index=False)\n",
    "\n",
    "# special jupyter - notebook\n",
    "%system \"exemple.xlsx\""
   ]
  },
  {
   "cell_type": "markdown",
   "metadata": {},
   "source": [
    "On peut récupérer des données directement depuis Internet ou une chaîne de caractères et afficher le début ([head](https://pandas.pydata.org/pandas-docs/stable/reference/api/pandas.DataFrame.head.html)) ou la fin ([tail](https://pandas.pydata.org/pandas-docs/stable/reference/api/pandas.DataFrame.tail.html))."
   ]
  },
  {
   "cell_type": "code",
   "execution_count": 17,
   "metadata": {},
   "outputs": [
    {
     "data": {
      "text/html": [
       "<div>\n",
       "<style scoped>\n",
       "    .dataframe tbody tr th:only-of-type {\n",
       "        vertical-align: middle;\n",
       "    }\n",
       "\n",
       "    .dataframe tbody tr th {\n",
       "        vertical-align: top;\n",
       "    }\n",
       "\n",
       "    .dataframe thead th {\n",
       "        text-align: right;\n",
       "    }\n",
       "</style>\n",
       "<table border=\"1\" class=\"dataframe\">\n",
       "  <thead>\n",
       "    <tr style=\"text-align: right;\">\n",
       "      <th></th>\n",
       "      <th>ville</th>\n",
       "      <th>annee</th>\n",
       "      <th>temps</th>\n",
       "      <th>secondes</th>\n",
       "    </tr>\n",
       "  </thead>\n",
       "  <tbody>\n",
       "    <tr>\n",
       "      <th>0</th>\n",
       "      <td>PARIS</td>\n",
       "      <td>2011</td>\n",
       "      <td>02:06:29</td>\n",
       "      <td>7589</td>\n",
       "    </tr>\n",
       "    <tr>\n",
       "      <th>1</th>\n",
       "      <td>PARIS</td>\n",
       "      <td>2010</td>\n",
       "      <td>02:06:41</td>\n",
       "      <td>7601</td>\n",
       "    </tr>\n",
       "    <tr>\n",
       "      <th>2</th>\n",
       "      <td>PARIS</td>\n",
       "      <td>2009</td>\n",
       "      <td>02:05:47</td>\n",
       "      <td>7547</td>\n",
       "    </tr>\n",
       "    <tr>\n",
       "      <th>3</th>\n",
       "      <td>PARIS</td>\n",
       "      <td>2008</td>\n",
       "      <td>02:06:40</td>\n",
       "      <td>7600</td>\n",
       "    </tr>\n",
       "    <tr>\n",
       "      <th>4</th>\n",
       "      <td>PARIS</td>\n",
       "      <td>2007</td>\n",
       "      <td>02:07:17</td>\n",
       "      <td>7637</td>\n",
       "    </tr>\n",
       "  </tbody>\n",
       "</table>\n",
       "</div>"
      ],
      "text/plain": [
       "   ville  annee     temps  secondes\n",
       "0  PARIS   2011  02:06:29      7589\n",
       "1  PARIS   2010  02:06:41      7601\n",
       "2  PARIS   2009  02:05:47      7547\n",
       "3  PARIS   2008  02:06:40      7600\n",
       "4  PARIS   2007  02:07:17      7637"
      ]
     },
     "execution_count": 17,
     "metadata": {},
     "output_type": "execute_result"
    }
   ],
   "source": [
    "import pandas\n",
    "\n",
    "df = df_marathon = pandas.read_csv(\n",
    "    \"https://github.com/sdpython/teachpyx/raw/main/_data/marathon.txt\",\n",
    "    sep=\"\\t\",\n",
    "    names=[\"ville\", \"annee\", \"temps\", \"secondes\"],\n",
    ")\n",
    "df.head()"
   ]
  },
  {
   "cell_type": "markdown",
   "metadata": {},
   "source": [
    "La fonction [describe](http://pandas.pydata.org/pandas-docs/stable/generated/pandas.DataFrame.describe.html) permet d'en savoir un peu plus sur les colonnes numériques de cette table."
   ]
  },
  {
   "cell_type": "code",
   "execution_count": 18,
   "metadata": {},
   "outputs": [
    {
     "data": {
      "text/html": [
       "<div>\n",
       "<style scoped>\n",
       "    .dataframe tbody tr th:only-of-type {\n",
       "        vertical-align: middle;\n",
       "    }\n",
       "\n",
       "    .dataframe tbody tr th {\n",
       "        vertical-align: top;\n",
       "    }\n",
       "\n",
       "    .dataframe thead th {\n",
       "        text-align: right;\n",
       "    }\n",
       "</style>\n",
       "<table border=\"1\" class=\"dataframe\">\n",
       "  <thead>\n",
       "    <tr style=\"text-align: right;\">\n",
       "      <th></th>\n",
       "      <th>annee</th>\n",
       "      <th>secondes</th>\n",
       "    </tr>\n",
       "  </thead>\n",
       "  <tbody>\n",
       "    <tr>\n",
       "      <th>count</th>\n",
       "      <td>359.000000</td>\n",
       "      <td>359.000000</td>\n",
       "    </tr>\n",
       "    <tr>\n",
       "      <th>mean</th>\n",
       "      <td>1989.754875</td>\n",
       "      <td>7933.660167</td>\n",
       "    </tr>\n",
       "    <tr>\n",
       "      <th>std</th>\n",
       "      <td>14.028545</td>\n",
       "      <td>385.289830</td>\n",
       "    </tr>\n",
       "    <tr>\n",
       "      <th>min</th>\n",
       "      <td>1947.000000</td>\n",
       "      <td>7382.000000</td>\n",
       "    </tr>\n",
       "    <tr>\n",
       "      <th>25%</th>\n",
       "      <td>1981.000000</td>\n",
       "      <td>7698.000000</td>\n",
       "    </tr>\n",
       "    <tr>\n",
       "      <th>50%</th>\n",
       "      <td>1991.000000</td>\n",
       "      <td>7820.000000</td>\n",
       "    </tr>\n",
       "    <tr>\n",
       "      <th>75%</th>\n",
       "      <td>2001.000000</td>\n",
       "      <td>8046.500000</td>\n",
       "    </tr>\n",
       "    <tr>\n",
       "      <th>max</th>\n",
       "      <td>2011.000000</td>\n",
       "      <td>10028.000000</td>\n",
       "    </tr>\n",
       "  </tbody>\n",
       "</table>\n",
       "</div>"
      ],
      "text/plain": [
       "             annee      secondes\n",
       "count   359.000000    359.000000\n",
       "mean   1989.754875   7933.660167\n",
       "std      14.028545    385.289830\n",
       "min    1947.000000   7382.000000\n",
       "25%    1981.000000   7698.000000\n",
       "50%    1991.000000   7820.000000\n",
       "75%    2001.000000   8046.500000\n",
       "max    2011.000000  10028.000000"
      ]
     },
     "execution_count": 18,
     "metadata": {},
     "output_type": "execute_result"
    }
   ],
   "source": [
    "df.describe()"
   ]
  },
  {
   "cell_type": "markdown",
   "metadata": {},
   "source": [
    "### DataFrame et Index\n",
    "\n",
    "On désigne généralement une colonne ou *variable* par son nom. Les lignes peuvent être désignées par un entier."
   ]
  },
  {
   "cell_type": "code",
   "execution_count": 19,
   "metadata": {},
   "outputs": [
    {
     "data": {
      "text/html": [
       "<div>\n",
       "<style scoped>\n",
       "    .dataframe tbody tr th:only-of-type {\n",
       "        vertical-align: middle;\n",
       "    }\n",
       "\n",
       "    .dataframe tbody tr th {\n",
       "        vertical-align: top;\n",
       "    }\n",
       "\n",
       "    .dataframe thead th {\n",
       "        text-align: right;\n",
       "    }\n",
       "</style>\n",
       "<table border=\"1\" class=\"dataframe\">\n",
       "  <thead>\n",
       "    <tr style=\"text-align: right;\">\n",
       "      <th></th>\n",
       "      <th>date</th>\n",
       "      <th>prix</th>\n",
       "      <th>devise</th>\n",
       "    </tr>\n",
       "  </thead>\n",
       "  <tbody>\n",
       "    <tr>\n",
       "      <th>0</th>\n",
       "      <td>2014-06-22</td>\n",
       "      <td>220.0</td>\n",
       "      <td>euros</td>\n",
       "    </tr>\n",
       "    <tr>\n",
       "      <th>1</th>\n",
       "      <td>2014-06-23</td>\n",
       "      <td>221.0</td>\n",
       "      <td>euros</td>\n",
       "    </tr>\n",
       "  </tbody>\n",
       "</table>\n",
       "</div>"
      ],
      "text/plain": [
       "         date   prix devise\n",
       "0  2014-06-22  220.0  euros\n",
       "1  2014-06-23  221.0  euros"
      ]
     },
     "execution_count": 19,
     "metadata": {},
     "output_type": "execute_result"
    }
   ],
   "source": [
    "import pandas\n",
    "\n",
    "l = [\n",
    "    {\"date\": \"2014-06-22\", \"prix\": 220.0, \"devise\": \"euros\"},\n",
    "    {\"date\": \"2014-06-23\", \"prix\": 221.0, \"devise\": \"euros\"},\n",
    "]\n",
    "df = pandas.DataFrame(l)\n",
    "df"
   ]
  },
  {
   "cell_type": "markdown",
   "metadata": {},
   "source": [
    "On extrait une ligne avec ([iloc](http://pandas.pydata.org/pandas-docs/dev/generated/pandas.DataFrame.iloc.html))."
   ]
  },
  {
   "cell_type": "code",
   "execution_count": 20,
   "metadata": {},
   "outputs": [
    {
     "data": {
      "text/plain": [
       "date      2014-06-23\n",
       "prix           221.0\n",
       "devise         euros\n",
       "Name: 1, dtype: object"
      ]
     },
     "execution_count": 20,
     "metadata": {},
     "output_type": "execute_result"
    }
   ],
   "source": [
    "df.iloc[1]"
   ]
  },
  {
   "cell_type": "markdown",
   "metadata": {},
   "source": [
    "On extrait une colonne avec [loc]( ou [iloc](https://pandas.pydata.org/pandas-docs/stable/generated/pandas.DataFrame.loc.html)."
   ]
  },
  {
   "cell_type": "code",
   "execution_count": 21,
   "metadata": {},
   "outputs": [
    {
     "data": {
      "text/plain": [
       "date      2014-06-23\n",
       "prix           221.0\n",
       "devise         euros\n",
       "Name: 1, dtype: object"
      ]
     },
     "execution_count": 21,
     "metadata": {},
     "output_type": "execute_result"
    }
   ],
   "source": [
    "df.loc[1]"
   ]
  },
  {
   "cell_type": "markdown",
   "metadata": {},
   "source": [
    "On extrait une valeur en indiquant sa position dans la table avec des entiers :"
   ]
  },
  {
   "cell_type": "code",
   "execution_count": 22,
   "metadata": {},
   "outputs": [
    {
     "data": {
      "text/plain": [
       "'euros'"
      ]
     },
     "execution_count": 22,
     "metadata": {},
     "output_type": "execute_result"
    }
   ],
   "source": [
    "df.iloc[1, 2]"
   ]
  },
  {
   "cell_type": "markdown",
   "metadata": {},
   "source": [
    "Avec [loc](https://pandas.pydata.org/pandas-docs/stable/generated/pandas.DataFrame.loc.html), il faut préciser le nombre de la colonne."
   ]
  },
  {
   "cell_type": "code",
   "execution_count": 23,
   "metadata": {},
   "outputs": [
    {
     "data": {
      "text/plain": [
       "Index(['date', 'prix', 'devise'], dtype='object')"
      ]
     },
     "execution_count": 23,
     "metadata": {},
     "output_type": "execute_result"
    }
   ],
   "source": [
    "df.columns"
   ]
  },
  {
   "cell_type": "code",
   "execution_count": 24,
   "metadata": {},
   "outputs": [
    {
     "data": {
      "text/plain": [
       "221.0"
      ]
     },
     "execution_count": 24,
     "metadata": {},
     "output_type": "execute_result"
    }
   ],
   "source": [
    "df.loc[1, \"prix\"]"
   ]
  },
  {
   "cell_type": "markdown",
   "metadata": {},
   "source": [
    "Mais il est possible d'utiliser une colonne ou plusieurs colonnes comme index ([set_index](http://pandas.pydata.org/pandas-docs/stable/generated/pandas.DataFrame.set_index.html)) :"
   ]
  },
  {
   "cell_type": "code",
   "execution_count": 25,
   "metadata": {},
   "outputs": [
    {
     "data": {
      "text/html": [
       "<div>\n",
       "<style scoped>\n",
       "    .dataframe tbody tr th:only-of-type {\n",
       "        vertical-align: middle;\n",
       "    }\n",
       "\n",
       "    .dataframe tbody tr th {\n",
       "        vertical-align: top;\n",
       "    }\n",
       "\n",
       "    .dataframe thead th {\n",
       "        text-align: right;\n",
       "    }\n",
       "</style>\n",
       "<table border=\"1\" class=\"dataframe\">\n",
       "  <thead>\n",
       "    <tr style=\"text-align: right;\">\n",
       "      <th></th>\n",
       "      <th>prix</th>\n",
       "      <th>devise</th>\n",
       "    </tr>\n",
       "    <tr>\n",
       "      <th>date</th>\n",
       "      <th></th>\n",
       "      <th></th>\n",
       "    </tr>\n",
       "  </thead>\n",
       "  <tbody>\n",
       "    <tr>\n",
       "      <th>2014-06-22</th>\n",
       "      <td>220.0</td>\n",
       "      <td>euros</td>\n",
       "    </tr>\n",
       "    <tr>\n",
       "      <th>2014-06-23</th>\n",
       "      <td>221.0</td>\n",
       "      <td>euros</td>\n",
       "    </tr>\n",
       "  </tbody>\n",
       "</table>\n",
       "</div>"
      ],
      "text/plain": [
       "             prix devise\n",
       "date                    \n",
       "2014-06-22  220.0  euros\n",
       "2014-06-23  221.0  euros"
      ]
     },
     "execution_count": 25,
     "metadata": {},
     "output_type": "execute_result"
    }
   ],
   "source": [
    "dfi = df.set_index(\"date\")\n",
    "dfi"
   ]
  },
  {
   "cell_type": "markdown",
   "metadata": {},
   "source": [
    "On peut maintenant désigner une ligne par une date avec [loc](https://pandas.pydata.org/pandas-docs/stable/generated/pandas.DataFrame.loc.html) (mais pas [iloc](https://pandas.pydata.org/pandas-docs/stable/generated/pandas.DataFrame.iloc.html) car [iloc](https://pandas.pydata.org/pandas-docs/stable/generated/pandas.DataFrame.iloc.html) n'accepte que des entiers qui se réfère aux index de chaque dimension)."
   ]
  },
  {
   "cell_type": "code",
   "execution_count": 26,
   "metadata": {},
   "outputs": [
    {
     "data": {
      "text/plain": [
       "prix      221.0\n",
       "devise    euros\n",
       "Name: 2014-06-23, dtype: object"
      ]
     },
     "execution_count": 26,
     "metadata": {},
     "output_type": "execute_result"
    }
   ],
   "source": [
    "dfi.loc[\"2014-06-23\"]"
   ]
  },
  {
   "cell_type": "markdown",
   "metadata": {},
   "source": [
    "Il est possible d'utiliser plusieurs colonnes comme [index](http://pandas.pydata.org/pandas-docs/stable/indexing.html) :"
   ]
  },
  {
   "cell_type": "code",
   "execution_count": 27,
   "metadata": {},
   "outputs": [
    {
     "data": {
      "text/plain": [
       "arrondissement    18\n",
       "Name: (dupré, xavier), dtype: int64"
      ]
     },
     "execution_count": 27,
     "metadata": {},
     "output_type": "execute_result"
    }
   ],
   "source": [
    "df = pandas.DataFrame(\n",
    "    [\n",
    "        {\"prénom\": \"xavier\", \"nom\": \"dupré\", \"arrondissement\": 18},\n",
    "        {\"prénom\": \"clémence\", \"nom\": \"dupré\", \"arrondissement\": 15},\n",
    "    ]\n",
    ")\n",
    "dfi = df.set_index([\"nom\", \"prénom\"])\n",
    "dfi.loc[\"dupré\", \"xavier\"]"
   ]
  },
  {
   "cell_type": "markdown",
   "metadata": {},
   "source": [
    "Si on veut changer l'index ou le supprimer ([reset_index](http://pandas.pydata.org/pandas-docs/stable/generated/pandas.DataFrame.reset_index.html)) :"
   ]
  },
  {
   "cell_type": "code",
   "execution_count": 28,
   "metadata": {},
   "outputs": [
    {
     "data": {
      "text/html": [
       "<div>\n",
       "<style scoped>\n",
       "    .dataframe tbody tr th:only-of-type {\n",
       "        vertical-align: middle;\n",
       "    }\n",
       "\n",
       "    .dataframe tbody tr th {\n",
       "        vertical-align: top;\n",
       "    }\n",
       "\n",
       "    .dataframe thead th {\n",
       "        text-align: right;\n",
       "    }\n",
       "</style>\n",
       "<table border=\"1\" class=\"dataframe\">\n",
       "  <thead>\n",
       "    <tr style=\"text-align: right;\">\n",
       "      <th></th>\n",
       "      <th></th>\n",
       "      <th>prénom</th>\n",
       "    </tr>\n",
       "    <tr>\n",
       "      <th>nom</th>\n",
       "      <th>arrondissement</th>\n",
       "      <th></th>\n",
       "    </tr>\n",
       "  </thead>\n",
       "  <tbody>\n",
       "    <tr>\n",
       "      <th rowspan=\"2\" valign=\"top\">dupré</th>\n",
       "      <th>18</th>\n",
       "      <td>xavier</td>\n",
       "    </tr>\n",
       "    <tr>\n",
       "      <th>15</th>\n",
       "      <td>clémence</td>\n",
       "    </tr>\n",
       "  </tbody>\n",
       "</table>\n",
       "</div>"
      ],
      "text/plain": [
       "                        prénom\n",
       "nom   arrondissement          \n",
       "dupré 18                xavier\n",
       "      15              clémence"
      ]
     },
     "execution_count": 28,
     "metadata": {},
     "output_type": "execute_result"
    }
   ],
   "source": [
    "dfi.reset_index(drop=False, inplace=True)\n",
    "# le mot-clé drop pour garder ou non les colonnes servant d'index\n",
    "# inplace signifie qu'on modifie l'instance et non qu'une copie est modifiée\n",
    "# donc on peut aussi écrire dfi2 = dfi.reset_index(drop=False)\n",
    "dfi.set_index([\"nom\", \"arrondissement\"], inplace=True)\n",
    "dfi"
   ]
  },
  {
   "cell_type": "markdown",
   "metadata": {},
   "source": [
    "Les index sont particulièrement utiles lorsqu'il s'agit de fusionner deux tables. Pour des petites tables, la plupart du temps, il est plus facile de s'en passer."
   ]
  },
  {
   "cell_type": "markdown",
   "metadata": {},
   "source": [
    "### Notation avec le symbole ``:``\n",
    "\n",
    "Le symbole ``:`` désigne une plage de valeurs."
   ]
  },
  {
   "cell_type": "code",
   "execution_count": 29,
   "metadata": {},
   "outputs": [
    {
     "data": {
      "text/html": [
       "<div>\n",
       "<style scoped>\n",
       "    .dataframe tbody tr th:only-of-type {\n",
       "        vertical-align: middle;\n",
       "    }\n",
       "\n",
       "    .dataframe tbody tr th {\n",
       "        vertical-align: top;\n",
       "    }\n",
       "\n",
       "    .dataframe thead th {\n",
       "        text-align: right;\n",
       "    }\n",
       "</style>\n",
       "<table border=\"1\" class=\"dataframe\">\n",
       "  <thead>\n",
       "    <tr style=\"text-align: right;\">\n",
       "      <th></th>\n",
       "      <th>ville</th>\n",
       "      <th>annee</th>\n",
       "      <th>temps</th>\n",
       "      <th>secondes</th>\n",
       "    </tr>\n",
       "  </thead>\n",
       "  <tbody>\n",
       "    <tr>\n",
       "      <th>0</th>\n",
       "      <td>PARIS</td>\n",
       "      <td>2011</td>\n",
       "      <td>02:06:29</td>\n",
       "      <td>7589</td>\n",
       "    </tr>\n",
       "    <tr>\n",
       "      <th>1</th>\n",
       "      <td>PARIS</td>\n",
       "      <td>2010</td>\n",
       "      <td>02:06:41</td>\n",
       "      <td>7601</td>\n",
       "    </tr>\n",
       "    <tr>\n",
       "      <th>2</th>\n",
       "      <td>PARIS</td>\n",
       "      <td>2009</td>\n",
       "      <td>02:05:47</td>\n",
       "      <td>7547</td>\n",
       "    </tr>\n",
       "    <tr>\n",
       "      <th>3</th>\n",
       "      <td>PARIS</td>\n",
       "      <td>2008</td>\n",
       "      <td>02:06:40</td>\n",
       "      <td>7600</td>\n",
       "    </tr>\n",
       "    <tr>\n",
       "      <th>4</th>\n",
       "      <td>PARIS</td>\n",
       "      <td>2007</td>\n",
       "      <td>02:07:17</td>\n",
       "      <td>7637</td>\n",
       "    </tr>\n",
       "  </tbody>\n",
       "</table>\n",
       "</div>"
      ],
      "text/plain": [
       "   ville  annee     temps  secondes\n",
       "0  PARIS   2011  02:06:29      7589\n",
       "1  PARIS   2010  02:06:41      7601\n",
       "2  PARIS   2009  02:05:47      7547\n",
       "3  PARIS   2008  02:06:40      7600\n",
       "4  PARIS   2007  02:07:17      7637"
      ]
     },
     "execution_count": 29,
     "metadata": {},
     "output_type": "execute_result"
    }
   ],
   "source": [
    "import pandas, urllib.request\n",
    "\n",
    "df = df_marathon\n",
    "df.head()"
   ]
  },
  {
   "cell_type": "markdown",
   "metadata": {},
   "source": [
    "On peut sélectionner un sous-ensemble de lignes :"
   ]
  },
  {
   "cell_type": "code",
   "execution_count": 30,
   "metadata": {},
   "outputs": [
    {
     "data": {
      "text/html": [
       "<div>\n",
       "<style scoped>\n",
       "    .dataframe tbody tr th:only-of-type {\n",
       "        vertical-align: middle;\n",
       "    }\n",
       "\n",
       "    .dataframe tbody tr th {\n",
       "        vertical-align: top;\n",
       "    }\n",
       "\n",
       "    .dataframe thead th {\n",
       "        text-align: right;\n",
       "    }\n",
       "</style>\n",
       "<table border=\"1\" class=\"dataframe\">\n",
       "  <thead>\n",
       "    <tr style=\"text-align: right;\">\n",
       "      <th></th>\n",
       "      <th>ville</th>\n",
       "      <th>annee</th>\n",
       "      <th>temps</th>\n",
       "      <th>secondes</th>\n",
       "    </tr>\n",
       "  </thead>\n",
       "  <tbody>\n",
       "    <tr>\n",
       "      <th>3</th>\n",
       "      <td>PARIS</td>\n",
       "      <td>2008</td>\n",
       "      <td>02:06:40</td>\n",
       "      <td>7600</td>\n",
       "    </tr>\n",
       "    <tr>\n",
       "      <th>4</th>\n",
       "      <td>PARIS</td>\n",
       "      <td>2007</td>\n",
       "      <td>02:07:17</td>\n",
       "      <td>7637</td>\n",
       "    </tr>\n",
       "    <tr>\n",
       "      <th>5</th>\n",
       "      <td>PARIS</td>\n",
       "      <td>2006</td>\n",
       "      <td>02:08:03</td>\n",
       "      <td>7683</td>\n",
       "    </tr>\n",
       "  </tbody>\n",
       "</table>\n",
       "</div>"
      ],
      "text/plain": [
       "   ville  annee     temps  secondes\n",
       "3  PARIS   2008  02:06:40      7600\n",
       "4  PARIS   2007  02:07:17      7637\n",
       "5  PARIS   2006  02:08:03      7683"
      ]
     },
     "execution_count": 30,
     "metadata": {},
     "output_type": "execute_result"
    }
   ],
   "source": [
    "df[3:6]"
   ]
  },
  {
   "cell_type": "markdown",
   "metadata": {},
   "source": [
    "On extrait la même plage mais avec deux colonnes seulement :"
   ]
  },
  {
   "cell_type": "code",
   "execution_count": 31,
   "metadata": {},
   "outputs": [
    {
     "data": {
      "text/html": [
       "<div>\n",
       "<style scoped>\n",
       "    .dataframe tbody tr th:only-of-type {\n",
       "        vertical-align: middle;\n",
       "    }\n",
       "\n",
       "    .dataframe tbody tr th {\n",
       "        vertical-align: top;\n",
       "    }\n",
       "\n",
       "    .dataframe thead th {\n",
       "        text-align: right;\n",
       "    }\n",
       "</style>\n",
       "<table border=\"1\" class=\"dataframe\">\n",
       "  <thead>\n",
       "    <tr style=\"text-align: right;\">\n",
       "      <th></th>\n",
       "      <th>annee</th>\n",
       "      <th>temps</th>\n",
       "    </tr>\n",
       "  </thead>\n",
       "  <tbody>\n",
       "    <tr>\n",
       "      <th>3</th>\n",
       "      <td>2008</td>\n",
       "      <td>02:06:40</td>\n",
       "    </tr>\n",
       "    <tr>\n",
       "      <th>4</th>\n",
       "      <td>2007</td>\n",
       "      <td>02:07:17</td>\n",
       "    </tr>\n",
       "    <tr>\n",
       "      <th>5</th>\n",
       "      <td>2006</td>\n",
       "      <td>02:08:03</td>\n",
       "    </tr>\n",
       "    <tr>\n",
       "      <th>6</th>\n",
       "      <td>2005</td>\n",
       "      <td>02:08:02</td>\n",
       "    </tr>\n",
       "  </tbody>\n",
       "</table>\n",
       "</div>"
      ],
      "text/plain": [
       "   annee     temps\n",
       "3   2008  02:06:40\n",
       "4   2007  02:07:17\n",
       "5   2006  02:08:03\n",
       "6   2005  02:08:02"
      ]
     },
     "execution_count": 31,
     "metadata": {},
     "output_type": "execute_result"
    }
   ],
   "source": [
    "df.loc[3:6, [\"annee\", \"temps\"]]"
   ]
  },
  {
   "cell_type": "markdown",
   "metadata": {},
   "source": [
    "Le même code pour lequel on renomme les colonnes extraites :"
   ]
  },
  {
   "cell_type": "code",
   "execution_count": 32,
   "metadata": {},
   "outputs": [
    {
     "data": {
      "text/html": [
       "<div>\n",
       "<style scoped>\n",
       "    .dataframe tbody tr th:only-of-type {\n",
       "        vertical-align: middle;\n",
       "    }\n",
       "\n",
       "    .dataframe tbody tr th {\n",
       "        vertical-align: top;\n",
       "    }\n",
       "\n",
       "    .dataframe thead th {\n",
       "        text-align: right;\n",
       "    }\n",
       "</style>\n",
       "<table border=\"1\" class=\"dataframe\">\n",
       "  <thead>\n",
       "    <tr style=\"text-align: right;\">\n",
       "      <th></th>\n",
       "      <th>year</th>\n",
       "      <th>time</th>\n",
       "    </tr>\n",
       "  </thead>\n",
       "  <tbody>\n",
       "    <tr>\n",
       "      <th>3</th>\n",
       "      <td>2008</td>\n",
       "      <td>02:06:40</td>\n",
       "    </tr>\n",
       "    <tr>\n",
       "      <th>4</th>\n",
       "      <td>2007</td>\n",
       "      <td>02:07:17</td>\n",
       "    </tr>\n",
       "    <tr>\n",
       "      <th>5</th>\n",
       "      <td>2006</td>\n",
       "      <td>02:08:03</td>\n",
       "    </tr>\n",
       "    <tr>\n",
       "      <th>6</th>\n",
       "      <td>2005</td>\n",
       "      <td>02:08:02</td>\n",
       "    </tr>\n",
       "  </tbody>\n",
       "</table>\n",
       "</div>"
      ],
      "text/plain": [
       "   year      time\n",
       "3  2008  02:06:40\n",
       "4  2007  02:07:17\n",
       "5  2006  02:08:03\n",
       "6  2005  02:08:02"
      ]
     },
     "execution_count": 32,
     "metadata": {},
     "output_type": "execute_result"
    }
   ],
   "source": [
    "sub = df.loc[3:6, [\"annee\", \"temps\"]]\n",
    "sub.columns = [\"year\", \"time\"]\n",
    "sub"
   ]
  },
  {
   "cell_type": "markdown",
   "metadata": {},
   "source": [
    "### Exercice 1 : créer un fichier Excel\n",
    "    \n",
    "On souhaite récupérer les données [donnees_enquete_2003_television.txt](https://github.com/sdpython/teachpyx/raw/main/_data/donnees_enquete_2003_television.txt).\n",
    "\n",
    "* ``POIDSLOG`` : Pondération individuelle relative\n",
    "* ``POIDSF`` : Variable de pondération individuelle\n",
    "* ``cLT1FREQ`` : Nombre d'heures en moyenne passées à regarder la télévision \n",
    "* ``cLT2FREQ`` : Unité de temps utilisée pour compter le nombre d'heures passées à regarder la télévision, cette unité est représentée par les quatre valeurs suivantes\n",
    "    * 0 : non concerné\n",
    "    * 1 : jour\n",
    "    * 2 : semaine\n",
    "    * 3 : mois \n",
    "    \n",
    "Ensuite, on veut :\n",
    "\n",
    "1. Supprimer les colonnes vides\n",
    "2. Obtenir les valeurs distinctes  pour la colonne ``cLT2FREQ``\n",
    "3. Modifier la matrice pour enlever les lignes pour lesquelles l'unité de temps (cLT2FREQ) n'est pas renseignée ou égale à zéro.\n",
    "4. Sauver le résultat au format Excel.\n",
    "\n",
    "Vous aurez peut-être besoin des fonctions suivantes :\n",
    "\n",
    "* [numpy.isnan](https://numpy.org/doc/stable/reference/generated/numpy.isnan.html)\n",
    "* [DataFrame.apply](https://pandas.pydata.org/pandas-docs/stable/reference/api/pandas.DataFrame.apply.html)\n",
    "* [DataFrame.fillna](https://pandas.pydata.org/pandas-docs/stable/reference/api/pandas.DataFrame.fillna.html) ou [DataFrame.isnull](https://pandas.pydata.org/pandas-docs/stable/reference/api/pandas.DataFrame.isnull.html) ou [DataFrame.notnull](https://pandas.pydata.org/pandas-docs/stable/reference/api/pandas.DataFrame.notnull.html)\n",
    "* [DataFrame.copy](https://pandas.pydata.org/pandas-docs/stable/reference/api/pandas.DataFrame.copy.html)"
   ]
  },
  {
   "cell_type": "code",
   "execution_count": 33,
   "metadata": {
    "collapsed": true
   },
   "outputs": [],
   "source": [
    "import pandas, io\n",
    "\n",
    "# ..."
   ]
  },
  {
   "cell_type": "markdown",
   "metadata": {},
   "source": [
    "## Manipuler un DataFrame\n",
    "\n",
    "Si la structure *DataFrame* s'est imposée, c'est parce qu'on effectue toujours les mêmes opérations. Chaque fonction cache une boucle ou deux dont le coût est précisé en fin de ligne :\n",
    "\n",
    "- **filter** : on sélectionne un sous-ensemble de lignes qui vérifie une condition $\\rightarrow O(n)$\n",
    "- **union** : concaténation de deux jeux de données $\\rightarrow O(n_1 + n_2)$\n",
    "- **sort** : tri  $\\rightarrow O(n \\ln n)$\n",
    "- **group by** : grouper des lignes qui partagent une valeur commune  $\\rightarrow O(n)$\n",
    "- **join** : fusionner deux jeux de données en associant les lignes qui partagent une valeur commune  $\\rightarrow \\in [O(n_1 + n_2), O(n_1 n_2)]$\n",
    "- **pivot** : utiliser des valeurs présentes dans colonne comme noms de colonnes $\\rightarrow O(n)$\n",
    "\n",
    "Les 5 premières opérations sont issues de la logique de manipulation des données avec le langage [SQL](http://fr.wikipedia.org/wiki/Structured_Query_Language) (ou le logiciel [SAS](http://www.sas.com)). La dernière correspond à un [tableau croisé dynamique](http://fr.wikipedia.org/wiki/Tableau_crois%C3%A9_dynamique). Pour illustrer ces opérations, on prendre le [DataFrame](http://pandas.pydata.org/pandas-docs/stable/generated/pandas.DataFrame.html) suivant :"
   ]
  },
  {
   "cell_type": "code",
   "execution_count": 34,
   "metadata": {},
   "outputs": [
    {
     "name": "stdout",
     "output_type": "stream",
     "text": [
      "Index(['ville', 'annee', 'temps', 'secondes'], dtype='object')\n",
      "villes {'BOSTON', 'FUKUOKA', 'CHICAGO', 'STOCKOLM', 'NEW YORK', 'LONDON', 'PARIS', 'BERLIN', 'AMSTERDAM'}\n",
      "annee [1947, 1948, 1949, 1950, 1951, 1952, 1953, 1954, 1955, 1956] ...\n"
     ]
    }
   ],
   "source": [
    "import pandas\n",
    "\n",
    "df = df_marathon\n",
    "print(df.columns)\n",
    "print(\"villes\", set(df.ville))\n",
    "print(\"annee\", list(set(df.annee))[:10], \"...\")"
   ]
  },
  {
   "cell_type": "markdown",
   "metadata": {},
   "source": [
    "### 6 opérations : filtrer, union, sort, group by, join, pivot"
   ]
  },
  {
   "cell_type": "markdown",
   "metadata": {},
   "source": [
    "#### filter\n",
    "\n",
    "Filter consiste à sélectionner un sous-ensemble de lignes du dataframe. Pour filter sur plusieurs conditions, il faut utiliser les opérateurs logique & (et), | (ou), ~ (non) (voir [Mapping Operators to Functions](https://docs.python.org/3.4/library/operator.html#mapping-operators-to-functions)).\n",
    "\n",
    "* [filter](http://pandas.pydata.org/pandas-docs/stable/generated/pandas.DataFrame.filter.html), [mask](http://pandas.pydata.org/pandas-docs/stable/generated/pandas.DataFrame.mask.html),[where](http://pandas.pydata.org/pandas-docs/stable/generated/pandas.DataFrame.where.html)\n",
    "* [pandas: filter rows of DataFrame with operator chaining](http://stackoverflow.com/questions/11869910/pandas-filter-rows-of-dataframe-with-operator-chaining)\n",
    "* [Indexing and Selecting Data](http://pandas.pydata.org/pandas-docs/stable/indexing.html)"
   ]
  },
  {
   "cell_type": "code",
   "execution_count": 35,
   "metadata": {},
   "outputs": [
    {
     "data": {
      "text/html": [
       "<div>\n",
       "<style scoped>\n",
       "    .dataframe tbody tr th:only-of-type {\n",
       "        vertical-align: middle;\n",
       "    }\n",
       "\n",
       "    .dataframe tbody tr th {\n",
       "        vertical-align: top;\n",
       "    }\n",
       "\n",
       "    .dataframe thead th {\n",
       "        text-align: right;\n",
       "    }\n",
       "</style>\n",
       "<table border=\"1\" class=\"dataframe\">\n",
       "  <thead>\n",
       "    <tr style=\"text-align: right;\">\n",
       "      <th></th>\n",
       "      <th>ville</th>\n",
       "      <th>annee</th>\n",
       "      <th>temps</th>\n",
       "      <th>secondes</th>\n",
       "    </tr>\n",
       "  </thead>\n",
       "  <tbody>\n",
       "    <tr>\n",
       "      <th>112</th>\n",
       "      <td>FUKUOKA</td>\n",
       "      <td>1971</td>\n",
       "      <td>02:12:51</td>\n",
       "      <td>7971</td>\n",
       "    </tr>\n",
       "    <tr>\n",
       "      <th>204</th>\n",
       "      <td>NEW YORK</td>\n",
       "      <td>1971</td>\n",
       "      <td>02:22:54</td>\n",
       "      <td>8574</td>\n",
       "    </tr>\n",
       "    <tr>\n",
       "      <th>285</th>\n",
       "      <td>BOSTON</td>\n",
       "      <td>1971</td>\n",
       "      <td>02:18:45</td>\n",
       "      <td>8325</td>\n",
       "    </tr>\n",
       "  </tbody>\n",
       "</table>\n",
       "</div>"
      ],
      "text/plain": [
       "        ville  annee     temps  secondes\n",
       "112   FUKUOKA   1971  02:12:51      7971\n",
       "204  NEW YORK   1971  02:22:54      8574\n",
       "285    BOSTON   1971  02:18:45      8325"
      ]
     },
     "execution_count": 35,
     "metadata": {},
     "output_type": "execute_result"
    }
   ],
   "source": [
    "subset = df[df.annee == 1971]\n",
    "subset.head()"
   ]
  },
  {
   "cell_type": "code",
   "execution_count": 36,
   "metadata": {},
   "outputs": [
    {
     "data": {
      "text/html": [
       "<div>\n",
       "<style scoped>\n",
       "    .dataframe tbody tr th:only-of-type {\n",
       "        vertical-align: middle;\n",
       "    }\n",
       "\n",
       "    .dataframe tbody tr th {\n",
       "        vertical-align: top;\n",
       "    }\n",
       "\n",
       "    .dataframe thead th {\n",
       "        text-align: right;\n",
       "    }\n",
       "</style>\n",
       "<table border=\"1\" class=\"dataframe\">\n",
       "  <thead>\n",
       "    <tr style=\"text-align: right;\">\n",
       "      <th></th>\n",
       "      <th>ville</th>\n",
       "      <th>annee</th>\n",
       "      <th>temps</th>\n",
       "      <th>secondes</th>\n",
       "    </tr>\n",
       "  </thead>\n",
       "  <tbody>\n",
       "    <tr>\n",
       "      <th>285</th>\n",
       "      <td>BOSTON</td>\n",
       "      <td>1971</td>\n",
       "      <td>02:18:45</td>\n",
       "      <td>8325</td>\n",
       "    </tr>\n",
       "  </tbody>\n",
       "</table>\n",
       "</div>"
      ],
      "text/plain": [
       "      ville  annee     temps  secondes\n",
       "285  BOSTON   1971  02:18:45      8325"
      ]
     },
     "execution_count": 36,
     "metadata": {},
     "output_type": "execute_result"
    }
   ],
   "source": [
    "subset = df[(df.annee == 1971) & (df.ville == \"BOSTON\")]\n",
    "subset.head()"
   ]
  },
  {
   "cell_type": "markdown",
   "metadata": {},
   "source": [
    "Les dernières versions de pandas ont introduit la méthode [query](http://pandas.pydata.org/pandas-docs/stable/generated/pandas.DataFrame.query.html) qui permet de réduire encore l'écriture :"
   ]
  },
  {
   "cell_type": "code",
   "execution_count": 37,
   "metadata": {},
   "outputs": [
    {
     "data": {
      "text/html": [
       "<div>\n",
       "<style scoped>\n",
       "    .dataframe tbody tr th:only-of-type {\n",
       "        vertical-align: middle;\n",
       "    }\n",
       "\n",
       "    .dataframe tbody tr th {\n",
       "        vertical-align: top;\n",
       "    }\n",
       "\n",
       "    .dataframe thead th {\n",
       "        text-align: right;\n",
       "    }\n",
       "</style>\n",
       "<table border=\"1\" class=\"dataframe\">\n",
       "  <thead>\n",
       "    <tr style=\"text-align: right;\">\n",
       "      <th></th>\n",
       "      <th>ville</th>\n",
       "      <th>annee</th>\n",
       "      <th>temps</th>\n",
       "      <th>secondes</th>\n",
       "    </tr>\n",
       "  </thead>\n",
       "  <tbody>\n",
       "    <tr>\n",
       "      <th>285</th>\n",
       "      <td>BOSTON</td>\n",
       "      <td>1971</td>\n",
       "      <td>02:18:45</td>\n",
       "      <td>8325</td>\n",
       "    </tr>\n",
       "  </tbody>\n",
       "</table>\n",
       "</div>"
      ],
      "text/plain": [
       "      ville  annee     temps  secondes\n",
       "285  BOSTON   1971  02:18:45      8325"
      ]
     },
     "execution_count": 37,
     "metadata": {},
     "output_type": "execute_result"
    }
   ],
   "source": [
    "subset = df.query('(annee == 1971) & (ville == \"BOSTON\")')\n",
    "subset.head()"
   ]
  },
  {
   "cell_type": "markdown",
   "metadata": {},
   "source": [
    "#### union\n",
    "\n",
    "union = concaténation de deux [DataFrame](http://pandas.pydata.org/pandas-docs/stable/generated/pandas.DataFrame.html) (qui n'ont pas nécessairement les mêmes colonnes). On peut concaténer les lignes ou les colonnes.\n",
    "\n",
    "* [concat](http://pandas.pydata.org/pandas-docs/stable/generated/pandas.concat.html)\n",
    "* [Merge, join, and concatenate](http://pandas.pydata.org/pandas-docs/stable/merging.html)"
   ]
  },
  {
   "cell_type": "code",
   "execution_count": 38,
   "metadata": {},
   "outputs": [
    {
     "data": {
      "text/plain": [
       "((359, 4), (718, 4))"
      ]
     },
     "execution_count": 38,
     "metadata": {},
     "output_type": "execute_result"
    }
   ],
   "source": [
    "concat_ligne = pandas.concat((df, df))\n",
    "df.shape, concat_ligne.shape"
   ]
  },
  {
   "cell_type": "code",
   "execution_count": 39,
   "metadata": {},
   "outputs": [
    {
     "data": {
      "text/plain": [
       "((359, 4), (359, 8))"
      ]
     },
     "execution_count": 39,
     "metadata": {},
     "output_type": "execute_result"
    }
   ],
   "source": [
    "concat_col = pandas.concat((df, df), axis=1)\n",
    "df.shape, concat_col.shape"
   ]
  },
  {
   "cell_type": "markdown",
   "metadata": {},
   "source": [
    "#### sort\n",
    "\n",
    "Sort = trier\n",
    "\n",
    "* [sort](http://pandas.pydata.org/pandas-docs/stable/generated/pandas.DataFrame.sort_values.html)"
   ]
  },
  {
   "cell_type": "code",
   "execution_count": 40,
   "metadata": {},
   "outputs": [
    {
     "data": {
      "text/html": [
       "<div>\n",
       "<style scoped>\n",
       "    .dataframe tbody tr th:only-of-type {\n",
       "        vertical-align: middle;\n",
       "    }\n",
       "\n",
       "    .dataframe tbody tr th {\n",
       "        vertical-align: top;\n",
       "    }\n",
       "\n",
       "    .dataframe thead th {\n",
       "        text-align: right;\n",
       "    }\n",
       "</style>\n",
       "<table border=\"1\" class=\"dataframe\">\n",
       "  <thead>\n",
       "    <tr style=\"text-align: right;\">\n",
       "      <th></th>\n",
       "      <th>ville</th>\n",
       "      <th>annee</th>\n",
       "      <th>temps</th>\n",
       "      <th>secondes</th>\n",
       "    </tr>\n",
       "  </thead>\n",
       "  <tbody>\n",
       "    <tr>\n",
       "      <th>35</th>\n",
       "      <td>BERLIN</td>\n",
       "      <td>2011</td>\n",
       "      <td>02:03:38</td>\n",
       "      <td>7418</td>\n",
       "    </tr>\n",
       "    <tr>\n",
       "      <th>325</th>\n",
       "      <td>BOSTON</td>\n",
       "      <td>2011</td>\n",
       "      <td>02:03:02</td>\n",
       "      <td>7382</td>\n",
       "    </tr>\n",
       "    <tr>\n",
       "      <th>202</th>\n",
       "      <td>LONDON</td>\n",
       "      <td>2011</td>\n",
       "      <td>02:04:40</td>\n",
       "      <td>7480</td>\n",
       "    </tr>\n",
       "    <tr>\n",
       "      <th>0</th>\n",
       "      <td>PARIS</td>\n",
       "      <td>2011</td>\n",
       "      <td>02:06:29</td>\n",
       "      <td>7589</td>\n",
       "    </tr>\n",
       "    <tr>\n",
       "      <th>276</th>\n",
       "      <td>STOCKOLM</td>\n",
       "      <td>2011</td>\n",
       "      <td>02:14:07</td>\n",
       "      <td>8047</td>\n",
       "    </tr>\n",
       "  </tbody>\n",
       "</table>\n",
       "</div>"
      ],
      "text/plain": [
       "        ville  annee     temps  secondes\n",
       "35     BERLIN   2011  02:03:38      7418\n",
       "325    BOSTON   2011  02:03:02      7382\n",
       "202    LONDON   2011  02:04:40      7480\n",
       "0       PARIS   2011  02:06:29      7589\n",
       "276  STOCKOLM   2011  02:14:07      8047"
      ]
     },
     "execution_count": 40,
     "metadata": {},
     "output_type": "execute_result"
    }
   ],
   "source": [
    "tri = df.sort_values([\"annee\", \"ville\"], ascending=[0, 1])\n",
    "tri.head()"
   ]
  },
  {
   "cell_type": "markdown",
   "metadata": {},
   "source": [
    "#### group by\n",
    "\n",
    "Cette opération consiste à grouper les lignes qui partagent une caractéristique commune (une valeur dans une colonne ou plusieurs valeurs dans plusieurs colonnes). On peut conserver chaque groupe, ou calculer une somme, une moyenne, prendre la ou meilleures valeurs (top $k$ per group)...\n",
    "\n",
    "* [groupby](http://pandas.pydata.org/pandas-docs/stable/generated/pandas.DataFrame.groupby.html)\n",
    "* [sum](http://pandas.pydata.org/pandas-docs/stable/generated/pandas.DataFrame.sum.html), [cumsum](http://pandas.pydata.org/pandas-docs/stable/generated/pandas.DataFrame.cumsum.html), [mean](http://pandas.pydata.org/pandas-docs/stable/generated/pandas.DataFrame.mean.html), [count](http://pandas.pydata.org/pandas-docs/stable/generated/pandas.DataFrame.count.html)\n",
    "* [SQL GROUP BY](http://sql.sh/cours/group-by)\n",
    "* [Group By: split-apply-combine](http://pandas.pydata.org/pandas-docs/dev/groupby.html)\n",
    "* [group by customisé](http://stackoverflow.com/questions/15322632/python-pandas-df-groupby-agg-column-reference-in-agg)\n",
    "* [fast way to get index of top-k elements of every column in a pandas dataframe](http://stackoverflow.com/questions/32188867/fast-way-to-get-index-of-top-k-elements-of-every-column-in-a-pandas-dataframe)\n"
   ]
  },
  {
   "cell_type": "code",
   "execution_count": 41,
   "metadata": {},
   "outputs": [
    {
     "data": {
      "text/plain": [
       "<pandas.core.groupby.generic.DataFrameGroupBy object at 0x7fd034df94b0>"
      ]
     },
     "execution_count": 41,
     "metadata": {},
     "output_type": "execute_result"
    }
   ],
   "source": [
    "gr = df.groupby(\"annee\")\n",
    "gr"
   ]
  },
  {
   "cell_type": "code",
   "execution_count": 42,
   "metadata": {},
   "outputs": [
    {
     "data": {
      "text/html": [
       "<div>\n",
       "<style scoped>\n",
       "    .dataframe tbody tr th:only-of-type {\n",
       "        vertical-align: middle;\n",
       "    }\n",
       "\n",
       "    .dataframe tbody tr th {\n",
       "        vertical-align: top;\n",
       "    }\n",
       "\n",
       "    .dataframe thead th {\n",
       "        text-align: right;\n",
       "    }\n",
       "</style>\n",
       "<table border=\"1\" class=\"dataframe\">\n",
       "  <thead>\n",
       "    <tr style=\"text-align: right;\">\n",
       "      <th></th>\n",
       "      <th>ville</th>\n",
       "      <th>temps</th>\n",
       "      <th>secondes</th>\n",
       "    </tr>\n",
       "    <tr>\n",
       "      <th>annee</th>\n",
       "      <th></th>\n",
       "      <th></th>\n",
       "      <th></th>\n",
       "    </tr>\n",
       "  </thead>\n",
       "  <tbody>\n",
       "    <tr>\n",
       "      <th>2011</th>\n",
       "      <td>5</td>\n",
       "      <td>5</td>\n",
       "      <td>5</td>\n",
       "    </tr>\n",
       "    <tr>\n",
       "      <th>2010</th>\n",
       "      <td>9</td>\n",
       "      <td>9</td>\n",
       "      <td>9</td>\n",
       "    </tr>\n",
       "    <tr>\n",
       "      <th>2009</th>\n",
       "      <td>9</td>\n",
       "      <td>9</td>\n",
       "      <td>9</td>\n",
       "    </tr>\n",
       "    <tr>\n",
       "      <th>2008</th>\n",
       "      <td>9</td>\n",
       "      <td>9</td>\n",
       "      <td>9</td>\n",
       "    </tr>\n",
       "    <tr>\n",
       "      <th>2007</th>\n",
       "      <td>9</td>\n",
       "      <td>9</td>\n",
       "      <td>9</td>\n",
       "    </tr>\n",
       "  </tbody>\n",
       "</table>\n",
       "</div>"
      ],
      "text/plain": [
       "       ville  temps  secondes\n",
       "annee                        \n",
       "2011       5      5         5\n",
       "2010       9      9         9\n",
       "2009       9      9         9\n",
       "2008       9      9         9\n",
       "2007       9      9         9"
      ]
     },
     "execution_count": 42,
     "metadata": {},
     "output_type": "execute_result"
    }
   ],
   "source": [
    "nb = df.groupby(\"annee\").count()\n",
    "nb.sort_index(ascending=False).head()"
   ]
  },
  {
   "cell_type": "code",
   "execution_count": 43,
   "metadata": {},
   "outputs": [
    {
     "data": {
      "text/html": [
       "<div>\n",
       "<style scoped>\n",
       "    .dataframe tbody tr th:only-of-type {\n",
       "        vertical-align: middle;\n",
       "    }\n",
       "\n",
       "    .dataframe tbody tr th {\n",
       "        vertical-align: top;\n",
       "    }\n",
       "\n",
       "    .dataframe thead th {\n",
       "        text-align: right;\n",
       "    }\n",
       "</style>\n",
       "<table border=\"1\" class=\"dataframe\">\n",
       "  <thead>\n",
       "    <tr style=\"text-align: right;\">\n",
       "      <th></th>\n",
       "      <th>secondes</th>\n",
       "    </tr>\n",
       "    <tr>\n",
       "      <th>annee</th>\n",
       "      <th></th>\n",
       "    </tr>\n",
       "  </thead>\n",
       "  <tbody>\n",
       "    <tr>\n",
       "      <th>2011</th>\n",
       "      <td>37916</td>\n",
       "    </tr>\n",
       "    <tr>\n",
       "      <th>2010</th>\n",
       "      <td>68673</td>\n",
       "    </tr>\n",
       "  </tbody>\n",
       "</table>\n",
       "</div>"
      ],
      "text/plain": [
       "       secondes\n",
       "annee          \n",
       "2011      37916\n",
       "2010      68673"
      ]
     },
     "execution_count": 43,
     "metadata": {},
     "output_type": "execute_result"
    }
   ],
   "source": [
    "nb = df[[\"annee\", \"secondes\"]].groupby(\"annee\").sum()\n",
    "nb.sort_index(ascending=False).head(n=2)"
   ]
  },
  {
   "cell_type": "code",
   "execution_count": 44,
   "metadata": {},
   "outputs": [
    {
     "data": {
      "text/html": [
       "<div>\n",
       "<style scoped>\n",
       "    .dataframe tbody tr th:only-of-type {\n",
       "        vertical-align: middle;\n",
       "    }\n",
       "\n",
       "    .dataframe tbody tr th {\n",
       "        vertical-align: top;\n",
       "    }\n",
       "\n",
       "    .dataframe thead th {\n",
       "        text-align: right;\n",
       "    }\n",
       "</style>\n",
       "<table border=\"1\" class=\"dataframe\">\n",
       "  <thead>\n",
       "    <tr style=\"text-align: right;\">\n",
       "      <th></th>\n",
       "      <th>secondes</th>\n",
       "    </tr>\n",
       "    <tr>\n",
       "      <th>annee</th>\n",
       "      <th></th>\n",
       "    </tr>\n",
       "  </thead>\n",
       "  <tbody>\n",
       "    <tr>\n",
       "      <th>2011</th>\n",
       "      <td>7583.200000</td>\n",
       "    </tr>\n",
       "    <tr>\n",
       "      <th>2010</th>\n",
       "      <td>7630.333333</td>\n",
       "    </tr>\n",
       "    <tr>\n",
       "      <th>2009</th>\n",
       "      <td>7652.555556</td>\n",
       "    </tr>\n",
       "  </tbody>\n",
       "</table>\n",
       "</div>"
      ],
      "text/plain": [
       "          secondes\n",
       "annee             \n",
       "2011   7583.200000\n",
       "2010   7630.333333\n",
       "2009   7652.555556"
      ]
     },
     "execution_count": 44,
     "metadata": {},
     "output_type": "execute_result"
    }
   ],
   "source": [
    "nb = df[[\"annee\", \"secondes\"]].groupby(\"annee\").mean()\n",
    "nb.sort_index(ascending=False).head(n=3)"
   ]
  },
  {
   "cell_type": "markdown",
   "metadata": {},
   "source": [
    "Si les nom des colonnes utilisées lors de l'opération ne sont pas mentionnés, implicitement, c'est l'index qui sera choisi. On peut aussi aggréger les informations avec une fonction personnalisée."
   ]
  },
  {
   "cell_type": "code",
   "execution_count": 45,
   "metadata": {},
   "outputs": [
    {
     "data": {
      "text/html": [
       "<div>\n",
       "<style scoped>\n",
       "    .dataframe tbody tr th:only-of-type {\n",
       "        vertical-align: middle;\n",
       "    }\n",
       "\n",
       "    .dataframe tbody tr th {\n",
       "        vertical-align: top;\n",
       "    }\n",
       "\n",
       "    .dataframe thead th {\n",
       "        text-align: right;\n",
       "    }\n",
       "</style>\n",
       "<table border=\"1\" class=\"dataframe\">\n",
       "  <thead>\n",
       "    <tr style=\"text-align: right;\">\n",
       "      <th></th>\n",
       "      <th>annee</th>\n",
       "      <th>secondes</th>\n",
       "    </tr>\n",
       "  </thead>\n",
       "  <tbody>\n",
       "    <tr>\n",
       "      <th>62</th>\n",
       "      <td>2009</td>\n",
       "      <td>8134</td>\n",
       "    </tr>\n",
       "    <tr>\n",
       "      <th>63</th>\n",
       "      <td>2010</td>\n",
       "      <td>7968</td>\n",
       "    </tr>\n",
       "    <tr>\n",
       "      <th>64</th>\n",
       "      <td>2011</td>\n",
       "      <td>8047</td>\n",
       "    </tr>\n",
       "  </tbody>\n",
       "</table>\n",
       "</div>"
      ],
      "text/plain": [
       "    annee  secondes\n",
       "62   2009      8134\n",
       "63   2010      7968\n",
       "64   2011      8047"
      ]
     },
     "execution_count": 45,
     "metadata": {},
     "output_type": "execute_result"
    }
   ],
   "source": [
    "def max_entier(x):\n",
    "    return int(max(x))\n",
    "\n",
    "\n",
    "nb = df[[\"annee\", \"secondes\"]].groupby(\"annee\").agg(max_entier).reset_index()\n",
    "nb.tail(n=3)"
   ]
  },
  {
   "cell_type": "markdown",
   "metadata": {},
   "source": [
    "Ou encore considérer des aggrégations différentes pour chaque colonne :"
   ]
  },
  {
   "cell_type": "code",
   "execution_count": 46,
   "metadata": {},
   "outputs": [
    {
     "data": {
      "text/html": [
       "<div>\n",
       "<style scoped>\n",
       "    .dataframe tbody tr th:only-of-type {\n",
       "        vertical-align: middle;\n",
       "    }\n",
       "\n",
       "    .dataframe tbody tr th {\n",
       "        vertical-align: top;\n",
       "    }\n",
       "\n",
       "    .dataframe thead th {\n",
       "        text-align: right;\n",
       "    }\n",
       "</style>\n",
       "<table border=\"1\" class=\"dataframe\">\n",
       "  <thead>\n",
       "    <tr style=\"text-align: right;\">\n",
       "      <th></th>\n",
       "      <th>ville</th>\n",
       "      <th>secondes</th>\n",
       "    </tr>\n",
       "    <tr>\n",
       "      <th>annee</th>\n",
       "      <th></th>\n",
       "      <th></th>\n",
       "    </tr>\n",
       "  </thead>\n",
       "  <tbody>\n",
       "    <tr>\n",
       "      <th>2009</th>\n",
       "      <td>9</td>\n",
       "      <td>8134</td>\n",
       "    </tr>\n",
       "    <tr>\n",
       "      <th>2010</th>\n",
       "      <td>9</td>\n",
       "      <td>7968</td>\n",
       "    </tr>\n",
       "    <tr>\n",
       "      <th>2011</th>\n",
       "      <td>5</td>\n",
       "      <td>8047</td>\n",
       "    </tr>\n",
       "  </tbody>\n",
       "</table>\n",
       "</div>"
      ],
      "text/plain": [
       "       ville  secondes\n",
       "annee                 \n",
       "2009       9      8134\n",
       "2010       9      7968\n",
       "2011       5      8047"
      ]
     },
     "execution_count": 46,
     "metadata": {},
     "output_type": "execute_result"
    }
   ],
   "source": [
    "nb = (\n",
    "    df[[\"annee\", \"ville\", \"secondes\"]]\n",
    "    .groupby(\"annee\")\n",
    "    .agg({\"ville\": len, \"secondes\": max_entier})\n",
    ")\n",
    "nb.tail(n=3)"
   ]
  },
  {
   "cell_type": "markdown",
   "metadata": {},
   "source": [
    "On veut extraire les deux meilleurs temps par ville :"
   ]
  },
  {
   "cell_type": "code",
   "execution_count": 47,
   "metadata": {
    "collapsed": true
   },
   "outputs": [],
   "source": [
    "series = df.groupby([\"ville\"]).apply(lambda r: r[\"secondes\"].nsmallest(2))"
   ]
  },
  {
   "cell_type": "code",
   "execution_count": 48,
   "metadata": {},
   "outputs": [
    {
     "data": {
      "text/plain": [
       "[171,\n",
       " 170,\n",
       " 35,\n",
       " 38,\n",
       " 325,\n",
       " 324,\n",
       " 357,\n",
       " 347,\n",
       " 74,\n",
       " 75,\n",
       " 202,\n",
       " 200,\n",
       " 234,\n",
       " 222,\n",
       " 2,\n",
       " 0,\n",
       " 248,\n",
       " 251]"
      ]
     },
     "execution_count": 48,
     "metadata": {},
     "output_type": "execute_result"
    }
   ],
   "source": [
    "indices = [t[1] for t in series.index]\n",
    "indices"
   ]
  },
  {
   "cell_type": "code",
   "execution_count": 49,
   "metadata": {},
   "outputs": [
    {
     "data": {
      "text/html": [
       "<div>\n",
       "<style scoped>\n",
       "    .dataframe tbody tr th:only-of-type {\n",
       "        vertical-align: middle;\n",
       "    }\n",
       "\n",
       "    .dataframe tbody tr th {\n",
       "        vertical-align: top;\n",
       "    }\n",
       "\n",
       "    .dataframe thead th {\n",
       "        text-align: right;\n",
       "    }\n",
       "</style>\n",
       "<table border=\"1\" class=\"dataframe\">\n",
       "  <thead>\n",
       "    <tr style=\"text-align: right;\">\n",
       "      <th></th>\n",
       "      <th>ville</th>\n",
       "      <th>annee</th>\n",
       "      <th>temps</th>\n",
       "      <th>secondes</th>\n",
       "    </tr>\n",
       "  </thead>\n",
       "  <tbody>\n",
       "    <tr>\n",
       "      <th>171</th>\n",
       "      <td>AMSTERDAM</td>\n",
       "      <td>2010</td>\n",
       "      <td>02:05:44</td>\n",
       "      <td>7544</td>\n",
       "    </tr>\n",
       "    <tr>\n",
       "      <th>170</th>\n",
       "      <td>AMSTERDAM</td>\n",
       "      <td>2009</td>\n",
       "      <td>02:06:18</td>\n",
       "      <td>7578</td>\n",
       "    </tr>\n",
       "    <tr>\n",
       "      <th>35</th>\n",
       "      <td>BERLIN</td>\n",
       "      <td>2011</td>\n",
       "      <td>02:03:38</td>\n",
       "      <td>7418</td>\n",
       "    </tr>\n",
       "    <tr>\n",
       "      <th>38</th>\n",
       "      <td>BERLIN</td>\n",
       "      <td>2008</td>\n",
       "      <td>02:03:59</td>\n",
       "      <td>7439</td>\n",
       "    </tr>\n",
       "    <tr>\n",
       "      <th>325</th>\n",
       "      <td>BOSTON</td>\n",
       "      <td>2011</td>\n",
       "      <td>02:03:02</td>\n",
       "      <td>7382</td>\n",
       "    </tr>\n",
       "    <tr>\n",
       "      <th>324</th>\n",
       "      <td>BOSTON</td>\n",
       "      <td>2010</td>\n",
       "      <td>02:05:52</td>\n",
       "      <td>7552</td>\n",
       "    </tr>\n",
       "    <tr>\n",
       "      <th>357</th>\n",
       "      <td>CHICAGO</td>\n",
       "      <td>2009</td>\n",
       "      <td>02:05:41</td>\n",
       "      <td>7541</td>\n",
       "    </tr>\n",
       "    <tr>\n",
       "      <th>347</th>\n",
       "      <td>CHICAGO</td>\n",
       "      <td>1999</td>\n",
       "      <td>02:05:42</td>\n",
       "      <td>7542</td>\n",
       "    </tr>\n",
       "    <tr>\n",
       "      <th>74</th>\n",
       "      <td>FUKUOKA</td>\n",
       "      <td>2009</td>\n",
       "      <td>02:05:18</td>\n",
       "      <td>7518</td>\n",
       "    </tr>\n",
       "    <tr>\n",
       "      <th>75</th>\n",
       "      <td>FUKUOKA</td>\n",
       "      <td>2008</td>\n",
       "      <td>02:06:10</td>\n",
       "      <td>7570</td>\n",
       "    </tr>\n",
       "    <tr>\n",
       "      <th>202</th>\n",
       "      <td>LONDON</td>\n",
       "      <td>2011</td>\n",
       "      <td>02:04:40</td>\n",
       "      <td>7480</td>\n",
       "    </tr>\n",
       "    <tr>\n",
       "      <th>200</th>\n",
       "      <td>LONDON</td>\n",
       "      <td>2009</td>\n",
       "      <td>02:05:10</td>\n",
       "      <td>7510</td>\n",
       "    </tr>\n",
       "    <tr>\n",
       "      <th>234</th>\n",
       "      <td>NEW YORK</td>\n",
       "      <td>2001</td>\n",
       "      <td>02:07:43</td>\n",
       "      <td>7663</td>\n",
       "    </tr>\n",
       "    <tr>\n",
       "      <th>222</th>\n",
       "      <td>NEW YORK</td>\n",
       "      <td>1989</td>\n",
       "      <td>02:08:01</td>\n",
       "      <td>7681</td>\n",
       "    </tr>\n",
       "    <tr>\n",
       "      <th>2</th>\n",
       "      <td>PARIS</td>\n",
       "      <td>2009</td>\n",
       "      <td>02:05:47</td>\n",
       "      <td>7547</td>\n",
       "    </tr>\n",
       "    <tr>\n",
       "      <th>0</th>\n",
       "      <td>PARIS</td>\n",
       "      <td>2011</td>\n",
       "      <td>02:06:29</td>\n",
       "      <td>7589</td>\n",
       "    </tr>\n",
       "    <tr>\n",
       "      <th>248</th>\n",
       "      <td>STOCKOLM</td>\n",
       "      <td>1983</td>\n",
       "      <td>02:11:37</td>\n",
       "      <td>7897</td>\n",
       "    </tr>\n",
       "    <tr>\n",
       "      <th>251</th>\n",
       "      <td>STOCKOLM</td>\n",
       "      <td>1986</td>\n",
       "      <td>02:12:33</td>\n",
       "      <td>7953</td>\n",
       "    </tr>\n",
       "  </tbody>\n",
       "</table>\n",
       "</div>"
      ],
      "text/plain": [
       "         ville  annee     temps  secondes\n",
       "171  AMSTERDAM   2010  02:05:44      7544\n",
       "170  AMSTERDAM   2009  02:06:18      7578\n",
       "35      BERLIN   2011  02:03:38      7418\n",
       "38      BERLIN   2008  02:03:59      7439\n",
       "325     BOSTON   2011  02:03:02      7382\n",
       "324     BOSTON   2010  02:05:52      7552\n",
       "357    CHICAGO   2009  02:05:41      7541\n",
       "347    CHICAGO   1999  02:05:42      7542\n",
       "74     FUKUOKA   2009  02:05:18      7518\n",
       "75     FUKUOKA   2008  02:06:10      7570\n",
       "202     LONDON   2011  02:04:40      7480\n",
       "200     LONDON   2009  02:05:10      7510\n",
       "234   NEW YORK   2001  02:07:43      7663\n",
       "222   NEW YORK   1989  02:08:01      7681\n",
       "2        PARIS   2009  02:05:47      7547\n",
       "0        PARIS   2011  02:06:29      7589\n",
       "248   STOCKOLM   1983  02:11:37      7897\n",
       "251   STOCKOLM   1986  02:12:33      7953"
      ]
     },
     "execution_count": 49,
     "metadata": {},
     "output_type": "execute_result"
    }
   ],
   "source": [
    "df.loc[indices]"
   ]
  },
  {
   "cell_type": "markdown",
   "metadata": {},
   "source": [
    "#### join (_merge_ ou fusion)\n",
    "\n",
    "Fusionner deux tables consiste à apparier les lignes de la première table avec celle de la seconde si certaines colonnes de ces lignes partagent les mêmes valeurs. On distingue quatre cas :\n",
    "\n",
    "* ``INNER JOIN`` - **inner** : on garde tous les appariements réussis \n",
    "* ``LEFT OUTER JOIN`` - **left** : on garde tous les appariements réussis et les lignes non appariées de la table de gauche\n",
    "* ``RIGHT OUTER JOIN`` - **right** : on garde tous les appariements réussis et les lignes non appariées de la table de droite\n",
    "* ``FULL OUTER JOIN`` - **outer** : on garde tous les appariements réussis et les lignes non appariées des deux tables\n",
    "\n",
    "Exemples et documentation :\n",
    "* [merging, joining](https://pandas.pydata.org/pandas-docs/stable/user_guide/merging.html#merging)\n",
    "* [join](https://pandas.pydata.org/pandas-docs/stable/reference/api/pandas.DataFrame.join.html#pandas.DataFrame.join)\n",
    "* [merge](https://pandas.pydata.org/pandas-docs/stable/reference/api/pandas.merge.html) ou [DataFrame.merge](https://pandas.pydata.org/pandas-docs/stable/reference/api/pandas.DataFrame.merge.html#pandas.DataFrame.merge)\n",
    "* [jointures SQL](http://sql.sh/cours/jointures) - illustrations avec graphiques en patates\n",
    "\n",
    "Si les noms des colonnes utilisées lors de la fusion ne sont pas mentionnés, implicitement, c'est l'index qui sera choisi. Pour les grandes tables (> 1.000.000 lignes), il est fortement recommandé d'ajouter un index s'il n'existe pas avant de fusionner. **A quoi correspondent les quatre cas suivants (LEFT ou FULL ou RIGHT ou INNER) ?**"
   ]
  },
  {
   "cell_type": "code",
   "execution_count": 50,
   "metadata": {},
   "outputs": [
    {
     "data": {
      "image/png": "[encoded data removed]",
      "text/plain": [
       "<IPython.core.display.Image object>"
      ]
     },
     "execution_count": 50,
     "metadata": {},
     "output_type": "execute_result"
    }
   ],
   "source": [
    "from IPython.display import Image\n",
    "\n",
    "Image(\"patates.png\")"
   ]
  },
  {
   "cell_type": "markdown",
   "metadata": {},
   "source": [
    "On souhaite ajouter une colonne pays aux marathons se déroulant dans les villes suivantes."
   ]
  },
  {
   "cell_type": "code",
   "execution_count": 51,
   "metadata": {},
   "outputs": [
    {
     "data": {
      "text/html": [
       "<div>\n",
       "<style scoped>\n",
       "    .dataframe tbody tr th:only-of-type {\n",
       "        vertical-align: middle;\n",
       "    }\n",
       "\n",
       "    .dataframe tbody tr th {\n",
       "        vertical-align: top;\n",
       "    }\n",
       "\n",
       "    .dataframe thead th {\n",
       "        text-align: right;\n",
       "    }\n",
       "</style>\n",
       "<table border=\"1\" class=\"dataframe\">\n",
       "  <thead>\n",
       "    <tr style=\"text-align: right;\">\n",
       "      <th></th>\n",
       "      <th>V</th>\n",
       "      <th>C</th>\n",
       "    </tr>\n",
       "  </thead>\n",
       "  <tbody>\n",
       "    <tr>\n",
       "      <th>0</th>\n",
       "      <td>BOSTON</td>\n",
       "      <td>USA</td>\n",
       "    </tr>\n",
       "    <tr>\n",
       "      <th>1</th>\n",
       "      <td>NEW YORK</td>\n",
       "      <td>USA</td>\n",
       "    </tr>\n",
       "    <tr>\n",
       "      <th>2</th>\n",
       "      <td>BERLIN</td>\n",
       "      <td>Germany</td>\n",
       "    </tr>\n",
       "    <tr>\n",
       "      <th>3</th>\n",
       "      <td>LONDON</td>\n",
       "      <td>UK</td>\n",
       "    </tr>\n",
       "    <tr>\n",
       "      <th>4</th>\n",
       "      <td>PARIS</td>\n",
       "      <td>France</td>\n",
       "    </tr>\n",
       "  </tbody>\n",
       "</table>\n",
       "</div>"
      ],
      "text/plain": [
       "          V        C\n",
       "0    BOSTON      USA\n",
       "1  NEW YORK      USA\n",
       "2    BERLIN  Germany\n",
       "3    LONDON       UK\n",
       "4     PARIS   France"
      ]
     },
     "execution_count": 51,
     "metadata": {},
     "output_type": "execute_result"
    }
   ],
   "source": [
    "values = [\n",
    "    {\"V\": \"BOSTON\", \"C\": \"USA\"},\n",
    "    {\"V\": \"NEW YORK\", \"C\": \"USA\"},\n",
    "    {\"V\": \"BERLIN\", \"C\": \"Germany\"},\n",
    "    {\"V\": \"LONDON\", \"C\": \"UK\"},\n",
    "    {\"V\": \"PARIS\", \"C\": \"France\"},\n",
    "]\n",
    "pays = pandas.DataFrame(values)\n",
    "pays"
   ]
  },
  {
   "cell_type": "code",
   "execution_count": 52,
   "metadata": {},
   "outputs": [
    {
     "data": {
      "text/html": [
       "<div>\n",
       "<style scoped>\n",
       "    .dataframe tbody tr th:only-of-type {\n",
       "        vertical-align: middle;\n",
       "    }\n",
       "\n",
       "    .dataframe tbody tr th {\n",
       "        vertical-align: top;\n",
       "    }\n",
       "\n",
       "    .dataframe thead th {\n",
       "        text-align: right;\n",
       "    }\n",
       "</style>\n",
       "<table border=\"1\" class=\"dataframe\">\n",
       "  <thead>\n",
       "    <tr style=\"text-align: right;\">\n",
       "      <th></th>\n",
       "      <th>ville</th>\n",
       "      <th>annee</th>\n",
       "      <th>temps</th>\n",
       "      <th>secondes</th>\n",
       "      <th>V</th>\n",
       "      <th>C</th>\n",
       "    </tr>\n",
       "  </thead>\n",
       "  <tbody>\n",
       "    <tr>\n",
       "      <th>0</th>\n",
       "      <td>PARIS</td>\n",
       "      <td>2011</td>\n",
       "      <td>02:06:29</td>\n",
       "      <td>7589</td>\n",
       "      <td>PARIS</td>\n",
       "      <td>France</td>\n",
       "    </tr>\n",
       "    <tr>\n",
       "      <th>1</th>\n",
       "      <td>PARIS</td>\n",
       "      <td>2010</td>\n",
       "      <td>02:06:41</td>\n",
       "      <td>7601</td>\n",
       "      <td>PARIS</td>\n",
       "      <td>France</td>\n",
       "    </tr>\n",
       "    <tr>\n",
       "      <th>192</th>\n",
       "      <td>BOSTON</td>\n",
       "      <td>2010</td>\n",
       "      <td>02:05:52</td>\n",
       "      <td>7552</td>\n",
       "      <td>BOSTON</td>\n",
       "      <td>USA</td>\n",
       "    </tr>\n",
       "    <tr>\n",
       "      <th>193</th>\n",
       "      <td>BOSTON</td>\n",
       "      <td>2011</td>\n",
       "      <td>02:03:02</td>\n",
       "      <td>7382</td>\n",
       "      <td>BOSTON</td>\n",
       "      <td>USA</td>\n",
       "    </tr>\n",
       "  </tbody>\n",
       "</table>\n",
       "</div>"
      ],
      "text/plain": [
       "      ville  annee     temps  secondes       V       C\n",
       "0     PARIS   2011  02:06:29      7589   PARIS  France\n",
       "1     PARIS   2010  02:06:41      7601   PARIS  France\n",
       "192  BOSTON   2010  02:05:52      7552  BOSTON     USA\n",
       "193  BOSTON   2011  02:03:02      7382  BOSTON     USA"
      ]
     },
     "execution_count": 52,
     "metadata": {},
     "output_type": "execute_result"
    }
   ],
   "source": [
    "dfavecpays = df.merge(pays, left_on=\"ville\", right_on=\"V\")\n",
    "pandas.concat([dfavecpays.head(n=2), dfavecpays.tail(n=2)])"
   ]
  },
  {
   "cell_type": "markdown",
   "metadata": {},
   "source": [
    "**Question :** \n",
    "\n",
    "* **Que changerait l'ajout du paramètre ``how='outer'`` dans ce cas ?**\n",
    "* **On cherche à joindre deux tables A,B qui ont chacune trois clés distinctes : $c_1, c_2, c_3$. Il y a respectivement dans chaque table $A_i$ et $B_i$ lignes pour la clé $c_i$. Combien la table finale issue de la fusion des deux tables contiendra-t-elle de lignes ?**"
   ]
  },
  {
   "cell_type": "markdown",
   "metadata": {},
   "source": [
    "#### pivot (tableau croisé dynamique)\n",
    "\n",
    "Cette opération consiste à créer une seconde table en utilisant utiliser les valeurs d'une colonne comme nom de colonnes. \n",
    "\n",
    "| A | B | C |\n",
    "| --- | --- | --- |\n",
    "| A1 | B1 | C1 |\n",
    "| A1 | B2 | C2 |\n",
    "| A2 | B1 | C3 |\n",
    "| A2 | B2 | C4 |\n",
    "| A2 | B3 | C5 |\n",
    "\n",
    "L'opération ``pivot(A,B,C)`` donnera :\n",
    "\n",
    "| A | B1 | B2 | B3 |\n",
    "| --- | --- | --- | --- |\n",
    "| A1 | C1 | C2 |  |\n",
    "| A2 | C3 | C4 | C5 |\n",
    "\n",
    "* [pivot](http://pandas.pydata.org/pandas-docs/stable/generated/pandas.DataFrame.pivot.html), [pivot_table](http://pandas.pydata.org/pandas-docs/stable/generated/pandas.tools.pivot.pivot_table.html)\n",
    "* [Reshaping and Pivot Tables](http://pandas.pydata.org/pandas-docs/stable/reshaping.html)\n",
    "* [Tableau croisé dynamique - wikipédia](http://fr.wikipedia.org/wiki/Tableau_crois%C3%A9_dynamique)\n",
    "\n",
    "On applique cela aux marathons où on veut avoir les villes comme noms de colonnes et une année par ligne."
   ]
  },
  {
   "cell_type": "code",
   "execution_count": 53,
   "metadata": {},
   "outputs": [
    {
     "data": {
      "text/html": [
       "<div>\n",
       "<style scoped>\n",
       "    .dataframe tbody tr th:only-of-type {\n",
       "        vertical-align: middle;\n",
       "    }\n",
       "\n",
       "    .dataframe tbody tr th {\n",
       "        vertical-align: top;\n",
       "    }\n",
       "\n",
       "    .dataframe thead th {\n",
       "        text-align: right;\n",
       "    }\n",
       "</style>\n",
       "<table border=\"1\" class=\"dataframe\">\n",
       "  <thead>\n",
       "    <tr style=\"text-align: right;\">\n",
       "      <th>ville</th>\n",
       "      <th>AMSTERDAM</th>\n",
       "      <th>BERLIN</th>\n",
       "      <th>BOSTON</th>\n",
       "      <th>CHICAGO</th>\n",
       "      <th>FUKUOKA</th>\n",
       "      <th>LONDON</th>\n",
       "      <th>NEW YORK</th>\n",
       "      <th>PARIS</th>\n",
       "      <th>STOCKOLM</th>\n",
       "    </tr>\n",
       "    <tr>\n",
       "      <th>annee</th>\n",
       "      <th></th>\n",
       "      <th></th>\n",
       "      <th></th>\n",
       "      <th></th>\n",
       "      <th></th>\n",
       "      <th></th>\n",
       "      <th></th>\n",
       "      <th></th>\n",
       "      <th></th>\n",
       "    </tr>\n",
       "  </thead>\n",
       "  <tbody>\n",
       "    <tr>\n",
       "      <th>1967</th>\n",
       "      <td>NaN</td>\n",
       "      <td>NaN</td>\n",
       "      <td>02:15:45</td>\n",
       "      <td>NaN</td>\n",
       "      <td>02:09:37</td>\n",
       "      <td>NaN</td>\n",
       "      <td>NaN</td>\n",
       "      <td>NaN</td>\n",
       "      <td>NaN</td>\n",
       "    </tr>\n",
       "    <tr>\n",
       "      <th>1968</th>\n",
       "      <td>NaN</td>\n",
       "      <td>NaN</td>\n",
       "      <td>02:22:17</td>\n",
       "      <td>NaN</td>\n",
       "      <td>02:10:48</td>\n",
       "      <td>NaN</td>\n",
       "      <td>NaN</td>\n",
       "      <td>NaN</td>\n",
       "      <td>NaN</td>\n",
       "    </tr>\n",
       "    <tr>\n",
       "      <th>1969</th>\n",
       "      <td>NaN</td>\n",
       "      <td>NaN</td>\n",
       "      <td>02:13:49</td>\n",
       "      <td>NaN</td>\n",
       "      <td>02:11:13</td>\n",
       "      <td>NaN</td>\n",
       "      <td>NaN</td>\n",
       "      <td>NaN</td>\n",
       "      <td>NaN</td>\n",
       "    </tr>\n",
       "    <tr>\n",
       "      <th>1987</th>\n",
       "      <td>02:12:40</td>\n",
       "      <td>02:11:11</td>\n",
       "      <td>02:11:50</td>\n",
       "      <td>NaN</td>\n",
       "      <td>02:08:18</td>\n",
       "      <td>02:09:50</td>\n",
       "      <td>02:11:01</td>\n",
       "      <td>02:11:09</td>\n",
       "      <td>02:13:52</td>\n",
       "    </tr>\n",
       "    <tr>\n",
       "      <th>1988</th>\n",
       "      <td>02:12:38</td>\n",
       "      <td>02:11:45</td>\n",
       "      <td>02:08:43</td>\n",
       "      <td>02:08:57</td>\n",
       "      <td>02:11:04</td>\n",
       "      <td>02:10:20</td>\n",
       "      <td>02:08:20</td>\n",
       "      <td>02:13:53</td>\n",
       "      <td>02:14:26</td>\n",
       "    </tr>\n",
       "    <tr>\n",
       "      <th>1989</th>\n",
       "      <td>02:13:52</td>\n",
       "      <td>02:10:11</td>\n",
       "      <td>02:09:06</td>\n",
       "      <td>02:11:25</td>\n",
       "      <td>02:12:54</td>\n",
       "      <td>02:09:03</td>\n",
       "      <td>02:08:01</td>\n",
       "      <td>02:13:03</td>\n",
       "      <td>02:13:34</td>\n",
       "    </tr>\n",
       "    <tr>\n",
       "      <th>2009</th>\n",
       "      <td>02:06:18</td>\n",
       "      <td>02:06:08</td>\n",
       "      <td>02:08:42</td>\n",
       "      <td>02:05:41</td>\n",
       "      <td>02:05:18</td>\n",
       "      <td>02:05:10</td>\n",
       "      <td>02:09:15</td>\n",
       "      <td>02:05:47</td>\n",
       "      <td>02:15:34</td>\n",
       "    </tr>\n",
       "    <tr>\n",
       "      <th>2010</th>\n",
       "      <td>02:05:44</td>\n",
       "      <td>02:05:08</td>\n",
       "      <td>02:05:52</td>\n",
       "      <td>02:06:23</td>\n",
       "      <td>02:08:24</td>\n",
       "      <td>02:05:19</td>\n",
       "      <td>02:08:14</td>\n",
       "      <td>02:06:41</td>\n",
       "      <td>02:12:48</td>\n",
       "    </tr>\n",
       "    <tr>\n",
       "      <th>2011</th>\n",
       "      <td>NaN</td>\n",
       "      <td>02:03:38</td>\n",
       "      <td>02:03:02</td>\n",
       "      <td>NaN</td>\n",
       "      <td>NaN</td>\n",
       "      <td>02:04:40</td>\n",
       "      <td>NaN</td>\n",
       "      <td>02:06:29</td>\n",
       "      <td>02:14:07</td>\n",
       "    </tr>\n",
       "  </tbody>\n",
       "</table>\n",
       "</div>"
      ],
      "text/plain": [
       "ville AMSTERDAM    BERLIN    BOSTON   CHICAGO   FUKUOKA    LONDON  NEW YORK  \\\n",
       "annee                                                                         \n",
       "1967        NaN       NaN  02:15:45       NaN  02:09:37       NaN       NaN   \n",
       "1968        NaN       NaN  02:22:17       NaN  02:10:48       NaN       NaN   \n",
       "1969        NaN       NaN  02:13:49       NaN  02:11:13       NaN       NaN   \n",
       "1987   02:12:40  02:11:11  02:11:50       NaN  02:08:18  02:09:50  02:11:01   \n",
       "1988   02:12:38  02:11:45  02:08:43  02:08:57  02:11:04  02:10:20  02:08:20   \n",
       "1989   02:13:52  02:10:11  02:09:06  02:11:25  02:12:54  02:09:03  02:08:01   \n",
       "2009   02:06:18  02:06:08  02:08:42  02:05:41  02:05:18  02:05:10  02:09:15   \n",
       "2010   02:05:44  02:05:08  02:05:52  02:06:23  02:08:24  02:05:19  02:08:14   \n",
       "2011        NaN  02:03:38  02:03:02       NaN       NaN  02:04:40       NaN   \n",
       "\n",
       "ville     PARIS  STOCKOLM  \n",
       "annee                      \n",
       "1967        NaN       NaN  \n",
       "1968        NaN       NaN  \n",
       "1969        NaN       NaN  \n",
       "1987   02:11:09  02:13:52  \n",
       "1988   02:13:53  02:14:26  \n",
       "1989   02:13:03  02:13:34  \n",
       "2009   02:05:47  02:15:34  \n",
       "2010   02:06:41  02:12:48  \n",
       "2011   02:06:29  02:14:07  "
      ]
     },
     "execution_count": 53,
     "metadata": {},
     "output_type": "execute_result"
    }
   ],
   "source": [
    "piv = df.pivot(index=\"annee\", columns=\"ville\", values=\"temps\")\n",
    "pandas.concat([piv[20:23], piv[40:43], piv.tail(n=3)])"
   ]
  },
  {
   "cell_type": "markdown",
   "metadata": {},
   "source": [
    "Il existe une méthode qui effectue l'opération inverse : [Dataframe.stack](http://pandas.pydata.org/pandas-docs/dev/generated/pandas.DataFrame.stack.html)."
   ]
  },
  {
   "cell_type": "markdown",
   "metadata": {},
   "source": [
    "### Lambda fonctions\n",
    "\n",
    "Les [lambda expressions](https://docs.python.org/3.4/tutorial/controlflow.html#lambda-expressions) permettent une syntaxe plus légère (syntactic sugar) pour déclarer une fonction simple.\n",
    "Cela est très utile pour passer une fonction en argument notamment. \n",
    "Par exemple pour trier sur le 2ème element d'un tuple."
   ]
  },
  {
   "cell_type": "code",
   "execution_count": 54,
   "metadata": {},
   "outputs": [
    {
     "name": "stdout",
     "output_type": "stream",
     "text": [
      "[(4, 'four'), (1, 'one'), (3, 'three'), (2, 'two')]\n"
     ]
    }
   ],
   "source": [
    "pairs = [(1, \"one\"), (2, \"two\"), (3, \"three\"), (4, \"four\")]\n",
    "pairs.sort(key=lambda pair: pair[1])\n",
    "print(pairs)"
   ]
  },
  {
   "cell_type": "markdown",
   "metadata": {},
   "source": [
    "On peut réécrire le groupby aggrégé par ``max_entier`` en utilisant une fonction lambda"
   ]
  },
  {
   "cell_type": "code",
   "execution_count": 55,
   "metadata": {},
   "outputs": [
    {
     "data": {
      "text/html": [
       "<div>\n",
       "<style scoped>\n",
       "    .dataframe tbody tr th:only-of-type {\n",
       "        vertical-align: middle;\n",
       "    }\n",
       "\n",
       "    .dataframe tbody tr th {\n",
       "        vertical-align: top;\n",
       "    }\n",
       "\n",
       "    .dataframe thead th {\n",
       "        text-align: right;\n",
       "    }\n",
       "</style>\n",
       "<table border=\"1\" class=\"dataframe\">\n",
       "  <thead>\n",
       "    <tr style=\"text-align: right;\">\n",
       "      <th></th>\n",
       "      <th>annee</th>\n",
       "      <th>secondes</th>\n",
       "    </tr>\n",
       "  </thead>\n",
       "  <tbody>\n",
       "    <tr>\n",
       "      <th>62</th>\n",
       "      <td>2009</td>\n",
       "      <td>8134</td>\n",
       "    </tr>\n",
       "    <tr>\n",
       "      <th>63</th>\n",
       "      <td>2010</td>\n",
       "      <td>7968</td>\n",
       "    </tr>\n",
       "    <tr>\n",
       "      <th>64</th>\n",
       "      <td>2011</td>\n",
       "      <td>8047</td>\n",
       "    </tr>\n",
       "  </tbody>\n",
       "</table>\n",
       "</div>"
      ],
      "text/plain": [
       "    annee  secondes\n",
       "62   2009      8134\n",
       "63   2010      7968\n",
       "64   2011      8047"
      ]
     },
     "execution_count": 55,
     "metadata": {},
     "output_type": "execute_result"
    }
   ],
   "source": [
    "def max_entier(x):\n",
    "    return int(max(x))\n",
    "\n",
    "\n",
    "nb = df[[\"annee\", \"secondes\"]].groupby(\"annee\").agg(max_entier).reset_index()\n",
    "nb.tail(n=3)\n",
    "# same as:\n",
    "nb = df[[\"annee\", \"secondes\"]].groupby(\"annee\").agg(lambda x: int(max(x))).reset_index()\n",
    "nb.tail(n=3)"
   ]
  },
  {
   "cell_type": "markdown",
   "metadata": {},
   "source": [
    "### Exercice 2 : lambda fonction\n",
    "\n",
    "Ecrire une lambda fonction qui prend deux paramètres et qui est équivalente à la fonction suivante :"
   ]
  },
  {
   "cell_type": "code",
   "execution_count": 56,
   "metadata": {
    "collapsed": true
   },
   "outputs": [],
   "source": [
    "def delta(x, y):\n",
    "    return max(x, y) - min(x, y)"
   ]
  },
  {
   "cell_type": "markdown",
   "metadata": {},
   "source": [
    "On utilise beaucoup les lambda fonctions lorsqu'une fonction prend une fonction en argument :"
   ]
  },
  {
   "cell_type": "code",
   "execution_count": 57,
   "metadata": {},
   "outputs": [
    {
     "data": {
      "text/plain": [
       "0.3328334999999999"
      ]
     },
     "execution_count": 57,
     "metadata": {},
     "output_type": "execute_result"
    }
   ],
   "source": [
    "def riemann(a, b, f, n):\n",
    "    return sum(f(a + (b - a) * i / n) for i in range(0, n)) / n\n",
    "\n",
    "\n",
    "riemann(0, 1, lambda x: x**2, 1000)"
   ]
  },
  {
   "cell_type": "markdown",
   "metadata": {},
   "source": [
    "Ensuite, il faut utiliser une lambda fonction et la fonction [apply](http://pandas.pydata.org/pandas-docs/stable/generated/pandas.DataFrame.apply.html) pour tirer un échantillon aléatoire"
   ]
  },
  {
   "cell_type": "markdown",
   "metadata": {},
   "source": [
    "### Exercice 3 : moyennes par groupes\n",
    "    \n",
    "Toujours avec le même jeu de données ([marathon.txt](https://github.com/sdpython/teachpyx/raw/main/_data/marathon.txt)), on veut ajouter une ligne à la fin du tableau croisé dynamique contenant la moyenne en secondes des temps des marathons pour chaque ville."
   ]
  },
  {
   "cell_type": "code",
   "execution_count": null,
   "metadata": {
    "collapsed": true
   },
   "outputs": [],
   "source": []
  },
  {
   "cell_type": "markdown",
   "metadata": {},
   "source": [
    "### Avec ou sans index\n",
    "\n",
    "Une façon naïve de faire une jointure entre deux tables de taille $m$ et $n$ et de regarder toutes les $mn$ combinaisons possibles. La taille de la table résultante dépend du type de jointure (``inner``, ``outer``) et de l'unicité des clés utilisées pour la jointure. Si les clés sont uniques, la table finale aura au plus $m+n$ lignes (une par clé).\n",
    "\n",
    "Dans la plupart des cas, $O(mn)$ opérations est beaucoup trop long. On peut faire plus rapide en triant chacune des tables d'abord et en les fusionnant : $O(n \\ln n) + O(m \\ln m) + O(n+m)$. Si $m=n$, il est évident que cette façon de faire est plus rapide. C'est une des choses que fait [pandas (présentation)](http://fr.slideshare.net/wesm/a-look-at-pandas-design-and-development) (voir aussi [klib](https://github.com/attractivechaos/klib)). \n",
    "\n",
    "On peut trier une table selon une clé ou encore utiliser une [table de hachage](https://fr.wikipedia.org/wiki/Table_de_hachage)), il est alors très rapide de retrouver la ligne ou les lignes qui partagent cette clé. On dit que la table est **indexée** selon cette clé. Indexer selon une ou plusieurs colonnes une table accélère toute opération s'appuyant sur ces colonnes comme la recherche d'un élément.\n",
    "\n",
    "On veut comparer le temps nécessaire pour une recherche. Pour cela on utilise la ``%magic`` function ``%timeit`` (ou ``%%timeit`` si on veut l'[appliquer à la cellule](https://ipython.readthedocs.io/en/stable/interactive/magics.html)) de Jupyter."
   ]
  },
  {
   "cell_type": "code",
   "execution_count": 58,
   "metadata": {},
   "outputs": [
    {
     "data": {
      "text/plain": [
       "(100000, 3)"
      ]
     },
     "execution_count": 58,
     "metadata": {},
     "output_type": "execute_result"
    }
   ],
   "source": [
    "import pandas, random\n",
    "\n",
    "big_df = pandas.DataFrame(\n",
    "    {\n",
    "        \"cle1\": random.randint(1, 100),\n",
    "        \"cle2\": random.randint(1, 100),\n",
    "        \"autre\": random.randint(1, 10),\n",
    "    }\n",
    "    for i in range(0, 100000)\n",
    ")\n",
    "big_df.shape"
   ]
  },
  {
   "cell_type": "code",
   "execution_count": 59,
   "metadata": {},
   "outputs": [
    {
     "name": "stdout",
     "output_type": "stream",
     "text": [
      "784 µs ± 33.5 µs per loop (mean ± std. dev. of 7 runs, 1,000 loops each)\n"
     ]
    }
   ],
   "source": [
    "%timeit big_df[(big_df.cle1 == 1) & (big_df.cle2 == 1)]"
   ]
  },
  {
   "cell_type": "markdown",
   "metadata": {},
   "source": [
    "Et la version indexée :"
   ]
  },
  {
   "cell_type": "code",
   "execution_count": 60,
   "metadata": {},
   "outputs": [
    {
     "name": "stdout",
     "output_type": "stream",
     "text": [
      "310 µs ± 8.6 µs per loop (mean ± std. dev. of 7 runs, 1,000 loops each)\n"
     ]
    }
   ],
   "source": [
    "big_dfi = big_df.set_index([\"cle1\", \"cle2\"])\n",
    "big_dfi = big_dfi.sort_index()  # Il ne faut oublier de trier.\n",
    "\n",
    "%timeit big_dfi.loc[(1,1), :]"
   ]
  },
  {
   "cell_type": "code",
   "execution_count": 61,
   "metadata": {},
   "outputs": [
    {
     "data": {
      "text/html": [
       "<div>\n",
       "<style scoped>\n",
       "    .dataframe tbody tr th:only-of-type {\n",
       "        vertical-align: middle;\n",
       "    }\n",
       "\n",
       "    .dataframe tbody tr th {\n",
       "        vertical-align: top;\n",
       "    }\n",
       "\n",
       "    .dataframe thead th {\n",
       "        text-align: right;\n",
       "    }\n",
       "</style>\n",
       "<table border=\"1\" class=\"dataframe\">\n",
       "  <thead>\n",
       "    <tr style=\"text-align: right;\">\n",
       "      <th></th>\n",
       "      <th></th>\n",
       "      <th>autre</th>\n",
       "    </tr>\n",
       "    <tr>\n",
       "      <th>cle1</th>\n",
       "      <th>cle2</th>\n",
       "      <th></th>\n",
       "    </tr>\n",
       "  </thead>\n",
       "  <tbody>\n",
       "    <tr>\n",
       "      <th rowspan=\"5\" valign=\"top\">1</th>\n",
       "      <th>1</th>\n",
       "      <td>3</td>\n",
       "    </tr>\n",
       "    <tr>\n",
       "      <th>1</th>\n",
       "      <td>1</td>\n",
       "    </tr>\n",
       "    <tr>\n",
       "      <th>1</th>\n",
       "      <td>7</td>\n",
       "    </tr>\n",
       "    <tr>\n",
       "      <th>1</th>\n",
       "      <td>4</td>\n",
       "    </tr>\n",
       "    <tr>\n",
       "      <th>1</th>\n",
       "      <td>1</td>\n",
       "    </tr>\n",
       "  </tbody>\n",
       "</table>\n",
       "</div>"
      ],
      "text/plain": [
       "           autre\n",
       "cle1 cle2       \n",
       "1    1         3\n",
       "     1         1\n",
       "     1         7\n",
       "     1         4\n",
       "     1         1"
      ]
     },
     "execution_count": 61,
     "metadata": {},
     "output_type": "execute_result"
    }
   ],
   "source": [
    "big_dfi.head()"
   ]
  },
  {
   "cell_type": "markdown",
   "metadata": {},
   "source": [
    "**Plus la table est grande, plus le gain est important.**"
   ]
  },
  {
   "cell_type": "markdown",
   "metadata": {},
   "source": [
    "### Dates\n",
    "\n",
    "Les dates sont souvent compliquées à gérer car on n'utilise pas le mêmes format dans tous les pays. Pour faire simple, je recommande deux options :\n",
    "\n",
    "* Soit convertir les dates/heures au format chaînes de caractères ``AAAA-MM-JJ hh:mm:ss:ms`` qui permet de trier les dates par ordre croissant.\n",
    "* Soit convertir les dates/heures au format [datetime](https://docs.python.org/3/library/datetime.html) (date) ou [timedelta](https://docs.python.org/3/library/datetime.html#timedelta-objects) (durée), voir [format de date/heure](https://docs.python.org/3/library/datetime.html#strftime-strptime-behavior)).\n",
    "\n",
    "Par exemple, voici le code qui a permis de générer la colonne seconde de la table marathon :"
   ]
  },
  {
   "cell_type": "code",
   "execution_count": 62,
   "metadata": {},
   "outputs": [
    {
     "data": {
      "text/html": [
       "<div>\n",
       "<style scoped>\n",
       "    .dataframe tbody tr th:only-of-type {\n",
       "        vertical-align: middle;\n",
       "    }\n",
       "\n",
       "    .dataframe tbody tr th {\n",
       "        vertical-align: top;\n",
       "    }\n",
       "\n",
       "    .dataframe thead th {\n",
       "        text-align: right;\n",
       "    }\n",
       "</style>\n",
       "<table border=\"1\" class=\"dataframe\">\n",
       "  <thead>\n",
       "    <tr style=\"text-align: right;\">\n",
       "      <th></th>\n",
       "      <th>ville</th>\n",
       "      <th>annee</th>\n",
       "      <th>temps</th>\n",
       "      <th>secondes</th>\n",
       "    </tr>\n",
       "  </thead>\n",
       "  <tbody>\n",
       "    <tr>\n",
       "      <th>0</th>\n",
       "      <td>PARIS</td>\n",
       "      <td>2011</td>\n",
       "      <td>02:06:29</td>\n",
       "      <td>7589.0</td>\n",
       "    </tr>\n",
       "    <tr>\n",
       "      <th>1</th>\n",
       "      <td>PARIS</td>\n",
       "      <td>2010</td>\n",
       "      <td>02:06:41</td>\n",
       "      <td>7601.0</td>\n",
       "    </tr>\n",
       "    <tr>\n",
       "      <th>2</th>\n",
       "      <td>PARIS</td>\n",
       "      <td>2009</td>\n",
       "      <td>02:05:47</td>\n",
       "      <td>7547.0</td>\n",
       "    </tr>\n",
       "    <tr>\n",
       "      <th>3</th>\n",
       "      <td>PARIS</td>\n",
       "      <td>2008</td>\n",
       "      <td>02:06:40</td>\n",
       "      <td>7600.0</td>\n",
       "    </tr>\n",
       "    <tr>\n",
       "      <th>4</th>\n",
       "      <td>PARIS</td>\n",
       "      <td>2007</td>\n",
       "      <td>02:07:17</td>\n",
       "      <td>7637.0</td>\n",
       "    </tr>\n",
       "  </tbody>\n",
       "</table>\n",
       "</div>"
      ],
      "text/plain": [
       "   ville  annee     temps  secondes\n",
       "0  PARIS   2011  02:06:29    7589.0\n",
       "1  PARIS   2010  02:06:41    7601.0\n",
       "2  PARIS   2009  02:05:47    7547.0\n",
       "3  PARIS   2008  02:06:40    7600.0\n",
       "4  PARIS   2007  02:07:17    7637.0"
      ]
     },
     "execution_count": 62,
     "metadata": {},
     "output_type": "execute_result"
    }
   ],
   "source": [
    "from datetime import datetime, time\n",
    "\n",
    "df = df_marathon\n",
    "df = df[[\"ville\", \"annee\", \"temps\"]]  # on enlève la colonne secondes pour la recréer\n",
    "df[\"secondes\"] = df.apply(\n",
    "    lambda r: (\n",
    "        datetime.strptime(r.temps, \"%H:%M:%S\") - datetime(1900, 1, 1)\n",
    "    ).total_seconds(),\n",
    "    axis=1,\n",
    ")\n",
    "df.head()"
   ]
  },
  {
   "cell_type": "markdown",
   "metadata": {},
   "source": [
    "## Plot(s)"
   ]
  },
  {
   "cell_type": "markdown",
   "metadata": {},
   "source": [
    "### Récupération des données\n",
    "\n",
    "On récupère les données disponibles sur le site de l'INSEE : [Naissance, décès, mariages 2012](https://www.insee.fr/fr/statistiques/2407910?sommaire=2117120). Il s'agit de récupérer la liste des mariages de l'année 2012. On souhaite représenter le graphe du nombre de mariages en fonction de l'écart entre les mariés."
   ]
  },
  {
   "cell_type": "code",
   "execution_count": 1,
   "metadata": {},
   "outputs": [
    {
     "name": "stdout",
     "output_type": "stream",
     "text": [
      "Download of etatcivil2012_mar2012_dbase.zip: DONE!\n",
      "Download of etatcivil2012_nais2012_dbase.zip: DONE!\n",
      "Download of etatcivil2012_dec2012_dbase.zip: DONE!\n"
     ]
    }
   ],
   "source": [
    "import urllib.request\n",
    "import zipfile\n",
    "import http.client\n",
    "\n",
    "\n",
    "def download_and_save(name, root_url):\n",
    "    try:\n",
    "        response = urllib.request.urlopen(root_url + name)\n",
    "    except (TimeoutError, urllib.request.URLError, http.client.BadStatusLine):\n",
    "        # back up plan\n",
    "        root_url = (\n",
    "            \"https://github.com/sdpython/teachdata/raw/main/naissance_deces_mariage/\"\n",
    "        )\n",
    "        response = urllib.request.urlopen(root_url + name)\n",
    "    with open(name, \"wb\") as outfile:\n",
    "        outfile.write(response.read())\n",
    "\n",
    "\n",
    "def unzip(name):\n",
    "    with zipfile.ZipFile(name, \"r\") as z:\n",
    "        z.extractall(\".\")\n",
    "\n",
    "\n",
    "filenames = [\n",
    "    \"etatcivil2012_mar2012_dbase.zip\",\n",
    "    \"etatcivil2012_nais2012_dbase.zip\",\n",
    "    \"etatcivil2012_dec2012_dbase.zip\",\n",
    "]\n",
    "root_url = \"https://www.insee.fr/fr/statistiques/fichier/2407910/\"\n",
    "\n",
    "for filename in filenames:\n",
    "    download_and_save(filename, root_url)\n",
    "    unzip(filename)\n",
    "    print(\"Download of {}: DONE!\".format(filename))"
   ]
  },
  {
   "cell_type": "markdown",
   "metadata": {},
   "source": [
    "L'exemple suivant pourrait ne pas marcher si le module [dbfread](https://github.com/olemb/dbfread/) n'est pas installé. Si tel est le cas, le programme utilisera une version des données après utilisation de ce module."
   ]
  },
  {
   "cell_type": "code",
   "execution_count": 64,
   "metadata": {},
   "outputs": [
    {
     "ename": "ModuleNotFoundError",
     "evalue": "No module named 'dbfread'",
     "output_type": "error",
     "traceback": [
      "\u001b[0;31m---------------------------------------------------------------------------\u001b[0m",
      "\u001b[0;31mModuleNotFoundError\u001b[0m                       Traceback (most recent call last)",
      "Cell \u001b[0;32mIn[64], line 2\u001b[0m\n\u001b[1;32m      1\u001b[0m \u001b[38;5;28;01mimport\u001b[39;00m \u001b[38;5;21;01mpandas\u001b[39;00m\n\u001b[0;32m----> 2\u001b[0m \u001b[38;5;28;01mfrom\u001b[39;00m \u001b[38;5;21;01mdbfread\u001b[39;00m \u001b[38;5;28;01mimport\u001b[39;00m DBF\n\u001b[1;32m      5\u001b[0m \u001b[38;5;28;01mdef\u001b[39;00m \u001b[38;5;21mdBase2df\u001b[39m(dbase_filename):\n\u001b[1;32m      6\u001b[0m     table \u001b[38;5;241m=\u001b[39m DBF(dbase_filename, load\u001b[38;5;241m=\u001b[39m\u001b[38;5;28;01mTrue\u001b[39;00m, encoding\u001b[38;5;241m=\u001b[39m\u001b[38;5;124m\"\u001b[39m\u001b[38;5;124mcp437\u001b[39m\u001b[38;5;124m\"\u001b[39m)\n",
      "\u001b[0;31mModuleNotFoundError\u001b[0m: No module named 'dbfread'"
     ]
    }
   ],
   "source": [
    "import pandas\n",
    "from dbfread import DBF\n",
    "\n",
    "\n",
    "def dBase2df(dbase_filename):\n",
    "    table = DBF(dbase_filename, load=True, encoding=\"cp437\")\n",
    "    return pandas.DataFrame(table.records)\n",
    "\n",
    "\n",
    "df = df_civil = dBase2df(\"mar2012.dbf\")\n",
    "# df.to_csv(\"mar2012.txt\", sep=\"\\t\", encoding=\"utf8\", index=False)\n",
    "\n",
    "df.shape, df.columns"
   ]
  },
  {
   "cell_type": "markdown",
   "metadata": {},
   "source": [
    "L'[encoding](http://fr.wikipedia.org/wiki/Codage_des_caract%C3%A8res) est une façon de représenter les caractères spéciaux (comme les caractères accentuées). L'encoding le plus répandu est ``utf-8``. Sans la mention ``encoding=\"cp437\"``, la fonction qui lit le fichier fait des erreurs lors de la lecture car elle ne sait pas comment interpréter certains caractères spéciaux. On récupère de la même manière la signification des variables :"
   ]
  },
  {
   "cell_type": "code",
   "execution_count": null,
   "metadata": {},
   "outputs": [
    {
     "name": "stdout",
     "output_type": "stream",
     "text": [
      "(16, 4) Index(['VARIABLE', 'LIBELLE', 'TYPE', 'LONGUEUR'], dtype='object')\n"
     ]
    },
    {
     "data": {
      "text/html": [
       "<div>\n",
       "<style scoped>\n",
       "    .dataframe tbody tr th:only-of-type {\n",
       "        vertical-align: middle;\n",
       "    }\n",
       "\n",
       "    .dataframe tbody tr th {\n",
       "        vertical-align: top;\n",
       "    }\n",
       "\n",
       "    .dataframe thead th {\n",
       "        text-align: right;\n",
       "    }\n",
       "</style>\n",
       "<table border=\"1\" class=\"dataframe\">\n",
       "  <thead>\n",
       "    <tr style=\"text-align: right;\">\n",
       "      <th></th>\n",
       "      <th>VARIABLE</th>\n",
       "      <th>LIBELLE</th>\n",
       "      <th>TYPE</th>\n",
       "      <th>LONGUEUR</th>\n",
       "    </tr>\n",
       "  </thead>\n",
       "  <tbody>\n",
       "    <tr>\n",
       "      <th>0</th>\n",
       "      <td>AMAR</td>\n",
       "      <td>Année du mariage</td>\n",
       "      <td>CHAR</td>\n",
       "      <td>4</td>\n",
       "    </tr>\n",
       "    <tr>\n",
       "      <th>1</th>\n",
       "      <td>ANAISF</td>\n",
       "      <td>Année de naissance de l'épouse</td>\n",
       "      <td>CHAR</td>\n",
       "      <td>4</td>\n",
       "    </tr>\n",
       "    <tr>\n",
       "      <th>2</th>\n",
       "      <td>ANAISH</td>\n",
       "      <td>Année de naissance de l'époux</td>\n",
       "      <td>CHAR</td>\n",
       "      <td>4</td>\n",
       "    </tr>\n",
       "    <tr>\n",
       "      <th>3</th>\n",
       "      <td>DEPDOM</td>\n",
       "      <td>Département de domicile après le mariage</td>\n",
       "      <td>CHAR</td>\n",
       "      <td>3</td>\n",
       "    </tr>\n",
       "    <tr>\n",
       "      <th>4</th>\n",
       "      <td>DEPMAR</td>\n",
       "      <td>Département de mariage</td>\n",
       "      <td>CHAR</td>\n",
       "      <td>3</td>\n",
       "    </tr>\n",
       "    <tr>\n",
       "      <th>5</th>\n",
       "      <td>DEPNAISF</td>\n",
       "      <td>Département de naissance de l'épouse</td>\n",
       "      <td>CHAR</td>\n",
       "      <td>3</td>\n",
       "    </tr>\n",
       "    <tr>\n",
       "      <th>6</th>\n",
       "      <td>DEPNAISH</td>\n",
       "      <td>Département de naissance de l'époux</td>\n",
       "      <td>CHAR</td>\n",
       "      <td>3</td>\n",
       "    </tr>\n",
       "    <tr>\n",
       "      <th>7</th>\n",
       "      <td>ETAMATF</td>\n",
       "      <td>État matrimonial antérieur de l'épouse</td>\n",
       "      <td>CHAR</td>\n",
       "      <td>1</td>\n",
       "    </tr>\n",
       "    <tr>\n",
       "      <th>8</th>\n",
       "      <td>ETAMATH</td>\n",
       "      <td>État matrimonial antérieur de l'époux</td>\n",
       "      <td>CHAR</td>\n",
       "      <td>1</td>\n",
       "    </tr>\n",
       "    <tr>\n",
       "      <th>9</th>\n",
       "      <td>INDNATF</td>\n",
       "      <td>Indicateur de nationalité de l'épouse</td>\n",
       "      <td>CHAR</td>\n",
       "      <td>1</td>\n",
       "    </tr>\n",
       "    <tr>\n",
       "      <th>10</th>\n",
       "      <td>INDNATH</td>\n",
       "      <td>Indicateur de nationalité de l'époux</td>\n",
       "      <td>CHAR</td>\n",
       "      <td>1</td>\n",
       "    </tr>\n",
       "    <tr>\n",
       "      <th>11</th>\n",
       "      <td>JSEMAINE</td>\n",
       "      <td>Jour du mariage dans la semaine</td>\n",
       "      <td>CHAR</td>\n",
       "      <td>1</td>\n",
       "    </tr>\n",
       "    <tr>\n",
       "      <th>12</th>\n",
       "      <td>MMAR</td>\n",
       "      <td>Mois du mariage</td>\n",
       "      <td>CHAR</td>\n",
       "      <td>2</td>\n",
       "    </tr>\n",
       "    <tr>\n",
       "      <th>13</th>\n",
       "      <td>NBENFCOM</td>\n",
       "      <td>Enfants en commun avant le mariage</td>\n",
       "      <td>CHAR</td>\n",
       "      <td>1</td>\n",
       "    </tr>\n",
       "    <tr>\n",
       "      <th>14</th>\n",
       "      <td>TUCOM</td>\n",
       "      <td>Tranche de commune du lieu de domicile des époux</td>\n",
       "      <td>CHAR</td>\n",
       "      <td>1</td>\n",
       "    </tr>\n",
       "    <tr>\n",
       "      <th>15</th>\n",
       "      <td>TUDOM</td>\n",
       "      <td>Tranche d'unité urbaine du lieu de domicile de...</td>\n",
       "      <td>CHAR</td>\n",
       "      <td>1</td>\n",
       "    </tr>\n",
       "  </tbody>\n",
       "</table>\n",
       "</div>"
      ],
      "text/plain": [
       "    VARIABLE                                            LIBELLE  TYPE  \\\n",
       "0       AMAR                                   Année du mariage  CHAR   \n",
       "1     ANAISF                     Année de naissance de l'épouse  CHAR   \n",
       "2     ANAISH                      Année de naissance de l'époux  CHAR   \n",
       "3    DEPDOM            Département de domicile après le mariage  CHAR   \n",
       "4     DEPMAR                             Département de mariage  CHAR   \n",
       "5   DEPNAISF               Département de naissance de l'épouse  CHAR   \n",
       "6   DEPNAISH                Département de naissance de l'époux  CHAR   \n",
       "7    ETAMATF             État matrimonial antérieur de l'épouse  CHAR   \n",
       "8    ETAMATH              État matrimonial antérieur de l'époux  CHAR   \n",
       "9    INDNATF              Indicateur de nationalité de l'épouse  CHAR   \n",
       "10   INDNATH               Indicateur de nationalité de l'époux  CHAR   \n",
       "11  JSEMAINE                    Jour du mariage dans la semaine  CHAR   \n",
       "12      MMAR                                    Mois du mariage  CHAR   \n",
       "13  NBENFCOM                 Enfants en commun avant le mariage  CHAR   \n",
       "14     TUCOM   Tranche de commune du lieu de domicile des époux  CHAR   \n",
       "15     TUDOM  Tranche d'unité urbaine du lieu de domicile de...  CHAR   \n",
       "\n",
       "    LONGUEUR  \n",
       "0          4  \n",
       "1          4  \n",
       "2          4  \n",
       "3          3  \n",
       "4          3  \n",
       "5          3  \n",
       "6          3  \n",
       "7          1  \n",
       "8          1  \n",
       "9          1  \n",
       "10         1  \n",
       "11         1  \n",
       "12         2  \n",
       "13         1  \n",
       "14         1  \n",
       "15         1  "
      ]
     },
     "execution_count": 281,
     "metadata": {},
     "output_type": "execute_result"
    }
   ],
   "source": [
    "vardf = dBase2df(\"varlist_mariages.dbf\")\n",
    "print(vardf.shape, vardf.columns)\n",
    "vardf"
   ]
  },
  {
   "cell_type": "markdown",
   "metadata": {},
   "source": [
    "### Exercice 4 : nuage de points\n",
    "\n",
    "On veut tracer un nuage de points avec en abscisse l'âge du mari, en ordonnée, l'âge de la femme. Il faudra peut-être jeter un coup d'oeil sur la documentation de la méthode [plot](http://pandas.pydata.org/pandas-docs/stable/generated/pandas.DataFrame.plot.html). Etant donné le nombre d'observations, ce graphe risque d'être moins lisible qu'une [heatmap](http://pandas.pydata.org/pandas-docs/stable/visualization.html#visualization-hexbin)."
   ]
  },
  {
   "cell_type": "code",
   "execution_count": null,
   "metadata": {},
   "outputs": [],
   "source": [
    "# df.plot(...)"
   ]
  },
  {
   "cell_type": "markdown",
   "metadata": {},
   "source": [
    "### Exercice 5 : graphe d'une distribution avec pandas\n",
    "\n",
    "En ajoutant une colonne et en utilisant l'opération [group by](http://pandas.pydata.org/pandas-docs/stable/groupby.html), on veut obtenir la distribution du nombre de mariages en fonction de l'écart entre les mariés. Au besoin, on changera le type d'une colone ou deux. Le module ``pandas`` propose un panel de graphiques standard faciles à obtenir. On souhaite représenter la distribution sous forme d'histogramme. A vous de choisir le meilleure graphique depuis la page [Visualization](http://pandas.pydata.org/pandas-docs/stable/visualization.html)."
   ]
  },
  {
   "cell_type": "code",
   "execution_count": null,
   "metadata": {
    "collapsed": true
   },
   "outputs": [],
   "source": [
    "# df[\"colonne\"] = df.apply(lambda r: int(r[\"colonne\"]), axis=1)  # pour changer de type\n",
    "# df[\"difference\"] = ..."
   ]
  },
  {
   "cell_type": "markdown",
   "metadata": {},
   "source": [
    "### matplotlib\n",
    "\n",
    "[matplotlib](http://matplotlib.org/) est le module qu'utilise [pandas](http://pandas.pydata.org/). Ainsi, la méthode [plot](http://pandas.pydata.org/pandas-docs/stable/generated/pandas.DataFrame.plot.html) retourne un objet de type [Axes](http://matplotlib.org/api/axes_api.html#module-matplotlib.axes) qu'on peut modifier par la suite via les [méthodes suivantes](http://matplotlib.org/api/pyplot_summary.html). On peut ajouter un titre avec [set_title](http://matplotlib.org/api/axes_api.html#matplotlib.axes.Axes.set_title) ou ajouter une grille avec [grid](http://matplotlib.org/api/axes_api.html#matplotlib.axes.Axes.grid). On peut également superposer [deux courbes sur le même graphique](http://stackoverflow.com/questions/19941685/how-to-show-a-bar-and-line-graph-on-the-same-plot), ou [changer de taille de caractères](http://stackoverflow.com/questions/12444716/how-do-i-set-figure-title-and-axes-labels-font-size-in-matplotlib). Le code suivant trace le nombre de mariages par département."
   ]
  },
  {
   "cell_type": "code",
   "execution_count": null,
   "metadata": {},
   "outputs": [
    {
     "data": {
      "image/png": "[encoded data removed]",
      "text/plain": [
       "<Figure size 1800x600 with 1 Axes>"
      ]
     },
     "metadata": {},
     "output_type": "display_data"
    }
   ],
   "source": [
    "df[\"nb\"] = 1\n",
    "dep = (\n",
    "    df[[\"DEPMAR\", \"nb\"]]\n",
    "    .groupby(\"DEPMAR\", as_index=False)\n",
    "    .sum()\n",
    "    .sort_values(\"nb\", ascending=False)\n",
    ")\n",
    "ax = dep.plot(kind=\"bar\", figsize=(18, 6))\n",
    "ax.set_xlabel(\"départements\", fontsize=16)\n",
    "ax.set_title(\"nombre de mariages par départements\", fontsize=16)\n",
    "ax.legend().set_visible(False)  # on supprime la légende"
   ]
  },
  {
   "cell_type": "markdown",
   "metadata": {},
   "source": [
    "Quand on ne sait pas, le plus simple est d'utiliser un moteur de recherche avec un requête du type : ``matplotlib + requête``. Pour créer un graphique, le plus courant est de choisir le graphique le plus ressemblant d'une [gallerie de graphes](http://matplotlib.org/gallery.html) puis de l'adapter à vos données."
   ]
  },
  {
   "cell_type": "markdown",
   "metadata": {},
   "source": [
    "### Exercice 6 : distribution des mariages par jour\n",
    "    \n",
    "On veut obtenir un graphe qui contient l'histogramme de la distribution du nombre de mariages par jour de la semaine et d'ajouter une seconde courbe correspond avec un second axe à la répartition cumulée.\n"
   ]
  },
  {
   "cell_type": "code",
   "execution_count": null,
   "metadata": {
    "collapsed": true
   },
   "outputs": [],
   "source": []
  },
  {
   "cell_type": "markdown",
   "metadata": {},
   "source": [
    "## Annexes\n",
    "\n",
    "\n",
    "### Créer un fichier Excel avec plusieurs feuilles\n",
    "\n",
    "La page [Allow ExcelWriter() to add sheets to existing workbook](https://github.com/pydata/pandas/issues/3441) donne plusieurs exemples d'écriture. On diminue la taille du document Excel à écrire."
   ]
  },
  {
   "cell_type": "code",
   "execution_count": null,
   "metadata": {
    "collapsed": true
   },
   "outputs": [],
   "source": [
    "df1000 = df[:1000]"
   ]
  },
  {
   "cell_type": "code",
   "execution_count": null,
   "metadata": {
    "collapsed": true
   },
   "outputs": [],
   "source": [
    "import pandas\n",
    "\n",
    "writer = pandas.ExcelWriter(\"ton_example100.xlsx\")\n",
    "df1000.to_excel(writer, \"Data 0\")\n",
    "df1000.to_excel(writer, \"Data 1\")\n",
    "writer.close()"
   ]
  },
  {
   "cell_type": "markdown",
   "metadata": {
    "collapsed": true
   },
   "source": [
    "## Eléments de réponses pour les exercices"
   ]
  },
  {
   "cell_type": "markdown",
   "metadata": {},
   "source": [
    "### Exercice 1 : créer un fichier Excel"
   ]
  },
  {
   "cell_type": "markdown",
   "metadata": {},
   "source": [
    "On souhaite récupérer les données [donnees_enquete_2003_television.txt](https://github.com/sdpython/teachpyx/raw/main/_data/donnees_enquete_2003_television.txt).\n",
    "\n",
    "* ``POIDSLOG`` : Pondération individuelle relative\n",
    "* ``POIDSF`` : Variable de pondération individuelle\n",
    "* ``cLT1FREQ`` : Nombre d'heures en moyenne passées à regarder la télévision \n",
    "* ``cLT2FREQ`` : Unité de temps utilisée pour compter le nombre d'heures passées à regarder la télévision, cette unité est représentée par les quatre valeurs suivantes\n",
    "    * 0 : non concerné\n",
    "    * 1 : jour\n",
    "    * 2 : semaine\n",
    "    * 3 : mois \n",
    "    \n",
    "Ensuite, on veut :\n",
    "\n",
    "1. Supprimer les colonnes vides\n",
    "2. Obtenir les valeurs distinctes  pour la colonne ``cLT2FREQ``\n",
    "3. Modifier la matrice pour enlever les lignes pour lesquelles l'unité de temps (cLT2FREQ) n'est pas renseignée ou égale à zéro.\n",
    "4. Sauver le résultat au format Excel.\n",
    "\n",
    "Vous aurez peut-être besoin des fonctions suivantes :\n",
    "\n",
    "* [numpy.isnan](https://numpy.org/doc/stable/reference/generated/numpy.isnan.html)\n",
    "* [DataFrame.apply](https://pandas.pydata.org/pandas-docs/stable/reference/api/pandas.DataFrame.apply.html)\n",
    "* [DataFrame.fillna](https://pandas.pydata.org/pandas-docs/stable/reference/api/pandas.DataFrame.fillna.html) ou [DataFrame.isnull](https://pandas.pydata.org/pandas-docs/stable/reference/api/pandas.DataFrame.isnull.html) ou [DataFrame.notnull](https://pandas.pydata.org/pandas-docs/stable/reference/api/pandas.DataFrame.notnull.html)\n",
    "* [DataFrame.copy](https://pandas.pydata.org/pandas-docs/stable/reference/api/pandas.DataFrame.copy.html)"
   ]
  },
  {
   "cell_type": "code",
   "execution_count": null,
   "metadata": {},
   "outputs": [
    {
     "data": {
      "text/html": [
       "<div>\n",
       "<style scoped>\n",
       "    .dataframe tbody tr th:only-of-type {\n",
       "        vertical-align: middle;\n",
       "    }\n",
       "\n",
       "    .dataframe tbody tr th {\n",
       "        vertical-align: top;\n",
       "    }\n",
       "\n",
       "    .dataframe thead th {\n",
       "        text-align: right;\n",
       "    }\n",
       "</style>\n",
       "<table border=\"1\" class=\"dataframe\">\n",
       "  <thead>\n",
       "    <tr style=\"text-align: right;\">\n",
       "      <th></th>\n",
       "      <th>POIDLOG</th>\n",
       "      <th>POIDSF</th>\n",
       "      <th>cLT1FREQ</th>\n",
       "      <th>cLT2FREQ</th>\n",
       "      <th>Unnamed: 4</th>\n",
       "      <th>Unnamed: 5</th>\n",
       "      <th>Unnamed: 6</th>\n",
       "      <th>Unnamed: 7</th>\n",
       "      <th>Unnamed: 8</th>\n",
       "      <th>Unnamed: 9</th>\n",
       "      <th>...</th>\n",
       "      <th>Unnamed: 22</th>\n",
       "      <th>Unnamed: 23</th>\n",
       "      <th>Unnamed: 24</th>\n",
       "      <th>Unnamed: 25</th>\n",
       "      <th>Unnamed: 26</th>\n",
       "      <th>Unnamed: 27</th>\n",
       "      <th>Unnamed: 28</th>\n",
       "      <th>Unnamed: 29</th>\n",
       "      <th>Unnamed: 30</th>\n",
       "      <th>Unnamed: 31</th>\n",
       "    </tr>\n",
       "  </thead>\n",
       "  <tbody>\n",
       "    <tr>\n",
       "      <th>0</th>\n",
       "      <td>0.889422</td>\n",
       "      <td>4766.865201</td>\n",
       "      <td>2</td>\n",
       "      <td>1.0</td>\n",
       "      <td>NaN</td>\n",
       "      <td>NaN</td>\n",
       "      <td>NaN</td>\n",
       "      <td>NaN</td>\n",
       "      <td>NaN</td>\n",
       "      <td>NaN</td>\n",
       "      <td>...</td>\n",
       "      <td>NaN</td>\n",
       "      <td>NaN</td>\n",
       "      <td>NaN</td>\n",
       "      <td>NaN</td>\n",
       "      <td>NaN</td>\n",
       "      <td>NaN</td>\n",
       "      <td>NaN</td>\n",
       "      <td>NaN</td>\n",
       "      <td>NaN</td>\n",
       "      <td>NaN</td>\n",
       "    </tr>\n",
       "    <tr>\n",
       "      <th>1</th>\n",
       "      <td>2.310209</td>\n",
       "      <td>12381.589746</td>\n",
       "      <td>30</td>\n",
       "      <td>1.0</td>\n",
       "      <td>NaN</td>\n",
       "      <td>NaN</td>\n",
       "      <td>NaN</td>\n",
       "      <td>NaN</td>\n",
       "      <td>NaN</td>\n",
       "      <td>NaN</td>\n",
       "      <td>...</td>\n",
       "      <td>NaN</td>\n",
       "      <td>NaN</td>\n",
       "      <td>NaN</td>\n",
       "      <td>NaN</td>\n",
       "      <td>NaN</td>\n",
       "      <td>NaN</td>\n",
       "      <td>NaN</td>\n",
       "      <td>NaN</td>\n",
       "      <td>NaN</td>\n",
       "      <td>NaN</td>\n",
       "    </tr>\n",
       "    <tr>\n",
       "      <th>2</th>\n",
       "      <td>2.740070</td>\n",
       "      <td>14685.431344</td>\n",
       "      <td>6</td>\n",
       "      <td>2.0</td>\n",
       "      <td>NaN</td>\n",
       "      <td>NaN</td>\n",
       "      <td>NaN</td>\n",
       "      <td>NaN</td>\n",
       "      <td>NaN</td>\n",
       "      <td>NaN</td>\n",
       "      <td>...</td>\n",
       "      <td>NaN</td>\n",
       "      <td>NaN</td>\n",
       "      <td>NaN</td>\n",
       "      <td>NaN</td>\n",
       "      <td>NaN</td>\n",
       "      <td>NaN</td>\n",
       "      <td>NaN</td>\n",
       "      <td>NaN</td>\n",
       "      <td>NaN</td>\n",
       "      <td>NaN</td>\n",
       "    </tr>\n",
       "    <tr>\n",
       "      <th>3</th>\n",
       "      <td>1.775545</td>\n",
       "      <td>9516.049939</td>\n",
       "      <td>1</td>\n",
       "      <td>1.0</td>\n",
       "      <td>NaN</td>\n",
       "      <td>NaN</td>\n",
       "      <td>NaN</td>\n",
       "      <td>NaN</td>\n",
       "      <td>NaN</td>\n",
       "      <td>NaN</td>\n",
       "      <td>...</td>\n",
       "      <td>NaN</td>\n",
       "      <td>NaN</td>\n",
       "      <td>NaN</td>\n",
       "      <td>NaN</td>\n",
       "      <td>NaN</td>\n",
       "      <td>NaN</td>\n",
       "      <td>NaN</td>\n",
       "      <td>NaN</td>\n",
       "      <td>NaN</td>\n",
       "      <td>NaN</td>\n",
       "    </tr>\n",
       "    <tr>\n",
       "      <th>4</th>\n",
       "      <td>0.732512</td>\n",
       "      <td>3925.907588</td>\n",
       "      <td>3</td>\n",
       "      <td>1.0</td>\n",
       "      <td>NaN</td>\n",
       "      <td>NaN</td>\n",
       "      <td>NaN</td>\n",
       "      <td>NaN</td>\n",
       "      <td>NaN</td>\n",
       "      <td>NaN</td>\n",
       "      <td>...</td>\n",
       "      <td>NaN</td>\n",
       "      <td>NaN</td>\n",
       "      <td>NaN</td>\n",
       "      <td>NaN</td>\n",
       "      <td>NaN</td>\n",
       "      <td>NaN</td>\n",
       "      <td>NaN</td>\n",
       "      <td>NaN</td>\n",
       "      <td>NaN</td>\n",
       "      <td>NaN</td>\n",
       "    </tr>\n",
       "  </tbody>\n",
       "</table>\n",
       "<p>5 rows × 32 columns</p>\n",
       "</div>"
      ],
      "text/plain": [
       "    POIDLOG        POIDSF  cLT1FREQ  cLT2FREQ  Unnamed: 4  Unnamed: 5  \\\n",
       "0  0.889422   4766.865201         2       1.0         NaN         NaN   \n",
       "1  2.310209  12381.589746        30       1.0         NaN         NaN   \n",
       "2  2.740070  14685.431344         6       2.0         NaN         NaN   \n",
       "3  1.775545   9516.049939         1       1.0         NaN         NaN   \n",
       "4  0.732512   3925.907588         3       1.0         NaN         NaN   \n",
       "\n",
       "   Unnamed: 6  Unnamed: 7  Unnamed: 8  Unnamed: 9  ...  Unnamed: 22  \\\n",
       "0         NaN         NaN         NaN         NaN  ...          NaN   \n",
       "1         NaN         NaN         NaN         NaN  ...          NaN   \n",
       "2         NaN         NaN         NaN         NaN  ...          NaN   \n",
       "3         NaN         NaN         NaN         NaN  ...          NaN   \n",
       "4         NaN         NaN         NaN         NaN  ...          NaN   \n",
       "\n",
       "   Unnamed: 23  Unnamed: 24  Unnamed: 25  Unnamed: 26  Unnamed: 27  \\\n",
       "0          NaN          NaN          NaN          NaN          NaN   \n",
       "1          NaN          NaN          NaN          NaN          NaN   \n",
       "2          NaN          NaN          NaN          NaN          NaN   \n",
       "3          NaN          NaN          NaN          NaN          NaN   \n",
       "4          NaN          NaN          NaN          NaN          NaN   \n",
       "\n",
       "   Unnamed: 28  Unnamed: 29  Unnamed: 30  Unnamed: 31  \n",
       "0          NaN          NaN          NaN          NaN  \n",
       "1          NaN          NaN          NaN          NaN  \n",
       "2          NaN          NaN          NaN          NaN  \n",
       "3          NaN          NaN          NaN          NaN  \n",
       "4          NaN          NaN          NaN          NaN  \n",
       "\n",
       "[5 rows x 32 columns]"
      ]
     },
     "execution_count": 287,
     "metadata": {},
     "output_type": "execute_result"
    }
   ],
   "source": [
    "df = pandas.read_csv(\n",
    "    \"https://github.com/sdpython/teachpyx/raw/main/_data/donnees_enquete_2003_television.txt\",\n",
    "    sep=\"\\t\",\n",
    ")\n",
    "df.head()"
   ]
  },
  {
   "cell_type": "markdown",
   "metadata": {},
   "source": [
    "On enlève les colonnes vides :"
   ]
  },
  {
   "cell_type": "code",
   "execution_count": null,
   "metadata": {},
   "outputs": [
    {
     "data": {
      "text/html": [
       "<div>\n",
       "<style scoped>\n",
       "    .dataframe tbody tr th:only-of-type {\n",
       "        vertical-align: middle;\n",
       "    }\n",
       "\n",
       "    .dataframe tbody tr th {\n",
       "        vertical-align: top;\n",
       "    }\n",
       "\n",
       "    .dataframe thead th {\n",
       "        text-align: right;\n",
       "    }\n",
       "</style>\n",
       "<table border=\"1\" class=\"dataframe\">\n",
       "  <thead>\n",
       "    <tr style=\"text-align: right;\">\n",
       "      <th></th>\n",
       "      <th>POIDLOG</th>\n",
       "      <th>POIDSF</th>\n",
       "      <th>cLT1FREQ</th>\n",
       "      <th>cLT2FREQ</th>\n",
       "    </tr>\n",
       "  </thead>\n",
       "  <tbody>\n",
       "    <tr>\n",
       "      <th>0</th>\n",
       "      <td>0.889422</td>\n",
       "      <td>4766.865201</td>\n",
       "      <td>2</td>\n",
       "      <td>1.0</td>\n",
       "    </tr>\n",
       "    <tr>\n",
       "      <th>1</th>\n",
       "      <td>2.310209</td>\n",
       "      <td>12381.589746</td>\n",
       "      <td>30</td>\n",
       "      <td>1.0</td>\n",
       "    </tr>\n",
       "    <tr>\n",
       "      <th>2</th>\n",
       "      <td>2.740070</td>\n",
       "      <td>14685.431344</td>\n",
       "      <td>6</td>\n",
       "      <td>2.0</td>\n",
       "    </tr>\n",
       "    <tr>\n",
       "      <th>3</th>\n",
       "      <td>1.775545</td>\n",
       "      <td>9516.049939</td>\n",
       "      <td>1</td>\n",
       "      <td>1.0</td>\n",
       "    </tr>\n",
       "    <tr>\n",
       "      <th>4</th>\n",
       "      <td>0.732512</td>\n",
       "      <td>3925.907588</td>\n",
       "      <td>3</td>\n",
       "      <td>1.0</td>\n",
       "    </tr>\n",
       "  </tbody>\n",
       "</table>\n",
       "</div>"
      ],
      "text/plain": [
       "    POIDLOG        POIDSF  cLT1FREQ  cLT2FREQ\n",
       "0  0.889422   4766.865201         2       1.0\n",
       "1  2.310209  12381.589746        30       1.0\n",
       "2  2.740070  14685.431344         6       2.0\n",
       "3  1.775545   9516.049939         1       1.0\n",
       "4  0.732512   3925.907588         3       1.0"
      ]
     },
     "execution_count": 288,
     "metadata": {},
     "output_type": "execute_result"
    }
   ],
   "source": [
    "df = df[[c for c in df.columns if \"Unnamed\" not in c]]\n",
    "df.head()"
   ]
  },
  {
   "cell_type": "code",
   "execution_count": null,
   "metadata": {},
   "outputs": [
    {
     "name": "stdout",
     "output_type": "stream",
     "text": [
      "8403 7386\n"
     ]
    },
    {
     "data": {
      "text/html": [
       "<div>\n",
       "<style scoped>\n",
       "    .dataframe tbody tr th:only-of-type {\n",
       "        vertical-align: middle;\n",
       "    }\n",
       "\n",
       "    .dataframe tbody tr th {\n",
       "        vertical-align: top;\n",
       "    }\n",
       "\n",
       "    .dataframe thead th {\n",
       "        text-align: right;\n",
       "    }\n",
       "</style>\n",
       "<table border=\"1\" class=\"dataframe\">\n",
       "  <thead>\n",
       "    <tr style=\"text-align: right;\">\n",
       "      <th></th>\n",
       "      <th>POIDLOG</th>\n",
       "      <th>POIDSF</th>\n",
       "      <th>cLT1FREQ</th>\n",
       "      <th>cLT2FREQ</th>\n",
       "    </tr>\n",
       "  </thead>\n",
       "  <tbody>\n",
       "    <tr>\n",
       "      <th>8397</th>\n",
       "      <td>0.502091</td>\n",
       "      <td>2690.961176</td>\n",
       "      <td>3</td>\n",
       "      <td>1.0</td>\n",
       "    </tr>\n",
       "    <tr>\n",
       "      <th>8398</th>\n",
       "      <td>0.306852</td>\n",
       "      <td>1644.574141</td>\n",
       "      <td>6</td>\n",
       "      <td>1.0</td>\n",
       "    </tr>\n",
       "    <tr>\n",
       "      <th>8399</th>\n",
       "      <td>2.501181</td>\n",
       "      <td>13405.104689</td>\n",
       "      <td>6</td>\n",
       "      <td>1.0</td>\n",
       "    </tr>\n",
       "    <tr>\n",
       "      <th>8400</th>\n",
       "      <td>1.382758</td>\n",
       "      <td>7410.905653</td>\n",
       "      <td>1</td>\n",
       "      <td>1.0</td>\n",
       "    </tr>\n",
       "    <tr>\n",
       "      <th>8401</th>\n",
       "      <td>0.343340</td>\n",
       "      <td>1840.132652</td>\n",
       "      <td>3</td>\n",
       "      <td>1.0</td>\n",
       "    </tr>\n",
       "  </tbody>\n",
       "</table>\n",
       "</div>"
      ],
      "text/plain": [
       "       POIDLOG        POIDSF  cLT1FREQ  cLT2FREQ\n",
       "8397  0.502091   2690.961176         3       1.0\n",
       "8398  0.306852   1644.574141         6       1.0\n",
       "8399  2.501181  13405.104689         6       1.0\n",
       "8400  1.382758   7410.905653         1       1.0\n",
       "8401  0.343340   1840.132652         3       1.0"
      ]
     },
     "execution_count": 289,
     "metadata": {},
     "output_type": "execute_result"
    }
   ],
   "source": [
    "notnull = df[~df.cLT2FREQ.isnull()]  # équivalent )  df [ df.cLT2FREQ.notnull() ]\n",
    "print(len(df), len(notnull))\n",
    "notnull.tail()"
   ]
  },
  {
   "cell_type": "code",
   "execution_count": null,
   "metadata": {},
   "outputs": [],
   "source": [
    "notnull.to_excel(\"data.xlsx\")  # question 4"
   ]
  },
  {
   "cell_type": "markdown",
   "metadata": {},
   "source": [
    "**Questions**\n",
    "\n",
    "* Que changerait l'ajout du paramètre ``how='outer'`` dans ce cas ?\n",
    "* On cherche à joindre deux tables A,B qui ont chacune trois clés distinctes : $c_1, c_2, c_3$. Il y a respectivement dans chaque table $A_i$ et $B_i$ lignes pour la clé $c_i$. Combien la table finale issue de la fusion des deux tables contiendra-t-elle de lignes ?"
   ]
  },
  {
   "cell_type": "markdown",
   "metadata": {},
   "source": [
    "L'ajout du paramètres ``how='outer'`` ne changerait rien dans ce cas car les deux tables fusionnées contiennent exactement les mêmes clés.\n",
    "\n",
    "Le nombre de lignes obtenus serait $\\sum_{i=1}^{3} A_i B_i$. Il y a trois clés, chaque ligne de la table A doit être associée à toutes les lignes de la table B partageant la même clé."
   ]
  },
  {
   "cell_type": "markdown",
   "metadata": {},
   "source": [
    "### Exercice 2 : lambda function\n",
    "\n",
    "Ecrire une *lambda function* qui prend deux paramètres et qui est équivalente à la fonction suivante"
   ]
  },
  {
   "cell_type": "code",
   "execution_count": null,
   "metadata": {},
   "outputs": [],
   "source": [
    "def delta(x, y):\n",
    "    return max(x, y) - min(x, y)"
   ]
  },
  {
   "cell_type": "code",
   "execution_count": null,
   "metadata": {},
   "outputs": [],
   "source": [
    "delta = lambda x, y: max(x, y) - min(x, y)"
   ]
  },
  {
   "cell_type": "code",
   "execution_count": null,
   "metadata": {},
   "outputs": [
    {
     "data": {
      "text/plain": [
       "1"
      ]
     },
     "execution_count": 293,
     "metadata": {},
     "output_type": "execute_result"
    }
   ],
   "source": [
    "delta(4, 5)"
   ]
  },
  {
   "cell_type": "code",
   "execution_count": null,
   "metadata": {},
   "outputs": [
    {
     "data": {
      "text/plain": [
       "((830, 5), (8403, 5))"
      ]
     },
     "execution_count": 294,
     "metadata": {},
     "output_type": "execute_result"
    }
   ],
   "source": [
    "import random\n",
    "\n",
    "df[\"select\"] = df.apply(lambda row: random.randint(1, 10), axis=1)\n",
    "echantillon = df[df[\"select\"] == 1]\n",
    "echantillon.shape, df.shape"
   ]
  },
  {
   "cell_type": "markdown",
   "metadata": {},
   "source": [
    "### Exercice 3 : moyennes par groupes\n",
    "\n",
    "Toujours avec le même jeu de données, on veut ajouter une ligne à la fin du tableau croisé dynamique contenant la moyenne en secondes des temps des marathons pour chaque ville.\n",
    "\n",
    "La solution requiert trois étapes.\n",
    "\n",
    "1. Pour avoir la moyenne par villes, il faut grouper les lignes associées à la même villes.\n",
    "2. Ensuite, il faut introduire ces moyennes dans la table initiale : on fusionne.\n",
    "3. On effectue le même pivot que dans l'énoncé."
   ]
  },
  {
   "cell_type": "code",
   "execution_count": null,
   "metadata": {},
   "outputs": [
    {
     "data": {
      "text/html": [
       "<div>\n",
       "<style scoped>\n",
       "    .dataframe tbody tr th:only-of-type {\n",
       "        vertical-align: middle;\n",
       "    }\n",
       "\n",
       "    .dataframe tbody tr th {\n",
       "        vertical-align: top;\n",
       "    }\n",
       "\n",
       "    .dataframe thead th {\n",
       "        text-align: right;\n",
       "    }\n",
       "</style>\n",
       "<table border=\"1\" class=\"dataframe\">\n",
       "  <thead>\n",
       "    <tr style=\"text-align: right;\">\n",
       "      <th></th>\n",
       "      <th>ville</th>\n",
       "      <th>secondes</th>\n",
       "    </tr>\n",
       "  </thead>\n",
       "  <tbody>\n",
       "    <tr>\n",
       "      <th>0</th>\n",
       "      <td>AMSTERDAM</td>\n",
       "      <td>7883.371429</td>\n",
       "    </tr>\n",
       "    <tr>\n",
       "      <th>1</th>\n",
       "      <td>BERLIN</td>\n",
       "      <td>7922.315789</td>\n",
       "    </tr>\n",
       "    <tr>\n",
       "      <th>2</th>\n",
       "      <td>BOSTON</td>\n",
       "      <td>7891.061224</td>\n",
       "    </tr>\n",
       "    <tr>\n",
       "      <th>3</th>\n",
       "      <td>CHICAGO</td>\n",
       "      <td>7815.909091</td>\n",
       "    </tr>\n",
       "    <tr>\n",
       "      <th>4</th>\n",
       "      <td>FUKUOKA</td>\n",
       "      <td>8075.187500</td>\n",
       "    </tr>\n",
       "  </tbody>\n",
       "</table>\n",
       "</div>"
      ],
      "text/plain": [
       "       ville     secondes\n",
       "0  AMSTERDAM  7883.371429\n",
       "1     BERLIN  7922.315789\n",
       "2     BOSTON  7891.061224\n",
       "3    CHICAGO  7815.909091\n",
       "4    FUKUOKA  8075.187500"
      ]
     },
     "execution_count": 295,
     "metadata": {},
     "output_type": "execute_result"
    }
   ],
   "source": [
    "# étape 1\n",
    "# par défaut, la méthode groupby utilise la clé de group comme index\n",
    "# pour ne pas le faire, il faut préciser as_index = False\n",
    "df = df_marathon\n",
    "gr = df[[\"ville\", \"secondes\"]].groupby(\"ville\", as_index=False).mean()\n",
    "gr.head()"
   ]
  },
  {
   "cell_type": "code",
   "execution_count": null,
   "metadata": {},
   "outputs": [
    {
     "data": {
      "text/html": [
       "<div>\n",
       "<style scoped>\n",
       "    .dataframe tbody tr th:only-of-type {\n",
       "        vertical-align: middle;\n",
       "    }\n",
       "\n",
       "    .dataframe tbody tr th {\n",
       "        vertical-align: top;\n",
       "    }\n",
       "\n",
       "    .dataframe thead th {\n",
       "        text-align: right;\n",
       "    }\n",
       "</style>\n",
       "<table border=\"1\" class=\"dataframe\">\n",
       "  <thead>\n",
       "    <tr style=\"text-align: right;\">\n",
       "      <th></th>\n",
       "      <th>ville</th>\n",
       "      <th>annee</th>\n",
       "      <th>temps</th>\n",
       "      <th>secondes_x</th>\n",
       "      <th>secondes_y</th>\n",
       "    </tr>\n",
       "  </thead>\n",
       "  <tbody>\n",
       "    <tr>\n",
       "      <th>0</th>\n",
       "      <td>PARIS</td>\n",
       "      <td>2011</td>\n",
       "      <td>02:06:29</td>\n",
       "      <td>7589</td>\n",
       "      <td>7937.028571</td>\n",
       "    </tr>\n",
       "    <tr>\n",
       "      <th>1</th>\n",
       "      <td>PARIS</td>\n",
       "      <td>2010</td>\n",
       "      <td>02:06:41</td>\n",
       "      <td>7601</td>\n",
       "      <td>7937.028571</td>\n",
       "    </tr>\n",
       "    <tr>\n",
       "      <th>2</th>\n",
       "      <td>PARIS</td>\n",
       "      <td>2009</td>\n",
       "      <td>02:05:47</td>\n",
       "      <td>7547</td>\n",
       "      <td>7937.028571</td>\n",
       "    </tr>\n",
       "    <tr>\n",
       "      <th>3</th>\n",
       "      <td>PARIS</td>\n",
       "      <td>2008</td>\n",
       "      <td>02:06:40</td>\n",
       "      <td>7600</td>\n",
       "      <td>7937.028571</td>\n",
       "    </tr>\n",
       "    <tr>\n",
       "      <th>4</th>\n",
       "      <td>PARIS</td>\n",
       "      <td>2007</td>\n",
       "      <td>02:07:17</td>\n",
       "      <td>7637</td>\n",
       "      <td>7937.028571</td>\n",
       "    </tr>\n",
       "  </tbody>\n",
       "</table>\n",
       "</div>"
      ],
      "text/plain": [
       "   ville  annee     temps  secondes_x   secondes_y\n",
       "0  PARIS   2011  02:06:29        7589  7937.028571\n",
       "1  PARIS   2010  02:06:41        7601  7937.028571\n",
       "2  PARIS   2009  02:05:47        7547  7937.028571\n",
       "3  PARIS   2008  02:06:40        7600  7937.028571\n",
       "4  PARIS   2007  02:07:17        7637  7937.028571"
      ]
     },
     "execution_count": 296,
     "metadata": {},
     "output_type": "execute_result"
    }
   ],
   "source": [
    "# étape 2 - on ajoute une colonne\n",
    "tout = df.merge(gr, on=\"ville\")\n",
    "tout.head()"
   ]
  },
  {
   "cell_type": "code",
   "execution_count": null,
   "metadata": {},
   "outputs": [
    {
     "data": {
      "text/html": [
       "<div>\n",
       "<style scoped>\n",
       "    .dataframe tbody tr th:only-of-type {\n",
       "        vertical-align: middle;\n",
       "    }\n",
       "\n",
       "    .dataframe tbody tr th {\n",
       "        vertical-align: top;\n",
       "    }\n",
       "\n",
       "    .dataframe thead th {\n",
       "        text-align: right;\n",
       "    }\n",
       "</style>\n",
       "<table border=\"1\" class=\"dataframe\">\n",
       "  <thead>\n",
       "    <tr style=\"text-align: right;\">\n",
       "      <th>ville</th>\n",
       "      <th>AMSTERDAM</th>\n",
       "      <th>BERLIN</th>\n",
       "      <th>BOSTON</th>\n",
       "      <th>CHICAGO</th>\n",
       "      <th>FUKUOKA</th>\n",
       "      <th>LONDON</th>\n",
       "      <th>NEW YORK</th>\n",
       "      <th>PARIS</th>\n",
       "      <th>STOCKOLM</th>\n",
       "    </tr>\n",
       "    <tr>\n",
       "      <th>annee</th>\n",
       "      <th></th>\n",
       "      <th></th>\n",
       "      <th></th>\n",
       "      <th></th>\n",
       "      <th></th>\n",
       "      <th></th>\n",
       "      <th></th>\n",
       "      <th></th>\n",
       "      <th></th>\n",
       "    </tr>\n",
       "  </thead>\n",
       "  <tbody>\n",
       "    <tr>\n",
       "      <th>2007</th>\n",
       "      <td>7589.0</td>\n",
       "      <td>7466.0</td>\n",
       "      <td>8053.0</td>\n",
       "      <td>7871.0</td>\n",
       "      <td>7599.0</td>\n",
       "      <td>7661.0</td>\n",
       "      <td>7744.0</td>\n",
       "      <td>7637.0</td>\n",
       "      <td>8456.0</td>\n",
       "    </tr>\n",
       "    <tr>\n",
       "      <th>2008</th>\n",
       "      <td>7672.0</td>\n",
       "      <td>7439.0</td>\n",
       "      <td>7665.0</td>\n",
       "      <td>7585.0</td>\n",
       "      <td>7570.0</td>\n",
       "      <td>7515.0</td>\n",
       "      <td>7723.0</td>\n",
       "      <td>7600.0</td>\n",
       "      <td>8163.0</td>\n",
       "    </tr>\n",
       "    <tr>\n",
       "      <th>2009</th>\n",
       "      <td>7578.0</td>\n",
       "      <td>7568.0</td>\n",
       "      <td>7722.0</td>\n",
       "      <td>7541.0</td>\n",
       "      <td>7518.0</td>\n",
       "      <td>7510.0</td>\n",
       "      <td>7755.0</td>\n",
       "      <td>7547.0</td>\n",
       "      <td>8134.0</td>\n",
       "    </tr>\n",
       "    <tr>\n",
       "      <th>2010</th>\n",
       "      <td>7544.0</td>\n",
       "      <td>7508.0</td>\n",
       "      <td>7552.0</td>\n",
       "      <td>7583.0</td>\n",
       "      <td>7704.0</td>\n",
       "      <td>7519.0</td>\n",
       "      <td>7694.0</td>\n",
       "      <td>7601.0</td>\n",
       "      <td>7968.0</td>\n",
       "    </tr>\n",
       "    <tr>\n",
       "      <th>2011</th>\n",
       "      <td>NaN</td>\n",
       "      <td>7418.0</td>\n",
       "      <td>7382.0</td>\n",
       "      <td>NaN</td>\n",
       "      <td>NaN</td>\n",
       "      <td>7480.0</td>\n",
       "      <td>NaN</td>\n",
       "      <td>7589.0</td>\n",
       "      <td>8047.0</td>\n",
       "    </tr>\n",
       "  </tbody>\n",
       "</table>\n",
       "</div>"
      ],
      "text/plain": [
       "ville  AMSTERDAM  BERLIN  BOSTON  CHICAGO  FUKUOKA  LONDON  NEW YORK   PARIS  \\\n",
       "annee                                                                          \n",
       "2007      7589.0  7466.0  8053.0   7871.0   7599.0  7661.0    7744.0  7637.0   \n",
       "2008      7672.0  7439.0  7665.0   7585.0   7570.0  7515.0    7723.0  7600.0   \n",
       "2009      7578.0  7568.0  7722.0   7541.0   7518.0  7510.0    7755.0  7547.0   \n",
       "2010      7544.0  7508.0  7552.0   7583.0   7704.0  7519.0    7694.0  7601.0   \n",
       "2011         NaN  7418.0  7382.0      NaN      NaN  7480.0       NaN  7589.0   \n",
       "\n",
       "ville  STOCKOLM  \n",
       "annee            \n",
       "2007     8456.0  \n",
       "2008     8163.0  \n",
       "2009     8134.0  \n",
       "2010     7968.0  \n",
       "2011     8047.0  "
      ]
     },
     "execution_count": 297,
     "metadata": {},
     "output_type": "execute_result"
    }
   ],
   "source": [
    "# étape 3\n",
    "piv = tout.pivot(index=\"annee\", columns=\"ville\", values=\"secondes_x\")\n",
    "piv.tail()"
   ]
  },
  {
   "cell_type": "markdown",
   "metadata": {},
   "source": []
  },
  {
   "cell_type": "markdown",
   "metadata": {},
   "source": [
    "A partir de là, on ne voit pas trop comment s'en sortir. Voici ce que je propose :\n",
    "\n",
    "1. On effectue un pivot sur la petite matrice des moyennes.\n",
    "2. On ajoute ce second pivot avec le premier (celui de l'énoncé)."
   ]
  },
  {
   "cell_type": "code",
   "execution_count": null,
   "metadata": {},
   "outputs": [
    {
     "data": {
      "text/html": [
       "<div>\n",
       "<style scoped>\n",
       "    .dataframe tbody tr th:only-of-type {\n",
       "        vertical-align: middle;\n",
       "    }\n",
       "\n",
       "    .dataframe tbody tr th {\n",
       "        vertical-align: top;\n",
       "    }\n",
       "\n",
       "    .dataframe thead th {\n",
       "        text-align: right;\n",
       "    }\n",
       "</style>\n",
       "<table border=\"1\" class=\"dataframe\">\n",
       "  <thead>\n",
       "    <tr style=\"text-align: right;\">\n",
       "      <th>secondes</th>\n",
       "      <th>7695.161290</th>\n",
       "      <th>7815.909091</th>\n",
       "      <th>7883.371429</th>\n",
       "      <th>7891.061224</th>\n",
       "      <th>7922.315789</th>\n",
       "      <th>7928.560976</th>\n",
       "      <th>7937.028571</th>\n",
       "      <th>8075.187500</th>\n",
       "      <th>8133.393939</th>\n",
       "    </tr>\n",
       "    <tr>\n",
       "      <th>annee</th>\n",
       "      <th></th>\n",
       "      <th></th>\n",
       "      <th></th>\n",
       "      <th></th>\n",
       "      <th></th>\n",
       "      <th></th>\n",
       "      <th></th>\n",
       "      <th></th>\n",
       "      <th></th>\n",
       "    </tr>\n",
       "  </thead>\n",
       "  <tbody>\n",
       "    <tr>\n",
       "      <th>moyenne</th>\n",
       "      <td>LONDON</td>\n",
       "      <td>CHICAGO</td>\n",
       "      <td>AMSTERDAM</td>\n",
       "      <td>BOSTON</td>\n",
       "      <td>BERLIN</td>\n",
       "      <td>NEW YORK</td>\n",
       "      <td>PARIS</td>\n",
       "      <td>FUKUOKA</td>\n",
       "      <td>STOCKOLM</td>\n",
       "    </tr>\n",
       "  </tbody>\n",
       "</table>\n",
       "</div>"
      ],
      "text/plain": [
       "secondes 7695.161290 7815.909091 7883.371429 7891.061224 7922.315789  \\\n",
       "annee                                                                  \n",
       "moyenne       LONDON     CHICAGO   AMSTERDAM      BOSTON      BERLIN   \n",
       "\n",
       "secondes 7928.560976 7937.028571 8075.187500 8133.393939  \n",
       "annee                                                     \n",
       "moyenne     NEW YORK       PARIS     FUKUOKA    STOCKOLM  "
      ]
     },
     "execution_count": 298,
     "metadata": {},
     "output_type": "execute_result"
    }
   ],
   "source": [
    "gr[\"annee\"] = \"moyenne\"\n",
    "pivmean = gr.pivot(index=\"annee\", values=\"ville\", columns=\"secondes\")\n",
    "pivmean"
   ]
  },
  {
   "cell_type": "code",
   "execution_count": null,
   "metadata": {},
   "outputs": [
    {
     "data": {
      "text/html": [
       "<div>\n",
       "<style scoped>\n",
       "    .dataframe tbody tr th:only-of-type {\n",
       "        vertical-align: middle;\n",
       "    }\n",
       "\n",
       "    .dataframe tbody tr th {\n",
       "        vertical-align: top;\n",
       "    }\n",
       "\n",
       "    .dataframe thead th {\n",
       "        text-align: right;\n",
       "    }\n",
       "</style>\n",
       "<table border=\"1\" class=\"dataframe\">\n",
       "  <thead>\n",
       "    <tr style=\"text-align: right;\">\n",
       "      <th></th>\n",
       "      <th>AMSTERDAM</th>\n",
       "      <th>BERLIN</th>\n",
       "      <th>BOSTON</th>\n",
       "      <th>CHICAGO</th>\n",
       "      <th>FUKUOKA</th>\n",
       "      <th>LONDON</th>\n",
       "      <th>NEW YORK</th>\n",
       "      <th>PARIS</th>\n",
       "      <th>STOCKOLM</th>\n",
       "      <th>7695.1612903225805</th>\n",
       "      <th>7815.909090909091</th>\n",
       "      <th>7883.371428571429</th>\n",
       "      <th>7891.061224489796</th>\n",
       "      <th>7922.315789473684</th>\n",
       "      <th>7928.5609756097565</th>\n",
       "      <th>7937.028571428571</th>\n",
       "      <th>8075.1875</th>\n",
       "      <th>8133.393939393939</th>\n",
       "    </tr>\n",
       "    <tr>\n",
       "      <th>annee</th>\n",
       "      <th></th>\n",
       "      <th></th>\n",
       "      <th></th>\n",
       "      <th></th>\n",
       "      <th></th>\n",
       "      <th></th>\n",
       "      <th></th>\n",
       "      <th></th>\n",
       "      <th></th>\n",
       "      <th></th>\n",
       "      <th></th>\n",
       "      <th></th>\n",
       "      <th></th>\n",
       "      <th></th>\n",
       "      <th></th>\n",
       "      <th></th>\n",
       "      <th></th>\n",
       "      <th></th>\n",
       "    </tr>\n",
       "  </thead>\n",
       "  <tbody>\n",
       "    <tr>\n",
       "      <th>2008</th>\n",
       "      <td>7672.0</td>\n",
       "      <td>7439.0</td>\n",
       "      <td>7665.0</td>\n",
       "      <td>7585.0</td>\n",
       "      <td>7570.0</td>\n",
       "      <td>7515.0</td>\n",
       "      <td>7723.0</td>\n",
       "      <td>7600.0</td>\n",
       "      <td>8163.0</td>\n",
       "      <td>NaN</td>\n",
       "      <td>NaN</td>\n",
       "      <td>NaN</td>\n",
       "      <td>NaN</td>\n",
       "      <td>NaN</td>\n",
       "      <td>NaN</td>\n",
       "      <td>NaN</td>\n",
       "      <td>NaN</td>\n",
       "      <td>NaN</td>\n",
       "    </tr>\n",
       "    <tr>\n",
       "      <th>2009</th>\n",
       "      <td>7578.0</td>\n",
       "      <td>7568.0</td>\n",
       "      <td>7722.0</td>\n",
       "      <td>7541.0</td>\n",
       "      <td>7518.0</td>\n",
       "      <td>7510.0</td>\n",
       "      <td>7755.0</td>\n",
       "      <td>7547.0</td>\n",
       "      <td>8134.0</td>\n",
       "      <td>NaN</td>\n",
       "      <td>NaN</td>\n",
       "      <td>NaN</td>\n",
       "      <td>NaN</td>\n",
       "      <td>NaN</td>\n",
       "      <td>NaN</td>\n",
       "      <td>NaN</td>\n",
       "      <td>NaN</td>\n",
       "      <td>NaN</td>\n",
       "    </tr>\n",
       "    <tr>\n",
       "      <th>2010</th>\n",
       "      <td>7544.0</td>\n",
       "      <td>7508.0</td>\n",
       "      <td>7552.0</td>\n",
       "      <td>7583.0</td>\n",
       "      <td>7704.0</td>\n",
       "      <td>7519.0</td>\n",
       "      <td>7694.0</td>\n",
       "      <td>7601.0</td>\n",
       "      <td>7968.0</td>\n",
       "      <td>NaN</td>\n",
       "      <td>NaN</td>\n",
       "      <td>NaN</td>\n",
       "      <td>NaN</td>\n",
       "      <td>NaN</td>\n",
       "      <td>NaN</td>\n",
       "      <td>NaN</td>\n",
       "      <td>NaN</td>\n",
       "      <td>NaN</td>\n",
       "    </tr>\n",
       "    <tr>\n",
       "      <th>2011</th>\n",
       "      <td>NaN</td>\n",
       "      <td>7418.0</td>\n",
       "      <td>7382.0</td>\n",
       "      <td>NaN</td>\n",
       "      <td>NaN</td>\n",
       "      <td>7480.0</td>\n",
       "      <td>NaN</td>\n",
       "      <td>7589.0</td>\n",
       "      <td>8047.0</td>\n",
       "      <td>NaN</td>\n",
       "      <td>NaN</td>\n",
       "      <td>NaN</td>\n",
       "      <td>NaN</td>\n",
       "      <td>NaN</td>\n",
       "      <td>NaN</td>\n",
       "      <td>NaN</td>\n",
       "      <td>NaN</td>\n",
       "      <td>NaN</td>\n",
       "    </tr>\n",
       "    <tr>\n",
       "      <th>moyenne</th>\n",
       "      <td>NaN</td>\n",
       "      <td>NaN</td>\n",
       "      <td>NaN</td>\n",
       "      <td>NaN</td>\n",
       "      <td>NaN</td>\n",
       "      <td>NaN</td>\n",
       "      <td>NaN</td>\n",
       "      <td>NaN</td>\n",
       "      <td>NaN</td>\n",
       "      <td>LONDON</td>\n",
       "      <td>CHICAGO</td>\n",
       "      <td>AMSTERDAM</td>\n",
       "      <td>BOSTON</td>\n",
       "      <td>BERLIN</td>\n",
       "      <td>NEW YORK</td>\n",
       "      <td>PARIS</td>\n",
       "      <td>FUKUOKA</td>\n",
       "      <td>STOCKOLM</td>\n",
       "    </tr>\n",
       "  </tbody>\n",
       "</table>\n",
       "</div>"
      ],
      "text/plain": [
       "         AMSTERDAM  BERLIN  BOSTON  CHICAGO  FUKUOKA  LONDON  NEW YORK  \\\n",
       "annee                                                                    \n",
       "2008        7672.0  7439.0  7665.0   7585.0   7570.0  7515.0    7723.0   \n",
       "2009        7578.0  7568.0  7722.0   7541.0   7518.0  7510.0    7755.0   \n",
       "2010        7544.0  7508.0  7552.0   7583.0   7704.0  7519.0    7694.0   \n",
       "2011           NaN  7418.0  7382.0      NaN      NaN  7480.0       NaN   \n",
       "moyenne        NaN     NaN     NaN      NaN      NaN     NaN       NaN   \n",
       "\n",
       "          PARIS  STOCKOLM 7695.1612903225805 7815.909090909091  \\\n",
       "annee                                                            \n",
       "2008     7600.0    8163.0                NaN               NaN   \n",
       "2009     7547.0    8134.0                NaN               NaN   \n",
       "2010     7601.0    7968.0                NaN               NaN   \n",
       "2011     7589.0    8047.0                NaN               NaN   \n",
       "moyenne     NaN       NaN             LONDON           CHICAGO   \n",
       "\n",
       "        7883.371428571429 7891.061224489796 7922.315789473684  \\\n",
       "annee                                                           \n",
       "2008                  NaN               NaN               NaN   \n",
       "2009                  NaN               NaN               NaN   \n",
       "2010                  NaN               NaN               NaN   \n",
       "2011                  NaN               NaN               NaN   \n",
       "moyenne         AMSTERDAM            BOSTON            BERLIN   \n",
       "\n",
       "        7928.5609756097565 7937.028571428571 8075.1875 8133.393939393939  \n",
       "annee                                                                     \n",
       "2008                   NaN               NaN       NaN               NaN  \n",
       "2009                   NaN               NaN       NaN               NaN  \n",
       "2010                   NaN               NaN       NaN               NaN  \n",
       "2011                   NaN               NaN       NaN               NaN  \n",
       "moyenne           NEW YORK             PARIS   FUKUOKA          STOCKOLM  "
      ]
     },
     "execution_count": 299,
     "metadata": {},
     "output_type": "execute_result"
    }
   ],
   "source": [
    "piv = df.pivot(index=\"annee\", columns=\"ville\", values=\"secondes\")\n",
    "pandas.concat([piv, pivmean]).tail()"
   ]
  },
  {
   "cell_type": "markdown",
   "metadata": {},
   "source": [
    "En résumé, cela donne (j'ajoute aussi le nombre de marathons courus) :"
   ]
  },
  {
   "cell_type": "code",
   "execution_count": null,
   "metadata": {},
   "outputs": [
    {
     "data": {
      "text/html": [
       "<div>\n",
       "<style scoped>\n",
       "    .dataframe tbody tr th:only-of-type {\n",
       "        vertical-align: middle;\n",
       "    }\n",
       "\n",
       "    .dataframe tbody tr th {\n",
       "        vertical-align: top;\n",
       "    }\n",
       "\n",
       "    .dataframe thead th {\n",
       "        text-align: right;\n",
       "    }\n",
       "</style>\n",
       "<table border=\"1\" class=\"dataframe\">\n",
       "  <thead>\n",
       "    <tr style=\"text-align: right;\">\n",
       "      <th>ville</th>\n",
       "      <th>AMSTERDAM</th>\n",
       "      <th>BERLIN</th>\n",
       "      <th>BOSTON</th>\n",
       "      <th>CHICAGO</th>\n",
       "      <th>FUKUOKA</th>\n",
       "      <th>LONDON</th>\n",
       "      <th>NEW YORK</th>\n",
       "      <th>PARIS</th>\n",
       "      <th>STOCKOLM</th>\n",
       "    </tr>\n",
       "    <tr>\n",
       "      <th>annee</th>\n",
       "      <th></th>\n",
       "      <th></th>\n",
       "      <th></th>\n",
       "      <th></th>\n",
       "      <th></th>\n",
       "      <th></th>\n",
       "      <th></th>\n",
       "      <th></th>\n",
       "      <th></th>\n",
       "    </tr>\n",
       "  </thead>\n",
       "  <tbody>\n",
       "    <tr>\n",
       "      <th>2008</th>\n",
       "      <td>7672.000000</td>\n",
       "      <td>7439.000000</td>\n",
       "      <td>7665.000000</td>\n",
       "      <td>7585.000000</td>\n",
       "      <td>7570.0000</td>\n",
       "      <td>7515.00000</td>\n",
       "      <td>7723.000000</td>\n",
       "      <td>7600.000000</td>\n",
       "      <td>8163.000000</td>\n",
       "    </tr>\n",
       "    <tr>\n",
       "      <th>2009</th>\n",
       "      <td>7578.000000</td>\n",
       "      <td>7568.000000</td>\n",
       "      <td>7722.000000</td>\n",
       "      <td>7541.000000</td>\n",
       "      <td>7518.0000</td>\n",
       "      <td>7510.00000</td>\n",
       "      <td>7755.000000</td>\n",
       "      <td>7547.000000</td>\n",
       "      <td>8134.000000</td>\n",
       "    </tr>\n",
       "    <tr>\n",
       "      <th>2010</th>\n",
       "      <td>7544.000000</td>\n",
       "      <td>7508.000000</td>\n",
       "      <td>7552.000000</td>\n",
       "      <td>7583.000000</td>\n",
       "      <td>7704.0000</td>\n",
       "      <td>7519.00000</td>\n",
       "      <td>7694.000000</td>\n",
       "      <td>7601.000000</td>\n",
       "      <td>7968.000000</td>\n",
       "    </tr>\n",
       "    <tr>\n",
       "      <th>2011</th>\n",
       "      <td>NaN</td>\n",
       "      <td>7418.000000</td>\n",
       "      <td>7382.000000</td>\n",
       "      <td>NaN</td>\n",
       "      <td>NaN</td>\n",
       "      <td>7480.00000</td>\n",
       "      <td>NaN</td>\n",
       "      <td>7589.000000</td>\n",
       "      <td>8047.000000</td>\n",
       "    </tr>\n",
       "    <tr>\n",
       "      <th>moyenne</th>\n",
       "      <td>7883.371429</td>\n",
       "      <td>7922.315789</td>\n",
       "      <td>7891.061224</td>\n",
       "      <td>7815.909091</td>\n",
       "      <td>8075.1875</td>\n",
       "      <td>7695.16129</td>\n",
       "      <td>7928.560976</td>\n",
       "      <td>7937.028571</td>\n",
       "      <td>8133.393939</td>\n",
       "    </tr>\n",
       "  </tbody>\n",
       "</table>\n",
       "</div>"
      ],
      "text/plain": [
       "ville      AMSTERDAM       BERLIN       BOSTON      CHICAGO    FUKUOKA  \\\n",
       "annee                                                                    \n",
       "2008     7672.000000  7439.000000  7665.000000  7585.000000  7570.0000   \n",
       "2009     7578.000000  7568.000000  7722.000000  7541.000000  7518.0000   \n",
       "2010     7544.000000  7508.000000  7552.000000  7583.000000  7704.0000   \n",
       "2011             NaN  7418.000000  7382.000000          NaN        NaN   \n",
       "moyenne  7883.371429  7922.315789  7891.061224  7815.909091  8075.1875   \n",
       "\n",
       "ville        LONDON     NEW YORK        PARIS     STOCKOLM  \n",
       "annee                                                       \n",
       "2008     7515.00000  7723.000000  7600.000000  8163.000000  \n",
       "2009     7510.00000  7755.000000  7547.000000  8134.000000  \n",
       "2010     7519.00000  7694.000000  7601.000000  7968.000000  \n",
       "2011     7480.00000          NaN  7589.000000  8047.000000  \n",
       "moyenne  7695.16129  7928.560976  7937.028571  8133.393939  "
      ]
     },
     "execution_count": 300,
     "metadata": {},
     "output_type": "execute_result"
    }
   ],
   "source": [
    "piv = df.pivot(index=\"annee\", columns=\"ville\", values=\"secondes\")\n",
    "gr = df[[\"ville\", \"secondes\"]].groupby(\"ville\", as_index=False).mean()\n",
    "gr[\"annee\"] = \"moyenne\"\n",
    "pivmean = gr.pivot(index=\"annee\", columns=\"ville\", values=\"secondes\")\n",
    "\n",
    "pandas.concat([piv, pivmean]).tail()"
   ]
  },
  {
   "cell_type": "markdown",
   "metadata": {},
   "source": [
    "### Exercice 4 : écart entre les mariés\n",
    "\n",
    "1. En ajoutant une colonne et en utilisant l'opération [group by](https://pandas.pydata.org/pandas-docs/stable/reference/api/pandas.DataFrame.groupby.html), on veut obtenir la distribution du nombre de mariages en fonction de l'écart entre les mariés. Au besoin, on changera le type d'une colone ou deux.\n",
    "2. On veut tracer un nuage de points avec en abscisse l'âge du mari, en ordonnée, l'âge de la femme. Il faudra peut-être jeter un coup d'oeil sur la documentation de la méthode [plot](https://pandas.pydata.org/pandas-docs/stable/reference/api/pandas.DataFrame.plot.html#pandas.DataFrame.plot)."
   ]
  },
  {
   "cell_type": "code",
   "execution_count": null,
   "metadata": {},
   "outputs": [
    {
     "name": "stdout",
     "output_type": "stream",
     "text": [
      "(246123, 17) Index(['ANAISH', 'DEPNAISH', 'INDNATH', 'ETAMATH', 'ANAISF', 'DEPNAISF',\n",
      "       'INDNATF', 'ETAMATF', 'AMAR', 'MMAR', 'JSEMAINE', 'DEPMAR', 'DEPDOM',\n",
      "       'TUDOM', 'TUCOM', 'NBENFCOM', 'nb'],\n",
      "      dtype='object')\n"
     ]
    },
    {
     "data": {
      "text/html": [
       "<div>\n",
       "<style scoped>\n",
       "    .dataframe tbody tr th:only-of-type {\n",
       "        vertical-align: middle;\n",
       "    }\n",
       "\n",
       "    .dataframe tbody tr th {\n",
       "        vertical-align: top;\n",
       "    }\n",
       "\n",
       "    .dataframe thead th {\n",
       "        text-align: right;\n",
       "    }\n",
       "</style>\n",
       "<table border=\"1\" class=\"dataframe\">\n",
       "  <thead>\n",
       "    <tr style=\"text-align: right;\">\n",
       "      <th></th>\n",
       "      <th>ANAISH</th>\n",
       "      <th>DEPNAISH</th>\n",
       "      <th>INDNATH</th>\n",
       "      <th>ETAMATH</th>\n",
       "      <th>ANAISF</th>\n",
       "      <th>DEPNAISF</th>\n",
       "      <th>INDNATF</th>\n",
       "      <th>ETAMATF</th>\n",
       "      <th>AMAR</th>\n",
       "      <th>MMAR</th>\n",
       "      <th>JSEMAINE</th>\n",
       "      <th>DEPMAR</th>\n",
       "      <th>DEPDOM</th>\n",
       "      <th>TUDOM</th>\n",
       "      <th>TUCOM</th>\n",
       "      <th>NBENFCOM</th>\n",
       "      <th>nb</th>\n",
       "    </tr>\n",
       "  </thead>\n",
       "  <tbody>\n",
       "    <tr>\n",
       "      <th>0</th>\n",
       "      <td>1982</td>\n",
       "      <td>75</td>\n",
       "      <td>1</td>\n",
       "      <td>1</td>\n",
       "      <td>1984</td>\n",
       "      <td>99</td>\n",
       "      <td>2</td>\n",
       "      <td>1</td>\n",
       "      <td>2012</td>\n",
       "      <td>01</td>\n",
       "      <td>1</td>\n",
       "      <td>29</td>\n",
       "      <td>99</td>\n",
       "      <td>9</td>\n",
       "      <td></td>\n",
       "      <td>N</td>\n",
       "      <td>1</td>\n",
       "    </tr>\n",
       "    <tr>\n",
       "      <th>1</th>\n",
       "      <td>1956</td>\n",
       "      <td>69</td>\n",
       "      <td>2</td>\n",
       "      <td>4</td>\n",
       "      <td>1969</td>\n",
       "      <td>99</td>\n",
       "      <td>2</td>\n",
       "      <td>4</td>\n",
       "      <td>2012</td>\n",
       "      <td>01</td>\n",
       "      <td>3</td>\n",
       "      <td>75</td>\n",
       "      <td>99</td>\n",
       "      <td>9</td>\n",
       "      <td></td>\n",
       "      <td>N</td>\n",
       "      <td>1</td>\n",
       "    </tr>\n",
       "    <tr>\n",
       "      <th>2</th>\n",
       "      <td>1982</td>\n",
       "      <td>99</td>\n",
       "      <td>2</td>\n",
       "      <td>1</td>\n",
       "      <td>1992</td>\n",
       "      <td>99</td>\n",
       "      <td>1</td>\n",
       "      <td>1</td>\n",
       "      <td>2012</td>\n",
       "      <td>01</td>\n",
       "      <td>5</td>\n",
       "      <td>34</td>\n",
       "      <td>99</td>\n",
       "      <td>9</td>\n",
       "      <td></td>\n",
       "      <td>N</td>\n",
       "      <td>1</td>\n",
       "    </tr>\n",
       "    <tr>\n",
       "      <th>3</th>\n",
       "      <td>1985</td>\n",
       "      <td>99</td>\n",
       "      <td>2</td>\n",
       "      <td>1</td>\n",
       "      <td>1987</td>\n",
       "      <td>84</td>\n",
       "      <td>1</td>\n",
       "      <td>1</td>\n",
       "      <td>2012</td>\n",
       "      <td>01</td>\n",
       "      <td>4</td>\n",
       "      <td>13</td>\n",
       "      <td>99</td>\n",
       "      <td>9</td>\n",
       "      <td></td>\n",
       "      <td>N</td>\n",
       "      <td>1</td>\n",
       "    </tr>\n",
       "    <tr>\n",
       "      <th>4</th>\n",
       "      <td>1968</td>\n",
       "      <td>99</td>\n",
       "      <td>2</td>\n",
       "      <td>1</td>\n",
       "      <td>1963</td>\n",
       "      <td>99</td>\n",
       "      <td>2</td>\n",
       "      <td>1</td>\n",
       "      <td>2012</td>\n",
       "      <td>01</td>\n",
       "      <td>6</td>\n",
       "      <td>26</td>\n",
       "      <td>99</td>\n",
       "      <td>9</td>\n",
       "      <td></td>\n",
       "      <td>N</td>\n",
       "      <td>1</td>\n",
       "    </tr>\n",
       "  </tbody>\n",
       "</table>\n",
       "</div>"
      ],
      "text/plain": [
       "  ANAISH DEPNAISH INDNATH ETAMATH ANAISF DEPNAISF INDNATF ETAMATF  AMAR MMAR  \\\n",
       "0   1982       75       1       1   1984       99       2       1  2012   01   \n",
       "1   1956       69       2       4   1969       99       2       4  2012   01   \n",
       "2   1982       99       2       1   1992       99       1       1  2012   01   \n",
       "3   1985       99       2       1   1987       84       1       1  2012   01   \n",
       "4   1968       99       2       1   1963       99       2       1  2012   01   \n",
       "\n",
       "  JSEMAINE DEPMAR DEPDOM TUDOM TUCOM NBENFCOM  nb  \n",
       "0        1     29     99     9              N   1  \n",
       "1        3     75     99     9              N   1  \n",
       "2        5     34     99     9              N   1  \n",
       "3        4     13     99     9              N   1  \n",
       "4        6     26     99     9              N   1  "
      ]
     },
     "execution_count": 301,
     "metadata": {},
     "output_type": "execute_result"
    }
   ],
   "source": [
    "df = df_civil  # on récupère le dataframe déjà construit\n",
    "print(df.shape, df.columns)\n",
    "df.head()"
   ]
  },
  {
   "cell_type": "code",
   "execution_count": null,
   "metadata": {},
   "outputs": [
    {
     "data": {
      "text/html": [
       "<div>\n",
       "<style scoped>\n",
       "    .dataframe tbody tr th:only-of-type {\n",
       "        vertical-align: middle;\n",
       "    }\n",
       "\n",
       "    .dataframe tbody tr th {\n",
       "        vertical-align: top;\n",
       "    }\n",
       "\n",
       "    .dataframe thead th {\n",
       "        text-align: right;\n",
       "    }\n",
       "</style>\n",
       "<table border=\"1\" class=\"dataframe\">\n",
       "  <thead>\n",
       "    <tr style=\"text-align: right;\">\n",
       "      <th></th>\n",
       "      <th>ANAISH</th>\n",
       "      <th>DEPNAISH</th>\n",
       "      <th>INDNATH</th>\n",
       "      <th>ETAMATH</th>\n",
       "      <th>ANAISF</th>\n",
       "      <th>DEPNAISF</th>\n",
       "      <th>INDNATF</th>\n",
       "      <th>ETAMATF</th>\n",
       "      <th>AMAR</th>\n",
       "      <th>MMAR</th>\n",
       "      <th>JSEMAINE</th>\n",
       "      <th>DEPMAR</th>\n",
       "      <th>DEPDOM</th>\n",
       "      <th>TUDOM</th>\n",
       "      <th>TUCOM</th>\n",
       "      <th>NBENFCOM</th>\n",
       "      <th>nb</th>\n",
       "      <th>ageH</th>\n",
       "      <th>ageF</th>\n",
       "    </tr>\n",
       "  </thead>\n",
       "  <tbody>\n",
       "    <tr>\n",
       "      <th>0</th>\n",
       "      <td>1982</td>\n",
       "      <td>75</td>\n",
       "      <td>1</td>\n",
       "      <td>1</td>\n",
       "      <td>1984</td>\n",
       "      <td>99</td>\n",
       "      <td>2</td>\n",
       "      <td>1</td>\n",
       "      <td>2012</td>\n",
       "      <td>01</td>\n",
       "      <td>1</td>\n",
       "      <td>29</td>\n",
       "      <td>99</td>\n",
       "      <td>9</td>\n",
       "      <td></td>\n",
       "      <td>N</td>\n",
       "      <td>1</td>\n",
       "      <td>32</td>\n",
       "      <td>30</td>\n",
       "    </tr>\n",
       "    <tr>\n",
       "      <th>1</th>\n",
       "      <td>1956</td>\n",
       "      <td>69</td>\n",
       "      <td>2</td>\n",
       "      <td>4</td>\n",
       "      <td>1969</td>\n",
       "      <td>99</td>\n",
       "      <td>2</td>\n",
       "      <td>4</td>\n",
       "      <td>2012</td>\n",
       "      <td>01</td>\n",
       "      <td>3</td>\n",
       "      <td>75</td>\n",
       "      <td>99</td>\n",
       "      <td>9</td>\n",
       "      <td></td>\n",
       "      <td>N</td>\n",
       "      <td>1</td>\n",
       "      <td>58</td>\n",
       "      <td>45</td>\n",
       "    </tr>\n",
       "    <tr>\n",
       "      <th>2</th>\n",
       "      <td>1982</td>\n",
       "      <td>99</td>\n",
       "      <td>2</td>\n",
       "      <td>1</td>\n",
       "      <td>1992</td>\n",
       "      <td>99</td>\n",
       "      <td>1</td>\n",
       "      <td>1</td>\n",
       "      <td>2012</td>\n",
       "      <td>01</td>\n",
       "      <td>5</td>\n",
       "      <td>34</td>\n",
       "      <td>99</td>\n",
       "      <td>9</td>\n",
       "      <td></td>\n",
       "      <td>N</td>\n",
       "      <td>1</td>\n",
       "      <td>32</td>\n",
       "      <td>22</td>\n",
       "    </tr>\n",
       "    <tr>\n",
       "      <th>3</th>\n",
       "      <td>1985</td>\n",
       "      <td>99</td>\n",
       "      <td>2</td>\n",
       "      <td>1</td>\n",
       "      <td>1987</td>\n",
       "      <td>84</td>\n",
       "      <td>1</td>\n",
       "      <td>1</td>\n",
       "      <td>2012</td>\n",
       "      <td>01</td>\n",
       "      <td>4</td>\n",
       "      <td>13</td>\n",
       "      <td>99</td>\n",
       "      <td>9</td>\n",
       "      <td></td>\n",
       "      <td>N</td>\n",
       "      <td>1</td>\n",
       "      <td>29</td>\n",
       "      <td>27</td>\n",
       "    </tr>\n",
       "    <tr>\n",
       "      <th>4</th>\n",
       "      <td>1968</td>\n",
       "      <td>99</td>\n",
       "      <td>2</td>\n",
       "      <td>1</td>\n",
       "      <td>1963</td>\n",
       "      <td>99</td>\n",
       "      <td>2</td>\n",
       "      <td>1</td>\n",
       "      <td>2012</td>\n",
       "      <td>01</td>\n",
       "      <td>6</td>\n",
       "      <td>26</td>\n",
       "      <td>99</td>\n",
       "      <td>9</td>\n",
       "      <td></td>\n",
       "      <td>N</td>\n",
       "      <td>1</td>\n",
       "      <td>46</td>\n",
       "      <td>51</td>\n",
       "    </tr>\n",
       "  </tbody>\n",
       "</table>\n",
       "</div>"
      ],
      "text/plain": [
       "  ANAISH DEPNAISH INDNATH ETAMATH ANAISF DEPNAISF INDNATF ETAMATF  AMAR MMAR  \\\n",
       "0   1982       75       1       1   1984       99       2       1  2012   01   \n",
       "1   1956       69       2       4   1969       99       2       4  2012   01   \n",
       "2   1982       99       2       1   1992       99       1       1  2012   01   \n",
       "3   1985       99       2       1   1987       84       1       1  2012   01   \n",
       "4   1968       99       2       1   1963       99       2       1  2012   01   \n",
       "\n",
       "  JSEMAINE DEPMAR DEPDOM TUDOM TUCOM NBENFCOM  nb  ageH  ageF  \n",
       "0        1     29     99     9              N   1    32    30  \n",
       "1        3     75     99     9              N   1    58    45  \n",
       "2        5     34     99     9              N   1    32    22  \n",
       "3        4     13     99     9              N   1    29    27  \n",
       "4        6     26     99     9              N   1    46    51  "
      ]
     },
     "execution_count": 302,
     "metadata": {},
     "output_type": "execute_result"
    }
   ],
   "source": [
    "df[\"ageH\"] = df.apply(lambda r: 2014 - int(r[\"ANAISH\"]), axis=1)\n",
    "df[\"ageF\"] = df.apply(lambda r: 2014 - int(r[\"ANAISF\"]), axis=1)\n",
    "df.head()"
   ]
  },
  {
   "cell_type": "code",
   "execution_count": null,
   "metadata": {},
   "outputs": [
    {
     "data": {
      "image/png": "[encoded data removed]",
      "text/plain": [
       "<Figure size 640x480 with 1 Axes>"
      ]
     },
     "metadata": {},
     "output_type": "display_data"
    }
   ],
   "source": [
    "df.plot(x=\"ageH\", y=\"ageF\", kind=\"scatter\");"
   ]
  },
  {
   "cell_type": "code",
   "execution_count": null,
   "metadata": {},
   "outputs": [
    {
     "data": {
      "image/png": "[encoded data removed]",
      "text/plain": [
       "<Figure size 640x480 with 2 Axes>"
      ]
     },
     "metadata": {},
     "output_type": "display_data"
    }
   ],
   "source": [
    "df.plot(x=\"ageH\", y=\"ageF\", kind=\"hexbin\");"
   ]
  },
  {
   "cell_type": "markdown",
   "metadata": {},
   "source": [
    "### Exercice 5 : graphe de la distribution avec pandas\n",
    "\n",
    "Le module ``pandas`` propose un panel de graphiques standard faciles à obtenir. On souhaite représenter la distribution sous forme d'histogramme. A vous de choisir le meilleure graphique depuis la page [Visualization](https://pandas.pydata.org/pandas-docs/stable/user_guide/visualization.html)."
   ]
  },
  {
   "cell_type": "code",
   "execution_count": null,
   "metadata": {},
   "outputs": [
    {
     "data": {
      "image/png": "[encoded data removed]",
      "text/plain": [
       "<Figure size 1600x600 with 1 Axes>"
      ]
     },
     "metadata": {},
     "output_type": "display_data"
    }
   ],
   "source": [
    "df[\"ANAISH\"] = df.apply(lambda r: int(r[\"ANAISH\"]), axis=1)\n",
    "df[\"ANAISF\"] = df.apply(lambda r: int(r[\"ANAISF\"]), axis=1)\n",
    "df[\"differenceHF\"] = df.ANAISH - df.ANAISF\n",
    "df[\"nb\"] = 1\n",
    "dist = df[[\"nb\", \"differenceHF\"]].groupby(\"differenceHF\", as_index=False).count()\n",
    "df[\"differenceHF\"].hist(figsize=(16, 6), bins=50);"
   ]
  },
  {
   "cell_type": "markdown",
   "metadata": {},
   "source": [
    "### Exercice 6 : distribution des mariages par jour\n",
    "\n",
    "On veut obtenir un graphe qui contient l'histogramme de la distribution du nombre de mariages par jour de la semaine et d'ajouter une seconde courbe correspond avec un second axe à la répartition cumulée."
   ]
  },
  {
   "cell_type": "code",
   "execution_count": null,
   "metadata": {},
   "outputs": [
    {
     "data": {
      "image/png": "[encoded data removed]",
      "text/plain": [
       "<Figure size 640x480 with 2 Axes>"
      ]
     },
     "metadata": {},
     "output_type": "display_data"
    }
   ],
   "source": [
    "df[\"nb\"] = 1\n",
    "dissem = df[[\"JSEMAINE\", \"nb\"]].groupby(\"JSEMAINE\", as_index=False).sum()\n",
    "total = dissem[\"nb\"].sum()\n",
    "repsem = dissem.cumsum()\n",
    "repsem[\"nb\"] /= total\n",
    "\n",
    "ax = dissem[\"nb\"].plot(kind=\"bar\")\n",
    "repsem[\"nb\"].plot(ax=ax, secondary_y=True)\n",
    "ax.set_title(\"distribution des mariages par jour de la semaine\");"
   ]
  },
  {
   "cell_type": "code",
   "execution_count": null,
   "metadata": {},
   "outputs": [],
   "source": []
  }
 ],
 "metadata": {
  "kernelspec": {
   "display_name": "Python 3 (ipykernel)",
   "language": "python",
   "name": "python3"
  }
 },
 "nbformat": 4,
 "nbformat_minor": 1
}
