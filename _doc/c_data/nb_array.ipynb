{
 "cells": [
  {
   "cell_type": "markdown",
   "metadata": {},
   "source": [
    "# Calcul Matriciel, Optimisation\n",
    "\n",
    "Tous les programmes python faisant des calculs utilisent une librairie dédiée car python est trop lent. La plus simple des options est [numpy](https://numpy.org/). Avec l'avènement du deep learning, d'autres ont émergé offrant de faire des calculs dans des environnements plus variés ([CPU](https://en.wikipedia.org/wiki/Central_processing_unit), [GPU](https://en.wikipedia.org/wiki/Graphics_processing_unit), ...). [pytorch](https://pytorch.org/) est une des plus connues.\n",
    "\n",
    "Avec l'émergence du deep learning en open source, l'usage de ces librairies s'est standardisé. Ce qui est vrai pour numpy l'est aussi pour pytorch. Les opérations ont le même sens, les fonctions ont presque toujours les mêmes noms."
   ]
  },
  {
   "cell_type": "code",
   "execution_count": 1,
   "metadata": {
    "collapsed": true
   },
   "outputs": [],
   "source": [
    "%matplotlib inline"
   ]
  },
  {
   "cell_type": "markdown",
   "metadata": {},
   "source": [
    "## Numpy arrays"
   ]
  },
  {
   "cell_type": "markdown",
   "metadata": {},
   "source": [
    "La convention d'import classique de numpy est la suivante:"
   ]
  },
  {
   "cell_type": "code",
   "execution_count": 2,
   "metadata": {
    "collapsed": true
   },
   "outputs": [],
   "source": [
    "import numpy as np"
   ]
  },
  {
   "cell_type": "markdown",
   "metadata": {},
   "source": [
    "#### Creation d'un array: notion de datatype, et dimensions"
   ]
  },
  {
   "cell_type": "markdown",
   "metadata": {},
   "source": [
    "On part d'une liste python contenant des entiers. On peut créer un [array](http://docs.scipy.org/doc/numpy/reference/generated/numpy.array.html) numpy à partir de cette liste. \n",
    "Cet array possède des attributs indiquant le data type, le nombre de dimensions de l'array, etc..."
   ]
  },
  {
   "cell_type": "code",
   "execution_count": 3,
   "metadata": {},
   "outputs": [
    {
     "name": "stdout",
     "output_type": "stream",
     "text": [
      "[ 1 42 18]\n",
      "int64\n",
      "1\n",
      "(3,)\n",
      "3\n"
     ]
    },
    {
     "data": {
      "text/plain": [
       "array([ 1, 42, 18])"
      ]
     },
     "execution_count": 3,
     "metadata": {},
     "output_type": "execute_result"
    }
   ],
   "source": [
    "l = [1, 42, 18]\n",
    "a = np.array(l)\n",
    "print(a)\n",
    "print(a.dtype)\n",
    "print(a.ndim)\n",
    "print(a.shape)\n",
    "print(a.size)\n",
    "a"
   ]
  },
  {
   "cell_type": "markdown",
   "metadata": {},
   "source": [
    "On peut indiquer explicitement le [dtype](http://docs.scipy.org/doc/numpy/reference/generated/numpy.dtype.html) lors de la création de l'array. Sinon, Numpy sélectionne automatiquement le [dtype](http://docs.scipy.org/doc/numpy/reference/generated/numpy.dtype.html).\n",
    "Numpy ajoute un grand nombre de [dtype](http://docs.scipy.org/doc/numpy/reference/generated/numpy.dtype.html) à ceux de Python. Allez jeter un oeil à la [liste](http://docs.scipy.org/doc/numpy/user/basics.types.html). "
   ]
  },
  {
   "cell_type": "code",
   "execution_count": 4,
   "metadata": {},
   "outputs": [
    {
     "name": "stdout",
     "output_type": "stream",
     "text": [
      "[ 1. 42. 18.]\n",
      "float64\n"
     ]
    }
   ],
   "source": [
    "b = np.array(l, dtype=float)\n",
    "print(b)\n",
    "print(b.dtype)"
   ]
  },
  {
   "cell_type": "code",
   "execution_count": 5,
   "metadata": {},
   "outputs": [
    {
     "name": "stdout",
     "output_type": "stream",
     "text": [
      "[ 1. 42. 18.]\n",
      "float64\n"
     ]
    }
   ],
   "source": [
    "l[0] = 1.0\n",
    "bb = np.array(l)\n",
    "print(bb)\n",
    "print(bb.dtype)"
   ]
  },
  {
   "cell_type": "markdown",
   "metadata": {},
   "source": [
    "Assigner un float dans un array de type int va caster le float en int, et ne modifie pas le [dtype](http://docs.scipy.org/doc/numpy/reference/generated/numpy.dtype.html) de l'array."
   ]
  },
  {
   "cell_type": "code",
   "execution_count": 6,
   "metadata": {},
   "outputs": [
    {
     "data": {
      "text/plain": [
       "array([ 2, 42, 18])"
      ]
     },
     "execution_count": 6,
     "metadata": {},
     "output_type": "execute_result"
    }
   ],
   "source": [
    "a[0] = 2.5\n",
    "a"
   ]
  },
  {
   "cell_type": "markdown",
   "metadata": {},
   "source": [
    "On peut forcer le casting dans un autre type avec [astype](http://docs.scipy.org/doc/numpy/reference/generated/numpy.ndarray.astype.html) :"
   ]
  },
  {
   "cell_type": "code",
   "execution_count": 7,
   "metadata": {},
   "outputs": [
    {
     "data": {
      "text/plain": [
       "array([ 2.5, 42. , 18. ])"
      ]
     },
     "execution_count": 7,
     "metadata": {},
     "output_type": "execute_result"
    }
   ],
   "source": [
    "aa = a.astype(float)\n",
    "aa[0] = 2.5\n",
    "aa"
   ]
  },
  {
   "cell_type": "markdown",
   "metadata": {},
   "source": [
    "A partir d'une liste de listes, on obtient un array bi-dimmensionnel.\n",
    "\n",
    "On peut le transposer ou encore l'aplatir en un array 1d"
   ]
  },
  {
   "cell_type": "code",
   "execution_count": 8,
   "metadata": {},
   "outputs": [
    {
     "name": "stdout",
     "output_type": "stream",
     "text": [
      "[[0 1 2 3 4]\n",
      " [5 6 7 8 9]\n",
      " [0 1 2 3 4]]\n",
      "ndim:2\n",
      "shape:(3, 5)\n",
      "[[0 5 0]\n",
      " [1 6 1]\n",
      " [2 7 2]\n",
      " [3 8 3]\n",
      " [4 9 4]]\n",
      "shape transposed:(5, 3)\n",
      "[0 1 2 3 4 5 6 7 8 9 0 1 2 3 4]\n",
      "ndim flattened:1\n"
     ]
    }
   ],
   "source": [
    "c = np.array([range(5), range(5, 10), range(5)])\n",
    "print(c)\n",
    "print(\"ndim:{}\".format(c.ndim))\n",
    "print(\"shape:{}\".format(c.shape))\n",
    "print(c.transpose())  # same as c.T\n",
    "print(\"shape transposed:{}\".format(c.T.shape))\n",
    "print(c.flatten())\n",
    "print(\"ndim flattened:{}\".format(c.flatten().ndim))"
   ]
  },
  {
   "cell_type": "markdown",
   "metadata": {},
   "source": [
    "### Indexation, Slicing, Fancy indexing"
   ]
  },
  {
   "cell_type": "code",
   "execution_count": 9,
   "metadata": {},
   "outputs": [
    {
     "name": "stdout",
     "output_type": "stream",
     "text": [
      "[[0 1 2 3 4]\n",
      " [5 6 7 8 9]\n",
      " [0 1 2 3 4]]\n"
     ]
    }
   ],
   "source": [
    "print(c)"
   ]
  },
  {
   "cell_type": "markdown",
   "metadata": {},
   "source": [
    "L'indexation des array multidimensionnels fonctionne avec des tuples.\n",
    "\n",
    "La syntaxe ``':'`` permet d'obtenir tous les éléments de la dimension."
   ]
  },
  {
   "cell_type": "code",
   "execution_count": 10,
   "metadata": {},
   "outputs": [
    {
     "name": "stdout",
     "output_type": "stream",
     "text": [
      "8\n",
      "[5 6 7]\n",
      "[4 9 4]\n"
     ]
    }
   ],
   "source": [
    "print(c[1, 3])\n",
    "print(c[1, :3])\n",
    "print(c[:, 4])"
   ]
  },
  {
   "cell_type": "markdown",
   "metadata": {},
   "source": [
    "Si on utilise pas un couple sur un array 2d on récupère un array 1d"
   ]
  },
  {
   "cell_type": "code",
   "execution_count": 11,
   "metadata": {},
   "outputs": [
    {
     "name": "stdout",
     "output_type": "stream",
     "text": [
      "[5 6 7 8 9] (5,)\n",
      "[5 6 7]\n"
     ]
    }
   ],
   "source": [
    "print(c[1], c[1].shape)\n",
    "print(c[1][:3])"
   ]
  },
  {
   "cell_type": "markdown",
   "metadata": {},
   "source": [
    "On peut aussi utiliser l'indexation par un array (ou une liste python) de booléens ou d'entiers (un mask). Cela s'appelle le fancy indexing. Un mask d'entiers permet de désigner les éléments que l'on souhaite extraire via la liste de leurs indices, on peut aussi répéter l'indice d'un élément pour répéter l'élement dans l'array que l'on extrait."
   ]
  },
  {
   "cell_type": "code",
   "execution_count": 12,
   "metadata": {},
   "outputs": [
    {
     "name": "stdout",
     "output_type": "stream",
     "text": [
      "ar =  [1 2 3 4 5 6 7 8 9]\n",
      "idx =  [1 4 3 2 1 7 3]\n",
      "ar[idx] = [2 5 4 3 2 8 4]\n",
      "######\n",
      "idx_bool =  [ True False False False False  True  True False  True]\n",
      "ar[idx_bool] =  [1 6 7 9]\n",
      "###### Que se passe-t-il dans chacun des cas suivants? ######\n",
      "Erreur boolean index did not match indexed array along dimension 0; dimension is 9 but corresponding boolean dimension is 4\n"
     ]
    }
   ],
   "source": [
    "ar = np.arange(1, 10)  # arange est l'equivalent de range mais retourne un numpy array\n",
    "print(\"ar = \", ar)\n",
    "idx = np.array([1, 4, 3, 2, 1, 7, 3])\n",
    "print(\"idx = \", idx)\n",
    "print(\"ar[idx] =\", ar[idx])\n",
    "print(\"######\")\n",
    "idx_bool = np.ones(ar.shape, dtype=bool)\n",
    "idx_bool[idx] = False\n",
    "print(\"idx_bool = \", idx_bool)\n",
    "print(\"ar[idx_bool] = \", ar[idx_bool])\n",
    "print(\"######\", \"Que se passe-t-il dans chacun des cas suivants?\", \"######\")\n",
    "try:\n",
    "    print(\n",
    "        \"ar[np.array([True, True, False, True])] = \",\n",
    "        ar[np.array([True, True, False, True])],\n",
    "    )\n",
    "except Exception as e:\n",
    "    # l'expression ar[[True, True, False, True]] déclenche une erreur depuis numpy 1.13\n",
    "    print(\"Erreur\", e)"
   ]
  },
  {
   "cell_type": "markdown",
   "metadata": {},
   "source": [
    "Pourquoi parle-t-on de fancy indexing? Essayez d'indexer des listes python de la même manière..."
   ]
  },
  {
   "cell_type": "code",
   "execution_count": 13,
   "metadata": {},
   "outputs": [
    {
     "name": "stdout",
     "output_type": "stream",
     "text": [
      "range indices must be integers or slices, not list\n"
     ]
    }
   ],
   "source": [
    "list_python = range(10)\n",
    "try:\n",
    "    list_python[[True, True, False, True]]  # déclenche une exception\n",
    "except TypeError as e:\n",
    "    print(e)"
   ]
  },
  {
   "cell_type": "code",
   "execution_count": 14,
   "metadata": {},
   "outputs": [
    {
     "name": "stdout",
     "output_type": "stream",
     "text": [
      "range indices must be integers or slices, not list\n"
     ]
    }
   ],
   "source": [
    "try:\n",
    "    list_python[[2, 3, 2, 7]]  # déclenche une exception\n",
    "except TypeError as e:\n",
    "    print(e)"
   ]
  },
  {
   "cell_type": "markdown",
   "metadata": {},
   "source": [
    "### View contre Copy"
   ]
  },
  {
   "cell_type": "markdown",
   "metadata": {},
   "source": [
    "Créons un array $d$. En plus de renvoyer directement un array, la fonction [arange](http://docs.scipy.org/doc/numpy/reference/generated/numpy.arange.html) permet aussi d'utiliser un step flottant. (Essayer avec le range de python pour voir)"
   ]
  },
  {
   "cell_type": "code",
   "execution_count": 15,
   "metadata": {},
   "outputs": [
    {
     "data": {
      "text/plain": [
       "array([1. , 1.5, 2. , 2.5, 3. , 3.5, 4. , 4.5, 5. , 5.5])"
      ]
     },
     "execution_count": 15,
     "metadata": {},
     "output_type": "execute_result"
    }
   ],
   "source": [
    "d = np.arange(1, 6, 0.5)\n",
    "d"
   ]
  },
  {
   "cell_type": "markdown",
   "metadata": {},
   "source": [
    "Un point important est que l'on ne recopie pas un array lorsqu'on effectue une assignation ou un slicing d'un array.\n",
    "On travaille dans ce cas avec une View sur l'array d'origine (shallow copy). Toute modification sur la View affecte l'array d'origine.\n",
    "\n",
    "Dans l'exemple qui suit, $e$ est une view sur $d$. Lorsqu'on modifie $e$, $d$ aussi est modifié. (Remarquez au passage que numpy fournit quelques constantes bien pratiques....)"
   ]
  },
  {
   "cell_type": "code",
   "execution_count": 16,
   "metadata": {},
   "outputs": [
    {
     "data": {
      "text/plain": [
       "array([-3.14159265,  1.5       , -3.14159265,  2.5       , -3.14159265,\n",
       "        3.5       ,  4.        ,  4.5       ,  5.        ,  5.5       ])"
      ]
     },
     "execution_count": 16,
     "metadata": {},
     "output_type": "execute_result"
    }
   ],
   "source": [
    "e = d\n",
    "e[[0, 2, 4]] = -np.pi\n",
    "e"
   ]
  },
  {
   "cell_type": "code",
   "execution_count": 17,
   "metadata": {},
   "outputs": [
    {
     "data": {
      "text/plain": [
       "array([-3.14159265,  1.5       , -3.14159265,  2.5       , -3.14159265,\n",
       "        3.5       ,  4.        ,  4.5       ,  5.        ,  5.5       ])"
      ]
     },
     "execution_count": 17,
     "metadata": {},
     "output_type": "execute_result"
    }
   ],
   "source": [
    "d"
   ]
  },
  {
   "cell_type": "markdown",
   "metadata": {},
   "source": [
    "Si on ne veut pas modifier $d$ indirectement, il faut travailler sur une copie de $d$ ([deep copy](https://docs.python.org/3.4/library/copy.html#copy.deepcopy))."
   ]
  },
  {
   "cell_type": "code",
   "execution_count": 18,
   "metadata": {},
   "outputs": [
    {
     "name": "stdout",
     "output_type": "stream",
     "text": [
      "[-2.71828183 -2.71828183 -2.71828183 -2.71828183  3.          3.5\n",
      "  4.          4.5         5.          5.5       ]\n",
      "[1.  1.5 2.  2.5 3.  3.5 4.  4.5 5.  5.5]\n"
     ]
    }
   ],
   "source": [
    "d = np.linspace(\n",
    "    1, 5.5, 10\n",
    ")  # Question subsidiaire: en quoi est-ce différent de np.arange avec un step float?\n",
    "f = d.copy()\n",
    "f[:4] = -np.e  # il s'agit du nombre d'euler, pas de l'array e ;)\n",
    "print(f)\n",
    "print(d)"
   ]
  },
  {
   "cell_type": "markdown",
   "metadata": {},
   "source": [
    "Ce point est important car source classique d'erreurs silencieuses: les erreurs les plus vicieuses car l'output sera faux mais python ne râlera pas...\n",
    "\n",
    "Il faut un peu de temps pour s'habituer mais on finit par savoir de manière naturelle quand on travaille sur une view, quand on a besoin de faire une copie explicitement, etc... En tout cas, vérifiez vos sorties, faites des tests de cohérence, cela ne nuit jamais.\n",
    "\n",
    "Retenez par exemple que le [slicing](http://docs.scipy.org/doc/numpy/reference/arrays.indexing.html#basic-slicing-and-indexing) vous renvoie une view sur l'array, alors que le [fancy indexing](https://scipy-lectures.github.io/intro/numpy/array_object.html#fancy-indexing) effectue une copie.\n",
    "\n",
    "(Au passage, remarquez le [NaN](http://docs.scipy.org/doc/numpy/reference/generated/numpy.isnan.html) (=NotaNumber) déjà introduit lors de la séance 1 sur pandas qui est un module basé sur numpy)"
   ]
  },
  {
   "cell_type": "code",
   "execution_count": 19,
   "metadata": {},
   "outputs": [
    {
     "name": "stdout",
     "output_type": "stream",
     "text": [
      "d =  [1.  1.5 2.  2.5 3.  3.5 4.  4.5 5.  5.5]\n",
      "\n",
      "slice_of_d =  [2.  2.5 3. ]\n",
      "\n",
      "d =  [1.  1.5 nan 2.5 3.  3.5 4.  4.5 5.  5.5]\n",
      "\n",
      "fancy_indexed_subarray =  [nan 2.5 3. ]\n",
      "\n",
      "d =  [1.  1.5 nan 2.5 3.  3.5 4.  4.5 5.  5.5]\n"
     ]
    }
   ],
   "source": [
    "print(\"d = \", d)\n",
    "slice_of_d = d[2:5]\n",
    "print(\"\\nslice_of_d = \", slice_of_d)\n",
    "slice_of_d[0] = np.nan\n",
    "print(\"\\nd = \", d)\n",
    "mask = np.array([2, 3, 4])\n",
    "fancy_indexed_subarray = d[mask]\n",
    "print(\"\\nfancy_indexed_subarray = \", fancy_indexed_subarray)\n",
    "fancy_indexed_subarray[0] = -2\n",
    "print(\"\\nd = \", d)"
   ]
  },
  {
   "cell_type": "markdown",
   "metadata": {},
   "source": [
    "### Manipulation de shape"
   ]
  },
  {
   "cell_type": "markdown",
   "metadata": {},
   "source": [
    "La méthode reshape permet de changer la forme de l'array. Il existe de nombreuses [manipulations possibles](http://docs.scipy.org/doc/numpy/reference/routines.array-manipulation.html)."
   ]
  },
  {
   "cell_type": "markdown",
   "metadata": {},
   "source": [
    "On précise à [reshape](http://docs.scipy.org/doc/numpy/reference/generated/numpy.reshape.html) la forme souhaitée: par un entier si on veut un array 1d de cette longueur, ou un couple pour un array 2d de cette forme."
   ]
  },
  {
   "cell_type": "code",
   "execution_count": 20,
   "metadata": {},
   "outputs": [
    {
     "name": "stdout",
     "output_type": "stream",
     "text": [
      "[ 0  1  2  3  4  5  6  7  8  9 10 11]\n"
     ]
    },
    {
     "data": {
      "text/plain": [
       "array([[ 0,  1,  2],\n",
       "       [ 3,  4,  5],\n",
       "       [ 6,  7,  8],\n",
       "       [ 9, 10, 11]])"
      ]
     },
     "execution_count": 20,
     "metadata": {},
     "output_type": "execute_result"
    }
   ],
   "source": [
    "g = np.arange(12)\n",
    "print(g)\n",
    "g.reshape((4, 3))"
   ]
  },
  {
   "cell_type": "markdown",
   "metadata": {},
   "source": [
    "Par défaut, [reshape](http://docs.scipy.org/doc/numpy/reference/generated/numpy.reshape.html) utilise l'énumération dans l'ordre du langage C (aussi appelé \"row first\" ), on peut préciser que l'on souhaite utiliser l'ordre de [Fortran](https://fr.wikipedia.org/wiki/Fortran) (\"column first\"). Ceux qui connaissent Matlab et R sont habitués à l'ordre \"column-first\". [Voir l'article wikipedia](http://en.wikipedia.org/wiki/Row-major_order)"
   ]
  },
  {
   "cell_type": "code",
   "execution_count": 21,
   "metadata": {},
   "outputs": [
    {
     "data": {
      "text/plain": [
       "array([[ 0,  4,  8],\n",
       "       [ 1,  5,  9],\n",
       "       [ 2,  6, 10],\n",
       "       [ 3,  7, 11]])"
      ]
     },
     "execution_count": 21,
     "metadata": {},
     "output_type": "execute_result"
    }
   ],
   "source": [
    "g.reshape((4, 3), order=\"F\")"
   ]
  },
  {
   "cell_type": "markdown",
   "metadata": {},
   "source": [
    "On peut utiliser -1 sur une dimension, cela sert de joker: numpy infère la dimension nécessaire ! On peut créer directement des matrices de 0 et de 1 à la dimension d'un autre array."
   ]
  },
  {
   "cell_type": "code",
   "execution_count": 22,
   "metadata": {},
   "outputs": [
    {
     "data": {
      "text/plain": [
       "array([0, 0, 0, 0, 0, 0, 0, 0, 0, 0, 0, 0])"
      ]
     },
     "execution_count": 22,
     "metadata": {},
     "output_type": "execute_result"
    }
   ],
   "source": [
    "np.zeros_like(g)"
   ]
  },
  {
   "cell_type": "code",
   "execution_count": 23,
   "metadata": {},
   "outputs": [
    {
     "data": {
      "text/plain": [
       "array([1, 1, 1, 1, 1, 1, 1, 1, 1, 1, 1, 1])"
      ]
     },
     "execution_count": 23,
     "metadata": {},
     "output_type": "execute_result"
    }
   ],
   "source": [
    "np.ones_like(g)"
   ]
  },
  {
   "cell_type": "markdown",
   "metadata": {},
   "source": [
    "On peut aussi concatener ou stacker [horizontalement](http://docs.scipy.org/doc/numpy/reference/generated/numpy.hstack.html)/[verticalement](http://docs.scipy.org/doc/numpy/reference/generated/numpy.vstack.html) différents arrays."
   ]
  },
  {
   "cell_type": "code",
   "execution_count": 24,
   "metadata": {},
   "outputs": [
    {
     "data": {
      "text/plain": [
       "array([ 0,  1,  2,  3,  4,  5,  6,  7,  8,  9, 10, 11,  0,  0,  0,  0,  0,\n",
       "        0,  0,  0,  0,  0,  0,  0])"
      ]
     },
     "execution_count": 24,
     "metadata": {},
     "output_type": "execute_result"
    }
   ],
   "source": [
    "np.concatenate(\n",
    "    (g, np.zeros_like(g))\n",
    ")  # Attention à la syntaxe: le type d'entrée est un tuple!"
   ]
  },
  {
   "cell_type": "code",
   "execution_count": 25,
   "metadata": {},
   "outputs": [
    {
     "data": {
      "text/plain": [
       "array([[ 0,  1,  2,  3,  4,  5,  6,  7,  8,  9, 10, 11],\n",
       "       [ 1,  1,  1,  1,  1,  1,  1,  1,  1,  1,  1,  1]])"
      ]
     },
     "execution_count": 25,
     "metadata": {},
     "output_type": "execute_result"
    }
   ],
   "source": [
    "gmat = g.reshape((1, len(g)))\n",
    "np.concatenate((gmat, np.ones_like(gmat)), axis=0)"
   ]
  },
  {
   "cell_type": "code",
   "execution_count": 26,
   "metadata": {},
   "outputs": [
    {
     "data": {
      "text/plain": [
       "array([[ 0,  1,  2,  3,  4,  5,  6,  7,  8,  9, 10, 11,  1,  1,  1,  1,\n",
       "         1,  1,  1,  1,  1,  1,  1,  1]])"
      ]
     },
     "execution_count": 26,
     "metadata": {},
     "output_type": "execute_result"
    }
   ],
   "source": [
    "np.concatenate((gmat, np.ones_like(gmat)), axis=1)"
   ]
  },
  {
   "cell_type": "code",
   "execution_count": 27,
   "metadata": {},
   "outputs": [
    {
     "data": {
      "text/plain": [
       "array([ 0,  1,  2,  3,  4,  5,  6,  7,  8,  9, 10, 11,  0,  1,  2,  3,  4,\n",
       "        5,  6,  7,  8,  9, 10, 11])"
      ]
     },
     "execution_count": 27,
     "metadata": {},
     "output_type": "execute_result"
    }
   ],
   "source": [
    "np.hstack((g, g))"
   ]
  },
  {
   "cell_type": "code",
   "execution_count": 28,
   "metadata": {},
   "outputs": [
    {
     "data": {
      "text/plain": [
       "array([[ 0,  1,  2,  3,  4,  5,  6,  7,  8,  9, 10, 11],\n",
       "       [ 0,  1,  2,  3,  4,  5,  6,  7,  8,  9, 10, 11]])"
      ]
     },
     "execution_count": 28,
     "metadata": {},
     "output_type": "execute_result"
    }
   ],
   "source": [
    "np.vstack((g, g))"
   ]
  },
  {
   "cell_type": "markdown",
   "metadata": {},
   "source": []
  },
  {
   "cell_type": "markdown",
   "metadata": {},
   "source": [
    "## Exercice 1 : Echiquier et Crible d'Erathosthène\n",
    "\n",
    "* Exercice 1-A Echiquier: Créer une matrice échiquier (des 1 et des 0 alternés) de taille 8x8, de deux façons différentes\n",
    "    * en vous servant de slices \n",
    "    * en vous servant de la fonction [tile](http://docs.scipy.org/doc/numpy/reference/generated/numpy.tile.html#numpy.tile)\n",
    "* Exercice 1-B Piège lors d'une extraction 2d:\n",
    "    * Définir la matrice $M = \\left(\\begin{array}{ccccc} 1 & 5 & 9 & 13 & 17 \\\\ 2 & 6 & 10 & 14 & 18 \\\\ 3 & 7 & 11 & 15 & 19 \\\\ 4 & 8 & 12 & 16 & 20 \\\\ \\end{array}\\right)$\n",
    "    * En **extraire** la matrice $\\left(\\begin{array}{ccc} 6 & 18 & 10 \\\\ 7 & 19 & 11 \\\\ 5 & 17 & 9 \\\\ \\end{array}\\right)$\n",
    "* Exercice 1-C Crible d'Erathosthène: On souhaite implémenter un [crible d'Erathosthène](http://fr.wikipedia.org/wiki/Crible_d'%C3%89ratosth%C3%A8ne) pour trouver les nombres premiers inférieurs à $N=1000$.\n",
    "    * partir d'un array de booléens de taille N+1, tous égaux à True.\n",
    "    * Mettre 0 et 1 à False car ils ne sont pas premiers\n",
    "    * pour chaque entier $k$ entre 2 et $\\sqrt{N}$: \n",
    "        * si $k$ est premier: on passe ses multiples (entre $k^2$ et $N$) à False\n",
    "    * on print la liste des entiers premiers"
   ]
  },
  {
   "cell_type": "markdown",
   "metadata": {},
   "source": [
    "## Manipulation et Opérations sur les arrays"
   ]
  },
  {
   "cell_type": "markdown",
   "metadata": {},
   "source": [
    "Il existe un très grand nombre de [routines pour manipuler les arrays numpy](http://docs.scipy.org/doc/numpy/reference/routines.html): \n",
    "Vous trouverez sans doute utiles les pages spécifiques aux routines de [stats](http://docs.scipy.org/doc/numpy/reference/routines.statistics.html) ou de [maths](http://docs.scipy.org/doc/numpy/reference/routines.math.html)"
   ]
  },
  {
   "cell_type": "markdown",
   "metadata": {},
   "source": [
    "#### Opérations élément par élément"
   ]
  },
  {
   "cell_type": "markdown",
   "metadata": {},
   "source": [
    "On déclare $a$ et $b$ sur lesquelles nous allons illustrer quelques opérations"
   ]
  },
  {
   "cell_type": "code",
   "execution_count": 29,
   "metadata": {},
   "outputs": [
    {
     "name": "stdout",
     "output_type": "stream",
     "text": [
      "[[1. 1.]\n",
      " [1. 1.]\n",
      " [1. 1.]]\n"
     ]
    },
    {
     "data": {
      "text/plain": [
       "array([[0, 1],\n",
       "       [2, 3],\n",
       "       [4, 5]])"
      ]
     },
     "execution_count": 29,
     "metadata": {},
     "output_type": "execute_result"
    }
   ],
   "source": [
    "a = np.ones((3, 2))\n",
    "b = np.arange(6).reshape(a.shape)\n",
    "print(a)\n",
    "b"
   ]
  },
  {
   "cell_type": "markdown",
   "metadata": {},
   "source": [
    "Les opérations arithmétiques avec les scalaires, ou entre arrays s'effectuent élément par élément.\n",
    "Lorsque le dtype n'est pas le même ($a$ contient des float, $b$ contient des int), numpy adopte le type le plus \"grand\" (au sens de l'inclusion).\n"
   ]
  },
  {
   "cell_type": "code",
   "execution_count": 30,
   "metadata": {},
   "outputs": [
    {
     "name": "stdout",
     "output_type": "stream",
     "text": [
      "[[ 1.  4.]\n",
      " [ 9. 16.]\n",
      " [25. 36.]]\n",
      "[[3. 2.]\n",
      " [1. 0.]\n",
      " [1. 2.]]\n",
      "[[ 0.36787944  1.        ]\n",
      " [ 2.71828183  7.3890561 ]\n",
      " [20.08553692 54.59815003]]\n"
     ]
    }
   ],
   "source": [
    "print((a + b) ** 2)\n",
    "print(np.abs(3 * a - b))\n",
    "f = lambda x: np.exp(x - 1)\n",
    "print(f(b))"
   ]
  },
  {
   "cell_type": "markdown",
   "metadata": {},
   "source": [
    "Remarquez que la division par zéro ne provoque pas d'erreur mais introduit la valeur [inf](http://docs.scipy.org/doc/numpy/reference/generated/numpy.isinf.html) :"
   ]
  },
  {
   "cell_type": "code",
   "execution_count": 31,
   "metadata": {},
   "outputs": [
    {
     "data": {
      "text/plain": [
       "array([[0, 1],\n",
       "       [2, 3],\n",
       "       [4, 5]])"
      ]
     },
     "execution_count": 31,
     "metadata": {},
     "output_type": "execute_result"
    }
   ],
   "source": [
    "b"
   ]
  },
  {
   "cell_type": "code",
   "execution_count": 32,
   "metadata": {},
   "outputs": [
    {
     "name": "stderr",
     "output_type": "stream",
     "text": [
      "/tmp/ipykernel_1096/2601360242.py:1: RuntimeWarning: divide by zero encountered in divide\n",
      "  1 / b\n"
     ]
    },
    {
     "data": {
      "text/plain": [
       "array([[       inf, 1.        ],\n",
       "       [0.5       , 0.33333333],\n",
       "       [0.25      , 0.2       ]])"
      ]
     },
     "execution_count": 32,
     "metadata": {},
     "output_type": "execute_result"
    }
   ],
   "source": [
    "1 / b"
   ]
  },
  {
   "cell_type": "markdown",
   "metadata": {},
   "source": [
    "### Broadcasting"
   ]
  },
  {
   "cell_type": "markdown",
   "metadata": {},
   "source": [
    "Que se passe-t-il si les dimensions sont différentes?"
   ]
  },
  {
   "cell_type": "code",
   "execution_count": 33,
   "metadata": {},
   "outputs": [
    {
     "data": {
      "text/plain": [
       "array([1., 1., 1., 1., 1., 1.])"
      ]
     },
     "execution_count": 33,
     "metadata": {},
     "output_type": "execute_result"
    }
   ],
   "source": [
    "c = np.ones(6)\n",
    "c"
   ]
  },
  {
   "cell_type": "code",
   "execution_count": 34,
   "metadata": {},
   "outputs": [
    {
     "name": "stdout",
     "output_type": "stream",
     "text": [
      "operands could not be broadcast together with shapes (3,2) (6,) \n"
     ]
    }
   ],
   "source": [
    "try:\n",
    "    b + c  # déclenche une exception\n",
    "except ValueError as e:\n",
    "    print(e)"
   ]
  },
  {
   "cell_type": "code",
   "execution_count": 35,
   "metadata": {},
   "outputs": [
    {
     "name": "stdout",
     "output_type": "stream",
     "text": [
      "[[0 1]\n",
      " [2 3]\n",
      " [4 5]]\n",
      "[[0]\n",
      " [1]\n",
      " [2]]\n"
     ]
    },
    {
     "data": {
      "text/plain": [
       "array([[0, 1],\n",
       "       [3, 4],\n",
       "       [6, 7]])"
      ]
     },
     "execution_count": 35,
     "metadata": {},
     "output_type": "execute_result"
    }
   ],
   "source": [
    "c = np.arange(3).reshape((3, 1))\n",
    "print(b, c, sep=\"\\n\")\n",
    "b + c"
   ]
  },
  {
   "cell_type": "markdown",
   "metadata": {},
   "source": [
    "L'opération précédente fonctionne car numpy effectue ce qu'on appelle un [broadcasting](http://docs.scipy.org/doc/numpy/user/basics.broadcasting.html) de ``c`` : une dimension étant commune, tout se passe comme si on dupliquait c sur la dimension non-partagée avec b. (voir aussi [Broadcasting](https://numpy.org/doc/stable/user/basics.broadcasting.html)) :"
   ]
  },
  {
   "cell_type": "code",
   "execution_count": null,
   "metadata": {},
   "outputs": [],
   "source": []
  },
  {
   "cell_type": "code",
   "execution_count": 36,
   "metadata": {},
   "outputs": [
    {
     "name": "stdout",
     "output_type": "stream",
     "text": [
      "[[-1.  1.  2.]\n",
      " [-1.  1.  2.]\n",
      " [-1.  1.  2.]]\n"
     ]
    }
   ],
   "source": [
    "a = np.zeros((3, 3))\n",
    "a[:, 0] = -1\n",
    "b = np.array(range(3))\n",
    "print(a + b)"
   ]
  },
  {
   "cell_type": "markdown",
   "metadata": {},
   "source": [
    "Par contre, il peut parfois être utile de préciser la dimension sur laquelle on souhaite broadcaster, on ajoute alors explicitement une dimension :"
   ]
  },
  {
   "cell_type": "code",
   "execution_count": 37,
   "metadata": {},
   "outputs": [
    {
     "name": "stdout",
     "output_type": "stream",
     "text": [
      "(3,)\n",
      "(3, 1)\n",
      "(1, 3)\n"
     ]
    }
   ],
   "source": [
    "print(b.shape)\n",
    "print(b[:, np.newaxis].shape)\n",
    "print(b[np.newaxis, :].shape)"
   ]
  },
  {
   "cell_type": "code",
   "execution_count": 38,
   "metadata": {},
   "outputs": [
    {
     "name": "stdout",
     "output_type": "stream",
     "text": [
      "[[-1.  1.  2.]\n",
      " [-1.  1.  2.]\n",
      " [-1.  1.  2.]]\n",
      "[[-1.  0.  0.]\n",
      " [ 0.  1.  1.]\n",
      " [ 1.  2.  2.]]\n",
      "[[0 1 2]\n",
      " [1 2 3]\n",
      " [2 3 4]]\n",
      "[0 2 4]\n"
     ]
    }
   ],
   "source": [
    "print(a + b[np.newaxis, :])\n",
    "print(a + b[:, np.newaxis])\n",
    "print(b[:, np.newaxis] + b[np.newaxis, :])\n",
    "print(b + b)"
   ]
  },
  {
   "cell_type": "markdown",
   "metadata": {},
   "source": [
    "### Réductions"
   ]
  },
  {
   "cell_type": "markdown",
   "metadata": {},
   "source": [
    "On parle de réductions lorsque l'opération réduit la dimension de l'array.\n",
    "Il en existe un grand nombre. Elles existent souvent sous forme de fonction de numpy ou de méthodes d'un array numpy.\n",
    "On n'en présente que quelques unes, mais le principe est le même : par défaut elles opèrent sur toutes les dimensions, mais on peut via l'argument *axis* préciser la dimension selon laquelle on souhaite effectuer la réduction."
   ]
  },
  {
   "cell_type": "code",
   "execution_count": 39,
   "metadata": {},
   "outputs": [
    {
     "name": "stdout",
     "output_type": "stream",
     "text": [
      "[[0 1 2 3 4]\n",
      " [5 6 7 8 9]]\n",
      "45\n",
      "[ 5  7  9 11 13]\n",
      "[10 35]\n"
     ]
    }
   ],
   "source": [
    "c = np.arange(10).reshape((2, -1))  # Note: -1 is a joker!\n",
    "print(c)\n",
    "print(c.sum())\n",
    "print(c.sum(axis=0))\n",
    "print(np.sum(c, axis=1))"
   ]
  },
  {
   "cell_type": "code",
   "execution_count": 40,
   "metadata": {},
   "outputs": [
    {
     "name": "stdout",
     "output_type": "stream",
     "text": [
      "True\n",
      "0 9\n",
      "[0 5]\n"
     ]
    }
   ],
   "source": [
    "print(np.all(c[0] < c[1]))\n",
    "print(c.min(), c.max())\n",
    "print(c.min(axis=1))"
   ]
  },
  {
   "cell_type": "markdown",
   "metadata": {},
   "source": [
    "## Algèbre linéaire"
   ]
  },
  {
   "cell_type": "markdown",
   "metadata": {},
   "source": [
    "Vous avez un éventail de fonctions pour faire de l'algèbre linéaire dans [numpy](http://docs.scipy.org/doc/numpy/reference/routines.linalg.html) ou dans [scipy](http://docs.scipy.org/doc/scipy/reference/linalg.html).\n",
    "Cela peut vous servir si vous cherchez à faire une décomposition matricielle particulière ([LU](http://docs.scipy.org/doc/scipy-0.14.0/reference/generated/scipy.linalg.lu.html), [QR](http://docs.scipy.org/doc/numpy/reference/generated/numpy.linalg.qr.html), [SVD](http://docs.scipy.org/doc/numpy/reference/generated/numpy.linalg.svd.html),...), si vous vous intéressez aux valeurs propres d'une matrice, etc..."
   ]
  },
  {
   "cell_type": "markdown",
   "metadata": {},
   "source": [
    "#### Exemples simples"
   ]
  },
  {
   "cell_type": "markdown",
   "metadata": {},
   "source": [
    "Commençons par construire deux arrays 2d correspondant à une matrice triangulaire inférieure et une matrice diagonale :"
   ]
  },
  {
   "cell_type": "code",
   "execution_count": 41,
   "metadata": {},
   "outputs": [
    {
     "data": {
      "text/plain": [
       "array([[1., 0., 0.],\n",
       "       [1., 1., 0.],\n",
       "       [1., 1., 1.]])"
      ]
     },
     "execution_count": 41,
     "metadata": {},
     "output_type": "execute_result"
    }
   ],
   "source": [
    "A = np.tril(np.ones((3, 3)))\n",
    "A"
   ]
  },
  {
   "cell_type": "code",
   "execution_count": 42,
   "metadata": {},
   "outputs": [
    {
     "data": {
      "text/plain": [
       "array([[1, 0, 0],\n",
       "       [0, 2, 0],\n",
       "       [0, 0, 3]])"
      ]
     },
     "execution_count": 42,
     "metadata": {},
     "output_type": "execute_result"
    }
   ],
   "source": [
    "b = np.diag([1, 2, 3])\n",
    "b"
   ]
  },
  {
   "cell_type": "markdown",
   "metadata": {},
   "source": [
    "On a vu que les multiplications entre array s'effectuaient élément par élement.\n",
    "Si l'on souhaite faire des multiplications matricielles, il faut utiliser la fonction [dot](http://docs.scipy.org/doc/numpy/reference/generated/numpy.dot.html). La version 3.5 introduit un nouvel opérateur [@](https://docs.python.org/3.6/whatsnew/3.5.html#pep-465-a-dedicated-infix-operator-for-matrix-multiplication) qui désigne explicitement la multiplication matricielle."
   ]
  },
  {
   "cell_type": "code",
   "execution_count": 43,
   "metadata": {},
   "outputs": [
    {
     "name": "stdout",
     "output_type": "stream",
     "text": [
      "[[1. 0. 0.]\n",
      " [1. 2. 0.]\n",
      " [1. 2. 3.]]\n",
      "[[1. 0. 0.]\n",
      " [0. 2. 0.]\n",
      " [0. 0. 3.]]\n",
      "[[1. 0. 0.]\n",
      " [2. 1. 0.]\n",
      " [3. 2. 1.]]\n"
     ]
    }
   ],
   "source": [
    "print(A.dot(b))\n",
    "print(A * b)\n",
    "print(A.dot(A))"
   ]
  },
  {
   "cell_type": "markdown",
   "metadata": {},
   "source": [
    "On peut calculer l'inverse ou le déterminant de $A$"
   ]
  },
  {
   "cell_type": "code",
   "execution_count": 44,
   "metadata": {},
   "outputs": [
    {
     "name": "stdout",
     "output_type": "stream",
     "text": [
      "1.0\n",
      "[[ 1.  0.  0.]\n",
      " [-1.  1.  0.]\n",
      " [ 0. -1.  1.]]\n",
      "[[1. 0. 0.]\n",
      " [0. 1. 0.]\n",
      " [0. 0. 1.]]\n"
     ]
    }
   ],
   "source": [
    "print(np.linalg.det(A))\n",
    "inv_A = np.linalg.inv(A)\n",
    "print(inv_A)\n",
    "print(inv_A.dot(A))"
   ]
  },
  {
   "cell_type": "markdown",
   "metadata": {},
   "source": [
    "... résoudre des systèmes d'equations linéaires du type $Ax = b$..."
   ]
  },
  {
   "cell_type": "code",
   "execution_count": 45,
   "metadata": {},
   "outputs": [
    {
     "name": "stdout",
     "output_type": "stream",
     "text": [
      "[1 2 3]\n",
      "[1. 1. 1.]\n",
      "[1. 2. 3.]\n"
     ]
    }
   ],
   "source": [
    "x = np.linalg.solve(A, np.diag(b))\n",
    "print(np.diag(b))\n",
    "print(x)\n",
    "print(A.dot(x))"
   ]
  },
  {
   "cell_type": "markdown",
   "metadata": {},
   "source": [
    "... ou encore obtenir les valeurs propres de $A$."
   ]
  },
  {
   "cell_type": "code",
   "execution_count": 46,
   "metadata": {},
   "outputs": [
    {
     "data": {
      "text/plain": [
       "EigResult(eigenvalues=array([1., 1., 1.]), eigenvectors=array([[ 0.00000000e+00,  0.00000000e+00,  4.93038066e-32],\n",
       "       [ 0.00000000e+00,  2.22044605e-16, -2.22044605e-16],\n",
       "       [ 1.00000000e+00, -1.00000000e+00,  1.00000000e+00]]))"
      ]
     },
     "execution_count": 46,
     "metadata": {},
     "output_type": "execute_result"
    }
   ],
   "source": [
    "np.linalg.eig(A)"
   ]
  },
  {
   "cell_type": "code",
   "execution_count": 47,
   "metadata": {},
   "outputs": [
    {
     "data": {
      "text/plain": [
       "array([1., 1., 1.])"
      ]
     },
     "execution_count": 47,
     "metadata": {},
     "output_type": "execute_result"
    }
   ],
   "source": [
    "np.linalg.eigvals(A)"
   ]
  },
  {
   "cell_type": "markdown",
   "metadata": {},
   "source": [
    "### Numpy Matrix"
   ]
  },
  {
   "cell_type": "markdown",
   "metadata": {},
   "source": [
    "[Matrix](http://docs.scipy.org/doc/numpy/reference/generated/numpy.matrix.html) est une sous classe spécialisée pour le calcul matriciel. Il s'agit d'un array numpy 2d qui conserve sa dimension 2d à travers les opérations. Pensez aux différences que cela implique...\n",
    "On peut les construire classiquement depuis les array ou les objets pythons, ou via une string à la Matlab ( où les points virgules indiquent les lignes)."
   ]
  },
  {
   "cell_type": "code",
   "execution_count": 48,
   "metadata": {},
   "outputs": [
    {
     "name": "stdout",
     "output_type": "stream",
     "text": [
      "[[1 2 3]\n",
      " [4 5 6]\n",
      " [7 8 9]]\n",
      "[[1 2 3]\n",
      " [4 5 6]\n",
      " [7 8 9]]\n",
      "[[1 2 3]] [1 2 3]\n",
      "(1, 3) (3,)\n"
     ]
    }
   ],
   "source": [
    "m = np.matrix(\" 1 2 3; 4 5 6; 7 8 9\")\n",
    "a = np.arange(1, 10).reshape((3, 3))\n",
    "print(m)\n",
    "print(a)\n",
    "print(m[0], a[0])\n",
    "print(m[0].shape, a[0].shape)"
   ]
  },
  {
   "cell_type": "markdown",
   "metadata": {},
   "source": [
    "Matrix surcharge par ailleurs les opérateurs \\* et \\** pour remplacer les opérations élément par élément par les opérations matricielles.\n",
    "Enfin, une Matrix possède des attributs supplémentaires. Notamment, Matrix.I qui désigne l'inverse, Matrix.A l'array de base. \n",
    "\n",
    "*Il est probable que cela évolue puisque Python 3.5 a introduit le symbol ``@`` pour la multiplication matricielle.*"
   ]
  },
  {
   "cell_type": "code",
   "execution_count": 49,
   "metadata": {},
   "outputs": [
    {
     "data": {
      "text/plain": [
       "matrix([[ 30,  36,  42],\n",
       "        [ 66,  81,  96],\n",
       "        [102, 126, 150]])"
      ]
     },
     "execution_count": 49,
     "metadata": {},
     "output_type": "execute_result"
    }
   ],
   "source": [
    "m * m"
   ]
  },
  {
   "cell_type": "code",
   "execution_count": 50,
   "metadata": {},
   "outputs": [
    {
     "data": {
      "text/plain": [
       "array([[ 1,  4,  9],\n",
       "       [16, 25, 36],\n",
       "       [49, 64, 81]])"
      ]
     },
     "execution_count": 50,
     "metadata": {},
     "output_type": "execute_result"
    }
   ],
   "source": [
    "a * a"
   ]
  },
  {
   "cell_type": "code",
   "execution_count": 51,
   "metadata": {},
   "outputs": [
    {
     "data": {
      "text/plain": [
       "matrix([[ 30,  36,  42],\n",
       "        [ 66,  81,  96],\n",
       "        [102, 126, 150]])"
      ]
     },
     "execution_count": 51,
     "metadata": {},
     "output_type": "execute_result"
    }
   ],
   "source": [
    "m * a  # La priorité des matrix est plus importantes que celles des arrays"
   ]
  },
  {
   "cell_type": "code",
   "execution_count": 52,
   "metadata": {},
   "outputs": [
    {
     "name": "stdout",
     "output_type": "stream",
     "text": [
      "[[ 30  36  42]\n",
      " [ 66  81  96]\n",
      " [102 126 150]]\n",
      "[[ 1  4  9]\n",
      " [16 25 36]\n",
      " [49 64 81]]\n"
     ]
    }
   ],
   "source": [
    "print(m**2)\n",
    "print(a**2)"
   ]
  },
  {
   "cell_type": "markdown",
   "metadata": {},
   "source": [
    "La syntaxe est plus légère pour effectuer du calcul matriciel"
   ]
  },
  {
   "cell_type": "code",
   "execution_count": 53,
   "metadata": {},
   "outputs": [
    {
     "name": "stdout",
     "output_type": "stream",
     "text": [
      "det 6.000000000000016 rank 3\n",
      "[[ 1.00000000e+00 -2.22044605e-15 -3.77475828e-15]\n",
      " [ 0.00000000e+00  1.00000000e+00  7.10542736e-15]\n",
      " [ 8.88178420e-16  0.00000000e+00  1.00000000e+00]]\n",
      "det 6.000000000000016 rank 3\n",
      "[[ 1.00000000e+00  2.66453526e-15 -8.88178420e-16]\n",
      " [ 0.00000000e+00  1.00000000e+00  1.77635684e-15]\n",
      " [ 0.00000000e+00  8.88178420e-16  1.00000000e+00]]\n"
     ]
    }
   ],
   "source": [
    "m[0, 0] = -1\n",
    "print(\"det\", np.linalg.det(m), \"rank\", np.linalg.matrix_rank(m))\n",
    "print(m.I * m)\n",
    "a[0, 0] = -1\n",
    "print(\"det\", np.linalg.det(a), \"rank\", np.linalg.matrix_rank(a))\n",
    "print(a.dot(np.linalg.inv(a)))"
   ]
  },
  {
   "cell_type": "markdown",
   "metadata": {},
   "source": [
    "## Génération de nombres aléatoires et statistiques"
   ]
  },
  {
   "cell_type": "markdown",
   "metadata": {},
   "source": [
    "Le module [numpy.random](https://numpy.org/doc/stable/reference/random/index.html) apporte à python la possibilité de générer un échantillon de taille $n$ directement, alors que le module natif de python ne produit des tirages que un par un. Le module [https://numpy.org/doc/stable/reference/random/index.html#module-numpy.randomnumpy.random](https://numpy.org/doc/stable/reference/random/index.html) est donc bien plus efficace si on veut tirer des échantillon conséquents. Par ailleurs, [scipy.stats](https://docs.scipy.org/doc/scipy/reference/stats.html) fournit des méthodes pour un très grand nombre de distributions et quelques fonctions classiques de statistiques. "
   ]
  },
  {
   "cell_type": "markdown",
   "metadata": {},
   "source": [
    "Par exemple, on peut obtenir un array 4x3 de tirages gaussiens standard (soit en utilisant [*randn*](https://numpy.org/doc/stable/reference/random/generated/numpy.random.randn.html) ou [*normal*](https://numpy.org/doc/stable/reference/random/generated/numpy.random.normal.html#numpy.random.normal)):"
   ]
  },
  {
   "cell_type": "code",
   "execution_count": 54,
   "metadata": {},
   "outputs": [
    {
     "data": {
      "text/plain": [
       "array([[-1.94646743,  0.00894075, -1.06740407],\n",
       "       [-0.12685385,  0.29565984,  0.15423585],\n",
       "       [-0.28897528,  0.91623823, -0.161901  ],\n",
       "       [-0.86416828, -0.06260028, -1.19651082]])"
      ]
     },
     "execution_count": 54,
     "metadata": {},
     "output_type": "execute_result"
    }
   ],
   "source": [
    "np.random.randn(4, 3)"
   ]
  },
  {
   "cell_type": "markdown",
   "metadata": {},
   "source": [
    "Pour se convaincre que `numpy.random` est plus efficace que le module `random` de base de python. On effectue un grand nombre de tirages gaussiens standard, en python pur et via numpy."
   ]
  },
  {
   "cell_type": "code",
   "execution_count": 55,
   "metadata": {},
   "outputs": [
    {
     "name": "stdout",
     "output_type": "stream",
     "text": [
      "1.16 s ± 179 ms per loop (mean ± std. dev. of 7 runs, 1 loop each)\n"
     ]
    }
   ],
   "source": [
    "N = int(1e6)\n",
    "from random import normalvariate\n",
    "\n",
    "%timeit [normalvariate(0,1) for _ in range(N)]"
   ]
  },
  {
   "cell_type": "code",
   "execution_count": 56,
   "metadata": {},
   "outputs": [
    {
     "name": "stdout",
     "output_type": "stream",
     "text": [
      "49.2 ms ± 9.34 ms per loop (mean ± std. dev. of 7 runs, 10 loops each)\n"
     ]
    }
   ],
   "source": [
    "%timeit np.random.randn(N)"
   ]
  },
  {
   "cell_type": "markdown",
   "metadata": {},
   "source": [
    "## Exercice 2 : marches aléatoires"
   ]
  },
  {
   "cell_type": "markdown",
   "metadata": {},
   "source": [
    "Simulez (**en une seule fois!**) 10000 marches aléatoires de taille 1000, partant de 0 et de pas +1 ou -1 équiprobables \n",
    "\n",
    "* Faites un graphe représentant la racine de la moyenne des carrés des positions (=cumul des pas à un instant donné) en fonction du temps\n",
    "* Quels sont les amplitudes maximales et minimales atteintes parmi l'ensemble des marches aléatoires?\n",
    "* Combien de marches s'éloigne de plus de 50 de l'origine?\n",
    "* Parmi celles qui le font, quelle est la moyenne des temps de passage (i.e. le premier moment où ces marches dépassent +/-50)?\n",
    "\n",
    "Vous aurez peut-être besoin des fonctions suivantes: [np.abs](https://numpy.org/doc/stable/reference/generated/numpy.absolute.html), [np.mean](https://numpy.org/doc/stable/reference/generated/numpy.mean.html), [np.max](https://numpy.org/doc/stable/reference/generated/numpy.max.html), [np.where](https://numpy.org/doc/stable/reference/generated/numpy.where.html), [np.argmax](https://numpy.org/doc/stable/reference/generated/numpy.argmax.html), [np.any](https://numpy.org/doc/stable/reference/generated/numpy.any.html), [np.cumsum](https://numpy.org/doc/stable/reference/generated/numpy.cumsum.html), [np.random.randint](https://numpy.org/doc/stable/reference/random/generated/numpy.random.randint.html)."
   ]
  },
  {
   "cell_type": "code",
   "execution_count": null,
   "metadata": {
    "collapsed": true
   },
   "outputs": [],
   "source": []
  },
  {
   "cell_type": "markdown",
   "metadata": {},
   "source": [
    "## Exercice 3 : retrouver la série aléatoire à partir des marches aléatoires\n",
    "\n",
    "L'exercice précédent montre comment générer une marche aléatoire à partir d'une série temporelle aléatoire. Comment retrouver la série initiale à partir de la marche aléatoire ?"
   ]
  },
  {
   "cell_type": "code",
   "execution_count": null,
   "metadata": {
    "collapsed": true
   },
   "outputs": [],
   "source": []
  },
  {
   "cell_type": "markdown",
   "metadata": {},
   "source": [
    "## Optimisation avec scipy"
   ]
  },
  {
   "cell_type": "markdown",
   "metadata": {},
   "source": [
    "Le module [scipy.optimize](http://docs.scipy.org/doc/scipy/reference/optimize.html) fournit un panel de méthodes d'optimisation. En fonction du problème que vous souhaitez résoudre, il vous faut choisir la méthode adéquate. Je vous conseille vivement la lecture de ce [tutoriel](http://scipy-lectures.github.io/advanced/mathematical_optimization/index.html) sur l'optimisation numérique, écrit par Gaël Varoquaux. \n"
   ]
  },
  {
   "cell_type": "markdown",
   "metadata": {},
   "source": [
    "\n",
    "Récemment, l'ensemble des solvers ont été regroupés sous deux interfaces, même si on peut toujours faire appel à chaque solver directement, ce qui n'est pas conseillé car les entrées sorties ne sont pas normalisées (par contre vous devrez sans doute aller voir l'aide de chaque méthode pour vous en servir): \n",
    "\n",
    "* Pour minimiser une fonction scalaire d'une ou plusieurs variables:[scipy.optimize.minimize](http://docs.scipy.org/doc/scipy/reference/generated/scipy.optimize.minimize.html#scipy.optimize.minimize)\n",
    "* Pour minimiser une fonction scalaire d'une variable uniquement:[scipy.optimize.minimize_scalar](http://docs.scipy.org/doc/scipy/reference/generated/scipy.optimize.minimize_scalar.html#scipy.optimize.minimize_scalar)\n",
    "\n",
    "Vous obtiendrez en sortie un objet de type [scipy.optimize.OptimizeResult](http://docs.scipy.org/doc/scipy/reference/generated/scipy.optimize.OptimizeResult.html#scipy.optimize.OptimizeResult)."
   ]
  },
  {
   "cell_type": "markdown",
   "metadata": {},
   "source": [
    "Dans la suite, je développe un petit exemple inspiré du [tutoriel](https://fr.mathworks.com/help/optim/ug/unconstrained-nonlinear-optimization-algorithms.html) de la toolbox d'optimisation de Matlab. Par ailleurs, la documentation de cette toolbox est plutôt claire et peut toujours vous servir lorsque que vous avez besoin de vous rafraichir la mémoire sur l'optimisation numérique."
   ]
  },
  {
   "cell_type": "markdown",
   "metadata": {},
   "source": [
    "On commence par définir la fonction *bowl_peak*"
   ]
  },
  {
   "cell_type": "code",
   "execution_count": 57,
   "metadata": {
    "collapsed": true
   },
   "outputs": [],
   "source": [
    "def bowl_peak(x, y):\n",
    "    return x * np.exp(-(x**2) - y**2) + (x**2 + y**2) / 20"
   ]
  },
  {
   "cell_type": "markdown",
   "metadata": {},
   "source": [
    "On va ensuite chercher un exemple dans la gallerie matplotlib pour la représenter: [contour3d_demo3](http://matplotlib.org/examples/mplot3d/contour3d_demo3.html). On modifie légèrement le code pour l'utiliser avec *bowl_peak*"
   ]
  },
  {
   "cell_type": "code",
   "execution_count": 58,
   "metadata": {},
   "outputs": [
    {
     "data": {
      "text/plain": [
       "(-0.5, 0.5)"
      ]
     },
     "execution_count": 58,
     "metadata": {},
     "output_type": "execute_result"
    },
    {
     "data": {
      "image/png": "[encoded data removed]",
      "text/plain": [
       "<Figure size 640x480 with 1 Axes>"
      ]
     },
     "metadata": {},
     "output_type": "display_data"
    }
   ],
   "source": [
    "from mpl_toolkits.mplot3d import axes3d\n",
    "import matplotlib.pyplot as plt\n",
    "from matplotlib import cm  # colormaps\n",
    "\n",
    "min_val = -2\n",
    "max_val = 2\n",
    "\n",
    "ax = plt.figure().add_subplot(projection=\"3d\")\n",
    "x_axis = np.linspace(min_val, max_val, 100)\n",
    "y_axis = np.linspace(min_val, max_val, 100)\n",
    "X, Y = np.meshgrid(x_axis, y_axis, copy=False, indexing=\"xy\")\n",
    "Z = bowl_peak(X, Y)\n",
    "# X, Y, Z = axes3d.get_test_data(0.05)\n",
    "ax.plot_surface(X, Y, Z, rstride=5, cstride=5, alpha=0.2)\n",
    "cset = ax.contour(X, Y, Z, zdir=\"z\", offset=-0.5, cmap=cm.coolwarm)\n",
    "cset = ax.contour(X, Y, Z, zdir=\"x\", offset=min_val, cmap=cm.coolwarm)\n",
    "cset = ax.contour(X, Y, Z, zdir=\"y\", offset=max_val, cmap=cm.coolwarm)\n",
    "\n",
    "ax.set_xlabel(\"X\")\n",
    "ax.set_xlim(min_val, max_val)\n",
    "ax.set_ylabel(\"Y\")\n",
    "ax.set_ylim(min_val, max_val)\n",
    "ax.set_zlabel(\"Z\")\n",
    "ax.set_zlim(-0.5, 0.5)"
   ]
  },
  {
   "cell_type": "markdown",
   "metadata": {},
   "source": [
    "On voit que le minimum se trouve près de $[-\\frac{1}{2}, 0]$. On va utiliser ce point pour initialiser l'optimisation.\n",
    "On va tester différentes méthodes et comparer les sorties obtenues."
   ]
  },
  {
   "cell_type": "code",
   "execution_count": 59,
   "metadata": {},
   "outputs": [
    {
     "name": "stdout",
     "output_type": "stream",
     "text": [
      "---\n",
      "Method:Nelder-Mead\n",
      "        message: Optimization terminated successfully.\n",
      "       success: True\n",
      "        status: 0\n",
      "           fun: -0.4052368582391728\n",
      "             x: [-6.690e-01 -1.446e-04]\n",
      "           nit: 20\n",
      "          nfev: 38\n",
      " final_simplex: (array([[-6.690e-01, -1.446e-04],\n",
      "                       [-6.691e-01, -1.814e-04],\n",
      "                       [-6.690e-01, -2.011e-04]]), array([-4.052e-01, -4.052e-01, -4.052e-01])) \n",
      "\n",
      "---\n",
      "Method:CG\n",
      "  message: Optimization terminated successfully.\n",
      " success: True\n",
      "  status: 0\n",
      "     fun: -0.40523687026669025\n",
      "       x: [-6.691e-01 -5.670e-09]\n",
      "     nit: 2\n",
      "     jac: [ 1.863e-08  0.000e+00]\n",
      "    nfev: 24\n",
      "    njev: 8 \n",
      "\n",
      "---\n",
      "Method:BFGS\n",
      "   message: Optimization terminated successfully.\n",
      "  success: True\n",
      "   status: 0\n",
      "      fun: -0.40523687025688715\n",
      "        x: [-6.691e-01 -7.451e-09]\n",
      "      nit: 6\n",
      "      jac: [-6.083e-06  0.000e+00]\n",
      " hess_inv: [[ 5.287e-01 -4.836e-24]\n",
      "            [-4.836e-24  1.000e+00]]\n",
      "     nfev: 21\n",
      "     njev: 7 \n",
      "\n",
      "---\n",
      "Method:Powell\n",
      "  message: Optimization terminated successfully.\n",
      " success: True\n",
      "  status: 0\n",
      "     fun: -0.40523687026669025\n",
      "       x: [-6.691e-01 -1.154e-08]\n",
      "     nit: 2\n",
      "   direc: [[ 0.000e+00  1.000e+00]\n",
      "           [-6.854e-04 -4.670e-11]]\n",
      "    nfev: 57 \n",
      "\n",
      "---\n",
      "Method:COBYLA\n",
      "  message: Optimization terminated successfully.\n",
      " success: True\n",
      "  status: 1\n",
      "     fun: -0.4052368678399868\n",
      "       x: [-6.691e-01 -4.892e-05]\n",
      "    nfev: 32\n",
      "   maxcv: 0.0 \n",
      "\n",
      "---\n",
      "Method:L-BFGS-B\n",
      "   message: CONVERGENCE: NORM_OF_PROJECTED_GRADIENT_<=_PGTOL\n",
      "  success: True\n",
      "   status: 0\n",
      "      fun: -0.4052368702662145\n",
      "        x: [-6.691e-01 -8.828e-09]\n",
      "      nit: 3\n",
      "      jac: [ 1.360e-06  0.000e+00]\n",
      "     nfev: 15\n",
      "     njev: 5\n",
      " hess_inv: <2x2 LbfgsInvHessProduct with dtype=float64> \n",
      "\n"
     ]
    }
   ],
   "source": [
    "from scipy import optimize\n",
    "\n",
    "x0 = np.array([-0.5, 0])\n",
    "fun = lambda x: bowl_peak(x[0], x[1])\n",
    "methods = [\"Nelder-Mead\", \"CG\", \"BFGS\", \"Powell\", \"COBYLA\", \"L-BFGS-B\"]\n",
    "for m in methods:\n",
    "    optim_res = optimize.minimize(fun, x0, method=m)\n",
    "    print(\"---\\nMethod:{}\\n\".format(m), optim_res, \"\\n\")"
   ]
  },
  {
   "cell_type": "markdown",
   "metadata": {},
   "source": [
    "On trouve un minimum à $-0.4052$ en $[-0.669, 0.000]$ pour toutes les méthodes qui convergent. Notez le message de sortie de 'CG' qui signifie que le gradient ne varie plus assez. Personnellement, je ne trouve pas ce message de sortie très clair. Le point trouvé est bien l'optimum cherché pourtant. Notez aussi le nombre d'évaluations de la fonction (*nfev*) pour chaque méthode, et le nombre d'évaluation de gradient (*njev*) pour les méthodes qui reposent sur un calcul de gradient."
   ]
  },
  {
   "cell_type": "markdown",
   "metadata": {},
   "source": [
    "Remarquez aussi que si on relance *Anneal* plusieurs fois, on n'est pas assuré d'obtenir la même solution, puisqu'il s'agit d'une métaheuristique."
   ]
  },
  {
   "cell_type": "code",
   "execution_count": 60,
   "metadata": {},
   "outputs": [
    {
     "name": "stdout",
     "output_type": "stream",
     "text": [
      "---\n",
      "Method:L-BFGS-B - Test:0\n",
      "   message: Optimization terminated successfully.\n",
      "  success: True\n",
      "   status: 0\n",
      "      fun: -0.40523687025688715\n",
      "        x: [-6.691e-01 -7.451e-09]\n",
      "      nit: 6\n",
      "      jac: [-6.083e-06  0.000e+00]\n",
      " hess_inv: [[ 5.287e-01 -4.836e-24]\n",
      "            [-4.836e-24  1.000e+00]]\n",
      "     nfev: 21\n",
      "     njev: 7 \n",
      "\n",
      "---\n",
      "Method:L-BFGS-B - Test:1\n",
      "   message: Optimization terminated successfully.\n",
      "  success: True\n",
      "   status: 0\n",
      "      fun: -0.40523687025688715\n",
      "        x: [-6.691e-01 -7.451e-09]\n",
      "      nit: 6\n",
      "      jac: [-6.083e-06  0.000e+00]\n",
      " hess_inv: [[ 5.287e-01 -4.836e-24]\n",
      "            [-4.836e-24  1.000e+00]]\n",
      "     nfev: 21\n",
      "     njev: 7 \n",
      "\n",
      "---\n",
      "Method:L-BFGS-B - Test:2\n",
      "   message: Optimization terminated successfully.\n",
      "  success: True\n",
      "   status: 0\n",
      "      fun: -0.40523687025688715\n",
      "        x: [-6.691e-01 -7.451e-09]\n",
      "      nit: 6\n",
      "      jac: [-6.083e-06  0.000e+00]\n",
      " hess_inv: [[ 5.287e-01 -4.836e-24]\n",
      "            [-4.836e-24  1.000e+00]]\n",
      "     nfev: 21\n",
      "     njev: 7 \n",
      "\n",
      "---\n",
      "Method:L-BFGS-B - Test:3\n",
      "   message: Optimization terminated successfully.\n",
      "  success: True\n",
      "   status: 0\n",
      "      fun: -0.40523687025688715\n",
      "        x: [-6.691e-01 -7.451e-09]\n",
      "      nit: 6\n",
      "      jac: [-6.083e-06  0.000e+00]\n",
      " hess_inv: [[ 5.287e-01 -4.836e-24]\n",
      "            [-4.836e-24  1.000e+00]]\n",
      "     nfev: 21\n",
      "     njev: 7 \n",
      "\n"
     ]
    }
   ],
   "source": [
    "for i in range(4):\n",
    "    optim_res = optimize.minimize(fun, x0, method=\"BFGS\")\n",
    "    print(\"---\\nMethod:{} - Test:{}\\n\".format(m, i), optim_res, \"\\n\")"
   ]
  },
  {
   "cell_type": "markdown",
   "metadata": {},
   "source": [
    "On va évaluer le temps de calcul nécessaire à chaque méthode."
   ]
  },
  {
   "cell_type": "code",
   "execution_count": 61,
   "metadata": {},
   "outputs": [
    {
     "name": "stdout",
     "output_type": "stream",
     "text": [
      "Method:Nelder-Mead:\n",
      "3.06 ms ± 1.43 ms per loop (mean ± std. dev. of 7 runs, 100 loops each)\n",
      "############\n",
      "Method:CG:\n"
     ]
    },
    {
     "name": "stdout",
     "output_type": "stream",
     "text": [
      "3.16 ms ± 1.69 ms per loop (mean ± std. dev. of 7 runs, 100 loops each)\n",
      "############\n",
      "Method:BFGS:\n",
      "2.34 ms ± 197 µs per loop (mean ± std. dev. of 7 runs, 100 loops each)\n",
      "############\n",
      "Method:Powell:\n",
      "1.55 ms ± 386 µs per loop (mean ± std. dev. of 7 runs, 1,000 loops each)\n",
      "############\n",
      "Method:COBYLA:\n",
      "346 µs ± 118 µs per loop (mean ± std. dev. of 7 runs, 1,000 loops each)\n",
      "############\n",
      "Method:L-BFGS-B:\n",
      "940 µs ± 147 µs per loop (mean ± std. dev. of 7 runs, 1,000 loops each)\n",
      "############\n"
     ]
    }
   ],
   "source": [
    "for m in methods:\n",
    "    print(\"Method:{}:\".format(m))\n",
    "    %timeit optim_res = optimize.minimize(fun, x0, method=m)\n",
    "    print(\"############\")"
   ]
  },
  {
   "cell_type": "markdown",
   "metadata": {},
   "source": [
    "On peut aussi fournir des arguments supplémentaires à la fonction qu'on optimise. Par exemple, les données lorsque vous maximisez une log-vraissemblance. En voici un exemple: on considère une version rescaled de la fonction *bowl_peak*. Vous pourriez aussi utiliser une lambda fonction."
   ]
  },
  {
   "cell_type": "code",
   "execution_count": 62,
   "metadata": {},
   "outputs": [
    {
     "name": "stdout",
     "output_type": "stream",
     "text": [
      "  message: Optimization terminated successfully.\n",
      "  success: True\n",
      "   status: 0\n",
      "      fun: 0.05000000677266441\n",
      "        x: [ 2.500e+00 -1.229e+00]\n",
      "      nit: 23\n",
      "      jac: [-9.918e-06  5.635e-08]\n",
      " hess_inv: [[ 1.407e+00 -1.579e+02]\n",
      "            [-1.579e+02  7.174e+05]]\n",
      "     nfev: 72\n",
      "     njev: 24\n",
      "#######\n",
      "  message: Optimization terminated successfully.\n",
      "  success: True\n",
      "   status: 0\n",
      "      fun: 0.05000000677266441\n",
      "        x: [ 2.500e+00 -1.229e+00]\n",
      "      nit: 23\n",
      "      jac: [-9.918e-06  5.635e-08]\n",
      " hess_inv: [[ 1.407e+00 -1.579e+02]\n",
      "            [-1.579e+02  7.174e+05]]\n",
      "     nfev: 72\n",
      "     njev: 24\n"
     ]
    }
   ],
   "source": [
    "def shifted_scaled_bowlpeak(x, a, b, c):\n",
    "    return (x[0] - a) * np.exp(-((x[0] - a) ** 2 + (x[1] - b) ** 2)) + (\n",
    "        (x[0] - a) ** 2 + (x[0] - b) ** 2\n",
    "    ) / c\n",
    "\n",
    "\n",
    "a = 2\n",
    "b = 3\n",
    "c = 10\n",
    "optim_res = optimize.minimize(\n",
    "    shifted_scaled_bowlpeak, x0, args=(a, b, c), method=\"BFGS\"\n",
    ")\n",
    "print(optim_res)\n",
    "print(\"#######\")\n",
    "optim_res = optimize.minimize(\n",
    "    lambda x: shifted_scaled_bowlpeak(x, a, b, c), x0, method=\"BFGS\"\n",
    ")\n",
    "print(optim_res)"
   ]
  },
  {
   "cell_type": "markdown",
   "metadata": {},
   "source": [
    "Vous pouvez continuer ce petit benchmark en ajoutant le gradient et la hessienne... les calculs seront plus précis et plus rapides."
   ]
  },
  {
   "cell_type": "markdown",
   "metadata": {},
   "source": [
    "## Exercice 4 : simulation, régression, estimation par maximisation de la vraisemblance"
   ]
  },
  {
   "cell_type": "markdown",
   "metadata": {},
   "source": [
    "* On commence par simuler la variable $Y = 3 X_1 -2 X_2 +2 + \\epsilon$ où $X_1,X_2,\\epsilon \\sim \\mathcal{N}(0,1)$ \n",
    "* On souhaite ensuite retrouver les coefficients dans la [régression linéaire](http://fr.wikipedia.org/wiki/R%C3%A9gression_lin%C3%A9aire) de $Y$ sur $X_1$ et $X_2$ dans un modèle avec constante, par la méthode des Moindres Carrés Ordinaires. On rappelle que la forme matricielle de l'estimateur des MCO est $\\hat{\\beta} = (X'X)^{-1}X'Y$\n",
    "* Enfin, $Y$ étant normale, on souhaite estimer ses paramètres par maximisation de vraisemblance:\n",
    "    * La densité s'écrit: $f(x, \\mu, \\sigma) = \\frac{1}{\\sigma \\sqrt{2\\pi} } e^{ -\\frac{(x-\\mu)^2}{2\\sigma^2} }$\n",
    "    * La log-vraisemblance: $\\ln\\mathcal{L}(\\mu,\\sigma^2) = \\sum_{i=1}^n \\ln f(x_i;\\,\\mu,\\sigma^2) = -\\frac{n}{2}\\ln(2\\pi) - \\frac{n}{2}\\ln\\sigma^2 - \\frac{1}{2\\sigma^2}\\sum_{i=1}^n (x_i-\\mu)^2$.\n",
    "    * L'écriture des conditions au premier ordre donne une formule fermée pour les estimateurs du maximum de vraisemblance: $\\hat{\\mu} = \\overline{x} \\equiv \\frac{1}{n}\\sum_{i=1}^n x_i$, $\\hat{\\sigma}^2 = \\frac{1}{n} \\sum_{i=1}^n (x_i - \\overline{x})^2$.\n",
    "    * Vérifiez en les implémentant directement que vous trouvez bien la même solution que le minimum obtenu en utilisant [scipy.optimize.minimize](http://docs.scipy.org/doc/scipy/reference/generated/scipy.optimize.minimize.html) pour minimiser l'opposé de la log-vraissemblance."
   ]
  },
  {
   "cell_type": "markdown",
   "metadata": {},
   "source": [
    "## Références"
   ]
  },
  {
   "cell_type": "markdown",
   "metadata": {},
   "source": [
    "* [100 numpy exercises](http://www.loria.fr/~rougier/teaching/numpy.100/)\n",
    "* [Un tutoriel bien fait et très complet sur numpy](http://gael-varoquaux.info/scipy-lecture-notes/intro/numpy/index.html). L'un des auteurs n'est autre que Gaël Varoquaux qui sera présent pour la séance 3. Voir aussi la [partie optimisation](http://gael-varoquaux.info/scipy-lecture-notes/advanced/mathematical_optimization/index.html) "
   ]
  },
  {
   "cell_type": "markdown",
   "metadata": {},
   "source": [
    "## Eléments de réponses pour les exercices\n",
    "\n",
    "### Exercice 1 (Echiquier et Crible d'Erathosthene)\n",
    "\n",
    "* Exercice 1-A Echiquier: Créer une matrice échiquier (des 1 et des 0 alternés) de taille 8x8, de deux façons différentes\n",
    "    * en vous servant de slices \n",
    "    * en vous servant de la fonction [tile](http://docs.scipy.org/doc/numpy/reference/generated/numpy.tile.html#numpy.tile)"
   ]
  },
  {
   "cell_type": "code",
   "execution_count": 63,
   "metadata": {},
   "outputs": [
    {
     "name": "stdout",
     "output_type": "stream",
     "text": [
      "[[1 0 1 0 1 0 1 0]\n",
      " [0 1 0 1 0 1 0 1]\n",
      " [1 0 1 0 1 0 1 0]\n",
      " [0 1 0 1 0 1 0 1]\n",
      " [1 0 1 0 1 0 1 0]\n",
      " [0 1 0 1 0 1 0 1]\n",
      " [1 0 1 0 1 0 1 0]\n",
      " [0 1 0 1 0 1 0 1]]\n",
      "[[1 0 1 0 1 0 1 0]\n",
      " [0 1 0 1 0 1 0 1]\n",
      " [1 0 1 0 1 0 1 0]\n",
      " [0 1 0 1 0 1 0 1]\n",
      " [1 0 1 0 1 0 1 0]\n",
      " [0 1 0 1 0 1 0 1]\n",
      " [1 0 1 0 1 0 1 0]\n",
      " [0 1 0 1 0 1 0 1]]\n"
     ]
    }
   ],
   "source": [
    "import numpy as np\n",
    "\n",
    "# Exo1a-1:\n",
    "chess = np.zeros((8, 8), dtype=int)\n",
    "chess[::2, ::2] = 1\n",
    "chess[1::2, 1::2] = 1\n",
    "print(chess)\n",
    "\n",
    "# Exo1a-2:\n",
    "chess2 = np.tile([[1, 0], [0, 1]], (4, 4))\n",
    "print(chess2)"
   ]
  },
  {
   "cell_type": "markdown",
   "metadata": {},
   "source": [
    "* Exercice 1-B Piège lors d'une extraction 2d:\n",
    "    * Définir la matrice $M = \\left(\\begin{array}{ccccc} 1 & 5 & 9 & 13 & 17 \\\\ 2 & 6 & 10 & 14 & 18 \\\\ 3 & 7 & 11 & 15 & 19 \\\\ 4 & 8 & 12 & 16 & 20 \\\\ \\end{array}\\right)$\n",
    "    * En **extraire** la matrice $\\left(\\begin{array}{ccc} 6 & 18 & 10 \\\\ 7 & 19 & 11 \\\\ 5 & 17 & 9 \\\\ \\end{array}\\right)$"
   ]
  },
  {
   "cell_type": "code",
   "execution_count": 64,
   "metadata": {},
   "outputs": [
    {
     "name": "stdout",
     "output_type": "stream",
     "text": [
      "[[ 1  5  9 13 17]\n",
      " [ 2  6 10 14 18]\n",
      " [ 3  7 11 15 19]\n",
      " [ 4  8 12 16 20]]\n",
      "WRONG: [ 6 19  9]\n",
      "########\n",
      "[[ 6 18 10]\n",
      " [ 7 19 11]\n",
      " [ 5 17  9]]\n",
      "(array([[1],\n",
      "       [2],\n",
      "       [0]]), array([[1, 4, 2]]))\n",
      "[[ 6 18 10]\n",
      " [ 7 19 11]\n",
      " [ 5 17  9]]\n"
     ]
    }
   ],
   "source": [
    "# Exo1B:\n",
    "M = np.arange(1, 21).reshape((4, 5), order=\"F\")\n",
    "print(M)\n",
    "\n",
    "idx_row = [1, 2, 0]\n",
    "idx_col = [1, 4, 2]\n",
    "# the following line is wrong: it create couples from the two lists\n",
    "print(\"WRONG:\", M[idx_row, idx_col])\n",
    "print(\"########\")\n",
    "# first correct way:\n",
    "print(M[idx_row][:, idx_col])\n",
    "# we can also use broadcasted indices to create all the couples we want:\n",
    "idx = np.ix_(idx_row, idx_col)\n",
    "print(idx)\n",
    "print(M[idx])"
   ]
  },
  {
   "cell_type": "markdown",
   "metadata": {},
   "source": [
    "* Exercice 1-C Crible d'Erathosthene: On souhaite implémenter un [crible d'Erathosthène](http://fr.wikipedia.org/wiki/Crible_d'%C3%89ratosth%C3%A8ne) pour trouver les nombres premiers inférieurs à $N=1000$.\n",
    "    * partir d'un array de booléens de taille N+1, tous égaux à True.\n",
    "    * Mettre 0 et 1 à False car ils ne sont pas premiers\n",
    "    * pour chaque entier $k$ entre 2 et $\\sqrt{N}$: \n",
    "        * si $k$ est premier: on passe ses multiples (entre $k^2$ et $N$) à False\n",
    "    * on print la liste des entiers premiers"
   ]
  },
  {
   "cell_type": "code",
   "execution_count": 65,
   "metadata": {},
   "outputs": [
    {
     "name": "stdout",
     "output_type": "stream",
     "text": [
      "[  2   3   5   7  11  13  17  19  23  29  31  37  41  43  47  53  59  61\n",
      "  67  71  73  79  83  89  97 101 103 107 109 113 127 131 137 139 149 151\n",
      " 157 163 167 173 179 181 191 193 197 199 211 223 227 229 233 239 241 251\n",
      " 257 263 269 271 277 281 283 293 307 311 313 317 331 337 347 349 353 359\n",
      " 367 373 379 383 389 397 401 409 419 421 431 433 439 443 449 457 461 463\n",
      " 467 479 487 491 499 503 509 521 523 541 547 557 563 569 571 577 587 593\n",
      " 599 601 607 613 617 619 631 641 643 647 653 659 661 673 677 683 691 701\n",
      " 709 719 727 733 739 743 751 757 761 769 773 787 797 809 811 821 823 827\n",
      " 829 839 853 857 859 863 877 881 883 887 907 911 919 929 937 941 947 953\n",
      " 967 971 977 983 991 997]\n"
     ]
    }
   ],
   "source": [
    "# Exo1c\n",
    "n = 1001\n",
    "is_prime = np.ones(n, dtype=bool)\n",
    "is_prime[:2] = False\n",
    "\n",
    "for k in range(2, int(np.sqrt(n)) + 1):\n",
    "    is_prime[k**2 :: k] = False\n",
    "print(np.arange(n)[is_prime])"
   ]
  },
  {
   "cell_type": "markdown",
   "metadata": {},
   "source": [
    "On remarque que le nombre 6 est barré deux fois car il est multiple de 3 et de 2. Cela signifie que le nombre 6 est barré durant les deux premières itérations. En fait chaque nombre ``k*i`` est nécessaire barré dans une précédente itération si ``i<k``. On remplace donc ``k*i`` par ``k*k`` ou ``k**2``."
   ]
  },
  {
   "cell_type": "code",
   "execution_count": 66,
   "metadata": {},
   "outputs": [
    {
     "name": "stdout",
     "output_type": "stream",
     "text": [
      "[  2   3   5   7  11  13  17  19  23  29  31  37  41  43  47  53  59  61\n",
      "  67  71  73  79  83  89  97 101 103 107 109 113 127 131 137 139 149 151\n",
      " 157 163 167 173 179 181 191 193 197 199 211 223 227 229 233 239 241 251\n",
      " 257 263 269 271 277 281 283 293 307 311 313 317 331 337 347 349 353 359\n",
      " 367 373 379 383 389 397 401 409 419 421 431 433 439 443 449 457 461 463\n",
      " 467 479 487 491 499 503 509 521 523 541 547 557 563 569 571 577 587 593\n",
      " 599 601 607 613 617 619 631 641 643 647 653 659 661 673 677 683 691 701\n",
      " 709 719 727 733 739 743 751 757 761 769 773 787 797 809 811 821 823 827\n",
      " 829 839 853 857 859 863 877 881 883 887 907 911 919 929 937 941 947 953\n",
      " 961 967 971 977 983 991 997]\n"
     ]
    }
   ],
   "source": [
    "# Exo1c\n",
    "import numpy as np\n",
    "\n",
    "n = 1001\n",
    "is_prime = np.ones(n, dtype=bool)\n",
    "is_prime[:2] = False\n",
    "for k in range(2, int(np.sqrt(n))):\n",
    "    is_prime[k * k :: k] = False\n",
    "print(np.arange(n)[is_prime])"
   ]
  },
  {
   "cell_type": "markdown",
   "metadata": {},
   "source": [
    "### Exercice 2 (marches aléatoires)\n",
    "\n",
    "Simulez (**en une seule fois!**) 10000 marches aléatoires de taille 1000, partant de 0 et de pas +1 ou -1 équiprobables \n",
    "\n",
    "* Faites un graphe représentant la racine de la moyenne des carrés des positions (=cumul des pas à un instant donné) en fonction du temps\n",
    "* Quels sont les amplitudes maximales et minimales atteintes parmi l'ensemble des marches aléatoires?\n",
    "* Combien de marches s'éloigne de plus de 50 de l'origine?\n",
    "* Parmi celles qui le font, quelle est la moyenne des temps de passage (i.e. le premier moment où ces marches dépassent +/-50)?\n",
    "\n",
    "Vous aurez peut-être besoin des fonctions suivantes: [np.abs](https://numpy.org/doc/stable/reference/generated/numpy.absolute.html), [np.mean](https://numpy.org/doc/stable/reference/generated/numpy.mean.html), [np.max](https://numpy.org/doc/stable/reference/generated/numpy.max.html), [np.where](https://numpy.org/doc/stable/reference/generated/numpy.where.html), [np.argmax](https://numpy.org/doc/stable/reference/generated/numpy.argmax.html), [np.any](http://docs.scipy.org/doc/numpy/reference/generated/numpy.any.html), [np.cumsum](https://numpy.org/doc/stable/reference/generated/numpy.cumsum.html), [np.random.randint](https://numpy.org/doc/stable/reference/random/generated/numpy.random.randint.html)."
   ]
  },
  {
   "cell_type": "code",
   "execution_count": 67,
   "metadata": {},
   "outputs": [
    {
     "data": {
      "text/plain": [
       "array([[-1, -2, -3, -2, -1,  0, -1, -2, -3, -2],\n",
       "       [ 1,  2,  3,  2,  3,  4,  3,  4,  5,  4],\n",
       "       [-1, -2, -3, -2, -3, -4, -3, -2, -3, -2],\n",
       "       [-1, -2, -3, -2, -1, -2, -3, -4, -5, -6],\n",
       "       [ 1,  0,  1,  2,  1,  2,  1,  0,  1,  2],\n",
       "       [-1, -2, -3, -2, -1,  0, -1,  0, -1, -2],\n",
       "       [ 1,  0, -1,  0, -1,  0, -1, -2, -3, -4],\n",
       "       [-1,  0, -1, -2, -3, -4, -5, -4, -3, -2],\n",
       "       [-1,  0, -1, -2, -1,  0,  1,  2,  1,  2],\n",
       "       [ 1,  0, -1, -2, -1,  0, -1,  0, -1,  0]])"
      ]
     },
     "execution_count": 67,
     "metadata": {},
     "output_type": "execute_result"
    }
   ],
   "source": [
    "import numpy as np\n",
    "\n",
    "n_walks = 10000\n",
    "n_steps = 1000\n",
    "steps = np.random.randint(0, 2, (n_walks, n_steps))\n",
    "steps = 2 * steps - 1\n",
    "walks = np.cumsum(steps, axis=1)\n",
    "\n",
    "# on affiche le premier carré 10x10\n",
    "walks[:10, :10]"
   ]
  },
  {
   "cell_type": "code",
   "execution_count": 68,
   "metadata": {},
   "outputs": [
    {
     "data": {
      "image/png": "[encoded data removed]",
      "text/plain": [
       "<Figure size 1000x400 with 2 Axes>"
      ]
     },
     "metadata": {},
     "output_type": "display_data"
    }
   ],
   "source": [
    "# let's have a quick look at a few random walks\n",
    "fig, ax = plt.subplots(1, 2, figsize=(10, 4))\n",
    "ax[0].plot(walks[:10, :].transpose())\n",
    "ax[0].set_title(\"A few random walks\")\n",
    "\n",
    "# Let's see how the root mean square of the position evolves with time/nb of steps\n",
    "rms_position = np.sqrt((walks**2).mean(axis=0))\n",
    "t = 1 + np.arange(len(rms_position))\n",
    "ax[1].plot(t, np.sqrt(t), \":b\", lw=3)  # Just to show the fit\n",
    "ax[1].plot(t, rms_position, \"-r\", lw=2)\n",
    "\n",
    "# What are the highest/lowest positions\n",
    "titles = [\n",
    "    \"Root Mean Square of Position by Time\",\n",
    "    \"Highest position:{max} - Lowest position:{min}\".format(\n",
    "        max=walks.max(), min=walks.min()\n",
    "    ),\n",
    "]\n",
    "\n",
    "# How many walks wander further than 50?\n",
    "bound = 50\n",
    "hits_the_bound = np.any(\n",
    "    np.abs(walks) > bound, axis=1\n",
    ")  # for each walk, do we go further than the bound at any time?\n",
    "\n",
    "titles.append(f\"Number of walks over bound(={bound:1.2f}):{hits_the_bound.sum():1.2f}\")\n",
    "# Among the walks that go beyond the bound, what is the mean of the first hits?\n",
    "# we use argmax on the boolean array to get the first True value\n",
    "first_hits = (np.abs(walks[hits_the_bound, :]) > bound).argmax(axis=1)\n",
    "titles.append(f\"Mean crossing time:{first_hits.mean():1.2f}\")\n",
    "ax[1].set_title(\"\\n\".join(titles));"
   ]
  },
  {
   "cell_type": "markdown",
   "metadata": {},
   "source": [
    "### Exercice 3 (retrouver la série aléatoire à partir des marches aléatoires)\n",
    "\n",
    "Dans cet exercice, on cherche à retrouver la série initiale à partir de la somme cumulée de celle-ci. On veut calculer en quelque sort sa dérivée."
   ]
  },
  {
   "cell_type": "code",
   "execution_count": 69,
   "metadata": {},
   "outputs": [
    {
     "data": {
      "text/plain": [
       "array([[-1, -1,  1,  1,  1, -1, -1, -1,  1,  1],\n",
       "       [ 1,  1, -1,  1,  1, -1,  1,  1, -1, -1],\n",
       "       [-1, -1,  1, -1, -1,  1,  1, -1,  1, -1],\n",
       "       [-1, -1,  1,  1, -1, -1, -1, -1, -1, -1],\n",
       "       [-1,  1,  1, -1,  1, -1, -1,  1,  1,  1],\n",
       "       [-1, -1,  1,  1,  1, -1,  1, -1, -1,  1],\n",
       "       [-1, -1,  1, -1,  1, -1, -1, -1, -1, -1],\n",
       "       [ 1, -1, -1, -1, -1, -1,  1,  1,  1,  1],\n",
       "       [ 1, -1, -1,  1,  1,  1,  1, -1,  1,  1],\n",
       "       [-1, -1, -1,  1,  1, -1,  1, -1,  1,  1]])"
      ]
     },
     "execution_count": 69,
     "metadata": {},
     "output_type": "execute_result"
    }
   ],
   "source": [
    "derivee = walks[:, 1:] - walks[:, :-1]\n",
    "derivee[:10, :10]"
   ]
  },
  {
   "cell_type": "markdown",
   "metadata": {},
   "source": [
    "### Exercice 4 (simulation, régression, estimation par maximisation de la vraisemblance)\n",
    "\n",
    "* On commence par simuler la variable $Y = 3 X_1 -2 X_2 +2 + \\epsilon$ où $X_1,X_2,\\epsilon \\sim \\mathcal{N}(0,1)$ \n",
    "* On souhaite ensuite retrouver les coefficients dans la [régression linéaire](http://fr.wikipedia.org/wiki/R%C3%A9gression_lin%C3%A9aire) de $Y$ sur $X_1$ et $X_2$ dans un modèle avec constante, par la méthode des Moindres Carrés Ordinaires. On rappelle que la forme matricielle de l'estimateur des MCO est $\\hat{\\beta} = (X'X)^{-1}X'Y$\n",
    "* Enfin, $Y$ étant normale, on souhaite estimer ses paramètres par maximisation de vraisemblance:\n",
    "    * La densité s'écrit: $f(x, \\mu, \\sigma) = \\frac{1}{\\sigma \\sqrt{2\\pi} } e^{ -\\frac{(x-\\mu)^2}{2\\sigma^2} }$\n",
    "    * La log-vraisemblance: $\\ln\\mathcal{L}(\\mu,\\sigma^2) = \\sum_{i=1}^n \\ln f(x_i;\\,\\mu,\\sigma^2) = -\\frac{n}{2}\\ln(2\\pi) - \\frac{n}{2}\\ln\\sigma^2 - \\frac{1}{2\\sigma^2}\\sum_{i=1}^n (x_i-\\mu)^2$ ou encore en divisant par $n$ : $-\\frac{1}{2}\\ln(2\\pi) - \\frac{1}{2}\\ln\\sigma^2 - \\frac{1}{2n\\sigma^2}\\sum_{i=1}^n (x_i-\\mu)^2$\n",
    "    * L'écriture des conditions au premier ordre donne une formule fermée pour les estimateurs du maximum de vraisemblance: $\\hat{\\mu} = \\overline{x} \\equiv \\frac{1}{n}\\sum_{i=1}^n x_i$, $\\hat{\\sigma}^2 = \\frac{1}{n} \\sum_{i=1}^n (x_i - \\overline{x})^2$.\n",
    "    * Vérifiez en les implémentant directement que vous trouvez bien la même solution que le minimum obtenu en utilisant *scipy.optimize.minimize* pour minimiser l'opposé de la log-vraissemblance.\n",
    "    \n",
    "**version matricielle**"
   ]
  },
  {
   "cell_type": "code",
   "execution_count": 70,
   "metadata": {},
   "outputs": [
    {
     "name": "stdout",
     "output_type": "stream",
     "text": [
      "coef X1, coef X2, constante\n"
     ]
    },
    {
     "data": {
      "text/plain": [
       "array([ 3.00346367, -1.99844688,  1.99958244])"
      ]
     },
     "execution_count": 70,
     "metadata": {},
     "output_type": "execute_result"
    }
   ],
   "source": [
    "import numpy as np\n",
    "import math\n",
    "from scipy.optimize import minimize\n",
    "\n",
    "n_samples = 100000\n",
    "x1_x2_eps = np.random.randn(n_samples, 3)\n",
    "y = 3 * x1_x2_eps[:, 0] - 2 * x1_x2_eps[:, 1] + 2 + x1_x2_eps[:, 2]\n",
    "\n",
    "X = np.hstack((x1_x2_eps[:, :2], np.ones((n_samples, 1))))\n",
    "beta_hat = (np.linalg.inv((X.T).dot(X))).dot((X.T).dot(y))\n",
    "print(\"coef X1, coef X2, constante\")\n",
    "beta_hat"
   ]
  },
  {
   "cell_type": "markdown",
   "metadata": {},
   "source": [
    "**version scipy**"
   ]
  },
  {
   "cell_type": "code",
   "execution_count": 71,
   "metadata": {},
   "outputs": [
    {
     "data": {
      "text/plain": [
       "       message: Optimization terminated successfully.\n",
       "       success: True\n",
       "        status: 0\n",
       "           fun: 1.820124637851613\n",
       "             x: [ 2.008e+00  1.402e+01]\n",
       "           nit: 33\n",
       "          nfev: 62\n",
       " final_simplex: (array([[ 2.008e+00,  1.402e+01],\n",
       "                       [ 2.008e+00,  1.402e+01],\n",
       "                       [ 2.008e+00,  1.402e+01]]), array([ 1.820e+00,  1.820e+00,  1.820e+00]))"
      ]
     },
     "execution_count": 71,
     "metadata": {},
     "output_type": "execute_result"
    }
   ],
   "source": [
    "def log_likelihood(mu, sigma_square, x):\n",
    "    return -0.5 * math.log(sigma_square) - sum((x - mu) ** 2) / (\n",
    "        2 * sigma_square\n",
    "    ) / len(x)\n",
    "\n",
    "\n",
    "def neg_log_likelihood_vectorielle(theta):\n",
    "    return -log_likelihood(theta[0], theta[1], y)\n",
    "\n",
    "\n",
    "theta0 = np.array([2.0, 14])\n",
    "optim_res = minimize(neg_log_likelihood_vectorielle, theta0, method=\"Nelder-Mead\")\n",
    "optim_res"
   ]
  },
  {
   "cell_type": "markdown",
   "metadata": {},
   "source": [
    "Est-ce bien le résultat attendu :\n",
    "\n",
    "* $\\mathbb{E}Y = 3\\mathbb{E}X_1 - 2\\mathbb{E}X_2 + 2 + \\mathbb{E}\\epsilon = 2$\n",
    "* $\\mathbb{V}Y = 9\\mathbb{V}X_1 + 4\\mathbb{V}X_2 + \\mathbb{V}\\epsilon = 14$\n",
    "\n",
    "Toutes les variables sont indépendantes. On vérifie que cela correspond aux réponses cherchées :"
   ]
  },
  {
   "cell_type": "code",
   "execution_count": 72,
   "metadata": {},
   "outputs": [
    {
     "data": {
      "text/plain": [
       "(2.008188842074571, 14.016697194262983)"
      ]
     },
     "execution_count": 72,
     "metadata": {},
     "output_type": "execute_result"
    }
   ],
   "source": [
    "np.mean(y), np.std(y) ** 2"
   ]
  }
 ],
 "metadata": {
  "kernelspec": {
   "display_name": "Python 3",
   "language": "python",
   "name": "python3"
  },
  "language_info": {
   "codemirror_mode": {
    "name": "ipython",
    "version": 3
   },
   "file_extension": ".py",
   "mimetype": "text/x-python",
   "name": "python",
   "nbconvert_exporter": "python",
   "pygments_lexer": "ipython3",
   "version": "3.10.12"
  }
 },
 "nbformat": 4,
 "nbformat_minor": 1
}
