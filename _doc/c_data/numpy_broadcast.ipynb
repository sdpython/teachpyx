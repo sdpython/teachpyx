{
 "cells": [
  {
   "cell_type": "markdown",
   "id": "cbc3da63-4c62-45e9-bd8b-19fcd29ac38a",
   "metadata": {},
   "source": [
    "# Numpy et tableau de contingence\n",
    "\n",
    "Un exercice classique : écrire le calcul du $\\chi_2$ d'un tableau de contingence sans écrire explicitement une boucle. numpy s'en chargera. A suivre jusqu'à ce que vous n'en ayez plus besoin."
   ]
  },
  {
   "cell_type": "code",
   "execution_count": 46,
   "id": "331a5c98-4364-46e4-8271-ed54e5adb098",
   "metadata": {},
   "outputs": [
    {
     "data": {
      "text/plain": [
       "array([[0., 1., 2., 3.],\n",
       "       [4., 5., 6., 7.]])"
      ]
     },
     "execution_count": 46,
     "metadata": {},
     "output_type": "execute_result"
    }
   ],
   "source": [
    "import numpy as np\n",
    "\n",
    "A = np.array([[0, 1, 2, 3], [4, 5, 6, 7]], dtype=float)\n",
    "A"
   ]
  },
  {
   "cell_type": "code",
   "execution_count": 48,
   "id": "1eb628fb-991e-477f-885d-c59f2ab9d3ac",
   "metadata": {},
   "outputs": [
    {
     "data": {
      "text/plain": [
       "array([[ 6.],\n",
       "       [22.]])"
      ]
     },
     "execution_count": 48,
     "metadata": {},
     "output_type": "execute_result"
    }
   ],
   "source": [
    "A.sum(axis=1, keepdims=1)"
   ]
  },
  {
   "cell_type": "code",
   "execution_count": 49,
   "id": "b8cabc8a-0c92-4733-a8fa-e2b56c06053c",
   "metadata": {},
   "outputs": [
    {
     "data": {
      "text/plain": [
       "array([[ 6.,  7.,  8.,  9.],\n",
       "       [26., 27., 28., 29.]])"
      ]
     },
     "execution_count": 49,
     "metadata": {},
     "output_type": "execute_result"
    }
   ],
   "source": [
    "A + A.sum(axis=1, keepdims=1)"
   ]
  },
  {
   "cell_type": "code",
   "execution_count": 45,
   "id": "3481d5c2-2100-4d3b-870f-72bec20450da",
   "metadata": {},
   "outputs": [
    {
     "data": {
      "text/plain": [
       "array([[ 4,  6,  8, 10]])"
      ]
     },
     "execution_count": 45,
     "metadata": {},
     "output_type": "execute_result"
    }
   ],
   "source": [
    "A.sum(axis=0, keepdims=1)"
   ]
  },
  {
   "cell_type": "code",
   "execution_count": 54,
   "id": "06a3512f-5a56-41ef-8b62-3a58f275eb35",
   "metadata": {},
   "outputs": [
    {
     "data": {
      "text/plain": [
       "array([[-0.03061224,  0.95408163,  1.93877551,  2.92346939],\n",
       "       [ 3.8877551 ,  4.83163265,  5.7755102 ,  6.71938776]])"
      ]
     },
     "execution_count": 54,
     "metadata": {},
     "output_type": "execute_result"
    }
   ],
   "source": [
    "B = np.zeros(A.shape, dtype=A.dtype)\n",
    "N2 = A.sum() ** 2\n",
    "L = A.sum(axis=1)\n",
    "C = A.sum(axis=0)\n",
    "for i in range(A.shape[0]):\n",
    "    for j in range(A.shape[1]):\n",
    "        B[i, j] = A[i, j] - L[i] * C[j] / N2\n",
    "B"
   ]
  },
  {
   "cell_type": "code",
   "execution_count": 56,
   "id": "8e3db2bd-cbcb-4330-9271-25904515050c",
   "metadata": {},
   "outputs": [
    {
     "data": {
      "text/plain": [
       "array([[-0.03061224,  0.95408163,  1.93877551,  2.92346939],\n",
       "       [ 3.8877551 ,  4.83163265,  5.7755102 ,  6.71938776]])"
      ]
     },
     "execution_count": 56,
     "metadata": {},
     "output_type": "execute_result"
    }
   ],
   "source": [
    "A - A.sum(axis=1, keepdims=1) * A.sum(axis=0, keepdims=1) / A.sum() ** 2"
   ]
  },
  {
   "cell_type": "code",
   "execution_count": 57,
   "id": "9fd49baa-17b1-49a5-b904-e798d56c1801",
   "metadata": {},
   "outputs": [
    {
     "data": {
      "text/plain": [
       "((2, 1), (1, 4))"
      ]
     },
     "execution_count": 57,
     "metadata": {},
     "output_type": "execute_result"
    }
   ],
   "source": [
    "L = A.sum(axis=1, keepdims=1)\n",
    "C = A.sum(axis=0, keepdims=1)\n",
    "L.shape, C.shape"
   ]
  },
  {
   "cell_type": "code",
   "execution_count": 58,
   "id": "3969a96d-9560-4d67-8bc9-00f2592ae813",
   "metadata": {},
   "outputs": [
    {
     "data": {
      "text/plain": [
       "array([[ 24.,  36.,  48.,  60.],\n",
       "       [ 88., 132., 176., 220.]])"
      ]
     },
     "execution_count": 58,
     "metadata": {},
     "output_type": "execute_result"
    }
   ],
   "source": [
    "L * C"
   ]
  },
  {
   "cell_type": "code",
   "execution_count": 59,
   "id": "e9260a86-1e40-4b92-ad63-530deb6a10e7",
   "metadata": {},
   "outputs": [
    {
     "data": {
      "text/plain": [
       "array([[ 24.,  36.,  48.,  60.],\n",
       "       [ 88., 132., 176., 220.]])"
      ]
     },
     "execution_count": 59,
     "metadata": {},
     "output_type": "execute_result"
    }
   ],
   "source": [
    "C * L"
   ]
  },
  {
   "cell_type": "code",
   "execution_count": 61,
   "id": "74840f45-7f75-4e44-a086-1c58a1301098",
   "metadata": {},
   "outputs": [
    {
     "data": {
      "text/plain": [
       "array([[ 24.,  36.,  48.,  60.],\n",
       "       [ 88., 132., 176., 220.]])"
      ]
     },
     "execution_count": 61,
     "metadata": {},
     "output_type": "execute_result"
    }
   ],
   "source": [
    "L @ C"
   ]
  }
 ],
 "metadata": {
  "kernelspec": {
   "display_name": "Python 3 (ipykernel)",
   "language": "python",
   "name": "python3"
  },
  "language_info": {
   "codemirror_mode": {
    "name": "ipython",
    "version": 3
   },
   "file_extension": ".py",
   "mimetype": "text/x-python",
   "name": "python",
   "nbconvert_exporter": "python",
   "pygments_lexer": "ipython3",
   "version": "3.11.4"
  }
 },
 "nbformat": 4,
 "nbformat_minor": 5
}
